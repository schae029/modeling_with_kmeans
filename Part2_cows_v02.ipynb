{
 "cells": [
  {
   "cell_type": "markdown",
   "metadata": {},
   "source": [
    "# Modeling with k-means, Part 2"
   ]
  },
  {
   "cell_type": "markdown",
   "metadata": {},
   "source": [
    "Part 2 looks very much like Part 1 except for the following: (a) the Preliminary look at the data is not needed since we are still working with the downer cow dataset; (b) because in Part 2 I use only cross-validation scores for model comparison, I use all 400 records for the training set; (c) the ratio between surviving and non-surviving cows is not maintained between training and validation sets; and (d) the Addendum looks at some within-group sum of squares plots and how we can use the total within-group sum of squares to find optimal weights for our hybrid models.\n",
    "\n",
    "By not maintaining the aforementioned ratio, the setup follows what we are more likely to find in the real world.  It is very unlikely that new data will have the same ratio of surviving cows to non-survivors as what we found in our training set.  Under these new conditions, we get slightly lower cross-validation scores, on average.\n",
    "\n",
    "Overall, Part 2 has similar results to Part 1: if we use the right supervised learning model and find proper weights, we can use k-means to create a hybrid model that outperforms the individual models---in this case, all of the other models we have surveyed.\n",
    "\n",
    "\n",
    "                                        * * * * *\n",
    "                                        "
   ]
  },
  {
   "cell_type": "markdown",
   "metadata": {},
   "source": [
    "# Section 1: Get best non-k-means models"
   ]
  },
  {
   "cell_type": "markdown",
   "metadata": {},
   "source": [
    "In Part 1, the training set I worked with had 320 records.  Since in Part 2 I do not want to run the models against a test set for model comparison, we might as well use all 400 records in our training set."
   ]
  },
  {
   "cell_type": "code",
   "execution_count": null,
   "metadata": {},
   "outputs": [],
   "source": [
    "require(car)\n",
    "require(repr)\n",
    "require(ggplot2)\n",
    "require(stringr)\n",
    "require(faraway)\n",
    "require(parallel)\n",
    "require(randomForest)\n",
    "require(gbm)\n",
    "require(plyr)\n",
    "require(e1071)\n"
   ]
  },
  {
   "cell_type": "code",
   "execution_count": 2,
   "metadata": {},
   "outputs": [],
   "source": [
    "options(digits= 5, show.signif.stars= FALSE)\n"
   ]
  },
  {
   "cell_type": "markdown",
   "metadata": {},
   "source": [
    "## Basic functions"
   ]
  },
  {
   "cell_type": "code",
   "execution_count": 3,
   "metadata": {},
   "outputs": [],
   "source": [
    "# Function for computing \"proportion of deviance explained\", an \n",
    "# R-sqrd statistic for link= logit.  See p.41 of Julian Faraway's\n",
    "# \"Extending the Linear Model with R\" (2006: Chapman & Hall).  \n",
    "# This statistic is due to N. Nagelkerke (1991; see Faraway's\n",
    "# bibliography).\n",
    "\n",
    "get_RsqrdDev <- function(modl) {\n",
    "    \n",
    "    n_obs <- length(modl$fitted.values)\n",
    "    ans <- (1-exp((modl$deviance - modl$null.deviance)/n_obs))/(1-exp(-modl$null.deviance/n_obs))\n",
    "    return(round(ans, 4))\n",
    "}\n"
   ]
  },
  {
   "cell_type": "code",
   "execution_count": 4,
   "metadata": {},
   "outputs": [],
   "source": [
    "# Function to compute f-score for a 2x2 confusion matrix.\n",
    "\n",
    "get_fscore <- function(mat) {\n",
    "    \n",
    "    FN <- as.numeric(mat[2,1])\n",
    "    TP <- as.numeric(mat[2,2])\n",
    "    FP <- as.numeric(mat[1,2])\n",
    "    recall <- TP/(TP + FN)\n",
    "    precision <- TP/(TP + FP)\n",
    "    f_score <- 2* (recall*precision)/(recall + precision)\n",
    "    return(round(f_score, 4))\n",
    "}\n"
   ]
  },
  {
   "cell_type": "code",
   "execution_count": 5,
   "metadata": {},
   "outputs": [],
   "source": [
    "# Function to output a confusion matrix and the f-score \n",
    "# for that matrix (if it is 2x2).\n",
    "\n",
    "get_confusion <- function(preds, df_actual) {\n",
    "    \n",
    "    # df_actual is a one-column dataframe;\n",
    "    # preds is a named vector of predictions;\n",
    "    # preds is of type factor; it is assumed there\n",
    "    # are at least 2 factor levels\n",
    "    \n",
    "    levs <- levels(preds)\n",
    "    n_levs <- length(levs)\n",
    "    if(n_levs== 1) { levs <- c('0', '1') }\n",
    "    n_levs <- max(n_levs, 2)\n",
    "    actual <- as.vector(df_actual[, 1])\n",
    "    names(actual) <- rownames(df_actual)\n",
    "    \n",
    "    datout <- rep(0, n_levs * (n_levs + 1))\n",
    "    dim(datout) <- c(n_levs, n_levs + 1)\n",
    "    datout <- as.data.frame(datout)\n",
    "    colnames(datout) <- c(levs, \"class.error\")\n",
    "    rownames(datout) <- levs\n",
    "    \n",
    "    result <- vector(\"list\", length= 2)\n",
    "    names(result) <- c(\"matrix\",\"f_score\")\n",
    "    \n",
    "    # for each factor level, identify the rcd names\n",
    "    # which should be classed as such\n",
    "    for(rowlev in levs) {\n",
    "        actlev_names <- names(actual[actual == rowlev])\n",
    "        # columns are for the predicted values:\n",
    "        for(collev in levs) {\n",
    "            predlev_names <- names(preds[preds == collev])\n",
    "            if(length(predlev_names > 0)) {\n",
    "                datout[rowlev, collev] <- sum(predlev_names %in% actlev_names)\n",
    "            }\n",
    "        }\n",
    "        nonrow_cols <- levs[!(levs %in% rowlev)]\n",
    "        datout[rowlev, \"class.error\"] <- round(sum(as.vector(datout[rowlev, nonrow_cols]))/\n",
    "                                               sum(as.vector(datout[rowlev, levs])), 4)\n",
    "    }\n",
    "    \n",
    "    result$matrix <- datout\n",
    "    if(n_levs == 2) {\n",
    "        result[[2]] <- get_fscore(as.matrix(datout))\n",
    "    } else {\n",
    "        result$f_score <- NA\n",
    "    }\n",
    "    \n",
    "    return(result)\n",
    "}\n"
   ]
  },
  {
   "cell_type": "code",
   "execution_count": 6,
   "metadata": {},
   "outputs": [],
   "source": [
    "# Function for identifying which cluster each record\n",
    "# belongs to.\n",
    "\n",
    "getCluster <- function(x, centers) {\n",
    "    \n",
    "    # x is a row of a dataframe; its columns need\n",
    "    # to be in the same order as centers (a matrix\n",
    "    # constructed from kmeans)\n",
    "    \n",
    "    cl_dist <- apply(centers, 1, function(y) sqrt(sum((x-y)^2)))\n",
    "    return(which.min(cl_dist)[1])\n",
    "}\n"
   ]
  },
  {
   "cell_type": "code",
   "execution_count": 7,
   "metadata": {},
   "outputs": [],
   "source": [
    "# Function to generate combination of parameters for gridSearch;\n",
    "# each combination must add to a number ~1.  Returns a dataframe, \n",
    "# each row of which is a valid combination.\n",
    "\n",
    "# I re-factored this ftn using R's expand.grid ftn.  expand.grid\n",
    "# actually takes more time to run.  This is probably due to  \n",
    "# type-checking.  It appears that we also run out of memory more\n",
    "# quickly when using expand.grid.  So at the moment I am \n",
    "# reverting to the deprecated section.\n",
    "\n",
    "generate_combs <- function(arglist, tol=0.0001) {\n",
    "    # arglist is a named list; each name is a column\n",
    "    # name of the dataframe which goes to k-means\n",
    "    \n",
    "    #################################################\n",
    "    # this next section is an alternative to expand.grid\n",
    "    #################################################\n",
    "    # if(FALSE) {\n",
    "    n_args <- length(arglist)\n",
    "  \n",
    "    param_vlens <- rep(NA, n_args)\n",
    "    for(i in 1:n_args) {\n",
    "        param_vlens[i] <- length(arglist[[i]])\n",
    "    }\n",
    "    n_rows <- prod(param_vlens)\n",
    "  \n",
    "    datout <- rep(NA, n_args*n_rows)\n",
    "    dim(datout) <- c(n_rows, n_args)\n",
    "    datout <- as.data.frame(datout)\n",
    "    colnames(datout) <- names(arglist)\n",
    "  \n",
    "    cprod <- 1\n",
    "    for(j in 1:n_args) {\n",
    "        vect <- arglist[[j]]\n",
    "        val <- rep(vect, rep(cprod, length(vect)))\n",
    "        datout[, j] <- rep(val, n_rows/length(val))\n",
    "        cprod <- cprod*length(vect)\n",
    "    }\n",
    "        \n",
    "    # } ## end of 'if(FALSE)'\n",
    "    #################################################\n",
    "    \n",
    "    # datout <- expand.grid(arglist, KEEP.OUT.ATTRS= FALSE)\n",
    "    # colnames(datout) <- names(arglist)\n",
    "    \n",
    "    row_sums <- round(rowSums(datout), 4)\n",
    "    names(row_sums) <- rownames(datout)\n",
    "    tol <- tol\n",
    "    row_sums <- row_sums[which((as.numeric(row_sums) <= (1 + tol)) & (as.numeric(row_sums) >= (1 - tol)))]\n",
    "    datout <- datout[names(row_sums),]\n",
    "    return(datout)\n",
    "}\n"
   ]
  },
  {
   "cell_type": "code",
   "execution_count": 8,
   "metadata": {},
   "outputs": [],
   "source": [
    "# Function to constrain range of data between 0 and 1.\n",
    "\n",
    "range01 <- function(x) {(x - min(x))/(max(x) - min(x))}\n"
   ]
  },
  {
   "cell_type": "code",
   "execution_count": 9,
   "metadata": {},
   "outputs": [],
   "source": [
    "# Function to constrain range of data between min_x and max_x.\n",
    "# This function is used to transform validation data.\n",
    "\n",
    "range02 <- function(x, min_x, max_x) {(x - min_x)/(max_x - min_x)}\n"
   ]
  },
  {
   "cell_type": "code",
   "execution_count": 10,
   "metadata": {},
   "outputs": [],
   "source": [
    "# Function returning mapping between clusters and\n",
    "# Outcome levels.  We choose the mapping that yields\n",
    "# the best accuracy score.\n",
    "\n",
    "c1_toLevel_1 <- function(dat) {\n",
    "    \n",
    "    # Returns TRUE if cluster 1 maps to Outcome= 1 (survivors)\n",
    "    \n",
    "    # dat is a dataframe with 2 columns, c(\"Outcome\",\"cluster\");\n",
    "    # nrow(dat) = number of predictions from the model;\n",
    "    # dat$Outcome = traindat$Outcome (from the calling function)\n",
    "    \n",
    "    # We find the correct mapping between cluster number and \n",
    "    # Outcome level by computing accuracy scores for the different\n",
    "    # valid mappings.   We choose the mapping with the best\n",
    "    # accuracy score.\n",
    "    \n",
    "    tbl <- as.matrix(table(dat$Outcome, as.factor(dat$cluster)))\n",
    "    # The colnames of tbl refer to the names of the clusters.\n",
    "    \n",
    "    # With only 2 levels for Outcome, we need only 2 scores.\n",
    "    scores <- rep(NA, 2)    \n",
    "    \n",
    "    # First possibility: cluster 1 maps to non-survivors\n",
    "    tmpdat <- dat\n",
    "    tmpdat[which(tmpdat$cluster== 1),]$Outcome <- 0\n",
    "    tmpdat[which(tmpdat$cluster== 2),]$Outcome <- 1\n",
    "        \n",
    "    preds <- as.factor(tmpdat$Outcome)\n",
    "    names(preds) <- rownames(tmpdat)\n",
    "    ans <- get_confusion(preds, dat[, \"Outcome\", drop=FALSE])\n",
    "    scores[1] <- ans[[2]]\n",
    "    \n",
    "    # Alternative mapping: cluster 1 maps to survivors\n",
    "    tmpdat <- dat\n",
    "    tmpdat[which(tmpdat$cluster== 1),]$Outcome <- 1\n",
    "    tmpdat[which(tmpdat$cluster== 2),]$Outcome <- 0\n",
    "        \n",
    "    preds <- as.factor(tmpdat$Outcome)\n",
    "    names(preds) <- rownames(tmpdat)\n",
    "    ans <- get_confusion(preds, dat[, \"Outcome\", drop=FALSE])\n",
    "    scores[2] <- ans[[2]]\n",
    "    \n",
    "    return(scores[1] <= scores[2])\n",
    "}\n"
   ]
  },
  {
   "cell_type": "code",
   "execution_count": null,
   "metadata": {},
   "outputs": [],
   "source": []
  },
  {
   "cell_type": "markdown",
   "metadata": {},
   "source": [
    "## Optimization functions for random forest and gradient boosting models"
   ]
  },
  {
   "cell_type": "code",
   "execution_count": 29,
   "metadata": {},
   "outputs": [],
   "source": [
    "# Function for obtaining average of confusion matrix \n",
    "# f-score and percent correctly answered. This function\n",
    "# is called from get_cvScore and is used to find the best\n",
    "# parameters for the random forest and gradient boosting\n",
    "# models.\n",
    "\n",
    "get_Type2_rfgb <- function(traindat, testdat, classifier, ntrees,\n",
    "                            shrinkage) {\n",
    "    \n",
    "    if(classifier == 'randomforest') {\n",
    "        \n",
    "        rfmod <- randomForest(I(as.factor(Outcome)) ~ ., \n",
    "                              data= traindat, ntree= ntrees,\n",
    "                              mtry= 1, nodesize= 1)\n",
    "        \n",
    "        preds <- predict(rfmod, newdata= testdat, type=\"response\")\n",
    "        ans <- get_confusion(preds, testdat[, \"Outcome\", drop=FALSE])\n",
    "    }\n",
    "    \n",
    "    if(classifier == 'gradientboost') {\n",
    "        \n",
    "        gbmod <- suppressMessages(gbm(Outcome ~ ., data= traindat, n.trees= ntrees,\n",
    "                                      distribution= \"bernoulli\", shrinkage= shrinkage))\n",
    "        \n",
    "        preds <- suppressMessages(predict(gbmod, newdata= testdat, type=\"response\"))\n",
    "        preds_transf <- preds\n",
    "        names(preds_transf) <- rownames(testdat)\n",
    "        preds_transf[which(preds_transf >= 0.5)] <- 1\n",
    "        preds_transf[which(preds_transf < 0.5)] <- 0\n",
    "        preds_transf <- as.factor(preds_transf)\n",
    "        ans <- get_confusion(preds_transf, testdat[, \"Outcome\", drop=FALSE])\n",
    "    }\n",
    "    \n",
    "    # Type2 score is a weighted average of accuracy and\n",
    "    # the f-score.\n",
    "    mat <- as.matrix(ans[[1]])\n",
    "    percent_correct <- sum(diag(mat))/floor(sum(mat))\n",
    "    result <- round((0.4 * percent_correct + 0.6 * ans[[2]]), 4)\n",
    "    return(result)\n",
    "}\n"
   ]
  },
  {
   "cell_type": "code",
   "execution_count": 30,
   "metadata": {},
   "outputs": [],
   "source": [
    "# Function to obtain a cross-validation score, averaging the\n",
    "# Type2 scores of the folds.  Valid values for the classifier \n",
    "# argument are: 'randomforest' and 'gradientboost'.\n",
    "\n",
    "get_cvScore <- function(seed, dat, classifier, ntrees,\n",
    "                        folds= 5, shrinkage= 0.1) {\n",
    "      \n",
    "    #############################\n",
    "    # Partition the data into folds.\n",
    "        \n",
    "    # divide dat by the number of folds \n",
    "    segment_size <- round(nrow(dat)/folds)\n",
    "    diff <- nrow(dat) - folds * segment_size\n",
    "    last_seg_size <- segment_size + diff\n",
    "    segmentsv <- c(rep(segment_size, (folds - 1)), last_seg_size)\n",
    "    stopifnot(sum(segmentsv) == nrow(dat))\n",
    "        \n",
    "    # shuffle dat\n",
    "    set.seed(seed)\n",
    "    smp <- sample(rownames(dat), nrow(dat), replace= FALSE)\n",
    "    dat <- dat[smp,]\n",
    "    \n",
    "    row_list <- vector(\"list\", length=folds)\n",
    "    names(row_list) <- as.character(1:folds)\n",
    "    startpt <- 1\n",
    "    for(i in 1:folds) {\n",
    "        endpt <- startpt + segmentsv[i] - 1\n",
    "        stopifnot(endpt <= nrow(dat))\n",
    "        row_list[[i]] <- rownames(dat)[startpt:endpt]\n",
    "        startpt <- endpt + 1\n",
    "    }\n",
    "    \n",
    "    train_list <- test_list <- vector(\"list\", length= folds)\n",
    "    for(j in 1:folds) {\n",
    "        valdat <- dat[row_list[[j]],]\n",
    "        traindat <- dat[which(!(rownames(dat) %in% rownames(valdat))),]\n",
    "        stopifnot((length(rownames(traindat)) + length(rownames(valdat))) == nrow(dat))\n",
    "        test_list[[j]] <- valdat\n",
    "        train_list[[j]] <- traindat\n",
    "    }\n",
    "\n",
    "    # With only 5 folds, we need only 5 cores.\n",
    "    scores <- mcmapply(get_Type2_rfgb, train_list, test_list,\n",
    "                       MoreArgs= list(classifier= classifier, \n",
    "                                      ntrees= ntrees, shrinkage= shrinkage),\n",
    "                       SIMPLIFY=TRUE, mc.cores=5)\n",
    "    \n",
    "    # The average is of Type2 scores.\n",
    "    return(round(mean(scores), 5))\n",
    "}\n"
   ]
  },
  {
   "cell_type": "code",
   "execution_count": 31,
   "metadata": {},
   "outputs": [],
   "source": [
    "# Since the seed value is having such a big effect on the results,\n",
    "# I take the average over a number of seeds.\n",
    "\n",
    "avg_seed_scores <- function(seed_vector, traindat, classifier,\n",
    "                            n_trees, shrinkage= 0.01, folds= 5) {\n",
    "    \n",
    "    seed_len <- length(seed_vector)\n",
    "    outv <- rep(NA, seed_len)\n",
    "    for(i in 1:seed_len) {\n",
    "        seed <- seed_vector[i]\n",
    "        if(classifier== 'randomforest') {\n",
    "            outv[i] <- get_cvScore(seed, traindat, classifier, \n",
    "                                   n_trees, folds= folds)\n",
    "        }\n",
    "        if(classifier== 'gradientboost') {\n",
    "            outv[i] <- get_cvScore(seed, traindat, classifier, n_trees, \n",
    "                                   folds=folds, shrinkage=shrinkage)\n",
    "        }\n",
    "    }\n",
    "    \n",
    "    return(round(mean(outv), 5))\n",
    "}\n"
   ]
  },
  {
   "cell_type": "code",
   "execution_count": 32,
   "metadata": {},
   "outputs": [],
   "source": [
    "# This grid search takes a vector of seeds as an argument.\n",
    "# It is only for the random forest and gradient boosting \n",
    "# models.\n",
    "\n",
    "gridSearch02 <- function(seed_vector, traindat, classifier, ntree_vector, \n",
    "                         shrinkage_vector= c(0.1), folds=5) {\n",
    "    \n",
    "    tree_len <- length(ntree_vector)\n",
    "    shrink_len <- length(shrinkage_vector)\n",
    "    # We need to capture the gridSearch parameters as well as \n",
    "    # the cross-val  scores.\n",
    "    datout <- rep(NA, 2 * tree_len * shrink_len)\n",
    "    dim(datout) <- c((tree_len * shrink_len), 2)\n",
    "    datout <- as.data.frame(datout)\n",
    "    colnames(datout) <- c(\"params\", \"Type2\")\n",
    "    datout$params <- \"\"\n",
    "    \n",
    "    index <- 0\n",
    "    for(i in 1:tree_len) {\n",
    "        n_trees <- ntree_vector[i]\n",
    "        \n",
    "        if(classifier== 'gradientboost') {\n",
    "            for(j in 1:shrink_len) {\n",
    "                index <- index + 1\n",
    "                shrinkage <- shrinkage_vector[j]\n",
    "                param_string <- paste(as.character(n_trees), \n",
    "                                      as.character(shrinkage), sep= \"--\")\n",
    "                datout$params[index] <- param_string\n",
    "                datout$Type2[index] <- avg_seed_scores(seed_vector, traindat, classifier, n_trees, \n",
    "                                                        folds=folds, shrinkage=shrinkage)\n",
    "            }\n",
    "        }\n",
    "        \n",
    "        if(classifier== 'randomforest') {\n",
    "            index <- index + 1\n",
    "            datout$params[index] <- as.character(n_trees)\n",
    "            datout$Type2[index] <- avg_seed_scores(seed_vector, traindat, classifier, \n",
    "                                                    n_trees, folds= folds)\n",
    "        }\n",
    "    }\n",
    "    return(datout)\n",
    "}\n"
   ]
  },
  {
   "cell_type": "markdown",
   "metadata": {},
   "source": [
    "## Logistic regression: g03 model from Part 1, but with 400 rcds"
   ]
  },
  {
   "cell_type": "code",
   "execution_count": 11,
   "metadata": {},
   "outputs": [
    {
     "data": {
      "text/html": [
       "<style>\n",
       ".list-inline {list-style: none; margin:0; padding: 0}\n",
       ".list-inline>li {display: inline-block}\n",
       ".list-inline>li:not(:last-child)::after {content: \"\\00b7\"; padding: 0 .5ex}\n",
       "</style>\n",
       "<ol class=list-inline><li>320</li><li>4</li></ol>\n"
      ],
      "text/latex": [
       "\\begin{enumerate*}\n",
       "\\item 320\n",
       "\\item 4\n",
       "\\end{enumerate*}\n"
      ],
      "text/markdown": [
       "1. 320\n",
       "2. 4\n",
       "\n",
       "\n"
      ],
      "text/plain": [
       "[1] 320   4"
      ]
     },
     "metadata": {},
     "output_type": "display_data"
    }
   ],
   "source": [
    "traindat <- read.csv(\"/home/greg/Documents/stat/github_repos/cows/downer_train_320rcds.csv\",\n",
    "                    row.names= 1, header= TRUE)\n",
    "dim(traindat)\n"
   ]
  },
  {
   "cell_type": "code",
   "execution_count": 12,
   "metadata": {},
   "outputs": [
    {
     "data": {
      "text/html": [
       "<style>\n",
       ".list-inline {list-style: none; margin:0; padding: 0}\n",
       ".list-inline>li {display: inline-block}\n",
       ".list-inline>li:not(:last-child)::after {content: \"\\00b7\"; padding: 0 .5ex}\n",
       "</style>\n",
       "<ol class=list-inline><li>80</li><li>4</li></ol>\n"
      ],
      "text/latex": [
       "\\begin{enumerate*}\n",
       "\\item 80\n",
       "\\item 4\n",
       "\\end{enumerate*}\n"
      ],
      "text/markdown": [
       "1. 80\n",
       "2. 4\n",
       "\n",
       "\n"
      ],
      "text/plain": [
       "[1] 80  4"
      ]
     },
     "metadata": {},
     "output_type": "display_data"
    }
   ],
   "source": [
    "testdat <- read.csv(\"/home/greg/Documents/stat/github_repos/cows/downer_test_80rcds.csv\",\n",
    "                    row.names= 1, header= TRUE)\n",
    "dim(testdat)\n"
   ]
  },
  {
   "cell_type": "code",
   "execution_count": 13,
   "metadata": {},
   "outputs": [
    {
     "data": {
      "text/html": [
       "<table class=\"dataframe\">\n",
       "<caption>A data.frame: 6 × 4</caption>\n",
       "<thead>\n",
       "\t<tr><th></th><th scope=col>Outcome</th><th scope=col>AST</th><th scope=col>CK</th><th scope=col>Daysrec</th></tr>\n",
       "\t<tr><th></th><th scope=col>&lt;int&gt;</th><th scope=col>&lt;int&gt;</th><th scope=col>&lt;int&gt;</th><th scope=col>&lt;int&gt;</th></tr>\n",
       "</thead>\n",
       "<tbody>\n",
       "\t<tr><th scope=row>435</th><td>0</td><td> 460</td><td> 9890</td><td>3</td></tr>\n",
       "\t<tr><th scope=row>327</th><td>1</td><td> 420</td><td> 1237</td><td>3</td></tr>\n",
       "\t<tr><th scope=row>300</th><td>0</td><td> 193</td><td>  521</td><td>1</td></tr>\n",
       "\t<tr><th scope=row>269</th><td>0</td><td>  94</td><td> 1012</td><td>0</td></tr>\n",
       "\t<tr><th scope=row>158</th><td>0</td><td> 297</td><td>  260</td><td>7</td></tr>\n",
       "\t<tr><th scope=row>54</th><td>0</td><td>1800</td><td>20826</td><td>1</td></tr>\n",
       "</tbody>\n",
       "</table>\n"
      ],
      "text/latex": [
       "A data.frame: 6 × 4\n",
       "\\begin{tabular}{r|llll}\n",
       "  & Outcome & AST & CK & Daysrec\\\\\n",
       "  & <int> & <int> & <int> & <int>\\\\\n",
       "\\hline\n",
       "\t435 & 0 &  460 &  9890 & 3\\\\\n",
       "\t327 & 1 &  420 &  1237 & 3\\\\\n",
       "\t300 & 0 &  193 &   521 & 1\\\\\n",
       "\t269 & 0 &   94 &  1012 & 0\\\\\n",
       "\t158 & 0 &  297 &   260 & 7\\\\\n",
       "\t54 & 0 & 1800 & 20826 & 1\\\\\n",
       "\\end{tabular}\n"
      ],
      "text/markdown": [
       "\n",
       "A data.frame: 6 × 4\n",
       "\n",
       "| <!--/--> | Outcome &lt;int&gt; | AST &lt;int&gt; | CK &lt;int&gt; | Daysrec &lt;int&gt; |\n",
       "|---|---|---|---|---|\n",
       "| 435 | 0 |  460 |  9890 | 3 |\n",
       "| 327 | 1 |  420 |  1237 | 3 |\n",
       "| 300 | 0 |  193 |   521 | 1 |\n",
       "| 269 | 0 |   94 |  1012 | 0 |\n",
       "| 158 | 0 |  297 |   260 | 7 |\n",
       "| 54 | 0 | 1800 | 20826 | 1 |\n",
       "\n"
      ],
      "text/plain": [
       "    Outcome AST  CK    Daysrec\n",
       "435 0        460  9890 3      \n",
       "327 1        420  1237 3      \n",
       "300 0        193   521 1      \n",
       "269 0         94  1012 0      \n",
       "158 0        297   260 7      \n",
       "54  0       1800 20826 1      "
      ]
     },
     "metadata": {},
     "output_type": "display_data"
    }
   ],
   "source": [
    "# Combine the data.\n",
    "\n",
    "dat <- rbind(traindat, testdat)\n",
    "\n",
    "set.seed(4321)\n",
    "smp <- sample(rownames(dat), nrow(dat), replace=FALSE)\n",
    "dat <- dat[smp,]\n",
    "head(dat)\n"
   ]
  },
  {
   "cell_type": "code",
   "execution_count": 14,
   "metadata": {},
   "outputs": [],
   "source": [
    "rm(traindat, testdat)\n"
   ]
  },
  {
   "cell_type": "code",
   "execution_count": 15,
   "metadata": {},
   "outputs": [
    {
     "data": {
      "text/plain": [
       "    Outcome           AST             CK           Daysrec    \n",
       " Min.   :0.000   Min.   :  33   Min.   :   13   Min.   :0.00  \n",
       " 1st Qu.:0.000   1st Qu.: 121   1st Qu.:  558   1st Qu.:0.00  \n",
       " Median :0.000   Median : 237   Median : 1748   Median :1.00  \n",
       " Mean   :0.372   Mean   : 390   Mean   : 5330   Mean   :1.68  \n",
       " 3rd Qu.:1.000   3rd Qu.: 480   3rd Qu.: 5126   3rd Qu.:3.00  \n",
       " Max.   :1.000   Max.   :2533   Max.   :71000   Max.   :7.00  "
      ]
     },
     "metadata": {},
     "output_type": "display_data"
    }
   ],
   "source": [
    "summary(dat)\n"
   ]
  },
  {
   "cell_type": "code",
   "execution_count": 16,
   "metadata": {},
   "outputs": [
    {
     "data": {
      "text/plain": [
       "\n",
       "Call:\n",
       "glm(formula = Outcome ~ Daysrec + CK + I(log(AST)), family = binomial, \n",
       "    data = dat)\n",
       "\n",
       "Deviance Residuals: \n",
       "   Min      1Q  Median      3Q     Max  \n",
       "-1.752  -0.943  -0.186   0.943   2.160  \n",
       "\n",
       "Coefficients:\n",
       "             Estimate Std. Error z value Pr(>|z|)\n",
       "(Intercept)  2.89e+00   1.01e+00    2.85   0.0044\n",
       "Daysrec     -1.03e-01   7.19e-02   -1.44   0.1507\n",
       "CK          -3.15e-04   7.84e-05   -4.02  5.9e-05\n",
       "I(log(AST)) -4.55e-01   2.15e-01   -2.11   0.0346\n",
       "\n",
       "(Dispersion parameter for binomial family taken to be 1)\n",
       "\n",
       "    Null deviance: 528.22  on 399  degrees of freedom\n",
       "Residual deviance: 407.04  on 396  degrees of freedom\n",
       "AIC: 415\n",
       "\n",
       "Number of Fisher Scoring iterations: 7\n"
      ]
     },
     "metadata": {},
     "output_type": "display_data"
    },
    {
     "name": "stdout",
     "output_type": "stream",
     "text": [
      "[1] 0.3565\n"
     ]
    }
   ],
   "source": [
    "# This is the same model used in Part 1 but now\n",
    "# constructed from 400 records.\n",
    "\n",
    "g03 <- glm(Outcome ~ Daysrec + CK + I(log(AST)),\n",
    "           data= dat, family= binomial)\n",
    "summary(g03)\n",
    "print(get_RsqrdDev(g03))\n",
    "# [1] 0.3565\n"
   ]
  },
  {
   "cell_type": "code",
   "execution_count": 24,
   "metadata": {},
   "outputs": [
    {
     "data": {
      "text/plain": [
       "\n",
       "  0   1 \n",
       "253 147 "
      ]
     },
     "metadata": {},
     "output_type": "display_data"
    }
   ],
   "source": [
    "preds <- predict(g03, newdata= dat, type=\"response\")\n",
    "preds_transf <- preds\n",
    "preds_transf[which(preds_transf >= 0.5)] <- 1\n",
    "preds_transf[which(preds_transf < 0.5)] <- 0\n",
    "table(as.factor(preds_transf))\n"
   ]
  },
  {
   "cell_type": "code",
   "execution_count": 25,
   "metadata": {},
   "outputs": [
    {
     "name": "stdout",
     "output_type": "stream",
     "text": [
      "    0  1 class.error\n",
      "0 196 55      0.2191\n",
      "1  57 92      0.3826\n"
     ]
    },
    {
     "data": {
      "text/html": [
       "''"
      ],
      "text/latex": [
       "''"
      ],
      "text/markdown": [
       "''"
      ],
      "text/plain": [
       "[1] \"\""
      ]
     },
     "metadata": {},
     "output_type": "display_data"
    },
    {
     "name": "stdout",
     "output_type": "stream",
     "text": [
      "[1] \"f-score for model g03 (400) rcds): 0.6216\"\n"
     ]
    }
   ],
   "source": [
    "preds_transf <- as.factor(preds_transf)\n",
    "ans <- get_confusion(preds_transf, dat[, \"Outcome\", drop=FALSE])\n",
    "print(ans$matrix)\n",
    "''\n",
    "print(paste(\"f-score for model g03 (400) rcds): \", as.character(ans[[2]]), sep=\"\"))\n",
    "# 0.6216\n",
    "\n",
    "# Accuracy = 72.0%\n",
    "\n",
    "# NOTE the even split between false positives and false negatives.\n",
    "\n",
    "# Type2 score is 0.6610\n"
   ]
  },
  {
   "cell_type": "markdown",
   "metadata": {},
   "source": [
    "## Random forest classifier"
   ]
  },
  {
   "cell_type": "code",
   "execution_count": 33,
   "metadata": {},
   "outputs": [
    {
     "data": {
      "text/html": [
       "'160'"
      ],
      "text/latex": [
       "'160'"
      ],
      "text/markdown": [
       "'160'"
      ],
      "text/plain": [
       "[1] \"160\""
      ]
     },
     "metadata": {},
     "output_type": "display_data"
    },
    {
     "data": {
      "text/html": [
       "0.6204"
      ],
      "text/latex": [
       "0.6204"
      ],
      "text/markdown": [
       "0.6204"
      ],
      "text/plain": [
       "[1] 0.6204"
      ]
     },
     "metadata": {},
     "output_type": "display_data"
    }
   ],
   "source": [
    "# Run grid search to get better parameters for the \n",
    "# random forest model.  Test with 120 seeds.\n",
    "\n",
    "set.seed(7575)\n",
    "seed_smp <- sample(1:9999, 120, replace=FALSE)\n",
    "tree_vector <- c(80, 100, 120, 140, 160)\n",
    "\n",
    "ans <- gridSearch02(seed_smp, dat, 'randomforest', tree_vector) \n",
    "\n",
    "(best_params <- ans[which(ans$Type2 == max(ans$Type2)),]$params)\n",
    "# '160'\n",
    "\n",
    "(best_rf_Type2 <- round(ans[which(ans$Type2 == max(ans$Type2)),]$Type2, 4))\n",
    "# 0.6204\n"
   ]
  },
  {
   "cell_type": "code",
   "execution_count": 34,
   "metadata": {},
   "outputs": [
    {
     "data": {
      "text/html": [
       "'160'"
      ],
      "text/latex": [
       "'160'"
      ],
      "text/markdown": [
       "'160'"
      ],
      "text/plain": [
       "[1] \"160\""
      ]
     },
     "metadata": {},
     "output_type": "display_data"
    },
    {
     "data": {
      "text/html": [
       "0.6207"
      ],
      "text/latex": [
       "0.6207"
      ],
      "text/markdown": [
       "0.6207"
      ],
      "text/plain": [
       "[1] 0.6207"
      ]
     },
     "metadata": {},
     "output_type": "display_data"
    }
   ],
   "source": [
    "# Refine the search.  Test with 120 seeds.\n",
    "\n",
    "set.seed(7575)\n",
    "seed_smp <- sample(1:9999, 120, replace=FALSE)\n",
    "tree_vector <- c(160, 180, 200, 220)\n",
    "\n",
    "ans <- gridSearch02(seed_smp, dat, 'randomforest', tree_vector) \n",
    "\n",
    "(best_params <- ans[which(ans$Type2 == max(ans$Type2)),]$params)\n",
    "# '160'\n",
    "\n",
    "(best_rf_Type2 <- round(ans[which(ans$Type2 == max(ans$Type2)),]$Type2, 4))\n",
    "# 0.6207\n"
   ]
  },
  {
   "cell_type": "code",
   "execution_count": 35,
   "metadata": {},
   "outputs": [
    {
     "data": {
      "text/html": [
       "<table>\n",
       "<caption>A data.frame: 4 × 2</caption>\n",
       "<thead>\n",
       "\t<tr><th scope=col>params</th><th scope=col>Type2</th></tr>\n",
       "\t<tr><th scope=col>&lt;chr&gt;</th><th scope=col>&lt;dbl&gt;</th></tr>\n",
       "</thead>\n",
       "<tbody>\n",
       "\t<tr><td>160</td><td>0.62069</td></tr>\n",
       "\t<tr><td>180</td><td>0.61908</td></tr>\n",
       "\t<tr><td>200</td><td>0.62056</td></tr>\n",
       "\t<tr><td>220</td><td>0.62026</td></tr>\n",
       "</tbody>\n",
       "</table>\n"
      ],
      "text/latex": [
       "A data.frame: 4 × 2\n",
       "\\begin{tabular}{ll}\n",
       " params & Type2\\\\\n",
       " <chr> & <dbl>\\\\\n",
       "\\hline\n",
       "\t 160 & 0.62069\\\\\n",
       "\t 180 & 0.61908\\\\\n",
       "\t 200 & 0.62056\\\\\n",
       "\t 220 & 0.62026\\\\\n",
       "\\end{tabular}\n"
      ],
      "text/markdown": [
       "\n",
       "A data.frame: 4 × 2\n",
       "\n",
       "| params &lt;chr&gt; | Type2 &lt;dbl&gt; |\n",
       "|---|---|\n",
       "| 160 | 0.62069 |\n",
       "| 180 | 0.61908 |\n",
       "| 200 | 0.62056 |\n",
       "| 220 | 0.62026 |\n",
       "\n"
      ],
      "text/plain": [
       "  params Type2  \n",
       "1 160    0.62069\n",
       "2 180    0.61908\n",
       "3 200    0.62056\n",
       "4 220    0.62026"
      ]
     },
     "metadata": {},
     "output_type": "display_data"
    }
   ],
   "source": [
    "ans\n"
   ]
  },
  {
   "cell_type": "markdown",
   "metadata": {},
   "source": [
    "### Best random forest classifier: rfclf_best"
   ]
  },
  {
   "cell_type": "code",
   "execution_count": 14,
   "metadata": {},
   "outputs": [
    {
     "name": "stdout",
     "output_type": "stream",
     "text": [
      "\n",
      "Call:\n",
      " randomForest(formula = I(as.factor(Outcome)) ~ ., data = dat,      ntree = 160, mtry = 1, nodesize = 1) \n",
      "               Type of random forest: classification\n",
      "                     Number of trees: 160\n",
      "No. of variables tried at each split: 1\n",
      "\n",
      "        OOB estimate of  error rate: 31.5%\n",
      "Confusion matrix:\n",
      "    0  1 class.error\n",
      "0 190 61     0.24303\n",
      "1  65 84     0.43624\n"
     ]
    },
    {
     "data": {
      "text/html": [
       "''"
      ],
      "text/latex": [
       "''"
      ],
      "text/markdown": [
       "''"
      ],
      "text/plain": [
       "[1] \"\""
      ]
     },
     "metadata": {},
     "output_type": "display_data"
    },
    {
     "name": "stdout",
     "output_type": "stream",
     "text": [
      "[1] 0.5714\n"
     ]
    }
   ],
   "source": [
    "set.seed(123)\n",
    "rfclf_best <- randomForest(I(as.factor(Outcome)) ~ ., data= dat, \n",
    "                           ntree= 160, mtry= 1, nodesize= 1)\n",
    "print(rfclf_best)\n",
    "''\n",
    "print(get_fscore(as.matrix(rfclf_best$confusion)))\n",
    "# [1] 0.5714  (f-score on the training set)\n",
    "\n",
    "# Accuracy on training set is 68.50%\n",
    "\n",
    "# Type2 score on training set is 0.6168\n"
   ]
  },
  {
   "cell_type": "code",
   "execution_count": 43,
   "metadata": {},
   "outputs": [
    {
     "data": {
      "text/html": [
       "<style>\n",
       ".list-inline {list-style: none; margin:0; padding: 0}\n",
       ".list-inline>li {display: inline-block}\n",
       ".list-inline>li:not(:last-child)::after {content: \"\\00b7\"; padding: 0 .5ex}\n",
       "</style>\n",
       "<ol class=list-inline><li>'call'</li><li>'type'</li><li>'predicted'</li><li>'err.rate'</li><li>'confusion'</li><li>'votes'</li><li>'oob.times'</li><li>'classes'</li><li>'importance'</li><li>'importanceSD'</li><li>'localImportance'</li><li>'proximity'</li><li>'ntree'</li><li>'mtry'</li><li>'forest'</li><li>'y'</li><li>'test'</li><li>'inbag'</li><li>'terms'</li></ol>\n"
      ],
      "text/latex": [
       "\\begin{enumerate*}\n",
       "\\item 'call'\n",
       "\\item 'type'\n",
       "\\item 'predicted'\n",
       "\\item 'err.rate'\n",
       "\\item 'confusion'\n",
       "\\item 'votes'\n",
       "\\item 'oob.times'\n",
       "\\item 'classes'\n",
       "\\item 'importance'\n",
       "\\item 'importanceSD'\n",
       "\\item 'localImportance'\n",
       "\\item 'proximity'\n",
       "\\item 'ntree'\n",
       "\\item 'mtry'\n",
       "\\item 'forest'\n",
       "\\item 'y'\n",
       "\\item 'test'\n",
       "\\item 'inbag'\n",
       "\\item 'terms'\n",
       "\\end{enumerate*}\n"
      ],
      "text/markdown": [
       "1. 'call'\n",
       "2. 'type'\n",
       "3. 'predicted'\n",
       "4. 'err.rate'\n",
       "5. 'confusion'\n",
       "6. 'votes'\n",
       "7. 'oob.times'\n",
       "8. 'classes'\n",
       "9. 'importance'\n",
       "10. 'importanceSD'\n",
       "11. 'localImportance'\n",
       "12. 'proximity'\n",
       "13. 'ntree'\n",
       "14. 'mtry'\n",
       "15. 'forest'\n",
       "16. 'y'\n",
       "17. 'test'\n",
       "18. 'inbag'\n",
       "19. 'terms'\n",
       "\n",
       "\n"
      ],
      "text/plain": [
       " [1] \"call\"            \"type\"            \"predicted\"       \"err.rate\"       \n",
       " [5] \"confusion\"       \"votes\"           \"oob.times\"       \"classes\"        \n",
       " [9] \"importance\"      \"importanceSD\"    \"localImportance\" \"proximity\"      \n",
       "[13] \"ntree\"           \"mtry\"            \"forest\"          \"y\"              \n",
       "[17] \"test\"            \"inbag\"           \"terms\"          "
      ]
     },
     "metadata": {},
     "output_type": "display_data"
    }
   ],
   "source": [
    "names(rfclf_best)\n"
   ]
  },
  {
   "cell_type": "code",
   "execution_count": 46,
   "metadata": {},
   "outputs": [
    {
     "data": {
      "text/html": [
       "0.315"
      ],
      "text/latex": [
       "0.315"
      ],
      "text/markdown": [
       "0.315"
      ],
      "text/plain": [
       "[1] 0.315"
      ]
     },
     "metadata": {},
     "output_type": "display_data"
    }
   ],
   "source": [
    "median(rfclf_best$err.rate[,1])\n"
   ]
  },
  {
   "cell_type": "code",
   "execution_count": 47,
   "metadata": {},
   "outputs": [
    {
     "data": {
      "text/html": [
       "<table>\n",
       "<caption>A matrix: 2 × 3 of type dbl</caption>\n",
       "<thead>\n",
       "\t<tr><th></th><th scope=col>0</th><th scope=col>1</th><th scope=col>class.error</th></tr>\n",
       "</thead>\n",
       "<tbody>\n",
       "\t<tr><th scope=row>0</th><td>190</td><td>61</td><td>0.24303</td></tr>\n",
       "\t<tr><th scope=row>1</th><td> 65</td><td>84</td><td>0.43624</td></tr>\n",
       "</tbody>\n",
       "</table>\n"
      ],
      "text/latex": [
       "A matrix: 2 × 3 of type dbl\n",
       "\\begin{tabular}{r|lll}\n",
       "  & 0 & 1 & class.error\\\\\n",
       "\\hline\n",
       "\t0 & 190 & 61 & 0.24303\\\\\n",
       "\t1 &  65 & 84 & 0.43624\\\\\n",
       "\\end{tabular}\n"
      ],
      "text/markdown": [
       "\n",
       "A matrix: 2 × 3 of type dbl\n",
       "\n",
       "| <!--/--> | 0 | 1 | class.error |\n",
       "|---|---|---|---|\n",
       "| 0 | 190 | 61 | 0.24303 |\n",
       "| 1 |  65 | 84 | 0.43624 |\n",
       "\n"
      ],
      "text/plain": [
       "  0   1  class.error\n",
       "0 190 61 0.24303    \n",
       "1  65 84 0.43624    "
      ]
     },
     "metadata": {},
     "output_type": "display_data"
    }
   ],
   "source": [
    "rfclf_best$confusion\n"
   ]
  },
  {
   "cell_type": "markdown",
   "metadata": {},
   "source": [
    "## Gradient boosting classifier"
   ]
  },
  {
   "cell_type": "code",
   "execution_count": 38,
   "metadata": {},
   "outputs": [
    {
     "data": {
      "text/plain": [
       "Time difference of 2.8 mins"
      ]
     },
     "metadata": {},
     "output_type": "display_data"
    },
    {
     "data": {
      "text/html": [
       "'100--0.03'"
      ],
      "text/latex": [
       "'100--0.03'"
      ],
      "text/markdown": [
       "'100--0.03'"
      ],
      "text/plain": [
       "[1] \"100--0.03\""
      ]
     },
     "metadata": {},
     "output_type": "display_data"
    },
    {
     "data": {
      "text/html": [
       "0.64955"
      ],
      "text/latex": [
       "0.64955"
      ],
      "text/markdown": [
       "0.64955"
      ],
      "text/plain": [
       "[1] 0.64955"
      ]
     },
     "metadata": {},
     "output_type": "display_data"
    }
   ],
   "source": [
    "# Run grid search to get better parameters for the \n",
    "# gradient boosting model.  This test is with 200 seeds.\n",
    "\n",
    "set.seed(7575)\n",
    "seed_smp <- sample(1:9999, 200, replace=FALSE)\n",
    "tree_vector <- c(100, 120, 140, 160, 180)\n",
    "shrinkage_vector <- c(0.01, 0.02, 0.03, 0.04, 0.05) \n",
    "\n",
    "start <- Sys.time()\n",
    "ans <- gridSearch02(seed_smp, dat, 'gradientboost', ntree_vector=tree_vector, \n",
    "                    shrinkage_vector=shrinkage_vector, folds=5) \n",
    "stop <- Sys.time()\n",
    "round(stop - start, 2)\n",
    "# Time difference of 2.8 mins\n",
    "\n",
    "(best_params <- ans[which(ans$Type2 == max(ans$Type2, na.rm=TRUE)),]$params)\n",
    "# '100--0.03'\n",
    "\n",
    "(best_gb_Type2 <- ans[which(ans$Type2 == max(ans$Type2, na.rm=TRUE)),]$Type2)\n",
    "# 0.64955\n"
   ]
  },
  {
   "cell_type": "code",
   "execution_count": 39,
   "metadata": {},
   "outputs": [
    {
     "data": {
      "text/plain": [
       "Time difference of 1.53 mins"
      ]
     },
     "metadata": {},
     "output_type": "display_data"
    },
    {
     "data": {
      "text/html": [
       "'100--0.03'"
      ],
      "text/latex": [
       "'100--0.03'"
      ],
      "text/markdown": [
       "'100--0.03'"
      ],
      "text/plain": [
       "[1] \"100--0.03\""
      ]
     },
     "metadata": {},
     "output_type": "display_data"
    },
    {
     "data": {
      "text/html": [
       "0.64978"
      ],
      "text/latex": [
       "0.64978"
      ],
      "text/markdown": [
       "0.64978"
      ],
      "text/plain": [
       "[1] 0.64978"
      ]
     },
     "metadata": {},
     "output_type": "display_data"
    }
   ],
   "source": [
    "# Refine the search.\n",
    "\n",
    "set.seed(7575)\n",
    "seed_smp <- sample(1:9999, 200, replace=FALSE)\n",
    "tree_vector <- c(60, 80, 100)\n",
    "shrinkage_vector <- c(0.01, 0.02, 0.03, 0.04, 0.05) \n",
    "\n",
    "start <- Sys.time()\n",
    "ans <- gridSearch02(seed_smp, dat, 'gradientboost', ntree_vector=tree_vector, \n",
    "                    shrinkage_vector=shrinkage_vector, folds=5) \n",
    "stop <- Sys.time()\n",
    "round(stop - start, 2)\n",
    "# Time difference of 2.8 mins\n",
    "\n",
    "(best_params <- ans[which(ans$Type2 == max(ans$Type2, na.rm=TRUE)),]$params)\n",
    "# '100--0.03'\n",
    "\n",
    "(best_gb_Type2 <- ans[which(ans$Type2 == max(ans$Type2, na.rm=TRUE)),]$Type2)\n",
    "# 0.64978\n"
   ]
  },
  {
   "cell_type": "code",
   "execution_count": 15,
   "metadata": {},
   "outputs": [
    {
     "data": {
      "text/html": [
       "<table>\n",
       "<caption>A data.frame: 3 × 2</caption>\n",
       "<thead>\n",
       "\t<tr><th></th><th scope=col>var</th><th scope=col>rel.inf</th></tr>\n",
       "\t<tr><th></th><th scope=col>&lt;chr&gt;</th><th scope=col>&lt;dbl&gt;</th></tr>\n",
       "</thead>\n",
       "<tbody>\n",
       "\t<tr><th scope=row>CK</th><td>CK     </td><td>60.0922</td></tr>\n",
       "\t<tr><th scope=row>AST</th><td>AST    </td><td>37.3025</td></tr>\n",
       "\t<tr><th scope=row>Daysrec</th><td>Daysrec</td><td> 2.6053</td></tr>\n",
       "</tbody>\n",
       "</table>\n"
      ],
      "text/latex": [
       "A data.frame: 3 × 2\n",
       "\\begin{tabular}{r|ll}\n",
       "  & var & rel.inf\\\\\n",
       "  & <chr> & <dbl>\\\\\n",
       "\\hline\n",
       "\tCK & CK      & 60.0922\\\\\n",
       "\tAST & AST     & 37.3025\\\\\n",
       "\tDaysrec & Daysrec &  2.6053\\\\\n",
       "\\end{tabular}\n"
      ],
      "text/markdown": [
       "\n",
       "A data.frame: 3 × 2\n",
       "\n",
       "| <!--/--> | var &lt;chr&gt; | rel.inf &lt;dbl&gt; |\n",
       "|---|---|---|\n",
       "| CK | CK      | 60.0922 |\n",
       "| AST | AST     | 37.3025 |\n",
       "| Daysrec | Daysrec |  2.6053 |\n",
       "\n"
      ],
      "text/plain": [
       "        var     rel.inf\n",
       "CK      CK      60.0922\n",
       "AST     AST     37.3025\n",
       "Daysrec Daysrec  2.6053"
      ]
     },
     "metadata": {},
     "output_type": "display_data"
    },
    {
     "data": {
      "image/png": "[encoded data removed]",
      "text/plain": [
       "plot without title"
      ]
     },
     "metadata": {
      "image/png": {
       "height": 240,
       "width": 360
      }
     },
     "output_type": "display_data"
    }
   ],
   "source": [
    "options(repr.plot.width= 6, repr.plot.height= 4)\n",
    "\n",
    "set.seed(123)\n",
    "gbclf_best <- gbm(Outcome ~ ., data= dat, n.trees= 100,\n",
    "                  distribution= \"bernoulli\", shrinkage= 0.03)\n",
    "summary(gbclf_best)\n"
   ]
  },
  {
   "cell_type": "code",
   "execution_count": 41,
   "metadata": {},
   "outputs": [
    {
     "name": "stdout",
     "output_type": "stream",
     "text": [
      "    0  1 class.error\n",
      "0 205 46      0.1833\n",
      "1  57 92      0.3826\n"
     ]
    },
    {
     "data": {
      "text/html": [
       "''"
      ],
      "text/latex": [
       "''"
      ],
      "text/markdown": [
       "''"
      ],
      "text/plain": [
       "[1] \"\""
      ]
     },
     "metadata": {},
     "output_type": "display_data"
    },
    {
     "name": "stdout",
     "output_type": "stream",
     "text": [
      "[1] \"f-score for gbclf_best (400) rcds): 0.6411\"\n"
     ]
    }
   ],
   "source": [
    "preds <- suppressMessages(predict(gbclf_best, newdata= dat, type=\"response\"))\n",
    "preds_transf <- preds\n",
    "names(preds_transf) <- rownames(dat)\n",
    "preds_transf[which(preds_transf >= 0.5)] <- 1\n",
    "preds_transf[which(preds_transf < 0.5)] <- 0\n",
    "preds_transf <- as.factor(preds_transf)\n",
    "ans <- get_confusion(preds_transf, dat[, \"Outcome\", drop=FALSE])\n",
    "print(ans$matrix)\n",
    "''\n",
    "print(paste(\"f-score for gbclf_best (400) rcds): \", as.character(ans[[2]]), sep=\"\"))\n",
    "# f-score on training set: 0.6411\n",
    "\n",
    "# Accuracy on training set is 0.7425\n",
    "\n",
    "# Type2 score on training set is 0.6817\n"
   ]
  },
  {
   "cell_type": "markdown",
   "metadata": {},
   "source": [
    "## More stable training set scores for rfclf_best and gbclf_best"
   ]
  },
  {
   "cell_type": "markdown",
   "metadata": {},
   "source": [
    "In order to get a better sense of how the random forest and gradient boosting models perform on the training set, we need to average the scores for these models over many different seeds."
   ]
  },
  {
   "cell_type": "code",
   "execution_count": 49,
   "metadata": {},
   "outputs": [
    {
     "data": {
      "image/png": "[encoded data removed]",
      "text/plain": [
       "Plot with title “Distribution of f-scores for rfclf_best (400 rcds)”"
      ]
     },
     "metadata": {
      "image/png": {
       "height": 360,
       "width": 600
      }
     },
     "output_type": "display_data"
    }
   ],
   "source": [
    "# Get more stable scores for the best random forest model.\n",
    "\n",
    "set.seed(1433)\n",
    "seed_smp <- sample(1:9999, 500, replace=FALSE)\n",
    "\n",
    "datout <- rep(NA, 6 * length(seed_smp))\n",
    "dim(datout) <- c(length(seed_smp), 6)\n",
    "datout <- as.data.frame(datout)\n",
    "colnames(datout) <- c(\"seed\",\"fscore\",\"Acc\",\"Type2\", \"FN\",\"FP\")\n",
    "datout$seed <- seed_smp\n",
    "\n",
    "for(i in 1:length(seed_smp)) {\n",
    "    \n",
    "    set.seed(seed_smp[i])\n",
    "    rfmod <- randomForest(I(as.factor(Outcome)) ~ ., \n",
    "                              data= dat, ntree=160,\n",
    "                              mtry= 1, nodesize= 1)\n",
    "        \n",
    "    mat <- rfmod$confusion\n",
    "    datout[i, c(\"Acc\")] <- acc <- round(1-median(rfmod$err.rate[,1]), 4)\n",
    "    datout[i, c(\"fscore\")] <- fscore <- round(get_fscore(mat), 4)\n",
    "    datout[i, c(\"Type2\")] <- round(0.4*acc + 0.6*fscore, 4)\n",
    "    datout[i, c(\"FN\")] <- as.numeric(mat[2,1])\n",
    "    datout[i, c(\"FP\")] <- as.numeric(mat[1,2])\n",
    "}\n",
    "\n",
    "options(repr.plot.width= 10, repr.plot.height= 6)\n",
    "hist(datout$fscore, breaks=12, xlab=\"f-score\",\n",
    "     main=\"Distribution of f-scores for rfclf_best (400 rcds)\")\n"
   ]
  },
  {
   "cell_type": "code",
   "execution_count": 51,
   "metadata": {},
   "outputs": [
    {
     "data": {
      "text/html": [
       "<style>\n",
       ".list-inline {list-style: none; margin:0; padding: 0}\n",
       ".list-inline>li {display: inline-block}\n",
       ".list-inline>li:not(:last-child)::after {content: \"\\00b7\"; padding: 0 .5ex}\n",
       "</style>\n",
       "<ol class=list-inline><li>0.5782</li><li>0.6898</li><li>65.69</li><li>55.82</li></ol>\n"
      ],
      "text/latex": [
       "\\begin{enumerate*}\n",
       "\\item 0.5782\n",
       "\\item 0.6898\n",
       "\\item 65.69\n",
       "\\item 55.82\n",
       "\\end{enumerate*}\n"
      ],
      "text/markdown": [
       "1. 0.5782\n",
       "2. 0.6898\n",
       "3. 65.69\n",
       "4. 55.82\n",
       "\n",
       "\n"
      ],
      "text/plain": [
       "[1]  0.5782  0.6898 65.6900 55.8200"
      ]
     },
     "metadata": {},
     "output_type": "display_data"
    }
   ],
   "source": [
    "# Get summaries for rfclf_best.\n",
    "\n",
    "fn_avg <- mean(datout$FN)\n",
    "fp_avg <- mean(datout$FP)\n",
    "\n",
    "c(round(mean(datout$fscore), 4), round(mean(datout$Acc), 4),\n",
    "  round(fn_avg, 2), round(fp_avg, 2))\n",
    "# f-score:   0.5782   \n",
    "# accuracy:  0.6898   \n",
    "# false negatives: 65.69   \n",
    "# false positives: 55.82\n"
   ]
  },
  {
   "cell_type": "code",
   "execution_count": 52,
   "metadata": {},
   "outputs": [
    {
     "data": {
      "image/png": "[encoded data removed]",
      "text/plain": [
       "Plot with title “Distribution of accuracy scores for rfclf_best (400 rcds)”"
      ]
     },
     "metadata": {
      "image/png": {
       "height": 360,
       "width": 600
      }
     },
     "output_type": "display_data"
    }
   ],
   "source": [
    "options(repr.plot.width= 10, repr.plot.height= 6)\n",
    "hist(datout$Acc, breaks=8, xlab=\"accuracy\",\n",
    "     main=\"Distribution of accuracy scores for rfclf_best (400 rcds)\")\n"
   ]
  },
  {
   "cell_type": "code",
   "execution_count": 53,
   "metadata": {},
   "outputs": [
    {
     "data": {
      "image/png": "[encoded data removed]",
      "text/plain": [
       "Plot with title “Distribution of Type2 scores for rfclf_best (400 rcds)”"
      ]
     },
     "metadata": {
      "image/png": {
       "height": 360,
       "width": 600
      }
     },
     "output_type": "display_data"
    }
   ],
   "source": [
    "options(repr.plot.width= 10, repr.plot.height= 6)\n",
    "hist(datout$Type2, breaks=10, xlab=\"Type2 score\",\n",
    "     main=\"Distribution of Type2 scores for rfclf_best (400 rcds)\")\n",
    "# average Type2 score is 0.6228\n"
   ]
  },
  {
   "cell_type": "code",
   "execution_count": 13,
   "metadata": {},
   "outputs": [
    {
     "data": {
      "image/png": "[encoded data removed]",
      "text/plain": [
       "Plot with title “Distribution of f-scores for gbclf_best (400 rcds)”"
      ]
     },
     "metadata": {
      "image/png": {
       "height": 360,
       "width": 600
      }
     },
     "output_type": "display_data"
    }
   ],
   "source": [
    "# Get more stable scores for the best gradient \n",
    "# boosting model.\n",
    "\n",
    "set.seed(1433)\n",
    "seed_smp <- sample(1:9999, 500, replace=FALSE)\n",
    "\n",
    "datout <- rep(NA, 5 * length(seed_smp))\n",
    "dim(datout) <- c(length(seed_smp), 5)\n",
    "datout <- as.data.frame(datout)\n",
    "colnames(datout) <- c(\"seed\", \"fscore\",\"Acc\",\"FN\",\"FP\")\n",
    "datout$seed <- seed_smp\n",
    "\n",
    "for(i in 1:length(seed_smp)) {\n",
    "    \n",
    "    set.seed(seed_smp[i])\n",
    "    gbmod <- gbm(Outcome ~ ., data= dat, n.trees= 100,\n",
    "                  distribution= \"bernoulli\", shrinkage= 0.03)\n",
    "        \n",
    "    preds <- suppressMessages(predict(gbmod, newdata= dat, type=\"response\"))\n",
    "    preds_transf <- preds\n",
    "    names(preds_transf) <- rownames(dat)\n",
    "    preds_transf[which(preds_transf >= 0.5)] <- 1\n",
    "    preds_transf[which(preds_transf < 0.5)] <- 0\n",
    "    preds_transf <- as.factor(preds_transf)\n",
    "    ans <- get_confusion(preds_transf, dat[, \"Outcome\", drop=FALSE])\n",
    "    \n",
    "    mat <- as.matrix(ans[[1]])\n",
    "    percent_correct <- sum(diag(mat))/floor(sum(mat))\n",
    "    datout[i, c(\"Acc\")] <- round(percent_correct, 4)\n",
    "    datout[i, c(\"fscore\")] <- round(ans[[2]], 4)\n",
    "    datout[i, c(\"FN\")] <- as.numeric(mat[2,1])\n",
    "    datout[i, c(\"FP\")] <- as.numeric(mat[1,2])\n",
    "}\n",
    "\n",
    "options(repr.plot.width= 10, repr.plot.height= 6)\n",
    "hist(datout$fscore, breaks=12, xlab=\"f-score\",\n",
    "     main=\"Distribution of f-scores for gbclf_best (400 rcds)\")\n"
   ]
  },
  {
   "cell_type": "code",
   "execution_count": 57,
   "metadata": {},
   "outputs": [
    {
     "data": {
      "text/html": [
       "<style>\n",
       ".list-inline {list-style: none; margin:0; padding: 0}\n",
       ".list-inline>li {display: inline-block}\n",
       ".list-inline>li:not(:last-child)::after {content: \"\\00b7\"; padding: 0 .5ex}\n",
       "</style>\n",
       "<ol class=list-inline><li>0.6329</li><li>0.7338</li><li>57.23</li><li>49.24</li></ol>\n"
      ],
      "text/latex": [
       "\\begin{enumerate*}\n",
       "\\item 0.6329\n",
       "\\item 0.7338\n",
       "\\item 57.23\n",
       "\\item 49.24\n",
       "\\end{enumerate*}\n"
      ],
      "text/markdown": [
       "1. 0.6329\n",
       "2. 0.7338\n",
       "3. 57.23\n",
       "4. 49.24\n",
       "\n",
       "\n"
      ],
      "text/plain": [
       "[1]  0.6329  0.7338 57.2300 49.2400"
      ]
     },
     "metadata": {},
     "output_type": "display_data"
    }
   ],
   "source": [
    "# Get summaries for gbclf_best.\n",
    "\n",
    "fn_avg <- mean(datout$FN)\n",
    "fp_avg <- mean(datout$FP)\n",
    "\n",
    "c(round(mean(datout$fscore), 4), round(mean(datout$Acc), 4),\n",
    "  round(fn_avg, 2), round(fp_avg, 2))\n",
    "# f-score:   0.6329   \n",
    "# accuracy:  0.7338   \n",
    "# false negatives: 57.23   \n",
    "# false positives: 49.24\n",
    "\n",
    "# Average Type2 score is 0.6733.\n"
   ]
  },
  {
   "cell_type": "code",
   "execution_count": 14,
   "metadata": {},
   "outputs": [
    {
     "data": {
      "image/png": "[encoded data removed]",
      "text/plain": [
       "Plot with title “Distribution of accuracy scores for gbclf_best (400 rcds)”"
      ]
     },
     "metadata": {
      "image/png": {
       "height": 360,
       "width": 600
      }
     },
     "output_type": "display_data"
    }
   ],
   "source": [
    "options(repr.plot.width= 10, repr.plot.height= 6)\n",
    "hist(datout$Acc, breaks=10, xlab=\"accuracy\",\n",
    "     main=\"Distribution of accuracy scores for gbclf_best (400 rcds)\")\n"
   ]
  },
  {
   "cell_type": "markdown",
   "metadata": {},
   "source": [
    "## Get comparative cross-val score for rfclf_best"
   ]
  },
  {
   "cell_type": "markdown",
   "metadata": {},
   "source": [
    "For model performance comparisons, we want cross-val scores for each of our models over many folds."
   ]
  },
  {
   "cell_type": "code",
   "execution_count": 41,
   "metadata": {},
   "outputs": [],
   "source": [
    "# This function is called from get_cvScore_rfBest.  It\n",
    "# returns a Type2 score on validation data, the score \n",
    "# averaged over the number of seeds in seedv02.  In the \n",
    "# measurement I take below, seedv02 has 500 seeds.\n",
    "\n",
    "get_Type2_rfBest <- function(traindat, valdat, seedv02) {\n",
    "    \n",
    "    seedv02_len <- length(seedv02)\n",
    "    outv <- rep(NA, seedv02_len)\n",
    "    for(i in 1:seedv02_len) {\n",
    "        \n",
    "        set.seed(seedv02[i])\n",
    "        # This is our current best rf model.\n",
    "        rfmod <- randomForest(I(as.factor(Outcome)) ~ ., \n",
    "                              data= traindat, ntree=160,\n",
    "                              mtry= 1, nodesize= 1)\n",
    "        \n",
    "        preds <- predict(rfmod, newdata= valdat, type=\"response\")\n",
    "        ans <- get_confusion(preds, valdat[, \"Outcome\", drop=FALSE])\n",
    "        mat <- as.matrix(ans[[1]])\n",
    "        acc <- sum(diag(mat))/floor(sum(mat))\n",
    "        outv[i] <- round((0.4 * acc + 0.6 * ans[[2]]), 4)\n",
    "    }\n",
    "    return(mean(outv))\n",
    "}\n"
   ]
  },
  {
   "cell_type": "code",
   "execution_count": 44,
   "metadata": {},
   "outputs": [],
   "source": [
    "# Function to obtain a cross-validation Type2 score, averaging\n",
    "# the scores of the folds.  This function is called from\n",
    "# compute_cvScore_rf.\n",
    "\n",
    "get_cvScore_rfBest <- function(seed, dat, seedv02, folds= 5) {\n",
    "    \n",
    "    # divide dat by the number of folds \n",
    "    segment_size <- round(nrow(dat)/folds)\n",
    "    diff <- nrow(dat) - folds * segment_size\n",
    "    last_seg_size <- segment_size + diff\n",
    "    segmentsv <- c(rep(segment_size, (folds - 1)), last_seg_size)\n",
    "    stopifnot(sum(segmentsv) == nrow(dat))\n",
    "    \n",
    "    # shuffle dat\n",
    "    set.seed(seed)\n",
    "    smp <- sample(rownames(dat), nrow(dat), replace= FALSE)\n",
    "    dat <- dat[smp,]\n",
    "    \n",
    "    # split the data into the folds\n",
    "    row_list <- vector(\"list\", length= folds)\n",
    "    names(row_list) <- as.character(1:folds)\n",
    "    startpt <- 1\n",
    "    for(i in 1:folds) {\n",
    "        endpt <- startpt + segmentsv[i] - 1\n",
    "        stopifnot(endpt <= dim(dat)[1])\n",
    "        row_list[[i]] <- rownames(dat)[startpt:endpt]\n",
    "        startpt <- endpt + 1\n",
    "    }\n",
    "    \n",
    "    train_list <- test_list <- vector(\"list\", length= folds)\n",
    "    for(j in 1:folds) {\n",
    "        testdat <- dat[row_list[[j]],]\n",
    "        traindat <- dat[which(!(rownames(dat) %in% rownames(testdat))),]\n",
    "        stopifnot((length(rownames(traindat)) + length(rownames(testdat))) == dim(dat)[1])\n",
    "        test_list[[j]] <- testdat\n",
    "        train_list[[j]] <- traindat\n",
    "    }\n",
    "\n",
    "    scores <- mcmapply(get_Type2_rfBest, train_list, test_list,\n",
    "                       MoreArgs=list(seedv02=seedv02),\n",
    "                       SIMPLIFY= TRUE, mc.cores=5)\n",
    "    \n",
    "    # The following mean is over 5 measurements (one for each\n",
    "    # of the folds), but each of these measurements is an\n",
    "    # average over 500 seeds.\n",
    "    return(round(mean(scores), 5))\n",
    "}\n"
   ]
  },
  {
   "cell_type": "code",
   "execution_count": 36,
   "metadata": {},
   "outputs": [],
   "source": [
    "# Function to get a cross-val Type2 score over many \n",
    "# folds for the best random forest model.\n",
    "\n",
    "compute_cvScore_rf <- function(seedv, dat, seedv02) {\n",
    "    \n",
    "    seedv_len <- length(seedv)\n",
    "    result <- rep(NA, length=seedv_len)\n",
    "    names(result) <- as.character(seedv)\n",
    "    \n",
    "    for(i in 1:seedv_len) {\n",
    "        cur.seed <- seedv[i]\n",
    "        # For each seed in seedv, compute a cross-val\n",
    "        # accuracy score.\n",
    "        result[i] <- get_cvScore_rfBest(cur.seed, dat, seedv02)\n",
    "    }\n",
    "    ans <- round(mean(result), 4)\n",
    "    return(ans)\n",
    "}\n"
   ]
  },
  {
   "cell_type": "code",
   "execution_count": 46,
   "metadata": {},
   "outputs": [
    {
     "data": {
      "text/html": [
       "'Start time: 2021-05-24 09:21:57'"
      ],
      "text/latex": [
       "'Start time: 2021-05-24 09:21:57'"
      ],
      "text/markdown": [
       "'Start time: 2021-05-24 09:21:57'"
      ],
      "text/plain": [
       "[1] \"Start time: 2021-05-24 09:21:57\""
      ]
     },
     "metadata": {},
     "output_type": "display_data"
    },
    {
     "data": {
      "text/plain": [
       "Time difference of 12.77 mins"
      ]
     },
     "metadata": {},
     "output_type": "display_data"
    },
    {
     "data": {
      "text/html": [
       "'Cross-val Type2 score for rfclf_best: 0.6201'"
      ],
      "text/latex": [
       "'Cross-val Type2 score for rfclf\\_best: 0.6201'"
      ],
      "text/markdown": [
       "'Cross-val Type2 score for rfclf_best: 0.6201'"
      ],
      "text/plain": [
       "[1] \"Cross-val Type2 score for rfclf_best: 0.6201\""
      ]
     },
     "metadata": {},
     "output_type": "display_data"
    }
   ],
   "source": [
    "# Use 500 seeds for seedv02 and 60 seeds for seedv.  \n",
    "# This means that our score is over 300 folds, where\n",
    "# the measurement on each fold is taken over 500 \n",
    "# seeds. \n",
    "\n",
    "set.seed(1931)\n",
    "seedv02 <- sample(1:9999, 500, replace=FALSE)\n",
    "seedv <- sample(1:9999, 60, replace=FALSE)\n",
    "\n",
    "start <- Sys.time()\n",
    "paste(\"Start time: \", start, sep=\"\")\n",
    "ans <- compute_cvScore_rf(seedv, dat, seedv02)\n",
    "stop <- Sys.time()\n",
    "round(stop - start, 2)\n",
    "# Time difference of 12.77 mins\n",
    "\n",
    "paste0(\"Cross-val Type2 score for rfclf_best: \", as.character(ans))\n",
    "# 'Cross-val Type2 score for rfclf_best: 0.6201'\n"
   ]
  },
  {
   "cell_type": "markdown",
   "metadata": {},
   "source": [
    "## Get comparative cross-val score for gbclf_best"
   ]
  },
  {
   "cell_type": "code",
   "execution_count": 58,
   "metadata": {},
   "outputs": [],
   "source": [
    "# This function is called from get_cvScore_gbBest. \n",
    "\n",
    "get_Type2_gbBest <- function(traindat, valdat, seedv02) {\n",
    "    \n",
    "    seedv02_len <- length(seedv02)\n",
    "    outv <- rep(NA, seedv02_len)\n",
    "    for(i in 1:seedv02_len) {\n",
    "        \n",
    "        set.seed(seedv02[i])\n",
    "        # This is our current best gradient boosting model.\n",
    "        gbmod <- gbm(Outcome ~ ., data= traindat, n.trees= 100,\n",
    "                  distribution= \"bernoulli\", shrinkage= 0.03)\n",
    "        \n",
    "        preds <- suppressMessages(predict(gbmod, newdata= valdat, type=\"response\"))\n",
    "        names(preds) <- rownames(valdat)\n",
    "        preds[which(preds >= 0.5)] <- 1\n",
    "        preds[which(preds < 0.5)] <- 0\n",
    "        preds <- as.factor(preds)\n",
    "        ans <- get_confusion(preds, valdat[, \"Outcome\", drop=FALSE])\n",
    "        \n",
    "        mat <- as.matrix(ans[[1]])\n",
    "        acc <- sum(diag(mat))/floor(sum(mat))\n",
    "        outv[i] <- round((0.4 * acc + 0.6 * ans[[2]]), 4)\n",
    "    }\n",
    "    return(mean(outv))\n",
    "}\n"
   ]
  },
  {
   "cell_type": "code",
   "execution_count": 59,
   "metadata": {},
   "outputs": [],
   "source": [
    "# Function to obtain a cross-validation Type2 score for our\n",
    "# current best gradient boosting model, averaging the\n",
    "# scores of the folds.  This function is called from\n",
    "# compute_cvScore_gb.\n",
    "\n",
    "get_cvScore_gbBest <- function(seed, dat, seedv02, folds= 5) {\n",
    "    \n",
    "    # divide dat by the number of folds \n",
    "    segment_size <- round(nrow(dat)/folds)\n",
    "    diff <- nrow(dat) - folds * segment_size\n",
    "    last_seg_size <- segment_size + diff\n",
    "    segmentsv <- c(rep(segment_size, (folds - 1)), last_seg_size)\n",
    "    stopifnot(sum(segmentsv) == nrow(dat))\n",
    "    \n",
    "    # shuffle dat\n",
    "    set.seed(seed)\n",
    "    smp <- sample(rownames(dat), nrow(dat), replace= FALSE)\n",
    "    dat <- dat[smp,]\n",
    "    \n",
    "    # split the data into the folds\n",
    "    row_list <- vector(\"list\", length= folds)\n",
    "    names(row_list) <- as.character(1:folds)\n",
    "    startpt <- 1\n",
    "    for(i in 1:folds) {\n",
    "        endpt <- startpt + segmentsv[i] - 1\n",
    "        stopifnot(endpt <= dim(dat)[1])\n",
    "        row_list[[i]] <- rownames(dat)[startpt:endpt]\n",
    "        startpt <- endpt + 1\n",
    "    }\n",
    "    \n",
    "    train_list <- test_list <- vector(\"list\", length= folds)\n",
    "    for(j in 1:folds) {\n",
    "        testdat <- dat[row_list[[j]],]\n",
    "        traindat <- dat[which(!(rownames(dat) %in% rownames(testdat))),]\n",
    "        stopifnot((length(rownames(traindat)) + length(rownames(testdat))) == dim(dat)[1])\n",
    "        test_list[[j]] <- testdat\n",
    "        train_list[[j]] <- traindat\n",
    "    }\n",
    "\n",
    "    scores <- mcmapply(get_Type2_gbBest, train_list, test_list,\n",
    "                       MoreArgs=list(seedv02=seedv02),\n",
    "                       SIMPLIFY= TRUE, mc.cores=5)\n",
    "    \n",
    "    # The following mean is over 5 measurements (one for each\n",
    "    # of the folds), but each of these measurements is an\n",
    "    # average over 500 seeds.\n",
    "    return(round(mean(scores), 5))\n",
    "}\n"
   ]
  },
  {
   "cell_type": "code",
   "execution_count": 49,
   "metadata": {},
   "outputs": [],
   "source": [
    "# Function to get a cross-val Type2 score over many \n",
    "# folds for the best gradient boosting model.\n",
    "\n",
    "compute_cvScore_gb <- function(seedv, dat, seedv02) {\n",
    "    \n",
    "    seedv_len <- length(seedv)\n",
    "    result <- rep(NA, length=seedv_len)\n",
    "    names(result) <- as.character(seedv)\n",
    "    \n",
    "    for(i in 1:seedv_len) {\n",
    "        cur.seed <- seedv[i]\n",
    "        # For each seed in seedv, compute a cross-val\n",
    "        # accuracy score.\n",
    "        result[i] <- get_cvScore_gbBest(cur.seed, dat, seedv02)\n",
    "    }\n",
    "    ans <- round(mean(result), 4)\n",
    "    return(ans)\n",
    "}\n"
   ]
  },
  {
   "cell_type": "code",
   "execution_count": 61,
   "metadata": {},
   "outputs": [
    {
     "data": {
      "text/html": [
       "'Start time: 2021-05-24 09:51:18'"
      ],
      "text/latex": [
       "'Start time: 2021-05-24 09:51:18'"
      ],
      "text/markdown": [
       "'Start time: 2021-05-24 09:51:18'"
      ],
      "text/plain": [
       "[1] \"Start time: 2021-05-24 09:51:18\""
      ]
     },
     "metadata": {},
     "output_type": "display_data"
    },
    {
     "data": {
      "text/plain": [
       "Time difference of 3.82 mins"
      ]
     },
     "metadata": {},
     "output_type": "display_data"
    },
    {
     "data": {
      "text/html": [
       "'Cross-val Type2 score for gbclf_best: 0.6488'"
      ],
      "text/latex": [
       "'Cross-val Type2 score for gbclf\\_best: 0.6488'"
      ],
      "text/markdown": [
       "'Cross-val Type2 score for gbclf_best: 0.6488'"
      ],
      "text/plain": [
       "[1] \"Cross-val Type2 score for gbclf_best: 0.6488\""
      ]
     },
     "metadata": {},
     "output_type": "display_data"
    }
   ],
   "source": [
    "# Use 500 seeds for seedv02 and 60 seeds for seedv.  \n",
    "# This means that our score is over 300 folds, where\n",
    "# the measurement on each fold is taken over 500 \n",
    "# seeds. \n",
    "\n",
    "set.seed(1931)\n",
    "seedv02 <- sample(1:9999, 500, replace=FALSE)\n",
    "seedv <- sample(1:9999, 60, replace=FALSE)\n",
    "\n",
    "start <- Sys.time()\n",
    "paste(\"Start time: \", start, sep=\"\")\n",
    "ans <- compute_cvScore_gb(seedv, dat, seedv02)\n",
    "stop <- Sys.time()\n",
    "round(stop - start, 2)\n",
    "# Time difference of 3.82 mins\n",
    "\n",
    "paste0(\"Cross-val Type2 score for gbclf_best: \", as.character(ans))\n",
    "# 'Cross-val Type2 score for gbclf_best: 0.6488'\n"
   ]
  },
  {
   "cell_type": "code",
   "execution_count": null,
   "metadata": {},
   "outputs": [],
   "source": [
    "### COMMENT:\n",
    "\n",
    "# The average cross-val Type2 score for gbclf_best is almost\n",
    "# 3 percentage points greater than the same score for rfclf_best.\n"
   ]
  },
  {
   "cell_type": "markdown",
   "metadata": {},
   "source": [
    "## SVM classifier"
   ]
  },
  {
   "cell_type": "code",
   "execution_count": 62,
   "metadata": {},
   "outputs": [],
   "source": [
    "# For SVM modeling, we need to scale the data.\n",
    "\n",
    "# NOTE: we get a better svm model if we do not apply\n",
    "# any prior transformations to the variables (such as\n",
    "# taking the log or sqrt).\n",
    "\n",
    "svmtrain <- dat[, c(\"Outcome\",\"AST\",\"CK\",\"Daysrec\"), drop=FALSE]\n",
    "\n",
    "svm_scaled <- scale(svmtrain[, -1])\n",
    "svm_centers <- attr(svm_scaled, \"scaled:center\")\n",
    "svm_scales <- attr(svm_scaled, \"scaled:scale\")\n",
    "svm_scaled <- as.data.frame(cbind(svmtrain$Outcome, svm_scaled),\n",
    "                            row.names=rownames(svmtrain))\n",
    "colnames(svm_scaled) <- colnames(svmtrain)\n"
   ]
  },
  {
   "cell_type": "code",
   "execution_count": 61,
   "metadata": {},
   "outputs": [
    {
     "data": {
      "text/plain": [
       "    \n",
       "pred   0   1\n",
       "   0 188  53\n",
       "   1  63  96"
      ]
     },
     "metadata": {},
     "output_type": "display_data"
    },
    {
     "data": {
      "text/html": [
       "0.6234"
      ],
      "text/latex": [
       "0.6234"
      ],
      "text/markdown": [
       "0.6234"
      ],
      "text/plain": [
       "[1] 0.6234"
      ]
     },
     "metadata": {},
     "output_type": "display_data"
    }
   ],
   "source": [
    "# I am interested in using the radial basis function \n",
    "# as the kernel.\n",
    "\n",
    "svm01 <- svm(I(as.factor(Outcome)) ~ ., data=svm_scaled, kernel=\"radial\",\n",
    "             gamma= 0.01, cost= 40, scale=FALSE)\n",
    "\n",
    "pred <- fitted(svm01)\n",
    "(ans <- table(pred, as.factor(svm_scaled$Outcome)))\n",
    "get_fscore(as.matrix(ans))\n"
   ]
  },
  {
   "cell_type": "code",
   "execution_count": null,
   "metadata": {},
   "outputs": [],
   "source": [
    "#&* Bookmark"
   ]
  },
  {
   "cell_type": "code",
   "execution_count": 16,
   "metadata": {},
   "outputs": [],
   "source": [
    "# Function to compute a Type2 score for an svm cv-fold.\n",
    "\n",
    "get_Type2_svm <- function(traindat, valdat, gamma, cost) {\n",
    "    \n",
    "    # traindat and valdat need to be scaled\n",
    "    train_scaled <- scale(traindat[, -1])\n",
    "    train_centers <- attr(train_scaled, \"scaled:center\")\n",
    "    train_scales <- attr(train_scaled, \"scaled:scale\")\n",
    "    train_scaled <- as.data.frame(cbind(traindat$Outcome, train_scaled),\n",
    "                                  row.names=rownames(traindat))\n",
    "    colnames(train_scaled) <- colnames(traindat)\n",
    "    \n",
    "    svmmod <- svm(I(as.factor(Outcome)) ~ ., data= train_scaled, gamma=gamma,\n",
    "                    cost=cost, scale=FALSE, kernel=\"radial\")\n",
    "    \n",
    "    # Scale valdat.\n",
    "    test_scaled <- scale(valdat[, -1], center=train_centers,\n",
    "                         scale=train_scales)\n",
    "    test_scaled <- as.data.frame(cbind(valdat$Outcome,test_scaled), \n",
    "                                 row.names=rownames(valdat))\n",
    "    colnames(test_scaled) <- colnames(valdat)\n",
    "    \n",
    "    preds <- predict(svmmod, newdata= test_scaled)\n",
    "    ans <- table(preds, as.factor(valdat$Outcome))\n",
    "\n",
    "    mat <- as.matrix(ans)\n",
    "    percent_correct <- sum(diag(mat))/floor(sum(mat))\n",
    "    result <- round((0.4 * percent_correct + 0.6 * get_fscore(mat)), 4)\n",
    "    return(result)\n",
    "}\n"
   ]
  },
  {
   "cell_type": "code",
   "execution_count": 17,
   "metadata": {},
   "outputs": [],
   "source": [
    "# This grid search searches for the best parameters for svm\n",
    "# modeling of the data. \n",
    "\n",
    "gridSearch_svm <- function(seedv, dat, gammav, costv, folds=5) {\n",
    "    \n",
    "    gamma_len <- length(gammav)\n",
    "    cost_len <- length(costv)\n",
    "    # We need to capture the gridSearch parameters as well as \n",
    "    # the cross-val  scores.\n",
    "    datout <- rep(NA, 2 * gamma_len * cost_len)\n",
    "    dim(datout) <- c((gamma_len * cost_len), 2)\n",
    "    datout <- as.data.frame(datout)\n",
    "    colnames(datout) <- c(\"params\", \"Type2\")\n",
    "    datout$params <- \"\"\n",
    "    \n",
    "    # Divide dat by the number of folds to get a\n",
    "    # size for each fold.\n",
    "    segment_size <- round(nrow(dat)/folds)\n",
    "    diff <- nrow(dat) - folds * segment_size\n",
    "    last_seg_size <- segment_size + diff\n",
    "    segmentsv <- c(rep(segment_size, (folds - 1)), last_seg_size)\n",
    "    stopifnot(sum(segmentsv) == nrow(dat))\n",
    "    \n",
    "    index <- 0\n",
    "    for(i in 1:gamma_len) {\n",
    "        gamma <- gammav[i]\n",
    "        for(j in 1:cost_len) {\n",
    "            index <- index + 1\n",
    "            cost <- costv[j]\n",
    "            param_string <- paste(as.character(gamma), \n",
    "                                  as.character(cost), sep= \"--\")\n",
    "            datout$params[index] <- param_string\n",
    "            \n",
    "            # Each set of parameters gets tested over many folds.\n",
    "            # The different folds are created using different seeds.\n",
    "    \n",
    "            # Create a vector to store the Type2 score for each seed.\n",
    "            seedv_len <- length(seedv)\n",
    "            seed_scores <- rep(NA, seedv_len)\n",
    "    \n",
    "            for(h in 1:seedv_len) {\n",
    "                # shuffle dat\n",
    "                cur_seed <- seedv[h]\n",
    "                set.seed(cur_seed)\n",
    "                smp <- sample(rownames(dat), nrow(dat), replace= FALSE)\n",
    "                dat <- dat[smp,]\n",
    "    \n",
    "                # Each element of row_list will be the rows we pick\n",
    "                # out for one of the folds.  E.g., the first element\n",
    "                # of row_list will contain the rows we want for the\n",
    "                # first fold, the second element of row_list will\n",
    "                # contain the rows we want for the second fold, and\n",
    "                # so forth.\n",
    "                row_list <- vector(\"list\", length=folds)\n",
    "                names(row_list) <- as.character(1:folds)\n",
    "                startpt <- 1\n",
    "                for(k in 1:folds) {\n",
    "                    endpt <- startpt + segmentsv[k] - 1\n",
    "                    stopifnot(endpt <= nrow(dat))\n",
    "                    row_list[[k]] <- rownames(dat)[startpt:endpt]\n",
    "                    startpt <- endpt + 1\n",
    "                }\n",
    "                \n",
    "                train_list <- test_list <- vector(\"list\", length= folds)\n",
    "                for(k in 1:folds) {\n",
    "                    testdat <- dat[row_list[[k]],]\n",
    "                    traindat <- dat[which(!(rownames(dat) %in% rownames(testdat))),]\n",
    "                    stopifnot((length(rownames(traindat)) + length(rownames(testdat))) == nrow(dat))\n",
    "                    test_list[[k]] <- testdat\n",
    "                    train_list[[k]] <- traindat\n",
    "                }\n",
    "                \n",
    "                # When there are only 5 folds, only 5 cores get used.\n",
    "                scores <- mcmapply(get_Type2_svm, train_list, test_list,\n",
    "                                   MoreArgs= list(gamma=gamma, cost=cost),\n",
    "                                   SIMPLIFY= TRUE, mc.cores=5)\n",
    "                # For the current seed, store the average of the Type2\n",
    "                # scores, the average taken over the folds.\n",
    "                seed_scores[h] <- round(mean(scores), 5)\n",
    "        \n",
    "            } ## end of for-loop, index h\n",
    "            \n",
    "            # Here I am taking an average of average scores.  This\n",
    "            # could be improved by simply taking a single average.\n",
    "            datout$Type2[index] <- round(mean(seed_scores), 5)\n",
    "            \n",
    "        } ## end of for-loop, index j\n",
    "    } ## end of for-loop, index i\n",
    "    \n",
    "    return(datout)\n",
    "}\n"
   ]
  },
  {
   "cell_type": "code",
   "execution_count": null,
   "metadata": {},
   "outputs": [],
   "source": [
    "# Run grid search to get better parameters for the \n",
    "# svm classifier.\n",
    "\n",
    "set.seed(7543)\n",
    "seed_vector <- sample(1:9999, 200, replace=FALSE)\n",
    "\n",
    "gamma_v <- seq(0.1, 0.3, by=0.05)\n",
    "cost_v <- seq(100, 500, by=100)\n",
    "\n",
    "start <- Sys.time()\n",
    "paste(\"Start time: \", start, sep=\"\")\n",
    "ans <- gridSearch_svm(seed_vector, dat, gamma_v, cost_v)\n",
    "stop <- Sys.time()\n",
    "round(stop - start, 2)\n",
    "# Time difference of 2.69 mins\n",
    "\n",
    "(best_params <- ans[which(ans$Type2 == max(ans$Type2)),]$params)\n",
    "# '0.1--100'\n",
    "\n",
    "(best_Type2 <- ans[which(ans$Type2 == max(ans$Type2)),]$Type2)\n",
    "# 0.6376\n"
   ]
  },
  {
   "cell_type": "code",
   "execution_count": 19,
   "metadata": {},
   "outputs": [
    {
     "data": {
      "text/html": [
       "'Start time: 2021-04-13 14:34:38'"
      ],
      "text/latex": [
       "'Start time: 2021-04-13 14:34:38'"
      ],
      "text/markdown": [
       "'Start time: 2021-04-13 14:34:38'"
      ],
      "text/plain": [
       "[1] \"Start time: 2021-04-13 14:34:38\""
      ]
     },
     "metadata": {},
     "output_type": "display_data"
    },
    {
     "data": {
      "text/plain": [
       "Time difference of 5.63 mins"
      ]
     },
     "metadata": {},
     "output_type": "display_data"
    },
    {
     "data": {
      "text/html": [
       "'0.01--20'"
      ],
      "text/latex": [
       "'0.01--20'"
      ],
      "text/markdown": [
       "'0.01--20'"
      ],
      "text/plain": [
       "[1] \"0.01--20\""
      ]
     },
     "metadata": {},
     "output_type": "display_data"
    },
    {
     "data": {
      "text/html": [
       "0.6579"
      ],
      "text/latex": [
       "0.6579"
      ],
      "text/markdown": [
       "0.6579"
      ],
      "text/plain": [
       "[1] 0.6579"
      ]
     },
     "metadata": {},
     "output_type": "display_data"
    }
   ],
   "source": [
    "# Refine the grid search.\n",
    "\n",
    "set.seed(7543)\n",
    "seed_vector <- sample(1:9999, 200, replace=FALSE)\n",
    "\n",
    "gamma_v <- seq(0.01, 0.1, by=0.01)\n",
    "cost_v <- seq(20, 100, by=20)\n",
    "\n",
    "start <- Sys.time()\n",
    "paste(\"Start time: \", start, sep=\"\")\n",
    "ans <- gridSearch_svm(seed_vector, dat, gamma_v, cost_v)\n",
    "stop <- Sys.time()\n",
    "round(stop - start, 2)\n",
    "# Time difference of 5.29 mins\n",
    "\n",
    "(best_params <- ans[which(ans$Type2 == max(ans$Type2)),]$params)\n",
    "# '0.01--20'\n",
    "\n",
    "(best_Type2 <- ans[which(ans$Type2 == max(ans$Type2)),]$Type2)\n",
    "# 0.6579\n"
   ]
  },
  {
   "cell_type": "code",
   "execution_count": 20,
   "metadata": {},
   "outputs": [
    {
     "data": {
      "text/html": [
       "'Start time: 2021-04-13 14:42:06'"
      ],
      "text/latex": [
       "'Start time: 2021-04-13 14:42:06'"
      ],
      "text/markdown": [
       "'Start time: 2021-04-13 14:42:06'"
      ],
      "text/plain": [
       "[1] \"Start time: 2021-04-13 14:42:06\""
      ]
     },
     "metadata": {},
     "output_type": "display_data"
    },
    {
     "data": {
      "text/plain": [
       "Time difference of 2.26 mins"
      ]
     },
     "metadata": {},
     "output_type": "display_data"
    },
    {
     "data": {
      "text/html": [],
      "text/latex": [],
      "text/markdown": [],
      "text/plain": [
       "character(0)"
      ]
     },
     "metadata": {},
     "output_type": "display_data"
    },
    {
     "data": {
      "text/html": [],
      "text/latex": [],
      "text/markdown": [],
      "text/plain": [
       "numeric(0)"
      ]
     },
     "metadata": {},
     "output_type": "display_data"
    }
   ],
   "source": [
    "# Again, refine the search.\n",
    "\n",
    "set.seed(7543)\n",
    "seed_vector <- sample(1:9999, 200, replace=FALSE)\n",
    "\n",
    "gamma_v <- seq(0.002, 0.01, by=0.002)\n",
    "cost_v <- seq(5, 20, by=5)\n",
    "\n",
    "start <- Sys.time()\n",
    "paste(\"Start time: \", start, sep=\"\")\n",
    "ans <- gridSearch_svm(seed_vector, dat, gamma_v, cost_v)\n",
    "stop <- Sys.time()\n",
    "round(stop - start, 2)\n",
    "# Time difference of 2.11 mins\n",
    "\n",
    "(best_params <- ans[which(ans$Type2 == max(ans$Type2)),]$params)\n",
    "# '0.01--20'\n",
    "\n",
    "(best_Type2 <- ans[which(ans$Type2 == max(ans$Type2)),]$Type2)\n",
    "# 0.6579\n"
   ]
  },
  {
   "cell_type": "code",
   "execution_count": 21,
   "metadata": {},
   "outputs": [
    {
     "data": {
      "text/html": [
       "'0.008--20'"
      ],
      "text/latex": [
       "'0.008--20'"
      ],
      "text/markdown": [
       "'0.008--20'"
      ],
      "text/plain": [
       "[1] \"0.008--20\""
      ]
     },
     "metadata": {},
     "output_type": "display_data"
    },
    {
     "data": {
      "text/html": [
       "0.65927"
      ],
      "text/latex": [
       "0.65927"
      ],
      "text/markdown": [
       "0.65927"
      ],
      "text/plain": [
       "[1] 0.65927"
      ]
     },
     "metadata": {},
     "output_type": "display_data"
    }
   ],
   "source": [
    "(best_params <- ans[which(ans$Type2 == max(ans$Type2, na.rm=TRUE)),]$params)\n",
    "# '0.008--20'\n",
    "\n",
    "(best_Type2 <- ans[which(ans$Type2 == max(ans$Type2, na.rm=TRUE)),]$Type2)\n",
    "# 0.6593\n"
   ]
  },
  {
   "cell_type": "markdown",
   "metadata": {},
   "source": [
    "### Get training set scores for best svm (svm02)"
   ]
  },
  {
   "cell_type": "code",
   "execution_count": 28,
   "metadata": {},
   "outputs": [
    {
     "data": {
      "text/plain": [
       "    \n",
       "pred   0   1\n",
       "   0 182  44\n",
       "   1  69 105"
      ]
     },
     "metadata": {},
     "output_type": "display_data"
    },
    {
     "name": "stdout",
     "output_type": "stream",
     "text": [
      "[1] \"f-score for 'best' svm classifier (400 rcds): 0.6502\"\n"
     ]
    }
   ],
   "source": [
    "# Construct an svm with the identified parameters.\n",
    "\n",
    "# We need to get probability estimates from the output.\n",
    "# So we set probability=TRUE.\n",
    "svm02 <- svm(I(as.factor(Outcome)) ~ ., data=svm_scaled, kernel=\"radial\",\n",
    "             gamma= 0.008, cost= 20, scale=FALSE, probability=TRUE)\n",
    "\n",
    "pred <- fitted(svm02)\n",
    "(ans <- table(pred, as.factor(svm_scaled$Outcome)))\n",
    "print(paste(\"f-score for 'best' svm classifier (400 rcds): \", \n",
    "            as.character(get_fscore(as.matrix(ans))), sep=\"\"))\n",
    "# f-score for the training set: 0.6502\n",
    "\n",
    "# Accuracy for the training set is 0.7175\n",
    "\n",
    "# Type2 score for the training set is 0.6771\n"
   ]
  },
  {
   "cell_type": "markdown",
   "metadata": {},
   "source": [
    "## Get comparative cross-val score for svm02"
   ]
  },
  {
   "cell_type": "code",
   "execution_count": 66,
   "metadata": {},
   "outputs": [],
   "source": [
    "# This function is called from get_cvScore_svm02. \n",
    "\n",
    "get_Type2_svm02 <- function(traindat, valdat) {\n",
    "    \n",
    "    # traindat and valdat need to be scaled\n",
    "    train_scaled <- scale(traindat[, -1])\n",
    "    train_centers <- attr(train_scaled, \"scaled:center\")\n",
    "    train_scales <- attr(train_scaled, \"scaled:scale\")\n",
    "    train_scaled <- as.data.frame(cbind(traindat$Outcome, train_scaled),\n",
    "                                  row.names=rownames(traindat))\n",
    "    colnames(train_scaled) <- colnames(traindat)\n",
    "    \n",
    "    # Scale valdat.\n",
    "    test_scaled <- scale(valdat[, -1], center=train_centers, scale=train_scales)\n",
    "    test_scaled <- as.data.frame(test_scaled, row.names=rownames(valdat))\n",
    "    \n",
    "        \n",
    "    # This is our current best svm model.\n",
    "    svm_mod <- svm(I(as.factor(Outcome)) ~ ., data=train_scaled, kernel=\"radial\",\n",
    "                   gamma= 0.008, cost= 20, scale=FALSE, probability=TRUE)\n",
    "    \n",
    "    preds <- predict(svm_mod, newdata= test_scaled)\n",
    "    names(preds) <- rownames(valdat)\n",
    "    ans <- get_confusion(as.factor(preds), valdat[, \"Outcome\", drop=FALSE])\n",
    "        \n",
    "    mat <- as.matrix(ans[[1]])\n",
    "    acc <- sum(diag(mat))/floor(sum(mat))\n",
    "    result <- round((0.4 * acc + 0.6 * ans[[2]]), 4)\n",
    "\n",
    "    return(result)\n",
    "}\n"
   ]
  },
  {
   "cell_type": "code",
   "execution_count": 69,
   "metadata": {},
   "outputs": [],
   "source": [
    "# Function to obtain a cross-validation Type2 score for our\n",
    "# current best svm model, averaging the scores of the folds.  \n",
    "# This function is called from compute_cvScore_svm02.\n",
    "\n",
    "get_cvScore_svm02 <- function(seed, dat, folds= 5) {\n",
    "    \n",
    "    # divide dat by the number of folds \n",
    "    segment_size <- round(nrow(dat)/folds)\n",
    "    diff <- nrow(dat) - folds * segment_size\n",
    "    last_seg_size <- segment_size + diff\n",
    "    segmentsv <- c(rep(segment_size, (folds - 1)), last_seg_size)\n",
    "    stopifnot(sum(segmentsv) == nrow(dat))\n",
    "    \n",
    "    # shuffle dat\n",
    "    set.seed(seed)\n",
    "    smp <- sample(rownames(dat), nrow(dat), replace= FALSE)\n",
    "    dat <- dat[smp,]\n",
    "    \n",
    "    # split the data into the folds\n",
    "    row_list <- vector(\"list\", length= folds)\n",
    "    names(row_list) <- as.character(1:folds)\n",
    "    startpt <- 1\n",
    "    for(i in 1:folds) {\n",
    "        endpt <- startpt + segmentsv[i] - 1\n",
    "        stopifnot(endpt <= dim(dat)[1])\n",
    "        row_list[[i]] <- rownames(dat)[startpt:endpt]\n",
    "        startpt <- endpt + 1\n",
    "    }\n",
    "    \n",
    "    train_list <- test_list <- vector(\"list\", length= folds)\n",
    "    for(j in 1:folds) {\n",
    "        testdat <- dat[row_list[[j]],]\n",
    "        traindat <- dat[which(!(rownames(dat) %in% rownames(testdat))),]\n",
    "        stopifnot((length(rownames(traindat)) + length(rownames(testdat))) == dim(dat)[1])\n",
    "        test_list[[j]] <- testdat\n",
    "        train_list[[j]] <- traindat\n",
    "    }\n",
    "\n",
    "    scores <- mcmapply(get_Type2_svm02, train_list, test_list,\n",
    "                       SIMPLIFY= TRUE, mc.cores=5)\n",
    "    return(round(mean(scores), 5))\n",
    "}\n"
   ]
  },
  {
   "cell_type": "code",
   "execution_count": 72,
   "metadata": {},
   "outputs": [],
   "source": [
    "# Function to get a cross-val Type2 score over many \n",
    "# folds for the best svm model.\n",
    "\n",
    "compute_cvScore_svm02 <- function(seedv, dat) {\n",
    "    \n",
    "    seedv_len <- length(seedv)\n",
    "    result <- rep(NA, length=seedv_len)\n",
    "    names(result) <- as.character(seedv)\n",
    "    \n",
    "    for(i in 1:seedv_len) {\n",
    "        cur.seed <- seedv[i]\n",
    "        # For each seed in seedv, compute a cross-val\n",
    "        # Type2 score.\n",
    "        result[i] <- get_cvScore_svm02(cur.seed, dat)\n",
    "    }\n",
    "    ans <- round(mean(result, na.rm=TRUE), 4)\n",
    "    return(ans)\n",
    "}\n"
   ]
  },
  {
   "cell_type": "code",
   "execution_count": 73,
   "metadata": {},
   "outputs": [
    {
     "data": {
      "text/html": [
       "'Start time: 2021-05-24 11:16:55'"
      ],
      "text/latex": [
       "'Start time: 2021-05-24 11:16:55'"
      ],
      "text/markdown": [
       "'Start time: 2021-05-24 11:16:55'"
      ],
      "text/plain": [
       "[1] \"Start time: 2021-05-24 11:16:55\""
      ]
     },
     "metadata": {},
     "output_type": "display_data"
    },
    {
     "data": {
      "text/plain": [
       "Time difference of 37.71 secs"
      ]
     },
     "metadata": {},
     "output_type": "display_data"
    },
    {
     "data": {
      "text/html": [
       "'Cross-val Type2 score for svm02: 0.6602'"
      ],
      "text/latex": [
       "'Cross-val Type2 score for svm02: 0.6602'"
      ],
      "text/markdown": [
       "'Cross-val Type2 score for svm02: 0.6602'"
      ],
      "text/plain": [
       "[1] \"Cross-val Type2 score for svm02: 0.6602\""
      ]
     },
     "metadata": {},
     "output_type": "display_data"
    }
   ],
   "source": [
    "# Compute a cross-val Type2 score over 5000 folds.\n",
    "\n",
    "set.seed(1931)\n",
    "seedv <- sample(1:9999, 1000, replace=FALSE)\n",
    "\n",
    "start <- Sys.time()\n",
    "paste(\"Start time: \", start, sep=\"\")\n",
    "ans <- compute_cvScore_svm02(seedv, dat)\n",
    "stop <- Sys.time()\n",
    "round(stop - start, 2)\n",
    "# Time difference of 38 secs\n",
    "\n",
    "paste0(\"Cross-val Type2 score for svm02: \", as.character(ans))\n",
    "# 'Cross-val Type2 score for svm02: 0.6602'\n"
   ]
  },
  {
   "cell_type": "markdown",
   "metadata": {},
   "source": [
    "## Final Comments for Section 1"
   ]
  },
  {
   "cell_type": "markdown",
   "metadata": {},
   "source": [
    "svm02 has the best Type2 cross-val score.  It is one percentage point higher than that for gbclf_best.  svm02's Type2 cross-val score is four percentage points higher than that for rfclf_best.  The same score is computed for g03 below; our best logistic regression classifier has a Type2 cross-val score of 0.657.\n",
    "\n",
    "\n",
    "                                        * * * * *\n"
   ]
  },
  {
   "cell_type": "markdown",
   "metadata": {},
   "source": [
    "# Section 2: Construct a k-means base model"
   ]
  },
  {
   "cell_type": "markdown",
   "metadata": {},
   "source": [
    "## Get training set scores for base k-means model"
   ]
  },
  {
   "cell_type": "code",
   "execution_count": 17,
   "metadata": {},
   "outputs": [
    {
     "data": {
      "text/plain": [
       "    Outcome           AST                CK             Daysrec       \n",
       " Min.   :0.000   Min.   :-2.1314   Min.   :-3.0256   Min.   :-1.2537  \n",
       " 1st Qu.:0.000   1st Qu.:-0.7577   1st Qu.:-0.6954   1st Qu.:-1.2537  \n",
       " Median :0.000   Median :-0.0436   Median : 0.0123   Median :-0.0179  \n",
       " Mean   :0.372   Mean   : 0.0000   Mean   : 0.0000   Mean   : 0.0000  \n",
       " 3rd Qu.:1.000   3rd Qu.: 0.7037   3rd Qu.: 0.6789   3rd Qu.: 0.8867  \n",
       " Max.   :1.000   Max.   : 2.4651   Max.   : 2.3078   Max.   : 2.0157  "
      ]
     },
     "metadata": {},
     "output_type": "display_data"
    }
   ],
   "source": [
    "# Scale the data first.\n",
    "\n",
    "df <- dat[, c(\"Outcome\",\"AST\",\"CK\",\"Daysrec\"), drop=FALSE]\n",
    "df$AST <- log(df$AST)\n",
    "df$CK <- log(df$CK)\n",
    "df$Daysrec <- sqrt(df$Daysrec)\n",
    "\n",
    "df_scaled <- scale(df[, -1])\n",
    "centers <- attr(df_scaled, \"scaled:center\")\n",
    "scales <- attr(df_scaled, \"scaled:scale\")\n",
    "\n",
    "df_scaled <- as.data.frame(cbind(dat$Outcome, df_scaled),\n",
    "                           row.names=rownames(dat))\n",
    "colnames(df_scaled) <- colnames(df)\n",
    "summary(df_scaled)\n"
   ]
  },
  {
   "cell_type": "code",
   "execution_count": 18,
   "metadata": {},
   "outputs": [
    {
     "name": "stdout",
     "output_type": "stream",
     "text": [
      "[1] 184 216\n"
     ]
    }
   ],
   "source": [
    "# Run k-means algorithm with number of clusters set to 2.\n",
    "\n",
    "set.seed(1233)\n",
    "fit_km <- kmeans(df_scaled, 2, iter.max = 50, nstart = 30)\n",
    "print(fit_km$size)\n",
    "# [1] 175   145\n"
   ]
  },
  {
   "cell_type": "code",
   "execution_count": 19,
   "metadata": {},
   "outputs": [
    {
     "data": {
      "text/html": [
       "<table class=\"dataframe\">\n",
       "<caption>A data.frame: 6 × 2</caption>\n",
       "<thead>\n",
       "\t<tr><th></th><th scope=col>Outcome</th><th scope=col>cluster</th></tr>\n",
       "\t<tr><th></th><th scope=col>&lt;dbl&gt;</th><th scope=col>&lt;dbl&gt;</th></tr>\n",
       "</thead>\n",
       "<tbody>\n",
       "\t<tr><th scope=row>435</th><td>0</td><td>2</td></tr>\n",
       "\t<tr><th scope=row>327</th><td>1</td><td>2</td></tr>\n",
       "\t<tr><th scope=row>300</th><td>0</td><td>1</td></tr>\n",
       "\t<tr><th scope=row>269</th><td>0</td><td>1</td></tr>\n",
       "\t<tr><th scope=row>158</th><td>0</td><td>2</td></tr>\n",
       "\t<tr><th scope=row>54</th><td>0</td><td>2</td></tr>\n",
       "</tbody>\n",
       "</table>\n"
      ],
      "text/latex": [
       "A data.frame: 6 × 2\n",
       "\\begin{tabular}{r|ll}\n",
       "  & Outcome & cluster\\\\\n",
       "  & <dbl> & <dbl>\\\\\n",
       "\\hline\n",
       "\t435 & 0 & 2\\\\\n",
       "\t327 & 1 & 2\\\\\n",
       "\t300 & 0 & 1\\\\\n",
       "\t269 & 0 & 1\\\\\n",
       "\t158 & 0 & 2\\\\\n",
       "\t54 & 0 & 2\\\\\n",
       "\\end{tabular}\n"
      ],
      "text/markdown": [
       "\n",
       "A data.frame: 6 × 2\n",
       "\n",
       "| <!--/--> | Outcome &lt;dbl&gt; | cluster &lt;dbl&gt; |\n",
       "|---|---|---|\n",
       "| 435 | 0 | 2 |\n",
       "| 327 | 1 | 2 |\n",
       "| 300 | 0 | 1 |\n",
       "| 269 | 0 | 1 |\n",
       "| 158 | 0 | 2 |\n",
       "| 54 | 0 | 2 |\n",
       "\n"
      ],
      "text/plain": [
       "    Outcome cluster\n",
       "435 0       2      \n",
       "327 1       2      \n",
       "300 0       1      \n",
       "269 0       1      \n",
       "158 0       2      \n",
       "54  0       2      "
      ]
     },
     "metadata": {},
     "output_type": "display_data"
    }
   ],
   "source": [
    "datout <- as.data.frame(cbind(df_scaled$Outcome, fit_km$cluster))\n",
    "colnames(datout) <- c(\"Outcome\", \"cluster\")\n",
    "rownames(datout) <- rownames(df_scaled)\n",
    "head(datout)\n"
   ]
  },
  {
   "cell_type": "code",
   "execution_count": 20,
   "metadata": {},
   "outputs": [
    {
     "data": {
      "text/plain": [
       "   \n",
       "      1   2\n",
       "  0  75 176\n",
       "  1 109  40"
      ]
     },
     "metadata": {},
     "output_type": "display_data"
    },
    {
     "name": "stdout",
     "output_type": "stream",
     "text": [
      "1 2 \n",
      "2 1 \n"
     ]
    }
   ],
   "source": [
    "# max_vals identifies the Outcome level we would expect \n",
    "# each cluster to map to.\n",
    "\n",
    "(mat <- as.matrix(table(datout$Outcome, as.factor(datout$cluster))))\n",
    "max_vals <- apply(mat, MARGIN=2, which.max); print(max_vals)\n"
   ]
  },
  {
   "cell_type": "code",
   "execution_count": 21,
   "metadata": {},
   "outputs": [
    {
     "data": {
      "text/html": [
       "<span style=white-space:pre-wrap>'Map cluster 1 to Outcome level 1? :  TRUE'</span>"
      ],
      "text/latex": [
       "'Map cluster 1 to Outcome level 1? :  TRUE'"
      ],
      "text/markdown": [
       "<span style=white-space:pre-wrap>'Map cluster 1 to Outcome level 1? :  TRUE'</span>"
      ],
      "text/plain": [
       "[1] \"Map cluster 1 to Outcome level 1? :  TRUE\""
      ]
     },
     "metadata": {},
     "output_type": "display_data"
    }
   ],
   "source": [
    "# Use function c1_toLevel_1 to get the correct \n",
    "# mapping between clusters and Outcome levels.\n",
    "\n",
    "c1_to_Outcome1 <- c1_toLevel_1(datout)\n",
    "\n",
    "paste(\"Map cluster 1 to Outcome level 1? :  \", c1_to_Outcome1, sep=\"\")\n"
   ]
  },
  {
   "cell_type": "code",
   "execution_count": 22,
   "metadata": {},
   "outputs": [
    {
     "data": {
      "text/html": [
       "<style>\n",
       ".list-inline {list-style: none; margin:0; padding: 0}\n",
       ".list-inline>li {display: inline-block}\n",
       ".list-inline>li:not(:last-child)::after {content: \"\\00b7\"; padding: 0 .5ex}\n",
       "</style>\n",
       "<ol class=list-inline><li>400</li><li>2</li></ol>\n"
      ],
      "text/latex": [
       "\\begin{enumerate*}\n",
       "\\item 400\n",
       "\\item 2\n",
       "\\end{enumerate*}\n"
      ],
      "text/markdown": [
       "1. 400\n",
       "2. 2\n",
       "\n",
       "\n"
      ],
      "text/plain": [
       "[1] 400   2"
      ]
     },
     "metadata": {},
     "output_type": "display_data"
    }
   ],
   "source": [
    "tmpdat <- datout\n",
    "tmpdat[which(tmpdat$cluster== 1),]$Outcome <- 1\n",
    "tmpdat[which(tmpdat$cluster== 2),]$Outcome <- 0\n",
    "dim(tmpdat)\n"
   ]
  },
  {
   "cell_type": "code",
   "execution_count": 23,
   "metadata": {},
   "outputs": [
    {
     "data": {
      "text/html": [
       "TRUE"
      ],
      "text/latex": [
       "TRUE"
      ],
      "text/markdown": [
       "TRUE"
      ],
      "text/plain": [
       "[1] TRUE"
      ]
     },
     "metadata": {},
     "output_type": "display_data"
    }
   ],
   "source": [
    "sum(rownames(tmpdat) == rownames(df_scaled)) == nrow(df_scaled)\n"
   ]
  },
  {
   "cell_type": "code",
   "execution_count": 24,
   "metadata": {},
   "outputs": [
    {
     "data": {
      "text/plain": [
       "\n",
       "  0   1 \n",
       "216 184 "
      ]
     },
     "metadata": {},
     "output_type": "display_data"
    }
   ],
   "source": [
    "table(as.factor(tmpdat$Outcome))\n"
   ]
  },
  {
   "cell_type": "code",
   "execution_count": 25,
   "metadata": {},
   "outputs": [
    {
     "name": "stdout",
     "output_type": "stream",
     "text": [
      "    0   1 class.error\n",
      "0 176  75      0.2988\n",
      "1  40 109      0.2685\n"
     ]
    },
    {
     "data": {
      "text/html": [
       "''"
      ],
      "text/latex": [
       "''"
      ],
      "text/markdown": [
       "''"
      ],
      "text/plain": [
       "[1] \"\""
      ]
     },
     "metadata": {},
     "output_type": "display_data"
    },
    {
     "name": "stdout",
     "output_type": "stream",
     "text": [
      "[1] \"f-score for k-means (400 rcds): 0.6547\"\n"
     ]
    }
   ],
   "source": [
    "# Generate confusion matrix for the k-means clusters.\n",
    "# Output f-score for this confusion matrix.\n",
    "\n",
    "preds <- as.factor(tmpdat$Outcome)\n",
    "names(preds) <- rownames(tmpdat)\n",
    "ans <- get_confusion(preds, df_scaled[, \"Outcome\", drop=FALSE])\n",
    "print(ans$matrix)\n",
    "''\n",
    "print(paste(\"f-score for k-means (400 rcds): \", as.character(ans[[2]]), sep=\"\"))\n",
    "# f-score on the training set is 0.6547\n",
    "\n",
    "# Accuracy on the training set is 0.7125\n",
    "\n",
    "# Type2 score on the training set is 0.6778\n"
   ]
  },
  {
   "cell_type": "markdown",
   "metadata": {},
   "source": [
    "## Get comparative cross-val score for the base k-means model"
   ]
  },
  {
   "cell_type": "code",
   "execution_count": 74,
   "metadata": {},
   "outputs": [],
   "source": [
    "# This function is called from get_cvScore_svm02. \n",
    "\n",
    "get_Type2_kmBase <- function(traindat, valdat) {\n",
    "    \n",
    "    # Scale traindat.\n",
    "    df <- traindat\n",
    "    df$AST <- log(df$AST)\n",
    "    df$CK <- log(df$CK)\n",
    "    df$Daysrec <- sqrt(df$Daysrec)\n",
    "\n",
    "    df_scaled <- scale(df[, -1])\n",
    "    centers <- attr(df_scaled, \"scaled:center\")\n",
    "    scales <- attr(df_scaled, \"scaled:scale\")\n",
    "    \n",
    "    \n",
    "    # Scale valdat.\n",
    "    df2 <- valdat\n",
    "    df2$AST <- log(df2$AST)\n",
    "    df2$CK <- log(df2$CK)\n",
    "    df2$Daysrec <- sqrt(df2$Daysrec)\n",
    "    test_scaled <- scale(df2[, -1], center=centers, scale=scales)\n",
    "    test_scaled <- as.data.frame(test_scaled, row.names=rownames(valdat))\n",
    "    \n",
    "        \n",
    "    # Construct k-means model and get mapping.\n",
    "    km_mod <- kmeans(df_scaled, 2, iter.max = 50, nstart = 30)\n",
    "    \n",
    "    datout <- as.data.frame(cbind(traindat$Outcome, km_mod$cluster),\n",
    "                            row.names=rownames(traindat))\n",
    "    colnames(datout) <- c(\"Outcome\", \"cluster\")\n",
    "    c1_to_Outcome1 <- c1_toLevel_1(datout)\n",
    "    \n",
    "    ##############################################\n",
    "    # Apply the k-means model to test_scaled.\n",
    "    \n",
    "    # Each element of the following list is a row of test_scaled.\n",
    "    valdat_asList <- split(test_scaled[, colnames(km_mod$centers)],\n",
    "                           seq(nrow(valdat)))\n",
    "    \n",
    "    ctr_list <- vector(\"list\", length= nrow(valdat))\n",
    "    for(i in 1:nrow(valdat)) {\n",
    "        \n",
    "        ctr_list[[i]] <- km_mod$centers\n",
    "    }\n",
    "    names(ctr_list) <- rownames(valdat)\n",
    "    \n",
    "    \n",
    "    # Get the predictions for the validation set.\n",
    "    cluster_assgns <- mcmapply(getCluster, valdat_asList, ctr_list,\n",
    "                               SIMPLIFY=TRUE, mc.cores=6)\n",
    "    test_scaled$cluster <- as.numeric(cluster_assgns)\n",
    "    \n",
    "    test_scaled$pred_Outcome <- NA\n",
    "    if(c1_to_Outcome1) {\n",
    "        test_scaled[which(test_scaled$cluster==1),]$pred_Outcome <- 1\n",
    "        test_scaled[which(test_scaled$cluster==2),]$pred_Outcome <- 0\n",
    "    } else {\n",
    "        test_scaled[which(test_scaled$cluster==1),]$pred_Outcome <- 0\n",
    "        test_scaled[which(test_scaled$cluster==2),]$pred_Outcome <- 1\n",
    "    }\n",
    "    \n",
    "    # Generate confusion matrix for the k-means clusters and\n",
    "    # the corresponding f-score.\n",
    "    preds <- as.factor(test_scaled$pred_Outcome)\n",
    "    names(preds) <- rownames(valdat)\n",
    "    ans <- get_confusion(preds, valdat[, \"Outcome\", drop=FALSE])\n",
    "        \n",
    "    mat <- as.matrix(ans[[1]])\n",
    "    acc <- sum(diag(mat))/floor(sum(mat))\n",
    "    result <- round((0.4 * acc + 0.6 * ans[[2]]), 4)\n",
    "    return(result)\n",
    "}\n"
   ]
  },
  {
   "cell_type": "code",
   "execution_count": 75,
   "metadata": {},
   "outputs": [],
   "source": [
    "# Function to obtain a cross-validation Type2 score for our\n",
    "# base k-means model, averaging the scores of the folds.  \n",
    "# This function is called from compute_cvScore_kmBase.\n",
    "\n",
    "get_cvScore_kmBase <- function(seed, dat, folds= 5) {\n",
    "    \n",
    "    # divide dat by the number of folds \n",
    "    segment_size <- round(nrow(dat)/folds)\n",
    "    diff <- nrow(dat) - folds * segment_size\n",
    "    last_seg_size <- segment_size + diff\n",
    "    segmentsv <- c(rep(segment_size, (folds - 1)), last_seg_size)\n",
    "    stopifnot(sum(segmentsv) == nrow(dat))\n",
    "    \n",
    "    # shuffle dat\n",
    "    set.seed(seed)\n",
    "    smp <- sample(rownames(dat), nrow(dat), replace= FALSE)\n",
    "    dat <- dat[smp,]\n",
    "    \n",
    "    # split the data into the folds\n",
    "    row_list <- vector(\"list\", length= folds)\n",
    "    names(row_list) <- as.character(1:folds)\n",
    "    startpt <- 1\n",
    "    for(i in 1:folds) {\n",
    "        endpt <- startpt + segmentsv[i] - 1\n",
    "        stopifnot(endpt <= dim(dat)[1])\n",
    "        row_list[[i]] <- rownames(dat)[startpt:endpt]\n",
    "        startpt <- endpt + 1\n",
    "    }\n",
    "    \n",
    "    train_list <- test_list <- vector(\"list\", length= folds)\n",
    "    for(j in 1:folds) {\n",
    "        testdat <- dat[row_list[[j]],]\n",
    "        traindat <- dat[which(!(rownames(dat) %in% rownames(testdat))),]\n",
    "        stopifnot((length(rownames(traindat)) + length(rownames(testdat))) == dim(dat)[1])\n",
    "        test_list[[j]] <- testdat\n",
    "        train_list[[j]] <- traindat\n",
    "    }\n",
    "\n",
    "    scores <- mcmapply(get_Type2_kmBase, train_list, test_list,\n",
    "                       SIMPLIFY= TRUE, mc.cores=5)\n",
    "    return(round(mean(scores), 5))\n",
    "}\n"
   ]
  },
  {
   "cell_type": "code",
   "execution_count": 76,
   "metadata": {},
   "outputs": [],
   "source": [
    "# Function to get a cross-val Type2 score over many \n",
    "# folds for the base k-means model.\n",
    "\n",
    "compute_cvScore_kmBase <- function(seedv, dat) {\n",
    "    \n",
    "    seedv_len <- length(seedv)\n",
    "    result <- rep(NA, length=seedv_len)\n",
    "    names(result) <- as.character(seedv)\n",
    "    \n",
    "    for(i in 1:seedv_len) {\n",
    "        cur.seed <- seedv[i]\n",
    "        # For each seed in seedv, compute a cross-val\n",
    "        # Type2 score.\n",
    "        result[i] <- get_cvScore_kmBase(cur.seed, dat)\n",
    "    }\n",
    "    ans <- round(mean(result, na.rm=TRUE), 4)\n",
    "    return(ans)\n",
    "}\n"
   ]
  },
  {
   "cell_type": "code",
   "execution_count": 80,
   "metadata": {},
   "outputs": [
    {
     "data": {
      "text/html": [
       "'Start time: 2021-05-24 12:02:26'"
      ],
      "text/latex": [
       "'Start time: 2021-05-24 12:02:26'"
      ],
      "text/markdown": [
       "'Start time: 2021-05-24 12:02:26'"
      ],
      "text/plain": [
       "[1] \"Start time: 2021-05-24 12:02:26\""
      ]
     },
     "metadata": {},
     "output_type": "display_data"
    },
    {
     "data": {
      "text/plain": [
       "Time difference of 3.71 mins"
      ]
     },
     "metadata": {},
     "output_type": "display_data"
    },
    {
     "data": {
      "text/html": [
       "'Cross-val Type2 score for base k-means: 0.6532'"
      ],
      "text/latex": [
       "'Cross-val Type2 score for base k-means: 0.6532'"
      ],
      "text/markdown": [
       "'Cross-val Type2 score for base k-means: 0.6532'"
      ],
      "text/plain": [
       "[1] \"Cross-val Type2 score for base k-means: 0.6532\""
      ]
     },
     "metadata": {},
     "output_type": "display_data"
    }
   ],
   "source": [
    "# Compute a cross-val Type2 score over 5000 folds.\n",
    "\n",
    "set.seed(1931)\n",
    "seedv <- sample(1:9999, 1000, replace=FALSE)\n",
    "\n",
    "start <- Sys.time()\n",
    "paste(\"Start time: \", start, sep=\"\")\n",
    "ans <- compute_cvScore_kmBase(seedv, dat)\n",
    "stop <- Sys.time()\n",
    "round(stop - start, 2)\n",
    "# Time difference of 3.71 mins\n",
    "\n",
    "paste0(\"Cross-val Type2 score for base k-means: \", as.character(ans))\n",
    "# 'Cross-val Type2 score for base k-means: 0.6532'\n"
   ]
  },
  {
   "cell_type": "code",
   "execution_count": null,
   "metadata": {},
   "outputs": [],
   "source": [
    "### COMMENTS:\n",
    "\n",
    "# The base k-means model, without weights, has a better Type2\n",
    "# cross-val score than our best random forest model and our\n",
    "# best gradient boosting model.  Our best logistic regression\n",
    "# model has a slightly better score (0.6572).  svm02's score\n",
    "# was 0.6602.\n"
   ]
  },
  {
   "cell_type": "markdown",
   "metadata": {},
   "source": [
    "# Section 3: Construct hybrid model using svm02 probabilities"
   ]
  },
  {
   "cell_type": "markdown",
   "metadata": {},
   "source": [
    "Can we improve the base k-means model by giving it the outcome of the svm02 model?"
   ]
  },
  {
   "cell_type": "code",
   "execution_count": 81,
   "metadata": {},
   "outputs": [
    {
     "data": {
      "text/plain": [
       "      AST                CK             Daysrec            prob01      \n",
       " Min.   :-2.1314   Min.   :-3.0256   Min.   :-1.2537   Min.   :-1.660  \n",
       " 1st Qu.:-0.7577   1st Qu.:-0.6954   1st Qu.:-1.2537   1st Qu.:-0.842  \n",
       " Median :-0.0436   Median : 0.0123   Median :-0.0179   Median : 0.104  \n",
       " Mean   : 0.0000   Mean   : 0.0000   Mean   : 0.0000   Mean   : 0.000  \n",
       " 3rd Qu.: 0.7037   3rd Qu.: 0.6789   3rd Qu.: 0.8867   3rd Qu.: 0.952  \n",
       " Max.   : 2.4651   Max.   : 2.3078   Max.   : 2.0157   Max.   : 1.479  "
      ]
     },
     "metadata": {},
     "output_type": "display_data"
    }
   ],
   "source": [
    "# Prepare the data.\n",
    "\n",
    "# For SVM modeling, we need to scale the data.\n",
    "\n",
    "svmdf <- dat[, c(\"Outcome\",\"AST\",\"CK\",\"Daysrec\"), drop=FALSE]\n",
    "svm_scaled <- scale(svmdf[, -1])\n",
    "svm_centers <- attr(svm_scaled, \"scaled:center\")\n",
    "svm_scales <- attr(svm_scaled, \"scaled:scale\")\n",
    "svm_scaled <- as.data.frame(cbind(svmdf$Outcome, svm_scaled),\n",
    "                            row.names=rownames(svmdf))\n",
    "colnames(svm_scaled) <- colnames(svmdf)\n",
    "\n",
    "\n",
    "df <- dat[, c(\"Outcome\",\"AST\",\"CK\",\"Daysrec\"), drop=FALSE]\n",
    "# Transformations used in the k-means modeling.\n",
    "df$AST <- log(df$AST)\n",
    "df$CK <- log(df$CK)\n",
    "df$Daysrec <- sqrt(df$Daysrec)\n",
    "\n",
    "preds01 <- predict(svm02, newdata=svm_scaled, scale=FALSE, probability=TRUE)\n",
    "df$prob01 <- as.numeric(attr(preds01, \"probabilities\")[, 2])\n",
    "\n",
    "# Previous testing shows that we want to also scale the \n",
    "# prob01 column.\n",
    "df_scaled <- scale(df[, -1])\n",
    "centers <- attr(df_scaled, \"scaled:center\")\n",
    "scales <- attr(df_scaled, \"scaled:scale\")\n",
    "\n",
    "df_scaled <- as.data.frame(cbind(dat$Outcome, df_scaled),\n",
    "                              row.names=rownames(dat))\n",
    "colnames(df_scaled) <- colnames(df)\n",
    "summary(df_scaled[, -1])\n"
   ]
  },
  {
   "cell_type": "code",
   "execution_count": 82,
   "metadata": {},
   "outputs": [
    {
     "name": "stdout",
     "output_type": "stream",
     "text": [
      "[1] 0.0903645 0.3035411 0.5392841 0.6284817 0.2493598 0.0041255\n"
     ]
    },
    {
     "data": {
      "text/html": [
       "''"
      ],
      "text/latex": [
       "''"
      ],
      "text/markdown": [
       "''"
      ],
      "text/plain": [
       "[1] \"\""
      ]
     },
     "metadata": {},
     "output_type": "display_data"
    },
    {
     "data": {
      "text/plain": [
       "   Min. 1st Qu.  Median    Mean 3rd Qu.    Max. \n",
       " 0.0003  0.1818  0.3917  0.3687  0.5800  0.6970 "
      ]
     },
     "metadata": {},
     "output_type": "display_data"
    }
   ],
   "source": [
    "print(head(df$prob01))\n",
    "\"\"\n",
    "summary(df$prob01)\n"
   ]
  },
  {
   "cell_type": "code",
   "execution_count": 31,
   "metadata": {},
   "outputs": [],
   "source": [
    "# Construct model with the new prob01 column.\n",
    "\n",
    "set.seed(1233)\n",
    "kmod <- kmeans(df_scaled[, -1], 2, iter.max = 50, nstart = 25)\n"
   ]
  },
  {
   "cell_type": "code",
   "execution_count": 32,
   "metadata": {},
   "outputs": [],
   "source": [
    "# Get the mapping between clusters and Outcome levels.\n",
    "\n",
    "dfout <- as.data.frame(cbind(as.numeric(df_scaled$Outcome), kmod$cluster),\n",
    "                       row.names=rownames(df_scaled))\n",
    "colnames(dfout) <- c(\"Outcome\", \"cluster\")\n",
    "\n",
    "tmpdat <- dfout\n",
    "\n",
    "c1_to_Outcome1 <- c1_toLevel_1(dfout)\n",
    "        \n",
    "if(c1_to_Outcome1) {\n",
    "    # cluster 1 is associated with the survivors\n",
    "    tmpdat[which(tmpdat$cluster== 1),]$Outcome <- 1\n",
    "    tmpdat[which(tmpdat$cluster== 2),]$Outcome <- 0\n",
    "} else {\n",
    "    # cluster 2 is associated with the survivors\n",
    "    tmpdat[which(tmpdat$cluster== 2),]$Outcome <- 1\n",
    "    tmpdat[which(tmpdat$cluster== 1),]$Outcome <- 0\n",
    "}\n"
   ]
  },
  {
   "cell_type": "code",
   "execution_count": 33,
   "metadata": {},
   "outputs": [
    {
     "name": "stdout",
     "output_type": "stream",
     "text": [
      "    0   1 class.error\n",
      "0 160  91      0.3625\n",
      "1  38 111      0.2550\n"
     ]
    },
    {
     "data": {
      "text/html": [
       "''"
      ],
      "text/latex": [
       "''"
      ],
      "text/markdown": [
       "''"
      ],
      "text/plain": [
       "[1] \"\""
      ]
     },
     "metadata": {},
     "output_type": "display_data"
    },
    {
     "name": "stdout",
     "output_type": "stream",
     "text": [
      "[1] \"f-score for kmeans (w/ p1), (400 rcds): 0.6325\"\n"
     ]
    },
    {
     "data": {
      "text/html": [
       "''"
      ],
      "text/latex": [
       "''"
      ],
      "text/markdown": [
       "''"
      ],
      "text/plain": [
       "[1] \"\""
      ]
     },
     "metadata": {},
     "output_type": "display_data"
    },
    {
     "name": "stdout",
     "output_type": "stream",
     "text": [
      "[1] \"Type2 score for kmeans (w/ p1), (400 rcds): 0.6505\"\n"
     ]
    },
    {
     "data": {
      "text/html": [
       "''"
      ],
      "text/latex": [
       "''"
      ],
      "text/markdown": [
       "''"
      ],
      "text/plain": [
       "[1] \"\""
      ]
     },
     "metadata": {},
     "output_type": "display_data"
    },
    {
     "name": "stdout",
     "output_type": "stream",
     "text": [
      "[1] \"Accuracy: 0.6775\"\n"
     ]
    }
   ],
   "source": [
    "# Generate confusion matrix for the k-means clusters and\n",
    "# the corresponding f-score.\n",
    "\n",
    "preds <- as.factor(tmpdat$Outcome)\n",
    "names(preds) <- rownames(tmpdat)\n",
    "ans <- get_confusion(preds, df_scaled[, \"Outcome\", drop=FALSE])\n",
    "\n",
    "print(ans$matrix)\n",
    "''\n",
    "print(paste(\"f-score for kmeans (w/ p1), (400 rcds): \", as.character(ans[[2]]), sep=\"\"))\n",
    "# [1] \"f-score for kmeans (w/ p1), (400 rcds): 0.6325\"\n",
    "\n",
    "\n",
    "mat <- as.matrix(ans[[1]])\n",
    "percent_correct <- sum(diag(mat))/floor(sum(mat))\n",
    "result <- round((0.4 * percent_correct + 0.6 * ans[[2]]), 4)\n",
    "\n",
    "''\n",
    "print(paste(\"Type2 score for kmeans (w/ p1), (400 rcds): \", as.character(result), sep=\"\"))\n",
    "# [1] \"Type2 score for kmeans (w/ p1), (400 rcds): 0.6505\"\n",
    "\n",
    "\"\"\n",
    "print(paste(\"Accuracy: \", as.character(round(percent_correct,4)), sep=\"\"))\n",
    "# [1] \"Accuracy: 0.6775\"\n",
    "\n",
    "# These are scores on the training set.\n"
   ]
  },
  {
   "cell_type": "code",
   "execution_count": null,
   "metadata": {},
   "outputs": [],
   "source": [
    "### COMMENT:\n",
    "\n",
    "# The base k-means model has better scores than this hybrid\n",
    "# model.  E.g., the accuracy is 3.5 percentage points greater\n",
    "# than what we see here.\n"
   ]
  },
  {
   "cell_type": "markdown",
   "metadata": {},
   "source": [
    "## Add weights to the hybrid k-means model"
   ]
  },
  {
   "cell_type": "markdown",
   "metadata": {},
   "source": [
    "We should be able to improve the hybrid model by adding weights to it."
   ]
  },
  {
   "cell_type": "code",
   "execution_count": null,
   "metadata": {},
   "outputs": [],
   "source": [
    "#&* Bookmark"
   ]
  },
  {
   "cell_type": "code",
   "execution_count": 15,
   "metadata": {},
   "outputs": [],
   "source": [
    "# Function for obtaining average of confusion matrix \n",
    "# f-score and percent correctly answered. This function\n",
    "# is called from gridSearch06.\n",
    "\n",
    "get_cvScore_kmp1 <- function(traindat, valdat, wghts) {\n",
    "    \n",
    "    # wghts is a named vector of weights to apply.  The names, and\n",
    "    # order of the weights, correspond to the colnames of traindat\n",
    "    # below.  (Here the names are: AST, CK, Daysrec, and prob01.)\n",
    "    \n",
    "    # Scale traindat for purpose of an svm model.\n",
    "    svm_scaled <- scale(traindat[, -1])\n",
    "    svm_centers <- attr(svm_scaled, \"scaled:center\")\n",
    "    svm_scales <- attr(svm_scaled, \"scaled:scale\")\n",
    "    svm_scaled <- as.data.frame(cbind(traindat$Outcome, svm_scaled),\n",
    "                                row.names=rownames(traindat))\n",
    "    colnames(svm_scaled) <- colnames(traindat)\n",
    "    \n",
    "    # This is our current best svm model for the trainset data\n",
    "    svmod <- svm(I(as.factor(Outcome)) ~ ., data=svm_scaled, kernel=\"radial\",\n",
    "                 gamma= 0.008, cost= 20, scale=FALSE, probability=TRUE)\n",
    "    \n",
    "    preds01 <- predict(svmod, newdata=svm_scaled, probability=TRUE)\n",
    "    traindat$prob01 <- as.numeric(attr(preds01, \"probabilities\")[, 2])\n",
    "    \n",
    "    \n",
    "    #############################\n",
    "    # Transform and scale training set data for the\n",
    "    # k-means model.\n",
    "    traindat$AST <- log(traindat$AST)\n",
    "    traindat$CK <- log(traindat$CK)\n",
    "    traindat$Daysrec <- sqrt(traindat$Daysrec)\n",
    "\n",
    "    traindat_scaled <- scale(traindat[, -1], center=TRUE, scale=TRUE)\n",
    "    centers <- attr(traindat_scaled, \"scaled:center\")\n",
    "    scales <- attr(traindat_scaled, \"scaled:scale\")\n",
    "    \n",
    "    #############################\n",
    "    # Apply weights to traindat.  The sqrt should have\n",
    "    # been taken in the calling function.\n",
    "    cols <- names(wghts)\n",
    "    df2 <- t(t(traindat_scaled[, cols]) * as.numeric(wghts[cols]))\n",
    "    traindat_wghts <- as.data.frame(df2, row.names=rownames(traindat))\n",
    "    colnames(traindat_wghts) <- cols\n",
    "    \n",
    "       \n",
    "    #############################\n",
    "    # Prepare valdat for svm modeling.\n",
    "    \n",
    "    svmval_scaled <- scale(valdat[, -1], center=svm_centers, scale=svm_scales)\n",
    "    svmval_scaled <- as.data.frame(cbind(valdat$Outcome, svmval_scaled),\n",
    "                                   row.names=rownames(valdat))\n",
    "    colnames(svmval_scaled) <- colnames(valdat)\n",
    "    \n",
    "    # Compute the prob01 column.\n",
    "    preds01_b <- predict(svmod, newdata=svmval_scaled, probability=TRUE)\n",
    "    valdat$prob01 <- as.numeric(attr(preds01_b, \"probabilities\")[, 2])\n",
    "    \n",
    "    # Transform and scale valdat.\n",
    "    valdat$AST <- log(valdat$AST)\n",
    "    valdat$CK <- log(valdat$CK)\n",
    "    valdat$Daysrec <- sqrt(valdat$Daysrec)\n",
    "\n",
    "    valdat_scaled <- scale(valdat[, -1], center=centers, scale=scales)\n",
    "    valdat_scaled <- as.data.frame(valdat_scaled, row.names=rownames(valdat))\n",
    "    \n",
    "    # Apply weights to valdat.  (We want valdat to look exactly like\n",
    "    # traindat.  The weights act as a transformation of the data.)\n",
    "    df2 <- t(t(valdat_scaled[, cols]) * as.numeric(wghts[cols]))\n",
    "    valdat_wghts <- as.data.frame(df2, row.names=rownames(valdat))\n",
    "    colnames(valdat_wghts) <- cols\n",
    "    \n",
    "    \n",
    "    #############################\n",
    "    # Construct k-means model.\n",
    "\n",
    "    kmod <- suppressWarnings(kmeans(traindat_wghts, 2, iter.max = 50, nstart=15))\n",
    "    \n",
    "    # See how the clusters are associated with Outcome.\n",
    "    dfout <- as.data.frame(cbind(traindat$Outcome, kmod$cluster),\n",
    "                           row.names=rownames(traindat))\n",
    "    colnames(dfout) <- c(\"Outcome\", \"cluster\")\n",
    "\n",
    "    c1_to_Outcome1 <- c1_toLevel_1(dfout)\n",
    "    \n",
    "    #############################\n",
    "    # Apply the k-means model to valdat_wghts.\n",
    "    \n",
    "    # Each element of the following list is a row of valdat_wghts.\n",
    "    valdat_asList <- split(valdat_wghts[, colnames(kmod$centers)],\n",
    "                           seq(nrow(valdat_wghts)))\n",
    "    \n",
    "    ctr_list <- vector(\"list\", length= nrow(valdat))\n",
    "    for(i in 1:nrow(valdat)) {\n",
    "        \n",
    "        ctr_list[[i]] <- kmod$centers\n",
    "    }\n",
    "    names(ctr_list) <- rownames(valdat)\n",
    "    \n",
    "    \n",
    "    # Get the predictions for the validation set.\n",
    "    cluster_assgns <- mcmapply(getCluster, valdat_asList, ctr_list,\n",
    "                               SIMPLIFY=TRUE, mc.cores=6)\n",
    "    valdat_wghts$cluster <- as.numeric(cluster_assgns)\n",
    "    \n",
    "    valdat_wghts$pred_Outcome <- NA\n",
    "    if(c1_to_Outcome1) {\n",
    "        valdat_wghts[which(valdat_wghts$cluster==1),]$pred_Outcome <- 1\n",
    "        valdat_wghts[which(valdat_wghts$cluster==2),]$pred_Outcome <- 0\n",
    "    } else {\n",
    "        valdat_wghts[which(valdat_wghts$cluster==1),]$pred_Outcome <- 0\n",
    "        valdat_wghts[which(valdat_wghts$cluster==2),]$pred_Outcome <- 1\n",
    "    }\n",
    "    \n",
    "    # Generate confusion matrix for the k-means clusters and\n",
    "    # the corresponding f-score.\n",
    "    preds <- as.factor(valdat_wghts$pred_Outcome)\n",
    "    names(preds) <- rownames(valdat)\n",
    "    ans <- get_confusion(preds, valdat[, \"Outcome\", drop=FALSE])\n",
    "\n",
    "    # The result returned is a Type2 score (which is a mixture\n",
    "    # of accuracy and f-score).\n",
    "    mat <- as.matrix(ans[[1]])\n",
    "    percent_correct <- sum(diag(mat))/floor(sum(mat))\n",
    "    result <- round((0.4 * percent_correct + 0.6 * ans[[2]]), 6)\n",
    "    return(result)\n",
    "}\n"
   ]
  },
  {
   "cell_type": "code",
   "execution_count": 108,
   "metadata": {},
   "outputs": [],
   "source": [
    "# This grid search searches for the best set of weights to use\n",
    "# in our k-means clustering model.  The best weights are those\n",
    "# which generalize best to the validation set.  So we look for\n",
    "# the best cross-validation score.\n",
    "# Because our training set is so small---only 400 records---we\n",
    "# need to run the gridSearch over many seeds.  Otherwise, we \n",
    "# will not get a meaningful result.\n",
    "\n",
    "gridSearch06 <- function(seed_vector, dat, df_params, folds=5) {\n",
    "    \n",
    "    datout <- rep(NA, 2*nrow(df_params))\n",
    "    dim(datout) <- c(nrow(df_params), 2)\n",
    "    datout <- as.data.frame(datout)\n",
    "    colnames(datout) <- c(\"row\", \"Type2\")\n",
    "    datout$row <- rownames(df_params)\n",
    "    \n",
    "    # We want the sqrt of the weights.\n",
    "    df_params <- df_params^0.5\n",
    "    params_rows <- rownames(df_params)\n",
    "    \n",
    "    #############################\n",
    "    # Partition the data into folds.\n",
    "        \n",
    "    # divide dat by the number of folds \n",
    "    segment_size <- round(nrow(dat)/folds)\n",
    "    diff <- nrow(dat) - folds * segment_size\n",
    "    last_seg_size <- segment_size + diff\n",
    "    segmentsv <- c(rep(segment_size, (folds - 1)), last_seg_size)\n",
    "    stopifnot(sum(segmentsv) == nrow(dat))\n",
    "    \n",
    "    \n",
    "    # Create a dataframe, each row for a distinct seed.\n",
    "    # Each column of the dataframe is for a distinct set\n",
    "    # of weights.  The entries in the cells are Type2 \n",
    "    # scores.\n",
    "    seedv_len <- length(seed_vector)\n",
    "    df_scores <- rep(NA, seedv_len*nrow(df_params))\n",
    "    dim(df_scores) <- c(seedv_len, nrow(df_params))\n",
    "    df_scores <- as.data.frame(df_scores)\n",
    "    colnames(df_scores) <- rownames(df_params)\n",
    "    rownames(df_scores) <- as.character(seed_vector)\n",
    "    \n",
    "    for(h in 1:seedv_len) {\n",
    "        # shuffle dat\n",
    "        cur_seed <- seed_vector[h]\n",
    "        set.seed(cur_seed)\n",
    "        smp <- sample(rownames(dat), nrow(dat), replace= FALSE)\n",
    "        dat <- dat[smp,]\n",
    "        \n",
    "        # Each element of row_list will be the rows we pick\n",
    "        # out for one of the folds.  E.g., the first element\n",
    "        # of row_list will contain the rows we want for the\n",
    "        # first fold, the second element of row_list will\n",
    "        # contain the rows we want for the second fold, and\n",
    "        # so forth.\n",
    "        row_list <- vector(\"list\", length=folds)\n",
    "        names(row_list) <- as.character(1:folds)\n",
    "        startpt <- 1\n",
    "        for(i in 1:folds) {\n",
    "            endpt <- startpt + segmentsv[i] - 1\n",
    "            stopifnot(endpt <= nrow(dat))\n",
    "            row_list[[i]] <- rownames(dat)[startpt:endpt]\n",
    "            startpt <- endpt + 1\n",
    "        }\n",
    "    \n",
    "        for(i in 1:nrow(df_params)) {\n",
    "            \n",
    "            cur_row <- params_rows[i]\n",
    "            wghts <- as.numeric(df_params[i,])\n",
    "            names(wghts) <- colnames(df_params)\n",
    "            \n",
    "            train_list <- test_list <- vector(\"list\", length= folds)\n",
    "            for(j in 1:folds) {\n",
    "                testdat <- dat[row_list[[j]],]\n",
    "                traindat <- dat[which(!(rownames(dat) %in% rownames(testdat))),]\n",
    "                stopifnot((length(rownames(traindat)) + length(rownames(testdat))) == nrow(dat))\n",
    "                test_list[[j]] <- testdat\n",
    "                train_list[[j]] <- traindat\n",
    "            }\n",
    "            # When there are only 5 folds, only 5 cores get used.\n",
    "            ### NOTE: I change the following function call depending on\n",
    "            ### the model I am scoring.\n",
    "            scores <- mcmapply(get_cvScore_kmp1p2, train_list, test_list,\n",
    "                               MoreArgs= list(wghts=wghts),\n",
    "                               SIMPLIFY= TRUE, mc.cores=5)\n",
    "            \n",
    "            # For the current seed, store the average of the Type2\n",
    "            # scores, the average taken over the folds.\n",
    "            df_scores[as.character(cur_seed), cur_row] <- round(mean(scores), 5)\n",
    "        \n",
    "        } # end of for-loop, index i\n",
    "    } ## end of for-loop, index h\n",
    "    \n",
    "    # Compute the average over the seeds of the Type2 scores\n",
    "    # obtained for each set of parameters in df_params.\n",
    "    datout$Type2 <- round(apply(df_scores, MARGIN=2, mean), 5)\n",
    "    return(datout)\n",
    "}\n"
   ]
  },
  {
   "cell_type": "markdown",
   "metadata": {},
   "source": [
    "## Search for the best set of weights for the hybrid model"
   ]
  },
  {
   "cell_type": "code",
   "execution_count": 42,
   "metadata": {},
   "outputs": [
    {
     "data": {
      "text/html": [
       "<style>\n",
       ".list-inline {list-style: none; margin:0; padding: 0}\n",
       ".list-inline>li {display: inline-block}\n",
       ".list-inline>li:not(:last-child)::after {content: \"\\00b7\"; padding: 0 .5ex}\n",
       "</style>\n",
       "<ol class=list-inline><li>1469</li><li>4</li></ol>\n"
      ],
      "text/latex": [
       "\\begin{enumerate*}\n",
       "\\item 1469\n",
       "\\item 4\n",
       "\\end{enumerate*}\n"
      ],
      "text/markdown": [
       "1. 1469\n",
       "2. 4\n",
       "\n",
       "\n"
      ],
      "text/plain": [
       "[1] 1469    4"
      ]
     },
     "metadata": {},
     "output_type": "display_data"
    }
   ],
   "source": [
    "# There are 4 parameter lists to work with.  The best\n",
    "# approach, perhaps, is to start by exploring the \n",
    "# region around the space where all parameters have an \n",
    "# equal weight---in this case, a weight of 0.25.\n",
    "\n",
    "lst <- vector(\"list\", length= 4)\n",
    "names(lst) <- c(\"AST\",\"CK\",\"Daysrec\",\"prob01\")\n",
    "\n",
    "lst[[1]] <- lst[[2]] <- lst[[3]] <- lst[[4]] <- seq(0.13, 0.37, by=0.02)\n",
    "\n",
    "start <- Sys.time()\n",
    "dfc01 <- generate_combs(lst)\n",
    "stop <- Sys.time()\n",
    "# round(stop - start, 2)\n",
    "\n",
    "dim(dfc01)\n",
    "#  1469     4\n"
   ]
  },
  {
   "cell_type": "code",
   "execution_count": 43,
   "metadata": {},
   "outputs": [
    {
     "data": {
      "text/html": [
       "<table>\n",
       "<caption>A data.frame: 6 × 4</caption>\n",
       "<thead>\n",
       "\t<tr><th></th><th scope=col>AST</th><th scope=col>CK</th><th scope=col>Daysrec</th><th scope=col>prob01</th></tr>\n",
       "\t<tr><th></th><th scope=col>&lt;dbl&gt;</th><th scope=col>&lt;dbl&gt;</th><th scope=col>&lt;dbl&gt;</th><th scope=col>&lt;dbl&gt;</th></tr>\n",
       "</thead>\n",
       "<tbody>\n",
       "\t<tr><th scope=row>11425</th><td>0.33</td><td>0.27</td><td>0.17</td><td>0.23</td></tr>\n",
       "\t<tr><th scope=row>7201</th><td>0.35</td><td>0.27</td><td>0.19</td><td>0.19</td></tr>\n",
       "\t<tr><th scope=row>22165</th><td>0.37</td><td>0.15</td><td>0.15</td><td>0.33</td></tr>\n",
       "\t<tr><th scope=row>20509</th><td>0.27</td><td>0.21</td><td>0.21</td><td>0.31</td></tr>\n",
       "\t<tr><th scope=row>23329</th><td>0.25</td><td>0.13</td><td>0.29</td><td>0.33</td></tr>\n",
       "\t<tr><th scope=row>22057</th><td>0.29</td><td>0.25</td><td>0.13</td><td>0.33</td></tr>\n",
       "</tbody>\n",
       "</table>\n"
      ],
      "text/latex": [
       "A data.frame: 6 × 4\n",
       "\\begin{tabular}{r|llll}\n",
       "  & AST & CK & Daysrec & prob01\\\\\n",
       "  & <dbl> & <dbl> & <dbl> & <dbl>\\\\\n",
       "\\hline\n",
       "\t11425 & 0.33 & 0.27 & 0.17 & 0.23\\\\\n",
       "\t7201 & 0.35 & 0.27 & 0.19 & 0.19\\\\\n",
       "\t22165 & 0.37 & 0.15 & 0.15 & 0.33\\\\\n",
       "\t20509 & 0.27 & 0.21 & 0.21 & 0.31\\\\\n",
       "\t23329 & 0.25 & 0.13 & 0.29 & 0.33\\\\\n",
       "\t22057 & 0.29 & 0.25 & 0.13 & 0.33\\\\\n",
       "\\end{tabular}\n"
      ],
      "text/markdown": [
       "\n",
       "A data.frame: 6 × 4\n",
       "\n",
       "| <!--/--> | AST &lt;dbl&gt; | CK &lt;dbl&gt; | Daysrec &lt;dbl&gt; | prob01 &lt;dbl&gt; |\n",
       "|---|---|---|---|---|\n",
       "| 11425 | 0.33 | 0.27 | 0.17 | 0.23 |\n",
       "| 7201 | 0.35 | 0.27 | 0.19 | 0.19 |\n",
       "| 22165 | 0.37 | 0.15 | 0.15 | 0.33 |\n",
       "| 20509 | 0.27 | 0.21 | 0.21 | 0.31 |\n",
       "| 23329 | 0.25 | 0.13 | 0.29 | 0.33 |\n",
       "| 22057 | 0.29 | 0.25 | 0.13 | 0.33 |\n",
       "\n"
      ],
      "text/plain": [
       "      AST  CK   Daysrec prob01\n",
       "11425 0.33 0.27 0.17    0.23  \n",
       "7201  0.35 0.27 0.19    0.19  \n",
       "22165 0.37 0.15 0.15    0.33  \n",
       "20509 0.27 0.21 0.21    0.31  \n",
       "23329 0.25 0.13 0.29    0.33  \n",
       "22057 0.29 0.25 0.13    0.33  "
      ]
     },
     "metadata": {},
     "output_type": "display_data"
    }
   ],
   "source": [
    "# Test on a sample of 10.\n",
    "\n",
    "set.seed(42)\n",
    "smp <- sample(rownames(dfc01), 10, replace=FALSE)\n",
    "tst_params <- dfc01[smp,]\n",
    "head(tst_params)\n"
   ]
  },
  {
   "cell_type": "code",
   "execution_count": null,
   "metadata": {},
   "outputs": [],
   "source": [
    "# Find the best weights of those in tst_params.\n",
    "\n",
    "set.seed(1233)\n",
    "seed_vector <- sample(1:9999, 10, replace=FALSE)\n",
    "\n",
    "start <- Sys.time()\n",
    "dat_result <- gridSearch06(seed_vector, dat, tst_params) \n",
    "stop <- Sys.time()\n",
    "round(stop - start, 2)\n",
    "# Time difference of 24.51 secs (for 10 rows)\n"
   ]
  },
  {
   "cell_type": "code",
   "execution_count": null,
   "metadata": {},
   "outputs": [],
   "source": [
    "best_params <- dat_result[which(dat_result$Type2 == \n",
    "                                max(dat_result$Type2, na.rm=TRUE)),]$row\n",
    "length(best_params)\n",
    "\n",
    "best_Type2 <- dat_result[which(dat_result$Type2 == \n",
    "                                max(dat_result$Type2, na.rm=TRUE)),]$Type2\n"
   ]
  },
  {
   "cell_type": "code",
   "execution_count": null,
   "metadata": {},
   "outputs": [],
   "source": [
    "dfc01[best_params,]\n",
    "\n",
    "best_Type2\n"
   ]
  },
  {
   "cell_type": "code",
   "execution_count": 52,
   "metadata": {},
   "outputs": [
    {
     "data": {
      "text/html": [
       "'Start time: 2021-04-12 15:28:51'"
      ],
      "text/latex": [
       "'Start time: 2021-04-12 15:28:51'"
      ],
      "text/markdown": [
       "'Start time: 2021-04-12 15:28:51'"
      ],
      "text/plain": [
       "[1] \"Start time: 2021-04-12 15:28:51\""
      ]
     },
     "metadata": {},
     "output_type": "display_data"
    },
    {
     "data": {
      "text/plain": [
       "Time difference of 57.46 mins"
      ]
     },
     "metadata": {},
     "output_type": "display_data"
    }
   ],
   "source": [
    "# Find the best weights of those in dfc01 (1469 rows,\n",
    "# 11 seeds, 5 folds).  \n",
    "\n",
    "set.seed(1233)\n",
    "seed_vector <- sample(1:9999, 11, replace=FALSE)\n",
    "\n",
    "start <- Sys.time()\n",
    "paste(\"Start time: \", start, sep=\"\")\n",
    "dat_result <- gridSearch06(seed_vector, dat, dfc01) \n",
    "stop <- Sys.time()\n",
    "round(stop - start, 2)\n",
    "# Time difference of 57.46 mins (= 2.3469 secs/row)\n"
   ]
  },
  {
   "cell_type": "code",
   "execution_count": 53,
   "metadata": {},
   "outputs": [
    {
     "data": {
      "text/html": [
       "1"
      ],
      "text/latex": [
       "1"
      ],
      "text/markdown": [
       "1"
      ],
      "text/plain": [
       "[1] 1"
      ]
     },
     "metadata": {},
     "output_type": "display_data"
    }
   ],
   "source": [
    "best_params <- dat_result[which(dat_result$Type2 == \n",
    "                                max(dat_result$Type2, na.rm=TRUE)),]$row\n",
    "length(best_params)\n",
    "\n",
    "best_Type2 <- dat_result[which(dat_result$Type2 == \n",
    "                                max(dat_result$Type2, na.rm=TRUE)),]$Type2\n"
   ]
  },
  {
   "cell_type": "code",
   "execution_count": 54,
   "metadata": {},
   "outputs": [
    {
     "data": {
      "text/html": [
       "<table>\n",
       "<caption>A data.frame: 1 × 4</caption>\n",
       "<thead>\n",
       "\t<tr><th></th><th scope=col>AST</th><th scope=col>CK</th><th scope=col>Daysrec</th><th scope=col>prob01</th></tr>\n",
       "\t<tr><th></th><th scope=col>&lt;dbl&gt;</th><th scope=col>&lt;dbl&gt;</th><th scope=col>&lt;dbl&gt;</th><th scope=col>&lt;dbl&gt;</th></tr>\n",
       "</thead>\n",
       "<tbody>\n",
       "\t<tr><th scope=row>1777</th><td>0.29</td><td>0.25</td><td>0.33</td><td>0.13</td></tr>\n",
       "</tbody>\n",
       "</table>\n"
      ],
      "text/latex": [
       "A data.frame: 1 × 4\n",
       "\\begin{tabular}{r|llll}\n",
       "  & AST & CK & Daysrec & prob01\\\\\n",
       "  & <dbl> & <dbl> & <dbl> & <dbl>\\\\\n",
       "\\hline\n",
       "\t1777 & 0.29 & 0.25 & 0.33 & 0.13\\\\\n",
       "\\end{tabular}\n"
      ],
      "text/markdown": [
       "\n",
       "A data.frame: 1 × 4\n",
       "\n",
       "| <!--/--> | AST &lt;dbl&gt; | CK &lt;dbl&gt; | Daysrec &lt;dbl&gt; | prob01 &lt;dbl&gt; |\n",
       "|---|---|---|---|---|\n",
       "| 1777 | 0.29 | 0.25 | 0.33 | 0.13 |\n",
       "\n"
      ],
      "text/plain": [
       "     AST  CK   Daysrec prob01\n",
       "1777 0.29 0.25 0.33    0.13  "
      ]
     },
     "metadata": {},
     "output_type": "display_data"
    },
    {
     "data": {
      "text/html": [
       "0.65982"
      ],
      "text/latex": [
       "0.65982"
      ],
      "text/markdown": [
       "0.65982"
      ],
      "text/plain": [
       "[1] 0.65982"
      ]
     },
     "metadata": {},
     "output_type": "display_data"
    }
   ],
   "source": [
    "dfc01[best_params,]\n",
    "#   \t AST \t  CK  \tDaysrec \tprob01\n",
    "\n",
    "# 1777\t0.29 \t0.25\t   0.33 \t  0.13\n",
    "\n",
    "\n",
    "best_Type2\n",
    "# 0.6598\n"
   ]
  },
  {
   "cell_type": "code",
   "execution_count": 55,
   "metadata": {},
   "outputs": [
    {
     "data": {
      "text/html": [
       "<style>\n",
       ".list-inline {list-style: none; margin:0; padding: 0}\n",
       ".list-inline>li {display: inline-block}\n",
       ".list-inline>li:not(:last-child)::after {content: \"\\00b7\"; padding: 0 .5ex}\n",
       "</style>\n",
       "<ol class=list-inline><li>267</li><li>4</li></ol>\n"
      ],
      "text/latex": [
       "\\begin{enumerate*}\n",
       "\\item 267\n",
       "\\item 4\n",
       "\\end{enumerate*}\n"
      ],
      "text/markdown": [
       "1. 267\n",
       "2. 4\n",
       "\n",
       "\n"
      ],
      "text/plain": [
       "[1] 267   4"
      ]
     },
     "metadata": {},
     "output_type": "display_data"
    }
   ],
   "source": [
    "# Refine the search.\n",
    "\n",
    "lst <- vector(\"list\", length= 4)\n",
    "names(lst) <- c(\"AST\",\"CK\",\"Daysrec\",\"prob01\")\n",
    "\n",
    "lst[[1]] <- seq(0.27, 0.33, by= 0.01)\n",
    "lst[[2]] <- seq(0.21, 0.29, by= 0.01)\n",
    "lst[[3]] <- seq(0.31, 0.37, by= 0.01)\n",
    "lst[[4]] <- seq(0.09, 0.15, by=0.01)\n",
    "\n",
    "start <- Sys.time()\n",
    "dfc02 <- generate_combs(lst)\n",
    "stop <- Sys.time()\n",
    "# round(stop - start, 2)\n",
    "\n",
    "dim(dfc02)\n",
    "#  267     4\n"
   ]
  },
  {
   "cell_type": "code",
   "execution_count": 56,
   "metadata": {},
   "outputs": [],
   "source": [
    "# Add no weights to the combinations.  This will \n",
    "# tell us whether using weights is better than not\n",
    "# using weights.  (Setting each of the weight \n",
    "# coefficients to 1 is essentially equivalent to\n",
    "# setting each of the 4 weights to 0.25, although\n",
    "# small differences can appear in the resultant\n",
    "# score.)  \n",
    "\n",
    "# NOTE: the result we get from this test is much \n",
    "# better than testing against the test set, since\n",
    "# this test is the equivalent of 100 such tests.\n",
    "\n",
    "dfc02 <- rbind(dfc02, rep(1,4))\n"
   ]
  },
  {
   "cell_type": "code",
   "execution_count": 58,
   "metadata": {},
   "outputs": [
    {
     "data": {
      "text/html": [
       "'Start time: 2021-04-12 16:31:17'"
      ],
      "text/latex": [
       "'Start time: 2021-04-12 16:31:17'"
      ],
      "text/markdown": [
       "'Start time: 2021-04-12 16:31:17'"
      ],
      "text/plain": [
       "[1] \"Start time: 2021-04-12 16:31:17\""
      ]
     },
     "metadata": {},
     "output_type": "display_data"
    },
    {
     "data": {
      "text/plain": [
       "Time difference of 12.15 mins"
      ]
     },
     "metadata": {},
     "output_type": "display_data"
    }
   ],
   "source": [
    "# Find the best weights of those in dfc02 (268 rows,\n",
    "# 11 seeds, 5 folds).\n",
    "\n",
    "set.seed(1233)\n",
    "seed_vector <- sample(1:9999, 11, replace=FALSE)\n",
    "\n",
    "start <- Sys.time()\n",
    "paste(\"Start time: \", start, sep=\"\")\n",
    "dat_result <- gridSearch06(seed_vector, dat, dfc02) \n",
    "stop <- Sys.time()\n",
    "round(stop - start, 2)\n",
    "# Time difference of 12.15 mins\n"
   ]
  },
  {
   "cell_type": "code",
   "execution_count": 59,
   "metadata": {},
   "outputs": [
    {
     "data": {
      "text/html": [
       "1"
      ],
      "text/latex": [
       "1"
      ],
      "text/markdown": [
       "1"
      ],
      "text/plain": [
       "[1] 1"
      ]
     },
     "metadata": {},
     "output_type": "display_data"
    }
   ],
   "source": [
    "best_params <- dat_result[which(dat_result$Type2 == \n",
    "                                max(dat_result$Type2, na.rm=TRUE)),]$row\n",
    "length(best_params)\n",
    "\n",
    "best_Type2 <- dat_result[which(dat_result$Type2 == \n",
    "                                max(dat_result$Type2, na.rm=TRUE)),]$Type2\n"
   ]
  },
  {
   "cell_type": "code",
   "execution_count": 60,
   "metadata": {},
   "outputs": [
    {
     "data": {
      "text/html": [
       "<table>\n",
       "<caption>A data.frame: 1 × 4</caption>\n",
       "<thead>\n",
       "\t<tr><th></th><th scope=col>AST</th><th scope=col>CK</th><th scope=col>Daysrec</th><th scope=col>prob01</th></tr>\n",
       "\t<tr><th></th><th scope=col>&lt;dbl&gt;</th><th scope=col>&lt;dbl&gt;</th><th scope=col>&lt;dbl&gt;</th><th scope=col>&lt;dbl&gt;</th></tr>\n",
       "</thead>\n",
       "<tbody>\n",
       "\t<tr><th scope=row>1103</th><td>0.3</td><td>0.25</td><td>0.34</td><td>0.11</td></tr>\n",
       "</tbody>\n",
       "</table>\n"
      ],
      "text/latex": [
       "A data.frame: 1 × 4\n",
       "\\begin{tabular}{r|llll}\n",
       "  & AST & CK & Daysrec & prob01\\\\\n",
       "  & <dbl> & <dbl> & <dbl> & <dbl>\\\\\n",
       "\\hline\n",
       "\t1103 & 0.3 & 0.25 & 0.34 & 0.11\\\\\n",
       "\\end{tabular}\n"
      ],
      "text/markdown": [
       "\n",
       "A data.frame: 1 × 4\n",
       "\n",
       "| <!--/--> | AST &lt;dbl&gt; | CK &lt;dbl&gt; | Daysrec &lt;dbl&gt; | prob01 &lt;dbl&gt; |\n",
       "|---|---|---|---|---|\n",
       "| 1103 | 0.3 | 0.25 | 0.34 | 0.11 |\n",
       "\n"
      ],
      "text/plain": [
       "     AST CK   Daysrec prob01\n",
       "1103 0.3 0.25 0.34    0.11  "
      ]
     },
     "metadata": {},
     "output_type": "display_data"
    },
    {
     "data": {
      "text/html": [
       "0.66075"
      ],
      "text/latex": [
       "0.66075"
      ],
      "text/markdown": [
       "0.66075"
      ],
      "text/plain": [
       "[1] 0.66075"
      ]
     },
     "metadata": {},
     "output_type": "display_data"
    }
   ],
   "source": [
    "dfc02[best_params,]\n",
    "#       \t AST \t  CK  \tDaysrec \tprob01\n",
    "\n",
    "# 1103  \t0.30 \t0.25\t   0.34 \t  0.11\n",
    "\n",
    "best_Type2\n",
    "# 0.66075\n"
   ]
  },
  {
   "cell_type": "code",
   "execution_count": null,
   "metadata": {},
   "outputs": [],
   "source": [
    "### COMMENTS:\n",
    "\n",
    "# Notice that the best cross-validation score does \n",
    "# not occur when all coefficients, or weights, are\n",
    "# set to 1.  Thus, the weights are an improvement over\n",
    "# no weights.\n"
   ]
  },
  {
   "cell_type": "markdown",
   "metadata": {},
   "source": [
    "## Get comparative cross-val score for the hybrid model with weights"
   ]
  },
  {
   "cell_type": "code",
   "execution_count": 83,
   "metadata": {},
   "outputs": [],
   "source": [
    "# This function is called from get_cvScore_p1Hybrid. \n",
    "\n",
    "get_Type2_p1Hybrid <- function(traindat, valdat) {\n",
    "    \n",
    "    # Scale traindat for purpose of an svm model.\n",
    "    svm_scaled <- scale(traindat[, -1])\n",
    "    svm_centers <- attr(svm_scaled, \"scaled:center\")\n",
    "    svm_scales <- attr(svm_scaled, \"scaled:scale\")\n",
    "    svm_scaled <- as.data.frame(cbind(traindat$Outcome, svm_scaled),\n",
    "                                row.names=rownames(traindat))\n",
    "    colnames(svm_scaled) <- colnames(traindat)\n",
    "    \n",
    "    # This is our current best svm model for the trainset data\n",
    "    svmod <- svm(I(as.factor(Outcome)) ~ ., data=svm_scaled, kernel=\"radial\",\n",
    "                 gamma= 0.008, cost= 20, scale=FALSE, probability=TRUE)\n",
    "    \n",
    "    preds01 <- predict(svmod, newdata=svm_scaled, probability=TRUE)\n",
    "    traindat$prob01 <- as.numeric(attr(preds01, \"probabilities\")[, 2])\n",
    "    \n",
    "    \n",
    "    #############################\n",
    "    # Transform and scale training set data for the k-means model.\n",
    "    \n",
    "    traindat$AST <- log(traindat$AST)\n",
    "    traindat$CK <- log(traindat$CK)\n",
    "    traindat$Daysrec <- sqrt(traindat$Daysrec)\n",
    "\n",
    "    traindat_scaled <- scale(traindat[, -1], center=TRUE, scale=TRUE)\n",
    "    centers <- attr(traindat_scaled, \"scaled:center\")\n",
    "    scales <- attr(traindat_scaled, \"scaled:scale\")\n",
    "    \n",
    "    #############################\n",
    "    # Apply weights to traindat.\n",
    "    \n",
    "    wghts <- c(0.30, 0.25, 0.34, 0.11)^0.5\n",
    "    names(wghts) <- cols <- colnames(traindat_scaled)\n",
    "    df2 <- t(t(traindat_scaled[, cols]) * as.numeric(wghts[cols]))\n",
    "    traindat_wghts <- as.data.frame(df2, row.names=rownames(traindat))\n",
    "    colnames(traindat_wghts) <- cols\n",
    "    \n",
    "    \n",
    "    #############################################\n",
    "    # Scale valdat.\n",
    "    #############################################\n",
    "    \n",
    "    svmval_scaled <- scale(valdat[, -1], center=svm_centers, scale=svm_scales)\n",
    "    svmval_scaled <- as.data.frame(cbind(valdat$Outcome, svmval_scaled),\n",
    "                                   row.names=rownames(valdat))\n",
    "    colnames(svmval_scaled) <- colnames(valdat)\n",
    "    \n",
    "    # Compute the prob01 column.\n",
    "    preds01_b <- predict(svmod, newdata=svmval_scaled, probability=TRUE)\n",
    "    valdat$prob01 <- as.numeric(attr(preds01_b, \"probabilities\")[, 2])\n",
    "    \n",
    "    # Transform and scale valdat.\n",
    "    valdat$AST <- log(valdat$AST)\n",
    "    valdat$CK <- log(valdat$CK)\n",
    "    valdat$Daysrec <- sqrt(valdat$Daysrec)\n",
    "\n",
    "    valdat_scaled <- scale(valdat[, -1], center=centers, scale=scales)\n",
    "    valdat_scaled <- as.data.frame(valdat_scaled, row.names=rownames(valdat))\n",
    "    \n",
    "    # Apply weights to valdat.\n",
    "    df2 <- t(t(valdat_scaled[, cols]) * as.numeric(wghts[cols]))\n",
    "    valdat_wghts <- as.data.frame(df2, row.names=rownames(valdat))\n",
    "    colnames(valdat_wghts) <- cols\n",
    "    \n",
    "    \n",
    "    #############################\n",
    "    # Construct k-means model.\n",
    "\n",
    "    kmod <- suppressWarnings(kmeans(traindat_wghts, 2, iter.max = 50, nstart=15))\n",
    "    \n",
    "    # See how the clusters are associated with Outcome.\n",
    "    dfout <- as.data.frame(cbind(traindat$Outcome, kmod$cluster),\n",
    "                           row.names=rownames(traindat))\n",
    "    colnames(dfout) <- c(\"Outcome\", \"cluster\")\n",
    "\n",
    "    c1_to_Outcome1 <- c1_toLevel_1(dfout)\n",
    "    \n",
    "    #############################\n",
    "    # Apply the k-means model to valdat_wghts.\n",
    "    \n",
    "    # Each element of the following list is a row of valdat_wghts.\n",
    "    valdat_asList <- split(valdat_wghts[, colnames(kmod$centers)],\n",
    "                           seq(nrow(valdat_wghts)))\n",
    "    \n",
    "    ctr_list <- vector(\"list\", length= nrow(valdat))\n",
    "    for(i in 1:nrow(valdat)) {\n",
    "        \n",
    "        ctr_list[[i]] <- kmod$centers\n",
    "    }\n",
    "    names(ctr_list) <- rownames(valdat)\n",
    "    \n",
    "    \n",
    "    # Get the predictions for the validation set.\n",
    "    cluster_assgns <- mcmapply(getCluster, valdat_asList, ctr_list,\n",
    "                               SIMPLIFY=TRUE, mc.cores=6)\n",
    "    valdat_wghts$cluster <- as.numeric(cluster_assgns)\n",
    "    \n",
    "    valdat_wghts$pred_Outcome <- NA\n",
    "    if(c1_to_Outcome1) {\n",
    "        valdat_wghts[which(valdat_wghts$cluster==1),]$pred_Outcome <- 1\n",
    "        valdat_wghts[which(valdat_wghts$cluster==2),]$pred_Outcome <- 0\n",
    "    } else {\n",
    "        valdat_wghts[which(valdat_wghts$cluster==1),]$pred_Outcome <- 0\n",
    "        valdat_wghts[which(valdat_wghts$cluster==2),]$pred_Outcome <- 1\n",
    "    }\n",
    "    \n",
    "    # Generate confusion matrix for the k-means clusters and\n",
    "    # the corresponding f-score.\n",
    "    preds <- as.factor(valdat_wghts$pred_Outcome)\n",
    "    names(preds) <- rownames(valdat)\n",
    "    ans <- get_confusion(preds, valdat[, \"Outcome\", drop=FALSE])\n",
    "\n",
    "    # The result returned is a Type2 score (which is a mixture\n",
    "    # of accuracy and f-score).\n",
    "    mat <- as.matrix(ans[[1]])\n",
    "    acc <- sum(diag(mat))/floor(sum(mat))\n",
    "    result <- round((0.4 * acc + 0.6 * ans[[2]]), 6)\n",
    "    return(result)\n",
    "}\n"
   ]
  },
  {
   "cell_type": "code",
   "execution_count": 84,
   "metadata": {},
   "outputs": [],
   "source": [
    "# Function to obtain a cross-validation Type2 score for the\n",
    "# k-means hybrid model + weights, averaging the scores of the folds.  \n",
    "# This function is called from compute_cvScore_p1Hybrid.\n",
    "\n",
    "get_cvScore_p1Hybrid <- function(seed, dat, folds= 5) {\n",
    "    \n",
    "    # divide dat by the number of folds \n",
    "    segment_size <- round(nrow(dat)/folds)\n",
    "    diff <- nrow(dat) - folds * segment_size\n",
    "    last_seg_size <- segment_size + diff\n",
    "    segmentsv <- c(rep(segment_size, (folds - 1)), last_seg_size)\n",
    "    stopifnot(sum(segmentsv) == nrow(dat))\n",
    "    \n",
    "    # shuffle dat\n",
    "    set.seed(seed)\n",
    "    smp <- sample(rownames(dat), nrow(dat), replace= FALSE)\n",
    "    dat <- dat[smp,]\n",
    "    \n",
    "    # split the data into the folds\n",
    "    row_list <- vector(\"list\", length= folds)\n",
    "    names(row_list) <- as.character(1:folds)\n",
    "    startpt <- 1\n",
    "    for(i in 1:folds) {\n",
    "        endpt <- startpt + segmentsv[i] - 1\n",
    "        stopifnot(endpt <= dim(dat)[1])\n",
    "        row_list[[i]] <- rownames(dat)[startpt:endpt]\n",
    "        startpt <- endpt + 1\n",
    "    }\n",
    "    \n",
    "    train_list <- test_list <- vector(\"list\", length= folds)\n",
    "    for(j in 1:folds) {\n",
    "        testdat <- dat[row_list[[j]],]\n",
    "        traindat <- dat[which(!(rownames(dat) %in% rownames(testdat))),]\n",
    "        stopifnot((length(rownames(traindat)) + length(rownames(testdat))) == dim(dat)[1])\n",
    "        test_list[[j]] <- testdat\n",
    "        train_list[[j]] <- traindat\n",
    "    }\n",
    "\n",
    "    scores <- mcmapply(get_Type2_p1Hybrid, train_list, test_list,\n",
    "                       SIMPLIFY= TRUE, mc.cores=5)\n",
    "    return(round(mean(scores), 5))\n",
    "}\n"
   ]
  },
  {
   "cell_type": "code",
   "execution_count": 85,
   "metadata": {},
   "outputs": [],
   "source": [
    "# Function to get a cross-val Type2 score over many \n",
    "# folds for the k-means hybrid model (prob01 + weights).\n",
    "\n",
    "compute_cvScore_p1Hybrid <- function(seedv, dat) {\n",
    "    \n",
    "    seedv_len <- length(seedv)\n",
    "    result <- rep(NA, length=seedv_len)\n",
    "    names(result) <- as.character(seedv)\n",
    "    \n",
    "    for(i in 1:seedv_len) {\n",
    "        cur.seed <- seedv[i]\n",
    "        # For each seed in seedv, compute a cross-val\n",
    "        # Type2 score.\n",
    "        result[i] <- get_cvScore_p1Hybrid(cur.seed, dat)\n",
    "    }\n",
    "    ans <- round(mean(result, na.rm=TRUE), 4)\n",
    "    return(ans)\n",
    "}\n"
   ]
  },
  {
   "cell_type": "code",
   "execution_count": 88,
   "metadata": {},
   "outputs": [
    {
     "data": {
      "text/html": [
       "'Start time: 2021-05-24 12:50:26'"
      ],
      "text/latex": [
       "'Start time: 2021-05-24 12:50:26'"
      ],
      "text/markdown": [
       "'Start time: 2021-05-24 12:50:26'"
      ],
      "text/plain": [
       "[1] \"Start time: 2021-05-24 12:50:26\""
      ]
     },
     "metadata": {},
     "output_type": "display_data"
    },
    {
     "data": {
      "text/plain": [
       "Time difference of 4.54 mins"
      ]
     },
     "metadata": {},
     "output_type": "display_data"
    },
    {
     "data": {
      "text/html": [
       "'Cross-val Type2 score for hybrid model (prob01 + wghts): 0.658'"
      ],
      "text/latex": [
       "'Cross-val Type2 score for hybrid model (prob01 + wghts): 0.658'"
      ],
      "text/markdown": [
       "'Cross-val Type2 score for hybrid model (prob01 + wghts): 0.658'"
      ],
      "text/plain": [
       "[1] \"Cross-val Type2 score for hybrid model (prob01 + wghts): 0.658\""
      ]
     },
     "metadata": {},
     "output_type": "display_data"
    }
   ],
   "source": [
    "# Compute a cross-val Type2 score over 5000 folds.\n",
    "\n",
    "set.seed(1931)\n",
    "seedv <- sample(1:9999, 1000, replace=FALSE)\n",
    "\n",
    "start <- Sys.time()\n",
    "paste(\"Start time: \", start, sep=\"\")\n",
    "ans <- compute_cvScore_p1Hybrid(seedv, dat)\n",
    "stop <- Sys.time()\n",
    "round(stop - start, 2)\n",
    "# Time difference of 4.54 mins\n",
    "\n",
    "paste0(\"Cross-val Type2 score for hybrid model (prob01 + wghts): \", as.character(ans))\n",
    "# 'Cross-val Type2 score for hybrid model (prob01 + wghts): 0.658'\n"
   ]
  },
  {
   "cell_type": "markdown",
   "metadata": {},
   "source": [
    "## Find weights for k-means base model"
   ]
  },
  {
   "cell_type": "code",
   "execution_count": 17,
   "metadata": {},
   "outputs": [],
   "source": [
    "# Function for obtaining average of confusion matrix \n",
    "# f-score and percent correctly answered. This function\n",
    "# is called from gridSearch06.\n",
    "\n",
    "get_cvScore_kmBase <- function(traindat, valdat, wghts) {\n",
    "    \n",
    "    # wghts is a named vector of weights to apply.  The names, and\n",
    "    # order of the weights, correspond to the colnames of traindat\n",
    "    # below.  (Here the names are: AST, CK, and Daysrec.)\n",
    "    \n",
    "    #############################\n",
    "    # Transform and scale training set data for the\n",
    "    # k-means model.\n",
    "    traindat$AST <- log(traindat$AST)\n",
    "    traindat$CK <- log(traindat$CK)\n",
    "    traindat$Daysrec <- sqrt(traindat$Daysrec)\n",
    "\n",
    "    traindat_scaled <- scale(traindat[, -1], center=TRUE, scale=TRUE)\n",
    "    centers <- attr(traindat_scaled, \"scaled:center\")\n",
    "    scales <- attr(traindat_scaled, \"scaled:scale\")\n",
    "    \n",
    "    #############################\n",
    "    # Apply weights to traindat.  The sqrt should have\n",
    "    # been taken in the calling function.\n",
    "    \n",
    "    cols <- names(wghts)\n",
    "    df2 <- t(t(traindat_scaled[, cols]) * as.numeric(wghts[cols]))\n",
    "    traindat_wghts <- as.data.frame(df2, row.names=rownames(traindat))\n",
    "    colnames(traindat_wghts) <- cols\n",
    "       \n",
    "    #############################\n",
    "    # Prepare valdat.\n",
    "    \n",
    "    # Transform and scale valdat.\n",
    "    valdat$AST <- log(valdat$AST)\n",
    "    valdat$CK <- log(valdat$CK)\n",
    "    valdat$Daysrec <- sqrt(valdat$Daysrec)\n",
    "\n",
    "    valdat_scaled <- scale(valdat[, -1], center=centers, scale=scales)\n",
    "    valdat_scaled <- as.data.frame(valdat_scaled, row.names=rownames(valdat))\n",
    "    \n",
    "    # Apply weights to valdat.  (We want valdat to look exactly like\n",
    "    # traindat.  The weights act as a transformation of the data.)\n",
    "    df2 <- t(t(valdat_scaled[, cols]) * as.numeric(wghts[cols]))\n",
    "    valdat_wghts <- as.data.frame(df2, row.names=rownames(valdat))\n",
    "    colnames(valdat_wghts) <- cols\n",
    "    \n",
    "    \n",
    "    #############################\n",
    "    # Construct k-means model.\n",
    "    \n",
    "    kmod <- suppressWarnings(kmeans(traindat_wghts, 2, iter.max = 50, nstart=15))\n",
    "    \n",
    "    # See how the clusters are associated with Outcome.\n",
    "    dfout <- as.data.frame(cbind(traindat$Outcome, kmod$cluster),\n",
    "                           row.names=rownames(traindat))\n",
    "    colnames(dfout) <- c(\"Outcome\", \"cluster\")\n",
    "    \n",
    "    c1_to_Outcome1 <- c1_toLevel_1(dfout)\n",
    "    \n",
    "    #############################\n",
    "    # Apply the k-means model to valdat_wghts.\n",
    "    \n",
    "    # Each element of the following list is a row of valdat_wghts.\n",
    "    valdat_asList <- split(valdat_wghts[, colnames(kmod$centers)],\n",
    "                           seq(nrow(valdat_wghts)))\n",
    "    \n",
    "    ctr_list <- vector(\"list\", length= nrow(valdat))\n",
    "    for(i in 1:nrow(valdat)) {\n",
    "        \n",
    "        ctr_list[[i]] <- kmod$centers\n",
    "    }\n",
    "    names(ctr_list) <- rownames(valdat)\n",
    "    \n",
    "    \n",
    "    # Get the predictions for the validation set.\n",
    "    cluster_assgns <- mcmapply(getCluster, valdat_asList, ctr_list,\n",
    "                               SIMPLIFY=TRUE, mc.cores=6)\n",
    "    valdat_wghts$cluster <- as.numeric(cluster_assgns)\n",
    "    \n",
    "    valdat_wghts$pred_Outcome <- NA\n",
    "    if(c1_to_Outcome1) {\n",
    "        valdat_wghts[which(valdat_wghts$cluster==1),]$pred_Outcome <- 1\n",
    "        valdat_wghts[which(valdat_wghts$cluster==2),]$pred_Outcome <- 0\n",
    "    } else {\n",
    "        valdat_wghts[which(valdat_wghts$cluster==1),]$pred_Outcome <- 0\n",
    "        valdat_wghts[which(valdat_wghts$cluster==2),]$pred_Outcome <- 1\n",
    "    }\n",
    "    \n",
    "    # Generate confusion matrix for the k-means clusters and\n",
    "    # the corresponding f-score.\n",
    "    preds <- as.factor(valdat_wghts$pred_Outcome)\n",
    "    names(preds) <- rownames(valdat)\n",
    "    ans <- get_confusion(preds, valdat[, \"Outcome\", drop=FALSE])\n",
    "\n",
    "    # The result returned is a Type2 score (which is a mixture\n",
    "    # of accuracy and f-score).\n",
    "    mat <- as.matrix(ans[[1]])\n",
    "    percent_correct <- sum(diag(mat))/floor(sum(mat))\n",
    "    result <- round((0.4 * percent_correct + 0.6 * ans[[2]]), 6)\n",
    "    return(result)\n",
    "}\n"
   ]
  },
  {
   "cell_type": "code",
   "execution_count": 67,
   "metadata": {},
   "outputs": [
    {
     "data": {
      "text/html": [
       "<style>\n",
       ".list-inline {list-style: none; margin:0; padding: 0}\n",
       ".list-inline>li {display: inline-block}\n",
       ".list-inline>li:not(:last-child)::after {content: \"\\00b7\"; padding: 0 .5ex}\n",
       "</style>\n",
       "<ol class=list-inline><li>1236</li><li>3</li></ol>\n"
      ],
      "text/latex": [
       "\\begin{enumerate*}\n",
       "\\item 1236\n",
       "\\item 3\n",
       "\\end{enumerate*}\n"
      ],
      "text/markdown": [
       "1. 1236\n",
       "2. 3\n",
       "\n",
       "\n"
      ],
      "text/plain": [
       "[1] 1236    3"
      ]
     },
     "metadata": {},
     "output_type": "display_data"
    }
   ],
   "source": [
    "# There are 3 parameter lists to work with.\n",
    "\n",
    "lst <- vector(\"list\", length= 3)\n",
    "names(lst) <- c(\"AST\",\"CK\",\"Daysrec\")\n",
    "\n",
    "lst[[1]] <- lst[[2]] <- lst[[3]] <- seq(0.15, 0.55, by=0.01)\n",
    "\n",
    "start <- Sys.time()\n",
    "dfc04 <- generate_combs(lst, tol=0.0001)\n",
    "stop <- Sys.time()\n",
    "# round(stop - start, 2)\n",
    "\n",
    "dim(dfc04)\n",
    "# 1236    3\n"
   ]
  },
  {
   "cell_type": "code",
   "execution_count": 68,
   "metadata": {},
   "outputs": [],
   "source": [
    "# Test on a sample of 10.\n",
    "\n",
    "set.seed(42)\n",
    "smp <- sample(rownames(dfc04), 10, replace=FALSE)\n",
    "tst_params <- dfc04[smp,]\n"
   ]
  },
  {
   "cell_type": "code",
   "execution_count": 69,
   "metadata": {},
   "outputs": [],
   "source": [
    "# Find the best weights of those in tst_params.\n",
    "\n",
    "set.seed(1233)\n",
    "seed_vector <- sample(1:9999, 11, replace=FALSE)\n",
    "\n",
    "start <- Sys.time()\n",
    "dat_result <- gridSearch06(seed_vector, dat, tst_params) \n",
    "stop <- Sys.time()\n",
    "# round(stop - start, 2)\n",
    "# Time difference of 15 secs (for 10 rows)\n"
   ]
  },
  {
   "cell_type": "code",
   "execution_count": null,
   "metadata": {},
   "outputs": [],
   "source": [
    "best_params <- dat_result[which(dat_result$Type2 == \n",
    "                                max(dat_result$Type2, na.rm=TRUE)),]$row\n",
    "length(best_params)\n",
    "\n",
    "best_Type2 <- dat_result[which(dat_result$Type2 == \n",
    "                                max(dat_result$Type2, na.rm=TRUE)),]$Type2\n"
   ]
  },
  {
   "cell_type": "code",
   "execution_count": null,
   "metadata": {},
   "outputs": [],
   "source": [
    "dfc04[best_params,]\n",
    "\n",
    "best_Type2\n"
   ]
  },
  {
   "cell_type": "code",
   "execution_count": 72,
   "metadata": {},
   "outputs": [
    {
     "data": {
      "text/html": [
       "'Start time: 2021-04-12 16:58:05'"
      ],
      "text/latex": [
       "'Start time: 2021-04-12 16:58:05'"
      ],
      "text/markdown": [
       "'Start time: 2021-04-12 16:58:05'"
      ],
      "text/plain": [
       "[1] \"Start time: 2021-04-12 16:58:05\""
      ]
     },
     "metadata": {},
     "output_type": "display_data"
    },
    {
     "data": {
      "text/plain": [
       "Time difference of 45.81 mins"
      ]
     },
     "metadata": {},
     "output_type": "display_data"
    }
   ],
   "source": [
    "# Find the best weights of those in dfc01 (1236 rows,\n",
    "# 11 seeds, 5 folds).\n",
    "\n",
    "set.seed(1233)\n",
    "seed_vector <- sample(1:9999, 11, replace=FALSE)\n",
    "\n",
    "start <- Sys.time()\n",
    "paste(\"Start time: \", start, sep=\"\")\n",
    "dat_result <- gridSearch06(seed_vector, dat, dfc04) \n",
    "stop <- Sys.time()\n",
    "round(stop - start, 2)\n",
    "# Time difference of 45.81 mins\n"
   ]
  },
  {
   "cell_type": "code",
   "execution_count": 73,
   "metadata": {},
   "outputs": [
    {
     "data": {
      "text/html": [
       "1"
      ],
      "text/latex": [
       "1"
      ],
      "text/markdown": [
       "1"
      ],
      "text/plain": [
       "[1] 1"
      ]
     },
     "metadata": {},
     "output_type": "display_data"
    }
   ],
   "source": [
    "best_params <- dat_result[which(dat_result$Type2 == \n",
    "                                max(dat_result$Type2, na.rm=TRUE)),]$row\n",
    "length(best_params)\n",
    "\n",
    "best_Type2 <- dat_result[which(dat_result$Type2 == \n",
    "                                max(dat_result$Type2, na.rm=TRUE)),]$Type2\n"
   ]
  },
  {
   "cell_type": "code",
   "execution_count": 74,
   "metadata": {},
   "outputs": [
    {
     "data": {
      "text/html": [
       "<table>\n",
       "<caption>A data.frame: 1 × 3</caption>\n",
       "<thead>\n",
       "\t<tr><th></th><th scope=col>AST</th><th scope=col>CK</th><th scope=col>Daysrec</th></tr>\n",
       "\t<tr><th></th><th scope=col>&lt;dbl&gt;</th><th scope=col>&lt;dbl&gt;</th><th scope=col>&lt;dbl&gt;</th></tr>\n",
       "</thead>\n",
       "<tbody>\n",
       "\t<tr><th scope=row>656</th><td>0.55</td><td>0.3</td><td>0.15</td></tr>\n",
       "</tbody>\n",
       "</table>\n"
      ],
      "text/latex": [
       "A data.frame: 1 × 3\n",
       "\\begin{tabular}{r|lll}\n",
       "  & AST & CK & Daysrec\\\\\n",
       "  & <dbl> & <dbl> & <dbl>\\\\\n",
       "\\hline\n",
       "\t656 & 0.55 & 0.3 & 0.15\\\\\n",
       "\\end{tabular}\n"
      ],
      "text/markdown": [
       "\n",
       "A data.frame: 1 × 3\n",
       "\n",
       "| <!--/--> | AST &lt;dbl&gt; | CK &lt;dbl&gt; | Daysrec &lt;dbl&gt; |\n",
       "|---|---|---|---|\n",
       "| 656 | 0.55 | 0.3 | 0.15 |\n",
       "\n"
      ],
      "text/plain": [
       "    AST  CK  Daysrec\n",
       "656 0.55 0.3 0.15   "
      ]
     },
     "metadata": {},
     "output_type": "display_data"
    },
    {
     "data": {
      "text/html": [
       "0.6619"
      ],
      "text/latex": [
       "0.6619"
      ],
      "text/markdown": [
       "0.6619"
      ],
      "text/plain": [
       "[1] 0.6619"
      ]
     },
     "metadata": {},
     "output_type": "display_data"
    }
   ],
   "source": [
    "dfc04[best_params,]\n",
    "#   \t AST \t  CK  \tDaysrec \n",
    "\n",
    "# 656 \t0.55 \t0.30\t   0.15\n",
    "\n",
    "\n",
    "best_Type2\n",
    "# 0.6619\n"
   ]
  },
  {
   "cell_type": "code",
   "execution_count": 75,
   "metadata": {},
   "outputs": [
    {
     "data": {
      "text/html": [
       "<style>\n",
       ".list-inline {list-style: none; margin:0; padding: 0}\n",
       ".list-inline>li {display: inline-block}\n",
       ".list-inline>li:not(:last-child)::after {content: \"\\00b7\"; padding: 0 .5ex}\n",
       "</style>\n",
       "<ol class=list-inline><li>50</li><li>3</li></ol>\n"
      ],
      "text/latex": [
       "\\begin{enumerate*}\n",
       "\\item 50\n",
       "\\item 3\n",
       "\\end{enumerate*}\n"
      ],
      "text/markdown": [
       "1. 50\n",
       "2. 3\n",
       "\n",
       "\n"
      ],
      "text/plain": [
       "[1] 50  3"
      ]
     },
     "metadata": {},
     "output_type": "display_data"
    }
   ],
   "source": [
    "# There are 3 parameter lists to work with.\n",
    "\n",
    "lst <- vector(\"list\", length= 3)\n",
    "names(lst) <- c(\"AST\",\"CK\",\"Daysrec\")\n",
    "\n",
    "lst[[1]] <- seq(0.55, 0.62, by=0.01)\n",
    "lst[[2]] <- seq(0.27, 0.33, by=0.01)\n",
    "lst[[3]] <- seq(0.05, 0.15, by=0.01)\n",
    "\n",
    "start <- Sys.time()\n",
    "dfc05 <- generate_combs(lst, tol=0.0001)\n",
    "stop <- Sys.time()\n",
    "# round(stop - start, 2)\n",
    "\n",
    "dim(dfc05)\n",
    "# 50    3\n"
   ]
  },
  {
   "cell_type": "code",
   "execution_count": 76,
   "metadata": {},
   "outputs": [
    {
     "data": {
      "text/html": [
       "'Start time: 2021-04-12 17:49:51'"
      ],
      "text/latex": [
       "'Start time: 2021-04-12 17:49:51'"
      ],
      "text/markdown": [
       "'Start time: 2021-04-12 17:49:51'"
      ],
      "text/plain": [
       "[1] \"Start time: 2021-04-12 17:49:51\""
      ]
     },
     "metadata": {},
     "output_type": "display_data"
    },
    {
     "data": {
      "text/plain": [
       "Time difference of 1.83 mins"
      ]
     },
     "metadata": {},
     "output_type": "display_data"
    }
   ],
   "source": [
    "# Find the best weights of those in dfc01 (50 rows,\n",
    "# 11 seeds, 5 folds).\n",
    "\n",
    "set.seed(1233)\n",
    "seed_vector <- sample(1:9999, 11, replace=FALSE)\n",
    "\n",
    "start <- Sys.time()\n",
    "paste(\"Start time: \", start, sep=\"\")\n",
    "dat_result <- gridSearch06(seed_vector, dat, dfc05) \n",
    "stop <- Sys.time()\n",
    "round(stop - start, 2)\n",
    "# Time difference of 1.83 mins\n"
   ]
  },
  {
   "cell_type": "code",
   "execution_count": 77,
   "metadata": {},
   "outputs": [
    {
     "data": {
      "text/html": [
       "1"
      ],
      "text/latex": [
       "1"
      ],
      "text/markdown": [
       "1"
      ],
      "text/plain": [
       "[1] 1"
      ]
     },
     "metadata": {},
     "output_type": "display_data"
    }
   ],
   "source": [
    "best_params <- dat_result[which(dat_result$Type2 == \n",
    "                                max(dat_result$Type2, na.rm=TRUE)),]$row\n",
    "length(best_params)\n",
    "\n",
    "best_Type2 <- dat_result[which(dat_result$Type2 == \n",
    "                                max(dat_result$Type2, na.rm=TRUE)),]$Type2\n"
   ]
  },
  {
   "cell_type": "code",
   "execution_count": 78,
   "metadata": {},
   "outputs": [
    {
     "data": {
      "text/html": [
       "<table>\n",
       "<caption>A data.frame: 1 × 3</caption>\n",
       "<thead>\n",
       "\t<tr><th></th><th scope=col>AST</th><th scope=col>CK</th><th scope=col>Daysrec</th></tr>\n",
       "\t<tr><th></th><th scope=col>&lt;dbl&gt;</th><th scope=col>&lt;dbl&gt;</th><th scope=col>&lt;dbl&gt;</th></tr>\n",
       "</thead>\n",
       "<tbody>\n",
       "\t<tr><th scope=row>509</th><td>0.59</td><td>0.27</td><td>0.14</td></tr>\n",
       "</tbody>\n",
       "</table>\n"
      ],
      "text/latex": [
       "A data.frame: 1 × 3\n",
       "\\begin{tabular}{r|lll}\n",
       "  & AST & CK & Daysrec\\\\\n",
       "  & <dbl> & <dbl> & <dbl>\\\\\n",
       "\\hline\n",
       "\t509 & 0.59 & 0.27 & 0.14\\\\\n",
       "\\end{tabular}\n"
      ],
      "text/markdown": [
       "\n",
       "A data.frame: 1 × 3\n",
       "\n",
       "| <!--/--> | AST &lt;dbl&gt; | CK &lt;dbl&gt; | Daysrec &lt;dbl&gt; |\n",
       "|---|---|---|---|\n",
       "| 509 | 0.59 | 0.27 | 0.14 |\n",
       "\n"
      ],
      "text/plain": [
       "    AST  CK   Daysrec\n",
       "509 0.59 0.27 0.14   "
      ]
     },
     "metadata": {},
     "output_type": "display_data"
    },
    {
     "data": {
      "text/html": [
       "0.664"
      ],
      "text/latex": [
       "0.664"
      ],
      "text/markdown": [
       "0.664"
      ],
      "text/plain": [
       "[1] 0.664"
      ]
     },
     "metadata": {},
     "output_type": "display_data"
    }
   ],
   "source": [
    "dfc05[best_params,]\n",
    "#   \t AST \t  CK  \tDaysrec \n",
    "\n",
    "# 509 \t0.59 \t0.27\t   0.14\n",
    "\n",
    "\n",
    "best_Type2\n",
    "# 0.664\n"
   ]
  },
  {
   "cell_type": "code",
   "execution_count": 80,
   "metadata": {},
   "outputs": [
    {
     "data": {
      "text/html": [
       "<style>\n",
       ".list-inline {list-style: none; margin:0; padding: 0}\n",
       ".list-inline>li {display: inline-block}\n",
       ".list-inline>li:not(:last-child)::after {content: \"\\00b7\"; padding: 0 .5ex}\n",
       "</style>\n",
       "<ol class=list-inline><li>30</li><li>3</li></ol>\n"
      ],
      "text/latex": [
       "\\begin{enumerate*}\n",
       "\\item 30\n",
       "\\item 3\n",
       "\\end{enumerate*}\n"
      ],
      "text/markdown": [
       "1. 30\n",
       "2. 3\n",
       "\n",
       "\n"
      ],
      "text/plain": [
       "[1] 30  3"
      ]
     },
     "metadata": {},
     "output_type": "display_data"
    }
   ],
   "source": [
    "# There are 3 parameter lists to work with.\n",
    "\n",
    "lst <- vector(\"list\", length= 3)\n",
    "names(lst) <- c(\"AST\",\"CK\",\"Daysrec\")\n",
    "\n",
    "lst[[1]] <- seq(0.57, 0.62, by=0.01)\n",
    "lst[[2]] <- seq(0.22, 0.27, by=0.01)\n",
    "lst[[3]] <- seq(0.11, 0.18, by=0.01)\n",
    "\n",
    "start <- Sys.time()\n",
    "dfc06 <- generate_combs(lst, tol=0.0001)\n",
    "stop <- Sys.time()\n",
    "# round(stop - start, 2)\n",
    "\n",
    "dim(dfc06)\n",
    "# 1236    3\n"
   ]
  },
  {
   "cell_type": "code",
   "execution_count": 81,
   "metadata": {},
   "outputs": [
    {
     "data": {
      "text/html": [
       "'Start time: 2021-04-12 17:56:47'"
      ],
      "text/latex": [
       "'Start time: 2021-04-12 17:56:47'"
      ],
      "text/markdown": [
       "'Start time: 2021-04-12 17:56:47'"
      ],
      "text/plain": [
       "[1] \"Start time: 2021-04-12 17:56:47\""
      ]
     },
     "metadata": {},
     "output_type": "display_data"
    },
    {
     "data": {
      "text/plain": [
       "Time difference of 1.05 mins"
      ]
     },
     "metadata": {},
     "output_type": "display_data"
    }
   ],
   "source": [
    "# Find the best weights of those in dfc01 (30 rows,\n",
    "# 11 seeds, 5 folds).\n",
    "\n",
    "set.seed(1233)\n",
    "seed_vector <- sample(1:9999, 11, replace=FALSE)\n",
    "\n",
    "start <- Sys.time()\n",
    "paste(\"Start time: \", start, sep=\"\")\n",
    "dat_result <- gridSearch06(seed_vector, dat, dfc06) \n",
    "stop <- Sys.time()\n",
    "round(stop - start, 2)\n",
    "# Time difference of 1.05 mins\n"
   ]
  },
  {
   "cell_type": "code",
   "execution_count": 82,
   "metadata": {},
   "outputs": [
    {
     "data": {
      "text/html": [
       "1"
      ],
      "text/latex": [
       "1"
      ],
      "text/markdown": [
       "1"
      ],
      "text/plain": [
       "[1] 1"
      ]
     },
     "metadata": {},
     "output_type": "display_data"
    }
   ],
   "source": [
    "best_params <- dat_result[which(dat_result$Type2 == \n",
    "                                max(dat_result$Type2, na.rm=TRUE)),]$row\n",
    "length(best_params)\n",
    "\n",
    "best_Type2 <- dat_result[which(dat_result$Type2 == \n",
    "                                max(dat_result$Type2, na.rm=TRUE)),]$Type2\n"
   ]
  },
  {
   "cell_type": "code",
   "execution_count": 83,
   "metadata": {},
   "outputs": [
    {
     "data": {
      "text/html": [
       "<table>\n",
       "<caption>A data.frame: 1 × 3</caption>\n",
       "<thead>\n",
       "\t<tr><th></th><th scope=col>AST</th><th scope=col>CK</th><th scope=col>Daysrec</th></tr>\n",
       "\t<tr><th></th><th scope=col>&lt;dbl&gt;</th><th scope=col>&lt;dbl&gt;</th><th scope=col>&lt;dbl&gt;</th></tr>\n",
       "</thead>\n",
       "<tbody>\n",
       "\t<tr><th scope=row>141</th><td>0.59</td><td>0.27</td><td>0.14</td></tr>\n",
       "</tbody>\n",
       "</table>\n"
      ],
      "text/latex": [
       "A data.frame: 1 × 3\n",
       "\\begin{tabular}{r|lll}\n",
       "  & AST & CK & Daysrec\\\\\n",
       "  & <dbl> & <dbl> & <dbl>\\\\\n",
       "\\hline\n",
       "\t141 & 0.59 & 0.27 & 0.14\\\\\n",
       "\\end{tabular}\n"
      ],
      "text/markdown": [
       "\n",
       "A data.frame: 1 × 3\n",
       "\n",
       "| <!--/--> | AST &lt;dbl&gt; | CK &lt;dbl&gt; | Daysrec &lt;dbl&gt; |\n",
       "|---|---|---|---|\n",
       "| 141 | 0.59 | 0.27 | 0.14 |\n",
       "\n"
      ],
      "text/plain": [
       "    AST  CK   Daysrec\n",
       "141 0.59 0.27 0.14   "
      ]
     },
     "metadata": {},
     "output_type": "display_data"
    },
    {
     "data": {
      "text/html": [
       "0.664"
      ],
      "text/latex": [
       "0.664"
      ],
      "text/markdown": [
       "0.664"
      ],
      "text/plain": [
       "[1] 0.664"
      ]
     },
     "metadata": {},
     "output_type": "display_data"
    }
   ],
   "source": [
    "dfc06[best_params,]\n",
    "#   \t AST \t  CK  \tDaysrec \n",
    "\n",
    "# 141 \t0.59 \t0.27\t   0.14\n",
    "\n",
    "\n",
    "best_Type2\n",
    "# 0.664\n"
   ]
  },
  {
   "cell_type": "code",
   "execution_count": 86,
   "metadata": {},
   "outputs": [
    {
     "data": {
      "text/html": [
       "<table>\n",
       "<caption>A data.frame: 2 × 3</caption>\n",
       "<thead>\n",
       "\t<tr><th scope=col>AST</th><th scope=col>CK</th><th scope=col>Daysrec</th></tr>\n",
       "\t<tr><th scope=col>&lt;dbl&gt;</th><th scope=col>&lt;dbl&gt;</th><th scope=col>&lt;dbl&gt;</th></tr>\n",
       "</thead>\n",
       "<tbody>\n",
       "\t<tr><td>0.59</td><td>0.27</td><td>0.14</td></tr>\n",
       "\t<tr><td>1.00</td><td>1.00</td><td>1.00</td></tr>\n",
       "</tbody>\n",
       "</table>\n"
      ],
      "text/latex": [
       "A data.frame: 2 × 3\n",
       "\\begin{tabular}{lll}\n",
       " AST & CK & Daysrec\\\\\n",
       " <dbl> & <dbl> & <dbl>\\\\\n",
       "\\hline\n",
       "\t 0.59 & 0.27 & 0.14\\\\\n",
       "\t 1.00 & 1.00 & 1.00\\\\\n",
       "\\end{tabular}\n"
      ],
      "text/markdown": [
       "\n",
       "A data.frame: 2 × 3\n",
       "\n",
       "| AST &lt;dbl&gt; | CK &lt;dbl&gt; | Daysrec &lt;dbl&gt; |\n",
       "|---|---|---|\n",
       "| 0.59 | 0.27 | 0.14 |\n",
       "| 1.00 | 1.00 | 1.00 |\n",
       "\n"
      ],
      "text/plain": [
       "  AST  CK   Daysrec\n",
       "1 0.59 0.27 0.14   \n",
       "2 1.00 1.00 1.00   "
      ]
     },
     "metadata": {},
     "output_type": "display_data"
    }
   ],
   "source": [
    "# See whether the above weights are better \n",
    "# than no weights.\n",
    "\n",
    "lst <- vector(\"list\", length= 3)\n",
    "names(lst) <- c(\"AST\",\"CK\",\"Daysrec\")\n",
    "\n",
    "lst[[1]] <- c(0.59)\n",
    "lst[[2]] <- c(0.27)\n",
    "lst[[3]] <- c(0.14)\n",
    "\n",
    "start <- Sys.time()\n",
    "dfc07 <- generate_combs(lst)\n",
    "stop <- Sys.time()\n",
    "# round(stop - start, 2)\n",
    "\n",
    "(dfc07 <- rbind(dfc07, rep(1, 3)))\n"
   ]
  },
  {
   "cell_type": "code",
   "execution_count": 88,
   "metadata": {},
   "outputs": [
    {
     "data": {
      "text/html": [
       "'Start time: 2021-04-12 18:04:55'"
      ],
      "text/latex": [
       "'Start time: 2021-04-12 18:04:55'"
      ],
      "text/markdown": [
       "'Start time: 2021-04-12 18:04:55'"
      ],
      "text/plain": [
       "[1] \"Start time: 2021-04-12 18:04:55\""
      ]
     },
     "metadata": {},
     "output_type": "display_data"
    },
    {
     "data": {
      "text/plain": [
       "Time difference of 3.84 secs"
      ]
     },
     "metadata": {},
     "output_type": "display_data"
    }
   ],
   "source": [
    "# Find the best weights of those in dfc05 ( rows,\n",
    "# 11 seeds, 5 folds).\n",
    "\n",
    "set.seed(1233)\n",
    "seed_vector <- sample(1:9999, 11, replace=FALSE)\n",
    "\n",
    "start <- Sys.time()\n",
    "paste(\"Start time: \", start, sep=\"\")\n",
    "dat_result <- gridSearch06(seed_vector, dat, dfc07) \n",
    "stop <- Sys.time()\n",
    "round(stop - start, 2)\n",
    "# Time difference of 3 secs\n"
   ]
  },
  {
   "cell_type": "code",
   "execution_count": 89,
   "metadata": {},
   "outputs": [
    {
     "data": {
      "text/html": [
       "1"
      ],
      "text/latex": [
       "1"
      ],
      "text/markdown": [
       "1"
      ],
      "text/plain": [
       "[1] 1"
      ]
     },
     "metadata": {},
     "output_type": "display_data"
    }
   ],
   "source": [
    "best_params <- dat_result[which(dat_result$Type2 == \n",
    "                                max(dat_result$Type2, na.rm=TRUE)),]$row\n",
    "length(best_params)\n",
    "\n",
    "best_Type2 <- dat_result[which(dat_result$Type2 == \n",
    "                                max(dat_result$Type2, na.rm=TRUE)),]$Type2\n"
   ]
  },
  {
   "cell_type": "code",
   "execution_count": 90,
   "metadata": {},
   "outputs": [
    {
     "data": {
      "text/html": [
       "<table>\n",
       "<caption>A data.frame: 1 × 3</caption>\n",
       "<thead>\n",
       "\t<tr><th></th><th scope=col>AST</th><th scope=col>CK</th><th scope=col>Daysrec</th></tr>\n",
       "\t<tr><th></th><th scope=col>&lt;dbl&gt;</th><th scope=col>&lt;dbl&gt;</th><th scope=col>&lt;dbl&gt;</th></tr>\n",
       "</thead>\n",
       "<tbody>\n",
       "\t<tr><th scope=row>1</th><td>0.59</td><td>0.27</td><td>0.14</td></tr>\n",
       "</tbody>\n",
       "</table>\n"
      ],
      "text/latex": [
       "A data.frame: 1 × 3\n",
       "\\begin{tabular}{r|lll}\n",
       "  & AST & CK & Daysrec\\\\\n",
       "  & <dbl> & <dbl> & <dbl>\\\\\n",
       "\\hline\n",
       "\t1 & 0.59 & 0.27 & 0.14\\\\\n",
       "\\end{tabular}\n"
      ],
      "text/markdown": [
       "\n",
       "A data.frame: 1 × 3\n",
       "\n",
       "| <!--/--> | AST &lt;dbl&gt; | CK &lt;dbl&gt; | Daysrec &lt;dbl&gt; |\n",
       "|---|---|---|---|\n",
       "| 1 | 0.59 | 0.27 | 0.14 |\n",
       "\n"
      ],
      "text/plain": [
       "  AST  CK   Daysrec\n",
       "1 0.59 0.27 0.14   "
      ]
     },
     "metadata": {},
     "output_type": "display_data"
    },
    {
     "data": {
      "text/html": [
       "0.664"
      ],
      "text/latex": [
       "0.664"
      ],
      "text/markdown": [
       "0.664"
      ],
      "text/plain": [
       "[1] 0.664"
      ]
     },
     "metadata": {},
     "output_type": "display_data"
    }
   ],
   "source": [
    "dfc07[best_params,]\n",
    "#       \t AST \t  CK  \tDaysrec\n",
    "\n",
    "# 1     \t0.59 \t0.27\t   0.14\n",
    "\n",
    "best_Type2\n",
    "# 0.664\n"
   ]
  },
  {
   "cell_type": "markdown",
   "metadata": {},
   "source": [
    "## Get comparative cross-val score for base k-means with weights"
   ]
  },
  {
   "cell_type": "code",
   "execution_count": 89,
   "metadata": {},
   "outputs": [],
   "source": [
    "# This function is called from get_cvScore_kmBaseWghts. \n",
    "\n",
    "get_Type2_kmBaseWghts <- function(traindat, valdat) {\n",
    "    \n",
    "    # Transform and scale traindat.\n",
    "    \n",
    "    traindat$AST <- log(traindat$AST)\n",
    "    traindat$CK <- log(traindat$CK)\n",
    "    traindat$Daysrec <- sqrt(traindat$Daysrec)\n",
    "\n",
    "    traindat_scaled <- scale(traindat[, -1], center=TRUE, scale=TRUE)\n",
    "    centers <- attr(traindat_scaled, \"scaled:center\")\n",
    "    scales <- attr(traindat_scaled, \"scaled:scale\")\n",
    "    \n",
    "    #############################\n",
    "    # Apply weights to traindat.\n",
    "    \n",
    "    wghts <- c(0.59, 0.27, 0.14)^0.5\n",
    "    names(wghts) <- cols <- colnames(traindat_scaled)\n",
    "    df2 <- t(t(traindat_scaled[, cols]) * as.numeric(wghts[cols]))\n",
    "    traindat_wghts <- as.data.frame(df2, row.names=rownames(traindat))\n",
    "    colnames(traindat_wghts) <- cols\n",
    "    \n",
    "\n",
    "    #############################################\n",
    "    \n",
    "    # Transform and scale valdat.\n",
    "    valdat$AST <- log(valdat$AST)\n",
    "    valdat$CK <- log(valdat$CK)\n",
    "    valdat$Daysrec <- sqrt(valdat$Daysrec)\n",
    "\n",
    "    valdat_scaled <- scale(valdat[, -1], center=centers, scale=scales)\n",
    "    valdat_scaled <- as.data.frame(valdat_scaled, row.names=rownames(valdat))\n",
    "    \n",
    "    # Apply weights to valdat.\n",
    "    df2 <- t(t(valdat_scaled[, cols]) * as.numeric(wghts[cols]))\n",
    "    valdat_wghts <- as.data.frame(df2, row.names=rownames(valdat))\n",
    "    colnames(valdat_wghts) <- cols\n",
    "    \n",
    "    \n",
    "    #############################\n",
    "    # Construct k-means model.\n",
    "\n",
    "    kmod <- suppressWarnings(kmeans(traindat_wghts, 2, iter.max = 50, nstart=15))\n",
    "    \n",
    "    # See how the clusters are associated with Outcome.\n",
    "    dfout <- as.data.frame(cbind(traindat$Outcome, kmod$cluster),\n",
    "                           row.names=rownames(traindat))\n",
    "    colnames(dfout) <- c(\"Outcome\", \"cluster\")\n",
    "\n",
    "    c1_to_Outcome1 <- c1_toLevel_1(dfout)\n",
    "    \n",
    "    #############################\n",
    "    # Apply the k-means model to valdat_wghts.\n",
    "    \n",
    "    # Each element of the following list is a row of valdat_wghts.\n",
    "    valdat_asList <- split(valdat_wghts[, colnames(kmod$centers)],\n",
    "                           seq(nrow(valdat_wghts)))\n",
    "    \n",
    "    ctr_list <- vector(\"list\", length= nrow(valdat))\n",
    "    for(i in 1:nrow(valdat)) {\n",
    "        \n",
    "        ctr_list[[i]] <- kmod$centers\n",
    "    }\n",
    "    names(ctr_list) <- rownames(valdat)\n",
    "    \n",
    "    \n",
    "    # Get the predictions for the validation set.\n",
    "    cluster_assgns <- mcmapply(getCluster, valdat_asList, ctr_list,\n",
    "                               SIMPLIFY=TRUE, mc.cores=6)\n",
    "    valdat_wghts$cluster <- as.numeric(cluster_assgns)\n",
    "    \n",
    "    valdat_wghts$pred_Outcome <- NA\n",
    "    if(c1_to_Outcome1) {\n",
    "        valdat_wghts[which(valdat_wghts$cluster==1),]$pred_Outcome <- 1\n",
    "        valdat_wghts[which(valdat_wghts$cluster==2),]$pred_Outcome <- 0\n",
    "    } else {\n",
    "        valdat_wghts[which(valdat_wghts$cluster==1),]$pred_Outcome <- 0\n",
    "        valdat_wghts[which(valdat_wghts$cluster==2),]$pred_Outcome <- 1\n",
    "    }\n",
    "    \n",
    "    # Generate confusion matrix for the k-means clusters and\n",
    "    # the corresponding f-score.\n",
    "    preds <- as.factor(valdat_wghts$pred_Outcome)\n",
    "    names(preds) <- rownames(valdat)\n",
    "    ans <- get_confusion(preds, valdat[, \"Outcome\", drop=FALSE])\n",
    "\n",
    "    # The result returned is a Type2 score (which is a mixture\n",
    "    # of accuracy and f-score).\n",
    "    mat <- as.matrix(ans[[1]])\n",
    "    acc <- sum(diag(mat))/floor(sum(mat))\n",
    "    result <- round((0.4 * acc + 0.6 * ans[[2]]), 6)\n",
    "    return(result)\n",
    "}\n"
   ]
  },
  {
   "cell_type": "code",
   "execution_count": 90,
   "metadata": {},
   "outputs": [],
   "source": [
    "# Function to obtain a cross-validation Type2 score for the \n",
    "# base k-means model + weights, averaging the scores of the folds.  \n",
    "# This function is called from compute_cvScore_kmBaseWghts.\n",
    "\n",
    "get_cvScore_kmBaseWghts <- function(seed, dat, folds= 5) {\n",
    "    \n",
    "    # divide dat by the number of folds \n",
    "    segment_size <- round(nrow(dat)/folds)\n",
    "    diff <- nrow(dat) - folds * segment_size\n",
    "    last_seg_size <- segment_size + diff\n",
    "    segmentsv <- c(rep(segment_size, (folds - 1)), last_seg_size)\n",
    "    stopifnot(sum(segmentsv) == nrow(dat))\n",
    "    \n",
    "    # shuffle dat\n",
    "    set.seed(seed)\n",
    "    smp <- sample(rownames(dat), nrow(dat), replace= FALSE)\n",
    "    dat <- dat[smp,]\n",
    "    \n",
    "    # split the data into the folds\n",
    "    row_list <- vector(\"list\", length= folds)\n",
    "    names(row_list) <- as.character(1:folds)\n",
    "    startpt <- 1\n",
    "    for(i in 1:folds) {\n",
    "        endpt <- startpt + segmentsv[i] - 1\n",
    "        stopifnot(endpt <= dim(dat)[1])\n",
    "        row_list[[i]] <- rownames(dat)[startpt:endpt]\n",
    "        startpt <- endpt + 1\n",
    "    }\n",
    "    \n",
    "    train_list <- test_list <- vector(\"list\", length= folds)\n",
    "    for(j in 1:folds) {\n",
    "        testdat <- dat[row_list[[j]],]\n",
    "        traindat <- dat[which(!(rownames(dat) %in% rownames(testdat))),]\n",
    "        stopifnot((length(rownames(traindat)) + length(rownames(testdat))) == dim(dat)[1])\n",
    "        test_list[[j]] <- testdat\n",
    "        train_list[[j]] <- traindat\n",
    "    }\n",
    "\n",
    "    scores <- mcmapply(get_Type2_kmBaseWghts, train_list, test_list,\n",
    "                       SIMPLIFY= TRUE, mc.cores=5)\n",
    "    return(round(mean(scores), 5))\n",
    "}\n"
   ]
  },
  {
   "cell_type": "code",
   "execution_count": 91,
   "metadata": {},
   "outputs": [],
   "source": [
    "# Function to get a cross-val Type2 score over many \n",
    "# folds for the k-means base model + weights.\n",
    "\n",
    "compute_cvScore_kmBaseWghts <- function(seedv, dat) {\n",
    "    \n",
    "    seedv_len <- length(seedv)\n",
    "    result <- rep(NA, length=seedv_len)\n",
    "    names(result) <- as.character(seedv)\n",
    "    \n",
    "    for(i in 1:seedv_len) {\n",
    "        cur.seed <- seedv[i]\n",
    "        # For each seed in seedv, compute a cross-val\n",
    "        # Type2 score.\n",
    "        result[i] <- get_cvScore_kmBaseWghts(cur.seed, dat)\n",
    "    }\n",
    "    ans <- round(mean(result, na.rm=TRUE), 4)\n",
    "    return(ans)\n",
    "}\n"
   ]
  },
  {
   "cell_type": "code",
   "execution_count": 94,
   "metadata": {},
   "outputs": [
    {
     "data": {
      "text/html": [
       "'Start time: 2021-05-24 13:19:35'"
      ],
      "text/latex": [
       "'Start time: 2021-05-24 13:19:35'"
      ],
      "text/markdown": [
       "'Start time: 2021-05-24 13:19:35'"
      ],
      "text/plain": [
       "[1] \"Start time: 2021-05-24 13:19:35\""
      ]
     },
     "metadata": {},
     "output_type": "display_data"
    },
    {
     "data": {
      "text/plain": [
       "Time difference of 3.79 mins"
      ]
     },
     "metadata": {},
     "output_type": "display_data"
    },
    {
     "data": {
      "text/html": [
       "'Cross-val Type2 score for k-means base model + wghts: 0.6602'"
      ],
      "text/latex": [
       "'Cross-val Type2 score for k-means base model + wghts: 0.6602'"
      ],
      "text/markdown": [
       "'Cross-val Type2 score for k-means base model + wghts: 0.6602'"
      ],
      "text/plain": [
       "[1] \"Cross-val Type2 score for k-means base model + wghts: 0.6602\""
      ]
     },
     "metadata": {},
     "output_type": "display_data"
    }
   ],
   "source": [
    "# Compute a cross-val Type2 score over 5000 folds.\n",
    "\n",
    "set.seed(1931)\n",
    "seedv <- sample(1:9999, 1000, replace=FALSE)\n",
    "\n",
    "start <- Sys.time()\n",
    "paste(\"Start time: \", start, sep=\"\")\n",
    "ans <- compute_cvScore_kmBaseWghts(seedv, dat)\n",
    "stop <- Sys.time()\n",
    "round(stop - start, 2)\n",
    "# Time difference of 4.54 mins\n",
    "\n",
    "paste0(\"Cross-val Type2 score for k-means base model + wghts: \", as.character(ans))\n",
    "# \n"
   ]
  },
  {
   "cell_type": "code",
   "execution_count": null,
   "metadata": {},
   "outputs": [],
   "source": [
    "### COMMENTS:\n",
    "\n",
    "# The base k-means model works best with weights.\n",
    "# With weights, we have a cross-validation Type2 score,\n",
    "# averaged over 5000 folds, of 0.6602.  This is the\n",
    "# same Type2 cross-val score that we saw for the svm02\n",
    "# model.\n",
    "\n",
    "# Without the weights, the Type2 cross-val score for\n",
    "# the base k-means model was 0.6532.  So the weights\n",
    "# yielded a gain of 0.0070 in the Type2 score.\n",
    "\n",
    "# The Type2 cross-val score for the hybrid model with\n",
    "# weights and the prob01 column constructed from svm02\n",
    "# was 0.6580.\n"
   ]
  },
  {
   "cell_type": "markdown",
   "metadata": {},
   "source": [
    "## Section 3 Comments "
   ]
  },
  {
   "cell_type": "markdown",
   "metadata": {},
   "source": [
    "When computed over 1000 seeds (5000 folds):\n",
    "\n",
    "(1) base k-means + weights has a Type2 of 0.6602\n",
    "\n",
    "(2) k-means + prob01 + weights has a Type2 of 0.6580\n",
    "\n",
    "(3) svm02 has a Type2 of 0.6602.\n",
    "\n",
    "\n",
    "The aim, of course, is to find a hybrid model with a Type2 cross-val score greater than 0.6602.\n",
    "\n",
    "\n",
    "                                  * * * * * "
   ]
  },
  {
   "cell_type": "markdown",
   "metadata": {},
   "source": [
    "# Section 4: Construct hybrid model with 2 probability columns"
   ]
  },
  {
   "cell_type": "markdown",
   "metadata": {},
   "source": [
    "As in Part 1, I will use gbclf_best for the prob02 probabilities."
   ]
  },
  {
   "cell_type": "code",
   "execution_count": 107,
   "metadata": {},
   "outputs": [],
   "source": [
    "# Function for obtaining average of confusion matrix \n",
    "# f-score and percent correctly answered. This function\n",
    "# is called from gridSearch06.\n",
    "\n",
    "get_cvScore_kmp1p2 <- function(traindat, valdat, wghts) {\n",
    "    \n",
    "    # wghts is a named vector of weights to apply.  The names, and\n",
    "    # order of the weights, correspond to the colnames of traindat\n",
    "    # below.  (Here the names are: AST, CK, Daysrec, and prob01.)\n",
    "    \n",
    "    set.seed(123)\n",
    "    gbmod <- gbm(Outcome ~ ., data= traindat, n.trees= 100,\n",
    "                  distribution= \"bernoulli\", shrinkage= 0.03)\n",
    "    preds02 <- suppressMessages(predict(gbmod, newdata= traindat, type=\"response\"))\n",
    "    \n",
    "    # Scale traindat for purpose of an svm model.\n",
    "    svm_scaled <- scale(traindat[, -1])\n",
    "    svm_centers <- attr(svm_scaled, \"scaled:center\")\n",
    "    svm_scales <- attr(svm_scaled, \"scaled:scale\")\n",
    "    svm_scaled <- as.data.frame(cbind(traindat$Outcome, svm_scaled),\n",
    "                                row.names=rownames(traindat))\n",
    "    colnames(svm_scaled) <- colnames(traindat)\n",
    "    \n",
    "    # This is our current best svm model for the trainset data\n",
    "    svmod <- svm(I(as.factor(Outcome)) ~ ., data=svm_scaled, kernel=\"radial\",\n",
    "                 gamma= 0.008, cost= 20, scale=FALSE, probability=TRUE)\n",
    "    \n",
    "    preds01 <- predict(svmod, newdata=svm_scaled, probability=TRUE)\n",
    "    traindat$prob01 <- as.numeric(attr(preds01, \"probabilities\")[, 2])\n",
    "    traindat$prob02 <- as.numeric(preds02)\n",
    "    \n",
    "    \n",
    "    #############################\n",
    "    # Transform and scale training set data for the\n",
    "    # k-means model.\n",
    "    traindat$AST <- log(traindat$AST)\n",
    "    traindat$CK <- log(traindat$CK)\n",
    "    traindat$Daysrec <- sqrt(traindat$Daysrec)\n",
    "\n",
    "    traindat_scaled <- scale(traindat[, -1], center=TRUE, scale=TRUE)\n",
    "    centers <- attr(traindat_scaled, \"scaled:center\")\n",
    "    scales <- attr(traindat_scaled, \"scaled:scale\")\n",
    "    \n",
    "    #############################\n",
    "    # Apply weights to traindat.  The sqrt should have\n",
    "    # been taken in the calling function.\n",
    "    \n",
    "    cols <- names(wghts)\n",
    "    df2 <- t(t(traindat_scaled[, cols]) * as.numeric(wghts[cols]))\n",
    "    traindat_wghts <- as.data.frame(df2, row.names=rownames(traindat))\n",
    "    colnames(traindat_wghts) <- cols\n",
    "       \n",
    "    #############################\n",
    "    # Prepare valdat for svm modeling.\n",
    "    \n",
    "    svmval_scaled <- scale(valdat[, -1], center=svm_centers, scale=svm_scales)\n",
    "    svmval_scaled <- as.data.frame(cbind(valdat$Outcome, svmval_scaled),\n",
    "                                   row.names=rownames(valdat))\n",
    "    colnames(svmval_scaled) <- colnames(valdat)\n",
    "    \n",
    "    # Compute prob01 and prob02.\n",
    "    preds01_b <- predict(svmod, newdata=svmval_scaled, probability=TRUE)\n",
    "    preds02_b <- suppressMessages(predict(gbmod, newdata= valdat, type=\"response\"))\n",
    "    valdat$prob01 <- as.numeric(attr(preds01_b, \"probabilities\")[, 2])\n",
    "    valdat$prob02 <- as.numeric(preds02_b)\n",
    "    \n",
    "    # Transform and scale valdat.\n",
    "    valdat$AST <- log(valdat$AST)\n",
    "    valdat$CK <- log(valdat$CK)\n",
    "    valdat$Daysrec <- sqrt(valdat$Daysrec)\n",
    "\n",
    "    valdat_scaled <- scale(valdat[, -1], center=centers, scale=scales)\n",
    "    valdat_scaled <- as.data.frame(valdat_scaled, row.names=rownames(valdat))\n",
    "    \n",
    "    # Apply weights to valdat.  (We want valdat to look exactly like\n",
    "    # traindat.  The weights act as a transformation of the data.)\n",
    "    df2 <- t(t(valdat_scaled[, cols]) * as.numeric(wghts[cols]))\n",
    "    valdat_wghts <- as.data.frame(df2, row.names=rownames(valdat))\n",
    "    colnames(valdat_wghts) <- cols\n",
    "    \n",
    "    \n",
    "    #############################\n",
    "    # Construct k-means model.\n",
    "    \n",
    "    kmod <- suppressWarnings(kmeans(traindat_wghts, 2, iter.max = 50, nstart=15))\n",
    "    \n",
    "    # See how the clusters are associated with Outcome.\n",
    "    dfout <- as.data.frame(cbind(traindat$Outcome, kmod$cluster),\n",
    "                           row.names=rownames(traindat))\n",
    "    colnames(dfout) <- c(\"Outcome\", \"cluster\")\n",
    "    \n",
    "    c1_to_Outcome1 <- c1_toLevel_1(dfout)\n",
    "    \n",
    "    #############################\n",
    "    # Apply the k-means model to valdat_wghts.\n",
    "    \n",
    "    # Each element of the following list is a row of valdat_wghts.\n",
    "    valdat_asList <- split(valdat_wghts[, colnames(kmod$centers)],\n",
    "                           seq(nrow(valdat_wghts)))\n",
    "    \n",
    "    ctr_list <- vector(\"list\", length= nrow(valdat))\n",
    "    for(i in 1:nrow(valdat)) {\n",
    "        \n",
    "        ctr_list[[i]] <- kmod$centers\n",
    "    }\n",
    "    names(ctr_list) <- rownames(valdat_wghts)\n",
    "    \n",
    "    \n",
    "    # Get the predictions for the validation set.\n",
    "    cluster_assgns <- mcmapply(getCluster, valdat_asList, ctr_list,\n",
    "                      SIMPLIFY=TRUE, mc.cores=6)\n",
    "    \n",
    "    valdat_wghts$cluster <- as.numeric(cluster_assgns)\n",
    "    \n",
    "    valdat_wghts$pred_Outcome <- NA\n",
    "    if(c1_to_Outcome1) {\n",
    "        valdat_wghts[which(valdat_wghts$cluster==1),]$pred_Outcome <- 1\n",
    "        valdat_wghts[which(valdat_wghts$cluster==2),]$pred_Outcome <- 0\n",
    "    } else {\n",
    "        valdat_wghts[which(valdat_wghts$cluster==1),]$pred_Outcome <- 0\n",
    "        valdat_wghts[which(valdat_wghts$cluster==2),]$pred_Outcome <- 1\n",
    "    }\n",
    "    \n",
    "    # Generate confusion matrix for the k-means clusters and\n",
    "    # the corresponding f-score.\n",
    "    preds <- as.factor(valdat_wghts$pred_Outcome)\n",
    "    names(preds) <- rownames(valdat)\n",
    "    ans <- get_confusion(preds, valdat[, \"Outcome\", drop=FALSE])\n",
    "\n",
    "    # The result returned is a Type2 score (which is a mixture\n",
    "    # of accuracy and f-score).\n",
    "    mat <- as.matrix(ans[[1]])\n",
    "    percent_correct <- sum(diag(mat))/floor(sum(mat))\n",
    "    result <- round((0.4 * percent_correct + 0.6 * ans[[2]]), 6)\n",
    "    return(result)\n",
    "}\n"
   ]
  },
  {
   "cell_type": "markdown",
   "metadata": {},
   "source": [
    "### Search for the best set of weights: hybrid model with prob01, prob02"
   ]
  },
  {
   "cell_type": "code",
   "execution_count": 19,
   "metadata": {},
   "outputs": [
    {
     "data": {
      "text/html": [
       "<style>\n",
       ".list-inline {list-style: none; margin:0; padding: 0}\n",
       ".list-inline>li {display: inline-block}\n",
       ".list-inline>li:not(:last-child)::after {content: \"\\00b7\"; padding: 0 .5ex}\n",
       "</style>\n",
       "<ol class=list-inline><li>1451</li><li>5</li></ol>\n"
      ],
      "text/latex": [
       "\\begin{enumerate*}\n",
       "\\item 1451\n",
       "\\item 5\n",
       "\\end{enumerate*}\n"
      ],
      "text/markdown": [
       "1. 1451\n",
       "2. 5\n",
       "\n",
       "\n"
      ],
      "text/plain": [
       "[1] 1451    5"
      ]
     },
     "metadata": {},
     "output_type": "display_data"
    }
   ],
   "source": [
    "# There are 5 parameter lists to work with.  Again, the\n",
    "# best approach, perhaps, is to start by exploring the \n",
    "# region around the space where all parameters have an \n",
    "# equal weight---in this case, a weight of 0.20.\n",
    "\n",
    "lst <- vector(\"list\", length= 5)\n",
    "names(lst) <- c(\"AST\",\"CK\",\"Daysrec\",\"prob01\",\"prob02\")\n",
    "\n",
    "lst[[1]] <- lst[[2]] <- lst[[3]] <- lst[[4]] <- lst[[5]] <- seq(0.14, 0.26, by=0.02)\n",
    "\n",
    "start <- Sys.time()\n",
    "dfc01 <- generate_combs(lst)\n",
    "stop <- Sys.time()\n",
    "# round(stop - start, 2)\n",
    "\n",
    "dim(dfc01)\n",
    "#  1451     5\n"
   ]
  },
  {
   "cell_type": "code",
   "execution_count": null,
   "metadata": {},
   "outputs": [],
   "source": [
    "# Test on a sample of 10.\n",
    "\n",
    "set.seed(42)\n",
    "smp <- sample(rownames(dfc01), 10, replace=FALSE)\n",
    "tst_params <- dfc01[smp,]\n",
    "head(tst_params)\n"
   ]
  },
  {
   "cell_type": "code",
   "execution_count": null,
   "metadata": {},
   "outputs": [],
   "source": [
    "# Find the best weights of those in tst_params.\n",
    "\n",
    "set.seed(1233)\n",
    "seed_vector <- sample(1:9999, 11, replace=FALSE)\n",
    "\n",
    "start <- Sys.time()\n",
    "dat_result <- gridSearch06(seed_vector, dat, tst_params) \n",
    "stop <- Sys.time()\n",
    "round(stop - start, 2)\n",
    "# Time difference of 27 secs (for 10 rows)\n"
   ]
  },
  {
   "cell_type": "code",
   "execution_count": null,
   "metadata": {},
   "outputs": [],
   "source": [
    "best_params <- dat_result[which(dat_result$Type2 == \n",
    "                                max(dat_result$Type2, na.rm=TRUE)),]$row\n",
    "length(best_params)\n",
    "\n",
    "best_Type2 <- dat_result[which(dat_result$Type2 == \n",
    "                                max(dat_result$Type2, na.rm=TRUE)),]$Type2\n"
   ]
  },
  {
   "cell_type": "code",
   "execution_count": null,
   "metadata": {},
   "outputs": [],
   "source": [
    "dfc01[best_params,]\n",
    "\n",
    "best_Type2\n"
   ]
  },
  {
   "cell_type": "code",
   "execution_count": 25,
   "metadata": {},
   "outputs": [
    {
     "data": {
      "text/html": [
       "'Start time: 2021-04-13 07:06:37'"
      ],
      "text/latex": [
       "'Start time: 2021-04-13 07:06:37'"
      ],
      "text/markdown": [
       "'Start time: 2021-04-13 07:06:37'"
      ],
      "text/plain": [
       "[1] \"Start time: 2021-04-13 07:06:37\""
      ]
     },
     "metadata": {},
     "output_type": "display_data"
    },
    {
     "data": {
      "text/plain": [
       "Time difference of 1.08 hours"
      ]
     },
     "metadata": {},
     "output_type": "display_data"
    }
   ],
   "source": [
    "# Find the best weights of those in dfc01 (1451 rows,\n",
    "# 11 seeds, 5 folds).\n",
    "\n",
    "set.seed(1233)\n",
    "seed_vector <- sample(1:9999, 11, replace=FALSE)\n",
    "\n",
    "start <- Sys.time()\n",
    "paste(\"Start time: \", start, sep=\"\")\n",
    "dat_result <- gridSearch06(seed_vector, dat, dfc01) \n",
    "stop <- Sys.time()\n",
    "round(stop - start, 2)\n",
    "# Time difference of 1.08 hours\n"
   ]
  },
  {
   "cell_type": "code",
   "execution_count": 26,
   "metadata": {},
   "outputs": [
    {
     "data": {
      "text/html": [
       "1"
      ],
      "text/latex": [
       "1"
      ],
      "text/markdown": [
       "1"
      ],
      "text/plain": [
       "[1] 1"
      ]
     },
     "metadata": {},
     "output_type": "display_data"
    }
   ],
   "source": [
    "best_params <- dat_result[which(dat_result$Type2 == \n",
    "                                max(dat_result$Type2, na.rm=TRUE)),]$row\n",
    "length(best_params)\n",
    "\n",
    "best_Type2 <- dat_result[which(dat_result$Type2 == \n",
    "                                max(dat_result$Type2, na.rm=TRUE)),]$Type2\n"
   ]
  },
  {
   "cell_type": "code",
   "execution_count": 27,
   "metadata": {},
   "outputs": [
    {
     "data": {
      "text/html": [
       "<table>\n",
       "<caption>A data.frame: 1 × 5</caption>\n",
       "<thead>\n",
       "\t<tr><th></th><th scope=col>AST</th><th scope=col>CK</th><th scope=col>Daysrec</th><th scope=col>prob01</th><th scope=col>prob02</th></tr>\n",
       "\t<tr><th></th><th scope=col>&lt;dbl&gt;</th><th scope=col>&lt;dbl&gt;</th><th scope=col>&lt;dbl&gt;</th><th scope=col>&lt;dbl&gt;</th><th scope=col>&lt;dbl&gt;</th></tr>\n",
       "</thead>\n",
       "<tbody>\n",
       "\t<tr><th scope=row>7162</th><td>0.14</td><td>0.16</td><td>0.26</td><td>0.26</td><td>0.18</td></tr>\n",
       "</tbody>\n",
       "</table>\n"
      ],
      "text/latex": [
       "A data.frame: 1 × 5\n",
       "\\begin{tabular}{r|lllll}\n",
       "  & AST & CK & Daysrec & prob01 & prob02\\\\\n",
       "  & <dbl> & <dbl> & <dbl> & <dbl> & <dbl>\\\\\n",
       "\\hline\n",
       "\t7162 & 0.14 & 0.16 & 0.26 & 0.26 & 0.18\\\\\n",
       "\\end{tabular}\n"
      ],
      "text/markdown": [
       "\n",
       "A data.frame: 1 × 5\n",
       "\n",
       "| <!--/--> | AST &lt;dbl&gt; | CK &lt;dbl&gt; | Daysrec &lt;dbl&gt; | prob01 &lt;dbl&gt; | prob02 &lt;dbl&gt; |\n",
       "|---|---|---|---|---|---|\n",
       "| 7162 | 0.14 | 0.16 | 0.26 | 0.26 | 0.18 |\n",
       "\n"
      ],
      "text/plain": [
       "     AST  CK   Daysrec prob01 prob02\n",
       "7162 0.14 0.16 0.26    0.26   0.18  "
      ]
     },
     "metadata": {},
     "output_type": "display_data"
    },
    {
     "data": {
      "text/html": [
       "0.64649"
      ],
      "text/latex": [
       "0.64649"
      ],
      "text/markdown": [
       "0.64649"
      ],
      "text/plain": [
       "[1] 0.64649"
      ]
     },
     "metadata": {},
     "output_type": "display_data"
    }
   ],
   "source": [
    "dfc01[best_params,]\n",
    "#   \t     AST \t  CK  \tDaysrec \tprob01  \tprob02\n",
    "\n",
    "# 7162  \t0.14 \t0.16\t   0.26 \t  0.26  \t  0.18\n",
    "\n",
    "\n",
    "best_Type2\n",
    "# 0.64649\n"
   ]
  },
  {
   "cell_type": "code",
   "execution_count": 28,
   "metadata": {},
   "outputs": [
    {
     "data": {
      "text/html": [
       "<style>\n",
       ".list-inline {list-style: none; margin:0; padding: 0}\n",
       ".list-inline>li {display: inline-block}\n",
       ".list-inline>li:not(:last-child)::after {content: \"\\00b7\"; padding: 0 .5ex}\n",
       "</style>\n",
       "<ol class=list-inline><li>780</li><li>5</li></ol>\n"
      ],
      "text/latex": [
       "\\begin{enumerate*}\n",
       "\\item 780\n",
       "\\item 5\n",
       "\\end{enumerate*}\n"
      ],
      "text/markdown": [
       "1. 780\n",
       "2. 5\n",
       "\n",
       "\n"
      ],
      "text/plain": [
       "[1] 780   5"
      ]
     },
     "metadata": {},
     "output_type": "display_data"
    }
   ],
   "source": [
    "# Refine the search.\n",
    "\n",
    "lst <- vector(\"list\", length= 5)\n",
    "names(lst) <- c(\"AST\",\"CK\",\"Daysrec\",\"prob01\",\"prob02\")\n",
    "\n",
    "lst[[1]] <- seq(0.08, 0.18, by= 0.02)\n",
    "lst[[2]] <- seq(0.10, 0.20, by= 0.02)\n",
    "lst[[3]] <- seq(0.22, 0.32, by= 0.02)\n",
    "lst[[4]] <- seq(0.22, 0.32, by=0.02)\n",
    "lst[[5]] <- seq(0.12, 0.22, by=0.02)\n",
    "\n",
    "start <- Sys.time()\n",
    "dfc02 <- generate_combs(lst)\n",
    "stop <- Sys.time()\n",
    "# round(stop - start, 2)\n",
    "\n",
    "dim(dfc02)\n",
    "#  780     5\n"
   ]
  },
  {
   "cell_type": "code",
   "execution_count": 29,
   "metadata": {},
   "outputs": [],
   "source": [
    "# Add no weights to the combinations.  This will \n",
    "# tell us whether using weights is better than not\n",
    "# using weights.  \n",
    "\n",
    "dfc02 <- rbind(dfc02, rep(1,5))\n"
   ]
  },
  {
   "cell_type": "code",
   "execution_count": 31,
   "metadata": {},
   "outputs": [
    {
     "data": {
      "text/html": [
       "'Start time: 2021-04-13 08:24:51'"
      ],
      "text/latex": [
       "'Start time: 2021-04-13 08:24:51'"
      ],
      "text/markdown": [
       "'Start time: 2021-04-13 08:24:51'"
      ],
      "text/plain": [
       "[1] \"Start time: 2021-04-13 08:24:51\""
      ]
     },
     "metadata": {},
     "output_type": "display_data"
    },
    {
     "data": {
      "text/plain": [
       "Time difference of 34.79 mins"
      ]
     },
     "metadata": {},
     "output_type": "display_data"
    }
   ],
   "source": [
    "# Find the best weights of those in dfc02 (781 rows,\n",
    "# 11 seeds, 5 folds).\n",
    "\n",
    "set.seed(1233)\n",
    "seed_vector <- sample(1:9999, 11, replace=FALSE)\n",
    "\n",
    "start <- Sys.time()\n",
    "paste(\"Start time: \", start, sep=\"\")\n",
    "dat_result <- gridSearch06(seed_vector, dat, dfc02) \n",
    "stop <- Sys.time()\n",
    "round(stop - start, 2)\n",
    "# Time difference of 34.79 mins\n"
   ]
  },
  {
   "cell_type": "code",
   "execution_count": 32,
   "metadata": {},
   "outputs": [
    {
     "data": {
      "text/html": [
       "1"
      ],
      "text/latex": [
       "1"
      ],
      "text/markdown": [
       "1"
      ],
      "text/plain": [
       "[1] 1"
      ]
     },
     "metadata": {},
     "output_type": "display_data"
    }
   ],
   "source": [
    "best_params <- dat_result[which(dat_result$Type2 == \n",
    "                                max(dat_result$Type2, na.rm=TRUE)),]$row\n",
    "length(best_params)\n",
    "\n",
    "best_Type2 <- dat_result[which(dat_result$Type2 == \n",
    "                                max(dat_result$Type2, na.rm=TRUE)),]$Type2\n"
   ]
  },
  {
   "cell_type": "code",
   "execution_count": 33,
   "metadata": {},
   "outputs": [
    {
     "data": {
      "text/html": [
       "<table>\n",
       "<caption>A data.frame: 1 × 5</caption>\n",
       "<thead>\n",
       "\t<tr><th></th><th scope=col>AST</th><th scope=col>CK</th><th scope=col>Daysrec</th><th scope=col>prob01</th><th scope=col>prob02</th></tr>\n",
       "\t<tr><th></th><th scope=col>&lt;dbl&gt;</th><th scope=col>&lt;dbl&gt;</th><th scope=col>&lt;dbl&gt;</th><th scope=col>&lt;dbl&gt;</th><th scope=col>&lt;dbl&gt;</th></tr>\n",
       "</thead>\n",
       "<tbody>\n",
       "\t<tr><th scope=row>824</th><td>0.1</td><td>0.2</td><td>0.3</td><td>0.28</td><td>0.12</td></tr>\n",
       "</tbody>\n",
       "</table>\n"
      ],
      "text/latex": [
       "A data.frame: 1 × 5\n",
       "\\begin{tabular}{r|lllll}\n",
       "  & AST & CK & Daysrec & prob01 & prob02\\\\\n",
       "  & <dbl> & <dbl> & <dbl> & <dbl> & <dbl>\\\\\n",
       "\\hline\n",
       "\t824 & 0.1 & 0.2 & 0.3 & 0.28 & 0.12\\\\\n",
       "\\end{tabular}\n"
      ],
      "text/markdown": [
       "\n",
       "A data.frame: 1 × 5\n",
       "\n",
       "| <!--/--> | AST &lt;dbl&gt; | CK &lt;dbl&gt; | Daysrec &lt;dbl&gt; | prob01 &lt;dbl&gt; | prob02 &lt;dbl&gt; |\n",
       "|---|---|---|---|---|---|\n",
       "| 824 | 0.1 | 0.2 | 0.3 | 0.28 | 0.12 |\n",
       "\n"
      ],
      "text/plain": [
       "    AST CK  Daysrec prob01 prob02\n",
       "824 0.1 0.2 0.3     0.28   0.12  "
      ]
     },
     "metadata": {},
     "output_type": "display_data"
    },
    {
     "data": {
      "text/html": [
       "0.65227"
      ],
      "text/latex": [
       "0.65227"
      ],
      "text/markdown": [
       "0.65227"
      ],
      "text/plain": [
       "[1] 0.65227"
      ]
     },
     "metadata": {},
     "output_type": "display_data"
    }
   ],
   "source": [
    "dfc02[best_params,]\n",
    "#       \t AST \t  CK  \tDaysrec \tprob01  \tprob02\n",
    "\n",
    "#  824  \t0.10 \t0.20\t   0.30 \t  0.28  \t  0.12\n",
    "\n",
    "best_Type2\n",
    "# 0.65227\n"
   ]
  },
  {
   "cell_type": "code",
   "execution_count": 35,
   "metadata": {},
   "outputs": [
    {
     "data": {
      "text/html": [
       "<style>\n",
       ".list-inline {list-style: none; margin:0; padding: 0}\n",
       ".list-inline>li {display: inline-block}\n",
       ".list-inline>li:not(:last-child)::after {content: \"\\00b7\"; padding: 0 .5ex}\n",
       "</style>\n",
       "<ol class=list-inline><li>578</li><li>5</li></ol>\n"
      ],
      "text/latex": [
       "\\begin{enumerate*}\n",
       "\\item 578\n",
       "\\item 5\n",
       "\\end{enumerate*}\n"
      ],
      "text/markdown": [
       "1. 578\n",
       "2. 5\n",
       "\n",
       "\n"
      ],
      "text/plain": [
       "[1] 578   5"
      ]
     },
     "metadata": {},
     "output_type": "display_data"
    }
   ],
   "source": [
    "# Refine the search.\n",
    "\n",
    "lst <- vector(\"list\", length= 5)\n",
    "names(lst) <- c(\"AST\",\"CK\",\"Daysrec\",\"prob01\",\"prob02\")\n",
    "\n",
    "lst[[1]] <- seq(0.07, 0.12, by= 0.01)\n",
    "lst[[2]] <- seq(0.18, 0.22, by= 0.01)\n",
    "lst[[3]] <- seq(0.28, 0.33, by= 0.01)\n",
    "lst[[4]] <- seq(0.26, 0.31, by=0.01)\n",
    "lst[[5]] <- seq(0.09, 0.13, by=0.01)\n",
    "\n",
    "start <- Sys.time()\n",
    "dfc03 <- generate_combs(lst)\n",
    "stop <- Sys.time()\n",
    "# round(stop - start, 2)\n",
    "\n",
    "dim(dfc03)\n",
    "#  578     5\n"
   ]
  },
  {
   "cell_type": "code",
   "execution_count": 36,
   "metadata": {},
   "outputs": [
    {
     "data": {
      "text/html": [
       "'Start time: 2021-04-13 09:10:13'"
      ],
      "text/latex": [
       "'Start time: 2021-04-13 09:10:13'"
      ],
      "text/markdown": [
       "'Start time: 2021-04-13 09:10:13'"
      ],
      "text/plain": [
       "[1] \"Start time: 2021-04-13 09:10:13\""
      ]
     },
     "metadata": {},
     "output_type": "display_data"
    },
    {
     "data": {
      "text/plain": [
       "Time difference of 30.09 mins"
      ]
     },
     "metadata": {},
     "output_type": "display_data"
    }
   ],
   "source": [
    "# Find the best weights of those in dfc02 (578 rows,\n",
    "# 11 seeds, 5 folds).\n",
    "\n",
    "set.seed(1233)\n",
    "seed_vector <- sample(1:9999, 11, replace=FALSE)\n",
    "\n",
    "start <- Sys.time()\n",
    "paste(\"Start time: \", start, sep=\"\")\n",
    "dat_result <- gridSearch06(seed_vector, dat, dfc03) \n",
    "stop <- Sys.time()\n",
    "round(stop - start, 2)\n",
    "# Time difference of 30 mins\n"
   ]
  },
  {
   "cell_type": "code",
   "execution_count": 37,
   "metadata": {},
   "outputs": [
    {
     "data": {
      "text/html": [
       "1"
      ],
      "text/latex": [
       "1"
      ],
      "text/markdown": [
       "1"
      ],
      "text/plain": [
       "[1] 1"
      ]
     },
     "metadata": {},
     "output_type": "display_data"
    }
   ],
   "source": [
    "best_params <- dat_result[which(dat_result$Type2 == \n",
    "                                max(dat_result$Type2, na.rm=TRUE)),]$row\n",
    "length(best_params)\n",
    "\n",
    "best_Type2 <- dat_result[which(dat_result$Type2 == \n",
    "                                max(dat_result$Type2, na.rm=TRUE)),]$Type2\n"
   ]
  },
  {
   "cell_type": "code",
   "execution_count": 38,
   "metadata": {},
   "outputs": [
    {
     "data": {
      "text/html": [
       "<table>\n",
       "<caption>A data.frame: 1 × 5</caption>\n",
       "<thead>\n",
       "\t<tr><th></th><th scope=col>AST</th><th scope=col>CK</th><th scope=col>Daysrec</th><th scope=col>prob01</th><th scope=col>prob02</th></tr>\n",
       "\t<tr><th></th><th scope=col>&lt;dbl&gt;</th><th scope=col>&lt;dbl&gt;</th><th scope=col>&lt;dbl&gt;</th><th scope=col>&lt;dbl&gt;</th><th scope=col>&lt;dbl&gt;</th></tr>\n",
       "</thead>\n",
       "<tbody>\n",
       "\t<tr><th scope=row>3415</th><td>0.07</td><td>0.22</td><td>0.33</td><td>0.26</td><td>0.12</td></tr>\n",
       "</tbody>\n",
       "</table>\n"
      ],
      "text/latex": [
       "A data.frame: 1 × 5\n",
       "\\begin{tabular}{r|lllll}\n",
       "  & AST & CK & Daysrec & prob01 & prob02\\\\\n",
       "  & <dbl> & <dbl> & <dbl> & <dbl> & <dbl>\\\\\n",
       "\\hline\n",
       "\t3415 & 0.07 & 0.22 & 0.33 & 0.26 & 0.12\\\\\n",
       "\\end{tabular}\n"
      ],
      "text/markdown": [
       "\n",
       "A data.frame: 1 × 5\n",
       "\n",
       "| <!--/--> | AST &lt;dbl&gt; | CK &lt;dbl&gt; | Daysrec &lt;dbl&gt; | prob01 &lt;dbl&gt; | prob02 &lt;dbl&gt; |\n",
       "|---|---|---|---|---|---|\n",
       "| 3415 | 0.07 | 0.22 | 0.33 | 0.26 | 0.12 |\n",
       "\n"
      ],
      "text/plain": [
       "     AST  CK   Daysrec prob01 prob02\n",
       "3415 0.07 0.22 0.33    0.26   0.12  "
      ]
     },
     "metadata": {},
     "output_type": "display_data"
    },
    {
     "data": {
      "text/html": [
       "0.65344"
      ],
      "text/latex": [
       "0.65344"
      ],
      "text/markdown": [
       "0.65344"
      ],
      "text/plain": [
       "[1] 0.65344"
      ]
     },
     "metadata": {},
     "output_type": "display_data"
    }
   ],
   "source": [
    "dfc03[best_params,]\n",
    "#       \t AST \t  CK  \tDaysrec \tprob01  \tprob02\n",
    "\n",
    "# 4461  \t0.07 \t0.22\t   0.33 \t  0.26  \t  0.12\n",
    "\n",
    "best_Type2\n",
    "# 0.65344\n"
   ]
  },
  {
   "cell_type": "code",
   "execution_count": 39,
   "metadata": {},
   "outputs": [
    {
     "data": {
      "text/html": [
       "<style>\n",
       ".list-inline {list-style: none; margin:0; padding: 0}\n",
       ".list-inline>li {display: inline-block}\n",
       ".list-inline>li:not(:last-child)::after {content: \"\\00b7\"; padding: 0 .5ex}\n",
       "</style>\n",
       "<ol class=list-inline><li>320</li><li>5</li></ol>\n"
      ],
      "text/latex": [
       "\\begin{enumerate*}\n",
       "\\item 320\n",
       "\\item 5\n",
       "\\end{enumerate*}\n"
      ],
      "text/markdown": [
       "1. 320\n",
       "2. 5\n",
       "\n",
       "\n"
      ],
      "text/plain": [
       "[1] 320   5"
      ]
     },
     "metadata": {},
     "output_type": "display_data"
    }
   ],
   "source": [
    "# Refine the search.\n",
    "\n",
    "lst <- vector(\"list\", length= 5)\n",
    "names(lst) <- c(\"AST\",\"CK\",\"Daysrec\",\"prob01\",\"prob02\")\n",
    "\n",
    "lst[[1]] <- seq(0.04, 0.08, by= 0.01)\n",
    "lst[[2]] <- seq(0.20, 0.24, by= 0.01)\n",
    "lst[[3]] <- seq(0.31, 0.35, by= 0.01)\n",
    "lst[[4]] <- seq(0.23, 0.27, by=0.01)\n",
    "lst[[5]] <- seq(0.10, 0.14, by=0.01)\n",
    "\n",
    "start <- Sys.time()\n",
    "dfc04 <- generate_combs(lst)\n",
    "stop <- Sys.time()\n",
    "# round(stop - start, 2)\n",
    "\n",
    "dim(dfc04)\n",
    "#  320     5\n"
   ]
  },
  {
   "cell_type": "code",
   "execution_count": 40,
   "metadata": {},
   "outputs": [
    {
     "data": {
      "text/html": [
       "'Start time: 2021-04-13 09:44:58'"
      ],
      "text/latex": [
       "'Start time: 2021-04-13 09:44:58'"
      ],
      "text/markdown": [
       "'Start time: 2021-04-13 09:44:58'"
      ],
      "text/plain": [
       "[1] \"Start time: 2021-04-13 09:44:58\""
      ]
     },
     "metadata": {},
     "output_type": "display_data"
    },
    {
     "data": {
      "text/plain": [
       "Time difference of 17.02 mins"
      ]
     },
     "metadata": {},
     "output_type": "display_data"
    }
   ],
   "source": [
    "# Find the best weights of those in dfc02 (320 rows,\n",
    "# 11 seeds, 5 folds).\n",
    "\n",
    "set.seed(42)\n",
    "seed_vector <- sample(1:9999, 11, replace=FALSE)\n",
    "\n",
    "start <- Sys.time()\n",
    "paste(\"Start time: \", start, sep=\"\")\n",
    "dat_result <- gridSearch06(seed_vector, dat, dfc04) \n",
    "stop <- Sys.time()\n",
    "round(stop - start, 2)\n",
    "# Time difference of 17.02 mins\n"
   ]
  },
  {
   "cell_type": "code",
   "execution_count": 41,
   "metadata": {},
   "outputs": [
    {
     "data": {
      "text/html": [
       "1"
      ],
      "text/latex": [
       "1"
      ],
      "text/markdown": [
       "1"
      ],
      "text/plain": [
       "[1] 1"
      ]
     },
     "metadata": {},
     "output_type": "display_data"
    }
   ],
   "source": [
    "best_params <- dat_result[which(dat_result$Type2 == \n",
    "                                max(dat_result$Type2, na.rm=TRUE)),]$row\n",
    "length(best_params)\n",
    "\n",
    "best_Type2 <- dat_result[which(dat_result$Type2 == \n",
    "                                max(dat_result$Type2, na.rm=TRUE)),]$Type2\n"
   ]
  },
  {
   "cell_type": "code",
   "execution_count": 42,
   "metadata": {},
   "outputs": [
    {
     "data": {
      "text/html": [
       "<table>\n",
       "<caption>A data.frame: 1 × 5</caption>\n",
       "<thead>\n",
       "\t<tr><th></th><th scope=col>AST</th><th scope=col>CK</th><th scope=col>Daysrec</th><th scope=col>prob01</th><th scope=col>prob02</th></tr>\n",
       "\t<tr><th></th><th scope=col>&lt;dbl&gt;</th><th scope=col>&lt;dbl&gt;</th><th scope=col>&lt;dbl&gt;</th><th scope=col>&lt;dbl&gt;</th><th scope=col>&lt;dbl&gt;</th></tr>\n",
       "</thead>\n",
       "<tbody>\n",
       "\t<tr><th scope=row>869</th><td>0.07</td><td>0.23</td><td>0.35</td><td>0.24</td><td>0.11</td></tr>\n",
       "</tbody>\n",
       "</table>\n"
      ],
      "text/latex": [
       "A data.frame: 1 × 5\n",
       "\\begin{tabular}{r|lllll}\n",
       "  & AST & CK & Daysrec & prob01 & prob02\\\\\n",
       "  & <dbl> & <dbl> & <dbl> & <dbl> & <dbl>\\\\\n",
       "\\hline\n",
       "\t869 & 0.07 & 0.23 & 0.35 & 0.24 & 0.11\\\\\n",
       "\\end{tabular}\n"
      ],
      "text/markdown": [
       "\n",
       "A data.frame: 1 × 5\n",
       "\n",
       "| <!--/--> | AST &lt;dbl&gt; | CK &lt;dbl&gt; | Daysrec &lt;dbl&gt; | prob01 &lt;dbl&gt; | prob02 &lt;dbl&gt; |\n",
       "|---|---|---|---|---|---|\n",
       "| 869 | 0.07 | 0.23 | 0.35 | 0.24 | 0.11 |\n",
       "\n"
      ],
      "text/plain": [
       "    AST  CK   Daysrec prob01 prob02\n",
       "869 0.07 0.23 0.35    0.24   0.11  "
      ]
     },
     "metadata": {},
     "output_type": "display_data"
    },
    {
     "data": {
      "text/html": [
       "0.65577"
      ],
      "text/latex": [
       "0.65577"
      ],
      "text/markdown": [
       "0.65577"
      ],
      "text/plain": [
       "[1] 0.65577"
      ]
     },
     "metadata": {},
     "output_type": "display_data"
    }
   ],
   "source": [
    "dfc04[best_params,]\n",
    "#       \t AST \t  CK  \tDaysrec \tprob01  \tprob02\n",
    "\n",
    "# 869   \t0.07 \t0.23\t   0.35 \t  0.24  \t  0.11\n",
    "\n",
    "best_Type2\n",
    "# 0.6558\n"
   ]
  },
  {
   "cell_type": "markdown",
   "metadata": {},
   "source": [
    "### Cross-val score for hybrid model (p1 + p2), 1000 seeds"
   ]
  },
  {
   "cell_type": "markdown",
   "metadata": {},
   "source": [
    "This is quick and dirty way to get a cross-val score.  It is not as good as the method I have been using because it does not allow for a deeper analysis of the distribution of values making up the final score.  To get that distribution, I would have to alter gridSearch06."
   ]
  },
  {
   "cell_type": "code",
   "execution_count": 95,
   "metadata": {},
   "outputs": [],
   "source": [
    "lst <- vector(\"list\", length= 5)\n",
    "names(lst) <- c(\"AST\",\"CK\",\"Daysrec\",\"prob01\",\"prob02\")\n",
    "\n",
    "lst[[1]] <- c(0.07)\n",
    "lst[[2]] <- c(0.23)\n",
    "lst[[3]] <- c(0.35)\n",
    "lst[[4]] <- c(0.24)\n",
    "lst[[5]] <- c(0.11)\n",
    "\n",
    "dfc06 <- generate_combs(lst)\n"
   ]
  },
  {
   "cell_type": "code",
   "execution_count": 109,
   "metadata": {},
   "outputs": [
    {
     "data": {
      "text/html": [
       "'Start time: 2021-05-24 14:12:20'"
      ],
      "text/latex": [
       "'Start time: 2021-05-24 14:12:20'"
      ],
      "text/markdown": [
       "'Start time: 2021-05-24 14:12:20'"
      ],
      "text/plain": [
       "[1] \"Start time: 2021-05-24 14:12:20\""
      ]
     },
     "metadata": {},
     "output_type": "display_data"
    },
    {
     "data": {
      "text/plain": [
       "Time difference of 5.21 mins"
      ]
     },
     "metadata": {},
     "output_type": "display_data"
    }
   ],
   "source": [
    "# Make sure gridSearch06 calls get_cvScore_kmp1p2.\n",
    "\n",
    "set.seed(42)\n",
    "seed_vector <- sample(1:9999, 1000, replace=FALSE)\n",
    "\n",
    "start <- Sys.time()\n",
    "paste(\"Start time: \", start, sep=\"\")\n",
    "dat_result <- gridSearch06(seed_vector, dat, dfc06) \n",
    "stop <- Sys.time()\n",
    "round(stop - start, 2)\n",
    "# Time difference of 5.21 mins\n"
   ]
  },
  {
   "cell_type": "code",
   "execution_count": 110,
   "metadata": {},
   "outputs": [
    {
     "data": {
      "text/html": [
       "<table class=\"dataframe\">\n",
       "<caption>A data.frame: 1 × 2</caption>\n",
       "<thead>\n",
       "\t<tr><th scope=col>row</th><th scope=col>Type2</th></tr>\n",
       "\t<tr><th scope=col>&lt;chr&gt;</th><th scope=col>&lt;dbl&gt;</th></tr>\n",
       "</thead>\n",
       "<tbody>\n",
       "\t<tr><td>1</td><td>0.6527</td></tr>\n",
       "</tbody>\n",
       "</table>\n"
      ],
      "text/latex": [
       "A data.frame: 1 × 2\n",
       "\\begin{tabular}{ll}\n",
       " row & Type2\\\\\n",
       " <chr> & <dbl>\\\\\n",
       "\\hline\n",
       "\t 1 & 0.6527\\\\\n",
       "\\end{tabular}\n"
      ],
      "text/markdown": [
       "\n",
       "A data.frame: 1 × 2\n",
       "\n",
       "| row &lt;chr&gt; | Type2 &lt;dbl&gt; |\n",
       "|---|---|\n",
       "| 1 | 0.6527 |\n",
       "\n"
      ],
      "text/plain": [
       "  row Type2 \n",
       "1 1   0.6527"
      ]
     },
     "metadata": {},
     "output_type": "display_data"
    }
   ],
   "source": [
    "dat_result\n",
    "# Type2 score of 0.6527\n"
   ]
  },
  {
   "cell_type": "markdown",
   "metadata": {},
   "source": [
    "## Section 4 Comments"
   ]
  },
  {
   "cell_type": "markdown",
   "metadata": {},
   "source": [
    "Adding a second probability column does not improve the model.  With our previous 1000-seed tests (base k-means model, svm02, and k-means with prob01), the cross-validation score was closer to 0.6600."
   ]
  },
  {
   "cell_type": "markdown",
   "metadata": {},
   "source": [
    "# Section 5: Get summary info for each model; use 1000 seeds"
   ]
  },
  {
   "cell_type": "code",
   "execution_count": 47,
   "metadata": {},
   "outputs": [],
   "source": [
    "# This function is called by get_cvInfo.  It returns a vector\n",
    "# of scores: f-score, accuracy, Type2, false negatives, and\n",
    "# false positives, in the stated order.  The scores are for\n",
    "# the hybrid k-means model with both probability columns.\n",
    "\n",
    "get_cvScores_kmp1p2 <- function(traindat, valdat) {\n",
    "    \n",
    "    set.seed(123)\n",
    "    gbmod <- gbm(Outcome ~ ., data= traindat, n.trees= 100,\n",
    "                  distribution= \"bernoulli\", shrinkage= 0.03)\n",
    "    preds02 <- suppressMessages(predict(gbmod, newdata= traindat, type=\"response\"))\n",
    "    \n",
    "    # Scale traindat for purpose of an svm model.\n",
    "    svm_scaled <- scale(traindat[, -1])\n",
    "    svm_centers <- attr(svm_scaled, \"scaled:center\")\n",
    "    svm_scales <- attr(svm_scaled, \"scaled:scale\")\n",
    "    svm_scaled <- as.data.frame(cbind(traindat$Outcome, svm_scaled),\n",
    "                                row.names=rownames(traindat))\n",
    "    colnames(svm_scaled) <- colnames(traindat)\n",
    "    \n",
    "    # This is our current best svm model for the trainset data\n",
    "    svmod <- svm(I(as.factor(Outcome)) ~ ., data=svm_scaled, kernel=\"radial\",\n",
    "                 gamma= 0.008, cost= 20, scale=FALSE, probability=TRUE)\n",
    "    \n",
    "    preds01 <- predict(svmod, newdata=svm_scaled, probability=TRUE)\n",
    "    traindat$prob01 <- as.numeric(attr(preds01, \"probabilities\")[, 2])\n",
    "    traindat$prob02 <- as.numeric(preds02)\n",
    "    \n",
    "    \n",
    "    #############################\n",
    "    # Transform and scale training set data for the\n",
    "    # k-means model.\n",
    "    traindat$AST <- log(traindat$AST)\n",
    "    traindat$CK <- log(traindat$CK)\n",
    "    traindat$Daysrec <- sqrt(traindat$Daysrec)\n",
    "\n",
    "    traindat_scaled <- scale(traindat[, -1], center=TRUE, scale=TRUE)\n",
    "    centers <- attr(traindat_scaled, \"scaled:center\")\n",
    "    scales <- attr(traindat_scaled, \"scaled:scale\")\n",
    "    \n",
    "    #############################\n",
    "    # Apply weights to traindat.\n",
    "    \n",
    "    wghts <- c(0.07, 0.23, 0.35, 0.24, 0.11)^0.5\n",
    "    names(wghts) <- cols <- c(\"AST\",\"CK\",\"Daysrec\",\"prob01\",\"prob02\")\n",
    "    \n",
    "    df2 <- t(t(traindat_scaled[, cols]) * as.numeric(wghts[cols]))\n",
    "    traindat_wghts <- as.data.frame(df2, row.names=rownames(traindat))\n",
    "    colnames(traindat_wghts) <- cols\n",
    "    \n",
    "       \n",
    "    #############################\n",
    "    # Prepare valdat for svm modeling.\n",
    "    \n",
    "    svmval_scaled <- scale(valdat[, -1], center=svm_centers, scale=svm_scales)\n",
    "    svmval_scaled <- as.data.frame(svmval_scaled, row.names=rownames(valdat))\n",
    "    \n",
    "    # Compute prob01 and prob02.\n",
    "    preds01_b <- predict(svmod, newdata=svmval_scaled, probability=TRUE)\n",
    "    preds02_b <- suppressMessages(predict(gbmod, newdata= valdat, type=\"response\"))\n",
    "    valdat$prob01 <- as.numeric(attr(preds01_b, \"probabilities\")[, 2])\n",
    "    valdat$prob02 <- as.numeric(preds02_b)\n",
    "    \n",
    "    # Transform and scale valdat.\n",
    "    valdat$AST <- log(valdat$AST)\n",
    "    valdat$CK <- log(valdat$CK)\n",
    "    valdat$Daysrec <- sqrt(valdat$Daysrec)\n",
    "\n",
    "    valdat_scaled <- scale(valdat[, -1], center=centers, scale=scales)\n",
    "    valdat_scaled <- as.data.frame(valdat_scaled, row.names=rownames(valdat))\n",
    "    \n",
    "    # Apply weights to valdat.\n",
    "    df2 <- t(t(valdat_scaled[, cols]) * as.numeric(wghts[cols]))\n",
    "    valdat_wghts <- as.data.frame(df2, row.names=rownames(valdat))\n",
    "    colnames(valdat_wghts) <- cols\n",
    "    \n",
    "    \n",
    "    #############################\n",
    "    # Construct k-means model.\n",
    "    \n",
    "    kmod <- suppressWarnings(kmeans(traindat_wghts, 2, iter.max = 50, nstart=15))\n",
    "    \n",
    "    # Map the clusters to Outcome levels.\n",
    "    dfout <- as.data.frame(cbind(traindat$Outcome, kmod$cluster),\n",
    "                           row.names=rownames(traindat))\n",
    "    colnames(dfout) <- c(\"Outcome\", \"cluster\")\n",
    "    \n",
    "    c1_to_Outcome1 <- c1_toLevel_1(dfout)\n",
    "    \n",
    "    #############################\n",
    "    # Apply the k-means model to valdat_wghts.\n",
    "    \n",
    "    # Each element of the following list is a row of valdat_wghts.\n",
    "    valdat_asList <- split(valdat_wghts[, colnames(kmod$centers)],\n",
    "                           seq(nrow(valdat_wghts)))\n",
    "    \n",
    "    ctr_list <- vector(\"list\", length= nrow(valdat))\n",
    "    for(i in 1:nrow(valdat)) {\n",
    "        \n",
    "        ctr_list[[i]] <- kmod$centers\n",
    "    }\n",
    "    names(ctr_list) <- rownames(valdat)\n",
    "    \n",
    "    \n",
    "    # Get the predictions for the validation set.\n",
    "    cluster_assgns <- mcmapply(getCluster, valdat_asList, ctr_list,\n",
    "                               SIMPLIFY=TRUE, mc.cores=6)\n",
    "    valdat_wghts$cluster <- as.numeric(cluster_assgns)\n",
    "    \n",
    "    valdat_wghts$pred_Outcome <- NA\n",
    "    if(c1_to_Outcome1) {\n",
    "        valdat_wghts[which(valdat_wghts$cluster==1),]$pred_Outcome <- 1\n",
    "        valdat_wghts[which(valdat_wghts$cluster==2),]$pred_Outcome <- 0\n",
    "    } else {\n",
    "        valdat_wghts[which(valdat_wghts$cluster==1),]$pred_Outcome <- 0\n",
    "        valdat_wghts[which(valdat_wghts$cluster==2),]$pred_Outcome <- 1\n",
    "    }\n",
    "    \n",
    "    # Generate confusion matrix for the k-means clusters and\n",
    "    # the corresponding f-score.\n",
    "    preds <- as.factor(valdat_wghts$pred_Outcome)\n",
    "    names(preds) <- rownames(valdat)\n",
    "    ans <- get_confusion(preds, valdat[, \"Outcome\", drop=FALSE])\n",
    "\n",
    "    mat <- as.matrix(ans[[1]])\n",
    "    fscore <- round(as.numeric(ans[[2]]), 4)\n",
    "    acc <- round(sum(diag(mat))/floor(sum(mat)), 4)\n",
    "    type2 <- round((0.4 * acc + 0.6 * ans[[2]]), 4)\n",
    "    FN <- as.numeric(mat[2,1])\n",
    "    FP <- as.numeric(mat[1,2])\n",
    "    return(c(fscore,acc,type2,FN,FP))\n",
    "}\n"
   ]
  },
  {
   "cell_type": "code",
   "execution_count": 106,
   "metadata": {},
   "outputs": [],
   "source": [
    "# This function returns 5 cross-validation metrics for each\n",
    "# seed in the seed vector, seedv.\n",
    "\n",
    "get_cvInfo <- function(seedv, dat, folds=5) {\n",
    "    \n",
    "    seedv_len <- length(seedv)\n",
    "    datout <- rep(NA, 5 * folds * seedv_len)\n",
    "    dim(datout) <- c((seedv_len*folds), 5)\n",
    "    datout <- as.data.frame(datout)\n",
    "    colnames(datout) <- c(\"fscore\",\"Acc\",\"Type2\", \"FN\",\"FP\")\n",
    "    # For each seed we record 5 sets of cross-val scores\n",
    "    prefixes <- rep(as.character(seedv), rep(folds, seedv_len))\n",
    "    suffixes <- rep(paste(1:folds), seedv_len)\n",
    "    seed_names <- paste(prefixes, suffixes, sep=\"--\")\n",
    "    rownames(datout) <- seed_names\n",
    "        \n",
    "    # divide dat by the number of folds \n",
    "    segment_size <- round(nrow(dat)/folds)\n",
    "    diff <- nrow(dat) - folds * segment_size\n",
    "    last_seg_size <- segment_size + diff\n",
    "    segmentsv <- c(rep(segment_size, (folds - 1)), last_seg_size)\n",
    "    stopifnot(sum(segmentsv) == nrow(dat))\n",
    "    \n",
    "    for(h in 1:seedv_len) {\n",
    "        # shuffle dat\n",
    "        cur_seed <- seedv[h]\n",
    "        set.seed(cur_seed)\n",
    "        smp <- sample(rownames(dat), nrow(dat), replace= FALSE)\n",
    "        dat <- dat[smp,]\n",
    "    \n",
    "        # Each element of row_list will be the rows we pick\n",
    "        # out for one of the folds.  E.g., the first element\n",
    "        # of row_list will contain the rows we want for the\n",
    "        # first fold, the second element of row_list will\n",
    "        # contain the rows we want for the second fold, and\n",
    "        # so forth.\n",
    "        row_list <- vector(\"list\", length=folds)\n",
    "        names(row_list) <- as.character(1:folds)\n",
    "        startpt <- 1\n",
    "        for(k in 1:folds) {\n",
    "            endpt <- startpt + segmentsv[k] - 1\n",
    "            stopifnot(endpt <= nrow(dat))\n",
    "            row_list[[k]] <- rownames(dat)[startpt:endpt]\n",
    "            startpt <- endpt + 1\n",
    "        }\n",
    "        \n",
    "        train_list <- test_list <- vector(\"list\", length= folds)\n",
    "        for(j in 1:folds) {\n",
    "            testdat <- dat[row_list[[j]],]\n",
    "            traindat <- dat[which(!(rownames(dat) %in% rownames(testdat))),]\n",
    "            stopifnot((length(rownames(traindat)) + length(rownames(testdat))) == nrow(dat))\n",
    "            test_list[[j]] <- testdat\n",
    "            train_list[[j]] <- traindat\n",
    "        }\n",
    "        # When there are only 5 folds, only 5 cores get used.\n",
    "        ### NOTE: the function on the right-hand side changes depending\n",
    "        ### the model for which we want summary info.\n",
    "        scores <- mcmapply(get_cvScores_kmp1p2_v02, train_list, test_list,\n",
    "                           SIMPLIFY= \"array\", mc.cores=5)\n",
    "        \n",
    "        for(k in 1:folds) {\n",
    "            row_name <- paste(as.character(cur_seed), k, sep=\"--\")\n",
    "            datout[row_name, 1:5] <- scores[, k]\n",
    "        }\n",
    "\n",
    "    } ## end of for-loop, index h\n",
    "    \n",
    "    return(datout)\n",
    "}\n"
   ]
  },
  {
   "cell_type": "code",
   "execution_count": 50,
   "metadata": {},
   "outputs": [
    {
     "data": {
      "text/plain": [
       "Time difference of 4.6 mins"
      ]
     },
     "metadata": {},
     "output_type": "display_data"
    }
   ],
   "source": [
    "# Get scores for the hybrid model with prob01 and prob02.\n",
    "\n",
    "set.seed(1913)\n",
    "seed_vector <- sample(1:9999, 1000, replace=FALSE)\n",
    "\n",
    "start <- Sys.time()\n",
    "dat_result <- get_cvInfo(seed_vector, dat)\n",
    "stop <- Sys.time()\n",
    "round(stop - start, 2)\n",
    "# Time difference of 4.6 mins\n"
   ]
  },
  {
   "cell_type": "code",
   "execution_count": 51,
   "metadata": {},
   "outputs": [
    {
     "data": {
      "text/html": [
       "<style>\n",
       ".list-inline {list-style: none; margin:0; padding: 0}\n",
       ".list-inline>li {display: inline-block}\n",
       ".list-inline>li:not(:last-child)::after {content: \"\\00b7\"; padding: 0 .5ex}\n",
       "</style>\n",
       "<ol class=list-inline><li>5000</li><li>5</li></ol>\n"
      ],
      "text/latex": [
       "\\begin{enumerate*}\n",
       "\\item 5000\n",
       "\\item 5\n",
       "\\end{enumerate*}\n"
      ],
      "text/markdown": [
       "1. 5000\n",
       "2. 5\n",
       "\n",
       "\n"
      ],
      "text/plain": [
       "[1] 5000    5"
      ]
     },
     "metadata": {},
     "output_type": "display_data"
    },
    {
     "data": {
      "text/html": [
       "<table>\n",
       "<caption>A data.frame: 6 × 5</caption>\n",
       "<thead>\n",
       "\t<tr><th></th><th scope=col>fscore</th><th scope=col>Acc</th><th scope=col>Type2</th><th scope=col>FN</th><th scope=col>FP</th></tr>\n",
       "\t<tr><th></th><th scope=col>&lt;dbl&gt;</th><th scope=col>&lt;dbl&gt;</th><th scope=col>&lt;dbl&gt;</th><th scope=col>&lt;dbl&gt;</th><th scope=col>&lt;dbl&gt;</th></tr>\n",
       "</thead>\n",
       "<tbody>\n",
       "\t<tr><th scope=row>4782--1</th><td>0.5455</td><td>0.6875</td><td>0.6023</td><td> 7</td><td>18</td></tr>\n",
       "\t<tr><th scope=row>4782--2</th><td>0.6230</td><td>0.7125</td><td>0.6588</td><td> 9</td><td>14</td></tr>\n",
       "\t<tr><th scope=row>4782--3</th><td>0.5484</td><td>0.6500</td><td>0.5890</td><td>13</td><td>15</td></tr>\n",
       "\t<tr><th scope=row>4782--4</th><td>0.6829</td><td>0.6750</td><td>0.6797</td><td> 4</td><td>22</td></tr>\n",
       "\t<tr><th scope=row>4782--5</th><td>0.7105</td><td>0.7250</td><td>0.7163</td><td>10</td><td>12</td></tr>\n",
       "\t<tr><th scope=row>9275--1</th><td>0.6129</td><td>0.7000</td><td>0.6477</td><td>11</td><td>13</td></tr>\n",
       "</tbody>\n",
       "</table>\n"
      ],
      "text/latex": [
       "A data.frame: 6 × 5\n",
       "\\begin{tabular}{r|lllll}\n",
       "  & fscore & Acc & Type2 & FN & FP\\\\\n",
       "  & <dbl> & <dbl> & <dbl> & <dbl> & <dbl>\\\\\n",
       "\\hline\n",
       "\t4782--1 & 0.5455 & 0.6875 & 0.6023 &  7 & 18\\\\\n",
       "\t4782--2 & 0.6230 & 0.7125 & 0.6588 &  9 & 14\\\\\n",
       "\t4782--3 & 0.5484 & 0.6500 & 0.5890 & 13 & 15\\\\\n",
       "\t4782--4 & 0.6829 & 0.6750 & 0.6797 &  4 & 22\\\\\n",
       "\t4782--5 & 0.7105 & 0.7250 & 0.7163 & 10 & 12\\\\\n",
       "\t9275--1 & 0.6129 & 0.7000 & 0.6477 & 11 & 13\\\\\n",
       "\\end{tabular}\n"
      ],
      "text/markdown": [
       "\n",
       "A data.frame: 6 × 5\n",
       "\n",
       "| <!--/--> | fscore &lt;dbl&gt; | Acc &lt;dbl&gt; | Type2 &lt;dbl&gt; | FN &lt;dbl&gt; | FP &lt;dbl&gt; |\n",
       "|---|---|---|---|---|---|\n",
       "| 4782--1 | 0.5455 | 0.6875 | 0.6023 |  7 | 18 |\n",
       "| 4782--2 | 0.6230 | 0.7125 | 0.6588 |  9 | 14 |\n",
       "| 4782--3 | 0.5484 | 0.6500 | 0.5890 | 13 | 15 |\n",
       "| 4782--4 | 0.6829 | 0.6750 | 0.6797 |  4 | 22 |\n",
       "| 4782--5 | 0.7105 | 0.7250 | 0.7163 | 10 | 12 |\n",
       "| 9275--1 | 0.6129 | 0.7000 | 0.6477 | 11 | 13 |\n",
       "\n"
      ],
      "text/plain": [
       "        fscore Acc    Type2  FN FP\n",
       "4782--1 0.5455 0.6875 0.6023  7 18\n",
       "4782--2 0.6230 0.7125 0.6588  9 14\n",
       "4782--3 0.5484 0.6500 0.5890 13 15\n",
       "4782--4 0.6829 0.6750 0.6797  4 22\n",
       "4782--5 0.7105 0.7250 0.7163 10 12\n",
       "9275--1 0.6129 0.7000 0.6477 11 13"
      ]
     },
     "metadata": {},
     "output_type": "display_data"
    }
   ],
   "source": [
    "dim(dat_result)\n",
    "head(dat_result)\n"
   ]
  },
  {
   "cell_type": "markdown",
   "metadata": {},
   "source": [
    "## Summary info for hybrid model with prob01, prob02"
   ]
  },
  {
   "cell_type": "code",
   "execution_count": 52,
   "metadata": {},
   "outputs": [
    {
     "data": {
      "text/html": [
       "'fscore mean: 0.6282'"
      ],
      "text/latex": [
       "'fscore mean: 0.6282'"
      ],
      "text/markdown": [
       "'fscore mean: 0.6282'"
      ],
      "text/plain": [
       "[1] \"fscore mean: 0.6282\""
      ]
     },
     "metadata": {},
     "output_type": "display_data"
    },
    {
     "data": {
      "text/html": [
       "'fscore StdDev: 0.0632'"
      ],
      "text/latex": [
       "'fscore StdDev: 0.0632'"
      ],
      "text/markdown": [
       "'fscore StdDev: 0.0632'"
      ],
      "text/plain": [
       "[1] \"fscore StdDev: 0.0632\""
      ]
     },
     "metadata": {},
     "output_type": "display_data"
    },
    {
     "data": {
      "text/html": [
       "''"
      ],
      "text/latex": [
       "''"
      ],
      "text/markdown": [
       "''"
      ],
      "text/plain": [
       "[1] \"\""
      ]
     },
     "metadata": {},
     "output_type": "display_data"
    },
    {
     "data": {
      "text/plain": [
       "   Min. 1st Qu.  Median    Mean 3rd Qu.    Max. \n",
       "  0.370   0.587   0.632   0.628   0.675   0.818 "
      ]
     },
     "metadata": {},
     "output_type": "display_data"
    }
   ],
   "source": [
    "fscore_mean <- round(mean(dat_result$fscore), 4)\n",
    "fscore_sd <- round(sd(dat_result$fscore), 4)\n",
    "paste0(\"fscore mean: \", as.character(fscore_mean))\n",
    "# 0.6282\n",
    "paste0(\"fscore StdDev: \", as.character(fscore_sd))\n",
    "# 0.0632\n",
    "\"\"\n",
    "summary(dat_result$fscore)\n"
   ]
  },
  {
   "cell_type": "code",
   "execution_count": 53,
   "metadata": {},
   "outputs": [
    {
     "data": {
      "text/html": [
       "'accuracy mean: 0.6899'"
      ],
      "text/latex": [
       "'accuracy mean: 0.6899'"
      ],
      "text/markdown": [
       "'accuracy mean: 0.6899'"
      ],
      "text/plain": [
       "[1] \"accuracy mean: 0.6899\""
      ]
     },
     "metadata": {},
     "output_type": "display_data"
    },
    {
     "data": {
      "text/html": [
       "'accuracy StdDev: 0.0469'"
      ],
      "text/latex": [
       "'accuracy StdDev: 0.0469'"
      ],
      "text/markdown": [
       "'accuracy StdDev: 0.0469'"
      ],
      "text/plain": [
       "[1] \"accuracy StdDev: 0.0469\""
      ]
     },
     "metadata": {},
     "output_type": "display_data"
    },
    {
     "data": {
      "text/html": [
       "''"
      ],
      "text/latex": [
       "''"
      ],
      "text/markdown": [
       "''"
      ],
      "text/plain": [
       "[1] \"\""
      ]
     },
     "metadata": {},
     "output_type": "display_data"
    },
    {
     "data": {
      "text/plain": [
       "   Min. 1st Qu.  Median    Mean 3rd Qu.    Max. \n",
       "  0.525   0.662   0.688   0.690   0.725   0.850 "
      ]
     },
     "metadata": {},
     "output_type": "display_data"
    }
   ],
   "source": [
    "Acc_mean <- round(mean(dat_result$Acc), 4)\n",
    "Acc_sd <- round(sd(dat_result$Acc), 4)\n",
    "paste0(\"accuracy mean: \", as.character(Acc_mean))\n",
    "# 0.6899\n",
    "paste0(\"accuracy StdDev: \", as.character(Acc_sd))\n",
    "# 0.0469\n",
    "\"\"\n",
    "summary(dat_result$Acc)\n"
   ]
  },
  {
   "cell_type": "code",
   "execution_count": 54,
   "metadata": {},
   "outputs": [
    {
     "data": {
      "text/html": [
       "'Type2 mean: 0.6528'"
      ],
      "text/latex": [
       "'Type2 mean: 0.6528'"
      ],
      "text/markdown": [
       "'Type2 mean: 0.6528'"
      ],
      "text/plain": [
       "[1] \"Type2 mean: 0.6528\""
      ]
     },
     "metadata": {},
     "output_type": "display_data"
    },
    {
     "data": {
      "text/html": [
       "'Type2 StdDev: 0.0543'"
      ],
      "text/latex": [
       "'Type2 StdDev: 0.0543'"
      ],
      "text/markdown": [
       "'Type2 StdDev: 0.0543'"
      ],
      "text/plain": [
       "[1] \"Type2 StdDev: 0.0543\""
      ]
     },
     "metadata": {},
     "output_type": "display_data"
    },
    {
     "data": {
      "text/html": [
       "''"
      ],
      "text/latex": [
       "''"
      ],
      "text/markdown": [
       "''"
      ],
      "text/plain": [
       "[1] \"\""
      ]
     },
     "metadata": {},
     "output_type": "display_data"
    },
    {
     "data": {
      "text/plain": [
       "   Min. 1st Qu.  Median    Mean 3rd Qu.    Max. \n",
       "  0.442   0.617   0.655   0.653   0.691   0.831 "
      ]
     },
     "metadata": {},
     "output_type": "display_data"
    }
   ],
   "source": [
    "Type2_mean <- round(mean(dat_result$Type2), 4)\n",
    "Type2_sd <- round(sd(dat_result$Type2), 4)\n",
    "paste0(\"Type2 mean: \", as.character(Type2_mean))\n",
    "# 0.6528\n",
    "paste0(\"Type2 StdDev: \", as.character(Type2_sd))\n",
    "# 0.0543\n",
    "\"\"\n",
    "summary(dat_result$Type2)\n"
   ]
  },
  {
   "cell_type": "code",
   "execution_count": 55,
   "metadata": {},
   "outputs": [
    {
     "data": {
      "image/png": "[encoded data removed]",
      "text/plain": [
       "Plot with title “Distribution of Type2 scores for hybrid model w/ p1 & p2”"
      ]
     },
     "metadata": {
      "image/png": {
       "height": 360,
       "width": 600
      }
     },
     "output_type": "display_data"
    }
   ],
   "source": [
    "# Histogram of the Type2 scores for the hybrid model\n",
    "\n",
    "options(repr.plot.width= 10, repr.plot.height= 6)\n",
    "hist(dat_result$Type2, breaks=10, xlab=\"Type2 score\",\n",
    "     main=\"Distribution of Type2 scores for hybrid model w/ p1 & p2\")\n"
   ]
  },
  {
   "cell_type": "code",
   "execution_count": 56,
   "metadata": {},
   "outputs": [
    {
     "data": {
      "text/html": [
       "'FN mean: 8.5908'"
      ],
      "text/latex": [
       "'FN mean: 8.5908'"
      ],
      "text/markdown": [
       "'FN mean: 8.5908'"
      ],
      "text/plain": [
       "[1] \"FN mean: 8.5908\""
      ]
     },
     "metadata": {},
     "output_type": "display_data"
    },
    {
     "data": {
      "text/html": [
       "'FN StdDev: 2.5288'"
      ],
      "text/latex": [
       "'FN StdDev: 2.5288'"
      ],
      "text/markdown": [
       "'FN StdDev: 2.5288'"
      ],
      "text/plain": [
       "[1] \"FN StdDev: 2.5288\""
      ]
     },
     "metadata": {},
     "output_type": "display_data"
    },
    {
     "data": {
      "text/html": [
       "''"
      ],
      "text/latex": [
       "''"
      ],
      "text/markdown": [
       "''"
      ],
      "text/plain": [
       "[1] \"\""
      ]
     },
     "metadata": {},
     "output_type": "display_data"
    },
    {
     "data": {
      "text/plain": [
       "   Min. 1st Qu.  Median    Mean 3rd Qu.    Max. \n",
       "   1.00    7.00    8.00    8.59   10.00   18.00 "
      ]
     },
     "metadata": {},
     "output_type": "display_data"
    }
   ],
   "source": [
    "FN_mean <- round(mean(dat_result$FN), 4)\n",
    "FN_sd <- round(sd(dat_result$FN), 4)\n",
    "paste0(\"FN mean: \", as.character(FN_mean))\n",
    "# 8.59\n",
    "paste0(\"FN StdDev: \", as.character(FN_sd))\n",
    "# 2.53\n",
    "\"\"\n",
    "summary(dat_result$FN)\n"
   ]
  },
  {
   "cell_type": "code",
   "execution_count": 57,
   "metadata": {},
   "outputs": [
    {
     "data": {
      "text/html": [
       "'FP mean: 16.2208'"
      ],
      "text/latex": [
       "'FP mean: 16.2208'"
      ],
      "text/markdown": [
       "'FP mean: 16.2208'"
      ],
      "text/plain": [
       "[1] \"FP mean: 16.2208\""
      ]
     },
     "metadata": {},
     "output_type": "display_data"
    },
    {
     "data": {
      "text/html": [
       "'FP StdDev: 3.1919'"
      ],
      "text/latex": [
       "'FP StdDev: 3.1919'"
      ],
      "text/markdown": [
       "'FP StdDev: 3.1919'"
      ],
      "text/plain": [
       "[1] \"FP StdDev: 3.1919\""
      ]
     },
     "metadata": {},
     "output_type": "display_data"
    },
    {
     "data": {
      "text/html": [
       "''"
      ],
      "text/latex": [
       "''"
      ],
      "text/markdown": [
       "''"
      ],
      "text/plain": [
       "[1] \"\""
      ]
     },
     "metadata": {},
     "output_type": "display_data"
    },
    {
     "data": {
      "text/plain": [
       "   Min. 1st Qu.  Median    Mean 3rd Qu.    Max. \n",
       "    6.0    14.0    16.0    16.2    18.0    31.0 "
      ]
     },
     "metadata": {},
     "output_type": "display_data"
    }
   ],
   "source": [
    "FP_mean <- round(mean(dat_result$FP), 4)\n",
    "FP_sd <- round(sd(dat_result$FP), 4)\n",
    "paste0(\"FP mean: \", as.character(FP_mean))\n",
    "# 16.22\n",
    "paste0(\"FP StdDev: \", as.character(FP_sd))\n",
    "# 3.19\n",
    "\"\"\n",
    "summary(dat_result$FP)\n"
   ]
  },
  {
   "cell_type": "markdown",
   "metadata": {},
   "source": [
    "## Summary info for base k-means model with weights"
   ]
  },
  {
   "cell_type": "code",
   "execution_count": 58,
   "metadata": {},
   "outputs": [],
   "source": [
    "# This function is called by get_cvInfo.  It returns a vector\n",
    "# of scores: f-score, accuracy, Type2, false negatives, and\n",
    "# false positives, in the stated order.  The scores are for\n",
    "# the base k-means model with weights.\n",
    "\n",
    "get_cvScores_kmBase <- function(traindat, valdat) {\n",
    "    \n",
    "    #############################\n",
    "    # Transform and scale training set data for the\n",
    "    # k-means model.\n",
    "    traindat$AST <- log(traindat$AST)\n",
    "    traindat$CK <- log(traindat$CK)\n",
    "    traindat$Daysrec <- sqrt(traindat$Daysrec)\n",
    "\n",
    "    traindat_scaled <- scale(traindat[, -1], center=TRUE, scale=TRUE)\n",
    "    centers <- attr(traindat_scaled, \"scaled:center\")\n",
    "    scales <- attr(traindat_scaled, \"scaled:scale\")\n",
    "    \n",
    "    #############################\n",
    "    # Apply weights to traindat.\n",
    "    \n",
    "    wghts <- c(0.59, 0.27, 0.14)^0.5\n",
    "    names(wghts) <- cols <- c(\"AST\",\"CK\",\"Daysrec\")\n",
    "    \n",
    "    df2 <- t(t(traindat_scaled[, cols]) * as.numeric(wghts[cols]))\n",
    "    traindat_wghts <- as.data.frame(df2, row.names= rownames(traindat))\n",
    "    colnames(traindat_wghts) <- cols\n",
    "       \n",
    "    #############################\n",
    "    # Prepare valdat.\n",
    "    \n",
    "    # Transform and scale valdat.\n",
    "    valdat$AST <- log(valdat$AST)\n",
    "    valdat$CK <- log(valdat$CK)\n",
    "    valdat$Daysrec <- sqrt(valdat$Daysrec)\n",
    "\n",
    "    valdat_scaled <- scale(valdat[, -1], center=centers, scale=scales)\n",
    "    valdat_scaled <- as.data.frame(valdat_scaled), row.names=rownames(valdat))\n",
    "    \n",
    "    # Apply weights to valdat.\n",
    "    df2 <- t(t(valdat_scaled[, cols]) * as.numeric(wghts[cols]))\n",
    "    valdat_wghts <- as.data.frame(df2, row.names=rownames(valdat))\n",
    "    colnames(valdat_wghts) <- cols\n",
    "    \n",
    "    \n",
    "    #############################\n",
    "    # Construct k-means model.\n",
    "    \n",
    "    kmod <- suppressWarnings(kmeans(traindat_wghts, 2, iter.max = 50, nstart=15))\n",
    "    \n",
    "    # See how the clusters are associated with Outcome.\n",
    "    dfout <- as.data.frame(cbind(traindat$Outcome, kmod$cluster),\n",
    "                           row.names=rownames(traindat))\n",
    "    colnames(dfout) <- c(\"Outcome\", \"cluster\")\n",
    "    \n",
    "    c1_to_Outcome1 <- c1_toLevel_1(dfout)\n",
    "    \n",
    "    #############################\n",
    "    # Apply the k-means model to valdat_wghts.\n",
    "    \n",
    "    # Each element of the following list is a row of valdat_wghts.\n",
    "    valdat_asList <- split(valdat_wghts[, colnames(kmod$centers)],\n",
    "                           seq(nrow(valdat_wghts)))\n",
    "    \n",
    "    ctr_list <- vector(\"list\", length= nrow(valdat))\n",
    "    for(i in 1:nrow(valdat)) {\n",
    "        \n",
    "        ctr_list[[i]] <- kmod$centers\n",
    "    }\n",
    "    names(ctr_list) <- rownames(valdat)\n",
    "    \n",
    "    \n",
    "    # Get the predictions for the validation set.\n",
    "    cluster_assgns <- mcmapply(getCluster, valdat_asList, ctr_list,\n",
    "                               SIMPLIFY=TRUE, mc.cores=6)\n",
    "    valdat_wghts$cluster <- as.numeric(cluster_assgns)\n",
    "    \n",
    "    valdat_wghts$pred_Outcome <- NA\n",
    "    if(c1_to_Outcome1) {\n",
    "        valdat_wghts[which(valdat_wghts$cluster==1),]$pred_Outcome <- 1\n",
    "        valdat_wghts[which(valdat_wghts$cluster==2),]$pred_Outcome <- 0\n",
    "    } else {\n",
    "        valdat_wghts[which(valdat_wghts$cluster==1),]$pred_Outcome <- 0\n",
    "        valdat_wghts[which(valdat_wghts$cluster==2),]$pred_Outcome <- 1\n",
    "    }\n",
    "    \n",
    "    # Generate confusion matrix for the k-means clusters and\n",
    "    # the corresponding f-score.\n",
    "    preds <- as.factor(valdat_wghts$pred_Outcome)\n",
    "    names(preds) <- rownames(valdat)\n",
    "    ans <- get_confusion(preds, valdat[, \"Outcome\", drop=FALSE])\n",
    "\n",
    "    mat <- as.matrix(ans[[1]])\n",
    "    fscore <- round(as.numeric(ans[[2]]), 4)\n",
    "    acc <- round(sum(diag(mat))/floor(sum(mat)), 4)\n",
    "    type2 <- round((0.4 * acc + 0.6 * ans[[2]]), 4)\n",
    "    FN <- as.numeric(mat[2,1])\n",
    "    FP <- as.numeric(mat[1,2])\n",
    "    return(c(fscore,acc,type2,FN,FP))\n",
    "}\n"
   ]
  },
  {
   "cell_type": "code",
   "execution_count": 61,
   "metadata": {},
   "outputs": [
    {
     "data": {
      "text/plain": [
       "Time difference of 3.45 mins"
      ]
     },
     "metadata": {},
     "output_type": "display_data"
    }
   ],
   "source": [
    "# Get scores for the base k-means model (with weights).\n",
    "\n",
    "set.seed(1913)\n",
    "seed_vector <- sample(1:9999, 1000, replace=FALSE)\n",
    "\n",
    "start <- Sys.time()\n",
    "dat_result <- get_cvInfo(seed_vector, dat)\n",
    "stop <- Sys.time()\n",
    "round(stop - start, 2)\n",
    "# Time difference of 3.45 mins\n"
   ]
  },
  {
   "cell_type": "code",
   "execution_count": 62,
   "metadata": {},
   "outputs": [
    {
     "data": {
      "text/html": [
       "<style>\n",
       ".list-inline {list-style: none; margin:0; padding: 0}\n",
       ".list-inline>li {display: inline-block}\n",
       ".list-inline>li:not(:last-child)::after {content: \"\\00b7\"; padding: 0 .5ex}\n",
       "</style>\n",
       "<ol class=list-inline><li>5000</li><li>5</li></ol>\n"
      ],
      "text/latex": [
       "\\begin{enumerate*}\n",
       "\\item 5000\n",
       "\\item 5\n",
       "\\end{enumerate*}\n"
      ],
      "text/markdown": [
       "1. 5000\n",
       "2. 5\n",
       "\n",
       "\n"
      ],
      "text/plain": [
       "[1] 5000    5"
      ]
     },
     "metadata": {},
     "output_type": "display_data"
    },
    {
     "data": {
      "text/html": [
       "<table>\n",
       "<caption>A data.frame: 6 × 5</caption>\n",
       "<thead>\n",
       "\t<tr><th></th><th scope=col>fscore</th><th scope=col>Acc</th><th scope=col>Type2</th><th scope=col>FN</th><th scope=col>FP</th></tr>\n",
       "\t<tr><th></th><th scope=col>&lt;dbl&gt;</th><th scope=col>&lt;dbl&gt;</th><th scope=col>&lt;dbl&gt;</th><th scope=col>&lt;dbl&gt;</th><th scope=col>&lt;dbl&gt;</th></tr>\n",
       "</thead>\n",
       "<tbody>\n",
       "\t<tr><th scope=row>4782--1</th><td>0.5000</td><td>0.6500</td><td>0.5600</td><td> 8</td><td>20</td></tr>\n",
       "\t<tr><th scope=row>4782--2</th><td>0.6567</td><td>0.7125</td><td>0.6790</td><td> 6</td><td>17</td></tr>\n",
       "\t<tr><th scope=row>4782--3</th><td>0.6061</td><td>0.6750</td><td>0.6337</td><td>10</td><td>16</td></tr>\n",
       "\t<tr><th scope=row>4782--4</th><td>0.6977</td><td>0.6750</td><td>0.6886</td><td> 2</td><td>24</td></tr>\n",
       "\t<tr><th scope=row>4782--5</th><td>0.7294</td><td>0.7125</td><td>0.7226</td><td> 6</td><td>17</td></tr>\n",
       "\t<tr><th scope=row>9275--1</th><td>0.6286</td><td>0.6750</td><td>0.6472</td><td> 8</td><td>18</td></tr>\n",
       "</tbody>\n",
       "</table>\n"
      ],
      "text/latex": [
       "A data.frame: 6 × 5\n",
       "\\begin{tabular}{r|lllll}\n",
       "  & fscore & Acc & Type2 & FN & FP\\\\\n",
       "  & <dbl> & <dbl> & <dbl> & <dbl> & <dbl>\\\\\n",
       "\\hline\n",
       "\t4782--1 & 0.5000 & 0.6500 & 0.5600 &  8 & 20\\\\\n",
       "\t4782--2 & 0.6567 & 0.7125 & 0.6790 &  6 & 17\\\\\n",
       "\t4782--3 & 0.6061 & 0.6750 & 0.6337 & 10 & 16\\\\\n",
       "\t4782--4 & 0.6977 & 0.6750 & 0.6886 &  2 & 24\\\\\n",
       "\t4782--5 & 0.7294 & 0.7125 & 0.7226 &  6 & 17\\\\\n",
       "\t9275--1 & 0.6286 & 0.6750 & 0.6472 &  8 & 18\\\\\n",
       "\\end{tabular}\n"
      ],
      "text/markdown": [
       "\n",
       "A data.frame: 6 × 5\n",
       "\n",
       "| <!--/--> | fscore &lt;dbl&gt; | Acc &lt;dbl&gt; | Type2 &lt;dbl&gt; | FN &lt;dbl&gt; | FP &lt;dbl&gt; |\n",
       "|---|---|---|---|---|---|\n",
       "| 4782--1 | 0.5000 | 0.6500 | 0.5600 |  8 | 20 |\n",
       "| 4782--2 | 0.6567 | 0.7125 | 0.6790 |  6 | 17 |\n",
       "| 4782--3 | 0.6061 | 0.6750 | 0.6337 | 10 | 16 |\n",
       "| 4782--4 | 0.6977 | 0.6750 | 0.6886 |  2 | 24 |\n",
       "| 4782--5 | 0.7294 | 0.7125 | 0.7226 |  6 | 17 |\n",
       "| 9275--1 | 0.6286 | 0.6750 | 0.6472 |  8 | 18 |\n",
       "\n"
      ],
      "text/plain": [
       "        fscore Acc    Type2  FN FP\n",
       "4782--1 0.5000 0.6500 0.5600  8 20\n",
       "4782--2 0.6567 0.7125 0.6790  6 17\n",
       "4782--3 0.6061 0.6750 0.6337 10 16\n",
       "4782--4 0.6977 0.6750 0.6886  2 24\n",
       "4782--5 0.7294 0.7125 0.7226  6 17\n",
       "9275--1 0.6286 0.6750 0.6472  8 18"
      ]
     },
     "metadata": {},
     "output_type": "display_data"
    }
   ],
   "source": [
    "dim(dat_result)\n",
    "head(dat_result)\n"
   ]
  },
  {
   "cell_type": "code",
   "execution_count": 63,
   "metadata": {},
   "outputs": [
    {
     "data": {
      "text/html": [
       "'fscore mean: 0.6447'"
      ],
      "text/latex": [
       "'fscore mean: 0.6447'"
      ],
      "text/markdown": [
       "'fscore mean: 0.6447'"
      ],
      "text/plain": [
       "[1] \"fscore mean: 0.6447\""
      ]
     },
     "metadata": {},
     "output_type": "display_data"
    },
    {
     "data": {
      "text/html": [
       "'fscore StdDev: 0.06'"
      ],
      "text/latex": [
       "'fscore StdDev: 0.06'"
      ],
      "text/markdown": [
       "'fscore StdDev: 0.06'"
      ],
      "text/plain": [
       "[1] \"fscore StdDev: 0.06\""
      ]
     },
     "metadata": {},
     "output_type": "display_data"
    },
    {
     "data": {
      "text/html": [
       "''"
      ],
      "text/latex": [
       "''"
      ],
      "text/markdown": [
       "''"
      ],
      "text/plain": [
       "[1] \"\""
      ]
     },
     "metadata": {},
     "output_type": "display_data"
    },
    {
     "data": {
      "text/plain": [
       "   Min. 1st Qu.  Median    Mean 3rd Qu.    Max. \n",
       "  0.400   0.606   0.648   0.645   0.686   0.830 "
      ]
     },
     "metadata": {},
     "output_type": "display_data"
    }
   ],
   "source": [
    "fscore_mean <- round(mean(dat_result$fscore), 4)\n",
    "fscore_sd <- round(sd(dat_result$fscore), 4)\n",
    "paste0(\"fscore mean: \", as.character(fscore_mean))\n",
    "# 0.6447\n",
    "paste0(\"fscore StdDev: \", as.character(fscore_sd))\n",
    "# 0.0600\n",
    "\"\"\n",
    "summary(dat_result$fscore)\n"
   ]
  },
  {
   "cell_type": "code",
   "execution_count": 64,
   "metadata": {},
   "outputs": [
    {
     "data": {
      "text/html": [
       "'accuracy mean: 0.6838'"
      ],
      "text/latex": [
       "'accuracy mean: 0.6838'"
      ],
      "text/markdown": [
       "'accuracy mean: 0.6838'"
      ],
      "text/plain": [
       "[1] \"accuracy mean: 0.6838\""
      ]
     },
     "metadata": {},
     "output_type": "display_data"
    },
    {
     "data": {
      "text/html": [
       "'accuracy StdDev: 0.0465'"
      ],
      "text/latex": [
       "'accuracy StdDev: 0.0465'"
      ],
      "text/markdown": [
       "'accuracy StdDev: 0.0465'"
      ],
      "text/plain": [
       "[1] \"accuracy StdDev: 0.0465\""
      ]
     },
     "metadata": {},
     "output_type": "display_data"
    },
    {
     "data": {
      "text/html": [
       "''"
      ],
      "text/latex": [
       "''"
      ],
      "text/markdown": [
       "''"
      ],
      "text/plain": [
       "[1] \"\""
      ]
     },
     "metadata": {},
     "output_type": "display_data"
    },
    {
     "data": {
      "text/plain": [
       "   Min. 1st Qu.  Median    Mean 3rd Qu.    Max. \n",
       "  0.525   0.650   0.688   0.684   0.713   0.838 "
      ]
     },
     "metadata": {},
     "output_type": "display_data"
    }
   ],
   "source": [
    "Acc_mean <- round(mean(dat_result$Acc), 4)\n",
    "Acc_sd <- round(sd(dat_result$Acc), 4)\n",
    "paste0(\"accuracy mean: \", as.character(Acc_mean))\n",
    "# 0.6838\n",
    "paste0(\"accuracy StdDev: \", as.character(Acc_sd))\n",
    "# 0.0465\n",
    "\"\"\n",
    "summary(dat_result$Acc)\n"
   ]
  },
  {
   "cell_type": "code",
   "execution_count": 65,
   "metadata": {},
   "outputs": [
    {
     "data": {
      "text/html": [
       "'Type2 mean: 0.6603'"
      ],
      "text/latex": [
       "'Type2 mean: 0.6603'"
      ],
      "text/markdown": [
       "'Type2 mean: 0.6603'"
      ],
      "text/plain": [
       "[1] \"Type2 mean: 0.6603\""
      ]
     },
     "metadata": {},
     "output_type": "display_data"
    },
    {
     "data": {
      "text/html": [
       "'Type2 StdDev: 0.0522'"
      ],
      "text/latex": [
       "'Type2 StdDev: 0.0522'"
      ],
      "text/markdown": [
       "'Type2 StdDev: 0.0522'"
      ],
      "text/plain": [
       "[1] \"Type2 StdDev: 0.0522\""
      ]
     },
     "metadata": {},
     "output_type": "display_data"
    },
    {
     "data": {
      "text/html": [
       "''"
      ],
      "text/latex": [
       "''"
      ],
      "text/markdown": [
       "''"
      ],
      "text/plain": [
       "[1] \"\""
      ]
     },
     "metadata": {},
     "output_type": "display_data"
    },
    {
     "data": {
      "text/plain": [
       "   Min. 1st Qu.  Median    Mean 3rd Qu.    Max. \n",
       "  0.463   0.626   0.662   0.660   0.696   0.831 "
      ]
     },
     "metadata": {},
     "output_type": "display_data"
    }
   ],
   "source": [
    "Type2_mean <- round(mean(dat_result$Type2), 4)\n",
    "Type2_sd <- round(sd(dat_result$Type2), 4)\n",
    "paste0(\"Type2 mean: \", as.character(Type2_mean))\n",
    "# 0.6603\n",
    "paste0(\"Type2 StdDev: \", as.character(Type2_sd))\n",
    "# 0.0522\n",
    "\"\"\n",
    "summary(dat_result$Type2)\n"
   ]
  },
  {
   "cell_type": "code",
   "execution_count": 66,
   "metadata": {},
   "outputs": [
    {
     "data": {
      "image/png": "[encoded data removed]",
      "text/plain": [
       "Plot with title “Distribution of Type2 scores for base k-means model”"
      ]
     },
     "metadata": {
      "image/png": {
       "height": 360,
       "width": 600
      }
     },
     "output_type": "display_data"
    }
   ],
   "source": [
    "# Histogram of the Type2 scores for the base k-means model.\n",
    "\n",
    "options(repr.plot.width= 10, repr.plot.height= 6)\n",
    "hist(dat_result$Type2, breaks=10, xlab=\"Type2 score\",\n",
    "     main=\"Distribution of Type2 scores for base k-means model\")\n"
   ]
  },
  {
   "cell_type": "code",
   "execution_count": 67,
   "metadata": {},
   "outputs": [
    {
     "data": {
      "text/html": [
       "'FN mean: 6.5628'"
      ],
      "text/latex": [
       "'FN mean: 6.5628'"
      ],
      "text/markdown": [
       "'FN mean: 6.5628'"
      ],
      "text/plain": [
       "[1] \"FN mean: 6.5628\""
      ]
     },
     "metadata": {},
     "output_type": "display_data"
    },
    {
     "data": {
      "text/html": [
       "'FN StdDev: 2.1733'"
      ],
      "text/latex": [
       "'FN StdDev: 2.1733'"
      ],
      "text/markdown": [
       "'FN StdDev: 2.1733'"
      ],
      "text/plain": [
       "[1] \"FN StdDev: 2.1733\""
      ]
     },
     "metadata": {},
     "output_type": "display_data"
    },
    {
     "data": {
      "text/html": [
       "''"
      ],
      "text/latex": [
       "''"
      ],
      "text/markdown": [
       "''"
      ],
      "text/plain": [
       "[1] \"\""
      ]
     },
     "metadata": {},
     "output_type": "display_data"
    },
    {
     "data": {
      "text/plain": [
       "   Min. 1st Qu.  Median    Mean 3rd Qu.    Max. \n",
       "   1.00    5.00    6.00    6.56    8.00   16.00 "
      ]
     },
     "metadata": {},
     "output_type": "display_data"
    }
   ],
   "source": [
    "FN_mean <- round(mean(dat_result$FN), 4)\n",
    "FN_sd <- round(sd(dat_result$FN), 4)\n",
    "paste0(\"FN mean: \", as.character(FN_mean))\n",
    "# 6.56\n",
    "paste0(\"FN StdDev: \", as.character(FN_sd))\n",
    "# 2.17\n",
    "\"\"\n",
    "summary(dat_result$FN)\n"
   ]
  },
  {
   "cell_type": "code",
   "execution_count": 68,
   "metadata": {},
   "outputs": [
    {
     "data": {
      "text/html": [
       "'FP mean: 18.7348'"
      ],
      "text/latex": [
       "'FP mean: 18.7348'"
      ],
      "text/markdown": [
       "'FP mean: 18.7348'"
      ],
      "text/plain": [
       "[1] \"FP mean: 18.7348\""
      ]
     },
     "metadata": {},
     "output_type": "display_data"
    },
    {
     "data": {
      "text/html": [
       "'FP StdDev: 3.3714'"
      ],
      "text/latex": [
       "'FP StdDev: 3.3714'"
      ],
      "text/markdown": [
       "'FP StdDev: 3.3714'"
      ],
      "text/plain": [
       "[1] \"FP StdDev: 3.3714\""
      ]
     },
     "metadata": {},
     "output_type": "display_data"
    },
    {
     "data": {
      "text/html": [
       "''"
      ],
      "text/latex": [
       "''"
      ],
      "text/markdown": [
       "''"
      ],
      "text/plain": [
       "[1] \"\""
      ]
     },
     "metadata": {},
     "output_type": "display_data"
    },
    {
     "data": {
      "text/plain": [
       "   Min. 1st Qu.  Median    Mean 3rd Qu.    Max. \n",
       "    8.0    16.0    19.0    18.7    21.0    32.0 "
      ]
     },
     "metadata": {},
     "output_type": "display_data"
    }
   ],
   "source": [
    "FP_mean <- round(mean(dat_result$FP), 4)\n",
    "FP_sd <- round(sd(dat_result$FP), 4)\n",
    "paste0(\"FP mean: \", as.character(FP_mean))\n",
    "# 18.73\n",
    "paste0(\"FP StdDev: \", as.character(FP_sd))\n",
    "# 3.37\n",
    "\"\"\n",
    "summary(dat_result$FP)\n"
   ]
  },
  {
   "cell_type": "markdown",
   "metadata": {},
   "source": [
    "## Summary info for hybrid model with prob01"
   ]
  },
  {
   "cell_type": "code",
   "execution_count": 69,
   "metadata": {},
   "outputs": [],
   "source": [
    "# This function is called by get_cvInfo.  It returns a vector\n",
    "# of scores: f-score, accuracy, Type2, false negatives, and\n",
    "# false positives, in the stated order.  The scores are for\n",
    "# the hybrid k-means model with the prob01 column.\n",
    "\n",
    "get_cvScores_kmp1 <- function(traindat, valdat) {\n",
    "    \n",
    "    # Scale traindat for purpose of an svm model.\n",
    "    svm_scaled <- scale(traindat[, -1])\n",
    "    svm_centers <- attr(svm_scaled, \"scaled:center\")\n",
    "    svm_scales <- attr(svm_scaled, \"scaled:scale\")\n",
    "    svm_scaled <- as.data.frame(cbind(traindat$Outcome, svm_scaled),\n",
    "                                row.names=rownames(traindat))\n",
    "    colnames(svm_scaled) <- colnames(traindat)\n",
    "    \n",
    "    # This is our current best svm model for the trainset data\n",
    "    svmod <- svm(I(as.factor(Outcome)) ~ ., data=svm_scaled, kernel=\"radial\",\n",
    "                 gamma= 0.008, cost= 20, scale=FALSE, probability=TRUE)\n",
    "    \n",
    "    preds01 <- predict(svmod, newdata=svm_scaled, probability=TRUE)\n",
    "    traindat$prob01 <- as.numeric(attr(preds01, \"probabilities\")[, 2])\n",
    "    \n",
    "    \n",
    "    #############################\n",
    "    # Transform and scale training set data for the\n",
    "    # k-means model.\n",
    "    traindat$AST <- log(traindat$AST)\n",
    "    traindat$CK <- log(traindat$CK)\n",
    "    traindat$Daysrec <- sqrt(traindat$Daysrec)\n",
    "\n",
    "    traindat_scaled <- scale(traindat[, -1], center=TRUE, scale=TRUE)\n",
    "    centers <- attr(traindat_scaled, \"scaled:center\")\n",
    "    scales <- attr(traindat_scaled, \"scaled:scale\")\n",
    "    \n",
    "    #############################\n",
    "    # Apply weights to traindat.\n",
    "    \n",
    "    wghts <- c(0.30, 0.25, 0.34, 0.11)^0.5\n",
    "    names(wghts) <- cols <- c(\"AST\",\"CK\",\"Daysrec\",\"prob01\")\n",
    "    \n",
    "    df2 <- t(t(traindat_scaled[, cols]) * as.numeric(wghts[cols]))\n",
    "    traindat_wghts <- as.data.frame(df2, row.names=rownames(traindat))\n",
    "    colnames(traindat_wghts) <- cols\n",
    "    \n",
    "       \n",
    "    #############################\n",
    "    # Prepare valdat for svm modeling.\n",
    "    \n",
    "    svmval_scaled <- scale(valdat[, -1], center=svm_centers, scale=svm_scales)\n",
    "    svmval_scaled <- as.data.frame(svmval_scaled, row.names=rownames(valdat))\n",
    "    \n",
    "    # Compute the prob01 column.\n",
    "    preds01_b <- predict(svmod, newdata=svmval_scaled, probability=TRUE)\n",
    "    valdat$prob01 <- as.numeric(attr(preds01_b, \"probabilities\")[, 2])\n",
    "    \n",
    "    # Transform and scale valdat.\n",
    "    valdat$AST <- log(valdat$AST)\n",
    "    valdat$CK <- log(valdat$CK)\n",
    "    valdat$Daysrec <- sqrt(valdat$Daysrec)\n",
    "\n",
    "    valdat_scaled <- scale(valdat[, -1], center=centers, scale=scales)\n",
    "    valdat_scaled <- as.data.frame(valdat_scaled, row.names=rownames(valdat))\n",
    "    \n",
    "    # Apply weights to valdat.\n",
    "    df2 <- t(t(valdat_scaled[, cols]) * as.numeric(wghts[cols]))\n",
    "    valdat_wghts <- as.data.frame(df2, row.names=rownames(valdat))\n",
    "    colnames(valdat_wghts) <- cols\n",
    "    \n",
    "    \n",
    "    #############################\n",
    "    # Construct k-means model.\n",
    "    \n",
    "    kmod <- suppressWarnings(kmeans(traindat_wghts, 2, iter.max = 50, nstart=15))\n",
    "    \n",
    "    # See how the clusters are associated with Outcome.\n",
    "    dfout <- as.data.frame(cbind(traindat$Outcome, kmod$cluster),\n",
    "                           row.names=rownames(traindat))\n",
    "    colnames(dfout) <- c(\"Outcome\", \"cluster\")\n",
    "\n",
    "    c1_to_Outcome1 <- c1_toLevel_1(dfout)\n",
    "    \n",
    "    \n",
    "    #############################\n",
    "    # Apply the k-means model to valdat_wghts.\n",
    "    \n",
    "    # Each element of the following list is a row of valdat_wghts.\n",
    "    valdat_asList <- split(valdat_wghts[, colnames(kmod$centers)],\n",
    "                           seq(nrow(valdat_wghts)))\n",
    "    \n",
    "    ctr_list <- vector(\"list\", length= nrow(valdat))\n",
    "    for(i in 1:nrow(valdat)) {\n",
    "        \n",
    "        ctr_list[[i]] <- kmod$centers\n",
    "    }\n",
    "    names(ctr_list) <- rownames(valdat)\n",
    "    \n",
    "    \n",
    "    # Get the predictions for the validation set.\n",
    "    cluster_assgns <- mcmapply(getCluster, valdat_asList, ctr_list,\n",
    "                               SIMPLIFY=TRUE, mc.cores=6)\n",
    "    valdat_wghts$cluster <- as.numeric(cluster_assgns)\n",
    "    \n",
    "    valdat_wghts$pred_Outcome <- NA\n",
    "    if(c1_to_Outcome1) {\n",
    "        valdat_wghts[which(valdat_wghts$cluster==1),]$pred_Outcome <- 1\n",
    "        valdat_wghts[which(valdat_wghts$cluster==2),]$pred_Outcome <- 0\n",
    "    } else {\n",
    "        valdat_wghts[which(valdat_wghts$cluster==1),]$pred_Outcome <- 0\n",
    "        valdat_wghts[which(valdat_wghts$cluster==2),]$pred_Outcome <- 1\n",
    "    }\n",
    "    \n",
    "    # Generate confusion matrix for the k-means clusters and\n",
    "    # the corresponding f-score.\n",
    "    preds <- as.factor(valdat_wghts$pred_Outcome)\n",
    "    names(preds) <- rownames(valdat)\n",
    "    ans <- get_confusion(preds, valdat[, \"Outcome\", drop=FALSE])\n",
    "\n",
    "    mat <- as.matrix(ans[[1]])\n",
    "    fscore <- round(as.numeric(ans[[2]]), 4)\n",
    "    acc <- round(sum(diag(mat))/floor(sum(mat)), 4)\n",
    "    type2 <- round((0.4 * acc + 0.6 * ans[[2]]), 4)\n",
    "    FN <- as.numeric(mat[2,1])\n",
    "    FP <- as.numeric(mat[1,2])\n",
    "    return(c(fscore,acc,type2,FN,FP))\n",
    "}\n"
   ]
  },
  {
   "cell_type": "code",
   "execution_count": 71,
   "metadata": {},
   "outputs": [
    {
     "data": {
      "text/plain": [
       "Time difference of 4.02 mins"
      ]
     },
     "metadata": {},
     "output_type": "display_data"
    }
   ],
   "source": [
    "# Get scores for the hybrid model with prob01.\n",
    "\n",
    "set.seed(1913)\n",
    "seed_vector <- sample(1:9999, 1000, replace=FALSE)\n",
    "\n",
    "start <- Sys.time()\n",
    "dat_result <- get_cvInfo(seed_vector, dat)\n",
    "stop <- Sys.time()\n",
    "round(stop - start, 2)\n",
    "# Time difference of 4 mins\n"
   ]
  },
  {
   "cell_type": "code",
   "execution_count": 72,
   "metadata": {},
   "outputs": [
    {
     "data": {
      "text/html": [
       "<style>\n",
       ".list-inline {list-style: none; margin:0; padding: 0}\n",
       ".list-inline>li {display: inline-block}\n",
       ".list-inline>li:not(:last-child)::after {content: \"\\00b7\"; padding: 0 .5ex}\n",
       "</style>\n",
       "<ol class=list-inline><li>5000</li><li>5</li></ol>\n"
      ],
      "text/latex": [
       "\\begin{enumerate*}\n",
       "\\item 5000\n",
       "\\item 5\n",
       "\\end{enumerate*}\n"
      ],
      "text/markdown": [
       "1. 5000\n",
       "2. 5\n",
       "\n",
       "\n"
      ],
      "text/plain": [
       "[1] 5000    5"
      ]
     },
     "metadata": {},
     "output_type": "display_data"
    },
    {
     "data": {
      "text/html": [
       "<table>\n",
       "<caption>A data.frame: 6 × 5</caption>\n",
       "<thead>\n",
       "\t<tr><th></th><th scope=col>fscore</th><th scope=col>Acc</th><th scope=col>Type2</th><th scope=col>FN</th><th scope=col>FP</th></tr>\n",
       "\t<tr><th></th><th scope=col>&lt;dbl&gt;</th><th scope=col>&lt;dbl&gt;</th><th scope=col>&lt;dbl&gt;</th><th scope=col>&lt;dbl&gt;</th><th scope=col>&lt;dbl&gt;</th></tr>\n",
       "</thead>\n",
       "<tbody>\n",
       "\t<tr><th scope=row>4782--1</th><td>0.5660</td><td>0.7125</td><td>0.6246</td><td> 7</td><td>16</td></tr>\n",
       "\t<tr><th scope=row>4782--2</th><td>0.6000</td><td>0.7000</td><td>0.6400</td><td>10</td><td>14</td></tr>\n",
       "\t<tr><th scope=row>4782--3</th><td>0.5938</td><td>0.6750</td><td>0.6263</td><td>11</td><td>15</td></tr>\n",
       "\t<tr><th scope=row>4782--4</th><td>0.6914</td><td>0.6875</td><td>0.6898</td><td> 4</td><td>21</td></tr>\n",
       "\t<tr><th scope=row>4782--5</th><td>0.6923</td><td>0.7000</td><td>0.6954</td><td>10</td><td>14</td></tr>\n",
       "\t<tr><th scope=row>9275--1</th><td>0.6349</td><td>0.7125</td><td>0.6659</td><td>10</td><td>13</td></tr>\n",
       "</tbody>\n",
       "</table>\n"
      ],
      "text/latex": [
       "A data.frame: 6 × 5\n",
       "\\begin{tabular}{r|lllll}\n",
       "  & fscore & Acc & Type2 & FN & FP\\\\\n",
       "  & <dbl> & <dbl> & <dbl> & <dbl> & <dbl>\\\\\n",
       "\\hline\n",
       "\t4782--1 & 0.5660 & 0.7125 & 0.6246 &  7 & 16\\\\\n",
       "\t4782--2 & 0.6000 & 0.7000 & 0.6400 & 10 & 14\\\\\n",
       "\t4782--3 & 0.5938 & 0.6750 & 0.6263 & 11 & 15\\\\\n",
       "\t4782--4 & 0.6914 & 0.6875 & 0.6898 &  4 & 21\\\\\n",
       "\t4782--5 & 0.6923 & 0.7000 & 0.6954 & 10 & 14\\\\\n",
       "\t9275--1 & 0.6349 & 0.7125 & 0.6659 & 10 & 13\\\\\n",
       "\\end{tabular}\n"
      ],
      "text/markdown": [
       "\n",
       "A data.frame: 6 × 5\n",
       "\n",
       "| <!--/--> | fscore &lt;dbl&gt; | Acc &lt;dbl&gt; | Type2 &lt;dbl&gt; | FN &lt;dbl&gt; | FP &lt;dbl&gt; |\n",
       "|---|---|---|---|---|---|\n",
       "| 4782--1 | 0.5660 | 0.7125 | 0.6246 |  7 | 16 |\n",
       "| 4782--2 | 0.6000 | 0.7000 | 0.6400 | 10 | 14 |\n",
       "| 4782--3 | 0.5938 | 0.6750 | 0.6263 | 11 | 15 |\n",
       "| 4782--4 | 0.6914 | 0.6875 | 0.6898 |  4 | 21 |\n",
       "| 4782--5 | 0.6923 | 0.7000 | 0.6954 | 10 | 14 |\n",
       "| 9275--1 | 0.6349 | 0.7125 | 0.6659 | 10 | 13 |\n",
       "\n"
      ],
      "text/plain": [
       "        fscore Acc    Type2  FN FP\n",
       "4782--1 0.5660 0.7125 0.6246  7 16\n",
       "4782--2 0.6000 0.7000 0.6400 10 14\n",
       "4782--3 0.5938 0.6750 0.6263 11 15\n",
       "4782--4 0.6914 0.6875 0.6898  4 21\n",
       "4782--5 0.6923 0.7000 0.6954 10 14\n",
       "9275--1 0.6349 0.7125 0.6659 10 13"
      ]
     },
     "metadata": {},
     "output_type": "display_data"
    }
   ],
   "source": [
    "dim(dat_result)\n",
    "head(dat_result)\n"
   ]
  },
  {
   "cell_type": "code",
   "execution_count": 73,
   "metadata": {},
   "outputs": [
    {
     "data": {
      "text/html": [
       "'fscore mean: 0.6338'"
      ],
      "text/latex": [
       "'fscore mean: 0.6338'"
      ],
      "text/markdown": [
       "'fscore mean: 0.6338'"
      ],
      "text/plain": [
       "[1] \"fscore mean: 0.6338\""
      ]
     },
     "metadata": {},
     "output_type": "display_data"
    },
    {
     "data": {
      "text/html": [
       "'fscore StdDev: 0.062'"
      ],
      "text/latex": [
       "'fscore StdDev: 0.062'"
      ],
      "text/markdown": [
       "'fscore StdDev: 0.062'"
      ],
      "text/plain": [
       "[1] \"fscore StdDev: 0.062\""
      ]
     },
     "metadata": {},
     "output_type": "display_data"
    },
    {
     "data": {
      "text/html": [
       "''"
      ],
      "text/latex": [
       "''"
      ],
      "text/markdown": [
       "''"
      ],
      "text/plain": [
       "[1] \"\""
      ]
     },
     "metadata": {},
     "output_type": "display_data"
    },
    {
     "data": {
      "text/plain": [
       "   Min. 1st Qu.  Median    Mean 3rd Qu.    Max. \n",
       "  0.340   0.594   0.638   0.634   0.676   0.835 "
      ]
     },
     "metadata": {},
     "output_type": "display_data"
    }
   ],
   "source": [
    "fscore_mean <- round(mean(dat_result$fscore), 4)\n",
    "fscore_sd <- round(sd(dat_result$fscore), 4)\n",
    "paste0(\"fscore mean: \", as.character(fscore_mean))\n",
    "# 0.6338\n",
    "paste0(\"fscore StdDev: \", as.character(fscore_sd))\n",
    "# 0.0620\n",
    "\"\"\n",
    "summary(dat_result$fscore)\n"
   ]
  },
  {
   "cell_type": "code",
   "execution_count": 74,
   "metadata": {},
   "outputs": [
    {
     "data": {
      "text/html": [
       "'accuracy mean: 0.6939'"
      ],
      "text/latex": [
       "'accuracy mean: 0.6939'"
      ],
      "text/markdown": [
       "'accuracy mean: 0.6939'"
      ],
      "text/plain": [
       "[1] \"accuracy mean: 0.6939\""
      ]
     },
     "metadata": {},
     "output_type": "display_data"
    },
    {
     "data": {
      "text/html": [
       "'accuracy StdDev: 0.0461'"
      ],
      "text/latex": [
       "'accuracy StdDev: 0.0461'"
      ],
      "text/markdown": [
       "'accuracy StdDev: 0.0461'"
      ],
      "text/plain": [
       "[1] \"accuracy StdDev: 0.0461\""
      ]
     },
     "metadata": {},
     "output_type": "display_data"
    },
    {
     "data": {
      "text/html": [
       "''"
      ],
      "text/latex": [
       "''"
      ],
      "text/markdown": [
       "''"
      ],
      "text/plain": [
       "[1] \"\""
      ]
     },
     "metadata": {},
     "output_type": "display_data"
    },
    {
     "data": {
      "text/plain": [
       "   Min. 1st Qu.  Median    Mean 3rd Qu.    Max. \n",
       "  0.512   0.662   0.700   0.694   0.725   0.838 "
      ]
     },
     "metadata": {},
     "output_type": "display_data"
    }
   ],
   "source": [
    "Acc_mean <- round(mean(dat_result$Acc), 4)\n",
    "Acc_sd <- round(sd(dat_result$Acc), 4)\n",
    "paste0(\"accuracy mean: \", as.character(Acc_mean))\n",
    "# 0.6939\n",
    "paste0(\"accuracy StdDev: \", as.character(Acc_sd))\n",
    "# 0.0461\n",
    "\"\"\n",
    "summary(dat_result$Acc)\n"
   ]
  },
  {
   "cell_type": "code",
   "execution_count": 75,
   "metadata": {},
   "outputs": [
    {
     "data": {
      "text/html": [
       "'Type2 mean: 0.6578'"
      ],
      "text/latex": [
       "'Type2 mean: 0.6578'"
      ],
      "text/markdown": [
       "'Type2 mean: 0.6578'"
      ],
      "text/plain": [
       "[1] \"Type2 mean: 0.6578\""
      ]
     },
     "metadata": {},
     "output_type": "display_data"
    },
    {
     "data": {
      "text/html": [
       "'Type2 StdDev: 0.0532'"
      ],
      "text/latex": [
       "'Type2 StdDev: 0.0532'"
      ],
      "text/markdown": [
       "'Type2 StdDev: 0.0532'"
      ],
      "text/plain": [
       "[1] \"Type2 StdDev: 0.0532\""
      ]
     },
     "metadata": {},
     "output_type": "display_data"
    },
    {
     "data": {
      "text/html": [
       "''"
      ],
      "text/latex": [
       "''"
      ],
      "text/markdown": [
       "''"
      ],
      "text/plain": [
       "[1] \"\""
      ]
     },
     "metadata": {},
     "output_type": "display_data"
    },
    {
     "data": {
      "text/plain": [
       "   Min. 1st Qu.  Median    Mean 3rd Qu.    Max. \n",
       "  0.429   0.623   0.659   0.658   0.695   0.836 "
      ]
     },
     "metadata": {},
     "output_type": "display_data"
    }
   ],
   "source": [
    "Type2_mean <- round(mean(dat_result$Type2), 4)\n",
    "Type2_sd <- round(sd(dat_result$Type2), 4)\n",
    "paste0(\"Type2 mean: \", as.character(Type2_mean))\n",
    "# 0.6578\n",
    "paste0(\"Type2 StdDev: \", as.character(Type2_sd))\n",
    "# 0.0532\n",
    "\"\"\n",
    "summary(dat_result$Type2)\n"
   ]
  },
  {
   "cell_type": "code",
   "execution_count": 76,
   "metadata": {},
   "outputs": [
    {
     "data": {
      "image/png": "[encoded data removed]",
      "text/plain": [
       "Plot with title “Distribution of Type2 scores for hybrid model w/ prob01”"
      ]
     },
     "metadata": {
      "image/png": {
       "height": 360,
       "width": 600
      }
     },
     "output_type": "display_data"
    }
   ],
   "source": [
    "# Histogram of the Type2 scores for the hybrid model with prob01.\n",
    "\n",
    "options(repr.plot.width= 10, repr.plot.height= 6)\n",
    "hist(dat_result$Type2, breaks=10, xlab=\"Type2 score\",\n",
    "     main=\"Distribution of Type2 scores for hybrid model w/ prob01\")\n"
   ]
  },
  {
   "cell_type": "code",
   "execution_count": 77,
   "metadata": {},
   "outputs": [
    {
     "data": {
      "text/html": [
       "'FN mean: 8.3532'"
      ],
      "text/latex": [
       "'FN mean: 8.3532'"
      ],
      "text/markdown": [
       "'FN mean: 8.3532'"
      ],
      "text/plain": [
       "[1] \"FN mean: 8.3532\""
      ]
     },
     "metadata": {},
     "output_type": "display_data"
    },
    {
     "data": {
      "text/html": [
       "'FN StdDev: 2.4483'"
      ],
      "text/latex": [
       "'FN StdDev: 2.4483'"
      ],
      "text/markdown": [
       "'FN StdDev: 2.4483'"
      ],
      "text/plain": [
       "[1] \"FN StdDev: 2.4483\""
      ]
     },
     "metadata": {},
     "output_type": "display_data"
    },
    {
     "data": {
      "text/html": [
       "''"
      ],
      "text/latex": [
       "''"
      ],
      "text/markdown": [
       "''"
      ],
      "text/plain": [
       "[1] \"\""
      ]
     },
     "metadata": {},
     "output_type": "display_data"
    },
    {
     "data": {
      "text/plain": [
       "   Min. 1st Qu.  Median    Mean 3rd Qu.    Max. \n",
       "   1.00    7.00    8.00    8.35   10.00   17.00 "
      ]
     },
     "metadata": {},
     "output_type": "display_data"
    }
   ],
   "source": [
    "FN_mean <- round(mean(dat_result$FN), 4)\n",
    "FN_sd <- round(sd(dat_result$FN), 4)\n",
    "paste0(\"FN mean: \", as.character(FN_mean))\n",
    "# 8.35\n",
    "paste0(\"FN StdDev: \", as.character(FN_sd))\n",
    "# 2.45\n",
    "\"\"\n",
    "summary(dat_result$FN)\n"
   ]
  },
  {
   "cell_type": "code",
   "execution_count": 78,
   "metadata": {},
   "outputs": [
    {
     "data": {
      "text/html": [
       "'FP mean: 16.1342'"
      ],
      "text/latex": [
       "'FP mean: 16.1342'"
      ],
      "text/markdown": [
       "'FP mean: 16.1342'"
      ],
      "text/plain": [
       "[1] \"FP mean: 16.1342\""
      ]
     },
     "metadata": {},
     "output_type": "display_data"
    },
    {
     "data": {
      "text/html": [
       "'FP StdDev: 3.1684'"
      ],
      "text/latex": [
       "'FP StdDev: 3.1684'"
      ],
      "text/markdown": [
       "'FP StdDev: 3.1684'"
      ],
      "text/plain": [
       "[1] \"FP StdDev: 3.1684\""
      ]
     },
     "metadata": {},
     "output_type": "display_data"
    },
    {
     "data": {
      "text/html": [
       "''"
      ],
      "text/latex": [
       "''"
      ],
      "text/markdown": [
       "''"
      ],
      "text/plain": [
       "[1] \"\""
      ]
     },
     "metadata": {},
     "output_type": "display_data"
    },
    {
     "data": {
      "text/plain": [
       "   Min. 1st Qu.  Median    Mean 3rd Qu.    Max. \n",
       "    6.0    14.0    16.0    16.1    18.0    30.0 "
      ]
     },
     "metadata": {},
     "output_type": "display_data"
    }
   ],
   "source": [
    "FP_mean <- round(mean(dat_result$FP), 4)\n",
    "FP_sd <- round(sd(dat_result$FP), 4)\n",
    "paste0(\"FP mean: \", as.character(FP_mean))\n",
    "# 16.13\n",
    "paste0(\"FP StdDev: \", as.character(FP_sd))\n",
    "# 3.17\n",
    "\"\"\n",
    "summary(dat_result$FP)\n"
   ]
  },
  {
   "cell_type": "markdown",
   "metadata": {},
   "source": [
    "## Summary info for svm02"
   ]
  },
  {
   "cell_type": "code",
   "execution_count": 79,
   "metadata": {},
   "outputs": [],
   "source": [
    "# This function is called by get_cvInfo.  It returns a vector\n",
    "# of scores: f-score, accuracy, Type2, false negatives, and\n",
    "# false positives, in the stated order.  The scores are for\n",
    "# the svm02 model.\n",
    "\n",
    "get_cvScores_svm02 <- function(traindat, valdat) {\n",
    "    \n",
    "    # traindat and valdat need to be scaled\n",
    "    train_scaled <- scale(traindat[, -1])\n",
    "    train_centers <- attr(train_scaled, \"scaled:center\")\n",
    "    train_scales <- attr(train_scaled, \"scaled:scale\")\n",
    "    train_scaled <- as.data.frame(cbind(traindat$Outcome, train_scaled),\n",
    "                                  row.names=rownames(traindat))\n",
    "    colnames(train_scaled) <- colnames(traindat)\n",
    "    \n",
    "    svmmod <- svm(I(as.factor(Outcome)) ~ ., data=train_scaled, kernel=\"radial\",\n",
    "                  gamma= 0.008, cost= 20, scale=FALSE, probability=TRUE)\n",
    "    \n",
    "    # Scale valdat.\n",
    "    test_scaled <- scale(valdat[, -1], center=train_centers,\n",
    "                         scale=train_scales)\n",
    "    test_scaled <- as.data.frame(test_scaled, row.names=rownames(valdat))\n",
    "    \n",
    "    preds <- predict(svmmod, newdata= test_scaled)\n",
    "    ans <- table(preds, as.factor(valdat$Outcome))\n",
    "\n",
    "    mat <- as.matrix(ans)\n",
    "    fscore <- round(get_fscore(mat), 4)\n",
    "    acc <- round(sum(diag(mat))/floor(sum(mat)), 4)\n",
    "    type2 <- round((0.4 * acc + 0.6 * fscore), 4)\n",
    "    FN <- as.numeric(mat[2,1])\n",
    "    FP <- as.numeric(mat[1,2])\n",
    "    return(c(fscore,acc,type2,FN,FP))\n",
    "}\n"
   ]
  },
  {
   "cell_type": "code",
   "execution_count": 81,
   "metadata": {},
   "outputs": [
    {
     "data": {
      "text/plain": [
       "Time difference of 36.82 secs"
      ]
     },
     "metadata": {},
     "output_type": "display_data"
    }
   ],
   "source": [
    "# Get scores for the svm02 model.\n",
    "\n",
    "set.seed(1913)\n",
    "seed_vector <- sample(1:9999, 1000, replace=FALSE)\n",
    "\n",
    "start <- Sys.time()\n",
    "dat_result <- get_cvInfo(seed_vector, dat)\n",
    "stop <- Sys.time()\n",
    "round(stop - start, 2)\n",
    "# Time difference of 36.82 secs\n"
   ]
  },
  {
   "cell_type": "code",
   "execution_count": 82,
   "metadata": {},
   "outputs": [
    {
     "data": {
      "text/html": [
       "<style>\n",
       ".list-inline {list-style: none; margin:0; padding: 0}\n",
       ".list-inline>li {display: inline-block}\n",
       ".list-inline>li:not(:last-child)::after {content: \"\\00b7\"; padding: 0 .5ex}\n",
       "</style>\n",
       "<ol class=list-inline><li>5000</li><li>5</li></ol>\n"
      ],
      "text/latex": [
       "\\begin{enumerate*}\n",
       "\\item 5000\n",
       "\\item 5\n",
       "\\end{enumerate*}\n"
      ],
      "text/markdown": [
       "1. 5000\n",
       "2. 5\n",
       "\n",
       "\n"
      ],
      "text/plain": [
       "[1] 5000    5"
      ]
     },
     "metadata": {},
     "output_type": "display_data"
    },
    {
     "data": {
      "text/html": [
       "<table>\n",
       "<caption>A data.frame: 6 × 5</caption>\n",
       "<thead>\n",
       "\t<tr><th></th><th scope=col>fscore</th><th scope=col>Acc</th><th scope=col>Type2</th><th scope=col>FN</th><th scope=col>FP</th></tr>\n",
       "\t<tr><th></th><th scope=col>&lt;dbl&gt;</th><th scope=col>&lt;dbl&gt;</th><th scope=col>&lt;dbl&gt;</th><th scope=col>&lt;dbl&gt;</th><th scope=col>&lt;dbl&gt;</th></tr>\n",
       "</thead>\n",
       "<tbody>\n",
       "\t<tr><th scope=row>4782--1</th><td>0.5556</td><td>0.7000</td><td>0.6134</td><td>17</td><td> 7</td></tr>\n",
       "\t<tr><th scope=row>4782--2</th><td>0.6102</td><td>0.7125</td><td>0.6511</td><td>13</td><td>10</td></tr>\n",
       "\t<tr><th scope=row>4782--3</th><td>0.5517</td><td>0.6750</td><td>0.6010</td><td>12</td><td>14</td></tr>\n",
       "\t<tr><th scope=row>4782--4</th><td>0.7013</td><td>0.7125</td><td>0.7058</td><td>18</td><td> 5</td></tr>\n",
       "\t<tr><th scope=row>4782--5</th><td>0.6761</td><td>0.7125</td><td>0.6907</td><td>10</td><td>13</td></tr>\n",
       "\t<tr><th scope=row>9275--1</th><td>0.6102</td><td>0.7125</td><td>0.6511</td><td>11</td><td>12</td></tr>\n",
       "</tbody>\n",
       "</table>\n"
      ],
      "text/latex": [
       "A data.frame: 6 × 5\n",
       "\\begin{tabular}{r|lllll}\n",
       "  & fscore & Acc & Type2 & FN & FP\\\\\n",
       "  & <dbl> & <dbl> & <dbl> & <dbl> & <dbl>\\\\\n",
       "\\hline\n",
       "\t4782--1 & 0.5556 & 0.7000 & 0.6134 & 17 &  7\\\\\n",
       "\t4782--2 & 0.6102 & 0.7125 & 0.6511 & 13 & 10\\\\\n",
       "\t4782--3 & 0.5517 & 0.6750 & 0.6010 & 12 & 14\\\\\n",
       "\t4782--4 & 0.7013 & 0.7125 & 0.7058 & 18 &  5\\\\\n",
       "\t4782--5 & 0.6761 & 0.7125 & 0.6907 & 10 & 13\\\\\n",
       "\t9275--1 & 0.6102 & 0.7125 & 0.6511 & 11 & 12\\\\\n",
       "\\end{tabular}\n"
      ],
      "text/markdown": [
       "\n",
       "A data.frame: 6 × 5\n",
       "\n",
       "| <!--/--> | fscore &lt;dbl&gt; | Acc &lt;dbl&gt; | Type2 &lt;dbl&gt; | FN &lt;dbl&gt; | FP &lt;dbl&gt; |\n",
       "|---|---|---|---|---|---|\n",
       "| 4782--1 | 0.5556 | 0.7000 | 0.6134 | 17 |  7 |\n",
       "| 4782--2 | 0.6102 | 0.7125 | 0.6511 | 13 | 10 |\n",
       "| 4782--3 | 0.5517 | 0.6750 | 0.6010 | 12 | 14 |\n",
       "| 4782--4 | 0.7013 | 0.7125 | 0.7058 | 18 |  5 |\n",
       "| 4782--5 | 0.6761 | 0.7125 | 0.6907 | 10 | 13 |\n",
       "| 9275--1 | 0.6102 | 0.7125 | 0.6511 | 11 | 12 |\n",
       "\n"
      ],
      "text/plain": [
       "        fscore Acc    Type2  FN FP\n",
       "4782--1 0.5556 0.7000 0.6134 17  7\n",
       "4782--2 0.6102 0.7125 0.6511 13 10\n",
       "4782--3 0.5517 0.6750 0.6010 12 14\n",
       "4782--4 0.7013 0.7125 0.7058 18  5\n",
       "4782--5 0.6761 0.7125 0.6907 10 13\n",
       "9275--1 0.6102 0.7125 0.6511 11 12"
      ]
     },
     "metadata": {},
     "output_type": "display_data"
    }
   ],
   "source": [
    "dim(dat_result)\n",
    "head(dat_result)\n"
   ]
  },
  {
   "cell_type": "code",
   "execution_count": 84,
   "metadata": {},
   "outputs": [
    {
     "data": {
      "text/html": [
       "'fscore mean: 0.6307'"
      ],
      "text/latex": [
       "'fscore mean: 0.6307'"
      ],
      "text/markdown": [
       "'fscore mean: 0.6307'"
      ],
      "text/plain": [
       "[1] \"fscore mean: 0.6307\""
      ]
     },
     "metadata": {},
     "output_type": "display_data"
    },
    {
     "data": {
      "text/html": [
       "'fscore StdDev: 0.0639'"
      ],
      "text/latex": [
       "'fscore StdDev: 0.0639'"
      ],
      "text/markdown": [
       "'fscore StdDev: 0.0639'"
      ],
      "text/plain": [
       "[1] \"fscore StdDev: 0.0639\""
      ]
     },
     "metadata": {},
     "output_type": "display_data"
    },
    {
     "data": {
      "text/html": [
       "''"
      ],
      "text/latex": [
       "''"
      ],
      "text/markdown": [
       "''"
      ],
      "text/plain": [
       "[1] \"\""
      ]
     },
     "metadata": {},
     "output_type": "display_data"
    },
    {
     "data": {
      "text/plain": [
       "   Min. 1st Qu.  Median    Mean 3rd Qu.    Max.    NA's \n",
       "  0.361   0.588   0.635   0.631   0.676   0.831       2 "
      ]
     },
     "metadata": {},
     "output_type": "display_data"
    }
   ],
   "source": [
    "fscore_mean <- round(mean(dat_result$fscore, na.rm=TRUE), 4)\n",
    "fscore_sd <- round(sd(dat_result$fscore, na.rm=TRUE), 4)\n",
    "paste0(\"fscore mean: \", as.character(fscore_mean))\n",
    "# 0.6307\n",
    "paste0(\"fscore StdDev: \", as.character(fscore_sd))\n",
    "# 0.0639\n",
    "\"\"\n",
    "summary(dat_result$fscore)\n"
   ]
  },
  {
   "cell_type": "code",
   "execution_count": 85,
   "metadata": {},
   "outputs": [
    {
     "data": {
      "text/html": [
       "'accuracy mean: 0.7047'"
      ],
      "text/latex": [
       "'accuracy mean: 0.7047'"
      ],
      "text/markdown": [
       "'accuracy mean: 0.7047'"
      ],
      "text/plain": [
       "[1] \"accuracy mean: 0.7047\""
      ]
     },
     "metadata": {},
     "output_type": "display_data"
    },
    {
     "data": {
      "text/html": [
       "'accuracy StdDev: 0.0472'"
      ],
      "text/latex": [
       "'accuracy StdDev: 0.0472'"
      ],
      "text/markdown": [
       "'accuracy StdDev: 0.0472'"
      ],
      "text/plain": [
       "[1] \"accuracy StdDev: 0.0472\""
      ]
     },
     "metadata": {},
     "output_type": "display_data"
    },
    {
     "data": {
      "text/html": [
       "''"
      ],
      "text/latex": [
       "''"
      ],
      "text/markdown": [
       "''"
      ],
      "text/plain": [
       "[1] \"\""
      ]
     },
     "metadata": {},
     "output_type": "display_data"
    },
    {
     "data": {
      "text/plain": [
       "   Min. 1st Qu.  Median    Mean 3rd Qu.    Max. \n",
       "  0.438   0.675   0.713   0.705   0.738   0.863 "
      ]
     },
     "metadata": {},
     "output_type": "display_data"
    }
   ],
   "source": [
    "Acc_mean <- round(mean(dat_result$Acc, na.rm=TRUE), 4)\n",
    "Acc_sd <- round(sd(dat_result$Acc, na.rm=TRUE), 4)\n",
    "paste0(\"accuracy mean: \", as.character(Acc_mean))\n",
    "# 0.7047\n",
    "paste0(\"accuracy StdDev: \", as.character(Acc_sd))\n",
    "# 0.0472\n",
    "\"\"\n",
    "summary(dat_result$Acc)\n"
   ]
  },
  {
   "cell_type": "code",
   "execution_count": 86,
   "metadata": {},
   "outputs": [
    {
     "data": {
      "text/html": [
       "'Type2 mean: 0.6603'"
      ],
      "text/latex": [
       "'Type2 mean: 0.6603'"
      ],
      "text/markdown": [
       "'Type2 mean: 0.6603'"
      ],
      "text/plain": [
       "[1] \"Type2 mean: 0.6603\""
      ]
     },
     "metadata": {},
     "output_type": "display_data"
    },
    {
     "data": {
      "text/html": [
       "'Type2 StdDev: 0.0551'"
      ],
      "text/latex": [
       "'Type2 StdDev: 0.0551'"
      ],
      "text/markdown": [
       "'Type2 StdDev: 0.0551'"
      ],
      "text/plain": [
       "[1] \"Type2 StdDev: 0.0551\""
      ]
     },
     "metadata": {},
     "output_type": "display_data"
    },
    {
     "data": {
      "text/html": [
       "''"
      ],
      "text/latex": [
       "''"
      ],
      "text/markdown": [
       "''"
      ],
      "text/plain": [
       "[1] \"\""
      ]
     },
     "metadata": {},
     "output_type": "display_data"
    },
    {
     "data": {
      "text/plain": [
       "   Min. 1st Qu.  Median    Mean 3rd Qu.    Max.    NA's \n",
       "  0.421   0.623   0.662   0.660   0.698   0.844       2 "
      ]
     },
     "metadata": {},
     "output_type": "display_data"
    }
   ],
   "source": [
    "Type2_mean <- round(mean(dat_result$Type2, na.rm=TRUE), 4)\n",
    "Type2_sd <- round(sd(dat_result$Type2, na.rm=TRUE), 4)\n",
    "paste0(\"Type2 mean: \", as.character(Type2_mean))\n",
    "# 0.6603\n",
    "paste0(\"Type2 StdDev: \", as.character(Type2_sd))\n",
    "# 0.0551\n",
    "\"\"\n",
    "summary(dat_result$Type2)\n"
   ]
  },
  {
   "cell_type": "code",
   "execution_count": 87,
   "metadata": {},
   "outputs": [
    {
     "data": {
      "image/png": "[encoded data removed]",
      "text/plain": [
       "Plot with title “Distribution of Type2 scores for the svm02 model”"
      ]
     },
     "metadata": {
      "image/png": {
       "height": 360,
       "width": 600
      }
     },
     "output_type": "display_data"
    }
   ],
   "source": [
    "# Histogram of the Type2 scores for the svm02 model.\n",
    "\n",
    "options(repr.plot.width= 10, repr.plot.height= 6)\n",
    "hist(dat_result$Type2, breaks=10, xlab=\"Type2 score\",\n",
    "     main=\"Distribution of Type2 scores for the svm02 model\")\n"
   ]
  },
  {
   "cell_type": "code",
   "execution_count": 88,
   "metadata": {},
   "outputs": [
    {
     "data": {
      "text/html": [
       "'FN mean: 14.178'"
      ],
      "text/latex": [
       "'FN mean: 14.178'"
      ],
      "text/markdown": [
       "'FN mean: 14.178'"
      ],
      "text/plain": [
       "[1] \"FN mean: 14.178\""
      ]
     },
     "metadata": {},
     "output_type": "display_data"
    },
    {
     "data": {
      "text/html": [
       "'FN StdDev: 3.5682'"
      ],
      "text/latex": [
       "'FN StdDev: 3.5682'"
      ],
      "text/markdown": [
       "'FN StdDev: 3.5682'"
      ],
      "text/plain": [
       "[1] \"FN StdDev: 3.5682\""
      ]
     },
     "metadata": {},
     "output_type": "display_data"
    },
    {
     "data": {
      "text/html": [
       "''"
      ],
      "text/latex": [
       "''"
      ],
      "text/markdown": [
       "''"
      ],
      "text/plain": [
       "[1] \"\""
      ]
     },
     "metadata": {},
     "output_type": "display_data"
    },
    {
     "data": {
      "text/plain": [
       "   Min. 1st Qu.  Median    Mean 3rd Qu.    Max. \n",
       "    0.0    12.0    14.0    14.2    16.0    30.0 "
      ]
     },
     "metadata": {},
     "output_type": "display_data"
    }
   ],
   "source": [
    "FN_mean <- round(mean(dat_result$FN, na.rm=TRUE), 4)\n",
    "FN_sd <- round(sd(dat_result$FN, na.rm=TRUE), 4)\n",
    "paste0(\"FN mean: \", as.character(FN_mean))\n",
    "# 14.18\n",
    "paste0(\"FN StdDev: \", as.character(FN_sd))\n",
    "# 3.57\n",
    "\"\"\n",
    "summary(dat_result$FN)\n"
   ]
  },
  {
   "cell_type": "code",
   "execution_count": 89,
   "metadata": {},
   "outputs": [
    {
     "data": {
      "text/html": [
       "'FP mean: 9.4424'"
      ],
      "text/latex": [
       "'FP mean: 9.4424'"
      ],
      "text/markdown": [
       "'FP mean: 9.4424'"
      ],
      "text/plain": [
       "[1] \"FP mean: 9.4424\""
      ]
     },
     "metadata": {},
     "output_type": "display_data"
    },
    {
     "data": {
      "text/html": [
       "'FP StdDev: 3.0732'"
      ],
      "text/latex": [
       "'FP StdDev: 3.0732'"
      ],
      "text/markdown": [
       "'FP StdDev: 3.0732'"
      ],
      "text/plain": [
       "[1] \"FP StdDev: 3.0732\""
      ]
     },
     "metadata": {},
     "output_type": "display_data"
    },
    {
     "data": {
      "text/html": [
       "''"
      ],
      "text/latex": [
       "''"
      ],
      "text/markdown": [
       "''"
      ],
      "text/plain": [
       "[1] \"\""
      ]
     },
     "metadata": {},
     "output_type": "display_data"
    },
    {
     "data": {
      "text/plain": [
       "   Min. 1st Qu.  Median    Mean 3rd Qu.    Max. \n",
       "   1.00    7.00    9.00    9.44   11.00   45.00 "
      ]
     },
     "metadata": {},
     "output_type": "display_data"
    }
   ],
   "source": [
    "FP_mean <- round(mean(dat_result$FP, na.rm=TRUE), 4)\n",
    "FP_sd <- round(sd(dat_result$FP, na.rm=TRUE), 4)\n",
    "paste0(\"FP mean: \", as.character(FP_mean))\n",
    "# 9.44\n",
    "paste0(\"FP StdDev: \", as.character(FP_sd))\n",
    "# 3.07\n",
    "\"\"\n",
    "summary(dat_result$FP)\n"
   ]
  },
  {
   "cell_type": "markdown",
   "metadata": {},
   "source": [
    "## Summary info for gbclf_best"
   ]
  },
  {
   "cell_type": "code",
   "execution_count": 20,
   "metadata": {},
   "outputs": [],
   "source": [
    "# This function is called by get_cvInfo.  It returns a vector\n",
    "# of scores: f-score, accuracy, Type2, false negatives, and\n",
    "# false positives, in the stated order.  The scores are for\n",
    "# the gbclf_best model.\n",
    "\n",
    "get_cvScores_gbclf <- function(traindat, valdat) {\n",
    "    \n",
    "    set.seed(123)\n",
    "    gbmod <- gbm(Outcome ~ ., data= traindat, n.trees= 100,\n",
    "                  distribution= \"bernoulli\", shrinkage= 0.03)\n",
    "    \n",
    "    preds <- suppressMessages(predict(gbmod, newdata= valdat, type=\"response\"))\n",
    "    preds[which(preds >= 0.5)] <- 1\n",
    "    preds[which(preds < 0.5)] <- 0\n",
    "    names(preds) <- rownames(valdat)\n",
    "    preds <- as.factor(preds)\n",
    "    \n",
    "    ans <- get_confusion(preds, valdat[, \"Outcome\", drop=FALSE])\n",
    "\n",
    "    mat <- as.matrix(ans[[1]])\n",
    "    fscore <- round(ans[[2]], 4)\n",
    "    acc <- round(sum(diag(mat))/floor(sum(mat)), 4)\n",
    "    type2 <- round((0.4 * acc + 0.6 * fscore), 4)\n",
    "    FN <- as.numeric(mat[2,1])\n",
    "    FP <- as.numeric(mat[1,2])\n",
    "    return(c(fscore,acc,type2,FN,FP))\n",
    "}"
   ]
  },
  {
   "cell_type": "code",
   "execution_count": 22,
   "metadata": {},
   "outputs": [
    {
     "data": {
      "text/plain": [
       "Time difference of 28.8 secs"
      ]
     },
     "metadata": {},
     "output_type": "display_data"
    }
   ],
   "source": [
    "# Get summary scores for gbclf_best.\n",
    "\n",
    "set.seed(1913)\n",
    "seed_vector <- sample(1:9999, 1000, replace=FALSE)\n",
    "\n",
    "start <- Sys.time()\n",
    "dat_result <- get_cvInfo(seed_vector, dat)\n",
    "stop <- Sys.time()\n",
    "round(stop - start, 2)\n",
    "# Time difference of 28.8 secs\n"
   ]
  },
  {
   "cell_type": "code",
   "execution_count": 23,
   "metadata": {},
   "outputs": [
    {
     "data": {
      "text/html": [
       "<style>\n",
       ".list-inline {list-style: none; margin:0; padding: 0}\n",
       ".list-inline>li {display: inline-block}\n",
       ".list-inline>li:not(:last-child)::after {content: \"\\00b7\"; padding: 0 .5ex}\n",
       "</style>\n",
       "<ol class=list-inline><li>5000</li><li>5</li></ol>\n"
      ],
      "text/latex": [
       "\\begin{enumerate*}\n",
       "\\item 5000\n",
       "\\item 5\n",
       "\\end{enumerate*}\n"
      ],
      "text/markdown": [
       "1. 5000\n",
       "2. 5\n",
       "\n",
       "\n"
      ],
      "text/plain": [
       "[1] 5000    5"
      ]
     },
     "metadata": {},
     "output_type": "display_data"
    },
    {
     "data": {
      "text/html": [
       "<table>\n",
       "<caption>A data.frame: 6 × 5</caption>\n",
       "<thead>\n",
       "\t<tr><th></th><th scope=col>fscore</th><th scope=col>Acc</th><th scope=col>Type2</th><th scope=col>FN</th><th scope=col>FP</th></tr>\n",
       "\t<tr><th></th><th scope=col>&lt;dbl&gt;</th><th scope=col>&lt;dbl&gt;</th><th scope=col>&lt;dbl&gt;</th><th scope=col>&lt;dbl&gt;</th><th scope=col>&lt;dbl&gt;</th></tr>\n",
       "</thead>\n",
       "<tbody>\n",
       "\t<tr><th scope=row>4782--1</th><td>0.5833</td><td>0.7500</td><td>0.6500</td><td> 8</td><td>12</td></tr>\n",
       "\t<tr><th scope=row>4782--2</th><td>0.5614</td><td>0.6875</td><td>0.6118</td><td>12</td><td>13</td></tr>\n",
       "\t<tr><th scope=row>4782--3</th><td>0.5926</td><td>0.7250</td><td>0.6456</td><td>14</td><td> 8</td></tr>\n",
       "\t<tr><th scope=row>4782--4</th><td>0.6471</td><td>0.7000</td><td>0.6683</td><td>10</td><td>14</td></tr>\n",
       "\t<tr><th scope=row>4782--5</th><td>0.6562</td><td>0.7250</td><td>0.6837</td><td>16</td><td> 6</td></tr>\n",
       "\t<tr><th scope=row>9275--1</th><td>0.6441</td><td>0.7375</td><td>0.6815</td><td>11</td><td>10</td></tr>\n",
       "</tbody>\n",
       "</table>\n"
      ],
      "text/latex": [
       "A data.frame: 6 × 5\n",
       "\\begin{tabular}{r|lllll}\n",
       "  & fscore & Acc & Type2 & FN & FP\\\\\n",
       "  & <dbl> & <dbl> & <dbl> & <dbl> & <dbl>\\\\\n",
       "\\hline\n",
       "\t4782--1 & 0.5833 & 0.7500 & 0.6500 &  8 & 12\\\\\n",
       "\t4782--2 & 0.5614 & 0.6875 & 0.6118 & 12 & 13\\\\\n",
       "\t4782--3 & 0.5926 & 0.7250 & 0.6456 & 14 &  8\\\\\n",
       "\t4782--4 & 0.6471 & 0.7000 & 0.6683 & 10 & 14\\\\\n",
       "\t4782--5 & 0.6562 & 0.7250 & 0.6837 & 16 &  6\\\\\n",
       "\t9275--1 & 0.6441 & 0.7375 & 0.6815 & 11 & 10\\\\\n",
       "\\end{tabular}\n"
      ],
      "text/markdown": [
       "\n",
       "A data.frame: 6 × 5\n",
       "\n",
       "| <!--/--> | fscore &lt;dbl&gt; | Acc &lt;dbl&gt; | Type2 &lt;dbl&gt; | FN &lt;dbl&gt; | FP &lt;dbl&gt; |\n",
       "|---|---|---|---|---|---|\n",
       "| 4782--1 | 0.5833 | 0.7500 | 0.6500 |  8 | 12 |\n",
       "| 4782--2 | 0.5614 | 0.6875 | 0.6118 | 12 | 13 |\n",
       "| 4782--3 | 0.5926 | 0.7250 | 0.6456 | 14 |  8 |\n",
       "| 4782--4 | 0.6471 | 0.7000 | 0.6683 | 10 | 14 |\n",
       "| 4782--5 | 0.6562 | 0.7250 | 0.6837 | 16 |  6 |\n",
       "| 9275--1 | 0.6441 | 0.7375 | 0.6815 | 11 | 10 |\n",
       "\n"
      ],
      "text/plain": [
       "        fscore Acc    Type2  FN FP\n",
       "4782--1 0.5833 0.7500 0.6500  8 12\n",
       "4782--2 0.5614 0.6875 0.6118 12 13\n",
       "4782--3 0.5926 0.7250 0.6456 14  8\n",
       "4782--4 0.6471 0.7000 0.6683 10 14\n",
       "4782--5 0.6562 0.7250 0.6837 16  6\n",
       "9275--1 0.6441 0.7375 0.6815 11 10"
      ]
     },
     "metadata": {},
     "output_type": "display_data"
    }
   ],
   "source": [
    "dim(dat_result)\n",
    "head(dat_result)\n"
   ]
  },
  {
   "cell_type": "code",
   "execution_count": 24,
   "metadata": {},
   "outputs": [
    {
     "data": {
      "text/html": [
       "'fscore mean: 0.6058'"
      ],
      "text/latex": [
       "'fscore mean: 0.6058'"
      ],
      "text/markdown": [
       "'fscore mean: 0.6058'"
      ],
      "text/plain": [
       "[1] \"fscore mean: 0.6058\""
      ]
     },
     "metadata": {},
     "output_type": "display_data"
    },
    {
     "data": {
      "text/html": [
       "'fscore StdDev: 0.0681'"
      ],
      "text/latex": [
       "'fscore StdDev: 0.0681'"
      ],
      "text/markdown": [
       "'fscore StdDev: 0.0681'"
      ],
      "text/plain": [
       "[1] \"fscore StdDev: 0.0681\""
      ]
     },
     "metadata": {},
     "output_type": "display_data"
    },
    {
     "data": {
      "text/html": [
       "''"
      ],
      "text/latex": [
       "''"
      ],
      "text/markdown": [
       "''"
      ],
      "text/plain": [
       "[1] \"\""
      ]
     },
     "metadata": {},
     "output_type": "display_data"
    },
    {
     "data": {
      "text/plain": [
       "   Min. 1st Qu.  Median    Mean 3rd Qu.    Max. \n",
       "  0.279   0.561   0.610   0.606   0.655   0.842 "
      ]
     },
     "metadata": {},
     "output_type": "display_data"
    }
   ],
   "source": [
    "fscore_mean <- round(mean(dat_result$fscore, na.rm=TRUE), 4)\n",
    "fscore_sd <- round(sd(dat_result$fscore, na.rm=TRUE), 4)\n",
    "paste0(\"fscore mean: \", as.character(fscore_mean))\n",
    "# 0.6058\n",
    "paste0(\"fscore StdDev: \", as.character(fscore_sd))\n",
    "# 0.0681\n",
    "\"\"\n",
    "summary(dat_result$fscore)\n"
   ]
  },
  {
   "cell_type": "code",
   "execution_count": 25,
   "metadata": {},
   "outputs": [
    {
     "data": {
      "text/html": [
       "'accuracy mean: 0.714'"
      ],
      "text/latex": [
       "'accuracy mean: 0.714'"
      ],
      "text/markdown": [
       "'accuracy mean: 0.714'"
      ],
      "text/plain": [
       "[1] \"accuracy mean: 0.714\""
      ]
     },
     "metadata": {},
     "output_type": "display_data"
    },
    {
     "data": {
      "text/html": [
       "'accuracy StdDev: 0.046'"
      ],
      "text/latex": [
       "'accuracy StdDev: 0.046'"
      ],
      "text/markdown": [
       "'accuracy StdDev: 0.046'"
      ],
      "text/plain": [
       "[1] \"accuracy StdDev: 0.046\""
      ]
     },
     "metadata": {},
     "output_type": "display_data"
    },
    {
     "data": {
      "text/html": [
       "''"
      ],
      "text/latex": [
       "''"
      ],
      "text/markdown": [
       "''"
      ],
      "text/plain": [
       "[1] \"\""
      ]
     },
     "metadata": {},
     "output_type": "display_data"
    },
    {
     "data": {
      "text/plain": [
       "   Min. 1st Qu.  Median    Mean 3rd Qu.    Max. \n",
       "  0.506   0.688   0.713   0.714   0.750   0.887 "
      ]
     },
     "metadata": {},
     "output_type": "display_data"
    }
   ],
   "source": [
    "Acc_mean <- round(mean(dat_result$Acc, na.rm=TRUE), 4)\n",
    "Acc_sd <- round(sd(dat_result$Acc, na.rm=TRUE), 4)\n",
    "paste0(\"accuracy mean: \", as.character(Acc_mean))\n",
    "# 0.714\n",
    "paste0(\"accuracy StdDev: \", as.character(Acc_sd))\n",
    "# 0.046\n",
    "\"\"\n",
    "summary(dat_result$Acc)\n"
   ]
  },
  {
   "cell_type": "code",
   "execution_count": 26,
   "metadata": {},
   "outputs": [
    {
     "data": {
      "text/html": [
       "'Type2 mean: 0.6491'"
      ],
      "text/latex": [
       "'Type2 mean: 0.6491'"
      ],
      "text/markdown": [
       "'Type2 mean: 0.6491'"
      ],
      "text/plain": [
       "[1] \"Type2 mean: 0.6491\""
      ]
     },
     "metadata": {},
     "output_type": "display_data"
    },
    {
     "data": {
      "text/html": [
       "'Type2 StdDev: 0.0567'"
      ],
      "text/latex": [
       "'Type2 StdDev: 0.0567'"
      ],
      "text/markdown": [
       "'Type2 StdDev: 0.0567'"
      ],
      "text/plain": [
       "[1] \"Type2 StdDev: 0.0567\""
      ]
     },
     "metadata": {},
     "output_type": "display_data"
    },
    {
     "data": {
      "text/html": [
       "''"
      ],
      "text/latex": [
       "''"
      ],
      "text/markdown": [
       "''"
      ],
      "text/plain": [
       "[1] \"\""
      ]
     },
     "metadata": {},
     "output_type": "display_data"
    },
    {
     "data": {
      "text/plain": [
       "   Min. 1st Qu.  Median    Mean 3rd Qu.    Max. \n",
       "  0.412   0.612   0.651   0.649   0.688   0.860 "
      ]
     },
     "metadata": {},
     "output_type": "display_data"
    }
   ],
   "source": [
    "Type2_mean <- round(mean(dat_result$Type2, na.rm=TRUE), 4)\n",
    "Type2_sd <- round(sd(dat_result$Type2, na.rm=TRUE), 4)\n",
    "paste0(\"Type2 mean: \", as.character(Type2_mean))\n",
    "# 0.6491\n",
    "paste0(\"Type2 StdDev: \", as.character(Type2_sd))\n",
    "# 0.0567\n",
    "\"\"\n",
    "summary(dat_result$Type2)\n"
   ]
  },
  {
   "cell_type": "code",
   "execution_count": 27,
   "metadata": {},
   "outputs": [
    {
     "data": {
      "image/png": "[encoded data removed]",
      "text/plain": [
       "Plot with title “Distribution of Type2 scores for gbclf_best”"
      ]
     },
     "metadata": {
      "image/png": {
       "height": 360,
       "width": 600
      }
     },
     "output_type": "display_data"
    }
   ],
   "source": [
    "# Histogram of the Type2 scores for gbclf_best.\n",
    "\n",
    "options(repr.plot.width= 10, repr.plot.height= 6)\n",
    "hist(dat_result$Type2, breaks=10, xlab=\"Type2 score\",\n",
    "     main=\"Distribution of Type2 scores for gbclf_best\")\n"
   ]
  },
  {
   "cell_type": "code",
   "execution_count": 28,
   "metadata": {},
   "outputs": [
    {
     "data": {
      "text/html": [
       "'FN mean: 12.0116'"
      ],
      "text/latex": [
       "'FN mean: 12.0116'"
      ],
      "text/markdown": [
       "'FN mean: 12.0116'"
      ],
      "text/plain": [
       "[1] \"FN mean: 12.0116\""
      ]
     },
     "metadata": {},
     "output_type": "display_data"
    },
    {
     "data": {
      "text/html": [
       "'FN StdDev: 3.2301'"
      ],
      "text/latex": [
       "'FN StdDev: 3.2301'"
      ],
      "text/markdown": [
       "'FN StdDev: 3.2301'"
      ],
      "text/plain": [
       "[1] \"FN StdDev: 3.2301\""
      ]
     },
     "metadata": {},
     "output_type": "display_data"
    },
    {
     "data": {
      "text/html": [
       "''"
      ],
      "text/latex": [
       "''"
      ],
      "text/markdown": [
       "''"
      ],
      "text/plain": [
       "[1] \"\""
      ]
     },
     "metadata": {},
     "output_type": "display_data"
    },
    {
     "data": {
      "text/plain": [
       "   Min. 1st Qu.  Median    Mean 3rd Qu.    Max. \n",
       "      1      10      12      12      14      26 "
      ]
     },
     "metadata": {},
     "output_type": "display_data"
    }
   ],
   "source": [
    "FN_mean <- round(mean(dat_result$FN, na.rm=TRUE), 4)\n",
    "FN_sd <- round(sd(dat_result$FN, na.rm=TRUE), 4)\n",
    "paste0(\"FN mean: \", as.character(FN_mean))\n",
    "# 12.01\n",
    "paste0(\"FN StdDev: \", as.character(FN_sd))\n",
    "# 3.23\n",
    "\"\"\n",
    "summary(dat_result$FN)\n"
   ]
  },
  {
   "cell_type": "code",
   "execution_count": 29,
   "metadata": {},
   "outputs": [
    {
     "data": {
      "text/html": [
       "'FP mean: 10.8666'"
      ],
      "text/latex": [
       "'FP mean: 10.8666'"
      ],
      "text/markdown": [
       "'FP mean: 10.8666'"
      ],
      "text/plain": [
       "[1] \"FP mean: 10.8666\""
      ]
     },
     "metadata": {},
     "output_type": "display_data"
    },
    {
     "data": {
      "text/html": [
       "'FP StdDev: 3.2844'"
      ],
      "text/latex": [
       "'FP StdDev: 3.2844'"
      ],
      "text/markdown": [
       "'FP StdDev: 3.2844'"
      ],
      "text/plain": [
       "[1] \"FP StdDev: 3.2844\""
      ]
     },
     "metadata": {},
     "output_type": "display_data"
    },
    {
     "data": {
      "text/html": [
       "''"
      ],
      "text/latex": [
       "''"
      ],
      "text/markdown": [
       "''"
      ],
      "text/plain": [
       "[1] \"\""
      ]
     },
     "metadata": {},
     "output_type": "display_data"
    },
    {
     "data": {
      "text/plain": [
       "   Min. 1st Qu.  Median    Mean 3rd Qu.    Max. \n",
       "    2.0     9.0    11.0    10.9    13.0    26.0 "
      ]
     },
     "metadata": {},
     "output_type": "display_data"
    }
   ],
   "source": [
    "FP_mean <- round(mean(dat_result$FP, na.rm=TRUE), 4)\n",
    "FP_sd <- round(sd(dat_result$FP, na.rm=TRUE), 4)\n",
    "paste0(\"FP mean: \", as.character(FP_mean))\n",
    "# 10.87\n",
    "paste0(\"FP StdDev: \", as.character(FP_sd))\n",
    "# 3.28\n",
    "\"\"\n",
    "summary(dat_result$FP)\n"
   ]
  },
  {
   "cell_type": "markdown",
   "metadata": {},
   "source": [
    "## Summary info for the g03 logistic model"
   ]
  },
  {
   "cell_type": "code",
   "execution_count": 30,
   "metadata": {},
   "outputs": [],
   "source": [
    "# This function is called by get_cvInfo.  It returns a vector\n",
    "# of scores: f-score, accuracy, Type2, false negatives, and\n",
    "# false positives, in the stated order. \n",
    "# (First alter get_cvInfo to call this function.)\n",
    "\n",
    "get_cvScores_g03 <- function(traindat, valdat) {\n",
    "    \n",
    "    g03mod <- suppressWarnings(glm(Outcome ~ Daysrec + CK + I(log(AST)),\n",
    "                  data= traindat, family= binomial, singular.ok=TRUE,\n",
    "                  epsilon= 1e-7, maxit=50))\n",
    "    \n",
    "    preds <- suppressWarnings(predict(g03mod, newdata= valdat, type=\"response\"))\n",
    "    preds[which(preds >= 0.5)] <- 1\n",
    "    preds[which(preds < 0.5)] <- 0\n",
    "    names(preds) <- rownames(valdat)\n",
    "    preds <- as.factor(preds)\n",
    "    \n",
    "    ans <- get_confusion(preds, valdat[, \"Outcome\", drop=FALSE])\n",
    "\n",
    "    mat <- as.matrix(ans[[1]])\n",
    "    fscore <- round(ans[[2]], 4)\n",
    "    acc <- round(sum(diag(mat))/floor(sum(mat)), 4)\n",
    "    type2 <- round((0.4 * acc + 0.6 * fscore), 4)\n",
    "    FN <- as.numeric(mat[2,1])\n",
    "    FP <- as.numeric(mat[1,2])\n",
    "    return(c(fscore,acc,type2,FN,FP))\n",
    "}\n"
   ]
  },
  {
   "cell_type": "code",
   "execution_count": 32,
   "metadata": {},
   "outputs": [
    {
     "data": {
      "text/plain": [
       "Time difference of 28.12 secs"
      ]
     },
     "metadata": {},
     "output_type": "display_data"
    }
   ],
   "source": [
    "# Get summary scores for the g03 logistic model.\n",
    "\n",
    "set.seed(1913)\n",
    "seed_vector <- sample(1:9999, 1000, replace=FALSE)\n",
    "\n",
    "start <- Sys.time()\n",
    "dat_result <- get_cvInfo(seed_vector, dat)\n",
    "stop <- Sys.time()\n",
    "round(stop - start, 2)\n",
    "# Time difference of 28.12 secs\n"
   ]
  },
  {
   "cell_type": "code",
   "execution_count": 33,
   "metadata": {},
   "outputs": [
    {
     "data": {
      "text/html": [
       "<style>\n",
       ".list-inline {list-style: none; margin:0; padding: 0}\n",
       ".list-inline>li {display: inline-block}\n",
       ".list-inline>li:not(:last-child)::after {content: \"\\00b7\"; padding: 0 .5ex}\n",
       "</style>\n",
       "<ol class=list-inline><li>5000</li><li>5</li></ol>\n"
      ],
      "text/latex": [
       "\\begin{enumerate*}\n",
       "\\item 5000\n",
       "\\item 5\n",
       "\\end{enumerate*}\n"
      ],
      "text/markdown": [
       "1. 5000\n",
       "2. 5\n",
       "\n",
       "\n"
      ],
      "text/plain": [
       "[1] 5000    5"
      ]
     },
     "metadata": {},
     "output_type": "display_data"
    },
    {
     "data": {
      "text/html": [
       "<table>\n",
       "<caption>A data.frame: 6 × 5</caption>\n",
       "<thead>\n",
       "\t<tr><th></th><th scope=col>fscore</th><th scope=col>Acc</th><th scope=col>Type2</th><th scope=col>FN</th><th scope=col>FP</th></tr>\n",
       "\t<tr><th></th><th scope=col>&lt;dbl&gt;</th><th scope=col>&lt;dbl&gt;</th><th scope=col>&lt;dbl&gt;</th><th scope=col>&lt;dbl&gt;</th><th scope=col>&lt;dbl&gt;</th></tr>\n",
       "</thead>\n",
       "<tbody>\n",
       "\t<tr><th scope=row>4782--1</th><td>0.5833</td><td>0.7500</td><td>0.6500</td><td> 8</td><td>12</td></tr>\n",
       "\t<tr><th scope=row>4782--2</th><td>0.6207</td><td>0.7250</td><td>0.6624</td><td>10</td><td>12</td></tr>\n",
       "\t<tr><th scope=row>4782--3</th><td>0.5556</td><td>0.7000</td><td>0.6134</td><td>15</td><td> 9</td></tr>\n",
       "\t<tr><th scope=row>4782--4</th><td>0.6761</td><td>0.7125</td><td>0.6907</td><td> 8</td><td>15</td></tr>\n",
       "\t<tr><th scope=row>4782--5</th><td>0.6364</td><td>0.7000</td><td>0.6618</td><td>16</td><td> 8</td></tr>\n",
       "\t<tr><th scope=row>9275--1</th><td>0.6552</td><td>0.7500</td><td>0.6931</td><td>11</td><td> 9</td></tr>\n",
       "</tbody>\n",
       "</table>\n"
      ],
      "text/latex": [
       "A data.frame: 6 × 5\n",
       "\\begin{tabular}{r|lllll}\n",
       "  & fscore & Acc & Type2 & FN & FP\\\\\n",
       "  & <dbl> & <dbl> & <dbl> & <dbl> & <dbl>\\\\\n",
       "\\hline\n",
       "\t4782--1 & 0.5833 & 0.7500 & 0.6500 &  8 & 12\\\\\n",
       "\t4782--2 & 0.6207 & 0.7250 & 0.6624 & 10 & 12\\\\\n",
       "\t4782--3 & 0.5556 & 0.7000 & 0.6134 & 15 &  9\\\\\n",
       "\t4782--4 & 0.6761 & 0.7125 & 0.6907 &  8 & 15\\\\\n",
       "\t4782--5 & 0.6364 & 0.7000 & 0.6618 & 16 &  8\\\\\n",
       "\t9275--1 & 0.6552 & 0.7500 & 0.6931 & 11 &  9\\\\\n",
       "\\end{tabular}\n"
      ],
      "text/markdown": [
       "\n",
       "A data.frame: 6 × 5\n",
       "\n",
       "| <!--/--> | fscore &lt;dbl&gt; | Acc &lt;dbl&gt; | Type2 &lt;dbl&gt; | FN &lt;dbl&gt; | FP &lt;dbl&gt; |\n",
       "|---|---|---|---|---|---|\n",
       "| 4782--1 | 0.5833 | 0.7500 | 0.6500 |  8 | 12 |\n",
       "| 4782--2 | 0.6207 | 0.7250 | 0.6624 | 10 | 12 |\n",
       "| 4782--3 | 0.5556 | 0.7000 | 0.6134 | 15 |  9 |\n",
       "| 4782--4 | 0.6761 | 0.7125 | 0.6907 |  8 | 15 |\n",
       "| 4782--5 | 0.6364 | 0.7000 | 0.6618 | 16 |  8 |\n",
       "| 9275--1 | 0.6552 | 0.7500 | 0.6931 | 11 |  9 |\n",
       "\n"
      ],
      "text/plain": [
       "        fscore Acc    Type2  FN FP\n",
       "4782--1 0.5833 0.7500 0.6500  8 12\n",
       "4782--2 0.6207 0.7250 0.6624 10 12\n",
       "4782--3 0.5556 0.7000 0.6134 15  9\n",
       "4782--4 0.6761 0.7125 0.6907  8 15\n",
       "4782--5 0.6364 0.7000 0.6618 16  8\n",
       "9275--1 0.6552 0.7500 0.6931 11  9"
      ]
     },
     "metadata": {},
     "output_type": "display_data"
    }
   ],
   "source": [
    "dim(dat_result)\n",
    "head(dat_result)\n"
   ]
  },
  {
   "cell_type": "code",
   "execution_count": 34,
   "metadata": {},
   "outputs": [
    {
     "data": {
      "text/html": [
       "'fscore mean: 0.6177'"
      ],
      "text/latex": [
       "'fscore mean: 0.6177'"
      ],
      "text/markdown": [
       "'fscore mean: 0.6177'"
      ],
      "text/plain": [
       "[1] \"fscore mean: 0.6177\""
      ]
     },
     "metadata": {},
     "output_type": "display_data"
    },
    {
     "data": {
      "text/html": [
       "'fscore StdDev: 0.0666'"
      ],
      "text/latex": [
       "'fscore StdDev: 0.0666'"
      ],
      "text/markdown": [
       "'fscore StdDev: 0.0666'"
      ],
      "text/plain": [
       "[1] \"fscore StdDev: 0.0666\""
      ]
     },
     "metadata": {},
     "output_type": "display_data"
    },
    {
     "data": {
      "text/html": [
       "''"
      ],
      "text/latex": [
       "''"
      ],
      "text/markdown": [
       "''"
      ],
      "text/plain": [
       "[1] \"\""
      ]
     },
     "metadata": {},
     "output_type": "display_data"
    },
    {
     "data": {
      "text/plain": [
       "   Min. 1st Qu.  Median    Mean 3rd Qu.    Max. \n",
       "  0.318   0.576   0.621   0.618   0.667   0.829 "
      ]
     },
     "metadata": {},
     "output_type": "display_data"
    }
   ],
   "source": [
    "fscore_mean <- round(mean(dat_result$fscore, na.rm=TRUE), 4)\n",
    "fscore_sd <- round(sd(dat_result$fscore, na.rm=TRUE), 4)\n",
    "paste0(\"fscore mean: \", as.character(fscore_mean))\n",
    "# 0.6177\n",
    "paste0(\"fscore StdDev: \", as.character(fscore_sd))\n",
    "# 0.0666\n",
    "\"\"\n",
    "summary(dat_result$fscore)\n"
   ]
  },
  {
   "cell_type": "code",
   "execution_count": 35,
   "metadata": {},
   "outputs": [
    {
     "data": {
      "text/html": [
       "'accuracy mean: 0.7163'"
      ],
      "text/latex": [
       "'accuracy mean: 0.7163'"
      ],
      "text/markdown": [
       "'accuracy mean: 0.7163'"
      ],
      "text/plain": [
       "[1] \"accuracy mean: 0.7163\""
      ]
     },
     "metadata": {},
     "output_type": "display_data"
    },
    {
     "data": {
      "text/html": [
       "'accuracy StdDev: 0.046'"
      ],
      "text/latex": [
       "'accuracy StdDev: 0.046'"
      ],
      "text/markdown": [
       "'accuracy StdDev: 0.046'"
      ],
      "text/plain": [
       "[1] \"accuracy StdDev: 0.046\""
      ]
     },
     "metadata": {},
     "output_type": "display_data"
    },
    {
     "data": {
      "text/html": [
       "''"
      ],
      "text/latex": [
       "''"
      ],
      "text/markdown": [
       "''"
      ],
      "text/plain": [
       "[1] \"\""
      ]
     },
     "metadata": {},
     "output_type": "display_data"
    },
    {
     "data": {
      "text/plain": [
       "   Min. 1st Qu.  Median    Mean 3rd Qu.    Max. \n",
       "  0.550   0.688   0.713   0.716   0.750   0.875 "
      ]
     },
     "metadata": {},
     "output_type": "display_data"
    }
   ],
   "source": [
    "Acc_mean <- round(mean(dat_result$Acc, na.rm=TRUE), 4)\n",
    "Acc_sd <- round(sd(dat_result$Acc, na.rm=TRUE), 4)\n",
    "paste0(\"accuracy mean: \", as.character(Acc_mean))\n",
    "# 0.7163\n",
    "paste0(\"accuracy StdDev: \", as.character(Acc_sd))\n",
    "# 0.046\n",
    "\"\"\n",
    "summary(dat_result$Acc)\n"
   ]
  },
  {
   "cell_type": "code",
   "execution_count": 36,
   "metadata": {},
   "outputs": [
    {
     "data": {
      "text/html": [
       "'Type2 mean: 0.6572'"
      ],
      "text/latex": [
       "'Type2 mean: 0.6572'"
      ],
      "text/markdown": [
       "'Type2 mean: 0.6572'"
      ],
      "text/plain": [
       "[1] \"Type2 mean: 0.6572\""
      ]
     },
     "metadata": {},
     "output_type": "display_data"
    },
    {
     "data": {
      "text/html": [
       "'Type2 StdDev: 0.0559'"
      ],
      "text/latex": [
       "'Type2 StdDev: 0.0559'"
      ],
      "text/markdown": [
       "'Type2 StdDev: 0.0559'"
      ],
      "text/plain": [
       "[1] \"Type2 StdDev: 0.0559\""
      ]
     },
     "metadata": {},
     "output_type": "display_data"
    },
    {
     "data": {
      "text/html": [
       "''"
      ],
      "text/latex": [
       "''"
      ],
      "text/markdown": [
       "''"
      ],
      "text/plain": [
       "[1] \"\""
      ]
     },
     "metadata": {},
     "output_type": "display_data"
    },
    {
     "data": {
      "text/plain": [
       "   Min. 1st Qu.  Median    Mean 3rd Qu.    Max. \n",
       "  0.434   0.621   0.659   0.657   0.695   0.843 "
      ]
     },
     "metadata": {},
     "output_type": "display_data"
    }
   ],
   "source": [
    "Type2_mean <- round(mean(dat_result$Type2, na.rm=TRUE), 4)\n",
    "Type2_sd <- round(sd(dat_result$Type2, na.rm=TRUE), 4)\n",
    "paste0(\"Type2 mean: \", as.character(Type2_mean))\n",
    "# 0.6572\n",
    "paste0(\"Type2 StdDev: \", as.character(Type2_sd))\n",
    "# 0.0559\n",
    "\"\"\n",
    "summary(dat_result$Type2)\n"
   ]
  },
  {
   "cell_type": "code",
   "execution_count": 37,
   "metadata": {},
   "outputs": [
    {
     "data": {
      "image/png": "[encoded data removed]",
      "text/plain": [
       "Plot with title “Distribution of Type2 scores for the g03 logistic model”"
      ]
     },
     "metadata": {
      "image/png": {
       "height": 360,
       "width": 600
      }
     },
     "output_type": "display_data"
    }
   ],
   "source": [
    "# Histogram of the Type2 scores for g03.\n",
    "\n",
    "options(repr.plot.width= 10, repr.plot.height= 6)\n",
    "hist(dat_result$Type2, breaks=10, xlab=\"Type2 score\",\n",
    "     main=\"Distribution of Type2 scores for the g03 logistic model\")\n"
   ]
  },
  {
   "cell_type": "code",
   "execution_count": 38,
   "metadata": {},
   "outputs": [
    {
     "data": {
      "text/html": [
       "'FN mean: 11.2552'"
      ],
      "text/latex": [
       "'FN mean: 11.2552'"
      ],
      "text/markdown": [
       "'FN mean: 11.2552'"
      ],
      "text/plain": [
       "[1] \"FN mean: 11.2552\""
      ]
     },
     "metadata": {},
     "output_type": "display_data"
    },
    {
     "data": {
      "text/html": [
       "'FN StdDev: 3.0491'"
      ],
      "text/latex": [
       "'FN StdDev: 3.0491'"
      ],
      "text/markdown": [
       "'FN StdDev: 3.0491'"
      ],
      "text/plain": [
       "[1] \"FN StdDev: 3.0491\""
      ]
     },
     "metadata": {},
     "output_type": "display_data"
    },
    {
     "data": {
      "text/html": [
       "''"
      ],
      "text/latex": [
       "''"
      ],
      "text/markdown": [
       "''"
      ],
      "text/plain": [
       "[1] \"\""
      ]
     },
     "metadata": {},
     "output_type": "display_data"
    },
    {
     "data": {
      "text/plain": [
       "   Min. 1st Qu.  Median    Mean 3rd Qu.    Max. \n",
       "    1.0     9.0    11.0    11.3    13.0    22.0 "
      ]
     },
     "metadata": {},
     "output_type": "display_data"
    }
   ],
   "source": [
    "FN_mean <- round(mean(dat_result$FN, na.rm=TRUE), 4)\n",
    "FN_sd <- round(sd(dat_result$FN, na.rm=TRUE), 4)\n",
    "paste0(\"FN mean: \", as.character(FN_mean))\n",
    "# 11.26\n",
    "paste0(\"FN StdDev: \", as.character(FN_sd))\n",
    "# 3.05\n",
    "\"\"\n",
    "summary(dat_result$FN)\n"
   ]
  },
  {
   "cell_type": "code",
   "execution_count": 39,
   "metadata": {},
   "outputs": [
    {
     "data": {
      "text/html": [
       "'FP mean: 11.4426'"
      ],
      "text/latex": [
       "'FP mean: 11.4426'"
      ],
      "text/markdown": [
       "'FP mean: 11.4426'"
      ],
      "text/plain": [
       "[1] \"FP mean: 11.4426\""
      ]
     },
     "metadata": {},
     "output_type": "display_data"
    },
    {
     "data": {
      "text/html": [
       "'FP StdDev: 3.3477'"
      ],
      "text/latex": [
       "'FP StdDev: 3.3477'"
      ],
      "text/markdown": [
       "'FP StdDev: 3.3477'"
      ],
      "text/plain": [
       "[1] \"FP StdDev: 3.3477\""
      ]
     },
     "metadata": {},
     "output_type": "display_data"
    },
    {
     "data": {
      "text/html": [
       "''"
      ],
      "text/latex": [
       "''"
      ],
      "text/markdown": [
       "''"
      ],
      "text/plain": [
       "[1] \"\""
      ]
     },
     "metadata": {},
     "output_type": "display_data"
    },
    {
     "data": {
      "text/plain": [
       "   Min. 1st Qu.  Median    Mean 3rd Qu.    Max. \n",
       "    2.0     9.0    11.0    11.4    14.0    27.0 "
      ]
     },
     "metadata": {},
     "output_type": "display_data"
    }
   ],
   "source": [
    "FP_mean <- round(mean(dat_result$FP, na.rm=TRUE), 4)\n",
    "FP_sd <- round(sd(dat_result$FP, na.rm=TRUE), 4)\n",
    "paste0(\"FP mean: \", as.character(FP_mean))\n",
    "# 11.44\n",
    "paste0(\"FP StdDev: \", as.character(FP_sd))\n",
    "# 3.35\n",
    "\"\"\n",
    "summary(dat_result$FP)\n"
   ]
  },
  {
   "cell_type": "markdown",
   "metadata": {},
   "source": [
    "## Summary table for Section 5 results"
   ]
  },
  {
   "cell_type": "code",
   "execution_count": 40,
   "metadata": {},
   "outputs": [
    {
     "data": {
      "text/html": [
       "<style>\n",
       ".list-inline {list-style: none; margin:0; padding: 0}\n",
       ".list-inline>li {display: inline-block}\n",
       ".list-inline>li:not(:last-child)::after {content: \"\\00b7\"; padding: 0 .5ex}\n",
       "</style>\n",
       "<ol class=list-inline><li>6</li><li>10</li></ol>\n"
      ],
      "text/latex": [
       "\\begin{enumerate*}\n",
       "\\item 6\n",
       "\\item 10\n",
       "\\end{enumerate*}\n"
      ],
      "text/markdown": [
       "1. 6\n",
       "2. 10\n",
       "\n",
       "\n"
      ],
      "text/plain": [
       "[1]  6 10"
      ]
     },
     "metadata": {},
     "output_type": "display_data"
    }
   ],
   "source": [
    "results <- read.csv(\"/home/greg/Documents/stat/github_repos/cows/model_results_Part2.csv\", \n",
    "                    header=TRUE, row.names=1)\n",
    "dim(results)\n"
   ]
  },
  {
   "cell_type": "code",
   "execution_count": 41,
   "metadata": {},
   "outputs": [
    {
     "data": {
      "text/html": [
       "<table>\n",
       "<caption>A data.frame: 6 × 10</caption>\n",
       "<thead>\n",
       "\t<tr><th></th><th scope=col>fscore</th><th scope=col>fscore_sd</th><th scope=col>Type2</th><th scope=col>Type2_sd</th><th scope=col>accuracy</th><th scope=col>acc_sd</th><th scope=col>FN</th><th scope=col>FN_sd</th><th scope=col>FP</th><th scope=col>FP_sd</th></tr>\n",
       "\t<tr><th></th><th scope=col>&lt;dbl&gt;</th><th scope=col>&lt;dbl&gt;</th><th scope=col>&lt;dbl&gt;</th><th scope=col>&lt;dbl&gt;</th><th scope=col>&lt;dbl&gt;</th><th scope=col>&lt;dbl&gt;</th><th scope=col>&lt;dbl&gt;</th><th scope=col>&lt;dbl&gt;</th><th scope=col>&lt;dbl&gt;</th><th scope=col>&lt;dbl&gt;</th></tr>\n",
       "</thead>\n",
       "<tbody>\n",
       "\t<tr><th scope=row>svm02</th><td>0.6307</td><td>0.0639</td><td>0.6603</td><td>0.0551</td><td>0.7047</td><td>0.0472</td><td>14.18</td><td>3.57</td><td> 9.44</td><td>3.07</td></tr>\n",
       "\t<tr><th scope=row>k-means</th><td>0.6447</td><td>0.0600</td><td>0.6603</td><td>0.0522</td><td>0.6838</td><td>0.0465</td><td> 6.56</td><td>2.17</td><td>18.73</td><td>3.37</td></tr>\n",
       "\t<tr><th scope=row>km_p1</th><td>0.6338</td><td>0.0620</td><td>0.6578</td><td>0.0532</td><td>0.6939</td><td>0.0461</td><td> 8.35</td><td>2.45</td><td>16.13</td><td>3.17</td></tr>\n",
       "\t<tr><th scope=row>km_p1p2</th><td>0.6282</td><td>0.0632</td><td>0.6528</td><td>0.0543</td><td>0.6899</td><td>0.0469</td><td> 8.59</td><td>2.53</td><td>16.22</td><td>3.19</td></tr>\n",
       "\t<tr><th scope=row>gbclf</th><td>0.6058</td><td>0.0681</td><td>0.6491</td><td>0.0567</td><td>0.7140</td><td>0.0460</td><td>12.01</td><td>3.23</td><td>10.87</td><td>3.28</td></tr>\n",
       "\t<tr><th scope=row>g03</th><td>0.6177</td><td>0.0666</td><td>0.6572</td><td>0.0559</td><td>0.7163</td><td>0.0460</td><td>11.26</td><td>3.05</td><td>11.44</td><td>3.35</td></tr>\n",
       "</tbody>\n",
       "</table>\n"
      ],
      "text/latex": [
       "A data.frame: 6 × 10\n",
       "\\begin{tabular}{r|llllllllll}\n",
       "  & fscore & fscore\\_sd & Type2 & Type2\\_sd & accuracy & acc\\_sd & FN & FN\\_sd & FP & FP\\_sd\\\\\n",
       "  & <dbl> & <dbl> & <dbl> & <dbl> & <dbl> & <dbl> & <dbl> & <dbl> & <dbl> & <dbl>\\\\\n",
       "\\hline\n",
       "\tsvm02 & 0.6307 & 0.0639 & 0.6603 & 0.0551 & 0.7047 & 0.0472 & 14.18 & 3.57 &  9.44 & 3.07\\\\\n",
       "\tk-means & 0.6447 & 0.0600 & 0.6603 & 0.0522 & 0.6838 & 0.0465 &  6.56 & 2.17 & 18.73 & 3.37\\\\\n",
       "\tkm\\_p1 & 0.6338 & 0.0620 & 0.6578 & 0.0532 & 0.6939 & 0.0461 &  8.35 & 2.45 & 16.13 & 3.17\\\\\n",
       "\tkm\\_p1p2 & 0.6282 & 0.0632 & 0.6528 & 0.0543 & 0.6899 & 0.0469 &  8.59 & 2.53 & 16.22 & 3.19\\\\\n",
       "\tgbclf & 0.6058 & 0.0681 & 0.6491 & 0.0567 & 0.7140 & 0.0460 & 12.01 & 3.23 & 10.87 & 3.28\\\\\n",
       "\tg03 & 0.6177 & 0.0666 & 0.6572 & 0.0559 & 0.7163 & 0.0460 & 11.26 & 3.05 & 11.44 & 3.35\\\\\n",
       "\\end{tabular}\n"
      ],
      "text/markdown": [
       "\n",
       "A data.frame: 6 × 10\n",
       "\n",
       "| <!--/--> | fscore &lt;dbl&gt; | fscore_sd &lt;dbl&gt; | Type2 &lt;dbl&gt; | Type2_sd &lt;dbl&gt; | accuracy &lt;dbl&gt; | acc_sd &lt;dbl&gt; | FN &lt;dbl&gt; | FN_sd &lt;dbl&gt; | FP &lt;dbl&gt; | FP_sd &lt;dbl&gt; |\n",
       "|---|---|---|---|---|---|---|---|---|---|---|\n",
       "| svm02 | 0.6307 | 0.0639 | 0.6603 | 0.0551 | 0.7047 | 0.0472 | 14.18 | 3.57 |  9.44 | 3.07 |\n",
       "| k-means | 0.6447 | 0.0600 | 0.6603 | 0.0522 | 0.6838 | 0.0465 |  6.56 | 2.17 | 18.73 | 3.37 |\n",
       "| km_p1 | 0.6338 | 0.0620 | 0.6578 | 0.0532 | 0.6939 | 0.0461 |  8.35 | 2.45 | 16.13 | 3.17 |\n",
       "| km_p1p2 | 0.6282 | 0.0632 | 0.6528 | 0.0543 | 0.6899 | 0.0469 |  8.59 | 2.53 | 16.22 | 3.19 |\n",
       "| gbclf | 0.6058 | 0.0681 | 0.6491 | 0.0567 | 0.7140 | 0.0460 | 12.01 | 3.23 | 10.87 | 3.28 |\n",
       "| g03 | 0.6177 | 0.0666 | 0.6572 | 0.0559 | 0.7163 | 0.0460 | 11.26 | 3.05 | 11.44 | 3.35 |\n",
       "\n"
      ],
      "text/plain": [
       "        fscore fscore_sd Type2  Type2_sd accuracy acc_sd FN    FN_sd FP   \n",
       "svm02   0.6307 0.0639    0.6603 0.0551   0.7047   0.0472 14.18 3.57   9.44\n",
       "k-means 0.6447 0.0600    0.6603 0.0522   0.6838   0.0465  6.56 2.17  18.73\n",
       "km_p1   0.6338 0.0620    0.6578 0.0532   0.6939   0.0461  8.35 2.45  16.13\n",
       "km_p1p2 0.6282 0.0632    0.6528 0.0543   0.6899   0.0469  8.59 2.53  16.22\n",
       "gbclf   0.6058 0.0681    0.6491 0.0567   0.7140   0.0460 12.01 3.23  10.87\n",
       "g03     0.6177 0.0666    0.6572 0.0559   0.7163   0.0460 11.26 3.05  11.44\n",
       "        FP_sd\n",
       "svm02   3.07 \n",
       "k-means 3.37 \n",
       "km_p1   3.17 \n",
       "km_p1p2 3.19 \n",
       "gbclf   3.28 \n",
       "g03     3.35 "
      ]
     },
     "metadata": {},
     "output_type": "display_data"
    }
   ],
   "source": [
    "# The following table is a summary of all the \n",
    "# Section 5 results.  The Type2 score is a\n",
    "# weighted average of accuracy (40%) and f-score (60%).\n",
    "\n",
    "results\n"
   ]
  },
  {
   "cell_type": "markdown",
   "metadata": {},
   "source": [
    "## Section Comments"
   ]
  },
  {
   "cell_type": "markdown",
   "metadata": {},
   "source": [
    "For the average accuracy score, the g03 model outperforms gbclf_best, and gbclf_best outperforms svm02.  It is worth getting performance numbers for a hybrid model with the prob01 column constructed from g03 probabilities.\n",
    "\n",
    "However, note that for the median accuracy score, g03, svm02, and gbclf_best *all have the same score* of 71.3%."
   ]
  },
  {
   "cell_type": "markdown",
   "metadata": {},
   "source": [
    "# Section 6: Construct hybrid model with prob01 from g03"
   ]
  },
  {
   "cell_type": "code",
   "execution_count": 70,
   "metadata": {},
   "outputs": [],
   "source": [
    "# Function for obtaining average of confusion matrix \n",
    "# f-score and percent correctly answered. This function\n",
    "# is called from gridSearch06.\n",
    "\n",
    "get_cvScore_kmp1_g03 <- function(traindat, valdat, wghts) {\n",
    "    \n",
    "    # wghts is a named vector of weights to apply.  The names, and\n",
    "    # order of the weights, correspond to the colnames of traindat\n",
    "    # below.  (Here the names are: AST, CK, Daysrec, and prob01.)\n",
    "    \n",
    "    g03mod <- suppressWarnings(glm(Outcome ~ Daysrec + CK + I(log(AST)),\n",
    "                  data= traindat, family= binomial, singular.ok=TRUE,\n",
    "                  epsilon= 1e-7, maxit=50))\n",
    "    \n",
    "    traindat$prob01 <- as.numeric(g03mod$fitted)\n",
    "    \n",
    "    \n",
    "    #############################\n",
    "    # Transform and scale training set data for the\n",
    "    # k-means model.\n",
    "    traindat$AST <- log(traindat$AST)\n",
    "    traindat$CK <- log(traindat$CK)\n",
    "    traindat$Daysrec <- sqrt(traindat$Daysrec)\n",
    "\n",
    "    traindat_scaled <- scale(traindat[, -1], center=TRUE, scale=TRUE)\n",
    "    centers <- attr(traindat_scaled, \"scaled:center\")\n",
    "    scales <- attr(traindat_scaled, \"scaled:scale\")\n",
    "    \n",
    "    #############################\n",
    "    # Apply weights to traindat.  The sqrt should have\n",
    "    # been taken in the calling function.\n",
    "    \n",
    "    cols <- names(wghts)\n",
    "    df2 <- t(t(traindat_scaled[, cols]) * as.numeric(wghts[cols]))\n",
    "    traindat_wghts <- as.data.frame(df2, row.names=rownames(traindat))\n",
    "    colnames(traindat_wghts) <- cols\n",
    "    \n",
    "       \n",
    "    #############################\n",
    "    # Prepare valdat.\n",
    "    \n",
    "    # Compute the prob01 column.\n",
    "    preds01_b <- predict(g03mod, newdata=valdat)\n",
    "    valdat$prob01 <- as.numeric(preds01_b)\n",
    "    \n",
    "    # Transform and scale valdat.\n",
    "    valdat$AST <- log(valdat$AST)\n",
    "    valdat$CK <- log(valdat$CK)\n",
    "    valdat$Daysrec <- sqrt(valdat$Daysrec)\n",
    "\n",
    "    valdat_scaled <- scale(valdat[, -1], center=centers, scale=scales)\n",
    "    valdat_scaled <- as.data.frame(valdat_scaled, row.names=rownames(valdat))\n",
    "    \n",
    "    # Apply weights to valdat.\n",
    "    df2 <- t(t(valdat_scaled[, cols]) * as.numeric(wghts[cols]))\n",
    "    valdat_wghts <- as.data.frame(df2, row.names=rownames(valdat))\n",
    "    colnames(valdat_wghts) <- cols\n",
    "    \n",
    "    \n",
    "    #############################\n",
    "    # Construct k-means model.\n",
    "    \n",
    "    kmod <- suppressWarnings(kmeans(traindat_wghts, 2, iter.max = 50, nstart=15))\n",
    "    \n",
    "    # See how the clusters are associated with Outcome.\n",
    "    dfout <- as.data.frame(cbind(traindat$Outcome, kmod$cluster),\n",
    "                           row.names=rownames(traindat))\n",
    "    colnames(dfout) <- c(\"Outcome\", \"cluster\")\n",
    "    \n",
    "    c1_to_Outcome1 <- c1_toLevel_1(dfout)\n",
    "    \n",
    "    #############################\n",
    "    # Apply the k-means model to valdat_wghts.\n",
    "    \n",
    "    # Each element of the following list is a row of valdat_wghts.\n",
    "    valdat_asList <- split(valdat_wghts[, colnames(kmod$centers)],\n",
    "                           seq(nrow(valdat_wghts)))\n",
    "    \n",
    "    ctr_list <- vector(\"list\", length= nrow(valdat))\n",
    "    for(i in 1:nrow(valdat)) {\n",
    "        \n",
    "        ctr_list[[i]] <- kmod$centers\n",
    "    }\n",
    "    names(ctr_list) <- rownames(valdat)\n",
    "    \n",
    "    \n",
    "    # Get the predictions for the validation set.\n",
    "    cluster_assgns <- mcmapply(getCluster, valdat_asList, ctr_list,\n",
    "                               SIMPLIFY=TRUE, mc.cores=6)\n",
    "    valdat_wghts$cluster <- as.numeric(cluster_assgns)\n",
    "    \n",
    "    valdat_wghts$pred_Outcome <- NA\n",
    "    if(c1_to_Outcome1) {\n",
    "        valdat_wghts[which(valdat_wghts$cluster==1),]$pred_Outcome <- 1\n",
    "        valdat_wghts[which(valdat_wghts$cluster==2),]$pred_Outcome <- 0\n",
    "    } else {\n",
    "        valdat_wghts[which(valdat_wghts$cluster==1),]$pred_Outcome <- 0\n",
    "        valdat_wghts[which(valdat_wghts$cluster==2),]$pred_Outcome <- 1\n",
    "    }\n",
    "    \n",
    "    # Generate confusion matrix for the k-means clusters and\n",
    "    # the corresponding f-score.\n",
    "    preds <- as.factor(valdat_wghts$pred_Outcome)\n",
    "    names(preds) <- rownames(valdat)\n",
    "    ans <- get_confusion(preds, valdat[, \"Outcome\", drop=FALSE])\n",
    "\n",
    "    # The result returned is a Type2 score (which is a mixture\n",
    "    # of accuracy and f-score).\n",
    "    mat <- as.matrix(ans[[1]])\n",
    "    percent_correct <- sum(diag(mat))/floor(sum(mat))\n",
    "    result <- round((0.4 * percent_correct + 0.6 * ans[[2]]), 6)\n",
    "    return(result)\n",
    "}\n"
   ]
  },
  {
   "cell_type": "code",
   "execution_count": 45,
   "metadata": {},
   "outputs": [
    {
     "data": {
      "text/html": [
       "<style>\n",
       ".list-inline {list-style: none; margin:0; padding: 0}\n",
       ".list-inline>li {display: inline-block}\n",
       ".list-inline>li:not(:last-child)::after {content: \"\\00b7\"; padding: 0 .5ex}\n",
       "</style>\n",
       "<ol class=list-inline><li>1469</li><li>4</li></ol>\n"
      ],
      "text/latex": [
       "\\begin{enumerate*}\n",
       "\\item 1469\n",
       "\\item 4\n",
       "\\end{enumerate*}\n"
      ],
      "text/markdown": [
       "1. 1469\n",
       "2. 4\n",
       "\n",
       "\n"
      ],
      "text/plain": [
       "[1] 1469    4"
      ]
     },
     "metadata": {},
     "output_type": "display_data"
    }
   ],
   "source": [
    "# There are 4 parameter lists to work with.  The best\n",
    "# approach, perhaps, is to start by exploring the \n",
    "# region around the space where all parameters have an \n",
    "# equal weight---in this case, a weight of 0.25.\n",
    "\n",
    "lst <- vector(\"list\", length= 4)\n",
    "names(lst) <- c(\"AST\",\"CK\",\"Daysrec\",\"prob01\")\n",
    "\n",
    "lst[[1]] <- lst[[2]] <- lst[[3]] <- lst[[4]] <- seq(0.13, 0.37, by=0.02)\n",
    "\n",
    "start <- Sys.time()\n",
    "dfc01 <- generate_combs(lst)\n",
    "stop <- Sys.time()\n",
    "# round(stop - start, 2)\n",
    "\n",
    "dim(dfc01)\n",
    "#  1469     4\n"
   ]
  },
  {
   "cell_type": "code",
   "execution_count": 46,
   "metadata": {},
   "outputs": [
    {
     "data": {
      "text/html": [
       "<table>\n",
       "<caption>A data.frame: 6 × 4</caption>\n",
       "<thead>\n",
       "\t<tr><th></th><th scope=col>AST</th><th scope=col>CK</th><th scope=col>Daysrec</th><th scope=col>prob01</th></tr>\n",
       "\t<tr><th></th><th scope=col>&lt;dbl&gt;</th><th scope=col>&lt;dbl&gt;</th><th scope=col>&lt;dbl&gt;</th><th scope=col>&lt;dbl&gt;</th></tr>\n",
       "</thead>\n",
       "<tbody>\n",
       "\t<tr><th scope=row>11425</th><td>0.33</td><td>0.27</td><td>0.17</td><td>0.23</td></tr>\n",
       "\t<tr><th scope=row>7201</th><td>0.35</td><td>0.27</td><td>0.19</td><td>0.19</td></tr>\n",
       "\t<tr><th scope=row>22165</th><td>0.37</td><td>0.15</td><td>0.15</td><td>0.33</td></tr>\n",
       "\t<tr><th scope=row>20509</th><td>0.27</td><td>0.21</td><td>0.21</td><td>0.31</td></tr>\n",
       "\t<tr><th scope=row>23329</th><td>0.25</td><td>0.13</td><td>0.29</td><td>0.33</td></tr>\n",
       "\t<tr><th scope=row>22057</th><td>0.29</td><td>0.25</td><td>0.13</td><td>0.33</td></tr>\n",
       "</tbody>\n",
       "</table>\n"
      ],
      "text/latex": [
       "A data.frame: 6 × 4\n",
       "\\begin{tabular}{r|llll}\n",
       "  & AST & CK & Daysrec & prob01\\\\\n",
       "  & <dbl> & <dbl> & <dbl> & <dbl>\\\\\n",
       "\\hline\n",
       "\t11425 & 0.33 & 0.27 & 0.17 & 0.23\\\\\n",
       "\t7201 & 0.35 & 0.27 & 0.19 & 0.19\\\\\n",
       "\t22165 & 0.37 & 0.15 & 0.15 & 0.33\\\\\n",
       "\t20509 & 0.27 & 0.21 & 0.21 & 0.31\\\\\n",
       "\t23329 & 0.25 & 0.13 & 0.29 & 0.33\\\\\n",
       "\t22057 & 0.29 & 0.25 & 0.13 & 0.33\\\\\n",
       "\\end{tabular}\n"
      ],
      "text/markdown": [
       "\n",
       "A data.frame: 6 × 4\n",
       "\n",
       "| <!--/--> | AST &lt;dbl&gt; | CK &lt;dbl&gt; | Daysrec &lt;dbl&gt; | prob01 &lt;dbl&gt; |\n",
       "|---|---|---|---|---|\n",
       "| 11425 | 0.33 | 0.27 | 0.17 | 0.23 |\n",
       "| 7201 | 0.35 | 0.27 | 0.19 | 0.19 |\n",
       "| 22165 | 0.37 | 0.15 | 0.15 | 0.33 |\n",
       "| 20509 | 0.27 | 0.21 | 0.21 | 0.31 |\n",
       "| 23329 | 0.25 | 0.13 | 0.29 | 0.33 |\n",
       "| 22057 | 0.29 | 0.25 | 0.13 | 0.33 |\n",
       "\n"
      ],
      "text/plain": [
       "      AST  CK   Daysrec prob01\n",
       "11425 0.33 0.27 0.17    0.23  \n",
       "7201  0.35 0.27 0.19    0.19  \n",
       "22165 0.37 0.15 0.15    0.33  \n",
       "20509 0.27 0.21 0.21    0.31  \n",
       "23329 0.25 0.13 0.29    0.33  \n",
       "22057 0.29 0.25 0.13    0.33  "
      ]
     },
     "metadata": {},
     "output_type": "display_data"
    }
   ],
   "source": [
    "# Test on a sample of 10.\n",
    "\n",
    "set.seed(42)\n",
    "smp <- sample(rownames(dfc01), 10, replace=FALSE)\n",
    "tst_params <- dfc01[smp,]\n",
    "head(tst_params)\n"
   ]
  },
  {
   "cell_type": "code",
   "execution_count": 47,
   "metadata": {},
   "outputs": [
    {
     "data": {
      "text/plain": [
       "Time difference of 20.76 secs"
      ]
     },
     "metadata": {},
     "output_type": "display_data"
    }
   ],
   "source": [
    "# Find the best weights of those in tst_params.\n",
    "\n",
    "set.seed(1233)\n",
    "seed_vector <- sample(1:9999, 10, replace=FALSE)\n",
    "\n",
    "start <- Sys.time()\n",
    "dat_result <- gridSearch06(seed_vector, dat, tst_params) \n",
    "stop <- Sys.time()\n",
    "round(stop - start, 2)\n",
    "# Time difference of 20.76 secs (for 10 rows)\n"
   ]
  },
  {
   "cell_type": "code",
   "execution_count": 48,
   "metadata": {},
   "outputs": [
    {
     "data": {
      "text/html": [
       "1"
      ],
      "text/latex": [
       "1"
      ],
      "text/markdown": [
       "1"
      ],
      "text/plain": [
       "[1] 1"
      ]
     },
     "metadata": {},
     "output_type": "display_data"
    }
   ],
   "source": [
    "best_params <- dat_result[which(dat_result$Type2 == \n",
    "                                max(dat_result$Type2, na.rm=TRUE)),]$row\n",
    "length(best_params)\n",
    "\n",
    "best_Type2 <- dat_result[which(dat_result$Type2 == \n",
    "                                max(dat_result$Type2, na.rm=TRUE)),]$Type2\n"
   ]
  },
  {
   "cell_type": "code",
   "execution_count": 49,
   "metadata": {},
   "outputs": [
    {
     "data": {
      "text/html": [
       "<table>\n",
       "<caption>A data.frame: 1 × 4</caption>\n",
       "<thead>\n",
       "\t<tr><th></th><th scope=col>AST</th><th scope=col>CK</th><th scope=col>Daysrec</th><th scope=col>prob01</th></tr>\n",
       "\t<tr><th></th><th scope=col>&lt;dbl&gt;</th><th scope=col>&lt;dbl&gt;</th><th scope=col>&lt;dbl&gt;</th><th scope=col>&lt;dbl&gt;</th></tr>\n",
       "</thead>\n",
       "<tbody>\n",
       "\t<tr><th scope=row>22057</th><td>0.29</td><td>0.25</td><td>0.13</td><td>0.33</td></tr>\n",
       "</tbody>\n",
       "</table>\n"
      ],
      "text/latex": [
       "A data.frame: 1 × 4\n",
       "\\begin{tabular}{r|llll}\n",
       "  & AST & CK & Daysrec & prob01\\\\\n",
       "  & <dbl> & <dbl> & <dbl> & <dbl>\\\\\n",
       "\\hline\n",
       "\t22057 & 0.29 & 0.25 & 0.13 & 0.33\\\\\n",
       "\\end{tabular}\n"
      ],
      "text/markdown": [
       "\n",
       "A data.frame: 1 × 4\n",
       "\n",
       "| <!--/--> | AST &lt;dbl&gt; | CK &lt;dbl&gt; | Daysrec &lt;dbl&gt; | prob01 &lt;dbl&gt; |\n",
       "|---|---|---|---|---|\n",
       "| 22057 | 0.29 | 0.25 | 0.13 | 0.33 |\n",
       "\n"
      ],
      "text/plain": [
       "      AST  CK   Daysrec prob01\n",
       "22057 0.29 0.25 0.13    0.33  "
      ]
     },
     "metadata": {},
     "output_type": "display_data"
    },
    {
     "data": {
      "text/html": [
       "0.66352"
      ],
      "text/latex": [
       "0.66352"
      ],
      "text/markdown": [
       "0.66352"
      ],
      "text/plain": [
       "[1] 0.66352"
      ]
     },
     "metadata": {},
     "output_type": "display_data"
    }
   ],
   "source": [
    "dfc01[best_params,]\n",
    "\n",
    "best_Type2\n"
   ]
  },
  {
   "cell_type": "code",
   "execution_count": 50,
   "metadata": {},
   "outputs": [
    {
     "data": {
      "text/html": [
       "'Start time: 2021-04-17 15:37:42'"
      ],
      "text/latex": [
       "'Start time: 2021-04-17 15:37:42'"
      ],
      "text/markdown": [
       "'Start time: 2021-04-17 15:37:42'"
      ],
      "text/plain": [
       "[1] \"Start time: 2021-04-17 15:37:42\""
      ]
     },
     "metadata": {},
     "output_type": "display_data"
    },
    {
     "data": {
      "text/plain": [
       "Time difference of 1.03 hours"
      ]
     },
     "metadata": {},
     "output_type": "display_data"
    }
   ],
   "source": [
    "# Find the best weights of those in dfc01 (1469 rows,\n",
    "# 11 seeds, 5 folds).  \n",
    "\n",
    "set.seed(1233)\n",
    "seed_vector <- sample(1:9999, 11, replace=FALSE)\n",
    "\n",
    "start <- Sys.time()\n",
    "paste(\"Start time: \", start, sep=\"\")\n",
    "dat_result <- gridSearch06(seed_vector, dat, dfc01) \n",
    "stop <- Sys.time()\n",
    "round(stop - start, 2)\n",
    "# Time difference of 1.03 hours\n"
   ]
  },
  {
   "cell_type": "code",
   "execution_count": 51,
   "metadata": {},
   "outputs": [
    {
     "data": {
      "text/html": [
       "1"
      ],
      "text/latex": [
       "1"
      ],
      "text/markdown": [
       "1"
      ],
      "text/plain": [
       "[1] 1"
      ]
     },
     "metadata": {},
     "output_type": "display_data"
    }
   ],
   "source": [
    "best_params <- dat_result[which(dat_result$Type2 == \n",
    "                                max(dat_result$Type2, na.rm=TRUE)),]$row\n",
    "length(best_params)\n",
    "\n",
    "best_Type2 <- dat_result[which(dat_result$Type2 == \n",
    "                                max(dat_result$Type2, na.rm=TRUE)),]$Type2\n"
   ]
  },
  {
   "cell_type": "code",
   "execution_count": 52,
   "metadata": {},
   "outputs": [
    {
     "data": {
      "text/html": [
       "<table>\n",
       "<caption>A data.frame: 1 × 4</caption>\n",
       "<thead>\n",
       "\t<tr><th></th><th scope=col>AST</th><th scope=col>CK</th><th scope=col>Daysrec</th><th scope=col>prob01</th></tr>\n",
       "\t<tr><th></th><th scope=col>&lt;dbl&gt;</th><th scope=col>&lt;dbl&gt;</th><th scope=col>&lt;dbl&gt;</th><th scope=col>&lt;dbl&gt;</th></tr>\n",
       "</thead>\n",
       "<tbody>\n",
       "\t<tr><th scope=row>24493</th><td>0.13</td><td>0.37</td><td>0.15</td><td>0.35</td></tr>\n",
       "</tbody>\n",
       "</table>\n"
      ],
      "text/latex": [
       "A data.frame: 1 × 4\n",
       "\\begin{tabular}{r|llll}\n",
       "  & AST & CK & Daysrec & prob01\\\\\n",
       "  & <dbl> & <dbl> & <dbl> & <dbl>\\\\\n",
       "\\hline\n",
       "\t24493 & 0.13 & 0.37 & 0.15 & 0.35\\\\\n",
       "\\end{tabular}\n"
      ],
      "text/markdown": [
       "\n",
       "A data.frame: 1 × 4\n",
       "\n",
       "| <!--/--> | AST &lt;dbl&gt; | CK &lt;dbl&gt; | Daysrec &lt;dbl&gt; | prob01 &lt;dbl&gt; |\n",
       "|---|---|---|---|---|\n",
       "| 24493 | 0.13 | 0.37 | 0.15 | 0.35 |\n",
       "\n"
      ],
      "text/plain": [
       "      AST  CK   Daysrec prob01\n",
       "24493 0.13 0.37 0.15    0.35  "
      ]
     },
     "metadata": {},
     "output_type": "display_data"
    },
    {
     "data": {
      "text/html": [
       "0.66396"
      ],
      "text/latex": [
       "0.66396"
      ],
      "text/markdown": [
       "0.66396"
      ],
      "text/plain": [
       "[1] 0.66396"
      ]
     },
     "metadata": {},
     "output_type": "display_data"
    }
   ],
   "source": [
    "dfc01[best_params,]\n",
    "#       \t AST \t  CK  \tDaysrec \tprob01\n",
    "\n",
    "# 24493 \t0.13 \t0.37\t   0.15 \t  0.35\n",
    "\n",
    "\n",
    "best_Type2\n",
    "# 0.6640\n"
   ]
  },
  {
   "cell_type": "code",
   "execution_count": 54,
   "metadata": {},
   "outputs": [
    {
     "data": {
      "text/html": [
       "<style>\n",
       ".list-inline {list-style: none; margin:0; padding: 0}\n",
       ".list-inline>li {display: inline-block}\n",
       ".list-inline>li:not(:last-child)::after {content: \"\\00b7\"; padding: 0 .5ex}\n",
       "</style>\n",
       "<ol class=list-inline><li>209</li><li>4</li></ol>\n"
      ],
      "text/latex": [
       "\\begin{enumerate*}\n",
       "\\item 209\n",
       "\\item 4\n",
       "\\end{enumerate*}\n"
      ],
      "text/markdown": [
       "1. 209\n",
       "2. 4\n",
       "\n",
       "\n"
      ],
      "text/plain": [
       "[1] 209   4"
      ]
     },
     "metadata": {},
     "output_type": "display_data"
    }
   ],
   "source": [
    "# Refine the search.\n",
    "\n",
    "lst <- vector(\"list\", length= 4)\n",
    "names(lst) <- c(\"AST\",\"CK\",\"Daysrec\",\"prob01\")\n",
    "\n",
    "lst[[1]] <- seq(0.04, 0.16, by= 0.02)\n",
    "lst[[2]] <- seq(0.34, 0.52, by= 0.02)\n",
    "lst[[3]] <- seq(0.10, 0.18, by= 0.02)\n",
    "lst[[4]] <- seq(0.32, 0.52, by=0.02)\n",
    "\n",
    "start <- Sys.time()\n",
    "dfc02 <- generate_combs(lst)\n",
    "stop <- Sys.time()\n",
    "# round(stop - start, 2)\n",
    "\n",
    "dim(dfc02)\n",
    "#  209     4\n"
   ]
  },
  {
   "cell_type": "code",
   "execution_count": 55,
   "metadata": {},
   "outputs": [],
   "source": [
    "# Add no weights to the combinations.  This will \n",
    "# tell us whether using weights is better than not\n",
    "# using weights.  (Setting each of the weight \n",
    "# coefficients to 1 is essentially equivalent to\n",
    "# setting each of the 4 weights to 0.25, although\n",
    "# small differences can appear in the resultant\n",
    "# score.)  \n",
    "\n",
    "# NOTE: the result we get from this test is much \n",
    "# better than testing against the test set, since\n",
    "# this test is the equivalent of 100 such tests.\n",
    "\n",
    "dfc02 <- rbind(dfc02, rep(1,4))\n"
   ]
  },
  {
   "cell_type": "code",
   "execution_count": 56,
   "metadata": {},
   "outputs": [
    {
     "data": {
      "text/html": [
       "'Start time: 2021-04-17 16:44:29'"
      ],
      "text/latex": [
       "'Start time: 2021-04-17 16:44:29'"
      ],
      "text/markdown": [
       "'Start time: 2021-04-17 16:44:29'"
      ],
      "text/plain": [
       "[1] \"Start time: 2021-04-17 16:44:29\""
      ]
     },
     "metadata": {},
     "output_type": "display_data"
    },
    {
     "data": {
      "text/plain": [
       "Time difference of 9.16 mins"
      ]
     },
     "metadata": {},
     "output_type": "display_data"
    }
   ],
   "source": [
    "# Find the best weights of those in dfc02 (210 rows,\n",
    "# 11 seeds, 5 folds).\n",
    "\n",
    "set.seed(1233)\n",
    "seed_vector <- sample(1:9999, 11, replace=FALSE)\n",
    "\n",
    "start <- Sys.time()\n",
    "paste(\"Start time: \", start, sep=\"\")\n",
    "dat_result <- gridSearch06(seed_vector, dat, dfc02) \n",
    "stop <- Sys.time()\n",
    "round(stop - start, 2)\n",
    "# Time difference of 9.16 mins\n"
   ]
  },
  {
   "cell_type": "code",
   "execution_count": 57,
   "metadata": {},
   "outputs": [
    {
     "data": {
      "text/html": [
       "1"
      ],
      "text/latex": [
       "1"
      ],
      "text/markdown": [
       "1"
      ],
      "text/plain": [
       "[1] 1"
      ]
     },
     "metadata": {},
     "output_type": "display_data"
    }
   ],
   "source": [
    "best_params <- dat_result[which(dat_result$Type2 == \n",
    "                                max(dat_result$Type2, na.rm=TRUE)),]$row\n",
    "length(best_params)\n",
    "\n",
    "best_Type2 <- dat_result[which(dat_result$Type2 == \n",
    "                                max(dat_result$Type2, na.rm=TRUE)),]$Type2\n"
   ]
  },
  {
   "cell_type": "code",
   "execution_count": 58,
   "metadata": {},
   "outputs": [
    {
     "data": {
      "text/html": [
       "<table>\n",
       "<caption>A data.frame: 1 × 4</caption>\n",
       "<thead>\n",
       "\t<tr><th></th><th scope=col>AST</th><th scope=col>CK</th><th scope=col>Daysrec</th><th scope=col>prob01</th></tr>\n",
       "\t<tr><th></th><th scope=col>&lt;dbl&gt;</th><th scope=col>&lt;dbl&gt;</th><th scope=col>&lt;dbl&gt;</th><th scope=col>&lt;dbl&gt;</th></tr>\n",
       "</thead>\n",
       "<tbody>\n",
       "\t<tr><th scope=row>459</th><td>0.1</td><td>0.44</td><td>0.12</td><td>0.34</td></tr>\n",
       "</tbody>\n",
       "</table>\n"
      ],
      "text/latex": [
       "A data.frame: 1 × 4\n",
       "\\begin{tabular}{r|llll}\n",
       "  & AST & CK & Daysrec & prob01\\\\\n",
       "  & <dbl> & <dbl> & <dbl> & <dbl>\\\\\n",
       "\\hline\n",
       "\t459 & 0.1 & 0.44 & 0.12 & 0.34\\\\\n",
       "\\end{tabular}\n"
      ],
      "text/markdown": [
       "\n",
       "A data.frame: 1 × 4\n",
       "\n",
       "| <!--/--> | AST &lt;dbl&gt; | CK &lt;dbl&gt; | Daysrec &lt;dbl&gt; | prob01 &lt;dbl&gt; |\n",
       "|---|---|---|---|---|\n",
       "| 459 | 0.1 | 0.44 | 0.12 | 0.34 |\n",
       "\n"
      ],
      "text/plain": [
       "    AST CK   Daysrec prob01\n",
       "459 0.1 0.44 0.12    0.34  "
      ]
     },
     "metadata": {},
     "output_type": "display_data"
    },
    {
     "data": {
      "text/html": [
       "0.66453"
      ],
      "text/latex": [
       "0.66453"
      ],
      "text/markdown": [
       "0.66453"
      ],
      "text/plain": [
       "[1] 0.66453"
      ]
     },
     "metadata": {},
     "output_type": "display_data"
    }
   ],
   "source": [
    "dfc02[best_params,]\n",
    "#       \t AST \t  CK  \tDaysrec \tprob01\n",
    "\n",
    "# 459   \t0.10 \t0.44\t   0.12 \t  0.34\n",
    "\n",
    "best_Type2\n",
    "# 0.6645\n"
   ]
  },
  {
   "cell_type": "code",
   "execution_count": 59,
   "metadata": {},
   "outputs": [
    {
     "data": {
      "text/html": [
       "<style>\n",
       ".list-inline {list-style: none; margin:0; padding: 0}\n",
       ".list-inline>li {display: inline-block}\n",
       ".list-inline>li:not(:last-child)::after {content: \"\\00b7\"; padding: 0 .5ex}\n",
       "</style>\n",
       "<ol class=list-inline><li>92</li><li>4</li></ol>\n"
      ],
      "text/latex": [
       "\\begin{enumerate*}\n",
       "\\item 92\n",
       "\\item 4\n",
       "\\end{enumerate*}\n"
      ],
      "text/markdown": [
       "1. 92\n",
       "2. 4\n",
       "\n",
       "\n"
      ],
      "text/plain": [
       "[1] 92  4"
      ]
     },
     "metadata": {},
     "output_type": "display_data"
    }
   ],
   "source": [
    "# Refine the search.\n",
    "\n",
    "lst <- vector(\"list\", length= 4)\n",
    "names(lst) <- c(\"AST\",\"CK\",\"Daysrec\",\"prob01\")\n",
    "\n",
    "lst[[1]] <- seq(0.08, 0.12, by= 0.01)\n",
    "lst[[2]] <- seq(0.42, 0.47, by= 0.01)\n",
    "lst[[3]] <- seq(0.10, 0.15, by= 0.01)\n",
    "lst[[4]] <- seq(0.33, 0.37, by=0.01)\n",
    "\n",
    "start <- Sys.time()\n",
    "dfc03 <- generate_combs(lst)\n",
    "stop <- Sys.time()\n",
    "# round(stop - start, 2)\n",
    "\n",
    "dim(dfc03)\n",
    "#  92     4\n"
   ]
  },
  {
   "cell_type": "code",
   "execution_count": 60,
   "metadata": {},
   "outputs": [
    {
     "data": {
      "text/html": [
       "'Start time: 2021-04-17 16:59:49'"
      ],
      "text/latex": [
       "'Start time: 2021-04-17 16:59:49'"
      ],
      "text/markdown": [
       "'Start time: 2021-04-17 16:59:49'"
      ],
      "text/plain": [
       "[1] \"Start time: 2021-04-17 16:59:49\""
      ]
     },
     "metadata": {},
     "output_type": "display_data"
    },
    {
     "data": {
      "text/plain": [
       "Time difference of 3.99 mins"
      ]
     },
     "metadata": {},
     "output_type": "display_data"
    }
   ],
   "source": [
    "# Find the best weights of those in dfc02 (210 rows,\n",
    "# 11 seeds, 5 folds).\n",
    "\n",
    "set.seed(1233)\n",
    "seed_vector <- sample(1:9999, 11, replace=FALSE)\n",
    "\n",
    "start <- Sys.time()\n",
    "paste(\"Start time: \", start, sep=\"\")\n",
    "dat_result <- gridSearch06(seed_vector, dat, dfc03) \n",
    "stop <- Sys.time()\n",
    "round(stop - start, 2)\n",
    "# Time difference of 3.99 mins\n"
   ]
  },
  {
   "cell_type": "code",
   "execution_count": 61,
   "metadata": {},
   "outputs": [
    {
     "data": {
      "text/html": [
       "1"
      ],
      "text/latex": [
       "1"
      ],
      "text/markdown": [
       "1"
      ],
      "text/plain": [
       "[1] 1"
      ]
     },
     "metadata": {},
     "output_type": "display_data"
    }
   ],
   "source": [
    "best_params <- dat_result[which(dat_result$Type2 == \n",
    "                                max(dat_result$Type2, na.rm=TRUE)),]$row\n",
    "length(best_params)\n",
    "\n",
    "best_Type2 <- dat_result[which(dat_result$Type2 == \n",
    "                                max(dat_result$Type2, na.rm=TRUE)),]$Type2\n"
   ]
  },
  {
   "cell_type": "code",
   "execution_count": 62,
   "metadata": {},
   "outputs": [
    {
     "data": {
      "text/html": [
       "<table>\n",
       "<caption>A data.frame: 1 × 4</caption>\n",
       "<thead>\n",
       "\t<tr><th></th><th scope=col>AST</th><th scope=col>CK</th><th scope=col>Daysrec</th><th scope=col>prob01</th></tr>\n",
       "\t<tr><th></th><th scope=col>&lt;dbl&gt;</th><th scope=col>&lt;dbl&gt;</th><th scope=col>&lt;dbl&gt;</th><th scope=col>&lt;dbl&gt;</th></tr>\n",
       "</thead>\n",
       "<tbody>\n",
       "\t<tr><th scope=row>99</th><td>0.11</td><td>0.43</td><td>0.13</td><td>0.33</td></tr>\n",
       "</tbody>\n",
       "</table>\n"
      ],
      "text/latex": [
       "A data.frame: 1 × 4\n",
       "\\begin{tabular}{r|llll}\n",
       "  & AST & CK & Daysrec & prob01\\\\\n",
       "  & <dbl> & <dbl> & <dbl> & <dbl>\\\\\n",
       "\\hline\n",
       "\t99 & 0.11 & 0.43 & 0.13 & 0.33\\\\\n",
       "\\end{tabular}\n"
      ],
      "text/markdown": [
       "\n",
       "A data.frame: 1 × 4\n",
       "\n",
       "| <!--/--> | AST &lt;dbl&gt; | CK &lt;dbl&gt; | Daysrec &lt;dbl&gt; | prob01 &lt;dbl&gt; |\n",
       "|---|---|---|---|---|\n",
       "| 99 | 0.11 | 0.43 | 0.13 | 0.33 |\n",
       "\n"
      ],
      "text/plain": [
       "   AST  CK   Daysrec prob01\n",
       "99 0.11 0.43 0.13    0.33  "
      ]
     },
     "metadata": {},
     "output_type": "display_data"
    },
    {
     "data": {
      "text/html": [
       "0.66476"
      ],
      "text/latex": [
       "0.66476"
      ],
      "text/markdown": [
       "0.66476"
      ],
      "text/plain": [
       "[1] 0.66476"
      ]
     },
     "metadata": {},
     "output_type": "display_data"
    }
   ],
   "source": [
    "dfc03[best_params,]\n",
    "#       \t AST \t  CK  \tDaysrec \tprob01\n",
    "\n",
    "# 99    \t0.11 \t0.43\t   0.13 \t  0.33\n",
    "\n",
    "best_Type2\n",
    "# 0.6648\n"
   ]
  },
  {
   "cell_type": "markdown",
   "metadata": {},
   "source": [
    "### Summary info for hybrid model with prob01 constructed from g03"
   ]
  },
  {
   "cell_type": "code",
   "execution_count": 63,
   "metadata": {},
   "outputs": [],
   "source": [
    "# This function is called by get_cvInfo.  It returns a vector\n",
    "# of scores: f-score, accuracy, Type2, false negatives, and\n",
    "# false positives, in the stated order.  The scores are for\n",
    "# the hybrid k-means model with the prob01 column.\n",
    "\n",
    "get_cvScores_kmp1_g03 <- function(traindat, valdat) {\n",
    "    \n",
    "    g03mod <- suppressWarnings(glm(Outcome ~ Daysrec + CK + I(log(AST)),\n",
    "                  data= traindat, family= binomial, singular.ok=TRUE,\n",
    "                  epsilon= 1e-7, maxit=50))\n",
    "    \n",
    "    traindat$prob01 <- as.numeric(g03mod$fitted)\n",
    "    \n",
    "    #############################\n",
    "    # Transform and scale training set data.\n",
    "    traindat$AST <- log(traindat$AST)\n",
    "    traindat$CK <- log(traindat$CK)\n",
    "    traindat$Daysrec <- sqrt(traindat$Daysrec)\n",
    "\n",
    "    traindat_scaled <- scale(traindat[, -1], center=TRUE, scale=TRUE)\n",
    "    centers <- attr(traindat_scaled, \"scaled:center\")\n",
    "    scales <- attr(traindat_scaled, \"scaled:scale\")\n",
    "    \n",
    "    #############################\n",
    "    # Apply weights to traindat.  \n",
    "    \n",
    "    wghts <- c(0.11, 0.43, 0.13, 0.33)^0.5\n",
    "    names(wghts) <- cols <- c(\"AST\",\"CK\",\"Daysrec\",\"prob01\")\n",
    "    df2 <- t(t(traindat_scaled[, cols]) * as.numeric(wghts[cols]))\n",
    "    traindat_wghts <- as.data.frame(df2, row.names=rownames(traindat))\n",
    "    colnames(traindat_wghts) <- cols\n",
    "    \n",
    "       \n",
    "    #############################\n",
    "    # Prepare valdat.\n",
    "    \n",
    "    # Compute the prob01 column.\n",
    "    preds01_b <- predict(g03mod, newdata=valdat)\n",
    "    valdat$prob01 <- as.numeric(preds01_b)\n",
    "    \n",
    "    # Transform and scale valdat.\n",
    "    valdat$AST <- log(valdat$AST)\n",
    "    valdat$CK <- log(valdat$CK)\n",
    "    valdat$Daysrec <- sqrt(valdat$Daysrec)\n",
    "\n",
    "    valdat_scaled <- scale(valdat[, -1], center=centers, scale=scales)\n",
    "    valdat_scaled <- as.data.frame(valdat_scaled, row.names=rownames(valdat))\n",
    "    \n",
    "    # Apply weights to valdat.\n",
    "    df2 <- t(t(valdat_scaled[, cols]) * as.numeric(wghts[cols]))\n",
    "    valdat_wghts <- as.data.frame(df2, row.names=rownames(valdat))\n",
    "    colnames(valdat_wghts) <- cols\n",
    "    \n",
    "    \n",
    "    #############################\n",
    "    # Construct k-means model.\n",
    "    \n",
    "    kmod <- suppressWarnings(kmeans(traindat_wghts, 2, iter.max = 50, nstart=15))\n",
    "    \n",
    "    # See how the clusters are associated with Outcome.\n",
    "    dfout <- as.data.frame(cbind(traindat$Outcome, kmod$cluster),\n",
    "                           row.names=rownames(traindat))\n",
    "    colnames(dfout) <- c(\"Outcome\", \"cluster\")\n",
    "\n",
    "    c1_to_Outcome1 <- c1_toLevel_1(dfout)\n",
    "    \n",
    "    #############################\n",
    "    # Apply the k-means model to valdat_wghts.\n",
    "    \n",
    "    # Each element of the following list is a row of valdat_wghts.\n",
    "    valdat_asList <- split(valdat_wghts[, colnames(kmod$centers)],\n",
    "                           seq(nrow(valdat_wghts)))\n",
    "    \n",
    "    ctr_list <- vector(\"list\", length= nrow(valdat))\n",
    "    for(i in 1:nrow(valdat)) {\n",
    "        \n",
    "        ctr_list[[i]] <- kmod$centers\n",
    "    }\n",
    "    names(ctr_list) <- rownames(valdat)\n",
    "    \n",
    "    \n",
    "    # Get the predictions for the validation set.\n",
    "    cluster_assgns <- mcmapply(getCluster, valdat_asList, ctr_list,\n",
    "                               SIMPLIFY=TRUE, mc.cores=6)\n",
    "    \n",
    "    valdat_wghts$cluster <- as.numeric(cluster_assgns)\n",
    "    \n",
    "    valdat_wghts$pred_Outcome <- NA\n",
    "    if(c1_to_Outcome1) {\n",
    "        valdat_wghts[which(valdat_wghts$cluster==1),]$pred_Outcome <- 1\n",
    "        valdat_wghts[which(valdat_wghts$cluster==2),]$pred_Outcome <- 0\n",
    "    } else {\n",
    "        valdat_wghts[which(valdat_wghts$cluster==1),]$pred_Outcome <- 0\n",
    "        valdat_wghts[which(valdat_wghts$cluster==2),]$pred_Outcome <- 1\n",
    "    }\n",
    "    \n",
    "    # Generate confusion matrix for the k-means clusters and\n",
    "    # the corresponding f-score.\n",
    "    preds <- as.factor(valdat_wghts$pred_Outcome)\n",
    "    names(preds) <- rownames(valdat)\n",
    "    ans <- get_confusion(preds, valdat[, \"Outcome\", drop=FALSE])\n",
    "\n",
    "    mat <- as.matrix(ans[[1]])\n",
    "    fscore <- round(as.numeric(ans[[2]]), 4)\n",
    "    acc <- round(sum(diag(mat))/floor(sum(mat)), 4)\n",
    "    type2 <- round((0.4 * acc + 0.6 * ans[[2]]), 4)\n",
    "    FN <- as.numeric(mat[2,1])\n",
    "    FP <- as.numeric(mat[1,2])\n",
    "    return(c(fscore,acc,type2,FN,FP))\n",
    "}\n"
   ]
  },
  {
   "cell_type": "code",
   "execution_count": 65,
   "metadata": {},
   "outputs": [
    {
     "data": {
      "text/plain": [
       "Time difference of 3.95 mins"
      ]
     },
     "metadata": {},
     "output_type": "display_data"
    }
   ],
   "source": [
    "# Get scores for the hybrid model with prob01 constructed \n",
    "# from the g03 logistic model.\n",
    "\n",
    "set.seed(1913)\n",
    "seed_vector <- sample(1:9999, 1000, replace=FALSE)\n",
    "\n",
    "start <- Sys.time()\n",
    "dat_result <- get_cvInfo(seed_vector, dat)\n",
    "stop <- Sys.time()\n",
    "round(stop - start, 2)\n",
    "# Time difference of 4 mins\n"
   ]
  },
  {
   "cell_type": "code",
   "execution_count": 66,
   "metadata": {},
   "outputs": [
    {
     "data": {
      "text/html": [
       "<style>\n",
       ".list-inline {list-style: none; margin:0; padding: 0}\n",
       ".list-inline>li {display: inline-block}\n",
       ".list-inline>li:not(:last-child)::after {content: \"\\00b7\"; padding: 0 .5ex}\n",
       "</style>\n",
       "<ol class=list-inline><li>5000</li><li>5</li></ol>\n"
      ],
      "text/latex": [
       "\\begin{enumerate*}\n",
       "\\item 5000\n",
       "\\item 5\n",
       "\\end{enumerate*}\n"
      ],
      "text/markdown": [
       "1. 5000\n",
       "2. 5\n",
       "\n",
       "\n"
      ],
      "text/plain": [
       "[1] 5000    5"
      ]
     },
     "metadata": {},
     "output_type": "display_data"
    },
    {
     "data": {
      "text/html": [
       "<table>\n",
       "<caption>A data.frame: 6 × 5</caption>\n",
       "<thead>\n",
       "\t<tr><th></th><th scope=col>fscore</th><th scope=col>Acc</th><th scope=col>Type2</th><th scope=col>FN</th><th scope=col>FP</th></tr>\n",
       "\t<tr><th></th><th scope=col>&lt;dbl&gt;</th><th scope=col>&lt;dbl&gt;</th><th scope=col>&lt;dbl&gt;</th><th scope=col>&lt;dbl&gt;</th><th scope=col>&lt;dbl&gt;</th></tr>\n",
       "</thead>\n",
       "<tbody>\n",
       "\t<tr><th scope=row>4782--1</th><td>0.6512</td><td>0.8125</td><td>0.7157</td><td> 8</td><td> 7</td></tr>\n",
       "\t<tr><th scope=row>4782--2</th><td>0.6071</td><td>0.7250</td><td>0.6543</td><td>11</td><td>11</td></tr>\n",
       "\t<tr><th scope=row>4782--3</th><td>0.5532</td><td>0.7375</td><td>0.6269</td><td>17</td><td> 4</td></tr>\n",
       "\t<tr><th scope=row>4782--4</th><td>0.6667</td><td>0.7125</td><td>0.6850</td><td> 9</td><td>14</td></tr>\n",
       "\t<tr><th scope=row>4782--5</th><td>0.6349</td><td>0.7125</td><td>0.6659</td><td>17</td><td> 6</td></tr>\n",
       "\t<tr><th scope=row>9275--1</th><td>0.6429</td><td>0.7500</td><td>0.6857</td><td>12</td><td> 8</td></tr>\n",
       "</tbody>\n",
       "</table>\n"
      ],
      "text/latex": [
       "A data.frame: 6 × 5\n",
       "\\begin{tabular}{r|lllll}\n",
       "  & fscore & Acc & Type2 & FN & FP\\\\\n",
       "  & <dbl> & <dbl> & <dbl> & <dbl> & <dbl>\\\\\n",
       "\\hline\n",
       "\t4782--1 & 0.6512 & 0.8125 & 0.7157 &  8 &  7\\\\\n",
       "\t4782--2 & 0.6071 & 0.7250 & 0.6543 & 11 & 11\\\\\n",
       "\t4782--3 & 0.5532 & 0.7375 & 0.6269 & 17 &  4\\\\\n",
       "\t4782--4 & 0.6667 & 0.7125 & 0.6850 &  9 & 14\\\\\n",
       "\t4782--5 & 0.6349 & 0.7125 & 0.6659 & 17 &  6\\\\\n",
       "\t9275--1 & 0.6429 & 0.7500 & 0.6857 & 12 &  8\\\\\n",
       "\\end{tabular}\n"
      ],
      "text/markdown": [
       "\n",
       "A data.frame: 6 × 5\n",
       "\n",
       "| <!--/--> | fscore &lt;dbl&gt; | Acc &lt;dbl&gt; | Type2 &lt;dbl&gt; | FN &lt;dbl&gt; | FP &lt;dbl&gt; |\n",
       "|---|---|---|---|---|---|\n",
       "| 4782--1 | 0.6512 | 0.8125 | 0.7157 |  8 |  7 |\n",
       "| 4782--2 | 0.6071 | 0.7250 | 0.6543 | 11 | 11 |\n",
       "| 4782--3 | 0.5532 | 0.7375 | 0.6269 | 17 |  4 |\n",
       "| 4782--4 | 0.6667 | 0.7125 | 0.6850 |  9 | 14 |\n",
       "| 4782--5 | 0.6349 | 0.7125 | 0.6659 | 17 |  6 |\n",
       "| 9275--1 | 0.6429 | 0.7500 | 0.6857 | 12 |  8 |\n",
       "\n"
      ],
      "text/plain": [
       "        fscore Acc    Type2  FN FP\n",
       "4782--1 0.6512 0.8125 0.7157  8  7\n",
       "4782--2 0.6071 0.7250 0.6543 11 11\n",
       "4782--3 0.5532 0.7375 0.6269 17  4\n",
       "4782--4 0.6667 0.7125 0.6850  9 14\n",
       "4782--5 0.6349 0.7125 0.6659 17  6\n",
       "9275--1 0.6429 0.7500 0.6857 12  8"
      ]
     },
     "metadata": {},
     "output_type": "display_data"
    }
   ],
   "source": [
    "dim(dat_result)\n",
    "head(dat_result)\n"
   ]
  },
  {
   "cell_type": "code",
   "execution_count": 67,
   "metadata": {},
   "outputs": [
    {
     "data": {
      "text/html": [
       "'fscore mean: 0.6159'"
      ],
      "text/latex": [
       "'fscore mean: 0.6159'"
      ],
      "text/markdown": [
       "'fscore mean: 0.6159'"
      ],
      "text/plain": [
       "[1] \"fscore mean: 0.6159\""
      ]
     },
     "metadata": {},
     "output_type": "display_data"
    },
    {
     "data": {
      "text/html": [
       "'fscore StdDev: 0.0692'"
      ],
      "text/latex": [
       "'fscore StdDev: 0.0692'"
      ],
      "text/markdown": [
       "'fscore StdDev: 0.0692'"
      ],
      "text/plain": [
       "[1] \"fscore StdDev: 0.0692\""
      ]
     },
     "metadata": {},
     "output_type": "display_data"
    },
    {
     "data": {
      "text/html": [
       "''"
      ],
      "text/latex": [
       "''"
      ],
      "text/markdown": [
       "''"
      ],
      "text/plain": [
       "[1] \"\""
      ]
     },
     "metadata": {},
     "output_type": "display_data"
    },
    {
     "data": {
      "text/plain": [
       "   Min. 1st Qu.  Median    Mean 3rd Qu.    Max. \n",
       "  0.244   0.571   0.621   0.616   0.667   0.830 "
      ]
     },
     "metadata": {},
     "output_type": "display_data"
    }
   ],
   "source": [
    "fscore_mean <- round(mean(dat_result$fscore), 4)\n",
    "fscore_sd <- round(sd(dat_result$fscore), 4)\n",
    "paste0(\"fscore mean: \", as.character(fscore_mean))\n",
    "# 0.6159\n",
    "paste0(\"fscore StdDev: \", as.character(fscore_sd))\n",
    "# 0.0692\n",
    "\"\"\n",
    "summary(dat_result$fscore)\n"
   ]
  },
  {
   "cell_type": "code",
   "execution_count": 68,
   "metadata": {},
   "outputs": [
    {
     "data": {
      "text/html": [
       "'accuracy mean: 0.7321'"
      ],
      "text/latex": [
       "'accuracy mean: 0.7321'"
      ],
      "text/markdown": [
       "'accuracy mean: 0.7321'"
      ],
      "text/plain": [
       "[1] \"accuracy mean: 0.7321\""
      ]
     },
     "metadata": {},
     "output_type": "display_data"
    },
    {
     "data": {
      "text/html": [
       "'accuracy StdDev: 0.0455'"
      ],
      "text/latex": [
       "'accuracy StdDev: 0.0455'"
      ],
      "text/markdown": [
       "'accuracy StdDev: 0.0455'"
      ],
      "text/plain": [
       "[1] \"accuracy StdDev: 0.0455\""
      ]
     },
     "metadata": {},
     "output_type": "display_data"
    },
    {
     "data": {
      "text/html": [
       "''"
      ],
      "text/latex": [
       "''"
      ],
      "text/markdown": [
       "''"
      ],
      "text/plain": [
       "[1] \"\""
      ]
     },
     "metadata": {},
     "output_type": "display_data"
    },
    {
     "data": {
      "text/plain": [
       "   Min. 1st Qu.  Median    Mean 3rd Qu.    Max. \n",
       "  0.550   0.700   0.738   0.732   0.762   0.887 "
      ]
     },
     "metadata": {},
     "output_type": "display_data"
    }
   ],
   "source": [
    "Acc_mean <- round(mean(dat_result$Acc), 4)\n",
    "Acc_sd <- round(sd(dat_result$Acc), 4)\n",
    "paste0(\"accuracy mean: \", as.character(Acc_mean))\n",
    "# 0.7321\n",
    "paste0(\"accuracy StdDev: \", as.character(Acc_sd))\n",
    "# 0.0455\n",
    "\"\"\n",
    "summary(dat_result$Acc)\n"
   ]
  },
  {
   "cell_type": "code",
   "execution_count": 69,
   "metadata": {},
   "outputs": [
    {
     "data": {
      "text/html": [
       "'Type2 mean: 0.6624'"
      ],
      "text/latex": [
       "'Type2 mean: 0.6624'"
      ],
      "text/markdown": [
       "'Type2 mean: 0.6624'"
      ],
      "text/plain": [
       "[1] \"Type2 mean: 0.6624\""
      ]
     },
     "metadata": {},
     "output_type": "display_data"
    },
    {
     "data": {
      "text/html": [
       "'Type2 StdDev: 0.0571'"
      ],
      "text/latex": [
       "'Type2 StdDev: 0.0571'"
      ],
      "text/markdown": [
       "'Type2 StdDev: 0.0571'"
      ],
      "text/plain": [
       "[1] \"Type2 StdDev: 0.0571\""
      ]
     },
     "metadata": {},
     "output_type": "display_data"
    },
    {
     "data": {
      "text/html": [
       "''"
      ],
      "text/latex": [
       "''"
      ],
      "text/markdown": [
       "''"
      ],
      "text/plain": [
       "[1] \"\""
      ]
     },
     "metadata": {},
     "output_type": "display_data"
    },
    {
     "data": {
      "text/plain": [
       "   Min. 1st Qu.  Median    Mean 3rd Qu.    Max. \n",
       "  0.388   0.625   0.664   0.662   0.701   0.853 "
      ]
     },
     "metadata": {},
     "output_type": "display_data"
    }
   ],
   "source": [
    "Type2_mean <- round(mean(dat_result$Type2), 4)\n",
    "Type2_sd <- round(sd(dat_result$Type2), 4)\n",
    "paste0(\"Type2 mean: \", as.character(Type2_mean))\n",
    "# 0.6624\n",
    "paste0(\"Type2 StdDev: \", as.character(Type2_sd))\n",
    "# 0.0571\n",
    "\"\"\n",
    "summary(dat_result$Type2)\n"
   ]
  },
  {
   "cell_type": "code",
   "execution_count": 70,
   "metadata": {},
   "outputs": [
    {
     "data": {
      "image/png": "[encoded data removed]",
      "text/plain": [
       "Plot with title “Distribution of Type2 scores for hybrid model w/ prob01 from g03”"
      ]
     },
     "metadata": {
      "image/png": {
       "height": 360,
       "width": 600
      }
     },
     "output_type": "display_data"
    }
   ],
   "source": [
    "# Histogram of the Type2 scores for the hybrid model with prob01.\n",
    "\n",
    "options(repr.plot.width= 10, repr.plot.height= 6)\n",
    "hist(dat_result$Type2, breaks=10, xlab=\"Type2 score\",\n",
    "     main=\"Distribution of Type2 scores for hybrid model w/ prob01 from g03\")\n"
   ]
  },
  {
   "cell_type": "code",
   "execution_count": 71,
   "metadata": {},
   "outputs": [
    {
     "data": {
      "text/html": [
       "'FN mean: 12.4068'"
      ],
      "text/latex": [
       "'FN mean: 12.4068'"
      ],
      "text/markdown": [
       "'FN mean: 12.4068'"
      ],
      "text/plain": [
       "[1] \"FN mean: 12.4068\""
      ]
     },
     "metadata": {},
     "output_type": "display_data"
    },
    {
     "data": {
      "text/html": [
       "'FN StdDev: 3.1133'"
      ],
      "text/latex": [
       "'FN StdDev: 3.1133'"
      ],
      "text/markdown": [
       "'FN StdDev: 3.1133'"
      ],
      "text/plain": [
       "[1] \"FN StdDev: 3.1133\""
      ]
     },
     "metadata": {},
     "output_type": "display_data"
    },
    {
     "data": {
      "text/html": [
       "''"
      ],
      "text/latex": [
       "''"
      ],
      "text/markdown": [
       "''"
      ],
      "text/plain": [
       "[1] \"\""
      ]
     },
     "metadata": {},
     "output_type": "display_data"
    },
    {
     "data": {
      "text/plain": [
       "   Min. 1st Qu.  Median    Mean 3rd Qu.    Max. \n",
       "    2.0    10.0    12.0    12.4    14.0    24.0 "
      ]
     },
     "metadata": {},
     "output_type": "display_data"
    }
   ],
   "source": [
    "FN_mean <- round(mean(dat_result$FN), 4)\n",
    "FN_sd <- round(sd(dat_result$FN), 4)\n",
    "paste0(\"FN mean: \", as.character(FN_mean))\n",
    "# 12.41\n",
    "paste0(\"FN StdDev: \", as.character(FN_sd))\n",
    "# 3.11\n",
    "\"\"\n",
    "summary(dat_result$FN)\n"
   ]
  },
  {
   "cell_type": "code",
   "execution_count": 72,
   "metadata": {},
   "outputs": [
    {
     "data": {
      "text/html": [
       "'FP mean: 9.0238'"
      ],
      "text/latex": [
       "'FP mean: 9.0238'"
      ],
      "text/markdown": [
       "'FP mean: 9.0238'"
      ],
      "text/plain": [
       "[1] \"FP mean: 9.0238\""
      ]
     },
     "metadata": {},
     "output_type": "display_data"
    },
    {
     "data": {
      "text/html": [
       "'FP StdDev: 3.0482'"
      ],
      "text/latex": [
       "'FP StdDev: 3.0482'"
      ],
      "text/markdown": [
       "'FP StdDev: 3.0482'"
      ],
      "text/plain": [
       "[1] \"FP StdDev: 3.0482\""
      ]
     },
     "metadata": {},
     "output_type": "display_data"
    },
    {
     "data": {
      "text/html": [
       "''"
      ],
      "text/latex": [
       "''"
      ],
      "text/markdown": [
       "''"
      ],
      "text/plain": [
       "[1] \"\""
      ]
     },
     "metadata": {},
     "output_type": "display_data"
    },
    {
     "data": {
      "text/plain": [
       "   Min. 1st Qu.  Median    Mean 3rd Qu.    Max. \n",
       "   1.00    7.00    9.00    9.02   11.00   20.00 "
      ]
     },
     "metadata": {},
     "output_type": "display_data"
    }
   ],
   "source": [
    "FP_mean <- round(mean(dat_result$FP), 4)\n",
    "FP_sd <- round(sd(dat_result$FP), 4)\n",
    "paste0(\"FP mean: \", as.character(FP_mean))\n",
    "# 9.02\n",
    "paste0(\"FP StdDev: \", as.character(FP_sd))\n",
    "# 3.05\n",
    "\"\"\n",
    "summary(dat_result$FP)\n"
   ]
  },
  {
   "cell_type": "markdown",
   "metadata": {},
   "source": [
    "## Summary table for Section 6 results"
   ]
  },
  {
   "cell_type": "code",
   "execution_count": 73,
   "metadata": {},
   "outputs": [
    {
     "data": {
      "text/html": [
       "<style>\n",
       ".list-inline {list-style: none; margin:0; padding: 0}\n",
       ".list-inline>li {display: inline-block}\n",
       ".list-inline>li:not(:last-child)::after {content: \"\\00b7\"; padding: 0 .5ex}\n",
       "</style>\n",
       "<ol class=list-inline><li>7</li><li>10</li></ol>\n"
      ],
      "text/latex": [
       "\\begin{enumerate*}\n",
       "\\item 7\n",
       "\\item 10\n",
       "\\end{enumerate*}\n"
      ],
      "text/markdown": [
       "1. 7\n",
       "2. 10\n",
       "\n",
       "\n"
      ],
      "text/plain": [
       "[1]  7 10"
      ]
     },
     "metadata": {},
     "output_type": "display_data"
    }
   ],
   "source": [
    "results <- read.csv(\"/home/greg/Documents/stat/github_repos/cows/model_results_Part2b.csv\", \n",
    "                    header=TRUE, row.names=1)\n",
    "dim(results)\n"
   ]
  },
  {
   "cell_type": "code",
   "execution_count": null,
   "metadata": {},
   "outputs": [],
   "source": [
    "#&* Bookmark"
   ]
  },
  {
   "cell_type": "code",
   "execution_count": 74,
   "metadata": {},
   "outputs": [
    {
     "data": {
      "text/html": [
       "<table>\n",
       "<caption>A data.frame: 7 × 10</caption>\n",
       "<thead>\n",
       "\t<tr><th></th><th scope=col>fscore</th><th scope=col>fscore_sd</th><th scope=col>Type2</th><th scope=col>Type2_sd</th><th scope=col>accuracy</th><th scope=col>acc_sd</th><th scope=col>FN</th><th scope=col>FN_sd</th><th scope=col>FP</th><th scope=col>FP_sd</th></tr>\n",
       "\t<tr><th></th><th scope=col>&lt;dbl&gt;</th><th scope=col>&lt;dbl&gt;</th><th scope=col>&lt;dbl&gt;</th><th scope=col>&lt;dbl&gt;</th><th scope=col>&lt;dbl&gt;</th><th scope=col>&lt;dbl&gt;</th><th scope=col>&lt;dbl&gt;</th><th scope=col>&lt;dbl&gt;</th><th scope=col>&lt;dbl&gt;</th><th scope=col>&lt;dbl&gt;</th></tr>\n",
       "</thead>\n",
       "<tbody>\n",
       "\t<tr><th scope=row>svm02</th><td>0.6307</td><td>0.0639</td><td>0.6603</td><td>0.0551</td><td>0.7047</td><td>0.0472</td><td>14.18</td><td>3.57</td><td> 9.44</td><td>3.07</td></tr>\n",
       "\t<tr><th scope=row>k-means</th><td>0.6447</td><td>0.0600</td><td>0.6603</td><td>0.0522</td><td>0.6838</td><td>0.0465</td><td> 6.56</td><td>2.17</td><td>18.73</td><td>3.37</td></tr>\n",
       "\t<tr><th scope=row>km_p1</th><td>0.6338</td><td>0.0620</td><td>0.6578</td><td>0.0532</td><td>0.6939</td><td>0.0461</td><td> 8.35</td><td>2.45</td><td>16.13</td><td>3.17</td></tr>\n",
       "\t<tr><th scope=row>km_p1p2</th><td>0.6282</td><td>0.0632</td><td>0.6528</td><td>0.0543</td><td>0.6899</td><td>0.0469</td><td> 8.59</td><td>2.53</td><td>16.22</td><td>3.19</td></tr>\n",
       "\t<tr><th scope=row>gbclf</th><td>0.6058</td><td>0.0681</td><td>0.6491</td><td>0.0567</td><td>0.7140</td><td>0.0460</td><td>12.01</td><td>3.23</td><td>10.87</td><td>3.28</td></tr>\n",
       "\t<tr><th scope=row>g03</th><td>0.6177</td><td>0.0666</td><td>0.6572</td><td>0.0559</td><td>0.7163</td><td>0.0460</td><td>11.26</td><td>3.05</td><td>11.44</td><td>3.35</td></tr>\n",
       "\t<tr><th scope=row>km_g03</th><td>0.6159</td><td>0.0692</td><td>0.6624</td><td>0.0571</td><td>0.7321</td><td>0.0455</td><td>12.41</td><td>3.11</td><td> 9.02</td><td>3.05</td></tr>\n",
       "</tbody>\n",
       "</table>\n"
      ],
      "text/latex": [
       "A data.frame: 7 × 10\n",
       "\\begin{tabular}{r|llllllllll}\n",
       "  & fscore & fscore\\_sd & Type2 & Type2\\_sd & accuracy & acc\\_sd & FN & FN\\_sd & FP & FP\\_sd\\\\\n",
       "  & <dbl> & <dbl> & <dbl> & <dbl> & <dbl> & <dbl> & <dbl> & <dbl> & <dbl> & <dbl>\\\\\n",
       "\\hline\n",
       "\tsvm02 & 0.6307 & 0.0639 & 0.6603 & 0.0551 & 0.7047 & 0.0472 & 14.18 & 3.57 &  9.44 & 3.07\\\\\n",
       "\tk-means & 0.6447 & 0.0600 & 0.6603 & 0.0522 & 0.6838 & 0.0465 &  6.56 & 2.17 & 18.73 & 3.37\\\\\n",
       "\tkm\\_p1 & 0.6338 & 0.0620 & 0.6578 & 0.0532 & 0.6939 & 0.0461 &  8.35 & 2.45 & 16.13 & 3.17\\\\\n",
       "\tkm\\_p1p2 & 0.6282 & 0.0632 & 0.6528 & 0.0543 & 0.6899 & 0.0469 &  8.59 & 2.53 & 16.22 & 3.19\\\\\n",
       "\tgbclf & 0.6058 & 0.0681 & 0.6491 & 0.0567 & 0.7140 & 0.0460 & 12.01 & 3.23 & 10.87 & 3.28\\\\\n",
       "\tg03 & 0.6177 & 0.0666 & 0.6572 & 0.0559 & 0.7163 & 0.0460 & 11.26 & 3.05 & 11.44 & 3.35\\\\\n",
       "\tkm\\_g03 & 0.6159 & 0.0692 & 0.6624 & 0.0571 & 0.7321 & 0.0455 & 12.41 & 3.11 &  9.02 & 3.05\\\\\n",
       "\\end{tabular}\n"
      ],
      "text/markdown": [
       "\n",
       "A data.frame: 7 × 10\n",
       "\n",
       "| <!--/--> | fscore &lt;dbl&gt; | fscore_sd &lt;dbl&gt; | Type2 &lt;dbl&gt; | Type2_sd &lt;dbl&gt; | accuracy &lt;dbl&gt; | acc_sd &lt;dbl&gt; | FN &lt;dbl&gt; | FN_sd &lt;dbl&gt; | FP &lt;dbl&gt; | FP_sd &lt;dbl&gt; |\n",
       "|---|---|---|---|---|---|---|---|---|---|---|\n",
       "| svm02 | 0.6307 | 0.0639 | 0.6603 | 0.0551 | 0.7047 | 0.0472 | 14.18 | 3.57 |  9.44 | 3.07 |\n",
       "| k-means | 0.6447 | 0.0600 | 0.6603 | 0.0522 | 0.6838 | 0.0465 |  6.56 | 2.17 | 18.73 | 3.37 |\n",
       "| km_p1 | 0.6338 | 0.0620 | 0.6578 | 0.0532 | 0.6939 | 0.0461 |  8.35 | 2.45 | 16.13 | 3.17 |\n",
       "| km_p1p2 | 0.6282 | 0.0632 | 0.6528 | 0.0543 | 0.6899 | 0.0469 |  8.59 | 2.53 | 16.22 | 3.19 |\n",
       "| gbclf | 0.6058 | 0.0681 | 0.6491 | 0.0567 | 0.7140 | 0.0460 | 12.01 | 3.23 | 10.87 | 3.28 |\n",
       "| g03 | 0.6177 | 0.0666 | 0.6572 | 0.0559 | 0.7163 | 0.0460 | 11.26 | 3.05 | 11.44 | 3.35 |\n",
       "| km_g03 | 0.6159 | 0.0692 | 0.6624 | 0.0571 | 0.7321 | 0.0455 | 12.41 | 3.11 |  9.02 | 3.05 |\n",
       "\n"
      ],
      "text/plain": [
       "        fscore fscore_sd Type2  Type2_sd accuracy acc_sd FN    FN_sd FP   \n",
       "svm02   0.6307 0.0639    0.6603 0.0551   0.7047   0.0472 14.18 3.57   9.44\n",
       "k-means 0.6447 0.0600    0.6603 0.0522   0.6838   0.0465  6.56 2.17  18.73\n",
       "km_p1   0.6338 0.0620    0.6578 0.0532   0.6939   0.0461  8.35 2.45  16.13\n",
       "km_p1p2 0.6282 0.0632    0.6528 0.0543   0.6899   0.0469  8.59 2.53  16.22\n",
       "gbclf   0.6058 0.0681    0.6491 0.0567   0.7140   0.0460 12.01 3.23  10.87\n",
       "g03     0.6177 0.0666    0.6572 0.0559   0.7163   0.0460 11.26 3.05  11.44\n",
       "km_g03  0.6159 0.0692    0.6624 0.0571   0.7321   0.0455 12.41 3.11   9.02\n",
       "        FP_sd\n",
       "svm02   3.07 \n",
       "k-means 3.37 \n",
       "km_p1   3.17 \n",
       "km_p1p2 3.19 \n",
       "gbclf   3.28 \n",
       "g03     3.35 \n",
       "km_g03  3.05 "
      ]
     },
     "metadata": {},
     "output_type": "display_data"
    }
   ],
   "source": [
    "# The following table is a summary of all the \n",
    "# results from Sections 5 and 6.  Recall that\n",
    "# the Type2 score is 60% f-score and 40% accuracy.\n",
    "\n",
    "results\n"
   ]
  },
  {
   "cell_type": "markdown",
   "metadata": {},
   "source": [
    "# Final Comments, Part 2"
   ]
  },
  {
   "cell_type": "markdown",
   "metadata": {},
   "source": [
    "If we go by average accuracy scores or median accuracy scores, km_g03 is the best model of those surveyed.  However, it has the next-to-lowest f-score in the above table.  The f-score makes up 60% of the Type2 score.  After km_g03, the models with the next best Type2 scores are svm02 and the base k-means model, both with a score of 0.6603.  The Z-statistic for the difference in means is 1.92, yielding a two-tailed p-value of 0.055.  From the standpoint of the Type2 score, then, there is **not** a statistically significant difference between km_g03, svm02, and the base k-means model.  (This is true even if we look at the Type2 median scores for these models.)  But if we re-weight the Type2 score so that it is 50% f-score and 50% accuracy, then the nearest competitor to km_g03 is svm02 (0.6740 vs 0.6677).  The Z-statistic for this difference in means is 5.614, yielding a two-tailed p-value of 1.98e-08.\n",
    "\n",
    "It may be that the way to construct a better model from the base k-means model using a prob01 column is to generate the probabilities for prob01 from the model, among those surveyed, with the best average accuracy score.  (Recall that svm02, g03, and gbclf_best all have the same median accuracy score over 5000 folds: an accuracy of 71.3%.  The median accuracy score for km_g03 is 73.8%.)  It helps, of course, if this accuracy score is better than what we already have for the base k-means model.  But it is not clear to me that this is a requirement.\n",
    "\n",
    "From the above table we see that km_g03 is now the best model for the downer cow dataset if accuracy is the criterion, or if we give equal weight to f-score and accuracy.  km_g03 has a mean accuracy score that is 1.6 percentage points better than the next best model, g03.  Comparing the mean accuracy for g03 with that of km_g03, the Z-statistic for the difference in these means is 17.27.  This gives us a two-tailed p-value less than 2e-16.\n",
    "\n",
    "Overall, there is reason to say that km_g03 is the best model of those in the table above.  Although it does not have a great f-score, it performs much better than the other models in terms of accuracy.  It tends to have fewer false positives than false negatives.  Relative to the other models in our table, it has the lowest standard deviation for its accuracy score, although it has the highest standard deviation for its f-score.  Compared to the other models, km_g03 also has the smallest average false positive rate, and the smallest standard deviation for its false positives.\n",
    "\n",
    "\n",
    "\n",
    "                                     * * * * *"
   ]
  },
  {
   "cell_type": "markdown",
   "metadata": {},
   "source": [
    "# Addendum"
   ]
  },
  {
   "cell_type": "markdown",
   "metadata": {},
   "source": [
    "## Using tot.withinss to search for weights"
   ]
  },
  {
   "cell_type": "markdown",
   "metadata": {},
   "source": [
    "When the k-means algorithm is applied to the data on downer cows, we ask the algorithm to give us 2 clusters because we are interested in only 2 clusters---distinguishing between the cows that survived and those that did not.  But we also see from the wss (within-group sum of squares) plot below, that a 2-cluster solution is optimal for our dataset regardless of our interest in distinguishing between survivors and non-survivors.  We might say that the dataset naturally lends itself to a 2-cluster solution.  The obvious reason for why this 2-cluster solution aligns fairly well with the Outcome levels is the fact that the data in our dataframe was collected with the purpose of distinguishing between the survivors and the non-survivors.  \n",
    "\n",
    "In this section, I explore whether we can find optimal weights for the columns used in our k-means modeling by measuring the total within-group sum of squares.  In other words, can weights be optimized by minimizing the total within-group sum of squares?  If so, then we have another way to find optimal weights.  With the current dataset, this second approach is 7X faster than the first.  Thus, if it works, it will be the approach we may sometimes want to use when searching for optimal weights.  (It will not always be 7X faster.  This factor depends on the dataset and what we are trying to do with it.)\n",
    "\n",
    "\n",
    "                                   * * * * *"
   ]
  },
  {
   "cell_type": "code",
   "execution_count": null,
   "metadata": {},
   "outputs": [],
   "source": [
    "#&* Bookmark"
   ]
  },
  {
   "cell_type": "code",
   "execution_count": 12,
   "metadata": {},
   "outputs": [],
   "source": [
    "# The following function is from Robert Kabacoff's \"R in Action\", pp.379-380.\n",
    "\n",
    "wssplot <- function(data, title=\"\", nc=15, seed=1233) {\n",
    "    \n",
    "    # wss[1] is just the total sum of squares when \n",
    "    # there is only one center.\n",
    "    wss <- (nrow(data) - 1)*sum(apply(data, 2, var))\n",
    "    for(i in 2:nc) {\n",
    "        set.seed(seed)\n",
    "        wss[i] <- sum(kmeans(data, centers=i, \n",
    "                             iter.max = 50, nstart = 25)$withinss)\n",
    "    }\n",
    "    plot(1:nc, wss, type='b', xlab=\"Number of clusters\",\n",
    "        ylab=\"Within groups sums of squares\",\n",
    "        main= title)\n",
    "}\n"
   ]
  },
  {
   "cell_type": "code",
   "execution_count": 13,
   "metadata": {},
   "outputs": [
    {
     "data": {
      "image/png": "[encoded data removed]",
      "text/plain": [
       "Plot with title “wss plot for the cow data”"
      ]
     },
     "metadata": {
      "image/png": {
       "height": 420,
       "width": 600
      }
     },
     "output_type": "display_data"
    }
   ],
   "source": [
    "options(repr.plot.width= 10, repr.plot.height= 7)\n",
    "\n",
    "# Remove the Outcome column from data before plotting.\n",
    "wssplot(dat[, -1], title= \"wss plot for the cow data\")\n"
   ]
  },
  {
   "cell_type": "code",
   "execution_count": null,
   "metadata": {},
   "outputs": [],
   "source": [
    "### COMMENT (on above graph):\n",
    "\n",
    "# The largest gain we see in the reduction of within-group \n",
    "# sum of squares occurs when we have 2 clusters.  This \n",
    "# strongly suggests a 2-cluster solution to the 400 \n",
    "# observations in dat.  The additional gain we would \n",
    "# get from a 3-cluster solution is negligible relative to\n",
    "# the gain we see from a 2-cluster solution.  Thus, a \n",
    "# 2-cluster solution looks to be optimal for the downer \n",
    "# cow data.  Anything beyond 2 clusters will not be very\n",
    "# helpful toward identifying the important groups in the\n",
    "# dataset.\n",
    "\n",
    "# Another way of describing how we use the above plot:\n",
    "# we look for a \"kink\" in the curve; if there is one,\n",
    "# that is the point at which we have an optimal number\n",
    "# of clusters for the data we are working with.  See\n",
    "# p. 513 of The Elements of Statistical Learning, 2nd\n",
    "# Edition.\n"
   ]
  },
  {
   "cell_type": "code",
   "execution_count": 14,
   "metadata": {},
   "outputs": [],
   "source": [
    "# Transform the data as if modeling for k-means.\n",
    "\n",
    "df <- dat\n",
    "\n",
    "g03 <- glm(Outcome ~ Daysrec + CK + I(log(AST)),\n",
    "                  data= df, family= binomial, singular.ok=TRUE,\n",
    "                  epsilon= 1e-7, maxit=50)\n",
    "    \n",
    "df$prob01 <- as.numeric(g03$fitted)   \n",
    "df$AST <- log(df$AST)\n",
    "df$CK <- log(df$CK)\n",
    "df$Daysrec <- sqrt(df$Daysrec)\n",
    "\n",
    "df_scaled <- scale(df[, -1], center=TRUE, scale=TRUE)\n",
    "df_scaled <- as.data.frame(cbind(df$Outcome, df_scaled),\n",
    "                           row.names=rownames(df))\n",
    "colnames(df_scaled) <- colnames(df)\n",
    "\n",
    "\n",
    "# The following weights are optimal for the hybrid model\n",
    "# when prob01 is constructed using g03.\n",
    "wghts <- c(0.11, 0.43, 0.13, 0.33)\n",
    "wghts <- wghts^0.5\n",
    "names(wghts) <- cols <- c(\"AST\",\"CK\",\"Daysrec\",\"prob01\")\n",
    "    \n",
    "df2 <- t(t(df_scaled[, cols]) * as.numeric(wghts[cols]))\n",
    "df_wghts <- cbind(as.numeric(df_scaled$Outcome), df2)\n",
    "df_wghts <- as.data.frame(df_wghts)\n",
    "colnames(df_wghts) <- c(\"Outcome\", cols)\n",
    "rownames(df_wghts) <- rownames(df_scaled)\n",
    "    "
   ]
  },
  {
   "cell_type": "code",
   "execution_count": 15,
   "metadata": {},
   "outputs": [
    {
     "data": {
      "image/png": "[encoded data removed]",
      "text/plain": [
       "Plot with title “wss plot: cow data, scaled, + p1”"
      ]
     },
     "metadata": {
      "image/png": {
       "height": 420,
       "width": 600
      }
     },
     "output_type": "display_data"
    }
   ],
   "source": [
    "options(repr.plot.width= 10, repr.plot.height= 7)\n",
    "\n",
    "# Remove the Outcome column from data before plotting.\n",
    "wssplot(df_wghts[, -1], title= \"wss plot: cow data, scaled, + p1\")\n"
   ]
  },
  {
   "cell_type": "markdown",
   "metadata": {},
   "source": [
    "### Can we use tot.withinss to help us find the best set of weights?"
   ]
  },
  {
   "cell_type": "markdown",
   "metadata": {},
   "source": [
    "The best weights are those which enable our k-means model to do the best job generalizing to new data.  Thus, our method will still need to involve cross-validation.\n",
    "\n",
    "I want to see if this approach to finding weights works and, if so, whether it is a faster way to find optimal weights.\n",
    "\n",
    "\n",
    "                              * * * * *"
   ]
  },
  {
   "cell_type": "code",
   "execution_count": 16,
   "metadata": {},
   "outputs": [],
   "source": [
    "# Function for computing the tot.withinss for each set of \n",
    "# weights in df_params (a dataframe, each row of which is\n",
    "# a candidate set of weights).  The optimal set of weights\n",
    "# will be the set that yields the smallest average (over\n",
    "# the folds) for tot.withinss.\n",
    "# This function is called from gridSearch07.\n",
    "\n",
    "get_tot.withinss_g03 <- function(traindat, valdat, wghts) {\n",
    "    \n",
    "    g03mod <- suppressWarnings(glm(Outcome ~ Daysrec + CK + I(log(AST)),\n",
    "                  data= traindat, family= binomial, singular.ok=TRUE,\n",
    "                  epsilon= 1e-7, maxit=50))\n",
    "    \n",
    "    traindat$prob01 <- as.numeric(g03mod$fitted)\n",
    "    \n",
    "    # Transform and scale training set data.\n",
    "    traindat$AST <- log(traindat$AST)\n",
    "    traindat$CK <- log(traindat$CK)\n",
    "    traindat$Daysrec <- sqrt(traindat$Daysrec)\n",
    "\n",
    "    traindat_scaled <- scale(traindat[, -1], center=TRUE, scale=TRUE)\n",
    "    centers <- attr(traindat_scaled, \"scaled:center\")\n",
    "    scales <- attr(traindat_scaled, \"scaled:scale\")\n",
    "     \n",
    "    #############################\n",
    "    # Prepare valdat.\n",
    "    \n",
    "    valdat$prob01 <- as.numeric(predict(g03mod, newdata=valdat))\n",
    "    \n",
    "    # Transform and scale valdat.\n",
    "    valdat$AST <- log(valdat$AST)\n",
    "    valdat$CK <- log(valdat$CK)\n",
    "    valdat$Daysrec <- sqrt(valdat$Daysrec)\n",
    "    valdat_scaled <- scale(valdat[, -1], center=centers, scale=scales)\n",
    "    \n",
    "    # Apply weights to valdat.\n",
    "    cols <- names(wghts)\n",
    "    valdat_wghts <- t(t(valdat_scaled[, cols]) * as.numeric(wghts[cols]))\n",
    "    \n",
    "    \n",
    "    # Construct k-means model on valdat to get tot.withinss.\n",
    "    kmod <- suppressWarnings(kmeans(valdat_wghts, 2, iter.max = 50, nstart=25))\n",
    "    \n",
    "    return(kmod$tot.withinss)\n",
    "}\n"
   ]
  },
  {
   "cell_type": "code",
   "execution_count": 17,
   "metadata": {},
   "outputs": [],
   "source": [
    "# This grid search searches for the best set of weights to use\n",
    "# in our k-means clustering model.  The best weights are those\n",
    "# which generalize best to the validation set.  So we look for\n",
    "# the best cross-validation score.\n",
    "# Because our training set is so small---only 400 records---we\n",
    "# need to run the gridSearch over many seeds.  Otherwise, we \n",
    "# will not get a meaningful result.\n",
    "\n",
    "gridSearch07 <- function(seed_vector, dat, df_params, folds=5) {\n",
    "    \n",
    "    datout <- rep(NA, 2*nrow(df_params))\n",
    "    dim(datout) <- c(nrow(df_params), 2)\n",
    "    datout <- as.data.frame(datout)\n",
    "    colnames(datout) <- c(\"row\", \"tot.withinss\")\n",
    "    datout$row <- params_rows <- rownames(df_params)\n",
    "    \n",
    "    # We want the sqrt of the weights.\n",
    "    df_params <- df_params^0.5\n",
    "    \n",
    "    #############################\n",
    "    # Partition the data into folds.\n",
    "    \n",
    "    segment_size <- round(dim(dat)[1]/folds)\n",
    "    diff <- dim(dat)[1] - folds * segment_size\n",
    "    last_seg_size <- segment_size + diff\n",
    "    segmentsv <- c(rep(segment_size, (folds - 1)), last_seg_size)\n",
    "    stopifnot(sum(segmentsv) == dim(dat)[1])\n",
    "    \n",
    "    \n",
    "    # Create a dataframe, each row for a distinct seed.\n",
    "    # Each column of the dataframe is for a distinct set\n",
    "    # of weights.  The entries in the cells are tot.withinss \n",
    "    # scores.\n",
    "    seedv_len <- length(seed_vector)\n",
    "    df_scores <- rep(NA, seedv_len*nrow(df_params))\n",
    "    dim(df_scores) <- c(seedv_len, nrow(df_params))\n",
    "    df_scores <- as.data.frame(df_scores)\n",
    "    colnames(df_scores) <- rownames(df_params)\n",
    "    rownames(df_scores) <- as.character(seed_vector)\n",
    "    \n",
    "    for(h in 1:seedv_len) {\n",
    "        # shuffle dat\n",
    "        cur_seed <- seed_vector[h]\n",
    "        set.seed(cur_seed)\n",
    "        smp <- sample(rownames(dat), nrow(dat), replace= FALSE)\n",
    "        dat <- dat[smp,]\n",
    "        \n",
    "        # Each element of row_list will be the rows we pick\n",
    "        # out for one of the folds.  E.g., the first element\n",
    "        # of row_list will contain the rows we want for the\n",
    "        # first fold, the second element of row_list will\n",
    "        # contain the rows we want for the second fold, and\n",
    "        # so forth.\n",
    "        row_list <- vector(\"list\", length=folds)\n",
    "        names(row_list) <- as.character(1:folds)\n",
    "        startpt <- 1\n",
    "        for(i in 1:folds) {\n",
    "            endpt <- startpt + segmentsv[i] - 1\n",
    "            stopifnot(endpt <= nrow(dat))\n",
    "            row_list[[i]] <- rownames(dat)[startpt:endpt]\n",
    "            startpt <- endpt + 1\n",
    "        }\n",
    "    \n",
    "        for(i in 1:nrow(df_params)) {\n",
    "            \n",
    "            cur_row <- params_rows[i]\n",
    "            wghts <- as.numeric(df_params[i,])\n",
    "            names(wghts) <- colnames(df_params)\n",
    "            train_list <- test_list <- vector(\"list\", length= folds)\n",
    "        \n",
    "            for(j in 1:folds) {\n",
    "                testdat <- dat[row_list[[j]],]\n",
    "                traindat <- dat[which(!(rownames(dat) %in% rownames(testdat))),]\n",
    "                stopifnot((length(rownames(traindat)) + length(rownames(testdat))) == nrow(dat))\n",
    "                test_list[[j]] <- testdat\n",
    "                train_list[[j]] <- traindat\n",
    "            }\n",
    "            # When there are only 5 folds, only 5 cores get used.\n",
    "            scores <- mcmapply(get_tot.withinss_g03gb, train_list, test_list,\n",
    "                               MoreArgs= list(wghts=wghts),\n",
    "                               SIMPLIFY= TRUE, mc.cores=5)\n",
    "            \n",
    "            # For the current seed, store the average of the tot.withinss\n",
    "            # scores, the average taken over the folds.\n",
    "            df_scores[as.character(cur_seed), cur_row] <- round(mean(scores), 5)\n",
    "        \n",
    "        } # end of for-loop, index i\n",
    "    } ## end of for-loop, index h\n",
    "    \n",
    "    # Compute the average over the seeds of the tot.withinss scores\n",
    "    # obtained for each set of parameters in df_params.\n",
    "    datout$tot.withinss <- round(apply(df_scores, MARGIN=2, mean), 5)\n",
    "    return(datout)\n",
    "}\n"
   ]
  },
  {
   "cell_type": "code",
   "execution_count": 18,
   "metadata": {},
   "outputs": [
    {
     "data": {
      "text/html": [
       "<style>\n",
       ".list-inline {list-style: none; margin:0; padding: 0}\n",
       ".list-inline>li {display: inline-block}\n",
       ".list-inline>li:not(:last-child)::after {content: \"\\00b7\"; padding: 0 .5ex}\n",
       "</style>\n",
       "<ol class=list-inline><li>8030</li><li>4</li></ol>\n"
      ],
      "text/latex": [
       "\\begin{enumerate*}\n",
       "\\item 8030\n",
       "\\item 4\n",
       "\\end{enumerate*}\n"
      ],
      "text/markdown": [
       "1. 8030\n",
       "2. 4\n",
       "\n",
       "\n"
      ],
      "text/plain": [
       "[1] 8030    4"
      ]
     },
     "metadata": {},
     "output_type": "display_data"
    }
   ],
   "source": [
    "# There are 4 parameter lists to work with.  The best\n",
    "# approach, perhaps, is to start by exploring the \n",
    "# region around the space where all parameters have an \n",
    "# equal weight---in this case, a weight of 0.25.\n",
    "\n",
    "lst <- vector(\"list\", length= 4)\n",
    "names(lst) <- c(\"AST\",\"CK\",\"Daysrec\",\"prob01\")\n",
    "\n",
    "lst[[1]] <- lst[[2]] <- lst[[3]] <- lst[[4]] <- seq(0.04, 0.48, by=0.02)\n",
    "\n",
    "start <- Sys.time()\n",
    "dfc01 <- generate_combs(lst)\n",
    "stop <- Sys.time()\n",
    "# round(stop - start, 2)\n",
    "\n",
    "dim(dfc01)\n",
    "#  8030     4\n"
   ]
  },
  {
   "cell_type": "code",
   "execution_count": null,
   "metadata": {},
   "outputs": [],
   "source": [
    "# Test on a sample of 10.\n",
    "\n",
    "set.seed(42)\n",
    "smp <- sample(rownames(dfc01), 10, replace=FALSE)\n",
    "tst_params <- dfc01[smp,]\n",
    "head(tst_params)\n"
   ]
  },
  {
   "cell_type": "code",
   "execution_count": 22,
   "metadata": {},
   "outputs": [
    {
     "data": {
      "text/plain": [
       "Time difference of 3.1 secs"
      ]
     },
     "metadata": {},
     "output_type": "display_data"
    }
   ],
   "source": [
    "# Find the best weights of those in tst_params.\n",
    "\n",
    "set.seed(1233)\n",
    "seed_vector <- sample(1:9999, 10, replace=FALSE)\n",
    "\n",
    "start <- Sys.time()\n",
    "dat_result <- gridSearch07(seed_vector, dat, tst_params) \n",
    "stop <- Sys.time()\n",
    "round(stop - start, 2)\n",
    "# Time difference of 3.1 secs (for 10 rows)\n"
   ]
  },
  {
   "cell_type": "code",
   "execution_count": null,
   "metadata": {},
   "outputs": [],
   "source": [
    "best_params <- dat_result[which(dat_result$tot.withinss == \n",
    "                                min(dat_result$tot.withinss, na.rm=TRUE)),]$row\n",
    "length(best_params)\n",
    "\n",
    "best_tot.withinss <- round(dat_result[which(dat_result$tot.withinss == \n",
    "                                min(dat_result$tot.withinss, na.rm=TRUE)),]$tot.withinss, 2)\n"
   ]
  },
  {
   "cell_type": "code",
   "execution_count": null,
   "metadata": {},
   "outputs": [],
   "source": [
    "dfc01[best_params,]\n",
    "\n",
    "best_tot.withinss\n"
   ]
  },
  {
   "cell_type": "code",
   "execution_count": 28,
   "metadata": {},
   "outputs": [
    {
     "data": {
      "text/html": [
       "'Start time: 2021-04-18 17:44:43'"
      ],
      "text/latex": [
       "'Start time: 2021-04-18 17:44:43'"
      ],
      "text/markdown": [
       "'Start time: 2021-04-18 17:44:43'"
      ],
      "text/plain": [
       "[1] \"Start time: 2021-04-18 17:44:43\""
      ]
     },
     "metadata": {},
     "output_type": "display_data"
    },
    {
     "data": {
      "text/plain": [
       "Time difference of 46.12 mins"
      ]
     },
     "metadata": {},
     "output_type": "display_data"
    }
   ],
   "source": [
    "# Find the best weights of those in dfc01 (8030 rows,\n",
    "# 11 seeds, 5 folds).  \n",
    "\n",
    "set.seed(1233)\n",
    "seed_vector <- sample(1:9999, 11, replace=FALSE)\n",
    "\n",
    "start <- Sys.time()\n",
    "paste(\"Start time: \", start, sep=\"\")\n",
    "dat_result <- gridSearch07(seed_vector, dat, dfc01) \n",
    "stop <- Sys.time()\n",
    "round(stop - start, 2)\n",
    "# Time difference of 46.12 mins  (= 0.3446 secs/row)\n"
   ]
  },
  {
   "cell_type": "code",
   "execution_count": 29,
   "metadata": {},
   "outputs": [
    {
     "data": {
      "text/html": [
       "1"
      ],
      "text/latex": [
       "1"
      ],
      "text/markdown": [
       "1"
      ],
      "text/plain": [
       "[1] 1"
      ]
     },
     "metadata": {},
     "output_type": "display_data"
    }
   ],
   "source": [
    "best_params <- dat_result[which(dat_result$tot.withinss == \n",
    "                                min(dat_result$tot.withinss, na.rm=TRUE)),]$row\n",
    "length(best_params)\n",
    "\n",
    "best_tot.withinss <- round(dat_result[which(dat_result$tot.withinss == \n",
    "                                min(dat_result$tot.withinss, na.rm=TRUE)),]$tot.withinss, 2)\n"
   ]
  },
  {
   "cell_type": "code",
   "execution_count": 30,
   "metadata": {},
   "outputs": [
    {
     "data": {
      "text/html": [
       "<table>\n",
       "<caption>A data.frame: 1 × 4</caption>\n",
       "<thead>\n",
       "\t<tr><th></th><th scope=col>AST</th><th scope=col>CK</th><th scope=col>Daysrec</th><th scope=col>prob01</th></tr>\n",
       "\t<tr><th></th><th scope=col>&lt;dbl&gt;</th><th scope=col>&lt;dbl&gt;</th><th scope=col>&lt;dbl&gt;</th><th scope=col>&lt;dbl&gt;</th></tr>\n",
       "</thead>\n",
       "<tbody>\n",
       "\t<tr><th scope=row>527</th><td>0.44</td><td>0.48</td><td>0.04</td><td>0.04</td></tr>\n",
       "</tbody>\n",
       "</table>\n"
      ],
      "text/latex": [
       "A data.frame: 1 × 4\n",
       "\\begin{tabular}{r|llll}\n",
       "  & AST & CK & Daysrec & prob01\\\\\n",
       "  & <dbl> & <dbl> & <dbl> & <dbl>\\\\\n",
       "\\hline\n",
       "\t527 & 0.44 & 0.48 & 0.04 & 0.04\\\\\n",
       "\\end{tabular}\n"
      ],
      "text/markdown": [
       "\n",
       "A data.frame: 1 × 4\n",
       "\n",
       "| <!--/--> | AST &lt;dbl&gt; | CK &lt;dbl&gt; | Daysrec &lt;dbl&gt; | prob01 &lt;dbl&gt; |\n",
       "|---|---|---|---|---|\n",
       "| 527 | 0.44 | 0.48 | 0.04 | 0.04 |\n",
       "\n"
      ],
      "text/plain": [
       "    AST  CK   Daysrec prob01\n",
       "527 0.44 0.48 0.04    0.04  "
      ]
     },
     "metadata": {},
     "output_type": "display_data"
    },
    {
     "data": {
      "text/html": [
       "210.26"
      ],
      "text/latex": [
       "210.26"
      ],
      "text/markdown": [
       "210.26"
      ],
      "text/plain": [
       "[1] 210.26"
      ]
     },
     "metadata": {},
     "output_type": "display_data"
    }
   ],
   "source": [
    "dfc01[best_params,]\n",
    "#   \t AST \t  CK  \tDaysrec \tprob01\n",
    "\n",
    "# 527\t0.44 \t0.48\t   0.04 \t  0.04\n",
    "\n",
    "\n",
    "best_tot.withinss\n",
    "# 210.26\n"
   ]
  },
  {
   "cell_type": "code",
   "execution_count": 31,
   "metadata": {},
   "outputs": [
    {
     "data": {
      "text/html": [
       "<style>\n",
       ".list-inline {list-style: none; margin:0; padding: 0}\n",
       ".list-inline>li {display: inline-block}\n",
       ".list-inline>li:not(:last-child)::after {content: \"\\00b7\"; padding: 0 .5ex}\n",
       "</style>\n",
       "<ol class=list-inline><li>192</li><li>4</li></ol>\n"
      ],
      "text/latex": [
       "\\begin{enumerate*}\n",
       "\\item 192\n",
       "\\item 4\n",
       "\\end{enumerate*}\n"
      ],
      "text/markdown": [
       "1. 192\n",
       "2. 4\n",
       "\n",
       "\n"
      ],
      "text/plain": [
       "[1] 192   4"
      ]
     },
     "metadata": {},
     "output_type": "display_data"
    }
   ],
   "source": [
    "# Refine the search.\n",
    "\n",
    "lst <- vector(\"list\", length= 4)\n",
    "names(lst) <- c(\"AST\",\"CK\",\"Daysrec\",\"prob01\")\n",
    "\n",
    "lst[[1]] <- seq(0.41, 0.47, by= 0.01)\n",
    "lst[[2]] <- seq(0.45, 0.53, by= 0.01)\n",
    "lst[[3]] <- seq(0.02, 0.07, by= 0.01)\n",
    "lst[[4]] <- seq(0.02, 0.07, by=0.01)\n",
    "\n",
    "start <- Sys.time()\n",
    "dfc02 <- generate_combs(lst)\n",
    "stop <- Sys.time()\n",
    "# round(stop - start, 2)\n",
    "\n",
    "dim(dfc02)\n",
    "#  192     4\n"
   ]
  },
  {
   "cell_type": "code",
   "execution_count": 32,
   "metadata": {},
   "outputs": [],
   "source": [
    "# Add no weights to the combinations.  This will \n",
    "# tell us whether using weights is better than not\n",
    "# using weights.\n",
    "\n",
    "dfc02 <- rbind(dfc02, rep(1,4))\n"
   ]
  },
  {
   "cell_type": "code",
   "execution_count": 33,
   "metadata": {},
   "outputs": [
    {
     "data": {
      "text/html": [
       "'Start time: 2021-04-18 18:46:05'"
      ],
      "text/latex": [
       "'Start time: 2021-04-18 18:46:05'"
      ],
      "text/markdown": [
       "'Start time: 2021-04-18 18:46:05'"
      ],
      "text/plain": [
       "[1] \"Start time: 2021-04-18 18:46:05\""
      ]
     },
     "metadata": {},
     "output_type": "display_data"
    },
    {
     "data": {
      "text/plain": [
       "Time difference of 59.28 secs"
      ]
     },
     "metadata": {},
     "output_type": "display_data"
    }
   ],
   "source": [
    "# Find the best weights of those in dfc02 (193 rows,\n",
    "# 11 seeds, 5 folds).\n",
    "\n",
    "set.seed(1233)\n",
    "seed_vector <- sample(1:9999, 11, replace=FALSE)\n",
    "\n",
    "start <- Sys.time()\n",
    "paste(\"Start time: \", start, sep=\"\")\n",
    "dat_result <- gridSearch07(seed_vector, dat, dfc02) \n",
    "stop <- Sys.time()\n",
    "round(stop - start, 2)\n",
    "# Time difference of 1 minute\n"
   ]
  },
  {
   "cell_type": "code",
   "execution_count": 34,
   "metadata": {},
   "outputs": [
    {
     "data": {
      "text/html": [
       "1"
      ],
      "text/latex": [
       "1"
      ],
      "text/markdown": [
       "1"
      ],
      "text/plain": [
       "[1] 1"
      ]
     },
     "metadata": {},
     "output_type": "display_data"
    }
   ],
   "source": [
    "best_params <- dat_result[which(dat_result$tot.withinss == \n",
    "                                min(dat_result$tot.withinss, na.rm=TRUE)),]$row\n",
    "length(best_params)\n",
    "\n",
    "best_tot.withinss <- round(dat_result[which(dat_result$tot.withinss == \n",
    "                                min(dat_result$tot.withinss, na.rm=TRUE)),]$tot.withinss, 2)\n"
   ]
  },
  {
   "cell_type": "code",
   "execution_count": 37,
   "metadata": {},
   "outputs": [
    {
     "data": {
      "text/html": [
       "1"
      ],
      "text/latex": [
       "1"
      ],
      "text/markdown": [
       "1"
      ],
      "text/plain": [
       "[1] 1"
      ]
     },
     "metadata": {},
     "output_type": "display_data"
    }
   ],
   "source": [
    "# Find out the set of weights with the largest tot.withinss.\n",
    "\n",
    "best_params02 <- dat_result[which(dat_result$tot.withinss == \n",
    "                                max(dat_result$tot.withinss, na.rm=TRUE)),]$row\n",
    "length(best_params02)\n",
    "\n",
    "best_tot.withinss02 <- round(dat_result[which(dat_result$tot.withinss == \n",
    "                                max(dat_result$tot.withinss, na.rm=TRUE)),]$tot.withinss, 2)\n"
   ]
  },
  {
   "cell_type": "code",
   "execution_count": 39,
   "metadata": {},
   "outputs": [
    {
     "data": {
      "text/html": [
       "<table>\n",
       "<caption>A data.frame: 1 × 4</caption>\n",
       "<thead>\n",
       "\t<tr><th></th><th scope=col>AST</th><th scope=col>CK</th><th scope=col>Daysrec</th><th scope=col>prob01</th></tr>\n",
       "\t<tr><th></th><th scope=col>&lt;dbl&gt;</th><th scope=col>&lt;dbl&gt;</th><th scope=col>&lt;dbl&gt;</th><th scope=col>&lt;dbl&gt;</th></tr>\n",
       "</thead>\n",
       "<tbody>\n",
       "\t<tr><th scope=row>193</th><td>1</td><td>1</td><td>1</td><td>1</td></tr>\n",
       "</tbody>\n",
       "</table>\n"
      ],
      "text/latex": [
       "A data.frame: 1 × 4\n",
       "\\begin{tabular}{r|llll}\n",
       "  & AST & CK & Daysrec & prob01\\\\\n",
       "  & <dbl> & <dbl> & <dbl> & <dbl>\\\\\n",
       "\\hline\n",
       "\t193 & 1 & 1 & 1 & 1\\\\\n",
       "\\end{tabular}\n"
      ],
      "text/markdown": [
       "\n",
       "A data.frame: 1 × 4\n",
       "\n",
       "| <!--/--> | AST &lt;dbl&gt; | CK &lt;dbl&gt; | Daysrec &lt;dbl&gt; | prob01 &lt;dbl&gt; |\n",
       "|---|---|---|---|---|\n",
       "| 193 | 1 | 1 | 1 | 1 |\n",
       "\n"
      ],
      "text/plain": [
       "    AST CK Daysrec prob01\n",
       "193 1   1  1       1     "
      ]
     },
     "metadata": {},
     "output_type": "display_data"
    },
    {
     "data": {
      "text/html": [
       "4117.41"
      ],
      "text/latex": [
       "4117.41"
      ],
      "text/markdown": [
       "4117.41"
      ],
      "text/plain": [
       "[1] 4117.4"
      ]
     },
     "metadata": {},
     "output_type": "display_data"
    }
   ],
   "source": [
    "dfc02[best_params02,]\n",
    "\n",
    "best_tot.withinss02\n",
    "# 4,117  (this is largest value in dfc02)\n"
   ]
  },
  {
   "cell_type": "code",
   "execution_count": 35,
   "metadata": {},
   "outputs": [
    {
     "data": {
      "text/html": [
       "<table>\n",
       "<caption>A data.frame: 1 × 4</caption>\n",
       "<thead>\n",
       "\t<tr><th></th><th scope=col>AST</th><th scope=col>CK</th><th scope=col>Daysrec</th><th scope=col>prob01</th></tr>\n",
       "\t<tr><th></th><th scope=col>&lt;dbl&gt;</th><th scope=col>&lt;dbl&gt;</th><th scope=col>&lt;dbl&gt;</th><th scope=col>&lt;dbl&gt;</th></tr>\n",
       "</thead>\n",
       "<tbody>\n",
       "\t<tr><th scope=row>47</th><td>0.45</td><td>0.51</td><td>0.02</td><td>0.02</td></tr>\n",
       "</tbody>\n",
       "</table>\n"
      ],
      "text/latex": [
       "A data.frame: 1 × 4\n",
       "\\begin{tabular}{r|llll}\n",
       "  & AST & CK & Daysrec & prob01\\\\\n",
       "  & <dbl> & <dbl> & <dbl> & <dbl>\\\\\n",
       "\\hline\n",
       "\t47 & 0.45 & 0.51 & 0.02 & 0.02\\\\\n",
       "\\end{tabular}\n"
      ],
      "text/markdown": [
       "\n",
       "A data.frame: 1 × 4\n",
       "\n",
       "| <!--/--> | AST &lt;dbl&gt; | CK &lt;dbl&gt; | Daysrec &lt;dbl&gt; | prob01 &lt;dbl&gt; |\n",
       "|---|---|---|---|---|\n",
       "| 47 | 0.45 | 0.51 | 0.02 | 0.02 |\n",
       "\n"
      ],
      "text/plain": [
       "   AST  CK   Daysrec prob01\n",
       "47 0.45 0.51 0.02    0.02  "
      ]
     },
     "metadata": {},
     "output_type": "display_data"
    },
    {
     "data": {
      "text/html": [
       "131.21"
      ],
      "text/latex": [
       "131.21"
      ],
      "text/markdown": [
       "131.21"
      ],
      "text/plain": [
       "[1] 131.21"
      ]
     },
     "metadata": {},
     "output_type": "display_data"
    }
   ],
   "source": [
    "dfc02[best_params,]\n",
    "#       \t AST \t  CK  \tDaysrec \tprob01\n",
    "\n",
    "# 47    \t0.45 \t0.51\t   0.02 \t  0.02\n",
    "\n",
    "best_tot.withinss\n",
    "# 131.21\n"
   ]
  },
  {
   "cell_type": "code",
   "execution_count": 40,
   "metadata": {},
   "outputs": [
    {
     "data": {
      "text/html": [
       "<style>\n",
       ".list-inline {list-style: none; margin:0; padding: 0}\n",
       ".list-inline>li {display: inline-block}\n",
       ".list-inline>li:not(:last-child)::after {content: \"\\00b7\"; padding: 0 .5ex}\n",
       "</style>\n",
       "<ol class=list-inline><li>1</li><li>4</li></ol>\n"
      ],
      "text/latex": [
       "\\begin{enumerate*}\n",
       "\\item 1\n",
       "\\item 4\n",
       "\\end{enumerate*}\n"
      ],
      "text/markdown": [
       "1. 1\n",
       "2. 4\n",
       "\n",
       "\n"
      ],
      "text/plain": [
       "[1] 1 4"
      ]
     },
     "metadata": {},
     "output_type": "display_data"
    }
   ],
   "source": [
    "# Compare these weights with known best weights.\n",
    "\n",
    "lst <- vector(\"list\", length= 4)\n",
    "names(lst) <- c(\"AST\",\"CK\",\"Daysrec\",\"prob01\")\n",
    "\n",
    "lst[[1]] <- c(0.45)\n",
    "lst[[2]] <- c(0.51)\n",
    "lst[[3]] <- c(0.02)\n",
    "lst[[4]] <- c(0.02)\n",
    "\n",
    "start <- Sys.time()\n",
    "dfc03 <- generate_combs(lst)\n",
    "stop <- Sys.time()\n",
    "# round(stop - start, 2)\n",
    "\n",
    "dim(dfc03)\n"
   ]
  },
  {
   "cell_type": "code",
   "execution_count": 41,
   "metadata": {},
   "outputs": [
    {
     "data": {
      "text/html": [
       "<table>\n",
       "<caption>A data.frame: 2 × 4</caption>\n",
       "<thead>\n",
       "\t<tr><th scope=col>AST</th><th scope=col>CK</th><th scope=col>Daysrec</th><th scope=col>prob01</th></tr>\n",
       "\t<tr><th scope=col>&lt;dbl&gt;</th><th scope=col>&lt;dbl&gt;</th><th scope=col>&lt;dbl&gt;</th><th scope=col>&lt;dbl&gt;</th></tr>\n",
       "</thead>\n",
       "<tbody>\n",
       "\t<tr><td>0.45</td><td>0.51</td><td>0.02</td><td>0.02</td></tr>\n",
       "\t<tr><td>0.11</td><td>0.43</td><td>0.13</td><td>0.33</td></tr>\n",
       "</tbody>\n",
       "</table>\n"
      ],
      "text/latex": [
       "A data.frame: 2 × 4\n",
       "\\begin{tabular}{llll}\n",
       " AST & CK & Daysrec & prob01\\\\\n",
       " <dbl> & <dbl> & <dbl> & <dbl>\\\\\n",
       "\\hline\n",
       "\t 0.45 & 0.51 & 0.02 & 0.02\\\\\n",
       "\t 0.11 & 0.43 & 0.13 & 0.33\\\\\n",
       "\\end{tabular}\n"
      ],
      "text/markdown": [
       "\n",
       "A data.frame: 2 × 4\n",
       "\n",
       "| AST &lt;dbl&gt; | CK &lt;dbl&gt; | Daysrec &lt;dbl&gt; | prob01 &lt;dbl&gt; |\n",
       "|---|---|---|---|\n",
       "| 0.45 | 0.51 | 0.02 | 0.02 |\n",
       "| 0.11 | 0.43 | 0.13 | 0.33 |\n",
       "\n"
      ],
      "text/plain": [
       "  AST  CK   Daysrec prob01\n",
       "1 0.45 0.51 0.02    0.02  \n",
       "2 0.11 0.43 0.13    0.33  "
      ]
     },
     "metadata": {},
     "output_type": "display_data"
    }
   ],
   "source": [
    "dfc03 <- rbind(dfc03, c(0.11, 0.43, 0.13, 0.33))\n",
    "dfc03\n"
   ]
  },
  {
   "cell_type": "code",
   "execution_count": 43,
   "metadata": {},
   "outputs": [
    {
     "data": {
      "text/html": [
       "<table>\n",
       "<caption>A data.frame: 2 × 2</caption>\n",
       "<thead>\n",
       "\t<tr><th scope=col>row</th><th scope=col>tot.withinss</th></tr>\n",
       "\t<tr><th scope=col>&lt;chr&gt;</th><th scope=col>&lt;dbl&gt;</th></tr>\n",
       "</thead>\n",
       "<tbody>\n",
       "\t<tr><td>1</td><td> 131.41</td></tr>\n",
       "\t<tr><td>2</td><td>1335.25</td></tr>\n",
       "</tbody>\n",
       "</table>\n"
      ],
      "text/latex": [
       "A data.frame: 2 × 2\n",
       "\\begin{tabular}{ll}\n",
       " row & tot.withinss\\\\\n",
       " <chr> & <dbl>\\\\\n",
       "\\hline\n",
       "\t 1 &  131.41\\\\\n",
       "\t 2 & 1335.25\\\\\n",
       "\\end{tabular}\n"
      ],
      "text/markdown": [
       "\n",
       "A data.frame: 2 × 2\n",
       "\n",
       "| row &lt;chr&gt; | tot.withinss &lt;dbl&gt; |\n",
       "|---|---|\n",
       "| 1 |  131.41 |\n",
       "| 2 | 1335.25 |\n",
       "\n"
      ],
      "text/plain": [
       "  row tot.withinss\n",
       "1 1    131.41     \n",
       "2 2   1335.25     "
      ]
     },
     "metadata": {},
     "output_type": "display_data"
    }
   ],
   "source": [
    "# Find the best weights of those in dfc03 (2 rows,\n",
    "# 11 seeds, 5 folds).  \n",
    "\n",
    "set.seed(1233)\n",
    "seed_vector <- sample(1:9999, 11, replace=FALSE)\n",
    "\n",
    "start <- Sys.time()\n",
    "# paste(\"Start time: \", start, sep=\"\")\n",
    "dat_result <- gridSearch07(seed_vector, dat, dfc03) \n",
    "stop <- Sys.time()\n",
    "# round(stop - start, 2)\n",
    "\n",
    "dat_result\n"
   ]
  },
  {
   "cell_type": "code",
   "execution_count": 44,
   "metadata": {},
   "outputs": [
    {
     "data": {
      "text/plain": [
       "      AST                CK             Daysrec            prob01       \n",
       " Min.   :-2.1314   Min.   :-3.0256   Min.   :-1.2537   Min.   :-1.5298  \n",
       " 1st Qu.:-0.7577   1st Qu.:-0.6954   1st Qu.:-1.2537   1st Qu.:-0.8579  \n",
       " Median :-0.0436   Median : 0.0123   Median :-0.0179   Median : 0.0658  \n",
       " Mean   : 0.0000   Mean   : 0.0000   Mean   : 0.0000   Mean   : 0.0000  \n",
       " 3rd Qu.: 0.7037   3rd Qu.: 0.6789   3rd Qu.: 0.8867   3rd Qu.: 0.9565  \n",
       " Max.   : 2.4651   Max.   : 2.3078   Max.   : 2.0157   Max.   : 1.6926  "
      ]
     },
     "metadata": {},
     "output_type": "display_data"
    }
   ],
   "source": [
    "summary(df_scaled[, -1])\n"
   ]
  },
  {
   "cell_type": "code",
   "execution_count": null,
   "metadata": {},
   "outputs": [],
   "source": [
    "### COMMENT:\n",
    "\n",
    "# The weights I am getting seem to depend very much on \n",
    "# the scaling.  I think I might get more sensible \n",
    "# weights using a min-max scaling.  (Based on prior\n",
    "# experience working with weights for these variables,\n",
    "# I am assuming we will get very poor cross-validation\n",
    "# Type2 scores when using the weights of 0.45, 0.51, \n",
    "# 0.02, 0.02.)\n"
   ]
  },
  {
   "cell_type": "code",
   "execution_count": 45,
   "metadata": {},
   "outputs": [
    {
     "data": {
      "text/plain": [
       "      AST               CK             Daysrec      \n",
       " Min.   :-0.829   Min.   :-0.5693   Min.   :-0.922  \n",
       " 1st Qu.:-0.625   1st Qu.:-0.5109   1st Qu.:-0.922  \n",
       " Median :-0.356   Median :-0.3835   Median :-0.374  \n",
       " Mean   : 0.000   Mean   : 0.0000   Mean   : 0.000  \n",
       " 3rd Qu.: 0.208   3rd Qu.:-0.0218   3rd Qu.: 0.722  \n",
       " Max.   : 4.973   Max.   : 7.0314   Max.   : 2.914  "
      ]
     },
     "metadata": {},
     "output_type": "display_data"
    }
   ],
   "source": [
    "df02 <- dat\n",
    "df02_scaled <- scale(df02[, -1], center=TRUE, scale=TRUE)\n",
    "summary(df02_scaled)\n"
   ]
  },
  {
   "cell_type": "code",
   "execution_count": 46,
   "metadata": {},
   "outputs": [],
   "source": [
    "# Function to constrain range of data between 0 and 1.\n",
    "\n",
    "range01 <- function(x) {(x - min(x))/(max(x) - min(x))}\n"
   ]
  },
  {
   "cell_type": "code",
   "execution_count": null,
   "metadata": {},
   "outputs": [],
   "source": [
    "ans <- apply(df02_scaled, MARGIN=2, range01)\n",
    "head(ans)\n"
   ]
  },
  {
   "cell_type": "code",
   "execution_count": 47,
   "metadata": {},
   "outputs": [],
   "source": [
    "# This function is called from gridSearch07.\n",
    "\n",
    "get_tot.withinss_g03_v02 <- function(traindat, valdat, wghts) {\n",
    "    \n",
    "    g03mod <- suppressWarnings(glm(Outcome ~ Daysrec + CK + I(log(AST)),\n",
    "                  data= traindat, family= binomial, singular.ok=TRUE,\n",
    "                  epsilon= 1e-7, maxit=50))\n",
    "    \n",
    "    traindat$prob01 <- as.numeric(g03mod$fitted)\n",
    "    \n",
    "    # Scale training set data.  We need 'centers' and 'scales'\n",
    "    # for scaling valdat.\n",
    "    traindat_scaled <- scale(traindat[, -1], center=TRUE, scale=TRUE)\n",
    "    centers <- attr(traindat_scaled, \"scaled:center\")\n",
    "    scales <- attr(traindat_scaled, \"scaled:scale\")\n",
    "    \n",
    "     \n",
    "    #############################\n",
    "    # Prepare valdat.\n",
    "    \n",
    "    valdat$prob01 <- as.numeric(predict(g03mod, newdata=valdat))\n",
    "    \n",
    "    # Scale valdat.\n",
    "    valdat_scaled <- scale(valdat[, -1], center=centers, scale=scales)\n",
    "    \n",
    "    # Move data between 0 and 1.  This is done so that the \n",
    "    # optimal weights do not depend so much on the ranges of\n",
    "    # the variables.  [** FIXME: apply range02 here.  See Part 4 notebook. **]\n",
    "    cols <- names(wghts)\n",
    "    valdat_scaled02 <- apply(valdat_scaled, MARGIN=2, range01)\n",
    "    colnames(valdat_scaled02) <- cols\n",
    "    \n",
    "    # Apply weights to valdat.\n",
    "    valdat_wghts <- t(t(valdat_scaled02[, cols]) * as.numeric(wghts[cols]))\n",
    "    \n",
    "    # Construct k-means model on valdat to get tot.withinss.\n",
    "    kmod <- suppressWarnings(kmeans(valdat_wghts, 2, iter.max = 50, nstart=25))\n",
    "    \n",
    "    return(kmod$tot.withinss)\n",
    "}\n"
   ]
  },
  {
   "cell_type": "code",
   "execution_count": 49,
   "metadata": {},
   "outputs": [
    {
     "data": {
      "text/html": [
       "<style>\n",
       ".list-inline {list-style: none; margin:0; padding: 0}\n",
       ".list-inline>li {display: inline-block}\n",
       ".list-inline>li:not(:last-child)::after {content: \"\\00b7\"; padding: 0 .5ex}\n",
       "</style>\n",
       "<ol class=list-inline><li>1469</li><li>4</li></ol>\n"
      ],
      "text/latex": [
       "\\begin{enumerate*}\n",
       "\\item 1469\n",
       "\\item 4\n",
       "\\end{enumerate*}\n"
      ],
      "text/markdown": [
       "1. 1469\n",
       "2. 4\n",
       "\n",
       "\n"
      ],
      "text/plain": [
       "[1] 1469    4"
      ]
     },
     "metadata": {},
     "output_type": "display_data"
    }
   ],
   "source": [
    "# There are 4 parameter lists to work with.  The best\n",
    "# approach, perhaps, is to start by exploring the \n",
    "# region around the space where all parameters have an \n",
    "# equal weight---in this case, a weight of 0.25.\n",
    "\n",
    "lst <- vector(\"list\", length= 4)\n",
    "names(lst) <- c(\"AST\",\"CK\",\"Daysrec\",\"prob01\")\n",
    "\n",
    "lst[[1]] <- lst[[2]] <- lst[[3]] <- lst[[4]] <- seq(0.13, 0.37, by=0.02)\n",
    "\n",
    "start <- Sys.time()\n",
    "dfc01 <- generate_combs(lst)\n",
    "stop <- Sys.time()\n",
    "# round(stop - start, 2)\n",
    "\n",
    "dim(dfc01)\n",
    "#  1469     4\n"
   ]
  },
  {
   "cell_type": "code",
   "execution_count": null,
   "metadata": {},
   "outputs": [],
   "source": [
    "# Test on a sample of 10.\n",
    "\n",
    "set.seed(42)\n",
    "smp <- sample(rownames(dfc01), 10, replace=FALSE)\n",
    "tst_params <- dfc01[smp,]\n",
    "head(tst_params)\n"
   ]
  },
  {
   "cell_type": "code",
   "execution_count": null,
   "metadata": {},
   "outputs": [],
   "source": [
    "# Find the best weights of those in tst_params.\n",
    "\n",
    "set.seed(1233)\n",
    "seed_vector <- sample(1:9999, 11, replace=FALSE)\n",
    "\n",
    "start <- Sys.time()\n",
    "dat_result <- gridSearch07(seed_vector, dat, tst_params) \n",
    "stop <- Sys.time()\n",
    "round(stop - start, 2)\n",
    "# Time difference of 2.86 secs (for 10 rows)\n"
   ]
  },
  {
   "cell_type": "code",
   "execution_count": null,
   "metadata": {},
   "outputs": [],
   "source": [
    "best_params <- dat_result[which(dat_result$tot.withinss == \n",
    "                                min(dat_result$tot.withinss, na.rm=TRUE)),]$row\n",
    "length(best_params)\n",
    "\n",
    "best_tot.withinss <- round(dat_result[which(dat_result$tot.withinss == \n",
    "                                min(dat_result$tot.withinss, na.rm=TRUE)),]$tot.withinss, 4)\n"
   ]
  },
  {
   "cell_type": "code",
   "execution_count": null,
   "metadata": {},
   "outputs": [],
   "source": [
    "dfc01[best_params,]\n",
    "\n",
    "best_tot.withinss\n"
   ]
  },
  {
   "cell_type": "code",
   "execution_count": 54,
   "metadata": {},
   "outputs": [
    {
     "data": {
      "text/html": [
       "'Start time: 2021-04-18 19:50:30'"
      ],
      "text/latex": [
       "'Start time: 2021-04-18 19:50:30'"
      ],
      "text/markdown": [
       "'Start time: 2021-04-18 19:50:30'"
      ],
      "text/plain": [
       "[1] \"Start time: 2021-04-18 19:50:30\""
      ]
     },
     "metadata": {},
     "output_type": "display_data"
    },
    {
     "data": {
      "text/plain": [
       "Time difference of 8.13 mins"
      ]
     },
     "metadata": {},
     "output_type": "display_data"
    }
   ],
   "source": [
    "# Find the best weights of those in dfc01 (1469 rows,\n",
    "# 11 seeds, 5 folds).  \n",
    "\n",
    "set.seed(1233)\n",
    "seed_vector <- sample(1:9999, 11, replace=FALSE)\n",
    "\n",
    "start <- Sys.time()\n",
    "paste(\"Start time: \", start, sep=\"\")\n",
    "dat_result <- gridSearch07(seed_vector, dat, dfc01) \n",
    "stop <- Sys.time()\n",
    "round(stop - start, 2)\n",
    "# Time difference of 8.13 mins  (= 0.3321 secs/row)\n",
    "\n",
    "# This is 7X faster than the first approach which directly\n",
    "# used cross-validation.  \n"
   ]
  },
  {
   "cell_type": "code",
   "execution_count": 55,
   "metadata": {},
   "outputs": [
    {
     "data": {
      "text/html": [
       "1"
      ],
      "text/latex": [
       "1"
      ],
      "text/markdown": [
       "1"
      ],
      "text/plain": [
       "[1] 1"
      ]
     },
     "metadata": {},
     "output_type": "display_data"
    }
   ],
   "source": [
    "best_params <- dat_result[which(dat_result$tot.withinss == \n",
    "                                min(dat_result$tot.withinss, na.rm=TRUE)),]$row\n",
    "length(best_params)\n",
    "\n",
    "best_tot.withinss <- round(dat_result[which(dat_result$tot.withinss == \n",
    "                                min(dat_result$tot.withinss, na.rm=TRUE)),]$tot.withinss, 4)\n"
   ]
  },
  {
   "cell_type": "code",
   "execution_count": 56,
   "metadata": {},
   "outputs": [
    {
     "data": {
      "text/html": [
       "<table>\n",
       "<caption>A data.frame: 1 × 4</caption>\n",
       "<thead>\n",
       "\t<tr><th></th><th scope=col>AST</th><th scope=col>CK</th><th scope=col>Daysrec</th><th scope=col>prob01</th></tr>\n",
       "\t<tr><th></th><th scope=col>&lt;dbl&gt;</th><th scope=col>&lt;dbl&gt;</th><th scope=col>&lt;dbl&gt;</th><th scope=col>&lt;dbl&gt;</th></tr>\n",
       "</thead>\n",
       "<tbody>\n",
       "\t<tr><th scope=row>26521</th><td>0.13</td><td>0.37</td><td>0.13</td><td>0.37</td></tr>\n",
       "</tbody>\n",
       "</table>\n"
      ],
      "text/latex": [
       "A data.frame: 1 × 4\n",
       "\\begin{tabular}{r|llll}\n",
       "  & AST & CK & Daysrec & prob01\\\\\n",
       "  & <dbl> & <dbl> & <dbl> & <dbl>\\\\\n",
       "\\hline\n",
       "\t26521 & 0.13 & 0.37 & 0.13 & 0.37\\\\\n",
       "\\end{tabular}\n"
      ],
      "text/markdown": [
       "\n",
       "A data.frame: 1 × 4\n",
       "\n",
       "| <!--/--> | AST &lt;dbl&gt; | CK &lt;dbl&gt; | Daysrec &lt;dbl&gt; | prob01 &lt;dbl&gt; |\n",
       "|---|---|---|---|---|\n",
       "| 26521 | 0.13 | 0.37 | 0.13 | 0.37 |\n",
       "\n"
      ],
      "text/plain": [
       "      AST  CK   Daysrec prob01\n",
       "26521 0.13 0.37 0.13    0.37  "
      ]
     },
     "metadata": {},
     "output_type": "display_data"
    },
    {
     "data": {
      "text/html": [
       "1.4402"
      ],
      "text/latex": [
       "1.4402"
      ],
      "text/markdown": [
       "1.4402"
      ],
      "text/plain": [
       "[1] 1.4402"
      ]
     },
     "metadata": {},
     "output_type": "display_data"
    }
   ],
   "source": [
    "dfc01[best_params,]\n",
    "#       \t AST \t  CK  \tDaysrec \tprob01\n",
    "\n",
    "# 26521 \t0.13 \t0.37\t   0.13 \t  0.37\n",
    "\n",
    "\n",
    "best_tot.withinss\n",
    "# 1.4402\n"
   ]
  },
  {
   "cell_type": "code",
   "execution_count": 58,
   "metadata": {},
   "outputs": [
    {
     "data": {
      "text/html": [
       "<style>\n",
       ".list-inline {list-style: none; margin:0; padding: 0}\n",
       ".list-inline>li {display: inline-block}\n",
       ".list-inline>li:not(:last-child)::after {content: \"\\00b7\"; padding: 0 .5ex}\n",
       "</style>\n",
       "<ol class=list-inline><li>208</li><li>4</li></ol>\n"
      ],
      "text/latex": [
       "\\begin{enumerate*}\n",
       "\\item 208\n",
       "\\item 4\n",
       "\\end{enumerate*}\n"
      ],
      "text/markdown": [
       "1. 208\n",
       "2. 4\n",
       "\n",
       "\n"
      ],
      "text/plain": [
       "[1] 208   4"
      ]
     },
     "metadata": {},
     "output_type": "display_data"
    }
   ],
   "source": [
    "# Refine the search.\n",
    "\n",
    "lst <- vector(\"list\", length= 4)\n",
    "names(lst) <- c(\"AST\",\"CK\",\"Daysrec\",\"prob01\")\n",
    "\n",
    "lst[[1]] <- seq(0.06, 0.16, by= 0.02)\n",
    "lst[[2]] <- seq(0.34, 0.50, by= 0.02)\n",
    "lst[[3]] <- seq(0.06, 0.16, by= 0.02)\n",
    "lst[[4]] <- seq(0.34, 0.50, by=0.02)\n",
    "\n",
    "start <- Sys.time()\n",
    "dfc02 <- generate_combs(lst)\n",
    "stop <- Sys.time()\n",
    "# round(stop - start, 2)\n",
    "\n",
    "dim(dfc02)\n",
    "#  208     4\n"
   ]
  },
  {
   "cell_type": "code",
   "execution_count": 59,
   "metadata": {},
   "outputs": [
    {
     "data": {
      "text/html": [
       "'Start time: 2021-04-18 20:04:43'"
      ],
      "text/latex": [
       "'Start time: 2021-04-18 20:04:43'"
      ],
      "text/markdown": [
       "'Start time: 2021-04-18 20:04:43'"
      ],
      "text/plain": [
       "[1] \"Start time: 2021-04-18 20:04:43\""
      ]
     },
     "metadata": {},
     "output_type": "display_data"
    },
    {
     "data": {
      "text/plain": [
       "Time difference of 1.08 mins"
      ]
     },
     "metadata": {},
     "output_type": "display_data"
    }
   ],
   "source": [
    "# Find the best weights of those in dfc02 (208 rows,\n",
    "# 11 seeds, 5 folds).\n",
    "\n",
    "set.seed(1233)\n",
    "seed_vector <- sample(1:9999, 11, replace=FALSE)\n",
    "\n",
    "start <- Sys.time()\n",
    "paste(\"Start time: \", start, sep=\"\")\n",
    "dat_result <- gridSearch07(seed_vector, dat, dfc02) \n",
    "stop <- Sys.time()\n",
    "round(stop - start, 2)\n",
    "# Time difference of 1.08 mins\n"
   ]
  },
  {
   "cell_type": "code",
   "execution_count": 62,
   "metadata": {},
   "outputs": [
    {
     "data": {
      "text/html": [
       "1"
      ],
      "text/latex": [
       "1"
      ],
      "text/markdown": [
       "1"
      ],
      "text/plain": [
       "[1] 1"
      ]
     },
     "metadata": {},
     "output_type": "display_data"
    }
   ],
   "source": [
    "best_params <- dat_result[which(dat_result$tot.withinss == \n",
    "                                min(dat_result$tot.withinss, na.rm=TRUE)),]$row\n",
    "length(best_params)\n",
    "\n",
    "best_tot.withinss <- round(dat_result[which(dat_result$tot.withinss == \n",
    "                                min(dat_result$tot.withinss, na.rm=TRUE)),]$tot.withinss, 4)\n"
   ]
  },
  {
   "cell_type": "code",
   "execution_count": 63,
   "metadata": {},
   "outputs": [
    {
     "data": {
      "text/html": [
       "<table>\n",
       "<caption>A data.frame: 1 × 4</caption>\n",
       "<thead>\n",
       "\t<tr><th></th><th scope=col>AST</th><th scope=col>CK</th><th scope=col>Daysrec</th><th scope=col>prob01</th></tr>\n",
       "\t<tr><th></th><th scope=col>&lt;dbl&gt;</th><th scope=col>&lt;dbl&gt;</th><th scope=col>&lt;dbl&gt;</th><th scope=col>&lt;dbl&gt;</th></tr>\n",
       "</thead>\n",
       "<tbody>\n",
       "\t<tr><th scope=row>697</th><td>0.06</td><td>0.5</td><td>0.06</td><td>0.38</td></tr>\n",
       "</tbody>\n",
       "</table>\n"
      ],
      "text/latex": [
       "A data.frame: 1 × 4\n",
       "\\begin{tabular}{r|llll}\n",
       "  & AST & CK & Daysrec & prob01\\\\\n",
       "  & <dbl> & <dbl> & <dbl> & <dbl>\\\\\n",
       "\\hline\n",
       "\t697 & 0.06 & 0.5 & 0.06 & 0.38\\\\\n",
       "\\end{tabular}\n"
      ],
      "text/markdown": [
       "\n",
       "A data.frame: 1 × 4\n",
       "\n",
       "| <!--/--> | AST &lt;dbl&gt; | CK &lt;dbl&gt; | Daysrec &lt;dbl&gt; | prob01 &lt;dbl&gt; |\n",
       "|---|---|---|---|---|\n",
       "| 697 | 0.06 | 0.5 | 0.06 | 0.38 |\n",
       "\n"
      ],
      "text/plain": [
       "    AST  CK  Daysrec prob01\n",
       "697 0.06 0.5 0.06    0.38  "
      ]
     },
     "metadata": {},
     "output_type": "display_data"
    },
    {
     "data": {
      "text/html": [
       "1.0439"
      ],
      "text/latex": [
       "1.0439"
      ],
      "text/markdown": [
       "1.0439"
      ],
      "text/plain": [
       "[1] 1.0439"
      ]
     },
     "metadata": {},
     "output_type": "display_data"
    }
   ],
   "source": [
    "dfc02[best_params,]\n",
    "#       \t AST \t  CK  \tDaysrec \tprob01\n",
    "\n",
    "# 697    \t0.06 \t0.50\t   0.06 \t  0.38\n",
    "\n",
    "best_tot.withinss\n",
    "# 1.0439\n"
   ]
  },
  {
   "cell_type": "code",
   "execution_count": 64,
   "metadata": {},
   "outputs": [
    {
     "data": {
      "text/html": [
       "<style>\n",
       ".list-inline {list-style: none; margin:0; padding: 0}\n",
       ".list-inline>li {display: inline-block}\n",
       ".list-inline>li:not(:last-child)::after {content: \"\\00b7\"; padding: 0 .5ex}\n",
       "</style>\n",
       "<ol class=list-inline><li>99</li><li>4</li></ol>\n"
      ],
      "text/latex": [
       "\\begin{enumerate*}\n",
       "\\item 99\n",
       "\\item 4\n",
       "\\end{enumerate*}\n"
      ],
      "text/markdown": [
       "1. 99\n",
       "2. 4\n",
       "\n",
       "\n"
      ],
      "text/plain": [
       "[1] 99  4"
      ]
     },
     "metadata": {},
     "output_type": "display_data"
    }
   ],
   "source": [
    "# Refine the search.\n",
    "\n",
    "lst <- vector(\"list\", length= 4)\n",
    "names(lst) <- c(\"AST\",\"CK\",\"Daysrec\",\"prob01\")\n",
    "\n",
    "lst[[1]] <- seq(0.05, 0.09, by= 0.01)\n",
    "lst[[2]] <- seq(0.48, 0.54, by= 0.01)\n",
    "lst[[3]] <- seq(0.05, 0.09, by= 0.01)\n",
    "lst[[4]] <- seq(0.35, 0.42, by=0.01)\n",
    "\n",
    "start <- Sys.time()\n",
    "dfc03 <- generate_combs(lst)\n",
    "stop <- Sys.time()\n",
    "# round(stop - start, 2)\n",
    "\n",
    "dim(dfc03)\n",
    "#  99     4\n"
   ]
  },
  {
   "cell_type": "code",
   "execution_count": 65,
   "metadata": {},
   "outputs": [
    {
     "data": {
      "text/html": [
       "'Start time: 2021-04-18 20:10:08'"
      ],
      "text/latex": [
       "'Start time: 2021-04-18 20:10:08'"
      ],
      "text/markdown": [
       "'Start time: 2021-04-18 20:10:08'"
      ],
      "text/plain": [
       "[1] \"Start time: 2021-04-18 20:10:08\""
      ]
     },
     "metadata": {},
     "output_type": "display_data"
    },
    {
     "data": {
      "text/plain": [
       "Time difference of 31.6 secs"
      ]
     },
     "metadata": {},
     "output_type": "display_data"
    }
   ],
   "source": [
    "# Find the best weights of those in dfc02 (99 rows,\n",
    "# 11 seeds, 5 folds).\n",
    "\n",
    "set.seed(1233)\n",
    "seed_vector <- sample(1:9999, 11, replace=FALSE)\n",
    "\n",
    "start <- Sys.time()\n",
    "paste(\"Start time: \", start, sep=\"\")\n",
    "dat_result <- gridSearch07(seed_vector, dat, dfc03) \n",
    "stop <- Sys.time()\n",
    "round(stop - start, 2)\n",
    "# Time difference of 31.6 secs\n"
   ]
  },
  {
   "cell_type": "code",
   "execution_count": 66,
   "metadata": {},
   "outputs": [
    {
     "data": {
      "text/html": [
       "1"
      ],
      "text/latex": [
       "1"
      ],
      "text/markdown": [
       "1"
      ],
      "text/plain": [
       "[1] 1"
      ]
     },
     "metadata": {},
     "output_type": "display_data"
    }
   ],
   "source": [
    "best_params <- dat_result[which(dat_result$tot.withinss == \n",
    "                                min(dat_result$tot.withinss, na.rm=TRUE)),]$row\n",
    "length(best_params)\n",
    "\n",
    "best_tot.withinss <- round(dat_result[which(dat_result$tot.withinss == \n",
    "                                min(dat_result$tot.withinss, na.rm=TRUE)),]$tot.withinss, 4)\n"
   ]
  },
  {
   "cell_type": "code",
   "execution_count": 67,
   "metadata": {},
   "outputs": [
    {
     "data": {
      "text/html": [
       "<table>\n",
       "<caption>A data.frame: 1 × 4</caption>\n",
       "<thead>\n",
       "\t<tr><th></th><th scope=col>AST</th><th scope=col>CK</th><th scope=col>Daysrec</th><th scope=col>prob01</th></tr>\n",
       "\t<tr><th></th><th scope=col>&lt;dbl&gt;</th><th scope=col>&lt;dbl&gt;</th><th scope=col>&lt;dbl&gt;</th><th scope=col>&lt;dbl&gt;</th></tr>\n",
       "</thead>\n",
       "<tbody>\n",
       "\t<tr><th scope=row>206</th><td>0.05</td><td>0.54</td><td>0.05</td><td>0.36</td></tr>\n",
       "</tbody>\n",
       "</table>\n"
      ],
      "text/latex": [
       "A data.frame: 1 × 4\n",
       "\\begin{tabular}{r|llll}\n",
       "  & AST & CK & Daysrec & prob01\\\\\n",
       "  & <dbl> & <dbl> & <dbl> & <dbl>\\\\\n",
       "\\hline\n",
       "\t206 & 0.05 & 0.54 & 0.05 & 0.36\\\\\n",
       "\\end{tabular}\n"
      ],
      "text/markdown": [
       "\n",
       "A data.frame: 1 × 4\n",
       "\n",
       "| <!--/--> | AST &lt;dbl&gt; | CK &lt;dbl&gt; | Daysrec &lt;dbl&gt; | prob01 &lt;dbl&gt; |\n",
       "|---|---|---|---|---|\n",
       "| 206 | 0.05 | 0.54 | 0.05 | 0.36 |\n",
       "\n"
      ],
      "text/plain": [
       "    AST  CK   Daysrec prob01\n",
       "206 0.05 0.54 0.05    0.36  "
      ]
     },
     "metadata": {},
     "output_type": "display_data"
    },
    {
     "data": {
      "text/html": [
       "0.9844"
      ],
      "text/latex": [
       "0.9844"
      ],
      "text/markdown": [
       "0.9844"
      ],
      "text/plain": [
       "[1] 0.9844"
      ]
     },
     "metadata": {},
     "output_type": "display_data"
    }
   ],
   "source": [
    "dfc03[best_params,]\n",
    "#       \t AST \t  CK  \tDaysrec \tprob01\n",
    "\n",
    "# 206    \t0.05 \t0.54\t   0.05 \t  0.36\n",
    "\n",
    "best_tot.withinss\n",
    "# 0.9844\n"
   ]
  },
  {
   "cell_type": "code",
   "execution_count": null,
   "metadata": {},
   "outputs": [],
   "source": [
    "### COMMENT:\n",
    "\n",
    "# We might be able to use this new method as a way to \n",
    "# close in on optimal weights.  We can first apply this\n",
    "# method, then follow-up with the approach that directly\n",
    "# relies on cross-validation.\n"
   ]
  },
  {
   "cell_type": "markdown",
   "metadata": {},
   "source": [
    "### Test the 3 sets of weights with cross-validation"
   ]
  },
  {
   "cell_type": "code",
   "execution_count": 68,
   "metadata": {},
   "outputs": [
    {
     "data": {
      "text/html": [
       "<style>\n",
       ".list-inline {list-style: none; margin:0; padding: 0}\n",
       ".list-inline>li {display: inline-block}\n",
       ".list-inline>li:not(:last-child)::after {content: \"\\00b7\"; padding: 0 .5ex}\n",
       "</style>\n",
       "<ol class=list-inline><li>1</li><li>4</li></ol>\n"
      ],
      "text/latex": [
       "\\begin{enumerate*}\n",
       "\\item 1\n",
       "\\item 4\n",
       "\\end{enumerate*}\n"
      ],
      "text/markdown": [
       "1. 1\n",
       "2. 4\n",
       "\n",
       "\n"
      ],
      "text/plain": [
       "[1] 1 4"
      ]
     },
     "metadata": {},
     "output_type": "display_data"
    },
    {
     "data": {
      "text/html": [
       "<table>\n",
       "<caption>A data.frame: 4 × 4</caption>\n",
       "<thead>\n",
       "\t<tr><th scope=col>AST</th><th scope=col>CK</th><th scope=col>Daysrec</th><th scope=col>prob01</th></tr>\n",
       "\t<tr><th scope=col>&lt;dbl&gt;</th><th scope=col>&lt;dbl&gt;</th><th scope=col>&lt;dbl&gt;</th><th scope=col>&lt;dbl&gt;</th></tr>\n",
       "</thead>\n",
       "<tbody>\n",
       "\t<tr><td>0.06</td><td>0.50</td><td>0.06</td><td>0.38</td></tr>\n",
       "\t<tr><td>0.11</td><td>0.43</td><td>0.13</td><td>0.33</td></tr>\n",
       "\t<tr><td>0.05</td><td>0.54</td><td>0.05</td><td>0.36</td></tr>\n",
       "\t<tr><td>0.13</td><td>0.37</td><td>0.13</td><td>0.37</td></tr>\n",
       "</tbody>\n",
       "</table>\n"
      ],
      "text/latex": [
       "A data.frame: 4 × 4\n",
       "\\begin{tabular}{llll}\n",
       " AST & CK & Daysrec & prob01\\\\\n",
       " <dbl> & <dbl> & <dbl> & <dbl>\\\\\n",
       "\\hline\n",
       "\t 0.06 & 0.50 & 0.06 & 0.38\\\\\n",
       "\t 0.11 & 0.43 & 0.13 & 0.33\\\\\n",
       "\t 0.05 & 0.54 & 0.05 & 0.36\\\\\n",
       "\t 0.13 & 0.37 & 0.13 & 0.37\\\\\n",
       "\\end{tabular}\n"
      ],
      "text/markdown": [
       "\n",
       "A data.frame: 4 × 4\n",
       "\n",
       "| AST &lt;dbl&gt; | CK &lt;dbl&gt; | Daysrec &lt;dbl&gt; | prob01 &lt;dbl&gt; |\n",
       "|---|---|---|---|\n",
       "| 0.06 | 0.50 | 0.06 | 0.38 |\n",
       "| 0.11 | 0.43 | 0.13 | 0.33 |\n",
       "| 0.05 | 0.54 | 0.05 | 0.36 |\n",
       "| 0.13 | 0.37 | 0.13 | 0.37 |\n",
       "\n"
      ],
      "text/plain": [
       "  AST  CK   Daysrec prob01\n",
       "1 0.06 0.50 0.06    0.38  \n",
       "2 0.11 0.43 0.13    0.33  \n",
       "3 0.05 0.54 0.05    0.36  \n",
       "4 0.13 0.37 0.13    0.37  "
      ]
     },
     "metadata": {},
     "output_type": "display_data"
    }
   ],
   "source": [
    "# Compare these weights with known best weights.\n",
    "\n",
    "lst <- vector(\"list\", length= 4)\n",
    "names(lst) <- c(\"AST\",\"CK\",\"Daysrec\",\"prob01\")\n",
    "\n",
    "lst[[1]] <- c(0.06)\n",
    "lst[[2]] <- c(0.50)\n",
    "lst[[3]] <- c(0.06)\n",
    "lst[[4]] <- c(0.38)\n",
    "\n",
    "start <- Sys.time()\n",
    "dfc03 <- generate_combs(lst)\n",
    "stop <- Sys.time()\n",
    "# round(stop - start, 2)\n",
    "\n",
    "dim(dfc03)\n",
    "\n",
    "# These are our current best weights.\n",
    "dfc03 <- rbind(dfc03, c(0.11, 0.43, 0.13, 0.33))\n",
    "dfc03 <- rbind(dfc03, c(0.05, 0.54, 0.05, 0.36))\n",
    "dfc03 <- rbind(dfc03, c(0.13, 0.37, 0.13, 0.37))\n",
    "dfc03\n"
   ]
  },
  {
   "cell_type": "code",
   "execution_count": 72,
   "metadata": {},
   "outputs": [
    {
     "data": {
      "text/plain": [
       "Time difference of 1.55 mins"
      ]
     },
     "metadata": {},
     "output_type": "display_data"
    }
   ],
   "source": [
    "# Find the best weights of those in dfc03, \n",
    "# using 101 seeds.\n",
    "\n",
    "set.seed(1233)\n",
    "seed_vector <- sample(1:9999, 101, replace=FALSE)\n",
    "\n",
    "start <- Sys.time()\n",
    "dat_result <- gridSearch06(seed_vector, dat, dfc03) \n",
    "stop <- Sys.time()\n",
    "round(stop - start, 2)\n",
    "# Time difference of 1.55 mins\n"
   ]
  },
  {
   "cell_type": "code",
   "execution_count": 74,
   "metadata": {},
   "outputs": [
    {
     "data": {
      "text/html": [
       "<table>\n",
       "<caption>A data.frame: 4 × 5</caption>\n",
       "<thead>\n",
       "\t<tr><th scope=col>AST</th><th scope=col>CK</th><th scope=col>Daysrec</th><th scope=col>prob01</th><th scope=col>Type2</th></tr>\n",
       "\t<tr><th scope=col>&lt;dbl&gt;</th><th scope=col>&lt;dbl&gt;</th><th scope=col>&lt;dbl&gt;</th><th scope=col>&lt;dbl&gt;</th><th scope=col>&lt;dbl&gt;</th></tr>\n",
       "</thead>\n",
       "<tbody>\n",
       "\t<tr><td>0.06</td><td>0.50</td><td>0.06</td><td>0.38</td><td>0.66062</td></tr>\n",
       "\t<tr><td>0.11</td><td>0.43</td><td>0.13</td><td>0.33</td><td>0.66139</td></tr>\n",
       "\t<tr><td>0.05</td><td>0.54</td><td>0.05</td><td>0.36</td><td>0.66053</td></tr>\n",
       "\t<tr><td>0.13</td><td>0.37</td><td>0.13</td><td>0.37</td><td>0.65986</td></tr>\n",
       "</tbody>\n",
       "</table>\n"
      ],
      "text/latex": [
       "A data.frame: 4 × 5\n",
       "\\begin{tabular}{lllll}\n",
       " AST & CK & Daysrec & prob01 & Type2\\\\\n",
       " <dbl> & <dbl> & <dbl> & <dbl> & <dbl>\\\\\n",
       "\\hline\n",
       "\t 0.06 & 0.50 & 0.06 & 0.38 & 0.66062\\\\\n",
       "\t 0.11 & 0.43 & 0.13 & 0.33 & 0.66139\\\\\n",
       "\t 0.05 & 0.54 & 0.05 & 0.36 & 0.66053\\\\\n",
       "\t 0.13 & 0.37 & 0.13 & 0.37 & 0.65986\\\\\n",
       "\\end{tabular}\n"
      ],
      "text/markdown": [
       "\n",
       "A data.frame: 4 × 5\n",
       "\n",
       "| AST &lt;dbl&gt; | CK &lt;dbl&gt; | Daysrec &lt;dbl&gt; | prob01 &lt;dbl&gt; | Type2 &lt;dbl&gt; |\n",
       "|---|---|---|---|---|\n",
       "| 0.06 | 0.50 | 0.06 | 0.38 | 0.66062 |\n",
       "| 0.11 | 0.43 | 0.13 | 0.33 | 0.66139 |\n",
       "| 0.05 | 0.54 | 0.05 | 0.36 | 0.66053 |\n",
       "| 0.13 | 0.37 | 0.13 | 0.37 | 0.65986 |\n",
       "\n"
      ],
      "text/plain": [
       "  AST  CK   Daysrec prob01 Type2  \n",
       "1 0.06 0.50 0.06    0.38   0.66062\n",
       "2 0.11 0.43 0.13    0.33   0.66139\n",
       "3 0.05 0.54 0.05    0.36   0.66053\n",
       "4 0.13 0.37 0.13    0.37   0.65986"
      ]
     },
     "metadata": {},
     "output_type": "display_data"
    }
   ],
   "source": [
    "datout <- cbind(dfc03, dat_result$Type2)\n",
    "colnames(datout) <- c(colnames(dfc03), \"Type2\")\n",
    "datout\n"
   ]
  },
  {
   "cell_type": "code",
   "execution_count": null,
   "metadata": {},
   "outputs": [],
   "source": [
    "### COMMENT:\n",
    "\n",
    "# Note that we have the best cross-val score for the weights\n",
    "# for which we would expect the best score, those found in\n",
    "# Section 6 above.  The next best score is for the weights \n",
    "# in the first row.  But the Type2 score for the first-row\n",
    "# weights is close enough to the Type2 scores for the weights\n",
    "# in rows 3 and 4 that it is hard to say there is a real \n",
    "# difference in these scores.  Thus, if we were to switch over\n",
    "# to gridSearch06, which tests weight combinations using\n",
    "# Type2 cross-validation scores, from gridSearch07, we should\n",
    "# probably start looking in the region around the weight\n",
    "# combination found in row 4 above.\n"
   ]
  },
  {
   "cell_type": "code",
   "execution_count": 75,
   "metadata": {},
   "outputs": [
    {
     "data": {
      "text/plain": [
       "Time difference of 3.42 mins"
      ]
     },
     "metadata": {},
     "output_type": "display_data"
    }
   ],
   "source": [
    "# Find the best weights of those in dfc03.  Here I\n",
    "# am running with 201 seeds and a different starting\n",
    "# seed.\n",
    "\n",
    "set.seed(1913)\n",
    "seed_vector <- sample(1:9999, 201, replace=FALSE)\n",
    "\n",
    "start <- Sys.time()\n",
    "dat_result <- gridSearch06(seed_vector, dat, dfc03) \n",
    "stop <- Sys.time()\n",
    "round(stop - start, 2)\n",
    "# Time difference of 3.42 mins\n"
   ]
  },
  {
   "cell_type": "code",
   "execution_count": 76,
   "metadata": {},
   "outputs": [
    {
     "data": {
      "text/html": [
       "<table>\n",
       "<caption>A data.frame: 4 × 5</caption>\n",
       "<thead>\n",
       "\t<tr><th scope=col>AST</th><th scope=col>CK</th><th scope=col>Daysrec</th><th scope=col>prob01</th><th scope=col>Type2</th></tr>\n",
       "\t<tr><th scope=col>&lt;dbl&gt;</th><th scope=col>&lt;dbl&gt;</th><th scope=col>&lt;dbl&gt;</th><th scope=col>&lt;dbl&gt;</th><th scope=col>&lt;dbl&gt;</th></tr>\n",
       "</thead>\n",
       "<tbody>\n",
       "\t<tr><td>0.06</td><td>0.50</td><td>0.06</td><td>0.38</td><td>0.66206</td></tr>\n",
       "\t<tr><td>0.11</td><td>0.43</td><td>0.13</td><td>0.33</td><td>0.66230</td></tr>\n",
       "\t<tr><td>0.05</td><td>0.54</td><td>0.05</td><td>0.36</td><td>0.66260</td></tr>\n",
       "\t<tr><td>0.13</td><td>0.37</td><td>0.13</td><td>0.37</td><td>0.66094</td></tr>\n",
       "</tbody>\n",
       "</table>\n"
      ],
      "text/latex": [
       "A data.frame: 4 × 5\n",
       "\\begin{tabular}{lllll}\n",
       " AST & CK & Daysrec & prob01 & Type2\\\\\n",
       " <dbl> & <dbl> & <dbl> & <dbl> & <dbl>\\\\\n",
       "\\hline\n",
       "\t 0.06 & 0.50 & 0.06 & 0.38 & 0.66206\\\\\n",
       "\t 0.11 & 0.43 & 0.13 & 0.33 & 0.66230\\\\\n",
       "\t 0.05 & 0.54 & 0.05 & 0.36 & 0.66260\\\\\n",
       "\t 0.13 & 0.37 & 0.13 & 0.37 & 0.66094\\\\\n",
       "\\end{tabular}\n"
      ],
      "text/markdown": [
       "\n",
       "A data.frame: 4 × 5\n",
       "\n",
       "| AST &lt;dbl&gt; | CK &lt;dbl&gt; | Daysrec &lt;dbl&gt; | prob01 &lt;dbl&gt; | Type2 &lt;dbl&gt; |\n",
       "|---|---|---|---|---|\n",
       "| 0.06 | 0.50 | 0.06 | 0.38 | 0.66206 |\n",
       "| 0.11 | 0.43 | 0.13 | 0.33 | 0.66230 |\n",
       "| 0.05 | 0.54 | 0.05 | 0.36 | 0.66260 |\n",
       "| 0.13 | 0.37 | 0.13 | 0.37 | 0.66094 |\n",
       "\n"
      ],
      "text/plain": [
       "  AST  CK   Daysrec prob01 Type2  \n",
       "1 0.06 0.50 0.06    0.38   0.66206\n",
       "2 0.11 0.43 0.13    0.33   0.66230\n",
       "3 0.05 0.54 0.05    0.36   0.66260\n",
       "4 0.13 0.37 0.13    0.37   0.66094"
      ]
     },
     "metadata": {},
     "output_type": "display_data"
    }
   ],
   "source": [
    "datout <- cbind(dfc03, dat_result$Type2)\n",
    "colnames(datout) <- c(colnames(dfc03), \"Type2\")\n",
    "datout\n"
   ]
  },
  {
   "cell_type": "code",
   "execution_count": 77,
   "metadata": {},
   "outputs": [
    {
     "data": {
      "text/html": [
       "'Start time: 2021-04-18 20:52:44'"
      ],
      "text/latex": [
       "'Start time: 2021-04-18 20:52:44'"
      ],
      "text/markdown": [
       "'Start time: 2021-04-18 20:52:44'"
      ],
      "text/plain": [
       "[1] \"Start time: 2021-04-18 20:52:44\""
      ]
     },
     "metadata": {},
     "output_type": "display_data"
    },
    {
     "data": {
      "text/plain": [
       "Time difference of 16.81 mins"
      ]
     },
     "metadata": {},
     "output_type": "display_data"
    }
   ],
   "source": [
    "# Find the best weights of those in dfc03, using\n",
    "# 1000 seeds. \n",
    "\n",
    "set.seed(1913)\n",
    "seed_vector <- sample(1:9999, 1000, replace=FALSE)\n",
    "\n",
    "start <- Sys.time()\n",
    "paste(\"Start time: \", start, sep=\"\")\n",
    "dat_result <- gridSearch06(seed_vector, dat, dfc03) \n",
    "stop <- Sys.time()\n",
    "round(stop - start, 2)\n",
    "# Time difference of 16.81 mins\n"
   ]
  },
  {
   "cell_type": "code",
   "execution_count": 78,
   "metadata": {},
   "outputs": [
    {
     "data": {
      "text/html": [
       "<table>\n",
       "<caption>A data.frame: 4 × 5</caption>\n",
       "<thead>\n",
       "\t<tr><th scope=col>AST</th><th scope=col>CK</th><th scope=col>Daysrec</th><th scope=col>prob01</th><th scope=col>Type2</th></tr>\n",
       "\t<tr><th scope=col>&lt;dbl&gt;</th><th scope=col>&lt;dbl&gt;</th><th scope=col>&lt;dbl&gt;</th><th scope=col>&lt;dbl&gt;</th><th scope=col>&lt;dbl&gt;</th></tr>\n",
       "</thead>\n",
       "<tbody>\n",
       "\t<tr><td>0.06</td><td>0.50</td><td>0.06</td><td>0.38</td><td>0.66210</td></tr>\n",
       "\t<tr><td>0.11</td><td>0.43</td><td>0.13</td><td>0.33</td><td>0.66238</td></tr>\n",
       "\t<tr><td>0.05</td><td>0.54</td><td>0.05</td><td>0.36</td><td>0.66251</td></tr>\n",
       "\t<tr><td>0.13</td><td>0.37</td><td>0.13</td><td>0.37</td><td>0.66124</td></tr>\n",
       "</tbody>\n",
       "</table>\n"
      ],
      "text/latex": [
       "A data.frame: 4 × 5\n",
       "\\begin{tabular}{lllll}\n",
       " AST & CK & Daysrec & prob01 & Type2\\\\\n",
       " <dbl> & <dbl> & <dbl> & <dbl> & <dbl>\\\\\n",
       "\\hline\n",
       "\t 0.06 & 0.50 & 0.06 & 0.38 & 0.66210\\\\\n",
       "\t 0.11 & 0.43 & 0.13 & 0.33 & 0.66238\\\\\n",
       "\t 0.05 & 0.54 & 0.05 & 0.36 & 0.66251\\\\\n",
       "\t 0.13 & 0.37 & 0.13 & 0.37 & 0.66124\\\\\n",
       "\\end{tabular}\n"
      ],
      "text/markdown": [
       "\n",
       "A data.frame: 4 × 5\n",
       "\n",
       "| AST &lt;dbl&gt; | CK &lt;dbl&gt; | Daysrec &lt;dbl&gt; | prob01 &lt;dbl&gt; | Type2 &lt;dbl&gt; |\n",
       "|---|---|---|---|---|\n",
       "| 0.06 | 0.50 | 0.06 | 0.38 | 0.66210 |\n",
       "| 0.11 | 0.43 | 0.13 | 0.33 | 0.66238 |\n",
       "| 0.05 | 0.54 | 0.05 | 0.36 | 0.66251 |\n",
       "| 0.13 | 0.37 | 0.13 | 0.37 | 0.66124 |\n",
       "\n"
      ],
      "text/plain": [
       "  AST  CK   Daysrec prob01 Type2  \n",
       "1 0.06 0.50 0.06    0.38   0.66210\n",
       "2 0.11 0.43 0.13    0.33   0.66238\n",
       "3 0.05 0.54 0.05    0.36   0.66251\n",
       "4 0.13 0.37 0.13    0.37   0.66124"
      ]
     },
     "metadata": {},
     "output_type": "display_data"
    }
   ],
   "source": [
    "datout <- cbind(dfc03, dat_result$Type2)\n",
    "colnames(datout) <- c(colnames(dfc03), \"Type2\")\n",
    "datout\n"
   ]
  },
  {
   "cell_type": "code",
   "execution_count": null,
   "metadata": {},
   "outputs": [],
   "source": [
    "### COMMENT:\n",
    "\n",
    "# The weights found using tot.withinss are competitive with the\n",
    "# weights found directly through cross-validation methods.\n",
    "\n",
    "# Let's compare the summary info for the current best set of\n",
    "# weights with the previous best set of weights.\n"
   ]
  },
  {
   "cell_type": "markdown",
   "metadata": {},
   "source": [
    "## Summary info for hybrid model with prob01 constructed from g03"
   ]
  },
  {
   "cell_type": "markdown",
   "metadata": {},
   "source": [
    "Get scores for the hybrid model with the above best weights obtained using tot.withinss.  Then compare these scores with those for the hybrid model which used weights obtained directly from Type2 cross-validation scores."
   ]
  },
  {
   "cell_type": "code",
   "execution_count": 79,
   "metadata": {},
   "outputs": [],
   "source": [
    "# This function is called by get_cvInfo.  It returns a vector\n",
    "# of scores: f-score, accuracy, Type2, false negatives, and\n",
    "# false positives, in the stated order.  The scores are for\n",
    "# the hybrid k-means model with the prob01 column.\n",
    "\n",
    "get_cvScores_kmp1_g03 <- function(traindat, valdat) {\n",
    "    \n",
    "    # wghts is a named vector of weights to apply.  The names, and\n",
    "    # order of the weights, correspond to the colnames of traindat\n",
    "    # below.  (Here the names are: AST, CK, Daysrec, and prob01.)\n",
    "    \n",
    "    g03mod <- suppressWarnings(glm(Outcome ~ Daysrec + CK + I(log(AST)),\n",
    "                  data= traindat, family= binomial, singular.ok=TRUE,\n",
    "                  epsilon= 1e-7, maxit=50))\n",
    "    \n",
    "    traindat$prob01 <- as.numeric(g03mod$fitted)\n",
    "    \n",
    "    \n",
    "    #############################\n",
    "    # Transform and scale traindat to obtain 'centers' and\n",
    "    # 'scales'.\n",
    "    traindat$AST <- log(traindat$AST)\n",
    "    traindat$CK <- log(traindat$CK)\n",
    "    traindat$Daysrec <- sqrt(traindat$Daysrec)\n",
    "\n",
    "    traindat_scaled <- scale(traindat[, -1], center=TRUE, scale=TRUE)\n",
    "    centers <- attr(traindat_scaled, \"scaled:center\")\n",
    "    scales <- attr(traindat_scaled, \"scaled:scale\")\n",
    "    \n",
    "    #############################\n",
    "    # Apply weights to traindat.\n",
    "    \n",
    "    # These are the best weights we currently have for this model.\n",
    "    wghts <- c(0.05, 0.54, 0.05, 0.36)^0.5\n",
    "    names(wghts) <- cols <- c(\"AST\",\"CK\",\"Daysrec\",\"prob01\")\n",
    "    \n",
    "    df2 <- t(t(traindat_scaled[, cols]) * as.numeric(wghts[cols]))\n",
    "    traindat_wghts <- as.data.frame(df2, row.names=rownames(traindat))\n",
    "    colnames(traindat_wghts) <- cols\n",
    "\n",
    "       \n",
    "    #############################\n",
    "    # Prepare valdat.\n",
    "    \n",
    "    # Compute the prob01 column.\n",
    "    preds01_b <- predict(g03mod, newdata=valdat)\n",
    "    valdat$prob01 <- as.numeric(preds01_b)\n",
    "    \n",
    "    # Transform and scale valdat.\n",
    "    valdat$AST <- log(valdat$AST)\n",
    "    valdat$CK <- log(valdat$CK)\n",
    "    valdat$Daysrec <- sqrt(valdat$Daysrec)\n",
    "\n",
    "    valdat_scaled <- scale(valdat[, -1], center=centers, scale=scales)\n",
    "    valdat_scaled <- as.data.frame(valdat_scaled, row.names=rownames(valdat))\n",
    "    \n",
    "    # Apply weights to valdat. \n",
    "    df2 <- t(t(valdat_scaled[, cols]) * as.numeric(wghts[cols]))\n",
    "    valdat_wghts <- as.data.frame(df2, row.names=rownames(valdat))\n",
    "    colnames(valdat_wghts) <- cols\n",
    "    \n",
    "    \n",
    "    #############################\n",
    "    # Construct k-means model.\n",
    "    \n",
    "    kmod <- suppressWarnings(kmeans(traindat_wghts, 2, iter.max = 50, nstart=15))\n",
    "    \n",
    "    # See how the clusters are associated with Outcome.\n",
    "    dfout <- as.data.frame(cbind(traindat$Outcome, kmod$cluster),\n",
    "                           row.names=rownames(traindat))\n",
    "    colnames(dfout) <- c(\"Outcome\", \"cluster\")\n",
    "    \n",
    "    c1_to_Outcome1 <- c1_toLevel_1(dfout)\n",
    "    \n",
    "    #############################\n",
    "    # Apply the k-means model to valdat_wghts.\n",
    "    \n",
    "    # Each element of the following list is a row of valdat_wghts.\n",
    "    valdat_asList <- split(valdat_wghts[, colnames(kmod$centers)],\n",
    "                           seq(nrow(valdat_wghts)))\n",
    "    \n",
    "    ctr_list <- vector(\"list\", length= nrow(valdat))\n",
    "    for(i in 1:nrow(valdat)) {\n",
    "        \n",
    "        ctr_list[[i]] <- kmod$centers\n",
    "    }\n",
    "    names(ctr_list) <- rownames(valdat)\n",
    "    \n",
    "    \n",
    "    # Get the predictions for the validation set.\n",
    "    cluster_assgns <- mcmapply(getCluster, valdat_asList, ctr_list,\n",
    "                               SIMPLIFY=TRUE, mc.cores=6)\n",
    "    \n",
    "    valdat_wghts$cluster <- as.numeric(cluster_assgns)\n",
    "    \n",
    "    valdat_wghts$pred_Outcome <- NA\n",
    "    if(c1_to_Outcome1) {\n",
    "        valdat_wghts[which(valdat_wghts$cluster==1),]$pred_Outcome <- 1\n",
    "        valdat_wghts[which(valdat_wghts$cluster==2),]$pred_Outcome <- 0\n",
    "    } else {\n",
    "        valdat_wghts[which(valdat_wghts$cluster==1),]$pred_Outcome <- 0\n",
    "        valdat_wghts[which(valdat_wghts$cluster==2),]$pred_Outcome <- 1\n",
    "    }\n",
    "    \n",
    "    # Generate confusion matrix for the k-means clusters and\n",
    "    # the corresponding f-score.\n",
    "    preds <- as.factor(valdat_wghts$pred_Outcome)\n",
    "    names(preds) <- rownames(valdat)\n",
    "    ans <- get_confusion(preds, valdat[, \"Outcome\", drop=FALSE])\n",
    "\n",
    "    mat <- as.matrix(ans[[1]])\n",
    "    fscore <- round(as.numeric(ans[[2]]), 4)\n",
    "    acc <- round(sum(diag(mat))/floor(sum(mat)), 4)\n",
    "    type2 <- round((0.4 * acc + 0.6 * ans[[2]]), 4)\n",
    "    FN <- as.numeric(mat[2,1])\n",
    "    FP <- as.numeric(mat[1,2])\n",
    "    return(c(fscore,acc,type2,FN,FP))\n",
    "}\n"
   ]
  },
  {
   "cell_type": "code",
   "execution_count": 81,
   "metadata": {},
   "outputs": [
    {
     "data": {
      "text/plain": [
       "Time difference of 4.01 mins"
      ]
     },
     "metadata": {},
     "output_type": "display_data"
    }
   ],
   "source": [
    "# Get scores for the hybrid model with prob01 constructed \n",
    "# from the g03 logistic model.\n",
    "\n",
    "set.seed(1913)\n",
    "seed_vector <- sample(1:9999, 1000, replace=FALSE)\n",
    "\n",
    "start <- Sys.time()\n",
    "dat_result <- get_cvInfo(seed_vector, dat)\n",
    "stop <- Sys.time()\n",
    "round(stop - start, 2)\n",
    "# Time difference of 4 mins\n"
   ]
  },
  {
   "cell_type": "code",
   "execution_count": 82,
   "metadata": {},
   "outputs": [
    {
     "data": {
      "text/html": [
       "<style>\n",
       ".list-inline {list-style: none; margin:0; padding: 0}\n",
       ".list-inline>li {display: inline-block}\n",
       ".list-inline>li:not(:last-child)::after {content: \"\\00b7\"; padding: 0 .5ex}\n",
       "</style>\n",
       "<ol class=list-inline><li>5000</li><li>5</li></ol>\n"
      ],
      "text/latex": [
       "\\begin{enumerate*}\n",
       "\\item 5000\n",
       "\\item 5\n",
       "\\end{enumerate*}\n"
      ],
      "text/markdown": [
       "1. 5000\n",
       "2. 5\n",
       "\n",
       "\n"
      ],
      "text/plain": [
       "[1] 5000    5"
      ]
     },
     "metadata": {},
     "output_type": "display_data"
    },
    {
     "data": {
      "text/html": [
       "<table>\n",
       "<caption>A data.frame: 6 × 5</caption>\n",
       "<thead>\n",
       "\t<tr><th></th><th scope=col>fscore</th><th scope=col>Acc</th><th scope=col>Type2</th><th scope=col>FN</th><th scope=col>FP</th></tr>\n",
       "\t<tr><th></th><th scope=col>&lt;dbl&gt;</th><th scope=col>&lt;dbl&gt;</th><th scope=col>&lt;dbl&gt;</th><th scope=col>&lt;dbl&gt;</th><th scope=col>&lt;dbl&gt;</th></tr>\n",
       "</thead>\n",
       "<tbody>\n",
       "\t<tr><th scope=row>4782--1</th><td>0.6087</td><td>0.7750</td><td>0.6752</td><td> 8</td><td>10</td></tr>\n",
       "\t<tr><th scope=row>4782--2</th><td>0.6071</td><td>0.7250</td><td>0.6543</td><td>11</td><td>11</td></tr>\n",
       "\t<tr><th scope=row>4782--3</th><td>0.5532</td><td>0.7375</td><td>0.6269</td><td>17</td><td> 4</td></tr>\n",
       "\t<tr><th scope=row>4782--4</th><td>0.6667</td><td>0.7125</td><td>0.6850</td><td> 9</td><td>14</td></tr>\n",
       "\t<tr><th scope=row>4782--5</th><td>0.6562</td><td>0.7250</td><td>0.6837</td><td>16</td><td> 6</td></tr>\n",
       "\t<tr><th scope=row>9275--1</th><td>0.6429</td><td>0.7500</td><td>0.6857</td><td>12</td><td> 8</td></tr>\n",
       "</tbody>\n",
       "</table>\n"
      ],
      "text/latex": [
       "A data.frame: 6 × 5\n",
       "\\begin{tabular}{r|lllll}\n",
       "  & fscore & Acc & Type2 & FN & FP\\\\\n",
       "  & <dbl> & <dbl> & <dbl> & <dbl> & <dbl>\\\\\n",
       "\\hline\n",
       "\t4782--1 & 0.6087 & 0.7750 & 0.6752 &  8 & 10\\\\\n",
       "\t4782--2 & 0.6071 & 0.7250 & 0.6543 & 11 & 11\\\\\n",
       "\t4782--3 & 0.5532 & 0.7375 & 0.6269 & 17 &  4\\\\\n",
       "\t4782--4 & 0.6667 & 0.7125 & 0.6850 &  9 & 14\\\\\n",
       "\t4782--5 & 0.6562 & 0.7250 & 0.6837 & 16 &  6\\\\\n",
       "\t9275--1 & 0.6429 & 0.7500 & 0.6857 & 12 &  8\\\\\n",
       "\\end{tabular}\n"
      ],
      "text/markdown": [
       "\n",
       "A data.frame: 6 × 5\n",
       "\n",
       "| <!--/--> | fscore &lt;dbl&gt; | Acc &lt;dbl&gt; | Type2 &lt;dbl&gt; | FN &lt;dbl&gt; | FP &lt;dbl&gt; |\n",
       "|---|---|---|---|---|---|\n",
       "| 4782--1 | 0.6087 | 0.7750 | 0.6752 |  8 | 10 |\n",
       "| 4782--2 | 0.6071 | 0.7250 | 0.6543 | 11 | 11 |\n",
       "| 4782--3 | 0.5532 | 0.7375 | 0.6269 | 17 |  4 |\n",
       "| 4782--4 | 0.6667 | 0.7125 | 0.6850 |  9 | 14 |\n",
       "| 4782--5 | 0.6562 | 0.7250 | 0.6837 | 16 |  6 |\n",
       "| 9275--1 | 0.6429 | 0.7500 | 0.6857 | 12 |  8 |\n",
       "\n"
      ],
      "text/plain": [
       "        fscore Acc    Type2  FN FP\n",
       "4782--1 0.6087 0.7750 0.6752  8 10\n",
       "4782--2 0.6071 0.7250 0.6543 11 11\n",
       "4782--3 0.5532 0.7375 0.6269 17  4\n",
       "4782--4 0.6667 0.7125 0.6850  9 14\n",
       "4782--5 0.6562 0.7250 0.6837 16  6\n",
       "9275--1 0.6429 0.7500 0.6857 12  8"
      ]
     },
     "metadata": {},
     "output_type": "display_data"
    }
   ],
   "source": [
    "dim(dat_result)\n",
    "head(dat_result)\n"
   ]
  },
  {
   "cell_type": "code",
   "execution_count": 83,
   "metadata": {},
   "outputs": [
    {
     "data": {
      "text/html": [
       "'fscore mean: 0.6161'"
      ],
      "text/latex": [
       "'fscore mean: 0.6161'"
      ],
      "text/markdown": [
       "'fscore mean: 0.6161'"
      ],
      "text/plain": [
       "[1] \"fscore mean: 0.6161\""
      ]
     },
     "metadata": {},
     "output_type": "display_data"
    },
    {
     "data": {
      "text/html": [
       "'fscore StdDev: 0.0691'"
      ],
      "text/latex": [
       "'fscore StdDev: 0.0691'"
      ],
      "text/markdown": [
       "'fscore StdDev: 0.0691'"
      ],
      "text/plain": [
       "[1] \"fscore StdDev: 0.0691\""
      ]
     },
     "metadata": {},
     "output_type": "display_data"
    },
    {
     "data": {
      "text/html": [
       "''"
      ],
      "text/latex": [
       "''"
      ],
      "text/markdown": [
       "''"
      ],
      "text/plain": [
       "[1] \"\""
      ]
     },
     "metadata": {},
     "output_type": "display_data"
    },
    {
     "data": {
      "text/plain": [
       "   Min. 1st Qu.  Median    Mean 3rd Qu.    Max. \n",
       "  0.244   0.571   0.621   0.616   0.667   0.828 "
      ]
     },
     "metadata": {},
     "output_type": "display_data"
    }
   ],
   "source": [
    "fscore_mean <- round(mean(dat_result$fscore), 4)\n",
    "fscore_sd <- round(sd(dat_result$fscore), 4)\n",
    "paste0(\"fscore mean: \", as.character(fscore_mean))\n",
    "# 0.6161\n",
    "paste0(\"fscore StdDev: \", as.character(fscore_sd))\n",
    "# 0.0691\n",
    "\"\"\n",
    "summary(dat_result$fscore)\n"
   ]
  },
  {
   "cell_type": "code",
   "execution_count": 84,
   "metadata": {},
   "outputs": [
    {
     "data": {
      "text/html": [
       "'accuracy mean: 0.7321'"
      ],
      "text/latex": [
       "'accuracy mean: 0.7321'"
      ],
      "text/markdown": [
       "'accuracy mean: 0.7321'"
      ],
      "text/plain": [
       "[1] \"accuracy mean: 0.7321\""
      ]
     },
     "metadata": {},
     "output_type": "display_data"
    },
    {
     "data": {
      "text/html": [
       "'accuracy StdDev: 0.0456'"
      ],
      "text/latex": [
       "'accuracy StdDev: 0.0456'"
      ],
      "text/markdown": [
       "'accuracy StdDev: 0.0456'"
      ],
      "text/plain": [
       "[1] \"accuracy StdDev: 0.0456\""
      ]
     },
     "metadata": {},
     "output_type": "display_data"
    },
    {
     "data": {
      "text/html": [
       "''"
      ],
      "text/latex": [
       "''"
      ],
      "text/markdown": [
       "''"
      ],
      "text/plain": [
       "[1] \"\""
      ]
     },
     "metadata": {},
     "output_type": "display_data"
    },
    {
     "data": {
      "text/plain": [
       "   Min. 1st Qu.  Median    Mean 3rd Qu.    Max. \n",
       "  0.562   0.700   0.738   0.732   0.762   0.875 "
      ]
     },
     "metadata": {},
     "output_type": "display_data"
    }
   ],
   "source": [
    "Acc_mean <- round(mean(dat_result$Acc), 4)\n",
    "Acc_sd <- round(sd(dat_result$Acc), 4)\n",
    "paste0(\"accuracy mean: \", as.character(Acc_mean))\n",
    "# 0.7321\n",
    "paste0(\"accuracy StdDev: \", as.character(Acc_sd))\n",
    "# 0.0456\n",
    "\"\"\n",
    "summary(dat_result$Acc)\n"
   ]
  },
  {
   "cell_type": "code",
   "execution_count": 85,
   "metadata": {},
   "outputs": [
    {
     "data": {
      "text/html": [
       "'Type2 mean: 0.6625'"
      ],
      "text/latex": [
       "'Type2 mean: 0.6625'"
      ],
      "text/markdown": [
       "'Type2 mean: 0.6625'"
      ],
      "text/plain": [
       "[1] \"Type2 mean: 0.6625\""
      ]
     },
     "metadata": {},
     "output_type": "display_data"
    },
    {
     "data": {
      "text/html": [
       "'Type2 StdDev: 0.0571'"
      ],
      "text/latex": [
       "'Type2 StdDev: 0.0571'"
      ],
      "text/markdown": [
       "'Type2 StdDev: 0.0571'"
      ],
      "text/plain": [
       "[1] \"Type2 StdDev: 0.0571\""
      ]
     },
     "metadata": {},
     "output_type": "display_data"
    },
    {
     "data": {
      "text/html": [
       "''"
      ],
      "text/latex": [
       "''"
      ],
      "text/markdown": [
       "''"
      ],
      "text/plain": [
       "[1] \"\""
      ]
     },
     "metadata": {},
     "output_type": "display_data"
    },
    {
     "data": {
      "text/plain": [
       "   Min. 1st Qu.  Median    Mean 3rd Qu.    Max. \n",
       "  0.388   0.625   0.666   0.663   0.702   0.847 "
      ]
     },
     "metadata": {},
     "output_type": "display_data"
    }
   ],
   "source": [
    "Type2_mean <- round(mean(dat_result$Type2), 4)\n",
    "Type2_sd <- round(sd(dat_result$Type2), 4)\n",
    "paste0(\"Type2 mean: \", as.character(Type2_mean))\n",
    "# 0.6625\n",
    "paste0(\"Type2 StdDev: \", as.character(Type2_sd))\n",
    "# 0.0571\n",
    "\"\"\n",
    "summary(dat_result$Type2)\n"
   ]
  },
  {
   "cell_type": "code",
   "execution_count": 86,
   "metadata": {},
   "outputs": [
    {
     "data": {
      "image/png": "[encoded data removed]",
      "text/plain": [
       "Plot with title “Distribution of Type2 scores for hybrid model w/ prob01 from g03”"
      ]
     },
     "metadata": {
      "image/png": {
       "height": 360,
       "width": 600
      }
     },
     "output_type": "display_data"
    }
   ],
   "source": [
    "# Histogram of the Type2 scores for the hybrid model with prob01.\n",
    "\n",
    "options(repr.plot.width= 10, repr.plot.height= 6)\n",
    "hist(dat_result$Type2, breaks=10, xlab=\"Type2 score\",\n",
    "     main=\"Distribution of Type2 scores for hybrid model w/ prob01 from g03\")\n"
   ]
  },
  {
   "cell_type": "code",
   "execution_count": 87,
   "metadata": {},
   "outputs": [
    {
     "data": {
      "text/html": [
       "'FN mean: 12.3972'"
      ],
      "text/latex": [
       "'FN mean: 12.3972'"
      ],
      "text/markdown": [
       "'FN mean: 12.3972'"
      ],
      "text/plain": [
       "[1] \"FN mean: 12.3972\""
      ]
     },
     "metadata": {},
     "output_type": "display_data"
    },
    {
     "data": {
      "text/html": [
       "'FN StdDev: 3.1209'"
      ],
      "text/latex": [
       "'FN StdDev: 3.1209'"
      ],
      "text/markdown": [
       "'FN StdDev: 3.1209'"
      ],
      "text/plain": [
       "[1] \"FN StdDev: 3.1209\""
      ]
     },
     "metadata": {},
     "output_type": "display_data"
    },
    {
     "data": {
      "text/html": [
       "''"
      ],
      "text/latex": [
       "''"
      ],
      "text/markdown": [
       "''"
      ],
      "text/plain": [
       "[1] \"\""
      ]
     },
     "metadata": {},
     "output_type": "display_data"
    },
    {
     "data": {
      "text/plain": [
       "   Min. 1st Qu.  Median    Mean 3rd Qu.    Max. \n",
       "    2.0    10.0    12.0    12.4    14.0    24.0 "
      ]
     },
     "metadata": {},
     "output_type": "display_data"
    }
   ],
   "source": [
    "FN_mean <- round(mean(dat_result$FN), 4)\n",
    "FN_sd <- round(sd(dat_result$FN), 4)\n",
    "paste0(\"FN mean: \", as.character(FN_mean))\n",
    "# 12.40\n",
    "paste0(\"FN StdDev: \", as.character(FN_sd))\n",
    "# 3.12\n",
    "\"\"\n",
    "summary(dat_result$FN)\n"
   ]
  },
  {
   "cell_type": "code",
   "execution_count": 88,
   "metadata": {},
   "outputs": [
    {
     "data": {
      "text/html": [
       "'FP mean: 9.0316'"
      ],
      "text/latex": [
       "'FP mean: 9.0316'"
      ],
      "text/markdown": [
       "'FP mean: 9.0316'"
      ],
      "text/plain": [
       "[1] \"FP mean: 9.0316\""
      ]
     },
     "metadata": {},
     "output_type": "display_data"
    },
    {
     "data": {
      "text/html": [
       "'FP StdDev: 3.0735'"
      ],
      "text/latex": [
       "'FP StdDev: 3.0735'"
      ],
      "text/markdown": [
       "'FP StdDev: 3.0735'"
      ],
      "text/plain": [
       "[1] \"FP StdDev: 3.0735\""
      ]
     },
     "metadata": {},
     "output_type": "display_data"
    },
    {
     "data": {
      "text/html": [
       "''"
      ],
      "text/latex": [
       "''"
      ],
      "text/markdown": [
       "''"
      ],
      "text/plain": [
       "[1] \"\""
      ]
     },
     "metadata": {},
     "output_type": "display_data"
    },
    {
     "data": {
      "text/plain": [
       "   Min. 1st Qu.  Median    Mean 3rd Qu.    Max. \n",
       "   1.00    7.00    9.00    9.03   11.00   22.00 "
      ]
     },
     "metadata": {},
     "output_type": "display_data"
    }
   ],
   "source": [
    "FP_mean <- round(mean(dat_result$FP), 4)\n",
    "FP_sd <- round(sd(dat_result$FP), 4)\n",
    "paste0(\"FP mean: \", as.character(FP_mean))\n",
    "# 9.03\n",
    "paste0(\"FP StdDev: \", as.character(FP_sd))\n",
    "# 3.07\n",
    "\"\"\n",
    "summary(dat_result$FP)\n"
   ]
  },
  {
   "cell_type": "markdown",
   "metadata": {},
   "source": [
    "## Addendum Final Comments"
   ]
  },
  {
   "cell_type": "markdown",
   "metadata": {},
   "source": [
    "The above summary scores, with the new set of weights, are essentially equivalent to the summary scores for the hybrid model using the weights found in Section 6.  This is a significant result because, for the downer cow dataset, we can find weights using tot.withinss 7X faster than when we make direct use of Type2 cross-validation scores.\n",
    "\n",
    "Finding weights using tot.withinss will not work unless we carefully scale the data.  My min-max method of scaling happens to work for the downer cow data.  It remains to be seen whether we get similarly good results with the California housing data.  \n",
    "\n",
    "\n",
    "\n",
    "                                      * * * * *"
   ]
  },
  {
   "cell_type": "markdown",
   "metadata": {},
   "source": [
    "# Postscript"
   ]
  },
  {
   "cell_type": "markdown",
   "metadata": {},
   "source": [
    "## Hybrid model with prob01 from g03 and prob02 from gbclf_best"
   ]
  },
  {
   "cell_type": "markdown",
   "metadata": {},
   "source": [
    "It is worth looking into whether we can improve upon km_g03's scores by adding the probabilities generated by gbclf_best.  The gradient boosting model was used to create the best hybrid model in Part 1."
   ]
  },
  {
   "cell_type": "code",
   "execution_count": 58,
   "metadata": {},
   "outputs": [],
   "source": [
    "# Function for obtaining average of confusion matrix \n",
    "# f-score and percent correctly answered. This function\n",
    "# is called from gridSearch06.\n",
    "\n",
    "get_cvScore_kmp1p2_v02 <- function(traindat, valdat, wghts) {\n",
    "    \n",
    "    g03mod <- suppressWarnings(glm(Outcome ~ Daysrec + CK + I(log(AST)),\n",
    "                  data= traindat, family= binomial, singular.ok=TRUE,\n",
    "                  epsilon= 1e-7, maxit=50))\n",
    "    \n",
    "    set.seed(123)\n",
    "    gbmod <- gbm(Outcome ~ ., data= traindat, n.trees= 100,\n",
    "                  distribution= \"bernoulli\", shrinkage= 0.03)\n",
    "    preds02 <- suppressMessages(predict(gbmod, newdata= traindat, type=\"response\"))\n",
    "    traindat$prob01 <- as.numeric(g03mod$fitted)\n",
    "    traindat$prob02 <- as.numeric(preds02)\n",
    "    \n",
    "    #############################\n",
    "    # Transform and scale training set data for the\n",
    "    # k-means model.\n",
    "    traindat$AST <- log(traindat$AST)\n",
    "    traindat$CK <- log(traindat$CK)\n",
    "    traindat$Daysrec <- sqrt(traindat$Daysrec)\n",
    "\n",
    "    traindat_scaled <- scale(traindat[, -1], center=TRUE, scale=TRUE)\n",
    "    centers <- attr(traindat_scaled, \"scaled:center\")\n",
    "    scales <- attr(traindat_scaled, \"scaled:scale\")\n",
    "    \n",
    "    #############################\n",
    "    # Apply weights to traindat.  The sqrt should have\n",
    "    # been taken in the calling function.\n",
    "    \n",
    "    cols <- names(wghts)\n",
    "    df2 <- t(t(traindat_scaled[, cols]) * as.numeric(wghts[cols]))\n",
    "    traindat_wghts <- as.data.frame(df2, row.names=rownames(traindat))\n",
    "    colnames(traindat_wghts) <- cols\n",
    "    \n",
    "       \n",
    "    #############################\n",
    "    # Prepare valdat.\n",
    "    \n",
    "    # Compute prob01 and prob02.\n",
    "    preds01_b <- predict(g03mod, newdata=valdat)\n",
    "    preds02_b <- suppressMessages(predict(gbmod, newdata= valdat, type=\"response\"))\n",
    "    valdat$prob01 <- as.numeric(preds01_b)\n",
    "    valdat$prob02 <- as.numeric(preds02_b)\n",
    "    \n",
    "    # Transform and scale valdat.\n",
    "    valdat$AST <- log(valdat$AST)\n",
    "    valdat$CK <- log(valdat$CK)\n",
    "    valdat$Daysrec <- sqrt(valdat$Daysrec)\n",
    "\n",
    "    valdat_scaled <- scale(valdat[, -1], center=centers, scale=scales)\n",
    "    valdat_scaled <- as.data.frame(valdat_scaled, row.names=rownames(valdat))\n",
    "    \n",
    "    # Apply weights to valdat.\n",
    "    df2 <- t(t(valdat_scaled[, cols]) * as.numeric(wghts[cols]))\n",
    "    valdat_wghts <- as.data.frame(df2, row.names=rownames(valdat))\n",
    "    colnames(valdat_wghts) <- cols\n",
    "    \n",
    "    \n",
    "    #############################\n",
    "    # Construct k-means model.\n",
    "    \n",
    "    kmod <- suppressWarnings(kmeans(traindat_wghts, 2, iter.max = 50, nstart=15))\n",
    "    \n",
    "    # See how the clusters are associated with Outcome.\n",
    "    dfout <- as.data.frame(cbind(traindat$Outcome, kmod$cluster),\n",
    "                           row.names=rownames(traindat))\n",
    "    colnames(dfout) <- c(\"Outcome\", \"cluster\")\n",
    "    \n",
    "    c1_to_Outcome1 <- c1_toLevel_1(dfout)\n",
    "    \n",
    "    #############################\n",
    "    # Apply the k-means model to valdat_wghts.\n",
    "    \n",
    "    # Each element of the following list is a row of valdat_wghts.\n",
    "    valdat_asList <- split(valdat_wghts[, colnames(kmod$centers)],\n",
    "                           seq(nrow(valdat_wghts)))\n",
    "    \n",
    "    ctr_list <- vector(\"list\", length= nrow(valdat))\n",
    "    for(i in 1:nrow(valdat)) {\n",
    "        \n",
    "        ctr_list[[i]] <- kmod$centers\n",
    "    }\n",
    "    names(ctr_list) <- rownames(valdat)\n",
    "    \n",
    "    \n",
    "    # Get the predictions for the validation set.\n",
    "    cluster_assgns <- mcmapply(getCluster, valdat_asList, ctr_list,\n",
    "                               SIMPLIFY=TRUE, mc.cores=6)\n",
    "    \n",
    "    valdat_wghts$cluster <- as.numeric(cluster_assgns)\n",
    "    \n",
    "    valdat_wghts$pred_Outcome <- NA\n",
    "    if(c1_to_Outcome1) {\n",
    "        valdat_wghts[which(valdat_wghts$cluster==1),]$pred_Outcome <- 1\n",
    "        valdat_wghts[which(valdat_wghts$cluster==2),]$pred_Outcome <- 0\n",
    "    } else {\n",
    "        valdat_wghts[which(valdat_wghts$cluster==1),]$pred_Outcome <- 0\n",
    "        valdat_wghts[which(valdat_wghts$cluster==2),]$pred_Outcome <- 1\n",
    "    }\n",
    "    \n",
    "    # Generate confusion matrix for the k-means clusters and\n",
    "    # the corresponding f-score.\n",
    "    preds <- as.factor(valdat_wghts$pred_Outcome)\n",
    "    names(preds) <- rownames(valdat)\n",
    "    ans <- get_confusion(preds, valdat[, \"Outcome\", drop=FALSE])\n",
    "\n",
    "    # The result returned is a Type2 score (which is a mixture\n",
    "    # of accuracy and f-score).\n",
    "    mat <- as.matrix(ans[[1]])\n",
    "    percent_correct <- sum(diag(mat))/floor(sum(mat))\n",
    "    result <- round((0.4 * percent_correct + 0.6 * ans[[2]]), 6)\n",
    "    return(result)\n",
    "}\n"
   ]
  },
  {
   "cell_type": "code",
   "execution_count": 59,
   "metadata": {},
   "outputs": [],
   "source": [
    "# This function is called from gridSearch07.\n",
    "\n",
    "get_tot.withinss_g03gb <- function(traindat, valdat, wghts) {\n",
    "    \n",
    "    g03mod <- suppressWarnings(glm(Outcome ~ Daysrec + CK + I(log(AST)),\n",
    "                  data= traindat, family= binomial, singular.ok=TRUE,\n",
    "                  epsilon= 1e-7, maxit=50))\n",
    "    \n",
    "    set.seed(123)\n",
    "    gbmod <- gbm(Outcome ~ ., data= traindat, n.trees= 100,\n",
    "                  distribution= \"bernoulli\", shrinkage= 0.03)\n",
    "    preds02 <- suppressMessages(predict(gbmod, newdata= traindat, type=\"response\"))\n",
    "    traindat$prob01 <- as.numeric(g03mod$fitted)\n",
    "    traindat$prob02 <- as.numeric(preds02)\n",
    "    \n",
    "    # Scale training set data.\n",
    "    traindat_scaled <- scale(traindat[, -1], center=TRUE, scale=TRUE)\n",
    "    centers <- attr(traindat_scaled, \"scaled:center\")\n",
    "    scales <- attr(traindat_scaled, \"scaled:scale\")\n",
    "    \n",
    "    #############################\n",
    "    # Prepare valdat.\n",
    "    \n",
    "    preds02_b <- suppressMessages(predict(gbmod, newdata= valdat, type=\"response\"))\n",
    "    valdat$prob01 <- as.numeric(predict(g03mod, newdata=valdat))\n",
    "    valdat$prob02 <- as.numeric(preds02_b) \n",
    "    \n",
    "    # Scale valdat.\n",
    "    valdat_scaled <- scale(valdat[, -1], center=centers, scale=scales)\n",
    "    \n",
    "    # Move data between 0 and 1.  This is done so that the \n",
    "    # optimal weights do not depend so much on the ranges of\n",
    "    # the variables.  [** FIXME: apply range02 here.  **]\n",
    "    cols <- names(wghts)\n",
    "    valdat_scaled02 <- apply(valdat_scaled, MARGIN=2, range01)\n",
    "    colnames(valdat_scaled02) <- cols\n",
    "    \n",
    "    # Apply weights to valdat.\n",
    "    valdat_wghts <- t(t(valdat_scaled02[, cols]) * as.numeric(wghts[cols]))\n",
    "    \n",
    "    # Construct k-means model on valdat to get tot.withinss.\n",
    "    kmod <- suppressWarnings(kmeans(valdat_wghts, 2, iter.max = 50, nstart=15))\n",
    "    \n",
    "    return(kmod$tot.withinss)\n",
    "}\n"
   ]
  },
  {
   "cell_type": "code",
   "execution_count": 61,
   "metadata": {},
   "outputs": [
    {
     "data": {
      "text/html": [
       "<style>\n",
       ".list-inline {list-style: none; margin:0; padding: 0}\n",
       ".list-inline>li {display: inline-block}\n",
       ".list-inline>li:not(:last-child)::after {content: \"\\00b7\"; padding: 0 .5ex}\n",
       "</style>\n",
       "<ol class=list-inline><li>8801</li><li>5</li></ol>\n"
      ],
      "text/latex": [
       "\\begin{enumerate*}\n",
       "\\item 8801\n",
       "\\item 5\n",
       "\\end{enumerate*}\n"
      ],
      "text/markdown": [
       "1. 8801\n",
       "2. 5\n",
       "\n",
       "\n"
      ],
      "text/plain": [
       "[1] 8801    5"
      ]
     },
     "metadata": {},
     "output_type": "display_data"
    }
   ],
   "source": [
    "# There are 5 parameter lists to work with.  The best\n",
    "# approach, perhaps, is to start by exploring the \n",
    "# region around the space where all parameters have an \n",
    "# equal weight---in this case, a weight of 0.20.\n",
    "\n",
    "lst <- vector(\"list\", length= 5)\n",
    "names(lst) <- c(\"AST\",\"CK\",\"Daysrec\",\"prob01\",\"prob02\")\n",
    "\n",
    "lst[[1]] <- lst[[2]] <- lst[[3]] <- lst[[4]] <- lst[[5]] <- seq(0.10, 0.30, by=0.02)\n",
    "\n",
    "start <- Sys.time()\n",
    "dfc01 <- generate_combs(lst)\n",
    "stop <- Sys.time()\n",
    "# round(stop - start, 2)\n",
    "\n",
    "dim(dfc01)\n",
    "#  8801     5\n"
   ]
  },
  {
   "cell_type": "code",
   "execution_count": 62,
   "metadata": {},
   "outputs": [
    {
     "data": {
      "text/html": [
       "<table>\n",
       "<caption>A data.frame: 6 × 5</caption>\n",
       "<thead>\n",
       "\t<tr><th></th><th scope=col>AST</th><th scope=col>CK</th><th scope=col>Daysrec</th><th scope=col>prob01</th><th scope=col>prob02</th></tr>\n",
       "\t<tr><th></th><th scope=col>&lt;dbl&gt;</th><th scope=col>&lt;dbl&gt;</th><th scope=col>&lt;dbl&gt;</th><th scope=col>&lt;dbl&gt;</th><th scope=col>&lt;dbl&gt;</th></tr>\n",
       "</thead>\n",
       "<tbody>\n",
       "\t<tr><th scope=row>47656</th><td>0.16</td><td>0.28</td><td>0.26</td><td>0.14</td><td>0.16</td></tr>\n",
       "\t<tr><th scope=row>94566</th><td>0.28</td><td>0.20</td><td>0.10</td><td>0.20</td><td>0.22</td></tr>\n",
       "\t<tr><th scope=row>26846</th><td>0.20</td><td>0.28</td><td>0.12</td><td>0.28</td><td>0.12</td></tr>\n",
       "\t<tr><th scope=row>10006</th><td>0.22</td><td>0.24</td><td>0.20</td><td>0.24</td><td>0.10</td></tr>\n",
       "\t<tr><th scope=row>136376</th><td>0.26</td><td>0.10</td><td>0.20</td><td>0.16</td><td>0.28</td></tr>\n",
       "\t<tr><th scope=row>73086</th><td>0.12</td><td>0.10</td><td>0.30</td><td>0.30</td><td>0.18</td></tr>\n",
       "</tbody>\n",
       "</table>\n"
      ],
      "text/latex": [
       "A data.frame: 6 × 5\n",
       "\\begin{tabular}{r|lllll}\n",
       "  & AST & CK & Daysrec & prob01 & prob02\\\\\n",
       "  & <dbl> & <dbl> & <dbl> & <dbl> & <dbl>\\\\\n",
       "\\hline\n",
       "\t47656 & 0.16 & 0.28 & 0.26 & 0.14 & 0.16\\\\\n",
       "\t94566 & 0.28 & 0.20 & 0.10 & 0.20 & 0.22\\\\\n",
       "\t26846 & 0.20 & 0.28 & 0.12 & 0.28 & 0.12\\\\\n",
       "\t10006 & 0.22 & 0.24 & 0.20 & 0.24 & 0.10\\\\\n",
       "\t136376 & 0.26 & 0.10 & 0.20 & 0.16 & 0.28\\\\\n",
       "\t73086 & 0.12 & 0.10 & 0.30 & 0.30 & 0.18\\\\\n",
       "\\end{tabular}\n"
      ],
      "text/markdown": [
       "\n",
       "A data.frame: 6 × 5\n",
       "\n",
       "| <!--/--> | AST &lt;dbl&gt; | CK &lt;dbl&gt; | Daysrec &lt;dbl&gt; | prob01 &lt;dbl&gt; | prob02 &lt;dbl&gt; |\n",
       "|---|---|---|---|---|---|\n",
       "| 47656 | 0.16 | 0.28 | 0.26 | 0.14 | 0.16 |\n",
       "| 94566 | 0.28 | 0.20 | 0.10 | 0.20 | 0.22 |\n",
       "| 26846 | 0.20 | 0.28 | 0.12 | 0.28 | 0.12 |\n",
       "| 10006 | 0.22 | 0.24 | 0.20 | 0.24 | 0.10 |\n",
       "| 136376 | 0.26 | 0.10 | 0.20 | 0.16 | 0.28 |\n",
       "| 73086 | 0.12 | 0.10 | 0.30 | 0.30 | 0.18 |\n",
       "\n"
      ],
      "text/plain": [
       "       AST  CK   Daysrec prob01 prob02\n",
       "47656  0.16 0.28 0.26    0.14   0.16  \n",
       "94566  0.28 0.20 0.10    0.20   0.22  \n",
       "26846  0.20 0.28 0.12    0.28   0.12  \n",
       "10006  0.22 0.24 0.20    0.24   0.10  \n",
       "136376 0.26 0.10 0.20    0.16   0.28  \n",
       "73086  0.12 0.10 0.30    0.30   0.18  "
      ]
     },
     "metadata": {},
     "output_type": "display_data"
    }
   ],
   "source": [
    "# Test on a sample of 10.\n",
    "\n",
    "set.seed(42)\n",
    "smp <- sample(rownames(dfc01), 10, replace=FALSE)\n",
    "tst_params <- dfc01[smp,]\n",
    "head(tst_params)\n"
   ]
  },
  {
   "cell_type": "code",
   "execution_count": null,
   "metadata": {},
   "outputs": [],
   "source": [
    "# Find the best weights of those in tst_params.\n",
    "\n",
    "set.seed(1233)\n",
    "seed_vector <- sample(1:9999, 11, replace=FALSE)\n",
    "\n",
    "start <- Sys.time()\n",
    "dat_result <- gridSearch07(seed_vector, dat, tst_params) \n",
    "stop <- Sys.time()\n",
    "round(stop - start, 2)\n",
    "# Time difference of 5.37 secs (for 10 rows)\n"
   ]
  },
  {
   "cell_type": "code",
   "execution_count": null,
   "metadata": {},
   "outputs": [],
   "source": [
    "best_params <- dat_result[which(dat_result$tot.withinss == \n",
    "                                min(dat_result$tot.withinss, na.rm=TRUE)),]$row\n",
    "length(best_params)\n",
    "\n",
    "best_tot.withinss <- round(dat_result[which(dat_result$tot.withinss == \n",
    "                                min(dat_result$tot.withinss, na.rm=TRUE)),]$tot.withinss, 2)\n"
   ]
  },
  {
   "cell_type": "code",
   "execution_count": null,
   "metadata": {},
   "outputs": [],
   "source": [
    "dfc01[best_params,]\n",
    "\n",
    "best_tot.withinss\n"
   ]
  },
  {
   "cell_type": "code",
   "execution_count": 66,
   "metadata": {},
   "outputs": [
    {
     "data": {
      "text/html": [
       "'Start time: 2021-04-19 17:55:46'"
      ],
      "text/latex": [
       "'Start time: 2021-04-19 17:55:46'"
      ],
      "text/markdown": [
       "'Start time: 2021-04-19 17:55:46'"
      ],
      "text/plain": [
       "[1] \"Start time: 2021-04-19 17:55:46\""
      ]
     },
     "metadata": {},
     "output_type": "display_data"
    },
    {
     "data": {
      "text/plain": [
       "Time difference of 1.37 hours"
      ]
     },
     "metadata": {},
     "output_type": "display_data"
    }
   ],
   "source": [
    "# Find the best weights of those in dfc01 (8801 rows,\n",
    "# 11 seeds, 5 folds).  \n",
    "\n",
    "set.seed(1233)\n",
    "seed_vector <- sample(1:9999, 11, replace=FALSE)\n",
    "\n",
    "start <- Sys.time()\n",
    "paste(\"Start time: \", start, sep=\"\")\n",
    "dat_result <- gridSearch07(seed_vector, dat, dfc01) \n",
    "stop <- Sys.time()\n",
    "round(stop - start, 2)\n",
    "# Time difference of 1.37 hours  (= 0.56 secs/row; nstart=15)\n"
   ]
  },
  {
   "cell_type": "code",
   "execution_count": 67,
   "metadata": {},
   "outputs": [
    {
     "data": {
      "text/html": [
       "1"
      ],
      "text/latex": [
       "1"
      ],
      "text/markdown": [
       "1"
      ],
      "text/plain": [
       "[1] 1"
      ]
     },
     "metadata": {},
     "output_type": "display_data"
    }
   ],
   "source": [
    "best_params <- dat_result[which(dat_result$tot.withinss == \n",
    "                                min(dat_result$tot.withinss, na.rm=TRUE)),]$row\n",
    "length(best_params)\n",
    "\n",
    "best_tot.withinss <- round(dat_result[which(dat_result$tot.withinss == \n",
    "                                min(dat_result$tot.withinss, na.rm=TRUE)),]$tot.withinss, 4)\n"
   ]
  },
  {
   "cell_type": "code",
   "execution_count": 68,
   "metadata": {},
   "outputs": [
    {
     "data": {
      "text/html": [
       "<table>\n",
       "<caption>A data.frame: 1 × 5</caption>\n",
       "<thead>\n",
       "\t<tr><th></th><th scope=col>AST</th><th scope=col>CK</th><th scope=col>Daysrec</th><th scope=col>prob01</th><th scope=col>prob02</th></tr>\n",
       "\t<tr><th></th><th scope=col>&lt;dbl&gt;</th><th scope=col>&lt;dbl&gt;</th><th scope=col>&lt;dbl&gt;</th><th scope=col>&lt;dbl&gt;</th><th scope=col>&lt;dbl&gt;</th></tr>\n",
       "</thead>\n",
       "<tbody>\n",
       "\t<tr><th scope=row>13426</th><td>0.2</td><td>0.3</td><td>0.1</td><td>0.3</td><td>0.1</td></tr>\n",
       "</tbody>\n",
       "</table>\n"
      ],
      "text/latex": [
       "A data.frame: 1 × 5\n",
       "\\begin{tabular}{r|lllll}\n",
       "  & AST & CK & Daysrec & prob01 & prob02\\\\\n",
       "  & <dbl> & <dbl> & <dbl> & <dbl> & <dbl>\\\\\n",
       "\\hline\n",
       "\t13426 & 0.2 & 0.3 & 0.1 & 0.3 & 0.1\\\\\n",
       "\\end{tabular}\n"
      ],
      "text/markdown": [
       "\n",
       "A data.frame: 1 × 5\n",
       "\n",
       "| <!--/--> | AST &lt;dbl&gt; | CK &lt;dbl&gt; | Daysrec &lt;dbl&gt; | prob01 &lt;dbl&gt; | prob02 &lt;dbl&gt; |\n",
       "|---|---|---|---|---|---|\n",
       "| 13426 | 0.2 | 0.3 | 0.1 | 0.3 | 0.1 |\n",
       "\n"
      ],
      "text/plain": [
       "      AST CK  Daysrec prob01 prob02\n",
       "13426 0.2 0.3 0.1     0.3    0.1   "
      ]
     },
     "metadata": {},
     "output_type": "display_data"
    },
    {
     "data": {
      "text/html": [
       "1.9178"
      ],
      "text/latex": [
       "1.9178"
      ],
      "text/markdown": [
       "1.9178"
      ],
      "text/plain": [
       "[1] 1.9178"
      ]
     },
     "metadata": {},
     "output_type": "display_data"
    }
   ],
   "source": [
    "dfc01[best_params,]\n",
    "#       \t AST \t  CK  \tDaysrec \tprob01  \tprob02\n",
    "\n",
    "# 13426 \t0.20 \t0.30\t   0.10 \t  0.30  \t  0.10\n",
    "\n",
    "\n",
    "best_tot.withinss\n",
    "# 1.9178\n"
   ]
  },
  {
   "cell_type": "code",
   "execution_count": 69,
   "metadata": {},
   "outputs": [
    {
     "data": {
      "text/html": [
       "<table>\n",
       "<caption>A data.frame: 6 × 2</caption>\n",
       "<thead>\n",
       "\t<tr><th></th><th scope=col>row</th><th scope=col>tot.withinss</th></tr>\n",
       "\t<tr><th></th><th scope=col>&lt;chr&gt;</th><th scope=col>&lt;dbl&gt;</th></tr>\n",
       "</thead>\n",
       "<tbody>\n",
       "\t<tr><th scope=row>591</th><td>13426</td><td>1.9178</td></tr>\n",
       "\t<tr><th scope=row>590</th><td>13416</td><td>1.9231</td></tr>\n",
       "\t<tr><th scope=row>500</th><td>12096</td><td>1.9249</td></tr>\n",
       "\t<tr><th scope=row>589</th><td>13406</td><td>1.9290</td></tr>\n",
       "\t<tr><th scope=row>499</th><td>12086</td><td>1.9309</td></tr>\n",
       "\t<tr><th scope=row>412</th><td>10766</td><td>1.9319</td></tr>\n",
       "</tbody>\n",
       "</table>\n"
      ],
      "text/latex": [
       "A data.frame: 6 × 2\n",
       "\\begin{tabular}{r|ll}\n",
       "  & row & tot.withinss\\\\\n",
       "  & <chr> & <dbl>\\\\\n",
       "\\hline\n",
       "\t591 & 13426 & 1.9178\\\\\n",
       "\t590 & 13416 & 1.9231\\\\\n",
       "\t500 & 12096 & 1.9249\\\\\n",
       "\t589 & 13406 & 1.9290\\\\\n",
       "\t499 & 12086 & 1.9309\\\\\n",
       "\t412 & 10766 & 1.9319\\\\\n",
       "\\end{tabular}\n"
      ],
      "text/markdown": [
       "\n",
       "A data.frame: 6 × 2\n",
       "\n",
       "| <!--/--> | row &lt;chr&gt; | tot.withinss &lt;dbl&gt; |\n",
       "|---|---|---|\n",
       "| 591 | 13426 | 1.9178 |\n",
       "| 590 | 13416 | 1.9231 |\n",
       "| 500 | 12096 | 1.9249 |\n",
       "| 589 | 13406 | 1.9290 |\n",
       "| 499 | 12086 | 1.9309 |\n",
       "| 412 | 10766 | 1.9319 |\n",
       "\n"
      ],
      "text/plain": [
       "    row   tot.withinss\n",
       "591 13426 1.9178      \n",
       "590 13416 1.9231      \n",
       "500 12096 1.9249      \n",
       "589 13406 1.9290      \n",
       "499 12086 1.9309      \n",
       "412 10766 1.9319      "
      ]
     },
     "metadata": {},
     "output_type": "display_data"
    }
   ],
   "source": [
    "dat_result <- dat_result[order(dat_result$tot.withinss, decreasing=FALSE),]\n",
    "top_six <- head(dat_result$row)\n",
    "head(dat_result)\n"
   ]
  },
  {
   "cell_type": "code",
   "execution_count": 70,
   "metadata": {},
   "outputs": [
    {
     "data": {
      "text/html": [
       "<table>\n",
       "<caption>A data.frame: 6 × 5</caption>\n",
       "<thead>\n",
       "\t<tr><th></th><th scope=col>AST</th><th scope=col>CK</th><th scope=col>Daysrec</th><th scope=col>prob01</th><th scope=col>prob02</th></tr>\n",
       "\t<tr><th></th><th scope=col>&lt;dbl&gt;</th><th scope=col>&lt;dbl&gt;</th><th scope=col>&lt;dbl&gt;</th><th scope=col>&lt;dbl&gt;</th><th scope=col>&lt;dbl&gt;</th></tr>\n",
       "</thead>\n",
       "<tbody>\n",
       "\t<tr><th scope=row>13426</th><td>0.20</td><td>0.30</td><td>0.1</td><td>0.30</td><td>0.1</td></tr>\n",
       "\t<tr><th scope=row>13416</th><td>0.22</td><td>0.28</td><td>0.1</td><td>0.30</td><td>0.1</td></tr>\n",
       "\t<tr><th scope=row>12096</th><td>0.22</td><td>0.30</td><td>0.1</td><td>0.28</td><td>0.1</td></tr>\n",
       "\t<tr><th scope=row>13406</th><td>0.24</td><td>0.26</td><td>0.1</td><td>0.30</td><td>0.1</td></tr>\n",
       "\t<tr><th scope=row>12086</th><td>0.24</td><td>0.28</td><td>0.1</td><td>0.28</td><td>0.1</td></tr>\n",
       "\t<tr><th scope=row>10766</th><td>0.24</td><td>0.30</td><td>0.1</td><td>0.26</td><td>0.1</td></tr>\n",
       "</tbody>\n",
       "</table>\n"
      ],
      "text/latex": [
       "A data.frame: 6 × 5\n",
       "\\begin{tabular}{r|lllll}\n",
       "  & AST & CK & Daysrec & prob01 & prob02\\\\\n",
       "  & <dbl> & <dbl> & <dbl> & <dbl> & <dbl>\\\\\n",
       "\\hline\n",
       "\t13426 & 0.20 & 0.30 & 0.1 & 0.30 & 0.1\\\\\n",
       "\t13416 & 0.22 & 0.28 & 0.1 & 0.30 & 0.1\\\\\n",
       "\t12096 & 0.22 & 0.30 & 0.1 & 0.28 & 0.1\\\\\n",
       "\t13406 & 0.24 & 0.26 & 0.1 & 0.30 & 0.1\\\\\n",
       "\t12086 & 0.24 & 0.28 & 0.1 & 0.28 & 0.1\\\\\n",
       "\t10766 & 0.24 & 0.30 & 0.1 & 0.26 & 0.1\\\\\n",
       "\\end{tabular}\n"
      ],
      "text/markdown": [
       "\n",
       "A data.frame: 6 × 5\n",
       "\n",
       "| <!--/--> | AST &lt;dbl&gt; | CK &lt;dbl&gt; | Daysrec &lt;dbl&gt; | prob01 &lt;dbl&gt; | prob02 &lt;dbl&gt; |\n",
       "|---|---|---|---|---|---|\n",
       "| 13426 | 0.20 | 0.30 | 0.1 | 0.30 | 0.1 |\n",
       "| 13416 | 0.22 | 0.28 | 0.1 | 0.30 | 0.1 |\n",
       "| 12096 | 0.22 | 0.30 | 0.1 | 0.28 | 0.1 |\n",
       "| 13406 | 0.24 | 0.26 | 0.1 | 0.30 | 0.1 |\n",
       "| 12086 | 0.24 | 0.28 | 0.1 | 0.28 | 0.1 |\n",
       "| 10766 | 0.24 | 0.30 | 0.1 | 0.26 | 0.1 |\n",
       "\n"
      ],
      "text/plain": [
       "      AST  CK   Daysrec prob01 prob02\n",
       "13426 0.20 0.30 0.1     0.30   0.1   \n",
       "13416 0.22 0.28 0.1     0.30   0.1   \n",
       "12096 0.22 0.30 0.1     0.28   0.1   \n",
       "13406 0.24 0.26 0.1     0.30   0.1   \n",
       "12086 0.24 0.28 0.1     0.28   0.1   \n",
       "10766 0.24 0.30 0.1     0.26   0.1   "
      ]
     },
     "metadata": {},
     "output_type": "display_data"
    }
   ],
   "source": [
    "dfc01[top_six,]\n"
   ]
  },
  {
   "cell_type": "code",
   "execution_count": 71,
   "metadata": {},
   "outputs": [
    {
     "data": {
      "text/html": [
       "<style>\n",
       ".list-inline {list-style: none; margin:0; padding: 0}\n",
       ".list-inline>li {display: inline-block}\n",
       ".list-inline>li:not(:last-child)::after {content: \"\\00b7\"; padding: 0 .5ex}\n",
       "</style>\n",
       "<ol class=list-inline><li>676</li><li>5</li></ol>\n"
      ],
      "text/latex": [
       "\\begin{enumerate*}\n",
       "\\item 676\n",
       "\\item 5\n",
       "\\end{enumerate*}\n"
      ],
      "text/markdown": [
       "1. 676\n",
       "2. 5\n",
       "\n",
       "\n"
      ],
      "text/plain": [
       "[1] 676   5"
      ]
     },
     "metadata": {},
     "output_type": "display_data"
    }
   ],
   "source": [
    "# Refine the search.\n",
    "\n",
    "lst <- vector(\"list\", length= 5)\n",
    "names(lst) <- c(\"AST\",\"CK\",\"Daysrec\",\"prob01\",\"prob02\")\n",
    "\n",
    "lst[[1]] <- seq(0.12, 0.20, by= 0.02)\n",
    "lst[[2]] <- seq(0.30, 0.40, by= 0.02)\n",
    "lst[[3]] <- seq(0.02, 0.12, by= 0.02)\n",
    "lst[[4]] <- seq(0.30, 0.40, by=0.02)\n",
    "lst[[5]] <- seq(0.02, 0.12, by=0.02)\n",
    "\n",
    "start <- Sys.time()\n",
    "dfc02 <- generate_combs(lst)\n",
    "stop <- Sys.time()\n",
    "# round(stop - start, 2)\n",
    "\n",
    "dim(dfc02)\n",
    "#  676     5\n"
   ]
  },
  {
   "cell_type": "code",
   "execution_count": 72,
   "metadata": {},
   "outputs": [
    {
     "data": {
      "text/html": [
       "'Start time: 2021-04-19 20:09:09'"
      ],
      "text/latex": [
       "'Start time: 2021-04-19 20:09:09'"
      ],
      "text/markdown": [
       "'Start time: 2021-04-19 20:09:09'"
      ],
      "text/plain": [
       "[1] \"Start time: 2021-04-19 20:09:09\""
      ]
     },
     "metadata": {},
     "output_type": "display_data"
    },
    {
     "data": {
      "text/plain": [
       "Time difference of 6.45 mins"
      ]
     },
     "metadata": {},
     "output_type": "display_data"
    }
   ],
   "source": [
    "# Find the best weights of those in dfc02 (676 rows,\n",
    "# 11 seeds, 5 folds).  \n",
    "\n",
    "set.seed(1233)\n",
    "seed_vector <- sample(1:9999, 11, replace=FALSE)\n",
    "\n",
    "start <- Sys.time()\n",
    "paste(\"Start time: \", start, sep=\"\")\n",
    "dat_result <- gridSearch07(seed_vector, dat, dfc02) \n",
    "stop <- Sys.time()\n",
    "round(stop - start, 2)\n",
    "# Time difference of 6.45 mins  (= 0.57 secs/row; nstart=15)\n"
   ]
  },
  {
   "cell_type": "code",
   "execution_count": 73,
   "metadata": {},
   "outputs": [
    {
     "data": {
      "text/html": [
       "1"
      ],
      "text/latex": [
       "1"
      ],
      "text/markdown": [
       "1"
      ],
      "text/plain": [
       "[1] 1"
      ]
     },
     "metadata": {},
     "output_type": "display_data"
    }
   ],
   "source": [
    "best_params <- dat_result[which(dat_result$tot.withinss == \n",
    "                                min(dat_result$tot.withinss, na.rm=TRUE)),]$row\n",
    "length(best_params)\n",
    "\n",
    "best_tot.withinss <- round(dat_result[which(dat_result$tot.withinss == \n",
    "                                min(dat_result$tot.withinss, na.rm=TRUE)),]$tot.withinss, 4)\n"
   ]
  },
  {
   "cell_type": "code",
   "execution_count": 74,
   "metadata": {},
   "outputs": [
    {
     "data": {
      "text/html": [
       "<table>\n",
       "<caption>A data.frame: 1 × 5</caption>\n",
       "<thead>\n",
       "\t<tr><th></th><th scope=col>AST</th><th scope=col>CK</th><th scope=col>Daysrec</th><th scope=col>prob01</th><th scope=col>prob02</th></tr>\n",
       "\t<tr><th></th><th scope=col>&lt;dbl&gt;</th><th scope=col>&lt;dbl&gt;</th><th scope=col>&lt;dbl&gt;</th><th scope=col>&lt;dbl&gt;</th><th scope=col>&lt;dbl&gt;</th></tr>\n",
       "</thead>\n",
       "<tbody>\n",
       "\t<tr><th scope=row>928</th><td>0.16</td><td>0.4</td><td>0.02</td><td>0.4</td><td>0.02</td></tr>\n",
       "</tbody>\n",
       "</table>\n"
      ],
      "text/latex": [
       "A data.frame: 1 × 5\n",
       "\\begin{tabular}{r|lllll}\n",
       "  & AST & CK & Daysrec & prob01 & prob02\\\\\n",
       "  & <dbl> & <dbl> & <dbl> & <dbl> & <dbl>\\\\\n",
       "\\hline\n",
       "\t928 & 0.16 & 0.4 & 0.02 & 0.4 & 0.02\\\\\n",
       "\\end{tabular}\n"
      ],
      "text/markdown": [
       "\n",
       "A data.frame: 1 × 5\n",
       "\n",
       "| <!--/--> | AST &lt;dbl&gt; | CK &lt;dbl&gt; | Daysrec &lt;dbl&gt; | prob01 &lt;dbl&gt; | prob02 &lt;dbl&gt; |\n",
       "|---|---|---|---|---|---|\n",
       "| 928 | 0.16 | 0.4 | 0.02 | 0.4 | 0.02 |\n",
       "\n"
      ],
      "text/plain": [
       "    AST  CK  Daysrec prob01 prob02\n",
       "928 0.16 0.4 0.02    0.4    0.02  "
      ]
     },
     "metadata": {},
     "output_type": "display_data"
    },
    {
     "data": {
      "text/html": [
       "1.0875"
      ],
      "text/latex": [
       "1.0875"
      ],
      "text/markdown": [
       "1.0875"
      ],
      "text/plain": [
       "[1] 1.0875"
      ]
     },
     "metadata": {},
     "output_type": "display_data"
    }
   ],
   "source": [
    "dfc02[best_params,]\n",
    "#       \t AST \t  CK  \tDaysrec \tprob01  \tprob02\n",
    "\n",
    "#   928 \t0.16 \t0.40\t   0.02 \t  0.40  \t  0.02\n",
    "\n",
    "\n",
    "best_tot.withinss\n",
    "# 1.0875\n"
   ]
  },
  {
   "cell_type": "code",
   "execution_count": 75,
   "metadata": {},
   "outputs": [
    {
     "data": {
      "text/html": [
       "<table>\n",
       "<caption>A data.frame: 6 × 2</caption>\n",
       "<thead>\n",
       "\t<tr><th></th><th scope=col>row</th><th scope=col>tot.withinss</th></tr>\n",
       "\t<tr><th></th><th scope=col>&lt;chr&gt;</th><th scope=col>&lt;dbl&gt;</th></tr>\n",
       "</thead>\n",
       "<tbody>\n",
       "\t<tr><th scope=row>77</th><td>928</td><td>1.0875</td></tr>\n",
       "\t<tr><th scope=row>53</th><td>749</td><td>1.1023</td></tr>\n",
       "\t<tr><th scope=row>76</th><td>924</td><td>1.1031</td></tr>\n",
       "\t<tr><th scope=row>32</th><td>570</td><td>1.1158</td></tr>\n",
       "\t<tr><th scope=row>52</th><td>745</td><td>1.1162</td></tr>\n",
       "\t<tr><th scope=row>75</th><td>920</td><td>1.1167</td></tr>\n",
       "</tbody>\n",
       "</table>\n"
      ],
      "text/latex": [
       "A data.frame: 6 × 2\n",
       "\\begin{tabular}{r|ll}\n",
       "  & row & tot.withinss\\\\\n",
       "  & <chr> & <dbl>\\\\\n",
       "\\hline\n",
       "\t77 & 928 & 1.0875\\\\\n",
       "\t53 & 749 & 1.1023\\\\\n",
       "\t76 & 924 & 1.1031\\\\\n",
       "\t32 & 570 & 1.1158\\\\\n",
       "\t52 & 745 & 1.1162\\\\\n",
       "\t75 & 920 & 1.1167\\\\\n",
       "\\end{tabular}\n"
      ],
      "text/markdown": [
       "\n",
       "A data.frame: 6 × 2\n",
       "\n",
       "| <!--/--> | row &lt;chr&gt; | tot.withinss &lt;dbl&gt; |\n",
       "|---|---|---|\n",
       "| 77 | 928 | 1.0875 |\n",
       "| 53 | 749 | 1.1023 |\n",
       "| 76 | 924 | 1.1031 |\n",
       "| 32 | 570 | 1.1158 |\n",
       "| 52 | 745 | 1.1162 |\n",
       "| 75 | 920 | 1.1167 |\n",
       "\n"
      ],
      "text/plain": [
       "   row tot.withinss\n",
       "77 928 1.0875      \n",
       "53 749 1.1023      \n",
       "76 924 1.1031      \n",
       "32 570 1.1158      \n",
       "52 745 1.1162      \n",
       "75 920 1.1167      "
      ]
     },
     "metadata": {},
     "output_type": "display_data"
    }
   ],
   "source": [
    "dat_result <- dat_result[order(dat_result$tot.withinss, decreasing=FALSE),]\n",
    "top_six <- head(dat_result$row)\n",
    "head(dat_result)\n"
   ]
  },
  {
   "cell_type": "code",
   "execution_count": 76,
   "metadata": {},
   "outputs": [
    {
     "data": {
      "text/html": [
       "<table>\n",
       "<caption>A data.frame: 6 × 5</caption>\n",
       "<thead>\n",
       "\t<tr><th></th><th scope=col>AST</th><th scope=col>CK</th><th scope=col>Daysrec</th><th scope=col>prob01</th><th scope=col>prob02</th></tr>\n",
       "\t<tr><th></th><th scope=col>&lt;dbl&gt;</th><th scope=col>&lt;dbl&gt;</th><th scope=col>&lt;dbl&gt;</th><th scope=col>&lt;dbl&gt;</th><th scope=col>&lt;dbl&gt;</th></tr>\n",
       "</thead>\n",
       "<tbody>\n",
       "\t<tr><th scope=row>928</th><td>0.16</td><td>0.40</td><td>0.02</td><td>0.40</td><td>0.02</td></tr>\n",
       "\t<tr><th scope=row>749</th><td>0.18</td><td>0.40</td><td>0.02</td><td>0.38</td><td>0.02</td></tr>\n",
       "\t<tr><th scope=row>924</th><td>0.18</td><td>0.38</td><td>0.02</td><td>0.40</td><td>0.02</td></tr>\n",
       "\t<tr><th scope=row>570</th><td>0.20</td><td>0.40</td><td>0.02</td><td>0.36</td><td>0.02</td></tr>\n",
       "\t<tr><th scope=row>745</th><td>0.20</td><td>0.38</td><td>0.02</td><td>0.38</td><td>0.02</td></tr>\n",
       "\t<tr><th scope=row>920</th><td>0.20</td><td>0.36</td><td>0.02</td><td>0.40</td><td>0.02</td></tr>\n",
       "</tbody>\n",
       "</table>\n"
      ],
      "text/latex": [
       "A data.frame: 6 × 5\n",
       "\\begin{tabular}{r|lllll}\n",
       "  & AST & CK & Daysrec & prob01 & prob02\\\\\n",
       "  & <dbl> & <dbl> & <dbl> & <dbl> & <dbl>\\\\\n",
       "\\hline\n",
       "\t928 & 0.16 & 0.40 & 0.02 & 0.40 & 0.02\\\\\n",
       "\t749 & 0.18 & 0.40 & 0.02 & 0.38 & 0.02\\\\\n",
       "\t924 & 0.18 & 0.38 & 0.02 & 0.40 & 0.02\\\\\n",
       "\t570 & 0.20 & 0.40 & 0.02 & 0.36 & 0.02\\\\\n",
       "\t745 & 0.20 & 0.38 & 0.02 & 0.38 & 0.02\\\\\n",
       "\t920 & 0.20 & 0.36 & 0.02 & 0.40 & 0.02\\\\\n",
       "\\end{tabular}\n"
      ],
      "text/markdown": [
       "\n",
       "A data.frame: 6 × 5\n",
       "\n",
       "| <!--/--> | AST &lt;dbl&gt; | CK &lt;dbl&gt; | Daysrec &lt;dbl&gt; | prob01 &lt;dbl&gt; | prob02 &lt;dbl&gt; |\n",
       "|---|---|---|---|---|---|\n",
       "| 928 | 0.16 | 0.40 | 0.02 | 0.40 | 0.02 |\n",
       "| 749 | 0.18 | 0.40 | 0.02 | 0.38 | 0.02 |\n",
       "| 924 | 0.18 | 0.38 | 0.02 | 0.40 | 0.02 |\n",
       "| 570 | 0.20 | 0.40 | 0.02 | 0.36 | 0.02 |\n",
       "| 745 | 0.20 | 0.38 | 0.02 | 0.38 | 0.02 |\n",
       "| 920 | 0.20 | 0.36 | 0.02 | 0.40 | 0.02 |\n",
       "\n"
      ],
      "text/plain": [
       "    AST  CK   Daysrec prob01 prob02\n",
       "928 0.16 0.40 0.02    0.40   0.02  \n",
       "749 0.18 0.40 0.02    0.38   0.02  \n",
       "924 0.18 0.38 0.02    0.40   0.02  \n",
       "570 0.20 0.40 0.02    0.36   0.02  \n",
       "745 0.20 0.38 0.02    0.38   0.02  \n",
       "920 0.20 0.36 0.02    0.40   0.02  "
      ]
     },
     "metadata": {},
     "output_type": "display_data"
    }
   ],
   "source": [
    "dfc02[top_six,]\n"
   ]
  },
  {
   "cell_type": "code",
   "execution_count": 77,
   "metadata": {},
   "outputs": [
    {
     "data": {
      "text/html": [
       "<style>\n",
       ".list-inline {list-style: none; margin:0; padding: 0}\n",
       ".list-inline>li {display: inline-block}\n",
       ".list-inline>li:not(:last-child)::after {content: \"\\00b7\"; padding: 0 .5ex}\n",
       "</style>\n",
       "<ol class=list-inline><li>180</li><li>5</li></ol>\n"
      ],
      "text/latex": [
       "\\begin{enumerate*}\n",
       "\\item 180\n",
       "\\item 5\n",
       "\\end{enumerate*}\n"
      ],
      "text/markdown": [
       "1. 180\n",
       "2. 5\n",
       "\n",
       "\n"
      ],
      "text/plain": [
       "[1] 180   5"
      ]
     },
     "metadata": {},
     "output_type": "display_data"
    }
   ],
   "source": [
    "# Refine the search.\n",
    "\n",
    "lst <- vector(\"list\", length= 5)\n",
    "names(lst) <- c(\"AST\",\"CK\",\"Daysrec\",\"prob01\",\"prob02\")\n",
    "\n",
    "lst[[1]] <- seq(0.10, 0.16, by= 0.01)\n",
    "lst[[2]] <- seq(0.40, 0.48, by= 0.01)\n",
    "lst[[3]] <- seq(0.02, 0.05, by= 0.01)\n",
    "lst[[4]] <- seq(0.40, 0.48, by=0.01)\n",
    "lst[[5]] <- seq(0.02, 0.05, by=0.01)\n",
    "\n",
    "start <- Sys.time()\n",
    "dfc03 <- generate_combs(lst)\n",
    "stop <- Sys.time()\n",
    "# round(stop - start, 2)\n",
    "\n",
    "dim(dfc03)\n",
    "#  180     5\n"
   ]
  },
  {
   "cell_type": "code",
   "execution_count": 78,
   "metadata": {},
   "outputs": [
    {
     "data": {
      "text/html": [
       "'Start time: 2021-04-19 20:21:49'"
      ],
      "text/latex": [
       "'Start time: 2021-04-19 20:21:49'"
      ],
      "text/markdown": [
       "'Start time: 2021-04-19 20:21:49'"
      ],
      "text/plain": [
       "[1] \"Start time: 2021-04-19 20:21:49\""
      ]
     },
     "metadata": {},
     "output_type": "display_data"
    },
    {
     "data": {
      "text/plain": [
       "Time difference of 1.61 mins"
      ]
     },
     "metadata": {},
     "output_type": "display_data"
    }
   ],
   "source": [
    "# Find the best weights of those in dfc03 (180 rows,\n",
    "# 11 seeds, 5 folds).  \n",
    "\n",
    "set.seed(1233)\n",
    "seed_vector <- sample(1:9999, 11, replace=FALSE)\n",
    "\n",
    "start <- Sys.time()\n",
    "paste(\"Start time: \", start, sep=\"\")\n",
    "dat_result <- gridSearch07(seed_vector, dat, dfc03) \n",
    "stop <- Sys.time()\n",
    "round(stop - start, 2)\n",
    "# Time difference of 1.61 mins  (= 0.54 secs/row; nstart=15)\n"
   ]
  },
  {
   "cell_type": "code",
   "execution_count": 79,
   "metadata": {},
   "outputs": [
    {
     "data": {
      "text/html": [
       "1"
      ],
      "text/latex": [
       "1"
      ],
      "text/markdown": [
       "1"
      ],
      "text/plain": [
       "[1] 1"
      ]
     },
     "metadata": {},
     "output_type": "display_data"
    }
   ],
   "source": [
    "best_params <- dat_result[which(dat_result$tot.withinss == \n",
    "                                min(dat_result$tot.withinss, na.rm=TRUE)),]$row\n",
    "length(best_params)\n",
    "\n",
    "best_tot.withinss <- round(dat_result[which(dat_result$tot.withinss == \n",
    "                                min(dat_result$tot.withinss, na.rm=TRUE)),]$tot.withinss, 4)\n"
   ]
  },
  {
   "cell_type": "code",
   "execution_count": 80,
   "metadata": {},
   "outputs": [
    {
     "data": {
      "text/html": [
       "<table>\n",
       "<caption>A data.frame: 1 × 5</caption>\n",
       "<thead>\n",
       "\t<tr><th></th><th scope=col>AST</th><th scope=col>CK</th><th scope=col>Daysrec</th><th scope=col>prob01</th><th scope=col>prob02</th></tr>\n",
       "\t<tr><th></th><th scope=col>&lt;dbl&gt;</th><th scope=col>&lt;dbl&gt;</th><th scope=col>&lt;dbl&gt;</th><th scope=col>&lt;dbl&gt;</th><th scope=col>&lt;dbl&gt;</th></tr>\n",
       "</thead>\n",
       "<tbody>\n",
       "\t<tr><th scope=row>43</th><td>0.1</td><td>0.46</td><td>0.02</td><td>0.4</td><td>0.02</td></tr>\n",
       "</tbody>\n",
       "</table>\n"
      ],
      "text/latex": [
       "A data.frame: 1 × 5\n",
       "\\begin{tabular}{r|lllll}\n",
       "  & AST & CK & Daysrec & prob01 & prob02\\\\\n",
       "  & <dbl> & <dbl> & <dbl> & <dbl> & <dbl>\\\\\n",
       "\\hline\n",
       "\t43 & 0.1 & 0.46 & 0.02 & 0.4 & 0.02\\\\\n",
       "\\end{tabular}\n"
      ],
      "text/markdown": [
       "\n",
       "A data.frame: 1 × 5\n",
       "\n",
       "| <!--/--> | AST &lt;dbl&gt; | CK &lt;dbl&gt; | Daysrec &lt;dbl&gt; | prob01 &lt;dbl&gt; | prob02 &lt;dbl&gt; |\n",
       "|---|---|---|---|---|---|\n",
       "| 43 | 0.1 | 0.46 | 0.02 | 0.4 | 0.02 |\n",
       "\n"
      ],
      "text/plain": [
       "   AST CK   Daysrec prob01 prob02\n",
       "43 0.1 0.46 0.02    0.4    0.02  "
      ]
     },
     "metadata": {},
     "output_type": "display_data"
    },
    {
     "data": {
      "text/html": [
       "1.0345"
      ],
      "text/latex": [
       "1.0345"
      ],
      "text/markdown": [
       "1.0345"
      ],
      "text/plain": [
       "[1] 1.0345"
      ]
     },
     "metadata": {},
     "output_type": "display_data"
    }
   ],
   "source": [
    "dfc03[best_params,]\n",
    "#       \t AST \t  CK  \tDaysrec \tprob01  \tprob02\n",
    "\n",
    "#   43  \t0.10 \t0.46\t   0.02 \t  0.40  \t  0.02\n",
    "\n",
    "\n",
    "best_tot.withinss\n",
    "# 1.0345\n"
   ]
  },
  {
   "cell_type": "code",
   "execution_count": 81,
   "metadata": {},
   "outputs": [
    {
     "data": {
      "text/html": [
       "<table>\n",
       "<caption>A data.frame: 6 × 2</caption>\n",
       "<thead>\n",
       "\t<tr><th></th><th scope=col>row</th><th scope=col>tot.withinss</th></tr>\n",
       "\t<tr><th></th><th scope=col>&lt;chr&gt;</th><th scope=col>&lt;dbl&gt;</th></tr>\n",
       "</thead>\n",
       "<tbody>\n",
       "\t<tr><th scope=row>7</th><td>43  </td><td>1.0345</td></tr>\n",
       "\t<tr><th scope=row>28</th><td>288 </td><td>1.0352</td></tr>\n",
       "\t<tr><th scope=row>45</th><td>533 </td><td>1.0358</td></tr>\n",
       "\t<tr><th scope=row>58</th><td>778 </td><td>1.0365</td></tr>\n",
       "\t<tr><th scope=row>67</th><td>1023</td><td>1.0371</td></tr>\n",
       "\t<tr><th scope=row>72</th><td>1268</td><td>1.0378</td></tr>\n",
       "</tbody>\n",
       "</table>\n"
      ],
      "text/latex": [
       "A data.frame: 6 × 2\n",
       "\\begin{tabular}{r|ll}\n",
       "  & row & tot.withinss\\\\\n",
       "  & <chr> & <dbl>\\\\\n",
       "\\hline\n",
       "\t7 & 43   & 1.0345\\\\\n",
       "\t28 & 288  & 1.0352\\\\\n",
       "\t45 & 533  & 1.0358\\\\\n",
       "\t58 & 778  & 1.0365\\\\\n",
       "\t67 & 1023 & 1.0371\\\\\n",
       "\t72 & 1268 & 1.0378\\\\\n",
       "\\end{tabular}\n"
      ],
      "text/markdown": [
       "\n",
       "A data.frame: 6 × 2\n",
       "\n",
       "| <!--/--> | row &lt;chr&gt; | tot.withinss &lt;dbl&gt; |\n",
       "|---|---|---|\n",
       "| 7 | 43   | 1.0345 |\n",
       "| 28 | 288  | 1.0352 |\n",
       "| 45 | 533  | 1.0358 |\n",
       "| 58 | 778  | 1.0365 |\n",
       "| 67 | 1023 | 1.0371 |\n",
       "| 72 | 1268 | 1.0378 |\n",
       "\n"
      ],
      "text/plain": [
       "   row  tot.withinss\n",
       "7  43   1.0345      \n",
       "28 288  1.0352      \n",
       "45 533  1.0358      \n",
       "58 778  1.0365      \n",
       "67 1023 1.0371      \n",
       "72 1268 1.0378      "
      ]
     },
     "metadata": {},
     "output_type": "display_data"
    }
   ],
   "source": [
    "dat_result <- dat_result[order(dat_result$tot.withinss, decreasing=FALSE),]\n",
    "top_six <- head(dat_result$row)\n",
    "head(dat_result)\n"
   ]
  },
  {
   "cell_type": "code",
   "execution_count": 82,
   "metadata": {},
   "outputs": [
    {
     "data": {
      "text/html": [
       "<table>\n",
       "<caption>A data.frame: 6 × 5</caption>\n",
       "<thead>\n",
       "\t<tr><th></th><th scope=col>AST</th><th scope=col>CK</th><th scope=col>Daysrec</th><th scope=col>prob01</th><th scope=col>prob02</th></tr>\n",
       "\t<tr><th></th><th scope=col>&lt;dbl&gt;</th><th scope=col>&lt;dbl&gt;</th><th scope=col>&lt;dbl&gt;</th><th scope=col>&lt;dbl&gt;</th><th scope=col>&lt;dbl&gt;</th></tr>\n",
       "</thead>\n",
       "<tbody>\n",
       "\t<tr><th scope=row>43</th><td>0.1</td><td>0.46</td><td>0.02</td><td>0.40</td><td>0.02</td></tr>\n",
       "\t<tr><th scope=row>288</th><td>0.1</td><td>0.45</td><td>0.02</td><td>0.41</td><td>0.02</td></tr>\n",
       "\t<tr><th scope=row>533</th><td>0.1</td><td>0.44</td><td>0.02</td><td>0.42</td><td>0.02</td></tr>\n",
       "\t<tr><th scope=row>778</th><td>0.1</td><td>0.43</td><td>0.02</td><td>0.43</td><td>0.02</td></tr>\n",
       "\t<tr><th scope=row>1023</th><td>0.1</td><td>0.42</td><td>0.02</td><td>0.44</td><td>0.02</td></tr>\n",
       "\t<tr><th scope=row>1268</th><td>0.1</td><td>0.41</td><td>0.02</td><td>0.45</td><td>0.02</td></tr>\n",
       "</tbody>\n",
       "</table>\n"
      ],
      "text/latex": [
       "A data.frame: 6 × 5\n",
       "\\begin{tabular}{r|lllll}\n",
       "  & AST & CK & Daysrec & prob01 & prob02\\\\\n",
       "  & <dbl> & <dbl> & <dbl> & <dbl> & <dbl>\\\\\n",
       "\\hline\n",
       "\t43 & 0.1 & 0.46 & 0.02 & 0.40 & 0.02\\\\\n",
       "\t288 & 0.1 & 0.45 & 0.02 & 0.41 & 0.02\\\\\n",
       "\t533 & 0.1 & 0.44 & 0.02 & 0.42 & 0.02\\\\\n",
       "\t778 & 0.1 & 0.43 & 0.02 & 0.43 & 0.02\\\\\n",
       "\t1023 & 0.1 & 0.42 & 0.02 & 0.44 & 0.02\\\\\n",
       "\t1268 & 0.1 & 0.41 & 0.02 & 0.45 & 0.02\\\\\n",
       "\\end{tabular}\n"
      ],
      "text/markdown": [
       "\n",
       "A data.frame: 6 × 5\n",
       "\n",
       "| <!--/--> | AST &lt;dbl&gt; | CK &lt;dbl&gt; | Daysrec &lt;dbl&gt; | prob01 &lt;dbl&gt; | prob02 &lt;dbl&gt; |\n",
       "|---|---|---|---|---|---|\n",
       "| 43 | 0.1 | 0.46 | 0.02 | 0.40 | 0.02 |\n",
       "| 288 | 0.1 | 0.45 | 0.02 | 0.41 | 0.02 |\n",
       "| 533 | 0.1 | 0.44 | 0.02 | 0.42 | 0.02 |\n",
       "| 778 | 0.1 | 0.43 | 0.02 | 0.43 | 0.02 |\n",
       "| 1023 | 0.1 | 0.42 | 0.02 | 0.44 | 0.02 |\n",
       "| 1268 | 0.1 | 0.41 | 0.02 | 0.45 | 0.02 |\n",
       "\n"
      ],
      "text/plain": [
       "     AST CK   Daysrec prob01 prob02\n",
       "43   0.1 0.46 0.02    0.40   0.02  \n",
       "288  0.1 0.45 0.02    0.41   0.02  \n",
       "533  0.1 0.44 0.02    0.42   0.02  \n",
       "778  0.1 0.43 0.02    0.43   0.02  \n",
       "1023 0.1 0.42 0.02    0.44   0.02  \n",
       "1268 0.1 0.41 0.02    0.45   0.02  "
      ]
     },
     "metadata": {},
     "output_type": "display_data"
    }
   ],
   "source": [
    "dfc03[top_six,]\n"
   ]
  },
  {
   "cell_type": "code",
   "execution_count": 83,
   "metadata": {},
   "outputs": [
    {
     "data": {
      "text/html": [
       "<style>\n",
       ".list-inline {list-style: none; margin:0; padding: 0}\n",
       ".list-inline>li {display: inline-block}\n",
       ".list-inline>li:not(:last-child)::after {content: \"\\00b7\"; padding: 0 .5ex}\n",
       "</style>\n",
       "<ol class=list-inline><li>262</li><li>5</li></ol>\n"
      ],
      "text/latex": [
       "\\begin{enumerate*}\n",
       "\\item 262\n",
       "\\item 5\n",
       "\\end{enumerate*}\n"
      ],
      "text/markdown": [
       "1. 262\n",
       "2. 5\n",
       "\n",
       "\n"
      ],
      "text/plain": [
       "[1] 262   5"
      ]
     },
     "metadata": {},
     "output_type": "display_data"
    }
   ],
   "source": [
    "# Refine the search.\n",
    "\n",
    "lst <- vector(\"list\", length= 5)\n",
    "names(lst) <- c(\"AST\",\"CK\",\"Daysrec\",\"prob01\",\"prob02\")\n",
    "\n",
    "lst[[1]] <- seq(0.02, 0.10, by= 0.01)\n",
    "lst[[2]] <- seq(0.45, 0.56, by= 0.01)\n",
    "lst[[3]] <- seq(0.02, 0.03, by= 0.01)\n",
    "lst[[4]] <- seq(0.35, 0.42, by=0.01)\n",
    "lst[[5]] <- seq(0.02, 0.03, by=0.01)\n",
    "\n",
    "start <- Sys.time()\n",
    "dfc04 <- generate_combs(lst)\n",
    "stop <- Sys.time()\n",
    "# round(stop - start, 2)\n",
    "\n",
    "dim(dfc04)\n",
    "#  262     5\n"
   ]
  },
  {
   "cell_type": "code",
   "execution_count": 84,
   "metadata": {},
   "outputs": [
    {
     "data": {
      "text/html": [
       "'Start time: 2021-04-19 20:27:16'"
      ],
      "text/latex": [
       "'Start time: 2021-04-19 20:27:16'"
      ],
      "text/markdown": [
       "'Start time: 2021-04-19 20:27:16'"
      ],
      "text/plain": [
       "[1] \"Start time: 2021-04-19 20:27:16\""
      ]
     },
     "metadata": {},
     "output_type": "display_data"
    },
    {
     "data": {
      "text/plain": [
       "Time difference of 2.35 mins"
      ]
     },
     "metadata": {},
     "output_type": "display_data"
    }
   ],
   "source": [
    "# Find the best weights of those in dfc04 (262 rows,\n",
    "# 11 seeds, 5 folds).  \n",
    "\n",
    "set.seed(1233)\n",
    "seed_vector <- sample(1:9999, 11, replace=FALSE)\n",
    "\n",
    "start <- Sys.time()\n",
    "paste(\"Start time: \", start, sep=\"\")\n",
    "dat_result <- gridSearch07(seed_vector, dat, dfc04) \n",
    "stop <- Sys.time()\n",
    "round(stop - start, 2)\n",
    "# Time difference of 2.35 mins \n"
   ]
  },
  {
   "cell_type": "code",
   "execution_count": 85,
   "metadata": {},
   "outputs": [
    {
     "data": {
      "text/html": [
       "1"
      ],
      "text/latex": [
       "1"
      ],
      "text/markdown": [
       "1"
      ],
      "text/plain": [
       "[1] 1"
      ]
     },
     "metadata": {},
     "output_type": "display_data"
    }
   ],
   "source": [
    "best_params <- dat_result[which(dat_result$tot.withinss == \n",
    "                                min(dat_result$tot.withinss, na.rm=TRUE)),]$row\n",
    "length(best_params)\n",
    "\n",
    "best_tot.withinss <- round(dat_result[which(dat_result$tot.withinss == \n",
    "                                min(dat_result$tot.withinss, na.rm=TRUE)),]$tot.withinss, 4)\n"
   ]
  },
  {
   "cell_type": "code",
   "execution_count": 86,
   "metadata": {},
   "outputs": [
    {
     "data": {
      "text/html": [
       "<table>\n",
       "<caption>A data.frame: 1 × 5</caption>\n",
       "<thead>\n",
       "\t<tr><th></th><th scope=col>AST</th><th scope=col>CK</th><th scope=col>Daysrec</th><th scope=col>prob01</th><th scope=col>prob02</th></tr>\n",
       "\t<tr><th></th><th scope=col>&lt;dbl&gt;</th><th scope=col>&lt;dbl&gt;</th><th scope=col>&lt;dbl&gt;</th><th scope=col>&lt;dbl&gt;</th><th scope=col>&lt;dbl&gt;</th></tr>\n",
       "</thead>\n",
       "<tbody>\n",
       "\t<tr><th scope=row>748</th><td>0.02</td><td>0.56</td><td>0.02</td><td>0.38</td><td>0.02</td></tr>\n",
       "</tbody>\n",
       "</table>\n"
      ],
      "text/latex": [
       "A data.frame: 1 × 5\n",
       "\\begin{tabular}{r|lllll}\n",
       "  & AST & CK & Daysrec & prob01 & prob02\\\\\n",
       "  & <dbl> & <dbl> & <dbl> & <dbl> & <dbl>\\\\\n",
       "\\hline\n",
       "\t748 & 0.02 & 0.56 & 0.02 & 0.38 & 0.02\\\\\n",
       "\\end{tabular}\n"
      ],
      "text/markdown": [
       "\n",
       "A data.frame: 1 × 5\n",
       "\n",
       "| <!--/--> | AST &lt;dbl&gt; | CK &lt;dbl&gt; | Daysrec &lt;dbl&gt; | prob01 &lt;dbl&gt; | prob02 &lt;dbl&gt; |\n",
       "|---|---|---|---|---|---|\n",
       "| 748 | 0.02 | 0.56 | 0.02 | 0.38 | 0.02 |\n",
       "\n"
      ],
      "text/plain": [
       "    AST  CK   Daysrec prob01 prob02\n",
       "748 0.02 0.56 0.02    0.38   0.02  "
      ]
     },
     "metadata": {},
     "output_type": "display_data"
    },
    {
     "data": {
      "text/html": [
       "0.9472"
      ],
      "text/latex": [
       "0.9472"
      ],
      "text/markdown": [
       "0.9472"
      ],
      "text/plain": [
       "[1] 0.9472"
      ]
     },
     "metadata": {},
     "output_type": "display_data"
    }
   ],
   "source": [
    "dfc04[best_params,]\n",
    "#       \t AST \t  CK  \tDaysrec \tprob01  \tprob02\n",
    "\n",
    "#  748  \t0.02 \t0.56\t   0.02 \t  0.38  \t  0.02\n",
    "\n",
    "\n",
    "best_tot.withinss\n",
    "# 0.9472\n"
   ]
  },
  {
   "cell_type": "code",
   "execution_count": 87,
   "metadata": {},
   "outputs": [
    {
     "data": {
      "text/html": [
       "<table>\n",
       "<caption>A data.frame: 6 × 2</caption>\n",
       "<thead>\n",
       "\t<tr><th></th><th scope=col>row</th><th scope=col>tot.withinss</th></tr>\n",
       "\t<tr><th></th><th scope=col>&lt;chr&gt;</th><th scope=col>&lt;dbl&gt;</th></tr>\n",
       "</thead>\n",
       "<tbody>\n",
       "\t<tr><th scope=row>54</th><td>748 </td><td>0.94725</td></tr>\n",
       "\t<tr><th scope=row>72</th><td>955 </td><td>0.94810</td></tr>\n",
       "\t<tr><th scope=row>90</th><td>1162</td><td>0.94896</td></tr>\n",
       "\t<tr><th scope=row>108</th><td>1369</td><td>0.94981</td></tr>\n",
       "\t<tr><th scope=row>124</th><td>1576</td><td>0.95066</td></tr>\n",
       "\t<tr><th scope=row>36</th><td>533 </td><td>0.95785</td></tr>\n",
       "</tbody>\n",
       "</table>\n"
      ],
      "text/latex": [
       "A data.frame: 6 × 2\n",
       "\\begin{tabular}{r|ll}\n",
       "  & row & tot.withinss\\\\\n",
       "  & <chr> & <dbl>\\\\\n",
       "\\hline\n",
       "\t54 & 748  & 0.94725\\\\\n",
       "\t72 & 955  & 0.94810\\\\\n",
       "\t90 & 1162 & 0.94896\\\\\n",
       "\t108 & 1369 & 0.94981\\\\\n",
       "\t124 & 1576 & 0.95066\\\\\n",
       "\t36 & 533  & 0.95785\\\\\n",
       "\\end{tabular}\n"
      ],
      "text/markdown": [
       "\n",
       "A data.frame: 6 × 2\n",
       "\n",
       "| <!--/--> | row &lt;chr&gt; | tot.withinss &lt;dbl&gt; |\n",
       "|---|---|---|\n",
       "| 54 | 748  | 0.94725 |\n",
       "| 72 | 955  | 0.94810 |\n",
       "| 90 | 1162 | 0.94896 |\n",
       "| 108 | 1369 | 0.94981 |\n",
       "| 124 | 1576 | 0.95066 |\n",
       "| 36 | 533  | 0.95785 |\n",
       "\n"
      ],
      "text/plain": [
       "    row  tot.withinss\n",
       "54  748  0.94725     \n",
       "72  955  0.94810     \n",
       "90  1162 0.94896     \n",
       "108 1369 0.94981     \n",
       "124 1576 0.95066     \n",
       "36  533  0.95785     "
      ]
     },
     "metadata": {},
     "output_type": "display_data"
    }
   ],
   "source": [
    "dat_result <- dat_result[order(dat_result$tot.withinss, decreasing=FALSE),]\n",
    "top_six <- head(dat_result$row)\n",
    "head(dat_result)\n"
   ]
  },
  {
   "cell_type": "code",
   "execution_count": 88,
   "metadata": {},
   "outputs": [
    {
     "data": {
      "text/html": [
       "<table>\n",
       "<caption>A data.frame: 6 × 5</caption>\n",
       "<thead>\n",
       "\t<tr><th></th><th scope=col>AST</th><th scope=col>CK</th><th scope=col>Daysrec</th><th scope=col>prob01</th><th scope=col>prob02</th></tr>\n",
       "\t<tr><th></th><th scope=col>&lt;dbl&gt;</th><th scope=col>&lt;dbl&gt;</th><th scope=col>&lt;dbl&gt;</th><th scope=col>&lt;dbl&gt;</th><th scope=col>&lt;dbl&gt;</th></tr>\n",
       "</thead>\n",
       "<tbody>\n",
       "\t<tr><th scope=row>748</th><td>0.02</td><td>0.56</td><td>0.02</td><td>0.38</td><td>0.02</td></tr>\n",
       "\t<tr><th scope=row>955</th><td>0.02</td><td>0.55</td><td>0.02</td><td>0.39</td><td>0.02</td></tr>\n",
       "\t<tr><th scope=row>1162</th><td>0.02</td><td>0.54</td><td>0.02</td><td>0.40</td><td>0.02</td></tr>\n",
       "\t<tr><th scope=row>1369</th><td>0.02</td><td>0.53</td><td>0.02</td><td>0.41</td><td>0.02</td></tr>\n",
       "\t<tr><th scope=row>1576</th><td>0.02</td><td>0.52</td><td>0.02</td><td>0.42</td><td>0.02</td></tr>\n",
       "\t<tr><th scope=row>533</th><td>0.03</td><td>0.56</td><td>0.02</td><td>0.37</td><td>0.02</td></tr>\n",
       "</tbody>\n",
       "</table>\n"
      ],
      "text/latex": [
       "A data.frame: 6 × 5\n",
       "\\begin{tabular}{r|lllll}\n",
       "  & AST & CK & Daysrec & prob01 & prob02\\\\\n",
       "  & <dbl> & <dbl> & <dbl> & <dbl> & <dbl>\\\\\n",
       "\\hline\n",
       "\t748 & 0.02 & 0.56 & 0.02 & 0.38 & 0.02\\\\\n",
       "\t955 & 0.02 & 0.55 & 0.02 & 0.39 & 0.02\\\\\n",
       "\t1162 & 0.02 & 0.54 & 0.02 & 0.40 & 0.02\\\\\n",
       "\t1369 & 0.02 & 0.53 & 0.02 & 0.41 & 0.02\\\\\n",
       "\t1576 & 0.02 & 0.52 & 0.02 & 0.42 & 0.02\\\\\n",
       "\t533 & 0.03 & 0.56 & 0.02 & 0.37 & 0.02\\\\\n",
       "\\end{tabular}\n"
      ],
      "text/markdown": [
       "\n",
       "A data.frame: 6 × 5\n",
       "\n",
       "| <!--/--> | AST &lt;dbl&gt; | CK &lt;dbl&gt; | Daysrec &lt;dbl&gt; | prob01 &lt;dbl&gt; | prob02 &lt;dbl&gt; |\n",
       "|---|---|---|---|---|---|\n",
       "| 748 | 0.02 | 0.56 | 0.02 | 0.38 | 0.02 |\n",
       "| 955 | 0.02 | 0.55 | 0.02 | 0.39 | 0.02 |\n",
       "| 1162 | 0.02 | 0.54 | 0.02 | 0.40 | 0.02 |\n",
       "| 1369 | 0.02 | 0.53 | 0.02 | 0.41 | 0.02 |\n",
       "| 1576 | 0.02 | 0.52 | 0.02 | 0.42 | 0.02 |\n",
       "| 533 | 0.03 | 0.56 | 0.02 | 0.37 | 0.02 |\n",
       "\n"
      ],
      "text/plain": [
       "     AST  CK   Daysrec prob01 prob02\n",
       "748  0.02 0.56 0.02    0.38   0.02  \n",
       "955  0.02 0.55 0.02    0.39   0.02  \n",
       "1162 0.02 0.54 0.02    0.40   0.02  \n",
       "1369 0.02 0.53 0.02    0.41   0.02  \n",
       "1576 0.02 0.52 0.02    0.42   0.02  \n",
       "533  0.03 0.56 0.02    0.37   0.02  "
      ]
     },
     "metadata": {},
     "output_type": "display_data"
    }
   ],
   "source": [
    "dfc04[top_six,]\n"
   ]
  },
  {
   "cell_type": "markdown",
   "metadata": {},
   "source": [
    "### With suggested weights, get cross-val Type2 scores"
   ]
  },
  {
   "cell_type": "code",
   "execution_count": 89,
   "metadata": {},
   "outputs": [
    {
     "data": {
      "text/html": [
       "<style>\n",
       ".list-inline {list-style: none; margin:0; padding: 0}\n",
       ".list-inline>li {display: inline-block}\n",
       ".list-inline>li:not(:last-child)::after {content: \"\\00b7\"; padding: 0 .5ex}\n",
       "</style>\n",
       "<ol class=list-inline><li>1</li><li>5</li></ol>\n"
      ],
      "text/latex": [
       "\\begin{enumerate*}\n",
       "\\item 1\n",
       "\\item 5\n",
       "\\end{enumerate*}\n"
      ],
      "text/markdown": [
       "1. 1\n",
       "2. 5\n",
       "\n",
       "\n"
      ],
      "text/plain": [
       "[1] 1 5"
      ]
     },
     "metadata": {},
     "output_type": "display_data"
    },
    {
     "data": {
      "text/html": [
       "<table>\n",
       "<caption>A data.frame: 4 × 5</caption>\n",
       "<thead>\n",
       "\t<tr><th scope=col>AST</th><th scope=col>CK</th><th scope=col>Daysrec</th><th scope=col>prob01</th><th scope=col>prob02</th></tr>\n",
       "\t<tr><th scope=col>&lt;dbl&gt;</th><th scope=col>&lt;dbl&gt;</th><th scope=col>&lt;dbl&gt;</th><th scope=col>&lt;dbl&gt;</th><th scope=col>&lt;dbl&gt;</th></tr>\n",
       "</thead>\n",
       "<tbody>\n",
       "\t<tr><td>0.20</td><td>0.32</td><td>0.08</td><td>0.32</td><td>0.08</td></tr>\n",
       "\t<tr><td>0.16</td><td>0.40</td><td>0.02</td><td>0.40</td><td>0.02</td></tr>\n",
       "\t<tr><td>0.10</td><td>0.46</td><td>0.02</td><td>0.40</td><td>0.02</td></tr>\n",
       "\t<tr><td>0.02</td><td>0.56</td><td>0.02</td><td>0.38</td><td>0.02</td></tr>\n",
       "</tbody>\n",
       "</table>\n"
      ],
      "text/latex": [
       "A data.frame: 4 × 5\n",
       "\\begin{tabular}{lllll}\n",
       " AST & CK & Daysrec & prob01 & prob02\\\\\n",
       " <dbl> & <dbl> & <dbl> & <dbl> & <dbl>\\\\\n",
       "\\hline\n",
       "\t 0.20 & 0.32 & 0.08 & 0.32 & 0.08\\\\\n",
       "\t 0.16 & 0.40 & 0.02 & 0.40 & 0.02\\\\\n",
       "\t 0.10 & 0.46 & 0.02 & 0.40 & 0.02\\\\\n",
       "\t 0.02 & 0.56 & 0.02 & 0.38 & 0.02\\\\\n",
       "\\end{tabular}\n"
      ],
      "text/markdown": [
       "\n",
       "A data.frame: 4 × 5\n",
       "\n",
       "| AST &lt;dbl&gt; | CK &lt;dbl&gt; | Daysrec &lt;dbl&gt; | prob01 &lt;dbl&gt; | prob02 &lt;dbl&gt; |\n",
       "|---|---|---|---|---|\n",
       "| 0.20 | 0.32 | 0.08 | 0.32 | 0.08 |\n",
       "| 0.16 | 0.40 | 0.02 | 0.40 | 0.02 |\n",
       "| 0.10 | 0.46 | 0.02 | 0.40 | 0.02 |\n",
       "| 0.02 | 0.56 | 0.02 | 0.38 | 0.02 |\n",
       "\n"
      ],
      "text/plain": [
       "  AST  CK   Daysrec prob01 prob02\n",
       "1 0.20 0.32 0.08    0.32   0.08  \n",
       "2 0.16 0.40 0.02    0.40   0.02  \n",
       "3 0.10 0.46 0.02    0.40   0.02  \n",
       "4 0.02 0.56 0.02    0.38   0.02  "
      ]
     },
     "metadata": {},
     "output_type": "display_data"
    }
   ],
   "source": [
    "# Compare all sets of weights from above.\n",
    "\n",
    "lst <- vector(\"list\", length= 5)\n",
    "names(lst) <- c(\"AST\",\"CK\",\"Daysrec\",\"prob01\",\"prob02\")\n",
    "\n",
    "lst[[1]] <- c(0.20)\n",
    "lst[[2]] <- c(0.32)\n",
    "lst[[3]] <- c(0.08)\n",
    "lst[[4]] <- c(0.32)\n",
    "lst[[5]] <- c(0.08)\n",
    "\n",
    "start <- Sys.time()\n",
    "dfc05 <- generate_combs(lst)\n",
    "stop <- Sys.time()\n",
    "# round(stop - start, 2)\n",
    "\n",
    "dim(dfc05)\n",
    "\n",
    "# These are our current best weights.\n",
    "dfc05 <- rbind(dfc05, c(0.16, 0.40, 0.02, 0.40, 0.02))\n",
    "dfc05 <- rbind(dfc05, c(0.10, 0.46, 0.02, 0.40, 0.02))\n",
    "dfc05 <- rbind(dfc05, c(0.02, 0.56, 0.02, 0.38, 0.02))\n",
    "dfc05\n"
   ]
  },
  {
   "cell_type": "code",
   "execution_count": 90,
   "metadata": {},
   "outputs": [
    {
     "data": {
      "text/plain": [
       "Time difference of 4.29 mins"
      ]
     },
     "metadata": {},
     "output_type": "display_data"
    }
   ],
   "source": [
    "# Find the best weights of those in dfc05.  Here I\n",
    "# am running with 201 seeds and a different starting\n",
    "# seed.\n",
    "\n",
    "set.seed(1913)\n",
    "seed_vector <- sample(1:9999, 201, replace=FALSE)\n",
    "\n",
    "start <- Sys.time()\n",
    "dat_result <- gridSearch06(seed_vector, dat, dfc05) \n",
    "stop <- Sys.time()\n",
    "round(stop - start, 2)\n",
    "# Time difference of 4.29 mins\n"
   ]
  },
  {
   "cell_type": "code",
   "execution_count": 91,
   "metadata": {},
   "outputs": [
    {
     "data": {
      "text/html": [
       "<table>\n",
       "<caption>A data.frame: 4 × 6</caption>\n",
       "<thead>\n",
       "\t<tr><th scope=col>AST</th><th scope=col>CK</th><th scope=col>Daysrec</th><th scope=col>prob01</th><th scope=col>prob02</th><th scope=col>Type2</th></tr>\n",
       "\t<tr><th scope=col>&lt;dbl&gt;</th><th scope=col>&lt;dbl&gt;</th><th scope=col>&lt;dbl&gt;</th><th scope=col>&lt;dbl&gt;</th><th scope=col>&lt;dbl&gt;</th><th scope=col>&lt;dbl&gt;</th></tr>\n",
       "</thead>\n",
       "<tbody>\n",
       "\t<tr><td>0.20</td><td>0.32</td><td>0.08</td><td>0.32</td><td>0.08</td><td>0.66181</td></tr>\n",
       "\t<tr><td>0.16</td><td>0.40</td><td>0.02</td><td>0.40</td><td>0.02</td><td>0.66155</td></tr>\n",
       "\t<tr><td>0.10</td><td>0.46</td><td>0.02</td><td>0.40</td><td>0.02</td><td>0.66190</td></tr>\n",
       "\t<tr><td>0.02</td><td>0.56</td><td>0.02</td><td>0.38</td><td>0.02</td><td>0.66199</td></tr>\n",
       "</tbody>\n",
       "</table>\n"
      ],
      "text/latex": [
       "A data.frame: 4 × 6\n",
       "\\begin{tabular}{llllll}\n",
       " AST & CK & Daysrec & prob01 & prob02 & Type2\\\\\n",
       " <dbl> & <dbl> & <dbl> & <dbl> & <dbl> & <dbl>\\\\\n",
       "\\hline\n",
       "\t 0.20 & 0.32 & 0.08 & 0.32 & 0.08 & 0.66181\\\\\n",
       "\t 0.16 & 0.40 & 0.02 & 0.40 & 0.02 & 0.66155\\\\\n",
       "\t 0.10 & 0.46 & 0.02 & 0.40 & 0.02 & 0.66190\\\\\n",
       "\t 0.02 & 0.56 & 0.02 & 0.38 & 0.02 & 0.66199\\\\\n",
       "\\end{tabular}\n"
      ],
      "text/markdown": [
       "\n",
       "A data.frame: 4 × 6\n",
       "\n",
       "| AST &lt;dbl&gt; | CK &lt;dbl&gt; | Daysrec &lt;dbl&gt; | prob01 &lt;dbl&gt; | prob02 &lt;dbl&gt; | Type2 &lt;dbl&gt; |\n",
       "|---|---|---|---|---|---|\n",
       "| 0.20 | 0.32 | 0.08 | 0.32 | 0.08 | 0.66181 |\n",
       "| 0.16 | 0.40 | 0.02 | 0.40 | 0.02 | 0.66155 |\n",
       "| 0.10 | 0.46 | 0.02 | 0.40 | 0.02 | 0.66190 |\n",
       "| 0.02 | 0.56 | 0.02 | 0.38 | 0.02 | 0.66199 |\n",
       "\n"
      ],
      "text/plain": [
       "  AST  CK   Daysrec prob01 prob02 Type2  \n",
       "1 0.20 0.32 0.08    0.32   0.08   0.66181\n",
       "2 0.16 0.40 0.02    0.40   0.02   0.66155\n",
       "3 0.10 0.46 0.02    0.40   0.02   0.66190\n",
       "4 0.02 0.56 0.02    0.38   0.02   0.66199"
      ]
     },
     "metadata": {},
     "output_type": "display_data"
    }
   ],
   "source": [
    "datout <- cbind(dfc05, dat_result$Type2)\n",
    "colnames(datout) <- c(colnames(dfc05), \"Type2\")\n",
    "datout\n"
   ]
  },
  {
   "cell_type": "code",
   "execution_count": 92,
   "metadata": {},
   "outputs": [
    {
     "data": {
      "text/html": [
       "<style>\n",
       ".list-inline {list-style: none; margin:0; padding: 0}\n",
       ".list-inline>li {display: inline-block}\n",
       ".list-inline>li:not(:last-child)::after {content: \"\\00b7\"; padding: 0 .5ex}\n",
       "</style>\n",
       "<ol class=list-inline><li>271</li><li>5</li></ol>\n"
      ],
      "text/latex": [
       "\\begin{enumerate*}\n",
       "\\item 271\n",
       "\\item 5\n",
       "\\end{enumerate*}\n"
      ],
      "text/markdown": [
       "1. 271\n",
       "2. 5\n",
       "\n",
       "\n"
      ],
      "text/plain": [
       "[1] 271   5"
      ]
     },
     "metadata": {},
     "output_type": "display_data"
    }
   ],
   "source": [
    "# Refine the search using gridSearch06 (cross-val Type2 scores)\n",
    "\n",
    "lst <- vector(\"list\", length= 5)\n",
    "names(lst) <- c(\"AST\",\"CK\",\"Daysrec\",\"prob01\",\"prob02\")\n",
    "\n",
    "lst[[1]] <- seq(0.02, 0.10, by=0.02)\n",
    "lst[[2]] <- seq(0.46, 0.56, by=0.02)\n",
    "lst[[3]] <- seq(0.02, 0.08, by=0.02)\n",
    "lst[[4]] <- seq(0.32, 0.40, by=0.02)\n",
    "lst[[5]] <- seq(0.02, 0.08, by=0.02)\n",
    "\n",
    "start <- Sys.time()\n",
    "dfc06 <- generate_combs(lst)\n",
    "stop <- Sys.time()\n",
    "# round(stop - start, 2)\n",
    "\n",
    "dim(dfc06)\n"
   ]
  },
  {
   "cell_type": "code",
   "execution_count": 115,
   "metadata": {},
   "outputs": [],
   "source": [
    "# Find the best weights of those in dfc06 using 21\n",
    "# seeds and a different starting seed.\n",
    "\n",
    "set.seed(1711)\n",
    "seed_vector <- sample(1:9999, 21, replace=FALSE)\n",
    "\n",
    "start <- Sys.time()\n",
    "dat_result <- gridSearch06(seed_vector, dat, dfc06) \n",
    "stop <- Sys.time()\n",
    "round(stop - start, 2)\n",
    "# Time difference of 32.15 mins\n"
   ]
  },
  {
   "cell_type": "code",
   "execution_count": 94,
   "metadata": {},
   "outputs": [
    {
     "data": {
      "text/html": [
       "1"
      ],
      "text/latex": [
       "1"
      ],
      "text/markdown": [
       "1"
      ],
      "text/plain": [
       "[1] 1"
      ]
     },
     "metadata": {},
     "output_type": "display_data"
    }
   ],
   "source": [
    "best_params <- dat_result[which(dat_result$Type2 == \n",
    "                                max(dat_result$Type2, na.rm=TRUE)),]$row\n",
    "length(best_params)\n",
    "\n",
    "best_Type2 <- dat_result[which(dat_result$Type2 == \n",
    "                                max(dat_result$Type2, na.rm=TRUE)),]$Type2\n"
   ]
  },
  {
   "cell_type": "code",
   "execution_count": 95,
   "metadata": {},
   "outputs": [
    {
     "data": {
      "text/html": [
       "<table>\n",
       "<caption>A data.frame: 1 × 5</caption>\n",
       "<thead>\n",
       "\t<tr><th></th><th scope=col>AST</th><th scope=col>CK</th><th scope=col>Daysrec</th><th scope=col>prob01</th><th scope=col>prob02</th></tr>\n",
       "\t<tr><th></th><th scope=col>&lt;dbl&gt;</th><th scope=col>&lt;dbl&gt;</th><th scope=col>&lt;dbl&gt;</th><th scope=col>&lt;dbl&gt;</th><th scope=col>&lt;dbl&gt;</th></tr>\n",
       "</thead>\n",
       "<tbody>\n",
       "\t<tr><th scope=row>321</th><td>0.02</td><td>0.54</td><td>0.06</td><td>0.36</td><td>0.02</td></tr>\n",
       "</tbody>\n",
       "</table>\n"
      ],
      "text/latex": [
       "A data.frame: 1 × 5\n",
       "\\begin{tabular}{r|lllll}\n",
       "  & AST & CK & Daysrec & prob01 & prob02\\\\\n",
       "  & <dbl> & <dbl> & <dbl> & <dbl> & <dbl>\\\\\n",
       "\\hline\n",
       "\t321 & 0.02 & 0.54 & 0.06 & 0.36 & 0.02\\\\\n",
       "\\end{tabular}\n"
      ],
      "text/markdown": [
       "\n",
       "A data.frame: 1 × 5\n",
       "\n",
       "| <!--/--> | AST &lt;dbl&gt; | CK &lt;dbl&gt; | Daysrec &lt;dbl&gt; | prob01 &lt;dbl&gt; | prob02 &lt;dbl&gt; |\n",
       "|---|---|---|---|---|---|\n",
       "| 321 | 0.02 | 0.54 | 0.06 | 0.36 | 0.02 |\n",
       "\n"
      ],
      "text/plain": [
       "    AST  CK   Daysrec prob01 prob02\n",
       "321 0.02 0.54 0.06    0.36   0.02  "
      ]
     },
     "metadata": {},
     "output_type": "display_data"
    },
    {
     "data": {
      "text/html": [
       "0.66233"
      ],
      "text/latex": [
       "0.66233"
      ],
      "text/markdown": [
       "0.66233"
      ],
      "text/plain": [
       "[1] 0.66233"
      ]
     },
     "metadata": {},
     "output_type": "display_data"
    }
   ],
   "source": [
    "dfc06[best_params,]\n",
    "#       \t AST \t  CK  \tDaysrec \tprob01  \tprob02\n",
    "\n",
    "#  321  \t0.02 \t0.54\t   0.06 \t  0.36  \t  0.02\n",
    "\n",
    "best_Type2\n",
    "# 0.66233\n"
   ]
  },
  {
   "cell_type": "code",
   "execution_count": 96,
   "metadata": {},
   "outputs": [
    {
     "data": {
      "text/html": [
       "<table>\n",
       "<caption>A data.frame: 6 × 2</caption>\n",
       "<thead>\n",
       "\t<tr><th></th><th scope=col>row</th><th scope=col>Type2</th></tr>\n",
       "\t<tr><th></th><th scope=col>&lt;chr&gt;</th><th scope=col>&lt;dbl&gt;</th></tr>\n",
       "</thead>\n",
       "<tbody>\n",
       "\t<tr><th scope=row>45</th><td>321 </td><td>0.66233</td></tr>\n",
       "\t<tr><th scope=row>96</th><td>707 </td><td>0.66220</td></tr>\n",
       "\t<tr><th scope=row>162</th><td>1244</td><td>0.66217</td></tr>\n",
       "\t<tr><th scope=row>20</th><td>173 </td><td>0.66215</td></tr>\n",
       "\t<tr><th scope=row>30</th><td>227 </td><td>0.66214</td></tr>\n",
       "\t<tr><th scope=row>13</th><td>112 </td><td>0.66210</td></tr>\n",
       "</tbody>\n",
       "</table>\n"
      ],
      "text/latex": [
       "A data.frame: 6 × 2\n",
       "\\begin{tabular}{r|ll}\n",
       "  & row & Type2\\\\\n",
       "  & <chr> & <dbl>\\\\\n",
       "\\hline\n",
       "\t45 & 321  & 0.66233\\\\\n",
       "\t96 & 707  & 0.66220\\\\\n",
       "\t162 & 1244 & 0.66217\\\\\n",
       "\t20 & 173  & 0.66215\\\\\n",
       "\t30 & 227  & 0.66214\\\\\n",
       "\t13 & 112  & 0.66210\\\\\n",
       "\\end{tabular}\n"
      ],
      "text/markdown": [
       "\n",
       "A data.frame: 6 × 2\n",
       "\n",
       "| <!--/--> | row &lt;chr&gt; | Type2 &lt;dbl&gt; |\n",
       "|---|---|---|\n",
       "| 45 | 321  | 0.66233 |\n",
       "| 96 | 707  | 0.66220 |\n",
       "| 162 | 1244 | 0.66217 |\n",
       "| 20 | 173  | 0.66215 |\n",
       "| 30 | 227  | 0.66214 |\n",
       "| 13 | 112  | 0.66210 |\n",
       "\n"
      ],
      "text/plain": [
       "    row  Type2  \n",
       "45  321  0.66233\n",
       "96  707  0.66220\n",
       "162 1244 0.66217\n",
       "20  173  0.66215\n",
       "30  227  0.66214\n",
       "13  112  0.66210"
      ]
     },
     "metadata": {},
     "output_type": "display_data"
    }
   ],
   "source": [
    "dat_result <- dat_result[order(dat_result$Type2, decreasing=TRUE),]\n",
    "top_six <- head(dat_result$row)\n",
    "head(dat_result)\n"
   ]
  },
  {
   "cell_type": "code",
   "execution_count": 98,
   "metadata": {},
   "outputs": [
    {
     "data": {
      "text/html": [
       "<table>\n",
       "<caption>A data.frame: 6 × 5</caption>\n",
       "<thead>\n",
       "\t<tr><th></th><th scope=col>AST</th><th scope=col>CK</th><th scope=col>Daysrec</th><th scope=col>prob01</th><th scope=col>prob02</th></tr>\n",
       "\t<tr><th></th><th scope=col>&lt;dbl&gt;</th><th scope=col>&lt;dbl&gt;</th><th scope=col>&lt;dbl&gt;</th><th scope=col>&lt;dbl&gt;</th><th scope=col>&lt;dbl&gt;</th></tr>\n",
       "</thead>\n",
       "<tbody>\n",
       "\t<tr><th scope=row>321</th><td>0.02</td><td>0.54</td><td>0.06</td><td>0.36</td><td>0.02</td></tr>\n",
       "\t<tr><th scope=row>707</th><td>0.04</td><td>0.52</td><td>0.08</td><td>0.32</td><td>0.04</td></tr>\n",
       "\t<tr><th scope=row>1244</th><td>0.08</td><td>0.50</td><td>0.04</td><td>0.32</td><td>0.06</td></tr>\n",
       "\t<tr><th scope=row>173</th><td>0.06</td><td>0.54</td><td>0.04</td><td>0.34</td><td>0.02</td></tr>\n",
       "\t<tr><th scope=row>227</th><td>0.04</td><td>0.52</td><td>0.08</td><td>0.34</td><td>0.02</td></tr>\n",
       "\t<tr><th scope=row>112</th><td>0.04</td><td>0.54</td><td>0.08</td><td>0.32</td><td>0.02</td></tr>\n",
       "</tbody>\n",
       "</table>\n"
      ],
      "text/latex": [
       "A data.frame: 6 × 5\n",
       "\\begin{tabular}{r|lllll}\n",
       "  & AST & CK & Daysrec & prob01 & prob02\\\\\n",
       "  & <dbl> & <dbl> & <dbl> & <dbl> & <dbl>\\\\\n",
       "\\hline\n",
       "\t321 & 0.02 & 0.54 & 0.06 & 0.36 & 0.02\\\\\n",
       "\t707 & 0.04 & 0.52 & 0.08 & 0.32 & 0.04\\\\\n",
       "\t1244 & 0.08 & 0.50 & 0.04 & 0.32 & 0.06\\\\\n",
       "\t173 & 0.06 & 0.54 & 0.04 & 0.34 & 0.02\\\\\n",
       "\t227 & 0.04 & 0.52 & 0.08 & 0.34 & 0.02\\\\\n",
       "\t112 & 0.04 & 0.54 & 0.08 & 0.32 & 0.02\\\\\n",
       "\\end{tabular}\n"
      ],
      "text/markdown": [
       "\n",
       "A data.frame: 6 × 5\n",
       "\n",
       "| <!--/--> | AST &lt;dbl&gt; | CK &lt;dbl&gt; | Daysrec &lt;dbl&gt; | prob01 &lt;dbl&gt; | prob02 &lt;dbl&gt; |\n",
       "|---|---|---|---|---|---|\n",
       "| 321 | 0.02 | 0.54 | 0.06 | 0.36 | 0.02 |\n",
       "| 707 | 0.04 | 0.52 | 0.08 | 0.32 | 0.04 |\n",
       "| 1244 | 0.08 | 0.50 | 0.04 | 0.32 | 0.06 |\n",
       "| 173 | 0.06 | 0.54 | 0.04 | 0.34 | 0.02 |\n",
       "| 227 | 0.04 | 0.52 | 0.08 | 0.34 | 0.02 |\n",
       "| 112 | 0.04 | 0.54 | 0.08 | 0.32 | 0.02 |\n",
       "\n"
      ],
      "text/plain": [
       "     AST  CK   Daysrec prob01 prob02\n",
       "321  0.02 0.54 0.06    0.36   0.02  \n",
       "707  0.04 0.52 0.08    0.32   0.04  \n",
       "1244 0.08 0.50 0.04    0.32   0.06  \n",
       "173  0.06 0.54 0.04    0.34   0.02  \n",
       "227  0.04 0.52 0.08    0.34   0.02  \n",
       "112  0.04 0.54 0.08    0.32   0.02  "
      ]
     },
     "metadata": {},
     "output_type": "display_data"
    }
   ],
   "source": [
    "(dfc07 <- dfc06[top_six,])\n"
   ]
  },
  {
   "cell_type": "code",
   "execution_count": 99,
   "metadata": {},
   "outputs": [
    {
     "data": {
      "text/plain": [
       "Time difference of 6.53 mins"
      ]
     },
     "metadata": {},
     "output_type": "display_data"
    }
   ],
   "source": [
    "# Find the best weights of those in dfc07. \n",
    "\n",
    "set.seed(1711)\n",
    "seed_vector <- sample(1:9999, 201, replace=FALSE)\n",
    "\n",
    "start <- Sys.time()\n",
    "dat_result <- gridSearch06(seed_vector, dat, dfc07) \n",
    "stop <- Sys.time()\n",
    "round(stop - start, 2)\n",
    "# Time difference of 6.53 mins\n"
   ]
  },
  {
   "cell_type": "code",
   "execution_count": 100,
   "metadata": {},
   "outputs": [
    {
     "data": {
      "text/html": [
       "<table>\n",
       "<caption>A data.frame: 6 × 6</caption>\n",
       "<thead>\n",
       "\t<tr><th></th><th scope=col>AST</th><th scope=col>CK</th><th scope=col>Daysrec</th><th scope=col>prob01</th><th scope=col>prob02</th><th scope=col>Type2</th></tr>\n",
       "\t<tr><th></th><th scope=col>&lt;dbl&gt;</th><th scope=col>&lt;dbl&gt;</th><th scope=col>&lt;dbl&gt;</th><th scope=col>&lt;dbl&gt;</th><th scope=col>&lt;dbl&gt;</th><th scope=col>&lt;dbl&gt;</th></tr>\n",
       "</thead>\n",
       "<tbody>\n",
       "\t<tr><th scope=row>321</th><td>0.02</td><td>0.54</td><td>0.06</td><td>0.36</td><td>0.02</td><td>0.66241</td></tr>\n",
       "\t<tr><th scope=row>707</th><td>0.04</td><td>0.52</td><td>0.08</td><td>0.32</td><td>0.04</td><td>0.66260</td></tr>\n",
       "\t<tr><th scope=row>1244</th><td>0.08</td><td>0.50</td><td>0.04</td><td>0.32</td><td>0.06</td><td>0.66209</td></tr>\n",
       "\t<tr><th scope=row>173</th><td>0.06</td><td>0.54</td><td>0.04</td><td>0.34</td><td>0.02</td><td>0.66297</td></tr>\n",
       "\t<tr><th scope=row>227</th><td>0.04</td><td>0.52</td><td>0.08</td><td>0.34</td><td>0.02</td><td>0.66243</td></tr>\n",
       "\t<tr><th scope=row>112</th><td>0.04</td><td>0.54</td><td>0.08</td><td>0.32</td><td>0.02</td><td>0.66307</td></tr>\n",
       "</tbody>\n",
       "</table>\n"
      ],
      "text/latex": [
       "A data.frame: 6 × 6\n",
       "\\begin{tabular}{r|llllll}\n",
       "  & AST & CK & Daysrec & prob01 & prob02 & Type2\\\\\n",
       "  & <dbl> & <dbl> & <dbl> & <dbl> & <dbl> & <dbl>\\\\\n",
       "\\hline\n",
       "\t321 & 0.02 & 0.54 & 0.06 & 0.36 & 0.02 & 0.66241\\\\\n",
       "\t707 & 0.04 & 0.52 & 0.08 & 0.32 & 0.04 & 0.66260\\\\\n",
       "\t1244 & 0.08 & 0.50 & 0.04 & 0.32 & 0.06 & 0.66209\\\\\n",
       "\t173 & 0.06 & 0.54 & 0.04 & 0.34 & 0.02 & 0.66297\\\\\n",
       "\t227 & 0.04 & 0.52 & 0.08 & 0.34 & 0.02 & 0.66243\\\\\n",
       "\t112 & 0.04 & 0.54 & 0.08 & 0.32 & 0.02 & 0.66307\\\\\n",
       "\\end{tabular}\n"
      ],
      "text/markdown": [
       "\n",
       "A data.frame: 6 × 6\n",
       "\n",
       "| <!--/--> | AST &lt;dbl&gt; | CK &lt;dbl&gt; | Daysrec &lt;dbl&gt; | prob01 &lt;dbl&gt; | prob02 &lt;dbl&gt; | Type2 &lt;dbl&gt; |\n",
       "|---|---|---|---|---|---|---|\n",
       "| 321 | 0.02 | 0.54 | 0.06 | 0.36 | 0.02 | 0.66241 |\n",
       "| 707 | 0.04 | 0.52 | 0.08 | 0.32 | 0.04 | 0.66260 |\n",
       "| 1244 | 0.08 | 0.50 | 0.04 | 0.32 | 0.06 | 0.66209 |\n",
       "| 173 | 0.06 | 0.54 | 0.04 | 0.34 | 0.02 | 0.66297 |\n",
       "| 227 | 0.04 | 0.52 | 0.08 | 0.34 | 0.02 | 0.66243 |\n",
       "| 112 | 0.04 | 0.54 | 0.08 | 0.32 | 0.02 | 0.66307 |\n",
       "\n"
      ],
      "text/plain": [
       "     AST  CK   Daysrec prob01 prob02 Type2  \n",
       "321  0.02 0.54 0.06    0.36   0.02   0.66241\n",
       "707  0.04 0.52 0.08    0.32   0.04   0.66260\n",
       "1244 0.08 0.50 0.04    0.32   0.06   0.66209\n",
       "173  0.06 0.54 0.04    0.34   0.02   0.66297\n",
       "227  0.04 0.52 0.08    0.34   0.02   0.66243\n",
       "112  0.04 0.54 0.08    0.32   0.02   0.66307"
      ]
     },
     "metadata": {},
     "output_type": "display_data"
    }
   ],
   "source": [
    "datout <- cbind(dfc07, dat_result$Type2)\n",
    "colnames(datout) <- c(colnames(dfc07), \"Type2\")\n",
    "datout\n"
   ]
  },
  {
   "cell_type": "code",
   "execution_count": null,
   "metadata": {},
   "outputs": [],
   "source": [
    "### COMMENT:\n",
    "\n",
    "# From the above table we can see that the best weights\n",
    "# we have thus far are c(0.04, 0.54, 0.08, 0.32, 0.02)\n",
    "# with a Type2 average cross-val score of 0.6631.\n"
   ]
  },
  {
   "cell_type": "markdown",
   "metadata": {},
   "source": [
    "## Summary info for hybrid model with prob01 (g03) and prob02 (gbclf_best)"
   ]
  },
  {
   "cell_type": "code",
   "execution_count": 105,
   "metadata": {},
   "outputs": [],
   "source": [
    "# This function is called from get_cvInfo.\n",
    "\n",
    "get_cvScores_kmp1p2_v02 <- function(traindat, valdat) {\n",
    "    \n",
    "    g03mod <- suppressWarnings(glm(Outcome ~ Daysrec + CK + I(log(AST)),\n",
    "                  data= traindat, family= binomial, singular.ok=TRUE,\n",
    "                  epsilon= 1e-7, maxit=50))\n",
    "    \n",
    "    set.seed(123)\n",
    "    gbmod <- gbm(Outcome ~ ., data= traindat, n.trees= 100,\n",
    "                  distribution= \"bernoulli\", shrinkage= 0.03)\n",
    "    preds02 <- suppressMessages(predict(gbmod, newdata= traindat, type=\"response\"))\n",
    "    traindat$prob01 <- as.numeric(g03mod$fitted)\n",
    "    traindat$prob02 <- as.numeric(preds02)\n",
    "    \n",
    "    #############################\n",
    "    # Transform and scale training set data for the\n",
    "    # k-means model.\n",
    "    traindat$AST <- log(traindat$AST)\n",
    "    traindat$CK <- log(traindat$CK)\n",
    "    traindat$Daysrec <- sqrt(traindat$Daysrec)\n",
    "\n",
    "    traindat_scaled <- scale(traindat[, -1], center=TRUE, scale=TRUE)\n",
    "    centers <- attr(traindat_scaled, \"scaled:center\")\n",
    "    scales <- attr(traindat_scaled, \"scaled:scale\")\n",
    "    \n",
    "    #############################\n",
    "    # Apply weights to traindat.\n",
    "    \n",
    "    # These are the best weights we currently have for the model.\n",
    "    wghts <- c(0.04, 0.54, 0.08, 0.32, 0.02)^0.5\n",
    "    names(wghts) <- cols <- c(\"AST\",\"CK\",\"Daysrec\",\"prob01\",\"prob02\")\n",
    "    \n",
    "    df2 <- t(t(traindat_scaled[, cols]) * as.numeric(wghts[cols]))\n",
    "    traindat_wghts <- as.data.frame(df2, row.names=rownames(traindat))\n",
    "    colnames(traindat_wghts) <- cols\n",
    "    \n",
    "       \n",
    "    #############################\n",
    "    # Prepare valdat.\n",
    "    \n",
    "    # Compute prob01 and prob02.\n",
    "    preds01_b <- predict(g03mod, newdata=valdat)\n",
    "    preds02_b <- suppressMessages(predict(gbmod, newdata= valdat, type=\"response\"))\n",
    "    valdat$prob01 <- as.numeric(preds01_b)\n",
    "    valdat$prob02 <- as.numeric(preds02_b)\n",
    "    \n",
    "    # Transform and scale valdat.\n",
    "    valdat$AST <- log(valdat$AST)\n",
    "    valdat$CK <- log(valdat$CK)\n",
    "    valdat$Daysrec <- sqrt(valdat$Daysrec)\n",
    "\n",
    "    valdat_scaled <- scale(valdat[, -1], center=centers, scale=scales)\n",
    "    valdat_scaled <- as.data.frame(valdat_scaled, row.names=rownames(valdat))\n",
    "    \n",
    "    # Apply weights to valdat. \n",
    "    df2 <- t(t(valdat_scaled[, cols]) * as.numeric(wghts[cols]))\n",
    "    valdat_wghts <- as.data.frame(df2, row.names=rownames(valdat))\n",
    "    colnames(valdat_wghts) <- cols\n",
    "\n",
    "    \n",
    "    #############################\n",
    "    # Construct k-means model.\n",
    "    \n",
    "    kmod <- suppressWarnings(kmeans(traindat_wghts, 2, iter.max = 50, nstart=15))\n",
    "    \n",
    "    # See how the clusters are associated with Outcome.\n",
    "    dfout <- as.data.frame(cbind(traindat$Outcome, kmod$cluster),\n",
    "                           row.names=rownames(traindat))\n",
    "    colnames(dfout) <- c(\"Outcome\", \"cluster\")\n",
    "\n",
    "    c1_to_Outcome1 <- c1_toLevel_1(dfout)\n",
    "    \n",
    "    #############################\n",
    "    # Apply the k-means model to valdat_wghts.\n",
    "    \n",
    "    # Each element of the following list is a row of valdat_wghts.\n",
    "    valdat_asList <- split(valdat_wghts[, colnames(kmod$centers)],\n",
    "                           seq(nrow(valdat_wghts)))\n",
    "    \n",
    "    ctr_list <- vector(\"list\", length= nrow(valdat))\n",
    "    for(i in 1:nrow(valdat)) {\n",
    "        \n",
    "        ctr_list[[i]] <- kmod$centers\n",
    "    }\n",
    "    names(ctr_list) <- rownames(valdat)\n",
    "    \n",
    "    \n",
    "    # Get the predictions for the validation set.\n",
    "    cluster_assgns <- mcmapply(getCluster, valdat_asList, ctr_list,\n",
    "                               SIMPLIFY=TRUE, mc.cores=6)\n",
    "    \n",
    "    valdat_wghts$cluster <- as.numeric(cluster_assgns)\n",
    "    \n",
    "    valdat_wghts$pred_Outcome <- NA\n",
    "    if(c1_to_Outcome1) {\n",
    "        valdat_wghts[which(valdat_wghts$cluster==1),]$pred_Outcome <- 1\n",
    "        valdat_wghts[which(valdat_wghts$cluster==2),]$pred_Outcome <- 0\n",
    "    } else {\n",
    "        valdat_wghts[which(valdat_wghts$cluster==1),]$pred_Outcome <- 0\n",
    "        valdat_wghts[which(valdat_wghts$cluster==2),]$pred_Outcome <- 1\n",
    "    }\n",
    "    \n",
    "    # Generate confusion matrix for the k-means clusters and\n",
    "    # the corresponding f-score.\n",
    "    preds <- as.factor(valdat_wghts$pred_Outcome)\n",
    "    names(preds) <- rownames(valdat)\n",
    "    ans <- get_confusion(preds, valdat[, \"Outcome\", drop=FALSE])\n",
    "\n",
    "    mat <- as.matrix(ans[[1]])\n",
    "    fscore <- round(as.numeric(ans[[2]]), 4)\n",
    "    acc <- round(sum(diag(mat))/floor(sum(mat)), 4)\n",
    "    type2 <- round((0.4 * acc + 0.6 * ans[[2]]), 4)\n",
    "    FN <- as.numeric(mat[2,1])\n",
    "    FP <- as.numeric(mat[1,2])\n",
    "    return(c(fscore,acc,type2,FN,FP))\n",
    "}\n"
   ]
  },
  {
   "cell_type": "code",
   "execution_count": 107,
   "metadata": {},
   "outputs": [
    {
     "data": {
      "text/html": [
       "'Start time: 2021-04-19 21:54:02'"
      ],
      "text/latex": [
       "'Start time: 2021-04-19 21:54:02'"
      ],
      "text/markdown": [
       "'Start time: 2021-04-19 21:54:02'"
      ],
      "text/plain": [
       "[1] \"Start time: 2021-04-19 21:54:02\""
      ]
     },
     "metadata": {},
     "output_type": "display_data"
    },
    {
     "data": {
      "text/plain": [
       "Time difference of 5.26 mins"
      ]
     },
     "metadata": {},
     "output_type": "display_data"
    }
   ],
   "source": [
    "# Get scores for this latest hybrid model.\n",
    "\n",
    "set.seed(1913)\n",
    "seed_vector <- sample(1:9999, 1000, replace=FALSE)\n",
    "\n",
    "start <- Sys.time()\n",
    "paste(\"Start time: \", start, sep=\"\")\n",
    "dat_result <- get_cvInfo(seed_vector, dat)\n",
    "stop <- Sys.time()\n",
    "round(stop - start, 2)\n",
    "# Time difference of 5.26 mins\n"
   ]
  },
  {
   "cell_type": "code",
   "execution_count": 108,
   "metadata": {},
   "outputs": [
    {
     "data": {
      "text/html": [
       "<style>\n",
       ".list-inline {list-style: none; margin:0; padding: 0}\n",
       ".list-inline>li {display: inline-block}\n",
       ".list-inline>li:not(:last-child)::after {content: \"\\00b7\"; padding: 0 .5ex}\n",
       "</style>\n",
       "<ol class=list-inline><li>5000</li><li>5</li></ol>\n"
      ],
      "text/latex": [
       "\\begin{enumerate*}\n",
       "\\item 5000\n",
       "\\item 5\n",
       "\\end{enumerate*}\n"
      ],
      "text/markdown": [
       "1. 5000\n",
       "2. 5\n",
       "\n",
       "\n"
      ],
      "text/plain": [
       "[1] 5000    5"
      ]
     },
     "metadata": {},
     "output_type": "display_data"
    },
    {
     "data": {
      "text/html": [
       "<table>\n",
       "<caption>A data.frame: 6 × 5</caption>\n",
       "<thead>\n",
       "\t<tr><th></th><th scope=col>fscore</th><th scope=col>Acc</th><th scope=col>Type2</th><th scope=col>FN</th><th scope=col>FP</th></tr>\n",
       "\t<tr><th></th><th scope=col>&lt;dbl&gt;</th><th scope=col>&lt;dbl&gt;</th><th scope=col>&lt;dbl&gt;</th><th scope=col>&lt;dbl&gt;</th><th scope=col>&lt;dbl&gt;</th></tr>\n",
       "</thead>\n",
       "<tbody>\n",
       "\t<tr><th scope=row>4782--1</th><td>0.6087</td><td>0.7750</td><td>0.6752</td><td> 8</td><td>10</td></tr>\n",
       "\t<tr><th scope=row>4782--2</th><td>0.6071</td><td>0.7250</td><td>0.6543</td><td>11</td><td>11</td></tr>\n",
       "\t<tr><th scope=row>4782--3</th><td>0.5532</td><td>0.7375</td><td>0.6269</td><td>17</td><td> 4</td></tr>\n",
       "\t<tr><th scope=row>4782--4</th><td>0.6571</td><td>0.7000</td><td>0.6743</td><td> 9</td><td>15</td></tr>\n",
       "\t<tr><th scope=row>4782--5</th><td>0.6562</td><td>0.7250</td><td>0.6837</td><td>16</td><td> 6</td></tr>\n",
       "\t<tr><th scope=row>9275--1</th><td>0.6552</td><td>0.7500</td><td>0.6931</td><td>11</td><td> 9</td></tr>\n",
       "</tbody>\n",
       "</table>\n"
      ],
      "text/latex": [
       "A data.frame: 6 × 5\n",
       "\\begin{tabular}{r|lllll}\n",
       "  & fscore & Acc & Type2 & FN & FP\\\\\n",
       "  & <dbl> & <dbl> & <dbl> & <dbl> & <dbl>\\\\\n",
       "\\hline\n",
       "\t4782--1 & 0.6087 & 0.7750 & 0.6752 &  8 & 10\\\\\n",
       "\t4782--2 & 0.6071 & 0.7250 & 0.6543 & 11 & 11\\\\\n",
       "\t4782--3 & 0.5532 & 0.7375 & 0.6269 & 17 &  4\\\\\n",
       "\t4782--4 & 0.6571 & 0.7000 & 0.6743 &  9 & 15\\\\\n",
       "\t4782--5 & 0.6562 & 0.7250 & 0.6837 & 16 &  6\\\\\n",
       "\t9275--1 & 0.6552 & 0.7500 & 0.6931 & 11 &  9\\\\\n",
       "\\end{tabular}\n"
      ],
      "text/markdown": [
       "\n",
       "A data.frame: 6 × 5\n",
       "\n",
       "| <!--/--> | fscore &lt;dbl&gt; | Acc &lt;dbl&gt; | Type2 &lt;dbl&gt; | FN &lt;dbl&gt; | FP &lt;dbl&gt; |\n",
       "|---|---|---|---|---|---|\n",
       "| 4782--1 | 0.6087 | 0.7750 | 0.6752 |  8 | 10 |\n",
       "| 4782--2 | 0.6071 | 0.7250 | 0.6543 | 11 | 11 |\n",
       "| 4782--3 | 0.5532 | 0.7375 | 0.6269 | 17 |  4 |\n",
       "| 4782--4 | 0.6571 | 0.7000 | 0.6743 |  9 | 15 |\n",
       "| 4782--5 | 0.6562 | 0.7250 | 0.6837 | 16 |  6 |\n",
       "| 9275--1 | 0.6552 | 0.7500 | 0.6931 | 11 |  9 |\n",
       "\n"
      ],
      "text/plain": [
       "        fscore Acc    Type2  FN FP\n",
       "4782--1 0.6087 0.7750 0.6752  8 10\n",
       "4782--2 0.6071 0.7250 0.6543 11 11\n",
       "4782--3 0.5532 0.7375 0.6269 17  4\n",
       "4782--4 0.6571 0.7000 0.6743  9 15\n",
       "4782--5 0.6562 0.7250 0.6837 16  6\n",
       "9275--1 0.6552 0.7500 0.6931 11  9"
      ]
     },
     "metadata": {},
     "output_type": "display_data"
    }
   ],
   "source": [
    "dim(dat_result)\n",
    "head(dat_result)\n"
   ]
  },
  {
   "cell_type": "code",
   "execution_count": 109,
   "metadata": {},
   "outputs": [
    {
     "data": {
      "text/html": [
       "'fscore mean: 0.6169'"
      ],
      "text/latex": [
       "'fscore mean: 0.6169'"
      ],
      "text/markdown": [
       "'fscore mean: 0.6169'"
      ],
      "text/plain": [
       "[1] \"fscore mean: 0.6169\""
      ]
     },
     "metadata": {},
     "output_type": "display_data"
    },
    {
     "data": {
      "text/html": [
       "'fscore StdDev: 0.0693'"
      ],
      "text/latex": [
       "'fscore StdDev: 0.0693'"
      ],
      "text/markdown": [
       "'fscore StdDev: 0.0693'"
      ],
      "text/plain": [
       "[1] \"fscore StdDev: 0.0693\""
      ]
     },
     "metadata": {},
     "output_type": "display_data"
    },
    {
     "data": {
      "text/html": [
       "''"
      ],
      "text/latex": [
       "''"
      ],
      "text/markdown": [
       "''"
      ],
      "text/plain": [
       "[1] \"\""
      ]
     },
     "metadata": {},
     "output_type": "display_data"
    },
    {
     "data": {
      "text/plain": [
       "   Min. 1st Qu.  Median    Mean 3rd Qu.    Max. \n",
       "  0.244   0.571   0.621   0.617   0.667   0.828 "
      ]
     },
     "metadata": {},
     "output_type": "display_data"
    }
   ],
   "source": [
    "fscore_mean <- round(mean(dat_result$fscore), 4)\n",
    "fscore_sd <- round(sd(dat_result$fscore), 4)\n",
    "paste0(\"fscore mean: \", as.character(fscore_mean))\n",
    "# 0.6169\n",
    "paste0(\"fscore StdDev: \", as.character(fscore_sd))\n",
    "# 0.0693\n",
    "\"\"\n",
    "summary(dat_result$fscore)\n"
   ]
  },
  {
   "cell_type": "code",
   "execution_count": 110,
   "metadata": {},
   "outputs": [
    {
     "data": {
      "text/html": [
       "'accuracy mean: 0.7306'"
      ],
      "text/latex": [
       "'accuracy mean: 0.7306'"
      ],
      "text/markdown": [
       "'accuracy mean: 0.7306'"
      ],
      "text/plain": [
       "[1] \"accuracy mean: 0.7306\""
      ]
     },
     "metadata": {},
     "output_type": "display_data"
    },
    {
     "data": {
      "text/html": [
       "'accuracy StdDev: 0.0458'"
      ],
      "text/latex": [
       "'accuracy StdDev: 0.0458'"
      ],
      "text/markdown": [
       "'accuracy StdDev: 0.0458'"
      ],
      "text/plain": [
       "[1] \"accuracy StdDev: 0.0458\""
      ]
     },
     "metadata": {},
     "output_type": "display_data"
    },
    {
     "data": {
      "text/html": [
       "''"
      ],
      "text/latex": [
       "''"
      ],
      "text/markdown": [
       "''"
      ],
      "text/plain": [
       "[1] \"\""
      ]
     },
     "metadata": {},
     "output_type": "display_data"
    },
    {
     "data": {
      "text/plain": [
       "   Min. 1st Qu.  Median    Mean 3rd Qu.    Max. \n",
       "  0.562   0.700   0.738   0.731   0.762   0.875 "
      ]
     },
     "metadata": {},
     "output_type": "display_data"
    }
   ],
   "source": [
    "Acc_mean <- round(mean(dat_result$Acc), 4)\n",
    "Acc_sd <- round(sd(dat_result$Acc), 4)\n",
    "paste0(\"accuracy mean: \", as.character(Acc_mean))\n",
    "# 0.7306\n",
    "paste0(\"accuracy StdDev: \", as.character(Acc_sd))\n",
    "# 0.0458\n",
    "\"\"\n",
    "summary(dat_result$Acc)\n"
   ]
  },
  {
   "cell_type": "code",
   "execution_count": 111,
   "metadata": {},
   "outputs": [
    {
     "data": {
      "text/html": [
       "'Type2 mean: 0.6624'"
      ],
      "text/latex": [
       "'Type2 mean: 0.6624'"
      ],
      "text/markdown": [
       "'Type2 mean: 0.6624'"
      ],
      "text/plain": [
       "[1] \"Type2 mean: 0.6624\""
      ]
     },
     "metadata": {},
     "output_type": "display_data"
    },
    {
     "data": {
      "text/html": [
       "'Type2 StdDev: 0.0573'"
      ],
      "text/latex": [
       "'Type2 StdDev: 0.0573'"
      ],
      "text/markdown": [
       "'Type2 StdDev: 0.0573'"
      ],
      "text/plain": [
       "[1] \"Type2 StdDev: 0.0573\""
      ]
     },
     "metadata": {},
     "output_type": "display_data"
    },
    {
     "data": {
      "text/html": [
       "''"
      ],
      "text/latex": [
       "''"
      ],
      "text/markdown": [
       "''"
      ],
      "text/plain": [
       "[1] \"\""
      ]
     },
     "metadata": {},
     "output_type": "display_data"
    },
    {
     "data": {
      "text/plain": [
       "   Min. 1st Qu.  Median    Mean 3rd Qu.    Max. \n",
       "  0.388   0.625   0.664   0.662   0.702   0.847 "
      ]
     },
     "metadata": {},
     "output_type": "display_data"
    }
   ],
   "source": [
    "Type2_mean <- round(mean(dat_result$Type2), 4)\n",
    "Type2_sd <- round(sd(dat_result$Type2), 4)\n",
    "paste0(\"Type2 mean: \", as.character(Type2_mean))\n",
    "# 0.6624\n",
    "paste0(\"Type2 StdDev: \", as.character(Type2_sd))\n",
    "# 0.0573\n",
    "\"\"\n",
    "summary(dat_result$Type2)\n"
   ]
  },
  {
   "cell_type": "code",
   "execution_count": 112,
   "metadata": {},
   "outputs": [
    {
     "data": {
      "image/png": "[encoded data removed]",
      "text/plain": [
       "Plot with title “Distribution of Type2 scores for hybrid model \n",
       "w/ prob01 from g03 and prob02 from gbclf_best”"
      ]
     },
     "metadata": {
      "image/png": {
       "height": 360,
       "width": 600
      }
     },
     "output_type": "display_data"
    }
   ],
   "source": [
    "# Histogram of the Type2 scores for the hybrid model with prob01.\n",
    "\n",
    "options(repr.plot.width= 10, repr.plot.height= 6)\n",
    "hist(dat_result$Type2, breaks=10, xlab=\"Type2 score\",\n",
    "     main=\"Distribution of Type2 scores for hybrid model \n",
    "w/ prob01 from g03 and prob02 from gbclf_best\")\n"
   ]
  },
  {
   "cell_type": "code",
   "execution_count": 113,
   "metadata": {},
   "outputs": [
    {
     "data": {
      "text/html": [
       "'FN mean: 12.2306'"
      ],
      "text/latex": [
       "'FN mean: 12.2306'"
      ],
      "text/markdown": [
       "'FN mean: 12.2306'"
      ],
      "text/plain": [
       "[1] \"FN mean: 12.2306\""
      ]
     },
     "metadata": {},
     "output_type": "display_data"
    },
    {
     "data": {
      "text/html": [
       "'FN StdDev: 3.0879'"
      ],
      "text/latex": [
       "'FN StdDev: 3.0879'"
      ],
      "text/markdown": [
       "'FN StdDev: 3.0879'"
      ],
      "text/plain": [
       "[1] \"FN StdDev: 3.0879\""
      ]
     },
     "metadata": {},
     "output_type": "display_data"
    },
    {
     "data": {
      "text/html": [
       "''"
      ],
      "text/latex": [
       "''"
      ],
      "text/markdown": [
       "''"
      ],
      "text/plain": [
       "[1] \"\""
      ]
     },
     "metadata": {},
     "output_type": "display_data"
    },
    {
     "data": {
      "text/plain": [
       "   Min. 1st Qu.  Median    Mean 3rd Qu.    Max. \n",
       "    1.0    10.0    12.0    12.2    14.0    24.0 "
      ]
     },
     "metadata": {},
     "output_type": "display_data"
    }
   ],
   "source": [
    "FN_mean <- round(mean(dat_result$FN), 4)\n",
    "FN_sd <- round(sd(dat_result$FN), 4)\n",
    "paste0(\"FN mean: \", as.character(FN_mean))\n",
    "# 12.23\n",
    "paste0(\"FN StdDev: \", as.character(FN_sd))\n",
    "# 3.09\n",
    "\"\"\n",
    "summary(dat_result$FN)\n"
   ]
  },
  {
   "cell_type": "code",
   "execution_count": 114,
   "metadata": {},
   "outputs": [
    {
     "data": {
      "text/html": [
       "'FP mean: 9.3252'"
      ],
      "text/latex": [
       "'FP mean: 9.3252'"
      ],
      "text/markdown": [
       "'FP mean: 9.3252'"
      ],
      "text/plain": [
       "[1] \"FP mean: 9.3252\""
      ]
     },
     "metadata": {},
     "output_type": "display_data"
    },
    {
     "data": {
      "text/html": [
       "'FP StdDev: 3.1096'"
      ],
      "text/latex": [
       "'FP StdDev: 3.1096'"
      ],
      "text/markdown": [
       "'FP StdDev: 3.1096'"
      ],
      "text/plain": [
       "[1] \"FP StdDev: 3.1096\""
      ]
     },
     "metadata": {},
     "output_type": "display_data"
    },
    {
     "data": {
      "text/html": [
       "''"
      ],
      "text/latex": [
       "''"
      ],
      "text/markdown": [
       "''"
      ],
      "text/plain": [
       "[1] \"\""
      ]
     },
     "metadata": {},
     "output_type": "display_data"
    },
    {
     "data": {
      "text/plain": [
       "   Min. 1st Qu.  Median    Mean 3rd Qu.    Max. \n",
       "   1.00    7.00    9.00    9.33   11.00   22.00 "
      ]
     },
     "metadata": {},
     "output_type": "display_data"
    }
   ],
   "source": [
    "FP_mean <- round(mean(dat_result$FP), 4)\n",
    "FP_sd <- round(sd(dat_result$FP), 4)\n",
    "paste0(\"FP mean: \", as.character(FP_mean))\n",
    "# 9.325\n",
    "paste0(\"FP StdDev: \", as.character(FP_sd))\n",
    "# 3.11\n",
    "\"\"\n",
    "summary(dat_result$FP)\n"
   ]
  },
  {
   "cell_type": "markdown",
   "metadata": {},
   "source": [
    "## Summary for Postscript"
   ]
  },
  {
   "cell_type": "markdown",
   "metadata": {},
   "source": [
    "The second probability column neither hurt nor helped the k-means hybrid model.  The scores for this latest hybrid model are essentially the same as those for km_g03.  The average Type2 score is exactly the same.  The extremely low weight on the prob02 column (I didn't permit the weight to go lower than 0.02) suggests that this added variable is not helping the model.\n",
    "\n",
    "It is likely there is another classification model we could use for a prob02 column that would improve upon our current best model, km_g03.  We would just have to find the model.  It would probably have to have an accuracy greater than that of km_g03.  The f-score might also need to be higher.  Otherwise the new model for the prob02 column would not be adding the kind of information we need (or so one would think) in order to improve upon km_g03's scores.\n",
    "\n",
    "This Postscript section shows how we can make use of tot.withinss when searching for optimal weights.  This second approach to finding weights is more efficient than directly relying upon Type2 cross-validation scores.\n",
    "\n",
    "\n",
    "\n",
    "                                      * * * * * "
   ]
  },
  {
   "cell_type": "code",
   "execution_count": null,
   "metadata": {},
   "outputs": [],
   "source": []
  }
 ],
 "metadata": {
  "kernelspec": {
   "display_name": "R",
   "language": "R",
   "name": "ir"
  },
  "language_info": {
   "codemirror_mode": "r",
   "file_extension": ".r",
   "mimetype": "text/x-r-source",
   "name": "R",
   "pygments_lexer": "r",
   "version": "4.1.0"
  }
 },
 "nbformat": 4,
 "nbformat_minor": 4
}
