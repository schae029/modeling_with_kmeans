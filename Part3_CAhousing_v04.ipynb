{
 "cells": [
  {
   "cell_type": "markdown",
   "metadata": {},
   "source": [
    "# Modeling with k-means, Part 3"
   ]
  },
  {
   "cell_type": "markdown",
   "metadata": {},
   "source": [
    "In this notebook I investigate how well the k-means algorithm distinguishes between the INLAND California housing districts and the districts closer to the ocean.  The INLAND districts are already identified as such.  I start with 11 predictors.  The longitude and latitude variables are removed in order to make the challenge meaningful.  Variables remaining include, among others, the median house value of each district, the median housing age of a district, the population per household in the district, and so forth.  For more information on this dataset, see my CA housing analysis project.  (This project involves a set of Jupyter notebooks.  See the AnalyzeCAhousingData repository.)\n",
    "\n",
    "As with the downer cow dataset, I want to see whether we can construct a better classification model using k-means in combination with one or more supervised learning algoritms.  Applying weights to the variables in this dataset will be more difficult because there are more variables to work with and quite a bit more data, so finding the optimal weights will take some computing power.\n",
    "\n",
    "\n",
    "\n",
    "                                      * * * * * "
   ]
  },
  {
   "cell_type": "markdown",
   "metadata": {},
   "source": [
    "# Preliminaries"
   ]
  },
  {
   "cell_type": "code",
   "execution_count": null,
   "metadata": {},
   "outputs": [],
   "source": [
    "require(car)\n",
    "require(repr)\n",
    "require(ggplot2)\n",
    "require(stringr)\n",
    "require(parallel)\n",
    "require(faraway)\n",
    "require(randomForest)\n",
    "require(gbm)\n",
    "require(plyr)\n",
    "require(e1071)\n"
   ]
  },
  {
   "cell_type": "code",
   "execution_count": 2,
   "metadata": {},
   "outputs": [],
   "source": [
    "options(digits= 5, show.signif.stars= FALSE)\n"
   ]
  },
  {
   "cell_type": "markdown",
   "metadata": {},
   "source": [
    "## Construct training and test sets"
   ]
  },
  {
   "cell_type": "code",
   "execution_count": 3,
   "metadata": {},
   "outputs": [
    {
     "data": {
      "text/html": [
       "<style>\n",
       ".list-inline {list-style: none; margin:0; padding: 0}\n",
       ".list-inline>li {display: inline-block}\n",
       ".list-inline>li:not(:last-child)::after {content: \"\\00b7\"; padding: 0 .5ex}\n",
       "</style>\n",
       "<ol class=list-inline><li>16308</li><li>18</li></ol>\n"
      ],
      "text/latex": [
       "\\begin{enumerate*}\n",
       "\\item 16308\n",
       "\\item 18\n",
       "\\end{enumerate*}\n"
      ],
      "text/markdown": [
       "1. 16308\n",
       "2. 18\n",
       "\n",
       "\n"
      ],
      "text/plain": [
       "[1] 16308    18"
      ]
     },
     "metadata": {},
     "output_type": "display_data"
    }
   ],
   "source": [
    "traindat <- read.csv(\"/home/greg/Documents/stat/Geron_ML/datasets/housing/R_train_Part02-2_Step5.csv\",\n",
    "                  header = T, row.names= 1, colClasses= c(\"character\", rep(\"numeric\", 9), rep(\"character\", 2), \n",
    "                                rep(\"numeric\", 4), \"character\", \"numeric\", \"character\"))\n",
    "dim(traindat)\n"
   ]
  },
  {
   "cell_type": "code",
   "execution_count": 4,
   "metadata": {},
   "outputs": [
    {
     "data": {
      "text/html": [
       "<style>\n",
       ".list-inline {list-style: none; margin:0; padding: 0}\n",
       ".list-inline>li {display: inline-block}\n",
       ".list-inline>li:not(:last-child)::after {content: \"\\00b7\"; padding: 0 .5ex}\n",
       "</style>\n",
       "<ol class=list-inline><li>'longitude'</li><li>'latitude'</li><li>'housing_median_age'</li><li>'total_rooms'</li><li>'total_bedrooms'</li><li>'population'</li><li>'households'</li><li>'median_income'</li><li>'median_house_value'</li><li>'ocean_proximity'</li><li>'HHdensity'</li><li>'HHdens_ln'</li><li>'rooms_per_hh'</li><li>'bdrms_per_room'</li><li>'pop_per_hh'</li><li>'op_transf'</li><li>'long_transf'</li><li>'income_cat'</li></ol>\n"
      ],
      "text/latex": [
       "\\begin{enumerate*}\n",
       "\\item 'longitude'\n",
       "\\item 'latitude'\n",
       "\\item 'housing\\_median\\_age'\n",
       "\\item 'total\\_rooms'\n",
       "\\item 'total\\_bedrooms'\n",
       "\\item 'population'\n",
       "\\item 'households'\n",
       "\\item 'median\\_income'\n",
       "\\item 'median\\_house\\_value'\n",
       "\\item 'ocean\\_proximity'\n",
       "\\item 'HHdensity'\n",
       "\\item 'HHdens\\_ln'\n",
       "\\item 'rooms\\_per\\_hh'\n",
       "\\item 'bdrms\\_per\\_room'\n",
       "\\item 'pop\\_per\\_hh'\n",
       "\\item 'op\\_transf'\n",
       "\\item 'long\\_transf'\n",
       "\\item 'income\\_cat'\n",
       "\\end{enumerate*}\n"
      ],
      "text/markdown": [
       "1. 'longitude'\n",
       "2. 'latitude'\n",
       "3. 'housing_median_age'\n",
       "4. 'total_rooms'\n",
       "5. 'total_bedrooms'\n",
       "6. 'population'\n",
       "7. 'households'\n",
       "8. 'median_income'\n",
       "9. 'median_house_value'\n",
       "10. 'ocean_proximity'\n",
       "11. 'HHdensity'\n",
       "12. 'HHdens_ln'\n",
       "13. 'rooms_per_hh'\n",
       "14. 'bdrms_per_room'\n",
       "15. 'pop_per_hh'\n",
       "16. 'op_transf'\n",
       "17. 'long_transf'\n",
       "18. 'income_cat'\n",
       "\n",
       "\n"
      ],
      "text/plain": [
       " [1] \"longitude\"          \"latitude\"           \"housing_median_age\"\n",
       " [4] \"total_rooms\"        \"total_bedrooms\"     \"population\"        \n",
       " [7] \"households\"         \"median_income\"      \"median_house_value\"\n",
       "[10] \"ocean_proximity\"    \"HHdensity\"          \"HHdens_ln\"         \n",
       "[13] \"rooms_per_hh\"       \"bdrms_per_room\"     \"pop_per_hh\"        \n",
       "[16] \"op_transf\"          \"long_transf\"        \"income_cat\"        "
      ]
     },
     "metadata": {},
     "output_type": "display_data"
    }
   ],
   "source": [
    "colnames(traindat)\n"
   ]
  },
  {
   "cell_type": "code",
   "execution_count": 22,
   "metadata": {},
   "outputs": [
    {
     "data": {
      "text/plain": [
       "\n",
       "  INLAND NEAR BAY    OCEAN \n",
       "    5172     1816     9320 "
      ]
     },
     "metadata": {},
     "output_type": "display_data"
    }
   ],
   "source": [
    "table(as.factor(traindat$op_transf))\n"
   ]
  },
  {
   "cell_type": "code",
   "execution_count": 23,
   "metadata": {},
   "outputs": [
    {
     "data": {
      "text/html": [
       "<style>\n",
       ".list-inline {list-style: none; margin:0; padding: 0}\n",
       ".list-inline>li {display: inline-block}\n",
       ".list-inline>li:not(:last-child)::after {content: \"\\00b7\"; padding: 0 .5ex}\n",
       "</style>\n",
       "<ol class=list-inline><li>3888</li><li>18</li></ol>\n"
      ],
      "text/latex": [
       "\\begin{enumerate*}\n",
       "\\item 3888\n",
       "\\item 18\n",
       "\\end{enumerate*}\n"
      ],
      "text/markdown": [
       "1. 3888\n",
       "2. 18\n",
       "\n",
       "\n"
      ],
      "text/plain": [
       "[1] 3888   18"
      ]
     },
     "metadata": {},
     "output_type": "display_data"
    }
   ],
   "source": [
    "testdat <- read.csv(\"/home/greg/Documents/stat/Geron_ML/datasets/housing/R_test_Part02-2_Step5.csv\",\n",
    "                    header = T, row.names= 1,\n",
    "                    colClasses= c(\"character\", rep(\"numeric\", 9), \n",
    "                                  rep(\"character\", 2), rep(\"numeric\", 4),\n",
    "                                  \"character\", \"numeric\", \"character\"))\n",
    "dim(testdat)\n"
   ]
  },
  {
   "cell_type": "code",
   "execution_count": 24,
   "metadata": {},
   "outputs": [
    {
     "data": {
      "text/html": [
       "<style>\n",
       ".list-inline {list-style: none; margin:0; padding: 0}\n",
       ".list-inline>li {display: inline-block}\n",
       ".list-inline>li:not(:last-child)::after {content: \"\\00b7\"; padding: 0 .5ex}\n",
       "</style>\n",
       "<ol class=list-inline><li>'longitude'</li><li>'latitude'</li><li>'housing_median_age'</li><li>'total_rooms'</li><li>'total_bedrooms'</li><li>'population'</li><li>'households'</li><li>'median_income'</li><li>'median_house_value'</li><li>'ocean_proximity'</li><li>'HHdensity'</li><li>'HHdens_ln'</li><li>'rooms_per_hh'</li><li>'bdrms_per_room'</li><li>'pop_per_hh'</li><li>'op_transf'</li><li>'long_transf'</li><li>'income_cat'</li></ol>\n"
      ],
      "text/latex": [
       "\\begin{enumerate*}\n",
       "\\item 'longitude'\n",
       "\\item 'latitude'\n",
       "\\item 'housing\\_median\\_age'\n",
       "\\item 'total\\_rooms'\n",
       "\\item 'total\\_bedrooms'\n",
       "\\item 'population'\n",
       "\\item 'households'\n",
       "\\item 'median\\_income'\n",
       "\\item 'median\\_house\\_value'\n",
       "\\item 'ocean\\_proximity'\n",
       "\\item 'HHdensity'\n",
       "\\item 'HHdens\\_ln'\n",
       "\\item 'rooms\\_per\\_hh'\n",
       "\\item 'bdrms\\_per\\_room'\n",
       "\\item 'pop\\_per\\_hh'\n",
       "\\item 'op\\_transf'\n",
       "\\item 'long\\_transf'\n",
       "\\item 'income\\_cat'\n",
       "\\end{enumerate*}\n"
      ],
      "text/markdown": [
       "1. 'longitude'\n",
       "2. 'latitude'\n",
       "3. 'housing_median_age'\n",
       "4. 'total_rooms'\n",
       "5. 'total_bedrooms'\n",
       "6. 'population'\n",
       "7. 'households'\n",
       "8. 'median_income'\n",
       "9. 'median_house_value'\n",
       "10. 'ocean_proximity'\n",
       "11. 'HHdensity'\n",
       "12. 'HHdens_ln'\n",
       "13. 'rooms_per_hh'\n",
       "14. 'bdrms_per_room'\n",
       "15. 'pop_per_hh'\n",
       "16. 'op_transf'\n",
       "17. 'long_transf'\n",
       "18. 'income_cat'\n",
       "\n",
       "\n"
      ],
      "text/plain": [
       " [1] \"longitude\"          \"latitude\"           \"housing_median_age\"\n",
       " [4] \"total_rooms\"        \"total_bedrooms\"     \"population\"        \n",
       " [7] \"households\"         \"median_income\"      \"median_house_value\"\n",
       "[10] \"ocean_proximity\"    \"HHdensity\"          \"HHdens_ln\"         \n",
       "[13] \"rooms_per_hh\"       \"bdrms_per_room\"     \"pop_per_hh\"        \n",
       "[16] \"op_transf\"          \"long_transf\"        \"income_cat\"        "
      ]
     },
     "metadata": {},
     "output_type": "display_data"
    }
   ],
   "source": [
    "colnames(testdat)\n"
   ]
  },
  {
   "cell_type": "code",
   "execution_count": 25,
   "metadata": {},
   "outputs": [
    {
     "data": {
      "text/html": [
       "<style>\n",
       ".list-inline {list-style: none; margin:0; padding: 0}\n",
       ".list-inline>li {display: inline-block}\n",
       ".list-inline>li:not(:last-child)::after {content: \"\\00b7\"; padding: 0 .5ex}\n",
       "</style>\n",
       "<ol class=list-inline><li>20196</li><li>18</li></ol>\n"
      ],
      "text/latex": [
       "\\begin{enumerate*}\n",
       "\\item 20196\n",
       "\\item 18\n",
       "\\end{enumerate*}\n"
      ],
      "text/markdown": [
       "1. 20196\n",
       "2. 18\n",
       "\n",
       "\n"
      ],
      "text/plain": [
       "[1] 20196    18"
      ]
     },
     "metadata": {},
     "output_type": "display_data"
    },
    {
     "data": {
      "text/plain": [
       "\n",
       "  INLAND NEAR BAY    OCEAN \n",
       "    6467     2235    11494 "
      ]
     },
     "metadata": {},
     "output_type": "display_data"
    }
   ],
   "source": [
    "dat <- rbind(traindat, testdat)\n",
    "dim(dat)\n",
    "table(as.factor(dat$op_transf))\n"
   ]
  },
  {
   "cell_type": "code",
   "execution_count": 26,
   "metadata": {},
   "outputs": [
    {
     "data": {
      "text/plain": [
       "\n",
       "    0     1 \n",
       "13729  6467 "
      ]
     },
     "metadata": {},
     "output_type": "display_data"
    }
   ],
   "source": [
    "dat$Inland <- 0\n",
    "dat[which(dat$op_transf== \"INLAND\"),]$Inland <- 1\n",
    "table(dat$Inland)\n"
   ]
  },
  {
   "cell_type": "code",
   "execution_count": 27,
   "metadata": {},
   "outputs": [
    {
     "data": {
      "text/html": [
       "<style>\n",
       ".list-inline {list-style: none; margin:0; padding: 0}\n",
       ".list-inline>li {display: inline-block}\n",
       ".list-inline>li:not(:last-child)::after {content: \"\\00b7\"; padding: 0 .5ex}\n",
       "</style>\n",
       "<ol class=list-inline><li>'longitude'</li><li>'latitude'</li><li>'housing_median_age'</li><li>'total_rooms'</li><li>'total_bedrooms'</li><li>'population'</li><li>'households'</li><li>'median_income'</li><li>'median_house_value'</li><li>'HHdens_ln'</li><li>'rooms_per_hh'</li><li>'bdrms_per_room'</li><li>'pop_per_hh'</li><li>'long_transf'</li><li>'Inland'</li></ol>\n"
      ],
      "text/latex": [
       "\\begin{enumerate*}\n",
       "\\item 'longitude'\n",
       "\\item 'latitude'\n",
       "\\item 'housing\\_median\\_age'\n",
       "\\item 'total\\_rooms'\n",
       "\\item 'total\\_bedrooms'\n",
       "\\item 'population'\n",
       "\\item 'households'\n",
       "\\item 'median\\_income'\n",
       "\\item 'median\\_house\\_value'\n",
       "\\item 'HHdens\\_ln'\n",
       "\\item 'rooms\\_per\\_hh'\n",
       "\\item 'bdrms\\_per\\_room'\n",
       "\\item 'pop\\_per\\_hh'\n",
       "\\item 'long\\_transf'\n",
       "\\item 'Inland'\n",
       "\\end{enumerate*}\n"
      ],
      "text/markdown": [
       "1. 'longitude'\n",
       "2. 'latitude'\n",
       "3. 'housing_median_age'\n",
       "4. 'total_rooms'\n",
       "5. 'total_bedrooms'\n",
       "6. 'population'\n",
       "7. 'households'\n",
       "8. 'median_income'\n",
       "9. 'median_house_value'\n",
       "10. 'HHdens_ln'\n",
       "11. 'rooms_per_hh'\n",
       "12. 'bdrms_per_room'\n",
       "13. 'pop_per_hh'\n",
       "14. 'long_transf'\n",
       "15. 'Inland'\n",
       "\n",
       "\n"
      ],
      "text/plain": [
       " [1] \"longitude\"          \"latitude\"           \"housing_median_age\"\n",
       " [4] \"total_rooms\"        \"total_bedrooms\"     \"population\"        \n",
       " [7] \"households\"         \"median_income\"      \"median_house_value\"\n",
       "[10] \"HHdens_ln\"          \"rooms_per_hh\"       \"bdrms_per_room\"    \n",
       "[13] \"pop_per_hh\"         \"long_transf\"        \"Inland\"            "
      ]
     },
     "metadata": {},
     "output_type": "display_data"
    }
   ],
   "source": [
    "newcols <- colnames(dat)[which(!(colnames(dat) %in% c(\"HHdensity\", \"income_cat\",\n",
    "                                                     \"ocean_proximity\", \"op_transf\")))]\n",
    "newcols\n"
   ]
  },
  {
   "cell_type": "code",
   "execution_count": 28,
   "metadata": {},
   "outputs": [
    {
     "data": {
      "text/html": [
       "<style>\n",
       ".list-inline {list-style: none; margin:0; padding: 0}\n",
       ".list-inline>li {display: inline-block}\n",
       ".list-inline>li:not(:last-child)::after {content: \"\\00b7\"; padding: 0 .5ex}\n",
       "</style>\n",
       "<ol class=list-inline><li>20196</li><li>15</li></ol>\n"
      ],
      "text/latex": [
       "\\begin{enumerate*}\n",
       "\\item 20196\n",
       "\\item 15\n",
       "\\end{enumerate*}\n"
      ],
      "text/markdown": [
       "1. 20196\n",
       "2. 15\n",
       "\n",
       "\n"
      ],
      "text/plain": [
       "[1] 20196    15"
      ]
     },
     "metadata": {},
     "output_type": "display_data"
    },
    {
     "data": {
      "text/html": [
       "<style>\n",
       ".list-inline {list-style: none; margin:0; padding: 0}\n",
       ".list-inline>li {display: inline-block}\n",
       ".list-inline>li:not(:last-child)::after {content: \"\\00b7\"; padding: 0 .5ex}\n",
       "</style>\n",
       "<ol class=list-inline><li>'longitude'</li><li>'latitude'</li><li>'housing_median_age'</li><li>'total_rooms'</li><li>'total_bedrooms'</li><li>'population'</li><li>'households'</li><li>'median_income'</li><li>'median_house_value'</li><li>'HHdens_ln'</li><li>'rooms_per_hh'</li><li>'bdrms_per_room'</li><li>'pop_per_hh'</li><li>'long_transf'</li><li>'Inland'</li></ol>\n"
      ],
      "text/latex": [
       "\\begin{enumerate*}\n",
       "\\item 'longitude'\n",
       "\\item 'latitude'\n",
       "\\item 'housing\\_median\\_age'\n",
       "\\item 'total\\_rooms'\n",
       "\\item 'total\\_bedrooms'\n",
       "\\item 'population'\n",
       "\\item 'households'\n",
       "\\item 'median\\_income'\n",
       "\\item 'median\\_house\\_value'\n",
       "\\item 'HHdens\\_ln'\n",
       "\\item 'rooms\\_per\\_hh'\n",
       "\\item 'bdrms\\_per\\_room'\n",
       "\\item 'pop\\_per\\_hh'\n",
       "\\item 'long\\_transf'\n",
       "\\item 'Inland'\n",
       "\\end{enumerate*}\n"
      ],
      "text/markdown": [
       "1. 'longitude'\n",
       "2. 'latitude'\n",
       "3. 'housing_median_age'\n",
       "4. 'total_rooms'\n",
       "5. 'total_bedrooms'\n",
       "6. 'population'\n",
       "7. 'households'\n",
       "8. 'median_income'\n",
       "9. 'median_house_value'\n",
       "10. 'HHdens_ln'\n",
       "11. 'rooms_per_hh'\n",
       "12. 'bdrms_per_room'\n",
       "13. 'pop_per_hh'\n",
       "14. 'long_transf'\n",
       "15. 'Inland'\n",
       "\n",
       "\n"
      ],
      "text/plain": [
       " [1] \"longitude\"          \"latitude\"           \"housing_median_age\"\n",
       " [4] \"total_rooms\"        \"total_bedrooms\"     \"population\"        \n",
       " [7] \"households\"         \"median_income\"      \"median_house_value\"\n",
       "[10] \"HHdens_ln\"          \"rooms_per_hh\"       \"bdrms_per_room\"    \n",
       "[13] \"pop_per_hh\"         \"long_transf\"        \"Inland\"            "
      ]
     },
     "metadata": {},
     "output_type": "display_data"
    }
   ],
   "source": [
    "dat <- dat[, newcols]\n",
    "dim(dat)\n",
    "colnames(dat)\n"
   ]
  },
  {
   "cell_type": "code",
   "execution_count": 29,
   "metadata": {},
   "outputs": [
    {
     "data": {
      "text/html": [
       "<style>\n",
       ".list-inline {list-style: none; margin:0; padding: 0}\n",
       ".list-inline>li {display: inline-block}\n",
       ".list-inline>li:not(:last-child)::after {content: \"\\00b7\"; padding: 0 .5ex}\n",
       "</style>\n",
       "<ol class=list-inline><li>10000</li><li>15</li></ol>\n"
      ],
      "text/latex": [
       "\\begin{enumerate*}\n",
       "\\item 10000\n",
       "\\item 15\n",
       "\\end{enumerate*}\n"
      ],
      "text/markdown": [
       "1. 10000\n",
       "2. 15\n",
       "\n",
       "\n"
      ],
      "text/plain": [
       "[1] 10000    15"
      ]
     },
     "metadata": {},
     "output_type": "display_data"
    }
   ],
   "source": [
    "# Create training and test sets for use in testing\n",
    "# new k-means approach. \n",
    "\n",
    "set.seed(8763)\n",
    "smp <- sample(rownames(dat), 10196, replace=FALSE)\n",
    "traindat <- dat[smp,]\n",
    "testdat <- dat[which(!(rownames(dat) %in% smp)),]\n",
    "dim(testdat)\n"
   ]
  },
  {
   "cell_type": "code",
   "execution_count": 30,
   "metadata": {},
   "outputs": [],
   "source": [
    "rm(dat)\n"
   ]
  },
  {
   "cell_type": "code",
   "execution_count": 31,
   "metadata": {},
   "outputs": [
    {
     "data": {
      "text/html": [
       "<style>\n",
       ".list-inline {list-style: none; margin:0; padding: 0}\n",
       ".list-inline>li {display: inline-block}\n",
       ".list-inline>li:not(:last-child)::after {content: \"\\00b7\"; padding: 0 .5ex}\n",
       "</style>\n",
       "<ol class=list-inline><li>'housing_median_age'</li><li>'total_rooms'</li><li>'total_bedrooms'</li><li>'population'</li><li>'households'</li><li>'median_income'</li><li>'median_house_value'</li><li>'HHdens_ln'</li><li>'rooms_per_hh'</li><li>'bdrms_per_room'</li><li>'pop_per_hh'</li><li>'Inland'</li></ol>\n"
      ],
      "text/latex": [
       "\\begin{enumerate*}\n",
       "\\item 'housing\\_median\\_age'\n",
       "\\item 'total\\_rooms'\n",
       "\\item 'total\\_bedrooms'\n",
       "\\item 'population'\n",
       "\\item 'households'\n",
       "\\item 'median\\_income'\n",
       "\\item 'median\\_house\\_value'\n",
       "\\item 'HHdens\\_ln'\n",
       "\\item 'rooms\\_per\\_hh'\n",
       "\\item 'bdrms\\_per\\_room'\n",
       "\\item 'pop\\_per\\_hh'\n",
       "\\item 'Inland'\n",
       "\\end{enumerate*}\n"
      ],
      "text/markdown": [
       "1. 'housing_median_age'\n",
       "2. 'total_rooms'\n",
       "3. 'total_bedrooms'\n",
       "4. 'population'\n",
       "5. 'households'\n",
       "6. 'median_income'\n",
       "7. 'median_house_value'\n",
       "8. 'HHdens_ln'\n",
       "9. 'rooms_per_hh'\n",
       "10. 'bdrms_per_room'\n",
       "11. 'pop_per_hh'\n",
       "12. 'Inland'\n",
       "\n",
       "\n"
      ],
      "text/plain": [
       " [1] \"housing_median_age\" \"total_rooms\"        \"total_bedrooms\"    \n",
       " [4] \"population\"         \"households\"         \"median_income\"     \n",
       " [7] \"median_house_value\" \"HHdens_ln\"          \"rooms_per_hh\"      \n",
       "[10] \"bdrms_per_room\"     \"pop_per_hh\"         \"Inland\"            "
      ]
     },
     "metadata": {},
     "output_type": "display_data"
    }
   ],
   "source": [
    "# Remove latitude, longitude, and long_transf from\n",
    "# both traindat and testdat.  If these variables \n",
    "# remained in the dataset, it would be far too easy\n",
    "# to distinguish between the inland and oceanside \n",
    "# districts.  \n",
    "\n",
    "newcols <- colnames(traindat)[which(!(colnames(traindat) %in% \n",
    "                                      c(\"latitude\",\"longitude\",\"long_transf\")))]\n",
    "newcols\n"
   ]
  },
  {
   "cell_type": "code",
   "execution_count": 32,
   "metadata": {},
   "outputs": [
    {
     "data": {
      "text/html": [
       "<style>\n",
       ".list-inline {list-style: none; margin:0; padding: 0}\n",
       ".list-inline>li {display: inline-block}\n",
       ".list-inline>li:not(:last-child)::after {content: \"\\00b7\"; padding: 0 .5ex}\n",
       "</style>\n",
       "<ol class=list-inline><li>10196</li><li>12</li></ol>\n"
      ],
      "text/latex": [
       "\\begin{enumerate*}\n",
       "\\item 10196\n",
       "\\item 12\n",
       "\\end{enumerate*}\n"
      ],
      "text/markdown": [
       "1. 10196\n",
       "2. 12\n",
       "\n",
       "\n"
      ],
      "text/plain": [
       "[1] 10196    12"
      ]
     },
     "metadata": {},
     "output_type": "display_data"
    }
   ],
   "source": [
    "traindat <- traindat[, newcols]\n",
    "testdat <- testdat[, newcols]\n",
    "dim(traindat)\n"
   ]
  },
  {
   "cell_type": "code",
   "execution_count": 33,
   "metadata": {},
   "outputs": [
    {
     "data": {
      "text/html": [
       "<style>\n",
       ".list-inline {list-style: none; margin:0; padding: 0}\n",
       ".list-inline>li {display: inline-block}\n",
       ".list-inline>li:not(:last-child)::after {content: \"\\00b7\"; padding: 0 .5ex}\n",
       "</style>\n",
       "<ol class=list-inline><li>'Inland'</li><li>'housing_median_age'</li><li>'total_rooms'</li><li>'total_bedrooms'</li><li>'population'</li><li>'households'</li><li>'median_income'</li><li>'median_house_value'</li><li>'HHdens_ln'</li><li>'rooms_per_hh'</li><li>'bdrms_per_room'</li><li>'pop_per_hh'</li></ol>\n"
      ],
      "text/latex": [
       "\\begin{enumerate*}\n",
       "\\item 'Inland'\n",
       "\\item 'housing\\_median\\_age'\n",
       "\\item 'total\\_rooms'\n",
       "\\item 'total\\_bedrooms'\n",
       "\\item 'population'\n",
       "\\item 'households'\n",
       "\\item 'median\\_income'\n",
       "\\item 'median\\_house\\_value'\n",
       "\\item 'HHdens\\_ln'\n",
       "\\item 'rooms\\_per\\_hh'\n",
       "\\item 'bdrms\\_per\\_room'\n",
       "\\item 'pop\\_per\\_hh'\n",
       "\\end{enumerate*}\n"
      ],
      "text/markdown": [
       "1. 'Inland'\n",
       "2. 'housing_median_age'\n",
       "3. 'total_rooms'\n",
       "4. 'total_bedrooms'\n",
       "5. 'population'\n",
       "6. 'households'\n",
       "7. 'median_income'\n",
       "8. 'median_house_value'\n",
       "9. 'HHdens_ln'\n",
       "10. 'rooms_per_hh'\n",
       "11. 'bdrms_per_room'\n",
       "12. 'pop_per_hh'\n",
       "\n",
       "\n"
      ],
      "text/plain": [
       " [1] \"Inland\"             \"housing_median_age\" \"total_rooms\"       \n",
       " [4] \"total_bedrooms\"     \"population\"         \"households\"        \n",
       " [7] \"median_income\"      \"median_house_value\" \"HHdens_ln\"         \n",
       "[10] \"rooms_per_hh\"       \"bdrms_per_room\"     \"pop_per_hh\"        "
      ]
     },
     "metadata": {},
     "output_type": "display_data"
    }
   ],
   "source": [
    "# Move the response variable, Inland, to the first\n",
    "# column.\n",
    "\n",
    "newcols <- colnames(traindat)\n",
    "newcols <- newcols[which(!(newcols %in% c(\"Inland\")))]\n",
    "newcols <- c(\"Inland\", newcols)\n",
    "newcols\n"
   ]
  },
  {
   "cell_type": "code",
   "execution_count": 34,
   "metadata": {},
   "outputs": [],
   "source": [
    "traindat <- traindat[, newcols]\n",
    "testdat <- testdat[, newcols]\n"
   ]
  },
  {
   "cell_type": "code",
   "execution_count": 35,
   "metadata": {},
   "outputs": [],
   "source": [
    "# Save out the files.\n",
    "\n",
    "write.csv(traindat, file=\"/home/greg/Documents/stat/github_repos/cows/CAhousing_train_10196.csv\",\n",
    "          row.names= TRUE)\n",
    "\n",
    "write.csv(testdat, file=\"/home/greg/Documents/stat/github_repos/cows/CAhousing_test_10K.csv\",\n",
    "          row.names= TRUE)\n"
   ]
  },
  {
   "cell_type": "code",
   "execution_count": 5,
   "metadata": {},
   "outputs": [
    {
     "data": {
      "text/html": [
       "<style>\n",
       ".list-inline {list-style: none; margin:0; padding: 0}\n",
       ".list-inline>li {display: inline-block}\n",
       ".list-inline>li:not(:last-child)::after {content: \"\\00b7\"; padding: 0 .5ex}\n",
       "</style>\n",
       "<ol class=list-inline><li>10196</li><li>12</li></ol>\n"
      ],
      "text/latex": [
       "\\begin{enumerate*}\n",
       "\\item 10196\n",
       "\\item 12\n",
       "\\end{enumerate*}\n"
      ],
      "text/markdown": [
       "1. 10196\n",
       "2. 12\n",
       "\n",
       "\n"
      ],
      "text/plain": [
       "[1] 10196    12"
      ]
     },
     "metadata": {},
     "output_type": "display_data"
    }
   ],
   "source": [
    "traindat <- read.csv(\"/home/greg/Documents/stat/github_repos/cows/CAhousing_train_10196.csv\",\n",
    "                    header=TRUE, row.names=1, colClasses= c(\"character\", rep(\"numeric\",12)))\n",
    "dim(traindat)\n"
   ]
  },
  {
   "cell_type": "code",
   "execution_count": 6,
   "metadata": {},
   "outputs": [
    {
     "data": {
      "text/html": [
       "<style>\n",
       ".list-inline {list-style: none; margin:0; padding: 0}\n",
       ".list-inline>li {display: inline-block}\n",
       ".list-inline>li:not(:last-child)::after {content: \"\\00b7\"; padding: 0 .5ex}\n",
       "</style>\n",
       "<ol class=list-inline><li>10000</li><li>12</li></ol>\n"
      ],
      "text/latex": [
       "\\begin{enumerate*}\n",
       "\\item 10000\n",
       "\\item 12\n",
       "\\end{enumerate*}\n"
      ],
      "text/markdown": [
       "1. 10000\n",
       "2. 12\n",
       "\n",
       "\n"
      ],
      "text/plain": [
       "[1] 10000    12"
      ]
     },
     "metadata": {},
     "output_type": "display_data"
    }
   ],
   "source": [
    "testdat <- read.csv(\"/home/greg/Documents/stat/github_repos/cows/CAhousing_test_10K.csv\",\n",
    "                    header=TRUE, row.names=1, colClasses= c(\"character\", rep(\"numeric\",12)))\n",
    "dim(testdat)\n"
   ]
  },
  {
   "cell_type": "code",
   "execution_count": 5,
   "metadata": {},
   "outputs": [
    {
     "data": {
      "text/html": [
       "0.3187"
      ],
      "text/latex": [
       "0.3187"
      ],
      "text/markdown": [
       "0.3187"
      ],
      "text/plain": [
       "[1] 0.3187"
      ]
     },
     "metadata": {},
     "output_type": "display_data"
    }
   ],
   "source": [
    "# Get ratio of Inland to non-Inland in traindat.\n",
    "\n",
    "round(mean(traindat$Inland), 4)\n"
   ]
  },
  {
   "cell_type": "code",
   "execution_count": 6,
   "metadata": {},
   "outputs": [
    {
     "data": {
      "text/html": [
       "0.3218"
      ],
      "text/latex": [
       "0.3218"
      ],
      "text/markdown": [
       "0.3218"
      ],
      "text/plain": [
       "[1] 0.3218"
      ]
     },
     "metadata": {},
     "output_type": "display_data"
    }
   ],
   "source": [
    "# Get ratio of Inland to non-Inland in testdat.\n",
    "\n",
    "round(mean(testdat$Inland), 4)\n"
   ]
  },
  {
   "cell_type": "markdown",
   "metadata": {},
   "source": [
    "## Basic functions"
   ]
  },
  {
   "cell_type": "code",
   "execution_count": 7,
   "metadata": {},
   "outputs": [],
   "source": [
    "# Function for computing \"proportion of deviance explained\", an \n",
    "# R-sqrd statistic for link= logit.  See p.41 of Julian Faraway's\n",
    "# \"Extending the Linear Model with R\" (2006: Chapman & Hall).  \n",
    "# This statistic is due to N. Nagelkerke (1991; see Faraway's\n",
    "# bibliography).\n",
    "\n",
    "get_RsqrdDev <- function(modl) {\n",
    "    \n",
    "    n_obs <- length(modl$fitted.values)\n",
    "    ans <- (1-exp((modl$deviance - modl$null.deviance)/n_obs))/(1-exp(-modl$null.deviance/n_obs))\n",
    "    return(round(ans, 4))\n",
    "}\n"
   ]
  },
  {
   "cell_type": "code",
   "execution_count": 8,
   "metadata": {},
   "outputs": [],
   "source": [
    "# Function to compute f-score for a 2x2 confusion matrix.\n",
    "\n",
    "get_fscore <- function(mat) {\n",
    "    \n",
    "    FN <- as.numeric(mat[2,1])\n",
    "    TP <- as.numeric(mat[2,2])\n",
    "    FP <- as.numeric(mat[1,2])\n",
    "    recall <- TP/(TP + FN)\n",
    "    precision <- TP/(TP + FP)\n",
    "    f_score <- 2* (recall*precision)/(recall + precision)\n",
    "    return(round(f_score, 4))\n",
    "}\n"
   ]
  },
  {
   "cell_type": "code",
   "execution_count": 9,
   "metadata": {},
   "outputs": [],
   "source": [
    "# Function to output a confusion matrix and the f-score \n",
    "# for that matrix (if it is 2x2).\n",
    "\n",
    "get_confusion <- function(preds, df_actual) {\n",
    "    \n",
    "    # df_actual is a one-column dataframe;\n",
    "    # preds is a named vector of predictions;\n",
    "    # preds is of type factor; it is assumed there are\n",
    "    # at least 2 factor levels\n",
    "    \n",
    "    levs <- levels(preds)\n",
    "    n_levs <- length(levs)\n",
    "    if(n_levs== 1) { levs <- c('0', '1') }\n",
    "    n_levs <- max(n_levs, 2)\n",
    "    actual <- as.vector(df_actual[, 1])\n",
    "    names(actual) <- rownames(df_actual)\n",
    "    \n",
    "    datout <- rep(0, n_levs * (n_levs + 1))\n",
    "    dim(datout) <- c(n_levs, n_levs + 1)\n",
    "    datout <- as.data.frame(datout)\n",
    "    colnames(datout) <- c(levs, \"class.error\")\n",
    "    rownames(datout) <- levs\n",
    "    \n",
    "    result <- vector(\"list\", length= 2)\n",
    "    names(result) <- c(\"matrix\",\"f_score\")\n",
    "    \n",
    "    # for each factor level, identify the rcd names\n",
    "    # which should be classed as such\n",
    "    for(rowlev in levs) {\n",
    "        actlev_names <- names(actual[actual == rowlev])\n",
    "        # columns are for the predicted values:\n",
    "        for(collev in levs) {\n",
    "            predlev_names <- names(preds[preds == collev])\n",
    "            if(length(predlev_names > 0)) {\n",
    "                datout[rowlev, collev] <- sum(predlev_names %in% actlev_names)\n",
    "            }\n",
    "        }\n",
    "        nonrow_cols <- levs[!(levs %in% rowlev)]\n",
    "        datout[rowlev, \"class.error\"] <- round(sum(as.vector(datout[rowlev, nonrow_cols]))/\n",
    "                                               sum(as.vector(datout[rowlev, levs])), 4)\n",
    "    }\n",
    "    \n",
    "    result$matrix <- datout\n",
    "    if(n_levs == 2) {\n",
    "        result[[2]] <- get_fscore(as.matrix(datout))\n",
    "    } else {\n",
    "        result$f_score <- NA\n",
    "    }\n",
    "    \n",
    "    return(result)\n",
    "}\n"
   ]
  },
  {
   "cell_type": "code",
   "execution_count": 10,
   "metadata": {},
   "outputs": [],
   "source": [
    "# The following function is from Robert Kabacoff's \"R in Action\", pp.379-380.\n",
    "\n",
    "wssplot <- function(data, title=\"\", nc=15, seed=1233) {\n",
    "    \n",
    "    # wss[1] is the total sum of squares when there is only\n",
    "    # one cluster.  In R's kmeans help this is called 'totss'.\n",
    "    # Here is another way to compute totss: \n",
    "    # ss <- function(x) sum(scale(x, scale = FALSE)^2)\n",
    "    wss <- (nrow(data) - 1)*sum(apply(data, 2, var))\n",
    "    for(i in 2:nc) {\n",
    "        set.seed(seed)\n",
    "        km_model <- suppressWarnings(kmeans(data, centers=i, iter.max=50,\n",
    "                                            nstart=5))\n",
    "        wss[i] <- sum(km_model$withinss)\n",
    "    }\n",
    "    plot(1:nc, wss, type='b', xlab=\"Number of clusters\",\n",
    "        ylab=\"Within groups sums of squares\",\n",
    "        main= title)\n",
    "}\n"
   ]
  },
  {
   "cell_type": "code",
   "execution_count": 11,
   "metadata": {},
   "outputs": [],
   "source": [
    "# Function for identifying which cluster each record\n",
    "# belongs to.  \n",
    "\n",
    "getCluster <- function(x, centers) {\n",
    "    \n",
    "    # x is a row of a dataframe; its columns need\n",
    "    # to be in the same order as centers (a matrix'\n",
    "    # constructed from kmeans)\n",
    "    \n",
    "    cl_dist <- apply(centers, 1, function(y) sqrt(sum((x-y)^2)))\n",
    "    return(which.min(cl_dist)[1])\n",
    "}\n"
   ]
  },
  {
   "cell_type": "code",
   "execution_count": 12,
   "metadata": {},
   "outputs": [],
   "source": [
    "# Function to generate combination of parameters for gridSearch;\n",
    "# each combination must add to a number ~1.  Returns a dataframe, \n",
    "# each row of which is a valid combination.\n",
    "\n",
    "# I re-factored this ftn using R's expand.grid ftn.  expand.grid\n",
    "# actually takes more time to run.  This is probably due to  \n",
    "# type-checking.  It appears that we also run out of memory more\n",
    "# quickly when using expand.grid.  So at the moment I am \n",
    "# reverting to the deprecated section.\n",
    "\n",
    "generate_combs <- function(arglist, tol=0.0001) {\n",
    "    # arglist is a named list; each name is a column\n",
    "    # name of the dataframe which goes to k-means\n",
    "    \n",
    "    #################################################\n",
    "    # this next section is an alternative to expand.grid\n",
    "    #################################################\n",
    "    # if(FALSE) {\n",
    "    n_args <- length(arglist)\n",
    "  \n",
    "    param_vlens <- rep(NA, n_args)\n",
    "    for(i in 1:n_args) {\n",
    "        param_vlens[i] <- length(arglist[[i]])\n",
    "    }\n",
    "    n_rows <- prod(param_vlens)\n",
    "  \n",
    "    datout <- rep(NA, n_args*n_rows)\n",
    "    dim(datout) <- c(n_rows, n_args)\n",
    "    datout <- as.data.frame(datout)\n",
    "    colnames(datout) <- names(arglist)\n",
    "  \n",
    "    cprod <- 1\n",
    "    for(j in 1:n_args) {\n",
    "        vect <- arglist[[j]]\n",
    "        val <- rep(vect, rep(cprod, length(vect)))\n",
    "        datout[, j] <- rep(val, n_rows/length(val))\n",
    "        cprod <- cprod*length(vect)\n",
    "    }  \n",
    "    # } ## end of 'if(FALSE)'\n",
    "    #################################################\n",
    "    \n",
    "    # datout <- expand.grid(arglist, KEEP.OUT.ATTRS= FALSE)\n",
    "    # colnames(datout) <- names(arglist)\n",
    "    \n",
    "    row_sums <- round(rowSums(datout), 4)\n",
    "    names(row_sums) <- rownames(datout)\n",
    "    tol <- tol\n",
    "    row_sums <- row_sums[which((as.numeric(row_sums) <= (1 + tol)) & (as.numeric(row_sums) >= (1 - tol)))]\n",
    "    datout <- datout[names(row_sums),]\n",
    "    return(datout)\n",
    "}\n"
   ]
  },
  {
   "cell_type": "code",
   "execution_count": 13,
   "metadata": {},
   "outputs": [],
   "source": [
    "# Function to constrain range of data between 0 and 1.\n",
    "\n",
    "range01 <- function(x) {(x - min(x))/(max(x) - min(x))}\n"
   ]
  },
  {
   "cell_type": "code",
   "execution_count": 11,
   "metadata": {},
   "outputs": [],
   "source": [
    "# Function for obtaining average of confusion matrix \n",
    "# f-score and percent correctly answered. This function\n",
    "# is called from gridSearch06.\n",
    "\n",
    "get_cvScore_kmp1 <- function(traindat, valdat, wghts) {\n",
    "    \n",
    "    # Apply pca to traindat (4 components).\n",
    "    pca <- prcomp(traindat[, km_predictors], center=TRUE, scale.=TRUE,\n",
    "                  rank.=4, retx=TRUE)\n",
    "    \n",
    "    # Apply min-max scaling.\n",
    "    traindat_scaled <- apply(pca$x, MARGIN=2, range01)\n",
    "    traindat_scaled <- as.data.frame(traindat_scaled)\n",
    "    colnames(traindat_scaled) <- paste0(\"pc\", 1:4)\n",
    "    \n",
    "    # Construct random forest model.\n",
    "    set.seed(1493)\n",
    "    rfclf <- randomForest(I(as.factor(Inland)) ~ ., \n",
    "                          data= traindat[, rfclf_columns], \n",
    "                          ntree=900, mtry= 3, nodesize= 1,\n",
    "                          importance= TRUE)\n",
    "    \n",
    "    # Add prob01 column.\n",
    "    preds_val <- predict(rfclf, newdata= traindat[, rfclf_columns], type=\"prob\")\n",
    "    traindat_scaled$prob01 <- preds_val[, 2]\n",
    "    \n",
    "    # Apply weights.  The sqrt should have been taken in the \n",
    "    # calling function.\n",
    "    cols <- names(wghts)\n",
    "    traindat_wghts <- t(t(traindat_scaled[, cols]) * as.numeric(wghts[cols]))\n",
    "    \n",
    "    \n",
    "    #############################\n",
    "    # Prepare valdat.\n",
    "    \n",
    "    # Apply pca.\n",
    "    tmpdat <- predict(pca, valdat[, km_predictors])\n",
    "    \n",
    "    # Apply min-max scaling.\n",
    "    valdat_scaled <- apply(tmpdat, MARGIN=2, range01)\n",
    "    valdat_scaled <- as.data.frame(valdat_scaled)\n",
    "    colnames(valdat_scaled) <- paste0(\"pc\", 1:4)\n",
    "    \n",
    "    # Add prob01 column.\n",
    "    preds_val <- predict(rfclf, newdata= valdat[, rfclf_columns], type=\"prob\")\n",
    "    valdat_scaled$prob01 <- preds_val[, 2]\n",
    "    \n",
    "    # Apply weights to valdat.\n",
    "    valdat_wghts <- t(t(valdat_scaled[, cols]) * as.numeric(wghts[cols]))\n",
    "    \n",
    "    \n",
    "    #############################\n",
    "    # Construct k-means model on traindat.\n",
    "\n",
    "    kmod <- suppressWarnings(kmeans(traindat_wghts, 2, iter.max = 50, nstart=5))\n",
    "    \n",
    "    # See how the clusters are associated with Inland.\n",
    "    kmtrain_Inland_percent <- mean(traindat$Inland)\n",
    "    # Note that traindat, and not traindat_wghts, is being used\n",
    "    # in the following statement.  The order of the rows needs to\n",
    "    # remain the same among the different versions of traindat.\n",
    "    dfout <- as.data.frame(cbind(traindat$Inland, kmod$cluster))\n",
    "    colnames(dfout) <- c(\"Inland\", \"cluster\")\n",
    "    rownames(dfout) <- rownames(traindat)\n",
    "    dat_c1 <- dfout[which(dfout$cluster== 1),]\n",
    "    datc1_Inland_percent <- mean(dat_c1$Inland)\n",
    "    c1_to_InlandYES <- FALSE\n",
    "    if(datc1_Inland_percent >= kmtrain_Inland_percent) { c1_to_InlandYES <- TRUE }\n",
    " \n",
    "    #############################\n",
    "    # Apply the k-means model to valdat_wghts.\n",
    "    \n",
    "    # Each element of the following list is a row of valdat_wghts.\n",
    "    valdat_asList <- split(valdat_wghts[, colnames(kmod$centers)],\n",
    "                           seq(nrow(valdat_wghts)))\n",
    "    \n",
    "    ctr_list <- vector(\"list\", length= nrow(valdat))\n",
    "    for(i in 1:nrow(valdat)) {\n",
    "        ctr_list[[i]] <- kmod$centers\n",
    "    }\n",
    "    names(ctr_list) <- rownames(valdat)\n",
    "    \n",
    "    # Get the predictions for the validation set.\n",
    "    preds <- mcmapply(getCluster, valdat_asList, ctr_list,\n",
    "                      SIMPLIFY=TRUE, mc.cores=6)\n",
    "    valdat$cluster <- as.numeric(preds)\n",
    "    \n",
    "    valdat$pred_Inland <- NA\n",
    "    if(c1_to_InlandYES) {\n",
    "        valdat[which(valdat$cluster==1),]$pred_Inland <- 1\n",
    "        valdat[which(valdat$cluster==2),]$pred_Inland <- 0\n",
    "    } else {\n",
    "        valdat[which(valdat$cluster==1),]$pred_Inland <- 0\n",
    "        valdat[which(valdat$cluster==2),]$pred_Inland <- 1\n",
    "    }\n",
    "    \n",
    "    # Generate confusion matrix for the k-means clusters and\n",
    "    # the corresponding f-score.\n",
    "    preds <- as.factor(valdat$pred_Inland)\n",
    "    names(preds) <- rownames(valdat)\n",
    "    ans <- get_confusion(preds, valdat[, \"Inland\", drop=FALSE])\n",
    "\n",
    "    # The result returned is a Type2 score (which is a mixture\n",
    "    # of accuracy and f-score).\n",
    "    mat <- as.matrix(ans[[1]])\n",
    "    percent_correct <- sum(diag(mat))/floor(sum(mat))\n",
    "    result <- round((0.4 * percent_correct + 0.6 * ans[[2]]), 6)\n",
    "    return(result)\n",
    "}\n"
   ]
  },
  {
   "cell_type": "code",
   "execution_count": 12,
   "metadata": {},
   "outputs": [],
   "source": [
    "# This grid search searches for the best set of weights to use\n",
    "# in our k-means clustering model.  The best weights are those\n",
    "# which generalize best to the validation set.\n",
    "\n",
    "gridSearch06 <- function(seed_vector, dat, df_params, folds=5) {\n",
    "    \n",
    "    datout <- rep(NA, 2*nrow(df_params))\n",
    "    dim(datout) <- c(nrow(df_params), 2)\n",
    "    datout <- as.data.frame(datout)\n",
    "    colnames(datout) <- c(\"row\", \"Type2\")\n",
    "    datout$row <- rownames(df_params)\n",
    "    \n",
    "    # We want the sqrt of the weights.\n",
    "    df_params <- df_params^0.5\n",
    "    \n",
    "    params_rows <- rownames(df_params)\n",
    "    \n",
    "    #############################\n",
    "    # Partition the data into folds.\n",
    "        \n",
    "    # divide dat by the number of folds \n",
    "    segment_size <- round(nrow(dat)/folds)\n",
    "    diff <- nrow(dat) - folds * segment_size\n",
    "    last_seg_size <- segment_size + diff\n",
    "    segmentsv <- c(rep(segment_size, (folds - 1)), last_seg_size)\n",
    "    stopifnot(sum(segmentsv) == nrow(dat))\n",
    "    \n",
    "    \n",
    "    # Create a dataframe, each row for a distinct seed.\n",
    "    # Each column of the dataframe is for a distinct set\n",
    "    # of weights.  The entries in the cells are Type2 \n",
    "    # scores.\n",
    "    seedv_len <- length(seed_vector)\n",
    "    df_scores <- rep(NA, seedv_len*nrow(df_params))\n",
    "    dim(df_scores) <- c(seedv_len, nrow(df_params))\n",
    "    df_scores <- as.data.frame(df_scores)\n",
    "    colnames(df_scores) <- rownames(df_params)\n",
    "    rownames(df_scores) <- as.character(seed_vector)\n",
    "    \n",
    "    for(h in 1:seedv_len) {\n",
    "        # shuffle dat\n",
    "        cur_seed <- seed_vector[h]\n",
    "        set.seed(cur_seed)\n",
    "        smp <- sample(rownames(dat), dim(dat)[1], replace= FALSE)\n",
    "        dat <- dat[smp,]\n",
    "        \n",
    "        # Each element of row_list will be the rows we pick\n",
    "        # out for one of the folds.  E.g., the first element\n",
    "        # of row_list will contain the rows we want for the\n",
    "        # first fold, the second element of row_list will\n",
    "        # contain the rows we want for the second fold, and\n",
    "        # so forth.\n",
    "        row_list <- vector(\"list\", length=folds)\n",
    "        names(row_list) <- as.character(1:folds)\n",
    "        startpt <- 1\n",
    "        for(k in 1:folds) {\n",
    "            endpt <- startpt + segmentsv[k] - 1\n",
    "            stopifnot(endpt <= nrow(dat))\n",
    "            row_list[[k]] <- rownames(dat)[startpt:endpt]\n",
    "            startpt <- endpt + 1\n",
    "        }\n",
    "    \n",
    "        for(i in 1:nrow(df_params)) {\n",
    "            \n",
    "            cur_row <- params_rows[i]\n",
    "            wghts <- as.numeric(df_params[i,])\n",
    "            names(wghts) <- colnames(df_params)\n",
    "            \n",
    "            train_list <- test_list <- vector(\"list\", length= folds)\n",
    "            for(j in 1:folds) {\n",
    "                testdat <- dat[row_list[[j]],]\n",
    "                traindat <- dat[which(!(rownames(dat) %in% rownames(testdat))),]\n",
    "                stopifnot((length(rownames(traindat)) + length(rownames(testdat))) == nrow(dat))\n",
    "                test_list[[j]] <- testdat\n",
    "                train_list[[j]] <- traindat\n",
    "            }\n",
    "            # When there are only 5 folds, only 5 cores get used.\n",
    "            ### NOTE: I change the following function call depending on\n",
    "            ### the model I am scoring.\n",
    "            scores <- mcmapply(get_cvScore_kmp1, train_list, test_list,\n",
    "                               MoreArgs= list(wghts=wghts),\n",
    "                               SIMPLIFY= TRUE, mc.cores=5)\n",
    "            \n",
    "            # For the current seed, store the average of the Type2\n",
    "            # scores, the average taken over the folds.\n",
    "            df_scores[as.character(cur_seed), cur_row] <- round(mean(scores), 5)\n",
    "        \n",
    "        } # end of for-loop, index i\n",
    "    } ## end of for-loop, index h\n",
    "    \n",
    "    # Compute the average over the seeds of the Type2 scores\n",
    "    # obtained for each set of parameters in df_params.\n",
    "    datout$Type2 <- round(apply(df_scores, MARGIN=2, mean), 5)\n",
    "    return(datout)\n",
    "}\n"
   ]
  },
  {
   "cell_type": "markdown",
   "metadata": {},
   "source": [
    "# Section 1: Get best models for traindat"
   ]
  },
  {
   "cell_type": "markdown",
   "metadata": {},
   "source": [
    "When looking for good models, I am interested in also reducing the number of predictors, assuming it makes sense to do so.  The more predictors used for the hybrid k-means model, the more difficult it will be to find a good set of weights."
   ]
  },
  {
   "cell_type": "markdown",
   "metadata": {},
   "source": [
    "## Find best random forest model"
   ]
  },
  {
   "cell_type": "markdown",
   "metadata": {},
   "source": [
    "### Variable selection for the random forest model"
   ]
  },
  {
   "cell_type": "code",
   "execution_count": 50,
   "metadata": {},
   "outputs": [
    {
     "name": "stdout",
     "output_type": "stream",
     "text": [
      "\n",
      "Call:\n",
      " randomForest(formula = I(as.factor(Inland)) ~ ., data = traindat,      ntree = 900, mtry = 3, nodesize = 2, importance = TRUE) \n",
      "               Type of random forest: classification\n",
      "                     Number of trees: 900\n",
      "No. of variables tried at each split: 3\n",
      "\n",
      "        OOB estimate of  error rate: 10.38%\n",
      "Confusion matrix:\n",
      "     0    1 class.error\n",
      "0 6526  421    0.060602\n",
      "1  637 2612    0.196060\n"
     ]
    },
    {
     "data": {
      "text/html": [
       "''"
      ],
      "text/latex": [
       "''"
      ],
      "text/markdown": [
       "''"
      ],
      "text/plain": [
       "[1] \"\""
      ]
     },
     "metadata": {},
     "output_type": "display_data"
    },
    {
     "name": "stdout",
     "output_type": "stream",
     "text": [
      "[1] 0.8316\n"
     ]
    }
   ],
   "source": [
    "set.seed(123)\n",
    "rfclf <- randomForest(I(as.factor(Inland)) ~ ., data= traindat,\n",
    "                      ntree= 900, mtry= 3, nodesize= 2, \n",
    "                      importance=TRUE)\n",
    "print(rfclf)\n",
    "''\n",
    "print(get_fscore(as.matrix(rfclf$confusion)))\n",
    "# [1] 0.8316\n"
   ]
  },
  {
   "cell_type": "code",
   "execution_count": 51,
   "metadata": {},
   "outputs": [
    {
     "name": "stdout",
     "output_type": "stream",
     "text": [
      "                       0     1 MeanDecreaseAccuracy MeanDecreaseGini\n",
      "housing_median_age 0.012 0.035                0.019           255.78\n",
      "total_rooms        0.022 0.023                0.022           152.88\n",
      "total_bedrooms     0.021 0.016                0.019           138.42\n",
      "population         0.016 0.016                0.016           146.76\n",
      "households         0.022 0.019                0.021           140.07\n",
      "median_income      0.042 0.030                0.038           344.15\n",
      "median_house_value 0.136 0.246                0.171          1499.71\n",
      "HHdens_ln          0.032 0.127                0.063           795.74\n",
      "rooms_per_hh       0.031 0.051                0.037           353.05\n",
      "bdrms_per_room     0.031 0.039                0.033           292.52\n",
      "pop_per_hh         0.013 0.017                0.014           233.32\n"
     ]
    }
   ],
   "source": [
    "print(round(rfclf$importance, 3))\n"
   ]
  },
  {
   "cell_type": "code",
   "execution_count": 52,
   "metadata": {},
   "outputs": [],
   "source": [
    "# We can model nearly as well without households.\n",
    "\n",
    "newcols <- colnames(traindat)[which(!(colnames(traindat) %in% \n",
    "                                      c(\"households\")))]\n",
    "df <- traindat[, newcols]\n"
   ]
  },
  {
   "cell_type": "code",
   "execution_count": 53,
   "metadata": {},
   "outputs": [
    {
     "name": "stdout",
     "output_type": "stream",
     "text": [
      "\n",
      "Call:\n",
      " randomForest(formula = I(as.factor(Inland)) ~ ., data = df, ntree = 900,      mtry = 3, nodesize = 2, importance = TRUE) \n",
      "               Type of random forest: classification\n",
      "                     Number of trees: 900\n",
      "No. of variables tried at each split: 3\n",
      "\n",
      "        OOB estimate of  error rate: 10.33%\n",
      "Confusion matrix:\n",
      "     0    1 class.error\n",
      "0 6530  417    0.060026\n",
      "1  636 2613    0.195753\n"
     ]
    },
    {
     "data": {
      "text/html": [
       "''"
      ],
      "text/latex": [
       "''"
      ],
      "text/markdown": [
       "''"
      ],
      "text/plain": [
       "[1] \"\""
      ]
     },
     "metadata": {},
     "output_type": "display_data"
    },
    {
     "name": "stdout",
     "output_type": "stream",
     "text": [
      "[1] 0.8323\n"
     ]
    }
   ],
   "source": [
    "set.seed(123)\n",
    "rfclf <- randomForest(I(as.factor(Inland)) ~ ., data= df,\n",
    "                      ntree= 900, mtry= 3, nodesize= 2, \n",
    "                      importance=TRUE)\n",
    "print(rfclf)\n",
    "''\n",
    "print(get_fscore(as.matrix(rfclf$confusion)))\n",
    "# [1] 0.8323\n"
   ]
  },
  {
   "cell_type": "code",
   "execution_count": 54,
   "metadata": {},
   "outputs": [
    {
     "name": "stdout",
     "output_type": "stream",
     "text": [
      "                       0     1 MeanDecreaseAccuracy MeanDecreaseGini\n",
      "housing_median_age 0.012 0.035                0.019           261.66\n",
      "total_rooms        0.020 0.018                0.019           167.49\n",
      "total_bedrooms     0.016 0.015                0.016           154.71\n",
      "population         0.015 0.013                0.014           159.34\n",
      "median_income      0.043 0.031                0.039           358.66\n",
      "median_house_value 0.140 0.248                0.175          1516.44\n",
      "HHdens_ln          0.032 0.131                0.064           822.02\n",
      "rooms_per_hh       0.030 0.052                0.037           369.25\n",
      "bdrms_per_room     0.031 0.038                0.033           299.12\n",
      "pop_per_hh         0.014 0.017                0.015           245.84\n"
     ]
    }
   ],
   "source": [
    "print(round(rfclf$importance, 3))\n"
   ]
  },
  {
   "cell_type": "code",
   "execution_count": 55,
   "metadata": {},
   "outputs": [
    {
     "name": "stdout",
     "output_type": "stream",
     "text": [
      "\n",
      "Call:\n",
      " randomForest(formula = I(as.factor(Inland)) ~ ., data = df, ntree = 900,      mtry = 3, nodesize = 2, importance = TRUE) \n",
      "               Type of random forest: classification\n",
      "                     Number of trees: 900\n",
      "No. of variables tried at each split: 3\n",
      "\n",
      "        OOB estimate of  error rate: 10.41%\n",
      "Confusion matrix:\n",
      "     0    1 class.error\n",
      "0 6520  427    0.061465\n",
      "1  634 2615    0.195137\n"
     ]
    },
    {
     "data": {
      "text/html": [
       "''"
      ],
      "text/latex": [
       "''"
      ],
      "text/markdown": [
       "''"
      ],
      "text/plain": [
       "[1] \"\""
      ]
     },
     "metadata": {},
     "output_type": "display_data"
    },
    {
     "name": "stdout",
     "output_type": "stream",
     "text": [
      "[1] 0.8313\n"
     ]
    }
   ],
   "source": [
    "# We can also remove total_bedrooms.\n",
    "\n",
    "newcols <- colnames(traindat)[which(!(colnames(traindat) %in% \n",
    "                                      c(\"households\",\"total_bedrooms\")))]\n",
    "df <- traindat[, newcols]\n",
    "\n",
    "set.seed(123)\n",
    "rfclf <- randomForest(I(as.factor(Inland)) ~ ., data= df,\n",
    "                      ntree= 900, mtry= 3, nodesize= 2, \n",
    "                      importance=TRUE)\n",
    "print(rfclf)\n",
    "''\n",
    "print(get_fscore(as.matrix(rfclf$confusion)))\n",
    "# [1] 0.8313\n"
   ]
  },
  {
   "cell_type": "code",
   "execution_count": 56,
   "metadata": {},
   "outputs": [
    {
     "name": "stdout",
     "output_type": "stream",
     "text": [
      "                       0     1 MeanDecreaseAccuracy MeanDecreaseGini\n",
      "housing_median_age 0.012 0.036                0.020           271.47\n",
      "total_rooms        0.015 0.014                0.015           193.91\n",
      "population         0.011 0.012                0.012           179.60\n",
      "median_income      0.041 0.030                0.037           347.53\n",
      "median_house_value 0.141 0.254                0.177          1566.67\n",
      "HHdens_ln          0.032 0.134                0.065           856.16\n",
      "rooms_per_hh       0.029 0.053                0.037           379.26\n",
      "bdrms_per_room     0.030 0.038                0.033           300.42\n",
      "pop_per_hh         0.014 0.018                0.015           261.03\n"
     ]
    }
   ],
   "source": [
    "print(round(rfclf$importance, 3))\n"
   ]
  },
  {
   "cell_type": "code",
   "execution_count": 57,
   "metadata": {},
   "outputs": [
    {
     "name": "stdout",
     "output_type": "stream",
     "text": [
      "\n",
      "Call:\n",
      " randomForest(formula = I(as.factor(Inland)) ~ ., data = df, ntree = 900,      mtry = 3, nodesize = 2, importance = TRUE) \n",
      "               Type of random forest: classification\n",
      "                     Number of trees: 900\n",
      "No. of variables tried at each split: 3\n",
      "\n",
      "        OOB estimate of  error rate: 10.28%\n",
      "Confusion matrix:\n",
      "     0    1 class.error\n",
      "0 6531  416    0.059882\n",
      "1  632 2617    0.194521\n"
     ]
    },
    {
     "data": {
      "text/html": [
       "''"
      ],
      "text/latex": [
       "''"
      ],
      "text/markdown": [
       "''"
      ],
      "text/plain": [
       "[1] \"\""
      ]
     },
     "metadata": {},
     "output_type": "display_data"
    },
    {
     "name": "stdout",
     "output_type": "stream",
     "text": [
      "[1] 0.8332\n"
     ]
    }
   ],
   "source": [
    "# Let's also remove population.\n",
    "\n",
    "newcols <- colnames(traindat)[which(!(colnames(traindat) %in% \n",
    "                                      c(\"households\",\"total_bedrooms\",\n",
    "                                        \"population\")))]\n",
    "df <- traindat[, newcols]\n",
    "\n",
    "set.seed(123)\n",
    "rfclf <- randomForest(I(as.factor(Inland)) ~ ., data= df,\n",
    "                      ntree= 900, mtry= 3, nodesize= 2, \n",
    "                      importance=TRUE)\n",
    "print(rfclf)\n",
    "''\n",
    "print(get_fscore(as.matrix(rfclf$confusion)))\n",
    "# [1] 0.8332\n"
   ]
  },
  {
   "cell_type": "code",
   "execution_count": 58,
   "metadata": {},
   "outputs": [
    {
     "name": "stdout",
     "output_type": "stream",
     "text": [
      "                       0     1 MeanDecreaseAccuracy MeanDecreaseGini\n",
      "housing_median_age 0.013 0.038                0.021           283.54\n",
      "total_rooms        0.009 0.007                0.008           232.39\n",
      "median_income      0.043 0.027                0.038           344.08\n",
      "median_house_value 0.144 0.258                0.180          1607.21\n",
      "HHdens_ln          0.033 0.138                0.067           886.04\n",
      "rooms_per_hh       0.030 0.053                0.037           399.14\n",
      "bdrms_per_room     0.031 0.039                0.033           318.50\n",
      "pop_per_hh         0.015 0.017                0.016           289.04\n"
     ]
    }
   ],
   "source": [
    "print(round(rfclf$importance, 3))\n"
   ]
  },
  {
   "cell_type": "code",
   "execution_count": 59,
   "metadata": {},
   "outputs": [
    {
     "name": "stdout",
     "output_type": "stream",
     "text": [
      "\n",
      "Call:\n",
      " randomForest(formula = I(as.factor(Inland)) ~ ., data = df, ntree = 900,      mtry = 3, nodesize = 2, importance = TRUE) \n",
      "               Type of random forest: classification\n",
      "                     Number of trees: 900\n",
      "No. of variables tried at each split: 3\n",
      "\n",
      "        OOB estimate of  error rate: 10.43%\n",
      "Confusion matrix:\n",
      "     0    1 class.error\n",
      "0 6519  428    0.061609\n",
      "1  635 2614    0.195445\n"
     ]
    },
    {
     "data": {
      "text/html": [
       "''"
      ],
      "text/latex": [
       "''"
      ],
      "text/markdown": [
       "''"
      ],
      "text/plain": [
       "[1] \"\""
      ]
     },
     "metadata": {},
     "output_type": "display_data"
    },
    {
     "name": "stdout",
     "output_type": "stream",
     "text": [
      "[1] 0.831\n"
     ]
    }
   ],
   "source": [
    "# Let's also remove total_rooms.\n",
    "\n",
    "newcols <- colnames(traindat)[which(!(colnames(traindat) %in% \n",
    "                                      c(\"households\",\"total_bedrooms\",\n",
    "                                        \"population\",\"total_rooms\")))]\n",
    "df <- traindat[, newcols]\n",
    "\n",
    "set.seed(123)\n",
    "rfclf <- randomForest(I(as.factor(Inland)) ~ ., data= df,\n",
    "                      ntree= 900, mtry= 3, nodesize= 2, \n",
    "                      importance=TRUE)\n",
    "print(rfclf)\n",
    "''\n",
    "print(get_fscore(as.matrix(rfclf$confusion)))\n",
    "# [1] 0.8310\n"
   ]
  },
  {
   "cell_type": "code",
   "execution_count": 60,
   "metadata": {},
   "outputs": [
    {
     "name": "stdout",
     "output_type": "stream",
     "text": [
      "                       0     1 MeanDecreaseAccuracy MeanDecreaseGini\n",
      "housing_median_age 0.015 0.037                0.022           305.28\n",
      "median_income      0.043 0.026                0.038           345.36\n",
      "median_house_value 0.144 0.262                0.182          1674.29\n",
      "HHdens_ln          0.034 0.139                0.067           936.38\n",
      "rooms_per_hh       0.034 0.054                0.040           436.17\n",
      "bdrms_per_room     0.031 0.041                0.034           336.19\n",
      "pop_per_hh         0.017 0.019                0.017           326.43\n"
     ]
    }
   ],
   "source": [
    "# We are now left with 7 predictors.\n",
    "\n",
    "print(round(rfclf$importance, 3))\n"
   ]
  },
  {
   "cell_type": "code",
   "execution_count": null,
   "metadata": {},
   "outputs": [],
   "source": [
    "#&* Bookmark"
   ]
  },
  {
   "cell_type": "code",
   "execution_count": 14,
   "metadata": {},
   "outputs": [],
   "source": [
    "# Identify the columns we will use for random forest modeling.\n",
    "\n",
    "rfclf_columns <- c('Inland','housing_median_age','median_income',\n",
    "                   'median_house_value','HHdens_ln','rooms_per_hh',\n",
    "                   'bdrms_per_room','pop_per_hh')\n"
   ]
  },
  {
   "cell_type": "code",
   "execution_count": 83,
   "metadata": {},
   "outputs": [],
   "source": [
    "# Restrict variables in traindat and testdat for random forest\n",
    "# modeling.\n",
    "\n",
    "rftrain <- traindat[, rfclf_columns]\n",
    "rftest <- testdat[, rfclf_columns]\n"
   ]
  },
  {
   "cell_type": "markdown",
   "metadata": {},
   "source": [
    "### Tune the random forest model"
   ]
  },
  {
   "cell_type": "code",
   "execution_count": 63,
   "metadata": {},
   "outputs": [],
   "source": [
    "# This function is called from get_cvScore_rf.\n",
    "\n",
    "get_Type2_rf <- function(traindat, valdat, ntrees, mtry, nodesize) {\n",
    "        \n",
    "    rfmod <- randomForest(I(as.factor(Inland)) ~ ., \n",
    "                          data= traindat, ntree= ntrees,\n",
    "                          mtry= mtry, nodesize= nodesize)\n",
    "        \n",
    "    preds <- predict(rfmod, newdata= valdat, type=\"response\")\n",
    "    ans <- get_confusion(preds, valdat[, \"Inland\", drop=FALSE])\n",
    "\n",
    "    # Type2 score is average of accuracy and f-score.\n",
    "    mat <- as.matrix(ans[[1]])\n",
    "    percent_correct <- sum(diag(mat))/floor(sum(mat))\n",
    "    result <- round((0.4 * percent_correct + 0.6 * ans[[2]]), 4)\n",
    "    return(result)\n",
    "}\n"
   ]
  },
  {
   "cell_type": "code",
   "execution_count": 64,
   "metadata": {},
   "outputs": [],
   "source": [
    "# Function to obtain a cross-validation score, averaging the\n",
    "# Type2 scores of the folds.  This function is called from\n",
    "# avg_seedScores_rf.\n",
    "\n",
    "get_cvScore_rf <- function(seed, dat, ntrees, mtry,\n",
    "                           nodesize, folds= 5) {\n",
    "    \n",
    "    # divide dat by the number of folds \n",
    "    segment_size <- round(dim(dat)[1]/folds)\n",
    "    diff <- nrow(dat) - folds * segment_size\n",
    "    last_seg_size <- segment_size + diff\n",
    "    segmentsv <- c(rep(segment_size, (folds - 1)), last_seg_size)\n",
    "    # print(segmentsv)\n",
    "    stopifnot(sum(segmentsv) == nrow(dat))\n",
    "    \n",
    "    # shuffle dat\n",
    "    set.seed(seed)\n",
    "    smp <- sample(rownames(dat), nrow(dat), replace= FALSE)\n",
    "    dat <- dat[smp,]\n",
    "    \n",
    "    # split the data into the folds\n",
    "    row_list <- vector(\"list\", length= folds)\n",
    "    names(row_list) <- as.character(1:folds)\n",
    "    startpt <- 1\n",
    "    for(i in 1:folds) {\n",
    "        endpt <- startpt + segmentsv[i] - 1\n",
    "        stopifnot(endpt <= dim(dat)[1])\n",
    "        row_list[[i]] <- rownames(dat)[startpt:endpt]\n",
    "        startpt <- endpt + 1\n",
    "    }\n",
    "    \n",
    "    train_list <- test_list <- vector(\"list\", length= folds)\n",
    "    for(j in 1:folds) {\n",
    "        testdat <- dat[row_list[[j]],]\n",
    "        traindat <- dat[which(!(rownames(dat) %in% rownames(testdat))),]\n",
    "        stopifnot((length(rownames(traindat)) + length(rownames(testdat))) == dim(dat)[1])\n",
    "        test_list[[j]] <- testdat\n",
    "        train_list[[j]] <- traindat\n",
    "    }\n",
    "\n",
    "    scores <- mcmapply(get_Type2_rf, train_list, test_list,\n",
    "                       MoreArgs= list(ntrees= ntrees, mtry=mtry,\n",
    "                                      nodesize=nodesize),\n",
    "                       SIMPLIFY= TRUE, mc.cores=5)\n",
    "    \n",
    "    # The average is of Type2 scores.\n",
    "    return(round(mean(scores), 5))\n",
    "}\n"
   ]
  },
  {
   "cell_type": "code",
   "execution_count": 65,
   "metadata": {},
   "outputs": [],
   "source": [
    "# Since the seed value can have a big effect on the results,\n",
    "# I take the average over a number of seeds.  This ftn is\n",
    "# called from gridSearch02.\n",
    "\n",
    "avg_seedScores_rf <- function(seed_vector, traindat, n_trees,  \n",
    "                            mtry, nodesize, folds= 5) {\n",
    "    \n",
    "    seed_len <- length(seed_vector)\n",
    "    outv <- rep(NA, seed_len)\n",
    "    for(i in 1:seed_len) {\n",
    "        seed <- seed_vector[i]\n",
    "        outv[i] <- get_cvScore_rf(seed, traindat, n_trees,\n",
    "                                  mtry, nodesize, folds=folds)\n",
    "    }\n",
    "    return(round(mean(outv), 5))\n",
    "}\n"
   ]
  },
  {
   "cell_type": "code",
   "execution_count": 66,
   "metadata": {},
   "outputs": [],
   "source": [
    "# This grid search is specific to finding the best random forest\n",
    "# classifier for traindat.\n",
    "\n",
    "gridSearch02 <- function(seed_vector, traindat, ntree_vector, \n",
    "                         mtry_vector, nodesizes, folds=5) {\n",
    "    \n",
    "    tree_len <- length(ntree_vector)\n",
    "    mtry_len <- length(mtry_vector)\n",
    "    node_len <- length(nodesizes)\n",
    "    # We need to capture the gridSearch parameters as well as \n",
    "    # the cross-val  scores.\n",
    "    datout <- rep(NA, 2 * tree_len * mtry_len * node_len)\n",
    "    dim(datout) <- c((tree_len * mtry_len * node_len), 2)\n",
    "    datout <- as.data.frame(datout)\n",
    "    colnames(datout) <- c(\"params\", \"Type2\")\n",
    "    datout$params <- \"\"\n",
    "    \n",
    "    index <- 0\n",
    "    for(i in 1:tree_len) {\n",
    "        n_trees <- ntree_vector[i]\n",
    "        for(j in 1:mtry_len) {\n",
    "            mtry <- mtry_vector[j]\n",
    "            for(k in 1:node_len) {\n",
    "                index <- index + 1\n",
    "                nodesize <- nodesizes[k]\n",
    "                param_string <- paste(as.character(n_trees), \n",
    "                                      as.character(mtry),\n",
    "                                      as.character(nodesize), sep= \"--\")\n",
    "                datout$params[index] <- param_string\n",
    "                datout$Type2[index] <- avg_seedScores_rf(seed_vector, traindat, n_trees, \n",
    "                                                       folds=folds, mtry=mtry,\n",
    "                                                       nodesize=nodesize)\n",
    "            }\n",
    "        }\n",
    "    }\n",
    "    return(datout)\n",
    "}\n"
   ]
  },
  {
   "cell_type": "code",
   "execution_count": 67,
   "metadata": {},
   "outputs": [
    {
     "data": {
      "text/html": [
       "'Start time: 2021-04-22 15:17:00'"
      ],
      "text/latex": [
       "'Start time: 2021-04-22 15:17:00'"
      ],
      "text/markdown": [
       "'Start time: 2021-04-22 15:17:00'"
      ],
      "text/plain": [
       "[1] \"Start time: 2021-04-22 15:17:00\""
      ]
     },
     "metadata": {},
     "output_type": "display_data"
    },
    {
     "data": {
      "text/plain": [
       "Time difference of 19.61 mins"
      ]
     },
     "metadata": {},
     "output_type": "display_data"
    },
    {
     "data": {
      "text/html": [
       "'900--3--1'"
      ],
      "text/latex": [
       "'900--3--1'"
      ],
      "text/markdown": [
       "'900--3--1'"
      ],
      "text/plain": [
       "[1] \"900--3--1\""
      ]
     },
     "metadata": {},
     "output_type": "display_data"
    },
    {
     "data": {
      "text/html": [
       "0.85547"
      ],
      "text/latex": [
       "0.85547"
      ],
      "text/markdown": [
       "0.85547"
      ],
      "text/plain": [
       "[1] 0.85547"
      ]
     },
     "metadata": {},
     "output_type": "display_data"
    }
   ],
   "source": [
    "# Run grid search to get better parameters for the \n",
    "# random forest model.  Test with 10 seeds.  For each\n",
    "# seed, an average is taken over 5 folds.\n",
    "\n",
    "set.seed(7543)\n",
    "seed_smp <- sample(1:9999, 10, replace=FALSE)\n",
    "tree_vector <- c(500, 900, 1200)\n",
    "mtry_vector <- c(2, 3)\n",
    "node_vector <- c(1, 2, 3)\n",
    "\n",
    "start <- Sys.time()\n",
    "paste(\"Start time: \", start, sep=\"\")\n",
    "ans <- gridSearch02(seed_smp, rftrain, tree_vector, mtry_vector, node_vector)\n",
    "stop <- Sys.time()\n",
    "round(stop - start, 2)\n",
    "# Time difference of 20 mins\n",
    "\n",
    "(best_params <- ans[which(ans$Type2 == max(ans$Type2)),]$params)\n",
    "# '900--3--1'\n",
    "\n",
    "(best_rf_Type2 <- ans[which(ans$Type2 == max(ans$Type2)),]$Type2)\n",
    "# 0.85547\n"
   ]
  },
  {
   "cell_type": "code",
   "execution_count": 68,
   "metadata": {},
   "outputs": [
    {
     "data": {
      "text/html": [
       "<table>\n",
       "<caption>A data.frame: 18 × 2</caption>\n",
       "<thead>\n",
       "\t<tr><th scope=col>params</th><th scope=col>Type2</th></tr>\n",
       "\t<tr><th scope=col>&lt;chr&gt;</th><th scope=col>&lt;dbl&gt;</th></tr>\n",
       "</thead>\n",
       "<tbody>\n",
       "\t<tr><td>500--2--1 </td><td>0.85411</td></tr>\n",
       "\t<tr><td>500--2--2 </td><td>0.85408</td></tr>\n",
       "\t<tr><td>500--2--3 </td><td>0.85375</td></tr>\n",
       "\t<tr><td>500--3--1 </td><td>0.85527</td></tr>\n",
       "\t<tr><td>500--3--2 </td><td>0.85531</td></tr>\n",
       "\t<tr><td>500--3--3 </td><td>0.85483</td></tr>\n",
       "\t<tr><td>900--2--1 </td><td>0.85448</td></tr>\n",
       "\t<tr><td>900--2--2 </td><td>0.85403</td></tr>\n",
       "\t<tr><td>900--2--3 </td><td>0.85396</td></tr>\n",
       "\t<tr><td>900--3--1 </td><td>0.85547</td></tr>\n",
       "\t<tr><td>900--3--2 </td><td>0.85518</td></tr>\n",
       "\t<tr><td>900--3--3 </td><td>0.85463</td></tr>\n",
       "\t<tr><td>1200--2--1</td><td>0.85443</td></tr>\n",
       "\t<tr><td>1200--2--2</td><td>0.85420</td></tr>\n",
       "\t<tr><td>1200--2--3</td><td>0.85407</td></tr>\n",
       "\t<tr><td>1200--3--1</td><td>0.85537</td></tr>\n",
       "\t<tr><td>1200--3--2</td><td>0.85536</td></tr>\n",
       "\t<tr><td>1200--3--3</td><td>0.85484</td></tr>\n",
       "</tbody>\n",
       "</table>\n"
      ],
      "text/latex": [
       "A data.frame: 18 × 2\n",
       "\\begin{tabular}{ll}\n",
       " params & Type2\\\\\n",
       " <chr> & <dbl>\\\\\n",
       "\\hline\n",
       "\t 500--2--1  & 0.85411\\\\\n",
       "\t 500--2--2  & 0.85408\\\\\n",
       "\t 500--2--3  & 0.85375\\\\\n",
       "\t 500--3--1  & 0.85527\\\\\n",
       "\t 500--3--2  & 0.85531\\\\\n",
       "\t 500--3--3  & 0.85483\\\\\n",
       "\t 900--2--1  & 0.85448\\\\\n",
       "\t 900--2--2  & 0.85403\\\\\n",
       "\t 900--2--3  & 0.85396\\\\\n",
       "\t 900--3--1  & 0.85547\\\\\n",
       "\t 900--3--2  & 0.85518\\\\\n",
       "\t 900--3--3  & 0.85463\\\\\n",
       "\t 1200--2--1 & 0.85443\\\\\n",
       "\t 1200--2--2 & 0.85420\\\\\n",
       "\t 1200--2--3 & 0.85407\\\\\n",
       "\t 1200--3--1 & 0.85537\\\\\n",
       "\t 1200--3--2 & 0.85536\\\\\n",
       "\t 1200--3--3 & 0.85484\\\\\n",
       "\\end{tabular}\n"
      ],
      "text/markdown": [
       "\n",
       "A data.frame: 18 × 2\n",
       "\n",
       "| params &lt;chr&gt; | Type2 &lt;dbl&gt; |\n",
       "|---|---|\n",
       "| 500--2--1  | 0.85411 |\n",
       "| 500--2--2  | 0.85408 |\n",
       "| 500--2--3  | 0.85375 |\n",
       "| 500--3--1  | 0.85527 |\n",
       "| 500--3--2  | 0.85531 |\n",
       "| 500--3--3  | 0.85483 |\n",
       "| 900--2--1  | 0.85448 |\n",
       "| 900--2--2  | 0.85403 |\n",
       "| 900--2--3  | 0.85396 |\n",
       "| 900--3--1  | 0.85547 |\n",
       "| 900--3--2  | 0.85518 |\n",
       "| 900--3--3  | 0.85463 |\n",
       "| 1200--2--1 | 0.85443 |\n",
       "| 1200--2--2 | 0.85420 |\n",
       "| 1200--2--3 | 0.85407 |\n",
       "| 1200--3--1 | 0.85537 |\n",
       "| 1200--3--2 | 0.85536 |\n",
       "| 1200--3--3 | 0.85484 |\n",
       "\n"
      ],
      "text/plain": [
       "   params     Type2  \n",
       "1  500--2--1  0.85411\n",
       "2  500--2--2  0.85408\n",
       "3  500--2--3  0.85375\n",
       "4  500--3--1  0.85527\n",
       "5  500--3--2  0.85531\n",
       "6  500--3--3  0.85483\n",
       "7  900--2--1  0.85448\n",
       "8  900--2--2  0.85403\n",
       "9  900--2--3  0.85396\n",
       "10 900--3--1  0.85547\n",
       "11 900--3--2  0.85518\n",
       "12 900--3--3  0.85463\n",
       "13 1200--2--1 0.85443\n",
       "14 1200--2--2 0.85420\n",
       "15 1200--2--3 0.85407\n",
       "16 1200--3--1 0.85537\n",
       "17 1200--3--2 0.85536\n",
       "18 1200--3--3 0.85484"
      ]
     },
     "metadata": {},
     "output_type": "display_data"
    }
   ],
   "source": [
    "ans\n"
   ]
  },
  {
   "cell_type": "markdown",
   "metadata": {},
   "source": [
    "### Get scores for rfclf_best on traindat"
   ]
  },
  {
   "cell_type": "code",
   "execution_count": 16,
   "metadata": {},
   "outputs": [
    {
     "data": {
      "text/plain": [
       "Time difference of 1.76 hours"
      ]
     },
     "metadata": {},
     "output_type": "display_data"
    },
    {
     "data": {
      "image/png": "[encoded data removed]",
      "text/plain": [
       "Plot with title “Distribution of f-scores for rfclf_best on traindat”"
      ]
     },
     "metadata": {
      "image/png": {
       "height": 360,
       "width": 600
      }
     },
     "output_type": "display_data"
    }
   ],
   "source": [
    "# Get stable scores for the best random forest model.  I will\n",
    "# refer to this model as rfclf_best.  Note that 1000 seeds\n",
    "# are being used.  [* 150 seeds would have been plenty *]\n",
    "\n",
    "set.seed(1433)\n",
    "seed_smp <- sample(1:9999, 1000, replace=FALSE)\n",
    "\n",
    "datout <- rep(NA, 6 * length(seed_smp))\n",
    "dim(datout) <- c(length(seed_smp), 6)\n",
    "datout <- as.data.frame(datout)\n",
    "colnames(datout) <- c(\"seed\",\"fscore\",\"Acc\",\"Type2\", \"FN\",\"FP\")\n",
    "datout$seed <- seed_smp\n",
    "\n",
    "start <- Sys.time()\n",
    "for(i in 1:length(seed_smp)) {\n",
    "    \n",
    "    set.seed(seed_smp[i])\n",
    "    rfmod <- randomForest(I(as.factor(Inland)) ~ ., \n",
    "                              data= rftrain, ntree=900,\n",
    "                              mtry= 3, nodesize= 1)\n",
    "        \n",
    "    # preds <- predict(rfmod, newdata= dat, type=\"response\")\n",
    "    # ans <- get_confusion(preds, dat[, \"Outcome\", drop=FALSE])\n",
    "    # mat <- as.matrix(ans[[1]])\n",
    "    mat <- rfmod$confusion\n",
    "    # percent_correct <- sum(diag(mat))/floor(sum(mat))\n",
    "    # datout[i, c(\"Acc\")] <- round(percent_correct, 4)\n",
    "    datout[i, c(\"Acc\")] <- acc <- round(1-median(rfmod$err.rate[,1]), 4)\n",
    "    # datout[i, c(\"fscore\")] <- round(ans[[2]], 4)\n",
    "    datout[i, c(\"fscore\")] <- fscore <- round(get_fscore(mat), 4)\n",
    "    datout[i, c(\"Type2\")] <- round(0.4*acc + 0.6*fscore, 4)\n",
    "    datout[i, c(\"FN\")] <- as.numeric(mat[2,1])\n",
    "    datout[i, c(\"FP\")] <- as.numeric(mat[1,2])\n",
    "}\n",
    "stop <- Sys.time()\n",
    "round(stop - start, 2)\n",
    "# Time difference of 1.76 hours\n",
    "\n",
    "options(repr.plot.width= 10, repr.plot.height= 6)\n",
    "hist(datout$fscore, breaks=12, xlab=\"f-score\",\n",
    "     main=\"Distribution of f-scores for rfclf_best on traindat\")\n"
   ]
  },
  {
   "cell_type": "code",
   "execution_count": 17,
   "metadata": {},
   "outputs": [
    {
     "data": {
      "text/html": [
       "<style>\n",
       ".list-inline {list-style: none; margin:0; padding: 0}\n",
       ".list-inline>li {display: inline-block}\n",
       ".list-inline>li:not(:last-child)::after {content: \"\\00b7\"; padding: 0 .5ex}\n",
       "</style>\n",
       "<ol class=list-inline><li>0.8322</li><li>0.8954</li><li>613.33</li><li>449.24</li></ol>\n"
      ],
      "text/latex": [
       "\\begin{enumerate*}\n",
       "\\item 0.8322\n",
       "\\item 0.8954\n",
       "\\item 613.33\n",
       "\\item 449.24\n",
       "\\end{enumerate*}\n"
      ],
      "text/markdown": [
       "1. 0.8322\n",
       "2. 0.8954\n",
       "3. 613.33\n",
       "4. 449.24\n",
       "\n",
       "\n"
      ],
      "text/plain": [
       "[1]   0.8322   0.8954 613.3300 449.2400"
      ]
     },
     "metadata": {},
     "output_type": "display_data"
    }
   ],
   "source": [
    "# Get summaries for rfclf_best.\n",
    "\n",
    "fn_avg <- mean(datout$FN)\n",
    "fp_avg <- mean(datout$FP)\n",
    "\n",
    "c(round(mean(datout$fscore), 4), round(mean(datout$Acc), 4),\n",
    "  round(fn_avg, 2), round(fp_avg, 2))\n",
    "# f-score:   0.8322   \n",
    "# accuracy:  0.8954   \n",
    "# false negatives: 613.33   \n",
    "# false positives: 449.24\n",
    "\n",
    "# Type2: 0.8575\n"
   ]
  },
  {
   "cell_type": "code",
   "execution_count": 18,
   "metadata": {},
   "outputs": [
    {
     "data": {
      "text/html": [
       "0.8575"
      ],
      "text/latex": [
       "0.8575"
      ],
      "text/markdown": [
       "0.8575"
      ],
      "text/plain": [
       "[1] 0.8575"
      ]
     },
     "metadata": {},
     "output_type": "display_data"
    }
   ],
   "source": [
    "round(mean(datout$Type2), 4)\n",
    "# 0.8575\n"
   ]
  },
  {
   "cell_type": "code",
   "execution_count": 19,
   "metadata": {},
   "outputs": [
    {
     "data": {
      "image/png": "[encoded data removed]",
      "text/plain": [
       "Plot with title “Distribution of accuracy scores for rfclf_best on traindat”"
      ]
     },
     "metadata": {
      "image/png": {
       "height": 360,
       "width": 600
      }
     },
     "output_type": "display_data"
    }
   ],
   "source": [
    "options(repr.plot.width= 10, repr.plot.height= 6)\n",
    "hist(datout$Acc, breaks=16, xlab=\"accuracy\",\n",
    "     main=\"Distribution of accuracy scores for rfclf_best on traindat\")\n"
   ]
  },
  {
   "cell_type": "code",
   "execution_count": 20,
   "metadata": {},
   "outputs": [
    {
     "data": {
      "text/html": [
       "190"
      ],
      "text/latex": [
       "190"
      ],
      "text/markdown": [
       "190"
      ],
      "text/plain": [
       "[1] 190"
      ]
     },
     "metadata": {},
     "output_type": "display_data"
    },
    {
     "data": {
      "text/html": [
       "<style>\n",
       ".list-inline {list-style: none; margin:0; padding: 0}\n",
       ".list-inline>li {display: inline-block}\n",
       ".list-inline>li:not(:last-child)::after {content: \"\\00b7\"; padding: 0 .5ex}\n",
       "</style>\n",
       "<ol class=list-inline><li>667</li><li>2700</li><li>381</li><li>4104</li><li>1493</li><li>5802</li></ol>\n"
      ],
      "text/latex": [
       "\\begin{enumerate*}\n",
       "\\item 667\n",
       "\\item 2700\n",
       "\\item 381\n",
       "\\item 4104\n",
       "\\item 1493\n",
       "\\item 5802\n",
       "\\end{enumerate*}\n"
      ],
      "text/markdown": [
       "1. 667\n",
       "2. 2700\n",
       "3. 381\n",
       "4. 4104\n",
       "5. 1493\n",
       "6. 5802\n",
       "\n",
       "\n"
      ],
      "text/plain": [
       "[1]  667 2700  381 4104 1493 5802"
      ]
     },
     "metadata": {},
     "output_type": "display_data"
    }
   ],
   "source": [
    "# Identify seeds with an accuracy score between 0.89525 \n",
    "# and 0.8955.  When constructing rfclf_best, I may want\n",
    "# to use a seed which has an accuracy in the center\n",
    "# of the distribution of accuracy scores.  (It may be that\n",
    "# rfclf_best will generalize better to the test data if\n",
    "# I choose a seed for it that is at the midpoint of the\n",
    "# accuracy distribution.)\n",
    "\n",
    "rf_candidate_seeds <- datout[which((datout$Acc > 0.89525) & (datout$Acc < 0.8955)),]$seed\n",
    "length(rf_candidate_seeds)\n",
    "#  190\n",
    "head(rf_candidate_seeds)\n",
    "#  667   2700   381   4104   1493   5802\n"
   ]
  },
  {
   "cell_type": "code",
   "execution_count": 22,
   "metadata": {},
   "outputs": [
    {
     "data": {
      "text/html": [
       "5"
      ],
      "text/latex": [
       "5"
      ],
      "text/markdown": [
       "5"
      ],
      "text/plain": [
       "[1] 5"
      ]
     },
     "metadata": {},
     "output_type": "display_data"
    },
    {
     "data": {
      "text/html": [
       "<style>\n",
       ".list-inline {list-style: none; margin:0; padding: 0}\n",
       ".list-inline>li {display: inline-block}\n",
       ".list-inline>li:not(:last-child)::after {content: \"\\00b7\"; padding: 0 .5ex}\n",
       "</style>\n",
       "<ol class=list-inline><li>287</li><li>9137</li><li>9192</li><li>2191</li><li>8458</li></ol>\n"
      ],
      "text/latex": [
       "\\begin{enumerate*}\n",
       "\\item 287\n",
       "\\item 9137\n",
       "\\item 9192\n",
       "\\item 2191\n",
       "\\item 8458\n",
       "\\end{enumerate*}\n"
      ],
      "text/markdown": [
       "1. 287\n",
       "2. 9137\n",
       "3. 9192\n",
       "4. 2191\n",
       "5. 8458\n",
       "\n",
       "\n"
      ],
      "text/plain": [
       "[1]  287 9137 9192 2191 8458"
      ]
     },
     "metadata": {},
     "output_type": "display_data"
    }
   ],
   "source": [
    "# Identify seeds with the highest accuracy scores.\n",
    "\n",
    "rf_highAcc_seeds <- datout[which(datout$Acc > 0.897),]$seed\n",
    "length(rf_highAcc_seeds)\n",
    "#  5\n",
    "head(rf_highAcc_seeds)\n",
    "#  287   9137   9192   2191   8458\n"
   ]
  },
  {
   "cell_type": "code",
   "execution_count": 21,
   "metadata": {},
   "outputs": [
    {
     "data": {
      "image/png": "[encoded data removed]",
      "text/plain": [
       "Plot with title “Distribution of Type2 scores for rfclf_best on traindat”"
      ]
     },
     "metadata": {
      "image/png": {
       "height": 360,
       "width": 600
      }
     },
     "output_type": "display_data"
    }
   ],
   "source": [
    "options(repr.plot.width= 10, repr.plot.height= 6)\n",
    "hist(datout$Type2, breaks=16, xlab=\"Type2 score\",\n",
    "     main=\"Distribution of Type2 scores for rfclf_best on traindat\")\n"
   ]
  },
  {
   "cell_type": "code",
   "execution_count": 15,
   "metadata": {},
   "outputs": [
    {
     "data": {
      "text/plain": [
       "\n",
       "Call:\n",
       " randomForest(formula = I(as.factor(Inland)) ~ ., data = traindat[,      rfclf_columns], ntree = 900, mtry = 3, nodesize = 1, importance = TRUE) \n",
       "               Type of random forest: classification\n",
       "                     Number of trees: 900\n",
       "No. of variables tried at each split: 3\n",
       "\n",
       "        OOB estimate of  error rate: 10.39%\n",
       "Confusion matrix:\n",
       "     0    1 class.error\n",
       "0 6497  450    0.064776\n",
       "1  609 2640    0.187442"
      ]
     },
     "metadata": {},
     "output_type": "display_data"
    }
   ],
   "source": [
    "# Get feature importances for rfclf_best.\n",
    "\n",
    "set.seed(1493)\n",
    "(rfclf_best <- randomForest(I(as.factor(Inland)) ~ ., \n",
    "                            data= traindat[, rfclf_columns], \n",
    "                            ntree=900,\n",
    "                            mtry= 3, nodesize= 1, importance=TRUE))\n"
   ]
  },
  {
   "cell_type": "code",
   "execution_count": 24,
   "metadata": {},
   "outputs": [
    {
     "name": "stdout",
     "output_type": "stream",
     "text": [
      "                       0     1 MeanDecreaseAccuracy MeanDecreaseGini\n",
      "housing_median_age 0.015 0.036                0.022           310.43\n",
      "median_income      0.045 0.025                0.038           367.88\n",
      "median_house_value 0.146 0.260                0.182          1666.85\n",
      "HHdens_ln          0.035 0.137                0.067           947.54\n",
      "rooms_per_hh       0.034 0.051                0.039           447.76\n",
      "bdrms_per_room     0.033 0.039                0.035           350.40\n",
      "pop_per_hh         0.017 0.018                0.018           335.81\n"
     ]
    }
   ],
   "source": [
    "print(round(rfclf_best$importance, 3))\n"
   ]
  },
  {
   "cell_type": "markdown",
   "metadata": {},
   "source": [
    "### Get scores for rfclf_best on testdat"
   ]
  },
  {
   "cell_type": "code",
   "execution_count": 25,
   "metadata": {},
   "outputs": [],
   "source": [
    "# Function for obtaining a set of scores on the testset data\n",
    "# using rfclf_best as the classifier.\n",
    "\n",
    "get_testdatScores_rf <- function(seedv, dat) {\n",
    "    \n",
    "    seedv_len <- length(seedv)\n",
    "    datout <- rep(NA, 5 * seedv_len)\n",
    "    dim(datout) <- c(seedv_len, 5)\n",
    "    datout <- as.data.frame(datout)\n",
    "    colnames(datout) <- c(\"fscore\",\"Acc\",\"Type2\", \"FN\",\"FP\")\n",
    "    rownames(datout) <- as.character(seedv)\n",
    "    \n",
    "    for(h in 1:seedv_len) {\n",
    "        # shuffle dat\n",
    "        cur_seed <- seedv[h]\n",
    "        set.seed(cur_seed)\n",
    "        # It is expected that dat is testdat, which has 10K rcds\n",
    "        smp <- sample(rownames(dat), 4000, replace= FALSE)\n",
    "        df <- dat[smp,]\n",
    "    \n",
    "        preds <- predict(rfclf_best, newdata= df, type=\"response\")\n",
    "        ans <- get_confusion(preds, df[, \"Inland\", drop=FALSE])\n",
    "        \n",
    "        mat <- as.matrix(ans[[1]])\n",
    "        fscore <- round(as.numeric(ans[[2]]), 4)\n",
    "        acc <- round(sum(diag(mat))/floor(sum(mat)), 4)\n",
    "        type2 <- round((0.4 * acc + 0.6 * ans[[2]]), 4)\n",
    "        FN <- as.numeric(mat[2,1])\n",
    "        FP <- as.numeric(mat[1,2])\n",
    "        datout[as.character(cur_seed), 1:5] <- c(fscore,acc,type2,FN,FP)\n",
    "    }\n",
    "    return(datout)\n",
    "}\n"
   ]
  },
  {
   "cell_type": "code",
   "execution_count": 26,
   "metadata": {},
   "outputs": [
    {
     "data": {
      "text/html": [
       "'Start time: 2021-04-23 18:19:47'"
      ],
      "text/latex": [
       "'Start time: 2021-04-23 18:19:47'"
      ],
      "text/markdown": [
       "'Start time: 2021-04-23 18:19:47'"
      ],
      "text/plain": [
       "[1] \"Start time: 2021-04-23 18:19:47\""
      ]
     },
     "metadata": {},
     "output_type": "display_data"
    },
    {
     "data": {
      "text/plain": [
       "Time difference of 1.12 mins"
      ]
     },
     "metadata": {},
     "output_type": "display_data"
    }
   ],
   "source": [
    "# Get rfclf_best's scores on the testset data.  For each of\n",
    "# the 250 seeds, I sample 4K (no replacement) from the 10K\n",
    "# set of testdat records.\n",
    "\n",
    "set.seed(1821)\n",
    "seed_vector <- sample(1:9999, 250, replace=FALSE)\n",
    "\n",
    "start <- Sys.time()\n",
    "paste(\"Start time: \", start, sep=\"\")\n",
    "dat_result <- get_testdatScores_rf(seed_vector, rftest)\n",
    "stop <- Sys.time()\n",
    "round(stop - start, 2)\n",
    "# Time difference of 1.12 mins\n"
   ]
  },
  {
   "cell_type": "code",
   "execution_count": 27,
   "metadata": {},
   "outputs": [
    {
     "data": {
      "text/html": [
       "<style>\n",
       ".list-inline {list-style: none; margin:0; padding: 0}\n",
       ".list-inline>li {display: inline-block}\n",
       ".list-inline>li:not(:last-child)::after {content: \"\\00b7\"; padding: 0 .5ex}\n",
       "</style>\n",
       "<ol class=list-inline><li>250</li><li>5</li></ol>\n"
      ],
      "text/latex": [
       "\\begin{enumerate*}\n",
       "\\item 250\n",
       "\\item 5\n",
       "\\end{enumerate*}\n"
      ],
      "text/markdown": [
       "1. 250\n",
       "2. 5\n",
       "\n",
       "\n"
      ],
      "text/plain": [
       "[1] 250   5"
      ]
     },
     "metadata": {},
     "output_type": "display_data"
    },
    {
     "data": {
      "text/html": [
       "<table>\n",
       "<caption>A data.frame: 6 × 5</caption>\n",
       "<thead>\n",
       "\t<tr><th></th><th scope=col>fscore</th><th scope=col>Acc</th><th scope=col>Type2</th><th scope=col>FN</th><th scope=col>FP</th></tr>\n",
       "\t<tr><th></th><th scope=col>&lt;dbl&gt;</th><th scope=col>&lt;dbl&gt;</th><th scope=col>&lt;dbl&gt;</th><th scope=col>&lt;dbl&gt;</th><th scope=col>&lt;dbl&gt;</th></tr>\n",
       "</thead>\n",
       "<tbody>\n",
       "\t<tr><th scope=row>5934</th><td>0.8386</td><td>0.8995</td><td>0.8630</td><td>233</td><td>169</td></tr>\n",
       "\t<tr><th scope=row>1953</th><td>0.8443</td><td>0.9008</td><td>0.8669</td><td>224</td><td>173</td></tr>\n",
       "\t<tr><th scope=row>7591</th><td>0.8291</td><td>0.8915</td><td>0.8541</td><td>272</td><td>162</td></tr>\n",
       "\t<tr><th scope=row>1038</th><td>0.8403</td><td>0.9020</td><td>0.8650</td><td>238</td><td>154</td></tr>\n",
       "\t<tr><th scope=row>49</th><td>0.8337</td><td>0.8940</td><td>0.8578</td><td>238</td><td>186</td></tr>\n",
       "\t<tr><th scope=row>3203</th><td>0.8373</td><td>0.8985</td><td>0.8618</td><td>234</td><td>172</td></tr>\n",
       "</tbody>\n",
       "</table>\n"
      ],
      "text/latex": [
       "A data.frame: 6 × 5\n",
       "\\begin{tabular}{r|lllll}\n",
       "  & fscore & Acc & Type2 & FN & FP\\\\\n",
       "  & <dbl> & <dbl> & <dbl> & <dbl> & <dbl>\\\\\n",
       "\\hline\n",
       "\t5934 & 0.8386 & 0.8995 & 0.8630 & 233 & 169\\\\\n",
       "\t1953 & 0.8443 & 0.9008 & 0.8669 & 224 & 173\\\\\n",
       "\t7591 & 0.8291 & 0.8915 & 0.8541 & 272 & 162\\\\\n",
       "\t1038 & 0.8403 & 0.9020 & 0.8650 & 238 & 154\\\\\n",
       "\t49 & 0.8337 & 0.8940 & 0.8578 & 238 & 186\\\\\n",
       "\t3203 & 0.8373 & 0.8985 & 0.8618 & 234 & 172\\\\\n",
       "\\end{tabular}\n"
      ],
      "text/markdown": [
       "\n",
       "A data.frame: 6 × 5\n",
       "\n",
       "| <!--/--> | fscore &lt;dbl&gt; | Acc &lt;dbl&gt; | Type2 &lt;dbl&gt; | FN &lt;dbl&gt; | FP &lt;dbl&gt; |\n",
       "|---|---|---|---|---|---|\n",
       "| 5934 | 0.8386 | 0.8995 | 0.8630 | 233 | 169 |\n",
       "| 1953 | 0.8443 | 0.9008 | 0.8669 | 224 | 173 |\n",
       "| 7591 | 0.8291 | 0.8915 | 0.8541 | 272 | 162 |\n",
       "| 1038 | 0.8403 | 0.9020 | 0.8650 | 238 | 154 |\n",
       "| 49 | 0.8337 | 0.8940 | 0.8578 | 238 | 186 |\n",
       "| 3203 | 0.8373 | 0.8985 | 0.8618 | 234 | 172 |\n",
       "\n"
      ],
      "text/plain": [
       "     fscore Acc    Type2  FN  FP \n",
       "5934 0.8386 0.8995 0.8630 233 169\n",
       "1953 0.8443 0.9008 0.8669 224 173\n",
       "7591 0.8291 0.8915 0.8541 272 162\n",
       "1038 0.8403 0.9020 0.8650 238 154\n",
       "49   0.8337 0.8940 0.8578 238 186\n",
       "3203 0.8373 0.8985 0.8618 234 172"
      ]
     },
     "metadata": {},
     "output_type": "display_data"
    }
   ],
   "source": [
    "dim(dat_result)\n",
    "head(dat_result)\n"
   ]
  },
  {
   "cell_type": "code",
   "execution_count": 28,
   "metadata": {},
   "outputs": [
    {
     "data": {
      "text/html": [
       "'fscore mean: 0.8366'"
      ],
      "text/latex": [
       "'fscore mean: 0.8366'"
      ],
      "text/markdown": [
       "'fscore mean: 0.8366'"
      ],
      "text/plain": [
       "[1] \"fscore mean: 0.8366\""
      ]
     },
     "metadata": {},
     "output_type": "display_data"
    },
    {
     "data": {
      "text/html": [
       "'fscore StdDev: 0.006'"
      ],
      "text/latex": [
       "'fscore StdDev: 0.006'"
      ],
      "text/markdown": [
       "'fscore StdDev: 0.006'"
      ],
      "text/plain": [
       "[1] \"fscore StdDev: 0.006\""
      ]
     },
     "metadata": {},
     "output_type": "display_data"
    },
    {
     "data": {
      "text/html": [
       "''"
      ],
      "text/latex": [
       "''"
      ],
      "text/markdown": [
       "''"
      ],
      "text/plain": [
       "[1] \"\""
      ]
     },
     "metadata": {},
     "output_type": "display_data"
    },
    {
     "data": {
      "text/plain": [
       "   Min. 1st Qu.  Median    Mean 3rd Qu.    Max. \n",
       "  0.820   0.833   0.836   0.837   0.841   0.851 "
      ]
     },
     "metadata": {},
     "output_type": "display_data"
    }
   ],
   "source": [
    "fscore_mean <- round(mean(dat_result$fscore), 4)\n",
    "fscore_sd <- round(sd(dat_result$fscore), 4)\n",
    "paste0(\"fscore mean: \", as.character(fscore_mean))\n",
    "# 0.8366\n",
    "paste0(\"fscore StdDev: \", as.character(fscore_sd))\n",
    "# 0.006\n",
    "\"\"\n",
    "summary(dat_result$fscore)\n"
   ]
  },
  {
   "cell_type": "code",
   "execution_count": 29,
   "metadata": {},
   "outputs": [
    {
     "data": {
      "text/html": [
       "'accuracy mean: 0.8979'"
      ],
      "text/latex": [
       "'accuracy mean: 0.8979'"
      ],
      "text/markdown": [
       "'accuracy mean: 0.8979'"
      ],
      "text/plain": [
       "[1] \"accuracy mean: 0.8979\""
      ]
     },
     "metadata": {},
     "output_type": "display_data"
    },
    {
     "data": {
      "text/html": [
       "'accuracy StdDev: 0.0037'"
      ],
      "text/latex": [
       "'accuracy StdDev: 0.0037'"
      ],
      "text/markdown": [
       "'accuracy StdDev: 0.0037'"
      ],
      "text/plain": [
       "[1] \"accuracy StdDev: 0.0037\""
      ]
     },
     "metadata": {},
     "output_type": "display_data"
    },
    {
     "data": {
      "text/html": [
       "''"
      ],
      "text/latex": [
       "''"
      ],
      "text/markdown": [
       "''"
      ],
      "text/plain": [
       "[1] \"\""
      ]
     },
     "metadata": {},
     "output_type": "display_data"
    },
    {
     "data": {
      "text/plain": [
       "   Min. 1st Qu.  Median    Mean 3rd Qu.    Max. \n",
       "  0.887   0.895   0.898   0.898   0.900   0.907 "
      ]
     },
     "metadata": {},
     "output_type": "display_data"
    }
   ],
   "source": [
    "Acc_mean <- round(mean(dat_result$Acc), 4)\n",
    "Acc_sd <- round(sd(dat_result$Acc), 4)\n",
    "paste0(\"accuracy mean: \", as.character(Acc_mean))\n",
    "# 0.8979\n",
    "paste0(\"accuracy StdDev: \", as.character(Acc_sd))\n",
    "# 0.0037\n",
    "\"\"\n",
    "summary(dat_result$Acc)\n"
   ]
  },
  {
   "cell_type": "code",
   "execution_count": 30,
   "metadata": {},
   "outputs": [
    {
     "data": {
      "text/html": [
       "'Type2 mean: 0.8611'"
      ],
      "text/latex": [
       "'Type2 mean: 0.8611'"
      ],
      "text/markdown": [
       "'Type2 mean: 0.8611'"
      ],
      "text/plain": [
       "[1] \"Type2 mean: 0.8611\""
      ]
     },
     "metadata": {},
     "output_type": "display_data"
    },
    {
     "data": {
      "text/html": [
       "'Type2 StdDev: 0.0049'"
      ],
      "text/latex": [
       "'Type2 StdDev: 0.0049'"
      ],
      "text/markdown": [
       "'Type2 StdDev: 0.0049'"
      ],
      "text/plain": [
       "[1] \"Type2 StdDev: 0.0049\""
      ]
     },
     "metadata": {},
     "output_type": "display_data"
    },
    {
     "data": {
      "text/html": [
       "''"
      ],
      "text/latex": [
       "''"
      ],
      "text/markdown": [
       "''"
      ],
      "text/plain": [
       "[1] \"\""
      ]
     },
     "metadata": {},
     "output_type": "display_data"
    },
    {
     "data": {
      "text/plain": [
       "   Min. 1st Qu.  Median    Mean 3rd Qu.    Max. \n",
       "  0.847   0.858   0.861   0.861   0.864   0.873 "
      ]
     },
     "metadata": {},
     "output_type": "display_data"
    }
   ],
   "source": [
    "Type2_mean <- round(mean(dat_result$Type2), 4)\n",
    "Type2_sd <- round(sd(dat_result$Type2), 4)\n",
    "paste0(\"Type2 mean: \", as.character(Type2_mean))\n",
    "# 0.8611\n",
    "paste0(\"Type2 StdDev: \", as.character(Type2_sd))\n",
    "# 0.0049\n",
    "\"\"\n",
    "summary(dat_result$Type2)\n"
   ]
  },
  {
   "cell_type": "code",
   "execution_count": 31,
   "metadata": {},
   "outputs": [
    {
     "data": {
      "text/html": [
       "'FN mean: 242.34'"
      ],
      "text/latex": [
       "'FN mean: 242.34'"
      ],
      "text/markdown": [
       "'FN mean: 242.34'"
      ],
      "text/plain": [
       "[1] \"FN mean: 242.34\""
      ]
     },
     "metadata": {},
     "output_type": "display_data"
    },
    {
     "data": {
      "text/html": [
       "'FN StdDev: 11.62'"
      ],
      "text/latex": [
       "'FN StdDev: 11.62'"
      ],
      "text/markdown": [
       "'FN StdDev: 11.62'"
      ],
      "text/plain": [
       "[1] \"FN StdDev: 11.62\""
      ]
     },
     "metadata": {},
     "output_type": "display_data"
    },
    {
     "data": {
      "text/html": [
       "''"
      ],
      "text/latex": [
       "''"
      ],
      "text/markdown": [
       "''"
      ],
      "text/plain": [
       "[1] \"\""
      ]
     },
     "metadata": {},
     "output_type": "display_data"
    },
    {
     "data": {
      "text/plain": [
       "   Min. 1st Qu.  Median    Mean 3rd Qu.    Max. \n",
       "    207     236     242     242     250     272 "
      ]
     },
     "metadata": {},
     "output_type": "display_data"
    }
   ],
   "source": [
    "FN_mean <- round(mean(dat_result$FN), 2)\n",
    "FN_sd <- round(sd(dat_result$FN), 2)\n",
    "paste0(\"FN mean: \", as.character(FN_mean))\n",
    "# 242.34\n",
    "paste0(\"FN StdDev: \", as.character(FN_sd))\n",
    "# 11.62\n",
    "\"\"\n",
    "summary(dat_result$FN)\n"
   ]
  },
  {
   "cell_type": "code",
   "execution_count": 32,
   "metadata": {},
   "outputs": [
    {
     "data": {
      "text/html": [
       "'FP mean: 165.95'"
      ],
      "text/latex": [
       "'FP mean: 165.95'"
      ],
      "text/markdown": [
       "'FP mean: 165.95'"
      ],
      "text/plain": [
       "[1] \"FP mean: 165.95\""
      ]
     },
     "metadata": {},
     "output_type": "display_data"
    },
    {
     "data": {
      "text/html": [
       "'FP StdDev: 9.76'"
      ],
      "text/latex": [
       "'FP StdDev: 9.76'"
      ],
      "text/markdown": [
       "'FP StdDev: 9.76'"
      ],
      "text/plain": [
       "[1] \"FP StdDev: 9.76\""
      ]
     },
     "metadata": {},
     "output_type": "display_data"
    },
    {
     "data": {
      "text/html": [
       "''"
      ],
      "text/latex": [
       "''"
      ],
      "text/markdown": [
       "''"
      ],
      "text/plain": [
       "[1] \"\""
      ]
     },
     "metadata": {},
     "output_type": "display_data"
    },
    {
     "data": {
      "text/plain": [
       "   Min. 1st Qu.  Median    Mean 3rd Qu.    Max. \n",
       "    142     160     167     166     173     194 "
      ]
     },
     "metadata": {},
     "output_type": "display_data"
    }
   ],
   "source": [
    "FP_mean <- round(mean(dat_result$FP), 2)\n",
    "FP_sd <- round(sd(dat_result$FP), 2)\n",
    "paste0(\"FP mean: \", as.character(FP_mean))\n",
    "# 165.95\n",
    "paste0(\"FP StdDev: \", as.character(FP_sd))\n",
    "#   9.76\n",
    "\"\"\n",
    "summary(dat_result$FP)\n"
   ]
  },
  {
   "cell_type": "markdown",
   "metadata": {},
   "source": [
    "## Find best gradient boosting model"
   ]
  },
  {
   "cell_type": "markdown",
   "metadata": {},
   "source": [
    "### Variable selection for gradient boosting model"
   ]
  },
  {
   "cell_type": "code",
   "execution_count": 16,
   "metadata": {},
   "outputs": [
    {
     "data": {
      "text/html": [
       "<table>\n",
       "<caption>A data.frame: 11 × 2</caption>\n",
       "<thead>\n",
       "\t<tr><th></th><th scope=col>var</th><th scope=col>rel.inf</th></tr>\n",
       "\t<tr><th></th><th scope=col>&lt;chr&gt;</th><th scope=col>&lt;dbl&gt;</th></tr>\n",
       "</thead>\n",
       "<tbody>\n",
       "\t<tr><th scope=row>median_house_value</th><td>median_house_value</td><td>53.22173</td></tr>\n",
       "\t<tr><th scope=row>HHdens_ln</th><td>HHdens_ln         </td><td>25.06241</td></tr>\n",
       "\t<tr><th scope=row>rooms_per_hh</th><td>rooms_per_hh      </td><td> 5.16927</td></tr>\n",
       "\t<tr><th scope=row>housing_median_age</th><td>housing_median_age</td><td> 3.57757</td></tr>\n",
       "\t<tr><th scope=row>bdrms_per_room</th><td>bdrms_per_room    </td><td> 3.13607</td></tr>\n",
       "\t<tr><th scope=row>pop_per_hh</th><td>pop_per_hh        </td><td> 2.75024</td></tr>\n",
       "\t<tr><th scope=row>total_rooms</th><td>total_rooms       </td><td> 1.84534</td></tr>\n",
       "\t<tr><th scope=row>median_income</th><td>median_income     </td><td> 1.62417</td></tr>\n",
       "\t<tr><th scope=row>population</th><td>population        </td><td> 1.47985</td></tr>\n",
       "\t<tr><th scope=row>total_bedrooms</th><td>total_bedrooms    </td><td> 1.13530</td></tr>\n",
       "\t<tr><th scope=row>households</th><td>households        </td><td> 0.99805</td></tr>\n",
       "</tbody>\n",
       "</table>\n"
      ],
      "text/latex": [
       "A data.frame: 11 × 2\n",
       "\\begin{tabular}{r|ll}\n",
       "  & var & rel.inf\\\\\n",
       "  & <chr> & <dbl>\\\\\n",
       "\\hline\n",
       "\tmedian\\_house\\_value & median\\_house\\_value & 53.22173\\\\\n",
       "\tHHdens\\_ln & HHdens\\_ln          & 25.06241\\\\\n",
       "\trooms\\_per\\_hh & rooms\\_per\\_hh       &  5.16927\\\\\n",
       "\thousing\\_median\\_age & housing\\_median\\_age &  3.57757\\\\\n",
       "\tbdrms\\_per\\_room & bdrms\\_per\\_room     &  3.13607\\\\\n",
       "\tpop\\_per\\_hh & pop\\_per\\_hh         &  2.75024\\\\\n",
       "\ttotal\\_rooms & total\\_rooms        &  1.84534\\\\\n",
       "\tmedian\\_income & median\\_income      &  1.62417\\\\\n",
       "\tpopulation & population         &  1.47985\\\\\n",
       "\ttotal\\_bedrooms & total\\_bedrooms     &  1.13530\\\\\n",
       "\thouseholds & households         &  0.99805\\\\\n",
       "\\end{tabular}\n"
      ],
      "text/markdown": [
       "\n",
       "A data.frame: 11 × 2\n",
       "\n",
       "| <!--/--> | var &lt;chr&gt; | rel.inf &lt;dbl&gt; |\n",
       "|---|---|---|\n",
       "| median_house_value | median_house_value | 53.22173 |\n",
       "| HHdens_ln | HHdens_ln          | 25.06241 |\n",
       "| rooms_per_hh | rooms_per_hh       |  5.16927 |\n",
       "| housing_median_age | housing_median_age |  3.57757 |\n",
       "| bdrms_per_room | bdrms_per_room     |  3.13607 |\n",
       "| pop_per_hh | pop_per_hh         |  2.75024 |\n",
       "| total_rooms | total_rooms        |  1.84534 |\n",
       "| median_income | median_income      |  1.62417 |\n",
       "| population | population         |  1.47985 |\n",
       "| total_bedrooms | total_bedrooms     |  1.13530 |\n",
       "| households | households         |  0.99805 |\n",
       "\n"
      ],
      "text/plain": [
       "                   var                rel.inf \n",
       "median_house_value median_house_value 53.22173\n",
       "HHdens_ln          HHdens_ln          25.06241\n",
       "rooms_per_hh       rooms_per_hh        5.16927\n",
       "housing_median_age housing_median_age  3.57757\n",
       "bdrms_per_room     bdrms_per_room      3.13607\n",
       "pop_per_hh         pop_per_hh          2.75024\n",
       "total_rooms        total_rooms         1.84534\n",
       "median_income      median_income       1.62417\n",
       "population         population          1.47985\n",
       "total_bedrooms     total_bedrooms      1.13530\n",
       "households         households          0.99805"
      ]
     },
     "metadata": {},
     "output_type": "display_data"
    },
    {
     "data": {
      "image/png": "[encoded data removed]",
      "text/plain": [
       "plot without title"
      ]
     },
     "metadata": {
      "image/png": {
       "height": 240,
       "width": 360
      }
     },
     "output_type": "display_data"
    }
   ],
   "source": [
    "options(repr.plot.width= 6, repr.plot.height= 4)\n",
    "\n",
    "set.seed(123)\n",
    "gbmod <- gbm(Inland ~ ., data= traindat, n.trees= 1000,\n",
    "                  distribution= \"bernoulli\", shrinkage= 0.1)\n",
    "summary(gbmod)\n"
   ]
  },
  {
   "cell_type": "code",
   "execution_count": 18,
   "metadata": {},
   "outputs": [
    {
     "name": "stdout",
     "output_type": "stream",
     "text": [
      "     0    1 class.error\n",
      "0 6531  416      0.0599\n",
      "1  610 2639      0.1878\n"
     ]
    },
    {
     "data": {
      "text/html": [
       "''"
      ],
      "text/latex": [
       "''"
      ],
      "text/markdown": [
       "''"
      ],
      "text/plain": [
       "[1] \"\""
      ]
     },
     "metadata": {},
     "output_type": "display_data"
    },
    {
     "name": "stdout",
     "output_type": "stream",
     "text": [
      "[1] \"f-score for gbmod: 0.8372\"\n"
     ]
    }
   ],
   "source": [
    "preds <- suppressMessages(predict(gbmod, newdata= traindat, type=\"response\"))\n",
    "preds_transf <- preds\n",
    "names(preds_transf) <- rownames(traindat)\n",
    "preds_transf[which(preds_transf >= 0.5)] <- 1\n",
    "preds_transf[which(preds_transf < 0.5)] <- 0\n",
    "preds_transf <- as.factor(preds_transf)\n",
    "ans <- get_confusion(preds_transf, traindat[, \"Inland\", drop=FALSE])\n",
    "print(ans$matrix)\n",
    "''\n",
    "print(paste(\"f-score for gbmod: \", as.character(ans[[2]]), sep=\"\"))\n",
    "# 0.8372\n",
    "\n",
    "# Accuracy is 0.8994\n",
    "\n",
    "# Type2 is 0.8621\n"
   ]
  },
  {
   "cell_type": "code",
   "execution_count": 19,
   "metadata": {},
   "outputs": [],
   "source": [
    "# Remove households and total_bedrooms.\n",
    "\n",
    "newcols <- colnames(traindat)[which(!(colnames(traindat) %in% \n",
    "                                      c(\"households\",\"total_bedrooms\")))]\n",
    "df <- traindat[, newcols]\n"
   ]
  },
  {
   "cell_type": "code",
   "execution_count": 20,
   "metadata": {},
   "outputs": [
    {
     "data": {
      "text/html": [
       "<table>\n",
       "<caption>A data.frame: 9 × 2</caption>\n",
       "<thead>\n",
       "\t<tr><th></th><th scope=col>var</th><th scope=col>rel.inf</th></tr>\n",
       "\t<tr><th></th><th scope=col>&lt;chr&gt;</th><th scope=col>&lt;dbl&gt;</th></tr>\n",
       "</thead>\n",
       "<tbody>\n",
       "\t<tr><th scope=row>median_house_value</th><td>median_house_value</td><td>53.4198</td></tr>\n",
       "\t<tr><th scope=row>HHdens_ln</th><td>HHdens_ln         </td><td>25.3147</td></tr>\n",
       "\t<tr><th scope=row>rooms_per_hh</th><td>rooms_per_hh      </td><td> 5.2292</td></tr>\n",
       "\t<tr><th scope=row>housing_median_age</th><td>housing_median_age</td><td> 3.6702</td></tr>\n",
       "\t<tr><th scope=row>bdrms_per_room</th><td>bdrms_per_room    </td><td> 3.1768</td></tr>\n",
       "\t<tr><th scope=row>pop_per_hh</th><td>pop_per_hh        </td><td> 3.0683</td></tr>\n",
       "\t<tr><th scope=row>total_rooms</th><td>total_rooms       </td><td> 2.4803</td></tr>\n",
       "\t<tr><th scope=row>population</th><td>population        </td><td> 1.9066</td></tr>\n",
       "\t<tr><th scope=row>median_income</th><td>median_income     </td><td> 1.7341</td></tr>\n",
       "</tbody>\n",
       "</table>\n"
      ],
      "text/latex": [
       "A data.frame: 9 × 2\n",
       "\\begin{tabular}{r|ll}\n",
       "  & var & rel.inf\\\\\n",
       "  & <chr> & <dbl>\\\\\n",
       "\\hline\n",
       "\tmedian\\_house\\_value & median\\_house\\_value & 53.4198\\\\\n",
       "\tHHdens\\_ln & HHdens\\_ln          & 25.3147\\\\\n",
       "\trooms\\_per\\_hh & rooms\\_per\\_hh       &  5.2292\\\\\n",
       "\thousing\\_median\\_age & housing\\_median\\_age &  3.6702\\\\\n",
       "\tbdrms\\_per\\_room & bdrms\\_per\\_room     &  3.1768\\\\\n",
       "\tpop\\_per\\_hh & pop\\_per\\_hh         &  3.0683\\\\\n",
       "\ttotal\\_rooms & total\\_rooms        &  2.4803\\\\\n",
       "\tpopulation & population         &  1.9066\\\\\n",
       "\tmedian\\_income & median\\_income      &  1.7341\\\\\n",
       "\\end{tabular}\n"
      ],
      "text/markdown": [
       "\n",
       "A data.frame: 9 × 2\n",
       "\n",
       "| <!--/--> | var &lt;chr&gt; | rel.inf &lt;dbl&gt; |\n",
       "|---|---|---|\n",
       "| median_house_value | median_house_value | 53.4198 |\n",
       "| HHdens_ln | HHdens_ln          | 25.3147 |\n",
       "| rooms_per_hh | rooms_per_hh       |  5.2292 |\n",
       "| housing_median_age | housing_median_age |  3.6702 |\n",
       "| bdrms_per_room | bdrms_per_room     |  3.1768 |\n",
       "| pop_per_hh | pop_per_hh         |  3.0683 |\n",
       "| total_rooms | total_rooms        |  2.4803 |\n",
       "| population | population         |  1.9066 |\n",
       "| median_income | median_income      |  1.7341 |\n",
       "\n"
      ],
      "text/plain": [
       "                   var                rel.inf\n",
       "median_house_value median_house_value 53.4198\n",
       "HHdens_ln          HHdens_ln          25.3147\n",
       "rooms_per_hh       rooms_per_hh        5.2292\n",
       "housing_median_age housing_median_age  3.6702\n",
       "bdrms_per_room     bdrms_per_room      3.1768\n",
       "pop_per_hh         pop_per_hh          3.0683\n",
       "total_rooms        total_rooms         2.4803\n",
       "population         population          1.9066\n",
       "median_income      median_income       1.7341"
      ]
     },
     "metadata": {},
     "output_type": "display_data"
    },
    {
     "data": {
      "image/png": "[encoded data removed]",
      "text/plain": [
       "plot without title"
      ]
     },
     "metadata": {
      "image/png": {
       "height": 240,
       "width": 360
      }
     },
     "output_type": "display_data"
    }
   ],
   "source": [
    "options(repr.plot.width= 6, repr.plot.height= 4)\n",
    "\n",
    "set.seed(123)\n",
    "gbmod <- gbm(Inland ~ ., data= df, n.trees= 1000,\n",
    "                  distribution= \"bernoulli\", shrinkage= 0.1)\n",
    "summary(gbmod)\n"
   ]
  },
  {
   "cell_type": "code",
   "execution_count": 21,
   "metadata": {},
   "outputs": [
    {
     "name": "stdout",
     "output_type": "stream",
     "text": [
      "     0    1 class.error\n",
      "0 6524  423      0.0609\n",
      "1  609 2640      0.1874\n"
     ]
    },
    {
     "data": {
      "text/html": [
       "''"
      ],
      "text/latex": [
       "''"
      ],
      "text/markdown": [
       "''"
      ],
      "text/plain": [
       "[1] \"\""
      ]
     },
     "metadata": {},
     "output_type": "display_data"
    },
    {
     "name": "stdout",
     "output_type": "stream",
     "text": [
      "[1] \"f-score for gbmod: 0.8365\"\n"
     ]
    }
   ],
   "source": [
    "preds <- suppressMessages(predict(gbmod, newdata= df, type=\"response\"))\n",
    "preds_transf <- preds\n",
    "names(preds_transf) <- rownames(df)\n",
    "preds_transf[which(preds_transf >= 0.5)] <- 1\n",
    "preds_transf[which(preds_transf < 0.5)] <- 0\n",
    "preds_transf <- as.factor(preds_transf)\n",
    "ans <- get_confusion(preds_transf, df[, \"Inland\", drop=FALSE])\n",
    "print(ans$matrix)\n",
    "''\n",
    "print(paste(\"f-score for gbmod: \", as.character(ans[[2]]), sep=\"\"))\n",
    "# 0.8365\n",
    "\n",
    "# Accuracy is 0.8989\n",
    "\n",
    "# Type2 is 0.8615\n"
   ]
  },
  {
   "cell_type": "code",
   "execution_count": 22,
   "metadata": {},
   "outputs": [],
   "source": [
    "# See what results are when we remove population.  We already\n",
    "# have pop_per_hh.\n",
    "\n",
    "newcols <- colnames(traindat)[which(!(colnames(traindat) %in% \n",
    "                                      c(\"households\",\"total_bedrooms\",\n",
    "                                        \"population\")))]\n",
    "df <- traindat[, newcols]\n"
   ]
  },
  {
   "cell_type": "code",
   "execution_count": 23,
   "metadata": {},
   "outputs": [
    {
     "data": {
      "text/html": [
       "<table>\n",
       "<caption>A data.frame: 8 × 2</caption>\n",
       "<thead>\n",
       "\t<tr><th></th><th scope=col>var</th><th scope=col>rel.inf</th></tr>\n",
       "\t<tr><th></th><th scope=col>&lt;chr&gt;</th><th scope=col>&lt;dbl&gt;</th></tr>\n",
       "</thead>\n",
       "<tbody>\n",
       "\t<tr><th scope=row>median_house_value</th><td>median_house_value</td><td>53.7036</td></tr>\n",
       "\t<tr><th scope=row>HHdens_ln</th><td>HHdens_ln         </td><td>25.5192</td></tr>\n",
       "\t<tr><th scope=row>rooms_per_hh</th><td>rooms_per_hh      </td><td> 5.3179</td></tr>\n",
       "\t<tr><th scope=row>housing_median_age</th><td>housing_median_age</td><td> 3.7408</td></tr>\n",
       "\t<tr><th scope=row>total_rooms</th><td>total_rooms       </td><td> 3.5693</td></tr>\n",
       "\t<tr><th scope=row>bdrms_per_room</th><td>bdrms_per_room    </td><td> 3.2124</td></tr>\n",
       "\t<tr><th scope=row>pop_per_hh</th><td>pop_per_hh        </td><td> 3.1650</td></tr>\n",
       "\t<tr><th scope=row>median_income</th><td>median_income     </td><td> 1.7718</td></tr>\n",
       "</tbody>\n",
       "</table>\n"
      ],
      "text/latex": [
       "A data.frame: 8 × 2\n",
       "\\begin{tabular}{r|ll}\n",
       "  & var & rel.inf\\\\\n",
       "  & <chr> & <dbl>\\\\\n",
       "\\hline\n",
       "\tmedian\\_house\\_value & median\\_house\\_value & 53.7036\\\\\n",
       "\tHHdens\\_ln & HHdens\\_ln          & 25.5192\\\\\n",
       "\trooms\\_per\\_hh & rooms\\_per\\_hh       &  5.3179\\\\\n",
       "\thousing\\_median\\_age & housing\\_median\\_age &  3.7408\\\\\n",
       "\ttotal\\_rooms & total\\_rooms        &  3.5693\\\\\n",
       "\tbdrms\\_per\\_room & bdrms\\_per\\_room     &  3.2124\\\\\n",
       "\tpop\\_per\\_hh & pop\\_per\\_hh         &  3.1650\\\\\n",
       "\tmedian\\_income & median\\_income      &  1.7718\\\\\n",
       "\\end{tabular}\n"
      ],
      "text/markdown": [
       "\n",
       "A data.frame: 8 × 2\n",
       "\n",
       "| <!--/--> | var &lt;chr&gt; | rel.inf &lt;dbl&gt; |\n",
       "|---|---|---|\n",
       "| median_house_value | median_house_value | 53.7036 |\n",
       "| HHdens_ln | HHdens_ln          | 25.5192 |\n",
       "| rooms_per_hh | rooms_per_hh       |  5.3179 |\n",
       "| housing_median_age | housing_median_age |  3.7408 |\n",
       "| total_rooms | total_rooms        |  3.5693 |\n",
       "| bdrms_per_room | bdrms_per_room     |  3.2124 |\n",
       "| pop_per_hh | pop_per_hh         |  3.1650 |\n",
       "| median_income | median_income      |  1.7718 |\n",
       "\n"
      ],
      "text/plain": [
       "                   var                rel.inf\n",
       "median_house_value median_house_value 53.7036\n",
       "HHdens_ln          HHdens_ln          25.5192\n",
       "rooms_per_hh       rooms_per_hh        5.3179\n",
       "housing_median_age housing_median_age  3.7408\n",
       "total_rooms        total_rooms         3.5693\n",
       "bdrms_per_room     bdrms_per_room      3.2124\n",
       "pop_per_hh         pop_per_hh          3.1650\n",
       "median_income      median_income       1.7718"
      ]
     },
     "metadata": {},
     "output_type": "display_data"
    },
    {
     "data": {
      "image/png": "[encoded data removed]",
      "text/plain": [
       "plot without title"
      ]
     },
     "metadata": {
      "image/png": {
       "height": 240,
       "width": 360
      }
     },
     "output_type": "display_data"
    }
   ],
   "source": [
    "options(repr.plot.width= 6, repr.plot.height= 4)\n",
    "\n",
    "set.seed(123)\n",
    "gbmod <- gbm(Inland ~ ., data= df, n.trees= 1000,\n",
    "                  distribution= \"bernoulli\", shrinkage= 0.1)\n",
    "summary(gbmod)\n"
   ]
  },
  {
   "cell_type": "code",
   "execution_count": 24,
   "metadata": {},
   "outputs": [
    {
     "name": "stdout",
     "output_type": "stream",
     "text": [
      "     0    1 class.error\n",
      "0 6511  436      0.0628\n",
      "1  610 2639      0.1878\n"
     ]
    },
    {
     "data": {
      "text/html": [
       "''"
      ],
      "text/latex": [
       "''"
      ],
      "text/markdown": [
       "''"
      ],
      "text/plain": [
       "[1] \"\""
      ]
     },
     "metadata": {},
     "output_type": "display_data"
    },
    {
     "name": "stdout",
     "output_type": "stream",
     "text": [
      "[1] \"f-score for gbmod: 0.8346\"\n"
     ]
    }
   ],
   "source": [
    "preds <- suppressMessages(predict(gbmod, newdata= df, type=\"response\"))\n",
    "preds_transf <- preds\n",
    "names(preds_transf) <- rownames(df)\n",
    "preds_transf[which(preds_transf >= 0.5)] <- 1\n",
    "preds_transf[which(preds_transf < 0.5)] <- 0\n",
    "preds_transf <- as.factor(preds_transf)\n",
    "ans <- get_confusion(preds_transf, df[, \"Inland\", drop=FALSE])\n",
    "print(ans$matrix)\n",
    "''\n",
    "print(paste(\"f-score for gbmod: \", as.character(ans[[2]]), sep=\"\"))\n",
    "# 0.8346\n",
    "\n",
    "# Accuracy is 0.8974\n",
    "\n",
    "# Type2 is 0.8597\n"
   ]
  },
  {
   "cell_type": "code",
   "execution_count": 25,
   "metadata": {},
   "outputs": [],
   "source": [
    "# See what results are when we remove median_income \n",
    "# instead of population.\n",
    "\n",
    "newcols <- colnames(traindat)[which(!(colnames(traindat) %in% \n",
    "                                      c(\"households\",\"total_bedrooms\",\n",
    "                                        \"median_income\")))]\n",
    "df <- traindat[, newcols]\n"
   ]
  },
  {
   "cell_type": "code",
   "execution_count": 26,
   "metadata": {},
   "outputs": [
    {
     "data": {
      "text/html": [
       "<table>\n",
       "<caption>A data.frame: 8 × 2</caption>\n",
       "<thead>\n",
       "\t<tr><th></th><th scope=col>var</th><th scope=col>rel.inf</th></tr>\n",
       "\t<tr><th></th><th scope=col>&lt;chr&gt;</th><th scope=col>&lt;dbl&gt;</th></tr>\n",
       "</thead>\n",
       "<tbody>\n",
       "\t<tr><th scope=row>median_house_value</th><td>median_house_value</td><td>54.3413</td></tr>\n",
       "\t<tr><th scope=row>HHdens_ln</th><td>HHdens_ln         </td><td>25.7256</td></tr>\n",
       "\t<tr><th scope=row>rooms_per_hh</th><td>rooms_per_hh      </td><td> 5.3308</td></tr>\n",
       "\t<tr><th scope=row>housing_median_age</th><td>housing_median_age</td><td> 3.7384</td></tr>\n",
       "\t<tr><th scope=row>pop_per_hh</th><td>pop_per_hh        </td><td> 3.2143</td></tr>\n",
       "\t<tr><th scope=row>bdrms_per_room</th><td>bdrms_per_room    </td><td> 2.8958</td></tr>\n",
       "\t<tr><th scope=row>total_rooms</th><td>total_rooms       </td><td> 2.6660</td></tr>\n",
       "\t<tr><th scope=row>population</th><td>population        </td><td> 2.0879</td></tr>\n",
       "</tbody>\n",
       "</table>\n"
      ],
      "text/latex": [
       "A data.frame: 8 × 2\n",
       "\\begin{tabular}{r|ll}\n",
       "  & var & rel.inf\\\\\n",
       "  & <chr> & <dbl>\\\\\n",
       "\\hline\n",
       "\tmedian\\_house\\_value & median\\_house\\_value & 54.3413\\\\\n",
       "\tHHdens\\_ln & HHdens\\_ln          & 25.7256\\\\\n",
       "\trooms\\_per\\_hh & rooms\\_per\\_hh       &  5.3308\\\\\n",
       "\thousing\\_median\\_age & housing\\_median\\_age &  3.7384\\\\\n",
       "\tpop\\_per\\_hh & pop\\_per\\_hh         &  3.2143\\\\\n",
       "\tbdrms\\_per\\_room & bdrms\\_per\\_room     &  2.8958\\\\\n",
       "\ttotal\\_rooms & total\\_rooms        &  2.6660\\\\\n",
       "\tpopulation & population         &  2.0879\\\\\n",
       "\\end{tabular}\n"
      ],
      "text/markdown": [
       "\n",
       "A data.frame: 8 × 2\n",
       "\n",
       "| <!--/--> | var &lt;chr&gt; | rel.inf &lt;dbl&gt; |\n",
       "|---|---|---|\n",
       "| median_house_value | median_house_value | 54.3413 |\n",
       "| HHdens_ln | HHdens_ln          | 25.7256 |\n",
       "| rooms_per_hh | rooms_per_hh       |  5.3308 |\n",
       "| housing_median_age | housing_median_age |  3.7384 |\n",
       "| pop_per_hh | pop_per_hh         |  3.2143 |\n",
       "| bdrms_per_room | bdrms_per_room     |  2.8958 |\n",
       "| total_rooms | total_rooms        |  2.6660 |\n",
       "| population | population         |  2.0879 |\n",
       "\n"
      ],
      "text/plain": [
       "                   var                rel.inf\n",
       "median_house_value median_house_value 54.3413\n",
       "HHdens_ln          HHdens_ln          25.7256\n",
       "rooms_per_hh       rooms_per_hh        5.3308\n",
       "housing_median_age housing_median_age  3.7384\n",
       "pop_per_hh         pop_per_hh          3.2143\n",
       "bdrms_per_room     bdrms_per_room      2.8958\n",
       "total_rooms        total_rooms         2.6660\n",
       "population         population          2.0879"
      ]
     },
     "metadata": {},
     "output_type": "display_data"
    },
    {
     "data": {
      "image/png": "[encoded data removed]",
      "text/plain": [
       "plot without title"
      ]
     },
     "metadata": {
      "image/png": {
       "height": 240,
       "width": 360
      }
     },
     "output_type": "display_data"
    }
   ],
   "source": [
    "options(repr.plot.width= 6, repr.plot.height= 4)\n",
    "\n",
    "set.seed(123)\n",
    "gbmod <- gbm(Inland ~ ., data= df, n.trees= 1000,\n",
    "                  distribution= \"bernoulli\", shrinkage= 0.1)\n",
    "summary(gbmod)\n"
   ]
  },
  {
   "cell_type": "code",
   "execution_count": 27,
   "metadata": {},
   "outputs": [
    {
     "name": "stdout",
     "output_type": "stream",
     "text": [
      "     0    1 class.error\n",
      "0 6530  417      0.0600\n",
      "1  619 2630      0.1905\n"
     ]
    },
    {
     "data": {
      "text/html": [
       "''"
      ],
      "text/latex": [
       "''"
      ],
      "text/markdown": [
       "''"
      ],
      "text/plain": [
       "[1] \"\""
      ]
     },
     "metadata": {},
     "output_type": "display_data"
    },
    {
     "name": "stdout",
     "output_type": "stream",
     "text": [
      "[1] \"f-score for gbmod: 0.8355\"\n"
     ]
    }
   ],
   "source": [
    "preds <- suppressMessages(predict(gbmod, newdata= df, type=\"response\"))\n",
    "preds_transf <- preds\n",
    "names(preds_transf) <- rownames(df)\n",
    "preds_transf[which(preds_transf >= 0.5)] <- 1\n",
    "preds_transf[which(preds_transf < 0.5)] <- 0\n",
    "preds_transf <- as.factor(preds_transf)\n",
    "ans <- get_confusion(preds_transf, df[, \"Inland\", drop=FALSE])\n",
    "print(ans$matrix)\n",
    "''\n",
    "print(paste(\"f-score for gbmod: \", as.character(ans[[2]]), sep=\"\"))\n",
    "# 0.8355\n",
    "\n",
    "# Accuracy is 0.8984\n",
    "\n",
    "# Type2 is 0.8607\n"
   ]
  },
  {
   "cell_type": "code",
   "execution_count": 17,
   "metadata": {},
   "outputs": [],
   "source": [
    "# Identify the columns we will use for our gradient boosting\n",
    "# model.  There are 8 predictors.\n",
    "\n",
    "gbclf_columns <- c('Inland','housing_median_age','population',\n",
    "                   'median_house_value','HHdens_ln','rooms_per_hh',\n",
    "                   'bdrms_per_room','pop_per_hh','total_rooms')\n"
   ]
  },
  {
   "cell_type": "code",
   "execution_count": 34,
   "metadata": {},
   "outputs": [],
   "source": [
    "# Restrict variables in traindat and testdat for gradient\n",
    "# boosting modeling.\n",
    "\n",
    "gbtrain <- traindat[, gbclf_columns]\n",
    "gbtest <- testdat[, gbclf_columns]\n"
   ]
  },
  {
   "cell_type": "markdown",
   "metadata": {},
   "source": [
    "### Tune the gradient boosting model"
   ]
  },
  {
   "cell_type": "code",
   "execution_count": 35,
   "metadata": {},
   "outputs": [],
   "source": [
    "# This function is called from get_cvScore_gb.\n",
    "\n",
    "get_Type2_gb <- function(traindat, valdat, ntrees, shrinkage) {\n",
    "        \n",
    "    gbmod <- gbm(Inland ~ ., data= traindat, n.trees=ntrees,\n",
    "                  distribution= \"bernoulli\", shrinkage=shrinkage)\n",
    "        \n",
    "    preds <- suppressMessages(predict(gbmod, newdata= valdat, type=\"response\"))\n",
    "    names(preds) <- rownames(valdat)\n",
    "    preds[which(preds >= 0.5)] <- 1\n",
    "    preds[which(preds < 0.5)] <- 0\n",
    "    preds <- as.factor(preds)\n",
    "    ans <- get_confusion(preds, valdat[, \"Inland\", drop=FALSE])\n",
    "\n",
    "    # Type2 score is average of accuracy and f-score.\n",
    "    mat <- as.matrix(ans[[1]])\n",
    "    percent_correct <- sum(diag(mat))/floor(sum(mat))\n",
    "    result <- round((0.4 * percent_correct + 0.6 * ans[[2]]), 4)\n",
    "    return(result)\n",
    "}\n"
   ]
  },
  {
   "cell_type": "code",
   "execution_count": 31,
   "metadata": {},
   "outputs": [],
   "source": [
    "# Function to obtain a cross-validation score, averaging the\n",
    "# Type2 scores of the folds.  This function is called from\n",
    "# avg_seedScores_gb.\n",
    "\n",
    "get_cvScore_gb <- function(seed, dat, ntrees, shrinkage,\n",
    "                           folds= 5) {\n",
    "    \n",
    "    # divide dat by the number of folds \n",
    "    segment_size <- round(dim(dat)[1]/folds)\n",
    "    diff <- nrow(dat) - folds * segment_size\n",
    "    last_seg_size <- segment_size + diff\n",
    "    segmentsv <- c(rep(segment_size, (folds - 1)), last_seg_size)\n",
    "    stopifnot(sum(segmentsv) == nrow(dat))\n",
    "    \n",
    "    # shuffle dat\n",
    "    set.seed(seed)\n",
    "    smp <- sample(rownames(dat), nrow(dat), replace= FALSE)\n",
    "    dat <- dat[smp,]\n",
    "    \n",
    "    # split the data into the folds\n",
    "    row_list <- vector(\"list\", length= folds)\n",
    "    names(row_list) <- as.character(1:folds)\n",
    "    startpt <- 1\n",
    "    for(i in 1:folds) {\n",
    "        endpt <- startpt + segmentsv[i] - 1\n",
    "        stopifnot(endpt <= dim(dat)[1])\n",
    "        row_list[[i]] <- rownames(dat)[startpt:endpt]\n",
    "        startpt <- endpt + 1\n",
    "    }\n",
    "    \n",
    "    train_list <- test_list <- vector(\"list\", length= folds)\n",
    "    for(j in 1:folds) {\n",
    "        testdat <- dat[row_list[[j]],]\n",
    "        traindat <- dat[which(!(rownames(dat) %in% rownames(testdat))),]\n",
    "        stopifnot((length(rownames(traindat)) + length(rownames(testdat))) == dim(dat)[1])\n",
    "        test_list[[j]] <- testdat\n",
    "        train_list[[j]] <- traindat\n",
    "    }\n",
    "\n",
    "    scores <- mcmapply(get_Type2_gb, train_list, test_list,\n",
    "                       MoreArgs= list(ntrees= ntrees, shrinkage=shrinkage),\n",
    "                       SIMPLIFY= TRUE, mc.cores=5)\n",
    "    \n",
    "    # The average is of Type2 scores.\n",
    "    return(round(mean(scores), 5))\n",
    "}\n"
   ]
  },
  {
   "cell_type": "code",
   "execution_count": 32,
   "metadata": {},
   "outputs": [],
   "source": [
    "# Since the seed value can have a big effect on the results,\n",
    "# I take the average over a number of seeds.  This ftn is\n",
    "# called from gridSearch03.\n",
    "\n",
    "avg_seedScores_gb <- function(seed_vector, traindat, n_trees,  \n",
    "                              shrinkage, folds= 5) {\n",
    "    \n",
    "    seed_len <- length(seed_vector)\n",
    "    outv <- rep(NA, seed_len)\n",
    "    for(i in 1:seed_len) {\n",
    "        seed <- seed_vector[i]\n",
    "        outv[i] <- get_cvScore_gb(seed, traindat, n_trees,\n",
    "                                  shrinkage, folds=folds)\n",
    "    }\n",
    "    return(round(mean(outv), 5))\n",
    "}\n"
   ]
  },
  {
   "cell_type": "code",
   "execution_count": 33,
   "metadata": {},
   "outputs": [],
   "source": [
    "# This grid search is specific to finding the best random forest\n",
    "# classifier for traindat.\n",
    "\n",
    "gridSearch03 <- function(seed_vector, traindat, ntree_vector, \n",
    "                         shrinkagev, folds=5) {\n",
    "    \n",
    "    tree_len <- length(ntree_vector)\n",
    "    shrink_len <- length(shrinkagev)\n",
    "    # We need to capture the gridSearch parameters as well as \n",
    "    # the cross-val  scores.\n",
    "    datout <- rep(NA, 2 * tree_len * shrink_len)\n",
    "    dim(datout) <- c((tree_len * shrink_len ), 2)\n",
    "    datout <- as.data.frame(datout)\n",
    "    colnames(datout) <- c(\"params\", \"Type2\")\n",
    "    datout$params <- \"\"\n",
    "    \n",
    "    index <- 0\n",
    "    for(i in 1:tree_len) {\n",
    "        n_trees <- ntree_vector[i]\n",
    "        for(j in 1:shrink_len) {\n",
    "            shrinkage <- shrinkagev[j]\n",
    "            index <- index + 1\n",
    "            param_string <- paste(as.character(n_trees), \n",
    "                                  as.character(shrinkage), sep= \"--\")\n",
    "                datout$params[index] <- param_string\n",
    "                datout$Type2[index] <- avg_seedScores_gb(seed_vector, traindat, n_trees, \n",
    "                                                         folds=folds, shrinkage=shrinkage)\n",
    "        }\n",
    "    }\n",
    "    return(datout)\n",
    "}\n"
   ]
  },
  {
   "cell_type": "code",
   "execution_count": 35,
   "metadata": {},
   "outputs": [
    {
     "data": {
      "text/html": [
       "'Start time: 2021-04-23 09:10:16'"
      ],
      "text/latex": [
       "'Start time: 2021-04-23 09:10:16'"
      ],
      "text/markdown": [
       "'Start time: 2021-04-23 09:10:16'"
      ],
      "text/plain": [
       "[1] \"Start time: 2021-04-23 09:10:16\""
      ]
     },
     "metadata": {},
     "output_type": "display_data"
    },
    {
     "data": {
      "text/plain": [
       "Time difference of 11.05 mins"
      ]
     },
     "metadata": {},
     "output_type": "display_data"
    },
    {
     "data": {
      "text/html": [
       "'750--0.1'"
      ],
      "text/latex": [
       "'750--0.1'"
      ],
      "text/markdown": [
       "'750--0.1'"
      ],
      "text/plain": [
       "[1] \"750--0.1\""
      ]
     },
     "metadata": {},
     "output_type": "display_data"
    },
    {
     "data": {
      "text/html": [
       "0.84767"
      ],
      "text/latex": [
       "0.84767"
      ],
      "text/markdown": [
       "0.84767"
      ],
      "text/plain": [
       "[1] 0.84767"
      ]
     },
     "metadata": {},
     "output_type": "display_data"
    }
   ],
   "source": [
    "# Run grid search to get better parameters for the \n",
    "# random forest model.  Test with 21 seeds.  For each\n",
    "# seed, an average is taken over 5 folds.\n",
    "\n",
    "set.seed(7543)\n",
    "seed_smp <- sample(1:9999, 21, replace=FALSE)\n",
    "tree_vector <- c(750, 900, 1000, 1200)\n",
    "shrinkage_v <- c(0.05, 0.08, 0.1, 0.15, 0.2)\n",
    "\n",
    "\n",
    "start <- Sys.time()\n",
    "paste(\"Start time: \", start, sep=\"\")\n",
    "ans <- gridSearch03(seed_smp, gbtrain, tree_vector, shrinkage_v)\n",
    "stop <- Sys.time()\n",
    "round(stop - start, 2)\n",
    "# Time difference of 11 mins\n",
    "\n",
    "(best_params <- ans[which(ans$Type2 == max(ans$Type2)),]$params)\n",
    "# '750--0.1'\n",
    "\n",
    "(best_rf_Type2 <- ans[which(ans$Type2 == max(ans$Type2)),]$Type2)\n",
    "# 0.8477\n"
   ]
  },
  {
   "cell_type": "code",
   "execution_count": 36,
   "metadata": {},
   "outputs": [
    {
     "data": {
      "text/html": [
       "'Start time: 2021-04-23 09:24:16'"
      ],
      "text/latex": [
       "'Start time: 2021-04-23 09:24:16'"
      ],
      "text/markdown": [
       "'Start time: 2021-04-23 09:24:16'"
      ],
      "text/plain": [
       "[1] \"Start time: 2021-04-23 09:24:16\""
      ]
     },
     "metadata": {},
     "output_type": "display_data"
    },
    {
     "data": {
      "text/plain": [
       "Time difference of 3 mins"
      ]
     },
     "metadata": {},
     "output_type": "display_data"
    },
    {
     "data": {
      "text/html": [
       "'750--0.1'"
      ],
      "text/latex": [
       "'750--0.1'"
      ],
      "text/markdown": [
       "'750--0.1'"
      ],
      "text/plain": [
       "[1] \"750--0.1\""
      ]
     },
     "metadata": {},
     "output_type": "display_data"
    },
    {
     "data": {
      "text/html": [
       "0.84761"
      ],
      "text/latex": [
       "0.84761"
      ],
      "text/markdown": [
       "0.84761"
      ],
      "text/plain": [
       "[1] 0.84761"
      ]
     },
     "metadata": {},
     "output_type": "display_data"
    }
   ],
   "source": [
    "# Refine the search.\n",
    "\n",
    "set.seed(7541)\n",
    "seed_smp <- sample(1:9999, 21, replace=FALSE)\n",
    "tree_vector <- c(400, 600, 750)\n",
    "shrinkage_v <- c(0.08, 0.1, 0.12)\n",
    "\n",
    "\n",
    "start <- Sys.time()\n",
    "paste(\"Start time: \", start, sep=\"\")\n",
    "ans <- gridSearch03(seed_smp, gbtrain, tree_vector, shrinkage_v)\n",
    "stop <- Sys.time()\n",
    "round(stop - start, 2)\n",
    "# Time difference of 3 mins\n",
    "\n",
    "(best_params <- ans[which(ans$Type2 == max(ans$Type2)),]$params)\n",
    "# '750--0.1'\n",
    "\n",
    "(best_rf_Type2 <- ans[which(ans$Type2 == max(ans$Type2)),]$Type2)\n",
    "# 0.8476\n"
   ]
  },
  {
   "cell_type": "code",
   "execution_count": 37,
   "metadata": {},
   "outputs": [
    {
     "data": {
      "text/html": [
       "<table>\n",
       "<caption>A data.frame: 9 × 2</caption>\n",
       "<thead>\n",
       "\t<tr><th scope=col>params</th><th scope=col>Type2</th></tr>\n",
       "\t<tr><th scope=col>&lt;chr&gt;</th><th scope=col>&lt;dbl&gt;</th></tr>\n",
       "</thead>\n",
       "<tbody>\n",
       "\t<tr><td>400--0.08</td><td>0.84525</td></tr>\n",
       "\t<tr><td>400--0.1 </td><td>0.84582</td></tr>\n",
       "\t<tr><td>400--0.12</td><td>0.84678</td></tr>\n",
       "\t<tr><td>600--0.08</td><td>0.84696</td></tr>\n",
       "\t<tr><td>600--0.1 </td><td>0.84738</td></tr>\n",
       "\t<tr><td>600--0.12</td><td>0.84715</td></tr>\n",
       "\t<tr><td>750--0.08</td><td>0.84723</td></tr>\n",
       "\t<tr><td>750--0.1 </td><td>0.84761</td></tr>\n",
       "\t<tr><td>750--0.12</td><td>0.84666</td></tr>\n",
       "</tbody>\n",
       "</table>\n"
      ],
      "text/latex": [
       "A data.frame: 9 × 2\n",
       "\\begin{tabular}{ll}\n",
       " params & Type2\\\\\n",
       " <chr> & <dbl>\\\\\n",
       "\\hline\n",
       "\t 400--0.08 & 0.84525\\\\\n",
       "\t 400--0.1  & 0.84582\\\\\n",
       "\t 400--0.12 & 0.84678\\\\\n",
       "\t 600--0.08 & 0.84696\\\\\n",
       "\t 600--0.1  & 0.84738\\\\\n",
       "\t 600--0.12 & 0.84715\\\\\n",
       "\t 750--0.08 & 0.84723\\\\\n",
       "\t 750--0.1  & 0.84761\\\\\n",
       "\t 750--0.12 & 0.84666\\\\\n",
       "\\end{tabular}\n"
      ],
      "text/markdown": [
       "\n",
       "A data.frame: 9 × 2\n",
       "\n",
       "| params &lt;chr&gt; | Type2 &lt;dbl&gt; |\n",
       "|---|---|\n",
       "| 400--0.08 | 0.84525 |\n",
       "| 400--0.1  | 0.84582 |\n",
       "| 400--0.12 | 0.84678 |\n",
       "| 600--0.08 | 0.84696 |\n",
       "| 600--0.1  | 0.84738 |\n",
       "| 600--0.12 | 0.84715 |\n",
       "| 750--0.08 | 0.84723 |\n",
       "| 750--0.1  | 0.84761 |\n",
       "| 750--0.12 | 0.84666 |\n",
       "\n"
      ],
      "text/plain": [
       "  params    Type2  \n",
       "1 400--0.08 0.84525\n",
       "2 400--0.1  0.84582\n",
       "3 400--0.12 0.84678\n",
       "4 600--0.08 0.84696\n",
       "5 600--0.1  0.84738\n",
       "6 600--0.12 0.84715\n",
       "7 750--0.08 0.84723\n",
       "8 750--0.1  0.84761\n",
       "9 750--0.12 0.84666"
      ]
     },
     "metadata": {},
     "output_type": "display_data"
    }
   ],
   "source": [
    "ans\n"
   ]
  },
  {
   "cell_type": "markdown",
   "metadata": {},
   "source": [
    "### Get scores for gbclf_best on traindat"
   ]
  },
  {
   "cell_type": "code",
   "execution_count": 36,
   "metadata": {},
   "outputs": [
    {
     "data": {
      "text/plain": [
       "Time difference of 5.19 mins"
      ]
     },
     "metadata": {},
     "output_type": "display_data"
    },
    {
     "data": {
      "image/png": "[encoded data removed]",
      "text/plain": [
       "Plot with title “Distribution of f-scores for gbclf_best on traindat”"
      ]
     },
     "metadata": {
      "image/png": {
       "height": 360,
       "width": 600
      }
     },
     "output_type": "display_data"
    }
   ],
   "source": [
    "# Get stable scores for the best gradient boosting model. \n",
    "# I will refer to this model as gbclf_best.  Note that \n",
    "# 250 seeds are being used.\n",
    "\n",
    "set.seed(1433)\n",
    "seed_smp <- sample(1:9999, 250, replace=FALSE)\n",
    "\n",
    "datout <- rep(NA, 6 * length(seed_smp))\n",
    "dim(datout) <- c(length(seed_smp), 6)\n",
    "datout <- as.data.frame(datout)\n",
    "colnames(datout) <- c(\"seed\",\"fscore\",\"Acc\",\"Type2\", \"FN\",\"FP\")\n",
    "datout$seed <- seed_smp\n",
    "\n",
    "start <- Sys.time()\n",
    "for(i in 1:length(seed_smp)) {\n",
    "    \n",
    "    set.seed(seed_smp[i])\n",
    "    gbmod <- gbm(Inland ~ ., data= gbtrain, n.trees=750,\n",
    "                  distribution= \"bernoulli\", shrinkage=0.1)\n",
    "        \n",
    "    preds <- suppressMessages(predict(gbmod, newdata= gbtrain, type=\"response\"))\n",
    "    names(preds) <- rownames(gbtrain)\n",
    "    preds[which(preds >= 0.5)] <- 1\n",
    "    preds[which(preds < 0.5)] <- 0\n",
    "    preds <- as.factor(preds)\n",
    "    ans <- get_confusion(preds, gbtrain[, \"Inland\", drop=FALSE])\n",
    "        \n",
    "    mat <- as.matrix(ans[[1]])\n",
    "    percent_correct <- sum(diag(mat))/floor(sum(mat))\n",
    "    datout[i, c(\"Acc\")] <- acc <- round(percent_correct, 4)\n",
    "    datout[i, c(\"fscore\")] <- fscore <- round(ans[[2]], 4)\n",
    "    datout[i, c(\"Type2\")] <- round(0.4*acc + 0.6*fscore, 4)\n",
    "    datout[i, c(\"FN\")] <- as.numeric(mat[2,1])\n",
    "    datout[i, c(\"FP\")] <- as.numeric(mat[1,2])\n",
    "}\n",
    "stop <- Sys.time()\n",
    "round(stop - start, 2)\n",
    "# Time difference of 5.19 mins\n",
    "\n",
    "options(repr.plot.width= 10, repr.plot.height= 6)\n",
    "hist(datout$fscore, breaks=12, xlab=\"f-score\",\n",
    "     main=\"Distribution of f-scores for gbclf_best on traindat\")\n"
   ]
  },
  {
   "cell_type": "code",
   "execution_count": 37,
   "metadata": {},
   "outputs": [
    {
     "data": {
      "text/html": [
       "<style>\n",
       ".list-inline {list-style: none; margin:0; padding: 0}\n",
       ".list-inline>li {display: inline-block}\n",
       ".list-inline>li:not(:last-child)::after {content: \"\\00b7\"; padding: 0 .5ex}\n",
       "</style>\n",
       "<ol class=list-inline><li>0.8338</li><li>0.8974</li><li>625.56</li><li>420.32</li></ol>\n"
      ],
      "text/latex": [
       "\\begin{enumerate*}\n",
       "\\item 0.8338\n",
       "\\item 0.8974\n",
       "\\item 625.56\n",
       "\\item 420.32\n",
       "\\end{enumerate*}\n"
      ],
      "text/markdown": [
       "1. 0.8338\n",
       "2. 0.8974\n",
       "3. 625.56\n",
       "4. 420.32\n",
       "\n",
       "\n"
      ],
      "text/plain": [
       "[1]   0.8338   0.8974 625.5600 420.3200"
      ]
     },
     "metadata": {},
     "output_type": "display_data"
    }
   ],
   "source": [
    "# Get summaries for gbclf_best.\n",
    "\n",
    "fn_avg <- mean(datout$FN)\n",
    "fp_avg <- mean(datout$FP)\n",
    "\n",
    "c(round(mean(datout$fscore), 4), round(mean(datout$Acc), 4),\n",
    "  round(fn_avg, 2), round(fp_avg, 2))\n",
    "# f-score:   0.8338   \n",
    "# accuracy:  0.8974   \n",
    "# false negatives: 625.56   \n",
    "# false positives: 420.32\n",
    "\n",
    "# Type2: 0.8592\n"
   ]
  },
  {
   "cell_type": "code",
   "execution_count": 38,
   "metadata": {},
   "outputs": [
    {
     "data": {
      "text/html": [
       "0.8592"
      ],
      "text/latex": [
       "0.8592"
      ],
      "text/markdown": [
       "0.8592"
      ],
      "text/plain": [
       "[1] 0.8592"
      ]
     },
     "metadata": {},
     "output_type": "display_data"
    }
   ],
   "source": [
    "round(mean(datout$Type2), 4)\n",
    "# 0.8592\n"
   ]
  },
  {
   "cell_type": "code",
   "execution_count": 39,
   "metadata": {},
   "outputs": [
    {
     "data": {
      "image/png": "[encoded data removed]",
      "text/plain": [
       "Plot with title “Distribution of accuracy scores for gbclf_best on traindat”"
      ]
     },
     "metadata": {
      "image/png": {
       "height": 360,
       "width": 600
      }
     },
     "output_type": "display_data"
    }
   ],
   "source": [
    "options(repr.plot.width= 10, repr.plot.height= 6)\n",
    "hist(datout$Acc, breaks=16, xlab=\"accuracy\",\n",
    "     main=\"Distribution of accuracy scores for gbclf_best on traindat\")\n"
   ]
  },
  {
   "cell_type": "code",
   "execution_count": 40,
   "metadata": {},
   "outputs": [
    {
     "data": {
      "text/html": [
       "16"
      ],
      "text/latex": [
       "16"
      ],
      "text/markdown": [
       "16"
      ],
      "text/plain": [
       "[1] 16"
      ]
     },
     "metadata": {},
     "output_type": "display_data"
    },
    {
     "data": {
      "text/html": [
       "<style>\n",
       ".list-inline {list-style: none; margin:0; padding: 0}\n",
       ".list-inline>li {display: inline-block}\n",
       ".list-inline>li:not(:last-child)::after {content: \"\\00b7\"; padding: 0 .5ex}\n",
       "</style>\n",
       "<ol class=list-inline><li>4621</li><li>9214</li><li>5711</li><li>7584</li><li>6932</li><li>2254</li></ol>\n"
      ],
      "text/latex": [
       "\\begin{enumerate*}\n",
       "\\item 4621\n",
       "\\item 9214\n",
       "\\item 5711\n",
       "\\item 7584\n",
       "\\item 6932\n",
       "\\item 2254\n",
       "\\end{enumerate*}\n"
      ],
      "text/markdown": [
       "1. 4621\n",
       "2. 9214\n",
       "3. 5711\n",
       "4. 7584\n",
       "5. 6932\n",
       "6. 2254\n",
       "\n",
       "\n"
      ],
      "text/plain": [
       "[1] 4621 9214 5711 7584 6932 2254"
      ]
     },
     "metadata": {},
     "output_type": "display_data"
    }
   ],
   "source": [
    "# Identify seeds with an accuracy score between 0.8974 \n",
    "# and 0.8976.  When constructing gbclf_best, I may want\n",
    "# to use a seed which has an accuracy in the center\n",
    "# of the distribution of accuracy scores.  (It may be that\n",
    "# gbclf_best will generalize better to the test data if\n",
    "# I choose a seed for it that is at the midpoint of the\n",
    "# accuracy distribution.)\n",
    "\n",
    "gb_candidate_seeds <- datout[which((datout$Acc > 0.8974) & (datout$Acc < 0.8976)),]$seed\n",
    "length(gb_candidate_seeds)\n",
    "#  16\n",
    "head(gb_candidate_seeds)\n",
    "#  4621   9214   5711   7584   6932   2254 \n"
   ]
  },
  {
   "cell_type": "code",
   "execution_count": 42,
   "metadata": {},
   "outputs": [
    {
     "data": {
      "text/html": [
       "12"
      ],
      "text/latex": [
       "12"
      ],
      "text/markdown": [
       "12"
      ],
      "text/plain": [
       "[1] 12"
      ]
     },
     "metadata": {},
     "output_type": "display_data"
    },
    {
     "data": {
      "text/html": [
       "<style>\n",
       ".list-inline {list-style: none; margin:0; padding: 0}\n",
       ".list-inline>li {display: inline-block}\n",
       ".list-inline>li:not(:last-child)::after {content: \"\\00b7\"; padding: 0 .5ex}\n",
       "</style>\n",
       "<ol class=list-inline><li>6937</li><li>5021</li><li>64</li><li>2650</li><li>3393</li><li>3057</li></ol>\n"
      ],
      "text/latex": [
       "\\begin{enumerate*}\n",
       "\\item 6937\n",
       "\\item 5021\n",
       "\\item 64\n",
       "\\item 2650\n",
       "\\item 3393\n",
       "\\item 3057\n",
       "\\end{enumerate*}\n"
      ],
      "text/markdown": [
       "1. 6937\n",
       "2. 5021\n",
       "3. 64\n",
       "4. 2650\n",
       "5. 3393\n",
       "6. 3057\n",
       "\n",
       "\n"
      ],
      "text/plain": [
       "[1] 6937 5021   64 2650 3393 3057"
      ]
     },
     "metadata": {},
     "output_type": "display_data"
    }
   ],
   "source": [
    "# Identify seeds with the highest accuracy scores.\n",
    "\n",
    "gb_highAcc_seeds <- datout[which(datout$Acc > 0.8985),]$seed\n",
    "length(gb_highAcc_seeds)\n",
    "#  12\n",
    "head(gb_highAcc_seeds)\n",
    "#  6937   5021   64   2650   3393   3057\n"
   ]
  },
  {
   "cell_type": "code",
   "execution_count": 43,
   "metadata": {},
   "outputs": [
    {
     "data": {
      "image/png": "[encoded data removed]",
      "text/plain": [
       "Plot with title “Distribution of Type2 scores for gbclf_best on traindat”"
      ]
     },
     "metadata": {
      "image/png": {
       "height": 360,
       "width": 600
      }
     },
     "output_type": "display_data"
    }
   ],
   "source": [
    "options(repr.plot.width= 10, repr.plot.height= 6)\n",
    "hist(datout$Type2, breaks=16, xlab=\"Type2 score\",\n",
    "     main=\"Distribution of Type2 scores for gbclf_best on traindat\")\n"
   ]
  },
  {
   "cell_type": "code",
   "execution_count": 44,
   "metadata": {},
   "outputs": [
    {
     "data": {
      "text/html": [
       "<table>\n",
       "<caption>A data.frame: 8 × 2</caption>\n",
       "<thead>\n",
       "\t<tr><th></th><th scope=col>var</th><th scope=col>rel.inf</th></tr>\n",
       "\t<tr><th></th><th scope=col>&lt;chr&gt;</th><th scope=col>&lt;dbl&gt;</th></tr>\n",
       "</thead>\n",
       "<tbody>\n",
       "\t<tr><th scope=row>median_house_value</th><td>median_house_value</td><td>55.9842</td></tr>\n",
       "\t<tr><th scope=row>HHdens_ln</th><td>HHdens_ln         </td><td>25.8345</td></tr>\n",
       "\t<tr><th scope=row>rooms_per_hh</th><td>rooms_per_hh      </td><td> 5.7162</td></tr>\n",
       "\t<tr><th scope=row>housing_median_age</th><td>housing_median_age</td><td> 3.3490</td></tr>\n",
       "\t<tr><th scope=row>pop_per_hh</th><td>pop_per_hh        </td><td> 2.8637</td></tr>\n",
       "\t<tr><th scope=row>total_rooms</th><td>total_rooms       </td><td> 2.2532</td></tr>\n",
       "\t<tr><th scope=row>bdrms_per_room</th><td>bdrms_per_room    </td><td> 2.1195</td></tr>\n",
       "\t<tr><th scope=row>population</th><td>population        </td><td> 1.8798</td></tr>\n",
       "</tbody>\n",
       "</table>\n"
      ],
      "text/latex": [
       "A data.frame: 8 × 2\n",
       "\\begin{tabular}{r|ll}\n",
       "  & var & rel.inf\\\\\n",
       "  & <chr> & <dbl>\\\\\n",
       "\\hline\n",
       "\tmedian\\_house\\_value & median\\_house\\_value & 55.9842\\\\\n",
       "\tHHdens\\_ln & HHdens\\_ln          & 25.8345\\\\\n",
       "\trooms\\_per\\_hh & rooms\\_per\\_hh       &  5.7162\\\\\n",
       "\thousing\\_median\\_age & housing\\_median\\_age &  3.3490\\\\\n",
       "\tpop\\_per\\_hh & pop\\_per\\_hh         &  2.8637\\\\\n",
       "\ttotal\\_rooms & total\\_rooms        &  2.2532\\\\\n",
       "\tbdrms\\_per\\_room & bdrms\\_per\\_room     &  2.1195\\\\\n",
       "\tpopulation & population         &  1.8798\\\\\n",
       "\\end{tabular}\n"
      ],
      "text/markdown": [
       "\n",
       "A data.frame: 8 × 2\n",
       "\n",
       "| <!--/--> | var &lt;chr&gt; | rel.inf &lt;dbl&gt; |\n",
       "|---|---|---|\n",
       "| median_house_value | median_house_value | 55.9842 |\n",
       "| HHdens_ln | HHdens_ln          | 25.8345 |\n",
       "| rooms_per_hh | rooms_per_hh       |  5.7162 |\n",
       "| housing_median_age | housing_median_age |  3.3490 |\n",
       "| pop_per_hh | pop_per_hh         |  2.8637 |\n",
       "| total_rooms | total_rooms        |  2.2532 |\n",
       "| bdrms_per_room | bdrms_per_room     |  2.1195 |\n",
       "| population | population         |  1.8798 |\n",
       "\n"
      ],
      "text/plain": [
       "                   var                rel.inf\n",
       "median_house_value median_house_value 55.9842\n",
       "HHdens_ln          HHdens_ln          25.8345\n",
       "rooms_per_hh       rooms_per_hh        5.7162\n",
       "housing_median_age housing_median_age  3.3490\n",
       "pop_per_hh         pop_per_hh          2.8637\n",
       "total_rooms        total_rooms         2.2532\n",
       "bdrms_per_room     bdrms_per_room      2.1195\n",
       "population         population          1.8798"
      ]
     },
     "metadata": {},
     "output_type": "display_data"
    },
    {
     "data": {
      "image/png": "[encoded data removed]",
      "text/plain": [
       "plot without title"
      ]
     },
     "metadata": {
      "image/png": {
       "height": 240,
       "width": 360
      }
     },
     "output_type": "display_data"
    }
   ],
   "source": [
    "# Get feature importances for gbclf_best.\n",
    "\n",
    "set.seed(5711)\n",
    "gbclf_best <- gbm(Inland ~ ., data= gbtrain, n.trees=750,\n",
    "                  distribution= \"bernoulli\", shrinkage=0.1)\n",
    "\n",
    "options(repr.plot.width= 6, repr.plot.height= 4)\n",
    "summary(gbclf_best)\n"
   ]
  },
  {
   "cell_type": "markdown",
   "metadata": {},
   "source": [
    "### Get scores for gbclf_best on testdat"
   ]
  },
  {
   "cell_type": "code",
   "execution_count": 45,
   "metadata": {},
   "outputs": [],
   "source": [
    "# Function for obtaining a set of scores on the testset data\n",
    "# using gbclf_best as the classifier.\n",
    "\n",
    "get_testdatScores_gb <- function(seedv, dat) {\n",
    "    \n",
    "    seedv_len <- length(seedv)\n",
    "    datout <- rep(NA, 5 * seedv_len)\n",
    "    dim(datout) <- c(seedv_len, 5)\n",
    "    datout <- as.data.frame(datout)\n",
    "    colnames(datout) <- c(\"fscore\",\"Acc\",\"Type2\", \"FN\",\"FP\")\n",
    "    rownames(datout) <- as.character(seedv)\n",
    "    \n",
    "    for(h in 1:seedv_len) {\n",
    "        # shuffle dat\n",
    "        cur_seed <- seedv[h]\n",
    "        set.seed(cur_seed)\n",
    "        # It is expected that dat is testdat, which has 10K rcds\n",
    "        smp <- sample(rownames(dat), 4000, replace= FALSE)\n",
    "        df <- dat[smp,]\n",
    "        \n",
    "        preds <- suppressMessages(predict(gbclf_best, newdata= df, type=\"response\"))\n",
    "        names(preds) <- rownames(df)\n",
    "        preds[which(preds >= 0.5)] <- 1\n",
    "        preds[which(preds < 0.5)] <- 0\n",
    "        preds <- as.factor(preds)\n",
    "        ans <- get_confusion(preds, df[, \"Inland\", drop=FALSE])\n",
    "        \n",
    "        mat <- as.matrix(ans[[1]])\n",
    "        fscore <- round(as.numeric(ans[[2]]), 4)\n",
    "        acc <- round(sum(diag(mat))/floor(sum(mat)), 4)\n",
    "        type2 <- round((0.4 * acc + 0.6 * ans[[2]]), 4)\n",
    "        FN <- as.numeric(mat[2,1])\n",
    "        FP <- as.numeric(mat[1,2])\n",
    "        datout[as.character(cur_seed), 1:5] <- c(fscore,acc,type2,FN,FP)\n",
    "    }\n",
    "    return(datout)\n",
    "}\n"
   ]
  },
  {
   "cell_type": "code",
   "execution_count": 46,
   "metadata": {},
   "outputs": [
    {
     "data": {
      "text/html": [
       "'Start time: 2021-04-23 18:42:11'"
      ],
      "text/latex": [
       "'Start time: 2021-04-23 18:42:11'"
      ],
      "text/markdown": [
       "'Start time: 2021-04-23 18:42:11'"
      ],
      "text/plain": [
       "[1] \"Start time: 2021-04-23 18:42:11\""
      ]
     },
     "metadata": {},
     "output_type": "display_data"
    },
    {
     "data": {
      "text/plain": [
       "Time difference of 9.28 secs"
      ]
     },
     "metadata": {},
     "output_type": "display_data"
    }
   ],
   "source": [
    "# Get gbclf_best's scores on the testset data.  For each of\n",
    "# the 250 seeds, I sample 4K (no replacement) from the 10K\n",
    "# set of testdat records.\n",
    "\n",
    "set.seed(1821)\n",
    "seed_vector <- sample(1:9999, 250, replace=FALSE)\n",
    "\n",
    "start <- Sys.time()\n",
    "paste(\"Start time: \", start, sep=\"\")\n",
    "dat_result <- get_testdatScores_gb(seed_vector, gbtest)\n",
    "stop <- Sys.time()\n",
    "round(stop - start, 2)\n",
    "# Time difference of 9.28 secs\n"
   ]
  },
  {
   "cell_type": "code",
   "execution_count": 47,
   "metadata": {},
   "outputs": [
    {
     "data": {
      "text/html": [
       "<style>\n",
       ".list-inline {list-style: none; margin:0; padding: 0}\n",
       ".list-inline>li {display: inline-block}\n",
       ".list-inline>li:not(:last-child)::after {content: \"\\00b7\"; padding: 0 .5ex}\n",
       "</style>\n",
       "<ol class=list-inline><li>250</li><li>5</li></ol>\n"
      ],
      "text/latex": [
       "\\begin{enumerate*}\n",
       "\\item 250\n",
       "\\item 5\n",
       "\\end{enumerate*}\n"
      ],
      "text/markdown": [
       "1. 250\n",
       "2. 5\n",
       "\n",
       "\n"
      ],
      "text/plain": [
       "[1] 250   5"
      ]
     },
     "metadata": {},
     "output_type": "display_data"
    },
    {
     "data": {
      "text/html": [
       "<table>\n",
       "<caption>A data.frame: 6 × 5</caption>\n",
       "<thead>\n",
       "\t<tr><th></th><th scope=col>fscore</th><th scope=col>Acc</th><th scope=col>Type2</th><th scope=col>FN</th><th scope=col>FP</th></tr>\n",
       "\t<tr><th></th><th scope=col>&lt;dbl&gt;</th><th scope=col>&lt;dbl&gt;</th><th scope=col>&lt;dbl&gt;</th><th scope=col>&lt;dbl&gt;</th><th scope=col>&lt;dbl&gt;</th></tr>\n",
       "</thead>\n",
       "<tbody>\n",
       "\t<tr><th scope=row>5934</th><td>0.8274</td><td>0.8925</td><td>0.8534</td><td>246</td><td>184</td></tr>\n",
       "\t<tr><th scope=row>1953</th><td>0.8268</td><td>0.8902</td><td>0.8522</td><td>252</td><td>187</td></tr>\n",
       "\t<tr><th scope=row>7591</th><td>0.8116</td><td>0.8810</td><td>0.8394</td><td>300</td><td>176</td></tr>\n",
       "\t<tr><th scope=row>1038</th><td>0.8216</td><td>0.8908</td><td>0.8493</td><td>263</td><td>174</td></tr>\n",
       "\t<tr><th scope=row>49</th><td>0.8251</td><td>0.8890</td><td>0.8507</td><td>254</td><td>190</td></tr>\n",
       "\t<tr><th scope=row>3203</th><td>0.8216</td><td>0.8895</td><td>0.8488</td><td>261</td><td>181</td></tr>\n",
       "</tbody>\n",
       "</table>\n"
      ],
      "text/latex": [
       "A data.frame: 6 × 5\n",
       "\\begin{tabular}{r|lllll}\n",
       "  & fscore & Acc & Type2 & FN & FP\\\\\n",
       "  & <dbl> & <dbl> & <dbl> & <dbl> & <dbl>\\\\\n",
       "\\hline\n",
       "\t5934 & 0.8274 & 0.8925 & 0.8534 & 246 & 184\\\\\n",
       "\t1953 & 0.8268 & 0.8902 & 0.8522 & 252 & 187\\\\\n",
       "\t7591 & 0.8116 & 0.8810 & 0.8394 & 300 & 176\\\\\n",
       "\t1038 & 0.8216 & 0.8908 & 0.8493 & 263 & 174\\\\\n",
       "\t49 & 0.8251 & 0.8890 & 0.8507 & 254 & 190\\\\\n",
       "\t3203 & 0.8216 & 0.8895 & 0.8488 & 261 & 181\\\\\n",
       "\\end{tabular}\n"
      ],
      "text/markdown": [
       "\n",
       "A data.frame: 6 × 5\n",
       "\n",
       "| <!--/--> | fscore &lt;dbl&gt; | Acc &lt;dbl&gt; | Type2 &lt;dbl&gt; | FN &lt;dbl&gt; | FP &lt;dbl&gt; |\n",
       "|---|---|---|---|---|---|\n",
       "| 5934 | 0.8274 | 0.8925 | 0.8534 | 246 | 184 |\n",
       "| 1953 | 0.8268 | 0.8902 | 0.8522 | 252 | 187 |\n",
       "| 7591 | 0.8116 | 0.8810 | 0.8394 | 300 | 176 |\n",
       "| 1038 | 0.8216 | 0.8908 | 0.8493 | 263 | 174 |\n",
       "| 49 | 0.8251 | 0.8890 | 0.8507 | 254 | 190 |\n",
       "| 3203 | 0.8216 | 0.8895 | 0.8488 | 261 | 181 |\n",
       "\n"
      ],
      "text/plain": [
       "     fscore Acc    Type2  FN  FP \n",
       "5934 0.8274 0.8925 0.8534 246 184\n",
       "1953 0.8268 0.8902 0.8522 252 187\n",
       "7591 0.8116 0.8810 0.8394 300 176\n",
       "1038 0.8216 0.8908 0.8493 263 174\n",
       "49   0.8251 0.8890 0.8507 254 190\n",
       "3203 0.8216 0.8895 0.8488 261 181"
      ]
     },
     "metadata": {},
     "output_type": "display_data"
    }
   ],
   "source": [
    "dim(dat_result)\n",
    "head(dat_result)\n"
   ]
  },
  {
   "cell_type": "code",
   "execution_count": 48,
   "metadata": {},
   "outputs": [
    {
     "data": {
      "text/html": [
       "'fscore mean: 0.8204'"
      ],
      "text/latex": [
       "'fscore mean: 0.8204'"
      ],
      "text/markdown": [
       "'fscore mean: 0.8204'"
      ],
      "text/plain": [
       "[1] \"fscore mean: 0.8204\""
      ]
     },
     "metadata": {},
     "output_type": "display_data"
    },
    {
     "data": {
      "text/html": [
       "'fscore StdDev: 0.0065'"
      ],
      "text/latex": [
       "'fscore StdDev: 0.0065'"
      ],
      "text/markdown": [
       "'fscore StdDev: 0.0065'"
      ],
      "text/plain": [
       "[1] \"fscore StdDev: 0.0065\""
      ]
     },
     "metadata": {},
     "output_type": "display_data"
    },
    {
     "data": {
      "text/html": [
       "''"
      ],
      "text/latex": [
       "''"
      ],
      "text/markdown": [
       "''"
      ],
      "text/plain": [
       "[1] \"\""
      ]
     },
     "metadata": {},
     "output_type": "display_data"
    },
    {
     "data": {
      "text/plain": [
       "   Min. 1st Qu.  Median    Mean 3rd Qu.    Max. \n",
       "  0.802   0.816   0.821   0.820   0.824   0.837 "
      ]
     },
     "metadata": {},
     "output_type": "display_data"
    }
   ],
   "source": [
    "fscore_mean <- round(mean(dat_result$fscore), 4)\n",
    "fscore_sd <- round(sd(dat_result$fscore), 4)\n",
    "paste0(\"fscore mean: \", as.character(fscore_mean))\n",
    "# 0.8204\n",
    "paste0(\"fscore StdDev: \", as.character(fscore_sd))\n",
    "# 0.0065\n",
    "\"\"\n",
    "summary(dat_result$fscore)\n"
   ]
  },
  {
   "cell_type": "code",
   "execution_count": 49,
   "metadata": {},
   "outputs": [
    {
     "data": {
      "text/html": [
       "'accuracy mean: 0.8882'"
      ],
      "text/latex": [
       "'accuracy mean: 0.8882'"
      ],
      "text/markdown": [
       "'accuracy mean: 0.8882'"
      ],
      "text/plain": [
       "[1] \"accuracy mean: 0.8882\""
      ]
     },
     "metadata": {},
     "output_type": "display_data"
    },
    {
     "data": {
      "text/html": [
       "'accuracy StdDev: 0.0039'"
      ],
      "text/latex": [
       "'accuracy StdDev: 0.0039'"
      ],
      "text/markdown": [
       "'accuracy StdDev: 0.0039'"
      ],
      "text/plain": [
       "[1] \"accuracy StdDev: 0.0039\""
      ]
     },
     "metadata": {},
     "output_type": "display_data"
    },
    {
     "data": {
      "text/html": [
       "''"
      ],
      "text/latex": [
       "''"
      ],
      "text/markdown": [
       "''"
      ],
      "text/plain": [
       "[1] \"\""
      ]
     },
     "metadata": {},
     "output_type": "display_data"
    },
    {
     "data": {
      "text/plain": [
       "   Min. 1st Qu.  Median    Mean 3rd Qu.    Max. \n",
       "  0.877   0.886   0.888   0.888   0.891   0.899 "
      ]
     },
     "metadata": {},
     "output_type": "display_data"
    }
   ],
   "source": [
    "Acc_mean <- round(mean(dat_result$Acc), 4)\n",
    "Acc_sd <- round(sd(dat_result$Acc), 4)\n",
    "paste0(\"accuracy mean: \", as.character(Acc_mean))\n",
    "# 0.8882\n",
    "paste0(\"accuracy StdDev: \", as.character(Acc_sd))\n",
    "# 0.0039\n",
    "\"\"\n",
    "summary(dat_result$Acc)\n"
   ]
  },
  {
   "cell_type": "code",
   "execution_count": 50,
   "metadata": {},
   "outputs": [
    {
     "data": {
      "text/html": [
       "'Type2 mean: 0.8475'"
      ],
      "text/latex": [
       "'Type2 mean: 0.8475'"
      ],
      "text/markdown": [
       "'Type2 mean: 0.8475'"
      ],
      "text/plain": [
       "[1] \"Type2 mean: 0.8475\""
      ]
     },
     "metadata": {},
     "output_type": "display_data"
    },
    {
     "data": {
      "text/html": [
       "'Type2 StdDev: 0.0054'"
      ],
      "text/latex": [
       "'Type2 StdDev: 0.0054'"
      ],
      "text/markdown": [
       "'Type2 StdDev: 0.0054'"
      ],
      "text/plain": [
       "[1] \"Type2 StdDev: 0.0054\""
      ]
     },
     "metadata": {},
     "output_type": "display_data"
    },
    {
     "data": {
      "text/html": [
       "''"
      ],
      "text/latex": [
       "''"
      ],
      "text/markdown": [
       "''"
      ],
      "text/plain": [
       "[1] \"\""
      ]
     },
     "metadata": {},
     "output_type": "display_data"
    },
    {
     "data": {
      "text/plain": [
       "   Min. 1st Qu.  Median    Mean 3rd Qu.    Max. \n",
       "  0.832   0.844   0.848   0.848   0.851   0.862 "
      ]
     },
     "metadata": {},
     "output_type": "display_data"
    }
   ],
   "source": [
    "Type2_mean <- round(mean(dat_result$Type2), 4)\n",
    "Type2_sd <- round(sd(dat_result$Type2), 4)\n",
    "paste0(\"Type2 mean: \", as.character(Type2_mean))\n",
    "# 0.8475\n",
    "paste0(\"Type2 StdDev: \", as.character(Type2_sd))\n",
    "# 0.0054\n",
    "\"\"\n",
    "summary(dat_result$Type2)\n"
   ]
  },
  {
   "cell_type": "code",
   "execution_count": 51,
   "metadata": {},
   "outputs": [
    {
     "data": {
      "text/html": [
       "'FN mean: 265.96'"
      ],
      "text/latex": [
       "'FN mean: 265.96'"
      ],
      "text/markdown": [
       "'FN mean: 265.96'"
      ],
      "text/plain": [
       "[1] \"FN mean: 265.96\""
      ]
     },
     "metadata": {},
     "output_type": "display_data"
    },
    {
     "data": {
      "text/html": [
       "'FN StdDev: 11.92'"
      ],
      "text/latex": [
       "'FN StdDev: 11.92'"
      ],
      "text/markdown": [
       "'FN StdDev: 11.92'"
      ],
      "text/plain": [
       "[1] \"FN StdDev: 11.92\""
      ]
     },
     "metadata": {},
     "output_type": "display_data"
    },
    {
     "data": {
      "text/html": [
       "''"
      ],
      "text/latex": [
       "''"
      ],
      "text/markdown": [
       "''"
      ],
      "text/plain": [
       "[1] \"\""
      ]
     },
     "metadata": {},
     "output_type": "display_data"
    },
    {
     "data": {
      "text/plain": [
       "   Min. 1st Qu.  Median    Mean 3rd Qu.    Max. \n",
       "    233     257     266     266     273     302 "
      ]
     },
     "metadata": {},
     "output_type": "display_data"
    }
   ],
   "source": [
    "FN_mean <- round(mean(dat_result$FN), 2)\n",
    "FN_sd <- round(sd(dat_result$FN), 2)\n",
    "paste0(\"FN mean: \", as.character(FN_mean))\n",
    "# 265.96\n",
    "paste0(\"FN StdDev: \", as.character(FN_sd))\n",
    "# 11.92\n",
    "\"\"\n",
    "summary(dat_result$FN)\n"
   ]
  },
  {
   "cell_type": "code",
   "execution_count": 52,
   "metadata": {},
   "outputs": [
    {
     "data": {
      "text/html": [
       "'FP mean: 181.21'"
      ],
      "text/latex": [
       "'FP mean: 181.21'"
      ],
      "text/markdown": [
       "'FP mean: 181.21'"
      ],
      "text/plain": [
       "[1] \"FP mean: 181.21\""
      ]
     },
     "metadata": {},
     "output_type": "display_data"
    },
    {
     "data": {
      "text/html": [
       "'FP StdDev: 10.49'"
      ],
      "text/latex": [
       "'FP StdDev: 10.49'"
      ],
      "text/markdown": [
       "'FP StdDev: 10.49'"
      ],
      "text/plain": [
       "[1] \"FP StdDev: 10.49\""
      ]
     },
     "metadata": {},
     "output_type": "display_data"
    },
    {
     "data": {
      "text/html": [
       "''"
      ],
      "text/latex": [
       "''"
      ],
      "text/markdown": [
       "''"
      ],
      "text/plain": [
       "[1] \"\""
      ]
     },
     "metadata": {},
     "output_type": "display_data"
    },
    {
     "data": {
      "text/plain": [
       "   Min. 1st Qu.  Median    Mean 3rd Qu.    Max. \n",
       "    149     174     182     181     188     209 "
      ]
     },
     "metadata": {},
     "output_type": "display_data"
    }
   ],
   "source": [
    "FP_mean <- round(mean(dat_result$FP), 2)\n",
    "FP_sd <- round(sd(dat_result$FP), 2)\n",
    "paste0(\"FP mean: \", as.character(FP_mean))\n",
    "# 181.21\n",
    "paste0(\"FP StdDev: \", as.character(FP_sd))\n",
    "# 10.49\n",
    "\"\"\n",
    "summary(dat_result$FP)\n"
   ]
  },
  {
   "cell_type": "code",
   "execution_count": null,
   "metadata": {},
   "outputs": [],
   "source": [
    "### COMMENT:\n",
    "\n",
    "# rfclf_best looks to be a slightly better model than \n",
    "# gbclf_best.\n"
   ]
  },
  {
   "cell_type": "markdown",
   "metadata": {},
   "source": [
    "## Find best logistic regression model"
   ]
  },
  {
   "cell_type": "markdown",
   "metadata": {},
   "source": [
    "### Variable selection"
   ]
  },
  {
   "cell_type": "code",
   "execution_count": 14,
   "metadata": {},
   "outputs": [
    {
     "data": {
      "text/plain": [
       "\n",
       "Call:\n",
       "glm(formula = Inland ~ ., family = binomial(), data = traindat)\n",
       "\n",
       "Deviance Residuals: \n",
       "   Min      1Q  Median      3Q     Max  \n",
       "-3.148  -0.499  -0.163   0.405   4.859  \n",
       "\n",
       "Coefficients:\n",
       "                    Estimate Std. Error z value Pr(>|z|)\n",
       "(Intercept)         6.07e+00   7.71e-01    7.87  3.6e-15\n",
       "housing_median_age -2.78e-02   2.92e-03   -9.54  < 2e-16\n",
       "total_rooms         1.53e-04   7.64e-05    2.01  0.04447\n",
       "total_bedrooms     -2.55e-03   6.73e-04   -3.78  0.00016\n",
       "population         -2.33e-04   1.29e-04   -1.80  0.07125\n",
       "households          2.72e-03   8.19e-04    3.33  0.00088\n",
       "median_income      -2.39e-01   4.31e-02   -5.54  2.9e-08\n",
       "median_house_value -2.32e-05   7.05e-07  -32.98  < 2e-16\n",
       "HHdens_ln          -4.05e-01   2.47e-02  -16.41  < 2e-16\n",
       "rooms_per_hh        7.67e-01   7.67e-02   10.00  < 2e-16\n",
       "bdrms_per_room     -8.23e+00   1.81e+00   -4.56  5.2e-06\n",
       "pop_per_hh         -2.86e-01   6.33e-02   -4.52  6.2e-06\n",
       "\n",
       "(Dispersion parameter for binomial family taken to be 1)\n",
       "\n",
       "    Null deviance: 12762.4  on 10195  degrees of freedom\n",
       "Residual deviance:  6725.3  on 10184  degrees of freedom\n",
       "AIC: 6749\n",
       "\n",
       "Number of Fisher Scoring iterations: 6\n"
      ]
     },
     "metadata": {},
     "output_type": "display_data"
    }
   ],
   "source": [
    "f01 <- glm(Inland ~ ., data=traindat, family=binomial())\n",
    "summary(f01)\n"
   ]
  },
  {
   "cell_type": "code",
   "execution_count": 15,
   "metadata": {},
   "outputs": [],
   "source": [
    "# Remove population as a predictor.\n",
    "\n",
    "newcols <- colnames(traindat)[which(!(colnames(traindat) %in% \n",
    "                                      c(\"population\")))]\n",
    "df <- traindat[, newcols]\n"
   ]
  },
  {
   "cell_type": "code",
   "execution_count": 16,
   "metadata": {},
   "outputs": [
    {
     "data": {
      "text/plain": [
       "\n",
       "Call:\n",
       "glm(formula = Inland ~ ., family = binomial(), data = df)\n",
       "\n",
       "Deviance Residuals: \n",
       "   Min      1Q  Median      3Q     Max  \n",
       "-3.161  -0.501  -0.163   0.405   4.856  \n",
       "\n",
       "Coefficients:\n",
       "                    Estimate Std. Error z value Pr(>|z|)\n",
       "(Intercept)         6.37e+00   7.54e-01    8.45  < 2e-16\n",
       "housing_median_age -2.78e-02   2.92e-03   -9.52  < 2e-16\n",
       "total_rooms         1.20e-04   7.39e-05    1.63  0.10321\n",
       "total_bedrooms     -2.26e-03   6.56e-04   -3.44  0.00059\n",
       "households          1.93e-03   6.94e-04    2.78  0.00537\n",
       "median_income      -2.38e-01   4.31e-02   -5.53  3.3e-08\n",
       "median_house_value -2.32e-05   7.04e-07  -32.94  < 2e-16\n",
       "HHdens_ln          -4.04e-01   2.47e-02  -16.36  < 2e-16\n",
       "rooms_per_hh        7.65e-01   7.68e-02    9.97  < 2e-16\n",
       "bdrms_per_room     -8.50e+00   1.80e+00   -4.71  2.4e-06\n",
       "pop_per_hh         -3.75e-01   4.15e-02   -9.02  < 2e-16\n",
       "\n",
       "(Dispersion parameter for binomial family taken to be 1)\n",
       "\n",
       "    Null deviance: 12762.4  on 10195  degrees of freedom\n",
       "Residual deviance:  6728.5  on 10185  degrees of freedom\n",
       "AIC: 6750\n",
       "\n",
       "Number of Fisher Scoring iterations: 6\n"
      ]
     },
     "metadata": {},
     "output_type": "display_data"
    }
   ],
   "source": [
    "f01 <- glm(Inland ~ ., data=df, family=binomial())\n",
    "summary(f01)\n"
   ]
  },
  {
   "cell_type": "code",
   "execution_count": 17,
   "metadata": {},
   "outputs": [],
   "source": [
    "# Remove total_rooms as a predictor.\n",
    "\n",
    "newcols <- colnames(traindat)[which(!(colnames(traindat) %in% \n",
    "                                      c(\"population\",\"total_rooms\")))]\n",
    "df <- traindat[, newcols]\n"
   ]
  },
  {
   "cell_type": "code",
   "execution_count": 18,
   "metadata": {},
   "outputs": [
    {
     "data": {
      "text/plain": [
       "\n",
       "Call:\n",
       "glm(formula = Inland ~ ., family = binomial(), data = df)\n",
       "\n",
       "Deviance Residuals: \n",
       "   Min      1Q  Median      3Q     Max  \n",
       "-3.172  -0.500  -0.162   0.408   4.835  \n",
       "\n",
       "Coefficients:\n",
       "                    Estimate Std. Error z value Pr(>|z|)\n",
       "(Intercept)         6.31e+00   7.53e-01    8.39  < 2e-16\n",
       "housing_median_age -2.75e-02   2.91e-03   -9.43  < 2e-16\n",
       "total_bedrooms     -1.88e-03   6.11e-04   -3.07  0.00212\n",
       "households          2.20e-03   6.67e-04    3.31  0.00094\n",
       "median_income      -2.33e-01   4.30e-02   -5.43  5.7e-08\n",
       "median_house_value -2.32e-05   7.04e-07  -33.00  < 2e-16\n",
       "HHdens_ln          -4.07e-01   2.47e-02  -16.46  < 2e-16\n",
       "rooms_per_hh        7.95e-01   7.42e-02   10.72  < 2e-16\n",
       "bdrms_per_room     -9.17e+00   1.77e+00   -5.19  2.1e-07\n",
       "pop_per_hh         -3.68e-01   4.13e-02   -8.91  < 2e-16\n",
       "\n",
       "(Dispersion parameter for binomial family taken to be 1)\n",
       "\n",
       "    Null deviance: 12762.4  on 10195  degrees of freedom\n",
       "Residual deviance:  6731.1  on 10186  degrees of freedom\n",
       "AIC: 6751\n",
       "\n",
       "Number of Fisher Scoring iterations: 6\n"
      ]
     },
     "metadata": {},
     "output_type": "display_data"
    }
   ],
   "source": [
    "f01 <- glm(Inland ~ ., data=df, family=binomial())\n",
    "summary(f01)\n"
   ]
  },
  {
   "cell_type": "code",
   "execution_count": 19,
   "metadata": {},
   "outputs": [],
   "source": [
    "# Remove total_bedrooms.\n",
    "\n",
    "newcols <- colnames(traindat)[which(!(colnames(traindat) %in% \n",
    "                                      c(\"population\",\"total_rooms\",\n",
    "                                        \"total_bedrooms\")))]\n",
    "df <- traindat[, newcols]\n"
   ]
  },
  {
   "cell_type": "code",
   "execution_count": 20,
   "metadata": {},
   "outputs": [
    {
     "data": {
      "text/plain": [
       "\n",
       "Call:\n",
       "glm(formula = Inland ~ ., family = binomial(), data = df)\n",
       "\n",
       "Deviance Residuals: \n",
       "   Min      1Q  Median      3Q     Max  \n",
       "-3.237  -0.503  -0.163   0.409   4.832  \n",
       "\n",
       "Coefficients:\n",
       "                    Estimate Std. Error z value Pr(>|z|)\n",
       "(Intercept)         7.56e+00   6.37e-01   11.86  < 2e-16\n",
       "housing_median_age -2.74e-02   2.91e-03   -9.41  < 2e-16\n",
       "households          1.77e-04   8.26e-05    2.14    0.032\n",
       "median_income      -2.16e-01   4.27e-02   -5.06  4.3e-07\n",
       "median_house_value -2.31e-05   7.04e-07  -32.87  < 2e-16\n",
       "HHdens_ln          -4.07e-01   2.47e-02  -16.48  < 2e-16\n",
       "rooms_per_hh        6.57e-01   5.80e-02   11.33  < 2e-16\n",
       "bdrms_per_room     -1.21e+01   1.50e+00   -8.04  9.1e-16\n",
       "pop_per_hh         -3.57e-01   4.09e-02   -8.74  < 2e-16\n",
       "\n",
       "(Dispersion parameter for binomial family taken to be 1)\n",
       "\n",
       "    Null deviance: 12762.4  on 10195  degrees of freedom\n",
       "Residual deviance:  6739.5  on 10187  degrees of freedom\n",
       "AIC: 6758\n",
       "\n",
       "Number of Fisher Scoring iterations: 6\n"
      ]
     },
     "metadata": {},
     "output_type": "display_data"
    }
   ],
   "source": [
    "f01 <- glm(Inland ~ ., data=df, family=binomial())\n",
    "summary(f01)\n"
   ]
  },
  {
   "cell_type": "code",
   "execution_count": 21,
   "metadata": {},
   "outputs": [],
   "source": [
    "# Remove households.\n",
    "\n",
    "newcols <- colnames(traindat)[which(!(colnames(traindat) %in% \n",
    "                                      c(\"population\",\"total_rooms\",\n",
    "                                        \"total_bedrooms\",\"households\")))]\n",
    "df <- traindat[, newcols]\n"
   ]
  },
  {
   "cell_type": "code",
   "execution_count": 23,
   "metadata": {},
   "outputs": [
    {
     "data": {
      "text/plain": [
       "\n",
       "Call:\n",
       "glm(formula = Inland ~ ., family = binomial(), data = df)\n",
       "\n",
       "Deviance Residuals: \n",
       "   Min      1Q  Median      3Q     Max  \n",
       "-3.235  -0.505  -0.163   0.407   4.826  \n",
       "\n",
       "Coefficients:\n",
       "                    Estimate Std. Error z value Pr(>|z|)\n",
       "(Intercept)         7.68e+00   6.33e-01   12.13  < 2e-16\n",
       "housing_median_age -2.98e-02   2.69e-03  -11.06  < 2e-16\n",
       "median_income      -2.19e-01   4.26e-02   -5.15  2.6e-07\n",
       "median_house_value -2.31e-05   7.02e-07  -32.86  < 2e-16\n",
       "HHdens_ln          -4.00e-01   2.44e-02  -16.36  < 2e-16\n",
       "rooms_per_hh        6.55e-01   5.79e-02   11.32  < 2e-16\n",
       "bdrms_per_room     -1.20e+01   1.50e+00   -8.03  9.4e-16\n",
       "pop_per_hh         -3.66e-01   4.07e-02   -8.98  < 2e-16\n",
       "\n",
       "(Dispersion parameter for binomial family taken to be 1)\n",
       "\n",
       "    Null deviance: 12762.4  on 10195  degrees of freedom\n",
       "Residual deviance:  6744.1  on 10188  degrees of freedom\n",
       "AIC: 6760\n",
       "\n",
       "Number of Fisher Scoring iterations: 6\n"
      ]
     },
     "metadata": {},
     "output_type": "display_data"
    },
    {
     "data": {
      "text/html": [
       "0.6244"
      ],
      "text/latex": [
       "0.6244"
      ],
      "text/markdown": [
       "0.6244"
      ],
      "text/plain": [
       "[1] 0.6244"
      ]
     },
     "metadata": {},
     "output_type": "display_data"
    }
   ],
   "source": [
    "f01 <- glm(Inland ~ ., data=df, family=binomial())\n",
    "summary(f01)\n",
    "get_RsqrdDev(f01)\n"
   ]
  },
  {
   "cell_type": "code",
   "execution_count": 25,
   "metadata": {},
   "outputs": [
    {
     "data": {
      "text/plain": [
       "\n",
       "Call:\n",
       "glm(formula = Inland ~ housing_median_age + median_income + I(log(median_house_value)) + \n",
       "    HHdens_ln + rooms_per_hh + bdrms_per_room + pop_per_hh, family = binomial(), \n",
       "    data = df)\n",
       "\n",
       "Deviance Residuals: \n",
       "   Min      1Q  Median      3Q     Max  \n",
       "-3.355  -0.474  -0.176   0.323   3.674  \n",
       "\n",
       "Coefficients:\n",
       "                            Estimate Std. Error z value Pr(>|z|)\n",
       "(Intercept)                 54.64413    1.39729   39.11  < 2e-16\n",
       "housing_median_age          -0.03526    0.00278  -12.69  < 2e-16\n",
       "median_income               -0.15859    0.04024   -3.94  8.1e-05\n",
       "I(log(median_house_value))  -4.12299    0.11195  -36.83  < 2e-16\n",
       "HHdens_ln                   -0.36888    0.02438  -15.13  < 2e-16\n",
       "rooms_per_hh                 0.50661    0.04965   10.20  < 2e-16\n",
       "bdrms_per_room             -16.69153    1.44595  -11.54  < 2e-16\n",
       "pop_per_hh                  -0.42148    0.04425   -9.52  < 2e-16\n",
       "\n",
       "(Dispersion parameter for binomial family taken to be 1)\n",
       "\n",
       "    Null deviance: 12762.4  on 10195  degrees of freedom\n",
       "Residual deviance:  6366.5  on 10188  degrees of freedom\n",
       "AIC: 6383\n",
       "\n",
       "Number of Fisher Scoring iterations: 6\n"
      ]
     },
     "metadata": {},
     "output_type": "display_data"
    },
    {
     "data": {
      "text/html": [
       "0.6526"
      ],
      "text/latex": [
       "0.6526"
      ],
      "text/markdown": [
       "0.6526"
      ],
      "text/plain": [
       "[1] 0.6526"
      ]
     },
     "metadata": {},
     "output_type": "display_data"
    }
   ],
   "source": [
    "# Add power transformation.\n",
    "\n",
    "f01 <- glm(Inland ~ housing_median_age + median_income +\n",
    "           I(log(median_house_value)) +\n",
    "           HHdens_ln +\n",
    "           rooms_per_hh +\n",
    "           bdrms_per_room +\n",
    "           pop_per_hh, \n",
    "           data=df, family=binomial())\n",
    "           \n",
    "summary(f01)\n",
    "get_RsqrdDev(f01)\n"
   ]
  },
  {
   "cell_type": "code",
   "execution_count": 37,
   "metadata": {},
   "outputs": [
    {
     "data": {
      "text/plain": [
       "\n",
       "Call:\n",
       "glm(formula = Inland ~ housing_median_age + median_income + I(median_house_value^-0.07) + \n",
       "    HHdens_ln + rooms_per_hh + bdrms_per_room + pop_per_hh, family = binomial(), \n",
       "    data = df)\n",
       "\n",
       "Deviance Residuals: \n",
       "   Min      1Q  Median      3Q     Max  \n",
       "-3.372  -0.473  -0.179   0.319   3.621  \n",
       "\n",
       "Coefficients:\n",
       "                             Estimate Std. Error z value Pr(>|z|)\n",
       "(Intercept)                 -53.06331    1.75378  -30.26  < 2e-16\n",
       "housing_median_age           -0.03582    0.00278  -12.89  < 2e-16\n",
       "median_income                -0.16913    0.03980   -4.25  2.1e-05\n",
       "I(median_house_value^-0.07) 135.29657    3.67098   36.86  < 2e-16\n",
       "HHdens_ln                    -0.36586    0.02432  -15.04  < 2e-16\n",
       "rooms_per_hh                  0.49415    0.04906   10.07  < 2e-16\n",
       "bdrms_per_room              -17.18793    1.44128  -11.93  < 2e-16\n",
       "pop_per_hh                   -0.42245    0.04443   -9.51  < 2e-16\n",
       "\n",
       "(Dispersion parameter for binomial family taken to be 1)\n",
       "\n",
       "    Null deviance: 12762.4  on 10195  degrees of freedom\n",
       "Residual deviance:  6361.2  on 10188  degrees of freedom\n",
       "AIC: 6377\n",
       "\n",
       "Number of Fisher Scoring iterations: 6\n"
      ]
     },
     "metadata": {},
     "output_type": "display_data"
    },
    {
     "data": {
      "text/html": [
       "0.653"
      ],
      "text/latex": [
       "0.653"
      ],
      "text/markdown": [
       "0.653"
      ],
      "text/plain": [
       "[1] 0.653"
      ]
     },
     "metadata": {},
     "output_type": "display_data"
    }
   ],
   "source": [
    "# Tweak power transformation.\n",
    "\n",
    "f02 <- glm(Inland ~ housing_median_age + median_income +\n",
    "           I(median_house_value^-0.07) +\n",
    "           HHdens_ln +\n",
    "           rooms_per_hh +\n",
    "           bdrms_per_room +\n",
    "           pop_per_hh, \n",
    "           data=df, family=binomial())\n",
    "           \n",
    "summary(f02)\n",
    "get_RsqrdDev(f02)\n"
   ]
  },
  {
   "cell_type": "code",
   "execution_count": 62,
   "metadata": {},
   "outputs": [
    {
     "data": {
      "text/plain": [
       "\n",
       "Call:\n",
       "glm(formula = Inland ~ housing_median_age + I(median_house_value^-0.07) + \n",
       "    HHdens_ln + rooms_per_hh + bdrms_per_room + pop_per_hh, family = binomial(), \n",
       "    data = df)\n",
       "\n",
       "Deviance Residuals: \n",
       "   Min      1Q  Median      3Q     Max  \n",
       "-3.561  -0.476  -0.183   0.313   3.668  \n",
       "\n",
       "Coefficients:\n",
       "                             Estimate Std. Error z value Pr(>|z|)\n",
       "(Intercept)                 -57.59162    1.42342  -40.46   <2e-16\n",
       "housing_median_age           -0.03339    0.00271  -12.31   <2e-16\n",
       "I(median_house_value^-0.07) 143.96126    3.13262   45.96   <2e-16\n",
       "HHdens_ln                    -0.38429    0.02400  -16.01   <2e-16\n",
       "rooms_per_hh                  0.45672    0.04675    9.77   <2e-16\n",
       "bdrms_per_room              -14.83195    1.30166  -11.39   <2e-16\n",
       "pop_per_hh                   -0.44305    0.04421  -10.02   <2e-16\n",
       "\n",
       "(Dispersion parameter for binomial family taken to be 1)\n",
       "\n",
       "    Null deviance: 12762.4  on 10195  degrees of freedom\n",
       "Residual deviance:  6379.5  on 10189  degrees of freedom\n",
       "AIC: 6394\n",
       "\n",
       "Number of Fisher Scoring iterations: 6\n"
      ]
     },
     "metadata": {},
     "output_type": "display_data"
    },
    {
     "data": {
      "text/html": [
       "0.6517"
      ],
      "text/latex": [
       "0.6517"
      ],
      "text/markdown": [
       "0.6517"
      ],
      "text/plain": [
       "[1] 0.6517"
      ]
     },
     "metadata": {},
     "output_type": "display_data"
    }
   ],
   "source": [
    "# Remove median_income since it is highly correlated \n",
    "# with median_house_value.\n",
    "\n",
    "f03 <- glm(Inland ~ housing_median_age + \n",
    "           I(median_house_value^-0.07) +\n",
    "           HHdens_ln +\n",
    "           rooms_per_hh +\n",
    "           bdrms_per_room +\n",
    "           pop_per_hh, \n",
    "           data=df, family=binomial())\n",
    "           \n",
    "summary(f03)\n",
    "get_RsqrdDev(f03)\n"
   ]
  },
  {
   "cell_type": "markdown",
   "metadata": {},
   "source": [
    "### f03 model diagnostics"
   ]
  },
  {
   "cell_type": "code",
   "execution_count": 59,
   "metadata": {},
   "outputs": [
    {
     "name": "stdout",
     "output_type": "stream",
     "text": [
      "[1] 0.626\n"
     ]
    }
   ],
   "source": [
    "# Check for dispersion <> 1.\n",
    "\n",
    "# We want the following value to NOT be considerably larger\n",
    "# than 1.  If it is, then we have to use family= quasibinomial\n",
    "# in our modeling. (See p.311 of Kabacoff's \"R in Action\".)\n",
    "\n",
    "phi <- deviance(f03)/df.residual(f03)\n",
    "print(round(phi, 3))\n"
   ]
  },
  {
   "cell_type": "code",
   "execution_count": null,
   "metadata": {},
   "outputs": [],
   "source": [
    "### COMMENT:\n",
    "\n",
    "# The f03 model has dispersion < 1.  This under-\n",
    "# dispersion does not affect the parameter estimates.  \n",
    "# But it means that the standard errors for our model\n",
    "# coefficients, as seen in the above summary, \n",
    "# are larger than what they should be.\n"
   ]
  },
  {
   "cell_type": "code",
   "execution_count": 63,
   "metadata": {},
   "outputs": [
    {
     "data": {
      "image/png": "[encoded data removed]",
      "text/plain": [
       "plot without title"
      ]
     },
     "metadata": {
      "image/png": {
       "height": 360,
       "width": 360
      }
     },
     "output_type": "display_data"
    }
   ],
   "source": [
    "# Plot the residuals.  Julian Faraway's half-normal plot can\n",
    "# be used to check for outliers.  See p.46 of Faraway's \n",
    "# \"Extending the Linear Model with R\".  The residuals plotted\n",
    "# here are the deviance residuals.\n",
    "\n",
    "options(repr.plot.width= 6, repr.plot.height= 6)\n",
    "\n",
    "# Function halfnorm is from package faraway.\n",
    "halfnorm(residuals(f03))\n"
   ]
  },
  {
   "cell_type": "code",
   "execution_count": null,
   "metadata": {},
   "outputs": [],
   "source": [
    "### COMMENT:\n",
    "\n",
    "# The diagnostics look ok for our purposes.\n"
   ]
  },
  {
   "cell_type": "markdown",
   "metadata": {},
   "source": [
    "### Get scores for f03 on testdat"
   ]
  },
  {
   "cell_type": "code",
   "execution_count": 15,
   "metadata": {},
   "outputs": [],
   "source": [
    "f03_columns <- colnames(traindat)[which(!(colnames(traindat) %in% \n",
    "                                      c(\"population\",\"total_rooms\",\n",
    "                                        \"total_bedrooms\",\"households\",\n",
    "                                        \"median_income\")))]\n"
   ]
  },
  {
   "cell_type": "code",
   "execution_count": 64,
   "metadata": {},
   "outputs": [],
   "source": [
    "f03train <- traindat[, f03_columns]\n",
    "f03test <- testdat[, f03_columns]\n"
   ]
  },
  {
   "cell_type": "code",
   "execution_count": 65,
   "metadata": {},
   "outputs": [],
   "source": [
    "# Function for obtaining a set of scores on the testset data\n",
    "# using f03 as the classifier.\n",
    "\n",
    "get_testdatScores_f03 <- function(seedv, dat) {\n",
    "    \n",
    "    seedv_len <- length(seedv)\n",
    "    datout <- rep(NA, 5 * seedv_len)\n",
    "    dim(datout) <- c(seedv_len, 5)\n",
    "    datout <- as.data.frame(datout)\n",
    "    colnames(datout) <- c(\"fscore\",\"Acc\",\"Type2\", \"FN\",\"FP\")\n",
    "    rownames(datout) <- as.character(seedv)\n",
    "    \n",
    "    for(h in 1:seedv_len) {\n",
    "        # shuffle dat\n",
    "        cur_seed <- seedv[h]\n",
    "        set.seed(cur_seed)\n",
    "        # It is expected that dat is testdat, which has 10K rcds\n",
    "        smp <- sample(rownames(dat), 4000, replace= FALSE)\n",
    "        df <- dat[smp,]\n",
    "        \n",
    "        preds <- predict(f03, newdata= df)\n",
    "        names(preds) <- rownames(df)\n",
    "        preds[which(preds >= 0.5)] <- 1\n",
    "        preds[which(preds < 0.5)] <- 0\n",
    "        preds <- as.factor(preds)\n",
    "        ans <- get_confusion(preds, df[, \"Inland\", drop=FALSE])\n",
    "        \n",
    "        mat <- as.matrix(ans[[1]])\n",
    "        fscore <- round(as.numeric(ans[[2]]), 4)\n",
    "        acc <- round(sum(diag(mat))/floor(sum(mat)), 4)\n",
    "        type2 <- round((0.4 * acc + 0.6 * ans[[2]]), 4)\n",
    "        FN <- as.numeric(mat[2,1])\n",
    "        FP <- as.numeric(mat[1,2])\n",
    "        datout[as.character(cur_seed), 1:5] <- c(fscore,acc,type2,FN,FP)\n",
    "    }\n",
    "    return(datout)\n",
    "}\n"
   ]
  },
  {
   "cell_type": "code",
   "execution_count": 66,
   "metadata": {},
   "outputs": [
    {
     "data": {
      "text/plain": [
       "Time difference of 4.99 secs"
      ]
     },
     "metadata": {},
     "output_type": "display_data"
    }
   ],
   "source": [
    "# Get f03's scores on the testset data.  For each of\n",
    "# the 250 seeds, I sample 4K (no replacement) from the 10K\n",
    "# set of testdat records.\n",
    "\n",
    "set.seed(1821)\n",
    "seed_vector <- sample(1:9999, 250, replace=FALSE)\n",
    "\n",
    "start <- Sys.time()\n",
    "# paste(\"Start time: \", start, sep=\"\")\n",
    "dat_result <- get_testdatScores_f03(seed_vector, f03test)\n",
    "stop <- Sys.time()\n",
    "round(stop - start, 2)\n",
    "# Time difference of 5 secs\n"
   ]
  },
  {
   "cell_type": "code",
   "execution_count": 67,
   "metadata": {},
   "outputs": [
    {
     "data": {
      "text/html": [
       "<style>\n",
       ".list-inline {list-style: none; margin:0; padding: 0}\n",
       ".list-inline>li {display: inline-block}\n",
       ".list-inline>li:not(:last-child)::after {content: \"\\00b7\"; padding: 0 .5ex}\n",
       "</style>\n",
       "<ol class=list-inline><li>250</li><li>5</li></ol>\n"
      ],
      "text/latex": [
       "\\begin{enumerate*}\n",
       "\\item 250\n",
       "\\item 5\n",
       "\\end{enumerate*}\n"
      ],
      "text/markdown": [
       "1. 250\n",
       "2. 5\n",
       "\n",
       "\n"
      ],
      "text/plain": [
       "[1] 250   5"
      ]
     },
     "metadata": {},
     "output_type": "display_data"
    },
    {
     "data": {
      "text/html": [
       "<table>\n",
       "<caption>A data.frame: 6 × 5</caption>\n",
       "<thead>\n",
       "\t<tr><th></th><th scope=col>fscore</th><th scope=col>Acc</th><th scope=col>Type2</th><th scope=col>FN</th><th scope=col>FP</th></tr>\n",
       "\t<tr><th></th><th scope=col>&lt;dbl&gt;</th><th scope=col>&lt;dbl&gt;</th><th scope=col>&lt;dbl&gt;</th><th scope=col>&lt;dbl&gt;</th><th scope=col>&lt;dbl&gt;</th></tr>\n",
       "</thead>\n",
       "<tbody>\n",
       "\t<tr><th scope=row>5934</th><td>0.7916</td><td>0.8805</td><td>0.8272</td><td>369</td><td>109</td></tr>\n",
       "\t<tr><th scope=row>1953</th><td>0.7779</td><td>0.8722</td><td>0.8156</td><td>405</td><td>106</td></tr>\n",
       "\t<tr><th scope=row>7591</th><td>0.7639</td><td>0.8628</td><td>0.8035</td><td>437</td><td>112</td></tr>\n",
       "\t<tr><th scope=row>1038</th><td>0.7771</td><td>0.8745</td><td>0.8161</td><td>394</td><td>108</td></tr>\n",
       "\t<tr><th scope=row>49</th><td>0.7831</td><td>0.8732</td><td>0.8191</td><td>386</td><td>121</td></tr>\n",
       "\t<tr><th scope=row>3203</th><td>0.7759</td><td>0.8728</td><td>0.8147</td><td>398</td><td>111</td></tr>\n",
       "</tbody>\n",
       "</table>\n"
      ],
      "text/latex": [
       "A data.frame: 6 × 5\n",
       "\\begin{tabular}{r|lllll}\n",
       "  & fscore & Acc & Type2 & FN & FP\\\\\n",
       "  & <dbl> & <dbl> & <dbl> & <dbl> & <dbl>\\\\\n",
       "\\hline\n",
       "\t5934 & 0.7916 & 0.8805 & 0.8272 & 369 & 109\\\\\n",
       "\t1953 & 0.7779 & 0.8722 & 0.8156 & 405 & 106\\\\\n",
       "\t7591 & 0.7639 & 0.8628 & 0.8035 & 437 & 112\\\\\n",
       "\t1038 & 0.7771 & 0.8745 & 0.8161 & 394 & 108\\\\\n",
       "\t49 & 0.7831 & 0.8732 & 0.8191 & 386 & 121\\\\\n",
       "\t3203 & 0.7759 & 0.8728 & 0.8147 & 398 & 111\\\\\n",
       "\\end{tabular}\n"
      ],
      "text/markdown": [
       "\n",
       "A data.frame: 6 × 5\n",
       "\n",
       "| <!--/--> | fscore &lt;dbl&gt; | Acc &lt;dbl&gt; | Type2 &lt;dbl&gt; | FN &lt;dbl&gt; | FP &lt;dbl&gt; |\n",
       "|---|---|---|---|---|---|\n",
       "| 5934 | 0.7916 | 0.8805 | 0.8272 | 369 | 109 |\n",
       "| 1953 | 0.7779 | 0.8722 | 0.8156 | 405 | 106 |\n",
       "| 7591 | 0.7639 | 0.8628 | 0.8035 | 437 | 112 |\n",
       "| 1038 | 0.7771 | 0.8745 | 0.8161 | 394 | 108 |\n",
       "| 49 | 0.7831 | 0.8732 | 0.8191 | 386 | 121 |\n",
       "| 3203 | 0.7759 | 0.8728 | 0.8147 | 398 | 111 |\n",
       "\n"
      ],
      "text/plain": [
       "     fscore Acc    Type2  FN  FP \n",
       "5934 0.7916 0.8805 0.8272 369 109\n",
       "1953 0.7779 0.8722 0.8156 405 106\n",
       "7591 0.7639 0.8628 0.8035 437 112\n",
       "1038 0.7771 0.8745 0.8161 394 108\n",
       "49   0.7831 0.8732 0.8191 386 121\n",
       "3203 0.7759 0.8728 0.8147 398 111"
      ]
     },
     "metadata": {},
     "output_type": "display_data"
    }
   ],
   "source": [
    "dim(dat_result)\n",
    "head(dat_result)\n"
   ]
  },
  {
   "cell_type": "code",
   "execution_count": 68,
   "metadata": {},
   "outputs": [
    {
     "data": {
      "text/html": [
       "'fscore mean: 0.7765'"
      ],
      "text/latex": [
       "'fscore mean: 0.7765'"
      ],
      "text/markdown": [
       "'fscore mean: 0.7765'"
      ],
      "text/plain": [
       "[1] \"fscore mean: 0.7765\""
      ]
     },
     "metadata": {},
     "output_type": "display_data"
    },
    {
     "data": {
      "text/html": [
       "'fscore StdDev: 0.0076'"
      ],
      "text/latex": [
       "'fscore StdDev: 0.0076'"
      ],
      "text/markdown": [
       "'fscore StdDev: 0.0076'"
      ],
      "text/plain": [
       "[1] \"fscore StdDev: 0.0076\""
      ]
     },
     "metadata": {},
     "output_type": "display_data"
    },
    {
     "data": {
      "text/html": [
       "''"
      ],
      "text/latex": [
       "''"
      ],
      "text/markdown": [
       "''"
      ],
      "text/plain": [
       "[1] \"\""
      ]
     },
     "metadata": {},
     "output_type": "display_data"
    },
    {
     "data": {
      "text/plain": [
       "   Min. 1st Qu.  Median    Mean 3rd Qu.    Max. \n",
       "  0.760   0.771   0.776   0.776   0.781   0.799 "
      ]
     },
     "metadata": {},
     "output_type": "display_data"
    }
   ],
   "source": [
    "fscore_mean <- round(mean(dat_result$fscore), 4)\n",
    "fscore_sd <- round(sd(dat_result$fscore), 4)\n",
    "paste0(\"fscore mean: \", as.character(fscore_mean))\n",
    "# 0.7765\n",
    "paste0(\"fscore StdDev: \", as.character(fscore_sd))\n",
    "# 0.0076\n",
    "\"\"\n",
    "summary(dat_result$fscore)\n"
   ]
  },
  {
   "cell_type": "code",
   "execution_count": 69,
   "metadata": {},
   "outputs": [
    {
     "data": {
      "text/html": [
       "'accuracy mean: 0.8725'"
      ],
      "text/latex": [
       "'accuracy mean: 0.8725'"
      ],
      "text/markdown": [
       "'accuracy mean: 0.8725'"
      ],
      "text/plain": [
       "[1] \"accuracy mean: 0.8725\""
      ]
     },
     "metadata": {},
     "output_type": "display_data"
    },
    {
     "data": {
      "text/html": [
       "'accuracy StdDev: 0.0042'"
      ],
      "text/latex": [
       "'accuracy StdDev: 0.0042'"
      ],
      "text/markdown": [
       "'accuracy StdDev: 0.0042'"
      ],
      "text/plain": [
       "[1] \"accuracy StdDev: 0.0042\""
      ]
     },
     "metadata": {},
     "output_type": "display_data"
    },
    {
     "data": {
      "text/html": [
       "''"
      ],
      "text/latex": [
       "''"
      ],
      "text/markdown": [
       "''"
      ],
      "text/plain": [
       "[1] \"\""
      ]
     },
     "metadata": {},
     "output_type": "display_data"
    },
    {
     "data": {
      "text/plain": [
       "   Min. 1st Qu.  Median    Mean 3rd Qu.    Max. \n",
       "  0.863   0.870   0.873   0.872   0.875   0.883 "
      ]
     },
     "metadata": {},
     "output_type": "display_data"
    }
   ],
   "source": [
    "Acc_mean <- round(mean(dat_result$Acc), 4)\n",
    "Acc_sd <- round(sd(dat_result$Acc), 4)\n",
    "paste0(\"accuracy mean: \", as.character(Acc_mean))\n",
    "# 0.8725\n",
    "paste0(\"accuracy StdDev: \", as.character(Acc_sd))\n",
    "# 0.0042\n",
    "\"\"\n",
    "summary(dat_result$Acc)\n"
   ]
  },
  {
   "cell_type": "code",
   "execution_count": 70,
   "metadata": {},
   "outputs": [
    {
     "data": {
      "text/html": [
       "'Type2 mean: 0.8149'"
      ],
      "text/latex": [
       "'Type2 mean: 0.8149'"
      ],
      "text/markdown": [
       "'Type2 mean: 0.8149'"
      ],
      "text/plain": [
       "[1] \"Type2 mean: 0.8149\""
      ]
     },
     "metadata": {},
     "output_type": "display_data"
    },
    {
     "data": {
      "text/html": [
       "'Type2 StdDev: 0.006'"
      ],
      "text/latex": [
       "'Type2 StdDev: 0.006'"
      ],
      "text/markdown": [
       "'Type2 StdDev: 0.006'"
      ],
      "text/plain": [
       "[1] \"Type2 StdDev: 0.006\""
      ]
     },
     "metadata": {},
     "output_type": "display_data"
    },
    {
     "data": {
      "text/html": [
       "''"
      ],
      "text/latex": [
       "''"
      ],
      "text/markdown": [
       "''"
      ],
      "text/plain": [
       "[1] \"\""
      ]
     },
     "metadata": {},
     "output_type": "display_data"
    },
    {
     "data": {
      "text/plain": [
       "   Min. 1st Qu.  Median    Mean 3rd Qu.    Max. \n",
       "  0.801   0.811   0.815   0.815   0.819   0.832 "
      ]
     },
     "metadata": {},
     "output_type": "display_data"
    }
   ],
   "source": [
    "Type2_mean <- round(mean(dat_result$Type2), 4)\n",
    "Type2_sd <- round(sd(dat_result$Type2), 4)\n",
    "paste0(\"Type2 mean: \", as.character(Type2_mean))\n",
    "# 0.8149\n",
    "paste0(\"Type2 StdDev: \", as.character(Type2_sd))\n",
    "# 0.006\n",
    "\"\"\n",
    "summary(dat_result$Type2)\n"
   ]
  },
  {
   "cell_type": "code",
   "execution_count": 71,
   "metadata": {},
   "outputs": [
    {
     "data": {
      "text/html": [
       "'FN mean: 401.55'"
      ],
      "text/latex": [
       "'FN mean: 401.55'"
      ],
      "text/markdown": [
       "'FN mean: 401.55'"
      ],
      "text/plain": [
       "[1] \"FN mean: 401.55\""
      ]
     },
     "metadata": {},
     "output_type": "display_data"
    },
    {
     "data": {
      "text/html": [
       "'FN StdDev: 14.29'"
      ],
      "text/latex": [
       "'FN StdDev: 14.29'"
      ],
      "text/markdown": [
       "'FN StdDev: 14.29'"
      ],
      "text/plain": [
       "[1] \"FN StdDev: 14.29\""
      ]
     },
     "metadata": {},
     "output_type": "display_data"
    },
    {
     "data": {
      "text/html": [
       "''"
      ],
      "text/latex": [
       "''"
      ],
      "text/markdown": [
       "''"
      ],
      "text/plain": [
       "[1] \"\""
      ]
     },
     "metadata": {},
     "output_type": "display_data"
    },
    {
     "data": {
      "text/plain": [
       "   Min. 1st Qu.  Median    Mean 3rd Qu.    Max. \n",
       "    369     393     401     402     411     437 "
      ]
     },
     "metadata": {},
     "output_type": "display_data"
    }
   ],
   "source": [
    "FN_mean <- round(mean(dat_result$FN), 2)\n",
    "FN_sd <- round(sd(dat_result$FN), 2)\n",
    "paste0(\"FN mean: \", as.character(FN_mean))\n",
    "# 401.55\n",
    "paste0(\"FN StdDev: \", as.character(FN_sd))\n",
    "# 14.29\n",
    "\"\"\n",
    "summary(dat_result$FN)\n"
   ]
  },
  {
   "cell_type": "code",
   "execution_count": 72,
   "metadata": {},
   "outputs": [
    {
     "data": {
      "text/html": [
       "'FP mean: 108.58'"
      ],
      "text/latex": [
       "'FP mean: 108.58'"
      ],
      "text/markdown": [
       "'FP mean: 108.58'"
      ],
      "text/plain": [
       "[1] \"FP mean: 108.58\""
      ]
     },
     "metadata": {},
     "output_type": "display_data"
    },
    {
     "data": {
      "text/html": [
       "'FP StdDev: 8.36'"
      ],
      "text/latex": [
       "'FP StdDev: 8.36'"
      ],
      "text/markdown": [
       "'FP StdDev: 8.36'"
      ],
      "text/plain": [
       "[1] \"FP StdDev: 8.36\""
      ]
     },
     "metadata": {},
     "output_type": "display_data"
    },
    {
     "data": {
      "text/html": [
       "''"
      ],
      "text/latex": [
       "''"
      ],
      "text/markdown": [
       "''"
      ],
      "text/plain": [
       "[1] \"\""
      ]
     },
     "metadata": {},
     "output_type": "display_data"
    },
    {
     "data": {
      "text/plain": [
       "   Min. 1st Qu.  Median    Mean 3rd Qu.    Max. \n",
       "     89     102     109     109     114     134 "
      ]
     },
     "metadata": {},
     "output_type": "display_data"
    }
   ],
   "source": [
    "FP_mean <- round(mean(dat_result$FP), 2)\n",
    "FP_sd <- round(sd(dat_result$FP), 2)\n",
    "paste0(\"FP mean: \", as.character(FP_mean))\n",
    "# 108.58\n",
    "paste0(\"FP StdDev: \", as.character(FP_sd))\n",
    "# 8.36\n",
    "\"\"\n",
    "summary(dat_result$FP)\n"
   ]
  },
  {
   "cell_type": "code",
   "execution_count": null,
   "metadata": {},
   "outputs": [],
   "source": [
    "### COMMENT:\n",
    "\n",
    "# f03 does a great job avoiding false positives.\n",
    "# But it is very high on the false negatives.  It's\n",
    "# mean accuracy is more than 2.5 percentage points lower\n",
    "# than the mean accuracy for rfclf_best.  On average,\n",
    "# f03 mis-classifies 200 more districts (of the 10K) than  \n",
    "# does rfclf_best.\n"
   ]
  },
  {
   "cell_type": "markdown",
   "metadata": {},
   "source": [
    "### Add median_income back to the model; get scores on testset"
   ]
  },
  {
   "cell_type": "code",
   "execution_count": 73,
   "metadata": {},
   "outputs": [
    {
     "data": {
      "text/html": [
       "0.653"
      ],
      "text/latex": [
       "0.653"
      ],
      "text/markdown": [
       "0.653"
      ],
      "text/plain": [
       "[1] 0.653"
      ]
     },
     "metadata": {},
     "output_type": "display_data"
    }
   ],
   "source": [
    "f04 <- glm(Inland ~ housing_median_age + median_income +\n",
    "           I(median_house_value^-0.07) +\n",
    "           HHdens_ln +\n",
    "           rooms_per_hh +\n",
    "           bdrms_per_room +\n",
    "           pop_per_hh, \n",
    "           data=traindat, family=binomial())\n",
    "get_RsqrdDev(f04)\n"
   ]
  },
  {
   "cell_type": "code",
   "execution_count": 74,
   "metadata": {},
   "outputs": [],
   "source": [
    "# Function for obtaining a set of scores on the testset data\n",
    "# using f03 as the classifier.\n",
    "\n",
    "get_testdatScores_f04 <- function(seedv, dat) {\n",
    "    \n",
    "    seedv_len <- length(seedv)\n",
    "    datout <- rep(NA, 5 * seedv_len)\n",
    "    dim(datout) <- c(seedv_len, 5)\n",
    "    datout <- as.data.frame(datout)\n",
    "    colnames(datout) <- c(\"fscore\",\"Acc\",\"Type2\", \"FN\",\"FP\")\n",
    "    rownames(datout) <- as.character(seedv)\n",
    "    \n",
    "    for(h in 1:seedv_len) {\n",
    "        # shuffle dat\n",
    "        cur_seed <- seedv[h]\n",
    "        set.seed(cur_seed)\n",
    "        # It is expected that dat is testdat, which has 10K rcds\n",
    "        smp <- sample(rownames(dat), 4000, replace= FALSE)\n",
    "        df <- dat[smp,]\n",
    "        \n",
    "        preds <- predict(f04, newdata= df)\n",
    "        names(preds) <- rownames(df)\n",
    "        preds[which(preds >= 0.5)] <- 1\n",
    "        preds[which(preds < 0.5)] <- 0\n",
    "        preds <- as.factor(preds)\n",
    "        ans <- get_confusion(preds, df[, \"Inland\", drop=FALSE])\n",
    "        \n",
    "        mat <- as.matrix(ans[[1]])\n",
    "        fscore <- round(as.numeric(ans[[2]]), 4)\n",
    "        acc <- round(sum(diag(mat))/floor(sum(mat)), 4)\n",
    "        type2 <- round((0.4 * acc + 0.6 * ans[[2]]), 4)\n",
    "        FN <- as.numeric(mat[2,1])\n",
    "        FP <- as.numeric(mat[1,2])\n",
    "        datout[as.character(cur_seed), 1:5] <- c(fscore,acc,type2,FN,FP)\n",
    "    }\n",
    "    return(datout)\n",
    "}\n"
   ]
  },
  {
   "cell_type": "code",
   "execution_count": 75,
   "metadata": {},
   "outputs": [
    {
     "data": {
      "text/plain": [
       "Time difference of 4.98 secs"
      ]
     },
     "metadata": {},
     "output_type": "display_data"
    }
   ],
   "source": [
    "# Get f04's scores on the testset data.  For each of\n",
    "# the 250 seeds, I sample 4K (no replacement) from the 10K\n",
    "# set of testdat records.\n",
    "\n",
    "set.seed(1821)\n",
    "seed_vector <- sample(1:9999, 250, replace=FALSE)\n",
    "\n",
    "start <- Sys.time()\n",
    "# paste(\"Start time: \", start, sep=\"\")\n",
    "dat_result <- get_testdatScores_f04(seed_vector, testdat)\n",
    "stop <- Sys.time()\n",
    "round(stop - start, 2)\n",
    "# Time difference of 5 secs\n"
   ]
  },
  {
   "cell_type": "code",
   "execution_count": 76,
   "metadata": {},
   "outputs": [
    {
     "data": {
      "text/html": [
       "<style>\n",
       ".list-inline {list-style: none; margin:0; padding: 0}\n",
       ".list-inline>li {display: inline-block}\n",
       ".list-inline>li:not(:last-child)::after {content: \"\\00b7\"; padding: 0 .5ex}\n",
       "</style>\n",
       "<ol class=list-inline><li>250</li><li>5</li></ol>\n"
      ],
      "text/latex": [
       "\\begin{enumerate*}\n",
       "\\item 250\n",
       "\\item 5\n",
       "\\end{enumerate*}\n"
      ],
      "text/markdown": [
       "1. 250\n",
       "2. 5\n",
       "\n",
       "\n"
      ],
      "text/plain": [
       "[1] 250   5"
      ]
     },
     "metadata": {},
     "output_type": "display_data"
    },
    {
     "data": {
      "text/html": [
       "<table>\n",
       "<caption>A data.frame: 6 × 5</caption>\n",
       "<thead>\n",
       "\t<tr><th></th><th scope=col>fscore</th><th scope=col>Acc</th><th scope=col>Type2</th><th scope=col>FN</th><th scope=col>FP</th></tr>\n",
       "\t<tr><th></th><th scope=col>&lt;dbl&gt;</th><th scope=col>&lt;dbl&gt;</th><th scope=col>&lt;dbl&gt;</th><th scope=col>&lt;dbl&gt;</th><th scope=col>&lt;dbl&gt;</th></tr>\n",
       "</thead>\n",
       "<tbody>\n",
       "\t<tr><th scope=row>5934</th><td>0.7888</td><td>0.8792</td><td>0.8250</td><td>375</td><td>108</td></tr>\n",
       "\t<tr><th scope=row>1953</th><td>0.7732</td><td>0.8698</td><td>0.8118</td><td>412</td><td>109</td></tr>\n",
       "\t<tr><th scope=row>7591</th><td>0.7657</td><td>0.8635</td><td>0.8048</td><td>433</td><td>113</td></tr>\n",
       "\t<tr><th scope=row>1038</th><td>0.7767</td><td>0.8742</td><td>0.8157</td><td>394</td><td>109</td></tr>\n",
       "\t<tr><th scope=row>49</th><td>0.7794</td><td>0.8715</td><td>0.8162</td><td>393</td><td>121</td></tr>\n",
       "\t<tr><th scope=row>3203</th><td>0.7717</td><td>0.8708</td><td>0.8113</td><td>405</td><td>112</td></tr>\n",
       "</tbody>\n",
       "</table>\n"
      ],
      "text/latex": [
       "A data.frame: 6 × 5\n",
       "\\begin{tabular}{r|lllll}\n",
       "  & fscore & Acc & Type2 & FN & FP\\\\\n",
       "  & <dbl> & <dbl> & <dbl> & <dbl> & <dbl>\\\\\n",
       "\\hline\n",
       "\t5934 & 0.7888 & 0.8792 & 0.8250 & 375 & 108\\\\\n",
       "\t1953 & 0.7732 & 0.8698 & 0.8118 & 412 & 109\\\\\n",
       "\t7591 & 0.7657 & 0.8635 & 0.8048 & 433 & 113\\\\\n",
       "\t1038 & 0.7767 & 0.8742 & 0.8157 & 394 & 109\\\\\n",
       "\t49 & 0.7794 & 0.8715 & 0.8162 & 393 & 121\\\\\n",
       "\t3203 & 0.7717 & 0.8708 & 0.8113 & 405 & 112\\\\\n",
       "\\end{tabular}\n"
      ],
      "text/markdown": [
       "\n",
       "A data.frame: 6 × 5\n",
       "\n",
       "| <!--/--> | fscore &lt;dbl&gt; | Acc &lt;dbl&gt; | Type2 &lt;dbl&gt; | FN &lt;dbl&gt; | FP &lt;dbl&gt; |\n",
       "|---|---|---|---|---|---|\n",
       "| 5934 | 0.7888 | 0.8792 | 0.8250 | 375 | 108 |\n",
       "| 1953 | 0.7732 | 0.8698 | 0.8118 | 412 | 109 |\n",
       "| 7591 | 0.7657 | 0.8635 | 0.8048 | 433 | 113 |\n",
       "| 1038 | 0.7767 | 0.8742 | 0.8157 | 394 | 109 |\n",
       "| 49 | 0.7794 | 0.8715 | 0.8162 | 393 | 121 |\n",
       "| 3203 | 0.7717 | 0.8708 | 0.8113 | 405 | 112 |\n",
       "\n"
      ],
      "text/plain": [
       "     fscore Acc    Type2  FN  FP \n",
       "5934 0.7888 0.8792 0.8250 375 108\n",
       "1953 0.7732 0.8698 0.8118 412 109\n",
       "7591 0.7657 0.8635 0.8048 433 113\n",
       "1038 0.7767 0.8742 0.8157 394 109\n",
       "49   0.7794 0.8715 0.8162 393 121\n",
       "3203 0.7717 0.8708 0.8113 405 112"
      ]
     },
     "metadata": {},
     "output_type": "display_data"
    }
   ],
   "source": [
    "dim(dat_result)\n",
    "head(dat_result)\n"
   ]
  },
  {
   "cell_type": "code",
   "execution_count": 77,
   "metadata": {},
   "outputs": [
    {
     "data": {
      "text/html": [
       "'fscore mean: 0.7748'"
      ],
      "text/latex": [
       "'fscore mean: 0.7748'"
      ],
      "text/markdown": [
       "'fscore mean: 0.7748'"
      ],
      "text/plain": [
       "[1] \"fscore mean: 0.7748\""
      ]
     },
     "metadata": {},
     "output_type": "display_data"
    },
    {
     "data": {
      "text/html": [
       "'fscore StdDev: 0.0077'"
      ],
      "text/latex": [
       "'fscore StdDev: 0.0077'"
      ],
      "text/markdown": [
       "'fscore StdDev: 0.0077'"
      ],
      "text/plain": [
       "[1] \"fscore StdDev: 0.0077\""
      ]
     },
     "metadata": {},
     "output_type": "display_data"
    },
    {
     "data": {
      "text/html": [
       "''"
      ],
      "text/latex": [
       "''"
      ],
      "text/markdown": [
       "''"
      ],
      "text/plain": [
       "[1] \"\""
      ]
     },
     "metadata": {},
     "output_type": "display_data"
    },
    {
     "data": {
      "text/plain": [
       "   Min. 1st Qu.  Median    Mean 3rd Qu.    Max. \n",
       "  0.757   0.770   0.775   0.775   0.780   0.799 "
      ]
     },
     "metadata": {},
     "output_type": "display_data"
    }
   ],
   "source": [
    "fscore_mean <- round(mean(dat_result$fscore), 4)\n",
    "fscore_sd <- round(sd(dat_result$fscore), 4)\n",
    "paste0(\"fscore mean: \", as.character(fscore_mean))\n",
    "# 0.7748\n",
    "paste0(\"fscore StdDev: \", as.character(fscore_sd))\n",
    "# 0.0077\n",
    "\"\"\n",
    "summary(dat_result$fscore)\n"
   ]
  },
  {
   "cell_type": "code",
   "execution_count": 78,
   "metadata": {},
   "outputs": [
    {
     "data": {
      "text/html": [
       "'accuracy mean: 0.8717'"
      ],
      "text/latex": [
       "'accuracy mean: 0.8717'"
      ],
      "text/markdown": [
       "'accuracy mean: 0.8717'"
      ],
      "text/plain": [
       "[1] \"accuracy mean: 0.8717\""
      ]
     },
     "metadata": {},
     "output_type": "display_data"
    },
    {
     "data": {
      "text/html": [
       "'accuracy StdDev: 0.0043'"
      ],
      "text/latex": [
       "'accuracy StdDev: 0.0043'"
      ],
      "text/markdown": [
       "'accuracy StdDev: 0.0043'"
      ],
      "text/plain": [
       "[1] \"accuracy StdDev: 0.0043\""
      ]
     },
     "metadata": {},
     "output_type": "display_data"
    },
    {
     "data": {
      "text/html": [
       "''"
      ],
      "text/latex": [
       "''"
      ],
      "text/markdown": [
       "''"
      ],
      "text/plain": [
       "[1] \"\""
      ]
     },
     "metadata": {},
     "output_type": "display_data"
    },
    {
     "data": {
      "text/plain": [
       "   Min. 1st Qu.  Median    Mean 3rd Qu.    Max. \n",
       "  0.862   0.869   0.872   0.872   0.875   0.883 "
      ]
     },
     "metadata": {},
     "output_type": "display_data"
    }
   ],
   "source": [
    "Acc_mean <- round(mean(dat_result$Acc), 4)\n",
    "Acc_sd <- round(sd(dat_result$Acc), 4)\n",
    "paste0(\"accuracy mean: \", as.character(Acc_mean))\n",
    "# 0.8717\n",
    "paste0(\"accuracy StdDev: \", as.character(Acc_sd))\n",
    "# 0.0043\n",
    "\"\"\n",
    "summary(dat_result$Acc)\n"
   ]
  },
  {
   "cell_type": "code",
   "execution_count": null,
   "metadata": {},
   "outputs": [],
   "source": [
    "### COMMENT:\n",
    "\n",
    "# The scores on the testset are slightly worse when \n",
    "# we include median_income in the model  Thus, I will\n",
    "# stick with the f03 model.\n"
   ]
  },
  {
   "cell_type": "code",
   "execution_count": 80,
   "metadata": {},
   "outputs": [],
   "source": [
    "rm(f04)\n"
   ]
  },
  {
   "cell_type": "code",
   "execution_count": 87,
   "metadata": {},
   "outputs": [
    {
     "data": {
      "text/html": [
       "<style>\n",
       ".list-inline {list-style: none; margin:0; padding: 0}\n",
       ".list-inline>li {display: inline-block}\n",
       ".list-inline>li:not(:last-child)::after {content: \"\\00b7\"; padding: 0 .5ex}\n",
       "</style>\n",
       "<ol class=list-inline><li>'Inland'</li><li>'housing_median_age'</li><li>'median_house_value'</li><li>'HHdens_ln'</li><li>'rooms_per_hh'</li><li>'bdrms_per_room'</li><li>'pop_per_hh'</li></ol>\n"
      ],
      "text/latex": [
       "\\begin{enumerate*}\n",
       "\\item 'Inland'\n",
       "\\item 'housing\\_median\\_age'\n",
       "\\item 'median\\_house\\_value'\n",
       "\\item 'HHdens\\_ln'\n",
       "\\item 'rooms\\_per\\_hh'\n",
       "\\item 'bdrms\\_per\\_room'\n",
       "\\item 'pop\\_per\\_hh'\n",
       "\\end{enumerate*}\n"
      ],
      "text/markdown": [
       "1. 'Inland'\n",
       "2. 'housing_median_age'\n",
       "3. 'median_house_value'\n",
       "4. 'HHdens_ln'\n",
       "5. 'rooms_per_hh'\n",
       "6. 'bdrms_per_room'\n",
       "7. 'pop_per_hh'\n",
       "\n",
       "\n"
      ],
      "text/plain": [
       "[1] \"Inland\"             \"housing_median_age\" \"median_house_value\"\n",
       "[4] \"HHdens_ln\"          \"rooms_per_hh\"       \"bdrms_per_room\"    \n",
       "[7] \"pop_per_hh\"        "
      ]
     },
     "metadata": {},
     "output_type": "display_data"
    }
   ],
   "source": [
    "colnames(f03train)\n"
   ]
  },
  {
   "cell_type": "markdown",
   "metadata": {},
   "source": [
    "## Find best SVM"
   ]
  },
  {
   "cell_type": "code",
   "execution_count": 84,
   "metadata": {},
   "outputs": [
    {
     "data": {
      "text/html": [
       "<style>\n",
       ".list-inline {list-style: none; margin:0; padding: 0}\n",
       ".list-inline>li {display: inline-block}\n",
       ".list-inline>li:not(:last-child)::after {content: \"\\00b7\"; padding: 0 .5ex}\n",
       "</style>\n",
       "<ol class=list-inline><li>'Inland'</li><li>'housing_median_age'</li><li>'median_income'</li><li>'median_house_value'</li><li>'HHdens_ln'</li><li>'rooms_per_hh'</li><li>'bdrms_per_room'</li><li>'pop_per_hh'</li></ol>\n"
      ],
      "text/latex": [
       "\\begin{enumerate*}\n",
       "\\item 'Inland'\n",
       "\\item 'housing\\_median\\_age'\n",
       "\\item 'median\\_income'\n",
       "\\item 'median\\_house\\_value'\n",
       "\\item 'HHdens\\_ln'\n",
       "\\item 'rooms\\_per\\_hh'\n",
       "\\item 'bdrms\\_per\\_room'\n",
       "\\item 'pop\\_per\\_hh'\n",
       "\\end{enumerate*}\n"
      ],
      "text/markdown": [
       "1. 'Inland'\n",
       "2. 'housing_median_age'\n",
       "3. 'median_income'\n",
       "4. 'median_house_value'\n",
       "5. 'HHdens_ln'\n",
       "6. 'rooms_per_hh'\n",
       "7. 'bdrms_per_room'\n",
       "8. 'pop_per_hh'\n",
       "\n",
       "\n"
      ],
      "text/plain": [
       "[1] \"Inland\"             \"housing_median_age\" \"median_income\"     \n",
       "[4] \"median_house_value\" \"HHdens_ln\"          \"rooms_per_hh\"      \n",
       "[7] \"bdrms_per_room\"     \"pop_per_hh\"        "
      ]
     },
     "metadata": {},
     "output_type": "display_data"
    }
   ],
   "source": [
    "colnames(rftrain)\n"
   ]
  },
  {
   "cell_type": "code",
   "execution_count": 86,
   "metadata": {},
   "outputs": [
    {
     "data": {
      "text/html": [
       "<style>\n",
       ".list-inline {list-style: none; margin:0; padding: 0}\n",
       ".list-inline>li {display: inline-block}\n",
       ".list-inline>li:not(:last-child)::after {content: \"\\00b7\"; padding: 0 .5ex}\n",
       "</style>\n",
       "<ol class=list-inline><li>'Inland'</li><li>'housing_median_age'</li><li>'population'</li><li>'median_house_value'</li><li>'HHdens_ln'</li><li>'rooms_per_hh'</li><li>'bdrms_per_room'</li><li>'pop_per_hh'</li><li>'total_rooms'</li></ol>\n"
      ],
      "text/latex": [
       "\\begin{enumerate*}\n",
       "\\item 'Inland'\n",
       "\\item 'housing\\_median\\_age'\n",
       "\\item 'population'\n",
       "\\item 'median\\_house\\_value'\n",
       "\\item 'HHdens\\_ln'\n",
       "\\item 'rooms\\_per\\_hh'\n",
       "\\item 'bdrms\\_per\\_room'\n",
       "\\item 'pop\\_per\\_hh'\n",
       "\\item 'total\\_rooms'\n",
       "\\end{enumerate*}\n"
      ],
      "text/markdown": [
       "1. 'Inland'\n",
       "2. 'housing_median_age'\n",
       "3. 'population'\n",
       "4. 'median_house_value'\n",
       "5. 'HHdens_ln'\n",
       "6. 'rooms_per_hh'\n",
       "7. 'bdrms_per_room'\n",
       "8. 'pop_per_hh'\n",
       "9. 'total_rooms'\n",
       "\n",
       "\n"
      ],
      "text/plain": [
       "[1] \"Inland\"             \"housing_median_age\" \"population\"        \n",
       "[4] \"median_house_value\" \"HHdens_ln\"          \"rooms_per_hh\"      \n",
       "[7] \"bdrms_per_room\"     \"pop_per_hh\"         \"total_rooms\"       "
      ]
     },
     "metadata": {},
     "output_type": "display_data"
    }
   ],
   "source": [
    "gbclf_columns\n"
   ]
  },
  {
   "cell_type": "code",
   "execution_count": 16,
   "metadata": {},
   "outputs": [],
   "source": [
    "svm02_columns <- f03_columns\n"
   ]
  },
  {
   "cell_type": "code",
   "execution_count": 88,
   "metadata": {},
   "outputs": [],
   "source": [
    "# We need a dataframe for the svm modeling.  Use only\n",
    "# the f03 predictors; this will help with computation time.\n",
    "\n",
    "svmtrain <- traindat[, colnames(f03train)]\n",
    "svmtrain$median_house_value <- log(svmtrain$median_house_value)\n",
    "\n",
    "svm_scaled <- scale(svmtrain[, -1])\n",
    "svm_centers <- attr(svm_scaled, \"scaled:center\")\n",
    "svm_scales <- attr(svm_scaled, \"scaled:scale\")\n",
    "svm_scaled <- as.data.frame(cbind(as.numeric(svmtrain$Inland), svm_scaled),\n",
    "                            row.names=rownames(svmtrain))\n",
    "colnames(svm_scaled) <- colnames(svmtrain)\n"
   ]
  },
  {
   "cell_type": "code",
   "execution_count": 89,
   "metadata": {},
   "outputs": [
    {
     "data": {
      "text/plain": [
       "    \n",
       "pred    0    1\n",
       "   0 6904  120\n",
       "   1   43 3129"
      ]
     },
     "metadata": {},
     "output_type": "display_data"
    },
    {
     "data": {
      "text/html": [
       "0.9746"
      ],
      "text/latex": [
       "0.9746"
      ],
      "text/markdown": [
       "0.9746"
      ],
      "text/plain": [
       "[1] 0.9746"
      ]
     },
     "metadata": {},
     "output_type": "display_data"
    }
   ],
   "source": [
    "# Test out a support vector machine.  Try kernel =\n",
    "# radial basis function.\n",
    "\n",
    "svm01 <- svm(I(as.factor(Inland)) ~ ., data=svm_scaled, kernel=\"radial\",\n",
    "             gamma= 1.0, cost= 700, scale=FALSE)\n",
    "\n",
    "pred <- fitted(svm01)\n",
    "(ans <- table(pred, as.factor(svmtrain$Inland)))\n",
    "get_fscore(as.matrix(ans))\n"
   ]
  },
  {
   "cell_type": "code",
   "execution_count": 92,
   "metadata": {},
   "outputs": [],
   "source": [
    "# Prepare the testset data.\n",
    "\n",
    "svmtest <- testdat[, colnames(f03train)]\n",
    "svmtest$median_house_value <- log(svmtest$median_house_value)\n",
    "\n",
    "svmtest_scaled <- scale(svmtest[, -1], center=svm_centers,\n",
    "                        scale=svm_scales)\n",
    "svmtest_scaled <- as.data.frame(cbind(as.numeric(svmtest$Inland),svmtest_scaled), \n",
    "                                row.names=rownames(svmtest))\n",
    "colnames(svmtest_scaled) <- colnames(svmtest)\n"
   ]
  },
  {
   "cell_type": "code",
   "execution_count": 93,
   "metadata": {},
   "outputs": [],
   "source": [
    "# Function to compute a Type2 score for an svm cv-fold.\n",
    "\n",
    "get_Type2_svm <- function(traindat, valdat, gamma, cost) {\n",
    "    \n",
    "    # traindat and valdat need to be scaled\n",
    "    train_scaled <- scale(traindat[, -1])\n",
    "    train_centers <- attr(train_scaled, \"scaled:center\")\n",
    "    train_scales <- attr(train_scaled, \"scaled:scale\")\n",
    "    train_scaled <- as.data.frame(cbind(as.numeric(traindat$Inland), train_scaled),\n",
    "                                  row.names=rownames(traindat))\n",
    "    colnames(train_scaled) <- colnames(traindat)\n",
    "    \n",
    "    svmmod <- svm(I(as.factor(Inland)) ~ ., data= train_scaled, gamma=gamma,\n",
    "                    cost=cost, scale=FALSE, kernel=\"radial\")\n",
    "    \n",
    "    # Scale valdat.\n",
    "    valdat_scaled <- scale(valdat[, -1], center=train_centers,\n",
    "                         scale=train_scales)\n",
    "    valdat_scaled <- as.data.frame(cbind(as.numeric(valdat$Inland),valdat_scaled), \n",
    "                                   row.names=rownames(valdat))\n",
    "    colnames(valdat_scaled) <- colnames(valdat)\n",
    "    \n",
    "    preds <- predict(svmmod, newdata= valdat_scaled)\n",
    "    ans <- table(preds, as.factor(valdat$Inland))\n",
    "\n",
    "    mat <- as.matrix(ans)\n",
    "    percent_correct <- sum(diag(mat))/floor(sum(mat))\n",
    "    result <- round((0.4 * percent_correct + 0.6 * get_fscore(mat)), 4)\n",
    "    return(result)\n",
    "}\n"
   ]
  },
  {
   "cell_type": "code",
   "execution_count": 94,
   "metadata": {},
   "outputs": [],
   "source": [
    "# This grid search searches for the best parameters for svm\n",
    "# modeling of the data.  It takes a vector of seeds.\n",
    "\n",
    "gridSearch_svm <- function(seedv, dat, gammav, costv, folds=5) {\n",
    "    \n",
    "    gamma_len <- length(gammav)\n",
    "    cost_len <- length(costv)\n",
    "    # We need to capture the gridSearch parameters as well as \n",
    "    # the cross-val  scores.\n",
    "    datout <- rep(NA, 2 * gamma_len * cost_len)\n",
    "    dim(datout) <- c((gamma_len * cost_len), 2)\n",
    "    datout <- as.data.frame(datout)\n",
    "    colnames(datout) <- c(\"params\", \"Type2\")\n",
    "    datout$params <- \"\"\n",
    "    \n",
    "    # Divide dat by the number of folds to get a\n",
    "    # size for each fold.\n",
    "    segment_size <- round(nrow(dat)/folds)\n",
    "    diff <- nrow(dat) - folds * segment_size\n",
    "    last_seg_size <- segment_size + diff\n",
    "    segmentsv <- c(rep(segment_size, (folds - 1)), last_seg_size)\n",
    "    stopifnot(sum(segmentsv) == nrow(dat))\n",
    "    \n",
    "    index <- 0\n",
    "    for(i in 1:gamma_len) {\n",
    "        gamma <- gammav[i]\n",
    "        for(j in 1:cost_len) {\n",
    "            index <- index + 1\n",
    "            cost <- costv[j]\n",
    "            param_string <- paste(as.character(gamma), \n",
    "                                  as.character(cost), sep= \"--\")\n",
    "            datout$params[index] <- param_string\n",
    "            \n",
    "            # Each set of parameters gets tested over many folds.\n",
    "            # The different folds are created using different seeds.\n",
    "    \n",
    "            # Create a vector to store the Type2 score for each seed.\n",
    "            seedv_len <- length(seedv)\n",
    "            seed_scores <- rep(NA, seedv_len)\n",
    "    \n",
    "            for(h in 1:seedv_len) {\n",
    "                # shuffle dat\n",
    "                cur_seed <- seedv[h]\n",
    "                set.seed(cur_seed)\n",
    "                smp <- sample(rownames(dat), nrow(dat), replace= FALSE)\n",
    "                dat <- dat[smp,]\n",
    "    \n",
    "                # Each element of row_list will be the rows we pick\n",
    "                # out for one of the folds.  E.g., the first element\n",
    "                # of row_list will contain the rows we want for the\n",
    "                # first fold, the second element of row_list will\n",
    "                # contain the rows we want for the second fold, and\n",
    "                # so forth.\n",
    "                row_list <- vector(\"list\", length=folds)\n",
    "                names(row_list) <- as.character(1:folds)\n",
    "                startpt <- 1\n",
    "                for(k in 1:folds) {\n",
    "                    endpt <- startpt + segmentsv[k] - 1\n",
    "                    stopifnot(endpt <= nrow(dat))\n",
    "                    row_list[[k]] <- rownames(dat)[startpt:endpt]\n",
    "                    startpt <- endpt + 1\n",
    "                }\n",
    "            \n",
    "                train_list <- test_list <- vector(\"list\", length= folds)\n",
    "                for(k in 1:folds) {\n",
    "                    testdat <- dat[row_list[[k]],]\n",
    "                    traindat <- dat[which(!(rownames(dat) %in% rownames(testdat))),]\n",
    "                    stopifnot((length(rownames(traindat)) + length(rownames(testdat))) == nrow(dat))\n",
    "                    test_list[[k]] <- testdat\n",
    "                    train_list[[k]] <- traindat\n",
    "                }\n",
    "                # When there are only 5 folds, only 5 cores get used.\n",
    "                scores <- mcmapply(get_Type2_svm, train_list, test_list,\n",
    "                                   MoreArgs= list(gamma=gamma, cost=cost),\n",
    "                                   SIMPLIFY= TRUE, mc.cores=5)\n",
    "                # For the current seed, store the average of the Type2\n",
    "                # scores, the average taken over the folds.\n",
    "                seed_scores[h] <- round(mean(scores), 5)\n",
    "        \n",
    "            } ## end of for-loop, index h\n",
    "            \n",
    "            # Here I am taking an average of average scores.  This\n",
    "            # could be improved by simply taking a single average.\n",
    "            datout$Type2[index] <- round(mean(seed_scores), 5)\n",
    "            \n",
    "        } ## end of for-loop, index j\n",
    "    } ## end of for-loop, index i\n",
    "    \n",
    "    return(datout)\n",
    "}\n"
   ]
  },
  {
   "cell_type": "code",
   "execution_count": 95,
   "metadata": {},
   "outputs": [
    {
     "data": {
      "text/html": [
       "'Start time: 2021-04-24 15:03:18'"
      ],
      "text/latex": [
       "'Start time: 2021-04-24 15:03:18'"
      ],
      "text/markdown": [
       "'Start time: 2021-04-24 15:03:18'"
      ],
      "text/plain": [
       "[1] \"Start time: 2021-04-24 15:03:18\""
      ]
     },
     "metadata": {},
     "output_type": "display_data"
    },
    {
     "data": {
      "text/plain": [
       "Time difference of 13.81 mins"
      ]
     },
     "metadata": {},
     "output_type": "display_data"
    },
    {
     "data": {
      "text/html": [
       "'0.1--100'"
      ],
      "text/latex": [
       "'0.1--100'"
      ],
      "text/markdown": [
       "'0.1--100'"
      ],
      "text/plain": [
       "[1] \"0.1--100\""
      ]
     },
     "metadata": {},
     "output_type": "display_data"
    },
    {
     "data": {
      "text/html": [
       "0.8509"
      ],
      "text/latex": [
       "0.8509"
      ],
      "text/markdown": [
       "0.8509"
      ],
      "text/plain": [
       "[1] 0.8509"
      ]
     },
     "metadata": {},
     "output_type": "display_data"
    }
   ],
   "source": [
    "# Run grid search to get better parameters for the \n",
    "# svm classifier.\n",
    "\n",
    "set.seed(7543)\n",
    "seed_vector <- sample(1:9999, 1, replace=FALSE)\n",
    "\n",
    "gamma_v <- seq(0.1, 1.0, by=0.1)\n",
    "cost_v <- seq(100, 700, by=100)\n",
    "\n",
    "start <- Sys.time()\n",
    "paste(\"Start time: \", start, sep=\"\")\n",
    "ans <- gridSearch_svm(seed_vector, svmtrain, gamma_v, cost_v)\n",
    "stop <- Sys.time()\n",
    "round(stop - start, 2)\n",
    "# Time difference of 13.81 mins (with 1 seed)\n",
    "\n",
    "(best_params <- ans[which(ans$Type2 == max(ans$Type2)),]$params)\n",
    "# '0.1--100'\n",
    "\n",
    "(best_Type2 <- ans[which(ans$Type2 == max(ans$Type2)),]$Type2)\n",
    "# 0.8509\n"
   ]
  },
  {
   "cell_type": "code",
   "execution_count": 97,
   "metadata": {},
   "outputs": [
    {
     "data": {
      "text/html": [
       "'Start time: 2021-04-24 15:24:11'"
      ],
      "text/latex": [
       "'Start time: 2021-04-24 15:24:11'"
      ],
      "text/markdown": [
       "'Start time: 2021-04-24 15:24:11'"
      ],
      "text/plain": [
       "[1] \"Start time: 2021-04-24 15:24:11\""
      ]
     },
     "metadata": {},
     "output_type": "display_data"
    },
    {
     "data": {
      "text/plain": [
       "Time difference of 2.96 mins"
      ]
     },
     "metadata": {},
     "output_type": "display_data"
    },
    {
     "data": {
      "text/html": [
       "'0.06--80'"
      ],
      "text/latex": [
       "'0.06--80'"
      ],
      "text/markdown": [
       "'0.06--80'"
      ],
      "text/plain": [
       "[1] \"0.06--80\""
      ]
     },
     "metadata": {},
     "output_type": "display_data"
    },
    {
     "data": {
      "text/html": [
       "0.85229"
      ],
      "text/latex": [
       "0.85229"
      ],
      "text/markdown": [
       "0.85229"
      ],
      "text/plain": [
       "[1] 0.85229"
      ]
     },
     "metadata": {},
     "output_type": "display_data"
    }
   ],
   "source": [
    "# Refine the grid search.\n",
    "\n",
    "set.seed(7541)\n",
    "seed_vector <- sample(1:9999, 5, replace=FALSE)\n",
    "\n",
    "gamma_v <- seq(0.04, 0.1, by=0.02)\n",
    "cost_v <- seq(80, 120, by=20)\n",
    "\n",
    "start <- Sys.time()\n",
    "paste(\"Start time: \", start, sep=\"\")\n",
    "ans <- gridSearch_svm(seed_vector, svmtrain, gamma_v, cost_v)\n",
    "stop <- Sys.time()\n",
    "round(stop - start, 2)\n",
    "# Time difference of 3 mins (with 5 seeds)\n",
    "\n",
    "(best_params <- ans[which(ans$Type2 == max(ans$Type2)),]$params)\n",
    "# '0.06--80'\n",
    "\n",
    "(best_Type2 <- ans[which(ans$Type2 == max(ans$Type2)),]$Type2)\n",
    "# 0.8523\n"
   ]
  },
  {
   "cell_type": "code",
   "execution_count": null,
   "metadata": {},
   "outputs": [],
   "source": [
    "#&* Bookmark"
   ]
  },
  {
   "cell_type": "code",
   "execution_count": 98,
   "metadata": {},
   "outputs": [
    {
     "data": {
      "text/plain": [
       "    \n",
       "pred    0    1\n",
       "   0 6575  644\n",
       "   1  372 2605"
      ]
     },
     "metadata": {},
     "output_type": "display_data"
    },
    {
     "name": "stdout",
     "output_type": "stream",
     "text": [
      "[1] \"f-score for 'best' svm classifier, trainset: 0.8368\"\n"
     ]
    }
   ],
   "source": [
    "# Construct an svm with the identified parameters.\n",
    "\n",
    "# We need to get probability estimates from the output.\n",
    "## Note the use of svm_scaled (which is just svmtrain, scaled)\n",
    "svm02 <- svm(I(as.factor(Inland)) ~ ., data=svm_scaled, kernel=\"radial\",\n",
    "               gamma=0.06, cost=80, scale=FALSE, probability=TRUE)\n",
    "\n",
    "pred <- fitted(svm02)\n",
    "(ans <- table(pred, as.factor(svm_scaled$Inland)))\n",
    "print(paste(\"f-score for 'best' svm classifier, trainset: \", \n",
    "            as.character(get_fscore(as.matrix(ans))), sep=\"\"))\n",
    "# 0.8368\n",
    "\n",
    "# Accuracy is 0.9004\n",
    "\n",
    "# Type2 is 0.8622\n"
   ]
  },
  {
   "cell_type": "markdown",
   "metadata": {},
   "source": [
    "### Get scores for svm02 on testdat"
   ]
  },
  {
   "cell_type": "code",
   "execution_count": 103,
   "metadata": {},
   "outputs": [],
   "source": [
    "# Function for obtaining a set of scores on the testset data\n",
    "# using svm02 as the classifier.\n",
    "\n",
    "get_testdatScores_svm02 <- function(seedv, dat) {\n",
    "    \n",
    "    seedv_len <- length(seedv)\n",
    "    datout <- rep(NA, 5 * seedv_len)\n",
    "    dim(datout) <- c(seedv_len, 5)\n",
    "    datout <- as.data.frame(datout)\n",
    "    colnames(datout) <- c(\"fscore\",\"Acc\",\"Type2\", \"FN\",\"FP\")\n",
    "    rownames(datout) <- as.character(seedv)\n",
    "    \n",
    "    for(h in 1:seedv_len) {\n",
    "        # shuffle dat\n",
    "        cur_seed <- seedv[h]\n",
    "        set.seed(cur_seed)\n",
    "        # It is expected that dat is testdat, which has 10K rcds\n",
    "        smp <- sample(rownames(dat), 4000, replace= FALSE)\n",
    "        df <- dat[smp,]\n",
    "        \n",
    "        df_scaled <- scale(df[, -1], center=svm_centers,\n",
    "                        scale=svm_scales)\n",
    "        df_scaled <- as.data.frame(cbind(as.numeric(df$Inland),df_scaled), \n",
    "                                   row.names=rownames(df))\n",
    "        colnames(df_scaled) <- colnames(df)\n",
    "        \n",
    "        preds <- predict(svm02, newdata=df_scaled, scale=FALSE, probability=TRUE)\n",
    "        preds_transf <- as.numeric(attr(preds, \"probabilities\")[, 2])\n",
    "        names(preds_transf) <- rownames(df)\n",
    "        preds_transf[which(preds_transf >= 0.5)] <- 1\n",
    "        preds_transf[which(preds_transf < 0.5)] <- 0\n",
    "        preds_transf <- as.factor(preds_transf)\n",
    "        ans <- get_confusion(preds_transf, df[, \"Inland\", drop=FALSE])\n",
    "        \n",
    "        mat <- as.matrix(ans[[1]])\n",
    "        fscore <- round(as.numeric(ans[[2]]), 4)\n",
    "        acc <- round(sum(diag(mat))/floor(sum(mat)), 4)\n",
    "        type2 <- round((0.4 * acc + 0.6 * ans[[2]]), 4)\n",
    "        FN <- as.numeric(mat[2,1])\n",
    "        FP <- as.numeric(mat[1,2])\n",
    "        datout[as.character(cur_seed), 1:5] <- c(fscore,acc,type2,FN,FP)\n",
    "    }\n",
    "    return(datout)\n",
    "}\n"
   ]
  },
  {
   "cell_type": "code",
   "execution_count": 106,
   "metadata": {},
   "outputs": [
    {
     "data": {
      "text/plain": [
       "Time difference of 49.18 secs"
      ]
     },
     "metadata": {},
     "output_type": "display_data"
    }
   ],
   "source": [
    "# Get svm02's scores on the testset data.  For each of\n",
    "# the 250 seeds, I sample 4K (no replacement) from the 10K\n",
    "# set of testdat records.\n",
    "\n",
    "set.seed(1821)\n",
    "seed_vector <- sample(1:9999, 250, replace=FALSE)\n",
    "\n",
    "start <- Sys.time()\n",
    "# paste(\"Start time: \", start, sep=\"\")\n",
    "dat_result <- get_testdatScores_svm02(seed_vector, svmtest)\n",
    "stop <- Sys.time()\n",
    "round(stop - start, 2)\n",
    "# Time difference of 49 secs\n"
   ]
  },
  {
   "cell_type": "code",
   "execution_count": 107,
   "metadata": {},
   "outputs": [
    {
     "data": {
      "text/html": [
       "<style>\n",
       ".list-inline {list-style: none; margin:0; padding: 0}\n",
       ".list-inline>li {display: inline-block}\n",
       ".list-inline>li:not(:last-child)::after {content: \"\\00b7\"; padding: 0 .5ex}\n",
       "</style>\n",
       "<ol class=list-inline><li>250</li><li>5</li></ol>\n"
      ],
      "text/latex": [
       "\\begin{enumerate*}\n",
       "\\item 250\n",
       "\\item 5\n",
       "\\end{enumerate*}\n"
      ],
      "text/markdown": [
       "1. 250\n",
       "2. 5\n",
       "\n",
       "\n"
      ],
      "text/plain": [
       "[1] 250   5"
      ]
     },
     "metadata": {},
     "output_type": "display_data"
    },
    {
     "data": {
      "text/html": [
       "<table>\n",
       "<caption>A data.frame: 6 × 5</caption>\n",
       "<thead>\n",
       "\t<tr><th></th><th scope=col>fscore</th><th scope=col>Acc</th><th scope=col>Type2</th><th scope=col>FN</th><th scope=col>FP</th></tr>\n",
       "\t<tr><th></th><th scope=col>&lt;dbl&gt;</th><th scope=col>&lt;dbl&gt;</th><th scope=col>&lt;dbl&gt;</th><th scope=col>&lt;dbl&gt;</th><th scope=col>&lt;dbl&gt;</th></tr>\n",
       "</thead>\n",
       "<tbody>\n",
       "\t<tr><th scope=row>5934</th><td>0.8372</td><td>0.9010</td><td>0.8627</td><td>259</td><td>137</td></tr>\n",
       "\t<tr><th scope=row>1953</th><td>0.8392</td><td>0.9000</td><td>0.8635</td><td>256</td><td>144</td></tr>\n",
       "\t<tr><th scope=row>7591</th><td>0.8182</td><td>0.8870</td><td>0.8457</td><td>308</td><td>144</td></tr>\n",
       "\t<tr><th scope=row>1038</th><td>0.8250</td><td>0.8945</td><td>0.8528</td><td>274</td><td>148</td></tr>\n",
       "\t<tr><th scope=row>49</th><td>0.8338</td><td>0.8962</td><td>0.8588</td><td>260</td><td>155</td></tr>\n",
       "\t<tr><th scope=row>3203</th><td>0.8317</td><td>0.8975</td><td>0.8580</td><td>266</td><td>144</td></tr>\n",
       "</tbody>\n",
       "</table>\n"
      ],
      "text/latex": [
       "A data.frame: 6 × 5\n",
       "\\begin{tabular}{r|lllll}\n",
       "  & fscore & Acc & Type2 & FN & FP\\\\\n",
       "  & <dbl> & <dbl> & <dbl> & <dbl> & <dbl>\\\\\n",
       "\\hline\n",
       "\t5934 & 0.8372 & 0.9010 & 0.8627 & 259 & 137\\\\\n",
       "\t1953 & 0.8392 & 0.9000 & 0.8635 & 256 & 144\\\\\n",
       "\t7591 & 0.8182 & 0.8870 & 0.8457 & 308 & 144\\\\\n",
       "\t1038 & 0.8250 & 0.8945 & 0.8528 & 274 & 148\\\\\n",
       "\t49 & 0.8338 & 0.8962 & 0.8588 & 260 & 155\\\\\n",
       "\t3203 & 0.8317 & 0.8975 & 0.8580 & 266 & 144\\\\\n",
       "\\end{tabular}\n"
      ],
      "text/markdown": [
       "\n",
       "A data.frame: 6 × 5\n",
       "\n",
       "| <!--/--> | fscore &lt;dbl&gt; | Acc &lt;dbl&gt; | Type2 &lt;dbl&gt; | FN &lt;dbl&gt; | FP &lt;dbl&gt; |\n",
       "|---|---|---|---|---|---|\n",
       "| 5934 | 0.8372 | 0.9010 | 0.8627 | 259 | 137 |\n",
       "| 1953 | 0.8392 | 0.9000 | 0.8635 | 256 | 144 |\n",
       "| 7591 | 0.8182 | 0.8870 | 0.8457 | 308 | 144 |\n",
       "| 1038 | 0.8250 | 0.8945 | 0.8528 | 274 | 148 |\n",
       "| 49 | 0.8338 | 0.8962 | 0.8588 | 260 | 155 |\n",
       "| 3203 | 0.8317 | 0.8975 | 0.8580 | 266 | 144 |\n",
       "\n"
      ],
      "text/plain": [
       "     fscore Acc    Type2  FN  FP \n",
       "5934 0.8372 0.9010 0.8627 259 137\n",
       "1953 0.8392 0.9000 0.8635 256 144\n",
       "7591 0.8182 0.8870 0.8457 308 144\n",
       "1038 0.8250 0.8945 0.8528 274 148\n",
       "49   0.8338 0.8962 0.8588 260 155\n",
       "3203 0.8317 0.8975 0.8580 266 144"
      ]
     },
     "metadata": {},
     "output_type": "display_data"
    }
   ],
   "source": [
    "dim(dat_result)\n",
    "head(dat_result)\n"
   ]
  },
  {
   "cell_type": "code",
   "execution_count": 108,
   "metadata": {},
   "outputs": [
    {
     "data": {
      "text/html": [
       "'fscore mean: 0.8265'"
      ],
      "text/latex": [
       "'fscore mean: 0.8265'"
      ],
      "text/markdown": [
       "'fscore mean: 0.8265'"
      ],
      "text/plain": [
       "[1] \"fscore mean: 0.8265\""
      ]
     },
     "metadata": {},
     "output_type": "display_data"
    },
    {
     "data": {
      "text/html": [
       "'fscore StdDev: 0.0065'"
      ],
      "text/latex": [
       "'fscore StdDev: 0.0065'"
      ],
      "text/markdown": [
       "'fscore StdDev: 0.0065'"
      ],
      "text/plain": [
       "[1] \"fscore StdDev: 0.0065\""
      ]
     },
     "metadata": {},
     "output_type": "display_data"
    },
    {
     "data": {
      "text/html": [
       "''"
      ],
      "text/latex": [
       "''"
      ],
      "text/markdown": [
       "''"
      ],
      "text/plain": [
       "[1] \"\""
      ]
     },
     "metadata": {},
     "output_type": "display_data"
    },
    {
     "data": {
      "text/plain": [
       "   Min. 1st Qu.  Median    Mean 3rd Qu.    Max. \n",
       "  0.810   0.823   0.827   0.827   0.831   0.842 "
      ]
     },
     "metadata": {},
     "output_type": "display_data"
    }
   ],
   "source": [
    "fscore_mean <- round(mean(dat_result$fscore), 4)\n",
    "fscore_sd <- round(sd(dat_result$fscore), 4)\n",
    "paste0(\"fscore mean: \", as.character(fscore_mean))\n",
    "# 0.8265\n",
    "paste0(\"fscore StdDev: \", as.character(fscore_sd))\n",
    "# 0.0065\n",
    "\"\"\n",
    "summary(dat_result$fscore)\n"
   ]
  },
  {
   "cell_type": "code",
   "execution_count": 109,
   "metadata": {},
   "outputs": [
    {
     "data": {
      "text/html": [
       "'accuracy mean: 0.8943'"
      ],
      "text/latex": [
       "'accuracy mean: 0.8943'"
      ],
      "text/markdown": [
       "'accuracy mean: 0.8943'"
      ],
      "text/plain": [
       "[1] \"accuracy mean: 0.8943\""
      ]
     },
     "metadata": {},
     "output_type": "display_data"
    },
    {
     "data": {
      "text/html": [
       "'accuracy StdDev: 0.0038'"
      ],
      "text/latex": [
       "'accuracy StdDev: 0.0038'"
      ],
      "text/markdown": [
       "'accuracy StdDev: 0.0038'"
      ],
      "text/plain": [
       "[1] \"accuracy StdDev: 0.0038\""
      ]
     },
     "metadata": {},
     "output_type": "display_data"
    },
    {
     "data": {
      "text/html": [
       "''"
      ],
      "text/latex": [
       "''"
      ],
      "text/markdown": [
       "''"
      ],
      "text/plain": [
       "[1] \"\""
      ]
     },
     "metadata": {},
     "output_type": "display_data"
    },
    {
     "data": {
      "text/plain": [
       "   Min. 1st Qu.  Median    Mean 3rd Qu.    Max. \n",
       "  0.883   0.892   0.894   0.894   0.897   0.905 "
      ]
     },
     "metadata": {},
     "output_type": "display_data"
    }
   ],
   "source": [
    "Acc_mean <- round(mean(dat_result$Acc), 4)\n",
    "Acc_sd <- round(sd(dat_result$Acc), 4)\n",
    "paste0(\"accuracy mean: \", as.character(Acc_mean))\n",
    "# 0.8943\n",
    "paste0(\"accuracy StdDev: \", as.character(Acc_sd))\n",
    "# 0.0038\n",
    "\"\"\n",
    "summary(dat_result$Acc)\n"
   ]
  },
  {
   "cell_type": "code",
   "execution_count": 110,
   "metadata": {},
   "outputs": [
    {
     "data": {
      "text/html": [
       "'Type2 mean: 0.8536'"
      ],
      "text/latex": [
       "'Type2 mean: 0.8536'"
      ],
      "text/markdown": [
       "'Type2 mean: 0.8536'"
      ],
      "text/plain": [
       "[1] \"Type2 mean: 0.8536\""
      ]
     },
     "metadata": {},
     "output_type": "display_data"
    },
    {
     "data": {
      "text/html": [
       "'Type2 StdDev: 0.0053'"
      ],
      "text/latex": [
       "'Type2 StdDev: 0.0053'"
      ],
      "text/markdown": [
       "'Type2 StdDev: 0.0053'"
      ],
      "text/plain": [
       "[1] \"Type2 StdDev: 0.0053\""
      ]
     },
     "metadata": {},
     "output_type": "display_data"
    },
    {
     "data": {
      "text/html": [
       "''"
      ],
      "text/latex": [
       "''"
      ],
      "text/markdown": [
       "''"
      ],
      "text/plain": [
       "[1] \"\""
      ]
     },
     "metadata": {},
     "output_type": "display_data"
    },
    {
     "data": {
      "text/plain": [
       "   Min. 1st Qu.  Median    Mean 3rd Qu.    Max. \n",
       "  0.839   0.850   0.854   0.854   0.857   0.868 "
      ]
     },
     "metadata": {},
     "output_type": "display_data"
    }
   ],
   "source": [
    "Type2_mean <- round(mean(dat_result$Type2), 4)\n",
    "Type2_sd <- round(sd(dat_result$Type2), 4)\n",
    "paste0(\"Type2 mean: \", as.character(Type2_mean))\n",
    "# 0.8536\n",
    "paste0(\"Type2 StdDev: \", as.character(Type2_sd))\n",
    "# 0.0053\n",
    "\"\"\n",
    "summary(dat_result$Type2)\n"
   ]
  },
  {
   "cell_type": "code",
   "execution_count": 111,
   "metadata": {},
   "outputs": [
    {
     "data": {
      "text/html": [
       "'FN mean: 280.3'"
      ],
      "text/latex": [
       "'FN mean: 280.3'"
      ],
      "text/markdown": [
       "'FN mean: 280.3'"
      ],
      "text/plain": [
       "[1] \"FN mean: 280.3\""
      ]
     },
     "metadata": {},
     "output_type": "display_data"
    },
    {
     "data": {
      "text/html": [
       "'FN StdDev: 11.79'"
      ],
      "text/latex": [
       "'FN StdDev: 11.79'"
      ],
      "text/markdown": [
       "'FN StdDev: 11.79'"
      ],
      "text/plain": [
       "[1] \"FN StdDev: 11.79\""
      ]
     },
     "metadata": {},
     "output_type": "display_data"
    },
    {
     "data": {
      "text/html": [
       "''"
      ],
      "text/latex": [
       "''"
      ],
      "text/markdown": [
       "''"
      ],
      "text/plain": [
       "[1] \"\""
      ]
     },
     "metadata": {},
     "output_type": "display_data"
    },
    {
     "data": {
      "text/plain": [
       "   Min. 1st Qu.  Median    Mean 3rd Qu.    Max. \n",
       "    244     273     280     280     288     317 "
      ]
     },
     "metadata": {},
     "output_type": "display_data"
    }
   ],
   "source": [
    "FN_mean <- round(mean(dat_result$FN), 2)\n",
    "FN_sd <- round(sd(dat_result$FN), 2)\n",
    "paste0(\"FN mean: \", as.character(FN_mean))\n",
    "# 280.3\n",
    "paste0(\"FN StdDev: \", as.character(FN_sd))\n",
    "# 11.79\n",
    "\"\"\n",
    "summary(dat_result$FN)\n"
   ]
  },
  {
   "cell_type": "code",
   "execution_count": 112,
   "metadata": {},
   "outputs": [
    {
     "data": {
      "text/html": [
       "'FP mean: 142.58'"
      ],
      "text/latex": [
       "'FP mean: 142.58'"
      ],
      "text/markdown": [
       "'FP mean: 142.58'"
      ],
      "text/plain": [
       "[1] \"FP mean: 142.58\""
      ]
     },
     "metadata": {},
     "output_type": "display_data"
    },
    {
     "data": {
      "text/html": [
       "'FP StdDev: 8.91'"
      ],
      "text/latex": [
       "'FP StdDev: 8.91'"
      ],
      "text/markdown": [
       "'FP StdDev: 8.91'"
      ],
      "text/plain": [
       "[1] \"FP StdDev: 8.91\""
      ]
     },
     "metadata": {},
     "output_type": "display_data"
    },
    {
     "data": {
      "text/html": [
       "''"
      ],
      "text/latex": [
       "''"
      ],
      "text/markdown": [
       "''"
      ],
      "text/plain": [
       "[1] \"\""
      ]
     },
     "metadata": {},
     "output_type": "display_data"
    },
    {
     "data": {
      "text/plain": [
       "   Min. 1st Qu.  Median    Mean 3rd Qu.    Max. \n",
       "    118     137     143     143     149     170 "
      ]
     },
     "metadata": {},
     "output_type": "display_data"
    }
   ],
   "source": [
    "FP_mean <- round(mean(dat_result$FP), 2)\n",
    "FP_sd <- round(sd(dat_result$FP), 2)\n",
    "paste0(\"FP mean: \", as.character(FP_mean))\n",
    "# 142.58\n",
    "paste0(\"FP StdDev: \", as.character(FP_sd))\n",
    "#   8.91\n",
    "\"\"\n",
    "summary(dat_result$FP)\n"
   ]
  },
  {
   "cell_type": "code",
   "execution_count": null,
   "metadata": {},
   "outputs": [],
   "source": [
    "### COMMENT:\n",
    "\n",
    "# After rfclf_best, svm02 is the next best model.  It has almost\n",
    "# the same average accuracy score as rfclf_best.  On average, \n",
    "# svm02 has fewer false positives (143 vs 166).  svm02 has more\n",
    "# false negatives than rfclf_best: 280 vs 242.\n"
   ]
  },
  {
   "cell_type": "markdown",
   "metadata": {},
   "source": [
    "# Section 2: Model data with k-means"
   ]
  },
  {
   "cell_type": "code",
   "execution_count": 20,
   "metadata": {},
   "outputs": [
    {
     "data": {
      "text/html": [
       "<style>\n",
       ".list-inline {list-style: none; margin:0; padding: 0}\n",
       ".list-inline>li {display: inline-block}\n",
       ".list-inline>li:not(:last-child)::after {content: \"\\00b7\"; padding: 0 .5ex}\n",
       "</style>\n",
       "<ol class=list-inline><li>'Inland'</li><li>'housing_median_age'</li><li>'median_house_value'</li><li>'HHdens_ln'</li><li>'rooms_per_hh'</li><li>'bdrms_per_room'</li><li>'pop_per_hh'</li></ol>\n"
      ],
      "text/latex": [
       "\\begin{enumerate*}\n",
       "\\item 'Inland'\n",
       "\\item 'housing\\_median\\_age'\n",
       "\\item 'median\\_house\\_value'\n",
       "\\item 'HHdens\\_ln'\n",
       "\\item 'rooms\\_per\\_hh'\n",
       "\\item 'bdrms\\_per\\_room'\n",
       "\\item 'pop\\_per\\_hh'\n",
       "\\end{enumerate*}\n"
      ],
      "text/markdown": [
       "1. 'Inland'\n",
       "2. 'housing_median_age'\n",
       "3. 'median_house_value'\n",
       "4. 'HHdens_ln'\n",
       "5. 'rooms_per_hh'\n",
       "6. 'bdrms_per_room'\n",
       "7. 'pop_per_hh'\n",
       "\n",
       "\n"
      ],
      "text/plain": [
       "[1] \"Inland\"             \"housing_median_age\" \"median_house_value\"\n",
       "[4] \"HHdens_ln\"          \"rooms_per_hh\"       \"bdrms_per_room\"    \n",
       "[7] \"pop_per_hh\"        "
      ]
     },
     "metadata": {},
     "output_type": "display_data"
    }
   ],
   "source": [
    "svm02_columns\n"
   ]
  },
  {
   "cell_type": "code",
   "execution_count": 17,
   "metadata": {},
   "outputs": [],
   "source": [
    "# For k-means, use the same predictors as we use for the \n",
    "# svm02 and f03 models.\n",
    "\n",
    "km_columns <- svm02_columns\n",
    "km_predictors <- km_columns[-1]\n"
   ]
  },
  {
   "cell_type": "code",
   "execution_count": 50,
   "metadata": {},
   "outputs": [
    {
     "data": {
      "text/plain": [
       "Importance of first k=4 (out of 6) components:\n",
       "                         PC1   PC2   PC3   PC4\n",
       "Standard deviation     1.415 1.203 0.974 0.845\n",
       "Proportion of Variance 0.334 0.241 0.158 0.119\n",
       "Cumulative Proportion  0.334 0.575 0.733 0.852"
      ]
     },
     "metadata": {},
     "output_type": "display_data"
    }
   ],
   "source": [
    "# Use PCA to reduce the number of variables we are \n",
    "# working with.  This will make finding weights \n",
    "# quite a bit easier.\n",
    "\n",
    "pca <- prcomp(traindat[, km_predictors], center=TRUE, scale.=TRUE,\n",
    "              rank.=4, retx=TRUE)\n",
    "summary(pca)\n"
   ]
  },
  {
   "cell_type": "code",
   "execution_count": 25,
   "metadata": {},
   "outputs": [
    {
     "data": {
      "text/html": [
       "<table>\n",
       "<caption>A matrix: 6 × 4 of type dbl</caption>\n",
       "<thead>\n",
       "\t<tr><th></th><th scope=col>PC1</th><th scope=col>PC2</th><th scope=col>PC3</th><th scope=col>PC4</th></tr>\n",
       "</thead>\n",
       "<tbody>\n",
       "\t<tr><th scope=row>11174</th><td> 0.62155</td><td>-0.40828</td><td> 0.78395</td><td> 0.02940</td></tr>\n",
       "\t<tr><th scope=row>1542</th><td> 1.55471</td><td>-0.36770</td><td> 0.39013</td><td> 1.04186</td></tr>\n",
       "\t<tr><th scope=row>3537</th><td>-1.06642</td><td> 0.42280</td><td>-1.37004</td><td> 0.98605</td></tr>\n",
       "\t<tr><th scope=row>12747</th><td> 0.23624</td><td> 0.76784</td><td>-0.98573</td><td> 1.35681</td></tr>\n",
       "\t<tr><th scope=row>13348</th><td>-0.87807</td><td> 0.12463</td><td> 0.52692</td><td>-0.97772</td></tr>\n",
       "\t<tr><th scope=row>6628</th><td>-1.51037</td><td>-0.42055</td><td>-1.56922</td><td> 0.36121</td></tr>\n",
       "</tbody>\n",
       "</table>\n"
      ],
      "text/latex": [
       "A matrix: 6 × 4 of type dbl\n",
       "\\begin{tabular}{r|llll}\n",
       "  & PC1 & PC2 & PC3 & PC4\\\\\n",
       "\\hline\n",
       "\t11174 &  0.62155 & -0.40828 &  0.78395 &  0.02940\\\\\n",
       "\t1542 &  1.55471 & -0.36770 &  0.39013 &  1.04186\\\\\n",
       "\t3537 & -1.06642 &  0.42280 & -1.37004 &  0.98605\\\\\n",
       "\t12747 &  0.23624 &  0.76784 & -0.98573 &  1.35681\\\\\n",
       "\t13348 & -0.87807 &  0.12463 &  0.52692 & -0.97772\\\\\n",
       "\t6628 & -1.51037 & -0.42055 & -1.56922 &  0.36121\\\\\n",
       "\\end{tabular}\n"
      ],
      "text/markdown": [
       "\n",
       "A matrix: 6 × 4 of type dbl\n",
       "\n",
       "| <!--/--> | PC1 | PC2 | PC3 | PC4 |\n",
       "|---|---|---|---|---|\n",
       "| 11174 |  0.62155 | -0.40828 |  0.78395 |  0.02940 |\n",
       "| 1542 |  1.55471 | -0.36770 |  0.39013 |  1.04186 |\n",
       "| 3537 | -1.06642 |  0.42280 | -1.37004 |  0.98605 |\n",
       "| 12747 |  0.23624 |  0.76784 | -0.98573 |  1.35681 |\n",
       "| 13348 | -0.87807 |  0.12463 |  0.52692 | -0.97772 |\n",
       "| 6628 | -1.51037 | -0.42055 | -1.56922 |  0.36121 |\n",
       "\n"
      ],
      "text/plain": [
       "      PC1      PC2      PC3      PC4     \n",
       "11174  0.62155 -0.40828  0.78395  0.02940\n",
       "1542   1.55471 -0.36770  0.39013  1.04186\n",
       "3537  -1.06642  0.42280 -1.37004  0.98605\n",
       "12747  0.23624  0.76784 -0.98573  1.35681\n",
       "13348 -0.87807  0.12463  0.52692 -0.97772\n",
       "6628  -1.51037 -0.42055 -1.56922  0.36121"
      ]
     },
     "metadata": {},
     "output_type": "display_data"
    }
   ],
   "source": [
    "head(pca$x)\n"
   ]
  },
  {
   "cell_type": "code",
   "execution_count": 51,
   "metadata": {},
   "outputs": [
    {
     "data": {
      "text/html": [
       "<table>\n",
       "<caption>A data.frame: 6 × 5</caption>\n",
       "<thead>\n",
       "\t<tr><th></th><th scope=col>Inland</th><th scope=col>pc1</th><th scope=col>pc2</th><th scope=col>pc3</th><th scope=col>pc4</th></tr>\n",
       "\t<tr><th></th><th scope=col>&lt;dbl&gt;</th><th scope=col>&lt;dbl&gt;</th><th scope=col>&lt;dbl&gt;</th><th scope=col>&lt;dbl&gt;</th><th scope=col>&lt;dbl&gt;</th></tr>\n",
       "</thead>\n",
       "<tbody>\n",
       "\t<tr><th scope=row>11174</th><td>0</td><td> 0.62155</td><td>-0.40828</td><td> 0.78395</td><td> 0.02940</td></tr>\n",
       "\t<tr><th scope=row>1542</th><td>0</td><td> 1.55471</td><td>-0.36770</td><td> 0.39013</td><td> 1.04186</td></tr>\n",
       "\t<tr><th scope=row>3537</th><td>0</td><td>-1.06642</td><td> 0.42280</td><td>-1.37004</td><td> 0.98605</td></tr>\n",
       "\t<tr><th scope=row>12747</th><td>1</td><td> 0.23624</td><td> 0.76784</td><td>-0.98573</td><td> 1.35681</td></tr>\n",
       "\t<tr><th scope=row>13348</th><td>1</td><td>-0.87807</td><td> 0.12463</td><td> 0.52692</td><td>-0.97772</td></tr>\n",
       "\t<tr><th scope=row>6628</th><td>0</td><td>-1.51037</td><td>-0.42055</td><td>-1.56922</td><td> 0.36121</td></tr>\n",
       "</tbody>\n",
       "</table>\n"
      ],
      "text/latex": [
       "A data.frame: 6 × 5\n",
       "\\begin{tabular}{r|lllll}\n",
       "  & Inland & pc1 & pc2 & pc3 & pc4\\\\\n",
       "  & <dbl> & <dbl> & <dbl> & <dbl> & <dbl>\\\\\n",
       "\\hline\n",
       "\t11174 & 0 &  0.62155 & -0.40828 &  0.78395 &  0.02940\\\\\n",
       "\t1542 & 0 &  1.55471 & -0.36770 &  0.39013 &  1.04186\\\\\n",
       "\t3537 & 0 & -1.06642 &  0.42280 & -1.37004 &  0.98605\\\\\n",
       "\t12747 & 1 &  0.23624 &  0.76784 & -0.98573 &  1.35681\\\\\n",
       "\t13348 & 1 & -0.87807 &  0.12463 &  0.52692 & -0.97772\\\\\n",
       "\t6628 & 0 & -1.51037 & -0.42055 & -1.56922 &  0.36121\\\\\n",
       "\\end{tabular}\n"
      ],
      "text/markdown": [
       "\n",
       "A data.frame: 6 × 5\n",
       "\n",
       "| <!--/--> | Inland &lt;dbl&gt; | pc1 &lt;dbl&gt; | pc2 &lt;dbl&gt; | pc3 &lt;dbl&gt; | pc4 &lt;dbl&gt; |\n",
       "|---|---|---|---|---|---|\n",
       "| 11174 | 0 |  0.62155 | -0.40828 |  0.78395 |  0.02940 |\n",
       "| 1542 | 0 |  1.55471 | -0.36770 |  0.39013 |  1.04186 |\n",
       "| 3537 | 0 | -1.06642 |  0.42280 | -1.37004 |  0.98605 |\n",
       "| 12747 | 1 |  0.23624 |  0.76784 | -0.98573 |  1.35681 |\n",
       "| 13348 | 1 | -0.87807 |  0.12463 |  0.52692 | -0.97772 |\n",
       "| 6628 | 0 | -1.51037 | -0.42055 | -1.56922 |  0.36121 |\n",
       "\n"
      ],
      "text/plain": [
       "      Inland pc1      pc2      pc3      pc4     \n",
       "11174 0       0.62155 -0.40828  0.78395  0.02940\n",
       "1542  0       1.55471 -0.36770  0.39013  1.04186\n",
       "3537  0      -1.06642  0.42280 -1.37004  0.98605\n",
       "12747 1       0.23624  0.76784 -0.98573  1.35681\n",
       "13348 1      -0.87807  0.12463  0.52692 -0.97772\n",
       "6628  0      -1.51037 -0.42055 -1.56922  0.36121"
      ]
     },
     "metadata": {},
     "output_type": "display_data"
    }
   ],
   "source": [
    "# Construct training set data for k-means modeling\n",
    "# with PCA.\n",
    "\n",
    "kmtrain <- cbind(as.numeric(traindat$Inland), as.data.frame(pca$x))\n",
    "rownames(kmtrain) <- rownames(traindat)\n",
    "colnames(kmtrain) <- c(\"Inland\",\"pc1\",\"pc2\",\"pc3\",\"pc4\")\n",
    "head(kmtrain)\n"
   ]
  },
  {
   "cell_type": "markdown",
   "metadata": {},
   "source": [
    "## Construct initial k-means model"
   ]
  },
  {
   "cell_type": "code",
   "execution_count": 30,
   "metadata": {},
   "outputs": [
    {
     "data": {
      "text/plain": [
       "      pc1               pc2               pc3               pc4         \n",
       " Min.   :-6.1240   Min.   :-4.7373   Min.   :-3.5855   Min.   :-3.5949  \n",
       " 1st Qu.:-0.9157   1st Qu.:-0.6568   1st Qu.:-0.5856   1st Qu.:-0.5298  \n",
       " Median :-0.0184   Median : 0.0818   Median : 0.0152   Median : 0.0435  \n",
       " Mean   : 0.0000   Mean   : 0.0000   Mean   : 0.0000   Mean   : 0.0000  \n",
       " 3rd Qu.: 0.8990   3rd Qu.: 0.7622   3rd Qu.: 0.5407   3rd Qu.: 0.5846  \n",
       " Max.   :12.4876   Max.   : 9.5072   Max.   :14.4457   Max.   : 4.4018  "
      ]
     },
     "metadata": {},
     "output_type": "display_data"
    }
   ],
   "source": [
    "summary(kmtrain[, -1])\n"
   ]
  },
  {
   "cell_type": "code",
   "execution_count": 52,
   "metadata": {},
   "outputs": [
    {
     "data": {
      "text/html": [
       "<table>\n",
       "<caption>A data.frame: 6 × 5</caption>\n",
       "<thead>\n",
       "\t<tr><th></th><th scope=col>Inland</th><th scope=col>pc1</th><th scope=col>pc2</th><th scope=col>pc3</th><th scope=col>pc4</th></tr>\n",
       "\t<tr><th></th><th scope=col>&lt;dbl&gt;</th><th scope=col>&lt;dbl&gt;</th><th scope=col>&lt;dbl&gt;</th><th scope=col>&lt;dbl&gt;</th><th scope=col>&lt;dbl&gt;</th></tr>\n",
       "</thead>\n",
       "<tbody>\n",
       "\t<tr><th scope=row>11174</th><td>0</td><td>0.36244</td><td>0.30391</td><td>0.24233</td><td>0.45322</td></tr>\n",
       "\t<tr><th scope=row>1542</th><td>0</td><td>0.41258</td><td>0.30676</td><td>0.22049</td><td>0.57983</td></tr>\n",
       "\t<tr><th scope=row>3537</th><td>0</td><td>0.27174</td><td>0.36225</td><td>0.12287</td><td>0.57285</td></tr>\n",
       "\t<tr><th scope=row>12747</th><td>1</td><td>0.34174</td><td>0.38647</td><td>0.14418</td><td>0.61922</td></tr>\n",
       "\t<tr><th scope=row>13348</th><td>1</td><td>0.28186</td><td>0.34132</td><td>0.22807</td><td>0.32728</td></tr>\n",
       "\t<tr><th scope=row>6628</th><td>0</td><td>0.24789</td><td>0.30305</td><td>0.11182</td><td>0.49472</td></tr>\n",
       "</tbody>\n",
       "</table>\n"
      ],
      "text/latex": [
       "A data.frame: 6 × 5\n",
       "\\begin{tabular}{r|lllll}\n",
       "  & Inland & pc1 & pc2 & pc3 & pc4\\\\\n",
       "  & <dbl> & <dbl> & <dbl> & <dbl> & <dbl>\\\\\n",
       "\\hline\n",
       "\t11174 & 0 & 0.36244 & 0.30391 & 0.24233 & 0.45322\\\\\n",
       "\t1542 & 0 & 0.41258 & 0.30676 & 0.22049 & 0.57983\\\\\n",
       "\t3537 & 0 & 0.27174 & 0.36225 & 0.12287 & 0.57285\\\\\n",
       "\t12747 & 1 & 0.34174 & 0.38647 & 0.14418 & 0.61922\\\\\n",
       "\t13348 & 1 & 0.28186 & 0.34132 & 0.22807 & 0.32728\\\\\n",
       "\t6628 & 0 & 0.24789 & 0.30305 & 0.11182 & 0.49472\\\\\n",
       "\\end{tabular}\n"
      ],
      "text/markdown": [
       "\n",
       "A data.frame: 6 × 5\n",
       "\n",
       "| <!--/--> | Inland &lt;dbl&gt; | pc1 &lt;dbl&gt; | pc2 &lt;dbl&gt; | pc3 &lt;dbl&gt; | pc4 &lt;dbl&gt; |\n",
       "|---|---|---|---|---|---|\n",
       "| 11174 | 0 | 0.36244 | 0.30391 | 0.24233 | 0.45322 |\n",
       "| 1542 | 0 | 0.41258 | 0.30676 | 0.22049 | 0.57983 |\n",
       "| 3537 | 0 | 0.27174 | 0.36225 | 0.12287 | 0.57285 |\n",
       "| 12747 | 1 | 0.34174 | 0.38647 | 0.14418 | 0.61922 |\n",
       "| 13348 | 1 | 0.28186 | 0.34132 | 0.22807 | 0.32728 |\n",
       "| 6628 | 0 | 0.24789 | 0.30305 | 0.11182 | 0.49472 |\n",
       "\n"
      ],
      "text/plain": [
       "      Inland pc1     pc2     pc3     pc4    \n",
       "11174 0      0.36244 0.30391 0.24233 0.45322\n",
       "1542  0      0.41258 0.30676 0.22049 0.57983\n",
       "3537  0      0.27174 0.36225 0.12287 0.57285\n",
       "12747 1      0.34174 0.38647 0.14418 0.61922\n",
       "13348 1      0.28186 0.34132 0.22807 0.32728\n",
       "6628  0      0.24789 0.30305 0.11182 0.49472"
      ]
     },
     "metadata": {},
     "output_type": "display_data"
    }
   ],
   "source": [
    "# Apply min-max scaling to reduce the effects of the\n",
    "# more extreme values.\n",
    "\n",
    "kmtrain_scaled <- apply(kmtrain[, -1], MARGIN=2, range01)\n",
    "kmtrain_scaled <- as.data.frame(cbind(as.numeric(kmtrain$Inland), kmtrain_scaled),\n",
    "                                row.names=rownames(kmtrain))\n",
    "colnames(kmtrain_scaled) <- colnames(kmtrain)\n",
    "head(kmtrain_scaled)\n"
   ]
  },
  {
   "cell_type": "code",
   "execution_count": 32,
   "metadata": {},
   "outputs": [
    {
     "data": {
      "text/plain": [
       "      pc1             pc2             pc3             pc4       \n",
       " Min.   :0.000   Min.   :0.000   Min.   :0.000   Min.   :0.000  \n",
       " 1st Qu.:0.280   1st Qu.:0.286   1st Qu.:0.166   1st Qu.:0.383  \n",
       " Median :0.328   Median :0.338   Median :0.200   Median :0.455  \n",
       " Mean   :0.329   Mean   :0.333   Mean   :0.199   Mean   :0.450  \n",
       " 3rd Qu.:0.377   3rd Qu.:0.386   3rd Qu.:0.229   3rd Qu.:0.523  \n",
       " Max.   :1.000   Max.   :1.000   Max.   :1.000   Max.   :1.000  "
      ]
     },
     "metadata": {},
     "output_type": "display_data"
    }
   ],
   "source": [
    "summary(kmtrain_scaled[, -1])\n"
   ]
  },
  {
   "cell_type": "code",
   "execution_count": 53,
   "metadata": {},
   "outputs": [
    {
     "data": {
      "text/plain": [
       "Time difference of 0.06 secs"
      ]
     },
     "metadata": {},
     "output_type": "display_data"
    },
    {
     "name": "stdout",
     "output_type": "stream",
     "text": [
      "[1] 5503 4693\n"
     ]
    }
   ],
   "source": [
    "# Run k-means algorithm with number of clusters set to 2.\n",
    "\n",
    "set.seed(1233)\n",
    "start <- Sys.time()\n",
    "km_mod <- kmeans(kmtrain_scaled[, -1], 2, iter.max = 50, nstart = 15)\n",
    "stop <- Sys.time()\n",
    "round(stop - start, 2)\n",
    "# Time difference of 0.04 secs\n",
    "\n",
    "print(km_mod$size)\n"
   ]
  },
  {
   "cell_type": "code",
   "execution_count": 54,
   "metadata": {},
   "outputs": [
    {
     "data": {
      "text/html": [
       "<table>\n",
       "<caption>A data.frame: 6 × 2</caption>\n",
       "<thead>\n",
       "\t<tr><th></th><th scope=col>Inland</th><th scope=col>cluster</th></tr>\n",
       "\t<tr><th></th><th scope=col>&lt;dbl&gt;</th><th scope=col>&lt;dbl&gt;</th></tr>\n",
       "</thead>\n",
       "<tbody>\n",
       "\t<tr><th scope=row>11174</th><td>0</td><td>1</td></tr>\n",
       "\t<tr><th scope=row>1542</th><td>0</td><td>1</td></tr>\n",
       "\t<tr><th scope=row>3537</th><td>0</td><td>1</td></tr>\n",
       "\t<tr><th scope=row>12747</th><td>1</td><td>1</td></tr>\n",
       "\t<tr><th scope=row>13348</th><td>1</td><td>2</td></tr>\n",
       "\t<tr><th scope=row>6628</th><td>0</td><td>1</td></tr>\n",
       "</tbody>\n",
       "</table>\n"
      ],
      "text/latex": [
       "A data.frame: 6 × 2\n",
       "\\begin{tabular}{r|ll}\n",
       "  & Inland & cluster\\\\\n",
       "  & <dbl> & <dbl>\\\\\n",
       "\\hline\n",
       "\t11174 & 0 & 1\\\\\n",
       "\t1542 & 0 & 1\\\\\n",
       "\t3537 & 0 & 1\\\\\n",
       "\t12747 & 1 & 1\\\\\n",
       "\t13348 & 1 & 2\\\\\n",
       "\t6628 & 0 & 1\\\\\n",
       "\\end{tabular}\n"
      ],
      "text/markdown": [
       "\n",
       "A data.frame: 6 × 2\n",
       "\n",
       "| <!--/--> | Inland &lt;dbl&gt; | cluster &lt;dbl&gt; |\n",
       "|---|---|---|\n",
       "| 11174 | 0 | 1 |\n",
       "| 1542 | 0 | 1 |\n",
       "| 3537 | 0 | 1 |\n",
       "| 12747 | 1 | 1 |\n",
       "| 13348 | 1 | 2 |\n",
       "| 6628 | 0 | 1 |\n",
       "\n"
      ],
      "text/plain": [
       "      Inland cluster\n",
       "11174 0      1      \n",
       "1542  0      1      \n",
       "3537  0      1      \n",
       "12747 1      1      \n",
       "13348 1      2      \n",
       "6628  0      1      "
      ]
     },
     "metadata": {},
     "output_type": "display_data"
    }
   ],
   "source": [
    "datout <- as.data.frame(cbind(kmtrain_scaled$Inland, km_mod$cluster))\n",
    "colnames(datout) <- c(\"Inland\", \"cluster\")\n",
    "rownames(datout) <- rownames(kmtrain_scaled)\n",
    "head(datout)\n"
   ]
  },
  {
   "cell_type": "code",
   "execution_count": 55,
   "metadata": {},
   "outputs": [
    {
     "data": {
      "text/plain": [
       "\n",
       "   1    2 \n",
       "5503 4693 "
      ]
     },
     "metadata": {},
     "output_type": "display_data"
    }
   ],
   "source": [
    "table(as.factor(datout$cluster))\n"
   ]
  },
  {
   "cell_type": "code",
   "execution_count": 56,
   "metadata": {},
   "outputs": [
    {
     "data": {
      "text/plain": [
       "\n",
       "   0    1 \n",
       "6947 3249 "
      ]
     },
     "metadata": {},
     "output_type": "display_data"
    }
   ],
   "source": [
    "table(as.factor(datout$Inland))\n"
   ]
  },
  {
   "cell_type": "code",
   "execution_count": 57,
   "metadata": {},
   "outputs": [
    {
     "data": {
      "text/html": [
       "5503"
      ],
      "text/latex": [
       "5503"
      ],
      "text/markdown": [
       "5503"
      ],
      "text/plain": [
       "[1] 5503"
      ]
     },
     "metadata": {},
     "output_type": "display_data"
    },
    {
     "data": {
      "text/plain": [
       "\n",
       "   0    1 \n",
       "4118 1385 "
      ]
     },
     "metadata": {},
     "output_type": "display_data"
    }
   ],
   "source": [
    "dfc1 <- datout[which(datout$cluster== 1),]\n",
    "nrow(dfc1)\n",
    "(ans <- table(as.factor(dfc1$Inland)))\n"
   ]
  },
  {
   "cell_type": "code",
   "execution_count": 58,
   "metadata": {},
   "outputs": [
    {
     "data": {
      "text/plain": [
       "\n",
       "   0    1 \n",
       "2829 1864 "
      ]
     },
     "metadata": {},
     "output_type": "display_data"
    }
   ],
   "source": [
    "dfc2 <- datout[which(datout$cluster== 2),]\n",
    "table(as.factor(dfc2$Inland))\n"
   ]
  },
  {
   "cell_type": "code",
   "execution_count": 59,
   "metadata": {},
   "outputs": [
    {
     "data": {
      "text/html": [
       "0.3187"
      ],
      "text/latex": [
       "0.3187"
      ],
      "text/markdown": [
       "0.3187"
      ],
      "text/plain": [
       "[1] 0.3187"
      ]
     },
     "metadata": {},
     "output_type": "display_data"
    }
   ],
   "source": [
    "# Get percent of Inland districts in kmtrain.\n",
    "\n",
    "kmtrain_Inland_percent <- mean(kmtrain$Inland)\n",
    "round(kmtrain_Inland_percent, 4)\n"
   ]
  },
  {
   "cell_type": "code",
   "execution_count": 60,
   "metadata": {},
   "outputs": [
    {
     "name": "stdout",
     "output_type": "stream",
     "text": [
      "     0    1 class.error\n",
      "0 4118 2829      0.4072\n",
      "1 1385 1864      0.4263\n"
     ]
    },
    {
     "data": {
      "text/html": [
       "''"
      ],
      "text/latex": [
       "''"
      ],
      "text/markdown": [
       "''"
      ],
      "text/plain": [
       "[1] \"\""
      ]
     },
     "metadata": {},
     "output_type": "display_data"
    },
    {
     "name": "stdout",
     "output_type": "stream",
     "text": [
      "[1] \"initial f-score for kmeans, train set: 0.4694\"\n"
     ]
    },
    {
     "data": {
      "text/html": [
       "''"
      ],
      "text/latex": [
       "''"
      ],
      "text/markdown": [
       "''"
      ],
      "text/plain": [
       "[1] \"\""
      ]
     },
     "metadata": {},
     "output_type": "display_data"
    },
    {
     "name": "stdout",
     "output_type": "stream",
     "text": [
      "[1] \"Initial Type2 score for kmeans, train set: 0.5163\"\n"
     ]
    },
    {
     "data": {
      "text/html": [
       "''"
      ],
      "text/latex": [
       "''"
      ],
      "text/markdown": [
       "''"
      ],
      "text/plain": [
       "[1] \"\""
      ]
     },
     "metadata": {},
     "output_type": "display_data"
    },
    {
     "name": "stdout",
     "output_type": "stream",
     "text": [
      "[1] \"Accuracy: 0.5867\"\n"
     ]
    }
   ],
   "source": [
    "# See how the clusters are associated with Inland.\n",
    "\n",
    "dfout <- as.data.frame(cbind(kmtrain_scaled$Inland, km_mod$cluster))\n",
    "colnames(dfout) <- c(\"Inland\", \"cluster\")\n",
    "rownames(dfout) <- rownames(kmtrain_scaled)\n",
    "dat_c1 <- dfout[which(dfout$cluster== 1),]\n",
    "datc1_Inland_percent <- mean(dat_c1$Inland)\n",
    "\n",
    "tmpdat <- dfout\n",
    "\n",
    "c1_to_InlandYES <- FALSE\n",
    "if(datc1_Inland_percent >= kmtrain_Inland_percent) { c1_to_InlandYES <- TRUE }\n",
    "        \n",
    "if(c1_to_InlandYES) {\n",
    "    # cluster 1 is associated with the Inland districts\n",
    "    tmpdat[which(tmpdat$cluster== 1),]$Inland <- 1\n",
    "    tmpdat[which(tmpdat$cluster== 2),]$Inland <- 0\n",
    "} else {\n",
    "    # cluster 2 is associated with the Inland districts\n",
    "    tmpdat[which(tmpdat$cluster== 2),]$Inland <- 1\n",
    "    tmpdat[which(tmpdat$cluster== 1),]$Inland <- 0\n",
    "}\n",
    "        \n",
    "# Generate confusion matrix for the k-means clusters and\n",
    "# the corresponding f-score.\n",
    "preds <- as.factor(tmpdat$Inland)\n",
    "names(preds) <- rownames(tmpdat)\n",
    "ans <- get_confusion(preds, kmtrain_scaled[, \"Inland\", drop=FALSE])\n",
    "\n",
    "print(ans$matrix)\n",
    "''\n",
    "print(paste(\"initial f-score for kmeans, train set: \", as.character(ans[[2]]), sep=\"\"))\n",
    "# [1] \"initial f-score for kmeans, train set: 0.4694\"\n",
    "\n",
    "# The result returned is a Type2 score (which is a mixture\n",
    "# of accuracy and f-score).\n",
    "mat <- as.matrix(ans[[1]])\n",
    "percent_correct <- sum(diag(mat))/floor(sum(mat))\n",
    "result <- round((0.4 * percent_correct + 0.6 * ans[[2]]), 4)\n",
    "\n",
    "''\n",
    "print(paste(\"Initial Type2 score for kmeans, train set: \", as.character(result), sep=\"\"))\n",
    "# [1] \"Initial Type2 score for kmeans, train set: 0.5163\"\n",
    "\n",
    "\"\"\n",
    "print(paste(\"Accuracy: \", as.character(round(percent_correct,4)), sep=\"\"))\n",
    "# [1] \"Accuracy: 0.5867\"\n"
   ]
  },
  {
   "cell_type": "code",
   "execution_count": null,
   "metadata": {},
   "outputs": [],
   "source": [
    "### COMMENT:\n",
    "\n",
    "# The k-means algorithm has difficulty with this dataset.\n",
    "# We see from the following wss plot that k-means would \n",
    "# do somewhat better if we asked it to find 3 clusters, not\n",
    "# 2.\n"
   ]
  },
  {
   "cell_type": "code",
   "execution_count": 44,
   "metadata": {},
   "outputs": [
    {
     "data": {
      "image/png": "[encoded data removed]",
      "text/plain": [
       "Plot with title “wss plot for the CA data; no prob01 column”"
      ]
     },
     "metadata": {
      "image/png": {
       "height": 420,
       "width": 600
      }
     },
     "output_type": "display_data"
    }
   ],
   "source": [
    "# See whether 2 clusters makes sense for this dataframe.\n",
    "\n",
    "options(repr.plot.width= 10, repr.plot.height= 7)\n",
    "\n",
    "wssplot(kmtrain_scaled[, -1], title= \"wss plot for the CA data; no prob01 column\")\n"
   ]
  },
  {
   "cell_type": "code",
   "execution_count": null,
   "metadata": {},
   "outputs": [],
   "source": [
    "### COMMENT:\n",
    "\n",
    "# The above plot shows no obvious \"kink\" in the curve.\n",
    "\n",
    "# It is not at all clear that 2 subgroups\n",
    "# are optimal.  3 would seem to work just as well.\n",
    "# This is interesting because, as seen above, op_transf\n",
    "# (a variable removed from the current dataset) has 3 \n",
    "# levels: OCEAN, INLAND, and NEAR BAY.  op_transf is a \n",
    "# categorical variable that is a transformation of \n",
    "# ocean_proximity, which has 4 levels: OCEAN, NEAR OCEAN,\n",
    "# NEAR BAY, and INLAND.  In the AnalyzeCAhousingData set \n",
    "# of Jupyter notebooks, I found that NEAR OCEAN and OCEAN\n",
    "# are enough alike (in terms of predicting median_house_value)\n",
    "# that they ought to be reduced to a single level.\n",
    "\n",
    "# In any case, for this dataset, it is clear that, \n",
    "# unlike the downer cow data, there is not a natural\n",
    "# ordering into 2 subgroups.  Recall that with the cow data\n",
    "# the specific purpose of collecting variables such as \n",
    "# AST and CK was to see if they could help predict surviving\n",
    "# cows from non-survivors.  By contrast, the CA housing \n",
    "# variables I am working with were not collected with the \n",
    "# purpose of distinguishing Inland districts from districts\n",
    "# closer to the ocean.  So it is reasonable to expect that\n",
    "# there would be no obvious kink in the above curve.\n"
   ]
  },
  {
   "cell_type": "markdown",
   "metadata": {},
   "source": [
    "## Construct k-means model with prob01 from rfclf_best"
   ]
  },
  {
   "cell_type": "code",
   "execution_count": 61,
   "metadata": {},
   "outputs": [
    {
     "data": {
      "text/plain": [
       "   Min. 1st Qu.  Median    Mean 3rd Qu.    Max. \n",
       "0.00000 0.00889 0.04778 0.31911 0.83778 1.00000 "
      ]
     },
     "metadata": {},
     "output_type": "display_data"
    }
   ],
   "source": [
    "# Add a prob01 column to kmtrain.\n",
    "\n",
    "preds <- predict(rfclf_best, newdata=traindat[, rfclf_columns],\n",
    "                          type=\"prob\")\n",
    "\n",
    "# preds is a matrix with 2 columns.\n",
    "kmtrain_scaled$prob01 <- preds[, 2]\n",
    "summary(kmtrain_scaled$prob01)\n"
   ]
  },
  {
   "cell_type": "code",
   "execution_count": 54,
   "metadata": {},
   "outputs": [
    {
     "data": {
      "image/png": "[encoded data removed]",
      "text/plain": [
       "Plot with title “wss plot for the CA data with prob01 column”"
      ]
     },
     "metadata": {
      "image/png": {
       "height": 420,
       "width": 600
      }
     },
     "output_type": "display_data"
    }
   ],
   "source": [
    "# See if a 2-cluster solution now makes more sense.\n",
    "\n",
    "options(repr.plot.width= 10, repr.plot.height= 7)\n",
    "\n",
    "suppressMessages(wssplot(kmtrain_scaled[, -1], \n",
    "        title= \"wss plot for the CA data with prob01 column\"))\n"
   ]
  },
  {
   "cell_type": "code",
   "execution_count": null,
   "metadata": {},
   "outputs": [],
   "source": [
    "### COMMENT:\n",
    "\n",
    "# This is exactly the kind of curve we want to see if\n",
    "# we want to partition the data into 2 clusters.\n"
   ]
  },
  {
   "cell_type": "markdown",
   "metadata": {},
   "source": [
    "### Get scores on trainset for k-means with prob01, no weights"
   ]
  },
  {
   "cell_type": "code",
   "execution_count": 62,
   "metadata": {},
   "outputs": [
    {
     "data": {
      "text/plain": [
       "Time difference of 0.03 secs"
      ]
     },
     "metadata": {},
     "output_type": "display_data"
    },
    {
     "name": "stdout",
     "output_type": "stream",
     "text": [
      "[1] 6947 3249\n"
     ]
    }
   ],
   "source": [
    "# Run k-means algorithm with number of clusters set to 2.\n",
    "\n",
    "set.seed(1233)\n",
    "start <- Sys.time()\n",
    "kmp1 <- kmeans(kmtrain_scaled[, -1], 2, iter.max = 50, nstart = 15)\n",
    "stop <- Sys.time()\n",
    "round(stop - start, 2)\n",
    "# Time difference of 0.03 secs\n",
    "\n",
    "print(kmp1$size)\n"
   ]
  },
  {
   "cell_type": "code",
   "execution_count": 63,
   "metadata": {},
   "outputs": [
    {
     "name": "stdout",
     "output_type": "stream",
     "text": [
      "     0    1 class.error\n",
      "0 6947    0           0\n",
      "1    0 3249           0\n"
     ]
    },
    {
     "data": {
      "text/html": [
       "''"
      ],
      "text/latex": [
       "''"
      ],
      "text/markdown": [
       "''"
      ],
      "text/plain": [
       "[1] \"\""
      ]
     },
     "metadata": {},
     "output_type": "display_data"
    },
    {
     "name": "stdout",
     "output_type": "stream",
     "text": [
      "[1] \"f-score for kmeans with prob01, trainset: 1\"\n"
     ]
    },
    {
     "data": {
      "text/html": [
       "''"
      ],
      "text/latex": [
       "''"
      ],
      "text/markdown": [
       "''"
      ],
      "text/plain": [
       "[1] \"\""
      ]
     },
     "metadata": {},
     "output_type": "display_data"
    },
    {
     "name": "stdout",
     "output_type": "stream",
     "text": [
      "[1] \"Type2 score for kmeans with prob01, trainset: 1\"\n"
     ]
    },
    {
     "data": {
      "text/html": [
       "''"
      ],
      "text/latex": [
       "''"
      ],
      "text/markdown": [
       "''"
      ],
      "text/plain": [
       "[1] \"\""
      ]
     },
     "metadata": {},
     "output_type": "display_data"
    },
    {
     "name": "stdout",
     "output_type": "stream",
     "text": [
      "[1] \"Accuracy: 1\"\n"
     ]
    }
   ],
   "source": [
    "# See how the clusters are associated with Inland.\n",
    "\n",
    "dfout <- as.data.frame(cbind(kmtrain_scaled$Inland, kmp1$cluster))\n",
    "colnames(dfout) <- c(\"Inland\", \"cluster\")\n",
    "rownames(dfout) <- rownames(kmtrain_scaled)\n",
    "dat_c1 <- dfout[which(dfout$cluster== 1),]\n",
    "datc1_Inland_percent <- mean(dat_c1$Inland)\n",
    "\n",
    "tmpdat <- dfout\n",
    "\n",
    "c1_to_InlandYES <- FALSE\n",
    "if(datc1_Inland_percent >= kmtrain_Inland_percent) { c1_to_InlandYES <- TRUE }\n",
    "        \n",
    "if(c1_to_InlandYES) {\n",
    "    # cluster 1 is associated with the Inland districts\n",
    "    tmpdat[which(tmpdat$cluster== 1),]$Inland <- 1\n",
    "    tmpdat[which(tmpdat$cluster== 2),]$Inland <- 0\n",
    "} else {\n",
    "    # cluster 2 is associated with the Inland districts\n",
    "    tmpdat[which(tmpdat$cluster== 2),]$Inland <- 1\n",
    "    tmpdat[which(tmpdat$cluster== 1),]$Inland <- 0\n",
    "}\n",
    "        \n",
    "preds <- as.factor(tmpdat$Inland)\n",
    "names(preds) <- rownames(tmpdat)\n",
    "ans <- get_confusion(preds, kmtrain_scaled[, \"Inland\", drop=FALSE])\n",
    "\n",
    "print(ans$matrix)\n",
    "''\n",
    "print(paste(\"f-score for kmeans with prob01, trainset: \", as.character(ans[[2]]), sep=\"\"))\n",
    "\n",
    "mat <- as.matrix(ans[[1]])\n",
    "percent_correct <- sum(diag(mat))/floor(sum(mat))\n",
    "result <- round((0.4 * percent_correct + 0.6 * ans[[2]]), 4)\n",
    "\n",
    "''\n",
    "print(paste(\"Type2 score for kmeans with prob01, trainset: \", as.character(result), sep=\"\"))\n",
    "\n",
    "\"\"\n",
    "print(paste(\"Accuracy: \", as.character(round(percent_correct,4)), sep=\"\"))\n"
   ]
  },
  {
   "cell_type": "markdown",
   "metadata": {},
   "source": [
    "### Get scores on testset for k-means with prob01, no weights"
   ]
  },
  {
   "cell_type": "code",
   "execution_count": 64,
   "metadata": {},
   "outputs": [],
   "source": [
    "# Add a prob01 column to testdat.\n",
    "\n",
    "kmtest <- testdat\n",
    "\n",
    "preds <- predict(rfclf_best, newdata=testdat[, rfclf_columns],\n",
    "                          type=\"prob\")\n",
    "\n",
    "# preds is a matrix with 2 columns.\n",
    "kmtest$prob01 <- preds[, 2]\n"
   ]
  },
  {
   "cell_type": "code",
   "execution_count": 65,
   "metadata": {},
   "outputs": [
    {
     "data": {
      "text/html": [
       "<table>\n",
       "<caption>A matrix: 2 × 5 of type dbl</caption>\n",
       "<thead>\n",
       "\t<tr><th></th><th scope=col>pc1</th><th scope=col>pc2</th><th scope=col>pc3</th><th scope=col>pc4</th><th scope=col>prob01</th></tr>\n",
       "</thead>\n",
       "<tbody>\n",
       "\t<tr><th scope=row>1</th><td>0.31507</td><td>0.30647</td><td>0.20443</td><td>0.46747</td><td>0.045566</td></tr>\n",
       "\t<tr><th scope=row>2</th><td>0.35892</td><td>0.38838</td><td>0.18692</td><td>0.41122</td><td>0.903993</td></tr>\n",
       "</tbody>\n",
       "</table>\n"
      ],
      "text/latex": [
       "A matrix: 2 × 5 of type dbl\n",
       "\\begin{tabular}{r|lllll}\n",
       "  & pc1 & pc2 & pc3 & pc4 & prob01\\\\\n",
       "\\hline\n",
       "\t1 & 0.31507 & 0.30647 & 0.20443 & 0.46747 & 0.045566\\\\\n",
       "\t2 & 0.35892 & 0.38838 & 0.18692 & 0.41122 & 0.903993\\\\\n",
       "\\end{tabular}\n"
      ],
      "text/markdown": [
       "\n",
       "A matrix: 2 × 5 of type dbl\n",
       "\n",
       "| <!--/--> | pc1 | pc2 | pc3 | pc4 | prob01 |\n",
       "|---|---|---|---|---|---|\n",
       "| 1 | 0.31507 | 0.30647 | 0.20443 | 0.46747 | 0.045566 |\n",
       "| 2 | 0.35892 | 0.38838 | 0.18692 | 0.41122 | 0.903993 |\n",
       "\n"
      ],
      "text/plain": [
       "  pc1     pc2     pc3     pc4     prob01  \n",
       "1 0.31507 0.30647 0.20443 0.46747 0.045566\n",
       "2 0.35892 0.38838 0.18692 0.41122 0.903993"
      ]
     },
     "metadata": {},
     "output_type": "display_data"
    }
   ],
   "source": [
    "kmp1$centers\n"
   ]
  },
  {
   "cell_type": "code",
   "execution_count": 66,
   "metadata": {},
   "outputs": [],
   "source": [
    "# Function for obtaining a set of scores on the testset data\n",
    "# using kmp1 as the classifier.\n",
    "\n",
    "### NOTE: the value of c1_to_InlandYES from above is being  \n",
    "### used in the following function.\n",
    "\n",
    "get_testdatScores_kmp1 <- function(seedv, dat) {\n",
    "    \n",
    "    n_smp <- 4000\n",
    "    \n",
    "    seedv_len <- length(seedv)\n",
    "    datout <- rep(NA, 5 * seedv_len)\n",
    "    dim(datout) <- c(seedv_len, 5)\n",
    "    datout <- as.data.frame(datout)\n",
    "    colnames(datout) <- c(\"fscore\",\"Acc\",\"Type2\", \"FN\",\"FP\")\n",
    "    rownames(datout) <- as.character(seedv)\n",
    "    \n",
    "    # Using model kmp1 from above.\n",
    "    ctr_list <- vector(\"list\", length= n_smp)\n",
    "    for(i in 1:n_smp) {\n",
    "        ctr_list[[i]] <- kmp1$centers\n",
    "    }\n",
    "    \n",
    "    for(h in 1:seedv_len) {\n",
    "        # shuffle dat\n",
    "        cur_seed <- seedv[h]\n",
    "        set.seed(cur_seed)\n",
    "        # It is expected that dat is testdat, which has 10K rcds\n",
    "        smp <- sample(rownames(dat), n_smp, replace= FALSE)\n",
    "        df <- dat[smp,]\n",
    "        \n",
    "        # CAUTION: df has the prob01 column.\n",
    "        \n",
    "        # Using model pca (constructed from the training set).\n",
    "        df_pca <- predict(pca, df[, km_predictors])\n",
    "        df02 <- cbind(as.data.frame(df_pca), df$prob01)\n",
    "        \n",
    "        # Apply min-max scaling to df02.\n",
    "        df02_scaled <- apply(df02, MARGIN=2, range01)\n",
    "        df02_scaled <- as.data.frame(df02_scaled,\n",
    "                                     row.names=rownames(df))\n",
    "        colnames(df02_scaled) <- colnames(kmp1$centers)\n",
    "        \n",
    "        \n",
    "        # Each element of the following list is a row of df.\n",
    "        df02_asList <- split(df02_scaled[, colnames(kmp1$centers)], seq(n_smp))\n",
    "        names(ctr_list) <- rownames(df)\n",
    "    \n",
    "        # Get the predictions for df.\n",
    "        preds <- mcmapply(getCluster, df02_asList, ctr_list,\n",
    "                          SIMPLIFY=TRUE, mc.cores=6)\n",
    "        df$cluster <- as.numeric(preds)\n",
    "    \n",
    "        df$pred_Inland <- NA\n",
    "        if(c1_to_InlandYES) {\n",
    "            df[which(df$cluster==1),]$pred_Inland <- 1\n",
    "            df[which(df$cluster==2),]$pred_Inland <- 0\n",
    "        } else {\n",
    "            df[which(df$cluster==1),]$pred_Inland <- 0\n",
    "            df[which(df$cluster==2),]$pred_Inland <- 1\n",
    "        }\n",
    "    \n",
    "        # Generate confusion matrix.\n",
    "        preds <- as.factor(df$pred_Inland)\n",
    "        names(preds) <- rownames(df)\n",
    "        ans <- get_confusion(preds, df[, \"Inland\", drop=FALSE])\n",
    "        \n",
    "        mat <- as.matrix(ans[[1]])\n",
    "        fscore <- round(as.numeric(ans[[2]]), 4)\n",
    "        acc <- round(sum(diag(mat))/floor(sum(mat)), 4)\n",
    "        type2 <- round((0.4 * acc + 0.6 * ans[[2]]), 4)\n",
    "        FN <- as.numeric(mat[2,1])\n",
    "        FP <- as.numeric(mat[1,2])\n",
    "        datout[as.character(cur_seed), 1:5] <- c(fscore,acc,type2,FN,FP)\n",
    "    }\n",
    "    return(datout)\n",
    "}\n"
   ]
  },
  {
   "cell_type": "code",
   "execution_count": 67,
   "metadata": {},
   "outputs": [
    {
     "data": {
      "text/html": [
       "'Start time: 2021-04-27 22:10:36'"
      ],
      "text/latex": [
       "'Start time: 2021-04-27 22:10:36'"
      ],
      "text/markdown": [
       "'Start time: 2021-04-27 22:10:36'"
      ],
      "text/plain": [
       "[1] \"Start time: 2021-04-27 22:10:36\""
      ]
     },
     "metadata": {},
     "output_type": "display_data"
    },
    {
     "data": {
      "text/plain": [
       "Time difference of 7.81 mins"
      ]
     },
     "metadata": {},
     "output_type": "display_data"
    }
   ],
   "source": [
    "# Get kmp1's scores on the testset data.  For each of\n",
    "# the 250 seeds, I sample 4K (no replacement) from the 10K\n",
    "# set of testdat records.\n",
    "\n",
    "set.seed(1821)\n",
    "seed_vector <- sample(1:9999, 250, replace=FALSE)\n",
    "\n",
    "start <- Sys.time()\n",
    "paste(\"Start time: \", start, sep=\"\")\n",
    "dat_result <- get_testdatScores_kmp1(seed_vector, kmtest)\n",
    "stop <- Sys.time()\n",
    "round(stop - start, 2)\n",
    "# Time difference of 7.81 mins\n"
   ]
  },
  {
   "cell_type": "code",
   "execution_count": 68,
   "metadata": {},
   "outputs": [
    {
     "data": {
      "text/html": [
       "<style>\n",
       ".list-inline {list-style: none; margin:0; padding: 0}\n",
       ".list-inline>li {display: inline-block}\n",
       ".list-inline>li:not(:last-child)::after {content: \"\\00b7\"; padding: 0 .5ex}\n",
       "</style>\n",
       "<ol class=list-inline><li>250</li><li>5</li></ol>\n"
      ],
      "text/latex": [
       "\\begin{enumerate*}\n",
       "\\item 250\n",
       "\\item 5\n",
       "\\end{enumerate*}\n"
      ],
      "text/markdown": [
       "1. 250\n",
       "2. 5\n",
       "\n",
       "\n"
      ],
      "text/plain": [
       "[1] 250   5"
      ]
     },
     "metadata": {},
     "output_type": "display_data"
    },
    {
     "data": {
      "text/html": [
       "<table>\n",
       "<caption>A data.frame: 6 × 5</caption>\n",
       "<thead>\n",
       "\t<tr><th></th><th scope=col>fscore</th><th scope=col>Acc</th><th scope=col>Type2</th><th scope=col>FN</th><th scope=col>FP</th></tr>\n",
       "\t<tr><th></th><th scope=col>&lt;dbl&gt;</th><th scope=col>&lt;dbl&gt;</th><th scope=col>&lt;dbl&gt;</th><th scope=col>&lt;dbl&gt;</th><th scope=col>&lt;dbl&gt;</th></tr>\n",
       "</thead>\n",
       "<tbody>\n",
       "\t<tr><th scope=row>5934</th><td>0.8348</td><td>0.8960</td><td>0.8593</td><td>226</td><td>190</td></tr>\n",
       "\t<tr><th scope=row>1953</th><td>0.8437</td><td>0.8995</td><td>0.8660</td><td>215</td><td>187</td></tr>\n",
       "\t<tr><th scope=row>7591</th><td>0.8325</td><td>0.8928</td><td>0.8566</td><td>259</td><td>170</td></tr>\n",
       "\t<tr><th scope=row>1038</th><td>0.8364</td><td>0.8985</td><td>0.8612</td><td>231</td><td>175</td></tr>\n",
       "\t<tr><th scope=row>49</th><td>0.8326</td><td>0.8922</td><td>0.8564</td><td>229</td><td>202</td></tr>\n",
       "\t<tr><th scope=row>3203</th><td>0.8362</td><td>0.8968</td><td>0.8604</td><td>225</td><td>188</td></tr>\n",
       "</tbody>\n",
       "</table>\n"
      ],
      "text/latex": [
       "A data.frame: 6 × 5\n",
       "\\begin{tabular}{r|lllll}\n",
       "  & fscore & Acc & Type2 & FN & FP\\\\\n",
       "  & <dbl> & <dbl> & <dbl> & <dbl> & <dbl>\\\\\n",
       "\\hline\n",
       "\t5934 & 0.8348 & 0.8960 & 0.8593 & 226 & 190\\\\\n",
       "\t1953 & 0.8437 & 0.8995 & 0.8660 & 215 & 187\\\\\n",
       "\t7591 & 0.8325 & 0.8928 & 0.8566 & 259 & 170\\\\\n",
       "\t1038 & 0.8364 & 0.8985 & 0.8612 & 231 & 175\\\\\n",
       "\t49 & 0.8326 & 0.8922 & 0.8564 & 229 & 202\\\\\n",
       "\t3203 & 0.8362 & 0.8968 & 0.8604 & 225 & 188\\\\\n",
       "\\end{tabular}\n"
      ],
      "text/markdown": [
       "\n",
       "A data.frame: 6 × 5\n",
       "\n",
       "| <!--/--> | fscore &lt;dbl&gt; | Acc &lt;dbl&gt; | Type2 &lt;dbl&gt; | FN &lt;dbl&gt; | FP &lt;dbl&gt; |\n",
       "|---|---|---|---|---|---|\n",
       "| 5934 | 0.8348 | 0.8960 | 0.8593 | 226 | 190 |\n",
       "| 1953 | 0.8437 | 0.8995 | 0.8660 | 215 | 187 |\n",
       "| 7591 | 0.8325 | 0.8928 | 0.8566 | 259 | 170 |\n",
       "| 1038 | 0.8364 | 0.8985 | 0.8612 | 231 | 175 |\n",
       "| 49 | 0.8326 | 0.8922 | 0.8564 | 229 | 202 |\n",
       "| 3203 | 0.8362 | 0.8968 | 0.8604 | 225 | 188 |\n",
       "\n"
      ],
      "text/plain": [
       "     fscore Acc    Type2  FN  FP \n",
       "5934 0.8348 0.8960 0.8593 226 190\n",
       "1953 0.8437 0.8995 0.8660 215 187\n",
       "7591 0.8325 0.8928 0.8566 259 170\n",
       "1038 0.8364 0.8985 0.8612 231 175\n",
       "49   0.8326 0.8922 0.8564 229 202\n",
       "3203 0.8362 0.8968 0.8604 225 188"
      ]
     },
     "metadata": {},
     "output_type": "display_data"
    }
   ],
   "source": [
    "dim(dat_result)\n",
    "head(dat_result)\n"
   ]
  },
  {
   "cell_type": "code",
   "execution_count": 69,
   "metadata": {},
   "outputs": [
    {
     "data": {
      "text/html": [
       "'fscore mean: 0.8348'"
      ],
      "text/latex": [
       "'fscore mean: 0.8348'"
      ],
      "text/markdown": [
       "'fscore mean: 0.8348'"
      ],
      "text/plain": [
       "[1] \"fscore mean: 0.8348\""
      ]
     },
     "metadata": {},
     "output_type": "display_data"
    },
    {
     "data": {
      "text/html": [
       "'fscore StdDev: 0.0061'"
      ],
      "text/latex": [
       "'fscore StdDev: 0.0061'"
      ],
      "text/markdown": [
       "'fscore StdDev: 0.0061'"
      ],
      "text/plain": [
       "[1] \"fscore StdDev: 0.0061\""
      ]
     },
     "metadata": {},
     "output_type": "display_data"
    },
    {
     "data": {
      "text/html": [
       "''"
      ],
      "text/latex": [
       "''"
      ],
      "text/markdown": [
       "''"
      ],
      "text/plain": [
       "[1] \"\""
      ]
     },
     "metadata": {},
     "output_type": "display_data"
    },
    {
     "data": {
      "text/plain": [
       "   Min. 1st Qu.  Median    Mean 3rd Qu.    Max. \n",
       "  0.820   0.831   0.835   0.835   0.839   0.852 "
      ]
     },
     "metadata": {},
     "output_type": "display_data"
    }
   ],
   "source": [
    "fscore_mean <- round(mean(dat_result$fscore), 4)\n",
    "fscore_sd <- round(sd(dat_result$fscore), 4)\n",
    "paste0(\"fscore mean: \", as.character(fscore_mean))\n",
    "# 0.8348\n",
    "paste0(\"fscore StdDev: \", as.character(fscore_sd))\n",
    "# 0.0061\n",
    "\"\"\n",
    "summary(dat_result$fscore)\n"
   ]
  },
  {
   "cell_type": "code",
   "execution_count": 70,
   "metadata": {},
   "outputs": [
    {
     "data": {
      "text/html": [
       "'accuracy mean: 0.8957'"
      ],
      "text/latex": [
       "'accuracy mean: 0.8957'"
      ],
      "text/markdown": [
       "'accuracy mean: 0.8957'"
      ],
      "text/plain": [
       "[1] \"accuracy mean: 0.8957\""
      ]
     },
     "metadata": {},
     "output_type": "display_data"
    },
    {
     "data": {
      "text/html": [
       "'accuracy StdDev: 0.0037'"
      ],
      "text/latex": [
       "'accuracy StdDev: 0.0037'"
      ],
      "text/markdown": [
       "'accuracy StdDev: 0.0037'"
      ],
      "text/plain": [
       "[1] \"accuracy StdDev: 0.0037\""
      ]
     },
     "metadata": {},
     "output_type": "display_data"
    },
    {
     "data": {
      "text/html": [
       "''"
      ],
      "text/latex": [
       "''"
      ],
      "text/markdown": [
       "''"
      ],
      "text/plain": [
       "[1] \"\""
      ]
     },
     "metadata": {},
     "output_type": "display_data"
    },
    {
     "data": {
      "text/plain": [
       "   Min. 1st Qu.  Median    Mean 3rd Qu.    Max. \n",
       "  0.886   0.893   0.895   0.896   0.898   0.908 "
      ]
     },
     "metadata": {},
     "output_type": "display_data"
    }
   ],
   "source": [
    "Acc_mean <- round(mean(dat_result$Acc), 4)\n",
    "Acc_sd <- round(sd(dat_result$Acc), 4)\n",
    "paste0(\"accuracy mean: \", as.character(Acc_mean))\n",
    "# 0.8957\n",
    "paste0(\"accuracy StdDev: \", as.character(Acc_sd))\n",
    "# 0.0037\n",
    "\"\"\n",
    "summary(dat_result$Acc)\n"
   ]
  },
  {
   "cell_type": "code",
   "execution_count": 71,
   "metadata": {},
   "outputs": [
    {
     "data": {
      "text/html": [
       "'Type2 mean: 0.8592'"
      ],
      "text/latex": [
       "'Type2 mean: 0.8592'"
      ],
      "text/markdown": [
       "'Type2 mean: 0.8592'"
      ],
      "text/plain": [
       "[1] \"Type2 mean: 0.8592\""
      ]
     },
     "metadata": {},
     "output_type": "display_data"
    },
    {
     "data": {
      "text/html": [
       "'Type2 StdDev: 0.005'"
      ],
      "text/latex": [
       "'Type2 StdDev: 0.005'"
      ],
      "text/markdown": [
       "'Type2 StdDev: 0.005'"
      ],
      "text/plain": [
       "[1] \"Type2 StdDev: 0.005\""
      ]
     },
     "metadata": {},
     "output_type": "display_data"
    },
    {
     "data": {
      "text/html": [
       "''"
      ],
      "text/latex": [
       "''"
      ],
      "text/markdown": [
       "''"
      ],
      "text/plain": [
       "[1] \"\""
      ]
     },
     "metadata": {},
     "output_type": "display_data"
    },
    {
     "data": {
      "text/plain": [
       "   Min. 1st Qu.  Median    Mean 3rd Qu.    Max. \n",
       "  0.847   0.856   0.859   0.859   0.862   0.874 "
      ]
     },
     "metadata": {},
     "output_type": "display_data"
    }
   ],
   "source": [
    "Type2_mean <- round(mean(dat_result$Type2), 4)\n",
    "Type2_sd <- round(sd(dat_result$Type2), 4)\n",
    "paste0(\"Type2 mean: \", as.character(Type2_mean))\n",
    "# 0.8592\n",
    "paste0(\"Type2 StdDev: \", as.character(Type2_sd))\n",
    "# 0.005\n",
    "\"\"\n",
    "summary(dat_result$Type2)\n"
   ]
  },
  {
   "cell_type": "code",
   "execution_count": 72,
   "metadata": {},
   "outputs": [
    {
     "data": {
      "text/html": [
       "'FN mean: 233.07'"
      ],
      "text/latex": [
       "'FN mean: 233.07'"
      ],
      "text/markdown": [
       "'FN mean: 233.07'"
      ],
      "text/plain": [
       "[1] \"FN mean: 233.07\""
      ]
     },
     "metadata": {},
     "output_type": "display_data"
    },
    {
     "data": {
      "text/html": [
       "'FN StdDev: 11.34'"
      ],
      "text/latex": [
       "'FN StdDev: 11.34'"
      ],
      "text/markdown": [
       "'FN StdDev: 11.34'"
      ],
      "text/plain": [
       "[1] \"FN StdDev: 11.34\""
      ]
     },
     "metadata": {},
     "output_type": "display_data"
    },
    {
     "data": {
      "text/html": [
       "''"
      ],
      "text/latex": [
       "''"
      ],
      "text/markdown": [
       "''"
      ],
      "text/plain": [
       "[1] \"\""
      ]
     },
     "metadata": {},
     "output_type": "display_data"
    },
    {
     "data": {
      "text/plain": [
       "   Min. 1st Qu.  Median    Mean 3rd Qu.    Max. \n",
       "    195     225     233     233     240     262 "
      ]
     },
     "metadata": {},
     "output_type": "display_data"
    }
   ],
   "source": [
    "FN_mean <- round(mean(dat_result$FN), 2)\n",
    "FN_sd <- round(sd(dat_result$FN), 2)\n",
    "paste0(\"FN mean: \", as.character(FN_mean))\n",
    "# 233.07\n",
    "paste0(\"FN StdDev: \", as.character(FN_sd))\n",
    "#  11.34\n",
    "\"\"\n",
    "summary(dat_result$FN)\n"
   ]
  },
  {
   "cell_type": "code",
   "execution_count": 73,
   "metadata": {},
   "outputs": [
    {
     "data": {
      "text/html": [
       "'FP mean: 184.21'"
      ],
      "text/latex": [
       "'FP mean: 184.21'"
      ],
      "text/markdown": [
       "'FP mean: 184.21'"
      ],
      "text/plain": [
       "[1] \"FP mean: 184.21\""
      ]
     },
     "metadata": {},
     "output_type": "display_data"
    },
    {
     "data": {
      "text/html": [
       "'FP StdDev: 10.59'"
      ],
      "text/latex": [
       "'FP StdDev: 10.59'"
      ],
      "text/markdown": [
       "'FP StdDev: 10.59'"
      ],
      "text/plain": [
       "[1] \"FP StdDev: 10.59\""
      ]
     },
     "metadata": {},
     "output_type": "display_data"
    },
    {
     "data": {
      "text/html": [
       "''"
      ],
      "text/latex": [
       "''"
      ],
      "text/markdown": [
       "''"
      ],
      "text/plain": [
       "[1] \"\""
      ]
     },
     "metadata": {},
     "output_type": "display_data"
    },
    {
     "data": {
      "text/plain": [
       "   Min. 1st Qu.  Median    Mean 3rd Qu.    Max. \n",
       "    157     175     185     184     192     210 "
      ]
     },
     "metadata": {},
     "output_type": "display_data"
    }
   ],
   "source": [
    "FP_mean <- round(mean(dat_result$FP), 2)\n",
    "FP_sd <- round(sd(dat_result$FP), 2)\n",
    "paste0(\"FP mean: \", as.character(FP_mean))\n",
    "# 184.21\n",
    "paste0(\"FP StdDev: \", as.character(FP_sd))\n",
    "#  10.59\n",
    "\"\"\n",
    "summary(dat_result$FP)\n"
   ]
  },
  {
   "cell_type": "markdown",
   "metadata": {},
   "source": [
    "### Comments on kmp1, no weights"
   ]
  },
  {
   "cell_type": "markdown",
   "metadata": {},
   "source": [
    "The kmp1 model is competitive with rfclf_best, our current best model.  On the testset data, rfclf_best has an accuracy score of 0.8979; for kmp1, this score is 0.8957.  rfclf_best has a Type2 score of 0.8611; for kmp1, this score is 0.8592.\n",
    "\n",
    "We should be able to improve the kmp1 model using weights obtained through cross-validation."
   ]
  },
  {
   "cell_type": "markdown",
   "metadata": {},
   "source": [
    "# Section 3: Use 5 principal components with prob01, no weights"
   ]
  },
  {
   "cell_type": "markdown",
   "metadata": {},
   "source": [
    "See if we can improve the k-means model by adding a fifth principal component.  The downside of doing this is the additional effort involved in finding optimal weights.  However, if we get a noticeable improvement over the rfclf_best model, we can perhaps forego the weights."
   ]
  },
  {
   "cell_type": "code",
   "execution_count": 19,
   "metadata": {},
   "outputs": [
    {
     "data": {
      "text/plain": [
       "Importance of first k=5 (out of 6) components:\n",
       "                         PC1   PC2   PC3   PC4    PC5\n",
       "Standard deviation     1.415 1.203 0.974 0.845 0.7200\n",
       "Proportion of Variance 0.334 0.241 0.158 0.119 0.0864\n",
       "Cumulative Proportion  0.334 0.575 0.733 0.852 0.9383"
      ]
     },
     "metadata": {},
     "output_type": "display_data"
    }
   ],
   "source": [
    "pca5 <- prcomp(traindat[, km_predictors], center=TRUE, scale.=TRUE,\n",
    "              rank.=5, retx=TRUE)\n",
    "summary(pca5)\n"
   ]
  },
  {
   "cell_type": "code",
   "execution_count": 21,
   "metadata": {},
   "outputs": [
    {
     "data": {
      "text/html": [
       "<table>\n",
       "<caption>A data.frame: 6 × 6</caption>\n",
       "<thead>\n",
       "\t<tr><th></th><th scope=col>Inland</th><th scope=col>pc1</th><th scope=col>pc2</th><th scope=col>pc3</th><th scope=col>pc4</th><th scope=col>pc5</th></tr>\n",
       "\t<tr><th></th><th scope=col>&lt;dbl&gt;</th><th scope=col>&lt;dbl&gt;</th><th scope=col>&lt;dbl&gt;</th><th scope=col>&lt;dbl&gt;</th><th scope=col>&lt;dbl&gt;</th><th scope=col>&lt;dbl&gt;</th></tr>\n",
       "</thead>\n",
       "<tbody>\n",
       "\t<tr><th scope=row>11174</th><td>0</td><td> 0.62155</td><td>-0.40828</td><td> 0.78395</td><td> 0.02940</td><td>-0.606426</td></tr>\n",
       "\t<tr><th scope=row>1542</th><td>0</td><td> 1.55471</td><td>-0.36770</td><td> 0.39013</td><td> 1.04186</td><td>-0.262446</td></tr>\n",
       "\t<tr><th scope=row>3537</th><td>0</td><td>-1.06642</td><td> 0.42280</td><td>-1.37004</td><td> 0.98605</td><td>-0.119789</td></tr>\n",
       "\t<tr><th scope=row>12747</th><td>1</td><td> 0.23624</td><td> 0.76784</td><td>-0.98573</td><td> 1.35681</td><td>-0.857062</td></tr>\n",
       "\t<tr><th scope=row>13348</th><td>1</td><td>-0.87807</td><td> 0.12463</td><td> 0.52692</td><td>-0.97772</td><td>-0.747739</td></tr>\n",
       "\t<tr><th scope=row>6628</th><td>0</td><td>-1.51037</td><td>-0.42055</td><td>-1.56922</td><td> 0.36121</td><td> 0.092308</td></tr>\n",
       "</tbody>\n",
       "</table>\n"
      ],
      "text/latex": [
       "A data.frame: 6 × 6\n",
       "\\begin{tabular}{r|llllll}\n",
       "  & Inland & pc1 & pc2 & pc3 & pc4 & pc5\\\\\n",
       "  & <dbl> & <dbl> & <dbl> & <dbl> & <dbl> & <dbl>\\\\\n",
       "\\hline\n",
       "\t11174 & 0 &  0.62155 & -0.40828 &  0.78395 &  0.02940 & -0.606426\\\\\n",
       "\t1542 & 0 &  1.55471 & -0.36770 &  0.39013 &  1.04186 & -0.262446\\\\\n",
       "\t3537 & 0 & -1.06642 &  0.42280 & -1.37004 &  0.98605 & -0.119789\\\\\n",
       "\t12747 & 1 &  0.23624 &  0.76784 & -0.98573 &  1.35681 & -0.857062\\\\\n",
       "\t13348 & 1 & -0.87807 &  0.12463 &  0.52692 & -0.97772 & -0.747739\\\\\n",
       "\t6628 & 0 & -1.51037 & -0.42055 & -1.56922 &  0.36121 &  0.092308\\\\\n",
       "\\end{tabular}\n"
      ],
      "text/markdown": [
       "\n",
       "A data.frame: 6 × 6\n",
       "\n",
       "| <!--/--> | Inland &lt;dbl&gt; | pc1 &lt;dbl&gt; | pc2 &lt;dbl&gt; | pc3 &lt;dbl&gt; | pc4 &lt;dbl&gt; | pc5 &lt;dbl&gt; |\n",
       "|---|---|---|---|---|---|---|\n",
       "| 11174 | 0 |  0.62155 | -0.40828 |  0.78395 |  0.02940 | -0.606426 |\n",
       "| 1542 | 0 |  1.55471 | -0.36770 |  0.39013 |  1.04186 | -0.262446 |\n",
       "| 3537 | 0 | -1.06642 |  0.42280 | -1.37004 |  0.98605 | -0.119789 |\n",
       "| 12747 | 1 |  0.23624 |  0.76784 | -0.98573 |  1.35681 | -0.857062 |\n",
       "| 13348 | 1 | -0.87807 |  0.12463 |  0.52692 | -0.97772 | -0.747739 |\n",
       "| 6628 | 0 | -1.51037 | -0.42055 | -1.56922 |  0.36121 |  0.092308 |\n",
       "\n"
      ],
      "text/plain": [
       "      Inland pc1      pc2      pc3      pc4      pc5      \n",
       "11174 0       0.62155 -0.40828  0.78395  0.02940 -0.606426\n",
       "1542  0       1.55471 -0.36770  0.39013  1.04186 -0.262446\n",
       "3537  0      -1.06642  0.42280 -1.37004  0.98605 -0.119789\n",
       "12747 1       0.23624  0.76784 -0.98573  1.35681 -0.857062\n",
       "13348 1      -0.87807  0.12463  0.52692 -0.97772 -0.747739\n",
       "6628  0      -1.51037 -0.42055 -1.56922  0.36121  0.092308"
      ]
     },
     "metadata": {},
     "output_type": "display_data"
    }
   ],
   "source": [
    "kmtrain <- cbind(traindat$Inland, as.data.frame(pca5$x))\n",
    "rownames(kmtrain) <- rownames(traindat)\n",
    "colnames(kmtrain) <- c(\"Inland\",\"pc1\",\"pc2\",\"pc3\",\"pc4\",\"pc5\")\n",
    "head(kmtrain)\n"
   ]
  },
  {
   "cell_type": "markdown",
   "metadata": {},
   "source": [
    "### Construct initial k-means model"
   ]
  },
  {
   "cell_type": "code",
   "execution_count": 22,
   "metadata": {},
   "outputs": [],
   "source": [
    "# Apply min-max scaling to reduce the effects of the\n",
    "# more extreme values.\n",
    "\n",
    "kmtrain_scaled <- apply(kmtrain[, -1], MARGIN=2, range01)\n",
    "kmtrain_scaled <- as.data.frame(cbind(as.numeric(kmtrain$Inland), kmtrain_scaled),\n",
    "                                row.names=rownames(kmtrain))\n",
    "colnames(kmtrain_scaled) <- colnames(kmtrain)\n"
   ]
  },
  {
   "cell_type": "code",
   "execution_count": 24,
   "metadata": {},
   "outputs": [
    {
     "data": {
      "text/html": [
       "0.3187"
      ],
      "text/latex": [
       "0.3187"
      ],
      "text/markdown": [
       "0.3187"
      ],
      "text/plain": [
       "[1] 0.3187"
      ]
     },
     "metadata": {},
     "output_type": "display_data"
    }
   ],
   "source": [
    "# Get percent of Inland districts in kmtrain.\n",
    "\n",
    "kmtrain_Inland_percent <- mean(kmtrain$Inland)\n",
    "round(kmtrain_Inland_percent, 4)\n"
   ]
  },
  {
   "cell_type": "code",
   "execution_count": 26,
   "metadata": {},
   "outputs": [
    {
     "data": {
      "text/plain": [
       "   Min. 1st Qu.  Median    Mean 3rd Qu.    Max. \n",
       "0.00000 0.00889 0.04778 0.31911 0.83778 1.00000 "
      ]
     },
     "metadata": {},
     "output_type": "display_data"
    }
   ],
   "source": [
    "# Add a prob01 column to kmtrain.\n",
    "\n",
    "preds <- predict(rfclf_best, newdata=traindat[, rfclf_columns],\n",
    "                          type=\"prob\")\n",
    "\n",
    "# preds is a matrix with 2 columns.\n",
    "kmtrain_scaled$prob01 <- preds[, 2]\n",
    "summary(kmtrain_scaled$prob01)\n"
   ]
  },
  {
   "cell_type": "markdown",
   "metadata": {},
   "source": [
    "### Get scores on trainset for k-means with prob01, no weights"
   ]
  },
  {
   "cell_type": "code",
   "execution_count": 28,
   "metadata": {},
   "outputs": [
    {
     "name": "stdout",
     "output_type": "stream",
     "text": [
      "[1] 6947 3249\n"
     ]
    }
   ],
   "source": [
    "# Run k-means algorithm with number of clusters set to 2.\n",
    "\n",
    "set.seed(1233)\n",
    "start <- Sys.time()\n",
    "kmp1 <- kmeans(kmtrain_scaled[, -1], 2, iter.max = 50, nstart = 15)\n",
    "stop <- Sys.time()\n",
    "# round(stop - start, 2)\n",
    "# Time difference of 0.03 secs\n",
    "\n",
    "print(kmp1$size)\n"
   ]
  },
  {
   "cell_type": "code",
   "execution_count": 29,
   "metadata": {},
   "outputs": [
    {
     "name": "stdout",
     "output_type": "stream",
     "text": [
      "     0    1 class.error\n",
      "0 6947    0           0\n",
      "1    0 3249           0\n"
     ]
    },
    {
     "data": {
      "text/html": [
       "''"
      ],
      "text/latex": [
       "''"
      ],
      "text/markdown": [
       "''"
      ],
      "text/plain": [
       "[1] \"\""
      ]
     },
     "metadata": {},
     "output_type": "display_data"
    },
    {
     "name": "stdout",
     "output_type": "stream",
     "text": [
      "[1] \"f-score for kmeans with prob01, trainset: 1\"\n"
     ]
    },
    {
     "data": {
      "text/html": [
       "''"
      ],
      "text/latex": [
       "''"
      ],
      "text/markdown": [
       "''"
      ],
      "text/plain": [
       "[1] \"\""
      ]
     },
     "metadata": {},
     "output_type": "display_data"
    },
    {
     "name": "stdout",
     "output_type": "stream",
     "text": [
      "[1] \"Type2 score for kmeans with prob01, trainset: 1\"\n"
     ]
    },
    {
     "data": {
      "text/html": [
       "''"
      ],
      "text/latex": [
       "''"
      ],
      "text/markdown": [
       "''"
      ],
      "text/plain": [
       "[1] \"\""
      ]
     },
     "metadata": {},
     "output_type": "display_data"
    },
    {
     "name": "stdout",
     "output_type": "stream",
     "text": [
      "[1] \"Accuracy: 1\"\n"
     ]
    }
   ],
   "source": [
    "# See how the clusters are associated with Inland.\n",
    "\n",
    "dfout <- as.data.frame(cbind(kmtrain_scaled$Inland, kmp1$cluster))\n",
    "colnames(dfout) <- c(\"Inland\", \"cluster\")\n",
    "rownames(dfout) <- rownames(kmtrain_scaled)\n",
    "dat_c1 <- dfout[which(dfout$cluster== 1),]\n",
    "datc1_Inland_percent <- mean(dat_c1$Inland)\n",
    "\n",
    "tmpdat <- dfout\n",
    "\n",
    "c1_to_InlandYES <- FALSE\n",
    "if(datc1_Inland_percent >= kmtrain_Inland_percent) { c1_to_InlandYES <- TRUE }\n",
    "        \n",
    "if(c1_to_InlandYES) {\n",
    "    # cluster 1 is associated with the Inland districts\n",
    "    tmpdat[which(tmpdat$cluster== 1),]$Inland <- 1\n",
    "    tmpdat[which(tmpdat$cluster== 2),]$Inland <- 0\n",
    "} else {\n",
    "    # cluster 2 is associated with the Inland districts\n",
    "    tmpdat[which(tmpdat$cluster== 2),]$Inland <- 1\n",
    "    tmpdat[which(tmpdat$cluster== 1),]$Inland <- 0\n",
    "}\n",
    "        \n",
    "preds <- as.factor(tmpdat$Inland)\n",
    "names(preds) <- rownames(tmpdat)\n",
    "ans <- get_confusion(preds, kmtrain_scaled[, \"Inland\", drop=FALSE])\n",
    "\n",
    "print(ans$matrix)\n",
    "''\n",
    "print(paste(\"f-score for kmeans with prob01, trainset: \", as.character(ans[[2]]), sep=\"\"))\n",
    "\n",
    "mat <- as.matrix(ans[[1]])\n",
    "percent_correct <- sum(diag(mat))/floor(sum(mat))\n",
    "result <- round((0.4 * percent_correct + 0.6 * ans[[2]]), 4)\n",
    "\n",
    "''\n",
    "print(paste(\"Type2 score for kmeans with prob01, trainset: \", as.character(result), sep=\"\"))\n",
    "\n",
    "\"\"\n",
    "print(paste(\"Accuracy: \", as.character(round(percent_correct,4)), sep=\"\"))\n"
   ]
  },
  {
   "cell_type": "markdown",
   "metadata": {},
   "source": [
    "### Get scores on testset for k-means with prob01, no weights"
   ]
  },
  {
   "cell_type": "code",
   "execution_count": 30,
   "metadata": {},
   "outputs": [],
   "source": [
    "# Add a prob01 column to testdat.\n",
    "\n",
    "kmtest <- testdat\n",
    "\n",
    "preds <- predict(rfclf_best, newdata=testdat[, rfclf_columns],\n",
    "                          type=\"prob\")\n",
    "\n",
    "# preds is a matrix with 2 columns.\n",
    "kmtest$prob01 <- preds[, 2]\n"
   ]
  },
  {
   "cell_type": "code",
   "execution_count": 31,
   "metadata": {},
   "outputs": [
    {
     "data": {
      "text/html": [
       "<table>\n",
       "<caption>A matrix: 2 × 6 of type dbl</caption>\n",
       "<thead>\n",
       "\t<tr><th></th><th scope=col>pc1</th><th scope=col>pc2</th><th scope=col>pc3</th><th scope=col>pc4</th><th scope=col>pc5</th><th scope=col>prob01</th></tr>\n",
       "</thead>\n",
       "<tbody>\n",
       "\t<tr><th scope=row>1</th><td>0.31507</td><td>0.30647</td><td>0.20443</td><td>0.46747</td><td>0.41426</td><td>0.045566</td></tr>\n",
       "\t<tr><th scope=row>2</th><td>0.35892</td><td>0.38838</td><td>0.18692</td><td>0.41122</td><td>0.38720</td><td>0.903993</td></tr>\n",
       "</tbody>\n",
       "</table>\n"
      ],
      "text/latex": [
       "A matrix: 2 × 6 of type dbl\n",
       "\\begin{tabular}{r|llllll}\n",
       "  & pc1 & pc2 & pc3 & pc4 & pc5 & prob01\\\\\n",
       "\\hline\n",
       "\t1 & 0.31507 & 0.30647 & 0.20443 & 0.46747 & 0.41426 & 0.045566\\\\\n",
       "\t2 & 0.35892 & 0.38838 & 0.18692 & 0.41122 & 0.38720 & 0.903993\\\\\n",
       "\\end{tabular}\n"
      ],
      "text/markdown": [
       "\n",
       "A matrix: 2 × 6 of type dbl\n",
       "\n",
       "| <!--/--> | pc1 | pc2 | pc3 | pc4 | pc5 | prob01 |\n",
       "|---|---|---|---|---|---|---|\n",
       "| 1 | 0.31507 | 0.30647 | 0.20443 | 0.46747 | 0.41426 | 0.045566 |\n",
       "| 2 | 0.35892 | 0.38838 | 0.18692 | 0.41122 | 0.38720 | 0.903993 |\n",
       "\n"
      ],
      "text/plain": [
       "  pc1     pc2     pc3     pc4     pc5     prob01  \n",
       "1 0.31507 0.30647 0.20443 0.46747 0.41426 0.045566\n",
       "2 0.35892 0.38838 0.18692 0.41122 0.38720 0.903993"
      ]
     },
     "metadata": {},
     "output_type": "display_data"
    }
   ],
   "source": [
    "kmp1$centers\n"
   ]
  },
  {
   "cell_type": "code",
   "execution_count": 34,
   "metadata": {},
   "outputs": [],
   "source": [
    "# Function for obtaining a set of scores on the testset data\n",
    "# using kmp1 as the classifier.  Here 5 principal components\n",
    "# are being used.\n",
    "\n",
    "### NOTE: the value of c1_to_InlandYES from above is being  \n",
    "### used in the following function.\n",
    "\n",
    "get_testdatScores_kmp1b <- function(seedv, dat) {\n",
    "    \n",
    "    n_smp <- 4000\n",
    "    \n",
    "    seedv_len <- length(seedv)\n",
    "    datout <- rep(NA, 5 * seedv_len)\n",
    "    dim(datout) <- c(seedv_len, 5)\n",
    "    datout <- as.data.frame(datout)\n",
    "    colnames(datout) <- c(\"fscore\",\"Acc\",\"Type2\", \"FN\",\"FP\")\n",
    "    rownames(datout) <- as.character(seedv)\n",
    "    \n",
    "    # Using model kmp1 from above.\n",
    "    ctr_list <- vector(\"list\", length= n_smp)\n",
    "    for(i in 1:n_smp) {\n",
    "        ctr_list[[i]] <- kmp1$centers\n",
    "    }\n",
    "    \n",
    "    for(h in 1:seedv_len) {\n",
    "        # shuffle dat\n",
    "        cur_seed <- seedv[h]\n",
    "        set.seed(cur_seed)\n",
    "        # It is expected that dat is testdat, which has 10K rcds\n",
    "        smp <- sample(rownames(dat), n_smp, replace= FALSE)\n",
    "        df <- dat[smp,]\n",
    "        \n",
    "        # CAUTION: df has the prob01 column.\n",
    "        \n",
    "        # Using model pca5 (constructed from the training set).\n",
    "        df_pca <- predict(pca5, df[, km_predictors])\n",
    "        df02 <- cbind(as.data.frame(df_pca), df$prob01)\n",
    "        \n",
    "        # Apply min-max scaling to df02.\n",
    "        df02_scaled <- apply(df02, MARGIN=2, range01)\n",
    "        df02_scaled <- as.data.frame(df02_scaled,\n",
    "                                     row.names=rownames(df))\n",
    "        colnames(df02_scaled) <- colnames(kmp1$centers)\n",
    "        \n",
    "        \n",
    "        # Each element of the following list is a row of df.\n",
    "        df02_asList <- split(df02_scaled[, colnames(kmp1$centers)], seq(n_smp))\n",
    "        names(ctr_list) <- rownames(df)\n",
    "    \n",
    "        # Get the predictions for df.\n",
    "        preds <- mcmapply(getCluster, df02_asList, ctr_list,\n",
    "                          SIMPLIFY=TRUE, mc.cores=6)\n",
    "        df$cluster <- as.numeric(preds)\n",
    "    \n",
    "        df$pred_Inland <- NA\n",
    "        if(c1_to_InlandYES) {\n",
    "            df[which(df$cluster==1),]$pred_Inland <- 1\n",
    "            df[which(df$cluster==2),]$pred_Inland <- 0\n",
    "        } else {\n",
    "            df[which(df$cluster==1),]$pred_Inland <- 0\n",
    "            df[which(df$cluster==2),]$pred_Inland <- 1\n",
    "        }\n",
    "    \n",
    "        # Generate confusion matrix.\n",
    "        preds <- as.factor(df$pred_Inland)\n",
    "        names(preds) <- rownames(df)\n",
    "        ans <- get_confusion(preds, df[, \"Inland\", drop=FALSE])\n",
    "        \n",
    "        mat <- as.matrix(ans[[1]])\n",
    "        fscore <- round(as.numeric(ans[[2]]), 4)\n",
    "        acc <- round(sum(diag(mat))/floor(sum(mat)), 4)\n",
    "        type2 <- round((0.4 * acc + 0.6 * ans[[2]]), 4)\n",
    "        FN <- as.numeric(mat[2,1])\n",
    "        FP <- as.numeric(mat[1,2])\n",
    "        datout[as.character(cur_seed), 1:5] <- c(fscore,acc,type2,FN,FP)\n",
    "    }\n",
    "    return(datout)\n",
    "}\n"
   ]
  },
  {
   "cell_type": "code",
   "execution_count": 35,
   "metadata": {},
   "outputs": [
    {
     "data": {
      "text/html": [
       "'Start time: 2021-04-25 18:04:45'"
      ],
      "text/latex": [
       "'Start time: 2021-04-25 18:04:45'"
      ],
      "text/markdown": [
       "'Start time: 2021-04-25 18:04:45'"
      ],
      "text/plain": [
       "[1] \"Start time: 2021-04-25 18:04:45\""
      ]
     },
     "metadata": {},
     "output_type": "display_data"
    },
    {
     "data": {
      "text/plain": [
       "Time difference of 8.47 mins"
      ]
     },
     "metadata": {},
     "output_type": "display_data"
    }
   ],
   "source": [
    "# Get kmp1's scores on the testset data.  For each of\n",
    "# the 250 seeds, I sample 4K (no replacement) from the 10K\n",
    "# set of testdat records.\n",
    "\n",
    "set.seed(1821)\n",
    "seed_vector <- sample(1:9999, 250, replace=FALSE)\n",
    "\n",
    "start <- Sys.time()\n",
    "paste(\"Start time: \", start, sep=\"\")\n",
    "dat_result <- get_testdatScores_kmp1b(seed_vector, kmtest)\n",
    "stop <- Sys.time()\n",
    "round(stop - start, 2)\n",
    "# Time difference of 8.47 mins\n"
   ]
  },
  {
   "cell_type": "code",
   "execution_count": 37,
   "metadata": {},
   "outputs": [
    {
     "data": {
      "text/html": [
       "'fscore mean: 0.8348'"
      ],
      "text/latex": [
       "'fscore mean: 0.8348'"
      ],
      "text/markdown": [
       "'fscore mean: 0.8348'"
      ],
      "text/plain": [
       "[1] \"fscore mean: 0.8348\""
      ]
     },
     "metadata": {},
     "output_type": "display_data"
    },
    {
     "data": {
      "text/html": [
       "'fscore StdDev: 0.006'"
      ],
      "text/latex": [
       "'fscore StdDev: 0.006'"
      ],
      "text/markdown": [
       "'fscore StdDev: 0.006'"
      ],
      "text/plain": [
       "[1] \"fscore StdDev: 0.006\""
      ]
     },
     "metadata": {},
     "output_type": "display_data"
    },
    {
     "data": {
      "text/html": [
       "''"
      ],
      "text/latex": [
       "''"
      ],
      "text/markdown": [
       "''"
      ],
      "text/plain": [
       "[1] \"\""
      ]
     },
     "metadata": {},
     "output_type": "display_data"
    },
    {
     "data": {
      "text/plain": [
       "   Min. 1st Qu.  Median    Mean 3rd Qu.    Max. \n",
       "  0.820   0.831   0.835   0.835   0.839   0.852 "
      ]
     },
     "metadata": {},
     "output_type": "display_data"
    }
   ],
   "source": [
    "fscore_mean <- round(mean(dat_result$fscore), 4)\n",
    "fscore_sd <- round(sd(dat_result$fscore), 4)\n",
    "paste0(\"fscore mean: \", as.character(fscore_mean))\n",
    "# 0.8348\n",
    "paste0(\"fscore StdDev: \", as.character(fscore_sd))\n",
    "# 0.006\n",
    "\"\"\n",
    "summary(dat_result$fscore)\n"
   ]
  },
  {
   "cell_type": "code",
   "execution_count": 38,
   "metadata": {},
   "outputs": [
    {
     "data": {
      "text/html": [
       "'accuracy mean: 0.8957'"
      ],
      "text/latex": [
       "'accuracy mean: 0.8957'"
      ],
      "text/markdown": [
       "'accuracy mean: 0.8957'"
      ],
      "text/plain": [
       "[1] \"accuracy mean: 0.8957\""
      ]
     },
     "metadata": {},
     "output_type": "display_data"
    },
    {
     "data": {
      "text/html": [
       "'accuracy StdDev: 0.0037'"
      ],
      "text/latex": [
       "'accuracy StdDev: 0.0037'"
      ],
      "text/markdown": [
       "'accuracy StdDev: 0.0037'"
      ],
      "text/plain": [
       "[1] \"accuracy StdDev: 0.0037\""
      ]
     },
     "metadata": {},
     "output_type": "display_data"
    },
    {
     "data": {
      "text/html": [
       "''"
      ],
      "text/latex": [
       "''"
      ],
      "text/markdown": [
       "''"
      ],
      "text/plain": [
       "[1] \"\""
      ]
     },
     "metadata": {},
     "output_type": "display_data"
    },
    {
     "data": {
      "text/plain": [
       "   Min. 1st Qu.  Median    Mean 3rd Qu.    Max. \n",
       "  0.887   0.893   0.896   0.896   0.898   0.908 "
      ]
     },
     "metadata": {},
     "output_type": "display_data"
    }
   ],
   "source": [
    "Acc_mean <- round(mean(dat_result$Acc), 4)\n",
    "Acc_sd <- round(sd(dat_result$Acc), 4)\n",
    "paste0(\"accuracy mean: \", as.character(Acc_mean))\n",
    "# 0.8957\n",
    "paste0(\"accuracy StdDev: \", as.character(Acc_sd))\n",
    "# 0.0037\n",
    "\"\"\n",
    "summary(dat_result$Acc)\n"
   ]
  },
  {
   "cell_type": "code",
   "execution_count": 39,
   "metadata": {},
   "outputs": [
    {
     "data": {
      "text/html": [
       "'Type2 mean: 0.8592'"
      ],
      "text/latex": [
       "'Type2 mean: 0.8592'"
      ],
      "text/markdown": [
       "'Type2 mean: 0.8592'"
      ],
      "text/plain": [
       "[1] \"Type2 mean: 0.8592\""
      ]
     },
     "metadata": {},
     "output_type": "display_data"
    },
    {
     "data": {
      "text/html": [
       "'Type2 StdDev: 0.005'"
      ],
      "text/latex": [
       "'Type2 StdDev: 0.005'"
      ],
      "text/markdown": [
       "'Type2 StdDev: 0.005'"
      ],
      "text/plain": [
       "[1] \"Type2 StdDev: 0.005\""
      ]
     },
     "metadata": {},
     "output_type": "display_data"
    },
    {
     "data": {
      "text/html": [
       "''"
      ],
      "text/latex": [
       "''"
      ],
      "text/markdown": [
       "''"
      ],
      "text/plain": [
       "[1] \"\""
      ]
     },
     "metadata": {},
     "output_type": "display_data"
    },
    {
     "data": {
      "text/plain": [
       "   Min. 1st Qu.  Median    Mean 3rd Qu.    Max. \n",
       "  0.847   0.856   0.859   0.859   0.862   0.874 "
      ]
     },
     "metadata": {},
     "output_type": "display_data"
    }
   ],
   "source": [
    "Type2_mean <- round(mean(dat_result$Type2), 4)\n",
    "Type2_sd <- round(sd(dat_result$Type2), 4)\n",
    "paste0(\"Type2 mean: \", as.character(Type2_mean))\n",
    "# 0.8592\n",
    "paste0(\"Type2 StdDev: \", as.character(Type2_sd))\n",
    "# 0.005\n",
    "\"\"\n",
    "summary(dat_result$Type2)\n"
   ]
  },
  {
   "cell_type": "code",
   "execution_count": 40,
   "metadata": {},
   "outputs": [
    {
     "data": {
      "text/html": [
       "'FN mean: 233.9'"
      ],
      "text/latex": [
       "'FN mean: 233.9'"
      ],
      "text/markdown": [
       "'FN mean: 233.9'"
      ],
      "text/plain": [
       "[1] \"FN mean: 233.9\""
      ]
     },
     "metadata": {},
     "output_type": "display_data"
    },
    {
     "data": {
      "text/html": [
       "'FN StdDev: 11.4'"
      ],
      "text/latex": [
       "'FN StdDev: 11.4'"
      ],
      "text/markdown": [
       "'FN StdDev: 11.4'"
      ],
      "text/plain": [
       "[1] \"FN StdDev: 11.4\""
      ]
     },
     "metadata": {},
     "output_type": "display_data"
    },
    {
     "data": {
      "text/html": [
       "''"
      ],
      "text/latex": [
       "''"
      ],
      "text/markdown": [
       "''"
      ],
      "text/plain": [
       "[1] \"\""
      ]
     },
     "metadata": {},
     "output_type": "display_data"
    },
    {
     "data": {
      "text/plain": [
       "   Min. 1st Qu.  Median    Mean 3rd Qu.    Max. \n",
       "    196     226     234     234     241     262 "
      ]
     },
     "metadata": {},
     "output_type": "display_data"
    }
   ],
   "source": [
    "FN_mean <- round(mean(dat_result$FN), 2)\n",
    "FN_sd <- round(sd(dat_result$FN), 2)\n",
    "paste0(\"FN mean: \", as.character(FN_mean))\n",
    "# 233.9\n",
    "paste0(\"FN StdDev: \", as.character(FN_sd))\n",
    "#  11.4\n",
    "\"\"\n",
    "summary(dat_result$FN)\n"
   ]
  },
  {
   "cell_type": "code",
   "execution_count": 41,
   "metadata": {},
   "outputs": [
    {
     "data": {
      "text/html": [
       "'FP mean: 183.13'"
      ],
      "text/latex": [
       "'FP mean: 183.13'"
      ],
      "text/markdown": [
       "'FP mean: 183.13'"
      ],
      "text/plain": [
       "[1] \"FP mean: 183.13\""
      ]
     },
     "metadata": {},
     "output_type": "display_data"
    },
    {
     "data": {
      "text/html": [
       "'FP StdDev: 10.38'"
      ],
      "text/latex": [
       "'FP StdDev: 10.38'"
      ],
      "text/markdown": [
       "'FP StdDev: 10.38'"
      ],
      "text/plain": [
       "[1] \"FP StdDev: 10.38\""
      ]
     },
     "metadata": {},
     "output_type": "display_data"
    },
    {
     "data": {
      "text/html": [
       "''"
      ],
      "text/latex": [
       "''"
      ],
      "text/markdown": [
       "''"
      ],
      "text/plain": [
       "[1] \"\""
      ]
     },
     "metadata": {},
     "output_type": "display_data"
    },
    {
     "data": {
      "text/plain": [
       "   Min. 1st Qu.  Median    Mean 3rd Qu.    Max. \n",
       "    156     175     184     183     190     210 "
      ]
     },
     "metadata": {},
     "output_type": "display_data"
    }
   ],
   "source": [
    "FP_mean <- round(mean(dat_result$FP), 2)\n",
    "FP_sd <- round(sd(dat_result$FP), 2)\n",
    "paste0(\"FP mean: \", as.character(FP_mean))\n",
    "# 183.13\n",
    "paste0(\"FP StdDev: \", as.character(FP_sd))\n",
    "#  10.38\n",
    "\"\"\n",
    "summary(dat_result$FP)\n"
   ]
  },
  {
   "cell_type": "code",
   "execution_count": null,
   "metadata": {},
   "outputs": [],
   "source": [
    "### COMMENT:\n",
    "\n",
    "# There is NO improvement when using the 5th \n",
    "# principal component.\n"
   ]
  },
  {
   "cell_type": "markdown",
   "metadata": {},
   "source": [
    "# Section 4: Find optimal weights for kmp1 (4 principal components)"
   ]
  },
  {
   "cell_type": "markdown",
   "metadata": {},
   "source": [
    "In what follows I first make use of the method worked out in the Addendum of Part 2, using tot.withinss to help find optimal weights (since relying on this surrogate score takes less time).  I find out, however, that this method does not work well for this dataset.  The problem might not be with the method itself, since I am not able to get any boost at all from the weights I identify and/or test below.  Perhaps the scaling that I am using (centering, scaling, then applying min-max) on the columns, in combination with the large number of records, makes weights superfluous."
   ]
  },
  {
   "cell_type": "code",
   "execution_count": 47,
   "metadata": {},
   "outputs": [],
   "source": [
    "# Function for computing the tot.withinss for each set of \n",
    "# weights in df_params (a dataframe, each row of which is\n",
    "# a candidate set of weights).  The optimal set of weights\n",
    "# will be the set that yields the smallest average (over\n",
    "# the folds) for tot.withinss.\n",
    "# This function is called from gridSearch07.\n",
    "\n",
    "get_tot.withinss_rfclf <- function(traindat, valdat, wghts) {\n",
    "    \n",
    "    # Apply pca to traindat (4 components).\n",
    "    pca <- prcomp(traindat[, km_predictors], center=TRUE, scale.=TRUE,\n",
    "                  rank.=4, retx=FALSE)\n",
    "    \n",
    "    # Construct random forest model.\n",
    "    set.seed(1493)\n",
    "    rfclf <- randomForest(I(as.factor(Inland)) ~ ., \n",
    "                            data= traindat[, rfclf_columns], \n",
    "                            ntree=900, mtry= 3, nodesize= 1)\n",
    "    \n",
    "    #############################\n",
    "    # Prepare valdat.\n",
    "    #############################\n",
    "    \n",
    "    # Apply pca.\n",
    "    tmpdat <- predict(pca, valdat[, km_predictors])\n",
    "    \n",
    "    # Apply min-max scaling.\n",
    "    valdat_scaled <- apply(tmpdat, MARGIN=2, range01)\n",
    "    valdat_scaled <- as.data.frame(valdat_scaled)\n",
    "    colnames(valdat_scaled) <- paste0(\"pc\", 1:4)\n",
    "    \n",
    "    # Add prob01 column.\n",
    "    preds_val <- predict(rfclf, newdata= valdat[, rfclf_columns], type=\"prob\")\n",
    "    valdat_scaled$prob01 <- preds_val[, 2]\n",
    "    \n",
    "    # Apply weights.\n",
    "    cols <- names(wghts)\n",
    "    valdat_wghts <- t(t(valdat_scaled[, cols]) * as.numeric(wghts[cols]))\n",
    "    \n",
    "    # Construct k-means model on valdat to get tot.withinss.\n",
    "    kmod <- suppressWarnings(kmeans(valdat_wghts, 2, iter.max = 50, nstart=5))\n",
    "    \n",
    "    return(kmod$tot.withinss)\n",
    "}\n"
   ]
  },
  {
   "cell_type": "code",
   "execution_count": 48,
   "metadata": {},
   "outputs": [],
   "source": [
    "# This grid search searches for the best set of weights to use\n",
    "# in our k-means clustering model.  The best weights are those\n",
    "# which generalize best to the validation set.  So we look for\n",
    "# the best cross-validation score.\n",
    "\n",
    "gridSearch07 <- function(seed_vector, dat, df_params, folds=7) {\n",
    "    \n",
    "    datout <- rep(NA, 2*nrow(df_params))\n",
    "    dim(datout) <- c(nrow(df_params), 2)\n",
    "    datout <- as.data.frame(datout)\n",
    "    colnames(datout) <- c(\"row\", \"tot.withinss\")\n",
    "    datout$row <- params_rows <- rownames(df_params)\n",
    "    \n",
    "    # We want the sqrt of the weights.\n",
    "    df_params <- df_params^0.5\n",
    "    \n",
    "    #############################\n",
    "    # Partition the data into folds.\n",
    "    \n",
    "    segment_size <- round(dim(dat)[1]/folds)\n",
    "    diff <- nrow(dat) - folds * segment_size\n",
    "    last_seg_size <- segment_size + diff\n",
    "    segmentsv <- c(rep(segment_size, (folds - 1)), last_seg_size)\n",
    "    stopifnot(sum(segmentsv) == nrow(dat))\n",
    "    \n",
    "    \n",
    "    # Create a dataframe, each row for a distinct seed.\n",
    "    # Each column of the dataframe is for a distinct set\n",
    "    # of weights.  The entries in the cells are tot.withinss \n",
    "    # scores.\n",
    "    seedv_len <- length(seed_vector)\n",
    "    df_scores <- rep(NA, seedv_len*nrow(df_params))\n",
    "    dim(df_scores) <- c(seedv_len, nrow(df_params))\n",
    "    df_scores <- as.data.frame(df_scores)\n",
    "    colnames(df_scores) <- rownames(df_params)\n",
    "    rownames(df_scores) <- as.character(seed_vector)\n",
    "    \n",
    "    for(h in 1:seedv_len) {\n",
    "        # shuffle dat\n",
    "        cur_seed <- seed_vector[h]\n",
    "        set.seed(cur_seed)\n",
    "        smp <- sample(rownames(dat), nrow(dat), replace= FALSE)\n",
    "        dat <- dat[smp,]\n",
    "        \n",
    "        # Each element of row_list will be the rows we pick\n",
    "        # out for one of the folds.  E.g., the first element\n",
    "        # of row_list will contain the rows we want for the\n",
    "        # first fold, the second element of row_list will\n",
    "        # contain the rows we want for the second fold, and\n",
    "        # so forth.\n",
    "        row_list <- vector(\"list\", length=folds)\n",
    "        names(row_list) <- as.character(1:folds)\n",
    "        startpt <- 1\n",
    "        for(k in 1:folds) {\n",
    "            endpt <- startpt + segmentsv[k] - 1\n",
    "            stopifnot(endpt <= nrow(dat))\n",
    "            row_list[[k]] <- rownames(dat)[startpt:endpt]\n",
    "            startpt <- endpt + 1\n",
    "        }\n",
    "    \n",
    "        for(i in 1:nrow(df_params)) {\n",
    "            \n",
    "            cur_row <- params_rows[i]\n",
    "            wghts <- as.numeric(df_params[i,])\n",
    "            names(wghts) <- colnames(df_params)\n",
    "            \n",
    "            train_list <- test_list <- vector(\"list\", length= folds)\n",
    "            for(j in 1:folds) {\n",
    "                testdat <- dat[row_list[[j]],]\n",
    "                traindat <- dat[which(!(rownames(dat) %in% rownames(testdat))),]\n",
    "                stopifnot((length(rownames(traindat)) + length(rownames(testdat))) == nrow(dat))\n",
    "                test_list[[j]] <- testdat\n",
    "                train_list[[j]] <- traindat\n",
    "            }\n",
    "            # When there are only 5 folds, only 5 cores get used.\n",
    "            scores <- mcmapply(get_tot.withinss_rfclf, train_list, test_list,\n",
    "                               MoreArgs= list(wghts=wghts),\n",
    "                               SIMPLIFY= TRUE, mc.cores=7)\n",
    "            \n",
    "            # For the current seed, store the average of the tot.withinss\n",
    "            # scores, the average taken over the folds.\n",
    "            df_scores[as.character(cur_seed), cur_row] <- round(mean(scores), 5)\n",
    "        \n",
    "        } # end of for-loop, index i\n",
    "    } ## end of for-loop, index h\n",
    "    \n",
    "    # Compute the average over the seeds of the tot.withinss scores\n",
    "    # obtained for each set of parameters in df_params.\n",
    "    datout$tot.withinss <- round(apply(df_scores, MARGIN=2, mean), 5)\n",
    "    return(datout)\n",
    "}\n"
   ]
  },
  {
   "cell_type": "code",
   "execution_count": 49,
   "metadata": {},
   "outputs": [
    {
     "data": {
      "text/html": [
       "<style>\n",
       ".list-inline {list-style: none; margin:0; padding: 0}\n",
       ".list-inline>li {display: inline-block}\n",
       ".list-inline>li:not(:last-child)::after {content: \"\\00b7\"; padding: 0 .5ex}\n",
       "</style>\n",
       "<ol class=list-inline><li>3951</li><li>5</li></ol>\n"
      ],
      "text/latex": [
       "\\begin{enumerate*}\n",
       "\\item 3951\n",
       "\\item 5\n",
       "\\end{enumerate*}\n"
      ],
      "text/markdown": [
       "1. 3951\n",
       "2. 5\n",
       "\n",
       "\n"
      ],
      "text/plain": [
       "[1] 3951    5"
      ]
     },
     "metadata": {},
     "output_type": "display_data"
    }
   ],
   "source": [
    "# There are 5 parameter lists to work with.  The best\n",
    "# approach, perhaps, is to start by exploring the \n",
    "# region around the space where all parameters have an \n",
    "# equal weight---in this case, a weight of 0.20.\n",
    "\n",
    "lst <- vector(\"list\", length= 5)\n",
    "names(lst) <- c(paste0(\"pc\", 1:4),\"prob01\")\n",
    "\n",
    "lst[[1]] <- lst[[2]] <- lst[[3]] <- lst[[4]] <- lst[[5]] <- seq(0.12, 0.28, by=0.02)\n",
    "\n",
    "start <- Sys.time()\n",
    "dfc01 <- generate_combs(lst)\n",
    "stop <- Sys.time()\n",
    "# round(stop - start, 2)\n",
    "\n",
    "dim(dfc01)\n",
    "#  3951     5\n"
   ]
  },
  {
   "cell_type": "code",
   "execution_count": 42,
   "metadata": {},
   "outputs": [
    {
     "data": {
      "text/html": [
       "<table>\n",
       "<caption>A data.frame: 6 × 5</caption>\n",
       "<thead>\n",
       "\t<tr><th></th><th scope=col>pc1</th><th scope=col>pc2</th><th scope=col>pc3</th><th scope=col>pc4</th><th scope=col>prob01</th></tr>\n",
       "\t<tr><th></th><th scope=col>&lt;dbl&gt;</th><th scope=col>&lt;dbl&gt;</th><th scope=col>&lt;dbl&gt;</th><th scope=col>&lt;dbl&gt;</th><th scope=col>&lt;dbl&gt;</th></tr>\n",
       "</thead>\n",
       "<tbody>\n",
       "\t<tr><th scope=row>37613</th><td>0.14</td><td>0.18</td><td>0.22</td><td>0.24</td><td>0.22</td></tr>\n",
       "\t<tr><th scope=row>34757</th><td>0.26</td><td>0.12</td><td>0.24</td><td>0.16</td><td>0.22</td></tr>\n",
       "\t<tr><th scope=row>18669</th><td>0.16</td><td>0.20</td><td>0.22</td><td>0.26</td><td>0.16</td></tr>\n",
       "\t<tr><th scope=row>17805</th><td>0.16</td><td>0.26</td><td>0.18</td><td>0.24</td><td>0.16</td></tr>\n",
       "\t<tr><th scope=row>19845</th><td>0.28</td><td>0.28</td><td>0.14</td><td>0.12</td><td>0.18</td></tr>\n",
       "\t<tr><th scope=row>46709</th><td>0.26</td><td>0.22</td><td>0.12</td><td>0.14</td><td>0.26</td></tr>\n",
       "</tbody>\n",
       "</table>\n"
      ],
      "text/latex": [
       "A data.frame: 6 × 5\n",
       "\\begin{tabular}{r|lllll}\n",
       "  & pc1 & pc2 & pc3 & pc4 & prob01\\\\\n",
       "  & <dbl> & <dbl> & <dbl> & <dbl> & <dbl>\\\\\n",
       "\\hline\n",
       "\t37613 & 0.14 & 0.18 & 0.22 & 0.24 & 0.22\\\\\n",
       "\t34757 & 0.26 & 0.12 & 0.24 & 0.16 & 0.22\\\\\n",
       "\t18669 & 0.16 & 0.20 & 0.22 & 0.26 & 0.16\\\\\n",
       "\t17805 & 0.16 & 0.26 & 0.18 & 0.24 & 0.16\\\\\n",
       "\t19845 & 0.28 & 0.28 & 0.14 & 0.12 & 0.18\\\\\n",
       "\t46709 & 0.26 & 0.22 & 0.12 & 0.14 & 0.26\\\\\n",
       "\\end{tabular}\n"
      ],
      "text/markdown": [
       "\n",
       "A data.frame: 6 × 5\n",
       "\n",
       "| <!--/--> | pc1 &lt;dbl&gt; | pc2 &lt;dbl&gt; | pc3 &lt;dbl&gt; | pc4 &lt;dbl&gt; | prob01 &lt;dbl&gt; |\n",
       "|---|---|---|---|---|---|\n",
       "| 37613 | 0.14 | 0.18 | 0.22 | 0.24 | 0.22 |\n",
       "| 34757 | 0.26 | 0.12 | 0.24 | 0.16 | 0.22 |\n",
       "| 18669 | 0.16 | 0.20 | 0.22 | 0.26 | 0.16 |\n",
       "| 17805 | 0.16 | 0.26 | 0.18 | 0.24 | 0.16 |\n",
       "| 19845 | 0.28 | 0.28 | 0.14 | 0.12 | 0.18 |\n",
       "| 46709 | 0.26 | 0.22 | 0.12 | 0.14 | 0.26 |\n",
       "\n"
      ],
      "text/plain": [
       "      pc1  pc2  pc3  pc4  prob01\n",
       "37613 0.14 0.18 0.22 0.24 0.22  \n",
       "34757 0.26 0.12 0.24 0.16 0.22  \n",
       "18669 0.16 0.20 0.22 0.26 0.16  \n",
       "17805 0.16 0.26 0.18 0.24 0.16  \n",
       "19845 0.28 0.28 0.14 0.12 0.18  \n",
       "46709 0.26 0.22 0.12 0.14 0.26  "
      ]
     },
     "metadata": {},
     "output_type": "display_data"
    }
   ],
   "source": [
    "# Test on a sample of 10.\n",
    "\n",
    "set.seed(42)\n",
    "smp <- sample(rownames(dfc01), 10, replace=FALSE)\n",
    "tst_params <- dfc01[smp,]\n",
    "head(tst_params)\n"
   ]
  },
  {
   "cell_type": "code",
   "execution_count": 37,
   "metadata": {},
   "outputs": [
    {
     "data": {
      "text/plain": [
       "Time difference of 3.42 mins"
      ]
     },
     "metadata": {},
     "output_type": "display_data"
    }
   ],
   "source": [
    "# Find the best weights of those in tst_params.\n",
    "\n",
    "set.seed(1221)\n",
    "seed_vector <- sample(1:9999, 3, replace=FALSE)\n",
    "\n",
    "start <- Sys.time()\n",
    "dat_result <- gridSearch07(seed_vector, traindat, tst_params) \n",
    "stop <- Sys.time()\n",
    "round(stop - start, 2)\n",
    "# Time difference of 3.42 mins (for 10 rows, 3 seeds, 5 folds per)\n"
   ]
  },
  {
   "cell_type": "code",
   "execution_count": 43,
   "metadata": {},
   "outputs": [
    {
     "data": {
      "text/plain": [
       "Time difference of 2.13 mins"
      ]
     },
     "metadata": {},
     "output_type": "display_data"
    }
   ],
   "source": [
    "# Run the test again with only 1 seed, but 10 folds and\n",
    "# using 10 cores.\n",
    "\n",
    "set.seed(1221)\n",
    "seed_vector <- sample(1:9999, 1, replace=FALSE)\n",
    "\n",
    "start <- Sys.time()\n",
    "dat_result <- gridSearch07(seed_vector, traindat, tst_params) \n",
    "stop <- Sys.time()\n",
    "round(stop - start, 2)\n",
    "# Time difference of 2.13 mins\n"
   ]
  },
  {
   "cell_type": "code",
   "execution_count": 50,
   "metadata": {},
   "outputs": [
    {
     "data": {
      "text/plain": [
       "Time difference of 1.69 mins"
      ]
     },
     "metadata": {},
     "output_type": "display_data"
    }
   ],
   "source": [
    "# Run the test again with only 1 seed, but 7 folds and\n",
    "# using 7 cores.\n",
    "\n",
    "set.seed(1221)\n",
    "seed_vector <- sample(1:9999, 1, replace=FALSE)\n",
    "\n",
    "start <- Sys.time()\n",
    "dat_result <- gridSearch07(seed_vector, traindat, tst_params) \n",
    "stop <- Sys.time()\n",
    "round(stop - start, 2)\n",
    "# Time difference of 1.7 mins\n"
   ]
  },
  {
   "cell_type": "code",
   "execution_count": 51,
   "metadata": {},
   "outputs": [
    {
     "data": {
      "text/html": [
       "1"
      ],
      "text/latex": [
       "1"
      ],
      "text/markdown": [
       "1"
      ],
      "text/plain": [
       "[1] 1"
      ]
     },
     "metadata": {},
     "output_type": "display_data"
    }
   ],
   "source": [
    "best_params <- dat_result[which(dat_result$tot.withinss == \n",
    "                                min(dat_result$tot.withinss, na.rm=TRUE)),]$row\n",
    "length(best_params)\n",
    "\n",
    "best_tot.withinss <- round(dat_result[which(dat_result$tot.withinss == \n",
    "                                min(dat_result$tot.withinss, na.rm=TRUE)),]$tot.withinss, 2)\n"
   ]
  },
  {
   "cell_type": "code",
   "execution_count": 52,
   "metadata": {},
   "outputs": [
    {
     "data": {
      "text/html": [
       "<table>\n",
       "<caption>A data.frame: 1 × 5</caption>\n",
       "<thead>\n",
       "\t<tr><th></th><th scope=col>pc1</th><th scope=col>pc2</th><th scope=col>pc3</th><th scope=col>pc4</th><th scope=col>prob01</th></tr>\n",
       "\t<tr><th></th><th scope=col>&lt;dbl&gt;</th><th scope=col>&lt;dbl&gt;</th><th scope=col>&lt;dbl&gt;</th><th scope=col>&lt;dbl&gt;</th><th scope=col>&lt;dbl&gt;</th></tr>\n",
       "</thead>\n",
       "<tbody>\n",
       "\t<tr><th scope=row>21093</th><td>0.22</td><td>0.18</td><td>0.28</td><td>0.14</td><td>0.18</td></tr>\n",
       "</tbody>\n",
       "</table>\n"
      ],
      "text/latex": [
       "A data.frame: 1 × 5\n",
       "\\begin{tabular}{r|lllll}\n",
       "  & pc1 & pc2 & pc3 & pc4 & prob01\\\\\n",
       "  & <dbl> & <dbl> & <dbl> & <dbl> & <dbl>\\\\\n",
       "\\hline\n",
       "\t21093 & 0.22 & 0.18 & 0.28 & 0.14 & 0.18\\\\\n",
       "\\end{tabular}\n"
      ],
      "text/markdown": [
       "\n",
       "A data.frame: 1 × 5\n",
       "\n",
       "| <!--/--> | pc1 &lt;dbl&gt; | pc2 &lt;dbl&gt; | pc3 &lt;dbl&gt; | pc4 &lt;dbl&gt; | prob01 &lt;dbl&gt; |\n",
       "|---|---|---|---|---|---|\n",
       "| 21093 | 0.22 | 0.18 | 0.28 | 0.14 | 0.18 |\n",
       "\n"
      ],
      "text/plain": [
       "      pc1  pc2  pc3  pc4  prob01\n",
       "21093 0.22 0.18 0.28 0.14 0.18  "
      ]
     },
     "metadata": {},
     "output_type": "display_data"
    },
    {
     "data": {
      "text/html": [
       "13.47"
      ],
      "text/latex": [
       "13.47"
      ],
      "text/markdown": [
       "13.47"
      ],
      "text/plain": [
       "[1] 13.47"
      ]
     },
     "metadata": {},
     "output_type": "display_data"
    }
   ],
   "source": [
    "dfc01[best_params,]\n",
    "\n",
    "best_tot.withinss\n"
   ]
  },
  {
   "cell_type": "code",
   "execution_count": 53,
   "metadata": {},
   "outputs": [
    {
     "data": {
      "text/html": [
       "'Start time: 2021-04-25 22:20:20'"
      ],
      "text/latex": [
       "'Start time: 2021-04-25 22:20:20'"
      ],
      "text/markdown": [
       "'Start time: 2021-04-25 22:20:20'"
      ],
      "text/plain": [
       "[1] \"Start time: 2021-04-25 22:20:20\""
      ]
     },
     "metadata": {},
     "output_type": "display_data"
    },
    {
     "data": {
      "text/plain": [
       "Time difference of 11.29 hours"
      ]
     },
     "metadata": {},
     "output_type": "display_data"
    }
   ],
   "source": [
    "# Find the best weights of those in dfc01 (3951 rows,\n",
    "# 1 seed, 7 folds). \n",
    "\n",
    "set.seed(1221)\n",
    "seed_vector <- sample(1:9999, 1, replace=FALSE)\n",
    "\n",
    "start <- Sys.time()\n",
    "paste(\"Start time: \", start, sep=\"\")\n",
    "dat_result <- gridSearch07(seed_vector, traindat, dfc01) \n",
    "stop <- Sys.time()\n",
    "round(stop - start, 2)\n",
    "# Time difference of 11.29 hours.\n"
   ]
  },
  {
   "cell_type": "code",
   "execution_count": 54,
   "metadata": {},
   "outputs": [
    {
     "data": {
      "text/html": [
       "1"
      ],
      "text/latex": [
       "1"
      ],
      "text/markdown": [
       "1"
      ],
      "text/plain": [
       "[1] 1"
      ]
     },
     "metadata": {},
     "output_type": "display_data"
    }
   ],
   "source": [
    "best_params <- dat_result[which(dat_result$tot.withinss == \n",
    "                                min(dat_result$tot.withinss, na.rm=TRUE)),]$row\n",
    "length(best_params)\n",
    "\n",
    "best_tot.withinss <- round(dat_result[which(dat_result$tot.withinss == \n",
    "                                min(dat_result$tot.withinss, na.rm=TRUE)),]$tot.withinss, 2)\n"
   ]
  },
  {
   "cell_type": "code",
   "execution_count": 55,
   "metadata": {},
   "outputs": [
    {
     "data": {
      "text/html": [
       "<table>\n",
       "<caption>A data.frame: 1 × 5</caption>\n",
       "<thead>\n",
       "\t<tr><th></th><th scope=col>pc1</th><th scope=col>pc2</th><th scope=col>pc3</th><th scope=col>pc4</th><th scope=col>prob01</th></tr>\n",
       "\t<tr><th></th><th scope=col>&lt;dbl&gt;</th><th scope=col>&lt;dbl&gt;</th><th scope=col>&lt;dbl&gt;</th><th scope=col>&lt;dbl&gt;</th><th scope=col>&lt;dbl&gt;</th></tr>\n",
       "</thead>\n",
       "<tbody>\n",
       "\t<tr><th scope=row>693</th><td>0.28</td><td>0.2</td><td>0.28</td><td>0.12</td><td>0.12</td></tr>\n",
       "</tbody>\n",
       "</table>\n"
      ],
      "text/latex": [
       "A data.frame: 1 × 5\n",
       "\\begin{tabular}{r|lllll}\n",
       "  & pc1 & pc2 & pc3 & pc4 & prob01\\\\\n",
       "  & <dbl> & <dbl> & <dbl> & <dbl> & <dbl>\\\\\n",
       "\\hline\n",
       "\t693 & 0.28 & 0.2 & 0.28 & 0.12 & 0.12\\\\\n",
       "\\end{tabular}\n"
      ],
      "text/markdown": [
       "\n",
       "A data.frame: 1 × 5\n",
       "\n",
       "| <!--/--> | pc1 &lt;dbl&gt; | pc2 &lt;dbl&gt; | pc3 &lt;dbl&gt; | pc4 &lt;dbl&gt; | prob01 &lt;dbl&gt; |\n",
       "|---|---|---|---|---|---|\n",
       "| 693 | 0.28 | 0.2 | 0.28 | 0.12 | 0.12 |\n",
       "\n"
      ],
      "text/plain": [
       "    pc1  pc2 pc3  pc4  prob01\n",
       "693 0.28 0.2 0.28 0.12 0.12  "
      ]
     },
     "metadata": {},
     "output_type": "display_data"
    },
    {
     "data": {
      "text/html": [
       "12.61"
      ],
      "text/latex": [
       "12.61"
      ],
      "text/markdown": [
       "12.61"
      ],
      "text/plain": [
       "[1] 12.61"
      ]
     },
     "metadata": {},
     "output_type": "display_data"
    }
   ],
   "source": [
    "dfc01[best_params,]\n",
    "# 693    0.28   0.20   0.28   0.12   0.12\n",
    "\n",
    "best_tot.withinss\n",
    "# 12.61\n"
   ]
  },
  {
   "cell_type": "code",
   "execution_count": 56,
   "metadata": {},
   "outputs": [
    {
     "data": {
      "text/html": [
       "<style>\n",
       ".list-inline {list-style: none; margin:0; padding: 0}\n",
       ".list-inline>li {display: inline-block}\n",
       ".list-inline>li:not(:last-child)::after {content: \"\\00b7\"; padding: 0 .5ex}\n",
       "</style>\n",
       "<ol class=list-inline><li>486</li><li>5</li></ol>\n"
      ],
      "text/latex": [
       "\\begin{enumerate*}\n",
       "\\item 486\n",
       "\\item 5\n",
       "\\end{enumerate*}\n"
      ],
      "text/markdown": [
       "1. 486\n",
       "2. 5\n",
       "\n",
       "\n"
      ],
      "text/plain": [
       "[1] 486   5"
      ]
     },
     "metadata": {},
     "output_type": "display_data"
    }
   ],
   "source": [
    "# Refine the search.\n",
    "\n",
    "lst <- vector(\"list\", length= 5)\n",
    "names(lst) <- c(paste0(\"pc\", 1:4),\"prob01\")\n",
    "\n",
    "lst[[1]] <- seq(0.26, 0.36, by=0.02)\n",
    "lst[[2]] <- seq(0.16, 0.24, by=0.02)\n",
    "lst[[3]] <- seq(0.26, 0.36, by=0.02)\n",
    "lst[[4]] <- seq(0.06, 0.14, by=0.02)\n",
    "lst[[5]] <- seq(0.06, 0.14, by=0.02)\n",
    "\n",
    "start <- Sys.time()\n",
    "dfc02 <- generate_combs(lst)\n",
    "stop <- Sys.time()\n",
    "# round(stop - start, 2)\n",
    "\n",
    "dim(dfc02)\n",
    "#  486     5\n"
   ]
  },
  {
   "cell_type": "code",
   "execution_count": 57,
   "metadata": {},
   "outputs": [
    {
     "data": {
      "text/html": [
       "'Start time: 2021-04-26 09:45:09'"
      ],
      "text/latex": [
       "'Start time: 2021-04-26 09:45:09'"
      ],
      "text/markdown": [
       "'Start time: 2021-04-26 09:45:09'"
      ],
      "text/plain": [
       "[1] \"Start time: 2021-04-26 09:45:09\""
      ]
     },
     "metadata": {},
     "output_type": "display_data"
    },
    {
     "data": {
      "text/plain": [
       "Time difference of 1.39 hours"
      ]
     },
     "metadata": {},
     "output_type": "display_data"
    }
   ],
   "source": [
    "# Find the best weights of those in dfc01 (486 rows,\n",
    "# 1 seed, 7 folds). \n",
    "\n",
    "set.seed(1233)\n",
    "seed_vector <- sample(1:9999, 1, replace=FALSE)\n",
    "\n",
    "start <- Sys.time()\n",
    "paste(\"Start time: \", start, sep=\"\")\n",
    "dat_result <- gridSearch07(seed_vector, traindat, dfc02) \n",
    "stop <- Sys.time()\n",
    "round(stop - start, 2)\n",
    "# Time difference of 1.39 hours.\n"
   ]
  },
  {
   "cell_type": "code",
   "execution_count": 58,
   "metadata": {},
   "outputs": [
    {
     "data": {
      "text/html": [
       "1"
      ],
      "text/latex": [
       "1"
      ],
      "text/markdown": [
       "1"
      ],
      "text/plain": [
       "[1] 1"
      ]
     },
     "metadata": {},
     "output_type": "display_data"
    }
   ],
   "source": [
    "best_params <- dat_result[which(dat_result$tot.withinss == \n",
    "                                min(dat_result$tot.withinss, na.rm=TRUE)),]$row\n",
    "length(best_params)\n",
    "\n",
    "best_tot.withinss <- round(dat_result[which(dat_result$tot.withinss == \n",
    "                                min(dat_result$tot.withinss, na.rm=TRUE)),]$tot.withinss, 2)\n"
   ]
  },
  {
   "cell_type": "code",
   "execution_count": 59,
   "metadata": {},
   "outputs": [
    {
     "data": {
      "text/html": [
       "<table>\n",
       "<caption>A data.frame: 1 × 5</caption>\n",
       "<thead>\n",
       "\t<tr><th></th><th scope=col>pc1</th><th scope=col>pc2</th><th scope=col>pc3</th><th scope=col>pc4</th><th scope=col>prob01</th></tr>\n",
       "\t<tr><th></th><th scope=col>&lt;dbl&gt;</th><th scope=col>&lt;dbl&gt;</th><th scope=col>&lt;dbl&gt;</th><th scope=col>&lt;dbl&gt;</th><th scope=col>&lt;dbl&gt;</th></tr>\n",
       "</thead>\n",
       "<tbody>\n",
       "\t<tr><th scope=row>156</th><td>0.36</td><td>0.16</td><td>0.36</td><td>0.06</td><td>0.06</td></tr>\n",
       "</tbody>\n",
       "</table>\n"
      ],
      "text/latex": [
       "A data.frame: 1 × 5\n",
       "\\begin{tabular}{r|lllll}\n",
       "  & pc1 & pc2 & pc3 & pc4 & prob01\\\\\n",
       "  & <dbl> & <dbl> & <dbl> & <dbl> & <dbl>\\\\\n",
       "\\hline\n",
       "\t156 & 0.36 & 0.16 & 0.36 & 0.06 & 0.06\\\\\n",
       "\\end{tabular}\n"
      ],
      "text/markdown": [
       "\n",
       "A data.frame: 1 × 5\n",
       "\n",
       "| <!--/--> | pc1 &lt;dbl&gt; | pc2 &lt;dbl&gt; | pc3 &lt;dbl&gt; | pc4 &lt;dbl&gt; | prob01 &lt;dbl&gt; |\n",
       "|---|---|---|---|---|---|\n",
       "| 156 | 0.36 | 0.16 | 0.36 | 0.06 | 0.06 |\n",
       "\n"
      ],
      "text/plain": [
       "    pc1  pc2  pc3  pc4  prob01\n",
       "156 0.36 0.16 0.36 0.06 0.06  "
      ]
     },
     "metadata": {},
     "output_type": "display_data"
    },
    {
     "data": {
      "text/html": [
       "10.59"
      ],
      "text/latex": [
       "10.59"
      ],
      "text/markdown": [
       "10.59"
      ],
      "text/plain": [
       "[1] 10.59"
      ]
     },
     "metadata": {},
     "output_type": "display_data"
    }
   ],
   "source": [
    "dfc02[best_params,]\n",
    "# 156    0.36   0.16   0.36   0.06   0.06\n",
    "\n",
    "best_tot.withinss\n",
    "# 10.59\n"
   ]
  },
  {
   "cell_type": "code",
   "execution_count": 60,
   "metadata": {},
   "outputs": [
    {
     "data": {
      "text/html": [
       "<style>\n",
       ".list-inline {list-style: none; margin:0; padding: 0}\n",
       ".list-inline>li {display: inline-block}\n",
       ".list-inline>li:not(:last-child)::after {content: \"\\00b7\"; padding: 0 .5ex}\n",
       "</style>\n",
       "<ol class=list-inline><li>30</li><li>5</li></ol>\n"
      ],
      "text/latex": [
       "\\begin{enumerate*}\n",
       "\\item 30\n",
       "\\item 5\n",
       "\\end{enumerate*}\n"
      ],
      "text/markdown": [
       "1. 30\n",
       "2. 5\n",
       "\n",
       "\n"
      ],
      "text/plain": [
       "[1] 30  5"
      ]
     },
     "metadata": {},
     "output_type": "display_data"
    }
   ],
   "source": [
    "# Refine the search.\n",
    "\n",
    "lst <- vector(\"list\", length= 5)\n",
    "names(lst) <- c(paste0(\"pc\", 1:4),\"prob01\")\n",
    "\n",
    "lst[[1]] <- seq(0.36, 0.40, by=0.02)\n",
    "lst[[2]] <- seq(0.10, 0.16, by=0.02)\n",
    "lst[[3]] <- seq(0.36, 0.40, by=0.02)\n",
    "lst[[4]] <- seq(0.04, 0.06, by=0.02)\n",
    "lst[[5]] <- seq(0.04, 0.06, by=0.02)\n",
    "\n",
    "start <- Sys.time()\n",
    "dfc03 <- generate_combs(lst)\n",
    "stop <- Sys.time()\n",
    "# round(stop - start, 2)\n",
    "\n",
    "dim(dfc03)\n",
    "#  30     5\n"
   ]
  },
  {
   "cell_type": "code",
   "execution_count": 61,
   "metadata": {},
   "outputs": [
    {
     "data": {
      "text/html": [
       "'Start time: 2021-04-26 11:13:16'"
      ],
      "text/latex": [
       "'Start time: 2021-04-26 11:13:16'"
      ],
      "text/markdown": [
       "'Start time: 2021-04-26 11:13:16'"
      ],
      "text/plain": [
       "[1] \"Start time: 2021-04-26 11:13:16\""
      ]
     },
     "metadata": {},
     "output_type": "display_data"
    },
    {
     "data": {
      "text/plain": [
       "Time difference of 5.12 mins"
      ]
     },
     "metadata": {},
     "output_type": "display_data"
    }
   ],
   "source": [
    "# Find the best weights of those in dfc01 (30 rows,\n",
    "# 1 seed, 7 folds). \n",
    "\n",
    "set.seed(1235)\n",
    "seed_vector <- sample(1:9999, 1, replace=FALSE)\n",
    "\n",
    "start <- Sys.time()\n",
    "paste(\"Start time: \", start, sep=\"\")\n",
    "dat_result <- gridSearch07(seed_vector, traindat, dfc03) \n",
    "stop <- Sys.time()\n",
    "round(stop - start, 2)\n",
    "# Time difference of 5.12 mins.\n"
   ]
  },
  {
   "cell_type": "code",
   "execution_count": 62,
   "metadata": {},
   "outputs": [
    {
     "data": {
      "text/html": [
       "1"
      ],
      "text/latex": [
       "1"
      ],
      "text/markdown": [
       "1"
      ],
      "text/plain": [
       "[1] 1"
      ]
     },
     "metadata": {},
     "output_type": "display_data"
    }
   ],
   "source": [
    "best_params <- dat_result[which(dat_result$tot.withinss == \n",
    "                                min(dat_result$tot.withinss, na.rm=TRUE)),]$row\n",
    "length(best_params)\n",
    "\n",
    "best_tot.withinss <- round(dat_result[which(dat_result$tot.withinss == \n",
    "                                min(dat_result$tot.withinss, na.rm=TRUE)),]$tot.withinss, 2)\n"
   ]
  },
  {
   "cell_type": "code",
   "execution_count": 63,
   "metadata": {},
   "outputs": [
    {
     "data": {
      "text/html": [
       "<table>\n",
       "<caption>A data.frame: 1 × 5</caption>\n",
       "<thead>\n",
       "\t<tr><th></th><th scope=col>pc1</th><th scope=col>pc2</th><th scope=col>pc3</th><th scope=col>pc4</th><th scope=col>prob01</th></tr>\n",
       "\t<tr><th></th><th scope=col>&lt;dbl&gt;</th><th scope=col>&lt;dbl&gt;</th><th scope=col>&lt;dbl&gt;</th><th scope=col>&lt;dbl&gt;</th><th scope=col>&lt;dbl&gt;</th></tr>\n",
       "</thead>\n",
       "<tbody>\n",
       "\t<tr><th scope=row>34</th><td>0.36</td><td>0.16</td><td>0.4</td><td>0.04</td><td>0.04</td></tr>\n",
       "</tbody>\n",
       "</table>\n"
      ],
      "text/latex": [
       "A data.frame: 1 × 5\n",
       "\\begin{tabular}{r|lllll}\n",
       "  & pc1 & pc2 & pc3 & pc4 & prob01\\\\\n",
       "  & <dbl> & <dbl> & <dbl> & <dbl> & <dbl>\\\\\n",
       "\\hline\n",
       "\t34 & 0.36 & 0.16 & 0.4 & 0.04 & 0.04\\\\\n",
       "\\end{tabular}\n"
      ],
      "text/markdown": [
       "\n",
       "A data.frame: 1 × 5\n",
       "\n",
       "| <!--/--> | pc1 &lt;dbl&gt; | pc2 &lt;dbl&gt; | pc3 &lt;dbl&gt; | pc4 &lt;dbl&gt; | prob01 &lt;dbl&gt; |\n",
       "|---|---|---|---|---|---|\n",
       "| 34 | 0.36 | 0.16 | 0.4 | 0.04 | 0.04 |\n",
       "\n"
      ],
      "text/plain": [
       "   pc1  pc2  pc3 pc4  prob01\n",
       "34 0.36 0.16 0.4 0.04 0.04  "
      ]
     },
     "metadata": {},
     "output_type": "display_data"
    },
    {
     "data": {
      "text/html": [
       "11.43"
      ],
      "text/latex": [
       "11.43"
      ],
      "text/markdown": [
       "11.43"
      ],
      "text/plain": [
       "[1] 11.43"
      ]
     },
     "metadata": {},
     "output_type": "display_data"
    }
   ],
   "source": [
    "dfc03[best_params,]\n",
    "# 34    0.36   0.16   0.40   0.04   0.04\n",
    "\n",
    "best_tot.withinss\n",
    "# 11.43\n"
   ]
  },
  {
   "cell_type": "code",
   "execution_count": 64,
   "metadata": {},
   "outputs": [
    {
     "data": {
      "text/html": [
       "<style>\n",
       ".list-inline {list-style: none; margin:0; padding: 0}\n",
       ".list-inline>li {display: inline-block}\n",
       ".list-inline>li:not(:last-child)::after {content: \"\\00b7\"; padding: 0 .5ex}\n",
       "</style>\n",
       "<ol class=list-inline><li>71</li><li>5</li></ol>\n"
      ],
      "text/latex": [
       "\\begin{enumerate*}\n",
       "\\item 71\n",
       "\\item 5\n",
       "\\end{enumerate*}\n"
      ],
      "text/markdown": [
       "1. 71\n",
       "2. 5\n",
       "\n",
       "\n"
      ],
      "text/plain": [
       "[1] 71  5"
      ]
     },
     "metadata": {},
     "output_type": "display_data"
    }
   ],
   "source": [
    "# Refine the search.\n",
    "\n",
    "lst <- vector(\"list\", length= 5)\n",
    "names(lst) <- c(paste0(\"pc\", 1:4),\"prob01\")\n",
    "\n",
    "lst[[1]] <- seq(0.34, 0.37, by=0.01)\n",
    "lst[[2]] <- seq(0.15, 0.17, by=0.01)\n",
    "lst[[3]] <- seq(0.38, 0.41, by=0.01)\n",
    "lst[[4]] <- seq(0.04, 0.06, by=0.01)\n",
    "lst[[5]] <- seq(0.04, 0.06, by=0.01)\n",
    "\n",
    "start <- Sys.time()\n",
    "dfc04 <- generate_combs(lst)\n",
    "stop <- Sys.time()\n",
    "# round(stop - start, 2)\n",
    "\n",
    "dim(dfc04)\n",
    "#  71     5\n"
   ]
  },
  {
   "cell_type": "code",
   "execution_count": 65,
   "metadata": {},
   "outputs": [
    {
     "data": {
      "text/html": [
       "'Start time: 2021-04-26 11:23:39'"
      ],
      "text/latex": [
       "'Start time: 2021-04-26 11:23:39'"
      ],
      "text/markdown": [
       "'Start time: 2021-04-26 11:23:39'"
      ],
      "text/plain": [
       "[1] \"Start time: 2021-04-26 11:23:39\""
      ]
     },
     "metadata": {},
     "output_type": "display_data"
    },
    {
     "data": {
      "text/plain": [
       "Time difference of 12.33 mins"
      ]
     },
     "metadata": {},
     "output_type": "display_data"
    }
   ],
   "source": [
    "# Find the best weights of those in dfc01 (71 rows,\n",
    "# 1 seed, 7 folds). \n",
    "\n",
    "set.seed(245)\n",
    "seed_vector <- sample(1:9999, 1, replace=FALSE)\n",
    "\n",
    "start <- Sys.time()\n",
    "paste(\"Start time: \", start, sep=\"\")\n",
    "dat_result <- gridSearch07(seed_vector, traindat, dfc04) \n",
    "stop <- Sys.time()\n",
    "round(stop - start, 2)\n",
    "# Time difference of 12.33 mins.\n"
   ]
  },
  {
   "cell_type": "code",
   "execution_count": 66,
   "metadata": {},
   "outputs": [
    {
     "data": {
      "text/html": [
       "1"
      ],
      "text/latex": [
       "1"
      ],
      "text/markdown": [
       "1"
      ],
      "text/plain": [
       "[1] 1"
      ]
     },
     "metadata": {},
     "output_type": "display_data"
    }
   ],
   "source": [
    "best_params <- dat_result[which(dat_result$tot.withinss == \n",
    "                                min(dat_result$tot.withinss, na.rm=TRUE)),]$row\n",
    "length(best_params)\n",
    "\n",
    "best_tot.withinss <- round(dat_result[which(dat_result$tot.withinss == \n",
    "                                min(dat_result$tot.withinss, na.rm=TRUE)),]$tot.withinss, 2)\n"
   ]
  },
  {
   "cell_type": "code",
   "execution_count": 67,
   "metadata": {},
   "outputs": [
    {
     "data": {
      "text/html": [
       "<table>\n",
       "<caption>A data.frame: 1 × 5</caption>\n",
       "<thead>\n",
       "\t<tr><th></th><th scope=col>pc1</th><th scope=col>pc2</th><th scope=col>pc3</th><th scope=col>pc4</th><th scope=col>prob01</th></tr>\n",
       "\t<tr><th></th><th scope=col>&lt;dbl&gt;</th><th scope=col>&lt;dbl&gt;</th><th scope=col>&lt;dbl&gt;</th><th scope=col>&lt;dbl&gt;</th><th scope=col>&lt;dbl&gt;</th></tr>\n",
       "</thead>\n",
       "<tbody>\n",
       "\t<tr><th scope=row>39</th><td>0.36</td><td>0.15</td><td>0.41</td><td>0.04</td><td>0.04</td></tr>\n",
       "</tbody>\n",
       "</table>\n"
      ],
      "text/latex": [
       "A data.frame: 1 × 5\n",
       "\\begin{tabular}{r|lllll}\n",
       "  & pc1 & pc2 & pc3 & pc4 & prob01\\\\\n",
       "  & <dbl> & <dbl> & <dbl> & <dbl> & <dbl>\\\\\n",
       "\\hline\n",
       "\t39 & 0.36 & 0.15 & 0.41 & 0.04 & 0.04\\\\\n",
       "\\end{tabular}\n"
      ],
      "text/markdown": [
       "\n",
       "A data.frame: 1 × 5\n",
       "\n",
       "| <!--/--> | pc1 &lt;dbl&gt; | pc2 &lt;dbl&gt; | pc3 &lt;dbl&gt; | pc4 &lt;dbl&gt; | prob01 &lt;dbl&gt; |\n",
       "|---|---|---|---|---|---|\n",
       "| 39 | 0.36 | 0.15 | 0.41 | 0.04 | 0.04 |\n",
       "\n"
      ],
      "text/plain": [
       "   pc1  pc2  pc3  pc4  prob01\n",
       "39 0.36 0.15 0.41 0.04 0.04  "
      ]
     },
     "metadata": {},
     "output_type": "display_data"
    },
    {
     "data": {
      "text/html": [
       "11.5"
      ],
      "text/latex": [
       "11.5"
      ],
      "text/markdown": [
       "11.5"
      ],
      "text/plain": [
       "[1] 11.5"
      ]
     },
     "metadata": {},
     "output_type": "display_data"
    }
   ],
   "source": [
    "dfc04[best_params,]\n",
    "# 39    0.36   0.15   0.41   0.04   0.04\n",
    "\n",
    "best_tot.withinss\n",
    "# 11.5\n"
   ]
  },
  {
   "cell_type": "markdown",
   "metadata": {},
   "source": [
    "### Test the weights using cross-validation"
   ]
  },
  {
   "cell_type": "markdown",
   "metadata": {},
   "source": [
    "Here gridSearch06, rather than gridSearch07, is used.  Up to this point, we have been relying on a surrogate score to obtain optimal weights.  gridSearch06 relies on the Type2 score."
   ]
  },
  {
   "cell_type": "code",
   "execution_count": 71,
   "metadata": {},
   "outputs": [
    {
     "data": {
      "text/html": [
       "<table>\n",
       "<caption>A data.frame: 4 × 5</caption>\n",
       "<thead>\n",
       "\t<tr><th scope=col>pc1</th><th scope=col>pc2</th><th scope=col>pc3</th><th scope=col>pc4</th><th scope=col>prob01</th></tr>\n",
       "\t<tr><th scope=col>&lt;dbl&gt;</th><th scope=col>&lt;dbl&gt;</th><th scope=col>&lt;dbl&gt;</th><th scope=col>&lt;dbl&gt;</th><th scope=col>&lt;dbl&gt;</th></tr>\n",
       "</thead>\n",
       "<tbody>\n",
       "\t<tr><td>0.36</td><td>0.15</td><td>0.41</td><td>0.04</td><td>0.04</td></tr>\n",
       "\t<tr><td>0.36</td><td>0.16</td><td>0.36</td><td>0.06</td><td>0.06</td></tr>\n",
       "\t<tr><td>0.28</td><td>0.20</td><td>0.28</td><td>0.12</td><td>0.12</td></tr>\n",
       "\t<tr><td>0.32</td><td>0.18</td><td>0.32</td><td>0.09</td><td>0.09</td></tr>\n",
       "</tbody>\n",
       "</table>\n"
      ],
      "text/latex": [
       "A data.frame: 4 × 5\n",
       "\\begin{tabular}{lllll}\n",
       " pc1 & pc2 & pc3 & pc4 & prob01\\\\\n",
       " <dbl> & <dbl> & <dbl> & <dbl> & <dbl>\\\\\n",
       "\\hline\n",
       "\t 0.36 & 0.15 & 0.41 & 0.04 & 0.04\\\\\n",
       "\t 0.36 & 0.16 & 0.36 & 0.06 & 0.06\\\\\n",
       "\t 0.28 & 0.20 & 0.28 & 0.12 & 0.12\\\\\n",
       "\t 0.32 & 0.18 & 0.32 & 0.09 & 0.09\\\\\n",
       "\\end{tabular}\n"
      ],
      "text/markdown": [
       "\n",
       "A data.frame: 4 × 5\n",
       "\n",
       "| pc1 &lt;dbl&gt; | pc2 &lt;dbl&gt; | pc3 &lt;dbl&gt; | pc4 &lt;dbl&gt; | prob01 &lt;dbl&gt; |\n",
       "|---|---|---|---|---|\n",
       "| 0.36 | 0.15 | 0.41 | 0.04 | 0.04 |\n",
       "| 0.36 | 0.16 | 0.36 | 0.06 | 0.06 |\n",
       "| 0.28 | 0.20 | 0.28 | 0.12 | 0.12 |\n",
       "| 0.32 | 0.18 | 0.32 | 0.09 | 0.09 |\n",
       "\n"
      ],
      "text/plain": [
       "  pc1  pc2  pc3  pc4  prob01\n",
       "1 0.36 0.15 0.41 0.04 0.04  \n",
       "2 0.36 0.16 0.36 0.06 0.06  \n",
       "3 0.28 0.20 0.28 0.12 0.12  \n",
       "4 0.32 0.18 0.32 0.09 0.09  "
      ]
     },
     "metadata": {},
     "output_type": "display_data"
    }
   ],
   "source": [
    "lst <- vector(\"list\", length= 5)\n",
    "names(lst) <- c(paste0(\"pc\", 1:4),\"prob01\")\n",
    "\n",
    "lst[[1]] <- c(0.36)\n",
    "lst[[2]] <- c(0.15)\n",
    "lst[[3]] <- c(0.41)\n",
    "lst[[4]] <- c(0.04)\n",
    "lst[[5]] <- c(0.04)\n",
    "\n",
    "start <- Sys.time()\n",
    "dfc05 <- generate_combs(lst)\n",
    "stop <- Sys.time()\n",
    "# round(stop - start, 2)\n",
    "\n",
    "# Try other nearby weights.\n",
    "dfc05 <- rbind(dfc05, c(0.36, 0.16, 0.36, 0.06, 0.06))\n",
    "dfc05 <- rbind(dfc05, c(0.28, 0.20, 0.28, 0.12, 0.12))\n",
    "dfc05 <- rbind(dfc05, c(0.32, 0.18, 0.32, 0.09, 0.09))\n",
    "dfc05\n"
   ]
  },
  {
   "cell_type": "code",
   "execution_count": 86,
   "metadata": {},
   "outputs": [
    {
     "data": {
      "text/html": [
       "<span style=white-space:pre-wrap>'Start time:  2021-04-26 13:22:22'</span>"
      ],
      "text/latex": [
       "'Start time:  2021-04-26 13:22:22'"
      ],
      "text/markdown": [
       "<span style=white-space:pre-wrap>'Start time:  2021-04-26 13:22:22'</span>"
      ],
      "text/plain": [
       "[1] \"Start time:  2021-04-26 13:22:22\""
      ]
     },
     "metadata": {},
     "output_type": "display_data"
    },
    {
     "data": {
      "text/plain": [
       "Time difference of 2.61 mins"
      ]
     },
     "metadata": {},
     "output_type": "display_data"
    }
   ],
   "source": [
    "# Find the best weights of those in dfc05, \n",
    "# using 5 seeds.\n",
    "\n",
    "set.seed(1933)\n",
    "seed_vector <- sample(1:9999, 5, replace=FALSE)\n",
    "\n",
    "start <- Sys.time()\n",
    "paste(\"Start time:  \", start, sep=\"\")\n",
    "dat_result <- gridSearch06(seed_vector, traindat, dfc05) \n",
    "stop <- Sys.time()\n",
    "round(stop - start, 2)\n",
    "# Time difference of 2.61 mins.\n"
   ]
  },
  {
   "cell_type": "code",
   "execution_count": 87,
   "metadata": {},
   "outputs": [
    {
     "data": {
      "text/html": [
       "<table>\n",
       "<caption>A data.frame: 4 × 6</caption>\n",
       "<thead>\n",
       "\t<tr><th scope=col>pc1</th><th scope=col>pc2</th><th scope=col>pc3</th><th scope=col>pc4</th><th scope=col>prob01</th><th scope=col>Type2</th></tr>\n",
       "\t<tr><th scope=col>&lt;dbl&gt;</th><th scope=col>&lt;dbl&gt;</th><th scope=col>&lt;dbl&gt;</th><th scope=col>&lt;dbl&gt;</th><th scope=col>&lt;dbl&gt;</th><th scope=col>&lt;dbl&gt;</th></tr>\n",
       "</thead>\n",
       "<tbody>\n",
       "\t<tr><td>0.36</td><td>0.15</td><td>0.41</td><td>0.04</td><td>0.04</td><td>0.85494</td></tr>\n",
       "\t<tr><td>0.36</td><td>0.16</td><td>0.36</td><td>0.06</td><td>0.06</td><td>0.85562</td></tr>\n",
       "\t<tr><td>0.28</td><td>0.20</td><td>0.28</td><td>0.12</td><td>0.12</td><td>0.85566</td></tr>\n",
       "\t<tr><td>0.32</td><td>0.18</td><td>0.32</td><td>0.09</td><td>0.09</td><td>0.85571</td></tr>\n",
       "</tbody>\n",
       "</table>\n"
      ],
      "text/latex": [
       "A data.frame: 4 × 6\n",
       "\\begin{tabular}{llllll}\n",
       " pc1 & pc2 & pc3 & pc4 & prob01 & Type2\\\\\n",
       " <dbl> & <dbl> & <dbl> & <dbl> & <dbl> & <dbl>\\\\\n",
       "\\hline\n",
       "\t 0.36 & 0.15 & 0.41 & 0.04 & 0.04 & 0.85494\\\\\n",
       "\t 0.36 & 0.16 & 0.36 & 0.06 & 0.06 & 0.85562\\\\\n",
       "\t 0.28 & 0.20 & 0.28 & 0.12 & 0.12 & 0.85566\\\\\n",
       "\t 0.32 & 0.18 & 0.32 & 0.09 & 0.09 & 0.85571\\\\\n",
       "\\end{tabular}\n"
      ],
      "text/markdown": [
       "\n",
       "A data.frame: 4 × 6\n",
       "\n",
       "| pc1 &lt;dbl&gt; | pc2 &lt;dbl&gt; | pc3 &lt;dbl&gt; | pc4 &lt;dbl&gt; | prob01 &lt;dbl&gt; | Type2 &lt;dbl&gt; |\n",
       "|---|---|---|---|---|---|\n",
       "| 0.36 | 0.15 | 0.41 | 0.04 | 0.04 | 0.85494 |\n",
       "| 0.36 | 0.16 | 0.36 | 0.06 | 0.06 | 0.85562 |\n",
       "| 0.28 | 0.20 | 0.28 | 0.12 | 0.12 | 0.85566 |\n",
       "| 0.32 | 0.18 | 0.32 | 0.09 | 0.09 | 0.85571 |\n",
       "\n"
      ],
      "text/plain": [
       "  pc1  pc2  pc3  pc4  prob01 Type2  \n",
       "1 0.36 0.15 0.41 0.04 0.04   0.85494\n",
       "2 0.36 0.16 0.36 0.06 0.06   0.85562\n",
       "3 0.28 0.20 0.28 0.12 0.12   0.85566\n",
       "4 0.32 0.18 0.32 0.09 0.09   0.85571"
      ]
     },
     "metadata": {},
     "output_type": "display_data"
    }
   ],
   "source": [
    "datout <- cbind(dfc05, dat_result$Type2)\n",
    "colnames(datout) <- c(colnames(dfc05), \"Type2\")\n",
    "datout\n"
   ]
  },
  {
   "cell_type": "code",
   "execution_count": 88,
   "metadata": {},
   "outputs": [
    {
     "data": {
      "text/html": [
       "<span style=white-space:pre-wrap>'Start time:  2021-04-26 13:29:11'</span>"
      ],
      "text/latex": [
       "'Start time:  2021-04-26 13:29:11'"
      ],
      "text/markdown": [
       "<span style=white-space:pre-wrap>'Start time:  2021-04-26 13:29:11'</span>"
      ],
      "text/plain": [
       "[1] \"Start time:  2021-04-26 13:29:11\""
      ]
     },
     "metadata": {},
     "output_type": "display_data"
    },
    {
     "data": {
      "text/plain": [
       "Time difference of 5.84 mins"
      ]
     },
     "metadata": {},
     "output_type": "display_data"
    }
   ],
   "source": [
    "# Find the best weights of those in dfc05, \n",
    "# using 11 seeds.\n",
    "\n",
    "set.seed(17)\n",
    "seed_vector <- sample(1:9999, 11, replace=FALSE)\n",
    "\n",
    "start <- Sys.time()\n",
    "paste(\"Start time:  \", start, sep=\"\")\n",
    "dat_result <- gridSearch06(seed_vector, traindat, dfc05) \n",
    "stop <- Sys.time()\n",
    "round(stop - start, 2)\n",
    "# Time difference of 5.84 mins.\n"
   ]
  },
  {
   "cell_type": "code",
   "execution_count": 89,
   "metadata": {},
   "outputs": [
    {
     "data": {
      "text/html": [
       "<table>\n",
       "<caption>A data.frame: 4 × 6</caption>\n",
       "<thead>\n",
       "\t<tr><th scope=col>pc1</th><th scope=col>pc2</th><th scope=col>pc3</th><th scope=col>pc4</th><th scope=col>prob01</th><th scope=col>Type2</th></tr>\n",
       "\t<tr><th scope=col>&lt;dbl&gt;</th><th scope=col>&lt;dbl&gt;</th><th scope=col>&lt;dbl&gt;</th><th scope=col>&lt;dbl&gt;</th><th scope=col>&lt;dbl&gt;</th><th scope=col>&lt;dbl&gt;</th></tr>\n",
       "</thead>\n",
       "<tbody>\n",
       "\t<tr><td>0.36</td><td>0.15</td><td>0.41</td><td>0.04</td><td>0.04</td><td>0.85537</td></tr>\n",
       "\t<tr><td>0.36</td><td>0.16</td><td>0.36</td><td>0.06</td><td>0.06</td><td>0.85618</td></tr>\n",
       "\t<tr><td>0.28</td><td>0.20</td><td>0.28</td><td>0.12</td><td>0.12</td><td>0.85634</td></tr>\n",
       "\t<tr><td>0.32</td><td>0.18</td><td>0.32</td><td>0.09</td><td>0.09</td><td>0.85625</td></tr>\n",
       "</tbody>\n",
       "</table>\n"
      ],
      "text/latex": [
       "A data.frame: 4 × 6\n",
       "\\begin{tabular}{llllll}\n",
       " pc1 & pc2 & pc3 & pc4 & prob01 & Type2\\\\\n",
       " <dbl> & <dbl> & <dbl> & <dbl> & <dbl> & <dbl>\\\\\n",
       "\\hline\n",
       "\t 0.36 & 0.15 & 0.41 & 0.04 & 0.04 & 0.85537\\\\\n",
       "\t 0.36 & 0.16 & 0.36 & 0.06 & 0.06 & 0.85618\\\\\n",
       "\t 0.28 & 0.20 & 0.28 & 0.12 & 0.12 & 0.85634\\\\\n",
       "\t 0.32 & 0.18 & 0.32 & 0.09 & 0.09 & 0.85625\\\\\n",
       "\\end{tabular}\n"
      ],
      "text/markdown": [
       "\n",
       "A data.frame: 4 × 6\n",
       "\n",
       "| pc1 &lt;dbl&gt; | pc2 &lt;dbl&gt; | pc3 &lt;dbl&gt; | pc4 &lt;dbl&gt; | prob01 &lt;dbl&gt; | Type2 &lt;dbl&gt; |\n",
       "|---|---|---|---|---|---|\n",
       "| 0.36 | 0.15 | 0.41 | 0.04 | 0.04 | 0.85537 |\n",
       "| 0.36 | 0.16 | 0.36 | 0.06 | 0.06 | 0.85618 |\n",
       "| 0.28 | 0.20 | 0.28 | 0.12 | 0.12 | 0.85634 |\n",
       "| 0.32 | 0.18 | 0.32 | 0.09 | 0.09 | 0.85625 |\n",
       "\n"
      ],
      "text/plain": [
       "  pc1  pc2  pc3  pc4  prob01 Type2  \n",
       "1 0.36 0.15 0.41 0.04 0.04   0.85537\n",
       "2 0.36 0.16 0.36 0.06 0.06   0.85618\n",
       "3 0.28 0.20 0.28 0.12 0.12   0.85634\n",
       "4 0.32 0.18 0.32 0.09 0.09   0.85625"
      ]
     },
     "metadata": {},
     "output_type": "display_data"
    }
   ],
   "source": [
    "datout <- cbind(dfc05, dat_result$Type2)\n",
    "colnames(datout) <- c(colnames(dfc05), \"Type2\")\n",
    "datout\n"
   ]
  },
  {
   "cell_type": "code",
   "execution_count": 90,
   "metadata": {},
   "outputs": [],
   "source": [
    "# Remove the first set of weights since it\n",
    "# is getting the lowest score.\n",
    "\n",
    "dfc05 <- dfc05[2:4,]\n"
   ]
  },
  {
   "cell_type": "code",
   "execution_count": 91,
   "metadata": {},
   "outputs": [
    {
     "data": {
      "text/html": [
       "<span style=white-space:pre-wrap>'Start time:  2021-04-26 13:49:25'</span>"
      ],
      "text/latex": [
       "'Start time:  2021-04-26 13:49:25'"
      ],
      "text/markdown": [
       "<span style=white-space:pre-wrap>'Start time:  2021-04-26 13:49:25'</span>"
      ],
      "text/plain": [
       "[1] \"Start time:  2021-04-26 13:49:25\""
      ]
     },
     "metadata": {},
     "output_type": "display_data"
    },
    {
     "data": {
      "text/plain": [
       "Time difference of 20.58 mins"
      ]
     },
     "metadata": {},
     "output_type": "display_data"
    }
   ],
   "source": [
    "# Find the best weights of those in dfc05, \n",
    "# using 51 seeds.\n",
    "\n",
    "set.seed(17)\n",
    "seed_vector <- sample(1:9999, 51, replace=FALSE)\n",
    "\n",
    "start <- Sys.time()\n",
    "paste(\"Start time:  \", start, sep=\"\")\n",
    "dat_result <- gridSearch06(seed_vector, traindat, dfc05) \n",
    "stop <- Sys.time()\n",
    "round(stop - start, 2)\n",
    "# Time difference of 20.58 mins.\n"
   ]
  },
  {
   "cell_type": "code",
   "execution_count": 92,
   "metadata": {},
   "outputs": [
    {
     "data": {
      "text/html": [
       "<table>\n",
       "<caption>A data.frame: 3 × 6</caption>\n",
       "<thead>\n",
       "\t<tr><th></th><th scope=col>pc1</th><th scope=col>pc2</th><th scope=col>pc3</th><th scope=col>pc4</th><th scope=col>prob01</th><th scope=col>Type2</th></tr>\n",
       "\t<tr><th></th><th scope=col>&lt;dbl&gt;</th><th scope=col>&lt;dbl&gt;</th><th scope=col>&lt;dbl&gt;</th><th scope=col>&lt;dbl&gt;</th><th scope=col>&lt;dbl&gt;</th><th scope=col>&lt;dbl&gt;</th></tr>\n",
       "</thead>\n",
       "<tbody>\n",
       "\t<tr><th scope=row>2</th><td>0.36</td><td>0.16</td><td>0.36</td><td>0.06</td><td>0.06</td><td>0.85625</td></tr>\n",
       "\t<tr><th scope=row>3</th><td>0.28</td><td>0.20</td><td>0.28</td><td>0.12</td><td>0.12</td><td>0.85637</td></tr>\n",
       "\t<tr><th scope=row>4</th><td>0.32</td><td>0.18</td><td>0.32</td><td>0.09</td><td>0.09</td><td>0.85639</td></tr>\n",
       "</tbody>\n",
       "</table>\n"
      ],
      "text/latex": [
       "A data.frame: 3 × 6\n",
       "\\begin{tabular}{r|llllll}\n",
       "  & pc1 & pc2 & pc3 & pc4 & prob01 & Type2\\\\\n",
       "  & <dbl> & <dbl> & <dbl> & <dbl> & <dbl> & <dbl>\\\\\n",
       "\\hline\n",
       "\t2 & 0.36 & 0.16 & 0.36 & 0.06 & 0.06 & 0.85625\\\\\n",
       "\t3 & 0.28 & 0.20 & 0.28 & 0.12 & 0.12 & 0.85637\\\\\n",
       "\t4 & 0.32 & 0.18 & 0.32 & 0.09 & 0.09 & 0.85639\\\\\n",
       "\\end{tabular}\n"
      ],
      "text/markdown": [
       "\n",
       "A data.frame: 3 × 6\n",
       "\n",
       "| <!--/--> | pc1 &lt;dbl&gt; | pc2 &lt;dbl&gt; | pc3 &lt;dbl&gt; | pc4 &lt;dbl&gt; | prob01 &lt;dbl&gt; | Type2 &lt;dbl&gt; |\n",
       "|---|---|---|---|---|---|---|\n",
       "| 2 | 0.36 | 0.16 | 0.36 | 0.06 | 0.06 | 0.85625 |\n",
       "| 3 | 0.28 | 0.20 | 0.28 | 0.12 | 0.12 | 0.85637 |\n",
       "| 4 | 0.32 | 0.18 | 0.32 | 0.09 | 0.09 | 0.85639 |\n",
       "\n"
      ],
      "text/plain": [
       "  pc1  pc2  pc3  pc4  prob01 Type2  \n",
       "2 0.36 0.16 0.36 0.06 0.06   0.85625\n",
       "3 0.28 0.20 0.28 0.12 0.12   0.85637\n",
       "4 0.32 0.18 0.32 0.09 0.09   0.85639"
      ]
     },
     "metadata": {},
     "output_type": "display_data"
    }
   ],
   "source": [
    "datout <- cbind(dfc05, dat_result$Type2)\n",
    "colnames(datout) <- c(colnames(dfc05), \"Type2\")\n",
    "datout\n"
   ]
  },
  {
   "cell_type": "code",
   "execution_count": null,
   "metadata": {},
   "outputs": [],
   "source": [
    "### COMMENT: \n",
    "\n",
    "# There is not much difference in average Type2 score\n",
    "# among the different sets of weights.  It appears \n",
    "# that row 4 might be the best set.\n",
    "\n",
    "# It is not at all clear that using tot.withinss works\n",
    "# with this larger dataset.  It might also be the case\n",
    "# that getting a cross-val score from 7 folds is not\n",
    "# sufficient.\n",
    "\n",
    "# In order to have a model that performs better than \n",
    "# our current best model, rfclf_best, I likely need\n",
    "# an average cross-val Type2 score over 0.8610.\n",
    "\n",
    "# wghts <- c(0.32, 0.18, 0.32, 0.09, 0.09)\n"
   ]
  },
  {
   "cell_type": "code",
   "execution_count": 17,
   "metadata": {},
   "outputs": [
    {
     "data": {
      "text/html": [
       "<table>\n",
       "<caption>A data.frame: 5 × 5</caption>\n",
       "<thead>\n",
       "\t<tr><th scope=col>pc1</th><th scope=col>pc2</th><th scope=col>pc3</th><th scope=col>pc4</th><th scope=col>prob01</th></tr>\n",
       "\t<tr><th scope=col>&lt;dbl&gt;</th><th scope=col>&lt;dbl&gt;</th><th scope=col>&lt;dbl&gt;</th><th scope=col>&lt;dbl&gt;</th><th scope=col>&lt;dbl&gt;</th></tr>\n",
       "</thead>\n",
       "<tbody>\n",
       "\t<tr><td>0.31</td><td>0.18</td><td>0.31</td><td>0.10</td><td>0.10</td></tr>\n",
       "\t<tr><td>1.00</td><td>1.00</td><td>1.00</td><td>1.00</td><td>1.00</td></tr>\n",
       "\t<tr><td>0.20</td><td>0.20</td><td>0.20</td><td>0.20</td><td>0.20</td></tr>\n",
       "\t<tr><td>0.24</td><td>0.16</td><td>0.20</td><td>0.12</td><td>0.28</td></tr>\n",
       "\t<tr><td>0.22</td><td>0.14</td><td>0.22</td><td>0.14</td><td>0.28</td></tr>\n",
       "</tbody>\n",
       "</table>\n"
      ],
      "text/latex": [
       "A data.frame: 5 × 5\n",
       "\\begin{tabular}{lllll}\n",
       " pc1 & pc2 & pc3 & pc4 & prob01\\\\\n",
       " <dbl> & <dbl> & <dbl> & <dbl> & <dbl>\\\\\n",
       "\\hline\n",
       "\t 0.31 & 0.18 & 0.31 & 0.10 & 0.10\\\\\n",
       "\t 1.00 & 1.00 & 1.00 & 1.00 & 1.00\\\\\n",
       "\t 0.20 & 0.20 & 0.20 & 0.20 & 0.20\\\\\n",
       "\t 0.24 & 0.16 & 0.20 & 0.12 & 0.28\\\\\n",
       "\t 0.22 & 0.14 & 0.22 & 0.14 & 0.28\\\\\n",
       "\\end{tabular}\n"
      ],
      "text/markdown": [
       "\n",
       "A data.frame: 5 × 5\n",
       "\n",
       "| pc1 &lt;dbl&gt; | pc2 &lt;dbl&gt; | pc3 &lt;dbl&gt; | pc4 &lt;dbl&gt; | prob01 &lt;dbl&gt; |\n",
       "|---|---|---|---|---|\n",
       "| 0.31 | 0.18 | 0.31 | 0.10 | 0.10 |\n",
       "| 1.00 | 1.00 | 1.00 | 1.00 | 1.00 |\n",
       "| 0.20 | 0.20 | 0.20 | 0.20 | 0.20 |\n",
       "| 0.24 | 0.16 | 0.20 | 0.12 | 0.28 |\n",
       "| 0.22 | 0.14 | 0.22 | 0.14 | 0.28 |\n",
       "\n"
      ],
      "text/plain": [
       "  pc1  pc2  pc3  pc4  prob01\n",
       "1 0.31 0.18 0.31 0.10 0.10  \n",
       "2 1.00 1.00 1.00 1.00 1.00  \n",
       "3 0.20 0.20 0.20 0.20 0.20  \n",
       "4 0.24 0.16 0.20 0.12 0.28  \n",
       "5 0.22 0.14 0.22 0.14 0.28  "
      ]
     },
     "metadata": {},
     "output_type": "display_data"
    }
   ],
   "source": [
    "lst <- vector(\"list\", length= 5)\n",
    "names(lst) <- c(paste0(\"pc\", 1:4),\"prob01\")\n",
    "\n",
    "lst[[1]] <- c(0.31)\n",
    "lst[[2]] <- c(0.18)\n",
    "lst[[3]] <- c(0.31)\n",
    "lst[[4]] <- c(0.10)\n",
    "lst[[5]] <- c(0.10)\n",
    "\n",
    "start <- Sys.time()\n",
    "dfc06 <- generate_combs(lst)\n",
    "stop <- Sys.time()\n",
    "# round(stop - start, 2)\n",
    "\n",
    "# Check that output from rep(0.20, 5) is same, or\n",
    "# nearly the same, as output from rep(1, 5).\n",
    "dfc06 <- rbind(dfc06, rep(1, 5))\n",
    "dfc06 <- rbind(dfc06, rep(0.20, 5))\n",
    "\n",
    "# Check the degree of difference in the Type2 score\n",
    "# when we use weights which are NOT optimal.\n",
    "dfc06 <- rbind(dfc06, c(0.24, 0.16, 0.20, 0.12, 0.28))\n",
    "dfc06 <- rbind(dfc06, c(0.22, 0.14, 0.22, 0.14, 0.28))\n",
    "dfc06"
   ]
  },
  {
   "cell_type": "code",
   "execution_count": 18,
   "metadata": {},
   "outputs": [
    {
     "data": {
      "text/html": [
       "<span style=white-space:pre-wrap>'Start time:  2021-04-27 19:06:53'</span>"
      ],
      "text/latex": [
       "'Start time:  2021-04-27 19:06:53'"
      ],
      "text/markdown": [
       "<span style=white-space:pre-wrap>'Start time:  2021-04-27 19:06:53'</span>"
      ],
      "text/plain": [
       "[1] \"Start time:  2021-04-27 19:06:53\""
      ]
     },
     "metadata": {},
     "output_type": "display_data"
    },
    {
     "data": {
      "text/plain": [
       "Time difference of 36.03 mins"
      ]
     },
     "metadata": {},
     "output_type": "display_data"
    }
   ],
   "source": [
    "# Find the best weights of those in dfc06, \n",
    "# using 51 seeds.\n",
    "\n",
    "set.seed(17)\n",
    "seed_vector <- sample(1:9999, 51, replace=FALSE)\n",
    "\n",
    "start <- Sys.time()\n",
    "paste(\"Start time:  \", start, sep=\"\")\n",
    "dat_result <- gridSearch06(seed_vector, traindat, dfc06) \n",
    "stop <- Sys.time()\n",
    "round(stop - start, 2)\n",
    "# Time difference of 36 mins.\n"
   ]
  },
  {
   "cell_type": "code",
   "execution_count": 19,
   "metadata": {},
   "outputs": [
    {
     "data": {
      "text/html": [
       "<table>\n",
       "<caption>A data.frame: 5 × 6</caption>\n",
       "<thead>\n",
       "\t<tr><th scope=col>pc1</th><th scope=col>pc2</th><th scope=col>pc3</th><th scope=col>pc4</th><th scope=col>prob01</th><th scope=col>Type2</th></tr>\n",
       "\t<tr><th scope=col>&lt;dbl&gt;</th><th scope=col>&lt;dbl&gt;</th><th scope=col>&lt;dbl&gt;</th><th scope=col>&lt;dbl&gt;</th><th scope=col>&lt;dbl&gt;</th><th scope=col>&lt;dbl&gt;</th></tr>\n",
       "</thead>\n",
       "<tbody>\n",
       "\t<tr><td>0.31</td><td>0.18</td><td>0.31</td><td>0.10</td><td>0.10</td><td>0.85637</td></tr>\n",
       "\t<tr><td>1.00</td><td>1.00</td><td>1.00</td><td>1.00</td><td>1.00</td><td>0.85632</td></tr>\n",
       "\t<tr><td>0.20</td><td>0.20</td><td>0.20</td><td>0.20</td><td>0.20</td><td>0.85632</td></tr>\n",
       "\t<tr><td>0.24</td><td>0.16</td><td>0.20</td><td>0.12</td><td>0.28</td><td>0.85643</td></tr>\n",
       "\t<tr><td>0.22</td><td>0.14</td><td>0.22</td><td>0.14</td><td>0.28</td><td>0.85647</td></tr>\n",
       "</tbody>\n",
       "</table>\n"
      ],
      "text/latex": [
       "A data.frame: 5 × 6\n",
       "\\begin{tabular}{llllll}\n",
       " pc1 & pc2 & pc3 & pc4 & prob01 & Type2\\\\\n",
       " <dbl> & <dbl> & <dbl> & <dbl> & <dbl> & <dbl>\\\\\n",
       "\\hline\n",
       "\t 0.31 & 0.18 & 0.31 & 0.10 & 0.10 & 0.85637\\\\\n",
       "\t 1.00 & 1.00 & 1.00 & 1.00 & 1.00 & 0.85632\\\\\n",
       "\t 0.20 & 0.20 & 0.20 & 0.20 & 0.20 & 0.85632\\\\\n",
       "\t 0.24 & 0.16 & 0.20 & 0.12 & 0.28 & 0.85643\\\\\n",
       "\t 0.22 & 0.14 & 0.22 & 0.14 & 0.28 & 0.85647\\\\\n",
       "\\end{tabular}\n"
      ],
      "text/markdown": [
       "\n",
       "A data.frame: 5 × 6\n",
       "\n",
       "| pc1 &lt;dbl&gt; | pc2 &lt;dbl&gt; | pc3 &lt;dbl&gt; | pc4 &lt;dbl&gt; | prob01 &lt;dbl&gt; | Type2 &lt;dbl&gt; |\n",
       "|---|---|---|---|---|---|\n",
       "| 0.31 | 0.18 | 0.31 | 0.10 | 0.10 | 0.85637 |\n",
       "| 1.00 | 1.00 | 1.00 | 1.00 | 1.00 | 0.85632 |\n",
       "| 0.20 | 0.20 | 0.20 | 0.20 | 0.20 | 0.85632 |\n",
       "| 0.24 | 0.16 | 0.20 | 0.12 | 0.28 | 0.85643 |\n",
       "| 0.22 | 0.14 | 0.22 | 0.14 | 0.28 | 0.85647 |\n",
       "\n"
      ],
      "text/plain": [
       "  pc1  pc2  pc3  pc4  prob01 Type2  \n",
       "1 0.31 0.18 0.31 0.10 0.10   0.85637\n",
       "2 1.00 1.00 1.00 1.00 1.00   0.85632\n",
       "3 0.20 0.20 0.20 0.20 0.20   0.85632\n",
       "4 0.24 0.16 0.20 0.12 0.28   0.85643\n",
       "5 0.22 0.14 0.22 0.14 0.28   0.85647"
      ]
     },
     "metadata": {},
     "output_type": "display_data"
    }
   ],
   "source": [
    "datout <- cbind(dfc06, dat_result$Type2)\n",
    "colnames(datout) <- c(colnames(dfc06), \"Type2\")\n",
    "datout\n"
   ]
  },
  {
   "cell_type": "code",
   "execution_count": null,
   "metadata": {},
   "outputs": [],
   "source": [
    "### COMMENTS:\n",
    "\n",
    "# The method of finding weights using tot.withinss\n",
    "# clearly did not work for this dataset.  Part of \n",
    "# the issue might be that 5 folds are simply not \n",
    "# enough by which to judge the best set of weights.\n",
    "\n",
    "# We can also see from the above table that a \n",
    "# significant change in the weights makes very \n",
    "# little difference in the average Type2 score.  So\n",
    "# from the results I have thus far, it appears as \n",
    "# though using weights will not do much to improve\n",
    "# our k-means hybrid model.\n"
   ]
  },
  {
   "cell_type": "code",
   "execution_count": 21,
   "metadata": {},
   "outputs": [
    {
     "data": {
      "text/html": [
       "<table>\n",
       "<caption>A data.frame: 1 × 5</caption>\n",
       "<thead>\n",
       "\t<tr><th></th><th scope=col>pc1</th><th scope=col>pc2</th><th scope=col>pc3</th><th scope=col>pc4</th><th scope=col>prob01</th></tr>\n",
       "\t<tr><th></th><th scope=col>&lt;dbl&gt;</th><th scope=col>&lt;dbl&gt;</th><th scope=col>&lt;dbl&gt;</th><th scope=col>&lt;dbl&gt;</th><th scope=col>&lt;dbl&gt;</th></tr>\n",
       "</thead>\n",
       "<tbody>\n",
       "\t<tr><th scope=row>1</th><td>0.2</td><td>0.14</td><td>0.2</td><td>0.14</td><td>0.32</td></tr>\n",
       "</tbody>\n",
       "</table>\n"
      ],
      "text/latex": [
       "A data.frame: 1 × 5\n",
       "\\begin{tabular}{r|lllll}\n",
       "  & pc1 & pc2 & pc3 & pc4 & prob01\\\\\n",
       "  & <dbl> & <dbl> & <dbl> & <dbl> & <dbl>\\\\\n",
       "\\hline\n",
       "\t1 & 0.2 & 0.14 & 0.2 & 0.14 & 0.32\\\\\n",
       "\\end{tabular}\n"
      ],
      "text/markdown": [
       "\n",
       "A data.frame: 1 × 5\n",
       "\n",
       "| <!--/--> | pc1 &lt;dbl&gt; | pc2 &lt;dbl&gt; | pc3 &lt;dbl&gt; | pc4 &lt;dbl&gt; | prob01 &lt;dbl&gt; |\n",
       "|---|---|---|---|---|---|\n",
       "| 1 | 0.2 | 0.14 | 0.2 | 0.14 | 0.32 |\n",
       "\n"
      ],
      "text/plain": [
       "  pc1 pc2  pc3 pc4  prob01\n",
       "1 0.2 0.14 0.2 0.14 0.32  "
      ]
     },
     "metadata": {},
     "output_type": "display_data"
    }
   ],
   "source": [
    "# Try one more set of weights, giving more weight to\n",
    "# the prob01 column.\n",
    "\n",
    "lst <- vector(\"list\", length= 5)\n",
    "names(lst) <- c(paste0(\"pc\", 1:4),\"prob01\")\n",
    "\n",
    "lst[[1]] <- c(0.20)\n",
    "lst[[2]] <- c(0.14)\n",
    "lst[[3]] <- c(0.20)\n",
    "lst[[4]] <- c(0.14)\n",
    "lst[[5]] <- c(0.32)\n",
    "\n",
    "start <- Sys.time()\n",
    "dfc06 <- generate_combs(lst)\n",
    "stop <- Sys.time()\n",
    "\n",
    "dfc06\n"
   ]
  },
  {
   "cell_type": "code",
   "execution_count": 22,
   "metadata": {},
   "outputs": [
    {
     "data": {
      "text/html": [
       "<span style=white-space:pre-wrap>'Start time:  2021-04-27 20:05:20'</span>"
      ],
      "text/latex": [
       "'Start time:  2021-04-27 20:05:20'"
      ],
      "text/markdown": [
       "<span style=white-space:pre-wrap>'Start time:  2021-04-27 20:05:20'</span>"
      ],
      "text/plain": [
       "[1] \"Start time:  2021-04-27 20:05:20\""
      ]
     },
     "metadata": {},
     "output_type": "display_data"
    },
    {
     "data": {
      "text/plain": [
       "Time difference of 7.19 mins"
      ]
     },
     "metadata": {},
     "output_type": "display_data"
    }
   ],
   "source": [
    "# Find the best weights of those in dfc06, \n",
    "# using 51 seeds.\n",
    "\n",
    "set.seed(17)\n",
    "seed_vector <- sample(1:9999, 51, replace=FALSE)\n",
    "\n",
    "start <- Sys.time()\n",
    "paste(\"Start time:  \", start, sep=\"\")\n",
    "dat_result <- gridSearch06(seed_vector, traindat, dfc06) \n",
    "stop <- Sys.time()\n",
    "round(stop - start, 2)\n",
    "# Time difference of 7.2 mins.\n"
   ]
  },
  {
   "cell_type": "code",
   "execution_count": 23,
   "metadata": {},
   "outputs": [
    {
     "data": {
      "text/html": [
       "<table>\n",
       "<caption>A data.frame: 1 × 6</caption>\n",
       "<thead>\n",
       "\t<tr><th></th><th scope=col>pc1</th><th scope=col>pc2</th><th scope=col>pc3</th><th scope=col>pc4</th><th scope=col>prob01</th><th scope=col>Type2</th></tr>\n",
       "\t<tr><th></th><th scope=col>&lt;dbl&gt;</th><th scope=col>&lt;dbl&gt;</th><th scope=col>&lt;dbl&gt;</th><th scope=col>&lt;dbl&gt;</th><th scope=col>&lt;dbl&gt;</th><th scope=col>&lt;dbl&gt;</th></tr>\n",
       "</thead>\n",
       "<tbody>\n",
       "\t<tr><th scope=row>1</th><td>0.2</td><td>0.14</td><td>0.2</td><td>0.14</td><td>0.32</td><td>0.85644</td></tr>\n",
       "</tbody>\n",
       "</table>\n"
      ],
      "text/latex": [
       "A data.frame: 1 × 6\n",
       "\\begin{tabular}{r|llllll}\n",
       "  & pc1 & pc2 & pc3 & pc4 & prob01 & Type2\\\\\n",
       "  & <dbl> & <dbl> & <dbl> & <dbl> & <dbl> & <dbl>\\\\\n",
       "\\hline\n",
       "\t1 & 0.2 & 0.14 & 0.2 & 0.14 & 0.32 & 0.85644\\\\\n",
       "\\end{tabular}\n"
      ],
      "text/markdown": [
       "\n",
       "A data.frame: 1 × 6\n",
       "\n",
       "| <!--/--> | pc1 &lt;dbl&gt; | pc2 &lt;dbl&gt; | pc3 &lt;dbl&gt; | pc4 &lt;dbl&gt; | prob01 &lt;dbl&gt; | Type2 &lt;dbl&gt; |\n",
       "|---|---|---|---|---|---|---|\n",
       "| 1 | 0.2 | 0.14 | 0.2 | 0.14 | 0.32 | 0.85644 |\n",
       "\n"
      ],
      "text/plain": [
       "  pc1 pc2  pc3 pc4  prob01 Type2  \n",
       "1 0.2 0.14 0.2 0.14 0.32   0.85644"
      ]
     },
     "metadata": {},
     "output_type": "display_data"
    }
   ],
   "source": [
    "datout <- cbind(dfc06, dat_result$Type2)\n",
    "colnames(datout) <- c(colnames(dfc06), \"Type2\")\n",
    "datout\n"
   ]
  },
  {
   "cell_type": "code",
   "execution_count": null,
   "metadata": {},
   "outputs": [],
   "source": []
  },
  {
   "cell_type": "markdown",
   "metadata": {},
   "source": [
    "### Get scores on trainset for hybrid model, using weights"
   ]
  },
  {
   "cell_type": "code",
   "execution_count": 25,
   "metadata": {},
   "outputs": [
    {
     "data": {
      "text/plain": [
       "Importance of first k=4 (out of 6) components:\n",
       "                         PC1   PC2   PC3   PC4\n",
       "Standard deviation     1.415 1.203 0.974 0.845\n",
       "Proportion of Variance 0.334 0.241 0.158 0.119\n",
       "Cumulative Proportion  0.334 0.575 0.733 0.852"
      ]
     },
     "metadata": {},
     "output_type": "display_data"
    }
   ],
   "source": [
    "pca4 <- prcomp(traindat[, km_predictors], center=TRUE, scale.=TRUE,\n",
    "               rank.=4, retx=TRUE)\n",
    "summary(pca4)\n"
   ]
  },
  {
   "cell_type": "code",
   "execution_count": 74,
   "metadata": {},
   "outputs": [
    {
     "data": {
      "text/html": [
       "<table>\n",
       "<caption>A data.frame: 6 × 5</caption>\n",
       "<thead>\n",
       "\t<tr><th></th><th scope=col>Inland</th><th scope=col>pc1</th><th scope=col>pc2</th><th scope=col>pc3</th><th scope=col>pc4</th></tr>\n",
       "\t<tr><th></th><th scope=col>&lt;dbl&gt;</th><th scope=col>&lt;dbl&gt;</th><th scope=col>&lt;dbl&gt;</th><th scope=col>&lt;dbl&gt;</th><th scope=col>&lt;dbl&gt;</th></tr>\n",
       "</thead>\n",
       "<tbody>\n",
       "\t<tr><th scope=row>11174</th><td>0</td><td> 0.62155</td><td>-0.40828</td><td> 0.78395</td><td> 0.02940</td></tr>\n",
       "\t<tr><th scope=row>1542</th><td>0</td><td> 1.55471</td><td>-0.36770</td><td> 0.39013</td><td> 1.04186</td></tr>\n",
       "\t<tr><th scope=row>3537</th><td>0</td><td>-1.06642</td><td> 0.42280</td><td>-1.37004</td><td> 0.98605</td></tr>\n",
       "\t<tr><th scope=row>12747</th><td>1</td><td> 0.23624</td><td> 0.76784</td><td>-0.98573</td><td> 1.35681</td></tr>\n",
       "\t<tr><th scope=row>13348</th><td>1</td><td>-0.87807</td><td> 0.12463</td><td> 0.52692</td><td>-0.97772</td></tr>\n",
       "\t<tr><th scope=row>6628</th><td>0</td><td>-1.51037</td><td>-0.42055</td><td>-1.56922</td><td> 0.36121</td></tr>\n",
       "</tbody>\n",
       "</table>\n"
      ],
      "text/latex": [
       "A data.frame: 6 × 5\n",
       "\\begin{tabular}{r|lllll}\n",
       "  & Inland & pc1 & pc2 & pc3 & pc4\\\\\n",
       "  & <dbl> & <dbl> & <dbl> & <dbl> & <dbl>\\\\\n",
       "\\hline\n",
       "\t11174 & 0 &  0.62155 & -0.40828 &  0.78395 &  0.02940\\\\\n",
       "\t1542 & 0 &  1.55471 & -0.36770 &  0.39013 &  1.04186\\\\\n",
       "\t3537 & 0 & -1.06642 &  0.42280 & -1.37004 &  0.98605\\\\\n",
       "\t12747 & 1 &  0.23624 &  0.76784 & -0.98573 &  1.35681\\\\\n",
       "\t13348 & 1 & -0.87807 &  0.12463 &  0.52692 & -0.97772\\\\\n",
       "\t6628 & 0 & -1.51037 & -0.42055 & -1.56922 &  0.36121\\\\\n",
       "\\end{tabular}\n"
      ],
      "text/markdown": [
       "\n",
       "A data.frame: 6 × 5\n",
       "\n",
       "| <!--/--> | Inland &lt;dbl&gt; | pc1 &lt;dbl&gt; | pc2 &lt;dbl&gt; | pc3 &lt;dbl&gt; | pc4 &lt;dbl&gt; |\n",
       "|---|---|---|---|---|---|\n",
       "| 11174 | 0 |  0.62155 | -0.40828 |  0.78395 |  0.02940 |\n",
       "| 1542 | 0 |  1.55471 | -0.36770 |  0.39013 |  1.04186 |\n",
       "| 3537 | 0 | -1.06642 |  0.42280 | -1.37004 |  0.98605 |\n",
       "| 12747 | 1 |  0.23624 |  0.76784 | -0.98573 |  1.35681 |\n",
       "| 13348 | 1 | -0.87807 |  0.12463 |  0.52692 | -0.97772 |\n",
       "| 6628 | 0 | -1.51037 | -0.42055 | -1.56922 |  0.36121 |\n",
       "\n"
      ],
      "text/plain": [
       "      Inland pc1      pc2      pc3      pc4     \n",
       "11174 0       0.62155 -0.40828  0.78395  0.02940\n",
       "1542  0       1.55471 -0.36770  0.39013  1.04186\n",
       "3537  0      -1.06642  0.42280 -1.37004  0.98605\n",
       "12747 1       0.23624  0.76784 -0.98573  1.35681\n",
       "13348 1      -0.87807  0.12463  0.52692 -0.97772\n",
       "6628  0      -1.51037 -0.42055 -1.56922  0.36121"
      ]
     },
     "metadata": {},
     "output_type": "display_data"
    }
   ],
   "source": [
    "kmtrain <- cbind(traindat$Inland, as.data.frame(pca4$x))\n",
    "rownames(kmtrain) <- rownames(traindat)\n",
    "colnames(kmtrain) <- c(\"Inland\",\"pc1\",\"pc2\",\"pc3\",\"pc4\")\n",
    "head(kmtrain)\n"
   ]
  },
  {
   "cell_type": "code",
   "execution_count": 75,
   "metadata": {},
   "outputs": [],
   "source": [
    "# Apply min-max scaling to reduce the effects of the\n",
    "# more extreme values.\n",
    "\n",
    "kmtrain_scaled <- apply(kmtrain[, -1], MARGIN=2, range01)\n",
    "kmtrain_scaled <- as.data.frame(cbind(as.numeric(kmtrain$Inland), kmtrain_scaled),\n",
    "                                row.names=rownames(kmtrain))\n",
    "colnames(kmtrain_scaled) <- colnames(kmtrain)\n"
   ]
  },
  {
   "cell_type": "code",
   "execution_count": 76,
   "metadata": {},
   "outputs": [
    {
     "data": {
      "text/html": [
       "0.3187"
      ],
      "text/latex": [
       "0.3187"
      ],
      "text/markdown": [
       "0.3187"
      ],
      "text/plain": [
       "[1] 0.3187"
      ]
     },
     "metadata": {},
     "output_type": "display_data"
    }
   ],
   "source": [
    "# Get percent of Inland districts in kmtrain.\n",
    "\n",
    "kmtrain_Inland_percent <- mean(kmtrain$Inland)\n",
    "round(kmtrain_Inland_percent, 4)\n"
   ]
  },
  {
   "cell_type": "code",
   "execution_count": 77,
   "metadata": {},
   "outputs": [
    {
     "data": {
      "text/plain": [
       "\n",
       "Call:\n",
       " randomForest(formula = I(as.factor(Inland)) ~ ., data = traindat[,      rfclf_columns], ntree = 900, mtry = 3, nodesize = 1, importance = TRUE) \n",
       "               Type of random forest: classification\n",
       "                     Number of trees: 900\n",
       "No. of variables tried at each split: 3\n",
       "\n",
       "        OOB estimate of  error rate: 10.39%\n",
       "Confusion matrix:\n",
       "     0    1 class.error\n",
       "0 6497  450    0.064776\n",
       "1  609 2640    0.187442"
      ]
     },
     "metadata": {},
     "output_type": "display_data"
    }
   ],
   "source": [
    "# Construct random forest model with specific seed.\n",
    "\n",
    "# As we have seen previously, we get a slightly better\n",
    "# model when we ask for the importances.\n",
    "\n",
    "set.seed(1493)\n",
    "(rfclf_best <- randomForest(I(as.factor(Inland)) ~ ., \n",
    "                            data= traindat[, rfclf_columns], \n",
    "                            ntree=900, mtry= 3, nodesize= 1,\n",
    "                            importance= TRUE))\n",
    " "
   ]
  },
  {
   "cell_type": "code",
   "execution_count": 78,
   "metadata": {},
   "outputs": [
    {
     "data": {
      "text/plain": [
       "   Min. 1st Qu.  Median    Mean 3rd Qu.    Max. \n",
       "0.00000 0.00889 0.04778 0.31911 0.83778 1.00000 "
      ]
     },
     "metadata": {},
     "output_type": "display_data"
    }
   ],
   "source": [
    "# Add a prob01 column to kmtrain.\n",
    "\n",
    "preds <- predict(rfclf_best, newdata=traindat[, rfclf_columns],\n",
    "                          type=\"prob\")\n",
    "\n",
    "# preds is a matrix with 2 columns.\n",
    "kmtrain_scaled$prob01 <- preds[, 2]\n",
    "summary(kmtrain_scaled$prob01)\n"
   ]
  },
  {
   "cell_type": "code",
   "execution_count": 79,
   "metadata": {},
   "outputs": [],
   "source": [
    "# Apply our best weights.\n",
    "\n",
    "wghts <- c(0.22, 0.14, 0.22, 0.14, 0.28)\n",
    "names(wghts) <- cols <- c(paste0(\"pc\", 1:4), \"prob01\")\n",
    "\n",
    "kmtrain_wghts <- t(t(kmtrain_scaled[, cols]) * as.numeric(wghts[cols]))\n"
   ]
  },
  {
   "cell_type": "code",
   "execution_count": 80,
   "metadata": {},
   "outputs": [
    {
     "name": "stdout",
     "output_type": "stream",
     "text": [
      "[1] 6947 3249\n"
     ]
    }
   ],
   "source": [
    "# Run k-means algorithm with number of clusters set to 2.\n",
    "\n",
    "set.seed(1233)\n",
    "start <- Sys.time()\n",
    "kmp1 <- kmeans(kmtrain_wghts, 2, iter.max = 50, nstart = 15)\n",
    "stop <- Sys.time()\n",
    "# round(stop - start, 2)\n",
    "# Time difference of 0.03 secs\n",
    "\n",
    "print(kmp1$size)\n"
   ]
  },
  {
   "cell_type": "code",
   "execution_count": 81,
   "metadata": {},
   "outputs": [
    {
     "name": "stdout",
     "output_type": "stream",
     "text": [
      "     0    1 class.error\n",
      "0 6947    0           0\n",
      "1    0 3249           0\n"
     ]
    },
    {
     "data": {
      "text/html": [
       "''"
      ],
      "text/latex": [
       "''"
      ],
      "text/markdown": [
       "''"
      ],
      "text/plain": [
       "[1] \"\""
      ]
     },
     "metadata": {},
     "output_type": "display_data"
    },
    {
     "name": "stdout",
     "output_type": "stream",
     "text": [
      "[1] \"f-score for hybrid model with weights, trainset: 1\"\n"
     ]
    },
    {
     "data": {
      "text/html": [
       "''"
      ],
      "text/latex": [
       "''"
      ],
      "text/markdown": [
       "''"
      ],
      "text/plain": [
       "[1] \"\""
      ]
     },
     "metadata": {},
     "output_type": "display_data"
    },
    {
     "name": "stdout",
     "output_type": "stream",
     "text": [
      "[1] \"Type2 score for hybrid model with weights, trainset: 1\"\n"
     ]
    },
    {
     "data": {
      "text/html": [
       "''"
      ],
      "text/latex": [
       "''"
      ],
      "text/markdown": [
       "''"
      ],
      "text/plain": [
       "[1] \"\""
      ]
     },
     "metadata": {},
     "output_type": "display_data"
    },
    {
     "name": "stdout",
     "output_type": "stream",
     "text": [
      "[1] \"Accuracy: 1\"\n"
     ]
    }
   ],
   "source": [
    "# See how the clusters are associated with Inland.\n",
    "\n",
    "dfout <- as.data.frame(cbind(kmtrain_scaled$Inland, kmp1$cluster))\n",
    "colnames(dfout) <- c(\"Inland\", \"cluster\")\n",
    "rownames(dfout) <- rownames(kmtrain_scaled)\n",
    "dat_c1 <- dfout[which(dfout$cluster== 1),]\n",
    "datc1_Inland_percent <- mean(dat_c1$Inland)\n",
    "\n",
    "tmpdat <- dfout\n",
    "\n",
    "c1_to_InlandYES <- FALSE\n",
    "if(datc1_Inland_percent >= kmtrain_Inland_percent) { c1_to_InlandYES <- TRUE }\n",
    "        \n",
    "if(c1_to_InlandYES) {\n",
    "    # cluster 1 is associated with the Inland districts\n",
    "    tmpdat[which(tmpdat$cluster== 1),]$Inland <- 1\n",
    "    tmpdat[which(tmpdat$cluster== 2),]$Inland <- 0\n",
    "} else {\n",
    "    # cluster 2 is associated with the Inland districts\n",
    "    tmpdat[which(tmpdat$cluster== 2),]$Inland <- 1\n",
    "    tmpdat[which(tmpdat$cluster== 1),]$Inland <- 0\n",
    "}\n",
    "        \n",
    "preds <- as.factor(tmpdat$Inland)\n",
    "names(preds) <- rownames(tmpdat)\n",
    "ans <- get_confusion(preds, kmtrain_scaled[, \"Inland\", drop=FALSE])\n",
    "\n",
    "print(ans$matrix)\n",
    "''\n",
    "print(paste(\"f-score for hybrid model with weights, trainset: \", as.character(ans[[2]]), sep=\"\"))\n",
    "\n",
    "mat <- as.matrix(ans[[1]])\n",
    "percent_correct <- sum(diag(mat))/floor(sum(mat))\n",
    "result <- round((0.4 * percent_correct + 0.6 * ans[[2]]), 4)\n",
    "\n",
    "''\n",
    "print(paste(\"Type2 score for hybrid model with weights, trainset: \", as.character(result), sep=\"\"))\n",
    "\n",
    "\"\"\n",
    "print(paste(\"Accuracy: \", as.character(round(percent_correct,4)), sep=\"\"))\n"
   ]
  },
  {
   "cell_type": "markdown",
   "metadata": {},
   "source": [
    "### Get scores on testset for hybrid model with weights"
   ]
  },
  {
   "cell_type": "code",
   "execution_count": 82,
   "metadata": {},
   "outputs": [],
   "source": [
    "# Add a prob01 column to testdat.\n",
    "\n",
    "kmtest <- testdat\n",
    "\n",
    "preds <- predict(rfclf_best, newdata=testdat[, rfclf_columns],\n",
    "                          type=\"prob\")\n",
    "\n",
    "# preds is a matrix with 2 columns.\n",
    "kmtest$prob01 <- preds[, 2]\n"
   ]
  },
  {
   "cell_type": "code",
   "execution_count": 83,
   "metadata": {},
   "outputs": [
    {
     "data": {
      "text/html": [
       "<table>\n",
       "<caption>A matrix: 2 × 5 of type dbl</caption>\n",
       "<thead>\n",
       "\t<tr><th></th><th scope=col>pc1</th><th scope=col>pc2</th><th scope=col>pc3</th><th scope=col>pc4</th><th scope=col>prob01</th></tr>\n",
       "</thead>\n",
       "<tbody>\n",
       "\t<tr><th scope=row>1</th><td>0.069316</td><td>0.042905</td><td>0.044974</td><td>0.065446</td><td>0.012758</td></tr>\n",
       "\t<tr><th scope=row>2</th><td>0.078962</td><td>0.054373</td><td>0.041123</td><td>0.057571</td><td>0.253118</td></tr>\n",
       "</tbody>\n",
       "</table>\n"
      ],
      "text/latex": [
       "A matrix: 2 × 5 of type dbl\n",
       "\\begin{tabular}{r|lllll}\n",
       "  & pc1 & pc2 & pc3 & pc4 & prob01\\\\\n",
       "\\hline\n",
       "\t1 & 0.069316 & 0.042905 & 0.044974 & 0.065446 & 0.012758\\\\\n",
       "\t2 & 0.078962 & 0.054373 & 0.041123 & 0.057571 & 0.253118\\\\\n",
       "\\end{tabular}\n"
      ],
      "text/markdown": [
       "\n",
       "A matrix: 2 × 5 of type dbl\n",
       "\n",
       "| <!--/--> | pc1 | pc2 | pc3 | pc4 | prob01 |\n",
       "|---|---|---|---|---|---|\n",
       "| 1 | 0.069316 | 0.042905 | 0.044974 | 0.065446 | 0.012758 |\n",
       "| 2 | 0.078962 | 0.054373 | 0.041123 | 0.057571 | 0.253118 |\n",
       "\n"
      ],
      "text/plain": [
       "  pc1      pc2      pc3      pc4      prob01  \n",
       "1 0.069316 0.042905 0.044974 0.065446 0.012758\n",
       "2 0.078962 0.054373 0.041123 0.057571 0.253118"
      ]
     },
     "metadata": {},
     "output_type": "display_data"
    }
   ],
   "source": [
    "kmp1$centers\n"
   ]
  },
  {
   "cell_type": "code",
   "execution_count": 84,
   "metadata": {},
   "outputs": [],
   "source": [
    "# Function for obtaining a set of scores on the testset data\n",
    "# using kmp1 as the classifier. \n",
    "\n",
    "### NOTE: the value of c1_to_InlandYES from above is being  \n",
    "### used in the following function.\n",
    "\n",
    "get_testdatScores_kmp1b <- function(seedv, dat) {\n",
    "    \n",
    "    n_smp <- 4000\n",
    "    \n",
    "    seedv_len <- length(seedv)\n",
    "    datout <- rep(NA, 5 * seedv_len)\n",
    "    dim(datout) <- c(seedv_len, 5)\n",
    "    datout <- as.data.frame(datout)\n",
    "    colnames(datout) <- c(\"fscore\",\"Acc\",\"Type2\", \"FN\",\"FP\")\n",
    "    rownames(datout) <- as.character(seedv)\n",
    "    \n",
    "    # Using model kmp1 from above.\n",
    "    ctr_list <- vector(\"list\", length= n_smp)\n",
    "    for(i in 1:n_smp) {\n",
    "        ctr_list[[i]] <- kmp1$centers\n",
    "    }\n",
    "    \n",
    "    for(h in 1:seedv_len) {\n",
    "        # shuffle dat\n",
    "        cur_seed <- seedv[h]\n",
    "        set.seed(cur_seed)\n",
    "        # It is expected that dat is testdat, which has 10K rcds\n",
    "        smp <- sample(rownames(dat), n_smp, replace= FALSE)\n",
    "        df <- dat[smp,]\n",
    "        \n",
    "        # CAUTION: df has the prob01 column.\n",
    "        \n",
    "        # Using model pca4 (constructed from the training set).\n",
    "        df_pca <- predict(pca4, df[, km_predictors])\n",
    "        df02 <- cbind(as.data.frame(df_pca), df$prob01)\n",
    "        \n",
    "        # Apply min-max scaling to df02.\n",
    "        df02_scaled <- apply(df02, MARGIN=2, range01)\n",
    "        df02_scaled <- as.data.frame(df02_scaled,\n",
    "                                     row.names=rownames(df))\n",
    "        colnames(df02_scaled) <- colnames(kmp1$centers)\n",
    "        \n",
    "        # Apply weights to valdat.  wghts and cols are defined above.\n",
    "        df02_wghts <- t(t(df02_scaled[, cols]) * as.numeric(wghts[cols]))\n",
    "        \n",
    "        \n",
    "        # Each element of the following list is a row of df.\n",
    "        df02_asList <- split(df02_wghts[, colnames(kmp1$centers)], seq(n_smp))\n",
    "        names(ctr_list) <- rownames(df)\n",
    "    \n",
    "        # Get the predictions for df.\n",
    "        preds <- mcmapply(getCluster, df02_asList, ctr_list,\n",
    "                          SIMPLIFY=TRUE, mc.cores=6)\n",
    "        df$cluster <- as.numeric(preds)\n",
    "    \n",
    "        df$pred_Inland <- NA\n",
    "        if(c1_to_InlandYES) {\n",
    "            df[which(df$cluster==1),]$pred_Inland <- 1\n",
    "            df[which(df$cluster==2),]$pred_Inland <- 0\n",
    "        } else {\n",
    "            df[which(df$cluster==1),]$pred_Inland <- 0\n",
    "            df[which(df$cluster==2),]$pred_Inland <- 1\n",
    "        }\n",
    "    \n",
    "        # Generate confusion matrix.\n",
    "        preds <- as.factor(df$pred_Inland)\n",
    "        names(preds) <- rownames(df)\n",
    "        ans <- get_confusion(preds, df[, \"Inland\", drop=FALSE])\n",
    "        \n",
    "        mat <- as.matrix(ans[[1]])\n",
    "        fscore <- round(as.numeric(ans[[2]]), 4)\n",
    "        acc <- round(sum(diag(mat))/floor(sum(mat)), 4)\n",
    "        type2 <- round((0.4 * acc + 0.6 * ans[[2]]), 4)\n",
    "        FN <- as.numeric(mat[2,1])\n",
    "        FP <- as.numeric(mat[1,2])\n",
    "        datout[as.character(cur_seed), 1:5] <- c(fscore,acc,type2,FN,FP)\n",
    "    }\n",
    "    return(datout)\n",
    "}\n"
   ]
  },
  {
   "cell_type": "code",
   "execution_count": 85,
   "metadata": {},
   "outputs": [
    {
     "data": {
      "text/html": [
       "'Start time: 2021-04-27 22:28:57'"
      ],
      "text/latex": [
       "'Start time: 2021-04-27 22:28:57'"
      ],
      "text/markdown": [
       "'Start time: 2021-04-27 22:28:57'"
      ],
      "text/plain": [
       "[1] \"Start time: 2021-04-27 22:28:57\""
      ]
     },
     "metadata": {},
     "output_type": "display_data"
    },
    {
     "data": {
      "text/plain": [
       "Time difference of 27.6 secs"
      ]
     },
     "metadata": {},
     "output_type": "display_data"
    }
   ],
   "source": [
    "# Get kmp1's scores on the testset data.  For each of\n",
    "# the 250 seeds, I sample 4K (no replacement) from the 10K\n",
    "# set of testdat records.\n",
    "\n",
    "set.seed(1821)\n",
    "seed_vector <- sample(1:9999, 250, replace=FALSE)\n",
    "\n",
    "start <- Sys.time()\n",
    "paste(\"Start time: \", start, sep=\"\")\n",
    "dat_result <- get_testdatScores_kmp1b(seed_vector, kmtest)\n",
    "stop <- Sys.time()\n",
    "round(stop - start, 2)\n",
    "# Time difference of 27.6 secs\n"
   ]
  },
  {
   "cell_type": "code",
   "execution_count": 86,
   "metadata": {},
   "outputs": [
    {
     "data": {
      "text/html": [
       "<style>\n",
       ".list-inline {list-style: none; margin:0; padding: 0}\n",
       ".list-inline>li {display: inline-block}\n",
       ".list-inline>li:not(:last-child)::after {content: \"\\00b7\"; padding: 0 .5ex}\n",
       "</style>\n",
       "<ol class=list-inline><li>250</li><li>5</li></ol>\n"
      ],
      "text/latex": [
       "\\begin{enumerate*}\n",
       "\\item 250\n",
       "\\item 5\n",
       "\\end{enumerate*}\n"
      ],
      "text/markdown": [
       "1. 250\n",
       "2. 5\n",
       "\n",
       "\n"
      ],
      "text/plain": [
       "[1] 250   5"
      ]
     },
     "metadata": {},
     "output_type": "display_data"
    },
    {
     "data": {
      "text/html": [
       "<table>\n",
       "<caption>A data.frame: 6 × 5</caption>\n",
       "<thead>\n",
       "\t<tr><th></th><th scope=col>fscore</th><th scope=col>Acc</th><th scope=col>Type2</th><th scope=col>FN</th><th scope=col>FP</th></tr>\n",
       "\t<tr><th></th><th scope=col>&lt;dbl&gt;</th><th scope=col>&lt;dbl&gt;</th><th scope=col>&lt;dbl&gt;</th><th scope=col>&lt;dbl&gt;</th><th scope=col>&lt;dbl&gt;</th></tr>\n",
       "</thead>\n",
       "<tbody>\n",
       "\t<tr><th scope=row>5934</th><td>0.8357</td><td>0.8968</td><td>0.8601</td><td>227</td><td>186</td></tr>\n",
       "\t<tr><th scope=row>1953</th><td>0.8436</td><td>0.8995</td><td>0.8660</td><td>216</td><td>186</td></tr>\n",
       "\t<tr><th scope=row>7591</th><td>0.8320</td><td>0.8925</td><td>0.8562</td><td>260</td><td>170</td></tr>\n",
       "\t<tr><th scope=row>1038</th><td>0.8360</td><td>0.8985</td><td>0.8610</td><td>234</td><td>172</td></tr>\n",
       "\t<tr><th scope=row>49</th><td>0.8320</td><td>0.8920</td><td>0.8560</td><td>231</td><td>201</td></tr>\n",
       "\t<tr><th scope=row>3203</th><td>0.8359</td><td>0.8968</td><td>0.8603</td><td>227</td><td>186</td></tr>\n",
       "</tbody>\n",
       "</table>\n"
      ],
      "text/latex": [
       "A data.frame: 6 × 5\n",
       "\\begin{tabular}{r|lllll}\n",
       "  & fscore & Acc & Type2 & FN & FP\\\\\n",
       "  & <dbl> & <dbl> & <dbl> & <dbl> & <dbl>\\\\\n",
       "\\hline\n",
       "\t5934 & 0.8357 & 0.8968 & 0.8601 & 227 & 186\\\\\n",
       "\t1953 & 0.8436 & 0.8995 & 0.8660 & 216 & 186\\\\\n",
       "\t7591 & 0.8320 & 0.8925 & 0.8562 & 260 & 170\\\\\n",
       "\t1038 & 0.8360 & 0.8985 & 0.8610 & 234 & 172\\\\\n",
       "\t49 & 0.8320 & 0.8920 & 0.8560 & 231 & 201\\\\\n",
       "\t3203 & 0.8359 & 0.8968 & 0.8603 & 227 & 186\\\\\n",
       "\\end{tabular}\n"
      ],
      "text/markdown": [
       "\n",
       "A data.frame: 6 × 5\n",
       "\n",
       "| <!--/--> | fscore &lt;dbl&gt; | Acc &lt;dbl&gt; | Type2 &lt;dbl&gt; | FN &lt;dbl&gt; | FP &lt;dbl&gt; |\n",
       "|---|---|---|---|---|---|\n",
       "| 5934 | 0.8357 | 0.8968 | 0.8601 | 227 | 186 |\n",
       "| 1953 | 0.8436 | 0.8995 | 0.8660 | 216 | 186 |\n",
       "| 7591 | 0.8320 | 0.8925 | 0.8562 | 260 | 170 |\n",
       "| 1038 | 0.8360 | 0.8985 | 0.8610 | 234 | 172 |\n",
       "| 49 | 0.8320 | 0.8920 | 0.8560 | 231 | 201 |\n",
       "| 3203 | 0.8359 | 0.8968 | 0.8603 | 227 | 186 |\n",
       "\n"
      ],
      "text/plain": [
       "     fscore Acc    Type2  FN  FP \n",
       "5934 0.8357 0.8968 0.8601 227 186\n",
       "1953 0.8436 0.8995 0.8660 216 186\n",
       "7591 0.8320 0.8925 0.8562 260 170\n",
       "1038 0.8360 0.8985 0.8610 234 172\n",
       "49   0.8320 0.8920 0.8560 231 201\n",
       "3203 0.8359 0.8968 0.8603 227 186"
      ]
     },
     "metadata": {},
     "output_type": "display_data"
    }
   ],
   "source": [
    "dim(dat_result)\n",
    "head(dat_result)\n"
   ]
  },
  {
   "cell_type": "code",
   "execution_count": 87,
   "metadata": {},
   "outputs": [
    {
     "data": {
      "text/html": [
       "'fscore mean: 0.8349'"
      ],
      "text/latex": [
       "'fscore mean: 0.8349'"
      ],
      "text/markdown": [
       "'fscore mean: 0.8349'"
      ],
      "text/plain": [
       "[1] \"fscore mean: 0.8349\""
      ]
     },
     "metadata": {},
     "output_type": "display_data"
    },
    {
     "data": {
      "text/html": [
       "'fscore StdDev: 0.006'"
      ],
      "text/latex": [
       "'fscore StdDev: 0.006'"
      ],
      "text/markdown": [
       "'fscore StdDev: 0.006'"
      ],
      "text/plain": [
       "[1] \"fscore StdDev: 0.006\""
      ]
     },
     "metadata": {},
     "output_type": "display_data"
    },
    {
     "data": {
      "text/html": [
       "''"
      ],
      "text/latex": [
       "''"
      ],
      "text/markdown": [
       "''"
      ],
      "text/plain": [
       "[1] \"\""
      ]
     },
     "metadata": {},
     "output_type": "display_data"
    },
    {
     "data": {
      "text/plain": [
       "   Min. 1st Qu.  Median    Mean 3rd Qu.    Max. \n",
       "  0.820   0.831   0.835   0.835   0.839   0.852 "
      ]
     },
     "metadata": {},
     "output_type": "display_data"
    }
   ],
   "source": [
    "fscore_mean <- round(mean(dat_result$fscore), 4)\n",
    "fscore_sd <- round(sd(dat_result$fscore), 4)\n",
    "paste0(\"fscore mean: \", as.character(fscore_mean))\n",
    "# 0.8349\n",
    "paste0(\"fscore StdDev: \", as.character(fscore_sd))\n",
    "# 0.006\n",
    "\"\"\n",
    "summary(dat_result$fscore)\n"
   ]
  },
  {
   "cell_type": "code",
   "execution_count": 88,
   "metadata": {},
   "outputs": [
    {
     "data": {
      "text/html": [
       "'accuracy mean: 0.8959'"
      ],
      "text/latex": [
       "'accuracy mean: 0.8959'"
      ],
      "text/markdown": [
       "'accuracy mean: 0.8959'"
      ],
      "text/plain": [
       "[1] \"accuracy mean: 0.8959\""
      ]
     },
     "metadata": {},
     "output_type": "display_data"
    },
    {
     "data": {
      "text/html": [
       "'accuracy StdDev: 0.0037'"
      ],
      "text/latex": [
       "'accuracy StdDev: 0.0037'"
      ],
      "text/markdown": [
       "'accuracy StdDev: 0.0037'"
      ],
      "text/plain": [
       "[1] \"accuracy StdDev: 0.0037\""
      ]
     },
     "metadata": {},
     "output_type": "display_data"
    },
    {
     "data": {
      "text/html": [
       "''"
      ],
      "text/latex": [
       "''"
      ],
      "text/markdown": [
       "''"
      ],
      "text/plain": [
       "[1] \"\""
      ]
     },
     "metadata": {},
     "output_type": "display_data"
    },
    {
     "data": {
      "text/plain": [
       "   Min. 1st Qu.  Median    Mean 3rd Qu.    Max. \n",
       "  0.886   0.893   0.896   0.896   0.898   0.908 "
      ]
     },
     "metadata": {},
     "output_type": "display_data"
    }
   ],
   "source": [
    "Acc_mean <- round(mean(dat_result$Acc), 4)\n",
    "Acc_sd <- round(sd(dat_result$Acc), 4)\n",
    "paste0(\"accuracy mean: \", as.character(Acc_mean))\n",
    "# 0.8959\n",
    "paste0(\"accuracy StdDev: \", as.character(Acc_sd))\n",
    "# 0.0037\n",
    "\"\"\n",
    "summary(dat_result$Acc)\n"
   ]
  },
  {
   "cell_type": "code",
   "execution_count": 89,
   "metadata": {},
   "outputs": [
    {
     "data": {
      "text/html": [
       "'Type2 mean: 0.8593'"
      ],
      "text/latex": [
       "'Type2 mean: 0.8593'"
      ],
      "text/markdown": [
       "'Type2 mean: 0.8593'"
      ],
      "text/plain": [
       "[1] \"Type2 mean: 0.8593\""
      ]
     },
     "metadata": {},
     "output_type": "display_data"
    },
    {
     "data": {
      "text/html": [
       "'Type2 StdDev: 0.005'"
      ],
      "text/latex": [
       "'Type2 StdDev: 0.005'"
      ],
      "text/markdown": [
       "'Type2 StdDev: 0.005'"
      ],
      "text/plain": [
       "[1] \"Type2 StdDev: 0.005\""
      ]
     },
     "metadata": {},
     "output_type": "display_data"
    },
    {
     "data": {
      "text/html": [
       "''"
      ],
      "text/latex": [
       "''"
      ],
      "text/markdown": [
       "''"
      ],
      "text/plain": [
       "[1] \"\""
      ]
     },
     "metadata": {},
     "output_type": "display_data"
    },
    {
     "data": {
      "text/plain": [
       "   Min. 1st Qu.  Median    Mean 3rd Qu.    Max. \n",
       "  0.847   0.856   0.859   0.859   0.862   0.874 "
      ]
     },
     "metadata": {},
     "output_type": "display_data"
    }
   ],
   "source": [
    "Type2_mean <- round(mean(dat_result$Type2), 4)\n",
    "Type2_sd <- round(sd(dat_result$Type2), 4)\n",
    "paste0(\"Type2 mean: \", as.character(Type2_mean))\n",
    "# 0.8593\n",
    "paste0(\"Type2 StdDev: \", as.character(Type2_sd))\n",
    "# 0.005\n",
    "\"\"\n",
    "summary(dat_result$Type2)\n"
   ]
  },
  {
   "cell_type": "code",
   "execution_count": 90,
   "metadata": {},
   "outputs": [
    {
     "data": {
      "text/html": [
       "'FN mean: 234.66'"
      ],
      "text/latex": [
       "'FN mean: 234.66'"
      ],
      "text/markdown": [
       "'FN mean: 234.66'"
      ],
      "text/plain": [
       "[1] \"FN mean: 234.66\""
      ]
     },
     "metadata": {},
     "output_type": "display_data"
    },
    {
     "data": {
      "text/html": [
       "'FN StdDev: 11.27'"
      ],
      "text/latex": [
       "'FN StdDev: 11.27'"
      ],
      "text/markdown": [
       "'FN StdDev: 11.27'"
      ],
      "text/plain": [
       "[1] \"FN StdDev: 11.27\""
      ]
     },
     "metadata": {},
     "output_type": "display_data"
    },
    {
     "data": {
      "text/html": [
       "''"
      ],
      "text/latex": [
       "''"
      ],
      "text/markdown": [
       "''"
      ],
      "text/plain": [
       "[1] \"\""
      ]
     },
     "metadata": {},
     "output_type": "display_data"
    },
    {
     "data": {
      "text/plain": [
       "   Min. 1st Qu.  Median    Mean 3rd Qu.    Max. \n",
       "    197     227     235     235     242     261 "
      ]
     },
     "metadata": {},
     "output_type": "display_data"
    }
   ],
   "source": [
    "FN_mean <- round(mean(dat_result$FN), 2)\n",
    "FN_sd <- round(sd(dat_result$FN), 2)\n",
    "paste0(\"FN mean: \", as.character(FN_mean))\n",
    "# 234.66\n",
    "paste0(\"FN StdDev: \", as.character(FN_sd))\n",
    "#  11.27\n",
    "\"\"\n",
    "summary(dat_result$FN)\n"
   ]
  },
  {
   "cell_type": "code",
   "execution_count": 91,
   "metadata": {},
   "outputs": [
    {
     "data": {
      "text/html": [
       "'FP mean: 181.9'"
      ],
      "text/latex": [
       "'FP mean: 181.9'"
      ],
      "text/markdown": [
       "'FP mean: 181.9'"
      ],
      "text/plain": [
       "[1] \"FP mean: 181.9\""
      ]
     },
     "metadata": {},
     "output_type": "display_data"
    },
    {
     "data": {
      "text/html": [
       "'FP StdDev: 10.16'"
      ],
      "text/latex": [
       "'FP StdDev: 10.16'"
      ],
      "text/markdown": [
       "'FP StdDev: 10.16'"
      ],
      "text/plain": [
       "[1] \"FP StdDev: 10.16\""
      ]
     },
     "metadata": {},
     "output_type": "display_data"
    },
    {
     "data": {
      "text/html": [
       "''"
      ],
      "text/latex": [
       "''"
      ],
      "text/markdown": [
       "''"
      ],
      "text/plain": [
       "[1] \"\""
      ]
     },
     "metadata": {},
     "output_type": "display_data"
    },
    {
     "data": {
      "text/plain": [
       "   Min. 1st Qu.  Median    Mean 3rd Qu.    Max. \n",
       "    157     174     183     182     189     210 "
      ]
     },
     "metadata": {},
     "output_type": "display_data"
    }
   ],
   "source": [
    "FP_mean <- round(mean(dat_result$FP), 2)\n",
    "FP_sd <- round(sd(dat_result$FP), 2)\n",
    "paste0(\"FP mean: \", as.character(FP_mean))\n",
    "# 181.9\n",
    "paste0(\"FP StdDev: \", as.character(FP_sd))\n",
    "#  10.16\n",
    "\"\"\n",
    "summary(dat_result$FP)\n"
   ]
  },
  {
   "cell_type": "markdown",
   "metadata": {},
   "source": [
    "## Section 4 Comments"
   ]
  },
  {
   "cell_type": "markdown",
   "metadata": {},
   "source": [
    "Adding weights to the model terms is not helping.  The model with weights is no better than the model without weights (this is the k-means model with prob01 constructed from rfclf_best and using 4 principal components).\n",
    "\n",
    "\n",
    "It may be that weights are not helping to improve the model because we have so much data to work with.  The scaling, of course, also helps to make the weights less important.  \n",
    "\n",
    "\n",
    "If weights are not helpful, we do not need PCA.  In other words, we can include more of the original variables in the model without having to worry much about increasing the computational cost.  Similarly, we can also see if adding a second probability column improves performance.  (It may be that we get a better model by applying PCA first.)\n",
    "\n",
    "\n",
    "\n",
    "                                    * * * * *"
   ]
  },
  {
   "cell_type": "markdown",
   "metadata": {},
   "source": [
    "# Section 5: k-means with prob1 & prob2; no pca, no weights"
   ]
  },
  {
   "cell_type": "markdown",
   "metadata": {},
   "source": [
    "Here I use rfclf_best for the prob01 column and svm02 for the prob02 column.  These are our current best models, as measured by accuracy and f-score.  rfclf_best has the highest numbers.  If the prob02 column is too highly correlated with the prob01 column, it will not help to improve the scores."
   ]
  },
  {
   "cell_type": "code",
   "execution_count": 29,
   "metadata": {},
   "outputs": [
    {
     "data": {
      "text/html": [
       "<style>\n",
       ".list-inline {list-style: none; margin:0; padding: 0}\n",
       ".list-inline>li {display: inline-block}\n",
       ".list-inline>li:not(:last-child)::after {content: \"\\00b7\"; padding: 0 .5ex}\n",
       "</style>\n",
       "<ol class=list-inline><li>'Inland'</li><li>'housing_median_age'</li><li>'median_house_value'</li><li>'HHdens_ln'</li><li>'rooms_per_hh'</li><li>'bdrms_per_room'</li><li>'pop_per_hh'</li></ol>\n"
      ],
      "text/latex": [
       "\\begin{enumerate*}\n",
       "\\item 'Inland'\n",
       "\\item 'housing\\_median\\_age'\n",
       "\\item 'median\\_house\\_value'\n",
       "\\item 'HHdens\\_ln'\n",
       "\\item 'rooms\\_per\\_hh'\n",
       "\\item 'bdrms\\_per\\_room'\n",
       "\\item 'pop\\_per\\_hh'\n",
       "\\end{enumerate*}\n"
      ],
      "text/markdown": [
       "1. 'Inland'\n",
       "2. 'housing_median_age'\n",
       "3. 'median_house_value'\n",
       "4. 'HHdens_ln'\n",
       "5. 'rooms_per_hh'\n",
       "6. 'bdrms_per_room'\n",
       "7. 'pop_per_hh'\n",
       "\n",
       "\n"
      ],
      "text/plain": [
       "[1] \"Inland\"             \"housing_median_age\" \"median_house_value\"\n",
       "[4] \"HHdens_ln\"          \"rooms_per_hh\"       \"bdrms_per_room\"    \n",
       "[7] \"pop_per_hh\"        "
      ]
     },
     "metadata": {},
     "output_type": "display_data"
    }
   ],
   "source": [
    "kmtrain <- traindat[, km_columns]\n",
    "kmtest <- testdat[, km_columns]\n",
    "colnames(kmtrain)\n"
   ]
  },
  {
   "cell_type": "code",
   "execution_count": 22,
   "metadata": {},
   "outputs": [
    {
     "data": {
      "text/plain": [
       "\n",
       "Call:\n",
       " randomForest(formula = I(as.factor(Inland)) ~ ., data = traindat[,      rfclf_columns], ntree = 900, mtry = 3, nodesize = 1, importance = TRUE) \n",
       "               Type of random forest: classification\n",
       "                     Number of trees: 900\n",
       "No. of variables tried at each split: 3\n",
       "\n",
       "        OOB estimate of  error rate: 10.39%\n",
       "Confusion matrix:\n",
       "     0    1 class.error\n",
       "0 6497  450    0.064776\n",
       "1  609 2640    0.187442"
      ]
     },
     "metadata": {},
     "output_type": "display_data"
    }
   ],
   "source": [
    "# Random forest model for the prob01 column:\n",
    "\n",
    "set.seed(1493)\n",
    "(rfclf_best <- randomForest(I(as.factor(Inland)) ~ ., \n",
    "                            data= traindat[, rfclf_columns], \n",
    "                            ntree=900,\n",
    "                            mtry= 3, nodesize= 1, importance=TRUE))\n"
   ]
  },
  {
   "cell_type": "code",
   "execution_count": 30,
   "metadata": {},
   "outputs": [
    {
     "data": {
      "text/plain": [
       "   Min. 1st Qu.  Median    Mean 3rd Qu.    Max. \n",
       "0.00000 0.00889 0.04778 0.31911 0.83778 1.00000 "
      ]
     },
     "metadata": {},
     "output_type": "display_data"
    }
   ],
   "source": [
    "# Add prob01 column.\n",
    "\n",
    "preds01 <- predict(rfclf_best, newdata= traindat[, rfclf_columns], type=\"prob\")\n",
    "\n",
    "# preds01 is a matrix with 2 columns.\n",
    "kmtrain$prob01 <- preds01[, 2]\n",
    "summary(kmtrain$prob01)\n"
   ]
  },
  {
   "cell_type": "code",
   "execution_count": 31,
   "metadata": {},
   "outputs": [],
   "source": [
    "# Scale data for svm model.\n",
    "\n",
    "svmtrain <- traindat[, svm02_columns]\n",
    "svmtrain$median_house_value <- log(svmtrain$median_house_value)\n",
    "\n",
    "svm_scaled <- scale(svmtrain[, -1])\n",
    "svm_centers <- attr(svm_scaled, \"scaled:center\")\n",
    "svm_scales <- attr(svm_scaled, \"scaled:scale\")\n",
    "svm_scaled <- as.data.frame(cbind(as.numeric(svmtrain$Inland), svm_scaled),\n",
    "                            row.names=rownames(svmtrain))\n",
    "colnames(svm_scaled) <- colnames(svmtrain)\n"
   ]
  },
  {
   "cell_type": "code",
   "execution_count": 32,
   "metadata": {},
   "outputs": [],
   "source": [
    "# SVM model for the prob02 column:\n",
    "\n",
    "svm02 <- svm(I(as.factor(Inland)) ~ ., data=svm_scaled, kernel=\"radial\",\n",
    "               gamma=0.06, cost=80, scale=FALSE, probability=TRUE)\n"
   ]
  },
  {
   "cell_type": "code",
   "execution_count": 33,
   "metadata": {},
   "outputs": [
    {
     "data": {
      "text/plain": [
       "   Min. 1st Qu.  Median    Mean 3rd Qu.    Max. \n",
       " 0.0000  0.0475  0.1017  0.3192  0.6861  0.9999 "
      ]
     },
     "metadata": {},
     "output_type": "display_data"
    }
   ],
   "source": [
    "# Construct prob02 column.\n",
    "\n",
    "preds02 <- predict(svm02, newdata=svm_scaled, probability=TRUE)\n",
    "kmtrain$prob02 <- as.numeric(attr(preds02, \"probabilities\")[, 2])\n",
    "summary(kmtrain$prob02)\n"
   ]
  },
  {
   "cell_type": "code",
   "execution_count": 34,
   "metadata": {},
   "outputs": [],
   "source": [
    "# Initial scaling of kmtrain:\n",
    "\n",
    "kmtrain_scaled <- scale(kmtrain[, -1])\n",
    "centers <- attr(kmtrain_scaled, \"scaled:center\")\n",
    "scales <- attr(kmtrain_scaled, \"scaled:scale\")\n"
   ]
  },
  {
   "cell_type": "code",
   "execution_count": 35,
   "metadata": {},
   "outputs": [],
   "source": [
    "# Apply min-max scaling to reduce the effects of the\n",
    "# more extreme values.\n",
    "\n",
    "kmtrain_minmax <- apply(kmtrain_scaled, MARGIN=2, range01)\n",
    "kmtrain_minmax <- as.data.frame(cbind(as.numeric(kmtrain$Inland), kmtrain_minmax),\n",
    "                                row.names=rownames(kmtrain))\n",
    "colnames(kmtrain_minmax) <- colnames(kmtrain)\n"
   ]
  },
  {
   "cell_type": "code",
   "execution_count": 36,
   "metadata": {},
   "outputs": [
    {
     "data": {
      "text/plain": [
       "Time difference of 0.05 secs"
      ]
     },
     "metadata": {},
     "output_type": "display_data"
    },
    {
     "name": "stdout",
     "output_type": "stream",
     "text": [
      "[1] 7008 3188\n"
     ]
    }
   ],
   "source": [
    "# Run k-means algorithm with number of clusters set to 2.\n",
    "\n",
    "set.seed(1233)\n",
    "start <- Sys.time()\n",
    "kmp1p2 <- kmeans(kmtrain_minmax[, -1], 2, iter.max = 50, nstart = 15)\n",
    "stop <- Sys.time()\n",
    "round(stop - start, 2)\n",
    "# Time difference of 0.15 secs\n",
    "\n",
    "print(kmp1p2$size)\n"
   ]
  },
  {
   "cell_type": "code",
   "execution_count": 37,
   "metadata": {},
   "outputs": [
    {
     "data": {
      "text/html": [
       "0.3187"
      ],
      "text/latex": [
       "0.3187"
      ],
      "text/markdown": [
       "0.3187"
      ],
      "text/plain": [
       "[1] 0.3187"
      ]
     },
     "metadata": {},
     "output_type": "display_data"
    }
   ],
   "source": [
    "# Get percent of Inland districts in kmtrain.\n",
    "\n",
    "kmtrain_Inland_percent <- mean(kmtrain$Inland)\n",
    "round(kmtrain_Inland_percent, 4)\n"
   ]
  },
  {
   "cell_type": "code",
   "execution_count": 38,
   "metadata": {},
   "outputs": [
    {
     "name": "stdout",
     "output_type": "stream",
     "text": [
      "     0    1 class.error\n",
      "0 6722  225      0.0324\n",
      "1  286 2963      0.0880\n"
     ]
    },
    {
     "data": {
      "text/html": [
       "''"
      ],
      "text/latex": [
       "''"
      ],
      "text/markdown": [
       "''"
      ],
      "text/plain": [
       "[1] \"\""
      ]
     },
     "metadata": {},
     "output_type": "display_data"
    },
    {
     "name": "stdout",
     "output_type": "stream",
     "text": [
      "[1] \"f-score for kmp1p2, train set: 0.9206\"\n"
     ]
    },
    {
     "data": {
      "text/html": [
       "''"
      ],
      "text/latex": [
       "''"
      ],
      "text/markdown": [
       "''"
      ],
      "text/plain": [
       "[1] \"\""
      ]
     },
     "metadata": {},
     "output_type": "display_data"
    },
    {
     "name": "stdout",
     "output_type": "stream",
     "text": [
      "[1] \"Type2 score for kmp1p2, train set: 0.9323\"\n"
     ]
    },
    {
     "data": {
      "text/html": [
       "''"
      ],
      "text/latex": [
       "''"
      ],
      "text/markdown": [
       "''"
      ],
      "text/plain": [
       "[1] \"\""
      ]
     },
     "metadata": {},
     "output_type": "display_data"
    },
    {
     "name": "stdout",
     "output_type": "stream",
     "text": [
      "[1] \"Accuracy: 0.9499\"\n"
     ]
    }
   ],
   "source": [
    "# See how the clusters are associated with Inland.\n",
    "\n",
    "dfout <- as.data.frame(cbind(kmtrain$Inland, kmp1p2$cluster))\n",
    "colnames(dfout) <- c(\"Inland\", \"cluster\")\n",
    "rownames(dfout) <- rownames(kmtrain)\n",
    "dat_c1 <- dfout[which(dfout$cluster== 1),]\n",
    "datc1_Inland_percent <- mean(dat_c1$Inland)\n",
    "\n",
    "tmpdat <- dfout\n",
    "\n",
    "c1_to_InlandYES <- FALSE\n",
    "if(datc1_Inland_percent >= kmtrain_Inland_percent) { c1_to_InlandYES <- TRUE }\n",
    "        \n",
    "if(c1_to_InlandYES) {\n",
    "    # cluster 1 is associated with the Inland districts\n",
    "    tmpdat[which(tmpdat$cluster== 1),]$Inland <- 1\n",
    "    tmpdat[which(tmpdat$cluster== 2),]$Inland <- 0\n",
    "} else {\n",
    "    # cluster 2 is associated with the Inland districts\n",
    "    tmpdat[which(tmpdat$cluster== 2),]$Inland <- 1\n",
    "    tmpdat[which(tmpdat$cluster== 1),]$Inland <- 0\n",
    "}\n",
    "        \n",
    "# Generate confusion matrix for the k-means clusters and\n",
    "# the corresponding f-score.\n",
    "preds <- as.factor(tmpdat$Inland)\n",
    "names(preds) <- rownames(tmpdat)\n",
    "ans <- get_confusion(preds, kmtrain[, \"Inland\", drop=FALSE])\n",
    "\n",
    "print(ans$matrix)\n",
    "''\n",
    "print(paste(\"f-score for kmp1p2, train set: \", as.character(ans[[2]]), sep=\"\"))\n",
    "\n",
    "mat <- as.matrix(ans[[1]])\n",
    "percent_correct <- sum(diag(mat))/floor(sum(mat))\n",
    "result <- round((0.4 * percent_correct + 0.6 * ans[[2]]), 4)\n",
    "\n",
    "''\n",
    "print(paste(\"Type2 score for kmp1p2, train set: \", as.character(result), sep=\"\"))\n",
    "\n",
    "\"\"\n",
    "print(paste(\"Accuracy: \", as.character(round(percent_correct,4)), sep=\"\"))\n",
    "# [1] \"Accuracy: 0.5867\"\n"
   ]
  },
  {
   "cell_type": "markdown",
   "metadata": {},
   "source": [
    "### Get scores on testset for kmp1p2"
   ]
  },
  {
   "cell_type": "code",
   "execution_count": 39,
   "metadata": {},
   "outputs": [],
   "source": [
    "# SVM scaling for testdat records.\n",
    "\n",
    "svmtest <- testdat[, svm02_columns]\n",
    "svmtest$median_house_value <- log(svmtest$median_house_value)\n",
    "\n",
    "svmtest_scaled <- scale(svmtest[, -1], center= svm_centers, scale= svm_scales)\n",
    "svmtest_scaled <- as.data.frame(cbind(as.numeric(svmtest$Inland), svmtest_scaled),\n",
    "                                row.names=rownames(svmtest))\n",
    "colnames(svmtest_scaled) <- colnames(svmtest)\n"
   ]
  },
  {
   "cell_type": "code",
   "execution_count": 40,
   "metadata": {},
   "outputs": [],
   "source": [
    "# Add the prob01 and prob02 columns to testdat.  For prob02\n",
    "# I am cheating a bit because the svm scaling is over all of\n",
    "# testdat.  A more rigorous treatment would require separate\n",
    "# scaling and predictions for each set of 4K records sampled\n",
    "# from testdat in the get_testdatScores_kmp1p2 function below.\n",
    "\n",
    "kmtest <- testdat[, km_columns]\n",
    "\n",
    "preds01 <- predict(rfclf_best, newdata=testdat[, rfclf_columns],\n",
    "                          type=\"prob\")\n",
    "preds02 <- predict(svm02, newdata=svmtest_scaled, probability=TRUE)\n",
    "\n",
    "\n",
    "kmtest$prob01 <- preds01[, 2]\n",
    "kmtest$prob02 <- as.numeric(attr(preds02, \"probabilities\")[, 2])\n"
   ]
  },
  {
   "cell_type": "code",
   "execution_count": 41,
   "metadata": {},
   "outputs": [
    {
     "data": {
      "text/html": [
       "<table>\n",
       "<caption>A matrix: 2 × 8 of type dbl</caption>\n",
       "<thead>\n",
       "\t<tr><th></th><th scope=col>housing_median_age</th><th scope=col>median_house_value</th><th scope=col>HHdens_ln</th><th scope=col>rooms_per_hh</th><th scope=col>bdrms_per_room</th><th scope=col>pop_per_hh</th><th scope=col>prob01</th><th scope=col>prob02</th></tr>\n",
       "</thead>\n",
       "<tbody>\n",
       "\t<tr><th scope=row>1</th><td>0.52657</td><td>0.34810</td><td>0.70255</td><td>0.11979</td><td>0.24111</td><td>0.12341</td><td>0.063744</td><td>0.095232</td></tr>\n",
       "\t<tr><th scope=row>2</th><td>0.39732</td><td>0.14558</td><td>0.54147</td><td>0.13894</td><td>0.20998</td><td>0.12386</td><td>0.880459</td><td>0.811724</td></tr>\n",
       "</tbody>\n",
       "</table>\n"
      ],
      "text/latex": [
       "A matrix: 2 × 8 of type dbl\n",
       "\\begin{tabular}{r|llllllll}\n",
       "  & housing\\_median\\_age & median\\_house\\_value & HHdens\\_ln & rooms\\_per\\_hh & bdrms\\_per\\_room & pop\\_per\\_hh & prob01 & prob02\\\\\n",
       "\\hline\n",
       "\t1 & 0.52657 & 0.34810 & 0.70255 & 0.11979 & 0.24111 & 0.12341 & 0.063744 & 0.095232\\\\\n",
       "\t2 & 0.39732 & 0.14558 & 0.54147 & 0.13894 & 0.20998 & 0.12386 & 0.880459 & 0.811724\\\\\n",
       "\\end{tabular}\n"
      ],
      "text/markdown": [
       "\n",
       "A matrix: 2 × 8 of type dbl\n",
       "\n",
       "| <!--/--> | housing_median_age | median_house_value | HHdens_ln | rooms_per_hh | bdrms_per_room | pop_per_hh | prob01 | prob02 |\n",
       "|---|---|---|---|---|---|---|---|---|\n",
       "| 1 | 0.52657 | 0.34810 | 0.70255 | 0.11979 | 0.24111 | 0.12341 | 0.063744 | 0.095232 |\n",
       "| 2 | 0.39732 | 0.14558 | 0.54147 | 0.13894 | 0.20998 | 0.12386 | 0.880459 | 0.811724 |\n",
       "\n"
      ],
      "text/plain": [
       "  housing_median_age median_house_value HHdens_ln rooms_per_hh bdrms_per_room\n",
       "1 0.52657            0.34810            0.70255   0.11979      0.24111       \n",
       "2 0.39732            0.14558            0.54147   0.13894      0.20998       \n",
       "  pop_per_hh prob01   prob02  \n",
       "1 0.12341    0.063744 0.095232\n",
       "2 0.12386    0.880459 0.811724"
      ]
     },
     "metadata": {},
     "output_type": "display_data"
    }
   ],
   "source": [
    "kmp1p2$centers\n"
   ]
  },
  {
   "cell_type": "code",
   "execution_count": 42,
   "metadata": {},
   "outputs": [],
   "source": [
    "# Function for obtaining a set of scores on the testset data\n",
    "# using kmp1p2 as the classifier. \n",
    "\n",
    "### NOTE: the value of c1_to_InlandYES from above is being  \n",
    "### used in the following function.\n",
    "\n",
    "get_testdatScores_kmp1p2 <- function(seedv, dat) {\n",
    "    \n",
    "    n_smp <- 4000\n",
    "    \n",
    "    seedv_len <- length(seedv)\n",
    "    datout <- rep(NA, 5 * seedv_len)\n",
    "    dim(datout) <- c(seedv_len, 5)\n",
    "    datout <- as.data.frame(datout)\n",
    "    colnames(datout) <- c(\"fscore\",\"Acc\",\"Type2\", \"FN\",\"FP\")\n",
    "    rownames(datout) <- as.character(seedv)\n",
    "    \n",
    "    # Using model kmp1p2 from above.\n",
    "    ctr_list <- vector(\"list\", length= n_smp)\n",
    "    for(i in 1:n_smp) {\n",
    "        ctr_list[[i]] <- kmp1p2$centers\n",
    "    }\n",
    "    \n",
    "    for(h in 1:seedv_len) {\n",
    "        # shuffle dat\n",
    "        cur_seed <- seedv[h]\n",
    "        set.seed(cur_seed)\n",
    "        # It is expected that dat is testdat, which has 10K rcds\n",
    "        smp <- sample(rownames(dat), n_smp, replace= FALSE)\n",
    "        df <- dat[smp,]\n",
    "        \n",
    "        # CAUTION: df has the prob01 & prob02 columns.\n",
    "        \n",
    "        # Scale df using the centers and scales from kmtrain_scaled.\n",
    "        df_scaled <- scale(df[, -1], center=centers, scale=scales)\n",
    "        \n",
    "        # Apply min-max scaling to df_scaled.\n",
    "        df02_scaled <- apply(df_scaled, MARGIN=2, range01)\n",
    "        df02_scaled <- as.data.frame(df02_scaled,\n",
    "                                     row.names=rownames(df))\n",
    "        colnames(df02_scaled) <- colnames(kmp1p2$centers)\n",
    "        \n",
    "        \n",
    "        # Each element of the following list is a row of df.\n",
    "        df02_asList <- split(df02_scaled[, colnames(kmp1p2$centers)], seq(n_smp))\n",
    "        names(ctr_list) <- rownames(df)\n",
    "    \n",
    "        # Get the predictions for df.\n",
    "        preds <- mcmapply(getCluster, df02_asList, ctr_list,\n",
    "                          SIMPLIFY=TRUE, mc.cores=6)\n",
    "        df$cluster <- as.numeric(preds)\n",
    "    \n",
    "        df$pred_Inland <- NA\n",
    "        if(c1_to_InlandYES) {\n",
    "            df[which(df$cluster==1),]$pred_Inland <- 1\n",
    "            df[which(df$cluster==2),]$pred_Inland <- 0\n",
    "        } else {\n",
    "            df[which(df$cluster==1),]$pred_Inland <- 0\n",
    "            df[which(df$cluster==2),]$pred_Inland <- 1\n",
    "        }\n",
    "    \n",
    "        # Generate confusion matrix.\n",
    "        preds <- as.factor(df$pred_Inland)\n",
    "        names(preds) <- rownames(df)\n",
    "        ans <- get_confusion(preds, df[, \"Inland\", drop=FALSE])\n",
    "        \n",
    "        mat <- as.matrix(ans[[1]])\n",
    "        fscore <- round(as.numeric(ans[[2]]), 4)\n",
    "        acc <- round(sum(diag(mat))/floor(sum(mat)), 4)\n",
    "        type2 <- round((0.4 * acc + 0.6 * ans[[2]]), 4)\n",
    "        FN <- as.numeric(mat[2,1])\n",
    "        FP <- as.numeric(mat[1,2])\n",
    "        datout[as.character(cur_seed), 1:5] <- c(fscore,acc,type2,FN,FP)\n",
    "    }\n",
    "    return(datout)\n",
    "}\n"
   ]
  },
  {
   "cell_type": "code",
   "execution_count": 43,
   "metadata": {},
   "outputs": [
    {
     "data": {
      "text/html": [
       "'Start time: 2021-04-30 08:58:41'"
      ],
      "text/latex": [
       "'Start time: 2021-04-30 08:58:41'"
      ],
      "text/markdown": [
       "'Start time: 2021-04-30 08:58:41'"
      ],
      "text/plain": [
       "[1] \"Start time: 2021-04-30 08:58:41\""
      ]
     },
     "metadata": {},
     "output_type": "display_data"
    },
    {
     "data": {
      "text/plain": [
       "Time difference of 10.6 mins"
      ]
     },
     "metadata": {},
     "output_type": "display_data"
    }
   ],
   "source": [
    "# Get kmp1p2's scores on the testset data.  For each of\n",
    "# the 250 seeds, I sample 4K (no replacement) from the 10K\n",
    "# set of testdat records.\n",
    "\n",
    "set.seed(1821)\n",
    "seed_vector <- sample(1:9999, 250, replace=FALSE)\n",
    "\n",
    "start <- Sys.time()\n",
    "paste(\"Start time: \", start, sep=\"\")\n",
    "dat_result <- get_testdatScores_kmp1p2(seed_vector, kmtest)\n",
    "stop <- Sys.time()\n",
    "round(stop - start, 2)\n",
    "# Time difference of 10.41 mins\n"
   ]
  },
  {
   "cell_type": "code",
   "execution_count": 44,
   "metadata": {},
   "outputs": [
    {
     "data": {
      "text/html": [
       "'fscore mean: 0.8346'"
      ],
      "text/latex": [
       "'fscore mean: 0.8346'"
      ],
      "text/markdown": [
       "'fscore mean: 0.8346'"
      ],
      "text/plain": [
       "[1] \"fscore mean: 0.8346\""
      ]
     },
     "metadata": {},
     "output_type": "display_data"
    },
    {
     "data": {
      "text/html": [
       "'fscore StdDev: 0.0059'"
      ],
      "text/latex": [
       "'fscore StdDev: 0.0059'"
      ],
      "text/markdown": [
       "'fscore StdDev: 0.0059'"
      ],
      "text/plain": [
       "[1] \"fscore StdDev: 0.0059\""
      ]
     },
     "metadata": {},
     "output_type": "display_data"
    },
    {
     "data": {
      "text/html": [
       "''"
      ],
      "text/latex": [
       "''"
      ],
      "text/markdown": [
       "''"
      ],
      "text/plain": [
       "[1] \"\""
      ]
     },
     "metadata": {},
     "output_type": "display_data"
    },
    {
     "data": {
      "text/plain": [
       "   Min. 1st Qu.  Median    Mean 3rd Qu.    Max. \n",
       "  0.819   0.831   0.834   0.835   0.838   0.849 "
      ]
     },
     "metadata": {},
     "output_type": "display_data"
    }
   ],
   "source": [
    "fscore_mean <- round(mean(dat_result$fscore), 4)\n",
    "fscore_sd <- round(sd(dat_result$fscore), 4)\n",
    "paste0(\"fscore mean: \", as.character(fscore_mean))\n",
    "# 0.8346\n",
    "paste0(\"fscore StdDev: \", as.character(fscore_sd))\n",
    "# 0.0059\n",
    "\"\"\n",
    "summary(dat_result$fscore)\n"
   ]
  },
  {
   "cell_type": "code",
   "execution_count": 45,
   "metadata": {},
   "outputs": [
    {
     "data": {
      "text/html": [
       "'accuracy mean: 0.8962'"
      ],
      "text/latex": [
       "'accuracy mean: 0.8962'"
      ],
      "text/markdown": [
       "'accuracy mean: 0.8962'"
      ],
      "text/plain": [
       "[1] \"accuracy mean: 0.8962\""
      ]
     },
     "metadata": {},
     "output_type": "display_data"
    },
    {
     "data": {
      "text/html": [
       "'accuracy StdDev: 0.0037'"
      ],
      "text/latex": [
       "'accuracy StdDev: 0.0037'"
      ],
      "text/markdown": [
       "'accuracy StdDev: 0.0037'"
      ],
      "text/plain": [
       "[1] \"accuracy StdDev: 0.0037\""
      ]
     },
     "metadata": {},
     "output_type": "display_data"
    },
    {
     "data": {
      "text/html": [
       "''"
      ],
      "text/latex": [
       "''"
      ],
      "text/markdown": [
       "''"
      ],
      "text/plain": [
       "[1] \"\""
      ]
     },
     "metadata": {},
     "output_type": "display_data"
    },
    {
     "data": {
      "text/plain": [
       "   Min. 1st Qu.  Median    Mean 3rd Qu.    Max. \n",
       "  0.887   0.894   0.896   0.896   0.898   0.907 "
      ]
     },
     "metadata": {},
     "output_type": "display_data"
    }
   ],
   "source": [
    "Acc_mean <- round(mean(dat_result$Acc), 4)\n",
    "Acc_sd <- round(sd(dat_result$Acc), 4)\n",
    "paste0(\"accuracy mean: \", as.character(Acc_mean))\n",
    "# 0.8962\n",
    "paste0(\"accuracy StdDev: \", as.character(Acc_sd))\n",
    "# 0.0037\n",
    "\"\"\n",
    "summary(dat_result$Acc)\n"
   ]
  },
  {
   "cell_type": "code",
   "execution_count": 46,
   "metadata": {},
   "outputs": [
    {
     "data": {
      "text/html": [
       "'Type2 mean: 0.8593'"
      ],
      "text/latex": [
       "'Type2 mean: 0.8593'"
      ],
      "text/markdown": [
       "'Type2 mean: 0.8593'"
      ],
      "text/plain": [
       "[1] \"Type2 mean: 0.8593\""
      ]
     },
     "metadata": {},
     "output_type": "display_data"
    },
    {
     "data": {
      "text/html": [
       "'Type2 StdDev: 0.0049'"
      ],
      "text/latex": [
       "'Type2 StdDev: 0.0049'"
      ],
      "text/markdown": [
       "'Type2 StdDev: 0.0049'"
      ],
      "text/plain": [
       "[1] \"Type2 StdDev: 0.0049\""
      ]
     },
     "metadata": {},
     "output_type": "display_data"
    },
    {
     "data": {
      "text/html": [
       "''"
      ],
      "text/latex": [
       "''"
      ],
      "text/markdown": [
       "''"
      ],
      "text/plain": [
       "[1] \"\""
      ]
     },
     "metadata": {},
     "output_type": "display_data"
    },
    {
     "data": {
      "text/plain": [
       "   Min. 1st Qu.  Median    Mean 3rd Qu.    Max. \n",
       "  0.846   0.856   0.859   0.859   0.863   0.872 "
      ]
     },
     "metadata": {},
     "output_type": "display_data"
    }
   ],
   "source": [
    "Type2_mean <- round(mean(dat_result$Type2), 4)\n",
    "Type2_sd <- round(sd(dat_result$Type2), 4)\n",
    "paste0(\"Type2 mean: \", as.character(Type2_mean))\n",
    "# 0.8593\n",
    "paste0(\"Type2 StdDev: \", as.character(Type2_sd))\n",
    "# 0.0049\n",
    "\"\"\n",
    "summary(dat_result$Type2)\n"
   ]
  },
  {
   "cell_type": "code",
   "execution_count": 47,
   "metadata": {},
   "outputs": [
    {
     "data": {
      "text/html": [
       "'FN mean: 240.35'"
      ],
      "text/latex": [
       "'FN mean: 240.35'"
      ],
      "text/markdown": [
       "'FN mean: 240.35'"
      ],
      "text/plain": [
       "[1] \"FN mean: 240.35\""
      ]
     },
     "metadata": {},
     "output_type": "display_data"
    },
    {
     "data": {
      "text/html": [
       "'FN StdDev: 11.38'"
      ],
      "text/latex": [
       "'FN StdDev: 11.38'"
      ],
      "text/markdown": [
       "'FN StdDev: 11.38'"
      ],
      "text/plain": [
       "[1] \"FN StdDev: 11.38\""
      ]
     },
     "metadata": {},
     "output_type": "display_data"
    },
    {
     "data": {
      "text/html": [
       "''"
      ],
      "text/latex": [
       "''"
      ],
      "text/markdown": [
       "''"
      ],
      "text/plain": [
       "[1] \"\""
      ]
     },
     "metadata": {},
     "output_type": "display_data"
    },
    {
     "data": {
      "text/plain": [
       "   Min. 1st Qu.  Median    Mean 3rd Qu.    Max. \n",
       "    206     233     241     240     248     272 "
      ]
     },
     "metadata": {},
     "output_type": "display_data"
    }
   ],
   "source": [
    "FN_mean <- round(mean(dat_result$FN), 2)\n",
    "FN_sd <- round(sd(dat_result$FN), 2)\n",
    "paste0(\"FN mean: \", as.character(FN_mean))\n",
    "# 240.4\n",
    "paste0(\"FN StdDev: \", as.character(FN_sd))\n",
    "#  11.4\n",
    "\"\"\n",
    "summary(dat_result$FN)\n"
   ]
  },
  {
   "cell_type": "code",
   "execution_count": 48,
   "metadata": {},
   "outputs": [
    {
     "data": {
      "text/html": [
       "'FP mean: 174.72'"
      ],
      "text/latex": [
       "'FP mean: 174.72'"
      ],
      "text/markdown": [
       "'FP mean: 174.72'"
      ],
      "text/plain": [
       "[1] \"FP mean: 174.72\""
      ]
     },
     "metadata": {},
     "output_type": "display_data"
    },
    {
     "data": {
      "text/html": [
       "'FP StdDev: 9.7'"
      ],
      "text/latex": [
       "'FP StdDev: 9.7'"
      ],
      "text/markdown": [
       "'FP StdDev: 9.7'"
      ],
      "text/plain": [
       "[1] \"FP StdDev: 9.7\""
      ]
     },
     "metadata": {},
     "output_type": "display_data"
    },
    {
     "data": {
      "text/html": [
       "''"
      ],
      "text/latex": [
       "''"
      ],
      "text/markdown": [
       "''"
      ],
      "text/plain": [
       "[1] \"\""
      ]
     },
     "metadata": {},
     "output_type": "display_data"
    },
    {
     "data": {
      "text/plain": [
       "   Min. 1st Qu.  Median    Mean 3rd Qu.    Max. \n",
       "    147     168     175     175     181     200 "
      ]
     },
     "metadata": {},
     "output_type": "display_data"
    }
   ],
   "source": [
    "FP_mean <- round(mean(dat_result$FP), 2)\n",
    "FP_sd <- round(sd(dat_result$FP), 2)\n",
    "paste0(\"FP mean: \", as.character(FP_mean))\n",
    "# 174.7\n",
    "paste0(\"FP StdDev: \", as.character(FP_sd))\n",
    "#  9.7\n",
    "\"\"\n",
    "summary(dat_result$FP)\n"
   ]
  },
  {
   "cell_type": "markdown",
   "metadata": {},
   "source": [
    "## Section 5 Comments"
   ]
  },
  {
   "cell_type": "markdown",
   "metadata": {},
   "source": [
    "The svm02 probabilities are neither helping nor hurting the k-means hybrid model.  If I had used PCA on the 6 predictors I might have gotten slightly better results, or slightly worse results; I do not think the difference would have been great.  "
   ]
  },
  {
   "cell_type": "markdown",
   "metadata": {},
   "source": [
    "# Section 6: different approach using 2 prob columns"
   ]
  },
  {
   "cell_type": "markdown",
   "metadata": {},
   "source": [
    "Here I continue to use 2 probability columns, one from rfclf_best, the other from svm02.  But I apply PCA to the 6 predictors and the svm02 probabilities.  I then add the probabilites from rfclf_best to the model.  \n",
    "\n",
    "The reason for this approach: we saw in Part 2 that the svm02 probabilities did not mix well with those from the random forest model.  Although the dataset in Part 2 is completely different, something similar might be going on here (any complementary information might be nullified by conflicting information).  But the svm02 model is a better model than either f03 or gbclf_best, so if I am going to use a second set of probabilities, I want those from svm02.  If we transform the prob02 column using PCA, we might reduce any conflict existing between the prob01 and prob02 probabilities.\n"
   ]
  },
  {
   "cell_type": "code",
   "execution_count": 49,
   "metadata": {},
   "outputs": [
    {
     "data": {
      "text/html": [
       "<style>\n",
       ".list-inline {list-style: none; margin:0; padding: 0}\n",
       ".list-inline>li {display: inline-block}\n",
       ".list-inline>li:not(:last-child)::after {content: \"\\00b7\"; padding: 0 .5ex}\n",
       "</style>\n",
       "<ol class=list-inline><li>'Inland'</li><li>'housing_median_age'</li><li>'median_house_value'</li><li>'HHdens_ln'</li><li>'rooms_per_hh'</li><li>'bdrms_per_room'</li><li>'pop_per_hh'</li></ol>\n"
      ],
      "text/latex": [
       "\\begin{enumerate*}\n",
       "\\item 'Inland'\n",
       "\\item 'housing\\_median\\_age'\n",
       "\\item 'median\\_house\\_value'\n",
       "\\item 'HHdens\\_ln'\n",
       "\\item 'rooms\\_per\\_hh'\n",
       "\\item 'bdrms\\_per\\_room'\n",
       "\\item 'pop\\_per\\_hh'\n",
       "\\end{enumerate*}\n"
      ],
      "text/markdown": [
       "1. 'Inland'\n",
       "2. 'housing_median_age'\n",
       "3. 'median_house_value'\n",
       "4. 'HHdens_ln'\n",
       "5. 'rooms_per_hh'\n",
       "6. 'bdrms_per_room'\n",
       "7. 'pop_per_hh'\n",
       "\n",
       "\n"
      ],
      "text/plain": [
       "[1] \"Inland\"             \"housing_median_age\" \"median_house_value\"\n",
       "[4] \"HHdens_ln\"          \"rooms_per_hh\"       \"bdrms_per_room\"    \n",
       "[7] \"pop_per_hh\"        "
      ]
     },
     "metadata": {},
     "output_type": "display_data"
    }
   ],
   "source": [
    "kmtrain <- traindat[, km_columns]\n",
    "kmtest <- testdat[, km_columns]\n",
    "colnames(kmtrain)\n"
   ]
  },
  {
   "cell_type": "code",
   "execution_count": 19,
   "metadata": {},
   "outputs": [
    {
     "data": {
      "text/plain": [
       "\n",
       "Call:\n",
       " randomForest(formula = I(as.factor(Inland)) ~ ., data = traindat[,      rfclf_columns], ntree = 900, mtry = 3, nodesize = 1, importance = TRUE) \n",
       "               Type of random forest: classification\n",
       "                     Number of trees: 900\n",
       "No. of variables tried at each split: 3\n",
       "\n",
       "        OOB estimate of  error rate: 10.39%\n",
       "Confusion matrix:\n",
       "     0    1 class.error\n",
       "0 6497  450    0.064776\n",
       "1  609 2640    0.187442"
      ]
     },
     "metadata": {},
     "output_type": "display_data"
    }
   ],
   "source": [
    "# Random forest model for the prob01 column:\n",
    "\n",
    "set.seed(1493)\n",
    "(rfclf_best <- randomForest(I(as.factor(Inland)) ~ ., \n",
    "                            data= traindat[, rfclf_columns], \n",
    "                            ntree=900,\n",
    "                            mtry= 3, nodesize= 1, importance=TRUE))\n"
   ]
  },
  {
   "cell_type": "code",
   "execution_count": 50,
   "metadata": {},
   "outputs": [],
   "source": [
    "# Scale data for svm model.\n",
    "\n",
    "svmtrain <- traindat[, svm02_columns]\n",
    "svmtrain$median_house_value <- log(svmtrain$median_house_value)\n",
    "\n",
    "svm_scaled <- scale(svmtrain[, -1])\n",
    "svm_centers <- attr(svm_scaled, \"scaled:center\")\n",
    "svm_scales <- attr(svm_scaled, \"scaled:scale\")\n",
    "svm_scaled <- as.data.frame(cbind(as.numeric(svmtrain$Inland), svm_scaled),\n",
    "                            row.names=rownames(svmtrain))\n",
    "colnames(svm_scaled) <- colnames(svmtrain)\n"
   ]
  },
  {
   "cell_type": "code",
   "execution_count": 51,
   "metadata": {},
   "outputs": [],
   "source": [
    "# SVM model for the prob02 column:\n",
    "\n",
    "svm02 <- svm(I(as.factor(Inland)) ~ ., data=svm_scaled, kernel=\"radial\",\n",
    "               gamma=0.06, cost=80, scale=FALSE, probability=TRUE)\n"
   ]
  },
  {
   "cell_type": "code",
   "execution_count": 52,
   "metadata": {},
   "outputs": [
    {
     "data": {
      "text/plain": [
       "   Min. 1st Qu.  Median    Mean 3rd Qu.    Max. \n",
       " 0.0000  0.0479  0.1024  0.3196  0.6865  0.9999 "
      ]
     },
     "metadata": {},
     "output_type": "display_data"
    }
   ],
   "source": [
    "# Construct prob02 column.\n",
    "\n",
    "preds02 <- predict(svm02, newdata=svm_scaled, probability=TRUE)\n",
    "kmtrain$prob02 <- as.numeric(attr(preds02, \"probabilities\")[, 2])\n",
    "summary(kmtrain$prob02)\n"
   ]
  },
  {
   "cell_type": "code",
   "execution_count": 53,
   "metadata": {},
   "outputs": [
    {
     "data": {
      "text/plain": [
       "Importance of first k=5 (out of 7) components:\n",
       "                         PC1   PC2   PC3   PC4    PC5\n",
       "Standard deviation     1.517 1.321 0.993 0.896 0.7397\n",
       "Proportion of Variance 0.329 0.249 0.141 0.115 0.0782\n",
       "Cumulative Proportion  0.329 0.578 0.719 0.834 0.9118"
      ]
     },
     "metadata": {},
     "output_type": "display_data"
    }
   ],
   "source": [
    "# Apply PCA.  Use 5 of the 7 components. \n",
    "\n",
    "pca <- prcomp(kmtrain[, c(km_predictors,\"prob02\")], center=TRUE, scale.=TRUE,\n",
    "              rank.=5, retx=TRUE)\n",
    "summary(pca)\n"
   ]
  },
  {
   "cell_type": "code",
   "execution_count": 54,
   "metadata": {},
   "outputs": [
    {
     "data": {
      "text/html": [
       "<table>\n",
       "<caption>A data.frame: 6 × 6</caption>\n",
       "<thead>\n",
       "\t<tr><th></th><th scope=col>Inland</th><th scope=col>pc1</th><th scope=col>pc2</th><th scope=col>pc3</th><th scope=col>pc4</th><th scope=col>pc5</th></tr>\n",
       "\t<tr><th></th><th scope=col>&lt;dbl&gt;</th><th scope=col>&lt;dbl&gt;</th><th scope=col>&lt;dbl&gt;</th><th scope=col>&lt;dbl&gt;</th><th scope=col>&lt;dbl&gt;</th><th scope=col>&lt;dbl&gt;</th></tr>\n",
       "</thead>\n",
       "<tbody>\n",
       "\t<tr><th scope=row>11174</th><td>0</td><td>-0.050533</td><td>-0.92857</td><td>-0.762667</td><td>-0.18391</td><td> 0.521402</td></tr>\n",
       "\t<tr><th scope=row>1542</th><td>0</td><td> 0.599497</td><td>-1.52889</td><td>-0.716347</td><td> 0.95981</td><td> 0.414506</td></tr>\n",
       "\t<tr><th scope=row>3537</th><td>0</td><td>-1.037601</td><td> 0.70059</td><td> 0.893106</td><td> 1.49712</td><td> 0.152263</td></tr>\n",
       "\t<tr><th scope=row>12747</th><td>1</td><td> 1.167845</td><td> 0.87609</td><td> 0.734401</td><td> 1.19491</td><td> 1.266115</td></tr>\n",
       "\t<tr><th scope=row>13348</th><td>1</td><td>-0.256596</td><td> 0.87814</td><td>-0.090126</td><td>-1.32222</td><td> 0.581090</td></tr>\n",
       "\t<tr><th scope=row>6628</th><td>0</td><td>-1.620032</td><td> 0.42692</td><td> 1.467853</td><td> 0.77186</td><td>-0.096807</td></tr>\n",
       "</tbody>\n",
       "</table>\n"
      ],
      "text/latex": [
       "A data.frame: 6 × 6\n",
       "\\begin{tabular}{r|llllll}\n",
       "  & Inland & pc1 & pc2 & pc3 & pc4 & pc5\\\\\n",
       "  & <dbl> & <dbl> & <dbl> & <dbl> & <dbl> & <dbl>\\\\\n",
       "\\hline\n",
       "\t11174 & 0 & -0.050533 & -0.92857 & -0.762667 & -0.18391 &  0.521402\\\\\n",
       "\t1542 & 0 &  0.599497 & -1.52889 & -0.716347 &  0.95981 &  0.414506\\\\\n",
       "\t3537 & 0 & -1.037601 &  0.70059 &  0.893106 &  1.49712 &  0.152263\\\\\n",
       "\t12747 & 1 &  1.167845 &  0.87609 &  0.734401 &  1.19491 &  1.266115\\\\\n",
       "\t13348 & 1 & -0.256596 &  0.87814 & -0.090126 & -1.32222 &  0.581090\\\\\n",
       "\t6628 & 0 & -1.620032 &  0.42692 &  1.467853 &  0.77186 & -0.096807\\\\\n",
       "\\end{tabular}\n"
      ],
      "text/markdown": [
       "\n",
       "A data.frame: 6 × 6\n",
       "\n",
       "| <!--/--> | Inland &lt;dbl&gt; | pc1 &lt;dbl&gt; | pc2 &lt;dbl&gt; | pc3 &lt;dbl&gt; | pc4 &lt;dbl&gt; | pc5 &lt;dbl&gt; |\n",
       "|---|---|---|---|---|---|---|\n",
       "| 11174 | 0 | -0.050533 | -0.92857 | -0.762667 | -0.18391 |  0.521402 |\n",
       "| 1542 | 0 |  0.599497 | -1.52889 | -0.716347 |  0.95981 |  0.414506 |\n",
       "| 3537 | 0 | -1.037601 |  0.70059 |  0.893106 |  1.49712 |  0.152263 |\n",
       "| 12747 | 1 |  1.167845 |  0.87609 |  0.734401 |  1.19491 |  1.266115 |\n",
       "| 13348 | 1 | -0.256596 |  0.87814 | -0.090126 | -1.32222 |  0.581090 |\n",
       "| 6628 | 0 | -1.620032 |  0.42692 |  1.467853 |  0.77186 | -0.096807 |\n",
       "\n"
      ],
      "text/plain": [
       "      Inland pc1       pc2      pc3       pc4      pc5      \n",
       "11174 0      -0.050533 -0.92857 -0.762667 -0.18391  0.521402\n",
       "1542  0       0.599497 -1.52889 -0.716347  0.95981  0.414506\n",
       "3537  0      -1.037601  0.70059  0.893106  1.49712  0.152263\n",
       "12747 1       1.167845  0.87609  0.734401  1.19491  1.266115\n",
       "13348 1      -0.256596  0.87814 -0.090126 -1.32222  0.581090\n",
       "6628  0      -1.620032  0.42692  1.467853  0.77186 -0.096807"
      ]
     },
     "metadata": {},
     "output_type": "display_data"
    }
   ],
   "source": [
    "# Construct training set data for k-means modeling\n",
    "# with PCA.\n",
    "\n",
    "kmtrain02 <- cbind(as.numeric(traindat$Inland), as.data.frame(pca$x))\n",
    "rownames(kmtrain02) <- rownames(traindat)\n",
    "colnames(kmtrain02) <- c(\"Inland\",\"pc1\",\"pc2\",\"pc3\",\"pc4\",\"pc5\")\n",
    "head(kmtrain02)\n"
   ]
  },
  {
   "cell_type": "code",
   "execution_count": 55,
   "metadata": {},
   "outputs": [
    {
     "data": {
      "text/html": [
       "<table>\n",
       "<caption>A data.frame: 6 × 6</caption>\n",
       "<thead>\n",
       "\t<tr><th></th><th scope=col>Inland</th><th scope=col>pc1</th><th scope=col>pc2</th><th scope=col>pc3</th><th scope=col>pc4</th><th scope=col>pc5</th></tr>\n",
       "\t<tr><th></th><th scope=col>&lt;dbl&gt;</th><th scope=col>&lt;dbl&gt;</th><th scope=col>&lt;dbl&gt;</th><th scope=col>&lt;dbl&gt;</th><th scope=col>&lt;dbl&gt;</th><th scope=col>&lt;dbl&gt;</th></tr>\n",
       "</thead>\n",
       "<tbody>\n",
       "\t<tr><th scope=row>11174</th><td>0</td><td>0.33699</td><td>0.53104</td><td>0.80673</td><td>0.45260</td><td>0.68716</td></tr>\n",
       "\t<tr><th scope=row>1542</th><td>0</td><td>0.37827</td><td>0.48441</td><td>0.80902</td><td>0.63860</td><td>0.67339</td></tr>\n",
       "\t<tr><th scope=row>3537</th><td>0</td><td>0.27430</td><td>0.65758</td><td>0.88845</td><td>0.72598</td><td>0.63961</td></tr>\n",
       "\t<tr><th scope=row>12747</th><td>1</td><td>0.41437</td><td>0.67121</td><td>0.88062</td><td>0.67683</td><td>0.78309</td></tr>\n",
       "\t<tr><th scope=row>13348</th><td>1</td><td>0.32390</td><td>0.67137</td><td>0.83993</td><td>0.26748</td><td>0.69485</td></tr>\n",
       "\t<tr><th scope=row>6628</th><td>0</td><td>0.23731</td><td>0.63632</td><td>0.91682</td><td>0.60803</td><td>0.60753</td></tr>\n",
       "</tbody>\n",
       "</table>\n"
      ],
      "text/latex": [
       "A data.frame: 6 × 6\n",
       "\\begin{tabular}{r|llllll}\n",
       "  & Inland & pc1 & pc2 & pc3 & pc4 & pc5\\\\\n",
       "  & <dbl> & <dbl> & <dbl> & <dbl> & <dbl> & <dbl>\\\\\n",
       "\\hline\n",
       "\t11174 & 0 & 0.33699 & 0.53104 & 0.80673 & 0.45260 & 0.68716\\\\\n",
       "\t1542 & 0 & 0.37827 & 0.48441 & 0.80902 & 0.63860 & 0.67339\\\\\n",
       "\t3537 & 0 & 0.27430 & 0.65758 & 0.88845 & 0.72598 & 0.63961\\\\\n",
       "\t12747 & 1 & 0.41437 & 0.67121 & 0.88062 & 0.67683 & 0.78309\\\\\n",
       "\t13348 & 1 & 0.32390 & 0.67137 & 0.83993 & 0.26748 & 0.69485\\\\\n",
       "\t6628 & 0 & 0.23731 & 0.63632 & 0.91682 & 0.60803 & 0.60753\\\\\n",
       "\\end{tabular}\n"
      ],
      "text/markdown": [
       "\n",
       "A data.frame: 6 × 6\n",
       "\n",
       "| <!--/--> | Inland &lt;dbl&gt; | pc1 &lt;dbl&gt; | pc2 &lt;dbl&gt; | pc3 &lt;dbl&gt; | pc4 &lt;dbl&gt; | pc5 &lt;dbl&gt; |\n",
       "|---|---|---|---|---|---|---|\n",
       "| 11174 | 0 | 0.33699 | 0.53104 | 0.80673 | 0.45260 | 0.68716 |\n",
       "| 1542 | 0 | 0.37827 | 0.48441 | 0.80902 | 0.63860 | 0.67339 |\n",
       "| 3537 | 0 | 0.27430 | 0.65758 | 0.88845 | 0.72598 | 0.63961 |\n",
       "| 12747 | 1 | 0.41437 | 0.67121 | 0.88062 | 0.67683 | 0.78309 |\n",
       "| 13348 | 1 | 0.32390 | 0.67137 | 0.83993 | 0.26748 | 0.69485 |\n",
       "| 6628 | 0 | 0.23731 | 0.63632 | 0.91682 | 0.60803 | 0.60753 |\n",
       "\n"
      ],
      "text/plain": [
       "      Inland pc1     pc2     pc3     pc4     pc5    \n",
       "11174 0      0.33699 0.53104 0.80673 0.45260 0.68716\n",
       "1542  0      0.37827 0.48441 0.80902 0.63860 0.67339\n",
       "3537  0      0.27430 0.65758 0.88845 0.72598 0.63961\n",
       "12747 1      0.41437 0.67121 0.88062 0.67683 0.78309\n",
       "13348 1      0.32390 0.67137 0.83993 0.26748 0.69485\n",
       "6628  0      0.23731 0.63632 0.91682 0.60803 0.60753"
      ]
     },
     "metadata": {},
     "output_type": "display_data"
    }
   ],
   "source": [
    "# Apply min-max scaling.\n",
    "\n",
    "kmtrain02_scaled <- apply(kmtrain02[, -1], MARGIN=2, range01)\n",
    "kmtrain02_scaled <- as.data.frame(cbind(kmtrain02$Inland, kmtrain02_scaled),\n",
    "                                row.names=rownames(kmtrain02))\n",
    "colnames(kmtrain02_scaled) <- colnames(kmtrain02)\n",
    "head(kmtrain02_scaled)\n"
   ]
  },
  {
   "cell_type": "code",
   "execution_count": 56,
   "metadata": {},
   "outputs": [
    {
     "data": {
      "text/plain": [
       "   Min. 1st Qu.  Median    Mean 3rd Qu.    Max. \n",
       "0.00000 0.00889 0.04778 0.31911 0.83778 1.00000 "
      ]
     },
     "metadata": {},
     "output_type": "display_data"
    }
   ],
   "source": [
    "# Add prob01 column.\n",
    "\n",
    "preds01 <- predict(rfclf_best, newdata= traindat[, rfclf_columns], type=\"prob\")\n",
    "\n",
    "# preds01 is a matrix with 2 columns.\n",
    "kmtrain02_scaled$prob01 <- preds01[, 2]\n",
    "summary(kmtrain02_scaled$prob01)\n"
   ]
  },
  {
   "cell_type": "code",
   "execution_count": 57,
   "metadata": {},
   "outputs": [
    {
     "data": {
      "text/plain": [
       "Time difference of 0.03 secs"
      ]
     },
     "metadata": {},
     "output_type": "display_data"
    },
    {
     "name": "stdout",
     "output_type": "stream",
     "text": [
      "[1] 6947 3249\n"
     ]
    }
   ],
   "source": [
    "# Run k-means algorithm with number of clusters set to 2.\n",
    "\n",
    "set.seed(1233)\n",
    "start <- Sys.time()\n",
    "kmp1p2_b <- kmeans(kmtrain02_scaled[, -1], 2, iter.max = 50, nstart = 15)\n",
    "stop <- Sys.time()\n",
    "round(stop - start, 2)\n",
    "# Time difference of 0.15 secs\n",
    "\n",
    "print(kmp1p2_b$size)\n"
   ]
  },
  {
   "cell_type": "code",
   "execution_count": 58,
   "metadata": {},
   "outputs": [
    {
     "data": {
      "text/html": [
       "0.3187"
      ],
      "text/latex": [
       "0.3187"
      ],
      "text/markdown": [
       "0.3187"
      ],
      "text/plain": [
       "[1] 0.3187"
      ]
     },
     "metadata": {},
     "output_type": "display_data"
    }
   ],
   "source": [
    "# Get percent of Inland districts in kmtrain.\n",
    "\n",
    "kmtrain_Inland_percent <- mean(kmtrain$Inland)\n",
    "round(kmtrain_Inland_percent, 4)\n"
   ]
  },
  {
   "cell_type": "code",
   "execution_count": 59,
   "metadata": {},
   "outputs": [
    {
     "name": "stdout",
     "output_type": "stream",
     "text": [
      "     0    1 class.error\n",
      "0 6947    0           0\n",
      "1    0 3249           0\n"
     ]
    },
    {
     "data": {
      "text/html": [
       "''"
      ],
      "text/latex": [
       "''"
      ],
      "text/markdown": [
       "''"
      ],
      "text/plain": [
       "[1] \"\""
      ]
     },
     "metadata": {},
     "output_type": "display_data"
    },
    {
     "name": "stdout",
     "output_type": "stream",
     "text": [
      "[1] \"f-score for kmp1p2_b, train set: 1\"\n"
     ]
    },
    {
     "data": {
      "text/html": [
       "''"
      ],
      "text/latex": [
       "''"
      ],
      "text/markdown": [
       "''"
      ],
      "text/plain": [
       "[1] \"\""
      ]
     },
     "metadata": {},
     "output_type": "display_data"
    },
    {
     "name": "stdout",
     "output_type": "stream",
     "text": [
      "[1] \"Type2 score for kmp1p2_b, train set: 1\"\n"
     ]
    },
    {
     "data": {
      "text/html": [
       "''"
      ],
      "text/latex": [
       "''"
      ],
      "text/markdown": [
       "''"
      ],
      "text/plain": [
       "[1] \"\""
      ]
     },
     "metadata": {},
     "output_type": "display_data"
    },
    {
     "name": "stdout",
     "output_type": "stream",
     "text": [
      "[1] \"Accuracy: 1\"\n"
     ]
    }
   ],
   "source": [
    "# See how the clusters are associated with Inland.\n",
    "\n",
    "dfout <- as.data.frame(cbind(kmtrain$Inland, kmp1p2_b$cluster))\n",
    "colnames(dfout) <- c(\"Inland\", \"cluster\")\n",
    "rownames(dfout) <- rownames(kmtrain)\n",
    "dat_c1 <- dfout[which(dfout$cluster== 1),]\n",
    "datc1_Inland_percent <- mean(dat_c1$Inland)\n",
    "\n",
    "tmpdat <- dfout\n",
    "\n",
    "c1_to_InlandYES <- FALSE\n",
    "if(datc1_Inland_percent >= kmtrain_Inland_percent) { c1_to_InlandYES <- TRUE }\n",
    "        \n",
    "if(c1_to_InlandYES) {\n",
    "    # cluster 1 is associated with the Inland districts\n",
    "    tmpdat[which(tmpdat$cluster== 1),]$Inland <- 1\n",
    "    tmpdat[which(tmpdat$cluster== 2),]$Inland <- 0\n",
    "} else {\n",
    "    # cluster 2 is associated with the Inland districts\n",
    "    tmpdat[which(tmpdat$cluster== 2),]$Inland <- 1\n",
    "    tmpdat[which(tmpdat$cluster== 1),]$Inland <- 0\n",
    "}\n",
    "        \n",
    "# Generate confusion matrix for the k-means clusters and\n",
    "# the corresponding f-score.\n",
    "preds <- as.factor(tmpdat$Inland)\n",
    "names(preds) <- rownames(tmpdat)\n",
    "ans <- get_confusion(preds, kmtrain[, \"Inland\", drop=FALSE])\n",
    "\n",
    "print(ans$matrix)\n",
    "''\n",
    "print(paste(\"f-score for kmp1p2_b, train set: \", as.character(ans[[2]]), sep=\"\"))\n",
    "\n",
    "mat <- as.matrix(ans[[1]])\n",
    "percent_correct <- sum(diag(mat))/floor(sum(mat))\n",
    "result <- round((0.4 * percent_correct + 0.6 * ans[[2]]), 4)\n",
    "\n",
    "''\n",
    "print(paste(\"Type2 score for kmp1p2_b, train set: \", as.character(result), sep=\"\"))\n",
    "\n",
    "\"\"\n",
    "print(paste(\"Accuracy: \", as.character(round(percent_correct,4)), sep=\"\"))\n"
   ]
  },
  {
   "cell_type": "markdown",
   "metadata": {},
   "source": [
    "### Get scores on testset for kmp1p2_b"
   ]
  },
  {
   "cell_type": "code",
   "execution_count": 60,
   "metadata": {},
   "outputs": [],
   "source": [
    "# SVM scaling for testdat records.\n",
    "\n",
    "svmtest <- testdat[, svm02_columns]\n",
    "svmtest$median_house_value <- log(svmtest$median_house_value)\n",
    "\n",
    "svmtest_scaled <- scale(svmtest[, -1], center= svm_centers, scale= svm_scales)\n",
    "svmtest_scaled <- as.data.frame(cbind(as.numeric(svmtest$Inland), svmtest_scaled),\n",
    "                                row.names=rownames(svmtest))\n",
    "colnames(svmtest_scaled) <- colnames(svmtest)\n"
   ]
  },
  {
   "cell_type": "code",
   "execution_count": 61,
   "metadata": {},
   "outputs": [],
   "source": [
    "# Add the prob02 column to kmtest.\n",
    "\n",
    "kmtest <- testdat[, km_columns]\n",
    "preds02 <- predict(svm02, newdata=svmtest_scaled, probability=TRUE)\n",
    "kmtest$prob02 <- as.numeric(attr(preds02, \"probabilities\")[, 2])\n"
   ]
  },
  {
   "cell_type": "code",
   "execution_count": 62,
   "metadata": {},
   "outputs": [],
   "source": [
    "# Add the prob01 column to kmtest.\n",
    "\n",
    "preds01 <- predict(rfclf_best, newdata=testdat[, rfclf_columns],\n",
    "                          type=\"prob\")\n",
    "kmtest$prob01 <- preds01[, 2]\n"
   ]
  },
  {
   "cell_type": "code",
   "execution_count": 63,
   "metadata": {},
   "outputs": [
    {
     "data": {
      "text/html": [
       "<table>\n",
       "<caption>A matrix: 2 × 6 of type dbl</caption>\n",
       "<thead>\n",
       "\t<tr><th></th><th scope=col>pc1</th><th scope=col>pc2</th><th scope=col>pc3</th><th scope=col>pc4</th><th scope=col>pc5</th><th scope=col>prob01</th></tr>\n",
       "</thead>\n",
       "<tbody>\n",
       "\t<tr><th scope=row>1</th><td>0.29971</td><td>0.57830</td><td>0.83920</td><td>0.50138</td><td>0.61212</td><td>0.045566</td></tr>\n",
       "\t<tr><th scope=row>2</th><td>0.42677</td><td>0.65632</td><td>0.85543</td><td>0.44215</td><td>0.63683</td><td>0.903993</td></tr>\n",
       "</tbody>\n",
       "</table>\n"
      ],
      "text/latex": [
       "A matrix: 2 × 6 of type dbl\n",
       "\\begin{tabular}{r|llllll}\n",
       "  & pc1 & pc2 & pc3 & pc4 & pc5 & prob01\\\\\n",
       "\\hline\n",
       "\t1 & 0.29971 & 0.57830 & 0.83920 & 0.50138 & 0.61212 & 0.045566\\\\\n",
       "\t2 & 0.42677 & 0.65632 & 0.85543 & 0.44215 & 0.63683 & 0.903993\\\\\n",
       "\\end{tabular}\n"
      ],
      "text/markdown": [
       "\n",
       "A matrix: 2 × 6 of type dbl\n",
       "\n",
       "| <!--/--> | pc1 | pc2 | pc3 | pc4 | pc5 | prob01 |\n",
       "|---|---|---|---|---|---|---|\n",
       "| 1 | 0.29971 | 0.57830 | 0.83920 | 0.50138 | 0.61212 | 0.045566 |\n",
       "| 2 | 0.42677 | 0.65632 | 0.85543 | 0.44215 | 0.63683 | 0.903993 |\n",
       "\n"
      ],
      "text/plain": [
       "  pc1     pc2     pc3     pc4     pc5     prob01  \n",
       "1 0.29971 0.57830 0.83920 0.50138 0.61212 0.045566\n",
       "2 0.42677 0.65632 0.85543 0.44215 0.63683 0.903993"
      ]
     },
     "metadata": {},
     "output_type": "display_data"
    }
   ],
   "source": [
    "kmp1p2_b$centers\n"
   ]
  },
  {
   "cell_type": "code",
   "execution_count": 68,
   "metadata": {},
   "outputs": [],
   "source": [
    "# Function for obtaining a set of scores on the testset data\n",
    "# using kmp1p2_b as the classifier. \n",
    "\n",
    "### NOTE: the value of c1_to_InlandYES from above is being  \n",
    "### used in the following function.\n",
    "\n",
    "get_testdatScores_kmp1p2_b <- function(seedv, dat) {\n",
    "    \n",
    "    n_smp <- 4000\n",
    "    \n",
    "    seedv_len <- length(seedv)\n",
    "    datout <- rep(NA, 5 * seedv_len)\n",
    "    dim(datout) <- c(seedv_len, 5)\n",
    "    datout <- as.data.frame(datout)\n",
    "    colnames(datout) <- c(\"fscore\",\"Acc\",\"Type2\", \"FN\",\"FP\")\n",
    "    rownames(datout) <- as.character(seedv)\n",
    "    \n",
    "    # Using model kmp1p2_b from above.\n",
    "    ctr_list <- vector(\"list\", length= n_smp)\n",
    "    for(i in 1:n_smp) {\n",
    "        ctr_list[[i]] <- kmp1p2_b$centers\n",
    "    }\n",
    "    \n",
    "    for(h in 1:seedv_len) {\n",
    "        # shuffle dat\n",
    "        cur_seed <- seedv[h]\n",
    "        set.seed(cur_seed)\n",
    "        # It is expected that dat is testdat, which has 10K rcds\n",
    "        smp <- sample(rownames(dat), n_smp, replace= FALSE)\n",
    "        df <- dat[smp,]\n",
    "        \n",
    "        # CAUTION: df has the prob01 & prob02 columns.\n",
    "        \n",
    "        # Apply PCA.\n",
    "        pca_columns <- c(km_predictors, \"prob02\")\n",
    "        df_pca <- predict(pca, df[, pca_columns])\n",
    "        \n",
    "        # Apply min-max scaling to df_scaled.\n",
    "        df_scaled <- apply(df_pca, MARGIN=2, range01)\n",
    "        df_scaled <- as.data.frame(cbind(df_scaled, df$prob01),\n",
    "                                   row.names=rownames(df))\n",
    "        colnames(df_scaled) <- c(paste0(\"pc\", 1:5),\"prob01\")\n",
    "        \n",
    "        \n",
    "        # Each element of the following list is a row of df.\n",
    "        df_asList <- split(df_scaled[, colnames(kmp1p2_b$centers)], seq(n_smp))\n",
    "        names(ctr_list) <- rownames(df)\n",
    "    \n",
    "        # Get the predictions for df.\n",
    "        preds <- mcmapply(getCluster, df_asList, ctr_list,\n",
    "                          SIMPLIFY=TRUE, mc.cores=6)\n",
    "        df$cluster <- as.numeric(preds)\n",
    "    \n",
    "        df$pred_Inland <- NA\n",
    "        if(c1_to_InlandYES) {\n",
    "            df[which(df$cluster==1),]$pred_Inland <- 1\n",
    "            df[which(df$cluster==2),]$pred_Inland <- 0\n",
    "        } else {\n",
    "            df[which(df$cluster==1),]$pred_Inland <- 0\n",
    "            df[which(df$cluster==2),]$pred_Inland <- 1\n",
    "        }\n",
    "    \n",
    "        # Generate confusion matrix.\n",
    "        preds <- as.factor(df$pred_Inland)\n",
    "        names(preds) <- rownames(df)\n",
    "        ans <- get_confusion(preds, df[, \"Inland\", drop=FALSE])\n",
    "        \n",
    "        mat <- as.matrix(ans[[1]])\n",
    "        fscore <- round(as.numeric(ans[[2]]), 4)\n",
    "        acc <- round(sum(diag(mat))/floor(sum(mat)), 4)\n",
    "        type2 <- round((0.4 * acc + 0.6 * ans[[2]]), 4)\n",
    "        FN <- as.numeric(mat[2,1])\n",
    "        FP <- as.numeric(mat[1,2])\n",
    "        datout[as.character(cur_seed), 1:5] <- c(fscore,acc,type2,FN,FP)\n",
    "    }\n",
    "    return(datout)\n",
    "}\n"
   ]
  },
  {
   "cell_type": "code",
   "execution_count": 71,
   "metadata": {},
   "outputs": [
    {
     "data": {
      "text/html": [
       "'Start time: 2021-04-30 09:41:09'"
      ],
      "text/latex": [
       "'Start time: 2021-04-30 09:41:09'"
      ],
      "text/markdown": [
       "'Start time: 2021-04-30 09:41:09'"
      ],
      "text/plain": [
       "[1] \"Start time: 2021-04-30 09:41:09\""
      ]
     },
     "metadata": {},
     "output_type": "display_data"
    },
    {
     "data": {
      "text/plain": [
       "Time difference of 8.95 mins"
      ]
     },
     "metadata": {},
     "output_type": "display_data"
    }
   ],
   "source": [
    "# Get kmp1p2_b's scores on the testset data.  For each of\n",
    "# the 250 seeds, I sample 4K (no replacement) from the 10K\n",
    "# set of testdat records.\n",
    "\n",
    "set.seed(1821)\n",
    "seed_vector <- sample(1:9999, 250, replace=FALSE)\n",
    "\n",
    "start <- Sys.time()\n",
    "paste(\"Start time: \", start, sep=\"\")\n",
    "dat_result <- get_testdatScores_kmp1p2_b(seed_vector, kmtest)\n",
    "stop <- Sys.time()\n",
    "round(stop - start, 2)\n",
    "# Time difference of 8.95 mins\n"
   ]
  },
  {
   "cell_type": "code",
   "execution_count": 72,
   "metadata": {},
   "outputs": [
    {
     "data": {
      "text/html": [
       "<style>\n",
       ".list-inline {list-style: none; margin:0; padding: 0}\n",
       ".list-inline>li {display: inline-block}\n",
       ".list-inline>li:not(:last-child)::after {content: \"\\00b7\"; padding: 0 .5ex}\n",
       "</style>\n",
       "<ol class=list-inline><li>250</li><li>5</li></ol>\n"
      ],
      "text/latex": [
       "\\begin{enumerate*}\n",
       "\\item 250\n",
       "\\item 5\n",
       "\\end{enumerate*}\n"
      ],
      "text/markdown": [
       "1. 250\n",
       "2. 5\n",
       "\n",
       "\n"
      ],
      "text/plain": [
       "[1] 250   5"
      ]
     },
     "metadata": {},
     "output_type": "display_data"
    },
    {
     "data": {
      "text/html": [
       "<table>\n",
       "<caption>A data.frame: 6 × 5</caption>\n",
       "<thead>\n",
       "\t<tr><th></th><th scope=col>fscore</th><th scope=col>Acc</th><th scope=col>Type2</th><th scope=col>FN</th><th scope=col>FP</th></tr>\n",
       "\t<tr><th></th><th scope=col>&lt;dbl&gt;</th><th scope=col>&lt;dbl&gt;</th><th scope=col>&lt;dbl&gt;</th><th scope=col>&lt;dbl&gt;</th><th scope=col>&lt;dbl&gt;</th></tr>\n",
       "</thead>\n",
       "<tbody>\n",
       "\t<tr><th scope=row>5934</th><td>0.8365</td><td>0.8972</td><td>0.8608</td><td>226</td><td>185</td></tr>\n",
       "\t<tr><th scope=row>1953</th><td>0.8456</td><td>0.9010</td><td>0.8678</td><td>216</td><td>180</td></tr>\n",
       "\t<tr><th scope=row>7591</th><td>0.8323</td><td>0.8930</td><td>0.8566</td><td>263</td><td>165</td></tr>\n",
       "\t<tr><th scope=row>1038</th><td>0.8357</td><td>0.8982</td><td>0.8607</td><td>234</td><td>173</td></tr>\n",
       "\t<tr><th scope=row>49</th><td>0.8340</td><td>0.8935</td><td>0.8578</td><td>231</td><td>195</td></tr>\n",
       "\t<tr><th scope=row>3203</th><td>0.8360</td><td>0.8970</td><td>0.8604</td><td>229</td><td>183</td></tr>\n",
       "</tbody>\n",
       "</table>\n"
      ],
      "text/latex": [
       "A data.frame: 6 × 5\n",
       "\\begin{tabular}{r|lllll}\n",
       "  & fscore & Acc & Type2 & FN & FP\\\\\n",
       "  & <dbl> & <dbl> & <dbl> & <dbl> & <dbl>\\\\\n",
       "\\hline\n",
       "\t5934 & 0.8365 & 0.8972 & 0.8608 & 226 & 185\\\\\n",
       "\t1953 & 0.8456 & 0.9010 & 0.8678 & 216 & 180\\\\\n",
       "\t7591 & 0.8323 & 0.8930 & 0.8566 & 263 & 165\\\\\n",
       "\t1038 & 0.8357 & 0.8982 & 0.8607 & 234 & 173\\\\\n",
       "\t49 & 0.8340 & 0.8935 & 0.8578 & 231 & 195\\\\\n",
       "\t3203 & 0.8360 & 0.8970 & 0.8604 & 229 & 183\\\\\n",
       "\\end{tabular}\n"
      ],
      "text/markdown": [
       "\n",
       "A data.frame: 6 × 5\n",
       "\n",
       "| <!--/--> | fscore &lt;dbl&gt; | Acc &lt;dbl&gt; | Type2 &lt;dbl&gt; | FN &lt;dbl&gt; | FP &lt;dbl&gt; |\n",
       "|---|---|---|---|---|---|\n",
       "| 5934 | 0.8365 | 0.8972 | 0.8608 | 226 | 185 |\n",
       "| 1953 | 0.8456 | 0.9010 | 0.8678 | 216 | 180 |\n",
       "| 7591 | 0.8323 | 0.8930 | 0.8566 | 263 | 165 |\n",
       "| 1038 | 0.8357 | 0.8982 | 0.8607 | 234 | 173 |\n",
       "| 49 | 0.8340 | 0.8935 | 0.8578 | 231 | 195 |\n",
       "| 3203 | 0.8360 | 0.8970 | 0.8604 | 229 | 183 |\n",
       "\n"
      ],
      "text/plain": [
       "     fscore Acc    Type2  FN  FP \n",
       "5934 0.8365 0.8972 0.8608 226 185\n",
       "1953 0.8456 0.9010 0.8678 216 180\n",
       "7591 0.8323 0.8930 0.8566 263 165\n",
       "1038 0.8357 0.8982 0.8607 234 173\n",
       "49   0.8340 0.8935 0.8578 231 195\n",
       "3203 0.8360 0.8970 0.8604 229 183"
      ]
     },
     "metadata": {},
     "output_type": "display_data"
    }
   ],
   "source": [
    "dim(dat_result)\n",
    "head(dat_result)\n"
   ]
  },
  {
   "cell_type": "code",
   "execution_count": 73,
   "metadata": {},
   "outputs": [
    {
     "data": {
      "text/html": [
       "'fscore mean: 0.8357'"
      ],
      "text/latex": [
       "'fscore mean: 0.8357'"
      ],
      "text/markdown": [
       "'fscore mean: 0.8357'"
      ],
      "text/plain": [
       "[1] \"fscore mean: 0.8357\""
      ]
     },
     "metadata": {},
     "output_type": "display_data"
    },
    {
     "data": {
      "text/html": [
       "'fscore StdDev: 0.0061'"
      ],
      "text/latex": [
       "'fscore StdDev: 0.0061'"
      ],
      "text/markdown": [
       "'fscore StdDev: 0.0061'"
      ],
      "text/plain": [
       "[1] \"fscore StdDev: 0.0061\""
      ]
     },
     "metadata": {},
     "output_type": "display_data"
    },
    {
     "data": {
      "text/html": [
       "''"
      ],
      "text/latex": [
       "''"
      ],
      "text/markdown": [
       "''"
      ],
      "text/plain": [
       "[1] \"\""
      ]
     },
     "metadata": {},
     "output_type": "display_data"
    },
    {
     "data": {
      "text/plain": [
       "   Min. 1st Qu.  Median    Mean 3rd Qu.    Max. \n",
       "  0.820   0.832   0.836   0.836   0.839   0.851 "
      ]
     },
     "metadata": {},
     "output_type": "display_data"
    }
   ],
   "source": [
    "fscore_mean <- round(mean(dat_result$fscore), 4)\n",
    "fscore_sd <- round(sd(dat_result$fscore), 4)\n",
    "paste0(\"fscore mean: \", as.character(fscore_mean))\n",
    "# 0.8357\n",
    "paste0(\"fscore StdDev: \", as.character(fscore_sd))\n",
    "# 0.0061\n",
    "\"\"\n",
    "summary(dat_result$fscore)\n"
   ]
  },
  {
   "cell_type": "code",
   "execution_count": 74,
   "metadata": {},
   "outputs": [
    {
     "data": {
      "text/html": [
       "'accuracy mean: 0.8965'"
      ],
      "text/latex": [
       "'accuracy mean: 0.8965'"
      ],
      "text/markdown": [
       "'accuracy mean: 0.8965'"
      ],
      "text/plain": [
       "[1] \"accuracy mean: 0.8965\""
      ]
     },
     "metadata": {},
     "output_type": "display_data"
    },
    {
     "data": {
      "text/html": [
       "'accuracy StdDev: 0.0037'"
      ],
      "text/latex": [
       "'accuracy StdDev: 0.0037'"
      ],
      "text/markdown": [
       "'accuracy StdDev: 0.0037'"
      ],
      "text/plain": [
       "[1] \"accuracy StdDev: 0.0037\""
      ]
     },
     "metadata": {},
     "output_type": "display_data"
    },
    {
     "data": {
      "text/html": [
       "''"
      ],
      "text/latex": [
       "''"
      ],
      "text/markdown": [
       "''"
      ],
      "text/plain": [
       "[1] \"\""
      ]
     },
     "metadata": {},
     "output_type": "display_data"
    },
    {
     "data": {
      "text/plain": [
       "   Min. 1st Qu.  Median    Mean 3rd Qu.    Max. \n",
       "  0.887   0.894   0.896   0.896   0.899   0.907 "
      ]
     },
     "metadata": {},
     "output_type": "display_data"
    }
   ],
   "source": [
    "Acc_mean <- round(mean(dat_result$Acc), 4)\n",
    "Acc_sd <- round(sd(dat_result$Acc), 4)\n",
    "paste0(\"accuracy mean: \", as.character(Acc_mean))\n",
    "# 0.8965\n",
    "paste0(\"accuracy StdDev: \", as.character(Acc_sd))\n",
    "# 0.0037\n",
    "\"\"\n",
    "summary(dat_result$Acc)\n"
   ]
  },
  {
   "cell_type": "code",
   "execution_count": 75,
   "metadata": {},
   "outputs": [
    {
     "data": {
      "text/html": [
       "'Type2 mean: 0.86'"
      ],
      "text/latex": [
       "'Type2 mean: 0.86'"
      ],
      "text/markdown": [
       "'Type2 mean: 0.86'"
      ],
      "text/plain": [
       "[1] \"Type2 mean: 0.86\""
      ]
     },
     "metadata": {},
     "output_type": "display_data"
    },
    {
     "data": {
      "text/html": [
       "'Type2 StdDev: 0.005'"
      ],
      "text/latex": [
       "'Type2 StdDev: 0.005'"
      ],
      "text/markdown": [
       "'Type2 StdDev: 0.005'"
      ],
      "text/plain": [
       "[1] \"Type2 StdDev: 0.005\""
      ]
     },
     "metadata": {},
     "output_type": "display_data"
    },
    {
     "data": {
      "text/html": [
       "''"
      ],
      "text/latex": [
       "''"
      ],
      "text/markdown": [
       "''"
      ],
      "text/plain": [
       "[1] \"\""
      ]
     },
     "metadata": {},
     "output_type": "display_data"
    },
    {
     "data": {
      "text/plain": [
       "   Min. 1st Qu.  Median    Mean 3rd Qu.    Max. \n",
       "  0.847   0.857   0.860   0.860   0.863   0.874 "
      ]
     },
     "metadata": {},
     "output_type": "display_data"
    }
   ],
   "source": [
    "Type2_mean <- round(mean(dat_result$Type2), 4)\n",
    "Type2_sd <- round(sd(dat_result$Type2), 4)\n",
    "paste0(\"Type2 mean: \", as.character(Type2_mean))\n",
    "# 0.8600\n",
    "paste0(\"Type2 StdDev: \", as.character(Type2_sd))\n",
    "# 0.005\n",
    "\"\"\n",
    "summary(dat_result$Type2)\n"
   ]
  },
  {
   "cell_type": "code",
   "execution_count": 76,
   "metadata": {},
   "outputs": [
    {
     "data": {
      "text/html": [
       "'FN mean: 234.62'"
      ],
      "text/latex": [
       "'FN mean: 234.62'"
      ],
      "text/markdown": [
       "'FN mean: 234.62'"
      ],
      "text/plain": [
       "[1] \"FN mean: 234.62\""
      ]
     },
     "metadata": {},
     "output_type": "display_data"
    },
    {
     "data": {
      "text/html": [
       "'FN StdDev: 11.47'"
      ],
      "text/latex": [
       "'FN StdDev: 11.47'"
      ],
      "text/markdown": [
       "'FN StdDev: 11.47'"
      ],
      "text/plain": [
       "[1] \"FN StdDev: 11.47\""
      ]
     },
     "metadata": {},
     "output_type": "display_data"
    },
    {
     "data": {
      "text/html": [
       "''"
      ],
      "text/latex": [
       "''"
      ],
      "text/markdown": [
       "''"
      ],
      "text/plain": [
       "[1] \"\""
      ]
     },
     "metadata": {},
     "output_type": "display_data"
    },
    {
     "data": {
      "text/plain": [
       "   Min. 1st Qu.  Median    Mean 3rd Qu.    Max. \n",
       "    196     227     235     235     243     263 "
      ]
     },
     "metadata": {},
     "output_type": "display_data"
    }
   ],
   "source": [
    "FN_mean <- round(mean(dat_result$FN), 2)\n",
    "FN_sd <- round(sd(dat_result$FN), 2)\n",
    "paste0(\"FN mean: \", as.character(FN_mean))\n",
    "# 234.6\n",
    "paste0(\"FN StdDev: \", as.character(FN_sd))\n",
    "#  11.5\n",
    "\"\"\n",
    "summary(dat_result$FN)\n"
   ]
  },
  {
   "cell_type": "code",
   "execution_count": 77,
   "metadata": {},
   "outputs": [
    {
     "data": {
      "text/html": [
       "'FP mean: 179.48'"
      ],
      "text/latex": [
       "'FP mean: 179.48'"
      ],
      "text/markdown": [
       "'FP mean: 179.48'"
      ],
      "text/plain": [
       "[1] \"FP mean: 179.48\""
      ]
     },
     "metadata": {},
     "output_type": "display_data"
    },
    {
     "data": {
      "text/html": [
       "'FP StdDev: 10.28'"
      ],
      "text/latex": [
       "'FP StdDev: 10.28'"
      ],
      "text/markdown": [
       "'FP StdDev: 10.28'"
      ],
      "text/plain": [
       "[1] \"FP StdDev: 10.28\""
      ]
     },
     "metadata": {},
     "output_type": "display_data"
    },
    {
     "data": {
      "text/html": [
       "''"
      ],
      "text/latex": [
       "''"
      ],
      "text/markdown": [
       "''"
      ],
      "text/plain": [
       "[1] \"\""
      ]
     },
     "metadata": {},
     "output_type": "display_data"
    },
    {
     "data": {
      "text/plain": [
       "   Min. 1st Qu.  Median    Mean 3rd Qu.    Max. \n",
       "    154     171     180     179     187     204 "
      ]
     },
     "metadata": {},
     "output_type": "display_data"
    }
   ],
   "source": [
    "FP_mean <- round(mean(dat_result$FP), 2)\n",
    "FP_sd <- round(sd(dat_result$FP), 2)\n",
    "paste0(\"FP mean: \", as.character(FP_mean))\n",
    "# 179.5\n",
    "paste0(\"FP StdDev: \", as.character(FP_sd))\n",
    "#  10.3\n",
    "\"\"\n",
    "summary(dat_result$FP)\n"
   ]
  },
  {
   "cell_type": "markdown",
   "metadata": {},
   "source": [
    "## Section 6 Comments"
   ]
  },
  {
   "cell_type": "markdown",
   "metadata": {},
   "source": [
    "The scores have improved with this approach, but we still do not have a better model than rfclf_best.  The F-statistic for the difference in accuracy scores between this approach and rfclf_best is 4.23.  So there is still a significant difference between the two models, meaning that rfclf_best is a slightly better model."
   ]
  },
  {
   "cell_type": "markdown",
   "metadata": {},
   "source": [
    "# Section 7: Use Section 6 approach, but with 4 principal components"
   ]
  },
  {
   "cell_type": "markdown",
   "metadata": {},
   "source": [
    "With 4 components, rather than 5, there is less of a chance of overfitting the training set.  A model with only 4 components therefore might generalize better to the testset data."
   ]
  },
  {
   "cell_type": "code",
   "execution_count": 78,
   "metadata": {},
   "outputs": [
    {
     "data": {
      "text/html": [
       "<style>\n",
       ".list-inline {list-style: none; margin:0; padding: 0}\n",
       ".list-inline>li {display: inline-block}\n",
       ".list-inline>li:not(:last-child)::after {content: \"\\00b7\"; padding: 0 .5ex}\n",
       "</style>\n",
       "<ol class=list-inline><li>'Inland'</li><li>'housing_median_age'</li><li>'median_house_value'</li><li>'HHdens_ln'</li><li>'rooms_per_hh'</li><li>'bdrms_per_room'</li><li>'pop_per_hh'</li></ol>\n"
      ],
      "text/latex": [
       "\\begin{enumerate*}\n",
       "\\item 'Inland'\n",
       "\\item 'housing\\_median\\_age'\n",
       "\\item 'median\\_house\\_value'\n",
       "\\item 'HHdens\\_ln'\n",
       "\\item 'rooms\\_per\\_hh'\n",
       "\\item 'bdrms\\_per\\_room'\n",
       "\\item 'pop\\_per\\_hh'\n",
       "\\end{enumerate*}\n"
      ],
      "text/markdown": [
       "1. 'Inland'\n",
       "2. 'housing_median_age'\n",
       "3. 'median_house_value'\n",
       "4. 'HHdens_ln'\n",
       "5. 'rooms_per_hh'\n",
       "6. 'bdrms_per_room'\n",
       "7. 'pop_per_hh'\n",
       "\n",
       "\n"
      ],
      "text/plain": [
       "[1] \"Inland\"             \"housing_median_age\" \"median_house_value\"\n",
       "[4] \"HHdens_ln\"          \"rooms_per_hh\"       \"bdrms_per_room\"    \n",
       "[7] \"pop_per_hh\"        "
      ]
     },
     "metadata": {},
     "output_type": "display_data"
    }
   ],
   "source": [
    "kmtrain <- traindat[, km_columns]\n",
    "kmtest <- testdat[, km_columns]\n",
    "colnames(kmtrain)\n"
   ]
  },
  {
   "cell_type": "code",
   "execution_count": 19,
   "metadata": {},
   "outputs": [
    {
     "data": {
      "text/plain": [
       "\n",
       "Call:\n",
       " randomForest(formula = I(as.factor(Inland)) ~ ., data = traindat[,      rfclf_columns], ntree = 900, mtry = 3, nodesize = 1, importance = TRUE) \n",
       "               Type of random forest: classification\n",
       "                     Number of trees: 900\n",
       "No. of variables tried at each split: 3\n",
       "\n",
       "        OOB estimate of  error rate: 10.39%\n",
       "Confusion matrix:\n",
       "     0    1 class.error\n",
       "0 6497  450    0.064776\n",
       "1  609 2640    0.187442"
      ]
     },
     "metadata": {},
     "output_type": "display_data"
    }
   ],
   "source": [
    "# Random forest model for the prob01 column:\n",
    "\n",
    "set.seed(1493)\n",
    "(rfclf_best <- randomForest(I(as.factor(Inland)) ~ ., \n",
    "                            data= traindat[, rfclf_columns], \n",
    "                            ntree=900,\n",
    "                            mtry= 3, nodesize= 1, importance=TRUE))\n"
   ]
  },
  {
   "cell_type": "code",
   "execution_count": 79,
   "metadata": {},
   "outputs": [],
   "source": [
    "# Scale data for svm model.\n",
    "\n",
    "svmtrain <- traindat[, svm02_columns]\n",
    "svmtrain$median_house_value <- log(svmtrain$median_house_value)\n",
    "\n",
    "svm_scaled <- scale(svmtrain[, -1])\n",
    "svm_centers <- attr(svm_scaled, \"scaled:center\")\n",
    "svm_scales <- attr(svm_scaled, \"scaled:scale\")\n",
    "svm_scaled <- as.data.frame(cbind(as.numeric(svmtrain$Inland), svm_scaled),\n",
    "                            row.names=rownames(svmtrain))\n",
    "colnames(svm_scaled) <- colnames(svmtrain)\n"
   ]
  },
  {
   "cell_type": "code",
   "execution_count": 80,
   "metadata": {},
   "outputs": [],
   "source": [
    "# SVM model for the prob02 column:\n",
    "\n",
    "svm02 <- svm(I(as.factor(Inland)) ~ ., data=svm_scaled, kernel=\"radial\",\n",
    "               gamma=0.06, cost=80, scale=FALSE, probability=TRUE)\n"
   ]
  },
  {
   "cell_type": "code",
   "execution_count": 83,
   "metadata": {},
   "outputs": [
    {
     "data": {
      "text/plain": [
       "   Min. 1st Qu.  Median    Mean 3rd Qu.    Max. \n",
       " 0.0000  0.0479  0.1024  0.3196  0.6865  0.9999 "
      ]
     },
     "metadata": {},
     "output_type": "display_data"
    }
   ],
   "source": [
    "# Construct prob02 column.\n",
    "\n",
    "preds02 <- predict(svm02, newdata=svm_scaled, probability=TRUE)\n",
    "kmtrain$prob02 <- as.numeric(attr(preds02, \"probabilities\")[, 2])\n",
    "summary(kmtrain$prob02)\n"
   ]
  },
  {
   "cell_type": "code",
   "execution_count": 84,
   "metadata": {},
   "outputs": [
    {
     "data": {
      "text/plain": [
       "Importance of first k=4 (out of 7) components:\n",
       "                         PC1   PC2   PC3   PC4\n",
       "Standard deviation     1.517 1.321 0.993 0.896\n",
       "Proportion of Variance 0.329 0.249 0.141 0.115\n",
       "Cumulative Proportion  0.329 0.578 0.719 0.834"
      ]
     },
     "metadata": {},
     "output_type": "display_data"
    }
   ],
   "source": [
    "# Apply PCA.  Use 4 of the 7 components. \n",
    "\n",
    "pca4 <- prcomp(kmtrain[, c(km_predictors,\"prob02\")], center=TRUE, scale.=TRUE,\n",
    "              rank.= 4, retx=TRUE)\n",
    "summary(pca4)\n"
   ]
  },
  {
   "cell_type": "code",
   "execution_count": 85,
   "metadata": {},
   "outputs": [
    {
     "data": {
      "text/html": [
       "<table>\n",
       "<caption>A data.frame: 6 × 5</caption>\n",
       "<thead>\n",
       "\t<tr><th></th><th scope=col>Inland</th><th scope=col>pc1</th><th scope=col>pc2</th><th scope=col>pc3</th><th scope=col>pc4</th></tr>\n",
       "\t<tr><th></th><th scope=col>&lt;dbl&gt;</th><th scope=col>&lt;dbl&gt;</th><th scope=col>&lt;dbl&gt;</th><th scope=col>&lt;dbl&gt;</th><th scope=col>&lt;dbl&gt;</th></tr>\n",
       "</thead>\n",
       "<tbody>\n",
       "\t<tr><th scope=row>11174</th><td>0</td><td>-0.050533</td><td>-0.92857</td><td>-0.762667</td><td>-0.18391</td></tr>\n",
       "\t<tr><th scope=row>1542</th><td>0</td><td> 0.599497</td><td>-1.52889</td><td>-0.716347</td><td> 0.95981</td></tr>\n",
       "\t<tr><th scope=row>3537</th><td>0</td><td>-1.037601</td><td> 0.70059</td><td> 0.893106</td><td> 1.49712</td></tr>\n",
       "\t<tr><th scope=row>12747</th><td>1</td><td> 1.167845</td><td> 0.87609</td><td> 0.734401</td><td> 1.19491</td></tr>\n",
       "\t<tr><th scope=row>13348</th><td>1</td><td>-0.256596</td><td> 0.87814</td><td>-0.090126</td><td>-1.32222</td></tr>\n",
       "\t<tr><th scope=row>6628</th><td>0</td><td>-1.620032</td><td> 0.42692</td><td> 1.467853</td><td> 0.77186</td></tr>\n",
       "</tbody>\n",
       "</table>\n"
      ],
      "text/latex": [
       "A data.frame: 6 × 5\n",
       "\\begin{tabular}{r|lllll}\n",
       "  & Inland & pc1 & pc2 & pc3 & pc4\\\\\n",
       "  & <dbl> & <dbl> & <dbl> & <dbl> & <dbl>\\\\\n",
       "\\hline\n",
       "\t11174 & 0 & -0.050533 & -0.92857 & -0.762667 & -0.18391\\\\\n",
       "\t1542 & 0 &  0.599497 & -1.52889 & -0.716347 &  0.95981\\\\\n",
       "\t3537 & 0 & -1.037601 &  0.70059 &  0.893106 &  1.49712\\\\\n",
       "\t12747 & 1 &  1.167845 &  0.87609 &  0.734401 &  1.19491\\\\\n",
       "\t13348 & 1 & -0.256596 &  0.87814 & -0.090126 & -1.32222\\\\\n",
       "\t6628 & 0 & -1.620032 &  0.42692 &  1.467853 &  0.77186\\\\\n",
       "\\end{tabular}\n"
      ],
      "text/markdown": [
       "\n",
       "A data.frame: 6 × 5\n",
       "\n",
       "| <!--/--> | Inland &lt;dbl&gt; | pc1 &lt;dbl&gt; | pc2 &lt;dbl&gt; | pc3 &lt;dbl&gt; | pc4 &lt;dbl&gt; |\n",
       "|---|---|---|---|---|---|\n",
       "| 11174 | 0 | -0.050533 | -0.92857 | -0.762667 | -0.18391 |\n",
       "| 1542 | 0 |  0.599497 | -1.52889 | -0.716347 |  0.95981 |\n",
       "| 3537 | 0 | -1.037601 |  0.70059 |  0.893106 |  1.49712 |\n",
       "| 12747 | 1 |  1.167845 |  0.87609 |  0.734401 |  1.19491 |\n",
       "| 13348 | 1 | -0.256596 |  0.87814 | -0.090126 | -1.32222 |\n",
       "| 6628 | 0 | -1.620032 |  0.42692 |  1.467853 |  0.77186 |\n",
       "\n"
      ],
      "text/plain": [
       "      Inland pc1       pc2      pc3       pc4     \n",
       "11174 0      -0.050533 -0.92857 -0.762667 -0.18391\n",
       "1542  0       0.599497 -1.52889 -0.716347  0.95981\n",
       "3537  0      -1.037601  0.70059  0.893106  1.49712\n",
       "12747 1       1.167845  0.87609  0.734401  1.19491\n",
       "13348 1      -0.256596  0.87814 -0.090126 -1.32222\n",
       "6628  0      -1.620032  0.42692  1.467853  0.77186"
      ]
     },
     "metadata": {},
     "output_type": "display_data"
    }
   ],
   "source": [
    "# Construct training set data for k-means modeling\n",
    "# with PCA.\n",
    "\n",
    "kmtrain02 <- cbind(as.numeric(traindat$Inland), as.data.frame(pca4$x))\n",
    "rownames(kmtrain02) <- rownames(traindat)\n",
    "colnames(kmtrain02) <- c(\"Inland\",\"pc1\",\"pc2\",\"pc3\",\"pc4\")\n",
    "head(kmtrain02)\n"
   ]
  },
  {
   "cell_type": "code",
   "execution_count": 86,
   "metadata": {},
   "outputs": [
    {
     "data": {
      "text/html": [
       "<table>\n",
       "<caption>A data.frame: 6 × 5</caption>\n",
       "<thead>\n",
       "\t<tr><th></th><th scope=col>Inland</th><th scope=col>pc1</th><th scope=col>pc2</th><th scope=col>pc3</th><th scope=col>pc4</th></tr>\n",
       "\t<tr><th></th><th scope=col>&lt;dbl&gt;</th><th scope=col>&lt;dbl&gt;</th><th scope=col>&lt;dbl&gt;</th><th scope=col>&lt;dbl&gt;</th><th scope=col>&lt;dbl&gt;</th></tr>\n",
       "</thead>\n",
       "<tbody>\n",
       "\t<tr><th scope=row>11174</th><td>0</td><td>0.33699</td><td>0.53104</td><td>0.80673</td><td>0.45260</td></tr>\n",
       "\t<tr><th scope=row>1542</th><td>0</td><td>0.37827</td><td>0.48441</td><td>0.80902</td><td>0.63860</td></tr>\n",
       "\t<tr><th scope=row>3537</th><td>0</td><td>0.27430</td><td>0.65758</td><td>0.88845</td><td>0.72598</td></tr>\n",
       "\t<tr><th scope=row>12747</th><td>1</td><td>0.41437</td><td>0.67121</td><td>0.88062</td><td>0.67683</td></tr>\n",
       "\t<tr><th scope=row>13348</th><td>1</td><td>0.32390</td><td>0.67137</td><td>0.83993</td><td>0.26748</td></tr>\n",
       "\t<tr><th scope=row>6628</th><td>0</td><td>0.23731</td><td>0.63632</td><td>0.91682</td><td>0.60803</td></tr>\n",
       "</tbody>\n",
       "</table>\n"
      ],
      "text/latex": [
       "A data.frame: 6 × 5\n",
       "\\begin{tabular}{r|lllll}\n",
       "  & Inland & pc1 & pc2 & pc3 & pc4\\\\\n",
       "  & <dbl> & <dbl> & <dbl> & <dbl> & <dbl>\\\\\n",
       "\\hline\n",
       "\t11174 & 0 & 0.33699 & 0.53104 & 0.80673 & 0.45260\\\\\n",
       "\t1542 & 0 & 0.37827 & 0.48441 & 0.80902 & 0.63860\\\\\n",
       "\t3537 & 0 & 0.27430 & 0.65758 & 0.88845 & 0.72598\\\\\n",
       "\t12747 & 1 & 0.41437 & 0.67121 & 0.88062 & 0.67683\\\\\n",
       "\t13348 & 1 & 0.32390 & 0.67137 & 0.83993 & 0.26748\\\\\n",
       "\t6628 & 0 & 0.23731 & 0.63632 & 0.91682 & 0.60803\\\\\n",
       "\\end{tabular}\n"
      ],
      "text/markdown": [
       "\n",
       "A data.frame: 6 × 5\n",
       "\n",
       "| <!--/--> | Inland &lt;dbl&gt; | pc1 &lt;dbl&gt; | pc2 &lt;dbl&gt; | pc3 &lt;dbl&gt; | pc4 &lt;dbl&gt; |\n",
       "|---|---|---|---|---|---|\n",
       "| 11174 | 0 | 0.33699 | 0.53104 | 0.80673 | 0.45260 |\n",
       "| 1542 | 0 | 0.37827 | 0.48441 | 0.80902 | 0.63860 |\n",
       "| 3537 | 0 | 0.27430 | 0.65758 | 0.88845 | 0.72598 |\n",
       "| 12747 | 1 | 0.41437 | 0.67121 | 0.88062 | 0.67683 |\n",
       "| 13348 | 1 | 0.32390 | 0.67137 | 0.83993 | 0.26748 |\n",
       "| 6628 | 0 | 0.23731 | 0.63632 | 0.91682 | 0.60803 |\n",
       "\n"
      ],
      "text/plain": [
       "      Inland pc1     pc2     pc3     pc4    \n",
       "11174 0      0.33699 0.53104 0.80673 0.45260\n",
       "1542  0      0.37827 0.48441 0.80902 0.63860\n",
       "3537  0      0.27430 0.65758 0.88845 0.72598\n",
       "12747 1      0.41437 0.67121 0.88062 0.67683\n",
       "13348 1      0.32390 0.67137 0.83993 0.26748\n",
       "6628  0      0.23731 0.63632 0.91682 0.60803"
      ]
     },
     "metadata": {},
     "output_type": "display_data"
    }
   ],
   "source": [
    "# Apply min-max scaling.\n",
    "\n",
    "kmtrain02_scaled <- apply(kmtrain02[, -1], MARGIN=2, range01)\n",
    "kmtrain02_scaled <- as.data.frame(cbind(kmtrain02$Inland, kmtrain02_scaled),\n",
    "                                row.names=rownames(kmtrain02))\n",
    "colnames(kmtrain02_scaled) <- colnames(kmtrain02)\n",
    "head(kmtrain02_scaled)\n"
   ]
  },
  {
   "cell_type": "code",
   "execution_count": 87,
   "metadata": {},
   "outputs": [
    {
     "data": {
      "text/plain": [
       "   Min. 1st Qu.  Median    Mean 3rd Qu.    Max. \n",
       "0.00000 0.00889 0.04778 0.31911 0.83778 1.00000 "
      ]
     },
     "metadata": {},
     "output_type": "display_data"
    }
   ],
   "source": [
    "# Add prob01 column.\n",
    "\n",
    "preds01 <- predict(rfclf_best, newdata= traindat[, rfclf_columns], type=\"prob\")\n",
    "\n",
    "# preds01 is a matrix with 2 columns.\n",
    "kmtrain02_scaled$prob01 <- preds01[, 2]\n",
    "summary(kmtrain02_scaled$prob01)\n"
   ]
  },
  {
   "cell_type": "code",
   "execution_count": 88,
   "metadata": {},
   "outputs": [
    {
     "data": {
      "text/plain": [
       "Time difference of 0.04 secs"
      ]
     },
     "metadata": {},
     "output_type": "display_data"
    },
    {
     "name": "stdout",
     "output_type": "stream",
     "text": [
      "[1] 6947 3249\n"
     ]
    }
   ],
   "source": [
    "# Run k-means algorithm with number of clusters set to 2.\n",
    "\n",
    "set.seed(1233)\n",
    "start <- Sys.time()\n",
    "kmp1p2_b <- kmeans(kmtrain02_scaled[, -1], 2, iter.max = 50, nstart = 15)\n",
    "stop <- Sys.time()\n",
    "round(stop - start, 2)\n",
    "# Time difference of 0.15 secs\n",
    "\n",
    "print(kmp1p2_b$size)\n"
   ]
  },
  {
   "cell_type": "code",
   "execution_count": 89,
   "metadata": {},
   "outputs": [
    {
     "data": {
      "text/html": [
       "0.3187"
      ],
      "text/latex": [
       "0.3187"
      ],
      "text/markdown": [
       "0.3187"
      ],
      "text/plain": [
       "[1] 0.3187"
      ]
     },
     "metadata": {},
     "output_type": "display_data"
    }
   ],
   "source": [
    "# Get percent of Inland districts in kmtrain.\n",
    "\n",
    "kmtrain_Inland_percent <- mean(kmtrain$Inland)\n",
    "round(kmtrain_Inland_percent, 4)\n"
   ]
  },
  {
   "cell_type": "code",
   "execution_count": 90,
   "metadata": {},
   "outputs": [
    {
     "name": "stdout",
     "output_type": "stream",
     "text": [
      "     0    1 class.error\n",
      "0 6947    0           0\n",
      "1    0 3249           0\n"
     ]
    },
    {
     "data": {
      "text/html": [
       "''"
      ],
      "text/latex": [
       "''"
      ],
      "text/markdown": [
       "''"
      ],
      "text/plain": [
       "[1] \"\""
      ]
     },
     "metadata": {},
     "output_type": "display_data"
    },
    {
     "name": "stdout",
     "output_type": "stream",
     "text": [
      "[1] \"f-score for kmp1p2_b, train set: 1\"\n"
     ]
    },
    {
     "data": {
      "text/html": [
       "''"
      ],
      "text/latex": [
       "''"
      ],
      "text/markdown": [
       "''"
      ],
      "text/plain": [
       "[1] \"\""
      ]
     },
     "metadata": {},
     "output_type": "display_data"
    },
    {
     "name": "stdout",
     "output_type": "stream",
     "text": [
      "[1] \"Type2 score for kmp1p2_b, train set: 1\"\n"
     ]
    },
    {
     "data": {
      "text/html": [
       "''"
      ],
      "text/latex": [
       "''"
      ],
      "text/markdown": [
       "''"
      ],
      "text/plain": [
       "[1] \"\""
      ]
     },
     "metadata": {},
     "output_type": "display_data"
    },
    {
     "name": "stdout",
     "output_type": "stream",
     "text": [
      "[1] \"Accuracy: 1\"\n"
     ]
    }
   ],
   "source": [
    "# See how the clusters are associated with Inland.\n",
    "\n",
    "dfout <- as.data.frame(cbind(kmtrain$Inland, kmp1p2_b$cluster))\n",
    "colnames(dfout) <- c(\"Inland\", \"cluster\")\n",
    "rownames(dfout) <- rownames(kmtrain)\n",
    "dat_c1 <- dfout[which(dfout$cluster== 1),]\n",
    "datc1_Inland_percent <- mean(dat_c1$Inland)\n",
    "\n",
    "tmpdat <- dfout\n",
    "\n",
    "c1_to_InlandYES <- FALSE\n",
    "if(datc1_Inland_percent >= kmtrain_Inland_percent) { c1_to_InlandYES <- TRUE }\n",
    "        \n",
    "if(c1_to_InlandYES) {\n",
    "    # cluster 1 is associated with the Inland districts\n",
    "    tmpdat[which(tmpdat$cluster== 1),]$Inland <- 1\n",
    "    tmpdat[which(tmpdat$cluster== 2),]$Inland <- 0\n",
    "} else {\n",
    "    # cluster 2 is associated with the Inland districts\n",
    "    tmpdat[which(tmpdat$cluster== 2),]$Inland <- 1\n",
    "    tmpdat[which(tmpdat$cluster== 1),]$Inland <- 0\n",
    "}\n",
    "        \n",
    "# Generate confusion matrix for the k-means clusters and\n",
    "# the corresponding f-score.\n",
    "preds <- as.factor(tmpdat$Inland)\n",
    "names(preds) <- rownames(tmpdat)\n",
    "ans <- get_confusion(preds, kmtrain[, \"Inland\", drop=FALSE])\n",
    "\n",
    "print(ans$matrix)\n",
    "''\n",
    "print(paste(\"f-score for kmp1p2_b, train set: \", as.character(ans[[2]]), sep=\"\"))\n",
    "\n",
    "mat <- as.matrix(ans[[1]])\n",
    "percent_correct <- sum(diag(mat))/floor(sum(mat))\n",
    "result <- round((0.4 * percent_correct + 0.6 * ans[[2]]), 4)\n",
    "\n",
    "''\n",
    "print(paste(\"Type2 score for kmp1p2_b, train set: \", as.character(result), sep=\"\"))\n",
    "\n",
    "\"\"\n",
    "print(paste(\"Accuracy: \", as.character(round(percent_correct,4)), sep=\"\"))\n"
   ]
  },
  {
   "cell_type": "markdown",
   "metadata": {},
   "source": [
    "### Get scores on testset for kmp1p2_b"
   ]
  },
  {
   "cell_type": "code",
   "execution_count": 91,
   "metadata": {},
   "outputs": [],
   "source": [
    "# SVM scaling for testdat records.\n",
    "\n",
    "svmtest <- testdat[, svm02_columns]\n",
    "svmtest$median_house_value <- log(svmtest$median_house_value)\n",
    "\n",
    "svmtest_scaled <- scale(svmtest[, -1], center= svm_centers, scale= svm_scales)\n",
    "svmtest_scaled <- as.data.frame(cbind(as.numeric(svmtest$Inland), svmtest_scaled),\n",
    "                                row.names=rownames(svmtest))\n",
    "colnames(svmtest_scaled) <- colnames(svmtest)\n"
   ]
  },
  {
   "cell_type": "code",
   "execution_count": 92,
   "metadata": {},
   "outputs": [],
   "source": [
    "# Add the prob02 column to kmtest.\n",
    "\n",
    "kmtest <- testdat[, km_columns]\n",
    "preds02 <- predict(svm02, newdata=svmtest_scaled, probability=TRUE)\n",
    "kmtest$prob02 <- as.numeric(attr(preds02, \"probabilities\")[, 2])\n"
   ]
  },
  {
   "cell_type": "code",
   "execution_count": 93,
   "metadata": {},
   "outputs": [],
   "source": [
    "# Add the prob01 column to kmtest.\n",
    "\n",
    "preds01 <- predict(rfclf_best, newdata=testdat[, rfclf_columns],\n",
    "                          type=\"prob\")\n",
    "kmtest$prob01 <- preds01[, 2]\n"
   ]
  },
  {
   "cell_type": "code",
   "execution_count": 94,
   "metadata": {},
   "outputs": [
    {
     "data": {
      "text/html": [
       "<table>\n",
       "<caption>A matrix: 2 × 5 of type dbl</caption>\n",
       "<thead>\n",
       "\t<tr><th></th><th scope=col>pc1</th><th scope=col>pc2</th><th scope=col>pc3</th><th scope=col>pc4</th><th scope=col>prob01</th></tr>\n",
       "</thead>\n",
       "<tbody>\n",
       "\t<tr><th scope=row>1</th><td>0.29971</td><td>0.57830</td><td>0.83920</td><td>0.50138</td><td>0.045566</td></tr>\n",
       "\t<tr><th scope=row>2</th><td>0.42677</td><td>0.65632</td><td>0.85543</td><td>0.44215</td><td>0.903993</td></tr>\n",
       "</tbody>\n",
       "</table>\n"
      ],
      "text/latex": [
       "A matrix: 2 × 5 of type dbl\n",
       "\\begin{tabular}{r|lllll}\n",
       "  & pc1 & pc2 & pc3 & pc4 & prob01\\\\\n",
       "\\hline\n",
       "\t1 & 0.29971 & 0.57830 & 0.83920 & 0.50138 & 0.045566\\\\\n",
       "\t2 & 0.42677 & 0.65632 & 0.85543 & 0.44215 & 0.903993\\\\\n",
       "\\end{tabular}\n"
      ],
      "text/markdown": [
       "\n",
       "A matrix: 2 × 5 of type dbl\n",
       "\n",
       "| <!--/--> | pc1 | pc2 | pc3 | pc4 | prob01 |\n",
       "|---|---|---|---|---|---|\n",
       "| 1 | 0.29971 | 0.57830 | 0.83920 | 0.50138 | 0.045566 |\n",
       "| 2 | 0.42677 | 0.65632 | 0.85543 | 0.44215 | 0.903993 |\n",
       "\n"
      ],
      "text/plain": [
       "  pc1     pc2     pc3     pc4     prob01  \n",
       "1 0.29971 0.57830 0.83920 0.50138 0.045566\n",
       "2 0.42677 0.65632 0.85543 0.44215 0.903993"
      ]
     },
     "metadata": {},
     "output_type": "display_data"
    }
   ],
   "source": [
    "kmp1p2_b$centers\n"
   ]
  },
  {
   "cell_type": "code",
   "execution_count": 97,
   "metadata": {},
   "outputs": [],
   "source": [
    "# Function for obtaining a set of scores on the testset data\n",
    "# using kmp1p2_b as the classifier. \n",
    "\n",
    "### NOTE: the value of c1_to_InlandYES from above is being  \n",
    "### used in the following function.\n",
    "\n",
    "get_testdatScores_kmp1p2_b <- function(seedv, dat) {\n",
    "    \n",
    "    n_smp <- 4000\n",
    "    \n",
    "    seedv_len <- length(seedv)\n",
    "    datout <- rep(NA, 5 * seedv_len)\n",
    "    dim(datout) <- c(seedv_len, 5)\n",
    "    datout <- as.data.frame(datout)\n",
    "    colnames(datout) <- c(\"fscore\",\"Acc\",\"Type2\", \"FN\",\"FP\")\n",
    "    rownames(datout) <- as.character(seedv)\n",
    "    \n",
    "    # Using model kmp1p2_b from above.\n",
    "    ctr_list <- vector(\"list\", length= n_smp)\n",
    "    for(i in 1:n_smp) {\n",
    "        ctr_list[[i]] <- kmp1p2_b$centers\n",
    "    }\n",
    "    \n",
    "    for(h in 1:seedv_len) {\n",
    "        # shuffle dat\n",
    "        cur_seed <- seedv[h]\n",
    "        set.seed(cur_seed)\n",
    "        # It is expected that dat is testdat, which has 10K rcds\n",
    "        smp <- sample(rownames(dat), n_smp, replace= FALSE)\n",
    "        df <- dat[smp,]\n",
    "        \n",
    "        # CAUTION: df has the prob01 & prob02 columns.\n",
    "        \n",
    "        # Apply PCA.\n",
    "        pca_columns <- c(km_predictors, \"prob02\")\n",
    "        df_pca <- predict(pca4, df[, pca_columns])\n",
    "        \n",
    "        # Apply min-max scaling to df_scaled.\n",
    "        df_scaled <- apply(df_pca, MARGIN=2, range01)\n",
    "        df_scaled <- as.data.frame(cbind(df_scaled, df$prob01),\n",
    "                                   row.names=rownames(df))\n",
    "        colnames(df_scaled) <- c(paste0(\"pc\", 1:4),\"prob01\")\n",
    "        \n",
    "        \n",
    "        # Each element of the following list is a row of df.\n",
    "        df_asList <- split(df_scaled[, colnames(kmp1p2_b$centers)], seq(n_smp))\n",
    "        names(ctr_list) <- rownames(df)\n",
    "    \n",
    "        # Get the predictions for df.\n",
    "        preds <- mcmapply(getCluster, df_asList, ctr_list,\n",
    "                          SIMPLIFY=TRUE, mc.cores=6)\n",
    "        df$cluster <- as.numeric(preds)\n",
    "    \n",
    "        df$pred_Inland <- NA\n",
    "        if(c1_to_InlandYES) {\n",
    "            df[which(df$cluster==1),]$pred_Inland <- 1\n",
    "            df[which(df$cluster==2),]$pred_Inland <- 0\n",
    "        } else {\n",
    "            df[which(df$cluster==1),]$pred_Inland <- 0\n",
    "            df[which(df$cluster==2),]$pred_Inland <- 1\n",
    "        }\n",
    "    \n",
    "        # Generate confusion matrix.\n",
    "        preds <- as.factor(df$pred_Inland)\n",
    "        names(preds) <- rownames(df)\n",
    "        ans <- get_confusion(preds, df[, \"Inland\", drop=FALSE])\n",
    "        \n",
    "        mat <- as.matrix(ans[[1]])\n",
    "        fscore <- round(as.numeric(ans[[2]]), 4)\n",
    "        acc <- round(sum(diag(mat))/floor(sum(mat)), 4)\n",
    "        type2 <- round((0.4 * acc + 0.6 * ans[[2]]), 4)\n",
    "        FN <- as.numeric(mat[2,1])\n",
    "        FP <- as.numeric(mat[1,2])\n",
    "        datout[as.character(cur_seed), 1:5] <- c(fscore,acc,type2,FN,FP)\n",
    "    }\n",
    "    return(datout)\n",
    "}\n"
   ]
  },
  {
   "cell_type": "code",
   "execution_count": 98,
   "metadata": {},
   "outputs": [
    {
     "data": {
      "text/html": [
       "'Start time: 2021-04-30 10:04:23'"
      ],
      "text/latex": [
       "'Start time: 2021-04-30 10:04:23'"
      ],
      "text/markdown": [
       "'Start time: 2021-04-30 10:04:23'"
      ],
      "text/plain": [
       "[1] \"Start time: 2021-04-30 10:04:23\""
      ]
     },
     "metadata": {},
     "output_type": "display_data"
    },
    {
     "data": {
      "text/plain": [
       "Time difference of 8.23 mins"
      ]
     },
     "metadata": {},
     "output_type": "display_data"
    }
   ],
   "source": [
    "# Get kmp1p2_b's scores on the testset data.  For each of\n",
    "# the 250 seeds, I sample 4K (no replacement) from the 10K\n",
    "# set of testdat records.\n",
    "\n",
    "set.seed(1821)\n",
    "seed_vector <- sample(1:9999, 250, replace=FALSE)\n",
    "\n",
    "start <- Sys.time()\n",
    "paste(\"Start time: \", start, sep=\"\")\n",
    "dat_result <- get_testdatScores_kmp1p2_b(seed_vector, kmtest)\n",
    "stop <- Sys.time()\n",
    "round(stop - start, 2)\n",
    "# Time difference of 8.23 mins\n"
   ]
  },
  {
   "cell_type": "code",
   "execution_count": 99,
   "metadata": {},
   "outputs": [
    {
     "data": {
      "text/html": [
       "<style>\n",
       ".list-inline {list-style: none; margin:0; padding: 0}\n",
       ".list-inline>li {display: inline-block}\n",
       ".list-inline>li:not(:last-child)::after {content: \"\\00b7\"; padding: 0 .5ex}\n",
       "</style>\n",
       "<ol class=list-inline><li>250</li><li>5</li></ol>\n"
      ],
      "text/latex": [
       "\\begin{enumerate*}\n",
       "\\item 250\n",
       "\\item 5\n",
       "\\end{enumerate*}\n"
      ],
      "text/markdown": [
       "1. 250\n",
       "2. 5\n",
       "\n",
       "\n"
      ],
      "text/plain": [
       "[1] 250   5"
      ]
     },
     "metadata": {},
     "output_type": "display_data"
    },
    {
     "data": {
      "text/html": [
       "<table>\n",
       "<caption>A data.frame: 6 × 5</caption>\n",
       "<thead>\n",
       "\t<tr><th></th><th scope=col>fscore</th><th scope=col>Acc</th><th scope=col>Type2</th><th scope=col>FN</th><th scope=col>FP</th></tr>\n",
       "\t<tr><th></th><th scope=col>&lt;dbl&gt;</th><th scope=col>&lt;dbl&gt;</th><th scope=col>&lt;dbl&gt;</th><th scope=col>&lt;dbl&gt;</th><th scope=col>&lt;dbl&gt;</th></tr>\n",
       "</thead>\n",
       "<tbody>\n",
       "\t<tr><th scope=row>5934</th><td>0.8356</td><td>0.8965</td><td>0.8600</td><td>225</td><td>189</td></tr>\n",
       "\t<tr><th scope=row>1953</th><td>0.8456</td><td>0.9010</td><td>0.8678</td><td>216</td><td>180</td></tr>\n",
       "\t<tr><th scope=row>7591</th><td>0.8327</td><td>0.8932</td><td>0.8569</td><td>262</td><td>165</td></tr>\n",
       "\t<tr><th scope=row>1038</th><td>0.8362</td><td>0.8985</td><td>0.8611</td><td>233</td><td>173</td></tr>\n",
       "\t<tr><th scope=row>49</th><td>0.8337</td><td>0.8932</td><td>0.8575</td><td>231</td><td>196</td></tr>\n",
       "\t<tr><th scope=row>3203</th><td>0.8361</td><td>0.8970</td><td>0.8605</td><td>228</td><td>184</td></tr>\n",
       "</tbody>\n",
       "</table>\n"
      ],
      "text/latex": [
       "A data.frame: 6 × 5\n",
       "\\begin{tabular}{r|lllll}\n",
       "  & fscore & Acc & Type2 & FN & FP\\\\\n",
       "  & <dbl> & <dbl> & <dbl> & <dbl> & <dbl>\\\\\n",
       "\\hline\n",
       "\t5934 & 0.8356 & 0.8965 & 0.8600 & 225 & 189\\\\\n",
       "\t1953 & 0.8456 & 0.9010 & 0.8678 & 216 & 180\\\\\n",
       "\t7591 & 0.8327 & 0.8932 & 0.8569 & 262 & 165\\\\\n",
       "\t1038 & 0.8362 & 0.8985 & 0.8611 & 233 & 173\\\\\n",
       "\t49 & 0.8337 & 0.8932 & 0.8575 & 231 & 196\\\\\n",
       "\t3203 & 0.8361 & 0.8970 & 0.8605 & 228 & 184\\\\\n",
       "\\end{tabular}\n"
      ],
      "text/markdown": [
       "\n",
       "A data.frame: 6 × 5\n",
       "\n",
       "| <!--/--> | fscore &lt;dbl&gt; | Acc &lt;dbl&gt; | Type2 &lt;dbl&gt; | FN &lt;dbl&gt; | FP &lt;dbl&gt; |\n",
       "|---|---|---|---|---|---|\n",
       "| 5934 | 0.8356 | 0.8965 | 0.8600 | 225 | 189 |\n",
       "| 1953 | 0.8456 | 0.9010 | 0.8678 | 216 | 180 |\n",
       "| 7591 | 0.8327 | 0.8932 | 0.8569 | 262 | 165 |\n",
       "| 1038 | 0.8362 | 0.8985 | 0.8611 | 233 | 173 |\n",
       "| 49 | 0.8337 | 0.8932 | 0.8575 | 231 | 196 |\n",
       "| 3203 | 0.8361 | 0.8970 | 0.8605 | 228 | 184 |\n",
       "\n"
      ],
      "text/plain": [
       "     fscore Acc    Type2  FN  FP \n",
       "5934 0.8356 0.8965 0.8600 225 189\n",
       "1953 0.8456 0.9010 0.8678 216 180\n",
       "7591 0.8327 0.8932 0.8569 262 165\n",
       "1038 0.8362 0.8985 0.8611 233 173\n",
       "49   0.8337 0.8932 0.8575 231 196\n",
       "3203 0.8361 0.8970 0.8605 228 184"
      ]
     },
     "metadata": {},
     "output_type": "display_data"
    }
   ],
   "source": [
    "dim(dat_result)\n",
    "head(dat_result)\n"
   ]
  },
  {
   "cell_type": "code",
   "execution_count": 100,
   "metadata": {},
   "outputs": [
    {
     "data": {
      "text/html": [
       "'fscore mean: 0.8355'"
      ],
      "text/latex": [
       "'fscore mean: 0.8355'"
      ],
      "text/markdown": [
       "'fscore mean: 0.8355'"
      ],
      "text/plain": [
       "[1] \"fscore mean: 0.8355\""
      ]
     },
     "metadata": {},
     "output_type": "display_data"
    },
    {
     "data": {
      "text/html": [
       "'fscore StdDev: 0.006'"
      ],
      "text/latex": [
       "'fscore StdDev: 0.006'"
      ],
      "text/markdown": [
       "'fscore StdDev: 0.006'"
      ],
      "text/plain": [
       "[1] \"fscore StdDev: 0.006\""
      ]
     },
     "metadata": {},
     "output_type": "display_data"
    },
    {
     "data": {
      "text/html": [
       "''"
      ],
      "text/latex": [
       "''"
      ],
      "text/markdown": [
       "''"
      ],
      "text/plain": [
       "[1] \"\""
      ]
     },
     "metadata": {},
     "output_type": "display_data"
    },
    {
     "data": {
      "text/plain": [
       "   Min. 1st Qu.  Median    Mean 3rd Qu.    Max. \n",
       "  0.821   0.831   0.836   0.836   0.839   0.852 "
      ]
     },
     "metadata": {},
     "output_type": "display_data"
    }
   ],
   "source": [
    "fscore_mean <- round(mean(dat_result$fscore), 4)\n",
    "fscore_sd <- round(sd(dat_result$fscore), 4)\n",
    "paste0(\"fscore mean: \", as.character(fscore_mean))\n",
    "# 0.8355\n",
    "paste0(\"fscore StdDev: \", as.character(fscore_sd))\n",
    "# 0.006\n",
    "\"\"\n",
    "summary(dat_result$fscore)\n"
   ]
  },
  {
   "cell_type": "code",
   "execution_count": 101,
   "metadata": {},
   "outputs": [
    {
     "data": {
      "text/html": [
       "'accuracy mean: 0.8963'"
      ],
      "text/latex": [
       "'accuracy mean: 0.8963'"
      ],
      "text/markdown": [
       "'accuracy mean: 0.8963'"
      ],
      "text/plain": [
       "[1] \"accuracy mean: 0.8963\""
      ]
     },
     "metadata": {},
     "output_type": "display_data"
    },
    {
     "data": {
      "text/html": [
       "'accuracy StdDev: 0.0037'"
      ],
      "text/latex": [
       "'accuracy StdDev: 0.0037'"
      ],
      "text/markdown": [
       "'accuracy StdDev: 0.0037'"
      ],
      "text/plain": [
       "[1] \"accuracy StdDev: 0.0037\""
      ]
     },
     "metadata": {},
     "output_type": "display_data"
    },
    {
     "data": {
      "text/html": [
       "''"
      ],
      "text/latex": [
       "''"
      ],
      "text/markdown": [
       "''"
      ],
      "text/plain": [
       "[1] \"\""
      ]
     },
     "metadata": {},
     "output_type": "display_data"
    },
    {
     "data": {
      "text/plain": [
       "   Min. 1st Qu.  Median    Mean 3rd Qu.    Max. \n",
       "  0.887   0.894   0.896   0.896   0.899   0.907 "
      ]
     },
     "metadata": {},
     "output_type": "display_data"
    }
   ],
   "source": [
    "Acc_mean <- round(mean(dat_result$Acc), 4)\n",
    "Acc_sd <- round(sd(dat_result$Acc), 4)\n",
    "paste0(\"accuracy mean: \", as.character(Acc_mean))\n",
    "# 0.8963\n",
    "paste0(\"accuracy StdDev: \", as.character(Acc_sd))\n",
    "# 0.0037\n",
    "\"\"\n",
    "summary(dat_result$Acc)\n"
   ]
  },
  {
   "cell_type": "code",
   "execution_count": 102,
   "metadata": {},
   "outputs": [
    {
     "data": {
      "text/html": [
       "'Type2 mean: 0.8599'"
      ],
      "text/latex": [
       "'Type2 mean: 0.8599'"
      ],
      "text/markdown": [
       "'Type2 mean: 0.8599'"
      ],
      "text/plain": [
       "[1] \"Type2 mean: 0.8599\""
      ]
     },
     "metadata": {},
     "output_type": "display_data"
    },
    {
     "data": {
      "text/html": [
       "'Type2 StdDev: 0.005'"
      ],
      "text/latex": [
       "'Type2 StdDev: 0.005'"
      ],
      "text/markdown": [
       "'Type2 StdDev: 0.005'"
      ],
      "text/plain": [
       "[1] \"Type2 StdDev: 0.005\""
      ]
     },
     "metadata": {},
     "output_type": "display_data"
    },
    {
     "data": {
      "text/html": [
       "''"
      ],
      "text/latex": [
       "''"
      ],
      "text/markdown": [
       "''"
      ],
      "text/plain": [
       "[1] \"\""
      ]
     },
     "metadata": {},
     "output_type": "display_data"
    },
    {
     "data": {
      "text/plain": [
       "   Min. 1st Qu.  Median    Mean 3rd Qu.    Max. \n",
       "  0.848   0.857   0.860   0.860   0.863   0.874 "
      ]
     },
     "metadata": {},
     "output_type": "display_data"
    }
   ],
   "source": [
    "Type2_mean <- round(mean(dat_result$Type2), 4)\n",
    "Type2_sd <- round(sd(dat_result$Type2), 4)\n",
    "paste0(\"Type2 mean: \", as.character(Type2_mean))\n",
    "# 0.8599\n",
    "paste0(\"Type2 StdDev: \", as.character(Type2_sd))\n",
    "# 0.005\n",
    "\"\"\n",
    "summary(dat_result$Type2)\n"
   ]
  },
  {
   "cell_type": "code",
   "execution_count": 103,
   "metadata": {},
   "outputs": [
    {
     "data": {
      "text/html": [
       "'FN mean: 234.18'"
      ],
      "text/latex": [
       "'FN mean: 234.18'"
      ],
      "text/markdown": [
       "'FN mean: 234.18'"
      ],
      "text/plain": [
       "[1] \"FN mean: 234.18\""
      ]
     },
     "metadata": {},
     "output_type": "display_data"
    },
    {
     "data": {
      "text/html": [
       "'FN StdDev: 11.43'"
      ],
      "text/latex": [
       "'FN StdDev: 11.43'"
      ],
      "text/markdown": [
       "'FN StdDev: 11.43'"
      ],
      "text/plain": [
       "[1] \"FN StdDev: 11.43\""
      ]
     },
     "metadata": {},
     "output_type": "display_data"
    },
    {
     "data": {
      "text/html": [
       "''"
      ],
      "text/latex": [
       "''"
      ],
      "text/markdown": [
       "''"
      ],
      "text/plain": [
       "[1] \"\""
      ]
     },
     "metadata": {},
     "output_type": "display_data"
    },
    {
     "data": {
      "text/plain": [
       "   Min. 1st Qu.  Median    Mean 3rd Qu.    Max. \n",
       "    195     227     234     234     242     262 "
      ]
     },
     "metadata": {},
     "output_type": "display_data"
    }
   ],
   "source": [
    "FN_mean <- round(mean(dat_result$FN), 2)\n",
    "FN_sd <- round(sd(dat_result$FN), 2)\n",
    "paste0(\"FN mean: \", as.character(FN_mean))\n",
    "# 234.2\n",
    "paste0(\"FN StdDev: \", as.character(FN_sd))\n",
    "#  11.4\n",
    "\"\"\n",
    "summary(dat_result$FN)\n"
   ]
  },
  {
   "cell_type": "code",
   "execution_count": 104,
   "metadata": {},
   "outputs": [
    {
     "data": {
      "text/html": [
       "'FP mean: 180.53'"
      ],
      "text/latex": [
       "'FP mean: 180.53'"
      ],
      "text/markdown": [
       "'FP mean: 180.53'"
      ],
      "text/plain": [
       "[1] \"FP mean: 180.53\""
      ]
     },
     "metadata": {},
     "output_type": "display_data"
    },
    {
     "data": {
      "text/html": [
       "'FP StdDev: 10.18'"
      ],
      "text/latex": [
       "'FP StdDev: 10.18'"
      ],
      "text/markdown": [
       "'FP StdDev: 10.18'"
      ],
      "text/plain": [
       "[1] \"FP StdDev: 10.18\""
      ]
     },
     "metadata": {},
     "output_type": "display_data"
    },
    {
     "data": {
      "text/html": [
       "''"
      ],
      "text/latex": [
       "''"
      ],
      "text/markdown": [
       "''"
      ],
      "text/plain": [
       "[1] \"\""
      ]
     },
     "metadata": {},
     "output_type": "display_data"
    },
    {
     "data": {
      "text/plain": [
       "   Min. 1st Qu.  Median    Mean 3rd Qu.    Max. \n",
       "    156     173     181     181     189     206 "
      ]
     },
     "metadata": {},
     "output_type": "display_data"
    }
   ],
   "source": [
    "FP_mean <- round(mean(dat_result$FP), 2)\n",
    "FP_sd <- round(sd(dat_result$FP), 2)\n",
    "paste0(\"FP mean: \", as.character(FP_mean))\n",
    "# 180.5\n",
    "paste0(\"FP StdDev: \", as.character(FP_sd))\n",
    "#  10.2\n",
    "\"\"\n",
    "summary(dat_result$FP)\n"
   ]
  },
  {
   "cell_type": "markdown",
   "metadata": {},
   "source": [
    "## Section 7 Comments"
   ]
  },
  {
   "cell_type": "markdown",
   "metadata": {},
   "source": [
    "The scores in Section 7 are essentially equivalent to those in Section 6.  So there is no difference between the two approaches."
   ]
  },
  {
   "cell_type": "markdown",
   "metadata": {},
   "source": [
    "# Table Summarizing Part 3 Results"
   ]
  },
  {
   "cell_type": "code",
   "execution_count": 7,
   "metadata": {},
   "outputs": [
    {
     "data": {
      "text/html": [
       "<style>\n",
       ".list-inline {list-style: none; margin:0; padding: 0}\n",
       ".list-inline>li {display: inline-block}\n",
       ".list-inline>li:not(:last-child)::after {content: \"\\00b7\"; padding: 0 .5ex}\n",
       "</style>\n",
       "<ol class=list-inline><li>9</li><li>10</li></ol>\n"
      ],
      "text/latex": [
       "\\begin{enumerate*}\n",
       "\\item 9\n",
       "\\item 10\n",
       "\\end{enumerate*}\n"
      ],
      "text/markdown": [
       "1. 9\n",
       "2. 10\n",
       "\n",
       "\n"
      ],
      "text/plain": [
       "[1]  9 10"
      ]
     },
     "metadata": {},
     "output_type": "display_data"
    }
   ],
   "source": [
    "results <- read.csv(\"/home/greg/Documents/stat/github_repos/cows/model_results_Part3_CAhousing.csv\", \n",
    "                    header=TRUE, row.names=1)\n",
    "dim(results)\n"
   ]
  },
  {
   "cell_type": "code",
   "execution_count": 8,
   "metadata": {},
   "outputs": [
    {
     "data": {
      "text/html": [
       "<table>\n",
       "<caption>A data.frame: 9 × 10</caption>\n",
       "<thead>\n",
       "\t<tr><th></th><th scope=col>fscore</th><th scope=col>fscore_sd</th><th scope=col>Type2</th><th scope=col>Type2_sd</th><th scope=col>accuracy</th><th scope=col>acc_sd</th><th scope=col>FN</th><th scope=col>FN_sd</th><th scope=col>FP</th><th scope=col>FP_sd</th></tr>\n",
       "\t<tr><th></th><th scope=col>&lt;dbl&gt;</th><th scope=col>&lt;dbl&gt;</th><th scope=col>&lt;dbl&gt;</th><th scope=col>&lt;dbl&gt;</th><th scope=col>&lt;dbl&gt;</th><th scope=col>&lt;dbl&gt;</th><th scope=col>&lt;dbl&gt;</th><th scope=col>&lt;dbl&gt;</th><th scope=col>&lt;dbl&gt;</th><th scope=col>&lt;dbl&gt;</th></tr>\n",
       "</thead>\n",
       "<tbody>\n",
       "\t<tr><th scope=row>rfclf</th><td>0.8366</td><td>0.0060</td><td>0.8611</td><td>0.0049</td><td>0.8979</td><td>0.0037</td><td>242.3</td><td>11.6</td><td>166.0</td><td> 9.8</td></tr>\n",
       "\t<tr><th scope=row>gb</th><td>0.8204</td><td>0.0065</td><td>0.8475</td><td>0.0054</td><td>0.8882</td><td>0.0039</td><td>266.0</td><td>11.9</td><td>181.2</td><td>10.5</td></tr>\n",
       "\t<tr><th scope=row>svm02</th><td>0.8265</td><td>0.0065</td><td>0.8536</td><td>0.0053</td><td>0.8943</td><td>0.0038</td><td>280.3</td><td>11.8</td><td>142.6</td><td> 8.9</td></tr>\n",
       "\t<tr><th scope=row>f03</th><td>0.7765</td><td>0.0076</td><td>0.8149</td><td>0.0060</td><td>0.8725</td><td>0.0042</td><td>401.6</td><td>14.3</td><td>108.6</td><td> 8.4</td></tr>\n",
       "\t<tr><th scope=row>kmp1_pca4</th><td>0.8348</td><td>0.0061</td><td>0.8592</td><td>0.0050</td><td>0.8957</td><td>0.0037</td><td>233.1</td><td>11.3</td><td>184.2</td><td>10.6</td></tr>\n",
       "\t<tr><th scope=row>kmp1_pca4_wghts</th><td>0.8349</td><td>0.0060</td><td>0.8593</td><td>0.0050</td><td>0.8959</td><td>0.0037</td><td>234.7</td><td>11.3</td><td>181.9</td><td>10.2</td></tr>\n",
       "\t<tr><th scope=row>kmp1p2</th><td>0.8346</td><td>0.0059</td><td>0.8593</td><td>0.0049</td><td>0.8962</td><td>0.0037</td><td>240.2</td><td>11.4</td><td>174.9</td><td> 9.7</td></tr>\n",
       "\t<tr><th scope=row>kmp1p2_pca5</th><td>0.8357</td><td>0.0061</td><td>0.8600</td><td>0.0050</td><td>0.8965</td><td>0.0037</td><td>234.6</td><td>11.5</td><td>179.5</td><td>10.3</td></tr>\n",
       "\t<tr><th scope=row>kmp1p2_pca4</th><td>0.8355</td><td>0.0060</td><td>0.8599</td><td>0.0050</td><td>0.8963</td><td>0.0037</td><td>234.2</td><td>11.4</td><td>180.5</td><td>10.2</td></tr>\n",
       "</tbody>\n",
       "</table>\n"
      ],
      "text/latex": [
       "A data.frame: 9 × 10\n",
       "\\begin{tabular}{r|llllllllll}\n",
       "  & fscore & fscore\\_sd & Type2 & Type2\\_sd & accuracy & acc\\_sd & FN & FN\\_sd & FP & FP\\_sd\\\\\n",
       "  & <dbl> & <dbl> & <dbl> & <dbl> & <dbl> & <dbl> & <dbl> & <dbl> & <dbl> & <dbl>\\\\\n",
       "\\hline\n",
       "\trfclf & 0.8366 & 0.0060 & 0.8611 & 0.0049 & 0.8979 & 0.0037 & 242.3 & 11.6 & 166.0 &  9.8\\\\\n",
       "\tgb & 0.8204 & 0.0065 & 0.8475 & 0.0054 & 0.8882 & 0.0039 & 266.0 & 11.9 & 181.2 & 10.5\\\\\n",
       "\tsvm02 & 0.8265 & 0.0065 & 0.8536 & 0.0053 & 0.8943 & 0.0038 & 280.3 & 11.8 & 142.6 &  8.9\\\\\n",
       "\tf03 & 0.7765 & 0.0076 & 0.8149 & 0.0060 & 0.8725 & 0.0042 & 401.6 & 14.3 & 108.6 &  8.4\\\\\n",
       "\tkmp1\\_pca4 & 0.8348 & 0.0061 & 0.8592 & 0.0050 & 0.8957 & 0.0037 & 233.1 & 11.3 & 184.2 & 10.6\\\\\n",
       "\tkmp1\\_pca4\\_wghts & 0.8349 & 0.0060 & 0.8593 & 0.0050 & 0.8959 & 0.0037 & 234.7 & 11.3 & 181.9 & 10.2\\\\\n",
       "\tkmp1p2 & 0.8346 & 0.0059 & 0.8593 & 0.0049 & 0.8962 & 0.0037 & 240.2 & 11.4 & 174.9 &  9.7\\\\\n",
       "\tkmp1p2\\_pca5 & 0.8357 & 0.0061 & 0.8600 & 0.0050 & 0.8965 & 0.0037 & 234.6 & 11.5 & 179.5 & 10.3\\\\\n",
       "\tkmp1p2\\_pca4 & 0.8355 & 0.0060 & 0.8599 & 0.0050 & 0.8963 & 0.0037 & 234.2 & 11.4 & 180.5 & 10.2\\\\\n",
       "\\end{tabular}\n"
      ],
      "text/markdown": [
       "\n",
       "A data.frame: 9 × 10\n",
       "\n",
       "| <!--/--> | fscore &lt;dbl&gt; | fscore_sd &lt;dbl&gt; | Type2 &lt;dbl&gt; | Type2_sd &lt;dbl&gt; | accuracy &lt;dbl&gt; | acc_sd &lt;dbl&gt; | FN &lt;dbl&gt; | FN_sd &lt;dbl&gt; | FP &lt;dbl&gt; | FP_sd &lt;dbl&gt; |\n",
       "|---|---|---|---|---|---|---|---|---|---|---|\n",
       "| rfclf | 0.8366 | 0.0060 | 0.8611 | 0.0049 | 0.8979 | 0.0037 | 242.3 | 11.6 | 166.0 |  9.8 |\n",
       "| gb | 0.8204 | 0.0065 | 0.8475 | 0.0054 | 0.8882 | 0.0039 | 266.0 | 11.9 | 181.2 | 10.5 |\n",
       "| svm02 | 0.8265 | 0.0065 | 0.8536 | 0.0053 | 0.8943 | 0.0038 | 280.3 | 11.8 | 142.6 |  8.9 |\n",
       "| f03 | 0.7765 | 0.0076 | 0.8149 | 0.0060 | 0.8725 | 0.0042 | 401.6 | 14.3 | 108.6 |  8.4 |\n",
       "| kmp1_pca4 | 0.8348 | 0.0061 | 0.8592 | 0.0050 | 0.8957 | 0.0037 | 233.1 | 11.3 | 184.2 | 10.6 |\n",
       "| kmp1_pca4_wghts | 0.8349 | 0.0060 | 0.8593 | 0.0050 | 0.8959 | 0.0037 | 234.7 | 11.3 | 181.9 | 10.2 |\n",
       "| kmp1p2 | 0.8346 | 0.0059 | 0.8593 | 0.0049 | 0.8962 | 0.0037 | 240.2 | 11.4 | 174.9 |  9.7 |\n",
       "| kmp1p2_pca5 | 0.8357 | 0.0061 | 0.8600 | 0.0050 | 0.8965 | 0.0037 | 234.6 | 11.5 | 179.5 | 10.3 |\n",
       "| kmp1p2_pca4 | 0.8355 | 0.0060 | 0.8599 | 0.0050 | 0.8963 | 0.0037 | 234.2 | 11.4 | 180.5 | 10.2 |\n",
       "\n"
      ],
      "text/plain": [
       "                fscore fscore_sd Type2  Type2_sd accuracy acc_sd FN    FN_sd\n",
       "rfclf           0.8366 0.0060    0.8611 0.0049   0.8979   0.0037 242.3 11.6 \n",
       "gb              0.8204 0.0065    0.8475 0.0054   0.8882   0.0039 266.0 11.9 \n",
       "svm02           0.8265 0.0065    0.8536 0.0053   0.8943   0.0038 280.3 11.8 \n",
       "f03             0.7765 0.0076    0.8149 0.0060   0.8725   0.0042 401.6 14.3 \n",
       "kmp1_pca4       0.8348 0.0061    0.8592 0.0050   0.8957   0.0037 233.1 11.3 \n",
       "kmp1_pca4_wghts 0.8349 0.0060    0.8593 0.0050   0.8959   0.0037 234.7 11.3 \n",
       "kmp1p2          0.8346 0.0059    0.8593 0.0049   0.8962   0.0037 240.2 11.4 \n",
       "kmp1p2_pca5     0.8357 0.0061    0.8600 0.0050   0.8965   0.0037 234.6 11.5 \n",
       "kmp1p2_pca4     0.8355 0.0060    0.8599 0.0050   0.8963   0.0037 234.2 11.4 \n",
       "                FP    FP_sd\n",
       "rfclf           166.0  9.8 \n",
       "gb              181.2 10.5 \n",
       "svm02           142.6  8.9 \n",
       "f03             108.6  8.4 \n",
       "kmp1_pca4       184.2 10.6 \n",
       "kmp1_pca4_wghts 181.9 10.2 \n",
       "kmp1p2          174.9  9.7 \n",
       "kmp1p2_pca5     179.5 10.3 \n",
       "kmp1p2_pca4     180.5 10.2 "
      ]
     },
     "metadata": {},
     "output_type": "display_data"
    }
   ],
   "source": [
    "results\n"
   ]
  },
  {
   "cell_type": "markdown",
   "metadata": {},
   "source": [
    "# Part 3 Final Comments"
   ]
  },
  {
   "cell_type": "markdown",
   "metadata": {},
   "source": [
    "The k-means approach that produced better supervised learning models in Parts 1 and 2 is not yielding the same positive result for the California housing dataset.  For this dataset, our best k-means model still does not quite measure up to our best SL model (in this case, rfclf_best).  On average, rfclf_best classifies 5.6 more districts correctly out of 4K districts (0.14%) than does kmp1p2_pca5.  \n",
    "\n",
    "When comparing the results of Part 3 with those from Parts 1 and 2, it is important to keep in mind that the predictors used in Part 3 were not collected with the aim of distinguishing between INLAND and OCEAN districts; whereas with the cow data, the predictors were specifically chosen to help distinguish between survivors and non-survivors.  One of the implications of this is that our first k-means models in Parts 1 and 2, absent any probability columns, were very competitive with the very best SL models.  I was then able to add the probabilities from one or more of the best SL models, employ weights, and get an even stronger model.  Here in Part 3, though, I start with a very weak k-means \"base\" model.  It is not competitive until I add the prob01 column.  Applying weights is not able to boost the score in any significant way.  Adding a second probability column also did not make an important positive difference.\n",
    "\n",
    "The results of Part 3 should thus not be seen as a mark against the k-means hybrid approach to model construction.  We shouldn't expect the hybrid approach to always provide us with the strongest model.\n",
    "\n",
    "\n",
    "The above work with weights is important.  The more predictors we have, the more difficult it is to search the parameter space for the optimal weights.  This difficulty increases as the number of records in our dataset increases.  We saw above, however, that this search may not always be necessary.  But more work is required in order to find out the conditions which, if satisfied, make a search for weights superfluous.\n"
   ]
  },
  {
   "cell_type": "code",
   "execution_count": null,
   "metadata": {},
   "outputs": [],
   "source": []
  }
 ],
 "metadata": {
  "kernelspec": {
   "display_name": "R",
   "language": "R",
   "name": "ir"
  },
  "language_info": {
   "codemirror_mode": "r",
   "file_extension": ".r",
   "mimetype": "text/x-r-source",
   "name": "R",
   "pygments_lexer": "r",
   "version": "4.0.3"
  }
 },
 "nbformat": 4,
 "nbformat_minor": 4
}
