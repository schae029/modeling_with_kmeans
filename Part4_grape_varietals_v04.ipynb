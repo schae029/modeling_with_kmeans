{
 "cells": [
  {
   "cell_type": "markdown",
   "metadata": {},
   "source": [
    "# Modeling with k-means, Part 4"
   ]
  },
  {
   "cell_type": "markdown",
   "metadata": {},
   "source": [
    "In Part 4 I continue to apply the methods of Parts 1, 2, and 3.  The difference is that here we are looking for 3 clusters rather than just 2.\n",
    "\n",
    "As in Part 2, since there are so few records in the *wine* dataset (178 records, or samples), I will include all records in the training set data and compare model performance based on cross-validation scores.\n",
    "\n",
    "The wine samples represent three varietals.\n",
    "\n",
    "\n",
    "\n",
    "\n",
    "\n",
    "\n",
    "                                   * * * * *"
   ]
  },
  {
   "cell_type": "markdown",
   "metadata": {},
   "source": [
    "# Preliminaries"
   ]
  },
  {
   "cell_type": "code",
   "execution_count": null,
   "metadata": {},
   "outputs": [],
   "source": [
    "require(rattle)\n",
    "require(car)\n",
    "require(repr)\n",
    "require(ggplot2)\n",
    "require(stringr)\n",
    "require(parallel)\n",
    "require(faraway)\n",
    "require(randomForest)\n",
    "require(plyr)\n",
    "require(e1071)\n",
    "require(xgboost)\n"
   ]
  },
  {
   "cell_type": "code",
   "execution_count": 2,
   "metadata": {},
   "outputs": [],
   "source": [
    "options(digits= 5, show.signif.stars= FALSE)\n"
   ]
  },
  {
   "cell_type": "markdown",
   "metadata": {},
   "source": [
    "## Load the data"
   ]
  },
  {
   "cell_type": "code",
   "execution_count": 3,
   "metadata": {},
   "outputs": [
    {
     "data": {
      "text/html": [
       "<style>\n",
       ".list-inline {list-style: none; margin:0; padding: 0}\n",
       ".list-inline>li {display: inline-block}\n",
       ".list-inline>li:not(:last-child)::after {content: \"\\00b7\"; padding: 0 .5ex}\n",
       "</style>\n",
       "<ol class=list-inline><li>178</li><li>14</li></ol>\n"
      ],
      "text/latex": [
       "\\begin{enumerate*}\n",
       "\\item 178\n",
       "\\item 14\n",
       "\\end{enumerate*}\n"
      ],
      "text/markdown": [
       "1. 178\n",
       "2. 14\n",
       "\n",
       "\n"
      ],
      "text/plain": [
       "[1] 178  14"
      ]
     },
     "metadata": {},
     "output_type": "display_data"
    },
    {
     "data": {
      "text/html": [
       "<style>\n",
       ".list-inline {list-style: none; margin:0; padding: 0}\n",
       ".list-inline>li {display: inline-block}\n",
       ".list-inline>li:not(:last-child)::after {content: \"\\00b7\"; padding: 0 .5ex}\n",
       "</style>\n",
       "<ol class=list-inline><li>'Type'</li><li>'Alcohol'</li><li>'Malic'</li><li>'Ash'</li><li>'Alcalinity'</li><li>'Magnesium'</li><li>'Phenols'</li><li>'Flavanoids'</li><li>'Nonflavanoids'</li><li>'Proanthocyanins'</li><li>'Color'</li><li>'Hue'</li><li>'Dilution'</li><li>'Proline'</li></ol>\n"
      ],
      "text/latex": [
       "\\begin{enumerate*}\n",
       "\\item 'Type'\n",
       "\\item 'Alcohol'\n",
       "\\item 'Malic'\n",
       "\\item 'Ash'\n",
       "\\item 'Alcalinity'\n",
       "\\item 'Magnesium'\n",
       "\\item 'Phenols'\n",
       "\\item 'Flavanoids'\n",
       "\\item 'Nonflavanoids'\n",
       "\\item 'Proanthocyanins'\n",
       "\\item 'Color'\n",
       "\\item 'Hue'\n",
       "\\item 'Dilution'\n",
       "\\item 'Proline'\n",
       "\\end{enumerate*}\n"
      ],
      "text/markdown": [
       "1. 'Type'\n",
       "2. 'Alcohol'\n",
       "3. 'Malic'\n",
       "4. 'Ash'\n",
       "5. 'Alcalinity'\n",
       "6. 'Magnesium'\n",
       "7. 'Phenols'\n",
       "8. 'Flavanoids'\n",
       "9. 'Nonflavanoids'\n",
       "10. 'Proanthocyanins'\n",
       "11. 'Color'\n",
       "12. 'Hue'\n",
       "13. 'Dilution'\n",
       "14. 'Proline'\n",
       "\n",
       "\n"
      ],
      "text/plain": [
       " [1] \"Type\"            \"Alcohol\"         \"Malic\"           \"Ash\"            \n",
       " [5] \"Alcalinity\"      \"Magnesium\"       \"Phenols\"         \"Flavanoids\"     \n",
       " [9] \"Nonflavanoids\"   \"Proanthocyanins\" \"Color\"           \"Hue\"            \n",
       "[13] \"Dilution\"        \"Proline\"        "
      ]
     },
     "metadata": {},
     "output_type": "display_data"
    }
   ],
   "source": [
    "# Load the data.  The wine dataset is found in \n",
    "# package rattle.\n",
    "\n",
    "data(wine, package=\"rattle\")\n",
    "dim(wine)\n",
    "colnames(wine)\n"
   ]
  },
  {
   "cell_type": "code",
   "execution_count": 4,
   "metadata": {},
   "outputs": [
    {
     "data": {
      "text/html": [
       "<table>\n",
       "<caption>A data.frame: 6 × 14</caption>\n",
       "<thead>\n",
       "\t<tr><th></th><th scope=col>Type</th><th scope=col>Alcohol</th><th scope=col>Malic</th><th scope=col>Ash</th><th scope=col>Alcalinity</th><th scope=col>Magnesium</th><th scope=col>Phenols</th><th scope=col>Flavanoids</th><th scope=col>Nonflavanoids</th><th scope=col>Proanthocyanins</th><th scope=col>Color</th><th scope=col>Hue</th><th scope=col>Dilution</th><th scope=col>Proline</th></tr>\n",
       "\t<tr><th></th><th scope=col>&lt;fct&gt;</th><th scope=col>&lt;dbl&gt;</th><th scope=col>&lt;dbl&gt;</th><th scope=col>&lt;dbl&gt;</th><th scope=col>&lt;dbl&gt;</th><th scope=col>&lt;int&gt;</th><th scope=col>&lt;dbl&gt;</th><th scope=col>&lt;dbl&gt;</th><th scope=col>&lt;dbl&gt;</th><th scope=col>&lt;dbl&gt;</th><th scope=col>&lt;dbl&gt;</th><th scope=col>&lt;dbl&gt;</th><th scope=col>&lt;dbl&gt;</th><th scope=col>&lt;int&gt;</th></tr>\n",
       "</thead>\n",
       "<tbody>\n",
       "\t<tr><th scope=row>1</th><td>1</td><td>14.23</td><td>1.71</td><td>2.43</td><td>15.6</td><td>127</td><td>2.80</td><td>3.06</td><td>0.28</td><td>2.29</td><td>5.64</td><td>1.04</td><td>3.92</td><td>1065</td></tr>\n",
       "\t<tr><th scope=row>2</th><td>1</td><td>13.20</td><td>1.78</td><td>2.14</td><td>11.2</td><td>100</td><td>2.65</td><td>2.76</td><td>0.26</td><td>1.28</td><td>4.38</td><td>1.05</td><td>3.40</td><td>1050</td></tr>\n",
       "\t<tr><th scope=row>3</th><td>1</td><td>13.16</td><td>2.36</td><td>2.67</td><td>18.6</td><td>101</td><td>2.80</td><td>3.24</td><td>0.30</td><td>2.81</td><td>5.68</td><td>1.03</td><td>3.17</td><td>1185</td></tr>\n",
       "\t<tr><th scope=row>4</th><td>1</td><td>14.37</td><td>1.95</td><td>2.50</td><td>16.8</td><td>113</td><td>3.85</td><td>3.49</td><td>0.24</td><td>2.18</td><td>7.80</td><td>0.86</td><td>3.45</td><td>1480</td></tr>\n",
       "\t<tr><th scope=row>5</th><td>1</td><td>13.24</td><td>2.59</td><td>2.87</td><td>21.0</td><td>118</td><td>2.80</td><td>2.69</td><td>0.39</td><td>1.82</td><td>4.32</td><td>1.04</td><td>2.93</td><td> 735</td></tr>\n",
       "\t<tr><th scope=row>6</th><td>1</td><td>14.20</td><td>1.76</td><td>2.45</td><td>15.2</td><td>112</td><td>3.27</td><td>3.39</td><td>0.34</td><td>1.97</td><td>6.75</td><td>1.05</td><td>2.85</td><td>1450</td></tr>\n",
       "</tbody>\n",
       "</table>\n"
      ],
      "text/latex": [
       "A data.frame: 6 × 14\n",
       "\\begin{tabular}{r|llllllllllllll}\n",
       "  & Type & Alcohol & Malic & Ash & Alcalinity & Magnesium & Phenols & Flavanoids & Nonflavanoids & Proanthocyanins & Color & Hue & Dilution & Proline\\\\\n",
       "  & <fct> & <dbl> & <dbl> & <dbl> & <dbl> & <int> & <dbl> & <dbl> & <dbl> & <dbl> & <dbl> & <dbl> & <dbl> & <int>\\\\\n",
       "\\hline\n",
       "\t1 & 1 & 14.23 & 1.71 & 2.43 & 15.6 & 127 & 2.80 & 3.06 & 0.28 & 2.29 & 5.64 & 1.04 & 3.92 & 1065\\\\\n",
       "\t2 & 1 & 13.20 & 1.78 & 2.14 & 11.2 & 100 & 2.65 & 2.76 & 0.26 & 1.28 & 4.38 & 1.05 & 3.40 & 1050\\\\\n",
       "\t3 & 1 & 13.16 & 2.36 & 2.67 & 18.6 & 101 & 2.80 & 3.24 & 0.30 & 2.81 & 5.68 & 1.03 & 3.17 & 1185\\\\\n",
       "\t4 & 1 & 14.37 & 1.95 & 2.50 & 16.8 & 113 & 3.85 & 3.49 & 0.24 & 2.18 & 7.80 & 0.86 & 3.45 & 1480\\\\\n",
       "\t5 & 1 & 13.24 & 2.59 & 2.87 & 21.0 & 118 & 2.80 & 2.69 & 0.39 & 1.82 & 4.32 & 1.04 & 2.93 &  735\\\\\n",
       "\t6 & 1 & 14.20 & 1.76 & 2.45 & 15.2 & 112 & 3.27 & 3.39 & 0.34 & 1.97 & 6.75 & 1.05 & 2.85 & 1450\\\\\n",
       "\\end{tabular}\n"
      ],
      "text/markdown": [
       "\n",
       "A data.frame: 6 × 14\n",
       "\n",
       "| <!--/--> | Type &lt;fct&gt; | Alcohol &lt;dbl&gt; | Malic &lt;dbl&gt; | Ash &lt;dbl&gt; | Alcalinity &lt;dbl&gt; | Magnesium &lt;int&gt; | Phenols &lt;dbl&gt; | Flavanoids &lt;dbl&gt; | Nonflavanoids &lt;dbl&gt; | Proanthocyanins &lt;dbl&gt; | Color &lt;dbl&gt; | Hue &lt;dbl&gt; | Dilution &lt;dbl&gt; | Proline &lt;int&gt; |\n",
       "|---|---|---|---|---|---|---|---|---|---|---|---|---|---|---|\n",
       "| 1 | 1 | 14.23 | 1.71 | 2.43 | 15.6 | 127 | 2.80 | 3.06 | 0.28 | 2.29 | 5.64 | 1.04 | 3.92 | 1065 |\n",
       "| 2 | 1 | 13.20 | 1.78 | 2.14 | 11.2 | 100 | 2.65 | 2.76 | 0.26 | 1.28 | 4.38 | 1.05 | 3.40 | 1050 |\n",
       "| 3 | 1 | 13.16 | 2.36 | 2.67 | 18.6 | 101 | 2.80 | 3.24 | 0.30 | 2.81 | 5.68 | 1.03 | 3.17 | 1185 |\n",
       "| 4 | 1 | 14.37 | 1.95 | 2.50 | 16.8 | 113 | 3.85 | 3.49 | 0.24 | 2.18 | 7.80 | 0.86 | 3.45 | 1480 |\n",
       "| 5 | 1 | 13.24 | 2.59 | 2.87 | 21.0 | 118 | 2.80 | 2.69 | 0.39 | 1.82 | 4.32 | 1.04 | 2.93 |  735 |\n",
       "| 6 | 1 | 14.20 | 1.76 | 2.45 | 15.2 | 112 | 3.27 | 3.39 | 0.34 | 1.97 | 6.75 | 1.05 | 2.85 | 1450 |\n",
       "\n"
      ],
      "text/plain": [
       "  Type Alcohol Malic Ash  Alcalinity Magnesium Phenols Flavanoids Nonflavanoids\n",
       "1 1    14.23   1.71  2.43 15.6       127       2.80    3.06       0.28         \n",
       "2 1    13.20   1.78  2.14 11.2       100       2.65    2.76       0.26         \n",
       "3 1    13.16   2.36  2.67 18.6       101       2.80    3.24       0.30         \n",
       "4 1    14.37   1.95  2.50 16.8       113       3.85    3.49       0.24         \n",
       "5 1    13.24   2.59  2.87 21.0       118       2.80    2.69       0.39         \n",
       "6 1    14.20   1.76  2.45 15.2       112       3.27    3.39       0.34         \n",
       "  Proanthocyanins Color Hue  Dilution Proline\n",
       "1 2.29            5.64  1.04 3.92     1065   \n",
       "2 1.28            4.38  1.05 3.40     1050   \n",
       "3 2.81            5.68  1.03 3.17     1185   \n",
       "4 2.18            7.80  0.86 3.45     1480   \n",
       "5 1.82            4.32  1.04 2.93      735   \n",
       "6 1.97            6.75  1.05 2.85     1450   "
      ]
     },
     "metadata": {},
     "output_type": "display_data"
    }
   ],
   "source": [
    "# Note that all of the predictors are numeric (continuous).\n",
    "# Note that Type is a factor.\n",
    "\n",
    "head(wine[, 1:14])\n"
   ]
  },
  {
   "cell_type": "code",
   "execution_count": 5,
   "metadata": {},
   "outputs": [
    {
     "data": {
      "text/html": [
       "<table>\n",
       "<caption>A data.frame: 6 × 14</caption>\n",
       "<thead>\n",
       "\t<tr><th></th><th scope=col>Type</th><th scope=col>Alcohol</th><th scope=col>Malic</th><th scope=col>Ash</th><th scope=col>Alcalinity</th><th scope=col>Magnesium</th><th scope=col>Phenols</th><th scope=col>Flavanoids</th><th scope=col>Nonflavanoids</th><th scope=col>Proanthocyanins</th><th scope=col>Color</th><th scope=col>Hue</th><th scope=col>Dilution</th><th scope=col>Proline</th></tr>\n",
       "\t<tr><th></th><th scope=col>&lt;fct&gt;</th><th scope=col>&lt;dbl&gt;</th><th scope=col>&lt;dbl&gt;</th><th scope=col>&lt;dbl&gt;</th><th scope=col>&lt;dbl&gt;</th><th scope=col>&lt;int&gt;</th><th scope=col>&lt;dbl&gt;</th><th scope=col>&lt;dbl&gt;</th><th scope=col>&lt;dbl&gt;</th><th scope=col>&lt;dbl&gt;</th><th scope=col>&lt;dbl&gt;</th><th scope=col>&lt;dbl&gt;</th><th scope=col>&lt;dbl&gt;</th><th scope=col>&lt;int&gt;</th></tr>\n",
       "</thead>\n",
       "<tbody>\n",
       "\t<tr><th scope=row>173</th><td>3</td><td>14.16</td><td>2.51</td><td>2.48</td><td>20.0</td><td> 91</td><td>1.68</td><td>0.70</td><td>0.44</td><td>1.24</td><td> 9.7</td><td>0.62</td><td>1.71</td><td>660</td></tr>\n",
       "\t<tr><th scope=row>174</th><td>3</td><td>13.71</td><td>5.65</td><td>2.45</td><td>20.5</td><td> 95</td><td>1.68</td><td>0.61</td><td>0.52</td><td>1.06</td><td> 7.7</td><td>0.64</td><td>1.74</td><td>740</td></tr>\n",
       "\t<tr><th scope=row>175</th><td>3</td><td>13.40</td><td>3.91</td><td>2.48</td><td>23.0</td><td>102</td><td>1.80</td><td>0.75</td><td>0.43</td><td>1.41</td><td> 7.3</td><td>0.70</td><td>1.56</td><td>750</td></tr>\n",
       "\t<tr><th scope=row>176</th><td>3</td><td>13.27</td><td>4.28</td><td>2.26</td><td>20.0</td><td>120</td><td>1.59</td><td>0.69</td><td>0.43</td><td>1.35</td><td>10.2</td><td>0.59</td><td>1.56</td><td>835</td></tr>\n",
       "\t<tr><th scope=row>177</th><td>3</td><td>13.17</td><td>2.59</td><td>2.37</td><td>20.0</td><td>120</td><td>1.65</td><td>0.68</td><td>0.53</td><td>1.46</td><td> 9.3</td><td>0.60</td><td>1.62</td><td>840</td></tr>\n",
       "\t<tr><th scope=row>178</th><td>3</td><td>14.13</td><td>4.10</td><td>2.74</td><td>24.5</td><td> 96</td><td>2.05</td><td>0.76</td><td>0.56</td><td>1.35</td><td> 9.2</td><td>0.61</td><td>1.60</td><td>560</td></tr>\n",
       "</tbody>\n",
       "</table>\n"
      ],
      "text/latex": [
       "A data.frame: 6 × 14\n",
       "\\begin{tabular}{r|llllllllllllll}\n",
       "  & Type & Alcohol & Malic & Ash & Alcalinity & Magnesium & Phenols & Flavanoids & Nonflavanoids & Proanthocyanins & Color & Hue & Dilution & Proline\\\\\n",
       "  & <fct> & <dbl> & <dbl> & <dbl> & <dbl> & <int> & <dbl> & <dbl> & <dbl> & <dbl> & <dbl> & <dbl> & <dbl> & <int>\\\\\n",
       "\\hline\n",
       "\t173 & 3 & 14.16 & 2.51 & 2.48 & 20.0 &  91 & 1.68 & 0.70 & 0.44 & 1.24 &  9.7 & 0.62 & 1.71 & 660\\\\\n",
       "\t174 & 3 & 13.71 & 5.65 & 2.45 & 20.5 &  95 & 1.68 & 0.61 & 0.52 & 1.06 &  7.7 & 0.64 & 1.74 & 740\\\\\n",
       "\t175 & 3 & 13.40 & 3.91 & 2.48 & 23.0 & 102 & 1.80 & 0.75 & 0.43 & 1.41 &  7.3 & 0.70 & 1.56 & 750\\\\\n",
       "\t176 & 3 & 13.27 & 4.28 & 2.26 & 20.0 & 120 & 1.59 & 0.69 & 0.43 & 1.35 & 10.2 & 0.59 & 1.56 & 835\\\\\n",
       "\t177 & 3 & 13.17 & 2.59 & 2.37 & 20.0 & 120 & 1.65 & 0.68 & 0.53 & 1.46 &  9.3 & 0.60 & 1.62 & 840\\\\\n",
       "\t178 & 3 & 14.13 & 4.10 & 2.74 & 24.5 &  96 & 2.05 & 0.76 & 0.56 & 1.35 &  9.2 & 0.61 & 1.60 & 560\\\\\n",
       "\\end{tabular}\n"
      ],
      "text/markdown": [
       "\n",
       "A data.frame: 6 × 14\n",
       "\n",
       "| <!--/--> | Type &lt;fct&gt; | Alcohol &lt;dbl&gt; | Malic &lt;dbl&gt; | Ash &lt;dbl&gt; | Alcalinity &lt;dbl&gt; | Magnesium &lt;int&gt; | Phenols &lt;dbl&gt; | Flavanoids &lt;dbl&gt; | Nonflavanoids &lt;dbl&gt; | Proanthocyanins &lt;dbl&gt; | Color &lt;dbl&gt; | Hue &lt;dbl&gt; | Dilution &lt;dbl&gt; | Proline &lt;int&gt; |\n",
       "|---|---|---|---|---|---|---|---|---|---|---|---|---|---|---|\n",
       "| 173 | 3 | 14.16 | 2.51 | 2.48 | 20.0 |  91 | 1.68 | 0.70 | 0.44 | 1.24 |  9.7 | 0.62 | 1.71 | 660 |\n",
       "| 174 | 3 | 13.71 | 5.65 | 2.45 | 20.5 |  95 | 1.68 | 0.61 | 0.52 | 1.06 |  7.7 | 0.64 | 1.74 | 740 |\n",
       "| 175 | 3 | 13.40 | 3.91 | 2.48 | 23.0 | 102 | 1.80 | 0.75 | 0.43 | 1.41 |  7.3 | 0.70 | 1.56 | 750 |\n",
       "| 176 | 3 | 13.27 | 4.28 | 2.26 | 20.0 | 120 | 1.59 | 0.69 | 0.43 | 1.35 | 10.2 | 0.59 | 1.56 | 835 |\n",
       "| 177 | 3 | 13.17 | 2.59 | 2.37 | 20.0 | 120 | 1.65 | 0.68 | 0.53 | 1.46 |  9.3 | 0.60 | 1.62 | 840 |\n",
       "| 178 | 3 | 14.13 | 4.10 | 2.74 | 24.5 |  96 | 2.05 | 0.76 | 0.56 | 1.35 |  9.2 | 0.61 | 1.60 | 560 |\n",
       "\n"
      ],
      "text/plain": [
       "    Type Alcohol Malic Ash  Alcalinity Magnesium Phenols Flavanoids\n",
       "173 3    14.16   2.51  2.48 20.0        91       1.68    0.70      \n",
       "174 3    13.71   5.65  2.45 20.5        95       1.68    0.61      \n",
       "175 3    13.40   3.91  2.48 23.0       102       1.80    0.75      \n",
       "176 3    13.27   4.28  2.26 20.0       120       1.59    0.69      \n",
       "177 3    13.17   2.59  2.37 20.0       120       1.65    0.68      \n",
       "178 3    14.13   4.10  2.74 24.5        96       2.05    0.76      \n",
       "    Nonflavanoids Proanthocyanins Color Hue  Dilution Proline\n",
       "173 0.44          1.24             9.7  0.62 1.71     660    \n",
       "174 0.52          1.06             7.7  0.64 1.74     740    \n",
       "175 0.43          1.41             7.3  0.70 1.56     750    \n",
       "176 0.43          1.35            10.2  0.59 1.56     835    \n",
       "177 0.53          1.46             9.3  0.60 1.62     840    \n",
       "178 0.56          1.35             9.2  0.61 1.60     560    "
      ]
     },
     "metadata": {},
     "output_type": "display_data"
    }
   ],
   "source": [
    "tail(wine)\n"
   ]
  },
  {
   "cell_type": "code",
   "execution_count": 4,
   "metadata": {},
   "outputs": [
    {
     "data": {
      "text/html": [
       "<style>\n",
       ".list-inline {list-style: none; margin:0; padding: 0}\n",
       ".list-inline>li {display: inline-block}\n",
       ".list-inline>li:not(:last-child)::after {content: \"\\00b7\"; padding: 0 .5ex}\n",
       "</style>\n",
       "<ol class=list-inline><li>'113'</li><li>'159'</li><li>'21'</li><li>'131'</li><li>'137'</li><li>'133'</li></ol>\n"
      ],
      "text/latex": [
       "\\begin{enumerate*}\n",
       "\\item '113'\n",
       "\\item '159'\n",
       "\\item '21'\n",
       "\\item '131'\n",
       "\\item '137'\n",
       "\\item '133'\n",
       "\\end{enumerate*}\n"
      ],
      "text/markdown": [
       "1. '113'\n",
       "2. '159'\n",
       "3. '21'\n",
       "4. '131'\n",
       "5. '137'\n",
       "6. '133'\n",
       "\n",
       "\n"
      ],
      "text/plain": [
       "[1] \"113\" \"159\" \"21\"  \"131\" \"137\" \"133\""
      ]
     },
     "metadata": {},
     "output_type": "display_data"
    },
    {
     "data": {
      "text/html": [
       "<style>\n",
       ".list-inline {list-style: none; margin:0; padding: 0}\n",
       ".list-inline>li {display: inline-block}\n",
       ".list-inline>li:not(:last-child)::after {content: \"\\00b7\"; padding: 0 .5ex}\n",
       "</style>\n",
       "<ol class=list-inline><li>'104'</li><li>'144'</li><li>'32'</li><li>'140'</li><li>'28'</li><li>'168'</li></ol>\n"
      ],
      "text/latex": [
       "\\begin{enumerate*}\n",
       "\\item '104'\n",
       "\\item '144'\n",
       "\\item '32'\n",
       "\\item '140'\n",
       "\\item '28'\n",
       "\\item '168'\n",
       "\\end{enumerate*}\n"
      ],
      "text/markdown": [
       "1. '104'\n",
       "2. '144'\n",
       "3. '32'\n",
       "4. '140'\n",
       "5. '28'\n",
       "6. '168'\n",
       "\n",
       "\n"
      ],
      "text/plain": [
       "[1] \"104\" \"144\" \"32\"  \"140\" \"28\"  \"168\""
      ]
     },
     "metadata": {},
     "output_type": "display_data"
    }
   ],
   "source": [
    "# Shuffle the data.\n",
    "\n",
    "set.seed(1234)\n",
    "smp <- sample(rownames(wine), nrow(wine), replace=FALSE)\n",
    "wine <- wine[smp,]\n",
    "smp02 <- sample(rownames(wine), nrow(wine), replace=FALSE)\n",
    "wine <- wine[smp02,]\n",
    "head(rownames(wine))\n",
    "tail(rownames(wine))\n"
   ]
  },
  {
   "cell_type": "code",
   "execution_count": 5,
   "metadata": {},
   "outputs": [],
   "source": [
    "train <- wine\n"
   ]
  },
  {
   "cell_type": "code",
   "execution_count": 6,
   "metadata": {},
   "outputs": [
    {
     "data": {
      "text/plain": [
       "\n",
       " 1  2  3 \n",
       "59 71 48 "
      ]
     },
     "metadata": {},
     "output_type": "display_data"
    }
   ],
   "source": [
    "# The wine samples are from 3 grape varietals.\n",
    "\n",
    "table(wine$Type)\n"
   ]
  },
  {
   "cell_type": "markdown",
   "metadata": {},
   "source": [
    "## Basic functions"
   ]
  },
  {
   "cell_type": "code",
   "execution_count": 6,
   "metadata": {},
   "outputs": [],
   "source": [
    "# Function to output a confusion matrix and the \n",
    "# accuracy score.\n",
    "\n",
    "get_confusion <- function(preds, df_actual) {\n",
    "    \n",
    "    # df_actual is a one-column dataframe;\n",
    "    # preds is a named vector of predictions;\n",
    "    # preds is of type factor; it is assumed there are\n",
    "    # at least 2 factor levels\n",
    "    \n",
    "    levs <- levels(preds)\n",
    "    n_levs <- length(levs)\n",
    "    if(n_levs== 1) { levs <- c('0', '1') }\n",
    "    n_levs <- max(n_levs, 2)\n",
    "    actual <- as.vector(df_actual[, 1])\n",
    "    names(actual) <- rownames(df_actual)\n",
    "    \n",
    "    datout <- rep(0, n_levs * (n_levs + 1))\n",
    "    dim(datout) <- c(n_levs, n_levs + 1)\n",
    "    datout <- as.data.frame(datout)\n",
    "    colnames(datout) <- c(levs, \"class.error\")\n",
    "    rownames(datout) <- levs\n",
    "    \n",
    "    result <- vector(\"list\", length= 2)\n",
    "    names(result) <- c(\"matrix\",\"acc\")\n",
    "    \n",
    "    # for each factor level, identify the rcd names\n",
    "    # which should be classed as such\n",
    "    for(rowlev in levs) {\n",
    "        actlev_names <- names(actual[actual == rowlev])\n",
    "        # columns are for the predicted values:\n",
    "        for(collev in levs) {\n",
    "            predlev_names <- names(preds[preds == collev])\n",
    "            if(length(predlev_names > 0)) {\n",
    "                datout[rowlev, collev] <- sum(predlev_names %in% actlev_names)\n",
    "            }\n",
    "        }\n",
    "        nonrow_cols <- levs[!(levs %in% rowlev)]\n",
    "        datout[rowlev, \"class.error\"] <- round(sum(as.vector(datout[rowlev, nonrow_cols]))/\n",
    "                                               sum(as.vector(datout[rowlev, levs])), 4)\n",
    "    }\n",
    "    \n",
    "    result$matrix <- datout\n",
    "    mat <- as.matrix(datout[, 1:nrow(datout)])\n",
    "    result[[2]] <- round(sum(diag(mat))/floor(sum(mat)), 4)\n",
    "    \n",
    "    return(result)\n",
    "}\n"
   ]
  },
  {
   "cell_type": "code",
   "execution_count": 7,
   "metadata": {},
   "outputs": [],
   "source": [
    "# The following function is from Robert Kabacoff's \"R in Action\", pp.379-380.\n",
    "\n",
    "wssplot <- function(data, title=\"wss plot\", nc=15, seed=1233) {\n",
    "    \n",
    "    # wss[1] is the total sum of squares when there is only\n",
    "    # one cluster.  In R's kmeans help this is called 'totss'.\n",
    "    # Here is another way to compute totss: \n",
    "    # ss <- function(x) sum(scale(x, scale = FALSE)^2)\n",
    "    wss <- (nrow(data) - 1)*sum(apply(data, 2, var))\n",
    "    for(i in 2:nc) {\n",
    "        set.seed(seed)\n",
    "        km_model <- suppressWarnings(kmeans(data, centers=i, iter.max=50,\n",
    "                                            nstart=15))\n",
    "        wss[i] <- sum(km_model$withinss)\n",
    "    }\n",
    "    plot(1:nc, wss, type='b', xlab=\"Number of clusters\",\n",
    "        ylab=\"Within groups sums of squares\",\n",
    "        main= title)\n",
    "}\n"
   ]
  },
  {
   "cell_type": "code",
   "execution_count": 8,
   "metadata": {},
   "outputs": [],
   "source": [
    "# Function for identifying which cluster each record\n",
    "# belongs to.  \n",
    "\n",
    "getCluster <- function(x, centers) {\n",
    "    \n",
    "    # x is a row of a dataframe; its columns need\n",
    "    # to be in the same order as centers (a matrix'\n",
    "    # constructed from kmeans)\n",
    "    \n",
    "    cl_dist <- apply(centers, 1, function(y) sqrt(sum((x-y)^2)))\n",
    "    return(which.min(cl_dist)[1])\n",
    "}\n"
   ]
  },
  {
   "cell_type": "code",
   "execution_count": 9,
   "metadata": {},
   "outputs": [],
   "source": [
    "# Function to constrain range of data between 0 and 1.\n",
    "\n",
    "range01 <- function(x) {(x - min(x))/(max(x) - min(x))}\n"
   ]
  },
  {
   "cell_type": "code",
   "execution_count": 10,
   "metadata": {},
   "outputs": [],
   "source": [
    "# Function to constrain range of data between min_x and max_x.\n",
    "# This function is used to transform validation data.\n",
    "\n",
    "range02 <- function(x, min_x, max_x) {(x - min_x)/(max_x - min_x)}\n"
   ]
  },
  {
   "cell_type": "code",
   "execution_count": 11,
   "metadata": {},
   "outputs": [],
   "source": [
    "# Function to generate combination of parameters for gridSearch;\n",
    "# each combination must add to a number ~1.  Returns a dataframe, \n",
    "# each row of which is a valid combination.\n",
    "\n",
    "# I re-factored this ftn using R's expand.grid ftn.  expand.grid\n",
    "# actually takes more time to run.  This is probably due to  \n",
    "# type-checking.  It appears that we also run out of memory more\n",
    "# quickly when using expand.grid.  So at the moment I am \n",
    "# reverting to the deprecated section.\n",
    "\n",
    "generate_combs <- function(arglist, tol=0.0001) {\n",
    "    # arglist is a named list; each name is a column\n",
    "    # name of the dataframe which goes to k-means\n",
    "    \n",
    "    #################################################\n",
    "    # this next section is an alternative to expand.grid\n",
    "    #################################################\n",
    "    # if(FALSE) {\n",
    "    n_args <- length(arglist)\n",
    "  \n",
    "    param_vlens <- rep(NA, n_args)\n",
    "    for(i in 1:n_args) {\n",
    "        param_vlens[i] <- length(arglist[[i]])\n",
    "    }\n",
    "    n_rows <- prod(param_vlens)\n",
    "  \n",
    "    datout <- rep(NA, n_args*n_rows)\n",
    "    dim(datout) <- c(n_rows, n_args)\n",
    "    datout <- as.data.frame(datout)\n",
    "    colnames(datout) <- names(arglist)\n",
    "  \n",
    "    cprod <- 1\n",
    "    for(j in 1:n_args) {\n",
    "        vect <- arglist[[j]]\n",
    "        val <- rep(vect, rep(cprod, length(vect)))\n",
    "        datout[, j] <- rep(val, n_rows/length(val))\n",
    "        cprod <- cprod*length(vect)\n",
    "    }  \n",
    "    # } ## end of 'if(FALSE)'\n",
    "    #################################################\n",
    "    \n",
    "    # datout <- expand.grid(arglist, KEEP.OUT.ATTRS= FALSE)\n",
    "    # colnames(datout) <- names(arglist)\n",
    "    \n",
    "    row_sums <- round(rowSums(datout), 4)\n",
    "    names(row_sums) <- rownames(datout)\n",
    "    tol <- tol\n",
    "    row_sums <- row_sums[which((as.numeric(row_sums) <= (1 + tol)) & (as.numeric(row_sums) >= (1 - tol)))]\n",
    "    datout <- datout[names(row_sums),]\n",
    "    return(datout)\n",
    "}\n"
   ]
  },
  {
   "cell_type": "code",
   "execution_count": null,
   "metadata": {},
   "outputs": [],
   "source": []
  },
  {
   "cell_type": "markdown",
   "metadata": {},
   "source": [
    "# Section 1: Get best models for train data"
   ]
  },
  {
   "cell_type": "code",
   "execution_count": 133,
   "metadata": {},
   "outputs": [
    {
     "data": {
      "image/png": "[encoded data removed]",
      "text/plain": [
       "Plot with title “wss plot of wine data”"
      ]
     },
     "metadata": {
      "image/png": {
       "height": 360,
       "width": 480
      }
     },
     "output_type": "display_data"
    }
   ],
   "source": [
    "# Inspect the wss plot for our data.\n",
    "\n",
    "options(repr.plot.width= 8, repr.plot.height= 6)\n",
    "\n",
    "wssplot(train[, -1], title=\"wss plot of wine data\")\n"
   ]
  },
  {
   "cell_type": "code",
   "execution_count": 134,
   "metadata": {},
   "outputs": [
    {
     "data": {
      "image/png": "[encoded data removed]",
      "text/plain": [
       "Plot with title “wss plot of wine data, scaled”"
      ]
     },
     "metadata": {
      "image/png": {
       "height": 360,
       "width": 480
      }
     },
     "output_type": "display_data"
    }
   ],
   "source": [
    "# Scale the data; then plot.\n",
    "\n",
    "train_scaled <- scale(train[, -1], center=TRUE, scale=TRUE)\n",
    "train_scaled <- range01(train_scaled)\n",
    "\n",
    "options(repr.plot.width= 8, repr.plot.height= 6)\n",
    "\n",
    "wssplot(train_scaled, title=\"wss plot of wine data, scaled\")\n"
   ]
  },
  {
   "cell_type": "code",
   "execution_count": null,
   "metadata": {},
   "outputs": [],
   "source": [
    "### COMMENT:\n",
    "\n",
    "# We see that after scaling the data, it is easier to \n",
    "# \"identify\" 3 clusters.  Without the scaling, the wss\n",
    "# plot makes it appear that the data is best partitioned\n",
    "# into 2 classes rather than 3.\n"
   ]
  },
  {
   "cell_type": "markdown",
   "metadata": {},
   "source": [
    "## Find best random forest model"
   ]
  },
  {
   "cell_type": "code",
   "execution_count": 56,
   "metadata": {},
   "outputs": [
    {
     "name": "stdout",
     "output_type": "stream",
     "text": [
      "\n",
      "Call:\n",
      " randomForest(formula = Type ~ ., data = train, ntree = 100, mtry = 3,      nodesize = 1, importance = TRUE) \n",
      "               Type of random forest: classification\n",
      "                     Number of trees: 100\n",
      "No. of variables tried at each split: 3\n",
      "\n",
      "        OOB estimate of  error rate: 1.69%\n",
      "Confusion matrix:\n",
      "   1  2  3 class.error\n",
      "1 59  0  0    0.000000\n",
      "2  1 68  2    0.042254\n",
      "3  0  0 48    0.000000\n"
     ]
    }
   ],
   "source": [
    "# Initial model.\n",
    "\n",
    "set.seed(123)\n",
    "rfclf <- randomForest(Type ~ ., data= train,\n",
    "                      ntree= 100, mtry= 3, nodesize= 1, \n",
    "                      importance=TRUE)\n",
    "print(rfclf)\n"
   ]
  },
  {
   "cell_type": "code",
   "execution_count": 57,
   "metadata": {},
   "outputs": [
    {
     "name": "stdout",
     "output_type": "stream",
     "text": [
      "                    1      2     3 MeanDecreaseAccuracy MeanDecreaseGini\n",
      "Alcohol         0.172  0.074 0.008                0.087           16.068\n",
      "Malic           0.013  0.008 0.016                0.012            2.767\n",
      "Ash             0.003  0.003 0.014                0.006            1.803\n",
      "Alcalinity      0.012  0.003 0.030                0.012            2.804\n",
      "Magnesium       0.063  0.011 0.002                0.025            3.517\n",
      "Phenols         0.093  0.000 0.049                0.044            7.943\n",
      "Flavanoids      0.128  0.027 0.238                0.114           17.190\n",
      "Nonflavanoids   0.012 -0.002 0.004                0.005            1.364\n",
      "Proanthocyanins 0.012  0.001 0.014                0.008            1.770\n",
      "Color           0.107  0.091 0.135                0.109           17.491\n",
      "Hue             0.052  0.015 0.130                0.057            9.597\n",
      "Dilution        0.114  0.015 0.214                0.100           16.171\n",
      "Proline         0.263  0.055 0.027                0.115           18.078\n"
     ]
    }
   ],
   "source": [
    "print(round(rfclf$importance, 3))\n"
   ]
  },
  {
   "cell_type": "code",
   "execution_count": null,
   "metadata": {},
   "outputs": [],
   "source": [
    "### COMMENTS:\n",
    "\n",
    "# If the models that we want to boost using k-means are too \n",
    "# powerful, the k-means algorithm will probably have nothing\n",
    "# to add.  So we need to reduce the number of predictors.  \n",
    "# In a previous notebook I had selected only Magnesium, Phenols,\n",
    "# and Flavanoids.  Using only these 3 predictors, the typical\n",
    "# cross-val accuracy score was around 87%.  The k-means \n",
    "# algorithm was still not able to improve upon the best of\n",
    "# the models (an xgboost model) using only these 3 predictors.\n",
    "# In the xgboost model, Phenols was insignificant relative\n",
    "# to the other predictors, with a gain under 3%.  For Magnesium \n",
    "# the gain was just under 20%.  For Flavanoids, the gain was \n",
    "# almost 78%.  It may be that in order for k-means to boost\n",
    "# a model's performance, we also need more balance in the \n",
    "# importance of the predictors.  We saw greater balance between \n",
    "# the 3 predictors I used in Parts 1 and 2 for the cow data.\n",
    "\n",
    "# It is worth trying Hue, Phenols, and Alcalinity.  (See\n",
    "# the above importance output.)  This choice should give us\n",
    "# more balance and lower the predictive power of the models\n",
    "# to a point where the k-means algorithm can have something\n",
    "# to contribute.\n"
   ]
  },
  {
   "cell_type": "code",
   "execution_count": null,
   "metadata": {},
   "outputs": [],
   "source": [
    "#&* Bookmark"
   ]
  },
  {
   "cell_type": "code",
   "execution_count": 12,
   "metadata": {},
   "outputs": [],
   "source": [
    "train <- wine[, c(\"Type\",\"Hue\",\"Phenols\",\"Alcalinity\")]\n"
   ]
  },
  {
   "cell_type": "code",
   "execution_count": 13,
   "metadata": {},
   "outputs": [
    {
     "name": "stdout",
     "output_type": "stream",
     "text": [
      "\n",
      "Call:\n",
      " randomForest(formula = Type ~ ., data = train, ntree = 100, mtry = 3,      nodesize = 1, importance = TRUE) \n",
      "               Type of random forest: classification\n",
      "                     Number of trees: 100\n",
      "No. of variables tried at each split: 3\n",
      "\n",
      "        OOB estimate of  error rate: 20.22%\n",
      "Confusion matrix:\n",
      "   1  2  3 class.error\n",
      "1 51  8  0     0.13559\n",
      "2 11 52  8     0.26761\n",
      "3  0  9 39     0.18750\n"
     ]
    }
   ],
   "source": [
    "set.seed(123)\n",
    "rfclf <- randomForest(Type ~ ., data= train,\n",
    "                      ntree= 100, mtry= 3, nodesize= 1, \n",
    "                      importance=TRUE)\n",
    "print(rfclf)\n"
   ]
  },
  {
   "cell_type": "code",
   "execution_count": 14,
   "metadata": {},
   "outputs": [
    {
     "name": "stdout",
     "output_type": "stream",
     "text": [
      "               1     2     3 MeanDecreaseAccuracy MeanDecreaseGini\n",
      "Hue        0.188 0.104 0.496                0.235           50.687\n",
      "Phenols    0.342 0.041 0.229                0.192           43.940\n",
      "Alcalinity 0.148 0.021 0.105                0.087           21.824\n"
     ]
    }
   ],
   "source": [
    "print(round(rfclf$importance, 3))\n"
   ]
  },
  {
   "cell_type": "markdown",
   "metadata": {},
   "source": [
    "### Tune the random forest model"
   ]
  },
  {
   "cell_type": "code",
   "execution_count": 15,
   "metadata": {},
   "outputs": [],
   "source": [
    "# This function is called from get_cvScore_rf.\n",
    "\n",
    "get_Acc_rf <- function(traindat, valdat, ntrees, mtry, nodesize) {\n",
    "        \n",
    "    rfmod <- randomForest(Type ~ ., data= traindat, ntree= ntrees,\n",
    "                          mtry= mtry, nodesize= nodesize)\n",
    "        \n",
    "    preds <- predict(rfmod, newdata= valdat, type=\"response\")\n",
    "    ans <- get_confusion(preds, valdat[, \"Type\", drop=FALSE])\n",
    "\n",
    "    return(as.numeric(ans[[2]]))\n",
    "}\n"
   ]
  },
  {
   "cell_type": "code",
   "execution_count": 16,
   "metadata": {},
   "outputs": [],
   "source": [
    "# Function to obtain a cross-validation score, averaging the\n",
    "# accuracy scores of the folds.  This function is called from\n",
    "# avg_seedScores_rf.\n",
    "\n",
    "get_cvScore_rf <- function(seed, dat, ntrees, mtry,\n",
    "                           nodesize, folds= 5) {\n",
    "    \n",
    "    # divide dat by the number of folds \n",
    "    segment_size <- round(nrow(dat)/folds)\n",
    "    diff <- nrow(dat) - folds * segment_size\n",
    "    last_seg_size <- segment_size + diff\n",
    "    segmentsv <- c(rep(segment_size, (folds - 1)), last_seg_size)\n",
    "    stopifnot(sum(segmentsv) == nrow(dat))\n",
    "    \n",
    "    # shuffle dat\n",
    "    set.seed(seed)\n",
    "    smp <- sample(rownames(dat), nrow(dat), replace= FALSE)\n",
    "    dat <- dat[smp,]\n",
    "    \n",
    "    # split the data into the folds\n",
    "    row_list <- vector(\"list\", length= folds)\n",
    "    names(row_list) <- as.character(1:folds)\n",
    "    startpt <- 1\n",
    "    for(i in 1:folds) {\n",
    "        endpt <- startpt + segmentsv[i] - 1\n",
    "        stopifnot(endpt <= dim(dat)[1])\n",
    "        row_list[[i]] <- rownames(dat)[startpt:endpt]\n",
    "        startpt <- endpt + 1\n",
    "    }\n",
    "    \n",
    "    train_list <- test_list <- vector(\"list\", length= folds)\n",
    "    for(j in 1:folds) {\n",
    "        testdat <- dat[row_list[[j]],]\n",
    "        traindat <- dat[which(!(rownames(dat) %in% rownames(testdat))),]\n",
    "        stopifnot((length(rownames(traindat)) + length(rownames(testdat))) == dim(dat)[1])\n",
    "        test_list[[j]] <- testdat\n",
    "        train_list[[j]] <- traindat\n",
    "    }\n",
    "\n",
    "    scores <- mcmapply(get_Acc_rf, train_list, test_list,\n",
    "                       MoreArgs= list(ntrees= ntrees, mtry=mtry,\n",
    "                                      nodesize=nodesize),\n",
    "                       SIMPLIFY= TRUE, mc.cores=5)\n",
    "    \n",
    "    return(round(mean(scores), 5))\n",
    "}\n"
   ]
  },
  {
   "cell_type": "code",
   "execution_count": 17,
   "metadata": {},
   "outputs": [],
   "source": [
    "# Since the seed value can have a big effect on the results,\n",
    "# I take the average over a number of seeds.  This ftn is\n",
    "# called from gridSearch02.\n",
    "\n",
    "avg_seedScores_rf <- function(seed_vector, traindat, n_trees,  \n",
    "                              mtry, nodesize, folds= 5) {\n",
    "    \n",
    "    seed_len <- length(seed_vector)\n",
    "    outv <- rep(NA, seed_len)\n",
    "    for(i in 1:seed_len) {\n",
    "        seed <- seed_vector[i]\n",
    "        outv[i] <- get_cvScore_rf(seed, traindat, n_trees,\n",
    "                                  mtry, nodesize, folds=folds)\n",
    "    }\n",
    "    return(round(mean(outv), 5))\n",
    "}\n"
   ]
  },
  {
   "cell_type": "code",
   "execution_count": 18,
   "metadata": {},
   "outputs": [],
   "source": [
    "# This grid search is specific to finding the best random forest\n",
    "# classifier for train.\n",
    "\n",
    "gridSearch02 <- function(seed_vector, traindat, ntree_vector, \n",
    "                         mtry_vector, nodesizes, folds=5) {\n",
    "    \n",
    "    tree_len <- length(ntree_vector)\n",
    "    mtry_len <- length(mtry_vector)\n",
    "    node_len <- length(nodesizes)\n",
    "    # We need to capture the gridSearch parameters as well as \n",
    "    # the cross-val  scores.\n",
    "    datout <- rep(NA, 2 * tree_len * mtry_len * node_len)\n",
    "    dim(datout) <- c((tree_len * mtry_len * node_len), 2)\n",
    "    datout <- as.data.frame(datout)\n",
    "    colnames(datout) <- c(\"params\", \"acc\")\n",
    "    datout$params <- \"\"\n",
    "    \n",
    "    index <- 0\n",
    "    for(i in 1:tree_len) {\n",
    "        n_trees <- ntree_vector[i]\n",
    "        for(j in 1:mtry_len) {\n",
    "            mtry <- mtry_vector[j]\n",
    "            for(k in 1:node_len) {\n",
    "                index <- index + 1\n",
    "                nodesize <- nodesizes[k]\n",
    "                param_string <- paste(as.character(n_trees), \n",
    "                                      as.character(mtry),\n",
    "                                      as.character(nodesize), sep= \"--\")\n",
    "                datout$params[index] <- param_string\n",
    "                datout$acc[index] <- avg_seedScores_rf(seed_vector, traindat, n_trees, \n",
    "                                                         folds=folds, mtry=mtry,\n",
    "                                                         nodesize=nodesize)\n",
    "            }\n",
    "        }\n",
    "    }\n",
    "    return(datout)\n",
    "}\n"
   ]
  },
  {
   "cell_type": "code",
   "execution_count": 19,
   "metadata": {},
   "outputs": [
    {
     "data": {
      "text/html": [
       "'Start time: 2021-05-30 06:56:33'"
      ],
      "text/latex": [
       "'Start time: 2021-05-30 06:56:33'"
      ],
      "text/markdown": [
       "'Start time: 2021-05-30 06:56:33'"
      ],
      "text/plain": [
       "[1] \"Start time: 2021-05-30 06:56:33\""
      ]
     },
     "metadata": {},
     "output_type": "display_data"
    },
    {
     "data": {
      "text/plain": [
       "Time difference of 2.21 mins"
      ]
     },
     "metadata": {},
     "output_type": "display_data"
    },
    {
     "data": {
      "text/html": [
       "'150--1--2'"
      ],
      "text/latex": [
       "'150--1--2'"
      ],
      "text/markdown": [
       "'150--1--2'"
      ],
      "text/plain": [
       "[1] \"150--1--2\""
      ]
     },
     "metadata": {},
     "output_type": "display_data"
    },
    {
     "data": {
      "text/html": [
       "0.80765"
      ],
      "text/latex": [
       "0.80765"
      ],
      "text/markdown": [
       "0.80765"
      ],
      "text/plain": [
       "[1] 0.80765"
      ]
     },
     "metadata": {},
     "output_type": "display_data"
    }
   ],
   "source": [
    "# Run grid search to get better parameters for the \n",
    "# random forest model.  Test with 200 seeds.  For each\n",
    "# seed, an average is taken over 5 folds.\n",
    "\n",
    "set.seed(7541)\n",
    "seed_smp <- sample(1:9999, 200, replace=FALSE)\n",
    "tree_vector <- c(60, 80, 100, 120, 150)\n",
    "mtry_vector <- c(1, 2)\n",
    "node_vector <- c(1, 2)\n",
    "\n",
    "start <- Sys.time()\n",
    "paste(\"Start time: \", start, sep=\"\")\n",
    "ans <- gridSearch02(seed_smp, train, tree_vector, mtry_vector, node_vector)\n",
    "stop <- Sys.time()\n",
    "round(stop - start, 2)\n",
    "# Time difference of 2.21 mins\n",
    "\n",
    "(best_params <- ans[which(ans$acc == max(ans$acc)),]$params)\n",
    "#  '150--1--2'\n",
    "\n",
    "(best_rf_acc <- ans[which(ans$acc == max(ans$acc)),]$acc)\n",
    "#  0.80765\n"
   ]
  },
  {
   "cell_type": "code",
   "execution_count": 20,
   "metadata": {},
   "outputs": [
    {
     "data": {
      "text/html": [
       "'Start time: 2021-05-30 07:00:40'"
      ],
      "text/latex": [
       "'Start time: 2021-05-30 07:00:40'"
      ],
      "text/markdown": [
       "'Start time: 2021-05-30 07:00:40'"
      ],
      "text/plain": [
       "[1] \"Start time: 2021-05-30 07:00:40\""
      ]
     },
     "metadata": {},
     "output_type": "display_data"
    },
    {
     "data": {
      "text/plain": [
       "Time difference of 30.33 secs"
      ]
     },
     "metadata": {},
     "output_type": "display_data"
    },
    {
     "data": {
      "text/html": [
       "'150--1--2'"
      ],
      "text/latex": [
       "'150--1--2'"
      ],
      "text/markdown": [
       "'150--1--2'"
      ],
      "text/plain": [
       "[1] \"150--1--2\""
      ]
     },
     "metadata": {},
     "output_type": "display_data"
    },
    {
     "data": {
      "text/html": [
       "0.80868"
      ],
      "text/latex": [
       "0.80868"
      ],
      "text/markdown": [
       "0.80868"
      ],
      "text/plain": [
       "[1] 0.80868"
      ]
     },
     "metadata": {},
     "output_type": "display_data"
    }
   ],
   "source": [
    "# Refine the search.\n",
    "\n",
    "set.seed(7543)\n",
    "seed_smp <- sample(1:9999, 200, replace=FALSE)\n",
    "tree_vector <- c(150, 180)\n",
    "mtry_vector <- c(1)\n",
    "node_vector <- c(1, 2)\n",
    "\n",
    "start <- Sys.time()\n",
    "paste(\"Start time: \", start, sep=\"\")\n",
    "ans <- gridSearch02(seed_smp, train, tree_vector, mtry_vector, node_vector)\n",
    "stop <- Sys.time()\n",
    "round(stop - start, 2)\n",
    "# Time difference of 30.33 secs\n",
    "\n",
    "(best_params <- ans[which(ans$acc == max(ans$acc)),]$params)\n",
    "#  '150--1--2'\n",
    "\n",
    "(best_rf_acc <- ans[which(ans$acc == max(ans$acc)),]$acc)\n",
    "#  0.8087\n"
   ]
  },
  {
   "cell_type": "markdown",
   "metadata": {},
   "source": [
    "### Get an average accuracy score for rfclf_best on training set data"
   ]
  },
  {
   "cell_type": "code",
   "execution_count": 21,
   "metadata": {},
   "outputs": [
    {
     "data": {
      "text/plain": [
       "Time difference of 21.38 secs"
      ]
     },
     "metadata": {},
     "output_type": "display_data"
    }
   ],
   "source": [
    "# Get stable scores for the best random forest model.  I will\n",
    "# refer to this model as rfclf_best.  Note that 2000 seeds\n",
    "# are being used. \n",
    "\n",
    "set.seed(1433)\n",
    "seed_smp <- sample(1:9999, 2000, replace=FALSE)\n",
    "\n",
    "datout <- rep(NA, 2 * length(seed_smp))\n",
    "dim(datout) <- c(length(seed_smp), 2)\n",
    "datout <- as.data.frame(datout)\n",
    "colnames(datout) <- c(\"seed\",\"Acc\")\n",
    "datout$seed <- seed_smp\n",
    "\n",
    "start <- Sys.time()\n",
    "for(i in 1:length(seed_smp)) {\n",
    "    \n",
    "    set.seed(seed_smp[i])\n",
    "    rfmod <- randomForest(Type ~ ., data= train, ntree=150,\n",
    "                              mtry= 1, nodesize= 2)\n",
    "        \n",
    "    # preds <- predict(rfmod, newdata= dat, type=\"response\")\n",
    "    # ans <- get_confusion(preds, dat[, \"Type\", drop=FALSE])\n",
    "    # mat <- as.matrix(ans[[1]])\n",
    "    mat <- rfmod$confusion\n",
    "    # percent_correct <- sum(diag(mat))/floor(sum(mat))\n",
    "    # datout[i, c(\"Acc\")] <- round(percent_correct, 4)\n",
    "    datout[i, c(\"Acc\")] <- round(1-median(rfmod$err.rate[,1]), 4)\n",
    "}\n",
    "stop <- Sys.time()\n",
    "round(stop - start, 2)\n",
    "# Time difference of 21.38 secs\n"
   ]
  },
  {
   "cell_type": "code",
   "execution_count": 22,
   "metadata": {},
   "outputs": [
    {
     "data": {
      "image/png": "[encoded data removed]",
      "text/plain": [
       "Plot with title “Distribution of accuracy scores for rfclf_best on train data”"
      ]
     },
     "metadata": {
      "image/png": {
       "height": 360,
       "width": 600
      }
     },
     "output_type": "display_data"
    }
   ],
   "source": [
    "options(repr.plot.width= 10, repr.plot.height= 6)\n",
    "hist(datout$Acc, breaks=16, xlab=\"accuracy\",\n",
    "     main=\"Distribution of accuracy scores for rfclf_best on train data\")\n"
   ]
  },
  {
   "cell_type": "code",
   "execution_count": 23,
   "metadata": {},
   "outputs": [
    {
     "data": {
      "text/html": [
       "0.804"
      ],
      "text/latex": [
       "0.804"
      ],
      "text/markdown": [
       "0.804"
      ],
      "text/plain": [
       "[1] 0.804"
      ]
     },
     "metadata": {},
     "output_type": "display_data"
    }
   ],
   "source": [
    "# rfclf_best's average accuracy score on the trainset data.\n",
    "\n",
    "round(mean(datout$Acc), 4)\n",
    "# 0.8040\n"
   ]
  },
  {
   "cell_type": "code",
   "execution_count": 36,
   "metadata": {},
   "outputs": [
    {
     "data": {
      "text/html": [
       "394"
      ],
      "text/latex": [
       "394"
      ],
      "text/markdown": [
       "394"
      ],
      "text/plain": [
       "[1] 394"
      ]
     },
     "metadata": {},
     "output_type": "display_data"
    },
    {
     "data": {
      "text/html": [
       "<style>\n",
       ".list-inline {list-style: none; margin:0; padding: 0}\n",
       ".list-inline>li {display: inline-block}\n",
       ".list-inline>li:not(:last-child)::after {content: \"\\00b7\"; padding: 0 .5ex}\n",
       "</style>\n",
       "<ol class=list-inline><li>5605</li><li>8920</li><li>8072</li><li>2781</li><li>644</li><li>7123</li></ol>\n"
      ],
      "text/latex": [
       "\\begin{enumerate*}\n",
       "\\item 5605\n",
       "\\item 8920\n",
       "\\item 8072\n",
       "\\item 2781\n",
       "\\item 644\n",
       "\\item 7123\n",
       "\\end{enumerate*}\n"
      ],
      "text/markdown": [
       "1. 5605\n",
       "2. 8920\n",
       "3. 8072\n",
       "4. 2781\n",
       "5. 644\n",
       "6. 7123\n",
       "\n",
       "\n"
      ],
      "text/plain": [
       "[1] 5605 8920 8072 2781  644 7123"
      ]
     },
     "metadata": {},
     "output_type": "display_data"
    }
   ],
   "source": [
    "# Identify seeds with an accuracy score between 0.8039 \n",
    "# and 0.8041.  When constructing rfclf_best, I want to\n",
    "# use a seed which has an accuracy in the center of the\n",
    "# above distribution of accuracy scores.\n",
    "\n",
    "rf_candidate_seeds <- datout[which((datout$Acc > 0.8033) & (datout$Acc < 0.8046)),]$seed\n",
    "length(rf_candidate_seeds)\n",
    "#  394\n",
    "head(rf_candidate_seeds)\n",
    "#  2781\n"
   ]
  },
  {
   "cell_type": "code",
   "execution_count": 37,
   "metadata": {},
   "outputs": [
    {
     "name": "stdout",
     "output_type": "stream",
     "text": [
      "\n",
      "Call:\n",
      " randomForest(formula = Type ~ ., data = train, ntree = 150, mtry = 1,      nodesize = 2) \n",
      "               Type of random forest: classification\n",
      "                     Number of trees: 150\n",
      "No. of variables tried at each split: 1\n",
      "\n",
      "        OOB estimate of  error rate: 17.98%\n",
      "Confusion matrix:\n",
      "   1  2  3 class.error\n",
      "1 48 11  0     0.18644\n",
      "2  8 58  5     0.18310\n",
      "3  0  8 40     0.16667\n"
     ]
    }
   ],
   "source": [
    "# Best random forest model, for the purposes of \n",
    "# showing average performance on the training set.\n",
    "\n",
    "set.seed(2781)\n",
    "rfclf_best <- randomForest(Type ~ ., data= train, ntree=150,\n",
    "                              mtry= 1, nodesize= 2)\n",
    "\n",
    "print(rfclf_best)\n",
    "# OOB estimate of  error rate: 17.98%; 32 records misclassified\n",
    "# Again, this is the AVERAGE PERFORMANCE of our best rf model.\n"
   ]
  },
  {
   "cell_type": "markdown",
   "metadata": {},
   "source": [
    "## Get comparative cross-val score for best random forest model"
   ]
  },
  {
   "cell_type": "markdown",
   "metadata": {},
   "source": [
    "For model performance comparisons, we want a cross-val score over many folds for our best random forest model."
   ]
  },
  {
   "cell_type": "code",
   "execution_count": 38,
   "metadata": {},
   "outputs": [],
   "source": [
    "# This function is called from get_cvScore_rfBest.  It\n",
    "# returns an accuracy score on the validation set.\n",
    "\n",
    "get_Acc_rfBest <- function(traindat, valdat) {\n",
    "\n",
    "    # This is our current best rf model.  The seed is\n",
    "    # part of the model.\n",
    "    set.seed(2781)\n",
    "    rfmod <- randomForest(Type ~ ., data= traindat, ntree=150,\n",
    "                              mtry= 1, nodesize=2)\n",
    "        \n",
    "    preds <- predict(rfmod, newdata= valdat, type=\"response\")\n",
    "    ans <- get_confusion(preds, valdat[, \"Type\", drop=FALSE])\n",
    "    return(ans[[2]])\n",
    "}\n"
   ]
  },
  {
   "cell_type": "code",
   "execution_count": 39,
   "metadata": {},
   "outputs": [],
   "source": [
    "# Function to obtain a cross-validation score, averaging the\n",
    "# accuracy scores of the folds.  This function is called from\n",
    "# compute_cvScore_rf.\n",
    "\n",
    "get_cvScore_rfBest <- function(seed, dat, folds= 5) {\n",
    "    \n",
    "    # divide dat by the number of folds \n",
    "    segment_size <- round(nrow(dat)/folds)\n",
    "    diff <- nrow(dat) - folds * segment_size\n",
    "    last_seg_size <- segment_size + diff\n",
    "    segmentsv <- c(rep(segment_size, (folds - 1)), last_seg_size)\n",
    "    stopifnot(sum(segmentsv) == nrow(dat))\n",
    "    \n",
    "    # shuffle dat\n",
    "    set.seed(seed)\n",
    "    smp <- sample(rownames(dat), nrow(dat), replace= FALSE)\n",
    "    dat <- dat[smp,]\n",
    "    \n",
    "    # split the data into the folds\n",
    "    row_list <- vector(\"list\", length= folds)\n",
    "    names(row_list) <- as.character(1:folds)\n",
    "    startpt <- 1\n",
    "    for(i in 1:folds) {\n",
    "        endpt <- startpt + segmentsv[i] - 1\n",
    "        stopifnot(endpt <= nrow(dat))\n",
    "        row_list[[i]] <- rownames(dat)[startpt:endpt]\n",
    "        startpt <- endpt + 1\n",
    "    }\n",
    "    \n",
    "    train_list <- test_list <- vector(\"list\", length= folds)\n",
    "    for(j in 1:folds) {\n",
    "        testdat <- dat[row_list[[j]],]\n",
    "        traindat <- dat[which(!(rownames(dat) %in% rownames(testdat))),]\n",
    "        stopifnot((length(rownames(traindat)) + length(rownames(testdat))) == dim(dat)[1])\n",
    "        test_list[[j]] <- testdat\n",
    "        train_list[[j]] <- traindat\n",
    "    }\n",
    "\n",
    "    scores <- mcmapply(get_Acc_rfBest, train_list, test_list,\n",
    "                       SIMPLIFY= TRUE, mc.cores=5)\n",
    "    \n",
    "    # The following mean is over 5 accuracy scores, one for each\n",
    "    # of the folds.\n",
    "    return(round(mean(scores), 5))\n",
    "}\n"
   ]
  },
  {
   "cell_type": "code",
   "execution_count": 40,
   "metadata": {},
   "outputs": [],
   "source": [
    "# Function to get a cross-val accuracy score over many \n",
    "# folds for the best random forest model.\n",
    "\n",
    "compute_cvScore_rf <- function(seedv, dat) {\n",
    "    \n",
    "    seedv_len <- length(seedv)\n",
    "    result <- rep(NA, length=seedv_len)\n",
    "    names(result) <- as.character(seedv)\n",
    "    \n",
    "    for(i in 1:seedv_len) {\n",
    "        cur.seed <- seedv[i]\n",
    "        # For each seed in seedv, compute a cross-val\n",
    "        # accuracy score.\n",
    "        result[i] <- get_cvScore_rfBest(cur.seed, dat)\n",
    "    }\n",
    "    return(result)\n",
    "}\n"
   ]
  },
  {
   "cell_type": "code",
   "execution_count": 41,
   "metadata": {},
   "outputs": [
    {
     "data": {
      "text/html": [
       "'Start time: 2021-05-30 07:09:24'"
      ],
      "text/latex": [
       "'Start time: 2021-05-30 07:09:24'"
      ],
      "text/markdown": [
       "'Start time: 2021-05-30 07:09:24'"
      ],
      "text/plain": [
       "[1] \"Start time: 2021-05-30 07:09:24\""
      ]
     },
     "metadata": {},
     "output_type": "display_data"
    },
    {
     "data": {
      "text/plain": [
       "Time difference of 1.23 mins"
      ]
     },
     "metadata": {},
     "output_type": "display_data"
    }
   ],
   "source": [
    "# Use 2000 seeds.  This equates to getting a \n",
    "# comparative cross-val score over 10,000 folds.\n",
    "# Since train has 178 records in it, each fold\n",
    "# will consist of 35 or 36 records.  There are\n",
    "# 1.56e37 ways of selecting 35 from 178.\n",
    "\n",
    "set.seed(1931)\n",
    "seedv <- sample(1:9999, 2000, replace=FALSE)\n",
    "\n",
    "start <- Sys.time()\n",
    "paste(\"Start time: \", start, sep=\"\")\n",
    "ans <- compute_cvScore_rf(seedv, train)\n",
    "stop <- Sys.time()\n",
    "round(stop - start, 2)\n",
    "# Time difference of 1.23 mins\n"
   ]
  },
  {
   "cell_type": "code",
   "execution_count": 42,
   "metadata": {},
   "outputs": [
    {
     "data": {
      "text/plain": [
       "   Min. 1st Qu.  Median    Mean 3rd Qu.    Max. \n",
       "  0.747   0.797   0.808   0.807   0.820   0.859 "
      ]
     },
     "metadata": {},
     "output_type": "display_data"
    }
   ],
   "source": [
    "summary(ans)\n"
   ]
  },
  {
   "cell_type": "code",
   "execution_count": 43,
   "metadata": {},
   "outputs": [
    {
     "data": {
      "text/html": [
       "0.8074"
      ],
      "text/latex": [
       "0.8074"
      ],
      "text/markdown": [
       "0.8074"
      ],
      "text/plain": [
       "[1] 0.8074"
      ]
     },
     "metadata": {},
     "output_type": "display_data"
    }
   ],
   "source": [
    "# This is our comparative cross-val accuracy score for\n",
    "# the current best random forest model.\n",
    "\n",
    "round(mean(ans), 4)\n",
    "# 0.8653\n"
   ]
  },
  {
   "cell_type": "code",
   "execution_count": 44,
   "metadata": {},
   "outputs": [
    {
     "data": {
      "text/html": [
       "0.8085"
      ],
      "text/latex": [
       "0.8085"
      ],
      "text/markdown": [
       "0.8085"
      ],
      "text/plain": [
       "[1] 0.8085"
      ]
     },
     "metadata": {},
     "output_type": "display_data"
    },
    {
     "data": {
      "text/html": [
       "0.017064"
      ],
      "text/latex": [
       "0.017064"
      ],
      "text/markdown": [
       "0.017064"
      ],
      "text/plain": [
       "[1] 0.017064"
      ]
     },
     "metadata": {},
     "output_type": "display_data"
    }
   ],
   "source": [
    "round(median(ans), 4)\n",
    "round(sd(ans), 6)\n",
    "# median: 0.8085\n",
    "# sd: 0.017064\n"
   ]
  },
  {
   "cell_type": "code",
   "execution_count": 45,
   "metadata": {},
   "outputs": [
    {
     "data": {
      "image/png": "[encoded data removed]",
      "text/plain": [
       "Plot with title “Distribution of cross-val accuracy scores for rfclf_best”"
      ]
     },
     "metadata": {
      "image/png": {
       "height": 360,
       "width": 480
      }
     },
     "output_type": "display_data"
    }
   ],
   "source": [
    "options(repr.plot.width= 8, repr.plot.height= 6)\n",
    "hist(ans, breaks=16, main=\"Distribution of cross-val accuracy scores for rfclf_best\")\n"
   ]
  },
  {
   "cell_type": "markdown",
   "metadata": {},
   "source": [
    "## Find best gradient boosting model"
   ]
  },
  {
   "cell_type": "code",
   "execution_count": 34,
   "metadata": {},
   "outputs": [],
   "source": [
    "# Package gbm no longer handles multinomial data.\n",
    "\n",
    "require(xgboost)\n"
   ]
  },
  {
   "cell_type": "code",
   "execution_count": 58,
   "metadata": {},
   "outputs": [
    {
     "data": {
      "text/html": [
       "<table>\n",
       "<caption>A data.frame: 5 × 1</caption>\n",
       "<thead>\n",
       "\t<tr><th></th><th scope=col>ans</th></tr>\n",
       "\t<tr><th></th><th scope=col>&lt;chr&gt;</th></tr>\n",
       "</thead>\n",
       "<tbody>\n",
       "\t<tr><th scope=row>Package</th><td>xgboost                  </td></tr>\n",
       "\t<tr><th scope=row>Type</th><td>Package                  </td></tr>\n",
       "\t<tr><th scope=row>Title</th><td>Extreme Gradient Boosting</td></tr>\n",
       "\t<tr><th scope=row>Version</th><td>1.4.1.1                  </td></tr>\n",
       "\t<tr><th scope=row>Date</th><td>2021-04-22               </td></tr>\n",
       "</tbody>\n",
       "</table>\n"
      ],
      "text/latex": [
       "A data.frame: 5 × 1\n",
       "\\begin{tabular}{r|l}\n",
       "  & ans\\\\\n",
       "  & <chr>\\\\\n",
       "\\hline\n",
       "\tPackage & xgboost                  \\\\\n",
       "\tType & Package                  \\\\\n",
       "\tTitle & Extreme Gradient Boosting\\\\\n",
       "\tVersion & 1.4.1.1                  \\\\\n",
       "\tDate & 2021-04-22               \\\\\n",
       "\\end{tabular}\n"
      ],
      "text/markdown": [
       "\n",
       "A data.frame: 5 × 1\n",
       "\n",
       "| <!--/--> | ans &lt;chr&gt; |\n",
       "|---|---|\n",
       "| Package | xgboost                   |\n",
       "| Type | Package                   |\n",
       "| Title | Extreme Gradient Boosting |\n",
       "| Version | 1.4.1.1                   |\n",
       "| Date | 2021-04-22                |\n",
       "\n"
      ],
      "text/plain": [
       "        ans                      \n",
       "Package xgboost                  \n",
       "Type    Package                  \n",
       "Title   Extreme Gradient Boosting\n",
       "Version 1.4.1.1                  \n",
       "Date    2021-04-22               "
      ]
     },
     "metadata": {},
     "output_type": "display_data"
    }
   ],
   "source": [
    "# Package updates for xgboost occur regularly.\n",
    "\n",
    "# packageDate(\"xgboost\")\n",
    "ans <- unlist(packageDescription(\"xgboost\")[1:5])\n",
    "(df <- data.frame(ans))\n"
   ]
  },
  {
   "cell_type": "code",
   "execution_count": 46,
   "metadata": {},
   "outputs": [
    {
     "data": {
      "text/plain": [
       "\n",
       " 1  2  3 \n",
       "59 71 48 "
      ]
     },
     "metadata": {},
     "output_type": "display_data"
    }
   ],
   "source": [
    "table(train$Type)\n"
   ]
  },
  {
   "cell_type": "code",
   "execution_count": 47,
   "metadata": {},
   "outputs": [
    {
     "data": {
      "text/plain": [
       "\n",
       " 0  1  2 \n",
       "59 71 48 "
      ]
     },
     "metadata": {},
     "output_type": "display_data"
    }
   ],
   "source": [
    "# We need to transform Type for xgboost to work.  The \n",
    "# classes must be numeric, starting at 0.\n",
    "\n",
    "gbtrain <- train\n",
    "\n",
    "gbtrain$label <- NA\n",
    "for(i in 1:nrow(gbtrain)) {\n",
    "    \n",
    "    if(gbtrain$Type[i]== \"1\") { gbtrain$label[i] <- 0 }\n",
    "    if(gbtrain$Type[i]== \"2\") { gbtrain$label[i] <- 1 }\n",
    "    if(gbtrain$Type[i]== \"3\") { gbtrain$label[i] <- 2 }\n",
    "}\n",
    "table(as.factor(gbtrain$label))\n"
   ]
  },
  {
   "cell_type": "code",
   "execution_count": 48,
   "metadata": {},
   "outputs": [
    {
     "data": {
      "text/html": [
       "<style>\n",
       ".list-inline {list-style: none; margin:0; padding: 0}\n",
       ".list-inline>li {display: inline-block}\n",
       ".list-inline>li:not(:last-child)::after {content: \"\\00b7\"; padding: 0 .5ex}\n",
       "</style>\n",
       "<ol class=list-inline><li>'Type'</li><li>'Hue'</li><li>'Phenols'</li><li>'Alcalinity'</li><li>'label'</li></ol>\n"
      ],
      "text/latex": [
       "\\begin{enumerate*}\n",
       "\\item 'Type'\n",
       "\\item 'Hue'\n",
       "\\item 'Phenols'\n",
       "\\item 'Alcalinity'\n",
       "\\item 'label'\n",
       "\\end{enumerate*}\n"
      ],
      "text/markdown": [
       "1. 'Type'\n",
       "2. 'Hue'\n",
       "3. 'Phenols'\n",
       "4. 'Alcalinity'\n",
       "5. 'label'\n",
       "\n",
       "\n"
      ],
      "text/plain": [
       "[1] \"Type\"       \"Hue\"        \"Phenols\"    \"Alcalinity\" \"label\"     "
      ]
     },
     "metadata": {},
     "output_type": "display_data"
    }
   ],
   "source": [
    "# There are 3 predictors.\n",
    "\n",
    "colnames(gbtrain)\n"
   ]
  },
  {
   "cell_type": "code",
   "execution_count": 49,
   "metadata": {},
   "outputs": [
    {
     "data": {
      "text/html": [
       "<table class=\"dataframe\">\n",
       "<caption>A data.frame: 6 × 4</caption>\n",
       "<thead>\n",
       "\t<tr><th></th><th scope=col>label</th><th scope=col>Hue</th><th scope=col>Phenols</th><th scope=col>Alcalinity</th></tr>\n",
       "\t<tr><th></th><th scope=col>&lt;dbl&gt;</th><th scope=col>&lt;dbl&gt;</th><th scope=col>&lt;dbl&gt;</th><th scope=col>&lt;dbl&gt;</th></tr>\n",
       "</thead>\n",
       "<tbody>\n",
       "\t<tr><th scope=row>113</th><td>1</td><td>1.23</td><td>1.75</td><td>20</td></tr>\n",
       "\t<tr><th scope=row>159</th><td>2</td><td>0.57</td><td>2.80</td><td>25</td></tr>\n",
       "\t<tr><th scope=row>21</th><td>0</td><td>1.09</td><td>3.00</td><td>16</td></tr>\n",
       "\t<tr><th scope=row>131</th><td>2</td><td>0.76</td><td>1.51</td><td>18</td></tr>\n",
       "\t<tr><th scope=row>137</th><td>2</td><td>0.75</td><td>1.38</td><td>21</td></tr>\n",
       "\t<tr><th scope=row>133</th><td>2</td><td>0.66</td><td>1.15</td><td>24</td></tr>\n",
       "</tbody>\n",
       "</table>\n"
      ],
      "text/latex": [
       "A data.frame: 6 × 4\n",
       "\\begin{tabular}{r|llll}\n",
       "  & label & Hue & Phenols & Alcalinity\\\\\n",
       "  & <dbl> & <dbl> & <dbl> & <dbl>\\\\\n",
       "\\hline\n",
       "\t113 & 1 & 1.23 & 1.75 & 20\\\\\n",
       "\t159 & 2 & 0.57 & 2.80 & 25\\\\\n",
       "\t21 & 0 & 1.09 & 3.00 & 16\\\\\n",
       "\t131 & 2 & 0.76 & 1.51 & 18\\\\\n",
       "\t137 & 2 & 0.75 & 1.38 & 21\\\\\n",
       "\t133 & 2 & 0.66 & 1.15 & 24\\\\\n",
       "\\end{tabular}\n"
      ],
      "text/markdown": [
       "\n",
       "A data.frame: 6 × 4\n",
       "\n",
       "| <!--/--> | label &lt;dbl&gt; | Hue &lt;dbl&gt; | Phenols &lt;dbl&gt; | Alcalinity &lt;dbl&gt; |\n",
       "|---|---|---|---|---|\n",
       "| 113 | 1 | 1.23 | 1.75 | 20 |\n",
       "| 159 | 2 | 0.57 | 2.80 | 25 |\n",
       "| 21 | 0 | 1.09 | 3.00 | 16 |\n",
       "| 131 | 2 | 0.76 | 1.51 | 18 |\n",
       "| 137 | 2 | 0.75 | 1.38 | 21 |\n",
       "| 133 | 2 | 0.66 | 1.15 | 24 |\n",
       "\n"
      ],
      "text/plain": [
       "    label Hue  Phenols Alcalinity\n",
       "113 1     1.23 1.75    20        \n",
       "159 2     0.57 2.80    25        \n",
       "21  0     1.09 3.00    16        \n",
       "131 2     0.76 1.51    18        \n",
       "137 2     0.75 1.38    21        \n",
       "133 2     0.66 1.15    24        "
      ]
     },
     "metadata": {},
     "output_type": "display_data"
    }
   ],
   "source": [
    "# Remove Type column from gbtrain and make label\n",
    "# the first column.\n",
    "\n",
    "gbtrain <- gbtrain[, -1]\n",
    "cols <- colnames(gbtrain)[1:3]\n",
    "gbtrain <- gbtrain[, c(\"label\", cols)]\n",
    "head(gbtrain)\n"
   ]
  },
  {
   "cell_type": "code",
   "execution_count": 50,
   "metadata": {},
   "outputs": [],
   "source": [
    "dtrain <- xgb.DMatrix(data = as.matrix(gbtrain[, -1]), label = gbtrain$label)\n"
   ]
  },
  {
   "cell_type": "code",
   "execution_count": 52,
   "metadata": {},
   "outputs": [
    {
     "name": "stdout",
     "output_type": "stream",
     "text": [
      "[1]\ttrain-merror:0.191011 \n",
      "[2]\ttrain-merror:0.196629 \n",
      "[3]\ttrain-merror:0.179775 \n",
      "[4]\ttrain-merror:0.174157 \n",
      "[5]\ttrain-merror:0.174157 \n",
      "[6]\ttrain-merror:0.174157 \n",
      "[7]\ttrain-merror:0.157303 \n",
      "[8]\ttrain-merror:0.157303 \n"
     ]
    }
   ],
   "source": [
    "set.seed(123)\n",
    "gbmod <- xgboost(data= dtrain, booster=\"gbtree\", \n",
    "                 objective=\"multi:softmax\", num_class=3,\n",
    "                 eta= 0.25, max_depth=5, gamma=3, \n",
    "                 subsample=0.5, nrounds=8, nthread=10,\n",
    "                 eval_metric=\"merror\")\n"
   ]
  },
  {
   "cell_type": "code",
   "execution_count": 53,
   "metadata": {},
   "outputs": [
    {
     "name": "stdout",
     "output_type": "stream",
     "text": [
      "[1] 178\n"
     ]
    },
    {
     "data": {
      "text/plain": [
       "\n",
       " 0  1  2 \n",
       "64 69 45 "
      ]
     },
     "metadata": {},
     "output_type": "display_data"
    }
   ],
   "source": [
    "preds <- predict(gbmod, as.matrix(gbtrain[, -1]))\n",
    "print(length(preds))\n",
    "table(as.factor(preds))\n"
   ]
  },
  {
   "cell_type": "code",
   "execution_count": 54,
   "metadata": {},
   "outputs": [
    {
     "data": {
      "text/html": [
       "<table class=\"dataframe\">\n",
       "<caption>A data.frame: 3 × 4</caption>\n",
       "<thead>\n",
       "\t<tr><th></th><th scope=col>0</th><th scope=col>1</th><th scope=col>2</th><th scope=col>class.error</th></tr>\n",
       "\t<tr><th></th><th scope=col>&lt;dbl&gt;</th><th scope=col>&lt;dbl&gt;</th><th scope=col>&lt;dbl&gt;</th><th scope=col>&lt;dbl&gt;</th></tr>\n",
       "</thead>\n",
       "<tbody>\n",
       "\t<tr><th scope=row>0</th><td>53</td><td> 6</td><td> 0</td><td>0.1017</td></tr>\n",
       "\t<tr><th scope=row>1</th><td>11</td><td>56</td><td> 4</td><td>0.2113</td></tr>\n",
       "\t<tr><th scope=row>2</th><td> 0</td><td> 7</td><td>41</td><td>0.1458</td></tr>\n",
       "</tbody>\n",
       "</table>\n"
      ],
      "text/latex": [
       "A data.frame: 3 × 4\n",
       "\\begin{tabular}{r|llll}\n",
       "  & 0 & 1 & 2 & class.error\\\\\n",
       "  & <dbl> & <dbl> & <dbl> & <dbl>\\\\\n",
       "\\hline\n",
       "\t0 & 53 &  6 &  0 & 0.1017\\\\\n",
       "\t1 & 11 & 56 &  4 & 0.2113\\\\\n",
       "\t2 &  0 &  7 & 41 & 0.1458\\\\\n",
       "\\end{tabular}\n"
      ],
      "text/markdown": [
       "\n",
       "A data.frame: 3 × 4\n",
       "\n",
       "| <!--/--> | 0 &lt;dbl&gt; | 1 &lt;dbl&gt; | 2 &lt;dbl&gt; | class.error &lt;dbl&gt; |\n",
       "|---|---|---|---|---|\n",
       "| 0 | 53 |  6 |  0 | 0.1017 |\n",
       "| 1 | 11 | 56 |  4 | 0.2113 |\n",
       "| 2 |  0 |  7 | 41 | 0.1458 |\n",
       "\n"
      ],
      "text/plain": [
       "  0  1  2  class.error\n",
       "0 53  6  0 0.1017     \n",
       "1 11 56  4 0.2113     \n",
       "2  0  7 41 0.1458     "
      ]
     },
     "metadata": {},
     "output_type": "display_data"
    },
    {
     "data": {
      "text/html": [
       "''"
      ],
      "text/latex": [
       "''"
      ],
      "text/markdown": [
       "''"
      ],
      "text/plain": [
       "[1] \"\""
      ]
     },
     "metadata": {},
     "output_type": "display_data"
    },
    {
     "data": {
      "text/html": [
       "0.8427"
      ],
      "text/latex": [
       "0.8427"
      ],
      "text/markdown": [
       "0.8427"
      ],
      "text/plain": [
       "[1] 0.8427"
      ]
     },
     "metadata": {},
     "output_type": "display_data"
    }
   ],
   "source": [
    "# Get accuracy score for the xgboost model.\n",
    "\n",
    "preds02 <- as.factor(preds)\n",
    "names(preds02) <- rownames(gbtrain)\n",
    "\n",
    "ans <- get_confusion(preds02, gbtrain[, \"label\", drop=FALSE])\n",
    "ans$matrix\n",
    "\"\"\n",
    "ans$acc\n"
   ]
  },
  {
   "cell_type": "code",
   "execution_count": 55,
   "metadata": {},
   "outputs": [
    {
     "name": "stdout",
     "output_type": "stream",
     "text": [
      "      Feature    Gain   Cover Frequency\n",
      "1:    Phenols 0.43449 0.36806     0.400\n",
      "2:        Hue 0.40868 0.40694     0.375\n",
      "3: Alcalinity 0.15684 0.22500     0.225\n"
     ]
    },
    {
     "data": {
      "image/png": "[encoded data removed]",
      "text/plain": [
       "plot without title"
      ]
     },
     "metadata": {
      "image/png": {
       "height": 240,
       "width": 360
      }
     },
     "output_type": "display_data"
    }
   ],
   "source": [
    "# Get feature importances for the gbmod model.\n",
    "\n",
    "options(repr.plot.width= 6, repr.plot.height= 4)\n",
    "\n",
    "importance_matrix <- xgb.importance(model = gbmod)\n",
    "print(importance_matrix)\n",
    "xgb.plot.importance(importance_matrix = importance_matrix)\n"
   ]
  },
  {
   "cell_type": "markdown",
   "metadata": {},
   "source": [
    "### Tune the gradient boost model"
   ]
  },
  {
   "cell_type": "code",
   "execution_count": 56,
   "metadata": {},
   "outputs": [],
   "source": [
    "# This function is called from get_cvScore_xgb.\n",
    "\n",
    "get_Acc_xgb <- function(traindat, valdat, eta, maxDepth, gamma) {\n",
    "    \n",
    "    dtrain <- xgb.DMatrix(data = as.matrix(traindat[, -1]), label = traindat$label)\n",
    "    \n",
    "    set.seed(123)\n",
    "    xgb_mod <- xgboost(data= dtrain, booster=\"gbtree\", \n",
    "                 objective=\"multi:softmax\", num_class=3,\n",
    "                 eta=eta, max_depth=maxDepth, gamma=gamma, \n",
    "                 subsample=0.5, nrounds=8, nthread=10,\n",
    "                 eval_metric=\"merror\", verbose=0)\n",
    "    \n",
    "    preds <- predict(xgb_mod, as.matrix(valdat[, -1]))\n",
    "    preds <- as.factor(preds)\n",
    "    names(preds) <- rownames(valdat)   \n",
    "    ans <- get_confusion(preds, valdat[, \"label\", drop=FALSE])\n",
    "\n",
    "    return(as.numeric(ans[[2]]))\n",
    "}\n"
   ]
  },
  {
   "cell_type": "code",
   "execution_count": 57,
   "metadata": {},
   "outputs": [],
   "source": [
    "# Function to obtain a cross-validation score, averaging the\n",
    "# accuracy scores of the folds.  This function is called from\n",
    "# avg_seedScores_xgb.\n",
    "\n",
    "get_cvScore_xgb <- function(seed, dat, eta, maxDepth,\n",
    "                            gamma, folds= 5) {\n",
    "    \n",
    "    # divide dat by the number of folds \n",
    "    segment_size <- round(nrow(dat)/folds)\n",
    "    diff <- nrow(dat) - folds * segment_size\n",
    "    last_seg_size <- segment_size + diff\n",
    "    segmentsv <- c(rep(segment_size, (folds - 1)), last_seg_size)\n",
    "    stopifnot(sum(segmentsv) == nrow(dat))\n",
    "    \n",
    "    # shuffle dat\n",
    "    set.seed(seed)\n",
    "    smp <- sample(rownames(dat), nrow(dat), replace= FALSE)\n",
    "    dat <- dat[smp,]\n",
    "    \n",
    "    # split the data into the folds\n",
    "    row_list <- vector(\"list\", length= folds)\n",
    "    names(row_list) <- as.character(1:folds)\n",
    "    startpt <- 1\n",
    "    for(i in 1:folds) {\n",
    "        endpt <- startpt + segmentsv[i] - 1\n",
    "        stopifnot(endpt <= nrow(dat))\n",
    "        row_list[[i]] <- rownames(dat)[startpt:endpt]\n",
    "        startpt <- endpt + 1\n",
    "    }\n",
    "    \n",
    "    train_list <- test_list <- vector(\"list\", length= folds)\n",
    "    for(j in 1:folds) {\n",
    "        testdat <- dat[row_list[[j]],]\n",
    "        traindat <- dat[which(!(rownames(dat) %in% rownames(testdat))),]\n",
    "        stopifnot((length(rownames(traindat)) + length(rownames(testdat))) == dim(dat)[1])\n",
    "        test_list[[j]] <- testdat\n",
    "        train_list[[j]] <- traindat\n",
    "    }\n",
    "\n",
    "    # Do NOT use mcmapply with xgboost.  The function is \n",
    "    # already using 10 cores, or threads.\n",
    "    scores <- mapply(get_Acc_xgb, train_list, test_list,\n",
    "                     MoreArgs= list(eta= eta, maxDepth=maxDepth,\n",
    "                                    gamma=gamma), SIMPLIFY= TRUE)\n",
    "    \n",
    "    return(round(mean(scores), 5))\n",
    "}\n"
   ]
  },
  {
   "cell_type": "code",
   "execution_count": 58,
   "metadata": {},
   "outputs": [],
   "source": [
    "# Since the seed value can affect the results, I take\n",
    "# the average over a number of seeds.  This ftn is\n",
    "# called from gridSearch02_xgb.\n",
    "\n",
    "avg_seedScores_xgb <- function(seed_vector, traindat, eta, maxDepth, \n",
    "                               gamma, folds= 5) {\n",
    "    \n",
    "    seed_len <- length(seed_vector)\n",
    "    outv <- rep(NA, seed_len)\n",
    "    for(i in 1:seed_len) {\n",
    "        seed <- seed_vector[i]\n",
    "        outv[i] <- get_cvScore_xgb(seed, traindat, eta, maxDepth,\n",
    "                                   gamma, folds=folds)\n",
    "    }\n",
    "    return(round(mean(outv), 5))\n",
    "}\n"
   ]
  },
  {
   "cell_type": "code",
   "execution_count": 59,
   "metadata": {},
   "outputs": [],
   "source": [
    "# This grid search is specific to finding the best xgboost\n",
    "# classifier for traindat.\n",
    "\n",
    "gridSearch02_xgb <- function(seed_vector, traindat, eta_vector, \n",
    "                             maxDepth_vector, gamma_vector, folds=5) {\n",
    "    \n",
    "    eta_len <- length(eta_vector)\n",
    "    maxDepth_len <- length(maxDepth_vector)\n",
    "    gamma_len <- length(gamma_vector)\n",
    "    # We need to capture the gridSearch parameters as well as \n",
    "    # the cross-val  scores.\n",
    "    datout <- rep(NA, 2 * eta_len * maxDepth_len * gamma_len)\n",
    "    dim(datout) <- c((eta_len * maxDepth_len * gamma_len), 2)\n",
    "    datout <- as.data.frame(datout)\n",
    "    colnames(datout) <- c(\"params\", \"acc\")\n",
    "    datout$params <- \"\"\n",
    "    \n",
    "    index <- 0\n",
    "    for(i in 1:eta_len) {\n",
    "        eta <- eta_vector[i]\n",
    "        for(j in 1:maxDepth_len) {\n",
    "            maxDepth <- maxDepth_vector[j]\n",
    "            for(k in 1:gamma_len) {\n",
    "                index <- index + 1\n",
    "                gamma <- gamma_vector[k]\n",
    "                param_string <- paste(as.character(eta), \n",
    "                                      as.character(maxDepth),\n",
    "                                      as.character(gamma), sep= \"--\")\n",
    "                datout$params[index] <- param_string\n",
    "                datout$acc[index] <- avg_seedScores_xgb(seed_vector, traindat, eta=eta, \n",
    "                                                        folds=folds, maxDepth=maxDepth,\n",
    "                                                        gamma=gamma)\n",
    "            }\n",
    "        }\n",
    "    }\n",
    "    return(datout)\n",
    "}\n"
   ]
  },
  {
   "cell_type": "code",
   "execution_count": 60,
   "metadata": {},
   "outputs": [
    {
     "data": {
      "text/html": [
       "'Start time: 2021-05-30 07:16:47'"
      ],
      "text/latex": [
       "'Start time: 2021-05-30 07:16:47'"
      ],
      "text/markdown": [
       "'Start time: 2021-05-30 07:16:47'"
      ],
      "text/plain": [
       "[1] \"Start time: 2021-05-30 07:16:47\""
      ]
     },
     "metadata": {},
     "output_type": "display_data"
    },
    {
     "data": {
      "text/plain": [
       "Time difference of 3.67 mins"
      ]
     },
     "metadata": {},
     "output_type": "display_data"
    },
    {
     "data": {
      "text/html": [
       "'0.23--5--1'"
      ],
      "text/latex": [
       "'0.23--5--1'"
      ],
      "text/markdown": [
       "'0.23--5--1'"
      ],
      "text/plain": [
       "[1] \"0.23--5--1\""
      ]
     },
     "metadata": {},
     "output_type": "display_data"
    },
    {
     "data": {
      "text/html": [
       "0.79396"
      ],
      "text/latex": [
       "0.79396"
      ],
      "text/markdown": [
       "0.79396"
      ],
      "text/plain": [
       "[1] 0.79396"
      ]
     },
     "metadata": {},
     "output_type": "display_data"
    }
   ],
   "source": [
    "# Run grid search to get better parameters for the \n",
    "# xgboost model.  Test with 350 seeds.  For each\n",
    "# seed, an average is taken over 5 folds.\n",
    "\n",
    "set.seed(7541)\n",
    "seed_smp <- sample(1:9999, 350, replace=FALSE)\n",
    "eta_vector <- c(0.20, 0.23, 0.25)\n",
    "maxDepth_vector <- 3:5\n",
    "gamma_vector <- 1:2\n",
    "\n",
    "start <- Sys.time()\n",
    "paste(\"Start time: \", start, sep=\"\")\n",
    "ans <- gridSearch02_xgb(seed_smp, gbtrain, eta_vector, maxDepth_vector, gamma_vector)\n",
    "stop <- Sys.time()\n",
    "round(stop - start, 2)\n",
    "# Time difference of 3.67 mins\n",
    "\n",
    "(best_params <- ans[which(ans$acc == max(ans$acc)),]$params)\n",
    "#  '0.23--5--1'\n",
    "\n",
    "(best_xgb_acc <- ans[which(ans$acc == max(ans$acc)),]$acc)\n",
    "#  0.7940\n"
   ]
  },
  {
   "cell_type": "code",
   "execution_count": 61,
   "metadata": {},
   "outputs": [
    {
     "data": {
      "text/html": [
       "'Start time: 2021-05-30 07:21:34'"
      ],
      "text/latex": [
       "'Start time: 2021-05-30 07:21:34'"
      ],
      "text/markdown": [
       "'Start time: 2021-05-30 07:21:34'"
      ],
      "text/plain": [
       "[1] \"Start time: 2021-05-30 07:21:34\""
      ]
     },
     "metadata": {},
     "output_type": "display_data"
    },
    {
     "data": {
      "text/plain": [
       "Time difference of 2.55 mins"
      ]
     },
     "metadata": {},
     "output_type": "display_data"
    },
    {
     "data": {
      "text/html": [
       "'0.24--6--1'"
      ],
      "text/latex": [
       "'0.24--6--1'"
      ],
      "text/markdown": [
       "'0.24--6--1'"
      ],
      "text/plain": [
       "[1] \"0.24--6--1\""
      ]
     },
     "metadata": {},
     "output_type": "display_data"
    },
    {
     "data": {
      "text/html": [
       "0.7936"
      ],
      "text/latex": [
       "0.7936"
      ],
      "text/markdown": [
       "0.7936"
      ],
      "text/plain": [
       "[1] 0.7936"
      ]
     },
     "metadata": {},
     "output_type": "display_data"
    }
   ],
   "source": [
    "# Refine the search.\n",
    "\n",
    "set.seed(1933)\n",
    "seed_smp <- sample(1:9999, 350, replace=FALSE)\n",
    "eta_vector <- c(0.22, 0.23, 0.24)\n",
    "maxDepth_vector <- 5:6\n",
    "gamma_vector <- 1:2\n",
    "\n",
    "start <- Sys.time()\n",
    "paste(\"Start time: \", start, sep=\"\")\n",
    "ans <- gridSearch02_xgb(seed_smp, gbtrain, eta_vector, maxDepth_vector, gamma_vector)\n",
    "stop <- Sys.time()\n",
    "round(stop - start, 2)\n",
    "# Time difference of 2.55 mins\n",
    "\n",
    "(best_params <- ans[which(ans$acc == max(ans$acc)),]$params)\n",
    "#  '0.24--6--1'\n",
    "\n",
    "(best_xgb_acc <- ans[which(ans$acc == max(ans$acc)),]$acc)\n",
    "#  0.7936\n"
   ]
  },
  {
   "cell_type": "markdown",
   "metadata": {},
   "source": [
    "### Get an average accuracy score for xgb_best on the training set"
   ]
  },
  {
   "cell_type": "code",
   "execution_count": 62,
   "metadata": {},
   "outputs": [
    {
     "data": {
      "text/plain": [
       "Time difference of 16.06 secs"
      ]
     },
     "metadata": {},
     "output_type": "display_data"
    }
   ],
   "source": [
    "# Get stable scores for the best xgboost model.  I will\n",
    "# refer to this model as xgb_best.  Note that 2000 seeds\n",
    "# are being used. \n",
    "\n",
    "set.seed(1433)\n",
    "seed_smp <- sample(1:9999, 2000, replace=FALSE)\n",
    "\n",
    "datout <- rep(NA, 2 * length(seed_smp))\n",
    "dim(datout) <- c(length(seed_smp), 2)\n",
    "datout <- as.data.frame(datout)\n",
    "colnames(datout) <- c(\"seed\",\"Acc\")\n",
    "datout$seed <- seed_smp\n",
    "\n",
    "start <- Sys.time()\n",
    "for(i in 1:length(seed_smp)) {\n",
    "    \n",
    "    set.seed(seed_smp[i])\n",
    "    xgbmod <- xgboost(data= dtrain, booster=\"gbtree\", \n",
    "                 objective=\"multi:softmax\", num_class=3,\n",
    "                 eta=0.24, max_depth=6, gamma=1, \n",
    "                 subsample=0.5, nrounds=8, nthread=10,\n",
    "                 eval_metric=\"merror\", verbose=0)\n",
    "    \n",
    "    preds <- predict(xgbmod, as.matrix(gbtrain[, -1]))\n",
    "    preds <- as.factor(preds)\n",
    "    names(preds) <- rownames(gbtrain)   \n",
    "    ans <- get_confusion(preds, gbtrain[, \"label\", drop=FALSE])\n",
    "    \n",
    "    mat <- as.matrix(ans[[1]])\n",
    "    percent_correct <- sum(diag(mat))/floor(sum(mat))\n",
    "    datout[i, c(\"Acc\")] <- round(percent_correct, 4)\n",
    "    \n",
    "}\n",
    "stop <- Sys.time()\n",
    "round(stop - start, 2)\n",
    "# Time difference of 16 secs\n"
   ]
  },
  {
   "cell_type": "code",
   "execution_count": 63,
   "metadata": {},
   "outputs": [
    {
     "data": {
      "image/png": "[encoded data removed]",
      "text/plain": [
       "Plot with title “Distribution of accuracy scores for xgb_best on trainset”"
      ]
     },
     "metadata": {
      "image/png": {
       "height": 360,
       "width": 600
      }
     },
     "output_type": "display_data"
    }
   ],
   "source": [
    "options(repr.plot.width= 10, repr.plot.height= 6)\n",
    "hist(datout$Acc, breaks=16, xlab=\"accuracy\",\n",
    "     main=\"Distribution of accuracy scores for xgb_best on trainset\")\n"
   ]
  },
  {
   "cell_type": "code",
   "execution_count": 64,
   "metadata": {},
   "outputs": [
    {
     "data": {
      "text/html": [
       "0.902"
      ],
      "text/latex": [
       "0.902"
      ],
      "text/markdown": [
       "0.902"
      ],
      "text/plain": [
       "[1] 0.902"
      ]
     },
     "metadata": {},
     "output_type": "display_data"
    }
   ],
   "source": [
    "# xgb_best's average accuracy score on the trainset data.\n",
    "\n",
    "round(mean(datout$Acc), 4)\n",
    "# For rfclf_best we had an accuracy score of 0.8040\n",
    "\n",
    "# 0.902\n"
   ]
  },
  {
   "cell_type": "code",
   "execution_count": 76,
   "metadata": {},
   "outputs": [
    {
     "data": {
      "text/html": [
       "340"
      ],
      "text/latex": [
       "340"
      ],
      "text/markdown": [
       "340"
      ],
      "text/plain": [
       "[1] 340"
      ]
     },
     "metadata": {},
     "output_type": "display_data"
    },
    {
     "data": {
      "text/html": [
       "<style>\n",
       ".list-inline {list-style: none; margin:0; padding: 0}\n",
       ".list-inline>li {display: inline-block}\n",
       ".list-inline>li:not(:last-child)::after {content: \"\\00b7\"; padding: 0 .5ex}\n",
       "</style>\n",
       "<ol class=list-inline><li>3837</li><li>947</li><li>381</li><li>4998</li><li>2141</li><li>4887</li></ol>\n"
      ],
      "text/latex": [
       "\\begin{enumerate*}\n",
       "\\item 3837\n",
       "\\item 947\n",
       "\\item 381\n",
       "\\item 4998\n",
       "\\item 2141\n",
       "\\item 4887\n",
       "\\end{enumerate*}\n"
      ],
      "text/markdown": [
       "1. 3837\n",
       "2. 947\n",
       "3. 381\n",
       "4. 4998\n",
       "5. 2141\n",
       "6. 4887\n",
       "\n",
       "\n"
      ],
      "text/plain": [
       "[1] 3837  947  381 4998 2141 4887"
      ]
     },
     "metadata": {},
     "output_type": "display_data"
    }
   ],
   "source": [
    "# Identify seeds with an accuracy score near 0.9020.\n",
    "\n",
    "xgb_candidate_seeds <- datout[which((datout$Acc > 0.8990) & (datout$Acc < 0.9050)),]$seed\n",
    "length(xgb_candidate_seeds)\n",
    "#  340\n",
    "head(xgb_candidate_seeds)\n",
    "#  4998\n"
   ]
  },
  {
   "cell_type": "code",
   "execution_count": 77,
   "metadata": {},
   "outputs": [],
   "source": [
    "# Best xgb_boost model for the purposes of showing\n",
    "# average performance on the training set.  The seed \n",
    "# value is part of the model.\n",
    "\n",
    "set.seed(4998)\n",
    "xgb_best <- xgboost(data= dtrain, booster=\"gbtree\", \n",
    "                 objective=\"multi:softmax\", num_class=3,\n",
    "                 eta=0.24, max_depth=6, gamma=1, \n",
    "                 subsample=0.5, nrounds=8, nthread=10,\n",
    "                 eval_metric=\"merror\", verbose=0)\n"
   ]
  },
  {
   "cell_type": "code",
   "execution_count": 78,
   "metadata": {},
   "outputs": [
    {
     "name": "stdout",
     "output_type": "stream",
     "text": [
      "[1] 0.9045\n"
     ]
    }
   ],
   "source": [
    "# Get accuracy score for xgb_best.\n",
    "\n",
    "preds <- predict(xgb_best, as.matrix(gbtrain[, -1]))\n",
    "preds <- as.factor(preds)\n",
    "names(preds) <- rownames(gbtrain)   \n",
    "ans <- get_confusion(preds, gbtrain[, \"label\", drop=FALSE])\n",
    "   \n",
    "acc <- round(as.numeric(ans[[2]]), 4)\n",
    "print(acc)\n",
    "# 0.9045\n",
    "\n",
    "# This is the AVERAGE PERFORMANCE of our best xgboost model on\n",
    "# the training set.\n"
   ]
  },
  {
   "cell_type": "code",
   "execution_count": 79,
   "metadata": {},
   "outputs": [
    {
     "data": {
      "text/html": [
       "<table class=\"dataframe\">\n",
       "<caption>A data.frame: 3 × 4</caption>\n",
       "<thead>\n",
       "\t<tr><th></th><th scope=col>0</th><th scope=col>1</th><th scope=col>2</th><th scope=col>class.error</th></tr>\n",
       "\t<tr><th></th><th scope=col>&lt;dbl&gt;</th><th scope=col>&lt;dbl&gt;</th><th scope=col>&lt;dbl&gt;</th><th scope=col>&lt;dbl&gt;</th></tr>\n",
       "</thead>\n",
       "<tbody>\n",
       "\t<tr><th scope=row>0</th><td>55</td><td> 4</td><td> 0</td><td>0.0678</td></tr>\n",
       "\t<tr><th scope=row>1</th><td> 6</td><td>61</td><td> 4</td><td>0.1408</td></tr>\n",
       "\t<tr><th scope=row>2</th><td> 0</td><td> 3</td><td>45</td><td>0.0625</td></tr>\n",
       "</tbody>\n",
       "</table>\n"
      ],
      "text/latex": [
       "A data.frame: 3 × 4\n",
       "\\begin{tabular}{r|llll}\n",
       "  & 0 & 1 & 2 & class.error\\\\\n",
       "  & <dbl> & <dbl> & <dbl> & <dbl>\\\\\n",
       "\\hline\n",
       "\t0 & 55 &  4 &  0 & 0.0678\\\\\n",
       "\t1 &  6 & 61 &  4 & 0.1408\\\\\n",
       "\t2 &  0 &  3 & 45 & 0.0625\\\\\n",
       "\\end{tabular}\n"
      ],
      "text/markdown": [
       "\n",
       "A data.frame: 3 × 4\n",
       "\n",
       "| <!--/--> | 0 &lt;dbl&gt; | 1 &lt;dbl&gt; | 2 &lt;dbl&gt; | class.error &lt;dbl&gt; |\n",
       "|---|---|---|---|---|\n",
       "| 0 | 55 |  4 |  0 | 0.0678 |\n",
       "| 1 |  6 | 61 |  4 | 0.1408 |\n",
       "| 2 |  0 |  3 | 45 | 0.0625 |\n",
       "\n"
      ],
      "text/plain": [
       "  0  1  2  class.error\n",
       "0 55  4  0 0.0678     \n",
       "1  6 61  4 0.1408     \n",
       "2  0  3 45 0.0625     "
      ]
     },
     "metadata": {},
     "output_type": "display_data"
    }
   ],
   "source": [
    "# xgb_best misclassifies, on average, 17 of the 178\n",
    "# records.  rfclf_best misclassified, on average, 32 \n",
    "# of the 178 records.  These are scores on the training set.\n",
    "\n",
    "ans[[1]]\n"
   ]
  },
  {
   "cell_type": "markdown",
   "metadata": {},
   "source": [
    "## Get comparative cross-val score for best xgboost model"
   ]
  },
  {
   "cell_type": "code",
   "execution_count": 80,
   "metadata": {},
   "outputs": [],
   "source": [
    "# This function is called from get_cvScore_xgbBest.\n",
    "# It returns an accuracy score on the validation set.\n",
    "\n",
    "get_Acc_xgbBest <- function(traindat, valdat) {\n",
    "    \n",
    "    dtrain <- xgb.DMatrix(data = as.matrix(traindat[, -1]), \n",
    "                          label = traindat$label)\n",
    " \n",
    "    # This is our current best xgboost model.\n",
    "    set.seed(4998)\n",
    "    xgbmod <- xgboost(data= dtrain, booster=\"gbtree\", \n",
    "                      objective=\"multi:softmax\", num_class=3,\n",
    "                      eta=0.24, max_depth=6, gamma=1, \n",
    "                      subsample=0.5, nrounds=8, nthread=10,\n",
    "                      eval_metric=\"merror\", verbose=0)\n",
    "        \n",
    "    preds <- predict(xgbmod, as.matrix(valdat[, -1]))\n",
    "    preds <- as.factor(preds)\n",
    "    names(preds) <- rownames(valdat)\n",
    "    ans <- get_confusion(preds, valdat[, \"label\", drop=FALSE])\n",
    "    return(ans[[2]])\n",
    "}\n"
   ]
  },
  {
   "cell_type": "code",
   "execution_count": 81,
   "metadata": {},
   "outputs": [],
   "source": [
    "# Function to obtain a cross-validation score, averaging the\n",
    "# accuracy scores of the folds.  This function is called from\n",
    "# compute_cvScore_xgb.\n",
    "\n",
    "get_cvScore_xgbBest <- function(seed, dat, folds= 5) {\n",
    "    \n",
    "    # divide dat by the number of folds \n",
    "    segment_size <- round(nrow(dat)/folds)\n",
    "    diff <- nrow(dat) - folds * segment_size\n",
    "    last_seg_size <- segment_size + diff\n",
    "    segmentsv <- c(rep(segment_size, (folds - 1)), last_seg_size)\n",
    "    stopifnot(sum(segmentsv) == nrow(dat))\n",
    "    \n",
    "    # shuffle dat\n",
    "    set.seed(seed)\n",
    "    smp <- sample(rownames(dat), nrow(dat), replace= FALSE)\n",
    "    dat <- dat[smp,]\n",
    "    \n",
    "    # split the data into the folds\n",
    "    row_list <- vector(\"list\", length= folds)\n",
    "    names(row_list) <- as.character(1:folds)\n",
    "    startpt <- 1\n",
    "    for(i in 1:folds) {\n",
    "        endpt <- startpt + segmentsv[i] - 1\n",
    "        stopifnot(endpt <= nrow(dat))\n",
    "        row_list[[i]] <- rownames(dat)[startpt:endpt]\n",
    "        startpt <- endpt + 1\n",
    "    }\n",
    "    \n",
    "    train_list <- test_list <- vector(\"list\", length= folds)\n",
    "    for(j in 1:folds) {\n",
    "        testdat <- dat[row_list[[j]],]\n",
    "        traindat <- dat[which(!(rownames(dat) %in% rownames(testdat))),]\n",
    "        stopifnot((length(rownames(traindat)) + length(rownames(testdat))) == dim(dat)[1])\n",
    "        test_list[[j]] <- testdat\n",
    "        train_list[[j]] <- traindat\n",
    "    }\n",
    "\n",
    "    # Do NOT use mcmapply with xgboost.  The function is \n",
    "    # already using 10 cores, or threads.\n",
    "    scores <- mapply(get_Acc_xgbBest, train_list, test_list,\n",
    "                     SIMPLIFY= TRUE)\n",
    "    \n",
    "    # The following average is over the 5 folds created using\n",
    "    # the current seed.\n",
    "    return(round(mean(scores), 5))\n",
    "}\n"
   ]
  },
  {
   "cell_type": "code",
   "execution_count": 82,
   "metadata": {},
   "outputs": [],
   "source": [
    "# Function to get a cross-val accuracy score over many \n",
    "# folds for the best xgboost model.\n",
    "\n",
    "compute_cvScore_xgb <- function(seedv, dat) {\n",
    "    \n",
    "    seedv_len <- length(seedv)\n",
    "    result <- rep(NA, length=seedv_len)\n",
    "    names(result) <- as.character(seedv)\n",
    "    \n",
    "    for(i in 1:seedv_len) {\n",
    "        cur.seed <- seedv[i]\n",
    "        # For each seed in seedv, compute a cross-val\n",
    "        # accuracy score.\n",
    "        result[i] <- get_cvScore_xgbBest(cur.seed, dat)\n",
    "    }\n",
    "    return(result)\n",
    "}\n"
   ]
  },
  {
   "cell_type": "code",
   "execution_count": 83,
   "metadata": {},
   "outputs": [
    {
     "data": {
      "text/html": [
       "<table class=\"dataframe\">\n",
       "<caption>A data.frame: 6 × 4</caption>\n",
       "<thead>\n",
       "\t<tr><th></th><th scope=col>label</th><th scope=col>Hue</th><th scope=col>Phenols</th><th scope=col>Alcalinity</th></tr>\n",
       "\t<tr><th></th><th scope=col>&lt;dbl&gt;</th><th scope=col>&lt;dbl&gt;</th><th scope=col>&lt;dbl&gt;</th><th scope=col>&lt;dbl&gt;</th></tr>\n",
       "</thead>\n",
       "<tbody>\n",
       "\t<tr><th scope=row>113</th><td>1</td><td>1.23</td><td>1.75</td><td>20</td></tr>\n",
       "\t<tr><th scope=row>159</th><td>2</td><td>0.57</td><td>2.80</td><td>25</td></tr>\n",
       "\t<tr><th scope=row>21</th><td>0</td><td>1.09</td><td>3.00</td><td>16</td></tr>\n",
       "\t<tr><th scope=row>131</th><td>2</td><td>0.76</td><td>1.51</td><td>18</td></tr>\n",
       "\t<tr><th scope=row>137</th><td>2</td><td>0.75</td><td>1.38</td><td>21</td></tr>\n",
       "\t<tr><th scope=row>133</th><td>2</td><td>0.66</td><td>1.15</td><td>24</td></tr>\n",
       "</tbody>\n",
       "</table>\n"
      ],
      "text/latex": [
       "A data.frame: 6 × 4\n",
       "\\begin{tabular}{r|llll}\n",
       "  & label & Hue & Phenols & Alcalinity\\\\\n",
       "  & <dbl> & <dbl> & <dbl> & <dbl>\\\\\n",
       "\\hline\n",
       "\t113 & 1 & 1.23 & 1.75 & 20\\\\\n",
       "\t159 & 2 & 0.57 & 2.80 & 25\\\\\n",
       "\t21 & 0 & 1.09 & 3.00 & 16\\\\\n",
       "\t131 & 2 & 0.76 & 1.51 & 18\\\\\n",
       "\t137 & 2 & 0.75 & 1.38 & 21\\\\\n",
       "\t133 & 2 & 0.66 & 1.15 & 24\\\\\n",
       "\\end{tabular}\n"
      ],
      "text/markdown": [
       "\n",
       "A data.frame: 6 × 4\n",
       "\n",
       "| <!--/--> | label &lt;dbl&gt; | Hue &lt;dbl&gt; | Phenols &lt;dbl&gt; | Alcalinity &lt;dbl&gt; |\n",
       "|---|---|---|---|---|\n",
       "| 113 | 1 | 1.23 | 1.75 | 20 |\n",
       "| 159 | 2 | 0.57 | 2.80 | 25 |\n",
       "| 21 | 0 | 1.09 | 3.00 | 16 |\n",
       "| 131 | 2 | 0.76 | 1.51 | 18 |\n",
       "| 137 | 2 | 0.75 | 1.38 | 21 |\n",
       "| 133 | 2 | 0.66 | 1.15 | 24 |\n",
       "\n"
      ],
      "text/plain": [
       "    label Hue  Phenols Alcalinity\n",
       "113 1     1.23 1.75    20        \n",
       "159 2     0.57 2.80    25        \n",
       "21  0     1.09 3.00    16        \n",
       "131 2     0.76 1.51    18        \n",
       "137 2     0.75 1.38    21        \n",
       "133 2     0.66 1.15    24        "
      ]
     },
     "metadata": {},
     "output_type": "display_data"
    }
   ],
   "source": [
    "head(gbtrain)\n"
   ]
  },
  {
   "cell_type": "code",
   "execution_count": 84,
   "metadata": {},
   "outputs": [
    {
     "data": {
      "text/html": [
       "'Start time: 2021-05-30 07:35:28'"
      ],
      "text/latex": [
       "'Start time: 2021-05-30 07:35:28'"
      ],
      "text/markdown": [
       "'Start time: 2021-05-30 07:35:28'"
      ],
      "text/plain": [
       "[1] \"Start time: 2021-05-30 07:35:28\""
      ]
     },
     "metadata": {},
     "output_type": "display_data"
    },
    {
     "data": {
      "text/plain": [
       "Time difference of 1.23 mins"
      ]
     },
     "metadata": {},
     "output_type": "display_data"
    }
   ],
   "source": [
    "# Use the same initial seed as we did to get the \n",
    "# corresponding score for the random forest model.\n",
    "\n",
    "set.seed(1931)\n",
    "seedv <- sample(1:9999, 2000, replace=FALSE)\n",
    "\n",
    "start <- Sys.time()\n",
    "paste(\"Start time: \", start, sep=\"\")\n",
    "ans <- compute_cvScore_xgb(seedv, gbtrain)\n",
    "stop <- Sys.time()\n",
    "round(stop - start, 2)\n",
    "# Time difference of 1.24 mins\n"
   ]
  },
  {
   "cell_type": "code",
   "execution_count": 85,
   "metadata": {},
   "outputs": [
    {
     "data": {
      "text/plain": [
       "   Min. 1st Qu.  Median    Mean 3rd Qu.    Max. \n",
       "  0.719   0.780   0.792   0.792   0.804   0.849 "
      ]
     },
     "metadata": {},
     "output_type": "display_data"
    }
   ],
   "source": [
    "summary(ans)\n"
   ]
  },
  {
   "cell_type": "code",
   "execution_count": 86,
   "metadata": {},
   "outputs": [
    {
     "data": {
      "text/html": [
       "0.792"
      ],
      "text/latex": [
       "0.792"
      ],
      "text/markdown": [
       "0.792"
      ],
      "text/plain": [
       "[1] 0.792"
      ]
     },
     "metadata": {},
     "output_type": "display_data"
    }
   ],
   "source": [
    "# This is our comparative cross-val accuracy score for the\n",
    "# current best gradient boosting model.\n",
    "\n",
    "round(mean(ans), 4)\n",
    "# 0.7920\n"
   ]
  },
  {
   "cell_type": "code",
   "execution_count": 87,
   "metadata": {},
   "outputs": [
    {
     "data": {
      "text/html": [
       "0.7925"
      ],
      "text/latex": [
       "0.7925"
      ],
      "text/markdown": [
       "0.7925"
      ],
      "text/plain": [
       "[1] 0.7925"
      ]
     },
     "metadata": {},
     "output_type": "display_data"
    },
    {
     "data": {
      "text/html": [
       "0.019219"
      ],
      "text/latex": [
       "0.019219"
      ],
      "text/markdown": [
       "0.019219"
      ],
      "text/plain": [
       "[1] 0.019219"
      ]
     },
     "metadata": {},
     "output_type": "display_data"
    }
   ],
   "source": [
    "round(median(ans), 4)\n",
    "round(sd(ans), 6)\n",
    "# 0.7925\n",
    "# 0.019219\n"
   ]
  },
  {
   "cell_type": "code",
   "execution_count": 88,
   "metadata": {},
   "outputs": [
    {
     "data": {
      "image/png": "[encoded data removed]",
      "text/plain": [
       "Plot with title “Distribution of cross-val accuracy scores for xgb_best”"
      ]
     },
     "metadata": {
      "image/png": {
       "height": 360,
       "width": 600
      }
     },
     "output_type": "display_data"
    }
   ],
   "source": [
    "options(repr.plot.width= 10, repr.plot.height= 6)\n",
    "hist(ans, breaks=16, xlab=\"accuracy\",\n",
    "     main=\"Distribution of cross-val accuracy scores for xgb_best\")\n"
   ]
  },
  {
   "cell_type": "markdown",
   "metadata": {},
   "source": [
    "## SVM classifier"
   ]
  },
  {
   "cell_type": "code",
   "execution_count": 13,
   "metadata": {},
   "outputs": [
    {
     "data": {
      "text/plain": [
       "      Hue           Phenols       Alcalinity  \n",
       " Min.   :0.480   Min.   :0.98   Min.   :10.6  \n",
       " 1st Qu.:0.782   1st Qu.:1.74   1st Qu.:17.2  \n",
       " Median :0.965   Median :2.35   Median :19.5  \n",
       " Mean   :0.957   Mean   :2.30   Mean   :19.5  \n",
       " 3rd Qu.:1.120   3rd Qu.:2.80   3rd Qu.:21.5  \n",
       " Max.   :1.710   Max.   :3.88   Max.   :30.0  "
      ]
     },
     "metadata": {},
     "output_type": "display_data"
    }
   ],
   "source": [
    "summary(train[, -1])\n",
    "\n",
    "# All variables are numeric and positive.\n"
   ]
  },
  {
   "cell_type": "code",
   "execution_count": 89,
   "metadata": {},
   "outputs": [
    {
     "data": {
      "text/plain": [
       "      Hue            Phenols          Alcalinity      \n",
       " Min.   :-2.089   Min.   :-2.1013   Min.   :-2.66350  \n",
       " 1st Qu.:-0.765   1st Qu.:-0.8830   1st Qu.:-0.68720  \n",
       " Median : 0.033   Median : 0.0957   Median : 0.00151  \n",
       " Mean   : 0.000   Mean   : 0.0000   Mean   : 0.00000  \n",
       " 3rd Qu.: 0.711   3rd Qu.: 0.8067   3rd Qu.: 0.60039  \n",
       " Max.   : 3.292   Max.   : 2.5324   Max.   : 3.14564  "
      ]
     },
     "metadata": {},
     "output_type": "display_data"
    }
   ],
   "source": [
    "# For SVM modeling, we need to scale the data.  In \n",
    "# Parts 1 and 2 we got a better model if we scaled\n",
    "# the data without applying any prior transformations.\n",
    "# I will take the same approach with this data set.\n",
    "\n",
    "svmtrain <- train\n",
    "\n",
    "svm_scaled <- scale(svmtrain[, -1])\n",
    "summary(svm_scaled)\n"
   ]
  },
  {
   "cell_type": "code",
   "execution_count": 90,
   "metadata": {},
   "outputs": [],
   "source": [
    "# Attach response variable.\n",
    "\n",
    "svm_scaled <- as.data.frame(cbind(svmtrain$Type, svm_scaled),\n",
    "                            row.names=rownames(svmtrain))\n",
    "colnames(svm_scaled) <- colnames(svmtrain)\n"
   ]
  },
  {
   "cell_type": "code",
   "execution_count": 91,
   "metadata": {},
   "outputs": [
    {
     "name": "stdout",
     "output_type": "stream",
     "text": [
      "   1  2  3 class.error\n",
      "1 48 11  0      0.1864\n",
      "2 10 56  5      0.2113\n",
      "3  0  3 45      0.0625\n"
     ]
    },
    {
     "data": {
      "text/html": [
       "''"
      ],
      "text/latex": [
       "''"
      ],
      "text/markdown": [
       "''"
      ],
      "text/plain": [
       "[1] \"\""
      ]
     },
     "metadata": {},
     "output_type": "display_data"
    },
    {
     "data": {
      "text/html": [
       "'Accuracy score for svm model: 0.8371'"
      ],
      "text/latex": [
       "'Accuracy score for svm model: 0.8371'"
      ],
      "text/markdown": [
       "'Accuracy score for svm model: 0.8371'"
      ],
      "text/plain": [
       "[1] \"Accuracy score for svm model: 0.8371\""
      ]
     },
     "metadata": {},
     "output_type": "display_data"
    }
   ],
   "source": [
    "# Try with kernel = radial basis function.\n",
    "\n",
    "svm01 <- svm(I(as.factor(Type)) ~ ., data=svm_scaled, kernel=\"radial\",\n",
    "             gamma= 0.01, cost= 30, scale=FALSE)\n",
    "\n",
    "preds <- as.factor(fitted(svm01))\n",
    "ans <- get_confusion(preds, svm_scaled[, \"Type\", drop=FALSE])\n",
    "print(ans[[1]])\n",
    "\"\"\n",
    "paste0(\"Accuracy score for svm model: \", as.character(ans[[2]]))\n"
   ]
  },
  {
   "cell_type": "markdown",
   "metadata": {},
   "source": [
    "### Tune the svm model"
   ]
  },
  {
   "cell_type": "code",
   "execution_count": 92,
   "metadata": {},
   "outputs": [],
   "source": [
    "# Function to compute an accuracy score for an svm cv-fold.\n",
    "\n",
    "get_Acc_svm <- function(traindat, valdat, gamma, cost) {\n",
    "    \n",
    "    # Scale traindat.\n",
    "    train_scaled <- scale(traindat[, -1])\n",
    "    train_centers <- attr(train_scaled, \"scaled:center\")\n",
    "    train_scales <- attr(train_scaled, \"scaled:scale\")\n",
    "    train_scaled <- as.data.frame(cbind(traindat$Type, train_scaled),\n",
    "                                  row.names=rownames(traindat))\n",
    "    colnames(train_scaled) <- colnames(traindat)\n",
    "    \n",
    "    svmmod <- svm(I(as.factor(Type)) ~ ., data= train_scaled, gamma=gamma,\n",
    "                    cost=cost, scale=FALSE, kernel=\"radial\")\n",
    "    \n",
    "    # Scale valdat.\n",
    "    test_scaled <- scale(valdat[, -1], center=train_centers,\n",
    "                         scale=train_scales)\n",
    "    test_scaled <- as.data.frame(test_scaled, row.names=rownames(valdat))\n",
    "    \n",
    "    preds <- as.factor(predict(svmmod, newdata= test_scaled))\n",
    "    ans <- get_confusion(preds, valdat[, \"Type\", drop=FALSE])\n",
    "    return(ans[[2]])\n",
    "}\n"
   ]
  },
  {
   "cell_type": "code",
   "execution_count": 93,
   "metadata": {},
   "outputs": [],
   "source": [
    "# This grid search searches for the best parameters for svm\n",
    "# modeling of the data. \n",
    "\n",
    "gridSearch_svm <- function(seedv, dat, gammav, costv, folds=5) {\n",
    "    \n",
    "    gamma_len <- length(gammav)\n",
    "    cost_len <- length(costv)\n",
    "    # We need to capture the gridSearch parameters as well as \n",
    "    # the cross-val  scores.\n",
    "    datout <- rep(NA, 2 * gamma_len * cost_len)\n",
    "    dim(datout) <- c((gamma_len * cost_len), 2)\n",
    "    datout <- as.data.frame(datout)\n",
    "    colnames(datout) <- c(\"params\", \"Acc\")\n",
    "    datout$params <- \"\"\n",
    "    \n",
    "    # Divide dat by the number of folds to get a\n",
    "    # size for each fold.\n",
    "    segment_size <- round(nrow(dat)/folds)\n",
    "    diff <- nrow(dat) - folds * segment_size\n",
    "    last_seg_size <- segment_size + diff\n",
    "    segmentsv <- c(rep(segment_size, (folds - 1)), last_seg_size)\n",
    "    stopifnot(sum(segmentsv) == nrow(dat))\n",
    "    \n",
    "    index <- 0\n",
    "    for(i in 1:gamma_len) {\n",
    "        gamma <- gammav[i]\n",
    "        for(j in 1:cost_len) {\n",
    "            index <- index + 1\n",
    "            cost <- costv[j]\n",
    "            param_string <- paste(as.character(gamma), \n",
    "                                  as.character(cost), sep= \"--\")\n",
    "            datout$params[index] <- param_string\n",
    "            \n",
    "            # Each set of parameters gets tested over many folds.\n",
    "            # The different folds are created using different seeds.\n",
    "    \n",
    "            # Create a vector to store the Acc score for each seed.\n",
    "            seedv_len <- length(seedv)\n",
    "            seed_scores <- rep(NA, seedv_len)\n",
    "    \n",
    "            for(h in 1:seedv_len) {\n",
    "                # shuffle dat\n",
    "                cur_seed <- seedv[h]\n",
    "                set.seed(cur_seed)\n",
    "                smp <- sample(rownames(dat), nrow(dat), replace= FALSE)\n",
    "                dat <- dat[smp,]\n",
    "    \n",
    "                # Each element of row_list will be the rows we pick\n",
    "                # out for one of the folds.  E.g., the first element\n",
    "                # of row_list will contain the rows we want for the\n",
    "                # first fold, the second element of row_list will\n",
    "                # contain the rows we want for the second fold, and\n",
    "                # so forth.\n",
    "                row_list <- vector(\"list\", length=folds)\n",
    "                names(row_list) <- as.character(1:folds)\n",
    "                startpt <- 1\n",
    "                for(k in 1:folds) {\n",
    "                    endpt <- startpt + segmentsv[k] - 1\n",
    "                    stopifnot(endpt <= nrow(dat))\n",
    "                    row_list[[k]] <- rownames(dat)[startpt:endpt]\n",
    "                    startpt <- endpt + 1\n",
    "                }\n",
    "                \n",
    "                train_list <- test_list <- vector(\"list\", length= folds)\n",
    "                for(k in 1:folds) {\n",
    "                    testdat <- dat[row_list[[k]],]\n",
    "                    traindat <- dat[which(!(rownames(dat) %in% rownames(testdat))),]\n",
    "                    stopifnot((length(rownames(traindat)) + length(rownames(testdat))) == nrow(dat))\n",
    "                    test_list[[k]] <- testdat\n",
    "                    train_list[[k]] <- traindat\n",
    "                }\n",
    "                \n",
    "                # When there are only 5 folds, only 5 cores get used.\n",
    "                scores <- mcmapply(get_Acc_svm, train_list, test_list,\n",
    "                                   MoreArgs= list(gamma=gamma, cost=cost),\n",
    "                                   SIMPLIFY= TRUE, mc.cores=5)\n",
    "                # For the current seed, store the average of the accuracy\n",
    "                # scores, the average taken over the folds.\n",
    "                seed_scores[h] <- round(mean(scores), 5)\n",
    "        \n",
    "            } ## end of for-loop, index h\n",
    "            \n",
    "            # Here I am taking an average of average scores.  This\n",
    "            # could be improved by simply taking a single average.\n",
    "            datout$Acc[index] <- round(mean(seed_scores), 5)\n",
    "            \n",
    "        } ## end of for-loop, index j\n",
    "    } ## end of for-loop, index i\n",
    "    \n",
    "    return(datout)\n",
    "}\n"
   ]
  },
  {
   "cell_type": "code",
   "execution_count": 94,
   "metadata": {},
   "outputs": [
    {
     "data": {
      "text/html": [
       "'Start time: 2021-05-30 07:41:47'"
      ],
      "text/latex": [
       "'Start time: 2021-05-30 07:41:47'"
      ],
      "text/markdown": [
       "'Start time: 2021-05-30 07:41:47'"
      ],
      "text/plain": [
       "[1] \"Start time: 2021-05-30 07:41:47\""
      ]
     },
     "metadata": {},
     "output_type": "display_data"
    },
    {
     "data": {
      "text/plain": [
       "Time difference of 5.19 mins"
      ]
     },
     "metadata": {},
     "output_type": "display_data"
    },
    {
     "data": {
      "text/html": [
       "'0.03--30'"
      ],
      "text/latex": [
       "'0.03--30'"
      ],
      "text/markdown": [
       "'0.03--30'"
      ],
      "text/plain": [
       "[1] \"0.03--30\""
      ]
     },
     "metadata": {},
     "output_type": "display_data"
    },
    {
     "data": {
      "text/html": [
       "0.82814"
      ],
      "text/latex": [
       "0.82814"
      ],
      "text/markdown": [
       "0.82814"
      ],
      "text/plain": [
       "[1] 0.82814"
      ]
     },
     "metadata": {},
     "output_type": "display_data"
    }
   ],
   "source": [
    "# Find the best set of parameters.\n",
    "\n",
    "set.seed(7543)\n",
    "seed_vector <- sample(1:9999, 200, replace=FALSE)\n",
    "\n",
    "gamma_v <- seq(0.01, 0.1, by=0.01)\n",
    "cost_v <- seq(10, 50, by=10)\n",
    "\n",
    "start <- Sys.time()\n",
    "paste(\"Start time: \", start, sep=\"\")\n",
    "ans <- gridSearch_svm(seed_vector, svmtrain, gamma_v, cost_v)\n",
    "stop <- Sys.time()\n",
    "round(stop - start, 2)\n",
    "# Time difference of 5.19 mins\n",
    "\n",
    "(best_params <- ans[which(ans$Acc == max(ans$Acc)),]$params)\n",
    "# '0.03--30'\n",
    "\n",
    "(best_Acc <- ans[which(ans$Acc == max(ans$Acc)),]$Acc)\n",
    "# 0.8281\n"
   ]
  },
  {
   "cell_type": "code",
   "execution_count": 95,
   "metadata": {},
   "outputs": [
    {
     "data": {
      "text/html": [
       "'Start time: 2021-05-30 07:48:50'"
      ],
      "text/latex": [
       "'Start time: 2021-05-30 07:48:50'"
      ],
      "text/markdown": [
       "'Start time: 2021-05-30 07:48:50'"
      ],
      "text/plain": [
       "[1] \"Start time: 2021-05-30 07:48:50\""
      ]
     },
     "metadata": {},
     "output_type": "display_data"
    },
    {
     "data": {
      "text/plain": [
       "Time difference of 1.17 mins"
      ]
     },
     "metadata": {},
     "output_type": "display_data"
    },
    {
     "data": {
      "text/html": [
       "'0.03--25'"
      ],
      "text/latex": [
       "'0.03--25'"
      ],
      "text/markdown": [
       "'0.03--25'"
      ],
      "text/plain": [
       "[1] \"0.03--25\""
      ]
     },
     "metadata": {},
     "output_type": "display_data"
    },
    {
     "data": {
      "text/html": [
       "0.82811"
      ],
      "text/latex": [
       "0.82811"
      ],
      "text/markdown": [
       "0.82811"
      ],
      "text/plain": [
       "[1] 0.82811"
      ]
     },
     "metadata": {},
     "output_type": "display_data"
    }
   ],
   "source": [
    "# Refine the search.\n",
    "\n",
    "set.seed(1981)\n",
    "seed_vector <- sample(1:9999, 250, replace=FALSE)\n",
    "\n",
    "gamma_v <- seq(0.02, 0.04, by=0.01)\n",
    "cost_v <- c(25, 30, 35)\n",
    "\n",
    "start <- Sys.time()\n",
    "paste(\"Start time: \", start, sep=\"\")\n",
    "ans <- gridSearch_svm(seed_vector, svmtrain, gamma_v, cost_v)\n",
    "stop <- Sys.time()\n",
    "round(stop - start, 2)\n",
    "# Time difference of 1.17 mins\n",
    "\n",
    "(best_params <- ans[which(ans$Acc == max(ans$Acc)),]$params)\n",
    "# '0.03--25'\n",
    "\n",
    "(best_Acc <- ans[which(ans$Acc == max(ans$Acc)),]$Acc)\n",
    "# 0.8281\n"
   ]
  },
  {
   "cell_type": "markdown",
   "metadata": {},
   "source": [
    "### Get scores for best svm (svm02)"
   ]
  },
  {
   "cell_type": "code",
   "execution_count": 96,
   "metadata": {},
   "outputs": [
    {
     "name": "stdout",
     "output_type": "stream",
     "text": [
      "   1  2  3 class.error\n",
      "1 55  4  0      0.0678\n",
      "2 12 53  6      0.2535\n",
      "3  0  3 45      0.0625\n"
     ]
    },
    {
     "data": {
      "text/html": [
       "''"
      ],
      "text/latex": [
       "''"
      ],
      "text/markdown": [
       "''"
      ],
      "text/plain": [
       "[1] \"\""
      ]
     },
     "metadata": {},
     "output_type": "display_data"
    },
    {
     "data": {
      "text/html": [
       "'Accuracy score for svm02 (best svm): 0.8596'"
      ],
      "text/latex": [
       "'Accuracy score for svm02 (best svm): 0.8596'"
      ],
      "text/markdown": [
       "'Accuracy score for svm02 (best svm): 0.8596'"
      ],
      "text/plain": [
       "[1] \"Accuracy score for svm02 (best svm): 0.8596\""
      ]
     },
     "metadata": {},
     "output_type": "display_data"
    }
   ],
   "source": [
    "# Construct an svm with the identified parameters.\n",
    "\n",
    "# Set probability=TRUE in order to get probability estimates\n",
    "# from the output.\n",
    "svm02 <- svm(I(as.factor(Type)) ~ ., data=svm_scaled, kernel=\"radial\",\n",
    "             gamma= 0.03, cost= 25, scale=FALSE, probability=TRUE)\n",
    "\n",
    "preds <- as.factor(fitted(svm02))\n",
    "ans <- get_confusion(preds, svm_scaled[, \"Type\", drop=FALSE])\n",
    "print(ans[[1]])\n",
    "\"\"\n",
    "paste0(\"Accuracy score for svm02 (best svm): \", as.character(ans[[2]]))\n",
    "# 0.8596\n",
    "\n",
    "# 25 of the 178 records are misclassified.\n"
   ]
  },
  {
   "cell_type": "markdown",
   "metadata": {},
   "source": [
    "## Get comparative cross-val score for best svm model"
   ]
  },
  {
   "cell_type": "code",
   "execution_count": 97,
   "metadata": {},
   "outputs": [],
   "source": [
    "# Function to obtain a cross-validation score, averaging the\n",
    "# accuracy scores of the folds.  This function is called from\n",
    "# compute_cvScore_svm.\n",
    "\n",
    "get_cvScore_svm02 <- function(seed, dat, folds= 5) {\n",
    "    \n",
    "    # divide dat by the number of folds \n",
    "    segment_size <- round(nrow(dat)/folds)\n",
    "    diff <- nrow(dat) - folds * segment_size\n",
    "    last_seg_size <- segment_size + diff\n",
    "    segmentsv <- c(rep(segment_size, (folds - 1)), last_seg_size)\n",
    "    stopifnot(sum(segmentsv) == nrow(dat))\n",
    "    \n",
    "    # shuffle dat\n",
    "    set.seed(seed)\n",
    "    smp <- sample(rownames(dat), nrow(dat), replace= FALSE)\n",
    "    dat <- dat[smp,]\n",
    "    \n",
    "    # split the data into the folds\n",
    "    row_list <- vector(\"list\", length= folds)\n",
    "    names(row_list) <- as.character(1:folds)\n",
    "    startpt <- 1\n",
    "    for(i in 1:folds) {\n",
    "        endpt <- startpt + segmentsv[i] - 1\n",
    "        stopifnot(endpt <= nrow(dat))\n",
    "        row_list[[i]] <- rownames(dat)[startpt:endpt]\n",
    "        startpt <- endpt + 1\n",
    "    }\n",
    "    \n",
    "    train_list <- test_list <- vector(\"list\", length= folds)\n",
    "    for(j in 1:folds) {\n",
    "        testdat <- dat[row_list[[j]],]\n",
    "        traindat <- dat[which(!(rownames(dat) %in% rownames(testdat))),]\n",
    "        stopifnot((length(rownames(traindat)) + length(rownames(testdat))) == dim(dat)[1])\n",
    "        test_list[[j]] <- testdat\n",
    "        train_list[[j]] <- traindat\n",
    "    }\n",
    "\n",
    "    scores <- mcmapply(get_Acc_svm, train_list, test_list,\n",
    "                       MoreArgs= list(gamma=0.03, cost=25),\n",
    "                       SIMPLIFY= TRUE, mc.cores=5)\n",
    "    \n",
    "    # The following average is over the 5 folds created using\n",
    "    # the current seed.\n",
    "    return(round(mean(scores), 5))\n",
    "}\n"
   ]
  },
  {
   "cell_type": "code",
   "execution_count": 98,
   "metadata": {},
   "outputs": [],
   "source": [
    "# Function to get a cross-val accuracy score over many \n",
    "# folds for the svm02 model.\n",
    "\n",
    "compute_cvScore_svm <- function(seedv, dat) {\n",
    "    \n",
    "    seedv_len <- length(seedv)\n",
    "    result <- rep(NA, length=seedv_len)\n",
    "    names(result) <- as.character(seedv)\n",
    "    \n",
    "    for(i in 1:seedv_len) {\n",
    "        cur.seed <- seedv[i]\n",
    "        # For each seed in seedv, compute a cross-val\n",
    "        # accuracy score.\n",
    "        result[i] <- get_cvScore_svm02(cur.seed, dat)\n",
    "    }\n",
    "    return(result)\n",
    "}\n"
   ]
  },
  {
   "cell_type": "code",
   "execution_count": 99,
   "metadata": {},
   "outputs": [
    {
     "data": {
      "text/html": [
       "'Start time: 2021-05-30 07:53:25'"
      ],
      "text/latex": [
       "'Start time: 2021-05-30 07:53:25'"
      ],
      "text/markdown": [
       "'Start time: 2021-05-30 07:53:25'"
      ],
      "text/plain": [
       "[1] \"Start time: 2021-05-30 07:53:25\""
      ]
     },
     "metadata": {},
     "output_type": "display_data"
    },
    {
     "data": {
      "text/plain": [
       "Time difference of 1.04 mins"
      ]
     },
     "metadata": {},
     "output_type": "display_data"
    }
   ],
   "source": [
    "# Again, use the same initial seed we used for\n",
    "# these scores above.  The result is over 10000 folds.\n",
    "\n",
    "set.seed(1931)\n",
    "seed_vector <- sample(1:9999, 2000, replace=FALSE)\n",
    "\n",
    "start <- Sys.time()\n",
    "paste(\"Start time: \", start, sep=\"\")\n",
    "ans <- compute_cvScore_svm(seed_vector, svmtrain)\n",
    "stop <- Sys.time()\n",
    "round(stop - start, 2)\n",
    "# Time difference of 1.04 mins\n"
   ]
  },
  {
   "cell_type": "code",
   "execution_count": 100,
   "metadata": {},
   "outputs": [
    {
     "data": {
      "text/plain": [
       "   Min. 1st Qu.  Median    Mean 3rd Qu.    Max. \n",
       "  0.782   0.820   0.827   0.828   0.837   0.866 "
      ]
     },
     "metadata": {},
     "output_type": "display_data"
    }
   ],
   "source": [
    "summary(ans)\n"
   ]
  },
  {
   "cell_type": "code",
   "execution_count": 101,
   "metadata": {},
   "outputs": [
    {
     "data": {
      "text/html": [
       "0.8278"
      ],
      "text/latex": [
       "0.8278"
      ],
      "text/markdown": [
       "0.8278"
      ],
      "text/plain": [
       "[1] 0.8278"
      ]
     },
     "metadata": {},
     "output_type": "display_data"
    }
   ],
   "source": [
    "# This is our comparative cross-val accuracy score for the\n",
    "# current best svm model.\n",
    "\n",
    "round(mean(ans), 4)\n",
    "# 0.8278\n"
   ]
  },
  {
   "cell_type": "code",
   "execution_count": 102,
   "metadata": {},
   "outputs": [
    {
     "data": {
      "text/html": [
       "0.8271"
      ],
      "text/latex": [
       "0.8271"
      ],
      "text/markdown": [
       "0.8271"
      ],
      "text/plain": [
       "[1] 0.8271"
      ]
     },
     "metadata": {},
     "output_type": "display_data"
    },
    {
     "data": {
      "text/html": [
       "0.012713"
      ],
      "text/latex": [
       "0.012713"
      ],
      "text/markdown": [
       "0.012713"
      ],
      "text/plain": [
       "[1] 0.012713"
      ]
     },
     "metadata": {},
     "output_type": "display_data"
    }
   ],
   "source": [
    "round(median(ans), 4)\n",
    "round(sd(ans), 6)\n",
    "# median: 0.8271\n",
    "# sd: 0.012713\n"
   ]
  },
  {
   "cell_type": "code",
   "execution_count": 103,
   "metadata": {},
   "outputs": [
    {
     "data": {
      "image/png": "[encoded data removed]",
      "text/plain": [
       "Plot with title “Distribution of cross-val accuracy scores for svm02”"
      ]
     },
     "metadata": {
      "image/png": {
       "height": 360,
       "width": 600
      }
     },
     "output_type": "display_data"
    }
   ],
   "source": [
    "options(repr.plot.width= 10, repr.plot.height= 6)\n",
    "hist(ans, breaks=16, xlab=\"accuracy\",\n",
    "     main=\"Distribution of cross-val accuracy scores for svm02\")\n"
   ]
  },
  {
   "cell_type": "code",
   "execution_count": null,
   "metadata": {},
   "outputs": [],
   "source": [
    "### COMMENTS (RESULTS THUS FAR):\n",
    "\n",
    "# Thus far, svm02 is our best model.  It has a cross-val score \n",
    "# of 0.8278.  This equates to an average of 30.65 misclassified\n",
    "# for every 178 records.\n",
    "# The next best model is rfclf_best.  It has a cross-val score\n",
    "# of 0.8074; this equates to an average of 34.28 misclassified\n",
    "# for every 178 records.\n",
    "\n"
   ]
  },
  {
   "cell_type": "markdown",
   "metadata": {},
   "source": [
    "# Section 2: k-means models, base and initial hybrid"
   ]
  },
  {
   "cell_type": "markdown",
   "metadata": {},
   "source": [
    "## Base k-means model"
   ]
  },
  {
   "cell_type": "markdown",
   "metadata": {},
   "source": [
    "In Parts 1 and 2 we were able to find a k-means hybrid model which outperformed all competing models.  One thing that likely made this possible was that the base k-means model itself was nearly as good classifying the data as any of the other best models.  With the current example, the base k-means model does not perform nearly as well as the models we have already looked at.\n",
    "\n",
    "Among other things, this means that it will likely be more difficult to construct a hybrid k-means model which outperforms svm02.  It is much more difficult for the k-means algorithm to contribute something additional to the classification task when it has low performance on that task relative to the other models.  Another disadvantage for our hybrid model, relative to what we saw in Parts 1 and 2, is that here we have to beat an accuracy score of almost 83% on 178 records, whereas in Part 2 (for example) we had to beat an accuracy score of around 70.5% on 400 records.  Thus, with the wine dataset, the bar is much higher.  I could lower it a bit by choosing a different set of 3 predictors, but let's see what happens.\n",
    "\n",
    "\n",
    "\n",
    "                                    * * * * *"
   ]
  },
  {
   "cell_type": "code",
   "execution_count": 104,
   "metadata": {},
   "outputs": [
    {
     "data": {
      "text/plain": [
       "      Hue           Phenols        Alcalinity   \n",
       " Min.   :0.000   Min.   :0.000   Min.   :0.000  \n",
       " 1st Qu.:0.246   1st Qu.:0.263   1st Qu.:0.340  \n",
       " Median :0.394   Median :0.474   Median :0.459  \n",
       " Mean   :0.388   Mean   :0.453   Mean   :0.459  \n",
       " 3rd Qu.:0.520   3rd Qu.:0.628   3rd Qu.:0.562  \n",
       " Max.   :1.000   Max.   :1.000   Max.   :1.000  "
      ]
     },
     "metadata": {},
     "output_type": "display_data"
    }
   ],
   "source": [
    "# First scale the data.  Two kinds of scaling are\n",
    "# being applied here.  In Section 5 below, I employ\n",
    "# a different approach to scaling.\n",
    "\n",
    "df <- train\n",
    "\n",
    "df02 <- scale(df[, -1], center=TRUE, scale=TRUE)\n",
    "\n",
    "# Apply min-max scaling, moving all values between 0 and 1.\n",
    "df_scaled <- apply(as.matrix(df02), MARGIN=2, range01)\n",
    "df_scaled <- as.data.frame(cbind(df$Type, df_scaled),\n",
    "                           row.names=rownames(df))\n",
    "colnames(df_scaled) <- colnames(df)\n",
    "summary(df_scaled[, -1])\n"
   ]
  },
  {
   "cell_type": "code",
   "execution_count": 105,
   "metadata": {},
   "outputs": [
    {
     "name": "stdout",
     "output_type": "stream",
     "text": [
      "[1] 74 44 60\n"
     ]
    }
   ],
   "source": [
    "# Run k-means with number of clusters set to 3.\n",
    "\n",
    "set.seed(1233)\n",
    "fit_km <- kmeans(df_scaled[, -1], 3, iter.max = 50, nstart = 30)\n",
    "print(fit_km$size)\n"
   ]
  },
  {
   "cell_type": "code",
   "execution_count": 106,
   "metadata": {},
   "outputs": [
    {
     "data": {
      "text/html": [
       "<table class=\"dataframe\">\n",
       "<caption>A data.frame: 6 × 2</caption>\n",
       "<thead>\n",
       "\t<tr><th></th><th scope=col>Type</th><th scope=col>cluster</th></tr>\n",
       "\t<tr><th></th><th scope=col>&lt;dbl&gt;</th><th scope=col>&lt;dbl&gt;</th></tr>\n",
       "</thead>\n",
       "<tbody>\n",
       "\t<tr><th scope=row>113</th><td>2</td><td>2</td></tr>\n",
       "\t<tr><th scope=row>159</th><td>3</td><td>2</td></tr>\n",
       "\t<tr><th scope=row>21</th><td>1</td><td>1</td></tr>\n",
       "\t<tr><th scope=row>131</th><td>3</td><td>3</td></tr>\n",
       "\t<tr><th scope=row>137</th><td>3</td><td>3</td></tr>\n",
       "\t<tr><th scope=row>133</th><td>3</td><td>3</td></tr>\n",
       "</tbody>\n",
       "</table>\n"
      ],
      "text/latex": [
       "A data.frame: 6 × 2\n",
       "\\begin{tabular}{r|ll}\n",
       "  & Type & cluster\\\\\n",
       "  & <dbl> & <dbl>\\\\\n",
       "\\hline\n",
       "\t113 & 2 & 2\\\\\n",
       "\t159 & 3 & 2\\\\\n",
       "\t21 & 1 & 1\\\\\n",
       "\t131 & 3 & 3\\\\\n",
       "\t137 & 3 & 3\\\\\n",
       "\t133 & 3 & 3\\\\\n",
       "\\end{tabular}\n"
      ],
      "text/markdown": [
       "\n",
       "A data.frame: 6 × 2\n",
       "\n",
       "| <!--/--> | Type &lt;dbl&gt; | cluster &lt;dbl&gt; |\n",
       "|---|---|---|\n",
       "| 113 | 2 | 2 |\n",
       "| 159 | 3 | 2 |\n",
       "| 21 | 1 | 1 |\n",
       "| 131 | 3 | 3 |\n",
       "| 137 | 3 | 3 |\n",
       "| 133 | 3 | 3 |\n",
       "\n"
      ],
      "text/plain": [
       "    Type cluster\n",
       "113 2    2      \n",
       "159 3    2      \n",
       "21  1    1      \n",
       "131 3    3      \n",
       "137 3    3      \n",
       "133 3    3      "
      ]
     },
     "metadata": {},
     "output_type": "display_data"
    }
   ],
   "source": [
    "datout <- as.data.frame(cbind(df_scaled$Type, fit_km$cluster))\n",
    "colnames(datout) <- c(\"Type\", \"cluster\")\n",
    "rownames(datout) <- rownames(df_scaled)\n",
    "head(datout)\n"
   ]
  },
  {
   "cell_type": "code",
   "execution_count": 107,
   "metadata": {},
   "outputs": [
    {
     "data": {
      "text/plain": [
       "   \n",
       "     1  2  3\n",
       "  1 50  9  0\n",
       "  2 24 32 15\n",
       "  3  0  3 45"
      ]
     },
     "metadata": {},
     "output_type": "display_data"
    }
   ],
   "source": [
    "# We need to map cluster to Type level.\n",
    "\n",
    "table(datout$Type, as.factor(datout$cluster))\n"
   ]
  },
  {
   "cell_type": "code",
   "execution_count": 108,
   "metadata": {},
   "outputs": [
    {
     "name": "stdout",
     "output_type": "stream",
     "text": [
      "1 2 3 \n",
      "1 2 3 \n"
     ]
    }
   ],
   "source": [
    "ans <- as.matrix(table(datout$Type, as.factor(datout$cluster)))\n",
    "print(apply(ans, MARGIN=2, which.max))\n"
   ]
  },
  {
   "cell_type": "code",
   "execution_count": 109,
   "metadata": {},
   "outputs": [
    {
     "data": {
      "text/html": [
       "<table class=\"dataframe\">\n",
       "<caption>A matrix: 3 × 2 of type int</caption>\n",
       "<thead>\n",
       "\t<tr><th></th><th scope=col>1</th><th scope=col>2</th></tr>\n",
       "</thead>\n",
       "<tbody>\n",
       "\t<tr><th scope=row>c1levs</th><td>1</td><td>2</td></tr>\n",
       "\t<tr><th scope=row>c2levs</th><td>1</td><td>2</td></tr>\n",
       "\t<tr><th scope=row>c3levs</th><td>2</td><td>3</td></tr>\n",
       "</tbody>\n",
       "</table>\n"
      ],
      "text/latex": [
       "A matrix: 3 × 2 of type int\n",
       "\\begin{tabular}{r|ll}\n",
       "  & 1 & 2\\\\\n",
       "\\hline\n",
       "\tc1levs & 1 & 2\\\\\n",
       "\tc2levs & 1 & 2\\\\\n",
       "\tc3levs & 2 & 3\\\\\n",
       "\\end{tabular}\n"
      ],
      "text/markdown": [
       "\n",
       "A matrix: 3 × 2 of type int\n",
       "\n",
       "| <!--/--> | 1 | 2 |\n",
       "|---|---|---|\n",
       "| c1levs | 1 | 2 |\n",
       "| c2levs | 1 | 2 |\n",
       "| c3levs | 2 | 3 |\n",
       "\n"
      ],
      "text/plain": [
       "       1 2\n",
       "c1levs 1 2\n",
       "c2levs 1 2\n",
       "c3levs 2 3"
      ]
     },
     "metadata": {},
     "output_type": "display_data"
    }
   ],
   "source": [
    "# Code snippet from get_mapping function (see below).\n",
    "# (The point of this cell is to show output for a \n",
    "# section of the code in get_mapping.)\n",
    "\n",
    "ans <- table(datout$Type, as.factor(datout$cluster))\n",
    "    \n",
    "    # For each cluster, pick out the row (i.e., Type level) which\n",
    "    # the cluster will almost certainly not map to.\n",
    "    min_levs <- apply(ans, MARGIN=2, which.min)\n",
    "    c1_minlev <- as.numeric(min_levs[\"1\"])\n",
    "    c2_minlev <- as.numeric(min_levs[\"2\"])\n",
    "    c3_minlev <- as.numeric(min_levs[\"3\"])\n",
    "    \n",
    "    # For each cluster, identify the remaining Type levels to\n",
    "    # which it could map.\n",
    "    c1levs <- c(1:3)[which(!(1:3 %in% c1_minlev))]\n",
    "    c2levs <- c(1:3)[which(!(1:3 %in% c2_minlev))]\n",
    "    c3levs <- c(1:3)[which(!(1:3 %in% c3_minlev))]\n",
    "    tmpdat <- rbind(c1levs, c2levs, c3levs)\n",
    "    colnames(tmpdat) <- 1:(dim(ans)[1] - 1)\n",
    "\n",
    "tmpdat\n"
   ]
  },
  {
   "cell_type": "code",
   "execution_count": null,
   "metadata": {},
   "outputs": [],
   "source": [
    "#&* Bookmark"
   ]
  },
  {
   "cell_type": "code",
   "execution_count": 13,
   "metadata": {},
   "outputs": [],
   "source": [
    "# Helper function for function valid_mappings.\n",
    "\n",
    "all_levels <- function(rowvals, levs) {\n",
    "    \n",
    "    n_levels <- length(levs)\n",
    "    result <- FALSE\n",
    "    \n",
    "    if(sum(levs %in% rowvals) == n_levels) result <- TRUE\n",
    "    return(result)\n",
    "}\n"
   ]
  },
  {
   "cell_type": "code",
   "execution_count": null,
   "metadata": {},
   "outputs": [],
   "source": []
  },
  {
   "cell_type": "code",
   "execution_count": 111,
   "metadata": {},
   "outputs": [
    {
     "data": {
      "text/html": [
       "<style>\n",
       ".list-inline {list-style: none; margin:0; padding: 0}\n",
       ".list-inline>li {display: inline-block}\n",
       ".list-inline>li:not(:last-child)::after {content: \"\\00b7\"; padding: 0 .5ex}\n",
       "</style>\n",
       "<ol class=list-inline><li>178</li><li>2</li></ol>\n"
      ],
      "text/latex": [
       "\\begin{enumerate*}\n",
       "\\item 178\n",
       "\\item 2\n",
       "\\end{enumerate*}\n"
      ],
      "text/markdown": [
       "1. 178\n",
       "2. 2\n",
       "\n",
       "\n"
      ],
      "text/plain": [
       "[1] 178   2"
      ]
     },
     "metadata": {},
     "output_type": "display_data"
    }
   ],
   "source": [
    "# Apply mapping resulting from fit_km above.\n",
    "\n",
    "tmpdat <- datout\n",
    "tmpdat[which(tmpdat$cluster== 1),]$Type <- 1\n",
    "tmpdat[which(tmpdat$cluster== 2),]$Type <- 2\n",
    "tmpdat[which(tmpdat$cluster== 3),]$Type <- 3\n",
    "dim(tmpdat)\n"
   ]
  },
  {
   "cell_type": "code",
   "execution_count": 112,
   "metadata": {},
   "outputs": [
    {
     "name": "stdout",
     "output_type": "stream",
     "text": [
      "   1  2  3 class.error\n",
      "1 50  9  0      0.1525\n",
      "2 24 32 15      0.5493\n",
      "3  0  3 45      0.0625\n"
     ]
    },
    {
     "data": {
      "text/html": [
       "''"
      ],
      "text/latex": [
       "''"
      ],
      "text/markdown": [
       "''"
      ],
      "text/plain": [
       "[1] \"\""
      ]
     },
     "metadata": {},
     "output_type": "display_data"
    },
    {
     "name": "stdout",
     "output_type": "stream",
     "text": [
      "[1] \"Accuracy score for the base k-means model: 0.7135\"\n"
     ]
    }
   ],
   "source": [
    "# Generate confusion matrix for the k-means clusters.\n",
    "# Output accuracy for this confusion matrix.\n",
    "\n",
    "preds <- as.factor(tmpdat$Type)\n",
    "names(preds) <- rownames(tmpdat)\n",
    "ans <- get_confusion(preds, df_scaled[, \"Type\", drop=FALSE])\n",
    "print(ans$matrix)\n",
    "''\n",
    "print(paste(\"Accuracy score for the base k-means model: \", as.character(ans[[2]]), sep=\"\"))\n",
    "# 0.7135\n"
   ]
  },
  {
   "cell_type": "markdown",
   "metadata": {},
   "source": [
    "## Get comparative cross-val score for the base k-means model"
   ]
  },
  {
   "cell_type": "code",
   "execution_count": 113,
   "metadata": {},
   "outputs": [
    {
     "name": "stdout",
     "output_type": "stream",
     "text": [
      " 1  2  3 \n",
      "59 71 48 \n"
     ]
    }
   ],
   "source": [
    "ans <- as.vector(table(train$Type))\n",
    "names(ans) <- levels(train$Type); print(ans)\n"
   ]
  },
  {
   "cell_type": "code",
   "execution_count": 14,
   "metadata": {},
   "outputs": [],
   "source": [
    "# Function returning a list of possible mappings \n",
    "# between the k-means clusters and the Type levels.\n",
    "\n",
    "valid_mappings <- function(df, levs) {\n",
    "    \n",
    "    # Row 1 of df is for cluster 1, row 2 for \n",
    "    # cluster 2, and so forth.  Each row of df\n",
    "    # lists the Type levels the given cluster\n",
    "    # might be assigned to.\n",
    "    df_asList <- split(df, seq(nrow(df)))\n",
    "    ans <- expand.grid(df_asList, KEEP.OUT.ATTRS=FALSE)\n",
    "    valid_rows <- apply(as.matrix(ans), MARGIN=1, FUN=all_levels, levs=levs)\n",
    "    return(ans[valid_rows,])\n",
    "}\n"
   ]
  },
  {
   "cell_type": "code",
   "execution_count": 15,
   "metadata": {},
   "outputs": [],
   "source": [
    "# Function returning mapping between clusters and\n",
    "# Type levels.  As currently written, this function\n",
    "# only works for 3-cluster solutions.  We choose the\n",
    "# mapping that yields the best accuracy score.\n",
    "\n",
    "### NOTE: Choosing the mapping that yields the best\n",
    "### accuracy score does not give the k-means algorithm\n",
    "### an advantage over other algorithms.  This is \n",
    "### because we are comparing models based on how they\n",
    "### perform on new data, and the mapping we settle upon\n",
    "### is based on the training set data, not the validation\n",
    "### set.\n",
    "\n",
    "get_mapping <- function(dat, type_levels=c(1,2,3)) {\n",
    "    \n",
    "    # Returns a named vector on which a lookup can be done\n",
    "    # by cluster name.  Values of the vector are the Type\n",
    "    # levels.\n",
    "    \n",
    "    # dat is a dataframe with 2 columns, c(\"Type\",\"cluster\");\n",
    "    # nrow(dat) = number of predictions from the model;\n",
    "    # dat$Type = traindat$Type (from the calling function)\n",
    "    \n",
    "    # We find the correct mapping between cluster number and \n",
    "    # Type level by computing accuracy scores for the different\n",
    "    # valid mappings.   We choose the mapping with the best\n",
    "    # accuracy score.\n",
    "    \n",
    "    tbl <- as.matrix(table(dat$Type, as.factor(dat$cluster)))\n",
    "    # The colnames of tbl refer to the names of the clusters.\n",
    "    # initial_map <- apply(tbl, MARGIN=2, which.max)\n",
    "    # The names for initial_map are the cluster names; the\n",
    "    # values are the Type levels.\n",
    "    # c1_init <- as.numeric(initial_map[\"1\"])\n",
    "    # c2_init <- as.numeric(initial_map[\"2\"])\n",
    "    # c3_init <- as.numeric(initial_map[\"3\"])\n",
    "    # Ideally we have c1_init <> c2_init, c1_init <> c3_init, \n",
    "    # and c2_init <> c3_init\n",
    "    \n",
    "    # For each cluster, pick out the row (i.e., Type level) which\n",
    "    # the cluster will almost certainly not map to.\n",
    "    min_levs <- apply(tbl, MARGIN=2, which.min)\n",
    "    c1_minlev <- as.numeric(min_levs[\"1\"])\n",
    "    c2_minlev <- as.numeric(min_levs[\"2\"])\n",
    "    c3_minlev <- as.numeric(min_levs[\"3\"])\n",
    "    \n",
    "    # For each cluster, identify the remaining Type levels to\n",
    "    # which it could map.\n",
    "    c1levs <- c(1:3)[which(!(1:3 %in% c1_minlev))]\n",
    "    c2levs <- c(1:3)[which(!(1:3 %in% c2_minlev))]\n",
    "    c3levs <- c(1:3)[which(!(1:3 %in% c3_minlev))]\n",
    "    tmpdat01 <- rbind(c1levs, c2levs, c3levs)\n",
    "    colnames(tmpdat01) <- 1:(dim(tbl)[1] - 1)\n",
    "    \n",
    "    \n",
    "    # Identify valid candidate mappings.\n",
    "    df_maps <- valid_mappings(tmpdat01, type_levels)\n",
    "    rownames(df_maps) <- 1:nrow(df_maps)\n",
    "    \n",
    "    scores <- rep(NA, nrow(df_maps))    \n",
    "    for(i in 1:nrow(df_maps)) {\n",
    "        \n",
    "        cand_levs <- df_maps[i,]\n",
    "        # colnames(df_maps) are the cluster names:\n",
    "        names(cand_levs) <- colnames(df_maps)\n",
    "        \n",
    "        tmpdat <- dat\n",
    "        tmpdat[which(tmpdat$cluster== 1),]$Type <- as.numeric(cand_levs[\"1\"])\n",
    "        tmpdat[which(tmpdat$cluster== 2),]$Type <- as.numeric(cand_levs[\"2\"])\n",
    "        tmpdat[which(tmpdat$cluster== 3),]$Type <- as.numeric(cand_levs[\"3\"])\n",
    "        \n",
    "        preds <- as.factor(tmpdat$Type)\n",
    "        names(preds) <- rownames(tmpdat)\n",
    "        ans <- get_confusion(preds, dat[, \"Type\", drop=FALSE])\n",
    "        scores[i] <- ans[[2]]\n",
    "    }\n",
    "    \n",
    "    # I am transposing the extracted row in order to convert\n",
    "    # object to a vector.\n",
    "    vals <- t(df_maps[which.max(scores)[1],])[, 1]\n",
    "    vals <- as.vector(vals)\n",
    "    names(vals) <- colnames(df_maps)\n",
    "    return(vals)\n",
    "}\n"
   ]
  },
  {
   "cell_type": "code",
   "execution_count": 116,
   "metadata": {},
   "outputs": [],
   "source": [
    "# Function for obtaining average of confusion matrix \n",
    "# accuracy score. This function is called from compute_cvScore_km.\n",
    "\n",
    "get_cvScore_km <- function(traindat, valdat) {\n",
    "    \n",
    "    # Transform and scale training set data \n",
    "    df <- scale(traindat[, -1], center=TRUE, scale=TRUE)\n",
    "    centers <- attr(df, \"scaled:center\")\n",
    "    scales <- attr(df, \"scaled:scale\")\n",
    "    df <- as.matrix(df)\n",
    "    traindat_scaled <- apply(df, MARGIN=2, range01)\n",
    "    colnames(traindat_scaled) <- colnames(traindat)[-1]\n",
    "    rownames(traindat_scaled) <- rownames(traindat)\n",
    "    \n",
    "    # Get mins and maxs for scaling of valdat.\n",
    "    traindat_mins <- as.numeric(apply(df, MARGIN=2, min))\n",
    "    traindat_maxs <- as.numeric(apply(df, MARGIN=2, max))\n",
    "    \n",
    "    \n",
    "    ############################\n",
    "    # Transform and scale valdat.\n",
    "    df02 <- scale(valdat[, -1], center=centers, scale=scales)\n",
    "    df02_t <- t(as.matrix(df02))\n",
    "    df02_asList <- split(df02_t, seq(nrow(df02_t)))\n",
    "    names(df02_asList) <- colnames(valdat)[-1]\n",
    "\n",
    "    valdat_scaled <- mapply(range02, df02_asList, traindat_mins, \n",
    "                            traindat_maxs)\n",
    "    # The next step is crucial.\n",
    "    valdat_scaled <- as.data.frame(valdat_scaled, row.names=rownames(valdat))\n",
    "    colnames(valdat_scaled) <- colnames(valdat)[-1]\n",
    "    \n",
    "    \n",
    "    #########################\n",
    "    # Construct k-means model.\n",
    "\n",
    "    kmod <- suppressWarnings(kmeans(traindat_scaled, 3, iter.max = 50, nstart=30))\n",
    "    \n",
    "    # See how the clusters are associated with Type level.\n",
    "    dfout <- as.data.frame(cbind(traindat$Type, kmod$cluster))\n",
    "    colnames(dfout) <- c(\"Type\", \"cluster\")\n",
    "    rownames(dfout) <- rownames(traindat)\n",
    "    mapping <- get_mapping(dfout)\n",
    "    \n",
    "    #############################\n",
    "    # Apply the k-means model to valdat_scaled.\n",
    "    \n",
    "    # Each element of the following list is a row of valdat_wghts.\n",
    "    valdat_asList <- split(valdat_scaled[, colnames(kmod$centers)],\n",
    "                           seq(nrow(valdat_scaled)))\n",
    "    \n",
    "    ctr_list <- vector(\"list\", length= nrow(valdat))\n",
    "    for(i in 1:nrow(valdat)) {\n",
    "        \n",
    "        ctr_list[[i]] <- kmod$centers\n",
    "    }\n",
    "    names(ctr_list) <- rownames(valdat)\n",
    "    \n",
    "    \n",
    "    # Get the predictions for the validation set.\n",
    "    preds <- mcmapply(getCluster, valdat_asList, ctr_list,\n",
    "                      SIMPLIFY=TRUE, USE.NAMES= FALSE, mc.cores=6)\n",
    "    \n",
    "    valdat_scaled$cluster <- as.numeric(preds)\n",
    "    \n",
    "    valdat_scaled$pred_Type <- NA\n",
    "    \n",
    "    # Apply mapping to the assigned clusters.  Since valdat is \n",
    "    # quite small (around 35 records if folds = 5), and there \n",
    "    # are 3 clusters, it is possible that one of the LHS expressions\n",
    "    # below is NA.  I will make the changes if the program fails. \n",
    "    valdat_scaled[which(valdat_scaled$cluster==1), c(\"pred_Type\")] <- as.numeric(mapping[\"1\"])\n",
    "    valdat_scaled[which(valdat_scaled$cluster==2), c(\"pred_Type\")] <- as.numeric(mapping[\"2\"])\n",
    "    valdat_scaled[which(valdat_scaled$cluster==3), c(\"pred_Type\")] <- as.numeric(mapping[\"3\"])\n",
    "    \n",
    "    # Generate confusion matrix for the k-means clusters and\n",
    "    # the corresponding f-score.\n",
    "    preds <- as.factor(valdat_scaled$pred_Type)\n",
    "    names(preds) <- rownames(valdat)\n",
    "    ans <- get_confusion(preds, valdat[, \"Type\", drop=FALSE])\n",
    "    return(ans[[2]])\n",
    "}\n"
   ]
  },
  {
   "cell_type": "code",
   "execution_count": 29,
   "metadata": {},
   "outputs": [],
   "source": [
    "# Function for computing the cross-val score for the base\n",
    "# k-means model, the hybrid k-means model, and the hybrid\n",
    "# k-means model with weights.  The mapply line in the \n",
    "# following function needs to be altered to call the \n",
    "# appropriate function for the model we are working with.\n",
    "\n",
    "compute_cvScore_km <- function(seed_vector, dat, folds=5) {\n",
    "    \n",
    "    n_seeds <- length(seed_vector)\n",
    "    datout <- rep(NA, 2*n_seeds)\n",
    "    dim(datout) <- c(n_seeds, 2)\n",
    "    datout <- as.data.frame(datout)\n",
    "    colnames(datout) <- c(\"seed\", \"Acc\")\n",
    "    datout$seed <- seed_vector  \n",
    "    \n",
    "    #############################\n",
    "    # Partition the data into folds.\n",
    "        \n",
    "    # divide dat by the number of folds \n",
    "    segment_size <- round(nrow(dat)/folds)\n",
    "    diff <- nrow(dat) - folds * segment_size\n",
    "    last_seg_size <- segment_size + diff\n",
    "    segmentsv <- c(rep(segment_size, (folds - 1)), last_seg_size)\n",
    "    stopifnot(sum(segmentsv) == nrow(dat))\n",
    "\n",
    "    \n",
    "    for(h in 1:n_seeds) {\n",
    "        # shuffle dat\n",
    "        cur_seed <- seed_vector[h]\n",
    "        set.seed(cur_seed)\n",
    "        smp <- sample(rownames(dat), nrow(dat), replace= FALSE)\n",
    "        dat <- dat[smp,]\n",
    "        \n",
    "        # Each element of row_list will be the rows we pick\n",
    "        # out for one of the folds.  E.g., the first element\n",
    "        # of row_list will contain the rows we want for the\n",
    "        # first fold, the second element of row_list will\n",
    "        # contain the rows we want for the second fold, and\n",
    "        # so forth.\n",
    "        row_list <- vector(\"list\", length=folds)\n",
    "        names(row_list) <- as.character(1:folds)\n",
    "        startpt <- 1\n",
    "        for(i in 1:folds) {\n",
    "            endpt <- startpt + segmentsv[i] - 1\n",
    "            stopifnot(endpt <= nrow(dat))\n",
    "            row_list[[i]] <- rownames(dat)[startpt:endpt]\n",
    "            startpt <- endpt + 1\n",
    "        }\n",
    "    \n",
    "        train_list <- test_list <- vector(\"list\", length= folds)\n",
    "        for(j in 1:folds) {\n",
    "            testdat <- dat[row_list[[j]],]\n",
    "            traindat <- dat[which(!(rownames(dat) %in% rownames(testdat))),]\n",
    "            stopifnot((length(rownames(traindat)) + length(rownames(testdat))) == nrow(dat))\n",
    "            test_list[[j]] <- testdat\n",
    "            train_list[[j]] <- traindat\n",
    "        }\n",
    "        # When there are only 5 folds, only 5 cores get used.\n",
    "        # The next line varies based on which model we are trying to \n",
    "        # evaluate.  [*** TURN OFF mcmapply WHEN USING xgboost ***]\n",
    "        scores <- mcmapply(get_cvScore_pcaHybrid_wghts, train_list, test_list,\n",
    "                           SIMPLIFY= TRUE, mc.cores=5)\n",
    "            \n",
    "        # For the current seed, store the average of the accuracy\n",
    "        # scores, the average taken over the folds.\n",
    "        datout$Acc[h] <- round(mean(scores), 5)\n",
    "\n",
    "    } ## end of for-loop, index h\n",
    "    \n",
    "    return(datout)\n",
    "}\n"
   ]
  },
  {
   "cell_type": "code",
   "execution_count": 118,
   "metadata": {},
   "outputs": [
    {
     "data": {
      "text/html": [
       "'Start time: 2021-05-30 08:02:33'"
      ],
      "text/latex": [
       "'Start time: 2021-05-30 08:02:33'"
      ],
      "text/markdown": [
       "'Start time: 2021-05-30 08:02:33'"
      ],
      "text/plain": [
       "[1] \"Start time: 2021-05-30 08:02:33\""
      ]
     },
     "metadata": {},
     "output_type": "display_data"
    },
    {
     "data": {
      "text/plain": [
       "Time difference of 5.48 mins"
      ]
     },
     "metadata": {},
     "output_type": "display_data"
    }
   ],
   "source": [
    "# Again, use the same initial seed that we have \n",
    "# been using for this score.\n",
    "\n",
    "set.seed(1931)\n",
    "seed_vector <- sample(1:9999, 2000, replace=FALSE)\n",
    "\n",
    "start <- Sys.time()\n",
    "paste(\"Start time: \", start, sep=\"\")\n",
    "ans <- compute_cvScore_km(seed_vector, train)\n",
    "stop <- Sys.time()\n",
    "round(stop - start, 2)\n",
    "# Time difference of 5.48 mins\n"
   ]
  },
  {
   "cell_type": "code",
   "execution_count": 119,
   "metadata": {},
   "outputs": [
    {
     "data": {
      "text/plain": [
       "   Min. 1st Qu.  Median    Mean 3rd Qu.    Max. \n",
       "  0.624   0.692   0.708   0.710   0.725   0.792 "
      ]
     },
     "metadata": {},
     "output_type": "display_data"
    }
   ],
   "source": [
    "summary(ans$Acc)\n"
   ]
  },
  {
   "cell_type": "code",
   "execution_count": 120,
   "metadata": {},
   "outputs": [
    {
     "data": {
      "text/html": [
       "0.7095"
      ],
      "text/latex": [
       "0.7095"
      ],
      "text/markdown": [
       "0.7095"
      ],
      "text/plain": [
       "[1] 0.7095"
      ]
     },
     "metadata": {},
     "output_type": "display_data"
    }
   ],
   "source": [
    "round(mean(ans$Acc), 4)\n",
    "# 0.7095\n",
    "\n",
    "# svm02 has an accuracy score that is more than 11 percentage\n",
    "# points greater.\n"
   ]
  },
  {
   "cell_type": "code",
   "execution_count": 121,
   "metadata": {},
   "outputs": [
    {
     "data": {
      "text/html": [
       "0.7085"
      ],
      "text/latex": [
       "0.7085"
      ],
      "text/markdown": [
       "0.7085"
      ],
      "text/plain": [
       "[1] 0.7085"
      ]
     },
     "metadata": {},
     "output_type": "display_data"
    },
    {
     "data": {
      "text/html": [
       "0.024145"
      ],
      "text/latex": [
       "0.024145"
      ],
      "text/markdown": [
       "0.024145"
      ],
      "text/plain": [
       "[1] 0.024145"
      ]
     },
     "metadata": {},
     "output_type": "display_data"
    }
   ],
   "source": [
    "round(median(ans$Acc), 4)\n",
    "round(sd(ans$Acc), 6)\n",
    "# median: 0.7085\n",
    "# sd: 0.024145\n"
   ]
  },
  {
   "cell_type": "code",
   "execution_count": 122,
   "metadata": {},
   "outputs": [
    {
     "data": {
      "image/png": "[encoded data removed]",
      "text/plain": [
       "Plot with title “Distribution of cross-val accuracy scores for base k-means model”"
      ]
     },
     "metadata": {
      "image/png": {
       "height": 360,
       "width": 600
      }
     },
     "output_type": "display_data"
    }
   ],
   "source": [
    "options(repr.plot.width= 10, repr.plot.height= 6)\n",
    "hist(ans$Acc, breaks=16, xlab=\"accuracy\",\n",
    "     main=\"Distribution of cross-val accuracy scores for base k-means model\")\n"
   ]
  },
  {
   "cell_type": "markdown",
   "metadata": {},
   "source": [
    "## First hybrid k-means model"
   ]
  },
  {
   "cell_type": "code",
   "execution_count": 128,
   "metadata": {},
   "outputs": [
    {
     "data": {
      "text/html": [
       "<style>\n",
       ".list-inline {list-style: none; margin:0; padding: 0}\n",
       ".list-inline>li {display: inline-block}\n",
       ".list-inline>li:not(:last-child)::after {content: \"\\00b7\"; padding: 0 .5ex}\n",
       "</style>\n",
       "<ol class=list-inline><li>0.014</li><li>0.721</li><li>0.001</li><li>0.752</li><li>0.863</li><li>0.965</li></ol>\n"
      ],
      "text/latex": [
       "\\begin{enumerate*}\n",
       "\\item 0.014\n",
       "\\item 0.721\n",
       "\\item 0.001\n",
       "\\item 0.752\n",
       "\\item 0.863\n",
       "\\item 0.965\n",
       "\\end{enumerate*}\n"
      ],
      "text/markdown": [
       "1. 0.014\n",
       "2. 0.721\n",
       "3. 0.001\n",
       "4. 0.752\n",
       "5. 0.863\n",
       "6. 0.965\n",
       "\n",
       "\n"
      ],
      "text/plain": [
       "[1] 0.014 0.721 0.001 0.752 0.863 0.965"
      ]
     },
     "metadata": {},
     "output_type": "display_data"
    },
    {
     "data": {
      "text/html": [
       "<style>\n",
       ".list-inline {list-style: none; margin:0; padding: 0}\n",
       ".list-inline>li {display: inline-block}\n",
       ".list-inline>li:not(:last-child)::after {content: \"\\00b7\"; padding: 0 .5ex}\n",
       "</style>\n",
       "<ol class=list-inline><li>0.02</li><li>0.051</li><li>0.919</li><li>0.011</li><li>0.002</li><li>0</li></ol>\n"
      ],
      "text/latex": [
       "\\begin{enumerate*}\n",
       "\\item 0.02\n",
       "\\item 0.051\n",
       "\\item 0.919\n",
       "\\item 0.011\n",
       "\\item 0.002\n",
       "\\item 0\n",
       "\\end{enumerate*}\n"
      ],
      "text/markdown": [
       "1. 0.02\n",
       "2. 0.051\n",
       "3. 0.919\n",
       "4. 0.011\n",
       "5. 0.002\n",
       "6. 0\n",
       "\n",
       "\n"
      ],
      "text/plain": [
       "[1] 0.020 0.051 0.919 0.011 0.002 0.000"
      ]
     },
     "metadata": {},
     "output_type": "display_data"
    }
   ],
   "source": [
    "# For the probability columns, use the output from svm02.\n",
    "\n",
    "preds <- predict(svm02, newdata=svm_scaled, scale=FALSE, probability=TRUE)\n",
    "prob01 <- as.numeric(attr(preds, \"probabilities\")[, 2])\n",
    "prob02 <- as.numeric(attr(preds, \"probabilities\")[, 3])\n",
    "round(head(prob01), 3)\n",
    "round(head(prob02), 3)\n"
   ]
  },
  {
   "cell_type": "code",
   "execution_count": 127,
   "metadata": {},
   "outputs": [
    {
     "name": "stdout",
     "output_type": "stream",
     "text": [
      " num [1:178] 0.0143 0.7209 0.0013 0.7522 0.8629 ...\n"
     ]
    }
   ],
   "source": [
    "str(prob01)\n"
   ]
  },
  {
   "cell_type": "code",
   "execution_count": 129,
   "metadata": {},
   "outputs": [
    {
     "data": {
      "text/plain": [
       "      Hue           Phenols        Alcalinity        prob01       \n",
       " Min.   :0.000   Min.   :0.000   Min.   :0.000   Min.   :0.00000  \n",
       " 1st Qu.:0.246   1st Qu.:0.263   1st Qu.:0.340   1st Qu.:0.00468  \n",
       " Median :0.394   Median :0.474   Median :0.459   Median :0.02751  \n",
       " Mean   :0.388   Mean   :0.453   Mean   :0.459   Mean   :0.27161  \n",
       " 3rd Qu.:0.520   3rd Qu.:0.628   3rd Qu.:0.562   3rd Qu.:0.56923  \n",
       " Max.   :1.000   Max.   :1.000   Max.   :1.000   Max.   :1.00000  \n",
       "     prob02       \n",
       " Min.   :0.00000  \n",
       " 1st Qu.:0.00744  \n",
       " Median :0.18072  \n",
       " Mean   :0.35828  \n",
       " 3rd Qu.:0.77070  \n",
       " Max.   :1.00000  "
      ]
     },
     "metadata": {},
     "output_type": "display_data"
    }
   ],
   "source": [
    "df <- train\n",
    "\n",
    "df$prob01 <- prob01\n",
    "df$prob02 <- prob02\n",
    "\n",
    "df02 <- scale(df[, -1], center=TRUE, scale=TRUE)\n",
    "df_scaled <- apply(as.matrix(df02), MARGIN=2, range01)\n",
    "df_scaled <- as.data.frame(cbind(df$Type, df_scaled),\n",
    "                           row.names=rownames(df))\n",
    "colnames(df_scaled) <- colnames(df)\n",
    "summary(df_scaled[, -1])\n"
   ]
  },
  {
   "cell_type": "code",
   "execution_count": 130,
   "metadata": {},
   "outputs": [
    {
     "name": "stdout",
     "output_type": "stream",
     "text": [
      "[1] 68 59 51\n"
     ]
    }
   ],
   "source": [
    "# Run k-means with number of clusters set to 3.\n",
    "\n",
    "set.seed(1233)\n",
    "fit_km <- kmeans(df_scaled[, -1], 3, iter.max = 50, nstart = 30)\n",
    "print(fit_km$size)\n"
   ]
  },
  {
   "cell_type": "code",
   "execution_count": 131,
   "metadata": {},
   "outputs": [
    {
     "data": {
      "text/html": [
       "<table class=\"dataframe\">\n",
       "<caption>A data.frame: 6 × 2</caption>\n",
       "<thead>\n",
       "\t<tr><th></th><th scope=col>Type</th><th scope=col>cluster</th></tr>\n",
       "\t<tr><th></th><th scope=col>&lt;dbl&gt;</th><th scope=col>&lt;dbl&gt;</th></tr>\n",
       "</thead>\n",
       "<tbody>\n",
       "\t<tr><th scope=row>113</th><td>2</td><td>2</td></tr>\n",
       "\t<tr><th scope=row>159</th><td>3</td><td>3</td></tr>\n",
       "\t<tr><th scope=row>21</th><td>1</td><td>1</td></tr>\n",
       "\t<tr><th scope=row>131</th><td>3</td><td>3</td></tr>\n",
       "\t<tr><th scope=row>137</th><td>3</td><td>3</td></tr>\n",
       "\t<tr><th scope=row>133</th><td>3</td><td>3</td></tr>\n",
       "</tbody>\n",
       "</table>\n"
      ],
      "text/latex": [
       "A data.frame: 6 × 2\n",
       "\\begin{tabular}{r|ll}\n",
       "  & Type & cluster\\\\\n",
       "  & <dbl> & <dbl>\\\\\n",
       "\\hline\n",
       "\t113 & 2 & 2\\\\\n",
       "\t159 & 3 & 3\\\\\n",
       "\t21 & 1 & 1\\\\\n",
       "\t131 & 3 & 3\\\\\n",
       "\t137 & 3 & 3\\\\\n",
       "\t133 & 3 & 3\\\\\n",
       "\\end{tabular}\n"
      ],
      "text/markdown": [
       "\n",
       "A data.frame: 6 × 2\n",
       "\n",
       "| <!--/--> | Type &lt;dbl&gt; | cluster &lt;dbl&gt; |\n",
       "|---|---|---|\n",
       "| 113 | 2 | 2 |\n",
       "| 159 | 3 | 3 |\n",
       "| 21 | 1 | 1 |\n",
       "| 131 | 3 | 3 |\n",
       "| 137 | 3 | 3 |\n",
       "| 133 | 3 | 3 |\n",
       "\n"
      ],
      "text/plain": [
       "    Type cluster\n",
       "113 2    2      \n",
       "159 3    3      \n",
       "21  1    1      \n",
       "131 3    3      \n",
       "137 3    3      \n",
       "133 3    3      "
      ]
     },
     "metadata": {},
     "output_type": "display_data"
    }
   ],
   "source": [
    "datout <- as.data.frame(cbind(df_scaled$Type, fit_km$cluster))\n",
    "colnames(datout) <- c(\"Type\", \"cluster\")\n",
    "rownames(datout) <- rownames(df_scaled)\n",
    "head(datout)\n"
   ]
  },
  {
   "cell_type": "code",
   "execution_count": 132,
   "metadata": {},
   "outputs": [
    {
     "data": {
      "text/plain": [
       "   \n",
       "     1  2  3\n",
       "  1 55  4  0\n",
       "  2 13 52  6\n",
       "  3  0  3 45"
      ]
     },
     "metadata": {},
     "output_type": "display_data"
    }
   ],
   "source": [
    "# Map cluster to Type level.\n",
    "\n",
    "table(datout$Type, as.factor(datout$cluster))\n"
   ]
  },
  {
   "cell_type": "code",
   "execution_count": 133,
   "metadata": {},
   "outputs": [
    {
     "data": {
      "text/html": [
       "<style>\n",
       ".list-inline {list-style: none; margin:0; padding: 0}\n",
       ".list-inline>li {display: inline-block}\n",
       ".list-inline>li:not(:last-child)::after {content: \"\\00b7\"; padding: 0 .5ex}\n",
       "</style>\n",
       "<ol class=list-inline><li>178</li><li>2</li></ol>\n"
      ],
      "text/latex": [
       "\\begin{enumerate*}\n",
       "\\item 178\n",
       "\\item 2\n",
       "\\end{enumerate*}\n"
      ],
      "text/markdown": [
       "1. 178\n",
       "2. 2\n",
       "\n",
       "\n"
      ],
      "text/plain": [
       "[1] 178   2"
      ]
     },
     "metadata": {},
     "output_type": "display_data"
    }
   ],
   "source": [
    "tmpdat <- datout\n",
    "tmpdat[which(tmpdat$cluster== 1),]$Type <- 1\n",
    "tmpdat[which(tmpdat$cluster== 2),]$Type <- 2\n",
    "tmpdat[which(tmpdat$cluster== 3),]$Type <- 3\n",
    "dim(tmpdat)\n"
   ]
  },
  {
   "cell_type": "code",
   "execution_count": 134,
   "metadata": {},
   "outputs": [
    {
     "name": "stdout",
     "output_type": "stream",
     "text": [
      "   1  2  3 class.error\n",
      "1 55  4  0      0.0678\n",
      "2 13 52  6      0.2676\n",
      "3  0  3 45      0.0625\n"
     ]
    },
    {
     "data": {
      "text/html": [
       "''"
      ],
      "text/latex": [
       "''"
      ],
      "text/markdown": [
       "''"
      ],
      "text/plain": [
       "[1] \"\""
      ]
     },
     "metadata": {},
     "output_type": "display_data"
    },
    {
     "name": "stdout",
     "output_type": "stream",
     "text": [
      "[1] \"Accuracy score for the hybrid k-means model: 0.8539\"\n"
     ]
    }
   ],
   "source": [
    "# Generate confusion matrix for the k-means clusters.\n",
    "\n",
    "preds <- as.factor(tmpdat$Type)\n",
    "names(preds) <- rownames(tmpdat)\n",
    "ans <- get_confusion(preds, df_scaled[, \"Type\", drop=FALSE])\n",
    "print(ans$matrix)\n",
    "''\n",
    "print(paste(\"Accuracy score for the hybrid k-means model: \", as.character(ans[[2]]), sep=\"\"))\n",
    "# 0.8539\n"
   ]
  },
  {
   "cell_type": "markdown",
   "metadata": {},
   "source": [
    "## Get comparative cross-val score for the hybrid model"
   ]
  },
  {
   "cell_type": "code",
   "execution_count": 135,
   "metadata": {},
   "outputs": [],
   "source": [
    "# Function for obtaining average of confusion matrix accuracy\n",
    "# score. This function is called from compute_cvScore_km.\n",
    "\n",
    "get_cvScore_hybrid <- function(traindat, valdat) {\n",
    "    \n",
    "    # Scale traindat for purpose of an svm model.\n",
    "    svm_scaled <- scale(traindat[, -1])\n",
    "    svm_centers <- attr(svm_scaled, \"scaled:center\")\n",
    "    svm_scales <- attr(svm_scaled, \"scaled:scale\")\n",
    "    svm_scaled <- as.data.frame(cbind(traindat$Type, svm_scaled),\n",
    "                                row.names=rownames(traindat))\n",
    "    colnames(svm_scaled) <- colnames(traindat)\n",
    "    \n",
    "    # This is our current best svm model for the trainset data\n",
    "    svmod <- svm(I(as.factor(Type)) ~ ., data=svm_scaled, kernel=\"radial\",\n",
    "                 gamma= 0.03, cost= 25, scale=FALSE, probability=TRUE)\n",
    "    \n",
    "    \n",
    "    preds <- predict(svmod, newdata=svm_scaled, scale=FALSE, probability=TRUE)\n",
    "    traindat$prob01 <- as.numeric(attr(preds, \"probabilities\")[, 2])\n",
    "    traindat$prob02 <- as.numeric(attr(preds, \"probabilities\")[, 3])\n",
    "    \n",
    "    \n",
    "    #############################\n",
    "    # Scale training set data for the k-means model.\n",
    "    \n",
    "    df <- scale(traindat[, -1], center=TRUE, scale=TRUE)\n",
    "    centers <- attr(df, \"scaled:center\")\n",
    "    scales <- attr(df, \"scaled:scale\")\n",
    "    df <- as.matrix(df)\n",
    "    # Move the scaled data between 0 and 1.\n",
    "    traindat_scaled <- apply(df, MARGIN=2, range01)\n",
    "    colnames(traindat_scaled) <- colnames(traindat)[-1]\n",
    "    rownames(traindat_scaled) <- rownames(traindat)\n",
    "    \n",
    "    # Get mins and maxs for scaling of valdat.\n",
    "    traindat_mins <- as.numeric(apply(df, MARGIN=2, min))\n",
    "    traindat_maxs <- as.numeric(apply(df, MARGIN=2, max))\n",
    "    \n",
    "    \n",
    "    ############################\n",
    "    # Prepare valdat for svm modeling.\n",
    "    \n",
    "    svmval_scaled <- scale(valdat[, -1], center=svm_centers, scale=svm_scales)\n",
    "    svmval_scaled <- as.data.frame(svmval_scaled, row.names=rownames(valdat))\n",
    "    \n",
    "    # Compute prob01 and prob02 columns.\n",
    "    preds01_b <- predict(svmod, newdata=svmval_scaled, scale=FALSE, probability=TRUE)\n",
    "    valdat$prob01 <- as.numeric(attr(preds01_b, \"probabilities\")[, 2])\n",
    "    valdat$prob02 <- as.numeric(attr(preds01_b, \"probabilities\")[, 3])\n",
    "\n",
    "    \n",
    "    # Scale valdat.\n",
    "    df02 <- scale(valdat[, -1], center=centers, scale=scales)\n",
    "    df02_t <- t(as.matrix(df02))\n",
    "    df02_asList <- split(df02_t, seq(nrow(df02_t)))\n",
    "    names(df02_asList) <- colnames(valdat)[-1]\n",
    "    # Applying min-max scaling here:\n",
    "    valdat_scaled <- mapply(range02, df02_asList, traindat_mins, \n",
    "                            traindat_maxs)\n",
    "    # The next step is crucial.\n",
    "    valdat_scaled <- as.data.frame(valdat_scaled, row.names=rownames(valdat))\n",
    "    colnames(valdat_scaled) <- colnames(valdat)[-1]\n",
    "    \n",
    "    \n",
    "    #############################\n",
    "    # Construct k-means model.\n",
    "\n",
    "    kmod <- kmeans(traindat_scaled, 3, iter.max = 50, nstart=30)\n",
    "    \n",
    "    # See how the clusters are associated with Type level.\n",
    "    dfout <- as.data.frame(cbind(traindat$Type, kmod$cluster))\n",
    "    colnames(dfout) <- c(\"Type\", \"cluster\")\n",
    "    rownames(dfout) <- rownames(traindat)\n",
    "    mapping <- get_mapping(dfout)\n",
    "    \n",
    "    #############################\n",
    "    # Apply the k-means model to valdat_scaled.\n",
    "    \n",
    "    # Each element of the following list is a row of valdat_scaled.\n",
    "    valdat_asList <- split(valdat_scaled[, colnames(kmod$centers)],\n",
    "                           seq(nrow(valdat_scaled)))\n",
    "    \n",
    "    ctr_list <- vector(\"list\", length= nrow(valdat))\n",
    "    for(i in 1:nrow(valdat)) {\n",
    "        \n",
    "        ctr_list[[i]] <- kmod$centers\n",
    "    }\n",
    "    names(ctr_list) <- rownames(valdat)\n",
    "    \n",
    "    \n",
    "    # Get the predictions for the validation set.\n",
    "    cluster_assgns <- mcmapply(getCluster, valdat_asList, ctr_list,\n",
    "                               SIMPLIFY=TRUE, USE.NAMES= FALSE, mc.cores=6)\n",
    "    \n",
    "    valdat_scaled$cluster <- as.numeric(cluster_assgns)\n",
    "    \n",
    "    valdat_scaled$pred_Type <- NA\n",
    "    \n",
    "    # Apply mapping to the assigned clusters.  Since valdat is \n",
    "    # quite small (around 35 records if folds = 5), and there \n",
    "    # are 3 clusters, it is possible that one of the LHS expressions\n",
    "    # below is NA.  I will make the changes if the program fails. \n",
    "    valdat_scaled[which(valdat_scaled$cluster==1), c(\"pred_Type\")] <- as.numeric(mapping[\"1\"])\n",
    "    valdat_scaled[which(valdat_scaled$cluster==2), c(\"pred_Type\")] <- as.numeric(mapping[\"2\"])\n",
    "    valdat_scaled[which(valdat_scaled$cluster==3), c(\"pred_Type\")] <- as.numeric(mapping[\"3\"])\n",
    "    \n",
    "    # Generate confusion matrix for the k-means clusters and\n",
    "    # the corresponding f-score.\n",
    "    preds <- as.factor(valdat_scaled$pred_Type)\n",
    "    names(preds) <- rownames(valdat)\n",
    "    ans <- get_confusion(preds, valdat[, \"Type\", drop=FALSE])\n",
    "    return(ans[[2]])\n",
    "}\n"
   ]
  },
  {
   "cell_type": "code",
   "execution_count": 141,
   "metadata": {},
   "outputs": [
    {
     "data": {
      "text/html": [
       "'Start time: 2021-05-30 08:43:33'"
      ],
      "text/latex": [
       "'Start time: 2021-05-30 08:43:33'"
      ],
      "text/markdown": [
       "'Start time: 2021-05-30 08:43:33'"
      ],
      "text/plain": [
       "[1] \"Start time: 2021-05-30 08:43:33\""
      ]
     },
     "metadata": {},
     "output_type": "display_data"
    },
    {
     "data": {
      "text/plain": [
       "Time difference of 6.83 mins"
      ]
     },
     "metadata": {},
     "output_type": "display_data"
    }
   ],
   "source": [
    "# Use the same initial seed as we have been using for\n",
    "# this score.\n",
    "\n",
    "set.seed(1931)\n",
    "seed_vector <- sample(1:9999, 2000, replace=FALSE)\n",
    "\n",
    "start <- Sys.time()\n",
    "paste(\"Start time: \", start, sep=\"\")\n",
    "ans <- compute_cvScore_km(seed_vector, train)\n",
    "stop <- Sys.time()\n",
    "round(stop - start, 2)\n",
    "# Time difference of 6.83 mins\n"
   ]
  },
  {
   "cell_type": "code",
   "execution_count": 142,
   "metadata": {},
   "outputs": [
    {
     "data": {
      "text/plain": [
       "   Min. 1st Qu.  Median    Mean 3rd Qu.    Max. \n",
       "  0.775   0.821   0.831   0.830   0.837   0.860 "
      ]
     },
     "metadata": {},
     "output_type": "display_data"
    }
   ],
   "source": [
    "summary(ans$Acc)\n"
   ]
  },
  {
   "cell_type": "code",
   "execution_count": 143,
   "metadata": {},
   "outputs": [
    {
     "data": {
      "text/html": [
       "0.8295"
      ],
      "text/latex": [
       "0.8295"
      ],
      "text/markdown": [
       "0.8295"
      ],
      "text/plain": [
       "[1] 0.8295"
      ]
     },
     "metadata": {},
     "output_type": "display_data"
    }
   ],
   "source": [
    "round(mean(ans$Acc), 4)\n",
    "# 0.8295\n",
    "\n",
    "# For svm02, this score was 0.8278.\n"
   ]
  },
  {
   "cell_type": "code",
   "execution_count": 144,
   "metadata": {},
   "outputs": [
    {
     "data": {
      "text/html": [
       "0.8314"
      ],
      "text/latex": [
       "0.8314"
      ],
      "text/markdown": [
       "0.8314"
      ],
      "text/plain": [
       "[1] 0.8314"
      ]
     },
     "metadata": {},
     "output_type": "display_data"
    },
    {
     "data": {
      "text/html": [
       "0.012021"
      ],
      "text/latex": [
       "0.012021"
      ],
      "text/markdown": [
       "0.012021"
      ],
      "text/plain": [
       "[1] 0.012021"
      ]
     },
     "metadata": {},
     "output_type": "display_data"
    }
   ],
   "source": [
    "round(median(ans$Acc), 4)\n",
    "round(sd(ans$Acc), 6)\n",
    "# median: 0.8314\n",
    "# sd: 0.012021\n"
   ]
  },
  {
   "cell_type": "code",
   "execution_count": 145,
   "metadata": {},
   "outputs": [
    {
     "data": {
      "image/png": "[encoded data removed]",
      "text/plain": [
       "Plot with title “Distribution of cross-val accuracy scores for hybrid k-means model”"
      ]
     },
     "metadata": {
      "image/png": {
       "height": 360,
       "width": 600
      }
     },
     "output_type": "display_data"
    }
   ],
   "source": [
    "options(repr.plot.width= 10, repr.plot.height= 6)\n",
    "hist(ans$Acc, breaks=14, xlab=\"accuracy\",\n",
    "     main=\"Distribution of cross-val accuracy scores for hybrid k-means model\")\n"
   ]
  },
  {
   "cell_type": "code",
   "execution_count": null,
   "metadata": {},
   "outputs": [],
   "source": [
    "### COMMENT:\n",
    "\n",
    "# At this point we already have a better model than our \n",
    "# previous best model, svm02.  The difference in means\n",
    "# is 0.0017.  This yields an F-statistic of 4.34, giving \n",
    "# us a two-tailed p-value of 1.42e-05.\n",
    "# The difference in median cross-val accuracy scores is\n",
    "# 0.0043.\n",
    "\n",
    "# On average, the hybrid model would misclassify 30.35 of\n",
    "# 178 new records.  svm02  would misclassify 30.65 of the\n",
    "# 178 new records.  While the improvement in the accuracy\n",
    "# score is small, it is real and shows that the k-means\n",
    "# algorithm does have something to add to the modeling.\n",
    "# In Parts 1 and 2 we saw around a 3% improvement in the \n",
    "# accuracy score, but there the number we had to beat was\n",
    "# around 70%, not the nearly 83% score we are trying to\n",
    "# beat here.  Also, in this example we are working with\n",
    "# less than half of the records of the cow data.\n"
   ]
  },
  {
   "cell_type": "markdown",
   "metadata": {},
   "source": [
    "# Section 3: Hybrid k-means model with weights"
   ]
  },
  {
   "cell_type": "markdown",
   "metadata": {},
   "source": [
    "### Find the best weights for the above hybrid model"
   ]
  },
  {
   "cell_type": "markdown",
   "metadata": {},
   "source": [
    "We find the best weights using cross-validation.  We then get the comparative cross-val score that we need.  We expect to get a slightly better score than what we have already seen."
   ]
  },
  {
   "cell_type": "code",
   "execution_count": 43,
   "metadata": {},
   "outputs": [],
   "source": [
    "# Function for obtaining average of confusion matrix \n",
    "# accuracy score. This function is called from gridSearch03.\n",
    "\n",
    "get_cvScore_kmWghts <- function(traindat, valdat, wghts) {\n",
    "    \n",
    "    # Scale traindat for purpose of an svm model.\n",
    "    svm_scaled <- scale(traindat[, -1])\n",
    "    svm_centers <- attr(svm_scaled, \"scaled:center\")\n",
    "    svm_scales <- attr(svm_scaled, \"scaled:scale\")\n",
    "    svm_scaled <- as.data.frame(cbind(traindat$Type, svm_scaled),\n",
    "                                row.names=rownames(traindat))\n",
    "    colnames(svm_scaled) <- colnames(traindat)\n",
    "    \n",
    "    # This is our current best svm model for the trainset data\n",
    "    svmod <- svm(I(as.factor(Type)) ~ ., data=svm_scaled, kernel=\"radial\",\n",
    "                 gamma= 0.03, cost= 25, scale=FALSE, probability=TRUE)\n",
    "    \n",
    "    preds <- predict(svmod, newdata=svm_scaled, scale=FALSE, probability=TRUE)\n",
    "    traindat$prob01 <- as.numeric(attr(preds, \"probabilities\")[, 2])\n",
    "    traindat$prob02 <- as.numeric(attr(preds, \"probabilities\")[, 3])\n",
    "    \n",
    "    #############################\n",
    "    # Scale training set data for the k-means model.\n",
    "    \n",
    "    df <- scale(traindat[, -1], center=TRUE, scale=TRUE)\n",
    "    centers <- attr(df, \"scaled:center\")\n",
    "    scales <- attr(df, \"scaled:scale\")\n",
    "    df <- as.matrix(df)\n",
    "    traindat_scaled <- apply(df, MARGIN=2, range01)\n",
    "    colnames(traindat_scaled) <- colnames(traindat)[-1]\n",
    "    rownames(traindat_scaled) <- rownames(traindat)\n",
    "    \n",
    "    # Get mins and maxs for scaling of valdat.\n",
    "    traindat_mins <- as.numeric(apply(df, MARGIN=2, min))\n",
    "    traindat_maxs <- as.numeric(apply(df, MARGIN=2, max))\n",
    "    \n",
    "    #############################\n",
    "    # Apply weights to traindat.  The sqrt should have\n",
    "    # been taken in the calling function.\n",
    "    cols <- names(wghts)\n",
    "    df2 <- t(t(traindat_scaled[, cols]) * as.numeric(wghts[cols]))\n",
    "    traindat_wghts <- as.data.frame(df2, row.names=rownames(traindat))\n",
    "    \n",
    "    \n",
    "    #############################################\n",
    "    # Prepare valdat.\n",
    "    #############################################\n",
    "    \n",
    "    svmval_scaled <- scale(valdat[, -1], center=svm_centers, scale=svm_scales)\n",
    "    svmval_scaled <- as.data.frame(svmval_scaled, row.names=rownames(valdat))\n",
    "    \n",
    "    # Compute prob01 and prob02 columns.\n",
    "    preds01_b <- predict(svmod, newdata=svmval_scaled, scale=FALSE, probability=TRUE)\n",
    "    valdat$prob01 <- as.numeric(attr(preds01_b, \"probabilities\")[, 2])\n",
    "    valdat$prob02 <- as.numeric(attr(preds01_b, \"probabilities\")[, 3])\n",
    "\n",
    "    # Scale valdat.\n",
    "    df02 <- scale(valdat[, -1], center=centers, scale=scales)\n",
    "    df02_t <- t(as.matrix(df02))\n",
    "    df02_asList <- split(df02_t, seq(nrow(df02_t)))\n",
    "    names(df02_asList) <- colnames(valdat)[-1]\n",
    "\n",
    "    valdat_scaled <- mapply(range02, df02_asList, traindat_mins, \n",
    "                            traindat_maxs)\n",
    "    # The next step is crucial.\n",
    "    valdat_scaled <- as.data.frame(valdat_scaled, row.names=rownames(valdat))\n",
    "    colnames(valdat_scaled) <- colnames(valdat)[-1]\n",
    "    \n",
    "    # Apply weights to valdat_scaled.\n",
    "    df4 <- t(t(valdat_scaled[, cols]) * as.numeric(wghts[cols]))\n",
    "    valdat_wghts <- as.data.frame(df4, row.names=rownames(valdat))\n",
    "    \n",
    "    \n",
    "    #############################################\n",
    "    # Construct k-means model.\n",
    "\n",
    "    kmod <- kmeans(traindat_wghts, 3, iter.max = 50, nstart=30)\n",
    "    \n",
    "    # See how the clusters are associated with Type level.\n",
    "    dfout <- as.data.frame(cbind(traindat$Type, kmod$cluster), \n",
    "                           row.names=rownames(traindat))\n",
    "    colnames(dfout) <- c(\"Type\", \"cluster\")\n",
    "    mapping <- get_mapping(dfout)\n",
    "    \n",
    "    \n",
    "    #############################\n",
    "    # Apply the k-means model to valdat_wghts.\n",
    "    \n",
    "    # Each element of the following list is a row of valdat_wghts.\n",
    "    valdat_asList <- split(valdat_wghts[, colnames(kmod$centers)],\n",
    "                           seq(nrow(valdat_wghts)))\n",
    "    \n",
    "    ctr_list <- vector(\"list\", length= nrow(valdat))\n",
    "    for(i in 1:nrow(valdat)) {\n",
    "        \n",
    "        ctr_list[[i]] <- kmod$centers\n",
    "    }\n",
    "    names(ctr_list) <- rownames(valdat)\n",
    "    \n",
    "    \n",
    "    # Get the predictions for the validation set.\n",
    "    cluster_assgns <- mcmapply(getCluster, valdat_asList, ctr_list,\n",
    "                               SIMPLIFY=TRUE, USE.NAMES= FALSE, mc.cores=6)\n",
    "    \n",
    "    valdat_wghts$cluster <- as.numeric(cluster_assgns)\n",
    "    \n",
    "    valdat_wghts$pred_Type <- NA\n",
    "    \n",
    "    # Apply mapping to the assigned clusters.  Since valdat is \n",
    "    # quite small (around 35 records if folds = 5), and there \n",
    "    # are 3 clusters, it is possible that one of the LHS expressions\n",
    "    # below is NA.  I will make the changes if the program fails. \n",
    "    valdat_wghts[which(valdat_wghts$cluster==1), c(\"pred_Type\")] <- as.numeric(mapping[\"1\"])\n",
    "    valdat_wghts[which(valdat_wghts$cluster==2), c(\"pred_Type\")] <- as.numeric(mapping[\"2\"])\n",
    "    valdat_wghts[which(valdat_wghts$cluster==3), c(\"pred_Type\")] <- as.numeric(mapping[\"3\"])\n",
    "    \n",
    "    # Generate confusion matrix for the k-means clusters and\n",
    "    # the corresponding f-score.\n",
    "    preds <- as.factor(valdat_wghts$pred_Type)\n",
    "    names(preds) <- rownames(valdat)\n",
    "    ans <- get_confusion(preds, valdat[, \"Type\", drop=FALSE])\n",
    "    return(ans[[2]])\n",
    "}\n"
   ]
  },
  {
   "cell_type": "code",
   "execution_count": 17,
   "metadata": {},
   "outputs": [],
   "source": [
    "# This grid search searches for the best set of weights to use\n",
    "# in our k-means hybrid model.  The best weights are those\n",
    "# which generalize best to the validation set.  So we look for\n",
    "# the best cross-validation accuracy score.\n",
    "# Because our training set is so small---only 178 records---we\n",
    "# need to run the gridSearch over many seeds.  Otherwise, we \n",
    "# will not get a meaningful result.\n",
    "\n",
    "gridSearch03 <- function(seed_vector, dat, df_params, folds=5) {\n",
    "    \n",
    "    datout <- rep(NA, 2*nrow(df_params))\n",
    "    dim(datout) <- c(nrow(df_params), 2)\n",
    "    datout <- as.data.frame(datout)\n",
    "    colnames(datout) <- c(\"row\", \"Acc\")\n",
    "    datout$row <- rownames(df_params)\n",
    "    \n",
    "    # We want the sqrt of the weights.\n",
    "    df_params <- df_params^0.5\n",
    "    params_rows <- rownames(df_params)\n",
    "    \n",
    "    #############################\n",
    "    # Partition the data into folds.\n",
    "        \n",
    "    # divide dat by the number of folds \n",
    "    segment_size <- round(nrow(dat)/folds)\n",
    "    diff <- nrow(dat) - folds * segment_size\n",
    "    last_seg_size <- segment_size + diff\n",
    "    segmentsv <- c(rep(segment_size, (folds - 1)), last_seg_size)\n",
    "    stopifnot(sum(segmentsv) == nrow(dat))\n",
    "    \n",
    "    \n",
    "    # Create a dataframe, each row for a distinct seed.\n",
    "    # Each column of the dataframe is for a distinct set\n",
    "    # of weights.  The entries in the cells are accuracy \n",
    "    # scores.\n",
    "    seedv_len <- length(seed_vector)\n",
    "    df_scores <- rep(NA, seedv_len*nrow(df_params))\n",
    "    dim(df_scores) <- c(seedv_len, nrow(df_params))\n",
    "    df_scores <- as.data.frame(df_scores)\n",
    "    colnames(df_scores) <- rownames(df_params)\n",
    "    rownames(df_scores) <- as.character(seed_vector)\n",
    "    \n",
    "    for(h in 1:seedv_len) {\n",
    "        # shuffle dat\n",
    "        cur_seed <- seed_vector[h]\n",
    "        set.seed(cur_seed)\n",
    "        smp <- sample(rownames(dat), nrow(dat), replace= FALSE)\n",
    "        dat <- dat[smp,]\n",
    "        \n",
    "        # Each element of row_list will be the rows we pick\n",
    "        # out for one of the folds.  E.g., the first element\n",
    "        # of row_list will contain the rows we want for the\n",
    "        # first fold, the second element of row_list will\n",
    "        # contain the rows we want for the second fold, and\n",
    "        # so forth.\n",
    "        row_list <- vector(\"list\", length=folds)\n",
    "        names(row_list) <- as.character(1:folds)\n",
    "        startpt <- 1\n",
    "        for(i in 1:folds) {\n",
    "            endpt <- startpt + segmentsv[i] - 1\n",
    "            stopifnot(endpt <= nrow(dat))\n",
    "            row_list[[i]] <- rownames(dat)[startpt:endpt]\n",
    "            startpt <- endpt + 1\n",
    "        }\n",
    "    \n",
    "        for(i in 1:nrow(df_params)) {\n",
    "            \n",
    "            cur_row <- params_rows[i]\n",
    "            wghts <- as.numeric(df_params[i,])\n",
    "            names(wghts) <- colnames(df_params)\n",
    "            train_list <- test_list <- vector(\"list\", length= folds)\n",
    "        \n",
    "            for(j in 1:folds) {\n",
    "                testdat <- dat[row_list[[j]],]\n",
    "                traindat <- dat[which(!(rownames(dat) %in% rownames(testdat))),]\n",
    "                stopifnot((length(rownames(traindat)) + length(rownames(testdat))) == nrow(dat))\n",
    "                test_list[[j]] <- testdat\n",
    "                train_list[[j]] <- traindat\n",
    "            }\n",
    "            ### Do NOT use multiple cores if xgboost is used.\n",
    "            scores <- mcmapply(get_cvScore_hybrid_pcaWghts, train_list, test_list,\n",
    "                               MoreArgs= list(wghts=wghts),\n",
    "                               SIMPLIFY= TRUE, mc.cores=5)\n",
    "            \n",
    "            # For the current seed, store the average of the accuracy\n",
    "            # scores, the average taken over the folds.\n",
    "            df_scores[as.character(cur_seed), cur_row] <- round(mean(scores), 5)\n",
    "        \n",
    "        } # end of for-loop, index i\n",
    "    } ## end of for-loop, index h\n",
    "    \n",
    "    # Compute the average over the seeds of the accuracy scores\n",
    "    # obtained for each set of parameters in df_params.\n",
    "    datout$Acc <- round(apply(df_scores, MARGIN=2, mean), 5)\n",
    "    return(datout)\n",
    "}\n"
   ]
  },
  {
   "cell_type": "code",
   "execution_count": 148,
   "metadata": {},
   "outputs": [
    {
     "data": {
      "text/html": [
       "<style>\n",
       ".list-inline {list-style: none; margin:0; padding: 0}\n",
       ".list-inline>li {display: inline-block}\n",
       ".list-inline>li:not(:last-child)::after {content: \"\\00b7\"; padding: 0 .5ex}\n",
       "</style>\n",
       "<ol class=list-inline><li>8801</li><li>5</li></ol>\n"
      ],
      "text/latex": [
       "\\begin{enumerate*}\n",
       "\\item 8801\n",
       "\\item 5\n",
       "\\end{enumerate*}\n"
      ],
      "text/markdown": [
       "1. 8801\n",
       "2. 5\n",
       "\n",
       "\n"
      ],
      "text/plain": [
       "[1] 8801    5"
      ]
     },
     "metadata": {},
     "output_type": "display_data"
    }
   ],
   "source": [
    "# There are 5 parameter lists to work with.  Start by \n",
    "# exploring the region around the space where all \n",
    "# parameters have an equal weight---in this case, a \n",
    "# weight of 0.20.\n",
    "\n",
    "lst <- vector(\"list\", length= 5)\n",
    "names(lst) <- c(colnames(train)[-1], \"prob01\",\"prob02\")\n",
    "\n",
    "lst[[1]] <- lst[[2]] <- lst[[3]] <- lst[[4]] <- lst[[5]] <- seq(0.10, 0.30, by=0.02)\n",
    "\n",
    "start <- Sys.time()\n",
    "dfc01 <- generate_combs(lst)\n",
    "stop <- Sys.time()\n",
    "# round(stop - start, 2)\n",
    "\n",
    "dim(dfc01)\n",
    "#  8,801     5\n"
   ]
  },
  {
   "cell_type": "code",
   "execution_count": 149,
   "metadata": {},
   "outputs": [
    {
     "data": {
      "text/html": [
       "<table class=\"dataframe\">\n",
       "<caption>A data.frame: 6 × 5</caption>\n",
       "<thead>\n",
       "\t<tr><th></th><th scope=col>Hue</th><th scope=col>Phenols</th><th scope=col>Alcalinity</th><th scope=col>prob01</th><th scope=col>prob02</th></tr>\n",
       "\t<tr><th></th><th scope=col>&lt;dbl&gt;</th><th scope=col>&lt;dbl&gt;</th><th scope=col>&lt;dbl&gt;</th><th scope=col>&lt;dbl&gt;</th><th scope=col>&lt;dbl&gt;</th></tr>\n",
       "</thead>\n",
       "<tbody>\n",
       "\t<tr><th scope=row>47656</th><td>0.16</td><td>0.28</td><td>0.26</td><td>0.14</td><td>0.16</td></tr>\n",
       "\t<tr><th scope=row>94566</th><td>0.28</td><td>0.20</td><td>0.10</td><td>0.20</td><td>0.22</td></tr>\n",
       "\t<tr><th scope=row>26846</th><td>0.20</td><td>0.28</td><td>0.12</td><td>0.28</td><td>0.12</td></tr>\n",
       "\t<tr><th scope=row>10006</th><td>0.22</td><td>0.24</td><td>0.20</td><td>0.24</td><td>0.10</td></tr>\n",
       "\t<tr><th scope=row>136376</th><td>0.26</td><td>0.10</td><td>0.20</td><td>0.16</td><td>0.28</td></tr>\n",
       "\t<tr><th scope=row>73086</th><td>0.12</td><td>0.10</td><td>0.30</td><td>0.30</td><td>0.18</td></tr>\n",
       "</tbody>\n",
       "</table>\n"
      ],
      "text/latex": [
       "A data.frame: 6 × 5\n",
       "\\begin{tabular}{r|lllll}\n",
       "  & Hue & Phenols & Alcalinity & prob01 & prob02\\\\\n",
       "  & <dbl> & <dbl> & <dbl> & <dbl> & <dbl>\\\\\n",
       "\\hline\n",
       "\t47656 & 0.16 & 0.28 & 0.26 & 0.14 & 0.16\\\\\n",
       "\t94566 & 0.28 & 0.20 & 0.10 & 0.20 & 0.22\\\\\n",
       "\t26846 & 0.20 & 0.28 & 0.12 & 0.28 & 0.12\\\\\n",
       "\t10006 & 0.22 & 0.24 & 0.20 & 0.24 & 0.10\\\\\n",
       "\t136376 & 0.26 & 0.10 & 0.20 & 0.16 & 0.28\\\\\n",
       "\t73086 & 0.12 & 0.10 & 0.30 & 0.30 & 0.18\\\\\n",
       "\\end{tabular}\n"
      ],
      "text/markdown": [
       "\n",
       "A data.frame: 6 × 5\n",
       "\n",
       "| <!--/--> | Hue &lt;dbl&gt; | Phenols &lt;dbl&gt; | Alcalinity &lt;dbl&gt; | prob01 &lt;dbl&gt; | prob02 &lt;dbl&gt; |\n",
       "|---|---|---|---|---|---|\n",
       "| 47656 | 0.16 | 0.28 | 0.26 | 0.14 | 0.16 |\n",
       "| 94566 | 0.28 | 0.20 | 0.10 | 0.20 | 0.22 |\n",
       "| 26846 | 0.20 | 0.28 | 0.12 | 0.28 | 0.12 |\n",
       "| 10006 | 0.22 | 0.24 | 0.20 | 0.24 | 0.10 |\n",
       "| 136376 | 0.26 | 0.10 | 0.20 | 0.16 | 0.28 |\n",
       "| 73086 | 0.12 | 0.10 | 0.30 | 0.30 | 0.18 |\n",
       "\n"
      ],
      "text/plain": [
       "       Hue  Phenols Alcalinity prob01 prob02\n",
       "47656  0.16 0.28    0.26       0.14   0.16  \n",
       "94566  0.28 0.20    0.10       0.20   0.22  \n",
       "26846  0.20 0.28    0.12       0.28   0.12  \n",
       "10006  0.22 0.24    0.20       0.24   0.10  \n",
       "136376 0.26 0.10    0.20       0.16   0.28  \n",
       "73086  0.12 0.10    0.30       0.30   0.18  "
      ]
     },
     "metadata": {},
     "output_type": "display_data"
    }
   ],
   "source": [
    "# Work with a random sample of 1000 from dfc01.  Because\n",
    "# we are looking at only around 11% of the 8,801 records,\n",
    "# we might not find the best set of weights among these\n",
    "# 8,801 records.\n",
    "\n",
    "set.seed(42)\n",
    "smp <- sample(rownames(dfc01), 1000, replace=FALSE)\n",
    "tst_params <- dfc01[smp,]\n",
    "head(tst_params)\n"
   ]
  },
  {
   "cell_type": "code",
   "execution_count": 153,
   "metadata": {},
   "outputs": [
    {
     "data": {
      "text/plain": [
       "Time difference of 37.75 mins"
      ]
     },
     "metadata": {},
     "output_type": "display_data"
    }
   ],
   "source": [
    "# Find the best weights of those in tst_params.\n",
    "# Use 11 seeds.\n",
    "\n",
    "set.seed(1233)\n",
    "seed_vector <- sample(1:9999, 11, replace=FALSE)\n",
    "\n",
    "start <- Sys.time()\n",
    "dat_result <- gridSearch03(seed_vector, train, tst_params) \n",
    "stop <- Sys.time()\n",
    "round(stop - start, 2)\n",
    "# Time difference of 37.75 mins\n"
   ]
  },
  {
   "cell_type": "code",
   "execution_count": 154,
   "metadata": {},
   "outputs": [
    {
     "data": {
      "text/plain": [
       "   Min. 1st Qu.  Median    Mean 3rd Qu.    Max. \n",
       "  0.816   0.823   0.825   0.825   0.827   0.833 "
      ]
     },
     "metadata": {},
     "output_type": "display_data"
    }
   ],
   "source": [
    "summary(dat_result$Acc)\n",
    "\n",
    "# The interquartile range is about 0.004.\n"
   ]
  },
  {
   "cell_type": "code",
   "execution_count": 155,
   "metadata": {},
   "outputs": [
    {
     "data": {
      "text/html": [
       "0.00235"
      ],
      "text/latex": [
       "0.00235"
      ],
      "text/markdown": [
       "0.00235"
      ],
      "text/plain": [
       "[1] 0.00235"
      ]
     },
     "metadata": {},
     "output_type": "display_data"
    }
   ],
   "source": [
    "# If we have only a small amount of variance in the \n",
    "# resulting accuracy scores, then weights are likely\n",
    "# not worth the trouble.  [* What I don't know at \n",
    "# this point is what is \"small\" and what is \"large\".\n",
    "# It turns out I will need much more variance than\n",
    "# 0.00235 in order for weights to make a difference\n",
    "# in the cross-val accuracy score measured over \n",
    "# 2000 folds. *]\n",
    "\n",
    "round(sd(dat_result$Acc), 5)\n",
    "# 0.00235\n"
   ]
  },
  {
   "cell_type": "code",
   "execution_count": 156,
   "metadata": {},
   "outputs": [
    {
     "data": {
      "text/html": [
       "<table class=\"dataframe\">\n",
       "<caption>A data.frame: 15 × 2</caption>\n",
       "<thead>\n",
       "\t<tr><th></th><th scope=col>row</th><th scope=col>Acc</th></tr>\n",
       "\t<tr><th></th><th scope=col>&lt;chr&gt;</th><th scope=col>&lt;dbl&gt;</th></tr>\n",
       "</thead>\n",
       "<tbody>\n",
       "\t<tr><th scope=row>917</th><td>41936 </td><td>0.83262</td></tr>\n",
       "\t<tr><th scope=row>510</th><td>83046 </td><td>0.83167</td></tr>\n",
       "\t<tr><th scope=row>704</th><td>68186 </td><td>0.83165</td></tr>\n",
       "\t<tr><th scope=row>524</th><td>72166 </td><td>0.83108</td></tr>\n",
       "\t<tr><th scope=row>430</th><td>73916 </td><td>0.83057</td></tr>\n",
       "\t<tr><th scope=row>819</th><td>155896</td><td>0.83054</td></tr>\n",
       "\t<tr><th scope=row>726</th><td>65866 </td><td>0.83010</td></tr>\n",
       "\t<tr><th scope=row>749</th><td>28266 </td><td>0.83006</td></tr>\n",
       "\t<tr><th scope=row>995</th><td>150556</td><td>0.83004</td></tr>\n",
       "\t<tr><th scope=row>216</th><td>74986 </td><td>0.83001</td></tr>\n",
       "\t<tr><th scope=row>667</th><td>117226</td><td>0.82960</td></tr>\n",
       "\t<tr><th scope=row>238</th><td>83896 </td><td>0.82959</td></tr>\n",
       "\t<tr><th scope=row>1</th><td>47656 </td><td>0.82956</td></tr>\n",
       "\t<tr><th scope=row>117</th><td>101196</td><td>0.82956</td></tr>\n",
       "\t<tr><th scope=row>251</th><td>42786 </td><td>0.82956</td></tr>\n",
       "</tbody>\n",
       "</table>\n"
      ],
      "text/latex": [
       "A data.frame: 15 × 2\n",
       "\\begin{tabular}{r|ll}\n",
       "  & row & Acc\\\\\n",
       "  & <chr> & <dbl>\\\\\n",
       "\\hline\n",
       "\t917 & 41936  & 0.83262\\\\\n",
       "\t510 & 83046  & 0.83167\\\\\n",
       "\t704 & 68186  & 0.83165\\\\\n",
       "\t524 & 72166  & 0.83108\\\\\n",
       "\t430 & 73916  & 0.83057\\\\\n",
       "\t819 & 155896 & 0.83054\\\\\n",
       "\t726 & 65866  & 0.83010\\\\\n",
       "\t749 & 28266  & 0.83006\\\\\n",
       "\t995 & 150556 & 0.83004\\\\\n",
       "\t216 & 74986  & 0.83001\\\\\n",
       "\t667 & 117226 & 0.82960\\\\\n",
       "\t238 & 83896  & 0.82959\\\\\n",
       "\t1 & 47656  & 0.82956\\\\\n",
       "\t117 & 101196 & 0.82956\\\\\n",
       "\t251 & 42786  & 0.82956\\\\\n",
       "\\end{tabular}\n"
      ],
      "text/markdown": [
       "\n",
       "A data.frame: 15 × 2\n",
       "\n",
       "| <!--/--> | row &lt;chr&gt; | Acc &lt;dbl&gt; |\n",
       "|---|---|---|\n",
       "| 917 | 41936  | 0.83262 |\n",
       "| 510 | 83046  | 0.83167 |\n",
       "| 704 | 68186  | 0.83165 |\n",
       "| 524 | 72166  | 0.83108 |\n",
       "| 430 | 73916  | 0.83057 |\n",
       "| 819 | 155896 | 0.83054 |\n",
       "| 726 | 65866  | 0.83010 |\n",
       "| 749 | 28266  | 0.83006 |\n",
       "| 995 | 150556 | 0.83004 |\n",
       "| 216 | 74986  | 0.83001 |\n",
       "| 667 | 117226 | 0.82960 |\n",
       "| 238 | 83896  | 0.82959 |\n",
       "| 1 | 47656  | 0.82956 |\n",
       "| 117 | 101196 | 0.82956 |\n",
       "| 251 | 42786  | 0.82956 |\n",
       "\n"
      ],
      "text/plain": [
       "    row    Acc    \n",
       "917 41936  0.83262\n",
       "510 83046  0.83167\n",
       "704 68186  0.83165\n",
       "524 72166  0.83108\n",
       "430 73916  0.83057\n",
       "819 155896 0.83054\n",
       "726 65866  0.83010\n",
       "749 28266  0.83006\n",
       "995 150556 0.83004\n",
       "216 74986  0.83001\n",
       "667 117226 0.82960\n",
       "238 83896  0.82959\n",
       "1   47656  0.82956\n",
       "117 101196 0.82956\n",
       "251 42786  0.82956"
      ]
     },
     "metadata": {},
     "output_type": "display_data"
    }
   ],
   "source": [
    "dat01 <- dat_result\n",
    "dat01 <- dat01[order(dat01$Acc, decreasing=TRUE),]\n",
    "dat01[1:15,]\n"
   ]
  },
  {
   "cell_type": "code",
   "execution_count": 157,
   "metadata": {},
   "outputs": [
    {
     "data": {
      "text/html": [
       "<table class=\"dataframe\">\n",
       "<caption>A data.frame: 10 × 6</caption>\n",
       "<thead>\n",
       "\t<tr><th></th><th scope=col>Hue</th><th scope=col>Phenols</th><th scope=col>Alcalinity</th><th scope=col>prob01</th><th scope=col>prob02</th><th scope=col>acc</th></tr>\n",
       "\t<tr><th></th><th scope=col>&lt;dbl&gt;</th><th scope=col>&lt;dbl&gt;</th><th scope=col>&lt;dbl&gt;</th><th scope=col>&lt;dbl&gt;</th><th scope=col>&lt;dbl&gt;</th><th scope=col>&lt;dbl&gt;</th></tr>\n",
       "</thead>\n",
       "<tbody>\n",
       "\t<tr><th scope=row>41936</th><td>0.16</td><td>0.22</td><td>0.20</td><td>0.28</td><td>0.14</td><td>0.83262</td></tr>\n",
       "\t<tr><th scope=row>83046</th><td>0.22</td><td>0.16</td><td>0.18</td><td>0.24</td><td>0.20</td><td>0.83167</td></tr>\n",
       "\t<tr><th scope=row>68186</th><td>0.24</td><td>0.20</td><td>0.14</td><td>0.24</td><td>0.18</td><td>0.83165</td></tr>\n",
       "\t<tr><th scope=row>72166</th><td>0.20</td><td>0.18</td><td>0.14</td><td>0.30</td><td>0.18</td><td>0.83108</td></tr>\n",
       "\t<tr><th scope=row>73916</th><td>0.22</td><td>0.28</td><td>0.20</td><td>0.10</td><td>0.20</td><td>0.83057</td></tr>\n",
       "\t<tr><th scope=row>155896</th><td>0.16</td><td>0.18</td><td>0.12</td><td>0.24</td><td>0.30</td><td>0.83054</td></tr>\n",
       "\t<tr><th scope=row>65866</th><td>0.26</td><td>0.16</td><td>0.20</td><td>0.20</td><td>0.18</td><td>0.83010</td></tr>\n",
       "\t<tr><th scope=row>28266</th><td>0.22</td><td>0.22</td><td>0.14</td><td>0.30</td><td>0.12</td><td>0.83006</td></tr>\n",
       "\t<tr><th scope=row>150556</th><td>0.28</td><td>0.14</td><td>0.12</td><td>0.16</td><td>0.30</td><td>0.83004</td></tr>\n",
       "\t<tr><th scope=row>74986</th><td>0.28</td><td>0.24</td><td>0.16</td><td>0.12</td><td>0.20</td><td>0.83001</td></tr>\n",
       "</tbody>\n",
       "</table>\n"
      ],
      "text/latex": [
       "A data.frame: 10 × 6\n",
       "\\begin{tabular}{r|llllll}\n",
       "  & Hue & Phenols & Alcalinity & prob01 & prob02 & acc\\\\\n",
       "  & <dbl> & <dbl> & <dbl> & <dbl> & <dbl> & <dbl>\\\\\n",
       "\\hline\n",
       "\t41936 & 0.16 & 0.22 & 0.20 & 0.28 & 0.14 & 0.83262\\\\\n",
       "\t83046 & 0.22 & 0.16 & 0.18 & 0.24 & 0.20 & 0.83167\\\\\n",
       "\t68186 & 0.24 & 0.20 & 0.14 & 0.24 & 0.18 & 0.83165\\\\\n",
       "\t72166 & 0.20 & 0.18 & 0.14 & 0.30 & 0.18 & 0.83108\\\\\n",
       "\t73916 & 0.22 & 0.28 & 0.20 & 0.10 & 0.20 & 0.83057\\\\\n",
       "\t155896 & 0.16 & 0.18 & 0.12 & 0.24 & 0.30 & 0.83054\\\\\n",
       "\t65866 & 0.26 & 0.16 & 0.20 & 0.20 & 0.18 & 0.83010\\\\\n",
       "\t28266 & 0.22 & 0.22 & 0.14 & 0.30 & 0.12 & 0.83006\\\\\n",
       "\t150556 & 0.28 & 0.14 & 0.12 & 0.16 & 0.30 & 0.83004\\\\\n",
       "\t74986 & 0.28 & 0.24 & 0.16 & 0.12 & 0.20 & 0.83001\\\\\n",
       "\\end{tabular}\n"
      ],
      "text/markdown": [
       "\n",
       "A data.frame: 10 × 6\n",
       "\n",
       "| <!--/--> | Hue &lt;dbl&gt; | Phenols &lt;dbl&gt; | Alcalinity &lt;dbl&gt; | prob01 &lt;dbl&gt; | prob02 &lt;dbl&gt; | acc &lt;dbl&gt; |\n",
       "|---|---|---|---|---|---|---|\n",
       "| 41936 | 0.16 | 0.22 | 0.20 | 0.28 | 0.14 | 0.83262 |\n",
       "| 83046 | 0.22 | 0.16 | 0.18 | 0.24 | 0.20 | 0.83167 |\n",
       "| 68186 | 0.24 | 0.20 | 0.14 | 0.24 | 0.18 | 0.83165 |\n",
       "| 72166 | 0.20 | 0.18 | 0.14 | 0.30 | 0.18 | 0.83108 |\n",
       "| 73916 | 0.22 | 0.28 | 0.20 | 0.10 | 0.20 | 0.83057 |\n",
       "| 155896 | 0.16 | 0.18 | 0.12 | 0.24 | 0.30 | 0.83054 |\n",
       "| 65866 | 0.26 | 0.16 | 0.20 | 0.20 | 0.18 | 0.83010 |\n",
       "| 28266 | 0.22 | 0.22 | 0.14 | 0.30 | 0.12 | 0.83006 |\n",
       "| 150556 | 0.28 | 0.14 | 0.12 | 0.16 | 0.30 | 0.83004 |\n",
       "| 74986 | 0.28 | 0.24 | 0.16 | 0.12 | 0.20 | 0.83001 |\n",
       "\n"
      ],
      "text/plain": [
       "       Hue  Phenols Alcalinity prob01 prob02 acc    \n",
       "41936  0.16 0.22    0.20       0.28   0.14   0.83262\n",
       "83046  0.22 0.16    0.18       0.24   0.20   0.83167\n",
       "68186  0.24 0.20    0.14       0.24   0.18   0.83165\n",
       "72166  0.20 0.18    0.14       0.30   0.18   0.83108\n",
       "73916  0.22 0.28    0.20       0.10   0.20   0.83057\n",
       "155896 0.16 0.18    0.12       0.24   0.30   0.83054\n",
       "65866  0.26 0.16    0.20       0.20   0.18   0.83010\n",
       "28266  0.22 0.22    0.14       0.30   0.12   0.83006\n",
       "150556 0.28 0.14    0.12       0.16   0.30   0.83004\n",
       "74986  0.28 0.24    0.16       0.12   0.20   0.83001"
      ]
     },
     "metadata": {},
     "output_type": "display_data"
    }
   ],
   "source": [
    "bestrows <- as.character(dat01$row)[1:10]\n",
    "acc <- dat01[1:10, c(\"Acc\")]\n",
    "dat02 <- cbind(dfc01[bestrows, ], acc)\n",
    "dat02\n"
   ]
  },
  {
   "cell_type": "code",
   "execution_count": null,
   "metadata": {},
   "outputs": [],
   "source": [
    "### COMMENT:\n",
    "\n",
    "# Use weights in row 41936: 16, 22, 20, 28, 14.\n"
   ]
  },
  {
   "cell_type": "code",
   "execution_count": 158,
   "metadata": {},
   "outputs": [
    {
     "data": {
      "text/html": [
       "<style>\n",
       ".list-inline {list-style: none; margin:0; padding: 0}\n",
       ".list-inline>li {display: inline-block}\n",
       ".list-inline>li:not(:last-child)::after {content: \"\\00b7\"; padding: 0 .5ex}\n",
       "</style>\n",
       "<ol class=list-inline><li>235</li><li>5</li></ol>\n"
      ],
      "text/latex": [
       "\\begin{enumerate*}\n",
       "\\item 235\n",
       "\\item 5\n",
       "\\end{enumerate*}\n"
      ],
      "text/markdown": [
       "1. 235\n",
       "2. 5\n",
       "\n",
       "\n"
      ],
      "text/plain": [
       "[1] 235   5"
      ]
     },
     "metadata": {},
     "output_type": "display_data"
    }
   ],
   "source": [
    "# Refine search.\n",
    "\n",
    "lst <- vector(\"list\", length= 5)\n",
    "names(lst) <- c(colnames(train)[-1], \"prob01\",\"prob02\")\n",
    "\n",
    "lst[[1]] <- seq(0.15, 0.17, by=0.01)\n",
    "lst[[2]] <- seq(0.20, 0.24, by=0.01)\n",
    "lst[[3]] <- seq(0.18, 0.21, by=0.01)\n",
    "lst[[4]] <- seq(0.27, 0.31, by=0.01)\n",
    "lst[[5]] <- seq(0.12, 0.19, by=0.01)\n",
    "\n",
    "start <- Sys.time()\n",
    "dfc02 <- generate_combs(lst)\n",
    "stop <- Sys.time()\n",
    "# round(stop - start, 2)\n",
    "\n",
    "dim(dfc02)\n",
    "#  235     5\n"
   ]
  },
  {
   "cell_type": "code",
   "execution_count": 159,
   "metadata": {},
   "outputs": [
    {
     "data": {
      "text/html": [
       "'Start time: 2021-05-30 10:22:31'"
      ],
      "text/latex": [
       "'Start time: 2021-05-30 10:22:31'"
      ],
      "text/markdown": [
       "'Start time: 2021-05-30 10:22:31'"
      ],
      "text/plain": [
       "[1] \"Start time: 2021-05-30 10:22:31\""
      ]
     },
     "metadata": {},
     "output_type": "display_data"
    },
    {
     "data": {
      "text/plain": [
       "Time difference of 8.52 mins"
      ]
     },
     "metadata": {},
     "output_type": "display_data"
    }
   ],
   "source": [
    "# Find the best weights of those in dfc02 (235 rows,\n",
    "# 11 seeds, 5 folds).  \n",
    "\n",
    "set.seed(1981)\n",
    "seed_vector <- sample(1:9999, 11, replace=FALSE)\n",
    "\n",
    "start <- Sys.time()\n",
    "paste(\"Start time: \", start, sep=\"\")\n",
    "dat_result <- gridSearch03(seed_vector, train, dfc02) \n",
    "stop <- Sys.time()\n",
    "round(stop - start, 2)\n",
    "# Time difference of 8.52 mins\n"
   ]
  },
  {
   "cell_type": "code",
   "execution_count": 160,
   "metadata": {},
   "outputs": [
    {
     "data": {
      "text/html": [
       "1"
      ],
      "text/latex": [
       "1"
      ],
      "text/markdown": [
       "1"
      ],
      "text/plain": [
       "[1] 1"
      ]
     },
     "metadata": {},
     "output_type": "display_data"
    }
   ],
   "source": [
    "best_params <- dat_result[which(dat_result$Acc == \n",
    "                                max(dat_result$Acc, na.rm=TRUE)),]$row\n",
    "length(best_params)\n",
    "\n",
    "best_Acc <- dat_result[which(dat_result$Acc == \n",
    "                                max(dat_result$Acc, na.rm=TRUE)),]$Acc\n"
   ]
  },
  {
   "cell_type": "code",
   "execution_count": 161,
   "metadata": {},
   "outputs": [
    {
     "data": {
      "text/html": [
       "<table class=\"dataframe\">\n",
       "<caption>A data.frame: 1 × 5</caption>\n",
       "<thead>\n",
       "\t<tr><th></th><th scope=col>Hue</th><th scope=col>Phenols</th><th scope=col>Alcalinity</th><th scope=col>prob01</th><th scope=col>prob02</th></tr>\n",
       "\t<tr><th></th><th scope=col>&lt;dbl&gt;</th><th scope=col>&lt;dbl&gt;</th><th scope=col>&lt;dbl&gt;</th><th scope=col>&lt;dbl&gt;</th><th scope=col>&lt;dbl&gt;</th></tr>\n",
       "</thead>\n",
       "<tbody>\n",
       "\t<tr><th scope=row>684</th><td>0.17</td><td>0.22</td><td>0.19</td><td>0.28</td><td>0.14</td></tr>\n",
       "</tbody>\n",
       "</table>\n"
      ],
      "text/latex": [
       "A data.frame: 1 × 5\n",
       "\\begin{tabular}{r|lllll}\n",
       "  & Hue & Phenols & Alcalinity & prob01 & prob02\\\\\n",
       "  & <dbl> & <dbl> & <dbl> & <dbl> & <dbl>\\\\\n",
       "\\hline\n",
       "\t684 & 0.17 & 0.22 & 0.19 & 0.28 & 0.14\\\\\n",
       "\\end{tabular}\n"
      ],
      "text/markdown": [
       "\n",
       "A data.frame: 1 × 5\n",
       "\n",
       "| <!--/--> | Hue &lt;dbl&gt; | Phenols &lt;dbl&gt; | Alcalinity &lt;dbl&gt; | prob01 &lt;dbl&gt; | prob02 &lt;dbl&gt; |\n",
       "|---|---|---|---|---|---|\n",
       "| 684 | 0.17 | 0.22 | 0.19 | 0.28 | 0.14 |\n",
       "\n"
      ],
      "text/plain": [
       "    Hue  Phenols Alcalinity prob01 prob02\n",
       "684 0.17 0.22    0.19       0.28   0.14  "
      ]
     },
     "metadata": {},
     "output_type": "display_data"
    }
   ],
   "source": [
    "dfc02[best_params,]\n",
    "#       \t Hue \t Phenols \t Alcalinity \tprob01  \tprob02\n",
    "\n",
    "# 684   \t0.17    \t0.22 \t       0.19 \t  0.28  \t  0.14\n"
   ]
  },
  {
   "cell_type": "code",
   "execution_count": 162,
   "metadata": {},
   "outputs": [
    {
     "data": {
      "text/html": [
       "0.83494"
      ],
      "text/latex": [
       "0.83494"
      ],
      "text/markdown": [
       "0.83494"
      ],
      "text/plain": [
       "[1] 0.83494"
      ]
     },
     "metadata": {},
     "output_type": "display_data"
    }
   ],
   "source": [
    "best_Acc\n",
    "# 0.8349\n"
   ]
  },
  {
   "cell_type": "code",
   "execution_count": 163,
   "metadata": {},
   "outputs": [
    {
     "data": {
      "text/html": [
       "<table class=\"dataframe\">\n",
       "<caption>A data.frame: 15 × 2</caption>\n",
       "<thead>\n",
       "\t<tr><th></th><th scope=col>row</th><th scope=col>Acc</th></tr>\n",
       "\t<tr><th></th><th scope=col>&lt;chr&gt;</th><th scope=col>&lt;dbl&gt;</th></tr>\n",
       "</thead>\n",
       "<tbody>\n",
       "\t<tr><th scope=row>98</th><td>684 </td><td>0.83494</td></tr>\n",
       "\t<tr><th scope=row>134</th><td>914 </td><td>0.83446</td></tr>\n",
       "\t<tr><th scope=row>174</th><td>1211</td><td>0.83446</td></tr>\n",
       "\t<tr><th scope=row>188</th><td>1280</td><td>0.83440</td></tr>\n",
       "\t<tr><th scope=row>152</th><td>997 </td><td>0.83345</td></tr>\n",
       "\t<tr><th scope=row>141</th><td>948 </td><td>0.83342</td></tr>\n",
       "\t<tr><th scope=row>194</th><td>1325</td><td>0.83337</td></tr>\n",
       "\t<tr><th scope=row>176</th><td>1221</td><td>0.83336</td></tr>\n",
       "\t<tr><th scope=row>191</th><td>1294</td><td>0.83336</td></tr>\n",
       "\t<tr><th scope=row>207</th><td>1520</td><td>0.83336</td></tr>\n",
       "\t<tr><th scope=row>115</th><td>757 </td><td>0.83298</td></tr>\n",
       "\t<tr><th scope=row>150</th><td>993 </td><td>0.83292</td></tr>\n",
       "\t<tr><th scope=row>213</th><td>1565</td><td>0.83289</td></tr>\n",
       "\t<tr><th scope=row>95</th><td>655 </td><td>0.83286</td></tr>\n",
       "\t<tr><th scope=row>20</th><td>194 </td><td>0.83244</td></tr>\n",
       "</tbody>\n",
       "</table>\n"
      ],
      "text/latex": [
       "A data.frame: 15 × 2\n",
       "\\begin{tabular}{r|ll}\n",
       "  & row & Acc\\\\\n",
       "  & <chr> & <dbl>\\\\\n",
       "\\hline\n",
       "\t98 & 684  & 0.83494\\\\\n",
       "\t134 & 914  & 0.83446\\\\\n",
       "\t174 & 1211 & 0.83446\\\\\n",
       "\t188 & 1280 & 0.83440\\\\\n",
       "\t152 & 997  & 0.83345\\\\\n",
       "\t141 & 948  & 0.83342\\\\\n",
       "\t194 & 1325 & 0.83337\\\\\n",
       "\t176 & 1221 & 0.83336\\\\\n",
       "\t191 & 1294 & 0.83336\\\\\n",
       "\t207 & 1520 & 0.83336\\\\\n",
       "\t115 & 757  & 0.83298\\\\\n",
       "\t150 & 993  & 0.83292\\\\\n",
       "\t213 & 1565 & 0.83289\\\\\n",
       "\t95 & 655  & 0.83286\\\\\n",
       "\t20 & 194  & 0.83244\\\\\n",
       "\\end{tabular}\n"
      ],
      "text/markdown": [
       "\n",
       "A data.frame: 15 × 2\n",
       "\n",
       "| <!--/--> | row &lt;chr&gt; | Acc &lt;dbl&gt; |\n",
       "|---|---|---|\n",
       "| 98 | 684  | 0.83494 |\n",
       "| 134 | 914  | 0.83446 |\n",
       "| 174 | 1211 | 0.83446 |\n",
       "| 188 | 1280 | 0.83440 |\n",
       "| 152 | 997  | 0.83345 |\n",
       "| 141 | 948  | 0.83342 |\n",
       "| 194 | 1325 | 0.83337 |\n",
       "| 176 | 1221 | 0.83336 |\n",
       "| 191 | 1294 | 0.83336 |\n",
       "| 207 | 1520 | 0.83336 |\n",
       "| 115 | 757  | 0.83298 |\n",
       "| 150 | 993  | 0.83292 |\n",
       "| 213 | 1565 | 0.83289 |\n",
       "| 95 | 655  | 0.83286 |\n",
       "| 20 | 194  | 0.83244 |\n",
       "\n"
      ],
      "text/plain": [
       "    row  Acc    \n",
       "98  684  0.83494\n",
       "134 914  0.83446\n",
       "174 1211 0.83446\n",
       "188 1280 0.83440\n",
       "152 997  0.83345\n",
       "141 948  0.83342\n",
       "194 1325 0.83337\n",
       "176 1221 0.83336\n",
       "191 1294 0.83336\n",
       "207 1520 0.83336\n",
       "115 757  0.83298\n",
       "150 993  0.83292\n",
       "213 1565 0.83289\n",
       "95  655  0.83286\n",
       "20  194  0.83244"
      ]
     },
     "metadata": {},
     "output_type": "display_data"
    }
   ],
   "source": [
    "dat01 <- dat_result\n",
    "dat01 <- dat01[order(dat01$Acc, decreasing=TRUE),]\n",
    "dat01[1:15,]\n"
   ]
  },
  {
   "cell_type": "code",
   "execution_count": 164,
   "metadata": {},
   "outputs": [
    {
     "data": {
      "text/html": [
       "<table class=\"dataframe\">\n",
       "<caption>A data.frame: 6 × 6</caption>\n",
       "<thead>\n",
       "\t<tr><th></th><th scope=col>Hue</th><th scope=col>Phenols</th><th scope=col>Alcalinity</th><th scope=col>prob01</th><th scope=col>prob02</th><th scope=col>acc</th></tr>\n",
       "\t<tr><th></th><th scope=col>&lt;dbl&gt;</th><th scope=col>&lt;dbl&gt;</th><th scope=col>&lt;dbl&gt;</th><th scope=col>&lt;dbl&gt;</th><th scope=col>&lt;dbl&gt;</th><th scope=col>&lt;dbl&gt;</th></tr>\n",
       "</thead>\n",
       "<tbody>\n",
       "\t<tr><th scope=row>684</th><td>0.17</td><td>0.22</td><td>0.19</td><td>0.28</td><td>0.14</td><td>0.83494</td></tr>\n",
       "\t<tr><th scope=row>914</th><td>0.16</td><td>0.24</td><td>0.18</td><td>0.27</td><td>0.15</td><td>0.83446</td></tr>\n",
       "\t<tr><th scope=row>1211</th><td>0.16</td><td>0.23</td><td>0.18</td><td>0.27</td><td>0.16</td><td>0.83446</td></tr>\n",
       "\t<tr><th scope=row>1280</th><td>0.16</td><td>0.21</td><td>0.19</td><td>0.28</td><td>0.16</td><td>0.83440</td></tr>\n",
       "\t<tr><th scope=row>997</th><td>0.15</td><td>0.22</td><td>0.20</td><td>0.28</td><td>0.15</td><td>0.83345</td></tr>\n",
       "\t<tr><th scope=row>948</th><td>0.17</td><td>0.20</td><td>0.21</td><td>0.27</td><td>0.15</td><td>0.83342</td></tr>\n",
       "</tbody>\n",
       "</table>\n"
      ],
      "text/latex": [
       "A data.frame: 6 × 6\n",
       "\\begin{tabular}{r|llllll}\n",
       "  & Hue & Phenols & Alcalinity & prob01 & prob02 & acc\\\\\n",
       "  & <dbl> & <dbl> & <dbl> & <dbl> & <dbl> & <dbl>\\\\\n",
       "\\hline\n",
       "\t684 & 0.17 & 0.22 & 0.19 & 0.28 & 0.14 & 0.83494\\\\\n",
       "\t914 & 0.16 & 0.24 & 0.18 & 0.27 & 0.15 & 0.83446\\\\\n",
       "\t1211 & 0.16 & 0.23 & 0.18 & 0.27 & 0.16 & 0.83446\\\\\n",
       "\t1280 & 0.16 & 0.21 & 0.19 & 0.28 & 0.16 & 0.83440\\\\\n",
       "\t997 & 0.15 & 0.22 & 0.20 & 0.28 & 0.15 & 0.83345\\\\\n",
       "\t948 & 0.17 & 0.20 & 0.21 & 0.27 & 0.15 & 0.83342\\\\\n",
       "\\end{tabular}\n"
      ],
      "text/markdown": [
       "\n",
       "A data.frame: 6 × 6\n",
       "\n",
       "| <!--/--> | Hue &lt;dbl&gt; | Phenols &lt;dbl&gt; | Alcalinity &lt;dbl&gt; | prob01 &lt;dbl&gt; | prob02 &lt;dbl&gt; | acc &lt;dbl&gt; |\n",
       "|---|---|---|---|---|---|---|\n",
       "| 684 | 0.17 | 0.22 | 0.19 | 0.28 | 0.14 | 0.83494 |\n",
       "| 914 | 0.16 | 0.24 | 0.18 | 0.27 | 0.15 | 0.83446 |\n",
       "| 1211 | 0.16 | 0.23 | 0.18 | 0.27 | 0.16 | 0.83446 |\n",
       "| 1280 | 0.16 | 0.21 | 0.19 | 0.28 | 0.16 | 0.83440 |\n",
       "| 997 | 0.15 | 0.22 | 0.20 | 0.28 | 0.15 | 0.83345 |\n",
       "| 948 | 0.17 | 0.20 | 0.21 | 0.27 | 0.15 | 0.83342 |\n",
       "\n"
      ],
      "text/plain": [
       "     Hue  Phenols Alcalinity prob01 prob02 acc    \n",
       "684  0.17 0.22    0.19       0.28   0.14   0.83494\n",
       "914  0.16 0.24    0.18       0.27   0.15   0.83446\n",
       "1211 0.16 0.23    0.18       0.27   0.16   0.83446\n",
       "1280 0.16 0.21    0.19       0.28   0.16   0.83440\n",
       "997  0.15 0.22    0.20       0.28   0.15   0.83345\n",
       "948  0.17 0.20    0.21       0.27   0.15   0.83342"
      ]
     },
     "metadata": {},
     "output_type": "display_data"
    }
   ],
   "source": [
    "bestrows <- as.character(dat01$row)[1:6]\n",
    "acc <- dat01[1:6, c(\"Acc\")]\n",
    "dat02 <- cbind(dfc02[bestrows, ], acc)\n",
    "dat02\n"
   ]
  },
  {
   "cell_type": "code",
   "execution_count": 181,
   "metadata": {},
   "outputs": [
    {
     "data": {
      "text/html": [
       "'Start time: 2021-05-30 11:19:42'"
      ],
      "text/latex": [
       "'Start time: 2021-05-30 11:19:42'"
      ],
      "text/markdown": [
       "'Start time: 2021-05-30 11:19:42'"
      ],
      "text/plain": [
       "[1] \"Start time: 2021-05-30 11:19:42\""
      ]
     },
     "metadata": {},
     "output_type": "display_data"
    },
    {
     "data": {
      "text/plain": [
       "Time difference of 20.42 mins"
      ]
     },
     "metadata": {},
     "output_type": "display_data"
    }
   ],
   "source": [
    "# Find the best weights of those in dat02 (6 rows,\n",
    "# 1000 seeds, 5 folds).\n",
    "### NOTE: Before running the following, I should \n",
    "### have added rep(0.20, 5) to dat02 to compare\n",
    "### the above weight combinations with no weights.\n",
    "\n",
    "set.seed(1931)\n",
    "seed_vector <- sample(1:9999, 1000, replace=FALSE)\n",
    "\n",
    "start <- Sys.time()\n",
    "paste(\"Start time: \", start, sep=\"\")\n",
    "dat_result <- gridSearch03(seed_vector, train, dat02[, 1:5]) \n",
    "stop <- Sys.time()\n",
    "round(stop - start, 2)\n",
    "# Time difference of 20.42 mins\n"
   ]
  },
  {
   "cell_type": "code",
   "execution_count": 182,
   "metadata": {},
   "outputs": [
    {
     "data": {
      "text/html": [
       "<table class=\"dataframe\">\n",
       "<caption>A data.frame: 6 × 2</caption>\n",
       "<thead>\n",
       "\t<tr><th></th><th scope=col>row</th><th scope=col>Acc</th></tr>\n",
       "\t<tr><th></th><th scope=col>&lt;chr&gt;</th><th scope=col>&lt;dbl&gt;</th></tr>\n",
       "</thead>\n",
       "<tbody>\n",
       "\t<tr><th scope=row>4</th><td>1280</td><td>0.82947</td></tr>\n",
       "\t<tr><th scope=row>1</th><td>684 </td><td>0.82931</td></tr>\n",
       "\t<tr><th scope=row>6</th><td>948 </td><td>0.82923</td></tr>\n",
       "\t<tr><th scope=row>5</th><td>997 </td><td>0.82907</td></tr>\n",
       "\t<tr><th scope=row>3</th><td>1211</td><td>0.82896</td></tr>\n",
       "\t<tr><th scope=row>2</th><td>914 </td><td>0.82874</td></tr>\n",
       "</tbody>\n",
       "</table>\n"
      ],
      "text/latex": [
       "A data.frame: 6 × 2\n",
       "\\begin{tabular}{r|ll}\n",
       "  & row & Acc\\\\\n",
       "  & <chr> & <dbl>\\\\\n",
       "\\hline\n",
       "\t4 & 1280 & 0.82947\\\\\n",
       "\t1 & 684  & 0.82931\\\\\n",
       "\t6 & 948  & 0.82923\\\\\n",
       "\t5 & 997  & 0.82907\\\\\n",
       "\t3 & 1211 & 0.82896\\\\\n",
       "\t2 & 914  & 0.82874\\\\\n",
       "\\end{tabular}\n"
      ],
      "text/markdown": [
       "\n",
       "A data.frame: 6 × 2\n",
       "\n",
       "| <!--/--> | row &lt;chr&gt; | Acc &lt;dbl&gt; |\n",
       "|---|---|---|\n",
       "| 4 | 1280 | 0.82947 |\n",
       "| 1 | 684  | 0.82931 |\n",
       "| 6 | 948  | 0.82923 |\n",
       "| 5 | 997  | 0.82907 |\n",
       "| 3 | 1211 | 0.82896 |\n",
       "| 2 | 914  | 0.82874 |\n",
       "\n"
      ],
      "text/plain": [
       "  row  Acc    \n",
       "4 1280 0.82947\n",
       "1 684  0.82931\n",
       "6 948  0.82923\n",
       "5 997  0.82907\n",
       "3 1211 0.82896\n",
       "2 914  0.82874"
      ]
     },
     "metadata": {},
     "output_type": "display_data"
    }
   ],
   "source": [
    "dat_result[order(dat_result$Acc, decreasing=TRUE),]\n"
   ]
  },
  {
   "cell_type": "code",
   "execution_count": 183,
   "metadata": {},
   "outputs": [
    {
     "data": {
      "text/html": [
       "1"
      ],
      "text/latex": [
       "1"
      ],
      "text/markdown": [
       "1"
      ],
      "text/plain": [
       "[1] 1"
      ]
     },
     "metadata": {},
     "output_type": "display_data"
    }
   ],
   "source": [
    "best_params <- dat_result[which(dat_result$Acc == \n",
    "                                max(dat_result$Acc, na.rm=TRUE)),]$row\n",
    "length(best_params)\n",
    "\n",
    "best_Acc <- dat_result[which(dat_result$Acc == \n",
    "                                max(dat_result$Acc, na.rm=TRUE)),]$Acc\n"
   ]
  },
  {
   "cell_type": "code",
   "execution_count": 184,
   "metadata": {},
   "outputs": [
    {
     "data": {
      "text/html": [
       "<table class=\"dataframe\">\n",
       "<caption>A data.frame: 1 × 5</caption>\n",
       "<thead>\n",
       "\t<tr><th></th><th scope=col>Hue</th><th scope=col>Phenols</th><th scope=col>Alcalinity</th><th scope=col>prob01</th><th scope=col>prob02</th></tr>\n",
       "\t<tr><th></th><th scope=col>&lt;dbl&gt;</th><th scope=col>&lt;dbl&gt;</th><th scope=col>&lt;dbl&gt;</th><th scope=col>&lt;dbl&gt;</th><th scope=col>&lt;dbl&gt;</th></tr>\n",
       "</thead>\n",
       "<tbody>\n",
       "\t<tr><th scope=row>1280</th><td>0.16</td><td>0.21</td><td>0.19</td><td>0.28</td><td>0.16</td></tr>\n",
       "</tbody>\n",
       "</table>\n"
      ],
      "text/latex": [
       "A data.frame: 1 × 5\n",
       "\\begin{tabular}{r|lllll}\n",
       "  & Hue & Phenols & Alcalinity & prob01 & prob02\\\\\n",
       "  & <dbl> & <dbl> & <dbl> & <dbl> & <dbl>\\\\\n",
       "\\hline\n",
       "\t1280 & 0.16 & 0.21 & 0.19 & 0.28 & 0.16\\\\\n",
       "\\end{tabular}\n"
      ],
      "text/markdown": [
       "\n",
       "A data.frame: 1 × 5\n",
       "\n",
       "| <!--/--> | Hue &lt;dbl&gt; | Phenols &lt;dbl&gt; | Alcalinity &lt;dbl&gt; | prob01 &lt;dbl&gt; | prob02 &lt;dbl&gt; |\n",
       "|---|---|---|---|---|---|\n",
       "| 1280 | 0.16 | 0.21 | 0.19 | 0.28 | 0.16 |\n",
       "\n"
      ],
      "text/plain": [
       "     Hue  Phenols Alcalinity prob01 prob02\n",
       "1280 0.16 0.21    0.19       0.28   0.16  "
      ]
     },
     "metadata": {},
     "output_type": "display_data"
    },
    {
     "data": {
      "text/html": [
       "0.82947"
      ],
      "text/latex": [
       "0.82947"
      ],
      "text/markdown": [
       "0.82947"
      ],
      "text/plain": [
       "[1] 0.82947"
      ]
     },
     "metadata": {},
     "output_type": "display_data"
    }
   ],
   "source": [
    "dat02[best_params, 1:5]\n",
    "#       \t Hue \t Phenols \t Alcalinity \tprob01  \tprob02\n",
    "\n",
    "# 1280  \t0.16    \t0.21 \t       0.19 \t  0.28  \t  0.16\n",
    "\n",
    "\n",
    "best_Acc\n",
    "# 0.8295\n"
   ]
  },
  {
   "cell_type": "markdown",
   "metadata": {},
   "source": [
    "## Get comparative cross-val score for the hybrid model with weights"
   ]
  },
  {
   "cell_type": "code",
   "execution_count": 192,
   "metadata": {},
   "outputs": [],
   "source": [
    "# Function for obtaining average of confusion matrix \n",
    "# accuracy score. This function is called from compute_cvScore_km.\n",
    "\n",
    "# We need to take the square root of the weights.\n",
    "wghts <- c(0.16, 0.21, 0.19, 0.28, 0.16)^0.5\n",
    "names(wghts) <- c(colnames(train)[-1], \"prob01\",\"prob02\")\n",
    "\n",
    "get_cvScore_wghts <- function(traindat, valdat) {\n",
    "    \n",
    "    # Scale traindat for purpose of an svm model.\n",
    "    svm_scaled <- scale(traindat[, -1])\n",
    "    svm_centers <- attr(svm_scaled, \"scaled:center\")\n",
    "    svm_scales <- attr(svm_scaled, \"scaled:scale\")\n",
    "    svm_scaled <- as.data.frame(cbind(traindat$Type, svm_scaled),\n",
    "                                row.names=rownames(traindat))\n",
    "    colnames(svm_scaled) <- colnames(traindat)\n",
    "    \n",
    "    # This is our current best svm model for the trainset data\n",
    "    svmod <- svm(I(as.factor(Type)) ~ ., data=svm_scaled, kernel=\"radial\",\n",
    "                 gamma= 0.03, cost= 25, scale=FALSE, probability=TRUE)\n",
    "    \n",
    "    preds <- predict(svmod, newdata=svm_scaled, scale=FALSE, probability=TRUE)\n",
    "    traindat$prob01 <- as.numeric(attr(preds, \"probabilities\")[, 2])\n",
    "    traindat$prob02 <- as.numeric(attr(preds, \"probabilities\")[, 3])\n",
    "    \n",
    "    #############################\n",
    "    # Scale training set data for the k-means model.\n",
    "    \n",
    "    df <- scale(traindat[, -1], center=TRUE, scale=TRUE)\n",
    "    centers <- attr(df, \"scaled:center\")\n",
    "    scales <- attr(df, \"scaled:scale\")\n",
    "    df <- as.matrix(df)\n",
    "    traindat_scaled <- apply(df, MARGIN=2, range01)\n",
    "    colnames(traindat_scaled) <- colnames(traindat)[-1]\n",
    "    rownames(traindat_scaled) <- rownames(traindat)\n",
    "    \n",
    "    # Get mins and maxs for scaling of valdat.\n",
    "    traindat_mins <- as.numeric(apply(df, MARGIN=2, min))\n",
    "    traindat_maxs <- as.numeric(apply(df, MARGIN=2, max))\n",
    "    \n",
    "    #############################\n",
    "    # Apply weights to traindat.\n",
    "    cols <- names(wghts)\n",
    "    df2 <- t(t(traindat_scaled[, cols]) * as.numeric(wghts[cols]))\n",
    "    traindat_wghts <- as.data.frame(df2, row.names=rownames(traindat))\n",
    "    \n",
    "    \n",
    "    #############################################\n",
    "    # Prepare valdat.\n",
    "    #############################################\n",
    "    \n",
    "    svmval_scaled <- scale(valdat[, -1], center=svm_centers, scale=svm_scales)\n",
    "    svmval_scaled <- as.data.frame(svmval_scaled, row.names=rownames(valdat))\n",
    "    \n",
    "    # Compute prob01 and prob02 columns.\n",
    "    preds01_b <- predict(svmod, newdata=svmval_scaled, scale=FALSE, probability=TRUE)\n",
    "    valdat$prob01 <- as.numeric(attr(preds01_b, \"probabilities\")[, 2])\n",
    "    valdat$prob02 <- as.numeric(attr(preds01_b, \"probabilities\")[, 3])\n",
    "\n",
    "    # Scale valdat.\n",
    "    df02 <- scale(valdat[, -1], center=centers, scale=scales)\n",
    "    df02_t <- t(as.matrix(df02))\n",
    "    df02_asList <- split(df02_t, seq(nrow(df02_t)))\n",
    "    names(df02_asList) <- colnames(valdat)[-1]\n",
    "\n",
    "    valdat_scaled <- mapply(range02, df02_asList, traindat_mins, \n",
    "                            traindat_maxs)\n",
    "    # The next step is crucial.\n",
    "    valdat_scaled <- as.data.frame(valdat_scaled, row.names=rownames(valdat))\n",
    "    colnames(valdat_scaled) <- colnames(valdat)[-1]\n",
    "    \n",
    "    # Apply weights to valdat_scaled.\n",
    "    df4 <- t(t(valdat_scaled[, cols]) * as.numeric(wghts[cols]))\n",
    "    valdat_wghts <- as.data.frame(df4, row.names=rownames(valdat))\n",
    "    colnames(valdat_wghts) <- colnames(valdat)[-1]\n",
    "    \n",
    "    \n",
    "    #############################################\n",
    "    # Construct k-means model.\n",
    "\n",
    "    kmod <- kmeans(traindat_wghts, 3, iter.max = 50, nstart=30)\n",
    "    \n",
    "    # See how the clusters are associated with Type level.\n",
    "    dfout <- as.data.frame(cbind(traindat$Type, kmod$cluster), \n",
    "                           row.names=rownames(traindat))\n",
    "    colnames(dfout) <- c(\"Type\", \"cluster\")\n",
    "    mapping <- get_mapping(dfout)\n",
    "    \n",
    "    \n",
    "    #############################\n",
    "    # Apply the k-means model to valdat_wghts.\n",
    "    \n",
    "    # Each element of the following list is a row of valdat_wghts.\n",
    "    valdat_asList <- split(valdat_wghts[, colnames(kmod$centers)],\n",
    "                           seq(nrow(valdat_wghts)))\n",
    "    \n",
    "    ctr_list <- vector(\"list\", length= nrow(valdat))\n",
    "    for(i in 1:nrow(valdat)) {\n",
    "        \n",
    "        ctr_list[[i]] <- kmod$centers\n",
    "    }\n",
    "    names(ctr_list) <- rownames(valdat)\n",
    "    \n",
    "    \n",
    "    # Get the predictions for the validation set.\n",
    "    cluster_assgns <- mcmapply(getCluster, valdat_asList, ctr_list,\n",
    "                               SIMPLIFY=TRUE, USE.NAMES= FALSE, mc.cores=6)\n",
    "    \n",
    "    valdat_wghts$cluster <- as.numeric(cluster_assgns)\n",
    "    \n",
    "    valdat_wghts$pred_Type <- NA\n",
    "    \n",
    "    # Apply mapping to the assigned clusters.  Since valdat is \n",
    "    # quite small (around 35 records if folds = 5), and there \n",
    "    # are 3 clusters, it is possible that one of the LHS expressions\n",
    "    # below is NA.  I will make the changes if the program fails. \n",
    "    valdat_wghts[which(valdat_wghts$cluster==1), c(\"pred_Type\")] <- as.numeric(mapping[\"1\"])\n",
    "    valdat_wghts[which(valdat_wghts$cluster==2), c(\"pred_Type\")] <- as.numeric(mapping[\"2\"])\n",
    "    valdat_wghts[which(valdat_wghts$cluster==3), c(\"pred_Type\")] <- as.numeric(mapping[\"3\"])\n",
    "    \n",
    "    # Generate confusion matrix for the k-means clusters and\n",
    "    # the corresponding f-score.\n",
    "    preds <- as.factor(valdat_wghts$pred_Type)\n",
    "    names(preds) <- rownames(valdat)\n",
    "    ans <- get_confusion(preds, valdat[, \"Type\", drop=FALSE])\n",
    "    return(ans[[2]])\n",
    "}\n"
   ]
  },
  {
   "cell_type": "code",
   "execution_count": 208,
   "metadata": {},
   "outputs": [
    {
     "data": {
      "text/html": [
       "'Start time: 2021-05-30 12:09:57'"
      ],
      "text/latex": [
       "'Start time: 2021-05-30 12:09:57'"
      ],
      "text/markdown": [
       "'Start time: 2021-05-30 12:09:57'"
      ],
      "text/plain": [
       "[1] \"Start time: 2021-05-30 12:09:57\""
      ]
     },
     "metadata": {},
     "output_type": "display_data"
    },
    {
     "data": {
      "text/plain": [
       "Time difference of 6.54 mins"
      ]
     },
     "metadata": {},
     "output_type": "display_data"
    }
   ],
   "source": [
    "# Use the correct seed, i.e., the seed we have been\n",
    "# using for this comparative score.\n",
    "\n",
    "set.seed(1931)\n",
    "seed_vector <- sample(1:9999, 2000, replace=FALSE)\n",
    "\n",
    "start <- Sys.time()\n",
    "paste(\"Start time: \", start, sep=\"\")\n",
    "dat_result <- compute_cvScore_km(seed_vector, train) \n",
    "stop <- Sys.time()\n",
    "round(stop - start, 2)\n",
    "# Time difference of 6.71 mins\n"
   ]
  },
  {
   "cell_type": "code",
   "execution_count": 209,
   "metadata": {},
   "outputs": [
    {
     "data": {
      "text/plain": [
       "   Min. 1st Qu.  Median    Mean 3rd Qu.    Max. \n",
       "  0.780   0.821   0.831   0.829   0.837   0.860 "
      ]
     },
     "metadata": {},
     "output_type": "display_data"
    }
   ],
   "source": [
    "summary(dat_result$Acc)\n"
   ]
  },
  {
   "cell_type": "code",
   "execution_count": 210,
   "metadata": {},
   "outputs": [
    {
     "data": {
      "text/html": [
       "0.8292"
      ],
      "text/latex": [
       "0.8292"
      ],
      "text/markdown": [
       "0.8292"
      ],
      "text/plain": [
       "[1] 0.8292"
      ]
     },
     "metadata": {},
     "output_type": "display_data"
    }
   ],
   "source": [
    "round(mean(dat_result$Acc), 4)\n",
    "\n",
    "# Accuracy over 2000 seeds is 0.8292.  Without weights,\n",
    "# this score was 0.8295.  svm02 had an average\n",
    "# cross-val accuracy score of 0.8278.\n",
    "\n",
    "# One thing this shows is that I need far more than 11\n",
    "# seeds (giving us 55 folds) in the initial search for\n",
    "# weights.  But if I were to use many more seeds, the\n",
    "# search would take far more time.  It would also help to\n",
    "# look at some of the 7,800 weight combinations that were\n",
    "# not included in the 1000 that were in my sample.\n"
   ]
  },
  {
   "cell_type": "code",
   "execution_count": 211,
   "metadata": {},
   "outputs": [
    {
     "data": {
      "text/html": [
       "0.831"
      ],
      "text/latex": [
       "0.831"
      ],
      "text/markdown": [
       "0.831"
      ],
      "text/plain": [
       "[1] 0.831"
      ]
     },
     "metadata": {},
     "output_type": "display_data"
    },
    {
     "data": {
      "text/html": [
       "0.012081"
      ],
      "text/latex": [
       "0.012081"
      ],
      "text/markdown": [
       "0.012081"
      ],
      "text/plain": [
       "[1] 0.012081"
      ]
     },
     "metadata": {},
     "output_type": "display_data"
    }
   ],
   "source": [
    "round(median(dat_result$Acc), 4)\n",
    "round(sd(dat_result$Acc), 6)\n",
    "# median: 0.8310\n",
    "# sd: 0.012081\n",
    "\n",
    "# The median accuracy score for svm02 was 0.8271.\n",
    "# Without weights, the hybrid model had a median\n",
    "# accuracy score of 0.8314.\n"
   ]
  },
  {
   "cell_type": "code",
   "execution_count": 212,
   "metadata": {},
   "outputs": [
    {
     "data": {
      "text/html": [
       "<table class=\"dataframe\">\n",
       "<caption>A data.frame: 6 × 2</caption>\n",
       "<thead>\n",
       "\t<tr><th></th><th scope=col>seed</th><th scope=col>Acc</th></tr>\n",
       "\t<tr><th></th><th scope=col>&lt;int&gt;</th><th scope=col>&lt;dbl&gt;</th></tr>\n",
       "</thead>\n",
       "<tbody>\n",
       "\t<tr><th scope=row>1</th><td>6276</td><td>0.83238</td></tr>\n",
       "\t<tr><th scope=row>2</th><td>8252</td><td>0.82058</td></tr>\n",
       "\t<tr><th scope=row>3</th><td>6728</td><td>0.83104</td></tr>\n",
       "\t<tr><th scope=row>4</th><td>9082</td><td>0.84316</td></tr>\n",
       "\t<tr><th scope=row>5</th><td>7952</td><td>0.82550</td></tr>\n",
       "\t<tr><th scope=row>6</th><td>8360</td><td>0.84280</td></tr>\n",
       "</tbody>\n",
       "</table>\n"
      ],
      "text/latex": [
       "A data.frame: 6 × 2\n",
       "\\begin{tabular}{r|ll}\n",
       "  & seed & Acc\\\\\n",
       "  & <int> & <dbl>\\\\\n",
       "\\hline\n",
       "\t1 & 6276 & 0.83238\\\\\n",
       "\t2 & 8252 & 0.82058\\\\\n",
       "\t3 & 6728 & 0.83104\\\\\n",
       "\t4 & 9082 & 0.84316\\\\\n",
       "\t5 & 7952 & 0.82550\\\\\n",
       "\t6 & 8360 & 0.84280\\\\\n",
       "\\end{tabular}\n"
      ],
      "text/markdown": [
       "\n",
       "A data.frame: 6 × 2\n",
       "\n",
       "| <!--/--> | seed &lt;int&gt; | Acc &lt;dbl&gt; |\n",
       "|---|---|---|\n",
       "| 1 | 6276 | 0.83238 |\n",
       "| 2 | 8252 | 0.82058 |\n",
       "| 3 | 6728 | 0.83104 |\n",
       "| 4 | 9082 | 0.84316 |\n",
       "| 5 | 7952 | 0.82550 |\n",
       "| 6 | 8360 | 0.84280 |\n",
       "\n"
      ],
      "text/plain": [
       "  seed Acc    \n",
       "1 6276 0.83238\n",
       "2 8252 0.82058\n",
       "3 6728 0.83104\n",
       "4 9082 0.84316\n",
       "5 7952 0.82550\n",
       "6 8360 0.84280"
      ]
     },
     "metadata": {},
     "output_type": "display_data"
    },
    {
     "data": {
      "text/html": [
       "<style>\n",
       ".list-inline {list-style: none; margin:0; padding: 0}\n",
       ".list-inline>li {display: inline-block}\n",
       ".list-inline>li:not(:last-child)::after {content: \"\\00b7\"; padding: 0 .5ex}\n",
       "</style>\n",
       "<ol class=list-inline><li>2000</li><li>2</li></ol>\n"
      ],
      "text/latex": [
       "\\begin{enumerate*}\n",
       "\\item 2000\n",
       "\\item 2\n",
       "\\end{enumerate*}\n"
      ],
      "text/markdown": [
       "1. 2000\n",
       "2. 2\n",
       "\n",
       "\n"
      ],
      "text/plain": [
       "[1] 2000    2"
      ]
     },
     "metadata": {},
     "output_type": "display_data"
    }
   ],
   "source": [
    "head(dat_result)\n",
    "dim(dat_result)\n"
   ]
  },
  {
   "cell_type": "code",
   "execution_count": 213,
   "metadata": {},
   "outputs": [
    {
     "data": {
      "image/png": "[encoded data removed]",
      "text/plain": [
       "Plot with title “Distribution of cross-val accuracy scores for hybrid k-means model with weights”"
      ]
     },
     "metadata": {
      "image/png": {
       "height": 360,
       "width": 600
      }
     },
     "output_type": "display_data"
    }
   ],
   "source": [
    "options(repr.plot.width= 10, repr.plot.height= 6)\n",
    "hist(dat_result$Acc, breaks=16, xlab=\"accuracy\",\n",
    "     main=\"Distribution of cross-val accuracy scores for hybrid k-means model with weights\")\n"
   ]
  },
  {
   "cell_type": "markdown",
   "metadata": {},
   "source": [
    "## Section 3: Final Comments"
   ]
  },
  {
   "cell_type": "markdown",
   "metadata": {},
   "source": [
    "We should be able to improve upon the hybrid model that does not use weights, especially given that the standard deviation over the 1000 weight combinations looked at above is 0.00235.  Our cross-val mean accuracy score for the hybrid model with no weights is 0.8295.  I would expect to see around 1 standard deviation of improvement on this.  So we should be able to get a score as high as 0.8318 with appropriate weights.  The 0.8318 score would give us a 0.4 percentage point improvement over the svm02 model; while this isn't much, it is better than the 0.17 percentage point improvement that we are currently seeing with the hybrid model, no weights.\n",
    "\n",
    "Finding good weights is not easy from a computational standpoint.  It looks like I need to test each weight combination on far more seeds (the different seeds give us different partitions of the 178 records, i.e., different cross-val folds).  It would also be good to look at all of the 8,801 combinations in the above dfc01 dataframe.  It is worth trying the method I used in the Addendum of Part 2, a method that looks at the total within-group sum of squares of the different k-means clusterings.  In Part 2, this alternative method of finding weights was 7X faster than the method I have been using.  (The improvement in speed depends on what we are trying to do with the data and the amount of data we are working with.)\n",
    "\n",
    "\n",
    "                                * * * * *"
   ]
  },
  {
   "cell_type": "markdown",
   "metadata": {},
   "source": [
    "# Section 4: Hybrid model with weights found using total withinss"
   ]
  },
  {
   "cell_type": "markdown",
   "metadata": {},
   "source": [
    "The method of finding weights set out in the Addendum of Part 2 is not guaranteed to work.  But it is worth trying out here, in our initial search for weights, when we have the most weight combinations to look through.\n",
    "\n",
    "This alternative approach to finding weights acquires further validation if we can find a set of weights using the method which improve upon our cross-val mean accuracy score of 0.8295.\n",
    "\n",
    "This alternative approach is faster because: (a) we no longer have to call getCluster; (b) we no longer have to apply weights to the training set data; (c) we no longer have to call get_mapping; and (d) we no longer have to apply min-max scaling to the training set.  Of these three operations, (a) and (c) are the more expensive ones.\n"
   ]
  },
  {
   "cell_type": "code",
   "execution_count": 16,
   "metadata": {},
   "outputs": [],
   "source": [
    "# Function for computing the tot.withinss for each set of \n",
    "# weights in df_params (a dataframe, each row of which is\n",
    "# a candidate set of weights).  The optimal set of weights\n",
    "# will be the set that yields the smallest average (over\n",
    "# the folds) for tot.withinss.\n",
    "# This function is called from gridSearch07.\n",
    "\n",
    "get_tot.withinss <- function(traindat, valdat, wghts) {\n",
    "    \n",
    "    # Scale traindat for purpose of an svm model.\n",
    "    svm_scaled <- scale(traindat[, -1])\n",
    "    svm_centers <- attr(svm_scaled, \"scaled:center\")\n",
    "    svm_scales <- attr(svm_scaled, \"scaled:scale\")\n",
    "    svm_scaled <- as.data.frame(cbind(traindat$Type, svm_scaled),\n",
    "                                row.names=rownames(traindat))\n",
    "    colnames(svm_scaled) <- colnames(traindat)\n",
    "    \n",
    "    # This is our current best svm model for the trainset data\n",
    "    svmod <- svm(I(as.factor(Type)) ~ ., data=svm_scaled, kernel=\"radial\",\n",
    "                 gamma= 0.03, cost= 25, scale=FALSE, probability=TRUE)\n",
    "    \n",
    "    preds <- predict(svmod, newdata=svm_scaled, scale=FALSE, probability=TRUE)\n",
    "    traindat$prob01 <- as.numeric(attr(preds, \"probabilities\")[, 2])\n",
    "    traindat$prob02 <- as.numeric(attr(preds, \"probabilities\")[, 3])\n",
    "    \n",
    "    #############################\n",
    "    # Scale training set data for the k-means model.\n",
    "    \n",
    "    df <- scale(traindat[, -1], center=TRUE, scale=TRUE)\n",
    "    centers <- attr(df, \"scaled:center\")\n",
    "    scales <- attr(df, \"scaled:scale\")\n",
    "    df <- as.matrix(df)\n",
    "    \n",
    "    # Get mins and maxs for scaling of valdat.\n",
    "    traindat_mins <- as.numeric(apply(df, MARGIN=2, min))\n",
    "    traindat_maxs <- as.numeric(apply(df, MARGIN=2, max))\n",
    "    \n",
    "\n",
    "    #############################################\n",
    "    # Prepare valdat.\n",
    "    #############################################\n",
    "    \n",
    "    svmval_scaled <- scale(valdat[, -1], center=svm_centers, scale=svm_scales)\n",
    "    svmval_scaled <- as.data.frame(svmval_scaled, row.names=rownames(valdat))\n",
    "    \n",
    "    # Compute prob01 and prob02 columns.\n",
    "    preds01_b <- predict(svmod, newdata=svmval_scaled, scale=FALSE, probability=TRUE)\n",
    "    valdat$prob01 <- as.numeric(attr(preds01_b, \"probabilities\")[, 2])\n",
    "    valdat$prob02 <- as.numeric(attr(preds01_b, \"probabilities\")[, 3])\n",
    "\n",
    "    # Scale valdat.\n",
    "    df02 <- scale(valdat[, -1], center=centers, scale=scales)\n",
    "    df02_t <- t(as.matrix(df02))\n",
    "    df02_asList <- split(df02_t, seq(nrow(df02_t)))\n",
    "    names(df02_asList) <- colnames(valdat)[-1]\n",
    "\n",
    "    valdat_scaled <- mapply(range02, df02_asList, traindat_mins, \n",
    "                            traindat_maxs)\n",
    "    # The next step is crucial.\n",
    "    valdat_scaled <- as.data.frame(valdat_scaled, row.names=rownames(valdat))\n",
    "    colnames(valdat_scaled) <- colnames(valdat)[-1]\n",
    "    \n",
    "    # Apply weights to valdat_scaled.\n",
    "    cols <- names(wghts)\n",
    "    df4 <- t(t(valdat_scaled[, cols]) * as.numeric(wghts[cols]))\n",
    "    valdat_wghts <- as.data.frame(df4, row.names=rownames(valdat))\n",
    "    colnames(valdat_wghts) <- colnames(valdat)[-1]\n",
    "    \n",
    "    \n",
    "    #############################################\n",
    "    # Construct k-means model on the validation set.\n",
    "\n",
    "    kmod <- kmeans(valdat_wghts, 3, iter.max = 50, nstart=30)\n",
    "    \n",
    "    return(kmod$tot.withinss)\n",
    "}\n"
   ]
  },
  {
   "cell_type": "code",
   "execution_count": 73,
   "metadata": {},
   "outputs": [],
   "source": [
    "# This grid search searches for the best set of weights to use\n",
    "# in our k-means clustering model. \n",
    "\n",
    "gridSearch07 <- function(seed_vector, dat, df_params, folds=5) {\n",
    "    \n",
    "    datout <- rep(NA, 2*nrow(df_params))\n",
    "    dim(datout) <- c(nrow(df_params), 2)\n",
    "    datout <- as.data.frame(datout)\n",
    "    colnames(datout) <- c(\"row\", \"tot.withinss\")\n",
    "    datout$row <- params_rows <- rownames(df_params)\n",
    "    \n",
    "    # We want the sqrt of the weights.\n",
    "    df_params <- df_params^0.5\n",
    "    \n",
    "    #############################\n",
    "    # Partition the data into folds.\n",
    "    \n",
    "    segment_size <- round(dim(dat)[1]/folds)\n",
    "    diff <- dim(dat)[1] - folds * segment_size\n",
    "    last_seg_size <- segment_size + diff\n",
    "    segmentsv <- c(rep(segment_size, (folds - 1)), last_seg_size)\n",
    "    stopifnot(sum(segmentsv) == dim(dat)[1])\n",
    "    \n",
    "    \n",
    "    # Create a dataframe, each row for a distinct seed.\n",
    "    # Each column of the dataframe is for a distinct set\n",
    "    # of weights.  The entries in the cells are tot.withinss \n",
    "    # scores.\n",
    "    seedv_len <- length(seed_vector)\n",
    "    df_scores <- rep(NA, seedv_len*nrow(df_params))\n",
    "    dim(df_scores) <- c(seedv_len, nrow(df_params))\n",
    "    df_scores <- as.data.frame(df_scores)\n",
    "    colnames(df_scores) <- rownames(df_params)\n",
    "    rownames(df_scores) <- as.character(seed_vector)\n",
    "    \n",
    "    for(h in 1:seedv_len) {\n",
    "        # shuffle dat\n",
    "        cur_seed <- seed_vector[h]\n",
    "        set.seed(cur_seed)\n",
    "        smp <- sample(rownames(dat), nrow(dat), replace= FALSE)\n",
    "        dat <- dat[smp,]\n",
    "        \n",
    "        # Each element of row_list will be the rows we pick\n",
    "        # out for one of the folds.  E.g., the first element\n",
    "        # of row_list will contain the rows we want for the\n",
    "        # first fold, the second element of row_list will\n",
    "        # contain the rows we want for the second fold, and\n",
    "        # so forth.\n",
    "        row_list <- vector(\"list\", length=folds)\n",
    "        names(row_list) <- as.character(1:folds)\n",
    "        startpt <- 1\n",
    "        for(i in 1:folds) {\n",
    "            endpt <- startpt + segmentsv[i] - 1\n",
    "            stopifnot(endpt <= nrow(dat))\n",
    "            row_list[[i]] <- rownames(dat)[startpt:endpt]\n",
    "            startpt <- endpt + 1\n",
    "        }\n",
    "    \n",
    "        for(i in 1:nrow(df_params)) {\n",
    "            \n",
    "            cur_row <- params_rows[i]\n",
    "            wghts <- as.numeric(df_params[i,])\n",
    "            names(wghts) <- colnames(df_params)\n",
    "            \n",
    "            train_list <- test_list <- vector(\"list\", length= folds)\n",
    "            for(j in 1:folds) {\n",
    "                testdat <- dat[row_list[[j]],]\n",
    "                traindat <- dat[which(!(rownames(dat) %in% rownames(testdat))),]\n",
    "                stopifnot((length(rownames(traindat)) + length(rownames(testdat))) == nrow(dat))\n",
    "                test_list[[j]] <- testdat\n",
    "                train_list[[j]] <- traindat\n",
    "            }\n",
    "            # When there are only 5 folds, only 5 cores get used.\n",
    "            scores <- mcmapply(get_tot.withinss02, train_list, test_list,\n",
    "                               MoreArgs= list(wghts=wghts),\n",
    "                               SIMPLIFY= TRUE, mc.cores=5)\n",
    "            \n",
    "            # For the current seed, store the average of the tot.withinss\n",
    "            # scores, the average taken over the folds.\n",
    "            df_scores[as.character(cur_seed), cur_row] <- round(mean(scores), 5)\n",
    "        \n",
    "        } # end of for-loop, index i\n",
    "    } ## end of for-loop, index h\n",
    "    \n",
    "    # Compute the average over the seeds of the tot.withinss scores\n",
    "    # obtained for each set of parameters in df_params.\n",
    "    datout$tot.withinss <- round(apply(df_scores, MARGIN=2, mean), 5)\n",
    "    return(datout)\n",
    "}\n"
   ]
  },
  {
   "cell_type": "code",
   "execution_count": 18,
   "metadata": {},
   "outputs": [
    {
     "data": {
      "text/html": [
       "<style>\n",
       ".list-inline {list-style: none; margin:0; padding: 0}\n",
       ".list-inline>li {display: inline-block}\n",
       ".list-inline>li:not(:last-child)::after {content: \"\\00b7\"; padding: 0 .5ex}\n",
       "</style>\n",
       "<ol class=list-inline><li>8801</li><li>5</li></ol>\n"
      ],
      "text/latex": [
       "\\begin{enumerate*}\n",
       "\\item 8801\n",
       "\\item 5\n",
       "\\end{enumerate*}\n"
      ],
      "text/markdown": [
       "1. 8801\n",
       "2. 5\n",
       "\n",
       "\n"
      ],
      "text/plain": [
       "[1] 8801    5"
      ]
     },
     "metadata": {},
     "output_type": "display_data"
    }
   ],
   "source": [
    "# There are 5 parameter lists to work with.  Start by \n",
    "# exploring the region around the space where all \n",
    "# parameters have an equal weight---in this case, a \n",
    "# weight of 0.20.\n",
    "\n",
    "lst <- vector(\"list\", length= 5)\n",
    "names(lst) <- c(colnames(train)[-1], \"prob01\",\"prob02\")\n",
    "\n",
    "lst[[1]] <- lst[[2]] <- lst[[3]] <- lst[[4]] <- lst[[5]] <- seq(0.10, 0.30, by=0.02)\n",
    "\n",
    "start <- Sys.time()\n",
    "dfc01 <- generate_combs(lst)\n",
    "stop <- Sys.time()\n",
    "# round(stop - start, 2)\n",
    "\n",
    "dim(dfc01)\n",
    "#  8,801     5\n"
   ]
  },
  {
   "cell_type": "code",
   "execution_count": 24,
   "metadata": {},
   "outputs": [
    {
     "data": {
      "text/html": [
       "<table class=\"dataframe\">\n",
       "<caption>A data.frame: 6 × 5</caption>\n",
       "<thead>\n",
       "\t<tr><th></th><th scope=col>Hue</th><th scope=col>Phenols</th><th scope=col>Alcalinity</th><th scope=col>prob01</th><th scope=col>prob02</th></tr>\n",
       "\t<tr><th></th><th scope=col>&lt;dbl&gt;</th><th scope=col>&lt;dbl&gt;</th><th scope=col>&lt;dbl&gt;</th><th scope=col>&lt;dbl&gt;</th><th scope=col>&lt;dbl&gt;</th></tr>\n",
       "</thead>\n",
       "<tbody>\n",
       "\t<tr><th scope=row>47656</th><td>0.16</td><td>0.28</td><td>0.26</td><td>0.14</td><td>0.16</td></tr>\n",
       "\t<tr><th scope=row>94566</th><td>0.28</td><td>0.20</td><td>0.10</td><td>0.20</td><td>0.22</td></tr>\n",
       "\t<tr><th scope=row>26846</th><td>0.20</td><td>0.28</td><td>0.12</td><td>0.28</td><td>0.12</td></tr>\n",
       "\t<tr><th scope=row>10006</th><td>0.22</td><td>0.24</td><td>0.20</td><td>0.24</td><td>0.10</td></tr>\n",
       "\t<tr><th scope=row>136376</th><td>0.26</td><td>0.10</td><td>0.20</td><td>0.16</td><td>0.28</td></tr>\n",
       "\t<tr><th scope=row>73086</th><td>0.12</td><td>0.10</td><td>0.30</td><td>0.30</td><td>0.18</td></tr>\n",
       "</tbody>\n",
       "</table>\n"
      ],
      "text/latex": [
       "A data.frame: 6 × 5\n",
       "\\begin{tabular}{r|lllll}\n",
       "  & Hue & Phenols & Alcalinity & prob01 & prob02\\\\\n",
       "  & <dbl> & <dbl> & <dbl> & <dbl> & <dbl>\\\\\n",
       "\\hline\n",
       "\t47656 & 0.16 & 0.28 & 0.26 & 0.14 & 0.16\\\\\n",
       "\t94566 & 0.28 & 0.20 & 0.10 & 0.20 & 0.22\\\\\n",
       "\t26846 & 0.20 & 0.28 & 0.12 & 0.28 & 0.12\\\\\n",
       "\t10006 & 0.22 & 0.24 & 0.20 & 0.24 & 0.10\\\\\n",
       "\t136376 & 0.26 & 0.10 & 0.20 & 0.16 & 0.28\\\\\n",
       "\t73086 & 0.12 & 0.10 & 0.30 & 0.30 & 0.18\\\\\n",
       "\\end{tabular}\n"
      ],
      "text/markdown": [
       "\n",
       "A data.frame: 6 × 5\n",
       "\n",
       "| <!--/--> | Hue &lt;dbl&gt; | Phenols &lt;dbl&gt; | Alcalinity &lt;dbl&gt; | prob01 &lt;dbl&gt; | prob02 &lt;dbl&gt; |\n",
       "|---|---|---|---|---|---|\n",
       "| 47656 | 0.16 | 0.28 | 0.26 | 0.14 | 0.16 |\n",
       "| 94566 | 0.28 | 0.20 | 0.10 | 0.20 | 0.22 |\n",
       "| 26846 | 0.20 | 0.28 | 0.12 | 0.28 | 0.12 |\n",
       "| 10006 | 0.22 | 0.24 | 0.20 | 0.24 | 0.10 |\n",
       "| 136376 | 0.26 | 0.10 | 0.20 | 0.16 | 0.28 |\n",
       "| 73086 | 0.12 | 0.10 | 0.30 | 0.30 | 0.18 |\n",
       "\n"
      ],
      "text/plain": [
       "       Hue  Phenols Alcalinity prob01 prob02\n",
       "47656  0.16 0.28    0.26       0.14   0.16  \n",
       "94566  0.28 0.20    0.10       0.20   0.22  \n",
       "26846  0.20 0.28    0.12       0.28   0.12  \n",
       "10006  0.22 0.24    0.20       0.24   0.10  \n",
       "136376 0.26 0.10    0.20       0.16   0.28  \n",
       "73086  0.12 0.10    0.30       0.30   0.18  "
      ]
     },
     "metadata": {},
     "output_type": "display_data"
    }
   ],
   "source": [
    "# Test on a sample of 100.\n",
    "\n",
    "set.seed(42)\n",
    "smp <- sample(rownames(dfc01), 100, replace=FALSE)\n",
    "tst_params <- dfc01[smp,]\n",
    "head(tst_params)\n"
   ]
  },
  {
   "cell_type": "code",
   "execution_count": 25,
   "metadata": {},
   "outputs": [
    {
     "data": {
      "text/plain": [
       "Time difference of 7.82 mins"
      ]
     },
     "metadata": {},
     "output_type": "display_data"
    }
   ],
   "source": [
    "# Find the best weights of those in tst_params.\n",
    "# Use 120 seeds.\n",
    "\n",
    "set.seed(1233)\n",
    "seed_vector <- sample(1:9999, 120, replace=FALSE)\n",
    "\n",
    "start <- Sys.time()\n",
    "dat_result <- gridSearch07(seed_vector, train, tst_params) \n",
    "stop <- Sys.time()\n",
    "round(stop - start, 2)\n",
    "# Time difference of 7.82 mins (for 100 rows; 120 seeds each row)\n"
   ]
  },
  {
   "cell_type": "code",
   "execution_count": 26,
   "metadata": {},
   "outputs": [
    {
     "data": {
      "text/html": [
       "1"
      ],
      "text/latex": [
       "1"
      ],
      "text/markdown": [
       "1"
      ],
      "text/plain": [
       "[1] 1"
      ]
     },
     "metadata": {},
     "output_type": "display_data"
    }
   ],
   "source": [
    "best_params <- dat_result[which(dat_result$tot.withinss == \n",
    "                                min(dat_result$tot.withinss, na.rm=TRUE)),]$row\n",
    "length(best_params)\n",
    "\n",
    "best_tot.withinss <- round(dat_result[which(dat_result$tot.withinss == \n",
    "                                min(dat_result$tot.withinss, na.rm=TRUE)),]$tot.withinss, 2)\n"
   ]
  },
  {
   "cell_type": "code",
   "execution_count": 27,
   "metadata": {},
   "outputs": [
    {
     "data": {
      "text/html": [
       "<table class=\"dataframe\">\n",
       "<caption>A data.frame: 1 × 5</caption>\n",
       "<thead>\n",
       "\t<tr><th></th><th scope=col>Hue</th><th scope=col>Phenols</th><th scope=col>Alcalinity</th><th scope=col>prob01</th><th scope=col>prob02</th></tr>\n",
       "\t<tr><th></th><th scope=col>&lt;dbl&gt;</th><th scope=col>&lt;dbl&gt;</th><th scope=col>&lt;dbl&gt;</th><th scope=col>&lt;dbl&gt;</th><th scope=col>&lt;dbl&gt;</th></tr>\n",
       "</thead>\n",
       "<tbody>\n",
       "\t<tr><th scope=row>145126</th><td>0.14</td><td>0.18</td><td>0.1</td><td>0.3</td><td>0.28</td></tr>\n",
       "</tbody>\n",
       "</table>\n"
      ],
      "text/latex": [
       "A data.frame: 1 × 5\n",
       "\\begin{tabular}{r|lllll}\n",
       "  & Hue & Phenols & Alcalinity & prob01 & prob02\\\\\n",
       "  & <dbl> & <dbl> & <dbl> & <dbl> & <dbl>\\\\\n",
       "\\hline\n",
       "\t145126 & 0.14 & 0.18 & 0.1 & 0.3 & 0.28\\\\\n",
       "\\end{tabular}\n"
      ],
      "text/markdown": [
       "\n",
       "A data.frame: 1 × 5\n",
       "\n",
       "| <!--/--> | Hue &lt;dbl&gt; | Phenols &lt;dbl&gt; | Alcalinity &lt;dbl&gt; | prob01 &lt;dbl&gt; | prob02 &lt;dbl&gt; |\n",
       "|---|---|---|---|---|---|\n",
       "| 145126 | 0.14 | 0.18 | 0.1 | 0.3 | 0.28 |\n",
       "\n"
      ],
      "text/plain": [
       "       Hue  Phenols Alcalinity prob01 prob02\n",
       "145126 0.14 0.18    0.1        0.3    0.28  "
      ]
     },
     "metadata": {},
     "output_type": "display_data"
    },
    {
     "data": {
      "text/html": [
       "0.55"
      ],
      "text/latex": [
       "0.55"
      ],
      "text/markdown": [
       "0.55"
      ],
      "text/plain": [
       "[1] 0.55"
      ]
     },
     "metadata": {},
     "output_type": "display_data"
    }
   ],
   "source": [
    "dfc01[best_params,]\n",
    "\n",
    "best_tot.withinss\n"
   ]
  },
  {
   "cell_type": "code",
   "execution_count": null,
   "metadata": {},
   "outputs": [],
   "source": [
    "### COMMENT:\n",
    "\n",
    "# I will search 5000 of the 8801 weight combinations.  This \n",
    "# should take approximately 6.5 hours.\n"
   ]
  },
  {
   "cell_type": "code",
   "execution_count": 28,
   "metadata": {},
   "outputs": [
    {
     "data": {
      "text/html": [
       "<style>\n",
       ".list-inline {list-style: none; margin:0; padding: 0}\n",
       ".list-inline>li {display: inline-block}\n",
       ".list-inline>li:not(:last-child)::after {content: \"\\00b7\"; padding: 0 .5ex}\n",
       "</style>\n",
       "<ol class=list-inline><li>3801</li><li>5</li></ol>\n"
      ],
      "text/latex": [
       "\\begin{enumerate*}\n",
       "\\item 3801\n",
       "\\item 5\n",
       "\\end{enumerate*}\n"
      ],
      "text/markdown": [
       "1. 3801\n",
       "2. 5\n",
       "\n",
       "\n"
      ],
      "text/plain": [
       "[1] 3801    5"
      ]
     },
     "metadata": {},
     "output_type": "display_data"
    }
   ],
   "source": [
    "set.seed(42)\n",
    "smp <- sample(rownames(dfc01), 5000, replace=FALSE)\n",
    "tst_params <- dfc01[smp,]\n",
    "remaining <- dfc01[which(!(rownames(dfc01) %in% rownames(tst_params))),]\n",
    "dim(remaining)\n"
   ]
  },
  {
   "cell_type": "code",
   "execution_count": 29,
   "metadata": {},
   "outputs": [],
   "source": [
    "save(remaining, file=\"/home/greg/Documents/stat/github_repos/nudging_kmeans/untested_weights.Rdata\")\n"
   ]
  },
  {
   "cell_type": "code",
   "execution_count": 30,
   "metadata": {},
   "outputs": [
    {
     "data": {
      "text/plain": [
       "Time difference of 7.93 hours"
      ]
     },
     "metadata": {},
     "output_type": "display_data"
    }
   ],
   "source": [
    "# Find the best weights of those in tst_params.\n",
    "# Use 120 seeds.\n",
    "\n",
    "set.seed(1233)\n",
    "seed_vector <- sample(1:9999, 120, replace=FALSE)\n",
    "\n",
    "start <- Sys.time()\n",
    "paste0(\"Start time: \", start)\n",
    "dat_result <- gridSearch07(seed_vector, train, tst_params) \n",
    "stop <- Sys.time()\n",
    "round(stop - start, 2)\n",
    "# Time difference of 7.93 hours (for 5000 rows; 120 seeds each row)\n"
   ]
  },
  {
   "cell_type": "code",
   "execution_count": 31,
   "metadata": {},
   "outputs": [],
   "source": [
    "save(dat_result, file=\"/home/greg/Documents/stat/github_repos/nudging_kmeans/processed_weights.Rdata\")\n"
   ]
  },
  {
   "cell_type": "code",
   "execution_count": 34,
   "metadata": {},
   "outputs": [
    {
     "data": {
      "text/html": [
       "1"
      ],
      "text/latex": [
       "1"
      ],
      "text/markdown": [
       "1"
      ],
      "text/plain": [
       "[1] 1"
      ]
     },
     "metadata": {},
     "output_type": "display_data"
    }
   ],
   "source": [
    "best_params <- dat_result[which(dat_result$tot.withinss == \n",
    "                                min(dat_result$tot.withinss, na.rm=TRUE)),]$row\n",
    "length(best_params)\n",
    "\n",
    "best_tot.withinss <- round(dat_result[which(dat_result$tot.withinss == \n",
    "                                min(dat_result$tot.withinss, na.rm=TRUE)),]$tot.withinss, 5)\n"
   ]
  },
  {
   "cell_type": "code",
   "execution_count": 35,
   "metadata": {},
   "outputs": [
    {
     "data": {
      "text/html": [
       "<table class=\"dataframe\">\n",
       "<caption>A data.frame: 1 × 5</caption>\n",
       "<thead>\n",
       "\t<tr><th></th><th scope=col>Hue</th><th scope=col>Phenols</th><th scope=col>Alcalinity</th><th scope=col>prob01</th><th scope=col>prob02</th></tr>\n",
       "\t<tr><th></th><th scope=col>&lt;dbl&gt;</th><th scope=col>&lt;dbl&gt;</th><th scope=col>&lt;dbl&gt;</th><th scope=col>&lt;dbl&gt;</th><th scope=col>&lt;dbl&gt;</th></tr>\n",
       "</thead>\n",
       "<tbody>\n",
       "\t<tr><th scope=row>159776</th><td>0.1</td><td>0.2</td><td>0.1</td><td>0.3</td><td>0.3</td></tr>\n",
       "</tbody>\n",
       "</table>\n"
      ],
      "text/latex": [
       "A data.frame: 1 × 5\n",
       "\\begin{tabular}{r|lllll}\n",
       "  & Hue & Phenols & Alcalinity & prob01 & prob02\\\\\n",
       "  & <dbl> & <dbl> & <dbl> & <dbl> & <dbl>\\\\\n",
       "\\hline\n",
       "\t159776 & 0.1 & 0.2 & 0.1 & 0.3 & 0.3\\\\\n",
       "\\end{tabular}\n"
      ],
      "text/markdown": [
       "\n",
       "A data.frame: 1 × 5\n",
       "\n",
       "| <!--/--> | Hue &lt;dbl&gt; | Phenols &lt;dbl&gt; | Alcalinity &lt;dbl&gt; | prob01 &lt;dbl&gt; | prob02 &lt;dbl&gt; |\n",
       "|---|---|---|---|---|---|\n",
       "| 159776 | 0.1 | 0.2 | 0.1 | 0.3 | 0.3 |\n",
       "\n"
      ],
      "text/plain": [
       "       Hue Phenols Alcalinity prob01 prob02\n",
       "159776 0.1 0.2     0.1        0.3    0.3   "
      ]
     },
     "metadata": {},
     "output_type": "display_data"
    },
    {
     "data": {
      "text/html": [
       "0.5428"
      ],
      "text/latex": [
       "0.5428"
      ],
      "text/markdown": [
       "0.5428"
      ],
      "text/plain": [
       "[1] 0.5428"
      ]
     },
     "metadata": {},
     "output_type": "display_data"
    }
   ],
   "source": [
    "dfc01[best_params,]\n",
    "#       \tHue \tPhenols \t Alcalinity  \t prob01 \t prob02\n",
    "\n",
    "# 159776\t0.1     \t0.2         \t0.1     \t0.3     \t0.3\n",
    "\n",
    "\n",
    "best_tot.withinss\n",
    "# 0.5428\n"
   ]
  },
  {
   "cell_type": "code",
   "execution_count": 36,
   "metadata": {},
   "outputs": [
    {
     "data": {
      "text/html": [
       "<table class=\"dataframe\">\n",
       "<caption>A data.frame: 15 × 2</caption>\n",
       "<thead>\n",
       "\t<tr><th></th><th scope=col>row</th><th scope=col>tot.withinss</th></tr>\n",
       "\t<tr><th></th><th scope=col>&lt;chr&gt;</th><th scope=col>&lt;dbl&gt;</th></tr>\n",
       "</thead>\n",
       "<tbody>\n",
       "\t<tr><th scope=row>2071</th><td>159776</td><td>0.54280</td></tr>\n",
       "\t<tr><th scope=row>2384</th><td>159756</td><td>0.54420</td></tr>\n",
       "\t<tr><th scope=row>3975</th><td>159766</td><td>0.54421</td></tr>\n",
       "\t<tr><th scope=row>1615</th><td>145146</td><td>0.54453</td></tr>\n",
       "\t<tr><th scope=row>939</th><td>153176</td><td>0.54456</td></tr>\n",
       "\t<tr><th scope=row>2008</th><td>157126</td><td>0.54492</td></tr>\n",
       "\t<tr><th scope=row>3441</th><td>159886</td><td>0.54503</td></tr>\n",
       "\t<tr><th scope=row>4654</th><td>139866</td><td>0.54511</td></tr>\n",
       "\t<tr><th scope=row>515</th><td>151846</td><td>0.54563</td></tr>\n",
       "\t<tr><th scope=row>2091</th><td>153166</td><td>0.54584</td></tr>\n",
       "\t<tr><th scope=row>2748</th><td>129196</td><td>0.54608</td></tr>\n",
       "\t<tr><th scope=row>4255</th><td>127876</td><td>0.54618</td></tr>\n",
       "\t<tr><th scope=row>1465</th><td>115886</td><td>0.54622</td></tr>\n",
       "\t<tr><th scope=row>1647</th><td>159876</td><td>0.54632</td></tr>\n",
       "\t<tr><th scope=row>2642</th><td>158426</td><td>0.54633</td></tr>\n",
       "</tbody>\n",
       "</table>\n"
      ],
      "text/latex": [
       "A data.frame: 15 × 2\n",
       "\\begin{tabular}{r|ll}\n",
       "  & row & tot.withinss\\\\\n",
       "  & <chr> & <dbl>\\\\\n",
       "\\hline\n",
       "\t2071 & 159776 & 0.54280\\\\\n",
       "\t2384 & 159756 & 0.54420\\\\\n",
       "\t3975 & 159766 & 0.54421\\\\\n",
       "\t1615 & 145146 & 0.54453\\\\\n",
       "\t939 & 153176 & 0.54456\\\\\n",
       "\t2008 & 157126 & 0.54492\\\\\n",
       "\t3441 & 159886 & 0.54503\\\\\n",
       "\t4654 & 139866 & 0.54511\\\\\n",
       "\t515 & 151846 & 0.54563\\\\\n",
       "\t2091 & 153166 & 0.54584\\\\\n",
       "\t2748 & 129196 & 0.54608\\\\\n",
       "\t4255 & 127876 & 0.54618\\\\\n",
       "\t1465 & 115886 & 0.54622\\\\\n",
       "\t1647 & 159876 & 0.54632\\\\\n",
       "\t2642 & 158426 & 0.54633\\\\\n",
       "\\end{tabular}\n"
      ],
      "text/markdown": [
       "\n",
       "A data.frame: 15 × 2\n",
       "\n",
       "| <!--/--> | row &lt;chr&gt; | tot.withinss &lt;dbl&gt; |\n",
       "|---|---|---|\n",
       "| 2071 | 159776 | 0.54280 |\n",
       "| 2384 | 159756 | 0.54420 |\n",
       "| 3975 | 159766 | 0.54421 |\n",
       "| 1615 | 145146 | 0.54453 |\n",
       "| 939 | 153176 | 0.54456 |\n",
       "| 2008 | 157126 | 0.54492 |\n",
       "| 3441 | 159886 | 0.54503 |\n",
       "| 4654 | 139866 | 0.54511 |\n",
       "| 515 | 151846 | 0.54563 |\n",
       "| 2091 | 153166 | 0.54584 |\n",
       "| 2748 | 129196 | 0.54608 |\n",
       "| 4255 | 127876 | 0.54618 |\n",
       "| 1465 | 115886 | 0.54622 |\n",
       "| 1647 | 159876 | 0.54632 |\n",
       "| 2642 | 158426 | 0.54633 |\n",
       "\n"
      ],
      "text/plain": [
       "     row    tot.withinss\n",
       "2071 159776 0.54280     \n",
       "2384 159756 0.54420     \n",
       "3975 159766 0.54421     \n",
       "1615 145146 0.54453     \n",
       "939  153176 0.54456     \n",
       "2008 157126 0.54492     \n",
       "3441 159886 0.54503     \n",
       "4654 139866 0.54511     \n",
       "515  151846 0.54563     \n",
       "2091 153166 0.54584     \n",
       "2748 129196 0.54608     \n",
       "4255 127876 0.54618     \n",
       "1465 115886 0.54622     \n",
       "1647 159876 0.54632     \n",
       "2642 158426 0.54633     "
      ]
     },
     "metadata": {},
     "output_type": "display_data"
    }
   ],
   "source": [
    "dat01 <- dat_result[order(dat_result$tot.withinss, decreasing=FALSE),]\n",
    "dat01[1:15,]\n"
   ]
  },
  {
   "cell_type": "code",
   "execution_count": 37,
   "metadata": {},
   "outputs": [
    {
     "data": {
      "text/html": [
       "<table class=\"dataframe\">\n",
       "<caption>A data.frame: 10 × 6</caption>\n",
       "<thead>\n",
       "\t<tr><th></th><th scope=col>Hue</th><th scope=col>Phenols</th><th scope=col>Alcalinity</th><th scope=col>prob01</th><th scope=col>prob02</th><th scope=col>withinss.vals</th></tr>\n",
       "\t<tr><th></th><th scope=col>&lt;dbl&gt;</th><th scope=col>&lt;dbl&gt;</th><th scope=col>&lt;dbl&gt;</th><th scope=col>&lt;dbl&gt;</th><th scope=col>&lt;dbl&gt;</th><th scope=col>&lt;dbl&gt;</th></tr>\n",
       "</thead>\n",
       "<tbody>\n",
       "\t<tr><th scope=row>159776</th><td>0.10</td><td>0.20</td><td>0.10</td><td>0.30</td><td>0.30</td><td>0.54280</td></tr>\n",
       "\t<tr><th scope=row>159756</th><td>0.14</td><td>0.16</td><td>0.10</td><td>0.30</td><td>0.30</td><td>0.54420</td></tr>\n",
       "\t<tr><th scope=row>159766</th><td>0.12</td><td>0.18</td><td>0.10</td><td>0.30</td><td>0.30</td><td>0.54421</td></tr>\n",
       "\t<tr><th scope=row>145146</th><td>0.10</td><td>0.22</td><td>0.10</td><td>0.30</td><td>0.28</td><td>0.54453</td></tr>\n",
       "\t<tr><th scope=row>153176</th><td>0.10</td><td>0.30</td><td>0.10</td><td>0.20</td><td>0.30</td><td>0.54456</td></tr>\n",
       "\t<tr><th scope=row>157126</th><td>0.12</td><td>0.22</td><td>0.10</td><td>0.26</td><td>0.30</td><td>0.54492</td></tr>\n",
       "\t<tr><th scope=row>159886</th><td>0.10</td><td>0.18</td><td>0.12</td><td>0.30</td><td>0.30</td><td>0.54503</td></tr>\n",
       "\t<tr><th scope=row>139866</th><td>0.10</td><td>0.30</td><td>0.10</td><td>0.22</td><td>0.28</td><td>0.54511</td></tr>\n",
       "\t<tr><th scope=row>151846</th><td>0.12</td><td>0.30</td><td>0.10</td><td>0.18</td><td>0.30</td><td>0.54563</td></tr>\n",
       "\t<tr><th scope=row>153166</th><td>0.12</td><td>0.28</td><td>0.10</td><td>0.20</td><td>0.30</td><td>0.54584</td></tr>\n",
       "</tbody>\n",
       "</table>\n"
      ],
      "text/latex": [
       "A data.frame: 10 × 6\n",
       "\\begin{tabular}{r|llllll}\n",
       "  & Hue & Phenols & Alcalinity & prob01 & prob02 & withinss.vals\\\\\n",
       "  & <dbl> & <dbl> & <dbl> & <dbl> & <dbl> & <dbl>\\\\\n",
       "\\hline\n",
       "\t159776 & 0.10 & 0.20 & 0.10 & 0.30 & 0.30 & 0.54280\\\\\n",
       "\t159756 & 0.14 & 0.16 & 0.10 & 0.30 & 0.30 & 0.54420\\\\\n",
       "\t159766 & 0.12 & 0.18 & 0.10 & 0.30 & 0.30 & 0.54421\\\\\n",
       "\t145146 & 0.10 & 0.22 & 0.10 & 0.30 & 0.28 & 0.54453\\\\\n",
       "\t153176 & 0.10 & 0.30 & 0.10 & 0.20 & 0.30 & 0.54456\\\\\n",
       "\t157126 & 0.12 & 0.22 & 0.10 & 0.26 & 0.30 & 0.54492\\\\\n",
       "\t159886 & 0.10 & 0.18 & 0.12 & 0.30 & 0.30 & 0.54503\\\\\n",
       "\t139866 & 0.10 & 0.30 & 0.10 & 0.22 & 0.28 & 0.54511\\\\\n",
       "\t151846 & 0.12 & 0.30 & 0.10 & 0.18 & 0.30 & 0.54563\\\\\n",
       "\t153166 & 0.12 & 0.28 & 0.10 & 0.20 & 0.30 & 0.54584\\\\\n",
       "\\end{tabular}\n"
      ],
      "text/markdown": [
       "\n",
       "A data.frame: 10 × 6\n",
       "\n",
       "| <!--/--> | Hue &lt;dbl&gt; | Phenols &lt;dbl&gt; | Alcalinity &lt;dbl&gt; | prob01 &lt;dbl&gt; | prob02 &lt;dbl&gt; | withinss.vals &lt;dbl&gt; |\n",
       "|---|---|---|---|---|---|---|\n",
       "| 159776 | 0.10 | 0.20 | 0.10 | 0.30 | 0.30 | 0.54280 |\n",
       "| 159756 | 0.14 | 0.16 | 0.10 | 0.30 | 0.30 | 0.54420 |\n",
       "| 159766 | 0.12 | 0.18 | 0.10 | 0.30 | 0.30 | 0.54421 |\n",
       "| 145146 | 0.10 | 0.22 | 0.10 | 0.30 | 0.28 | 0.54453 |\n",
       "| 153176 | 0.10 | 0.30 | 0.10 | 0.20 | 0.30 | 0.54456 |\n",
       "| 157126 | 0.12 | 0.22 | 0.10 | 0.26 | 0.30 | 0.54492 |\n",
       "| 159886 | 0.10 | 0.18 | 0.12 | 0.30 | 0.30 | 0.54503 |\n",
       "| 139866 | 0.10 | 0.30 | 0.10 | 0.22 | 0.28 | 0.54511 |\n",
       "| 151846 | 0.12 | 0.30 | 0.10 | 0.18 | 0.30 | 0.54563 |\n",
       "| 153166 | 0.12 | 0.28 | 0.10 | 0.20 | 0.30 | 0.54584 |\n",
       "\n"
      ],
      "text/plain": [
       "       Hue  Phenols Alcalinity prob01 prob02 withinss.vals\n",
       "159776 0.10 0.20    0.10       0.30   0.30   0.54280      \n",
       "159756 0.14 0.16    0.10       0.30   0.30   0.54420      \n",
       "159766 0.12 0.18    0.10       0.30   0.30   0.54421      \n",
       "145146 0.10 0.22    0.10       0.30   0.28   0.54453      \n",
       "153176 0.10 0.30    0.10       0.20   0.30   0.54456      \n",
       "157126 0.12 0.22    0.10       0.26   0.30   0.54492      \n",
       "159886 0.10 0.18    0.12       0.30   0.30   0.54503      \n",
       "139866 0.10 0.30    0.10       0.22   0.28   0.54511      \n",
       "151846 0.12 0.30    0.10       0.18   0.30   0.54563      \n",
       "153166 0.12 0.28    0.10       0.20   0.30   0.54584      "
      ]
     },
     "metadata": {},
     "output_type": "display_data"
    }
   ],
   "source": [
    "bestrows <- as.character(dat01$row)[1:10]\n",
    "withinss.vals <- dat01[1:10, c(\"tot.withinss\")]\n",
    "dat01_b <- cbind(dfc01[bestrows, ], withinss.vals)\n",
    "dat01_b\n"
   ]
  },
  {
   "cell_type": "code",
   "execution_count": null,
   "metadata": {},
   "outputs": [],
   "source": [
    "### COMMENTS:\n",
    "\n",
    "# The best weights identified are almost all at the limits\n",
    "# of the tested parameter space: 0.10 was the smallest \n",
    "# possible value, and 0.30 was the largest.  Thus, we\n",
    "# might see even smaller total withinss in regions that\n",
    "# have yet to be tested.\n"
   ]
  },
  {
   "cell_type": "code",
   "execution_count": 41,
   "metadata": {},
   "outputs": [
    {
     "data": {
      "text/html": [
       "<style>\n",
       ".list-inline {list-style: none; margin:0; padding: 0}\n",
       ".list-inline>li {display: inline-block}\n",
       ".list-inline>li:not(:last-child)::after {content: \"\\00b7\"; padding: 0 .5ex}\n",
       "</style>\n",
       "<ol class=list-inline><li>309</li><li>5</li></ol>\n"
      ],
      "text/latex": [
       "\\begin{enumerate*}\n",
       "\\item 309\n",
       "\\item 5\n",
       "\\end{enumerate*}\n"
      ],
      "text/markdown": [
       "1. 309\n",
       "2. 5\n",
       "\n",
       "\n"
      ],
      "text/plain": [
       "[1] 309   5"
      ]
     },
     "metadata": {},
     "output_type": "display_data"
    }
   ],
   "source": [
    "# Refine the search a bit.\n",
    "\n",
    "lst <- vector(\"list\", length= 5)\n",
    "names(lst) <- c(colnames(train)[-1], \"prob01\",\"prob02\")\n",
    "\n",
    "lst[[1]] <- seq(0.08, 0.12, by=0.01)\n",
    "lst[[2]] <- seq(0.18, 0.22, by=0.01)\n",
    "lst[[3]] <- seq(0.08, 0.12, by=0.01)\n",
    "lst[[4]] <- seq(0.28, 0.34, by=0.01)\n",
    "lst[[5]] <- seq(0.28, 0.34, by=0.02)\n",
    "\n",
    "start <- Sys.time()\n",
    "dfc02 <- generate_combs(lst)\n",
    "stop <- Sys.time()\n",
    "# round(stop - start, 2)\n",
    "\n",
    "dim(dfc02)\n",
    "#  8,801     5\n"
   ]
  },
  {
   "cell_type": "code",
   "execution_count": 42,
   "metadata": {},
   "outputs": [
    {
     "data": {
      "text/html": [
       "<style>\n",
       ".list-inline {list-style: none; margin:0; padding: 0}\n",
       ".list-inline>li {display: inline-block}\n",
       ".list-inline>li:not(:last-child)::after {content: \"\\00b7\"; padding: 0 .5ex}\n",
       "</style>\n",
       "<ol class=list-inline><li>310</li><li>5</li></ol>\n"
      ],
      "text/latex": [
       "\\begin{enumerate*}\n",
       "\\item 310\n",
       "\\item 5\n",
       "\\end{enumerate*}\n"
      ],
      "text/markdown": [
       "1. 310\n",
       "2. 5\n",
       "\n",
       "\n"
      ],
      "text/plain": [
       "[1] 310   5"
      ]
     },
     "metadata": {},
     "output_type": "display_data"
    }
   ],
   "source": [
    "# Add in the no-weights combination.\n",
    "\n",
    "dfc02 <- rbind(dfc02, rep(0.20, 5))\n",
    "dim(dfc02)\n"
   ]
  },
  {
   "cell_type": "code",
   "execution_count": 45,
   "metadata": {},
   "outputs": [
    {
     "data": {
      "text/html": [
       "'Start time: 2021-06-01 09:12:07'"
      ],
      "text/latex": [
       "'Start time: 2021-06-01 09:12:07'"
      ],
      "text/markdown": [
       "'Start time: 2021-06-01 09:12:07'"
      ],
      "text/plain": [
       "[1] \"Start time: 2021-06-01 09:12:07\""
      ]
     },
     "metadata": {},
     "output_type": "display_data"
    },
    {
     "data": {
      "text/plain": [
       "Time difference of 2.11 hours"
      ]
     },
     "metadata": {},
     "output_type": "display_data"
    }
   ],
   "source": [
    "# Find the best weights of those in dfc02.\n",
    "# Use 120 seeds.  Use gridSearch03.\n",
    "\n",
    "set.seed(1987)\n",
    "seed_vector <- sample(1:9999, 120, replace=FALSE)\n",
    "\n",
    "start <- Sys.time()\n",
    "paste0(\"Start time: \", start)\n",
    "dat_result <- gridSearch03(seed_vector, train, dfc02) \n",
    "stop <- Sys.time()\n",
    "round(stop - start, 2)\n",
    "# Time difference of 2.11 hours\n",
    "\n",
    "# This time difference tells us that for this 178 record\n",
    "# dataset, the alternative method of finding weights is\n",
    "# 5.2X faster.\n"
   ]
  },
  {
   "cell_type": "code",
   "execution_count": 48,
   "metadata": {},
   "outputs": [
    {
     "data": {
      "text/html": [
       "5e-04"
      ],
      "text/latex": [
       "5e-04"
      ],
      "text/markdown": [
       "5e-04"
      ],
      "text/plain": [
       "[1] 5e-04"
      ]
     },
     "metadata": {},
     "output_type": "display_data"
    },
    {
     "data": {
      "text/html": [
       "0.0027"
      ],
      "text/latex": [
       "0.0027"
      ],
      "text/markdown": [
       "0.0027"
      ],
      "text/plain": [
       "[1] 0.0027"
      ]
     },
     "metadata": {},
     "output_type": "display_data"
    }
   ],
   "source": [
    "round(sd(dat_result$Acc), 4)\n",
    "# 0.0005\n",
    "\n",
    "round((max(dat_result$Acc) - min(dat_result$Acc)), 4)\n",
    "# 0.0027\n"
   ]
  },
  {
   "cell_type": "code",
   "execution_count": null,
   "metadata": {},
   "outputs": [],
   "source": [
    "### COMMENT:\n",
    "\n",
    "# Note the low standard deviation for the 310 weight \n",
    "# combinations and the low range.  Our \"no weights\"\n",
    "# combination is among the 310.  \n"
   ]
  },
  {
   "cell_type": "code",
   "execution_count": 49,
   "metadata": {},
   "outputs": [
    {
     "data": {
      "text/html": [
       "2"
      ],
      "text/latex": [
       "2"
      ],
      "text/markdown": [
       "2"
      ],
      "text/plain": [
       "[1] 2"
      ]
     },
     "metadata": {},
     "output_type": "display_data"
    }
   ],
   "source": [
    "best_params <- dat_result[which(dat_result$Acc == \n",
    "                                max(dat_result$Acc, na.rm=TRUE)),]$row\n",
    "length(best_params)\n",
    "\n",
    "best_Acc <- dat_result[which(dat_result$Acc == \n",
    "                                max(dat_result$Acc, na.rm=TRUE)),]$Acc\n"
   ]
  },
  {
   "cell_type": "code",
   "execution_count": 50,
   "metadata": {},
   "outputs": [
    {
     "data": {
      "text/html": [
       "<table class=\"dataframe\">\n",
       "<caption>A data.frame: 2 × 5</caption>\n",
       "<thead>\n",
       "\t<tr><th></th><th scope=col>Hue</th><th scope=col>Phenols</th><th scope=col>Alcalinity</th><th scope=col>prob01</th><th scope=col>prob02</th></tr>\n",
       "\t<tr><th></th><th scope=col>&lt;dbl&gt;</th><th scope=col>&lt;dbl&gt;</th><th scope=col>&lt;dbl&gt;</th><th scope=col>&lt;dbl&gt;</th><th scope=col>&lt;dbl&gt;</th></tr>\n",
       "</thead>\n",
       "<tbody>\n",
       "\t<tr><th scope=row>515</th><td>0.12</td><td>0.20</td><td>0.08</td><td>0.32</td><td>0.28</td></tr>\n",
       "\t<tr><th scope=row>1284</th><td>0.11</td><td>0.19</td><td>0.09</td><td>0.31</td><td>0.30</td></tr>\n",
       "</tbody>\n",
       "</table>\n"
      ],
      "text/latex": [
       "A data.frame: 2 × 5\n",
       "\\begin{tabular}{r|lllll}\n",
       "  & Hue & Phenols & Alcalinity & prob01 & prob02\\\\\n",
       "  & <dbl> & <dbl> & <dbl> & <dbl> & <dbl>\\\\\n",
       "\\hline\n",
       "\t515 & 0.12 & 0.20 & 0.08 & 0.32 & 0.28\\\\\n",
       "\t1284 & 0.11 & 0.19 & 0.09 & 0.31 & 0.30\\\\\n",
       "\\end{tabular}\n"
      ],
      "text/markdown": [
       "\n",
       "A data.frame: 2 × 5\n",
       "\n",
       "| <!--/--> | Hue &lt;dbl&gt; | Phenols &lt;dbl&gt; | Alcalinity &lt;dbl&gt; | prob01 &lt;dbl&gt; | prob02 &lt;dbl&gt; |\n",
       "|---|---|---|---|---|---|\n",
       "| 515 | 0.12 | 0.20 | 0.08 | 0.32 | 0.28 |\n",
       "| 1284 | 0.11 | 0.19 | 0.09 | 0.31 | 0.30 |\n",
       "\n"
      ],
      "text/plain": [
       "     Hue  Phenols Alcalinity prob01 prob02\n",
       "515  0.12 0.20    0.08       0.32   0.28  \n",
       "1284 0.11 0.19    0.09       0.31   0.30  "
      ]
     },
     "metadata": {},
     "output_type": "display_data"
    }
   ],
   "source": [
    "dfc02[best_params,]\n",
    "#       \t Hue \t Phenols \t Alcalinity \tprob01  \tprob02\n",
    "\n",
    "# 515   \t0.12    \t0.20 \t       0.08 \t  0.32  \t  0.28\n"
   ]
  },
  {
   "cell_type": "code",
   "execution_count": 51,
   "metadata": {},
   "outputs": [
    {
     "data": {
      "text/html": [
       "<table class=\"dataframe\">\n",
       "<caption>A data.frame: 10 × 2</caption>\n",
       "<thead>\n",
       "\t<tr><th></th><th scope=col>row</th><th scope=col>Acc</th></tr>\n",
       "\t<tr><th></th><th scope=col>&lt;chr&gt;</th><th scope=col>&lt;dbl&gt;</th></tr>\n",
       "</thead>\n",
       "<tbody>\n",
       "\t<tr><th scope=row>50</th><td>515 </td><td>0.83110</td></tr>\n",
       "\t<tr><th scope=row>159</th><td>1284</td><td>0.83110</td></tr>\n",
       "\t<tr><th scope=row>46</th><td>479 </td><td>0.83107</td></tr>\n",
       "\t<tr><th scope=row>69</th><td>635 </td><td>0.83088</td></tr>\n",
       "\t<tr><th scope=row>261</th><td>2161</td><td>0.83086</td></tr>\n",
       "\t<tr><th scope=row>192</th><td>1532</td><td>0.83082</td></tr>\n",
       "\t<tr><th scope=row>205</th><td>1773</td><td>0.83080</td></tr>\n",
       "\t<tr><th scope=row>308</th><td>3026</td><td>0.83080</td></tr>\n",
       "\t<tr><th scope=row>20</th><td>315 </td><td>0.83079</td></tr>\n",
       "\t<tr><th scope=row>165</th><td>1312</td><td>0.83078</td></tr>\n",
       "</tbody>\n",
       "</table>\n"
      ],
      "text/latex": [
       "A data.frame: 10 × 2\n",
       "\\begin{tabular}{r|ll}\n",
       "  & row & Acc\\\\\n",
       "  & <chr> & <dbl>\\\\\n",
       "\\hline\n",
       "\t50 & 515  & 0.83110\\\\\n",
       "\t159 & 1284 & 0.83110\\\\\n",
       "\t46 & 479  & 0.83107\\\\\n",
       "\t69 & 635  & 0.83088\\\\\n",
       "\t261 & 2161 & 0.83086\\\\\n",
       "\t192 & 1532 & 0.83082\\\\\n",
       "\t205 & 1773 & 0.83080\\\\\n",
       "\t308 & 3026 & 0.83080\\\\\n",
       "\t20 & 315  & 0.83079\\\\\n",
       "\t165 & 1312 & 0.83078\\\\\n",
       "\\end{tabular}\n"
      ],
      "text/markdown": [
       "\n",
       "A data.frame: 10 × 2\n",
       "\n",
       "| <!--/--> | row &lt;chr&gt; | Acc &lt;dbl&gt; |\n",
       "|---|---|---|\n",
       "| 50 | 515  | 0.83110 |\n",
       "| 159 | 1284 | 0.83110 |\n",
       "| 46 | 479  | 0.83107 |\n",
       "| 69 | 635  | 0.83088 |\n",
       "| 261 | 2161 | 0.83086 |\n",
       "| 192 | 1532 | 0.83082 |\n",
       "| 205 | 1773 | 0.83080 |\n",
       "| 308 | 3026 | 0.83080 |\n",
       "| 20 | 315  | 0.83079 |\n",
       "| 165 | 1312 | 0.83078 |\n",
       "\n"
      ],
      "text/plain": [
       "    row  Acc    \n",
       "50  515  0.83110\n",
       "159 1284 0.83110\n",
       "46  479  0.83107\n",
       "69  635  0.83088\n",
       "261 2161 0.83086\n",
       "192 1532 0.83082\n",
       "205 1773 0.83080\n",
       "308 3026 0.83080\n",
       "20  315  0.83079\n",
       "165 1312 0.83078"
      ]
     },
     "metadata": {},
     "output_type": "display_data"
    }
   ],
   "source": [
    "dat02 <- dat_result[order(dat_result$Acc, decreasing=TRUE),]\n",
    "dat02[1:10,]\n"
   ]
  },
  {
   "cell_type": "code",
   "execution_count": 52,
   "metadata": {},
   "outputs": [
    {
     "data": {
      "text/html": [
       "<table class=\"dataframe\">\n",
       "<caption>A data.frame: 3 × 6</caption>\n",
       "<thead>\n",
       "\t<tr><th></th><th scope=col>Hue</th><th scope=col>Phenols</th><th scope=col>Alcalinity</th><th scope=col>prob01</th><th scope=col>prob02</th><th scope=col>acc</th></tr>\n",
       "\t<tr><th></th><th scope=col>&lt;dbl&gt;</th><th scope=col>&lt;dbl&gt;</th><th scope=col>&lt;dbl&gt;</th><th scope=col>&lt;dbl&gt;</th><th scope=col>&lt;dbl&gt;</th><th scope=col>&lt;dbl&gt;</th></tr>\n",
       "</thead>\n",
       "<tbody>\n",
       "\t<tr><th scope=row>515</th><td>0.12</td><td>0.20</td><td>0.08</td><td>0.32</td><td>0.28</td><td>0.83110</td></tr>\n",
       "\t<tr><th scope=row>1284</th><td>0.11</td><td>0.19</td><td>0.09</td><td>0.31</td><td>0.30</td><td>0.83110</td></tr>\n",
       "\t<tr><th scope=row>479</th><td>0.11</td><td>0.18</td><td>0.12</td><td>0.31</td><td>0.28</td><td>0.83107</td></tr>\n",
       "</tbody>\n",
       "</table>\n"
      ],
      "text/latex": [
       "A data.frame: 3 × 6\n",
       "\\begin{tabular}{r|llllll}\n",
       "  & Hue & Phenols & Alcalinity & prob01 & prob02 & acc\\\\\n",
       "  & <dbl> & <dbl> & <dbl> & <dbl> & <dbl> & <dbl>\\\\\n",
       "\\hline\n",
       "\t515 & 0.12 & 0.20 & 0.08 & 0.32 & 0.28 & 0.83110\\\\\n",
       "\t1284 & 0.11 & 0.19 & 0.09 & 0.31 & 0.30 & 0.83110\\\\\n",
       "\t479 & 0.11 & 0.18 & 0.12 & 0.31 & 0.28 & 0.83107\\\\\n",
       "\\end{tabular}\n"
      ],
      "text/markdown": [
       "\n",
       "A data.frame: 3 × 6\n",
       "\n",
       "| <!--/--> | Hue &lt;dbl&gt; | Phenols &lt;dbl&gt; | Alcalinity &lt;dbl&gt; | prob01 &lt;dbl&gt; | prob02 &lt;dbl&gt; | acc &lt;dbl&gt; |\n",
       "|---|---|---|---|---|---|---|\n",
       "| 515 | 0.12 | 0.20 | 0.08 | 0.32 | 0.28 | 0.83110 |\n",
       "| 1284 | 0.11 | 0.19 | 0.09 | 0.31 | 0.30 | 0.83110 |\n",
       "| 479 | 0.11 | 0.18 | 0.12 | 0.31 | 0.28 | 0.83107 |\n",
       "\n"
      ],
      "text/plain": [
       "     Hue  Phenols Alcalinity prob01 prob02 acc    \n",
       "515  0.12 0.20    0.08       0.32   0.28   0.83110\n",
       "1284 0.11 0.19    0.09       0.31   0.30   0.83110\n",
       "479  0.11 0.18    0.12       0.31   0.28   0.83107"
      ]
     },
     "metadata": {},
     "output_type": "display_data"
    }
   ],
   "source": [
    "bestrows <- as.character(dat02$row)[1:3]\n",
    "acc <- dat02[1:3, c(\"Acc\")]\n",
    "dat02_b <- cbind(dfc02[bestrows, ], acc)\n",
    "dat02_b\n"
   ]
  },
  {
   "cell_type": "code",
   "execution_count": 67,
   "metadata": {},
   "outputs": [
    {
     "data": {
      "text/html": [
       "<table class=\"dataframe\">\n",
       "<caption>A data.frame: 6 × 5</caption>\n",
       "<thead>\n",
       "\t<tr><th></th><th scope=col>Hue</th><th scope=col>Phenols</th><th scope=col>Alcalinity</th><th scope=col>prob01</th><th scope=col>prob02</th></tr>\n",
       "\t<tr><th></th><th scope=col>&lt;dbl&gt;</th><th scope=col>&lt;dbl&gt;</th><th scope=col>&lt;dbl&gt;</th><th scope=col>&lt;dbl&gt;</th><th scope=col>&lt;dbl&gt;</th></tr>\n",
       "</thead>\n",
       "<tbody>\n",
       "\t<tr><th scope=row>2926</th><td>0.08</td><td>0.18</td><td>0.10</td><td>0.30</td><td>0.34</td></tr>\n",
       "\t<tr><th scope=row>3002</th><td>0.09</td><td>0.18</td><td>0.08</td><td>0.31</td><td>0.34</td></tr>\n",
       "\t<tr><th scope=row>3006</th><td>0.08</td><td>0.19</td><td>0.08</td><td>0.31</td><td>0.34</td></tr>\n",
       "\t<tr><th scope=row>3026</th><td>0.08</td><td>0.18</td><td>0.09</td><td>0.31</td><td>0.34</td></tr>\n",
       "\t<tr><th scope=row>3126</th><td>0.08</td><td>0.18</td><td>0.08</td><td>0.32</td><td>0.34</td></tr>\n",
       "\t<tr><th scope=row>310</th><td>0.20</td><td>0.20</td><td>0.20</td><td>0.20</td><td>0.20</td></tr>\n",
       "</tbody>\n",
       "</table>\n"
      ],
      "text/latex": [
       "A data.frame: 6 × 5\n",
       "\\begin{tabular}{r|lllll}\n",
       "  & Hue & Phenols & Alcalinity & prob01 & prob02\\\\\n",
       "  & <dbl> & <dbl> & <dbl> & <dbl> & <dbl>\\\\\n",
       "\\hline\n",
       "\t2926 & 0.08 & 0.18 & 0.10 & 0.30 & 0.34\\\\\n",
       "\t3002 & 0.09 & 0.18 & 0.08 & 0.31 & 0.34\\\\\n",
       "\t3006 & 0.08 & 0.19 & 0.08 & 0.31 & 0.34\\\\\n",
       "\t3026 & 0.08 & 0.18 & 0.09 & 0.31 & 0.34\\\\\n",
       "\t3126 & 0.08 & 0.18 & 0.08 & 0.32 & 0.34\\\\\n",
       "\t310 & 0.20 & 0.20 & 0.20 & 0.20 & 0.20\\\\\n",
       "\\end{tabular}\n"
      ],
      "text/markdown": [
       "\n",
       "A data.frame: 6 × 5\n",
       "\n",
       "| <!--/--> | Hue &lt;dbl&gt; | Phenols &lt;dbl&gt; | Alcalinity &lt;dbl&gt; | prob01 &lt;dbl&gt; | prob02 &lt;dbl&gt; |\n",
       "|---|---|---|---|---|---|\n",
       "| 2926 | 0.08 | 0.18 | 0.10 | 0.30 | 0.34 |\n",
       "| 3002 | 0.09 | 0.18 | 0.08 | 0.31 | 0.34 |\n",
       "| 3006 | 0.08 | 0.19 | 0.08 | 0.31 | 0.34 |\n",
       "| 3026 | 0.08 | 0.18 | 0.09 | 0.31 | 0.34 |\n",
       "| 3126 | 0.08 | 0.18 | 0.08 | 0.32 | 0.34 |\n",
       "| 310 | 0.20 | 0.20 | 0.20 | 0.20 | 0.20 |\n",
       "\n"
      ],
      "text/plain": [
       "     Hue  Phenols Alcalinity prob01 prob02\n",
       "2926 0.08 0.18    0.10       0.30   0.34  \n",
       "3002 0.09 0.18    0.08       0.31   0.34  \n",
       "3006 0.08 0.19    0.08       0.31   0.34  \n",
       "3026 0.08 0.18    0.09       0.31   0.34  \n",
       "3126 0.08 0.18    0.08       0.32   0.34  \n",
       "310  0.20 0.20    0.20       0.20   0.20  "
      ]
     },
     "metadata": {},
     "output_type": "display_data"
    }
   ],
   "source": [
    "tail(dfc02)\n"
   ]
  },
  {
   "cell_type": "code",
   "execution_count": 68,
   "metadata": {},
   "outputs": [
    {
     "data": {
      "text/html": [
       "0.83022"
      ],
      "text/latex": [
       "0.83022"
      ],
      "text/markdown": [
       "0.83022"
      ],
      "text/plain": [
       "[1] 0.83022"
      ]
     },
     "metadata": {},
     "output_type": "display_data"
    }
   ],
   "source": [
    "dat02[\"310\", c(\"Acc\")]\n"
   ]
  },
  {
   "cell_type": "code",
   "execution_count": null,
   "metadata": {},
   "outputs": [],
   "source": [
    "### COMMENT:\n",
    "\n",
    "# Over 120 seeds (600 folds), the current best weights\n",
    "# have a score of 0.83110 and the \"no-weights\" model\n",
    "# has a score of 0.83022.  This is a difference of \n",
    "# 8.8e-04.  In other words, the current best weights\n",
    "# are not helping much at all to improve the average\n",
    "# accuracy score of the k-means hybrid model.\n"
   ]
  },
  {
   "cell_type": "code",
   "execution_count": 53,
   "metadata": {},
   "outputs": [],
   "source": [
    "# Refine the search.\n",
    "\n",
    "dfc03 <- dat02_b[, 1:5]\n"
   ]
  },
  {
   "cell_type": "code",
   "execution_count": 54,
   "metadata": {},
   "outputs": [
    {
     "data": {
      "text/html": [
       "'Start time: 2021-06-01 11:50:04'"
      ],
      "text/latex": [
       "'Start time: 2021-06-01 11:50:04'"
      ],
      "text/markdown": [
       "'Start time: 2021-06-01 11:50:04'"
      ],
      "text/plain": [
       "[1] \"Start time: 2021-06-01 11:50:04\""
      ]
     },
     "metadata": {},
     "output_type": "display_data"
    },
    {
     "data": {
      "text/plain": [
       "Time difference of 12.49 mins"
      ]
     },
     "metadata": {},
     "output_type": "display_data"
    }
   ],
   "source": [
    "# Find the best weights of those in dfc03.\n",
    "# Use 1200 seeds.  Use gridSearch03.\n",
    "\n",
    "set.seed(1981)\n",
    "seed_vector <- sample(1:9999, 1200, replace=FALSE)\n",
    "\n",
    "start <- Sys.time()\n",
    "paste0(\"Start time: \", start)\n",
    "dat_result <- gridSearch03(seed_vector, train, dfc03) \n",
    "stop <- Sys.time()\n",
    "round(stop - start, 2)\n",
    "# Time difference of 12.49 mins\n"
   ]
  },
  {
   "cell_type": "code",
   "execution_count": 55,
   "metadata": {},
   "outputs": [
    {
     "data": {
      "text/html": [
       "1"
      ],
      "text/latex": [
       "1"
      ],
      "text/markdown": [
       "1"
      ],
      "text/plain": [
       "[1] 1"
      ]
     },
     "metadata": {},
     "output_type": "display_data"
    }
   ],
   "source": [
    "best_params <- dat_result[which(dat_result$Acc == \n",
    "                                max(dat_result$Acc, na.rm=TRUE)),]$row\n",
    "length(best_params)\n",
    "\n",
    "best_Acc <- dat_result[which(dat_result$Acc == \n",
    "                                max(dat_result$Acc, na.rm=TRUE)),]$Acc\n"
   ]
  },
  {
   "cell_type": "code",
   "execution_count": 56,
   "metadata": {},
   "outputs": [
    {
     "data": {
      "text/html": [
       "<table class=\"dataframe\">\n",
       "<caption>A data.frame: 3 × 2</caption>\n",
       "<thead>\n",
       "\t<tr><th></th><th scope=col>row</th><th scope=col>Acc</th></tr>\n",
       "\t<tr><th></th><th scope=col>&lt;chr&gt;</th><th scope=col>&lt;dbl&gt;</th></tr>\n",
       "</thead>\n",
       "<tbody>\n",
       "\t<tr><th scope=row>3</th><td>479 </td><td>0.83024</td></tr>\n",
       "\t<tr><th scope=row>1</th><td>515 </td><td>0.83002</td></tr>\n",
       "\t<tr><th scope=row>2</th><td>1284</td><td>0.82997</td></tr>\n",
       "</tbody>\n",
       "</table>\n"
      ],
      "text/latex": [
       "A data.frame: 3 × 2\n",
       "\\begin{tabular}{r|ll}\n",
       "  & row & Acc\\\\\n",
       "  & <chr> & <dbl>\\\\\n",
       "\\hline\n",
       "\t3 & 479  & 0.83024\\\\\n",
       "\t1 & 515  & 0.83002\\\\\n",
       "\t2 & 1284 & 0.82997\\\\\n",
       "\\end{tabular}\n"
      ],
      "text/markdown": [
       "\n",
       "A data.frame: 3 × 2\n",
       "\n",
       "| <!--/--> | row &lt;chr&gt; | Acc &lt;dbl&gt; |\n",
       "|---|---|---|\n",
       "| 3 | 479  | 0.83024 |\n",
       "| 1 | 515  | 0.83002 |\n",
       "| 2 | 1284 | 0.82997 |\n",
       "\n"
      ],
      "text/plain": [
       "  row  Acc    \n",
       "3 479  0.83024\n",
       "1 515  0.83002\n",
       "2 1284 0.82997"
      ]
     },
     "metadata": {},
     "output_type": "display_data"
    }
   ],
   "source": [
    "dat03 <- dat_result[order(dat_result$Acc, decreasing=TRUE),]\n",
    "dat03\n"
   ]
  },
  {
   "cell_type": "code",
   "execution_count": 57,
   "metadata": {},
   "outputs": [
    {
     "data": {
      "text/html": [
       "<table class=\"dataframe\">\n",
       "<caption>A data.frame: 3 × 6</caption>\n",
       "<thead>\n",
       "\t<tr><th></th><th scope=col>Hue</th><th scope=col>Phenols</th><th scope=col>Alcalinity</th><th scope=col>prob01</th><th scope=col>prob02</th><th scope=col>acc</th></tr>\n",
       "\t<tr><th></th><th scope=col>&lt;dbl&gt;</th><th scope=col>&lt;dbl&gt;</th><th scope=col>&lt;dbl&gt;</th><th scope=col>&lt;dbl&gt;</th><th scope=col>&lt;dbl&gt;</th><th scope=col>&lt;dbl&gt;</th></tr>\n",
       "</thead>\n",
       "<tbody>\n",
       "\t<tr><th scope=row>479</th><td>0.11</td><td>0.18</td><td>0.12</td><td>0.31</td><td>0.28</td><td>0.83024</td></tr>\n",
       "\t<tr><th scope=row>515</th><td>0.12</td><td>0.20</td><td>0.08</td><td>0.32</td><td>0.28</td><td>0.83002</td></tr>\n",
       "\t<tr><th scope=row>1284</th><td>0.11</td><td>0.19</td><td>0.09</td><td>0.31</td><td>0.30</td><td>0.82997</td></tr>\n",
       "</tbody>\n",
       "</table>\n"
      ],
      "text/latex": [
       "A data.frame: 3 × 6\n",
       "\\begin{tabular}{r|llllll}\n",
       "  & Hue & Phenols & Alcalinity & prob01 & prob02 & acc\\\\\n",
       "  & <dbl> & <dbl> & <dbl> & <dbl> & <dbl> & <dbl>\\\\\n",
       "\\hline\n",
       "\t479 & 0.11 & 0.18 & 0.12 & 0.31 & 0.28 & 0.83024\\\\\n",
       "\t515 & 0.12 & 0.20 & 0.08 & 0.32 & 0.28 & 0.83002\\\\\n",
       "\t1284 & 0.11 & 0.19 & 0.09 & 0.31 & 0.30 & 0.82997\\\\\n",
       "\\end{tabular}\n"
      ],
      "text/markdown": [
       "\n",
       "A data.frame: 3 × 6\n",
       "\n",
       "| <!--/--> | Hue &lt;dbl&gt; | Phenols &lt;dbl&gt; | Alcalinity &lt;dbl&gt; | prob01 &lt;dbl&gt; | prob02 &lt;dbl&gt; | acc &lt;dbl&gt; |\n",
       "|---|---|---|---|---|---|---|\n",
       "| 479 | 0.11 | 0.18 | 0.12 | 0.31 | 0.28 | 0.83024 |\n",
       "| 515 | 0.12 | 0.20 | 0.08 | 0.32 | 0.28 | 0.83002 |\n",
       "| 1284 | 0.11 | 0.19 | 0.09 | 0.31 | 0.30 | 0.82997 |\n",
       "\n"
      ],
      "text/plain": [
       "     Hue  Phenols Alcalinity prob01 prob02 acc    \n",
       "479  0.11 0.18    0.12       0.31   0.28   0.83024\n",
       "515  0.12 0.20    0.08       0.32   0.28   0.83002\n",
       "1284 0.11 0.19    0.09       0.31   0.30   0.82997"
      ]
     },
     "metadata": {},
     "output_type": "display_data"
    }
   ],
   "source": [
    "bestrows <- as.character(dat03$row)\n",
    "acc <- dat03[, c(\"Acc\")]\n",
    "dat03_b <- cbind(dfc03[bestrows, ], acc)\n",
    "dat03_b\n"
   ]
  },
  {
   "cell_type": "code",
   "execution_count": null,
   "metadata": {},
   "outputs": [],
   "source": [
    "### COMMENT:\n",
    "\n",
    "# As the number of seeds increases, the average\n",
    "# accuracy score decreases toward the 0.8295 \n",
    "# number we are trying to beat. The 0.8295 number\n",
    "# is from the hybrid model without weights.  It \n",
    "# may be that the scaling I am applying, in combination\n",
    "# with looking at many thousands of folds of the \n",
    "# data (for a data set that is only 178 records),\n",
    "# lessens the importance of weights.\n"
   ]
  },
  {
   "cell_type": "markdown",
   "metadata": {},
   "source": [
    "## Get comparative cross-val score using the new weights"
   ]
  },
  {
   "cell_type": "code",
   "execution_count": 58,
   "metadata": {},
   "outputs": [],
   "source": [
    "# Function for obtaining average of confusion matrix \n",
    "# accuracy score. This function is called from compute_cvScore_km.\n",
    "\n",
    "# This is the same function as above; only the weights have changed.\n",
    "\n",
    "# We need to take the square root of the weights.\n",
    "wghts <- c(0.11, 0.18, 0.12, 0.31, 0.28)^0.5\n",
    "names(wghts) <- c(colnames(train)[-1], \"prob01\",\"prob02\")\n",
    "\n",
    "get_cvScore_wghts <- function(traindat, valdat) {\n",
    "    \n",
    "    # Scale traindat for purpose of an svm model.\n",
    "    svm_scaled <- scale(traindat[, -1])\n",
    "    svm_centers <- attr(svm_scaled, \"scaled:center\")\n",
    "    svm_scales <- attr(svm_scaled, \"scaled:scale\")\n",
    "    svm_scaled <- as.data.frame(cbind(traindat$Type, svm_scaled),\n",
    "                                row.names=rownames(traindat))\n",
    "    colnames(svm_scaled) <- colnames(traindat)\n",
    "    \n",
    "    # This is our current best svm model for the trainset data\n",
    "    svmod <- svm(I(as.factor(Type)) ~ ., data=svm_scaled, kernel=\"radial\",\n",
    "                 gamma= 0.03, cost= 25, scale=FALSE, probability=TRUE)\n",
    "    \n",
    "    preds <- predict(svmod, newdata=svm_scaled, scale=FALSE, probability=TRUE)\n",
    "    traindat$prob01 <- as.numeric(attr(preds, \"probabilities\")[, 2])\n",
    "    traindat$prob02 <- as.numeric(attr(preds, \"probabilities\")[, 3])\n",
    "    \n",
    "    #############################\n",
    "    # Scale training set data for the k-means model.\n",
    "    \n",
    "    df <- scale(traindat[, -1], center=TRUE, scale=TRUE)\n",
    "    centers <- attr(df, \"scaled:center\")\n",
    "    scales <- attr(df, \"scaled:scale\")\n",
    "    df <- as.matrix(df)\n",
    "    traindat_scaled <- apply(df, MARGIN=2, range01)\n",
    "    colnames(traindat_scaled) <- colnames(traindat)[-1]\n",
    "    rownames(traindat_scaled) <- rownames(traindat)\n",
    "    \n",
    "    # Get mins and maxs for scaling of valdat.\n",
    "    traindat_mins <- as.numeric(apply(df, MARGIN=2, min))\n",
    "    traindat_maxs <- as.numeric(apply(df, MARGIN=2, max))\n",
    "    \n",
    "    #############################\n",
    "    # Apply weights to traindat.\n",
    "    cols <- names(wghts)\n",
    "    df2 <- t(t(traindat_scaled[, cols]) * as.numeric(wghts[cols]))\n",
    "    traindat_wghts <- as.data.frame(df2, row.names=rownames(traindat))\n",
    "    \n",
    "    \n",
    "    #############################################\n",
    "    # Prepare valdat.\n",
    "    #############################################\n",
    "    \n",
    "    svmval_scaled <- scale(valdat[, -1], center=svm_centers, scale=svm_scales)\n",
    "    svmval_scaled <- as.data.frame(svmval_scaled, row.names=rownames(valdat))\n",
    "    \n",
    "    # Compute prob01 and prob02 columns.\n",
    "    preds01_b <- predict(svmod, newdata=svmval_scaled, scale=FALSE, probability=TRUE)\n",
    "    valdat$prob01 <- as.numeric(attr(preds01_b, \"probabilities\")[, 2])\n",
    "    valdat$prob02 <- as.numeric(attr(preds01_b, \"probabilities\")[, 3])\n",
    "\n",
    "    # Scale valdat.\n",
    "    df02 <- scale(valdat[, -1], center=centers, scale=scales)\n",
    "    df02_t <- t(as.matrix(df02))\n",
    "    df02_asList <- split(df02_t, seq(nrow(df02_t)))\n",
    "    names(df02_asList) <- colnames(valdat)[-1]\n",
    "\n",
    "    valdat_scaled <- mapply(range02, df02_asList, traindat_mins, \n",
    "                            traindat_maxs)\n",
    "    # The next step is crucial.\n",
    "    valdat_scaled <- as.data.frame(valdat_scaled, row.names=rownames(valdat))\n",
    "    colnames(valdat_scaled) <- colnames(valdat)[-1]\n",
    "    \n",
    "    # Apply weights to valdat_scaled.\n",
    "    df4 <- t(t(valdat_scaled[, cols]) * as.numeric(wghts[cols]))\n",
    "    valdat_wghts <- as.data.frame(df4, row.names=rownames(valdat))\n",
    "    colnames(valdat_wghts) <- colnames(valdat)[-1]\n",
    "    \n",
    "    \n",
    "    #############################################\n",
    "    # Construct k-means model.\n",
    "\n",
    "    kmod <- kmeans(traindat_wghts, 3, iter.max = 50, nstart=30)\n",
    "    \n",
    "    # See how the clusters are associated with Type level.\n",
    "    dfout <- as.data.frame(cbind(traindat$Type, kmod$cluster), \n",
    "                           row.names=rownames(traindat))\n",
    "    colnames(dfout) <- c(\"Type\", \"cluster\")\n",
    "    mapping <- get_mapping(dfout)\n",
    "    \n",
    "    \n",
    "    #############################\n",
    "    # Apply the k-means model to valdat_wghts.\n",
    "    \n",
    "    # Each element of the following list is a row of valdat_wghts.\n",
    "    valdat_asList <- split(valdat_wghts[, colnames(kmod$centers)],\n",
    "                           seq(nrow(valdat_wghts)))\n",
    "    \n",
    "    ctr_list <- vector(\"list\", length= nrow(valdat))\n",
    "    for(i in 1:nrow(valdat)) {\n",
    "        \n",
    "        ctr_list[[i]] <- kmod$centers\n",
    "    }\n",
    "    names(ctr_list) <- rownames(valdat)\n",
    "    \n",
    "    \n",
    "    # Get the predictions for the validation set.\n",
    "    cluster_assgns <- mcmapply(getCluster, valdat_asList, ctr_list,\n",
    "                               SIMPLIFY=TRUE, USE.NAMES= FALSE, mc.cores=6)\n",
    "    \n",
    "    valdat_wghts$cluster <- as.numeric(cluster_assgns)\n",
    "    \n",
    "    valdat_wghts$pred_Type <- NA\n",
    "    \n",
    "    # Apply mapping to the assigned clusters.  Since valdat is \n",
    "    # quite small (around 35 records if folds = 5), and there \n",
    "    # are 3 clusters, it is possible that one of the LHS expressions\n",
    "    # below is NA.  I will make the changes if the program fails. \n",
    "    valdat_wghts[which(valdat_wghts$cluster==1), c(\"pred_Type\")] <- as.numeric(mapping[\"1\"])\n",
    "    valdat_wghts[which(valdat_wghts$cluster==2), c(\"pred_Type\")] <- as.numeric(mapping[\"2\"])\n",
    "    valdat_wghts[which(valdat_wghts$cluster==3), c(\"pred_Type\")] <- as.numeric(mapping[\"3\"])\n",
    "    \n",
    "    # Generate confusion matrix for the k-means clusters and\n",
    "    # the corresponding f-score.\n",
    "    preds <- as.factor(valdat_wghts$pred_Type)\n",
    "    names(preds) <- rownames(valdat)\n",
    "    ans <- get_confusion(preds, valdat[, \"Type\", drop=FALSE])\n",
    "    return(ans[[2]])\n",
    "}\n"
   ]
  },
  {
   "cell_type": "code",
   "execution_count": 60,
   "metadata": {},
   "outputs": [
    {
     "data": {
      "text/html": [
       "'Start time: 2021-06-01 12:06:31'"
      ],
      "text/latex": [
       "'Start time: 2021-06-01 12:06:31'"
      ],
      "text/markdown": [
       "'Start time: 2021-06-01 12:06:31'"
      ],
      "text/plain": [
       "[1] \"Start time: 2021-06-01 12:06:31\""
      ]
     },
     "metadata": {},
     "output_type": "display_data"
    },
    {
     "data": {
      "text/plain": [
       "Time difference of 7.59 mins"
      ]
     },
     "metadata": {},
     "output_type": "display_data"
    }
   ],
   "source": [
    "# Use the correct seed, i.e., the seed we have been\n",
    "# using for this comparative score.\n",
    "\n",
    "set.seed(1931)\n",
    "seed_vector <- sample(1:9999, 2000, replace=FALSE)\n",
    "\n",
    "start <- Sys.time()\n",
    "paste(\"Start time: \", start, sep=\"\")\n",
    "dat_result <- compute_cvScore_km(seed_vector, train) \n",
    "stop <- Sys.time()\n",
    "round(stop - start, 2)\n",
    "# Time difference of 7.59 mins\n"
   ]
  },
  {
   "cell_type": "code",
   "execution_count": 61,
   "metadata": {},
   "outputs": [
    {
     "data": {
      "text/plain": [
       "   Min. 1st Qu.  Median    Mean 3rd Qu.    Max. \n",
       "  0.776   0.821   0.831   0.829   0.837   0.866 "
      ]
     },
     "metadata": {},
     "output_type": "display_data"
    }
   ],
   "source": [
    "summary(dat_result$Acc)\n",
    "\n",
    "# The interquartile range is 1.6 percentage points.\n",
    "# For svm02 this range was 1.7 points.\n",
    "# Both distributions have the same maximum value, to\n",
    "# 3 significant digits.\n"
   ]
  },
  {
   "cell_type": "code",
   "execution_count": 62,
   "metadata": {},
   "outputs": [
    {
     "data": {
      "text/html": [
       "0.8293"
      ],
      "text/latex": [
       "0.8293"
      ],
      "text/markdown": [
       "0.8293"
      ],
      "text/plain": [
       "[1] 0.8293"
      ]
     },
     "metadata": {},
     "output_type": "display_data"
    }
   ],
   "source": [
    "round(mean(dat_result$Acc), 4)\n",
    "\n",
    "# Accuracy over 2000 seeds is 0.8293.  Without weights,\n",
    "# this score was 0.8295.  svm02 had an average\n",
    "# cross-val accuracy score of 0.8278.\n"
   ]
  },
  {
   "cell_type": "code",
   "execution_count": 63,
   "metadata": {},
   "outputs": [
    {
     "data": {
      "text/html": [
       "0.8311"
      ],
      "text/latex": [
       "0.8311"
      ],
      "text/markdown": [
       "0.8311"
      ],
      "text/plain": [
       "[1] 0.8311"
      ]
     },
     "metadata": {},
     "output_type": "display_data"
    },
    {
     "data": {
      "text/html": [
       "0.012282"
      ],
      "text/latex": [
       "0.012282"
      ],
      "text/markdown": [
       "0.012282"
      ],
      "text/plain": [
       "[1] 0.012282"
      ]
     },
     "metadata": {},
     "output_type": "display_data"
    }
   ],
   "source": [
    "round(median(dat_result$Acc), 4)\n",
    "round(sd(dat_result$Acc), 6)\n",
    "# median: 0.8311\n",
    "# sd: 0.012282\n",
    "\n",
    "# The median accuracy score for svm02 was 0.8271.\n"
   ]
  },
  {
   "cell_type": "code",
   "execution_count": 65,
   "metadata": {},
   "outputs": [
    {
     "data": {
      "image/png": "[encoded data removed]",
      "text/plain": [
       "Plot with title “Distribution of cross-val accuracy scores for hybrid k-means model with weights”"
      ]
     },
     "metadata": {
      "image/png": {
       "height": 360,
       "width": 600
      }
     },
     "output_type": "display_data"
    }
   ],
   "source": [
    "options(repr.plot.width= 10, repr.plot.height= 6)\n",
    "hist(dat_result$Acc, breaks=16, xlab=\"accuracy\",\n",
    "     main=\"Distribution of cross-val accuracy scores for hybrid k-means model with weights\")\n"
   ]
  },
  {
   "cell_type": "markdown",
   "metadata": {},
   "source": [
    "## Section 4 Comments"
   ]
  },
  {
   "cell_type": "markdown",
   "metadata": {},
   "source": [
    "While I have not done an exhaustive search for weights, current results are showing that weights are not helping to improve the accuracy score when this score is measured over a very large number of seeds, or folds.  In this case, each of the folds is only 35 or 36 records (20% of the data).  We saw the same result, but with a different set of weights, in Section 3---the result being that using weights did not improve upon the original model.  Different weights give us different average accuracy scores on validation data, but these differences disappear as we increase the number of sets of validation data to a very large number---in this case, 2000 times 5, or 10,000 folds (sets).\n",
    "\n",
    "Although I did not foresee it, this asymptotic-like behavior makes sense.  I was looking for a stable answer regarding best model, overlooking a different kind of consequence of the fact that a model's performance varies no small amount depending on the data that the model is applied to.  If we present each model with enough data, the average performances might not be all that different, especially if---as was the case here--- the type of model is the same in all cases; I was only changing the weights.\n",
    "\n",
    "Nonetheless, the primary reason for this lack of difference, I suspect, is the scaling I am applying to the data: centering each of the variables, scaling so that each variable has unit variance, and then mapping all values into the range, \\[0, 1\\].\n",
    "\n",
    "The alternative method of finding weights, looking for a minimum in tot.withinss (total within group sum of squares), does seem to work, although I am not yet fully convinced.  While the weights I found using this method performed no worse than the weights I found using cross-validation with accuracy scores, we have found that we might be able to say this about any of the sets of weights tested.\n"
   ]
  },
  {
   "cell_type": "markdown",
   "metadata": {},
   "source": [
    "# Section 5: Get scores for k-means models, absent min-max scaling"
   ]
  },
  {
   "cell_type": "code",
   "execution_count": 14,
   "metadata": {},
   "outputs": [
    {
     "data": {
      "text/plain": [
       "      Hue           Phenols       Alcalinity  \n",
       " Min.   :0.480   Min.   :0.98   Min.   :10.6  \n",
       " 1st Qu.:0.782   1st Qu.:1.74   1st Qu.:17.2  \n",
       " Median :0.965   Median :2.35   Median :19.5  \n",
       " Mean   :0.957   Mean   :2.30   Mean   :19.5  \n",
       " 3rd Qu.:1.120   3rd Qu.:2.80   3rd Qu.:21.5  \n",
       " Max.   :1.710   Max.   :3.88   Max.   :30.0  "
      ]
     },
     "metadata": {},
     "output_type": "display_data"
    }
   ],
   "source": [
    "summary(train[, -1])\n"
   ]
  },
  {
   "cell_type": "code",
   "execution_count": 20,
   "metadata": {},
   "outputs": [
    {
     "data": {
      "text/plain": [
       "      Hue           Phenols       Alcalinity  \n",
       " Min.   :0.480   Min.   :0.99   Min.   :1.53  \n",
       " 1st Qu.:0.782   1st Qu.:1.32   1st Qu.:1.67  \n",
       " Median :0.965   Median :1.53   Median :1.71  \n",
       " Mean   :0.957   Mean   :1.50   Mean   :1.70  \n",
       " 3rd Qu.:1.120   3rd Qu.:1.67   3rd Qu.:1.74  \n",
       " Max.   :1.710   Max.   :1.97   Max.   :1.84  "
      ]
     },
     "metadata": {},
     "output_type": "display_data"
    }
   ],
   "source": [
    "# Before scaling, transform the data a bit so \n",
    "# the variable ranges are more alike in terms\n",
    "# of range.\n",
    "\n",
    "df <- train\n",
    "df$Phenols <- (df$Phenols)^0.5\n",
    "df$Alcalinity <- (df$Alcalinity)^0.18\n",
    "summary(df[, -1])\n"
   ]
  },
  {
   "cell_type": "code",
   "execution_count": 21,
   "metadata": {},
   "outputs": [
    {
     "data": {
      "text/plain": [
       "      Hue            Phenols         Alcalinity     \n",
       " Min.   :-2.089   Min.   :-2.429   Min.   :-3.2418  \n",
       " 1st Qu.:-0.765   1st Qu.:-0.858   1st Qu.:-0.6406  \n",
       " Median : 0.033   Median : 0.163   Median : 0.0717  \n",
       " Mean   : 0.000   Mean   : 0.000   Mean   : 0.0000  \n",
       " 3rd Qu.: 0.711   3rd Qu.: 0.823   3rd Qu.: 0.6370  \n",
       " Max.   : 3.292   Max.   : 2.233   Max.   : 2.6425  "
      ]
     },
     "metadata": {},
     "output_type": "display_data"
    }
   ],
   "source": [
    "df_scaled <- scale(df[, -1], center=TRUE, scale=TRUE)\n",
    "df_scaled <- as.data.frame(cbind(df$Type, df_scaled),\n",
    "                           row.names=rownames(df))\n",
    "colnames(df_scaled) <- colnames(df)\n",
    "summary(df_scaled[, -1])\n"
   ]
  },
  {
   "cell_type": "code",
   "execution_count": 22,
   "metadata": {},
   "outputs": [
    {
     "name": "stdout",
     "output_type": "stream",
     "text": [
      "[1] 73 59 46\n"
     ]
    }
   ],
   "source": [
    "# Run k-means with number of clusters set to 3.\n",
    "\n",
    "set.seed(1233)\n",
    "fit_km <- kmeans(df_scaled[, -1], 3, iter.max = 50, nstart = 30)\n",
    "print(fit_km$size)\n"
   ]
  },
  {
   "cell_type": "code",
   "execution_count": 18,
   "metadata": {},
   "outputs": [
    {
     "data": {
      "text/html": [
       "<table class=\"dataframe\">\n",
       "<caption>A data.frame: 6 × 2</caption>\n",
       "<thead>\n",
       "\t<tr><th></th><th scope=col>Type</th><th scope=col>cluster</th></tr>\n",
       "\t<tr><th></th><th scope=col>&lt;dbl&gt;</th><th scope=col>&lt;dbl&gt;</th></tr>\n",
       "</thead>\n",
       "<tbody>\n",
       "\t<tr><th scope=row>113</th><td>2</td><td>3</td></tr>\n",
       "\t<tr><th scope=row>159</th><td>3</td><td>3</td></tr>\n",
       "\t<tr><th scope=row>21</th><td>1</td><td>1</td></tr>\n",
       "\t<tr><th scope=row>131</th><td>3</td><td>2</td></tr>\n",
       "\t<tr><th scope=row>137</th><td>3</td><td>2</td></tr>\n",
       "\t<tr><th scope=row>133</th><td>3</td><td>2</td></tr>\n",
       "</tbody>\n",
       "</table>\n"
      ],
      "text/latex": [
       "A data.frame: 6 × 2\n",
       "\\begin{tabular}{r|ll}\n",
       "  & Type & cluster\\\\\n",
       "  & <dbl> & <dbl>\\\\\n",
       "\\hline\n",
       "\t113 & 2 & 3\\\\\n",
       "\t159 & 3 & 3\\\\\n",
       "\t21 & 1 & 1\\\\\n",
       "\t131 & 3 & 2\\\\\n",
       "\t137 & 3 & 2\\\\\n",
       "\t133 & 3 & 2\\\\\n",
       "\\end{tabular}\n"
      ],
      "text/markdown": [
       "\n",
       "A data.frame: 6 × 2\n",
       "\n",
       "| <!--/--> | Type &lt;dbl&gt; | cluster &lt;dbl&gt; |\n",
       "|---|---|---|\n",
       "| 113 | 2 | 3 |\n",
       "| 159 | 3 | 3 |\n",
       "| 21 | 1 | 1 |\n",
       "| 131 | 3 | 2 |\n",
       "| 137 | 3 | 2 |\n",
       "| 133 | 3 | 2 |\n",
       "\n"
      ],
      "text/plain": [
       "    Type cluster\n",
       "113 2    3      \n",
       "159 3    3      \n",
       "21  1    1      \n",
       "131 3    2      \n",
       "137 3    2      \n",
       "133 3    2      "
      ]
     },
     "metadata": {},
     "output_type": "display_data"
    }
   ],
   "source": [
    "datout <- as.data.frame(cbind(df_scaled$Type, fit_km$cluster))\n",
    "colnames(datout) <- c(\"Type\", \"cluster\")\n",
    "rownames(datout) <- rownames(df_scaled)\n",
    "head(datout)\n"
   ]
  },
  {
   "cell_type": "code",
   "execution_count": 19,
   "metadata": {},
   "outputs": [
    {
     "data": {
      "text/plain": [
       "   \n",
       "     1  2  3\n",
       "  1 49  0 10\n",
       "  2 24 14 33\n",
       "  3  0 45  3"
      ]
     },
     "metadata": {},
     "output_type": "display_data"
    }
   ],
   "source": [
    "# We need to map cluster to Type level.\n",
    "\n",
    "table(datout$Type, as.factor(datout$cluster))\n"
   ]
  },
  {
   "cell_type": "code",
   "execution_count": 20,
   "metadata": {},
   "outputs": [
    {
     "name": "stdout",
     "output_type": "stream",
     "text": [
      "1 2 3 \n",
      "1 3 2 \n"
     ]
    }
   ],
   "source": [
    "ans <- as.matrix(table(datout$Type, as.factor(datout$cluster)))\n",
    "print(apply(ans, MARGIN=2, which.max))\n"
   ]
  },
  {
   "cell_type": "code",
   "execution_count": 21,
   "metadata": {},
   "outputs": [],
   "source": [
    "# Apply mapping resulting from fit_km above.\n",
    "\n",
    "tmpdat <- datout\n",
    "tmpdat[which(tmpdat$cluster== 1),]$Type <- 1\n",
    "tmpdat[which(tmpdat$cluster== 2),]$Type <- 3\n",
    "tmpdat[which(tmpdat$cluster== 3),]$Type <- 2\n"
   ]
  },
  {
   "cell_type": "code",
   "execution_count": 23,
   "metadata": {},
   "outputs": [
    {
     "name": "stdout",
     "output_type": "stream",
     "text": [
      "   1  2  3 class.error\n",
      "1 49 10  0      0.1695\n",
      "2 24 33 14      0.5352\n",
      "3  0  3 45      0.0625\n"
     ]
    },
    {
     "data": {
      "text/html": [
       "''"
      ],
      "text/latex": [
       "''"
      ],
      "text/markdown": [
       "''"
      ],
      "text/plain": [
       "[1] \"\""
      ]
     },
     "metadata": {},
     "output_type": "display_data"
    },
    {
     "name": "stdout",
     "output_type": "stream",
     "text": [
      "[1] \"Accuracy score for the base k-means model: 0.7135\"\n"
     ]
    }
   ],
   "source": [
    "# Generate confusion matrix for the k-means clusters.\n",
    "# Output accuracy for this confusion matrix.\n",
    "\n",
    "preds <- as.factor(tmpdat$Type)\n",
    "names(preds) <- rownames(tmpdat)\n",
    "ans <- get_confusion(preds, df_scaled[, \"Type\", drop=FALSE])\n",
    "print(ans$matrix)\n",
    "''\n",
    "print(paste(\"Accuracy score for the base k-means model: \", as.character(ans[[2]]), sep=\"\"))\n",
    "# Section 2 base k-means accuracy score on training set: 0.7135\n",
    "\n",
    "# current accuracy score: 0.7135\n"
   ]
  },
  {
   "cell_type": "markdown",
   "metadata": {},
   "source": [
    "## Get comparative cross-val score for this new base k-means model"
   ]
  },
  {
   "cell_type": "code",
   "execution_count": 17,
   "metadata": {},
   "outputs": [],
   "source": [
    "# Function for obtaining average of confusion matrix \n",
    "# accuracy score. This function is called from compute_cvScore_km.\n",
    "\n",
    "get_cvScore_km02 <- function(traindat, valdat) {\n",
    "    \n",
    "    # Scale training set data.  traindat and valdat \n",
    "    # columns have already been transformed in the \n",
    "    # calling function.\n",
    "    df <- scale(traindat[, -1], center=TRUE, scale=TRUE)\n",
    "    centers <- attr(df, \"scaled:center\")\n",
    "    scales <- attr(df, \"scaled:scale\")\n",
    "    # df is a matrix, not a dataframe; this means we \n",
    "    # cannot refer to its columns using $\n",
    "\n",
    "    \n",
    "    ############################\n",
    "    # Transform and scale valdat.\n",
    "    df02 <- scale(valdat[, -1], center=centers, scale=scales)\n",
    "    \n",
    "    # The next step is crucial.\n",
    "    valdat_scaled <- as.data.frame(df02, row.names=rownames(valdat))\n",
    "    colnames(valdat_scaled) <- colnames(valdat)[-1]\n",
    "    \n",
    "    \n",
    "    #########################\n",
    "    # Construct k-means model.\n",
    "\n",
    "    kmod <- kmeans(df, 3, iter.max = 50, nstart=30)\n",
    "    \n",
    "    # See how the clusters are associated with Type level.\n",
    "    dfout <- as.data.frame(cbind(traindat$Type, kmod$cluster))\n",
    "    colnames(dfout) <- c(\"Type\", \"cluster\")\n",
    "    rownames(dfout) <- rownames(traindat)\n",
    "    mapping <- get_mapping(dfout)\n",
    "    \n",
    "    #############################\n",
    "    # Apply the k-means model to valdat_scaled.\n",
    "    \n",
    "    # Each element of the following list is a row of valdat_wghts.\n",
    "    valdat_asList <- split(valdat_scaled[, colnames(kmod$centers)],\n",
    "                           seq(nrow(valdat_scaled)))\n",
    "    \n",
    "    ctr_list <- vector(\"list\", length= nrow(valdat))\n",
    "    for(i in 1:nrow(valdat)) {\n",
    "        \n",
    "        ctr_list[[i]] <- kmod$centers\n",
    "    }\n",
    "    names(ctr_list) <- rownames(valdat)\n",
    "    \n",
    "    \n",
    "    # Get the predictions for the validation set.\n",
    "    cluster_assgns <- mcmapply(getCluster, valdat_asList, ctr_list,\n",
    "                               SIMPLIFY=TRUE, USE.NAMES= FALSE, mc.cores=6)\n",
    "    \n",
    "    valdat_scaled$cluster <- as.numeric(cluster_assgns)\n",
    "    \n",
    "    valdat_scaled$pred_Type <- NA\n",
    "    \n",
    "    # Apply mapping to the assigned clusters.  Since valdat is \n",
    "    # quite small (around 35 records if folds = 5), and there \n",
    "    # are 3 clusters, it is possible that one of the LHS expressions\n",
    "    # below is NA.  I will make the changes if the program fails. \n",
    "    valdat_scaled[which(valdat_scaled$cluster==1), c(\"pred_Type\")] <- as.numeric(mapping[\"1\"])\n",
    "    valdat_scaled[which(valdat_scaled$cluster==2), c(\"pred_Type\")] <- as.numeric(mapping[\"2\"])\n",
    "    valdat_scaled[which(valdat_scaled$cluster==3), c(\"pred_Type\")] <- as.numeric(mapping[\"3\"])\n",
    "    \n",
    "    # Generate confusion matrix for the k-means clusters and\n",
    "    # the corresponding f-score.\n",
    "    preds <- as.factor(valdat_scaled$pred_Type)\n",
    "    names(preds) <- rownames(valdat)\n",
    "    ans <- get_confusion(preds, valdat[, \"Type\", drop=FALSE])\n",
    "    return(ans[[2]])\n",
    "}\n"
   ]
  },
  {
   "cell_type": "code",
   "execution_count": 23,
   "metadata": {},
   "outputs": [
    {
     "data": {
      "text/html": [
       "'Start time: 2021-06-02 10:15:20'"
      ],
      "text/latex": [
       "'Start time: 2021-06-02 10:15:20'"
      ],
      "text/markdown": [
       "'Start time: 2021-06-02 10:15:20'"
      ],
      "text/plain": [
       "[1] \"Start time: 2021-06-02 10:15:20\""
      ]
     },
     "metadata": {},
     "output_type": "display_data"
    },
    {
     "data": {
      "text/plain": [
       "Time difference of 5.26 mins"
      ]
     },
     "metadata": {},
     "output_type": "display_data"
    }
   ],
   "source": [
    "# Again, use the same initial seed that we have \n",
    "# been using for this score.\n",
    "\n",
    "set.seed(1931)\n",
    "seed_vector <- sample(1:9999, 2000, replace=FALSE)\n",
    "\n",
    "\n",
    "# Use df instead of train since df has the variable \n",
    "# transformations.\n",
    "\n",
    "start <- Sys.time()\n",
    "paste(\"Start time: \", start, sep=\"\")\n",
    "ans <- compute_cvScore_km(seed_vector, df)\n",
    "stop <- Sys.time()\n",
    "round(stop - start, 2)\n",
    "# Time difference of 5.26 mins\n"
   ]
  },
  {
   "cell_type": "code",
   "execution_count": 24,
   "metadata": {},
   "outputs": [
    {
     "data": {
      "text/plain": [
       "   Min. 1st Qu.  Median    Mean 3rd Qu.    Max. \n",
       "  0.642   0.692   0.708   0.706   0.719   0.765 "
      ]
     },
     "metadata": {},
     "output_type": "display_data"
    }
   ],
   "source": [
    "summary(ans$Acc)\n"
   ]
  },
  {
   "cell_type": "code",
   "execution_count": 25,
   "metadata": {},
   "outputs": [
    {
     "data": {
      "text/html": [
       "0.7057"
      ],
      "text/latex": [
       "0.7057"
      ],
      "text/markdown": [
       "0.7057"
      ],
      "text/plain": [
       "[1] 0.7057"
      ]
     },
     "metadata": {},
     "output_type": "display_data"
    }
   ],
   "source": [
    "round(mean(ans$Acc), 4)\n",
    "# 0.7057\n",
    "\n",
    "# In Section 2 above, using the min-max scaling, our\n",
    "# score was 0.7095\n"
   ]
  },
  {
   "cell_type": "code",
   "execution_count": 26,
   "metadata": {},
   "outputs": [
    {
     "data": {
      "text/html": [
       "0.7075"
      ],
      "text/latex": [
       "0.7075"
      ],
      "text/markdown": [
       "0.7075"
      ],
      "text/plain": [
       "[1] 0.7075"
      ]
     },
     "metadata": {},
     "output_type": "display_data"
    },
    {
     "data": {
      "text/html": [
       "0.018619"
      ],
      "text/latex": [
       "0.018619"
      ],
      "text/markdown": [
       "0.018619"
      ],
      "text/plain": [
       "[1] 0.018619"
      ]
     },
     "metadata": {},
     "output_type": "display_data"
    }
   ],
   "source": [
    "round(median(ans$Acc), 4)\n",
    "round(sd(ans$Acc), 6)\n",
    "# median: 0.7075\n",
    "# sd: 0.018619\n",
    "\n",
    "\n",
    "# Section 2 median: 0.7085\n",
    "# Section 2 sd: 0.024145\n"
   ]
  },
  {
   "cell_type": "code",
   "execution_count": 27,
   "metadata": {},
   "outputs": [
    {
     "data": {
      "image/png": "[encoded data removed]",
      "text/plain": [
       "Plot with title “Distribution of cross-val accuracy scores for base k-means model”"
      ]
     },
     "metadata": {
      "image/png": {
       "height": 360,
       "width": 600
      }
     },
     "output_type": "display_data"
    }
   ],
   "source": [
    "options(repr.plot.width= 10, repr.plot.height= 6)\n",
    "hist(ans$Acc, breaks=16, xlab=\"accuracy\",\n",
    "     main=\"Distribution of cross-val accuracy scores for base k-means model\")\n"
   ]
  },
  {
   "cell_type": "code",
   "execution_count": null,
   "metadata": {},
   "outputs": [],
   "source": [
    "### COMMENTS:\n",
    "\n",
    "# The scores are somewhat better when we use the min-max\n",
    "# scaling on top of the regular scaling.  Here I applied\n",
    "# some transformations to the variables and then applied\n",
    "# regular scaling.  When I did this in Part 2, I then\n",
    "# found weights and those weights made a real difference\n",
    "# in the score.  So it is worth looking into whether \n",
    "# weights make a difference in this case, too.\n"
   ]
  },
  {
   "cell_type": "markdown",
   "metadata": {},
   "source": [
    "## Get comparative cross-val score for the corresponding hybrid model"
   ]
  },
  {
   "cell_type": "code",
   "execution_count": 29,
   "metadata": {},
   "outputs": [],
   "source": [
    "# Function for obtaining average of confusion matrix accuracy\n",
    "# score. This function is called from compute_cvScore_km.\n",
    "\n",
    "get_cvScore_hybrid02 <- function(traindat, valdat) {\n",
    "    \n",
    "    # Scale traindat for purpose of an svm model.\n",
    "    svm_scaled <- scale(traindat[, -1])\n",
    "    svm_centers <- attr(svm_scaled, \"scaled:center\")\n",
    "    svm_scales <- attr(svm_scaled, \"scaled:scale\")\n",
    "    svm_scaled <- as.data.frame(cbind(traindat$Type, svm_scaled),\n",
    "                                row.names=rownames(traindat))\n",
    "    colnames(svm_scaled) <- colnames(traindat)\n",
    "    \n",
    "    # This is our current best svm model for the trainset data\n",
    "    svmod <- svm(I(as.factor(Type)) ~ ., data=svm_scaled, kernel=\"radial\",\n",
    "                 gamma= 0.03, cost= 25, scale=FALSE, probability=TRUE)\n",
    "    \n",
    "    \n",
    "    preds <- predict(svmod, newdata=svm_scaled, scale=FALSE, probability=TRUE)\n",
    "    traindat$prob01 <- as.numeric(attr(preds, \"probabilities\")[, 2])\n",
    "    traindat$prob02 <- as.numeric(attr(preds, \"probabilities\")[, 3])\n",
    "    \n",
    "    # Apply transformations to Phenols and Alcalinity\n",
    "    traindat$Phenols <- (traindat$Phenols)^0.5\n",
    "    traindat$Alcalinity <- (traindat$Alcalinity)^0.18\n",
    "    \n",
    "    #############################\n",
    "    # Scale training set data for the k-means model.\n",
    "    \n",
    "    traindat_scaled <- scale(traindat[, -1], center=TRUE, scale=TRUE)\n",
    "    centers <- attr(traindat_scaled, \"scaled:center\")\n",
    "    scales <- attr(traindat_scaled, \"scaled:scale\")\n",
    "    rownames(traindat_scaled) <- rownames(traindat)\n",
    "    \n",
    "    \n",
    "    ############################\n",
    "    # Prepare valdat for svm modeling.\n",
    "    \n",
    "    svmval_scaled <- scale(valdat[, -1], center=svm_centers, scale=svm_scales)\n",
    "    svmval_scaled <- as.data.frame(svmval_scaled, row.names=rownames(valdat))\n",
    "    \n",
    "    # Compute prob01 and prob02 columns.\n",
    "    preds01_b <- predict(svmod, newdata=svmval_scaled, scale=FALSE, probability=TRUE)\n",
    "    valdat$prob01 <- as.numeric(attr(preds01_b, \"probabilities\")[, 2])\n",
    "    valdat$prob02 <- as.numeric(attr(preds01_b, \"probabilities\")[, 3])\n",
    "    \n",
    "    # Apply transformations to Phenols and Alcalinity\n",
    "    valdat$Phenols <- (valdat$Phenols)^0.5\n",
    "    valdat$Alcalinity <- (valdat$Alcalinity)^0.18\n",
    "\n",
    "    # Scale valdat.\n",
    "    valdat_scaled <- scale(valdat[, -1], center=centers, scale=scales)\n",
    "    \n",
    "    # The next step is crucial.\n",
    "    valdat_scaled <- as.data.frame(valdat_scaled, row.names=rownames(valdat))\n",
    "    \n",
    "    \n",
    "    #############################\n",
    "    # Construct k-means model.\n",
    "\n",
    "    kmod <- kmeans(traindat_scaled, 3, iter.max = 50, nstart=30)\n",
    "    \n",
    "    # See how the clusters are associated with Type level.\n",
    "    dfout <- as.data.frame(cbind(traindat$Type, kmod$cluster))\n",
    "    colnames(dfout) <- c(\"Type\", \"cluster\")\n",
    "    rownames(dfout) <- rownames(traindat)\n",
    "    mapping <- get_mapping(dfout)\n",
    "    \n",
    "    #############################\n",
    "    # Apply the k-means model to valdat_scaled.\n",
    "    \n",
    "    # Each element of the following list is a row of valdat_scaled.\n",
    "    valdat_asList <- split(valdat_scaled[, colnames(kmod$centers)],\n",
    "                           seq(nrow(valdat_scaled)))\n",
    "    \n",
    "    ctr_list <- vector(\"list\", length= nrow(valdat))\n",
    "    for(i in 1:nrow(valdat)) {\n",
    "        \n",
    "        ctr_list[[i]] <- kmod$centers\n",
    "    }\n",
    "    names(ctr_list) <- rownames(valdat)\n",
    "    \n",
    "    \n",
    "    # Get the predictions for the validation set.\n",
    "    cluster_assgns <- mcmapply(getCluster, valdat_asList, ctr_list,\n",
    "                               SIMPLIFY=TRUE, USE.NAMES= FALSE, mc.cores=6)\n",
    "    \n",
    "    valdat_scaled$cluster <- as.numeric(cluster_assgns)\n",
    "    \n",
    "    valdat_scaled$pred_Type <- NA\n",
    "    \n",
    "    # Apply mapping to the assigned clusters.  Since valdat is \n",
    "    # quite small (around 35 records if folds = 5), and there \n",
    "    # are 3 clusters, it is possible that one of the LHS expressions\n",
    "    # below is NA.  I will make the changes if the program fails. \n",
    "    valdat_scaled[which(valdat_scaled$cluster==1), c(\"pred_Type\")] <- as.numeric(mapping[\"1\"])\n",
    "    valdat_scaled[which(valdat_scaled$cluster==2), c(\"pred_Type\")] <- as.numeric(mapping[\"2\"])\n",
    "    valdat_scaled[which(valdat_scaled$cluster==3), c(\"pred_Type\")] <- as.numeric(mapping[\"3\"])\n",
    "    \n",
    "    # Generate confusion matrix for the k-means clusters and\n",
    "    # the corresponding f-score.\n",
    "    preds <- as.factor(valdat_scaled$pred_Type)\n",
    "    names(preds) <- rownames(valdat)\n",
    "    ans <- get_confusion(preds, valdat[, \"Type\", drop=FALSE])\n",
    "    return(ans[[2]])\n",
    "}\n"
   ]
  },
  {
   "cell_type": "code",
   "execution_count": 30,
   "metadata": {},
   "outputs": [
    {
     "data": {
      "text/html": [
       "'Start time: 2021-06-02 10:43:32'"
      ],
      "text/latex": [
       "'Start time: 2021-06-02 10:43:32'"
      ],
      "text/markdown": [
       "'Start time: 2021-06-02 10:43:32'"
      ],
      "text/plain": [
       "[1] \"Start time: 2021-06-02 10:43:32\""
      ]
     },
     "metadata": {},
     "output_type": "display_data"
    },
    {
     "data": {
      "text/plain": [
       "Time difference of 7.13 mins"
      ]
     },
     "metadata": {},
     "output_type": "display_data"
    }
   ],
   "source": [
    "# Use the same initial seed as we have been using for\n",
    "# this score.\n",
    "\n",
    "set.seed(1931)\n",
    "seed_vector <- sample(1:9999, 2000, replace=FALSE)\n",
    "\n",
    "# Here we need to use train instead of df because\n",
    "# svm02 is using un-transformed columns.\n",
    "\n",
    "start <- Sys.time()\n",
    "paste(\"Start time: \", start, sep=\"\")\n",
    "ans <- compute_cvScore_km(seed_vector, train)\n",
    "stop <- Sys.time()\n",
    "round(stop - start, 2)\n",
    "# Time difference of 7.13 mins\n"
   ]
  },
  {
   "cell_type": "code",
   "execution_count": 31,
   "metadata": {},
   "outputs": [
    {
     "data": {
      "text/plain": [
       "   Min. 1st Qu.  Median    Mean 3rd Qu.    Max. \n",
       "  0.775   0.815   0.821   0.822   0.831   0.865 "
      ]
     },
     "metadata": {},
     "output_type": "display_data"
    }
   ],
   "source": [
    "summary(ans$Acc)\n"
   ]
  },
  {
   "cell_type": "code",
   "execution_count": 32,
   "metadata": {},
   "outputs": [
    {
     "data": {
      "text/html": [
       "0.8219"
      ],
      "text/latex": [
       "0.8219"
      ],
      "text/markdown": [
       "0.8219"
      ],
      "text/plain": [
       "[1] 0.8219"
      ]
     },
     "metadata": {},
     "output_type": "display_data"
    }
   ],
   "source": [
    "round(mean(ans$Acc), 4)\n",
    "# 0.8219\n",
    "\n",
    "# Section 2 score: 0.8295\n",
    "\n",
    "# For svm02, this score was 0.8278.\n"
   ]
  },
  {
   "cell_type": "code",
   "execution_count": 33,
   "metadata": {},
   "outputs": [
    {
     "data": {
      "text/html": [
       "0.8209"
      ],
      "text/latex": [
       "0.8209"
      ],
      "text/markdown": [
       "0.8209"
      ],
      "text/plain": [
       "[1] 0.8209"
      ]
     },
     "metadata": {},
     "output_type": "display_data"
    },
    {
     "data": {
      "text/html": [
       "0.011109"
      ],
      "text/latex": [
       "0.011109"
      ],
      "text/markdown": [
       "0.011109"
      ],
      "text/plain": [
       "[1] 0.011109"
      ]
     },
     "metadata": {},
     "output_type": "display_data"
    }
   ],
   "source": [
    "round(median(ans$Acc), 4)\n",
    "round(sd(ans$Acc), 6)\n",
    "# 0.8209\n",
    "# 0.011109\n",
    "\n",
    "# Section 2 median: 0.8314\n",
    "# Section 2 sd: 0.012021\n"
   ]
  },
  {
   "cell_type": "code",
   "execution_count": 34,
   "metadata": {},
   "outputs": [
    {
     "data": {
      "image/png": "[encoded data removed]",
      "text/plain": [
       "Plot with title “Distribution of cross-val accuracy scores for hybrid k-means model”"
      ]
     },
     "metadata": {
      "image/png": {
       "height": 360,
       "width": 600
      }
     },
     "output_type": "display_data"
    }
   ],
   "source": [
    "options(repr.plot.width= 10, repr.plot.height= 6)\n",
    "hist(ans$Acc, breaks=14, xlab=\"accuracy\",\n",
    "     main=\"Distribution of cross-val accuracy scores for hybrid k-means model\")\n"
   ]
  },
  {
   "cell_type": "code",
   "execution_count": null,
   "metadata": {},
   "outputs": [],
   "source": [
    "### COMMENTS:\n",
    "\n",
    "# Not only is the min-max scaling taking a bit less time, \n",
    "# we are also seeing an important (statistically significant) \n",
    "# difference in the scores.  Because I do not think that applying\n",
    "# weights to this model will get us the boost we need to beat\n",
    "# the 0.8295 score, I am not going to search for weights.  In\n",
    "# Part 2 with the cow data, when weights were applied to the \n",
    "# base k-means model, the gain was only 0.007 (i.e., less than \n",
    "# 1 percentage point).  Here in Part 4 the bar is much higher and,\n",
    "# thus, we are not likely to see a gain even of 0.007 with the \n",
    "# best weights that we find.  (The bar is much higher because we\n",
    "# have less than half the records to work with and the accuracy\n",
    "# score we are trying to beat is 11 percentage points higher.)\n"
   ]
  },
  {
   "cell_type": "markdown",
   "metadata": {},
   "source": [
    "## Get comparative cross-val score for a hybrid model employing pca"
   ]
  },
  {
   "cell_type": "markdown",
   "metadata": {},
   "source": [
    "The point of employing pca is to reduce the dimensions of train in order to make it easier to find weights.  But in what follows, I see reason to apply min-max scaling in the process, absent any weights.  This means, in turn, that weights are unlikely to improve upon the following average cross-val accuracy score."
   ]
  },
  {
   "cell_type": "code",
   "execution_count": 35,
   "metadata": {},
   "outputs": [],
   "source": [
    "# Apply transformations.\n",
    "\n",
    "df <- train\n",
    "df$Phenols <- (df$Phenols)^0.5\n",
    "df$Alcalinity <- (df$Alcalinity)^0.18\n"
   ]
  },
  {
   "cell_type": "code",
   "execution_count": 52,
   "metadata": {},
   "outputs": [
    {
     "data": {
      "text/plain": [
       "Importance of first k=2 (out of 3) components:\n",
       "                         PC1   PC2\n",
       "Standard deviation     1.311 0.858\n",
       "Proportion of Variance 0.573 0.245\n",
       "Cumulative Proportion  0.573 0.818"
      ]
     },
     "metadata": {},
     "output_type": "display_data"
    }
   ],
   "source": [
    "# The R help for prcomp points out that we ought to set\n",
    "# scale.=TRUE.  If I do not scale, PC1 and PC2 together\n",
    "# capture around 99% of the variance.  But it is highly\n",
    "# unlikely we would see such performance on new data.\n",
    "# Scaling should give us a model that performs better on\n",
    "# new data.\n",
    "\n",
    "pca2 <- prcomp(df[, -1], retx=TRUE, rank.=2, center=TRUE,\n",
    "               scale.=TRUE)\n",
    "summary(pca2)\n"
   ]
  },
  {
   "cell_type": "code",
   "execution_count": 39,
   "metadata": {},
   "outputs": [
    {
     "data": {
      "text/plain": [
       "      pc1               pc2          \n",
       " Min.   :-0.6176   Min.   :-0.43125  \n",
       " 1st Qu.:-0.1952   1st Qu.:-0.10162  \n",
       " Median :-0.0593   Median : 0.00229  \n",
       " Mean   : 0.0000   Mean   : 0.00000  \n",
       " 3rd Qu.: 0.2143   3rd Qu.: 0.09219  \n",
       " Max.   : 0.6158   Max.   : 0.41777  "
      ]
     },
     "metadata": {},
     "output_type": "display_data"
    }
   ],
   "source": [
    "kmpca <- as.data.frame(pca2$x)\n",
    "colnames(kmpca) <- paste0(\"pc\", 1:2)\n",
    "rownames(kmpca) <- rownames(df)\n",
    "summary(kmpca)\n"
   ]
  },
  {
   "cell_type": "code",
   "execution_count": null,
   "metadata": {},
   "outputs": [],
   "source": [
    "# It makes sense to move the data into the range, [0,1],\n",
    "# because that is where the data for prob01 and prob02 lie.\n",
    "\n",
    "kmpca_scaled <- apply(kmpca, MARGIN=2, range01)\n",
    "summary(kmpca_scaled)\n"
   ]
  },
  {
   "cell_type": "code",
   "execution_count": 51,
   "metadata": {},
   "outputs": [
    {
     "data": {
      "text/plain": [
       "Importance of first k=2 (out of 3) components:\n",
       "                         PC1   PC2\n",
       "Standard deviation     1.300 0.865\n",
       "Proportion of Variance 0.563 0.249\n",
       "Cumulative Proportion  0.563 0.813"
      ]
     },
     "metadata": {},
     "output_type": "display_data"
    }
   ],
   "source": [
    "# See if pca works better with no transformations on \n",
    "# the variables.\n",
    "\n",
    "pca2_b <- prcomp(train[, -1], retx=TRUE, rank.=2, center=TRUE,\n",
    "                 scale.=TRUE)\n",
    "summary(pca2_b)\n"
   ]
  },
  {
   "cell_type": "code",
   "execution_count": 60,
   "metadata": {},
   "outputs": [],
   "source": [
    "# Function for obtaining average of confusion matrix accuracy\n",
    "# score. This function is called from compute_cvScore_km.\n",
    "\n",
    "get_cvScore_hybrid_pca <- function(traindat, valdat) {\n",
    "    \n",
    "    # Scale traindat for purpose of an svm model.\n",
    "    svm_scaled <- scale(traindat[, -1])\n",
    "    svm_centers <- attr(svm_scaled, \"scaled:center\")\n",
    "    svm_scales <- attr(svm_scaled, \"scaled:scale\")\n",
    "    svm_scaled <- as.data.frame(cbind(traindat$Type, svm_scaled),\n",
    "                                row.names=rownames(traindat))\n",
    "    colnames(svm_scaled) <- colnames(traindat)\n",
    "    \n",
    "    # This is our current best svm model for the trainset data\n",
    "    svmod <- svm(I(as.factor(Type)) ~ ., data=svm_scaled, kernel=\"radial\",\n",
    "                 gamma= 0.03, cost= 25, scale=FALSE, probability=TRUE)\n",
    "    \n",
    "    preds <- predict(svmod, newdata=svm_scaled, scale=FALSE, probability=TRUE)\n",
    "    \n",
    "    prob01 <- as.numeric(attr(preds, \"probabilities\")[, 2])\n",
    "    prob02 <- as.numeric(attr(preds, \"probabilities\")[, 3])\n",
    "    \n",
    "    # Scale the probability columns.\n",
    "    prob01_scaled <- scale(prob01, center=TRUE, scale=TRUE)\n",
    "    prob01_center <- attr(prob01_scaled, \"scaled:center\")\n",
    "    prob01_scale <- attr(prob01_scaled, \"scaled:scale\")\n",
    "    \n",
    "    prob02_scaled <- scale(prob02, center=TRUE, scale=TRUE)\n",
    "    prob02_center <- attr(prob02_scaled, \"scaled:center\")\n",
    "    prob02_scale <- attr(prob02_scaled, \"scaled:scale\")\n",
    "    \n",
    "    #############################\n",
    "    \n",
    "    # Transform columns of traindat.\n",
    "    traindat$Phenols <- (traindat$Phenols)^0.5\n",
    "    traindat$Alcalinity <- (traindat$Alcalinity)^0.18\n",
    "    \n",
    "    # Apply pca to traindat.\n",
    "    pca <- prcomp(traindat[, -1], retx=TRUE, rank.=2, center=TRUE,\n",
    "                  scale.=TRUE)\n",
    "    dftmp <- as.data.frame(pca$x, row.names=rownames(traindat))\n",
    "    \n",
    "    # Add in the probability columns.\n",
    "    dftmp$prob01 <- prob01_scaled\n",
    "    dftmp$prob02 <- prob02_scaled\n",
    "    \n",
    "    # Apply min-max scaling.\n",
    "    dftmp_scaled <- apply(as.matrix(dftmp), MARGIN=2, range01)\n",
    "    \n",
    "    traindat_scaled <- as.data.frame(dftmp_scaled, row.names=rownames(traindat))\n",
    "    colnames(traindat_scaled) <- c(paste0(\"pc\", 1:2),\"prob01\",\"prob02\")\n",
    "    \n",
    "    # Get mins and maxs for scaling of valdat.\n",
    "    traindat_mins <- as.numeric(apply(as.matrix(dftmp), MARGIN=2, min))\n",
    "    traindat_maxs <- as.numeric(apply(as.matrix(dftmp), MARGIN=2, max))\n",
    "    \n",
    "    \n",
    "    ############################\n",
    "    # Prepare valdat for svm modeling.\n",
    "    \n",
    "    svmval_scaled <- scale(valdat[, -1], center=svm_centers, scale=svm_scales)\n",
    "    svmval_scaled <- as.data.frame(svmval_scaled, row.names=rownames(valdat))\n",
    "    \n",
    "    # Compute prob01 and prob02 columns.\n",
    "    preds01_b <- predict(svmod, newdata=svmval_scaled, scale=FALSE, probability=TRUE)\n",
    "    prob01_b <- as.numeric(attr(preds01_b, \"probabilities\")[, 2])\n",
    "    prob02_b <- as.numeric(attr(preds01_b, \"probabilities\")[, 3])\n",
    "    \n",
    "    # Scale the probability columns.\n",
    "    prob01b_scaled <- scale(prob01_b, center=prob01_center, scale=prob01_scale)\n",
    "    prob02b_scaled <- scale(prob02_b, center=prob02_center, scale=prob02_scale)\n",
    "    \n",
    "    # Transform columns of valdat.\n",
    "    valdat$Phenols <- (valdat$Phenols)^0.5\n",
    "    valdat$Alcalinity <- (valdat$Alcalinity)^0.18\n",
    "    \n",
    "    # Apply pca to valdat.\n",
    "    valpca <- predict(pca, valdat[, -1])\n",
    "    df02tmp <- as.data.frame(valpca, row.names=rownames(valdat))\n",
    "    \n",
    "    # Add in the probability columns.\n",
    "    df02tmp$prob01 <- prob01b_scaled\n",
    "    df02tmp$prob02 <- prob02b_scaled\n",
    "    \n",
    "    # Apply min-max scaling.\n",
    "    df03_t <- t(as.matrix(df02tmp))\n",
    "    df03_asList <- split(df03_t, seq(nrow(df03_t)))\n",
    "    names(df03_asList) <- colnames(traindat_scaled)\n",
    "    valpca_scaled <- mapply(range02, df03_asList, traindat_mins, traindat_maxs)\n",
    "\n",
    "    # The next step is crucial.\n",
    "    valdat_scaled <- as.data.frame(valpca_scaled, row.names=rownames(valdat))\n",
    "    colnames(valdat_scaled) <- colnames(traindat_scaled)\n",
    "    \n",
    "    \n",
    "    #############################\n",
    "    # Construct k-means model.\n",
    "\n",
    "    kmod <- kmeans(traindat_scaled, 3, iter.max = 50, nstart=30)\n",
    "    \n",
    "    # See how the clusters are associated with Type level.\n",
    "    dfout <- as.data.frame(cbind(traindat$Type, kmod$cluster))\n",
    "    colnames(dfout) <- c(\"Type\", \"cluster\")\n",
    "    rownames(dfout) <- rownames(traindat)\n",
    "    mapping <- get_mapping(dfout)\n",
    "    \n",
    "    #############################\n",
    "    # Apply the k-means model to valdat_scaled.\n",
    "    \n",
    "    # Each element of the following list is a row of valdat_scaled.\n",
    "    valdat_asList <- split(valdat_scaled[, colnames(kmod$centers)],\n",
    "                           seq(nrow(valdat_scaled)))\n",
    "    \n",
    "    ctr_list <- vector(\"list\", length= nrow(valdat))\n",
    "    for(i in 1:nrow(valdat)) {\n",
    "        \n",
    "        ctr_list[[i]] <- kmod$centers\n",
    "    }\n",
    "    names(ctr_list) <- rownames(valdat)\n",
    "    \n",
    "    \n",
    "    # Get the predictions for the validation set.\n",
    "    cluster_assgns <- mcmapply(getCluster, valdat_asList, ctr_list,\n",
    "                               SIMPLIFY=TRUE, USE.NAMES= FALSE, mc.cores=6)\n",
    "    \n",
    "    valdat_scaled$cluster <- as.numeric(cluster_assgns)\n",
    "    \n",
    "    valdat_scaled$pred_Type <- NA\n",
    "    \n",
    "    # Apply mapping to the assigned clusters.  Since valdat is \n",
    "    # quite small (around 35 records if folds = 5), and there \n",
    "    # are 3 clusters, it is possible that one of the LHS expressions\n",
    "    # below is NA.  I will make the changes if the program fails. \n",
    "    valdat_scaled[which(valdat_scaled$cluster==1), c(\"pred_Type\")] <- as.numeric(mapping[\"1\"])\n",
    "    valdat_scaled[which(valdat_scaled$cluster==2), c(\"pred_Type\")] <- as.numeric(mapping[\"2\"])\n",
    "    valdat_scaled[which(valdat_scaled$cluster==3), c(\"pred_Type\")] <- as.numeric(mapping[\"3\"])\n",
    "    \n",
    "    # Generate confusion matrix for the k-means clusters and\n",
    "    # the corresponding f-score.\n",
    "    preds <- as.factor(valdat_scaled$pred_Type)\n",
    "    names(preds) <- rownames(valdat)\n",
    "    ans <- get_confusion(preds, valdat[, \"Type\", drop=FALSE])\n",
    "    return(ans[[2]])\n",
    "}\n"
   ]
  },
  {
   "cell_type": "code",
   "execution_count": 65,
   "metadata": {},
   "outputs": [
    {
     "data": {
      "text/html": [
       "'Start time: 2021-06-02 12:42:29'"
      ],
      "text/latex": [
       "'Start time: 2021-06-02 12:42:29'"
      ],
      "text/markdown": [
       "'Start time: 2021-06-02 12:42:29'"
      ],
      "text/plain": [
       "[1] \"Start time: 2021-06-02 12:42:29\""
      ]
     },
     "metadata": {},
     "output_type": "display_data"
    },
    {
     "data": {
      "text/plain": [
       "Time difference of 6.65 mins"
      ]
     },
     "metadata": {},
     "output_type": "display_data"
    }
   ],
   "source": [
    "# Use the same initial seed as we have been using for\n",
    "# this score.\n",
    "\n",
    "set.seed(1931)\n",
    "seed_vector <- sample(1:9999, 2000, replace=FALSE)\n",
    "\n",
    "# Here we need to use train instead of df because\n",
    "# svm02 is using un-transformed columns.\n",
    "\n",
    "start <- Sys.time()\n",
    "paste(\"Start time: \", start, sep=\"\")\n",
    "ans <- compute_cvScore_km(seed_vector, train)\n",
    "stop <- Sys.time()\n",
    "round(stop - start, 2)\n",
    "# Time difference of 6.65 mins\n"
   ]
  },
  {
   "cell_type": "code",
   "execution_count": 66,
   "metadata": {},
   "outputs": [
    {
     "data": {
      "text/plain": [
       "   Min. 1st Qu.  Median    Mean 3rd Qu.    Max. \n",
       "  0.785   0.821   0.831   0.830   0.838   0.865 "
      ]
     },
     "metadata": {},
     "output_type": "display_data"
    }
   ],
   "source": [
    "summary(ans$Acc)\n"
   ]
  },
  {
   "cell_type": "code",
   "execution_count": 67,
   "metadata": {},
   "outputs": [
    {
     "data": {
      "text/html": [
       "0.8298"
      ],
      "text/latex": [
       "0.8298"
      ],
      "text/markdown": [
       "0.8298"
      ],
      "text/plain": [
       "[1] 0.8298"
      ]
     },
     "metadata": {},
     "output_type": "display_data"
    }
   ],
   "source": [
    "round(mean(ans$Acc), 4)\n",
    "# 0.8298\n",
    "\n",
    "# Section 2 score: 0.8295\n",
    "\n",
    "# For svm02, this score was 0.8278.\n"
   ]
  },
  {
   "cell_type": "code",
   "execution_count": 68,
   "metadata": {},
   "outputs": [
    {
     "data": {
      "text/html": [
       "0.8314"
      ],
      "text/latex": [
       "0.8314"
      ],
      "text/markdown": [
       "0.8314"
      ],
      "text/plain": [
       "[1] 0.8314"
      ]
     },
     "metadata": {},
     "output_type": "display_data"
    },
    {
     "data": {
      "text/html": [
       "0.01239"
      ],
      "text/latex": [
       "0.01239"
      ],
      "text/markdown": [
       "0.01239"
      ],
      "text/plain": [
       "[1] 0.01239"
      ]
     },
     "metadata": {},
     "output_type": "display_data"
    }
   ],
   "source": [
    "round(median(ans$Acc), 4)\n",
    "round(sd(ans$Acc), 6)\n",
    "# 0.8314\n",
    "# 0.01239\n",
    "\n",
    "# Section 2 median: 0.8314\n",
    "# Section 2 sd: 0.012021\n"
   ]
  },
  {
   "cell_type": "code",
   "execution_count": 69,
   "metadata": {},
   "outputs": [
    {
     "data": {
      "image/png": "[encoded data removed]",
      "text/plain": [
       "Plot with title “Distribution of cross-val accuracy scores for hybrid k-means model”"
      ]
     },
     "metadata": {
      "image/png": {
       "height": 360,
       "width": 600
      }
     },
     "output_type": "display_data"
    }
   ],
   "source": [
    "options(repr.plot.width= 10, repr.plot.height= 6)\n",
    "hist(ans$Acc, breaks=14, xlab=\"accuracy\",\n",
    "     main=\"Distribution of cross-val accuracy scores for hybrid k-means model\")\n"
   ]
  },
  {
   "cell_type": "markdown",
   "metadata": {},
   "source": [
    "## See what the variability is in the weights"
   ]
  },
  {
   "cell_type": "code",
   "execution_count": 70,
   "metadata": {},
   "outputs": [
    {
     "data": {
      "text/html": [
       "<style>\n",
       ".list-inline {list-style: none; margin:0; padding: 0}\n",
       ".list-inline>li {display: inline-block}\n",
       ".list-inline>li:not(:last-child)::after {content: \"\\00b7\"; padding: 0 .5ex}\n",
       "</style>\n",
       "<ol class=list-inline><li>1469</li><li>4</li></ol>\n"
      ],
      "text/latex": [
       "\\begin{enumerate*}\n",
       "\\item 1469\n",
       "\\item 4\n",
       "\\end{enumerate*}\n"
      ],
      "text/markdown": [
       "1. 1469\n",
       "2. 4\n",
       "\n",
       "\n"
      ],
      "text/plain": [
       "[1] 1469    4"
      ]
     },
     "metadata": {},
     "output_type": "display_data"
    }
   ],
   "source": [
    "# With 4 columns, no weights = 0.25 for each column.  \n",
    "# Keep 0.25 at the center of each sequence.\n",
    "\n",
    "lst <- vector(\"list\", length= 4)\n",
    "names(lst) <- c(paste0(\"pc\", 1:2), \"prob01\",\"prob02\")\n",
    "\n",
    "lst[[1]] <- lst[[2]] <- lst[[3]] <- lst[[4]] <- seq(0.13, 0.37, by=0.02)\n",
    "\n",
    "start <- Sys.time()\n",
    "dfc01 <- generate_combs(lst)\n",
    "stop <- Sys.time()\n",
    "# round(stop - start, 2)\n",
    "\n",
    "dim(dfc01)\n",
    "#  1,469     4\n"
   ]
  },
  {
   "cell_type": "code",
   "execution_count": 71,
   "metadata": {},
   "outputs": [],
   "source": [
    "# Function for computing the tot.withinss for each set of \n",
    "# weights in df_params (a dataframe, each row of which is\n",
    "# a candidate set of weights).  The optimal set of weights\n",
    "# will be the set that yields the smallest average (over\n",
    "# the folds) for tot.withinss.\n",
    "# This function is called from gridSearch07.\n",
    "\n",
    "get_tot.withinss02 <- function(traindat, valdat, wghts) {\n",
    "    \n",
    "    # Scale traindat for purpose of an svm model.\n",
    "    svm_scaled <- scale(traindat[, -1])\n",
    "    svm_centers <- attr(svm_scaled, \"scaled:center\")\n",
    "    svm_scales <- attr(svm_scaled, \"scaled:scale\")\n",
    "    svm_scaled <- as.data.frame(cbind(traindat$Type, svm_scaled),\n",
    "                                row.names=rownames(traindat))\n",
    "    colnames(svm_scaled) <- colnames(traindat)\n",
    "    \n",
    "    # This is our current best svm model for the trainset data\n",
    "    svmod <- svm(I(as.factor(Type)) ~ ., data=svm_scaled, kernel=\"radial\",\n",
    "                 gamma= 0.03, cost= 25, scale=FALSE, probability=TRUE)\n",
    "    \n",
    "    preds <- predict(svmod, newdata=svm_scaled, scale=FALSE, probability=TRUE)\n",
    "    \n",
    "    prob01 <- as.numeric(attr(preds, \"probabilities\")[, 2])\n",
    "    prob02 <- as.numeric(attr(preds, \"probabilities\")[, 3])\n",
    "    \n",
    "    # Scale the probability columns.\n",
    "    prob01_scaled <- scale(prob01, center=TRUE, scale=TRUE)\n",
    "    prob01_center <- attr(prob01_scaled, \"scaled:center\")\n",
    "    prob01_scale <- attr(prob01_scaled, \"scaled:scale\")\n",
    "    \n",
    "    prob02_scaled <- scale(prob02, center=TRUE, scale=TRUE)\n",
    "    prob02_center <- attr(prob02_scaled, \"scaled:center\")\n",
    "    prob02_scale <- attr(prob02_scaled, \"scaled:scale\")\n",
    "    \n",
    "    #############################\n",
    "    \n",
    "    # Transform columns of traindat.\n",
    "    traindat$Phenols <- (traindat$Phenols)^0.5\n",
    "    traindat$Alcalinity <- (traindat$Alcalinity)^0.18\n",
    "    \n",
    "    # Apply pca to traindat.\n",
    "    pca <- prcomp(traindat[, -1], retx=TRUE, rank.=2, center=TRUE,\n",
    "                  scale.=TRUE)\n",
    "    dftmp <- as.data.frame(pca$x, row.names=rownames(traindat))\n",
    "    \n",
    "    # Add in the probability columns.\n",
    "    dftmp$prob01 <- prob01_scaled\n",
    "    dftmp$prob02 <- prob02_scaled\n",
    "    \n",
    "    # Apply min-max scaling.\n",
    "    # dftmp_scaled <- apply(as.matrix(dftmp), MARGIN=2, range01)\n",
    "    \n",
    "    # traindat_scaled <- as.data.frame(dftmp_scaled, row.names=rownames(traindat))\n",
    "    # colnames(traindat_scaled) <- c(paste0(\"pc\", 1:2),\"prob01\",\"prob02\")\n",
    "    \n",
    "    # Get mins and maxs for scaling of valdat.\n",
    "    traindat_mins <- as.numeric(apply(as.matrix(dftmp), MARGIN=2, min))\n",
    "    traindat_maxs <- as.numeric(apply(as.matrix(dftmp), MARGIN=2, max))\n",
    "    \n",
    "    \n",
    "    \n",
    "    ############################\n",
    "    # Prepare valdat for svm modeling.\n",
    "    \n",
    "    svmval_scaled <- scale(valdat[, -1], center=svm_centers, scale=svm_scales)\n",
    "    svmval_scaled <- as.data.frame(svmval_scaled, row.names=rownames(valdat))\n",
    "    \n",
    "    # Compute prob01 and prob02 columns.\n",
    "    preds01_b <- predict(svmod, newdata=svmval_scaled, scale=FALSE, probability=TRUE)\n",
    "    prob01_b <- as.numeric(attr(preds01_b, \"probabilities\")[, 2])\n",
    "    prob02_b <- as.numeric(attr(preds01_b, \"probabilities\")[, 3])\n",
    "    \n",
    "    # Scale the probability columns.\n",
    "    prob01b_scaled <- scale(prob01_b, center=prob01_center, scale=prob01_scale)\n",
    "    prob02b_scaled <- scale(prob02_b, center=prob02_center, scale=prob02_scale)\n",
    "    \n",
    "    # Transform columns of valdat.\n",
    "    valdat$Phenols <- (valdat$Phenols)^0.5\n",
    "    valdat$Alcalinity <- (valdat$Alcalinity)^0.18\n",
    "    \n",
    "    # Apply pca to valdat.\n",
    "    valpca <- predict(pca, valdat[, -1])\n",
    "    df02tmp <- as.data.frame(valpca, row.names=rownames(valdat))\n",
    "    \n",
    "    # Add in the probability columns.\n",
    "    df02tmp$prob01 <- prob01b_scaled\n",
    "    df02tmp$prob02 <- prob02b_scaled\n",
    "    \n",
    "    # Apply min-max scaling.\n",
    "    df03_t <- t(as.matrix(df02tmp))\n",
    "    df03_asList <- split(df03_t, seq(nrow(df03_t)))\n",
    "    names(df03_asList) <- c(paste0(\"pc\", 1:2),\"prob01\",\"prob02\")\n",
    "    valpca_scaled <- mapply(range02, df03_asList, traindat_mins, traindat_maxs)\n",
    "\n",
    "    # The next step is crucial.\n",
    "    valdat_scaled <- as.data.frame(valpca_scaled, row.names=rownames(valdat))\n",
    "    colnames(valdat_scaled) <- c(paste0(\"pc\", 1:2),\"prob01\",\"prob02\")\n",
    "    \n",
    "    \n",
    "    # Apply weights to valdat_scaled.\n",
    "    cols <- names(wghts)\n",
    "    df4 <- t(t(valdat_scaled[, cols]) * as.numeric(wghts[cols]))\n",
    "    # valdat_wghts <- as.data.frame(df4, row.names=rownames(valdat))\n",
    "    # colnames(valdat_wghts) <- cols\n",
    "    \n",
    "    \n",
    "    #############################################\n",
    "    # Construct k-means model on the validation set.\n",
    "\n",
    "    kmod <- kmeans(df4, 3, iter.max = 50, nstart=30)\n",
    "    \n",
    "    return(kmod$tot.withinss)\n",
    "}\n"
   ]
  },
  {
   "cell_type": "code",
   "execution_count": 77,
   "metadata": {},
   "outputs": [
    {
     "data": {
      "text/html": [
       "<table class=\"dataframe\">\n",
       "<caption>A data.frame: 6 × 4</caption>\n",
       "<thead>\n",
       "\t<tr><th></th><th scope=col>pc1</th><th scope=col>pc2</th><th scope=col>prob01</th><th scope=col>prob02</th></tr>\n",
       "\t<tr><th></th><th scope=col>&lt;dbl&gt;</th><th scope=col>&lt;dbl&gt;</th><th scope=col>&lt;dbl&gt;</th><th scope=col>&lt;dbl&gt;</th></tr>\n",
       "</thead>\n",
       "<tbody>\n",
       "\t<tr><th scope=row>11425</th><td>0.33</td><td>0.27</td><td>0.17</td><td>0.23</td></tr>\n",
       "\t<tr><th scope=row>7201</th><td>0.35</td><td>0.27</td><td>0.19</td><td>0.19</td></tr>\n",
       "\t<tr><th scope=row>22165</th><td>0.37</td><td>0.15</td><td>0.15</td><td>0.33</td></tr>\n",
       "\t<tr><th scope=row>20509</th><td>0.27</td><td>0.21</td><td>0.21</td><td>0.31</td></tr>\n",
       "\t<tr><th scope=row>23329</th><td>0.25</td><td>0.13</td><td>0.29</td><td>0.33</td></tr>\n",
       "\t<tr><th scope=row>22057</th><td>0.29</td><td>0.25</td><td>0.13</td><td>0.33</td></tr>\n",
       "</tbody>\n",
       "</table>\n"
      ],
      "text/latex": [
       "A data.frame: 6 × 4\n",
       "\\begin{tabular}{r|llll}\n",
       "  & pc1 & pc2 & prob01 & prob02\\\\\n",
       "  & <dbl> & <dbl> & <dbl> & <dbl>\\\\\n",
       "\\hline\n",
       "\t11425 & 0.33 & 0.27 & 0.17 & 0.23\\\\\n",
       "\t7201 & 0.35 & 0.27 & 0.19 & 0.19\\\\\n",
       "\t22165 & 0.37 & 0.15 & 0.15 & 0.33\\\\\n",
       "\t20509 & 0.27 & 0.21 & 0.21 & 0.31\\\\\n",
       "\t23329 & 0.25 & 0.13 & 0.29 & 0.33\\\\\n",
       "\t22057 & 0.29 & 0.25 & 0.13 & 0.33\\\\\n",
       "\\end{tabular}\n"
      ],
      "text/markdown": [
       "\n",
       "A data.frame: 6 × 4\n",
       "\n",
       "| <!--/--> | pc1 &lt;dbl&gt; | pc2 &lt;dbl&gt; | prob01 &lt;dbl&gt; | prob02 &lt;dbl&gt; |\n",
       "|---|---|---|---|---|\n",
       "| 11425 | 0.33 | 0.27 | 0.17 | 0.23 |\n",
       "| 7201 | 0.35 | 0.27 | 0.19 | 0.19 |\n",
       "| 22165 | 0.37 | 0.15 | 0.15 | 0.33 |\n",
       "| 20509 | 0.27 | 0.21 | 0.21 | 0.31 |\n",
       "| 23329 | 0.25 | 0.13 | 0.29 | 0.33 |\n",
       "| 22057 | 0.29 | 0.25 | 0.13 | 0.33 |\n",
       "\n"
      ],
      "text/plain": [
       "      pc1  pc2  prob01 prob02\n",
       "11425 0.33 0.27 0.17   0.23  \n",
       "7201  0.35 0.27 0.19   0.19  \n",
       "22165 0.37 0.15 0.15   0.33  \n",
       "20509 0.27 0.21 0.21   0.31  \n",
       "23329 0.25 0.13 0.29   0.33  \n",
       "22057 0.29 0.25 0.13   0.33  "
      ]
     },
     "metadata": {},
     "output_type": "display_data"
    }
   ],
   "source": [
    "# Test on a sample of 100.\n",
    "\n",
    "set.seed(42)\n",
    "smp <- sample(rownames(dfc01), 100, replace=FALSE)\n",
    "tst_params <- dfc01[smp,]\n",
    "head(tst_params)\n"
   ]
  },
  {
   "cell_type": "code",
   "execution_count": 78,
   "metadata": {},
   "outputs": [
    {
     "data": {
      "text/html": [
       "'Start time: 2021-06-02 13:53:22'"
      ],
      "text/latex": [
       "'Start time: 2021-06-02 13:53:22'"
      ],
      "text/markdown": [
       "'Start time: 2021-06-02 13:53:22'"
      ],
      "text/plain": [
       "[1] \"Start time: 2021-06-02 13:53:22\""
      ]
     },
     "metadata": {},
     "output_type": "display_data"
    },
    {
     "data": {
      "text/plain": [
       "Time difference of 7.06 mins"
      ]
     },
     "metadata": {},
     "output_type": "display_data"
    }
   ],
   "source": [
    "# Find the best weights of those in tst_params.\n",
    "# Use 120 seeds.\n",
    "\n",
    "set.seed(1233)\n",
    "seed_vector <- sample(1:9999, 120, replace=FALSE)\n",
    "\n",
    "start <- Sys.time()\n",
    "paste0(\"Start time: \", start)\n",
    "dat_result <- gridSearch07(seed_vector, train, tst_params) \n",
    "stop <- Sys.time()\n",
    "round(stop - start, 2)\n",
    "# Time difference of 7.06 mins (for 100 rows; 120 seeds each row)\n"
   ]
  },
  {
   "cell_type": "code",
   "execution_count": 79,
   "metadata": {},
   "outputs": [
    {
     "data": {
      "text/html": [
       "1"
      ],
      "text/latex": [
       "1"
      ],
      "text/markdown": [
       "1"
      ],
      "text/plain": [
       "[1] 1"
      ]
     },
     "metadata": {},
     "output_type": "display_data"
    }
   ],
   "source": [
    "best_params <- dat_result[which(dat_result$tot.withinss == \n",
    "                                min(dat_result$tot.withinss, na.rm=TRUE)),]$row\n",
    "length(best_params)\n",
    "\n",
    "best_tot.withinss <- round(dat_result[which(dat_result$tot.withinss == \n",
    "                                min(dat_result$tot.withinss, na.rm=TRUE)),]$tot.withinss, 2)\n"
   ]
  },
  {
   "cell_type": "code",
   "execution_count": 80,
   "metadata": {},
   "outputs": [
    {
     "data": {
      "text/html": [
       "<table class=\"dataframe\">\n",
       "<caption>A data.frame: 1 × 4</caption>\n",
       "<thead>\n",
       "\t<tr><th></th><th scope=col>pc1</th><th scope=col>pc2</th><th scope=col>prob01</th><th scope=col>prob02</th></tr>\n",
       "\t<tr><th></th><th scope=col>&lt;dbl&gt;</th><th scope=col>&lt;dbl&gt;</th><th scope=col>&lt;dbl&gt;</th><th scope=col>&lt;dbl&gt;</th></tr>\n",
       "</thead>\n",
       "<tbody>\n",
       "\t<tr><th scope=row>26377</th><td>0.37</td><td>0.13</td><td>0.13</td><td>0.37</td></tr>\n",
       "</tbody>\n",
       "</table>\n"
      ],
      "text/latex": [
       "A data.frame: 1 × 4\n",
       "\\begin{tabular}{r|llll}\n",
       "  & pc1 & pc2 & prob01 & prob02\\\\\n",
       "  & <dbl> & <dbl> & <dbl> & <dbl>\\\\\n",
       "\\hline\n",
       "\t26377 & 0.37 & 0.13 & 0.13 & 0.37\\\\\n",
       "\\end{tabular}\n"
      ],
      "text/markdown": [
       "\n",
       "A data.frame: 1 × 4\n",
       "\n",
       "| <!--/--> | pc1 &lt;dbl&gt; | pc2 &lt;dbl&gt; | prob01 &lt;dbl&gt; | prob02 &lt;dbl&gt; |\n",
       "|---|---|---|---|---|\n",
       "| 26377 | 0.37 | 0.13 | 0.13 | 0.37 |\n",
       "\n"
      ],
      "text/plain": [
       "      pc1  pc2  prob01 prob02\n",
       "26377 0.37 0.13 0.13   0.37  "
      ]
     },
     "metadata": {},
     "output_type": "display_data"
    },
    {
     "data": {
      "text/html": [
       "0.46"
      ],
      "text/latex": [
       "0.46"
      ],
      "text/markdown": [
       "0.46"
      ],
      "text/plain": [
       "[1] 0.46"
      ]
     },
     "metadata": {},
     "output_type": "display_data"
    }
   ],
   "source": [
    "dfc01[best_params,]\n",
    "\n",
    "best_tot.withinss\n"
   ]
  },
  {
   "cell_type": "code",
   "execution_count": 81,
   "metadata": {},
   "outputs": [
    {
     "data": {
      "text/html": [
       "'Start time: 2021-06-02 14:03:20'"
      ],
      "text/latex": [
       "'Start time: 2021-06-02 14:03:20'"
      ],
      "text/markdown": [
       "'Start time: 2021-06-02 14:03:20'"
      ],
      "text/plain": [
       "[1] \"Start time: 2021-06-02 14:03:20\""
      ]
     },
     "metadata": {},
     "output_type": "display_data"
    },
    {
     "data": {
      "text/plain": [
       "Time difference of 1.8 hours"
      ]
     },
     "metadata": {},
     "output_type": "display_data"
    }
   ],
   "source": [
    "# Find the best weights of those in dfc01.\n",
    "# Use 120 seeds.  [Approx. time: 1.75 hours]\n",
    "\n",
    "set.seed(1233)\n",
    "seed_vector <- sample(1:9999, 120, replace=FALSE)\n",
    "\n",
    "start <- Sys.time()\n",
    "paste0(\"Start time: \", start)\n",
    "dat_result <- gridSearch07(seed_vector, train, dfc01) \n",
    "stop <- Sys.time()\n",
    "round(stop - start, 2)\n",
    "datout_01 <- dat_result\n",
    "# Time difference of 1.8 hours.\n"
   ]
  },
  {
   "cell_type": "code",
   "execution_count": 82,
   "metadata": {},
   "outputs": [
    {
     "data": {
      "text/html": [
       "1"
      ],
      "text/latex": [
       "1"
      ],
      "text/markdown": [
       "1"
      ],
      "text/plain": [
       "[1] 1"
      ]
     },
     "metadata": {},
     "output_type": "display_data"
    }
   ],
   "source": [
    "best_params <- dat_result[which(dat_result$tot.withinss == \n",
    "                                min(dat_result$tot.withinss, na.rm=TRUE)),]$row\n",
    "length(best_params)\n",
    "\n",
    "best_tot.withinss <- round(dat_result[which(dat_result$tot.withinss == \n",
    "                                min(dat_result$tot.withinss, na.rm=TRUE)),]$tot.withinss, 4)\n"
   ]
  },
  {
   "cell_type": "code",
   "execution_count": 83,
   "metadata": {},
   "outputs": [
    {
     "data": {
      "text/html": [
       "<table class=\"dataframe\">\n",
       "<caption>A data.frame: 1 × 4</caption>\n",
       "<thead>\n",
       "\t<tr><th></th><th scope=col>pc1</th><th scope=col>pc2</th><th scope=col>prob01</th><th scope=col>prob02</th></tr>\n",
       "\t<tr><th></th><th scope=col>&lt;dbl&gt;</th><th scope=col>&lt;dbl&gt;</th><th scope=col>&lt;dbl&gt;</th><th scope=col>&lt;dbl&gt;</th></tr>\n",
       "</thead>\n",
       "<tbody>\n",
       "\t<tr><th scope=row>26377</th><td>0.37</td><td>0.13</td><td>0.13</td><td>0.37</td></tr>\n",
       "</tbody>\n",
       "</table>\n"
      ],
      "text/latex": [
       "A data.frame: 1 × 4\n",
       "\\begin{tabular}{r|llll}\n",
       "  & pc1 & pc2 & prob01 & prob02\\\\\n",
       "  & <dbl> & <dbl> & <dbl> & <dbl>\\\\\n",
       "\\hline\n",
       "\t26377 & 0.37 & 0.13 & 0.13 & 0.37\\\\\n",
       "\\end{tabular}\n"
      ],
      "text/markdown": [
       "\n",
       "A data.frame: 1 × 4\n",
       "\n",
       "| <!--/--> | pc1 &lt;dbl&gt; | pc2 &lt;dbl&gt; | prob01 &lt;dbl&gt; | prob02 &lt;dbl&gt; |\n",
       "|---|---|---|---|---|\n",
       "| 26377 | 0.37 | 0.13 | 0.13 | 0.37 |\n",
       "\n"
      ],
      "text/plain": [
       "      pc1  pc2  prob01 prob02\n",
       "26377 0.37 0.13 0.13   0.37  "
      ]
     },
     "metadata": {},
     "output_type": "display_data"
    },
    {
     "data": {
      "text/html": [
       "0.4615"
      ],
      "text/latex": [
       "0.4615"
      ],
      "text/markdown": [
       "0.4615"
      ],
      "text/plain": [
       "[1] 0.4615"
      ]
     },
     "metadata": {},
     "output_type": "display_data"
    }
   ],
   "source": [
    "dfc01[best_params,]\n",
    "#       \t pc1\t pc2\tprob01  \tprob02\n",
    "\n",
    "# 26377 \t0.37\t0.13\t  0.13  \t  0.37\n",
    "\n",
    "best_tot.withinss\n",
    "# 0.4615\n"
   ]
  },
  {
   "cell_type": "code",
   "execution_count": 84,
   "metadata": {},
   "outputs": [
    {
     "data": {
      "text/html": [
       "<table class=\"dataframe\">\n",
       "<caption>A data.frame: 15 × 2</caption>\n",
       "<thead>\n",
       "\t<tr><th></th><th scope=col>row</th><th scope=col>tot.withinss</th></tr>\n",
       "\t<tr><th></th><th scope=col>&lt;chr&gt;</th><th scope=col>&lt;dbl&gt;</th></tr>\n",
       "</thead>\n",
       "<tbody>\n",
       "\t<tr><th scope=row>1379</th><td>26377</td><td>0.46152</td></tr>\n",
       "\t<tr><th scope=row>1289</th><td>24349</td><td>0.46377</td></tr>\n",
       "\t<tr><th scope=row>1277</th><td>24193</td><td>0.46483</td></tr>\n",
       "\t<tr><th scope=row>1189</th><td>22321</td><td>0.46559</td></tr>\n",
       "\t<tr><th scope=row>1392</th><td>26545</td><td>0.46580</td></tr>\n",
       "\t<tr><th scope=row>1380</th><td>26389</td><td>0.46712</td></tr>\n",
       "\t<tr><th scope=row>1081</th><td>20293</td><td>0.46731</td></tr>\n",
       "\t<tr><th scope=row>1177</th><td>22165</td><td>0.46735</td></tr>\n",
       "\t<tr><th scope=row>1302</th><td>24517</td><td>0.46798</td></tr>\n",
       "\t<tr><th scope=row>1166</th><td>22009</td><td>0.46799</td></tr>\n",
       "\t<tr><th scope=row>967</th><td>18265</td><td>0.46822</td></tr>\n",
       "\t<tr><th scope=row>1069</th><td>20137</td><td>0.46933</td></tr>\n",
       "\t<tr><th scope=row>1290</th><td>24361</td><td>0.46950</td></tr>\n",
       "\t<tr><th scope=row>1202</th><td>22489</td><td>0.46966</td></tr>\n",
       "\t<tr><th scope=row>849</th><td>16237</td><td>0.46973</td></tr>\n",
       "</tbody>\n",
       "</table>\n"
      ],
      "text/latex": [
       "A data.frame: 15 × 2\n",
       "\\begin{tabular}{r|ll}\n",
       "  & row & tot.withinss\\\\\n",
       "  & <chr> & <dbl>\\\\\n",
       "\\hline\n",
       "\t1379 & 26377 & 0.46152\\\\\n",
       "\t1289 & 24349 & 0.46377\\\\\n",
       "\t1277 & 24193 & 0.46483\\\\\n",
       "\t1189 & 22321 & 0.46559\\\\\n",
       "\t1392 & 26545 & 0.46580\\\\\n",
       "\t1380 & 26389 & 0.46712\\\\\n",
       "\t1081 & 20293 & 0.46731\\\\\n",
       "\t1177 & 22165 & 0.46735\\\\\n",
       "\t1302 & 24517 & 0.46798\\\\\n",
       "\t1166 & 22009 & 0.46799\\\\\n",
       "\t967 & 18265 & 0.46822\\\\\n",
       "\t1069 & 20137 & 0.46933\\\\\n",
       "\t1290 & 24361 & 0.46950\\\\\n",
       "\t1202 & 22489 & 0.46966\\\\\n",
       "\t849 & 16237 & 0.46973\\\\\n",
       "\\end{tabular}\n"
      ],
      "text/markdown": [
       "\n",
       "A data.frame: 15 × 2\n",
       "\n",
       "| <!--/--> | row &lt;chr&gt; | tot.withinss &lt;dbl&gt; |\n",
       "|---|---|---|\n",
       "| 1379 | 26377 | 0.46152 |\n",
       "| 1289 | 24349 | 0.46377 |\n",
       "| 1277 | 24193 | 0.46483 |\n",
       "| 1189 | 22321 | 0.46559 |\n",
       "| 1392 | 26545 | 0.46580 |\n",
       "| 1380 | 26389 | 0.46712 |\n",
       "| 1081 | 20293 | 0.46731 |\n",
       "| 1177 | 22165 | 0.46735 |\n",
       "| 1302 | 24517 | 0.46798 |\n",
       "| 1166 | 22009 | 0.46799 |\n",
       "| 967 | 18265 | 0.46822 |\n",
       "| 1069 | 20137 | 0.46933 |\n",
       "| 1290 | 24361 | 0.46950 |\n",
       "| 1202 | 22489 | 0.46966 |\n",
       "| 849 | 16237 | 0.46973 |\n",
       "\n"
      ],
      "text/plain": [
       "     row   tot.withinss\n",
       "1379 26377 0.46152     \n",
       "1289 24349 0.46377     \n",
       "1277 24193 0.46483     \n",
       "1189 22321 0.46559     \n",
       "1392 26545 0.46580     \n",
       "1380 26389 0.46712     \n",
       "1081 20293 0.46731     \n",
       "1177 22165 0.46735     \n",
       "1302 24517 0.46798     \n",
       "1166 22009 0.46799     \n",
       "967  18265 0.46822     \n",
       "1069 20137 0.46933     \n",
       "1290 24361 0.46950     \n",
       "1202 22489 0.46966     \n",
       "849  16237 0.46973     "
      ]
     },
     "metadata": {},
     "output_type": "display_data"
    }
   ],
   "source": [
    "datout_01 <- datout_01[order(datout_01$tot.withinss, decreasing=FALSE),]\n",
    "datout_01[1:15,]\n"
   ]
  },
  {
   "cell_type": "code",
   "execution_count": 86,
   "metadata": {},
   "outputs": [
    {
     "data": {
      "text/html": [
       "<table class=\"dataframe\">\n",
       "<caption>A data.frame: 6 × 5</caption>\n",
       "<thead>\n",
       "\t<tr><th></th><th scope=col>pc1</th><th scope=col>pc2</th><th scope=col>prob01</th><th scope=col>prob02</th><th scope=col>tot.withinss</th></tr>\n",
       "\t<tr><th></th><th scope=col>&lt;dbl&gt;</th><th scope=col>&lt;dbl&gt;</th><th scope=col>&lt;dbl&gt;</th><th scope=col>&lt;dbl&gt;</th><th scope=col>&lt;dbl&gt;</th></tr>\n",
       "</thead>\n",
       "<tbody>\n",
       "\t<tr><th scope=row>26377</th><td>0.37</td><td>0.13</td><td>0.13</td><td>0.37</td><td>0.46152</td></tr>\n",
       "\t<tr><th scope=row>24349</th><td>0.37</td><td>0.13</td><td>0.15</td><td>0.35</td><td>0.46377</td></tr>\n",
       "\t<tr><th scope=row>24193</th><td>0.37</td><td>0.15</td><td>0.13</td><td>0.35</td><td>0.46483</td></tr>\n",
       "\t<tr><th scope=row>22321</th><td>0.37</td><td>0.13</td><td>0.17</td><td>0.33</td><td>0.46559</td></tr>\n",
       "\t<tr><th scope=row>26545</th><td>0.35</td><td>0.13</td><td>0.15</td><td>0.37</td><td>0.46580</td></tr>\n",
       "\t<tr><th scope=row>26389</th><td>0.35</td><td>0.15</td><td>0.13</td><td>0.37</td><td>0.46712</td></tr>\n",
       "</tbody>\n",
       "</table>\n"
      ],
      "text/latex": [
       "A data.frame: 6 × 5\n",
       "\\begin{tabular}{r|lllll}\n",
       "  & pc1 & pc2 & prob01 & prob02 & tot.withinss\\\\\n",
       "  & <dbl> & <dbl> & <dbl> & <dbl> & <dbl>\\\\\n",
       "\\hline\n",
       "\t26377 & 0.37 & 0.13 & 0.13 & 0.37 & 0.46152\\\\\n",
       "\t24349 & 0.37 & 0.13 & 0.15 & 0.35 & 0.46377\\\\\n",
       "\t24193 & 0.37 & 0.15 & 0.13 & 0.35 & 0.46483\\\\\n",
       "\t22321 & 0.37 & 0.13 & 0.17 & 0.33 & 0.46559\\\\\n",
       "\t26545 & 0.35 & 0.13 & 0.15 & 0.37 & 0.46580\\\\\n",
       "\t26389 & 0.35 & 0.15 & 0.13 & 0.37 & 0.46712\\\\\n",
       "\\end{tabular}\n"
      ],
      "text/markdown": [
       "\n",
       "A data.frame: 6 × 5\n",
       "\n",
       "| <!--/--> | pc1 &lt;dbl&gt; | pc2 &lt;dbl&gt; | prob01 &lt;dbl&gt; | prob02 &lt;dbl&gt; | tot.withinss &lt;dbl&gt; |\n",
       "|---|---|---|---|---|---|\n",
       "| 26377 | 0.37 | 0.13 | 0.13 | 0.37 | 0.46152 |\n",
       "| 24349 | 0.37 | 0.13 | 0.15 | 0.35 | 0.46377 |\n",
       "| 24193 | 0.37 | 0.15 | 0.13 | 0.35 | 0.46483 |\n",
       "| 22321 | 0.37 | 0.13 | 0.17 | 0.33 | 0.46559 |\n",
       "| 26545 | 0.35 | 0.13 | 0.15 | 0.37 | 0.46580 |\n",
       "| 26389 | 0.35 | 0.15 | 0.13 | 0.37 | 0.46712 |\n",
       "\n"
      ],
      "text/plain": [
       "      pc1  pc2  prob01 prob02 tot.withinss\n",
       "26377 0.37 0.13 0.13   0.37   0.46152     \n",
       "24349 0.37 0.13 0.15   0.35   0.46377     \n",
       "24193 0.37 0.15 0.13   0.35   0.46483     \n",
       "22321 0.37 0.13 0.17   0.33   0.46559     \n",
       "26545 0.35 0.13 0.15   0.37   0.46580     \n",
       "26389 0.35 0.15 0.13   0.37   0.46712     "
      ]
     },
     "metadata": {},
     "output_type": "display_data"
    }
   ],
   "source": [
    "bestrows <- (datout_01$row)[1:6]\n",
    "dfc02 <- as.data.frame(cbind(dfc01[bestrows,], datout_01[1:6, c(\"tot.withinss\")]),\n",
    "                       row.names=bestrows)\n",
    "colnames(dfc02) <- c(colnames(dfc01), \"tot.withinss\")\n",
    "dfc02\n"
   ]
  },
  {
   "cell_type": "code",
   "execution_count": 16,
   "metadata": {},
   "outputs": [
    {
     "data": {
      "text/html": [
       "<style>\n",
       ".list-inline {list-style: none; margin:0; padding: 0}\n",
       ".list-inline>li {display: inline-block}\n",
       ".list-inline>li:not(:last-child)::after {content: \"\\00b7\"; padding: 0 .5ex}\n",
       "</style>\n",
       "<ol class=list-inline><li>44</li><li>4</li></ol>\n"
      ],
      "text/latex": [
       "\\begin{enumerate*}\n",
       "\\item 44\n",
       "\\item 4\n",
       "\\end{enumerate*}\n"
      ],
      "text/markdown": [
       "1. 44\n",
       "2. 4\n",
       "\n",
       "\n"
      ],
      "text/plain": [
       "[1] 44  4"
      ]
     },
     "metadata": {},
     "output_type": "display_data"
    }
   ],
   "source": [
    "# Refine the search, this time using cross-val accuracy scores.\n",
    "\n",
    "lst <- vector(\"list\", length= 4)\n",
    "names(lst) <- c(paste0(\"pc\", 1:2), \"prob01\",\"prob02\")\n",
    "\n",
    "lst[[1]] <- seq(0.36, 0.39, by=0.01)\n",
    "lst[[2]] <- seq(0.11, 0.14, by=0.01)\n",
    "lst[[3]] <- seq(0.11, 0.14, by=0.01)\n",
    "lst[[4]] <- seq(0.36, 0.39, by=0.01)\n",
    "\n",
    "start <- Sys.time()\n",
    "dfc02 <- generate_combs(lst)\n",
    "stop <- Sys.time()\n",
    "# round(stop - start, 2)\n",
    "\n",
    "dim(dfc02)\n",
    "#  44     4\n"
   ]
  },
  {
   "cell_type": "code",
   "execution_count": 22,
   "metadata": {},
   "outputs": [],
   "source": [
    "# Function for obtaining average of confusion matrix accuracy\n",
    "# score. This function is called from gridSearch03.\n",
    "\n",
    "get_cvScore_hybrid_pcaWghts <- function(traindat, valdat, wghts) {\n",
    "    \n",
    "    # Scale traindat for purpose of an svm model.\n",
    "    svm_scaled <- scale(traindat[, -1])\n",
    "    svm_centers <- attr(svm_scaled, \"scaled:center\")\n",
    "    svm_scales <- attr(svm_scaled, \"scaled:scale\")\n",
    "    svm_scaled <- as.data.frame(cbind(traindat$Type, svm_scaled),\n",
    "                                row.names=rownames(traindat))\n",
    "    colnames(svm_scaled) <- colnames(traindat)\n",
    "    \n",
    "    # This is our current best svm model for the trainset data\n",
    "    svmod <- svm(I(as.factor(Type)) ~ ., data=svm_scaled, kernel=\"radial\",\n",
    "                 gamma= 0.03, cost= 25, scale=FALSE, probability=TRUE)\n",
    "    \n",
    "    preds <- predict(svmod, newdata=svm_scaled, scale=FALSE, probability=TRUE)\n",
    "    \n",
    "    prob01 <- as.numeric(attr(preds, \"probabilities\")[, 2])\n",
    "    prob02 <- as.numeric(attr(preds, \"probabilities\")[, 3])\n",
    "    \n",
    "    # Scale the probability columns.\n",
    "    prob01_scaled <- scale(prob01, center=TRUE, scale=TRUE)\n",
    "    prob01_center <- attr(prob01_scaled, \"scaled:center\")\n",
    "    prob01_scale <- attr(prob01_scaled, \"scaled:scale\")\n",
    "    \n",
    "    prob02_scaled <- scale(prob02, center=TRUE, scale=TRUE)\n",
    "    prob02_center <- attr(prob02_scaled, \"scaled:center\")\n",
    "    prob02_scale <- attr(prob02_scaled, \"scaled:scale\")\n",
    "    \n",
    "    #############################\n",
    "    \n",
    "    # Transform columns of traindat.\n",
    "    traindat$Phenols <- (traindat$Phenols)^0.5\n",
    "    traindat$Alcalinity <- (traindat$Alcalinity)^0.18\n",
    "    \n",
    "    # Apply pca to traindat.\n",
    "    pca <- prcomp(traindat[, -1], retx=TRUE, rank.=2, center=TRUE,\n",
    "                  scale.=TRUE)\n",
    "    dftmp <- as.data.frame(pca$x, row.names=rownames(traindat))\n",
    "    \n",
    "    # Add in the probability columns.\n",
    "    dftmp$prob01 <- prob01_scaled\n",
    "    dftmp$prob02 <- prob02_scaled\n",
    "    \n",
    "    # Apply min-max scaling.\n",
    "    dftmp_scaled <- apply(as.matrix(dftmp), MARGIN=2, range01)\n",
    "    \n",
    "    traindat_scaled <- as.data.frame(dftmp_scaled, row.names=rownames(traindat))\n",
    "    colnames(traindat_scaled) <- c(paste0(\"pc\", 1:2),\"prob01\",\"prob02\")\n",
    "    \n",
    "    # Get mins and maxs for scaling of valdat.\n",
    "    traindat_mins <- as.numeric(apply(as.matrix(dftmp), MARGIN=2, min))\n",
    "    traindat_maxs <- as.numeric(apply(as.matrix(dftmp), MARGIN=2, max))\n",
    "    \n",
    "    #############################\n",
    "    # Apply weights to traindat.  The sqrt should have\n",
    "    # been taken in the calling function.\n",
    "    cols <- names(wghts)\n",
    "    df2 <- t(t(traindat_scaled[, cols]) * as.numeric(wghts[cols]))\n",
    "    traindat_wghts <- as.data.frame(df2, row.names=rownames(traindat))\n",
    "    \n",
    "    \n",
    "    ############################\n",
    "    # Prepare valdat for svm modeling.\n",
    "    \n",
    "    svmval_scaled <- scale(valdat[, -1], center=svm_centers, scale=svm_scales)\n",
    "    svmval_scaled <- as.data.frame(svmval_scaled, row.names=rownames(valdat))\n",
    "    \n",
    "    # Compute prob01 and prob02 columns.\n",
    "    preds01_b <- predict(svmod, newdata=svmval_scaled, scale=FALSE, probability=TRUE)\n",
    "    prob01_b <- as.numeric(attr(preds01_b, \"probabilities\")[, 2])\n",
    "    prob02_b <- as.numeric(attr(preds01_b, \"probabilities\")[, 3])\n",
    "    \n",
    "    # Scale the probability columns.\n",
    "    prob01b_scaled <- scale(prob01_b, center=prob01_center, scale=prob01_scale)\n",
    "    prob02b_scaled <- scale(prob02_b, center=prob02_center, scale=prob02_scale)\n",
    "    \n",
    "    # Transform columns of valdat.\n",
    "    valdat$Phenols <- (valdat$Phenols)^0.5\n",
    "    valdat$Alcalinity <- (valdat$Alcalinity)^0.18\n",
    "    \n",
    "    # Apply pca to valdat.\n",
    "    valpca <- predict(pca, valdat[, -1])\n",
    "    df02tmp <- as.data.frame(valpca, row.names=rownames(valdat))\n",
    "    \n",
    "    # Add in the probability columns.\n",
    "    df02tmp$prob01 <- prob01b_scaled\n",
    "    df02tmp$prob02 <- prob02b_scaled\n",
    "    \n",
    "    # Apply min-max scaling.\n",
    "    df03_t <- t(as.matrix(df02tmp))\n",
    "    df03_asList <- split(df03_t, seq(nrow(df03_t)))\n",
    "    names(df03_asList) <- colnames(traindat_scaled)\n",
    "    valpca_scaled <- mapply(range02, df03_asList, traindat_mins, traindat_maxs)\n",
    "\n",
    "    # The next step is crucial.\n",
    "    valdat_scaled <- as.data.frame(valpca_scaled, row.names=rownames(valdat))\n",
    "    colnames(valdat_scaled) <- colnames(traindat_scaled)\n",
    "    \n",
    "    # Apply weights to valdat_scaled.\n",
    "    df4 <- t(t(valdat_scaled[, cols]) * as.numeric(wghts[cols]))\n",
    "    valdat_wghts <- as.data.frame(df4, row.names=rownames(valdat))\n",
    "    colnames(valdat_wghts) <- colnames(traindat_scaled)\n",
    "    \n",
    "    \n",
    "    #############################\n",
    "    # Construct k-means model.\n",
    "\n",
    "    kmod <- kmeans(traindat_wghts, 3, iter.max = 50, nstart=30)\n",
    "    \n",
    "    # See how the clusters are associated with Type level.\n",
    "    dfout <- as.data.frame(cbind(traindat$Type, kmod$cluster))\n",
    "    colnames(dfout) <- c(\"Type\", \"cluster\")\n",
    "    rownames(dfout) <- rownames(traindat)\n",
    "    mapping <- get_mapping(dfout)\n",
    "    \n",
    "    #############################\n",
    "    # Apply the k-means model to valdat_scaled.\n",
    "    \n",
    "    # Each element of the following list is a row of valdat_scaled.\n",
    "    valdat_asList <- split(valdat_wghts[, colnames(kmod$centers)],\n",
    "                           seq(nrow(valdat_wghts)))\n",
    "    \n",
    "    ctr_list <- vector(\"list\", length= nrow(valdat))\n",
    "    for(i in 1:nrow(valdat)) {\n",
    "        \n",
    "        ctr_list[[i]] <- kmod$centers\n",
    "    }\n",
    "    names(ctr_list) <- rownames(valdat)\n",
    "    \n",
    "    \n",
    "    # Get the predictions for the validation set.\n",
    "    cluster_assgns <- mcmapply(getCluster, valdat_asList, ctr_list,\n",
    "                               SIMPLIFY=TRUE, USE.NAMES= FALSE, mc.cores=6)\n",
    "    \n",
    "    valdat_scaled$cluster <- as.numeric(cluster_assgns)\n",
    "    \n",
    "    valdat_scaled$pred_Type <- NA\n",
    "    \n",
    "    # Apply mapping to the assigned clusters.  Since valdat is \n",
    "    # quite small (around 35 records if folds = 5), and there \n",
    "    # are 3 clusters, it is possible that one of the LHS expressions\n",
    "    # below is NA.  I will make the changes if the program fails. \n",
    "    valdat_scaled[which(valdat_scaled$cluster==1), c(\"pred_Type\")] <- as.numeric(mapping[\"1\"])\n",
    "    valdat_scaled[which(valdat_scaled$cluster==2), c(\"pred_Type\")] <- as.numeric(mapping[\"2\"])\n",
    "    valdat_scaled[which(valdat_scaled$cluster==3), c(\"pred_Type\")] <- as.numeric(mapping[\"3\"])\n",
    "    \n",
    "    # Generate confusion matrix for the k-means clusters and\n",
    "    # the corresponding f-score.\n",
    "    preds <- as.factor(valdat_scaled$pred_Type)\n",
    "    names(preds) <- rownames(valdat)\n",
    "    ans <- get_confusion(preds, valdat[, \"Type\", drop=FALSE])\n",
    "    return(ans[[2]])\n",
    "}\n"
   ]
  },
  {
   "cell_type": "code",
   "execution_count": 23,
   "metadata": {},
   "outputs": [
    {
     "data": {
      "text/html": [
       "'Start time: 2021-06-03 09:24:59'"
      ],
      "text/latex": [
       "'Start time: 2021-06-03 09:24:59'"
      ],
      "text/markdown": [
       "'Start time: 2021-06-03 09:24:59'"
      ],
      "text/plain": [
       "[1] \"Start time: 2021-06-03 09:24:59\""
      ]
     },
     "metadata": {},
     "output_type": "display_data"
    },
    {
     "data": {
      "text/plain": [
       "Time difference of 16.12 mins"
      ]
     },
     "metadata": {},
     "output_type": "display_data"
    }
   ],
   "source": [
    "# Find the best weights of those in dfc02.\n",
    "# Use 120 seeds.\n",
    "\n",
    "set.seed(1233)\n",
    "seed_vector <- sample(1:9999, 120, replace=FALSE)\n",
    "\n",
    "start <- Sys.time()\n",
    "paste0(\"Start time: \", start)\n",
    "dat_result <- gridSearch03(seed_vector, train, dfc02) \n",
    "stop <- Sys.time()\n",
    "round(stop - start, 2)\n",
    "datout_02 <- dat_result\n",
    "# Time difference of 16.12 mins\n"
   ]
  },
  {
   "cell_type": "code",
   "execution_count": 24,
   "metadata": {},
   "outputs": [
    {
     "data": {
      "text/html": [
       "1"
      ],
      "text/latex": [
       "1"
      ],
      "text/markdown": [
       "1"
      ],
      "text/plain": [
       "[1] 1"
      ]
     },
     "metadata": {},
     "output_type": "display_data"
    }
   ],
   "source": [
    "best_params <- dat_result[which(dat_result$Acc == \n",
    "                                max(dat_result$Acc, na.rm=TRUE)),]$row\n",
    "length(best_params)\n",
    "\n",
    "best_Acc <- dat_result[which(dat_result$Acc == \n",
    "                                max(dat_result$Acc, na.rm=TRUE)),]$Acc\n"
   ]
  },
  {
   "cell_type": "code",
   "execution_count": 25,
   "metadata": {},
   "outputs": [
    {
     "data": {
      "text/html": [
       "<table class=\"dataframe\">\n",
       "<caption>A data.frame: 1 × 4</caption>\n",
       "<thead>\n",
       "\t<tr><th></th><th scope=col>pc1</th><th scope=col>pc2</th><th scope=col>prob01</th><th scope=col>prob02</th></tr>\n",
       "\t<tr><th></th><th scope=col>&lt;dbl&gt;</th><th scope=col>&lt;dbl&gt;</th><th scope=col>&lt;dbl&gt;</th><th scope=col>&lt;dbl&gt;</th></tr>\n",
       "</thead>\n",
       "<tbody>\n",
       "\t<tr><th scope=row>58</th><td>0.37</td><td>0.13</td><td>0.14</td><td>0.36</td></tr>\n",
       "</tbody>\n",
       "</table>\n"
      ],
      "text/latex": [
       "A data.frame: 1 × 4\n",
       "\\begin{tabular}{r|llll}\n",
       "  & pc1 & pc2 & prob01 & prob02\\\\\n",
       "  & <dbl> & <dbl> & <dbl> & <dbl>\\\\\n",
       "\\hline\n",
       "\t58 & 0.37 & 0.13 & 0.14 & 0.36\\\\\n",
       "\\end{tabular}\n"
      ],
      "text/markdown": [
       "\n",
       "A data.frame: 1 × 4\n",
       "\n",
       "| <!--/--> | pc1 &lt;dbl&gt; | pc2 &lt;dbl&gt; | prob01 &lt;dbl&gt; | prob02 &lt;dbl&gt; |\n",
       "|---|---|---|---|---|\n",
       "| 58 | 0.37 | 0.13 | 0.14 | 0.36 |\n",
       "\n"
      ],
      "text/plain": [
       "   pc1  pc2  prob01 prob02\n",
       "58 0.37 0.13 0.14   0.36  "
      ]
     },
     "metadata": {},
     "output_type": "display_data"
    },
    {
     "data": {
      "text/html": [
       "0.83172"
      ],
      "text/latex": [
       "0.83172"
      ],
      "text/markdown": [
       "0.83172"
      ],
      "text/plain": [
       "[1] 0.83172"
      ]
     },
     "metadata": {},
     "output_type": "display_data"
    }
   ],
   "source": [
    "dfc02[best_params,]\n",
    "#       \t pc1    \t pc2 \tprob01  \tprob02\n",
    "\n",
    "# 58    \t0.37    \t0.13 \t  0.14  \t  0.36\n",
    "\n",
    "best_Acc\n"
   ]
  },
  {
   "cell_type": "code",
   "execution_count": 26,
   "metadata": {},
   "outputs": [
    {
     "data": {
      "text/html": [
       "<table class=\"dataframe\">\n",
       "<caption>A data.frame: 15 × 2</caption>\n",
       "<thead>\n",
       "\t<tr><th></th><th scope=col>row</th><th scope=col>Acc</th></tr>\n",
       "\t<tr><th></th><th scope=col>&lt;chr&gt;</th><th scope=col>&lt;dbl&gt;</th></tr>\n",
       "</thead>\n",
       "<tbody>\n",
       "\t<tr><th scope=row>9</th><td>58 </td><td>0.83172</td></tr>\n",
       "\t<tr><th scope=row>32</th><td>169</td><td>0.83161</td></tr>\n",
       "\t<tr><th scope=row>44</th><td>241</td><td>0.83150</td></tr>\n",
       "\t<tr><th scope=row>34</th><td>181</td><td>0.83141</td></tr>\n",
       "\t<tr><th scope=row>7</th><td>52 </td><td>0.83100</td></tr>\n",
       "\t<tr><th scope=row>33</th><td>178</td><td>0.83081</td></tr>\n",
       "\t<tr><th scope=row>40</th><td>214</td><td>0.83077</td></tr>\n",
       "\t<tr><th scope=row>22</th><td>121</td><td>0.83072</td></tr>\n",
       "\t<tr><th scope=row>10</th><td>61 </td><td>0.83071</td></tr>\n",
       "\t<tr><th scope=row>21</th><td>118</td><td>0.83070</td></tr>\n",
       "\t<tr><th scope=row>41</th><td>217</td><td>0.83062</td></tr>\n",
       "\t<tr><th scope=row>8</th><td>55 </td><td>0.83048</td></tr>\n",
       "\t<tr><th scope=row>20</th><td>115</td><td>0.83044</td></tr>\n",
       "\t<tr><th scope=row>18</th><td>106</td><td>0.83034</td></tr>\n",
       "\t<tr><th scope=row>6</th><td>46 </td><td>0.83033</td></tr>\n",
       "</tbody>\n",
       "</table>\n"
      ],
      "text/latex": [
       "A data.frame: 15 × 2\n",
       "\\begin{tabular}{r|ll}\n",
       "  & row & Acc\\\\\n",
       "  & <chr> & <dbl>\\\\\n",
       "\\hline\n",
       "\t9 & 58  & 0.83172\\\\\n",
       "\t32 & 169 & 0.83161\\\\\n",
       "\t44 & 241 & 0.83150\\\\\n",
       "\t34 & 181 & 0.83141\\\\\n",
       "\t7 & 52  & 0.83100\\\\\n",
       "\t33 & 178 & 0.83081\\\\\n",
       "\t40 & 214 & 0.83077\\\\\n",
       "\t22 & 121 & 0.83072\\\\\n",
       "\t10 & 61  & 0.83071\\\\\n",
       "\t21 & 118 & 0.83070\\\\\n",
       "\t41 & 217 & 0.83062\\\\\n",
       "\t8 & 55  & 0.83048\\\\\n",
       "\t20 & 115 & 0.83044\\\\\n",
       "\t18 & 106 & 0.83034\\\\\n",
       "\t6 & 46  & 0.83033\\\\\n",
       "\\end{tabular}\n"
      ],
      "text/markdown": [
       "\n",
       "A data.frame: 15 × 2\n",
       "\n",
       "| <!--/--> | row &lt;chr&gt; | Acc &lt;dbl&gt; |\n",
       "|---|---|---|\n",
       "| 9 | 58  | 0.83172 |\n",
       "| 32 | 169 | 0.83161 |\n",
       "| 44 | 241 | 0.83150 |\n",
       "| 34 | 181 | 0.83141 |\n",
       "| 7 | 52  | 0.83100 |\n",
       "| 33 | 178 | 0.83081 |\n",
       "| 40 | 214 | 0.83077 |\n",
       "| 22 | 121 | 0.83072 |\n",
       "| 10 | 61  | 0.83071 |\n",
       "| 21 | 118 | 0.83070 |\n",
       "| 41 | 217 | 0.83062 |\n",
       "| 8 | 55  | 0.83048 |\n",
       "| 20 | 115 | 0.83044 |\n",
       "| 18 | 106 | 0.83034 |\n",
       "| 6 | 46  | 0.83033 |\n",
       "\n"
      ],
      "text/plain": [
       "   row Acc    \n",
       "9  58  0.83172\n",
       "32 169 0.83161\n",
       "44 241 0.83150\n",
       "34 181 0.83141\n",
       "7  52  0.83100\n",
       "33 178 0.83081\n",
       "40 214 0.83077\n",
       "22 121 0.83072\n",
       "10 61  0.83071\n",
       "21 118 0.83070\n",
       "41 217 0.83062\n",
       "8  55  0.83048\n",
       "20 115 0.83044\n",
       "18 106 0.83034\n",
       "6  46  0.83033"
      ]
     },
     "metadata": {},
     "output_type": "display_data"
    }
   ],
   "source": [
    "datout_02 <- datout_02[order(datout_02$Acc, decreasing=TRUE),]\n",
    "datout_02[1:15,]\n"
   ]
  },
  {
   "cell_type": "code",
   "execution_count": 27,
   "metadata": {},
   "outputs": [
    {
     "data": {
      "text/html": [
       "<table class=\"dataframe\">\n",
       "<caption>A data.frame: 5 × 5</caption>\n",
       "<thead>\n",
       "\t<tr><th></th><th scope=col>pc1</th><th scope=col>pc2</th><th scope=col>prob01</th><th scope=col>prob02</th><th scope=col>Acc</th></tr>\n",
       "\t<tr><th></th><th scope=col>&lt;dbl&gt;</th><th scope=col>&lt;dbl&gt;</th><th scope=col>&lt;dbl&gt;</th><th scope=col>&lt;dbl&gt;</th><th scope=col>&lt;dbl&gt;</th></tr>\n",
       "</thead>\n",
       "<tbody>\n",
       "\t<tr><th scope=row>58</th><td>0.37</td><td>0.13</td><td>0.14</td><td>0.36</td><td>0.83172</td></tr>\n",
       "\t<tr><th scope=row>169</th><td>0.36</td><td>0.13</td><td>0.13</td><td>0.38</td><td>0.83161</td></tr>\n",
       "\t<tr><th scope=row>241</th><td>0.36</td><td>0.11</td><td>0.14</td><td>0.39</td><td>0.83150</td></tr>\n",
       "\t<tr><th scope=row>181</th><td>0.36</td><td>0.12</td><td>0.14</td><td>0.38</td><td>0.83141</td></tr>\n",
       "\t<tr><th scope=row>52</th><td>0.39</td><td>0.11</td><td>0.14</td><td>0.36</td><td>0.83100</td></tr>\n",
       "</tbody>\n",
       "</table>\n"
      ],
      "text/latex": [
       "A data.frame: 5 × 5\n",
       "\\begin{tabular}{r|lllll}\n",
       "  & pc1 & pc2 & prob01 & prob02 & Acc\\\\\n",
       "  & <dbl> & <dbl> & <dbl> & <dbl> & <dbl>\\\\\n",
       "\\hline\n",
       "\t58 & 0.37 & 0.13 & 0.14 & 0.36 & 0.83172\\\\\n",
       "\t169 & 0.36 & 0.13 & 0.13 & 0.38 & 0.83161\\\\\n",
       "\t241 & 0.36 & 0.11 & 0.14 & 0.39 & 0.83150\\\\\n",
       "\t181 & 0.36 & 0.12 & 0.14 & 0.38 & 0.83141\\\\\n",
       "\t52 & 0.39 & 0.11 & 0.14 & 0.36 & 0.83100\\\\\n",
       "\\end{tabular}\n"
      ],
      "text/markdown": [
       "\n",
       "A data.frame: 5 × 5\n",
       "\n",
       "| <!--/--> | pc1 &lt;dbl&gt; | pc2 &lt;dbl&gt; | prob01 &lt;dbl&gt; | prob02 &lt;dbl&gt; | Acc &lt;dbl&gt; |\n",
       "|---|---|---|---|---|---|\n",
       "| 58 | 0.37 | 0.13 | 0.14 | 0.36 | 0.83172 |\n",
       "| 169 | 0.36 | 0.13 | 0.13 | 0.38 | 0.83161 |\n",
       "| 241 | 0.36 | 0.11 | 0.14 | 0.39 | 0.83150 |\n",
       "| 181 | 0.36 | 0.12 | 0.14 | 0.38 | 0.83141 |\n",
       "| 52 | 0.39 | 0.11 | 0.14 | 0.36 | 0.83100 |\n",
       "\n"
      ],
      "text/plain": [
       "    pc1  pc2  prob01 prob02 Acc    \n",
       "58  0.37 0.13 0.14   0.36   0.83172\n",
       "169 0.36 0.13 0.13   0.38   0.83161\n",
       "241 0.36 0.11 0.14   0.39   0.83150\n",
       "181 0.36 0.12 0.14   0.38   0.83141\n",
       "52  0.39 0.11 0.14   0.36   0.83100"
      ]
     },
     "metadata": {},
     "output_type": "display_data"
    }
   ],
   "source": [
    "bestrows <- (datout_02$row)[1:5]\n",
    "dfc03 <- as.data.frame(cbind(dfc02[bestrows,], datout_02[1:5, c(\"Acc\")]),\n",
    "                       row.names=bestrows)\n",
    "colnames(dfc03) <- c(colnames(dfc02), \"Acc\")\n",
    "dfc03\n"
   ]
  },
  {
   "cell_type": "code",
   "execution_count": null,
   "metadata": {},
   "outputs": [],
   "source": [
    "### COMMENT:\n",
    "\n",
    "# I could continue to search for even better\n",
    "# weights.  But instead, let's see if we can\n",
    "# get a cross-val accuracy score that equals\n",
    "# or exceeds 0.8310 with the row 58 weights above.\n"
   ]
  },
  {
   "cell_type": "markdown",
   "metadata": {},
   "source": [
    "## Get comparative cross-val score for pca hybrid model with weights"
   ]
  },
  {
   "cell_type": "code",
   "execution_count": 28,
   "metadata": {},
   "outputs": [],
   "source": [
    "# Function for obtaining average of confusion matrix accuracy\n",
    "# score. This function is called from get_cvScore_km.\n",
    "\n",
    "wghts <- c(0.37, 0.13, 0.14, 0.36)^0.5\n",
    "names(wghts) <- c(paste0(\"pc\", 1:2), \"prob01\",\"prob02\")\n",
    "\n",
    "get_cvScore_pcaHybrid_wghts <- function(traindat, valdat) {\n",
    "    \n",
    "    # Scale traindat for purpose of an svm model.\n",
    "    svm_scaled <- scale(traindat[, -1])\n",
    "    svm_centers <- attr(svm_scaled, \"scaled:center\")\n",
    "    svm_scales <- attr(svm_scaled, \"scaled:scale\")\n",
    "    svm_scaled <- as.data.frame(cbind(traindat$Type, svm_scaled),\n",
    "                                row.names=rownames(traindat))\n",
    "    colnames(svm_scaled) <- colnames(traindat)\n",
    "    \n",
    "    # This is our current best svm model for the trainset data\n",
    "    svmod <- svm(I(as.factor(Type)) ~ ., data=svm_scaled, kernel=\"radial\",\n",
    "                 gamma= 0.03, cost= 25, scale=FALSE, probability=TRUE)\n",
    "    \n",
    "    preds <- predict(svmod, newdata=svm_scaled, scale=FALSE, probability=TRUE)\n",
    "    \n",
    "    prob01 <- as.numeric(attr(preds, \"probabilities\")[, 2])\n",
    "    prob02 <- as.numeric(attr(preds, \"probabilities\")[, 3])\n",
    "    \n",
    "    # Scale the probability columns.\n",
    "    prob01_scaled <- scale(prob01, center=TRUE, scale=TRUE)\n",
    "    prob01_center <- attr(prob01_scaled, \"scaled:center\")\n",
    "    prob01_scale <- attr(prob01_scaled, \"scaled:scale\")\n",
    "    \n",
    "    prob02_scaled <- scale(prob02, center=TRUE, scale=TRUE)\n",
    "    prob02_center <- attr(prob02_scaled, \"scaled:center\")\n",
    "    prob02_scale <- attr(prob02_scaled, \"scaled:scale\")\n",
    "    \n",
    "    #############################\n",
    "    \n",
    "    # Transform columns of traindat.\n",
    "    traindat$Phenols <- (traindat$Phenols)^0.5\n",
    "    traindat$Alcalinity <- (traindat$Alcalinity)^0.18\n",
    "    \n",
    "    # Apply pca to traindat.\n",
    "    pca <- prcomp(traindat[, -1], retx=TRUE, rank.=2, center=TRUE,\n",
    "                  scale.=TRUE)\n",
    "    dftmp <- as.data.frame(pca$x, row.names=rownames(traindat))\n",
    "    \n",
    "    # Add in the probability columns.\n",
    "    dftmp$prob01 <- prob01_scaled\n",
    "    dftmp$prob02 <- prob02_scaled\n",
    "    \n",
    "    # Apply min-max scaling.\n",
    "    dftmp_scaled <- apply(as.matrix(dftmp), MARGIN=2, range01)\n",
    "    \n",
    "    traindat_scaled <- as.data.frame(dftmp_scaled, row.names=rownames(traindat))\n",
    "    colnames(traindat_scaled) <- c(paste0(\"pc\", 1:2),\"prob01\",\"prob02\")\n",
    "    \n",
    "    # Get mins and maxs for scaling of valdat.\n",
    "    traindat_mins <- as.numeric(apply(as.matrix(dftmp), MARGIN=2, min))\n",
    "    traindat_maxs <- as.numeric(apply(as.matrix(dftmp), MARGIN=2, max))\n",
    "    \n",
    "    #############################\n",
    "    # Apply weights to traindat.  The sqrt should have\n",
    "    # been taken in the calling function.\n",
    "    cols <- names(wghts)\n",
    "    df2 <- t(t(traindat_scaled[, cols]) * as.numeric(wghts[cols]))\n",
    "    traindat_wghts <- as.data.frame(df2, row.names=rownames(traindat))\n",
    "    \n",
    "    \n",
    "    ############################\n",
    "    # Prepare valdat for svm modeling.\n",
    "    \n",
    "    svmval_scaled <- scale(valdat[, -1], center=svm_centers, scale=svm_scales)\n",
    "    svmval_scaled <- as.data.frame(svmval_scaled, row.names=rownames(valdat))\n",
    "    \n",
    "    # Compute prob01 and prob02 columns.\n",
    "    preds01_b <- predict(svmod, newdata=svmval_scaled, scale=FALSE, probability=TRUE)\n",
    "    prob01_b <- as.numeric(attr(preds01_b, \"probabilities\")[, 2])\n",
    "    prob02_b <- as.numeric(attr(preds01_b, \"probabilities\")[, 3])\n",
    "    \n",
    "    # Scale the probability columns.\n",
    "    prob01b_scaled <- scale(prob01_b, center=prob01_center, scale=prob01_scale)\n",
    "    prob02b_scaled <- scale(prob02_b, center=prob02_center, scale=prob02_scale)\n",
    "    \n",
    "    # Transform columns of valdat.\n",
    "    valdat$Phenols <- (valdat$Phenols)^0.5\n",
    "    valdat$Alcalinity <- (valdat$Alcalinity)^0.18\n",
    "    \n",
    "    # Apply pca to valdat.\n",
    "    valpca <- predict(pca, valdat[, -1])\n",
    "    df02tmp <- as.data.frame(valpca, row.names=rownames(valdat))\n",
    "    \n",
    "    # Add in the probability columns.\n",
    "    df02tmp$prob01 <- prob01b_scaled\n",
    "    df02tmp$prob02 <- prob02b_scaled\n",
    "    \n",
    "    # Apply min-max scaling.\n",
    "    df03_t <- t(as.matrix(df02tmp))\n",
    "    df03_asList <- split(df03_t, seq(nrow(df03_t)))\n",
    "    names(df03_asList) <- colnames(traindat_scaled)\n",
    "    valpca_scaled <- mapply(range02, df03_asList, traindat_mins, traindat_maxs)\n",
    "\n",
    "    # The next step is crucial.\n",
    "    valdat_scaled <- as.data.frame(valpca_scaled, row.names=rownames(valdat))\n",
    "    colnames(valdat_scaled) <- colnames(traindat_scaled)\n",
    "    \n",
    "    # Apply weights to valdat_scaled.\n",
    "    df4 <- t(t(valdat_scaled[, cols]) * as.numeric(wghts[cols]))\n",
    "    valdat_wghts <- as.data.frame(df4, row.names=rownames(valdat))\n",
    "    colnames(valdat_wghts) <- colnames(traindat_scaled)\n",
    "    \n",
    "    \n",
    "    #############################\n",
    "    # Construct k-means model.\n",
    "\n",
    "    kmod <- kmeans(traindat_wghts, 3, iter.max = 50, nstart=30)\n",
    "    \n",
    "    # See how the clusters are associated with Type level.\n",
    "    dfout <- as.data.frame(cbind(traindat$Type, kmod$cluster))\n",
    "    colnames(dfout) <- c(\"Type\", \"cluster\")\n",
    "    rownames(dfout) <- rownames(traindat)\n",
    "    mapping <- get_mapping(dfout)\n",
    "    \n",
    "    #############################\n",
    "    # Apply the k-means model to valdat_scaled.\n",
    "    \n",
    "    # Each element of the following list is a row of valdat_scaled.\n",
    "    valdat_asList <- split(valdat_wghts[, colnames(kmod$centers)],\n",
    "                           seq(nrow(valdat_wghts)))\n",
    "    \n",
    "    ctr_list <- vector(\"list\", length= nrow(valdat))\n",
    "    for(i in 1:nrow(valdat)) {\n",
    "        \n",
    "        ctr_list[[i]] <- kmod$centers\n",
    "    }\n",
    "    names(ctr_list) <- rownames(valdat)\n",
    "    \n",
    "    \n",
    "    # Get the predictions for the validation set.\n",
    "    cluster_assgns <- mcmapply(getCluster, valdat_asList, ctr_list,\n",
    "                               SIMPLIFY=TRUE, USE.NAMES= FALSE, mc.cores=6)\n",
    "    \n",
    "    valdat_scaled$cluster <- as.numeric(cluster_assgns)\n",
    "    \n",
    "    valdat_scaled$pred_Type <- NA\n",
    "    \n",
    "    # Apply mapping to the assigned clusters.  Since valdat is \n",
    "    # quite small (around 35 records if folds = 5), and there \n",
    "    # are 3 clusters, it is possible that one of the LHS expressions\n",
    "    # below is NA.  I will make the changes if the program fails. \n",
    "    valdat_scaled[which(valdat_scaled$cluster==1), c(\"pred_Type\")] <- as.numeric(mapping[\"1\"])\n",
    "    valdat_scaled[which(valdat_scaled$cluster==2), c(\"pred_Type\")] <- as.numeric(mapping[\"2\"])\n",
    "    valdat_scaled[which(valdat_scaled$cluster==3), c(\"pred_Type\")] <- as.numeric(mapping[\"3\"])\n",
    "    \n",
    "    # Generate confusion matrix for the k-means clusters and\n",
    "    # the corresponding f-score.\n",
    "    preds <- as.factor(valdat_scaled$pred_Type)\n",
    "    names(preds) <- rownames(valdat)\n",
    "    ans <- get_confusion(preds, valdat[, \"Type\", drop=FALSE])\n",
    "    return(ans[[2]])\n",
    "}\n"
   ]
  },
  {
   "cell_type": "code",
   "execution_count": 30,
   "metadata": {},
   "outputs": [
    {
     "data": {
      "text/html": [
       "'Start time: 2021-06-03 10:01:28'"
      ],
      "text/latex": [
       "'Start time: 2021-06-03 10:01:28'"
      ],
      "text/markdown": [
       "'Start time: 2021-06-03 10:01:28'"
      ],
      "text/plain": [
       "[1] \"Start time: 2021-06-03 10:01:28\""
      ]
     },
     "metadata": {},
     "output_type": "display_data"
    },
    {
     "data": {
      "text/plain": [
       "Time difference of 6.43 mins"
      ]
     },
     "metadata": {},
     "output_type": "display_data"
    }
   ],
   "source": [
    "# Again, use the same initial seed that we have \n",
    "# been using for this score.\n",
    "\n",
    "set.seed(1931)\n",
    "seed_vector <- sample(1:9999, 2000, replace=FALSE)\n",
    "\n",
    "start <- Sys.time()\n",
    "paste(\"Start time: \", start, sep=\"\")\n",
    "ans <- compute_cvScore_km(seed_vector, train)\n",
    "stop <- Sys.time()\n",
    "round(stop - start, 2)\n",
    "# Time difference of 5.48 mins\n"
   ]
  },
  {
   "cell_type": "code",
   "execution_count": 31,
   "metadata": {},
   "outputs": [
    {
     "data": {
      "text/plain": [
       "   Min. 1st Qu.  Median    Mean 3rd Qu.    Max. \n",
       "  0.775   0.821   0.831   0.830   0.838   0.865 "
      ]
     },
     "metadata": {},
     "output_type": "display_data"
    }
   ],
   "source": [
    "summary(ans$Acc)\n"
   ]
  },
  {
   "cell_type": "code",
   "execution_count": 32,
   "metadata": {},
   "outputs": [
    {
     "data": {
      "text/html": [
       "0.8304"
      ],
      "text/latex": [
       "0.8304"
      ],
      "text/markdown": [
       "0.8304"
      ],
      "text/plain": [
       "[1] 0.8304"
      ]
     },
     "metadata": {},
     "output_type": "display_data"
    }
   ],
   "source": [
    "round(mean(ans$Acc), 4)\n",
    "# 0.8304\n",
    "\n",
    "# svm02's mean accuracy score was 0.8278.\n"
   ]
  },
  {
   "cell_type": "code",
   "execution_count": 33,
   "metadata": {},
   "outputs": [
    {
     "data": {
      "text/html": [
       "0.8314"
      ],
      "text/latex": [
       "0.8314"
      ],
      "text/markdown": [
       "0.8314"
      ],
      "text/plain": [
       "[1] 0.8314"
      ]
     },
     "metadata": {},
     "output_type": "display_data"
    },
    {
     "data": {
      "text/html": [
       "0.012394"
      ],
      "text/latex": [
       "0.012394"
      ],
      "text/markdown": [
       "0.012394"
      ],
      "text/plain": [
       "[1] 0.012394"
      ]
     },
     "metadata": {},
     "output_type": "display_data"
    }
   ],
   "source": [
    "round(median(ans$Acc), 4)\n",
    "round(sd(ans$Acc), 6)\n",
    "# median: 0.8314\n",
    "# sd: 0.012394\n"
   ]
  },
  {
   "cell_type": "code",
   "execution_count": 34,
   "metadata": {},
   "outputs": [
    {
     "data": {
      "image/png": "[encoded data removed]",
      "text/plain": [
       "Plot with title “Distribution of cross-val accuracy scores for hybrid model with weights”"
      ]
     },
     "metadata": {
      "image/png": {
       "height": 360,
       "width": 600
      }
     },
     "output_type": "display_data"
    }
   ],
   "source": [
    "options(repr.plot.width= 10, repr.plot.height= 6)\n",
    "hist(ans$Acc, breaks=16, xlab=\"accuracy\",\n",
    "     main=\"Distribution of cross-val accuracy scores for hybrid model with weights\")\n"
   ]
  },
  {
   "cell_type": "code",
   "execution_count": null,
   "metadata": {},
   "outputs": [],
   "source": []
  },
  {
   "cell_type": "markdown",
   "metadata": {},
   "source": [
    "# Final Comments for Part 4"
   ]
  },
  {
   "cell_type": "markdown",
   "metadata": {},
   "source": [
    "Excluding the k-means models, the best model we found for the wine dataset was svm02.  svm02 has a mean cross-val accuracy score of 0.8278 and a median cross-val accuracy score of 0.8271.  We found a hybrid k-means model (without weights) that was able to slightly improve upon this score.  This hybrid model has a mean cross-val accuracy score of 0.8295 and a median cross-val accuracy score of 0.8314.  (All scores are over 2000 samples.)\n",
    "\n",
    "Although this hybrid model's improvement upon svm02 is slight, it is statistically significant.  If we chose a weaker set of 3 predictors from the wine dataset, the best model accuracy score will decrease.  This lowers the bar for the k-means hybrid model; i.e., it may increase the likelihood that the k-means hybrid model will outperform the competing models.  In the Part 1 and Part 2 notebooks which worked with the cow data, the bar was lower---around 0.70 for the best non-k-means model.  There the hybrid k-means model (with weights) had an average accuracy score of 0.73.\n",
    "\n",
    "Above, in one of the Comments, I note that in previous work on the wine dataset I chose a different set of 3 predictors for Type.  In that work the best non-k-means model had a mean cross-val accuracy score of 0.9056.  The best hybrid k-means model I was able to find had a score of 0.9013.  In this notebook, the 3 predictors chosen lowered the accuracy score bar to just under 0.83.  This was enough that a hybrid k-means model could improve upon the score.  In the last section above, I create a different hybrid model that yields a further incremental improvement: over 2000 samples we were able to boost the average score to 0.8304.  The median score, however, remained at 0.8314.\n",
    "\n",
    "The next step would be to choose a third set of 3 predictors, ones that lower the accuracy score of the best models even further, and then see if k-means is able to improve upon the best models, and by how much.  Like other models, how well k-means does depends on the predictors chosen, so improvement isn't guaranteed simply because the highest accuracy score of the competing models is lower.  But a lower accuracy score does mean more opportunity exists for a model like k-means to give a boost to the best of those lower scores.\n"
   ]
  },
  {
   "cell_type": "code",
   "execution_count": null,
   "metadata": {},
   "outputs": [],
   "source": []
  }
 ],
 "metadata": {
  "kernelspec": {
   "display_name": "R",
   "language": "R",
   "name": "ir"
  },
  "language_info": {
   "codemirror_mode": "r",
   "file_extension": ".r",
   "mimetype": "text/x-r-source",
   "name": "R",
   "pygments_lexer": "r",
   "version": "4.1.0"
  }
 },
 "nbformat": 4,
 "nbformat_minor": 4
}
