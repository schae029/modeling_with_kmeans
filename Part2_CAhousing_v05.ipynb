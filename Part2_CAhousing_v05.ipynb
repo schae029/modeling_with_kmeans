{
 "cells": [
  {
   "cell_type": "markdown",
   "metadata": {},
   "source": [
    "# Modeling with k-means, Part 2"
   ]
  },
  {
   "cell_type": "markdown",
   "metadata": {},
   "source": [
    "In this notebook I apply the methods of Part1 to the California housing dataset.  See my CA_housing_analysis repository for an introduction to this dataset.  In that analysis, the response variable was the median house value of 1990 Census districts in the state of California.  Here I use the dataset for a classification model that distinguishes between the INLAND districts and the non-INLAND districts (i.e., those districts closer to the ocean).  As with the downer cow dataset, I want to see whether we can construct a better classification model using k-means in combination with one or more supervised learning algorithms. \n",
    "\n",
    "Prior work suggests that a k-means hybrid model will likely not be able to out-perform competing models which are already excellent classifiers.  The greater the accuracy score of a competing model, the less room there is for improvement upon that score.  One reason the hybrid model of Part 1 did well is due to the fact that k-means, as an unsupervised algorithm, was already very good at distinguishing between the surviving cows and the non-survivors.  (In other words, k-means was already very competitive with the other models prior to using it in a hybrid model.)  This meant that when we combined it with another model of the right sort, we were able to obtain a hybrid model which outperformed the competing models.  This will not happen unless the models being combined contribute different, yet complementary, information.  For example, the support vector classifier of Part 1 did not mix well with k-means, although the logistic regression model did.  If I had tried to further boost the hybrid model by adding a second probability column generated from the gradient boosting model, we would have seen no further gain because the gradient boosting model does not have any further, or new, information to contribute.\n",
    "\n",
    "One lesson from Part 1, then, is that a hybrid k-means model is more likely to outperform competing models when the competing models do not have great accuracy scores.  The competing models in Part 1 had accuracy scores around 70%.  It also helps quite a bit if the k-means algorithm itself, in an unsupervised setting, does a very good job of partitioning the data into the desired classes.\n",
    "\n",
    "In prior work with the CA housing data (version 4 of this notebook), the best classifier was a random forest model with an accuracy score just under 90%.  This model relied on 7 of the predictors, excluding latitude and longitude.  (If we include latitude and longitude, it is far too easy to distinguish inland districts from those much closer to the ocean.)  The k-means algorithm, unsupervised, does a very poor job distinguishing between the 2 classes.  This meant that adding a prob01 column to the dataset that k-means worked with---the prob01 column containing probability scores from another classifier using supervised learning---was not enough to yield a hybrid model which was better than the all of the other models.  The hybrid model was only second-best.  If one adds a second probability column (generated from a model different from the one used for the prob01 column, of course), the hybrid model scores increase slightly, but not enough to beat the random forest model.\n",
    "\n",
    "In version 4 of this notebook weights were of little help, likely because of the number of predictors being used in the model, but perhaps also because of the amount of data.  I suspect that the more predictors, or dimensions, k-means has to work with (assuming all are meaningful predictors), the less benefit we will see from optimal weights.  Furthermore, the more predictors we have and the more data, the harder it becomes to find optimal weights; the parameter space we have to search through becomes too large for a thorough search.\n",
    "\n",
    "Thus in this notebook I will limit the number of predictors I work with so that competing classifiers have accuracy scores at or below 75%.  This increases the likelihood of a hybrid model being able to out-perform the competing models.  If I end up with only 3 predictors, I can again see if weights can improve the k-means model.  The weights will be difficult to find, though, since the CA housing dataset is so much larger than the cow dataset. \n",
    "\n",
    "\n",
    "\n",
    "\n",
    "                                        * * * * * "
   ]
  },
  {
   "cell_type": "markdown",
   "metadata": {},
   "source": [
    "# Preliminaries"
   ]
  },
  {
   "cell_type": "code",
   "execution_count": null,
   "metadata": {},
   "outputs": [],
   "source": [
    "require(car)\n",
    "require(repr)\n",
    "require(ggplot2)\n",
    "require(stringr)\n",
    "require(parallel)\n",
    "require(faraway)\n",
    "require(randomForest)\n",
    "require(gbm)\n",
    "require(plyr)\n",
    "require(e1071)\n"
   ]
  },
  {
   "cell_type": "code",
   "execution_count": 2,
   "metadata": {},
   "outputs": [],
   "source": [
    "options(digits= 5, show.signif.stars= FALSE)\n"
   ]
  },
  {
   "cell_type": "markdown",
   "metadata": {},
   "source": [
    "## Construct training and test sets"
   ]
  },
  {
   "cell_type": "code",
   "execution_count": 3,
   "metadata": {},
   "outputs": [
    {
     "data": {
      "text/html": [
       "<style>\n",
       ".list-inline {list-style: none; margin:0; padding: 0}\n",
       ".list-inline>li {display: inline-block}\n",
       ".list-inline>li:not(:last-child)::after {content: \"\\00b7\"; padding: 0 .5ex}\n",
       "</style>\n",
       "<ol class=list-inline><li>16482</li><li>16</li></ol>\n"
      ],
      "text/latex": [
       "\\begin{enumerate*}\n",
       "\\item 16482\n",
       "\\item 16\n",
       "\\end{enumerate*}\n"
      ],
      "text/markdown": [
       "1. 16482\n",
       "2. 16\n",
       "\n",
       "\n"
      ],
      "text/plain": [
       "[1] 16482    16"
      ]
     },
     "metadata": {},
     "output_type": "display_data"
    }
   ],
   "source": [
    "traindat <- read.csv(\"/home/greg/Documents/stat/Geron_ML/datasets/housing/train_revised_27JUN2021.csv\",\n",
    "                     header=TRUE, row.names=1,\n",
    "                     colClasses= c(\"character\", rep(\"numeric\", 9), \"character\",\n",
    "                                   rep(\"numeric\", 5), \"character\"))\n",
    "dim(traindat)\n"
   ]
  },
  {
   "cell_type": "code",
   "execution_count": 4,
   "metadata": {},
   "outputs": [
    {
     "data": {
      "text/html": [
       "<style>\n",
       ".list-inline {list-style: none; margin:0; padding: 0}\n",
       ".list-inline>li {display: inline-block}\n",
       ".list-inline>li:not(:last-child)::after {content: \"\\00b7\"; padding: 0 .5ex}\n",
       "</style>\n",
       "<ol class=list-inline><li>'longitude'</li><li>'latitude'</li><li>'housing_median_age'</li><li>'total_rooms'</li><li>'total_bedrooms'</li><li>'population'</li><li>'households'</li><li>'median_income'</li><li>'median_house_value'</li><li>'ocean_proximity'</li><li>'rooms_per_hh'</li><li>'bdrms_per_room'</li><li>'pop_per_hh'</li><li>'HHdens_ln'</li><li>'long_transf'</li><li>'income_cat'</li></ol>\n"
      ],
      "text/latex": [
       "\\begin{enumerate*}\n",
       "\\item 'longitude'\n",
       "\\item 'latitude'\n",
       "\\item 'housing\\_median\\_age'\n",
       "\\item 'total\\_rooms'\n",
       "\\item 'total\\_bedrooms'\n",
       "\\item 'population'\n",
       "\\item 'households'\n",
       "\\item 'median\\_income'\n",
       "\\item 'median\\_house\\_value'\n",
       "\\item 'ocean\\_proximity'\n",
       "\\item 'rooms\\_per\\_hh'\n",
       "\\item 'bdrms\\_per\\_room'\n",
       "\\item 'pop\\_per\\_hh'\n",
       "\\item 'HHdens\\_ln'\n",
       "\\item 'long\\_transf'\n",
       "\\item 'income\\_cat'\n",
       "\\end{enumerate*}\n"
      ],
      "text/markdown": [
       "1. 'longitude'\n",
       "2. 'latitude'\n",
       "3. 'housing_median_age'\n",
       "4. 'total_rooms'\n",
       "5. 'total_bedrooms'\n",
       "6. 'population'\n",
       "7. 'households'\n",
       "8. 'median_income'\n",
       "9. 'median_house_value'\n",
       "10. 'ocean_proximity'\n",
       "11. 'rooms_per_hh'\n",
       "12. 'bdrms_per_room'\n",
       "13. 'pop_per_hh'\n",
       "14. 'HHdens_ln'\n",
       "15. 'long_transf'\n",
       "16. 'income_cat'\n",
       "\n",
       "\n"
      ],
      "text/plain": [
       " [1] \"longitude\"          \"latitude\"           \"housing_median_age\"\n",
       " [4] \"total_rooms\"        \"total_bedrooms\"     \"population\"        \n",
       " [7] \"households\"         \"median_income\"      \"median_house_value\"\n",
       "[10] \"ocean_proximity\"    \"rooms_per_hh\"       \"bdrms_per_room\"    \n",
       "[13] \"pop_per_hh\"         \"HHdens_ln\"          \"long_transf\"       \n",
       "[16] \"income_cat\"        "
      ]
     },
     "metadata": {},
     "output_type": "display_data"
    }
   ],
   "source": [
    "colnames(traindat)\n"
   ]
  },
  {
   "cell_type": "code",
   "execution_count": 7,
   "metadata": {},
   "outputs": [
    {
     "data": {
      "text/plain": [
       "\n",
       "    INLAND   NEAR BAY NEAR OCEAN      OCEAN \n",
       "      5187       1820       2137       7338 "
      ]
     },
     "metadata": {},
     "output_type": "display_data"
    }
   ],
   "source": [
    "table(as.factor(traindat$ocean_proximity))\n"
   ]
  },
  {
   "cell_type": "code",
   "execution_count": 5,
   "metadata": {},
   "outputs": [
    {
     "data": {
      "text/html": [
       "<style>\n",
       ".list-inline {list-style: none; margin:0; padding: 0}\n",
       ".list-inline>li {display: inline-block}\n",
       ".list-inline>li:not(:last-child)::after {content: \"\\00b7\"; padding: 0 .5ex}\n",
       "</style>\n",
       "<ol class=list-inline><li>4121</li><li>16</li></ol>\n"
      ],
      "text/latex": [
       "\\begin{enumerate*}\n",
       "\\item 4121\n",
       "\\item 16\n",
       "\\end{enumerate*}\n"
      ],
      "text/markdown": [
       "1. 4121\n",
       "2. 16\n",
       "\n",
       "\n"
      ],
      "text/plain": [
       "[1] 4121   16"
      ]
     },
     "metadata": {},
     "output_type": "display_data"
    }
   ],
   "source": [
    "testdat <- read.csv(\"/home/greg/Documents/stat/Geron_ML/datasets/housing/test_revised_27JUN2021.csv\",\n",
    "                    header=TRUE, row.names=1,\n",
    "                    colClasses= c(\"character\", rep(\"numeric\", 9), \"character\",\n",
    "                                  rep(\"numeric\", 5), \"character\"))\n",
    "dim(testdat)\n"
   ]
  },
  {
   "cell_type": "code",
   "execution_count": 8,
   "metadata": {},
   "outputs": [
    {
     "data": {
      "text/plain": [
       "\n",
       "    0     1 \n",
       "14078  6525 "
      ]
     },
     "metadata": {},
     "output_type": "display_data"
    }
   ],
   "source": [
    "dat <- rbind(traindat, testdat)\n",
    "dat$Inland <- 0\n",
    "dat[which(dat$ocean_proximity== \"INLAND\"),]$Inland <- 1\n",
    "table(dat$Inland)\n"
   ]
  },
  {
   "cell_type": "code",
   "execution_count": 10,
   "metadata": {},
   "outputs": [
    {
     "data": {
      "text/html": [
       "<style>\n",
       ".list-inline {list-style: none; margin:0; padding: 0}\n",
       ".list-inline>li {display: inline-block}\n",
       ".list-inline>li:not(:last-child)::after {content: \"\\00b7\"; padding: 0 .5ex}\n",
       "</style>\n",
       "<ol class=list-inline><li>'housing_median_age'</li><li>'households'</li><li>'median_house_value'</li><li>'rooms_per_hh'</li><li>'Inland'</li></ol>\n"
      ],
      "text/latex": [
       "\\begin{enumerate*}\n",
       "\\item 'housing\\_median\\_age'\n",
       "\\item 'households'\n",
       "\\item 'median\\_house\\_value'\n",
       "\\item 'rooms\\_per\\_hh'\n",
       "\\item 'Inland'\n",
       "\\end{enumerate*}\n"
      ],
      "text/markdown": [
       "1. 'housing_median_age'\n",
       "2. 'households'\n",
       "3. 'median_house_value'\n",
       "4. 'rooms_per_hh'\n",
       "5. 'Inland'\n",
       "\n",
       "\n"
      ],
      "text/plain": [
       "[1] \"housing_median_age\" \"households\"         \"median_house_value\"\n",
       "[4] \"rooms_per_hh\"       \"Inland\"            "
      ]
     },
     "metadata": {},
     "output_type": "display_data"
    }
   ],
   "source": [
    "# Remove predictors that are collinear, that we do not need, or\n",
    "# that would be too helpful when identifying Inland districts.\n",
    "\n",
    "newcols <- colnames(dat)[which(!(colnames(dat) %in% c(\"HHdensity\", \"income_cat\",\n",
    "                                                      \"ocean_proximity\", \"longitude\",\n",
    "                                                      \"latitude\",\"long_transf\",\n",
    "                                                      \"median_income\",\"population\",\n",
    "                                                      \"total_bedrooms\",\"total_rooms\",\n",
    "                                                      \"pop_per_hh\",\"bdrms_per_room\",\n",
    "                                                      \"HHdens_ln\")))]\n",
    "newcols\n"
   ]
  },
  {
   "cell_type": "code",
   "execution_count": 11,
   "metadata": {},
   "outputs": [
    {
     "data": {
      "text/html": [
       "<style>\n",
       ".list-inline {list-style: none; margin:0; padding: 0}\n",
       ".list-inline>li {display: inline-block}\n",
       ".list-inline>li:not(:last-child)::after {content: \"\\00b7\"; padding: 0 .5ex}\n",
       "</style>\n",
       "<ol class=list-inline><li>20603</li><li>5</li></ol>\n"
      ],
      "text/latex": [
       "\\begin{enumerate*}\n",
       "\\item 20603\n",
       "\\item 5\n",
       "\\end{enumerate*}\n"
      ],
      "text/markdown": [
       "1. 20603\n",
       "2. 5\n",
       "\n",
       "\n"
      ],
      "text/plain": [
       "[1] 20603     5"
      ]
     },
     "metadata": {},
     "output_type": "display_data"
    },
    {
     "data": {
      "text/html": [
       "<style>\n",
       ".list-inline {list-style: none; margin:0; padding: 0}\n",
       ".list-inline>li {display: inline-block}\n",
       ".list-inline>li:not(:last-child)::after {content: \"\\00b7\"; padding: 0 .5ex}\n",
       "</style>\n",
       "<ol class=list-inline><li>'housing_median_age'</li><li>'households'</li><li>'median_house_value'</li><li>'rooms_per_hh'</li><li>'Inland'</li></ol>\n"
      ],
      "text/latex": [
       "\\begin{enumerate*}\n",
       "\\item 'housing\\_median\\_age'\n",
       "\\item 'households'\n",
       "\\item 'median\\_house\\_value'\n",
       "\\item 'rooms\\_per\\_hh'\n",
       "\\item 'Inland'\n",
       "\\end{enumerate*}\n"
      ],
      "text/markdown": [
       "1. 'housing_median_age'\n",
       "2. 'households'\n",
       "3. 'median_house_value'\n",
       "4. 'rooms_per_hh'\n",
       "5. 'Inland'\n",
       "\n",
       "\n"
      ],
      "text/plain": [
       "[1] \"housing_median_age\" \"households\"         \"median_house_value\"\n",
       "[4] \"rooms_per_hh\"       \"Inland\"            "
      ]
     },
     "metadata": {},
     "output_type": "display_data"
    }
   ],
   "source": [
    "dat <- dat[, newcols]\n",
    "dim(dat)\n",
    "colnames(dat)\n"
   ]
  },
  {
   "cell_type": "code",
   "execution_count": 12,
   "metadata": {},
   "outputs": [
    {
     "data": {
      "text/html": [
       "<style>\n",
       ".list-inline {list-style: none; margin:0; padding: 0}\n",
       ".list-inline>li {display: inline-block}\n",
       ".list-inline>li:not(:last-child)::after {content: \"\\00b7\"; padding: 0 .5ex}\n",
       "</style>\n",
       "<ol class=list-inline><li>10000</li><li>5</li></ol>\n"
      ],
      "text/latex": [
       "\\begin{enumerate*}\n",
       "\\item 10000\n",
       "\\item 5\n",
       "\\end{enumerate*}\n"
      ],
      "text/markdown": [
       "1. 10000\n",
       "2. 5\n",
       "\n",
       "\n"
      ],
      "text/plain": [
       "[1] 10000     5"
      ]
     },
     "metadata": {},
     "output_type": "display_data"
    }
   ],
   "source": [
    "# Create training and test sets for use in testing\n",
    "# new k-means approach. \n",
    "\n",
    "set.seed(8763)\n",
    "smp <- sample(rownames(dat), 10603, replace=FALSE)\n",
    "traindat <- dat[smp,]\n",
    "testdat <- dat[which(!(rownames(dat) %in% smp)),]\n",
    "dim(testdat)\n"
   ]
  },
  {
   "cell_type": "code",
   "execution_count": 13,
   "metadata": {},
   "outputs": [],
   "source": [
    "rm(dat)\n"
   ]
  },
  {
   "cell_type": "code",
   "execution_count": 14,
   "metadata": {},
   "outputs": [
    {
     "data": {
      "text/html": [
       "<style>\n",
       ".list-inline {list-style: none; margin:0; padding: 0}\n",
       ".list-inline>li {display: inline-block}\n",
       ".list-inline>li:not(:last-child)::after {content: \"\\00b7\"; padding: 0 .5ex}\n",
       "</style>\n",
       "<ol class=list-inline><li>'Inland'</li><li>'housing_median_age'</li><li>'households'</li><li>'median_house_value'</li><li>'rooms_per_hh'</li></ol>\n"
      ],
      "text/latex": [
       "\\begin{enumerate*}\n",
       "\\item 'Inland'\n",
       "\\item 'housing\\_median\\_age'\n",
       "\\item 'households'\n",
       "\\item 'median\\_house\\_value'\n",
       "\\item 'rooms\\_per\\_hh'\n",
       "\\end{enumerate*}\n"
      ],
      "text/markdown": [
       "1. 'Inland'\n",
       "2. 'housing_median_age'\n",
       "3. 'households'\n",
       "4. 'median_house_value'\n",
       "5. 'rooms_per_hh'\n",
       "\n",
       "\n"
      ],
      "text/plain": [
       "[1] \"Inland\"             \"housing_median_age\" \"households\"        \n",
       "[4] \"median_house_value\" \"rooms_per_hh\"      "
      ]
     },
     "metadata": {},
     "output_type": "display_data"
    }
   ],
   "source": [
    "# Move the response variable, Inland, to the first\n",
    "# column.\n",
    "\n",
    "newcols <- colnames(traindat)\n",
    "newcols <- newcols[which(!(newcols %in% c(\"Inland\")))]\n",
    "newcols <- c(\"Inland\", newcols)\n",
    "newcols\n"
   ]
  },
  {
   "cell_type": "code",
   "execution_count": 15,
   "metadata": {},
   "outputs": [],
   "source": [
    "traindat <- traindat[, newcols]\n",
    "testdat <- testdat[, newcols]\n"
   ]
  },
  {
   "cell_type": "code",
   "execution_count": 16,
   "metadata": {},
   "outputs": [],
   "source": [
    "# Save out the files.\n",
    "\n",
    "write.csv(traindat, file=\"/home/greg/Documents/stat/github_repos/cows/CAhousing_train_10603.csv\",\n",
    "          row.names= TRUE)\n",
    "\n",
    "write.csv(testdat, file=\"/home/greg/Documents/stat/github_repos/cows/CAhousing_test_10K.csv\",\n",
    "          row.names= TRUE)\n"
   ]
  },
  {
   "cell_type": "code",
   "execution_count": 43,
   "metadata": {},
   "outputs": [
    {
     "data": {
      "text/html": [
       "<style>\n",
       ".list-inline {list-style: none; margin:0; padding: 0}\n",
       ".list-inline>li {display: inline-block}\n",
       ".list-inline>li:not(:last-child)::after {content: \"\\00b7\"; padding: 0 .5ex}\n",
       "</style>\n",
       "<ol class=list-inline><li>10603</li><li>5</li></ol>\n"
      ],
      "text/latex": [
       "\\begin{enumerate*}\n",
       "\\item 10603\n",
       "\\item 5\n",
       "\\end{enumerate*}\n"
      ],
      "text/markdown": [
       "1. 10603\n",
       "2. 5\n",
       "\n",
       "\n"
      ],
      "text/plain": [
       "[1] 10603     5"
      ]
     },
     "metadata": {},
     "output_type": "display_data"
    }
   ],
   "source": [
    "traindat <- read.csv(\"/home/greg/Documents/stat/github_repos/cows/CAhousing_train_10603.csv\",\n",
    "                    header=TRUE, row.names=1, colClasses= c(\"character\", rep(\"numeric\",4)))\n",
    "dim(traindat)\n"
   ]
  },
  {
   "cell_type": "code",
   "execution_count": 44,
   "metadata": {},
   "outputs": [
    {
     "data": {
      "text/html": [
       "<style>\n",
       ".list-inline {list-style: none; margin:0; padding: 0}\n",
       ".list-inline>li {display: inline-block}\n",
       ".list-inline>li:not(:last-child)::after {content: \"\\00b7\"; padding: 0 .5ex}\n",
       "</style>\n",
       "<ol class=list-inline><li>10000</li><li>5</li></ol>\n"
      ],
      "text/latex": [
       "\\begin{enumerate*}\n",
       "\\item 10000\n",
       "\\item 5\n",
       "\\end{enumerate*}\n"
      ],
      "text/markdown": [
       "1. 10000\n",
       "2. 5\n",
       "\n",
       "\n"
      ],
      "text/plain": [
       "[1] 10000     5"
      ]
     },
     "metadata": {},
     "output_type": "display_data"
    }
   ],
   "source": [
    "testdat <- read.csv(\"/home/greg/Documents/stat/github_repos/cows/CAhousing_test_10K.csv\",\n",
    "                    header=TRUE, row.names=1, colClasses= c(\"character\", rep(\"numeric\",4)))\n",
    "dim(testdat)\n"
   ]
  },
  {
   "cell_type": "code",
   "execution_count": 17,
   "metadata": {},
   "outputs": [
    {
     "data": {
      "text/html": [
       "0.3105"
      ],
      "text/latex": [
       "0.3105"
      ],
      "text/markdown": [
       "0.3105"
      ],
      "text/plain": [
       "[1] 0.3105"
      ]
     },
     "metadata": {},
     "output_type": "display_data"
    }
   ],
   "source": [
    "# Get ratio of Inland to non-Inland in traindat.\n",
    "\n",
    "round(mean(traindat$Inland), 4)\n"
   ]
  },
  {
   "cell_type": "code",
   "execution_count": 18,
   "metadata": {},
   "outputs": [
    {
     "data": {
      "text/html": [
       "0.3233"
      ],
      "text/latex": [
       "0.3233"
      ],
      "text/markdown": [
       "0.3233"
      ],
      "text/plain": [
       "[1] 0.3233"
      ]
     },
     "metadata": {},
     "output_type": "display_data"
    }
   ],
   "source": [
    "# Get ratio of Inland to non-Inland in testdat.\n",
    "\n",
    "round(mean(testdat$Inland), 4)\n"
   ]
  },
  {
   "cell_type": "markdown",
   "metadata": {},
   "source": [
    "## Basic functions"
   ]
  },
  {
   "cell_type": "code",
   "execution_count": 19,
   "metadata": {},
   "outputs": [],
   "source": [
    "# Function for computing \"proportion of deviance explained\", an \n",
    "# R-sqrd statistic for link= logit.  See p.41 of Julian Faraway's\n",
    "# \"Extending the Linear Model with R\" (2006: Chapman & Hall).  \n",
    "# This statistic is due to N. Nagelkerke (1991; see Faraway's\n",
    "# bibliography).\n",
    "\n",
    "get_RsqrdDev <- function(modl) {\n",
    "    \n",
    "    n_obs <- length(modl$fitted.values)\n",
    "    ans <- (1-exp((modl$deviance - modl$null.deviance)/n_obs))/(1-exp(-modl$null.deviance/n_obs))\n",
    "    return(round(ans, 4))\n",
    "}\n"
   ]
  },
  {
   "cell_type": "code",
   "execution_count": 20,
   "metadata": {},
   "outputs": [],
   "source": [
    "# Function to compute f-score for a 2x2 confusion matrix.\n",
    "\n",
    "get_fscore <- function(mat) {\n",
    "    \n",
    "    mat[is.na(mat)] <- 0\n",
    "    FN <- as.numeric(mat[2,1])\n",
    "    TP <- as.numeric(mat[2,2])\n",
    "    FP <- as.numeric(mat[1,2])\n",
    "    recall <- TP/(TP + FN)\n",
    "    precision <- TP/(TP + FP)\n",
    "    f_score <- 2* (recall*precision)/(recall + precision)\n",
    "    return(round(f_score, 4))\n",
    "}\n"
   ]
  },
  {
   "cell_type": "code",
   "execution_count": 21,
   "metadata": {},
   "outputs": [],
   "source": [
    "# Function to output a confusion matrix and the f-score \n",
    "# for that matrix (if it is 2x2).\n",
    "\n",
    "get_confusion <- function(preds, df_actual) {\n",
    "    \n",
    "    # df_actual is a one-column dataframe;\n",
    "    # preds is a named vector of predictions;\n",
    "    # preds is of type factor; it is assumed there are\n",
    "    # at least 2 factor levels\n",
    "    \n",
    "    levs <- levels(preds)\n",
    "    n_levs <- length(levs)\n",
    "    if(n_levs== 1) { levs <- c('0', '1') }\n",
    "    n_levs <- max(n_levs, 2)\n",
    "    actual <- as.vector(df_actual[, 1])\n",
    "    names(actual) <- rownames(df_actual)\n",
    "    \n",
    "    datout <- rep(0, n_levs * (n_levs + 1))\n",
    "    dim(datout) <- c(n_levs, n_levs + 1)\n",
    "    datout <- as.data.frame(datout)\n",
    "    colnames(datout) <- c(levs, \"class.error\")\n",
    "    rownames(datout) <- levs\n",
    "    \n",
    "    result <- vector(\"list\", length= 2)\n",
    "    names(result) <- c(\"matrix\",\"f_score\")\n",
    "    \n",
    "    # for each factor level, identify the rcd names\n",
    "    # which should be classed as such\n",
    "    for(rowlev in levs) {\n",
    "        actlev_names <- names(actual[actual == rowlev])\n",
    "        # columns are for the predicted values:\n",
    "        for(collev in levs) {\n",
    "            predlev_names <- names(preds[preds == collev])\n",
    "            if(length(predlev_names > 0)) {\n",
    "                datout[rowlev, collev] <- sum(predlev_names %in% actlev_names)\n",
    "            }\n",
    "        }\n",
    "        nonrow_cols <- levs[!(levs %in% rowlev)]\n",
    "        datout[rowlev, \"class.error\"] <- round(sum(as.vector(datout[rowlev, nonrow_cols]))/\n",
    "                                               sum(as.vector(datout[rowlev, levs])), 4)\n",
    "    }\n",
    "    \n",
    "    result$matrix <- datout\n",
    "    if(n_levs == 2) {\n",
    "        result[[2]] <- get_fscore(as.matrix(datout))\n",
    "    } else {\n",
    "        result$f_score <- NA\n",
    "    }\n",
    "    \n",
    "    return(result)\n",
    "}\n"
   ]
  },
  {
   "cell_type": "code",
   "execution_count": 22,
   "metadata": {},
   "outputs": [],
   "source": [
    "# The following function is from Robert Kabacoff's \"R in Action\", pp.379-380.\n",
    "\n",
    "wssplot <- function(data, title=\"\", nc=15, seed=1233) {\n",
    "    \n",
    "    # wss[1] is the total sum of squares when there is only\n",
    "    # one cluster.  In R's kmeans help this is called 'totss'.\n",
    "    # Here is another way to compute totss: \n",
    "    # ss <- function(x) sum(scale(x, scale = FALSE)^2)\n",
    "    wss <- (nrow(data) - 1)*sum(apply(data, 2, var))\n",
    "    for(i in 2:nc) {\n",
    "        set.seed(seed)\n",
    "        km_model <- suppressWarnings(kmeans(data, centers=i, iter.max=50,\n",
    "                                            nstart=5))\n",
    "        wss[i] <- sum(km_model$withinss)\n",
    "    }\n",
    "    plot(1:nc, wss, type='b', xlab=\"Number of clusters\",\n",
    "        ylab=\"Within groups sum of squares\",\n",
    "        main= title)\n",
    "}\n"
   ]
  },
  {
   "cell_type": "code",
   "execution_count": 23,
   "metadata": {},
   "outputs": [],
   "source": [
    "# Function for identifying which cluster each record\n",
    "# belongs to.  \n",
    "\n",
    "getCluster <- function(x, centers) {\n",
    "    \n",
    "    # x is a row of a dataframe; its columns need\n",
    "    # to be in the same order as centers (a matrix'\n",
    "    # constructed from kmeans)\n",
    "    \n",
    "    cl_dist <- apply(centers, 1, function(y) sqrt(sum((x-y)^2)))\n",
    "    return(which.min(cl_dist)[1])\n",
    "}\n"
   ]
  },
  {
   "cell_type": "code",
   "execution_count": 24,
   "metadata": {},
   "outputs": [],
   "source": [
    "# Function to generate combination of parameters for gridSearch;\n",
    "# each combination must add to a number ~1.  Returns a dataframe, \n",
    "# each row of which is a valid combination.\n",
    "\n",
    "# I re-factored this ftn using R's expand.grid ftn.  expand.grid\n",
    "# takes more time to run, probably due to type-checking. \n",
    "# It appears that we also run out of memory more quickly when\n",
    "# using expand.grid.  Thus, I avoid expand.grid in what follows.)\n",
    "\n",
    "generate_combs <- function(arglist, tol=0.0001) {\n",
    "    # arglist is a named list; each name is a column\n",
    "    # name of the dataframe which goes to k-means\n",
    "    \n",
    "    #################################################\n",
    "    # this next section is an alternative to expand.grid\n",
    "    #################################################\n",
    "    # if(FALSE) {\n",
    "    n_args <- length(arglist)\n",
    "  \n",
    "    param_vlens <- rep(NA, n_args)\n",
    "    for(i in 1:n_args) {\n",
    "        param_vlens[i] <- length(arglist[[i]])\n",
    "    }\n",
    "    n_rows <- prod(param_vlens)\n",
    "  \n",
    "    datout <- rep(NA, n_args*n_rows)\n",
    "    dim(datout) <- c(n_rows, n_args)\n",
    "    datout <- as.data.frame(datout)\n",
    "    colnames(datout) <- names(arglist)\n",
    "  \n",
    "    cprod <- 1\n",
    "    for(j in 1:n_args) {\n",
    "        vect <- arglist[[j]]\n",
    "        val <- rep(vect, rep(cprod, length(vect)))\n",
    "        datout[, j] <- rep(val, n_rows/length(val))\n",
    "        cprod <- cprod*length(vect)\n",
    "    }  \n",
    "    # } ## end of 'if(FALSE)'\n",
    "    #################################################\n",
    "    \n",
    "    # datout <- expand.grid(arglist, KEEP.OUT.ATTRS= FALSE)\n",
    "    # colnames(datout) <- names(arglist)\n",
    "    \n",
    "    row_sums <- round(rowSums(datout), 4)\n",
    "    names(row_sums) <- rownames(datout)\n",
    "    tol <- tol\n",
    "    row_sums <- row_sums[which((as.numeric(row_sums) <= (1 + tol)) & (as.numeric(row_sums) >= (1 - tol)))]\n",
    "    datout <- datout[names(row_sums),]\n",
    "    return(datout)\n",
    "}\n"
   ]
  },
  {
   "cell_type": "code",
   "execution_count": 25,
   "metadata": {},
   "outputs": [],
   "source": [
    "# Function to constrain range of data between 0 and 1.\n",
    "\n",
    "range01 <- function(x) {(x - min(x))/(max(x) - min(x))}\n"
   ]
  },
  {
   "cell_type": "code",
   "execution_count": 26,
   "metadata": {},
   "outputs": [],
   "source": [
    "# Function to constrain range of data between min_x and max_x.\n",
    "# This function is used to transform validation data.\n",
    "\n",
    "range02 <- function(x, min_x, max_x) {(x - min_x)/(max_x - min_x)}\n"
   ]
  },
  {
   "cell_type": "code",
   "execution_count": 165,
   "metadata": {},
   "outputs": [],
   "source": [
    "# Function returning mapping between clusters and\n",
    "# Inland levels.  We choose the mapping that yields\n",
    "# the best f-score score.\n",
    "\n",
    "c1_toLevel_1 <- function(dat) {\n",
    "    \n",
    "    # Returns TRUE if cluster 1 maps to Inland = 1\n",
    "    \n",
    "    # dat is a dataframe with 2 columns, c(\"Inland\",\"cluster\");\n",
    "    # nrow(dat) = number of predictions from the model;\n",
    "    # dat$Inland = traindat$Inland (from the calling function)\n",
    "    \n",
    "    # We find the correct mapping between cluster number and \n",
    "    # Inland level by computing f-scores for the different\n",
    "    # valid mappings.   We choose the mapping with the best\n",
    "    # f-score score.\n",
    "    \n",
    "    tbl <- as.matrix(table(dat$Inland, as.factor(dat$cluster)))\n",
    "    # The colnames of tbl refer to the names of the clusters.\n",
    "    \n",
    "    # With only 2 levels for Inland, we need only 2 scores.\n",
    "    scores <- rep(NA, 2)    \n",
    "    \n",
    "    # First possibility: cluster 1 maps to the non-Inland districts\n",
    "    tmpdat <- dat\n",
    "    tmpdat[which(tmpdat$cluster== 1),]$Inland <- 0\n",
    "    tmpdat[which(tmpdat$cluster== 2),]$Inland <- 1\n",
    "        \n",
    "    preds <- as.factor(tmpdat$Inland)\n",
    "    names(preds) <- rownames(tmpdat)\n",
    "    ans <- get_confusion(preds, dat[, \"Inland\", drop=FALSE])\n",
    "    scores[1] <- ans[[2]]\n",
    "    \n",
    "    # Alternative mapping: cluster 1 maps to the Inland districts\n",
    "    tmpdat <- dat\n",
    "    tmpdat[which(tmpdat$cluster== 1),]$Inland <- 1\n",
    "    tmpdat[which(tmpdat$cluster== 2),]$Inland <- 0\n",
    "        \n",
    "    preds <- as.factor(tmpdat$Inland)\n",
    "    names(preds) <- rownames(tmpdat)\n",
    "    ans <- get_confusion(preds, dat[, \"Inland\", drop=FALSE])\n",
    "    scores[2] <- ans[[2]]\n",
    "    \n",
    "    return(scores[1] <= scores[2])\n",
    "}\n"
   ]
  },
  {
   "cell_type": "code",
   "execution_count": null,
   "metadata": {},
   "outputs": [],
   "source": []
  },
  {
   "cell_type": "code",
   "execution_count": null,
   "metadata": {},
   "outputs": [],
   "source": []
  },
  {
   "cell_type": "code",
   "execution_count": 12,
   "metadata": {},
   "outputs": [],
   "source": [
    "# This grid search searches for the best set of weights to use\n",
    "# in our k-means clustering model.  The best weights are those\n",
    "# which generalize best to the validation set.\n",
    "\n",
    "gridSearch06 <- function(seed_vector, dat, df_params, folds=5) {\n",
    "    \n",
    "    datout <- rep(NA, 2*nrow(df_params))\n",
    "    dim(datout) <- c(nrow(df_params), 2)\n",
    "    datout <- as.data.frame(datout)\n",
    "    colnames(datout) <- c(\"row\", \"Type2\")\n",
    "    datout$row <- rownames(df_params)\n",
    "    \n",
    "    # We want the sqrt of the weights.\n",
    "    df_params <- df_params^0.5\n",
    "    \n",
    "    params_rows <- rownames(df_params)\n",
    "    \n",
    "    #############################\n",
    "    # Partition the data into folds.\n",
    "        \n",
    "    # divide dat by the number of folds \n",
    "    segment_size <- round(nrow(dat)/folds)\n",
    "    diff <- nrow(dat) - folds * segment_size\n",
    "    last_seg_size <- segment_size + diff\n",
    "    segmentsv <- c(rep(segment_size, (folds - 1)), last_seg_size)\n",
    "    stopifnot(sum(segmentsv) == nrow(dat))\n",
    "    \n",
    "    \n",
    "    # Create a dataframe, each row for a distinct seed.\n",
    "    # Each column of the dataframe is for a distinct set\n",
    "    # of weights.  The entries in the cells are Type2 \n",
    "    # scores.\n",
    "    seedv_len <- length(seed_vector)\n",
    "    df_scores <- rep(NA, seedv_len*nrow(df_params))\n",
    "    dim(df_scores) <- c(seedv_len, nrow(df_params))\n",
    "    df_scores <- as.data.frame(df_scores)\n",
    "    colnames(df_scores) <- rownames(df_params)\n",
    "    rownames(df_scores) <- as.character(seed_vector)\n",
    "    \n",
    "    for(h in 1:seedv_len) {\n",
    "        cur_seed <- seed_vector[h]\n",
    "        set.seed(cur_seed)\n",
    "        smp <- sample(rownames(dat), dim(dat)[1], replace= FALSE)\n",
    "        dat <- dat[smp,]\n",
    "        \n",
    "        # Each element of row_list will be the rows we pick\n",
    "        # out for one of the folds.  E.g., the first element\n",
    "        # of row_list will contain the rows we want for the\n",
    "        # first fold, the second element of row_list will\n",
    "        # contain the rows we want for the second fold, and\n",
    "        # so forth.\n",
    "        row_list <- vector(\"list\", length=folds)\n",
    "        names(row_list) <- as.character(1:folds)\n",
    "        startpt <- 1\n",
    "        for(k in 1:folds) {\n",
    "            endpt <- startpt + segmentsv[k] - 1\n",
    "            stopifnot(endpt <= nrow(dat))\n",
    "            row_list[[k]] <- rownames(dat)[startpt:endpt]\n",
    "            startpt <- endpt + 1\n",
    "        }\n",
    "    \n",
    "        for(i in 1:nrow(df_params)) {\n",
    "            \n",
    "            cur_row <- params_rows[i]\n",
    "            wghts <- as.numeric(df_params[i,])\n",
    "            names(wghts) <- colnames(df_params)\n",
    "            \n",
    "            train_list <- test_list <- vector(\"list\", length= folds)\n",
    "            for(j in 1:folds) {\n",
    "                testdat <- dat[row_list[[j]],]\n",
    "                traindat <- dat[which(!(rownames(dat) %in% rownames(testdat))),]\n",
    "                stopifnot((length(rownames(traindat)) + length(rownames(testdat))) == nrow(dat))\n",
    "                test_list[[j]] <- testdat\n",
    "                train_list[[j]] <- traindat\n",
    "            }\n",
    "            # When there are only 5 folds, only 5 cores get used.\n",
    "            ### NOTE: I change the following function call depending on\n",
    "            ### the model I am scoring.\n",
    "            scores <- mcmapply(get_cvScore_kmp1p2, train_list, test_list,\n",
    "                               MoreArgs= list(wghts=wghts),\n",
    "                               SIMPLIFY= TRUE, mc.cores=5)\n",
    "            \n",
    "            # For the current seed, store the average of the Type2\n",
    "            # scores, the average taken over the folds.\n",
    "            df_scores[as.character(cur_seed), cur_row] <- round(mean(scores), 5)\n",
    "        \n",
    "        } # end of for-loop, index i\n",
    "    } ## end of for-loop, index h\n",
    "    \n",
    "    # Compute the average over the seeds of the Type2 scores\n",
    "    # obtained for each set of parameters in df_params.\n",
    "    datout$Type2 <- round(apply(df_scores, MARGIN=2, mean), 5)\n",
    "    return(datout)\n",
    "}\n"
   ]
  },
  {
   "cell_type": "code",
   "execution_count": null,
   "metadata": {},
   "outputs": [],
   "source": []
  },
  {
   "cell_type": "markdown",
   "metadata": {},
   "source": [
    "# Section 1: Get non-k-means models for comparison"
   ]
  },
  {
   "cell_type": "markdown",
   "metadata": {},
   "source": [
    "I consider four types of model: random forest, logistic, support vector, and gradient boosting.  For each of these types, I do not need to find the best possible model because these models are used only for comparing scores to the hybrid k-means model we will construct, and the latter is constructed from two of the four non-k-means models.  The better the prob01 and prob02 inputs to the hybrid k-means model, the better the scores will be for this model."
   ]
  },
  {
   "cell_type": "markdown",
   "metadata": {},
   "source": [
    "## Find a \"best\" random forest model"
   ]
  },
  {
   "cell_type": "markdown",
   "metadata": {},
   "source": [
    "### Variable selection for the random forest model"
   ]
  },
  {
   "cell_type": "code",
   "execution_count": 45,
   "metadata": {},
   "outputs": [
    {
     "name": "stdout",
     "output_type": "stream",
     "text": [
      "\n",
      "Call:\n",
      " randomForest(formula = I(as.factor(Inland)) ~ ., data = traindat,      ntree = 900, mtry = 1, nodesize = 2, importance = TRUE) \n",
      "               Type of random forest: classification\n",
      "                     Number of trees: 900\n",
      "No. of variables tried at each split: 1\n",
      "\n",
      "        OOB estimate of  error rate: 13.09%\n",
      "Confusion matrix:\n",
      "     0    1 class.error\n",
      "0 6720  591    0.080837\n",
      "1  797 2495    0.242102\n"
     ]
    },
    {
     "data": {
      "text/html": [
       "''"
      ],
      "text/latex": [
       "''"
      ],
      "text/markdown": [
       "''"
      ],
      "text/plain": [
       "[1] \"\""
      ]
     },
     "metadata": {},
     "output_type": "display_data"
    },
    {
     "name": "stdout",
     "output_type": "stream",
     "text": [
      "[1] 0.7824\n"
     ]
    }
   ],
   "source": [
    "set.seed(123)\n",
    "rfclf <- randomForest(I(as.factor(Inland)) ~ ., data= traindat,\n",
    "                      ntree= 900, mtry= 1, nodesize= 2, \n",
    "                      importance=TRUE)\n",
    "print(rfclf)\n",
    "''\n",
    "print(get_fscore(as.matrix(rfclf$confusion)))\n",
    "# [1] 0.7824\n"
   ]
  },
  {
   "cell_type": "code",
   "execution_count": 46,
   "metadata": {},
   "outputs": [
    {
     "name": "stdout",
     "output_type": "stream",
     "text": [
      "                       0     1 MeanDecreaseAccuracy MeanDecreaseGini\n",
      "housing_median_age 0.022 0.047                0.030           576.37\n",
      "households         0.013 0.006                0.011           569.99\n",
      "median_house_value 0.152 0.302                0.198          2264.78\n",
      "rooms_per_hh       0.044 0.070                0.052           814.16\n"
     ]
    }
   ],
   "source": [
    "print(round(rfclf$importance, 3))\n"
   ]
  },
  {
   "cell_type": "code",
   "execution_count": 47,
   "metadata": {},
   "outputs": [],
   "source": [
    "# Remove rooms_per_hh.  I am aiming for a model with an \n",
    "# accuracy <= 0.75.  It is currently at 87%.\n",
    "\n",
    "newcols <- colnames(traindat)[which(!(colnames(traindat) %in% \n",
    "                                      c(\"rooms_per_hh\")))]\n",
    "df <- traindat[, newcols]\n"
   ]
  },
  {
   "cell_type": "code",
   "execution_count": 48,
   "metadata": {},
   "outputs": [
    {
     "name": "stdout",
     "output_type": "stream",
     "text": [
      "\n",
      "Call:\n",
      " randomForest(formula = I(as.factor(Inland)) ~ ., data = df, ntree = 900,      mtry = 1, nodesize = 2, importance = TRUE) \n",
      "               Type of random forest: classification\n",
      "                     Number of trees: 900\n",
      "No. of variables tried at each split: 1\n",
      "\n",
      "        OOB estimate of  error rate: 16.62%\n",
      "Confusion matrix:\n",
      "     0    1 class.error\n",
      "0 6537  774     0.10587\n",
      "1  988 2304     0.30012\n"
     ]
    },
    {
     "data": {
      "text/html": [
       "''"
      ],
      "text/latex": [
       "''"
      ],
      "text/markdown": [
       "''"
      ],
      "text/plain": [
       "[1] \"\""
      ]
     },
     "metadata": {},
     "output_type": "display_data"
    },
    {
     "name": "stdout",
     "output_type": "stream",
     "text": [
      "[1] 0.7234\n"
     ]
    }
   ],
   "source": [
    "set.seed(123)\n",
    "rfclf <- randomForest(I(as.factor(Inland)) ~ ., data= df,\n",
    "                      ntree= 900, mtry= 1, nodesize= 2, \n",
    "                      importance=TRUE)\n",
    "print(rfclf)\n",
    "''\n",
    "print(get_fscore(as.matrix(rfclf$confusion)))\n",
    "# [1] 0.7234\n"
   ]
  },
  {
   "cell_type": "code",
   "execution_count": 49,
   "metadata": {},
   "outputs": [
    {
     "name": "stdout",
     "output_type": "stream",
     "text": [
      "                       0     1 MeanDecreaseAccuracy MeanDecreaseGini\n",
      "housing_median_age 0.034 0.064                0.043           727.05\n",
      "households         0.014 0.003                0.010           811.27\n",
      "median_house_value 0.125 0.280                0.173          2414.49\n"
     ]
    }
   ],
   "source": [
    "print(round(rfclf$importance, 3))\n"
   ]
  },
  {
   "cell_type": "code",
   "execution_count": null,
   "metadata": {},
   "outputs": [],
   "source": [
    "#&* Bookmark"
   ]
  },
  {
   "cell_type": "code",
   "execution_count": 52,
   "metadata": {},
   "outputs": [],
   "source": [
    "# Identify the columns we will use for modeling.  I am also\n",
    "# removing households since accuracy is still around 83%.\n",
    "\n",
    "cols <- c('Inland','housing_median_age','median_house_value')\n"
   ]
  },
  {
   "cell_type": "code",
   "execution_count": 53,
   "metadata": {},
   "outputs": [],
   "source": [
    "# Restrict variables in traindat and testdat for random forest\n",
    "# modeling.\n",
    "\n",
    "traindat <- traindat[, cols]\n",
    "testdat <- testdat[, cols]\n"
   ]
  },
  {
   "cell_type": "markdown",
   "metadata": {},
   "source": [
    "### Tune the random forest model"
   ]
  },
  {
   "cell_type": "code",
   "execution_count": 36,
   "metadata": {},
   "outputs": [],
   "source": [
    "# This function is called from get_cvScore_rf.  Unlike in\n",
    "# Part 1, here I use accuracy instead of the Type2 score\n",
    "# for tuning.\n",
    "\n",
    "get_acc_rf <- function(traindat, valdat, ntrees, mtry, nodesize) {\n",
    "        \n",
    "    rfmod <- randomForest(I(as.factor(Inland)) ~ ., \n",
    "                          data= traindat, ntree= ntrees,\n",
    "                          mtry= mtry, nodesize= nodesize)\n",
    "        \n",
    "    preds <- predict(rfmod, newdata= valdat, type=\"response\")\n",
    "    ans <- get_confusion(preds, valdat[, \"Inland\", drop=FALSE])\n",
    "\n",
    "    mat <- as.matrix(ans[[1]])\n",
    "    mat[is.na(mat)] <- 0\n",
    "    percent_correct <- round(sum(diag(mat))/floor(sum(mat)), 4)\n",
    "    # result <- round((0.4 * percent_correct + 0.6 * ans[[2]]), 4)\n",
    "    return(percent_correct)\n",
    "}\n"
   ]
  },
  {
   "cell_type": "code",
   "execution_count": 37,
   "metadata": {},
   "outputs": [],
   "source": [
    "# Function to obtain a cross-validation score, averaging the\n",
    "# accuracy scores of the folds.  This function is called from\n",
    "# avg_seedScores_rf.\n",
    "\n",
    "get_cvScore_rf <- function(seed, dat, ntrees, mtry,\n",
    "                           nodesize, folds= 5) {\n",
    "    \n",
    "    # divide dat by the number of folds \n",
    "    segment_size <- round(dim(dat)[1]/folds)\n",
    "    diff <- nrow(dat) - folds * segment_size\n",
    "    last_seg_size <- segment_size + diff\n",
    "    segmentsv <- c(rep(segment_size, (folds - 1)), last_seg_size)\n",
    "    # print(segmentsv)\n",
    "    stopifnot(sum(segmentsv) == nrow(dat))\n",
    "    \n",
    "    # shuffle dat\n",
    "    set.seed(seed)\n",
    "    smp <- sample(rownames(dat), nrow(dat), replace= FALSE)\n",
    "    dat <- dat[smp,]\n",
    "    \n",
    "    # split the data into the folds\n",
    "    row_list <- vector(\"list\", length= folds)\n",
    "    names(row_list) <- as.character(1:folds)\n",
    "    startpt <- 1\n",
    "    for(i in 1:folds) {\n",
    "        endpt <- startpt + segmentsv[i] - 1\n",
    "        stopifnot(endpt <= dim(dat)[1])\n",
    "        row_list[[i]] <- rownames(dat)[startpt:endpt]\n",
    "        startpt <- endpt + 1\n",
    "    }\n",
    "    \n",
    "    train_list <- test_list <- vector(\"list\", length= folds)\n",
    "    for(j in 1:folds) {\n",
    "        testdat <- dat[row_list[[j]],]\n",
    "        traindat <- dat[which(!(rownames(dat) %in% rownames(testdat))),]\n",
    "        stopifnot((length(rownames(traindat)) + length(rownames(testdat))) == dim(dat)[1])\n",
    "        test_list[[j]] <- testdat\n",
    "        train_list[[j]] <- traindat\n",
    "    }\n",
    "\n",
    "    scores <- mcmapply(get_acc_rf, train_list, test_list,\n",
    "                       MoreArgs= list(ntrees= ntrees, mtry=mtry,\n",
    "                                      nodesize=nodesize),\n",
    "                       SIMPLIFY= TRUE, mc.cores=5)\n",
    "    \n",
    "    # The average is of accuracy scores.\n",
    "    return(round(mean(scores), 5))\n",
    "}\n"
   ]
  },
  {
   "cell_type": "code",
   "execution_count": 38,
   "metadata": {},
   "outputs": [],
   "source": [
    "# Since the seed value can have a big effect on the results,\n",
    "# I take the average over a number of seeds.  This ftn is\n",
    "# called from gridSearch02.\n",
    "\n",
    "avg_seedScores_rf <- function(seed_vector, traindat, n_trees,  \n",
    "                              mtry, nodesize, folds= 5) {\n",
    "    \n",
    "    seed_len <- length(seed_vector)\n",
    "    outv <- rep(NA, seed_len)\n",
    "    for(i in 1:seed_len) {\n",
    "        seed <- seed_vector[i]\n",
    "        outv[i] <- get_cvScore_rf(seed, traindat, n_trees,\n",
    "                                  mtry, nodesize, folds=folds)\n",
    "    }\n",
    "    return(round(mean(outv), 5))\n",
    "}\n"
   ]
  },
  {
   "cell_type": "code",
   "execution_count": 39,
   "metadata": {},
   "outputs": [],
   "source": [
    "# This grid search is specific to finding the best random forest\n",
    "# classifier for traindat.\n",
    "\n",
    "gridSearch02 <- function(seed_vector, traindat, ntree_vector, \n",
    "                         mtry_vector, nodesizes, folds=5) {\n",
    "    \n",
    "    tree_len <- length(ntree_vector)\n",
    "    mtry_len <- length(mtry_vector)\n",
    "    node_len <- length(nodesizes)\n",
    "    # We need to capture the gridSearch parameters as well as \n",
    "    # the cross-val  scores.\n",
    "    datout <- rep(NA, 2 * tree_len * mtry_len * node_len)\n",
    "    dim(datout) <- c((tree_len * mtry_len * node_len), 2)\n",
    "    datout <- as.data.frame(datout)\n",
    "    colnames(datout) <- c(\"params\", \"Acc\")\n",
    "    datout$params <- \"\"\n",
    "    \n",
    "    index <- 0\n",
    "    for(i in 1:tree_len) {\n",
    "        n_trees <- ntree_vector[i]\n",
    "        for(j in 1:mtry_len) {\n",
    "            mtry <- mtry_vector[j]\n",
    "            for(k in 1:node_len) {\n",
    "                index <- index + 1\n",
    "                nodesize <- nodesizes[k]\n",
    "                param_string <- paste(as.character(n_trees), \n",
    "                                      as.character(mtry),\n",
    "                                      as.character(nodesize), sep= \"--\")\n",
    "                datout$params[index] <- param_string\n",
    "                datout$Acc[index] <- avg_seedScores_rf(seed_vector, traindat, n_trees, \n",
    "                                                       folds=folds, mtry=mtry,\n",
    "                                                       nodesize=nodesize)\n",
    "            }\n",
    "        }\n",
    "    }\n",
    "    return(datout)\n",
    "}\n"
   ]
  },
  {
   "cell_type": "code",
   "execution_count": 54,
   "metadata": {},
   "outputs": [
    {
     "data": {
      "text/html": [
       "'Start time: 2021-07-27 13:40:24'"
      ],
      "text/latex": [
       "'Start time: 2021-07-27 13:40:24'"
      ],
      "text/markdown": [
       "'Start time: 2021-07-27 13:40:24'"
      ],
      "text/plain": [
       "[1] \"Start time: 2021-07-27 13:40:24\""
      ]
     },
     "metadata": {},
     "output_type": "display_data"
    },
    {
     "data": {
      "text/plain": [
       "Time difference of 6.13 mins"
      ]
     },
     "metadata": {},
     "output_type": "display_data"
    },
    {
     "data": {
      "text/html": [
       "'1200--1--3'"
      ],
      "text/latex": [
       "'1200--1--3'"
      ],
      "text/markdown": [
       "'1200--1--3'"
      ],
      "text/plain": [
       "[1] \"1200--1--3\""
      ]
     },
     "metadata": {},
     "output_type": "display_data"
    },
    {
     "data": {
      "text/html": [
       "0.83172"
      ],
      "text/latex": [
       "0.83172"
      ],
      "text/markdown": [
       "0.83172"
      ],
      "text/plain": [
       "[1] 0.83172"
      ]
     },
     "metadata": {},
     "output_type": "display_data"
    }
   ],
   "source": [
    "# Run grid search to get better parameters for the \n",
    "# random forest model.  Test with 10 seeds.  For each\n",
    "# seed, an average is taken over 5 folds.\n",
    "\n",
    "set.seed(7543)\n",
    "seed_smp <- sample(1:9999, 10, replace=FALSE)\n",
    "tree_vector <- c(500, 900, 1200)\n",
    "mtry_vector <- c(1)\n",
    "node_vector <- c(1, 2, 3)\n",
    "\n",
    "start <- Sys.time()\n",
    "paste(\"Start time: \", start, sep=\"\")\n",
    "ans <- gridSearch02(seed_smp, traindat, tree_vector, mtry_vector, node_vector)\n",
    "stop <- Sys.time()\n",
    "round(stop - start, 2)\n",
    "# Time difference of 6 mins\n",
    "\n",
    "(best_params <- ans[which(ans$Acc == max(ans$Acc)),]$params)\n",
    "# '1200--1--3'\n",
    "\n",
    "(best_rf_Acc <- ans[which(ans$Acc == max(ans$Acc)),]$Acc)\n",
    "# 0.8317\n"
   ]
  },
  {
   "cell_type": "code",
   "execution_count": 55,
   "metadata": {},
   "outputs": [
    {
     "data": {
      "text/html": [
       "<table class=\"dataframe\">\n",
       "<caption>A data.frame: 9 × 2</caption>\n",
       "<thead>\n",
       "\t<tr><th scope=col>params</th><th scope=col>Acc</th></tr>\n",
       "\t<tr><th scope=col>&lt;chr&gt;</th><th scope=col>&lt;dbl&gt;</th></tr>\n",
       "</thead>\n",
       "<tbody>\n",
       "\t<tr><td>500--1--1 </td><td>0.82982</td></tr>\n",
       "\t<tr><td>500--1--2 </td><td>0.83084</td></tr>\n",
       "\t<tr><td>500--1--3 </td><td>0.83109</td></tr>\n",
       "\t<tr><td>900--1--1 </td><td>0.83016</td></tr>\n",
       "\t<tr><td>900--1--2 </td><td>0.83073</td></tr>\n",
       "\t<tr><td>900--1--3 </td><td>0.83118</td></tr>\n",
       "\t<tr><td>1200--1--1</td><td>0.82997</td></tr>\n",
       "\t<tr><td>1200--1--2</td><td>0.83123</td></tr>\n",
       "\t<tr><td>1200--1--3</td><td>0.83172</td></tr>\n",
       "</tbody>\n",
       "</table>\n"
      ],
      "text/latex": [
       "A data.frame: 9 × 2\n",
       "\\begin{tabular}{ll}\n",
       " params & Acc\\\\\n",
       " <chr> & <dbl>\\\\\n",
       "\\hline\n",
       "\t 500--1--1  & 0.82982\\\\\n",
       "\t 500--1--2  & 0.83084\\\\\n",
       "\t 500--1--3  & 0.83109\\\\\n",
       "\t 900--1--1  & 0.83016\\\\\n",
       "\t 900--1--2  & 0.83073\\\\\n",
       "\t 900--1--3  & 0.83118\\\\\n",
       "\t 1200--1--1 & 0.82997\\\\\n",
       "\t 1200--1--2 & 0.83123\\\\\n",
       "\t 1200--1--3 & 0.83172\\\\\n",
       "\\end{tabular}\n"
      ],
      "text/markdown": [
       "\n",
       "A data.frame: 9 × 2\n",
       "\n",
       "| params &lt;chr&gt; | Acc &lt;dbl&gt; |\n",
       "|---|---|\n",
       "| 500--1--1  | 0.82982 |\n",
       "| 500--1--2  | 0.83084 |\n",
       "| 500--1--3  | 0.83109 |\n",
       "| 900--1--1  | 0.83016 |\n",
       "| 900--1--2  | 0.83073 |\n",
       "| 900--1--3  | 0.83118 |\n",
       "| 1200--1--1 | 0.82997 |\n",
       "| 1200--1--2 | 0.83123 |\n",
       "| 1200--1--3 | 0.83172 |\n",
       "\n"
      ],
      "text/plain": [
       "  params     Acc    \n",
       "1 500--1--1  0.82982\n",
       "2 500--1--2  0.83084\n",
       "3 500--1--3  0.83109\n",
       "4 900--1--1  0.83016\n",
       "5 900--1--2  0.83073\n",
       "6 900--1--3  0.83118\n",
       "7 1200--1--1 0.82997\n",
       "8 1200--1--2 0.83123\n",
       "9 1200--1--3 0.83172"
      ]
     },
     "metadata": {},
     "output_type": "display_data"
    }
   ],
   "source": [
    "# I have a model with an accuracy score over 75%.  Since\n",
    "# I do not need a perfect model, I will choose the \n",
    "# 500--1--3 model with an accuracy of 0.8311.  This will\n",
    "# allow for faster testing than if I used the 1200 tree\n",
    "# model.\n",
    "\n",
    "ans\n"
   ]
  },
  {
   "cell_type": "markdown",
   "metadata": {},
   "source": [
    "### Get scores for rfclf_best on traindat"
   ]
  },
  {
   "cell_type": "code",
   "execution_count": 62,
   "metadata": {},
   "outputs": [
    {
     "data": {
      "text/html": [
       "'Start time: 2021-07-27 14:09:17'"
      ],
      "text/latex": [
       "'Start time: 2021-07-27 14:09:17'"
      ],
      "text/markdown": [
       "'Start time: 2021-07-27 14:09:17'"
      ],
      "text/plain": [
       "[1] \"Start time: 2021-07-27 14:09:17\""
      ]
     },
     "metadata": {},
     "output_type": "display_data"
    },
    {
     "data": {
      "text/plain": [
       "Time difference of 10.08 mins"
      ]
     },
     "metadata": {},
     "output_type": "display_data"
    }
   ],
   "source": [
    "# Get stable scores for the best random forest model.  I will\n",
    "# refer to this model as rfclf_best.  Note that 300 seeds\n",
    "# are being used. \n",
    "\n",
    "set.seed(1433)\n",
    "seed_smp <- sample(1:9999, 300, replace=FALSE)\n",
    "\n",
    "datout <- rep(NA, 6 * length(seed_smp))\n",
    "dim(datout) <- c(length(seed_smp), 6)\n",
    "datout <- as.data.frame(datout)\n",
    "colnames(datout) <- c(\"seed\",\"fscore\",\"Acc\",\"Type2\", \"FN\",\"FP\")\n",
    "datout$seed <- seed_smp\n",
    "\n",
    "start <- Sys.time()\n",
    "paste0(\"Start time: \", start)\n",
    "for(i in 1:length(seed_smp)) {\n",
    "    \n",
    "    set.seed(seed_smp[i])\n",
    "    rfmod <- randomForest(I(as.factor(Inland)) ~ ., \n",
    "                              data= traindat, ntree=500,\n",
    "                              mtry= 1, nodesize= 3)\n",
    "        \n",
    "    # preds <- predict(rfmod, newdata= dat, type=\"response\")\n",
    "    # ans <- get_confusion(preds, dat[, \"Outcome\", drop=FALSE])\n",
    "    # mat <- as.matrix(ans[[1]])\n",
    "    mat <- rfmod$confusion\n",
    "    # percent_correct <- sum(diag(mat))/floor(sum(mat))\n",
    "    # datout[i, c(\"Acc\")] <- round(percent_correct, 4)\n",
    "    datout[i, c(\"Acc\")] <- acc <- round(1-median(rfmod$err.rate[,1]), 4)\n",
    "    # datout[i, c(\"fscore\")] <- round(ans[[2]], 4)\n",
    "    datout[i, c(\"fscore\")] <- fscore <- round(get_fscore(mat), 4)\n",
    "    datout[i, c(\"Type2\")] <- round(0.4*acc + 0.6*fscore, 4)\n",
    "    datout[i, c(\"FN\")] <- as.numeric(mat[2,1])\n",
    "    datout[i, c(\"FP\")] <- as.numeric(mat[1,2])\n",
    "}\n",
    "stop <- Sys.time()\n",
    "round(stop - start, 2)\n",
    "# Time difference of 10 mins\n"
   ]
  },
  {
   "cell_type": "code",
   "execution_count": 63,
   "metadata": {},
   "outputs": [
    {
     "data": {
      "image/png": "[encoded data removed]",
      "text/plain": [
       "Plot with title “Distribution of f-scores for rfclf_best on traindat”"
      ]
     },
     "metadata": {
      "image/png": {
       "height": 360,
       "width": 480
      }
     },
     "output_type": "display_data"
    }
   ],
   "source": [
    "options(repr.plot.width= 8, repr.plot.height= 6)\n",
    "hist(datout$fscore, breaks=12, xlab=\"f-score\",\n",
    "     main=\"Distribution of f-scores for rfclf_best on traindat\")\n"
   ]
  },
  {
   "cell_type": "code",
   "execution_count": 64,
   "metadata": {},
   "outputs": [
    {
     "data": {
      "text/html": [
       "<style>\n",
       ".list-inline {list-style: none; margin:0; padding: 0}\n",
       ".list-inline>li {display: inline-block}\n",
       ".list-inline>li:not(:last-child)::after {content: \"\\00b7\"; padding: 0 .5ex}\n",
       "</style>\n",
       "<ol class=list-inline><li>0.7163</li><li>0.8303</li><li>1025.15</li><li>770.67</li></ol>\n"
      ],
      "text/latex": [
       "\\begin{enumerate*}\n",
       "\\item 0.7163\n",
       "\\item 0.8303\n",
       "\\item 1025.15\n",
       "\\item 770.67\n",
       "\\end{enumerate*}\n"
      ],
      "text/markdown": [
       "1. 0.7163\n",
       "2. 0.8303\n",
       "3. 1025.15\n",
       "4. 770.67\n",
       "\n",
       "\n"
      ],
      "text/plain": [
       "[1]    0.7163    0.8303 1025.1500  770.6700"
      ]
     },
     "metadata": {},
     "output_type": "display_data"
    }
   ],
   "source": [
    "# Get summaries for rfclf_best.\n",
    "\n",
    "fn_avg <- mean(datout$FN)\n",
    "fp_avg <- mean(datout$FP)\n",
    "\n",
    "c(round(mean(datout$fscore), 4), round(mean(datout$Acc), 4),\n",
    "  round(fn_avg, 2), round(fp_avg, 2))\n",
    "# f-score:   0.7163   \n",
    "# accuracy:  0.8303  \n",
    "# false negatives: 1025  \n",
    "# false positives: 771\n",
    "\n",
    "# Type2: 0.7619\n"
   ]
  },
  {
   "cell_type": "code",
   "execution_count": 65,
   "metadata": {},
   "outputs": [
    {
     "data": {
      "text/html": [
       "0.7619"
      ],
      "text/latex": [
       "0.7619"
      ],
      "text/markdown": [
       "0.7619"
      ],
      "text/plain": [
       "[1] 0.7619"
      ]
     },
     "metadata": {},
     "output_type": "display_data"
    }
   ],
   "source": [
    "round(mean(datout$Type2), 4)\n",
    "# 0.7619\n"
   ]
  },
  {
   "cell_type": "code",
   "execution_count": 66,
   "metadata": {},
   "outputs": [
    {
     "data": {
      "image/png": "[encoded data removed]",
      "text/plain": [
       "Plot with title “Distribution of accuracy scores for rfclf_best on traindat”"
      ]
     },
     "metadata": {
      "image/png": {
       "height": 360,
       "width": 480
      }
     },
     "output_type": "display_data"
    }
   ],
   "source": [
    "options(repr.plot.width= 8, repr.plot.height= 6)\n",
    "hist(datout$Acc, breaks=14, xlab=\"accuracy\",\n",
    "     main=\"Distribution of accuracy scores for rfclf_best on traindat\")\n"
   ]
  },
  {
   "cell_type": "code",
   "execution_count": 67,
   "metadata": {},
   "outputs": [
    {
     "data": {
      "text/html": [
       "226"
      ],
      "text/latex": [
       "226"
      ],
      "text/markdown": [
       "226"
      ],
      "text/plain": [
       "[1] 226"
      ]
     },
     "metadata": {},
     "output_type": "display_data"
    },
    {
     "data": {
      "text/html": [
       "<style>\n",
       ".list-inline {list-style: none; margin:0; padding: 0}\n",
       ".list-inline>li {display: inline-block}\n",
       ".list-inline>li:not(:last-child)::after {content: \"\\00b7\"; padding: 0 .5ex}\n",
       "</style>\n",
       "<ol class=list-inline><li>9728</li><li>5605</li><li>5552</li><li>3837</li><li>2343</li><li>1219</li></ol>\n"
      ],
      "text/latex": [
       "\\begin{enumerate*}\n",
       "\\item 9728\n",
       "\\item 5605\n",
       "\\item 5552\n",
       "\\item 3837\n",
       "\\item 2343\n",
       "\\item 1219\n",
       "\\end{enumerate*}\n"
      ],
      "text/markdown": [
       "1. 9728\n",
       "2. 5605\n",
       "3. 5552\n",
       "4. 3837\n",
       "5. 2343\n",
       "6. 1219\n",
       "\n",
       "\n"
      ],
      "text/plain": [
       "[1] 9728 5605 5552 3837 2343 1219"
      ]
     },
     "metadata": {},
     "output_type": "display_data"
    }
   ],
   "source": [
    "# Identify seeds with an accuracy score between 0.8295 \n",
    "# and 0.8310.  When constructing rfclf_best, I will \n",
    "# use a seed which has an accuracy in the center of\n",
    "# the distribution of accuracy scores.  (It may be that\n",
    "# rfclf_best will generalize better to the test data if\n",
    "# I choose a seed for it that is at the midpoint of the\n",
    "# accuracy distribution.)\n",
    "\n",
    "rf_candidate_seeds <- datout[which((datout$Acc > 0.8295) & (datout$Acc < 0.8310)),]$seed\n",
    "length(rf_candidate_seeds)\n",
    "#  226\n",
    "head(rf_candidate_seeds)\n",
    "#  9728   5605   5552   3837   2343   1219\n"
   ]
  },
  {
   "cell_type": "code",
   "execution_count": 68,
   "metadata": {},
   "outputs": [
    {
     "data": {
      "image/png": "[encoded data removed]",
      "text/plain": [
       "Plot with title “Distribution of Type2 scores for rfclf_best on traindat”"
      ]
     },
     "metadata": {
      "image/png": {
       "height": 360,
       "width": 480
      }
     },
     "output_type": "display_data"
    }
   ],
   "source": [
    "options(repr.plot.width= 8, repr.plot.height= 6)\n",
    "hist(datout$Type2, breaks=16, xlab=\"Type2 score\",\n",
    "     main=\"Distribution of Type2 scores for rfclf_best on traindat\")\n"
   ]
  },
  {
   "cell_type": "code",
   "execution_count": 70,
   "metadata": {},
   "outputs": [
    {
     "data": {
      "text/plain": [
       "\n",
       "Call:\n",
       " randomForest(formula = I(as.factor(Inland)) ~ ., data = traindat,      ntree = 500, mtry = 1, nodesize = 3, importance = TRUE) \n",
       "               Type of random forest: classification\n",
       "                     Number of trees: 500\n",
       "No. of variables tried at each split: 1\n",
       "\n",
       "        OOB estimate of  error rate: 16.87%\n",
       "Confusion matrix:\n",
       "     0    1 class.error\n",
       "0 6544  767     0.10491\n",
       "1 1022 2270     0.31045"
      ]
     },
     "metadata": {},
     "output_type": "display_data"
    }
   ],
   "source": [
    "# Get representative model.\n",
    "\n",
    "set.seed(5552)\n",
    "(rfclf_best <- randomForest(I(as.factor(Inland)) ~ ., \n",
    "                            data= traindat, ntree=500,\n",
    "                            mtry= 1, nodesize= 3, importance=TRUE))\n"
   ]
  },
  {
   "cell_type": "code",
   "execution_count": 71,
   "metadata": {},
   "outputs": [
    {
     "name": "stdout",
     "output_type": "stream",
     "text": [
      "                       0     1 MeanDecreaseAccuracy MeanDecreaseGini\n",
      "housing_median_age 0.028 0.075                0.043           672.46\n",
      "median_house_value 0.136 0.314                0.191          2570.13\n"
     ]
    }
   ],
   "source": [
    "print(round(rfclf_best$importance, 3))\n"
   ]
  },
  {
   "cell_type": "markdown",
   "metadata": {},
   "source": [
    "## Get comparative scores for rfclf_best on testdat"
   ]
  },
  {
   "cell_type": "code",
   "execution_count": 74,
   "metadata": {},
   "outputs": [],
   "source": [
    "# Function for obtaining a set of scores on the testset data\n",
    "# using rfclf_best as the classifier.\n",
    "\n",
    "get_testdatScores_rf <- function(seedv, dat) {\n",
    "    \n",
    "    seedv_len <- length(seedv)\n",
    "    datout <- rep(NA, 5 * seedv_len)\n",
    "    dim(datout) <- c(seedv_len, 5)\n",
    "    datout <- as.data.frame(datout)\n",
    "    colnames(datout) <- c(\"fscore\",\"Acc\",\"Type2\", \"FN\",\"FP\")\n",
    "    rownames(datout) <- as.character(seedv)\n",
    "    \n",
    "    for(h in 1:seedv_len) {\n",
    "        # shuffle dat\n",
    "        cur_seed <- seedv[h]\n",
    "        set.seed(cur_seed)\n",
    "        # It is expected that dat is testdat, which has 10K rcds\n",
    "        smp <- sample(rownames(dat), 4000, replace= FALSE)\n",
    "        df <- dat[smp,]\n",
    "    \n",
    "        preds <- predict(rfclf_best, newdata= df, type=\"response\")\n",
    "        ans <- get_confusion(preds, df[, \"Inland\", drop=FALSE])\n",
    "        \n",
    "        mat <- as.matrix(ans[[1]])\n",
    "        fscore <- round(as.numeric(ans[[2]]), 4)\n",
    "        acc <- round(sum(diag(mat))/floor(sum(mat)), 4)\n",
    "        type2 <- round((0.4 * acc + 0.6 * ans[[2]]), 4)\n",
    "        FN <- as.numeric(mat[2,1])\n",
    "        FP <- as.numeric(mat[1,2])\n",
    "        datout[as.character(cur_seed), 1:5] <- c(fscore,acc,type2,FN,FP)\n",
    "    }\n",
    "    return(datout)\n",
    "}\n"
   ]
  },
  {
   "cell_type": "code",
   "execution_count": 75,
   "metadata": {},
   "outputs": [
    {
     "data": {
      "text/html": [
       "'Start time: 2021-07-27 14:35:26'"
      ],
      "text/latex": [
       "'Start time: 2021-07-27 14:35:26'"
      ],
      "text/markdown": [
       "'Start time: 2021-07-27 14:35:26'"
      ],
      "text/plain": [
       "[1] \"Start time: 2021-07-27 14:35:26\""
      ]
     },
     "metadata": {},
     "output_type": "display_data"
    },
    {
     "data": {
      "text/plain": [
       "Time difference of 43.34 secs"
      ]
     },
     "metadata": {},
     "output_type": "display_data"
    }
   ],
   "source": [
    "# Get rfclf_best's scores on the testset data.  For each of\n",
    "# the 250 seeds, I sample 4K (no replacement) from the 10K\n",
    "# set of testdat records.\n",
    "\n",
    "set.seed(1821)\n",
    "seed_vector <- sample(1:9999, 250, replace=FALSE)\n",
    "\n",
    "start <- Sys.time()\n",
    "paste0(\"Start time: \", start)\n",
    "dat_result <- get_testdatScores_rf(seed_vector, testdat)\n",
    "stop <- Sys.time()\n",
    "round(stop - start, 2)\n",
    "# Time difference of 44 secs\n"
   ]
  },
  {
   "cell_type": "code",
   "execution_count": 76,
   "metadata": {},
   "outputs": [
    {
     "data": {
      "text/html": [
       "<style>\n",
       ".list-inline {list-style: none; margin:0; padding: 0}\n",
       ".list-inline>li {display: inline-block}\n",
       ".list-inline>li:not(:last-child)::after {content: \"\\00b7\"; padding: 0 .5ex}\n",
       "</style>\n",
       "<ol class=list-inline><li>250</li><li>5</li></ol>\n"
      ],
      "text/latex": [
       "\\begin{enumerate*}\n",
       "\\item 250\n",
       "\\item 5\n",
       "\\end{enumerate*}\n"
      ],
      "text/markdown": [
       "1. 250\n",
       "2. 5\n",
       "\n",
       "\n"
      ],
      "text/plain": [
       "[1] 250   5"
      ]
     },
     "metadata": {},
     "output_type": "display_data"
    },
    {
     "data": {
      "text/html": [
       "<table class=\"dataframe\">\n",
       "<caption>A data.frame: 6 × 5</caption>\n",
       "<thead>\n",
       "\t<tr><th></th><th scope=col>fscore</th><th scope=col>Acc</th><th scope=col>Type2</th><th scope=col>FN</th><th scope=col>FP</th></tr>\n",
       "\t<tr><th></th><th scope=col>&lt;dbl&gt;</th><th scope=col>&lt;dbl&gt;</th><th scope=col>&lt;dbl&gt;</th><th scope=col>&lt;dbl&gt;</th><th scope=col>&lt;dbl&gt;</th></tr>\n",
       "</thead>\n",
       "<tbody>\n",
       "\t<tr><th scope=row>5934</th><td>0.7144</td><td>0.8225</td><td>0.7576</td><td>383</td><td>327</td></tr>\n",
       "\t<tr><th scope=row>1953</th><td>0.7089</td><td>0.8198</td><td>0.7533</td><td>412</td><td>309</td></tr>\n",
       "\t<tr><th scope=row>7591</th><td>0.7083</td><td>0.8180</td><td>0.7522</td><td>397</td><td>331</td></tr>\n",
       "\t<tr><th scope=row>1038</th><td>0.7131</td><td>0.8238</td><td>0.7574</td><td>376</td><td>329</td></tr>\n",
       "\t<tr><th scope=row>49</th><td>0.7106</td><td>0.8168</td><td>0.7531</td><td>428</td><td>305</td></tr>\n",
       "\t<tr><th scope=row>3203</th><td>0.7212</td><td>0.8245</td><td>0.7625</td><td>415</td><td>287</td></tr>\n",
       "</tbody>\n",
       "</table>\n"
      ],
      "text/latex": [
       "A data.frame: 6 × 5\n",
       "\\begin{tabular}{r|lllll}\n",
       "  & fscore & Acc & Type2 & FN & FP\\\\\n",
       "  & <dbl> & <dbl> & <dbl> & <dbl> & <dbl>\\\\\n",
       "\\hline\n",
       "\t5934 & 0.7144 & 0.8225 & 0.7576 & 383 & 327\\\\\n",
       "\t1953 & 0.7089 & 0.8198 & 0.7533 & 412 & 309\\\\\n",
       "\t7591 & 0.7083 & 0.8180 & 0.7522 & 397 & 331\\\\\n",
       "\t1038 & 0.7131 & 0.8238 & 0.7574 & 376 & 329\\\\\n",
       "\t49 & 0.7106 & 0.8168 & 0.7531 & 428 & 305\\\\\n",
       "\t3203 & 0.7212 & 0.8245 & 0.7625 & 415 & 287\\\\\n",
       "\\end{tabular}\n"
      ],
      "text/markdown": [
       "\n",
       "A data.frame: 6 × 5\n",
       "\n",
       "| <!--/--> | fscore &lt;dbl&gt; | Acc &lt;dbl&gt; | Type2 &lt;dbl&gt; | FN &lt;dbl&gt; | FP &lt;dbl&gt; |\n",
       "|---|---|---|---|---|---|\n",
       "| 5934 | 0.7144 | 0.8225 | 0.7576 | 383 | 327 |\n",
       "| 1953 | 0.7089 | 0.8198 | 0.7533 | 412 | 309 |\n",
       "| 7591 | 0.7083 | 0.8180 | 0.7522 | 397 | 331 |\n",
       "| 1038 | 0.7131 | 0.8238 | 0.7574 | 376 | 329 |\n",
       "| 49 | 0.7106 | 0.8168 | 0.7531 | 428 | 305 |\n",
       "| 3203 | 0.7212 | 0.8245 | 0.7625 | 415 | 287 |\n",
       "\n"
      ],
      "text/plain": [
       "     fscore Acc    Type2  FN  FP \n",
       "5934 0.7144 0.8225 0.7576 383 327\n",
       "1953 0.7089 0.8198 0.7533 412 309\n",
       "7591 0.7083 0.8180 0.7522 397 331\n",
       "1038 0.7131 0.8238 0.7574 376 329\n",
       "49   0.7106 0.8168 0.7531 428 305\n",
       "3203 0.7212 0.8245 0.7625 415 287"
      ]
     },
     "metadata": {},
     "output_type": "display_data"
    }
   ],
   "source": [
    "dim(dat_result)\n",
    "head(dat_result)\n"
   ]
  },
  {
   "cell_type": "code",
   "execution_count": 77,
   "metadata": {},
   "outputs": [
    {
     "data": {
      "text/html": [
       "'fscore mean: 0.7156'"
      ],
      "text/latex": [
       "'fscore mean: 0.7156'"
      ],
      "text/markdown": [
       "'fscore mean: 0.7156'"
      ],
      "text/plain": [
       "[1] \"fscore mean: 0.7156\""
      ]
     },
     "metadata": {},
     "output_type": "display_data"
    },
    {
     "data": {
      "text/html": [
       "'fscore StdDev: 0.0075'"
      ],
      "text/latex": [
       "'fscore StdDev: 0.0075'"
      ],
      "text/markdown": [
       "'fscore StdDev: 0.0075'"
      ],
      "text/plain": [
       "[1] \"fscore StdDev: 0.0075\""
      ]
     },
     "metadata": {},
     "output_type": "display_data"
    },
    {
     "data": {
      "text/html": [
       "''"
      ],
      "text/latex": [
       "''"
      ],
      "text/markdown": [
       "''"
      ],
      "text/plain": [
       "[1] \"\""
      ]
     },
     "metadata": {},
     "output_type": "display_data"
    },
    {
     "data": {
      "text/plain": [
       "   Min. 1st Qu.  Median    Mean 3rd Qu.    Max. \n",
       "  0.692   0.711   0.715   0.716   0.721   0.738 "
      ]
     },
     "metadata": {},
     "output_type": "display_data"
    }
   ],
   "source": [
    "fscore_mean <- round(mean(dat_result$fscore), 4)\n",
    "fscore_sd <- round(sd(dat_result$fscore), 4)\n",
    "paste0(\"fscore mean: \", as.character(fscore_mean))\n",
    "# 0.7156\n",
    "paste0(\"fscore StdDev: \", as.character(fscore_sd))\n",
    "# 0.0075\n",
    "\"\"\n",
    "summary(dat_result$fscore)\n"
   ]
  },
  {
   "cell_type": "code",
   "execution_count": 78,
   "metadata": {},
   "outputs": [
    {
     "data": {
      "text/html": [
       "'accuracy mean: 0.8228'"
      ],
      "text/latex": [
       "'accuracy mean: 0.8228'"
      ],
      "text/markdown": [
       "'accuracy mean: 0.8228'"
      ],
      "text/plain": [
       "[1] \"accuracy mean: 0.8228\""
      ]
     },
     "metadata": {},
     "output_type": "display_data"
    },
    {
     "data": {
      "text/html": [
       "'accuracy StdDev: 0.0045'"
      ],
      "text/latex": [
       "'accuracy StdDev: 0.0045'"
      ],
      "text/markdown": [
       "'accuracy StdDev: 0.0045'"
      ],
      "text/plain": [
       "[1] \"accuracy StdDev: 0.0045\""
      ]
     },
     "metadata": {},
     "output_type": "display_data"
    },
    {
     "data": {
      "text/html": [
       "''"
      ],
      "text/latex": [
       "''"
      ],
      "text/markdown": [
       "''"
      ],
      "text/plain": [
       "[1] \"\""
      ]
     },
     "metadata": {},
     "output_type": "display_data"
    },
    {
     "data": {
      "text/plain": [
       "   Min. 1st Qu.  Median    Mean 3rd Qu.    Max. \n",
       "  0.812   0.820   0.823   0.823   0.826   0.835 "
      ]
     },
     "metadata": {},
     "output_type": "display_data"
    }
   ],
   "source": [
    "Acc_mean <- round(mean(dat_result$Acc), 4)\n",
    "Acc_sd <- round(sd(dat_result$Acc), 4)\n",
    "paste0(\"accuracy mean: \", as.character(Acc_mean))\n",
    "# 0.8228\n",
    "paste0(\"accuracy StdDev: \", as.character(Acc_sd))\n",
    "# 0.0045\n",
    "\"\"\n",
    "summary(dat_result$Acc)\n"
   ]
  },
  {
   "cell_type": "code",
   "execution_count": 79,
   "metadata": {},
   "outputs": [
    {
     "data": {
      "text/html": [
       "'Type2 mean: 0.7585'"
      ],
      "text/latex": [
       "'Type2 mean: 0.7585'"
      ],
      "text/markdown": [
       "'Type2 mean: 0.7585'"
      ],
      "text/plain": [
       "[1] \"Type2 mean: 0.7585\""
      ]
     },
     "metadata": {},
     "output_type": "display_data"
    },
    {
     "data": {
      "text/html": [
       "'Type2 StdDev: 0.0061'"
      ],
      "text/latex": [
       "'Type2 StdDev: 0.0061'"
      ],
      "text/markdown": [
       "'Type2 StdDev: 0.0061'"
      ],
      "text/plain": [
       "[1] \"Type2 StdDev: 0.0061\""
      ]
     },
     "metadata": {},
     "output_type": "display_data"
    },
    {
     "data": {
      "text/html": [
       "''"
      ],
      "text/latex": [
       "''"
      ],
      "text/markdown": [
       "''"
      ],
      "text/plain": [
       "[1] \"\""
      ]
     },
     "metadata": {},
     "output_type": "display_data"
    },
    {
     "data": {
      "text/plain": [
       "   Min. 1st Qu.  Median    Mean 3rd Qu.    Max. \n",
       "  0.740   0.755   0.758   0.758   0.762   0.776 "
      ]
     },
     "metadata": {},
     "output_type": "display_data"
    }
   ],
   "source": [
    "Type2_mean <- round(mean(dat_result$Type2), 4)\n",
    "Type2_sd <- round(sd(dat_result$Type2), 4)\n",
    "paste0(\"Type2 mean: \", as.character(Type2_mean))\n",
    "# 0.7585\n",
    "paste0(\"Type2 StdDev: \", as.character(Type2_sd))\n",
    "# 0.0061\n",
    "\"\"\n",
    "summary(dat_result$Type2)\n"
   ]
  },
  {
   "cell_type": "code",
   "execution_count": 80,
   "metadata": {},
   "outputs": [
    {
     "data": {
      "text/html": [
       "'FN mean: 403.8'"
      ],
      "text/latex": [
       "'FN mean: 403.8'"
      ],
      "text/markdown": [
       "'FN mean: 403.8'"
      ],
      "text/plain": [
       "[1] \"FN mean: 403.8\""
      ]
     },
     "metadata": {},
     "output_type": "display_data"
    },
    {
     "data": {
      "text/html": [
       "'FN StdDev: 14.48'"
      ],
      "text/latex": [
       "'FN StdDev: 14.48'"
      ],
      "text/markdown": [
       "'FN StdDev: 14.48'"
      ],
      "text/plain": [
       "[1] \"FN StdDev: 14.48\""
      ]
     },
     "metadata": {},
     "output_type": "display_data"
    },
    {
     "data": {
      "text/html": [
       "''"
      ],
      "text/latex": [
       "''"
      ],
      "text/markdown": [
       "''"
      ],
      "text/plain": [
       "[1] \"\""
      ]
     },
     "metadata": {},
     "output_type": "display_data"
    },
    {
     "data": {
      "text/plain": [
       "   Min. 1st Qu.  Median    Mean 3rd Qu.    Max. \n",
       "    362     395     404     404     414     448 "
      ]
     },
     "metadata": {},
     "output_type": "display_data"
    }
   ],
   "source": [
    "FN_mean <- round(mean(dat_result$FN), 2)\n",
    "FN_sd <- round(sd(dat_result$FN), 2)\n",
    "paste0(\"FN mean: \", as.character(FN_mean))\n",
    "# 403.8\n",
    "paste0(\"FN StdDev: \", as.character(FN_sd))\n",
    "# 14.48\n",
    "\"\"\n",
    "summary(dat_result$FN)\n"
   ]
  },
  {
   "cell_type": "code",
   "execution_count": 81,
   "metadata": {},
   "outputs": [
    {
     "data": {
      "text/html": [
       "'FP mean: 304.86'"
      ],
      "text/latex": [
       "'FP mean: 304.86'"
      ],
      "text/markdown": [
       "'FP mean: 304.86'"
      ],
      "text/plain": [
       "[1] \"FP mean: 304.86\""
      ]
     },
     "metadata": {},
     "output_type": "display_data"
    },
    {
     "data": {
      "text/html": [
       "'FP StdDev: 12.4'"
      ],
      "text/latex": [
       "'FP StdDev: 12.4'"
      ],
      "text/markdown": [
       "'FP StdDev: 12.4'"
      ],
      "text/plain": [
       "[1] \"FP StdDev: 12.4\""
      ]
     },
     "metadata": {},
     "output_type": "display_data"
    },
    {
     "data": {
      "text/html": [
       "''"
      ],
      "text/latex": [
       "''"
      ],
      "text/markdown": [
       "''"
      ],
      "text/plain": [
       "[1] \"\""
      ]
     },
     "metadata": {},
     "output_type": "display_data"
    },
    {
     "data": {
      "text/plain": [
       "   Min. 1st Qu.  Median    Mean 3rd Qu.    Max. \n",
       "    269     296     305     305     313     336 "
      ]
     },
     "metadata": {},
     "output_type": "display_data"
    }
   ],
   "source": [
    "FP_mean <- round(mean(dat_result$FP), 2)\n",
    "FP_sd <- round(sd(dat_result$FP), 2)\n",
    "paste0(\"FP mean: \", as.character(FP_mean))\n",
    "# 304.86\n",
    "paste0(\"FP StdDev: \", as.character(FP_sd))\n",
    "#   12.4\n",
    "\"\"\n",
    "summary(dat_result$FP)\n"
   ]
  },
  {
   "cell_type": "markdown",
   "metadata": {},
   "source": [
    "## Find best gradient boosting model"
   ]
  },
  {
   "cell_type": "code",
   "execution_count": 72,
   "metadata": {},
   "outputs": [
    {
     "data": {
      "text/html": [
       "<table class=\"dataframe\">\n",
       "<caption>A data.frame: 2 × 2</caption>\n",
       "<thead>\n",
       "\t<tr><th></th><th scope=col>var</th><th scope=col>rel.inf</th></tr>\n",
       "\t<tr><th></th><th scope=col>&lt;chr&gt;</th><th scope=col>&lt;dbl&gt;</th></tr>\n",
       "</thead>\n",
       "<tbody>\n",
       "\t<tr><th scope=row>median_house_value</th><td>median_house_value</td><td>79.262</td></tr>\n",
       "\t<tr><th scope=row>housing_median_age</th><td>housing_median_age</td><td>20.738</td></tr>\n",
       "</tbody>\n",
       "</table>\n"
      ],
      "text/latex": [
       "A data.frame: 2 × 2\n",
       "\\begin{tabular}{r|ll}\n",
       "  & var & rel.inf\\\\\n",
       "  & <chr> & <dbl>\\\\\n",
       "\\hline\n",
       "\tmedian\\_house\\_value & median\\_house\\_value & 79.262\\\\\n",
       "\thousing\\_median\\_age & housing\\_median\\_age & 20.738\\\\\n",
       "\\end{tabular}\n"
      ],
      "text/markdown": [
       "\n",
       "A data.frame: 2 × 2\n",
       "\n",
       "| <!--/--> | var &lt;chr&gt; | rel.inf &lt;dbl&gt; |\n",
       "|---|---|---|\n",
       "| median_house_value | median_house_value | 79.262 |\n",
       "| housing_median_age | housing_median_age | 20.738 |\n",
       "\n"
      ],
      "text/plain": [
       "                   var                rel.inf\n",
       "median_house_value median_house_value 79.262 \n",
       "housing_median_age housing_median_age 20.738 "
      ]
     },
     "metadata": {},
     "output_type": "display_data"
    },
    {
     "data": {
      "image/png": "[encoded data removed]",
      "text/plain": [
       "plot without title"
      ]
     },
     "metadata": {
      "image/png": {
       "height": 240,
       "width": 360
      }
     },
     "output_type": "display_data"
    }
   ],
   "source": [
    "options(repr.plot.width= 6, repr.plot.height= 4)\n",
    "\n",
    "set.seed(123)\n",
    "gbmod <- gbm(Inland ~ ., data= traindat, n.trees= 1000,\n",
    "                  distribution= \"bernoulli\", shrinkage= 0.1)\n",
    "summary(gbmod)\n"
   ]
  },
  {
   "cell_type": "code",
   "execution_count": 73,
   "metadata": {},
   "outputs": [
    {
     "name": "stdout",
     "output_type": "stream",
     "text": [
      "     0    1 class.error\n",
      "0 6748  563      0.0770\n",
      "1 1080 2212      0.3281\n"
     ]
    },
    {
     "data": {
      "text/html": [
       "''"
      ],
      "text/latex": [
       "''"
      ],
      "text/markdown": [
       "''"
      ],
      "text/plain": [
       "[1] \"\""
      ]
     },
     "metadata": {},
     "output_type": "display_data"
    },
    {
     "name": "stdout",
     "output_type": "stream",
     "text": [
      "[1] \"f-score for gbmod: 0.7292\"\n"
     ]
    }
   ],
   "source": [
    "preds <- suppressMessages(predict(gbmod, newdata= traindat, type=\"response\"))\n",
    "preds_transf <- preds\n",
    "names(preds_transf) <- rownames(traindat)\n",
    "preds_transf[which(preds_transf >= 0.5)] <- 1\n",
    "preds_transf[which(preds_transf < 0.5)] <- 0\n",
    "preds_transf <- as.factor(preds_transf)\n",
    "ans <- get_confusion(preds_transf, traindat[, \"Inland\", drop=FALSE])\n",
    "print(ans$matrix)\n",
    "''\n",
    "print(paste(\"f-score for gbmod: \", as.character(ans[[2]]), sep=\"\"))\n",
    "# 0.7292\n",
    "\n",
    "# Accuracy is 0.8450\n",
    "\n",
    "# Type2 is 0.7755\n"
   ]
  },
  {
   "cell_type": "markdown",
   "metadata": {},
   "source": [
    "### Tune the gradient boosting model"
   ]
  },
  {
   "cell_type": "code",
   "execution_count": 83,
   "metadata": {},
   "outputs": [],
   "source": [
    "# This function is called from get_cvScore_gb.\n",
    "\n",
    "get_acc_gb <- function(traindat, valdat, ntrees, shrinkage) {\n",
    "        \n",
    "    gbmod <- gbm(Inland ~ ., data= traindat, n.trees=ntrees,\n",
    "                  distribution= \"bernoulli\", shrinkage=shrinkage)\n",
    "        \n",
    "    preds <- suppressMessages(predict(gbmod, newdata= valdat, type=\"response\"))\n",
    "    names(preds) <- rownames(valdat)\n",
    "    preds[which(preds >= 0.5)] <- 1\n",
    "    preds[which(preds < 0.5)] <- 0\n",
    "    preds <- as.factor(preds)\n",
    "    ans <- get_confusion(preds, valdat[, \"Inland\", drop=FALSE])\n",
    "\n",
    "    mat <- as.matrix(ans[[1]])\n",
    "    mat[is.na(mat)] <- 0\n",
    "    percent_correct <- round(sum(diag(mat))/floor(sum(mat)), 4)\n",
    "    # result <- round((0.4 * percent_correct + 0.6 * ans[[2]]), 4)\n",
    "    return(percent_correct)\n",
    "}\n"
   ]
  },
  {
   "cell_type": "code",
   "execution_count": 85,
   "metadata": {},
   "outputs": [],
   "source": [
    "# Function to obtain a cross-validation score, averaging the\n",
    "# accuracy scores of the folds.  This function is called from\n",
    "# avg_seedScores_gb.\n",
    "\n",
    "get_cvScore_gb <- function(seed, dat, ntrees, shrinkage,\n",
    "                           folds= 5) {\n",
    "    \n",
    "    # divide dat by the number of folds \n",
    "    segment_size <- round(dim(dat)[1]/folds)\n",
    "    diff <- nrow(dat) - folds * segment_size\n",
    "    last_seg_size <- segment_size + diff\n",
    "    segmentsv <- c(rep(segment_size, (folds - 1)), last_seg_size)\n",
    "    stopifnot(sum(segmentsv) == nrow(dat))\n",
    "    \n",
    "    # shuffle dat\n",
    "    set.seed(seed)\n",
    "    smp <- sample(rownames(dat), nrow(dat), replace= FALSE)\n",
    "    dat <- dat[smp,]\n",
    "    \n",
    "    # split the data into the folds\n",
    "    row_list <- vector(\"list\", length= folds)\n",
    "    names(row_list) <- as.character(1:folds)\n",
    "    startpt <- 1\n",
    "    for(i in 1:folds) {\n",
    "        endpt <- startpt + segmentsv[i] - 1\n",
    "        stopifnot(endpt <= dim(dat)[1])\n",
    "        row_list[[i]] <- rownames(dat)[startpt:endpt]\n",
    "        startpt <- endpt + 1\n",
    "    }\n",
    "    \n",
    "    train_list <- test_list <- vector(\"list\", length= folds)\n",
    "    for(j in 1:folds) {\n",
    "        testdat <- dat[row_list[[j]],]\n",
    "        traindat <- dat[which(!(rownames(dat) %in% rownames(testdat))),]\n",
    "        stopifnot((length(rownames(traindat)) + length(rownames(testdat))) == dim(dat)[1])\n",
    "        test_list[[j]] <- testdat\n",
    "        train_list[[j]] <- traindat\n",
    "    }\n",
    "\n",
    "    scores <- mcmapply(get_acc_gb, train_list, test_list,\n",
    "                       MoreArgs= list(ntrees= ntrees, shrinkage=shrinkage),\n",
    "                       SIMPLIFY= TRUE, mc.cores=5)\n",
    "    \n",
    "    # The average is of Type2 scores.\n",
    "    return(round(mean(scores), 5))\n",
    "}\n"
   ]
  },
  {
   "cell_type": "code",
   "execution_count": 86,
   "metadata": {},
   "outputs": [],
   "source": [
    "# Since the seed value can have a big effect on the results,\n",
    "# I take the average over a number of seeds.  This ftn is\n",
    "# called from gridSearch03.\n",
    "\n",
    "avg_seedScores_gb <- function(seed_vector, traindat, n_trees,  \n",
    "                              shrinkage, folds= 5) {\n",
    "    \n",
    "    seed_len <- length(seed_vector)\n",
    "    outv <- rep(NA, seed_len)\n",
    "    for(i in 1:seed_len) {\n",
    "        seed <- seed_vector[i]\n",
    "        outv[i] <- get_cvScore_gb(seed, traindat, n_trees,\n",
    "                                  shrinkage, folds=folds)\n",
    "    }\n",
    "    return(round(mean(outv), 5))\n",
    "}\n"
   ]
  },
  {
   "cell_type": "code",
   "execution_count": 87,
   "metadata": {},
   "outputs": [],
   "source": [
    "# This grid search is specific to finding the best gradient boosting\n",
    "# classifier for traindat.\n",
    "\n",
    "gridSearch03 <- function(seed_vector, traindat, ntree_vector, \n",
    "                         shrinkagev, folds=5) {\n",
    "    \n",
    "    tree_len <- length(ntree_vector)\n",
    "    shrink_len <- length(shrinkagev)\n",
    "    # We need to capture the gridSearch parameters as well as \n",
    "    # the cross-val  scores.\n",
    "    datout <- rep(NA, 2 * tree_len * shrink_len)\n",
    "    dim(datout) <- c((tree_len * shrink_len ), 2)\n",
    "    datout <- as.data.frame(datout)\n",
    "    colnames(datout) <- c(\"params\", \"Acc\")\n",
    "    datout$params <- \"\"\n",
    "    \n",
    "    index <- 0\n",
    "    for(i in 1:tree_len) {\n",
    "        n_trees <- ntree_vector[i]\n",
    "        for(j in 1:shrink_len) {\n",
    "            shrinkage <- shrinkagev[j]\n",
    "            index <- index + 1\n",
    "            param_string <- paste(as.character(n_trees), \n",
    "                                  as.character(shrinkage), sep= \"--\")\n",
    "                datout$params[index] <- param_string\n",
    "                datout$Acc[index] <- avg_seedScores_gb(seed_vector, traindat, n_trees, \n",
    "                                                         folds=folds, shrinkage=shrinkage)\n",
    "        }\n",
    "    }\n",
    "    return(datout)\n",
    "}\n"
   ]
  },
  {
   "cell_type": "code",
   "execution_count": 88,
   "metadata": {},
   "outputs": [
    {
     "data": {
      "text/html": [
       "'Start time: 2021-07-27 14:43:23'"
      ],
      "text/latex": [
       "'Start time: 2021-07-27 14:43:23'"
      ],
      "text/markdown": [
       "'Start time: 2021-07-27 14:43:23'"
      ],
      "text/plain": [
       "[1] \"Start time: 2021-07-27 14:43:23\""
      ]
     },
     "metadata": {},
     "output_type": "display_data"
    },
    {
     "data": {
      "text/plain": [
       "Time difference of 3.94 mins"
      ]
     },
     "metadata": {},
     "output_type": "display_data"
    },
    {
     "data": {
      "text/html": [
       "'900--0.05'"
      ],
      "text/latex": [
       "'900--0.05'"
      ],
      "text/markdown": [
       "'900--0.05'"
      ],
      "text/plain": [
       "[1] \"900--0.05\""
      ]
     },
     "metadata": {},
     "output_type": "display_data"
    },
    {
     "data": {
      "text/html": [
       "0.84119"
      ],
      "text/latex": [
       "0.84119"
      ],
      "text/markdown": [
       "0.84119"
      ],
      "text/plain": [
       "[1] 0.84119"
      ]
     },
     "metadata": {},
     "output_type": "display_data"
    }
   ],
   "source": [
    "# Run grid search to get better parameters for the \n",
    "# gradient boosting model.  Test with 21 seeds.  For\n",
    "# each seed, an average is taken over 5 folds.\n",
    "\n",
    "set.seed(7543)\n",
    "seed_smp <- sample(1:9999, 21, replace=FALSE)\n",
    "tree_vector <- c(500, 750, 900)\n",
    "shrinkage_v <- c(0.05, 0.08, 0.1, 0.15, 0.2)\n",
    "\n",
    "\n",
    "start <- Sys.time()\n",
    "paste(\"Start time: \", start, sep=\"\")\n",
    "ans <- gridSearch03(seed_smp, traindat, tree_vector, shrinkage_v)\n",
    "stop <- Sys.time()\n",
    "round(stop - start, 2)\n",
    "# Time difference of 4 mins\n",
    "\n",
    "(best_params <- ans[which(ans$Acc == max(ans$Acc)),]$params)\n",
    "# '900--0.05'\n",
    "\n",
    "(best_rf_Acc <- ans[which(ans$Acc == max(ans$Acc)),]$Acc)\n",
    "# 0.8412\n"
   ]
  },
  {
   "cell_type": "code",
   "execution_count": 89,
   "metadata": {},
   "outputs": [
    {
     "data": {
      "text/html": [
       "'Start time: 2021-07-27 14:50:28'"
      ],
      "text/latex": [
       "'Start time: 2021-07-27 14:50:28'"
      ],
      "text/markdown": [
       "'Start time: 2021-07-27 14:50:28'"
      ],
      "text/plain": [
       "[1] \"Start time: 2021-07-27 14:50:28\""
      ]
     },
     "metadata": {},
     "output_type": "display_data"
    },
    {
     "data": {
      "text/plain": [
       "Time difference of 3.44 mins"
      ]
     },
     "metadata": {},
     "output_type": "display_data"
    },
    {
     "data": {
      "text/html": [
       "'1100--0.03'"
      ],
      "text/latex": [
       "'1100--0.03'"
      ],
      "text/markdown": [
       "'1100--0.03'"
      ],
      "text/plain": [
       "[1] \"1100--0.03\""
      ]
     },
     "metadata": {},
     "output_type": "display_data"
    },
    {
     "data": {
      "text/html": [
       "0.84094"
      ],
      "text/latex": [
       "0.84094"
      ],
      "text/markdown": [
       "0.84094"
      ],
      "text/plain": [
       "[1] 0.84094"
      ]
     },
     "metadata": {},
     "output_type": "display_data"
    }
   ],
   "source": [
    "# Refine the search.\n",
    "\n",
    "set.seed(7541)\n",
    "seed_smp <- sample(1:9999, 21, replace=FALSE)\n",
    "tree_vector <- c(900, 1100, 1300)\n",
    "shrinkage_v <- c(0.01, 0.03, 0.05)\n",
    "\n",
    "\n",
    "start <- Sys.time()\n",
    "paste(\"Start time: \", start, sep=\"\")\n",
    "ans <- gridSearch03(seed_smp, traindat, tree_vector, shrinkage_v)\n",
    "stop <- Sys.time()\n",
    "round(stop - start, 2)\n",
    "# Time difference of 3.5 mins\n",
    "\n",
    "(best_params <- ans[which(ans$Acc == max(ans$Acc)),]$params)\n",
    "# '1100--0.03'\n",
    "\n",
    "(best_rf_Acc <- ans[which(ans$Acc == max(ans$Acc)),]$Acc)\n",
    "# 0.8409\n"
   ]
  },
  {
   "cell_type": "code",
   "execution_count": 90,
   "metadata": {},
   "outputs": [
    {
     "data": {
      "text/html": [
       "<table class=\"dataframe\">\n",
       "<caption>A data.frame: 9 × 2</caption>\n",
       "<thead>\n",
       "\t<tr><th scope=col>params</th><th scope=col>Acc</th></tr>\n",
       "\t<tr><th scope=col>&lt;chr&gt;</th><th scope=col>&lt;dbl&gt;</th></tr>\n",
       "</thead>\n",
       "<tbody>\n",
       "\t<tr><td>900--0.01 </td><td>0.83980</td></tr>\n",
       "\t<tr><td>900--0.03 </td><td>0.84092</td></tr>\n",
       "\t<tr><td>900--0.05 </td><td>0.84092</td></tr>\n",
       "\t<tr><td>1100--0.01</td><td>0.84021</td></tr>\n",
       "\t<tr><td>1100--0.03</td><td>0.84094</td></tr>\n",
       "\t<tr><td>1100--0.05</td><td>0.84090</td></tr>\n",
       "\t<tr><td>1300--0.01</td><td>0.84037</td></tr>\n",
       "\t<tr><td>1300--0.03</td><td>0.84086</td></tr>\n",
       "\t<tr><td>1300--0.05</td><td>0.84082</td></tr>\n",
       "</tbody>\n",
       "</table>\n"
      ],
      "text/latex": [
       "A data.frame: 9 × 2\n",
       "\\begin{tabular}{ll}\n",
       " params & Acc\\\\\n",
       " <chr> & <dbl>\\\\\n",
       "\\hline\n",
       "\t 900--0.01  & 0.83980\\\\\n",
       "\t 900--0.03  & 0.84092\\\\\n",
       "\t 900--0.05  & 0.84092\\\\\n",
       "\t 1100--0.01 & 0.84021\\\\\n",
       "\t 1100--0.03 & 0.84094\\\\\n",
       "\t 1100--0.05 & 0.84090\\\\\n",
       "\t 1300--0.01 & 0.84037\\\\\n",
       "\t 1300--0.03 & 0.84086\\\\\n",
       "\t 1300--0.05 & 0.84082\\\\\n",
       "\\end{tabular}\n"
      ],
      "text/markdown": [
       "\n",
       "A data.frame: 9 × 2\n",
       "\n",
       "| params &lt;chr&gt; | Acc &lt;dbl&gt; |\n",
       "|---|---|\n",
       "| 900--0.01  | 0.83980 |\n",
       "| 900--0.03  | 0.84092 |\n",
       "| 900--0.05  | 0.84092 |\n",
       "| 1100--0.01 | 0.84021 |\n",
       "| 1100--0.03 | 0.84094 |\n",
       "| 1100--0.05 | 0.84090 |\n",
       "| 1300--0.01 | 0.84037 |\n",
       "| 1300--0.03 | 0.84086 |\n",
       "| 1300--0.05 | 0.84082 |\n",
       "\n"
      ],
      "text/plain": [
       "  params     Acc    \n",
       "1 900--0.01  0.83980\n",
       "2 900--0.03  0.84092\n",
       "3 900--0.05  0.84092\n",
       "4 1100--0.01 0.84021\n",
       "5 1100--0.03 0.84094\n",
       "6 1100--0.05 0.84090\n",
       "7 1300--0.01 0.84037\n",
       "8 1300--0.03 0.84086\n",
       "9 1300--0.05 0.84082"
      ]
     },
     "metadata": {},
     "output_type": "display_data"
    }
   ],
   "source": [
    "# We might as well choose 900--0.05 since\n",
    "# has a nearly equal score.\n",
    "\n",
    "ans\n"
   ]
  },
  {
   "cell_type": "markdown",
   "metadata": {},
   "source": [
    "### Get scores for gbclf_best on traindat"
   ]
  },
  {
   "cell_type": "code",
   "execution_count": 94,
   "metadata": {},
   "outputs": [
    {
     "data": {
      "text/plain": [
       "Time difference of 5.01 mins"
      ]
     },
     "metadata": {},
     "output_type": "display_data"
    }
   ],
   "source": [
    "# Get stable scores for the best gradient boosting model. \n",
    "# I will refer to this model as gbclf_best.  Note that \n",
    "# 300 seeds are being used.\n",
    "\n",
    "set.seed(1433)\n",
    "seed_smp <- sample(1:9999, 300, replace=FALSE)\n",
    "\n",
    "datout <- rep(NA, 6 * length(seed_smp))\n",
    "dim(datout) <- c(length(seed_smp), 6)\n",
    "datout <- as.data.frame(datout)\n",
    "colnames(datout) <- c(\"seed\",\"fscore\",\"Acc\",\"Type2\", \"FN\",\"FP\")\n",
    "datout$seed <- seed_smp\n",
    "\n",
    "start <- Sys.time()\n",
    "for(i in 1:length(seed_smp)) {\n",
    "    \n",
    "    set.seed(seed_smp[i])\n",
    "    gbmod <- gbm(Inland ~ ., data= traindat, n.trees=900,\n",
    "                  distribution= \"bernoulli\", shrinkage=0.05)\n",
    "        \n",
    "    preds <- suppressMessages(predict(gbmod, newdata= traindat, type=\"response\"))\n",
    "    names(preds) <- rownames(traindat)\n",
    "    preds[which(preds >= 0.5)] <- 1\n",
    "    preds[which(preds < 0.5)] <- 0\n",
    "    preds <- as.factor(preds)\n",
    "    ans <- get_confusion(preds, traindat[, \"Inland\", drop=FALSE])\n",
    "        \n",
    "    mat <- as.matrix(ans[[1]])\n",
    "    percent_correct <- sum(diag(mat))/floor(sum(mat))\n",
    "    datout[i, c(\"Acc\")] <- acc <- round(percent_correct, 4)\n",
    "    datout[i, c(\"fscore\")] <- fscore <- round(ans[[2]], 4)\n",
    "    datout[i, c(\"Type2\")] <- round(0.4*acc + 0.6*fscore, 4)\n",
    "    datout[i, c(\"FN\")] <- as.numeric(mat[2,1])\n",
    "    datout[i, c(\"FP\")] <- as.numeric(mat[1,2])\n",
    "}\n",
    "stop <- Sys.time()\n",
    "round(stop - start, 2)\n",
    "# Time difference of 5 mins\n"
   ]
  },
  {
   "cell_type": "code",
   "execution_count": 95,
   "metadata": {},
   "outputs": [
    {
     "data": {
      "image/png": "[encoded data removed]",
      "text/plain": [
       "Plot with title “Distribution of f-scores for gbclf_best on traindat”"
      ]
     },
     "metadata": {
      "image/png": {
       "height": 360,
       "width": 480
      }
     },
     "output_type": "display_data"
    }
   ],
   "source": [
    "options(repr.plot.width= 8, repr.plot.height= 6)\n",
    "hist(datout$fscore, breaks=12, xlab=\"f-score\",\n",
    "     main=\"Distribution of f-scores for gbclf_best on traindat\")\n"
   ]
  },
  {
   "cell_type": "code",
   "execution_count": 96,
   "metadata": {},
   "outputs": [
    {
     "data": {
      "text/html": [
       "<style>\n",
       ".list-inline {list-style: none; margin:0; padding: 0}\n",
       ".list-inline>li {display: inline-block}\n",
       ".list-inline>li:not(:last-child)::after {content: \"\\00b7\"; padding: 0 .5ex}\n",
       "</style>\n",
       "<ol class=list-inline><li>0.7285</li><li>0.8444</li><li>1078.69</li><li>570.66</li></ol>\n"
      ],
      "text/latex": [
       "\\begin{enumerate*}\n",
       "\\item 0.7285\n",
       "\\item 0.8444\n",
       "\\item 1078.69\n",
       "\\item 570.66\n",
       "\\end{enumerate*}\n"
      ],
      "text/markdown": [
       "1. 0.7285\n",
       "2. 0.8444\n",
       "3. 1078.69\n",
       "4. 570.66\n",
       "\n",
       "\n"
      ],
      "text/plain": [
       "[1]    0.7285    0.8444 1078.6900  570.6600"
      ]
     },
     "metadata": {},
     "output_type": "display_data"
    }
   ],
   "source": [
    "# Get summaries for gbclf_best.\n",
    "\n",
    "fn_avg <- mean(datout$FN)\n",
    "fp_avg <- mean(datout$FP)\n",
    "\n",
    "c(round(mean(datout$fscore), 4), round(mean(datout$Acc), 4),\n",
    "  round(fn_avg, 2), round(fp_avg, 2))\n",
    "# f-score:   0.7285   \n",
    "# accuracy:  0.8444   \n",
    "# false negatives: 1079   \n",
    "# false positives: 571\n",
    "\n",
    "# Type2: 0.7749\n"
   ]
  },
  {
   "cell_type": "code",
   "execution_count": 97,
   "metadata": {},
   "outputs": [
    {
     "data": {
      "text/html": [
       "0.7749"
      ],
      "text/latex": [
       "0.7749"
      ],
      "text/markdown": [
       "0.7749"
      ],
      "text/plain": [
       "[1] 0.7749"
      ]
     },
     "metadata": {},
     "output_type": "display_data"
    }
   ],
   "source": [
    "round(mean(datout$Type2), 4)\n",
    "# 0.7749\n"
   ]
  },
  {
   "cell_type": "code",
   "execution_count": 98,
   "metadata": {},
   "outputs": [
    {
     "data": {
      "image/png": "[encoded data removed]",
      "text/plain": [
       "Plot with title “Distribution of accuracy scores for gbclf_best on traindat”"
      ]
     },
     "metadata": {
      "image/png": {
       "height": 360,
       "width": 480
      }
     },
     "output_type": "display_data"
    }
   ],
   "source": [
    "options(repr.plot.width= 8, repr.plot.height= 6)\n",
    "hist(datout$Acc, breaks=16, xlab=\"accuracy\",\n",
    "     main=\"Distribution of accuracy scores for gbclf_best on traindat\")\n"
   ]
  },
  {
   "cell_type": "code",
   "execution_count": 99,
   "metadata": {},
   "outputs": [
    {
     "data": {
      "text/html": [
       "79"
      ],
      "text/latex": [
       "79"
      ],
      "text/markdown": [
       "79"
      ],
      "text/plain": [
       "[1] 79"
      ]
     },
     "metadata": {},
     "output_type": "display_data"
    },
    {
     "data": {
      "text/html": [
       "<style>\n",
       ".list-inline {list-style: none; margin:0; padding: 0}\n",
       ".list-inline>li {display: inline-block}\n",
       ".list-inline>li:not(:last-child)::after {content: \"\\00b7\"; padding: 0 .5ex}\n",
       "</style>\n",
       "<ol class=list-inline><li>9728</li><li>3837</li><li>2551</li><li>1465</li><li>6565</li><li>7097</li></ol>\n"
      ],
      "text/latex": [
       "\\begin{enumerate*}\n",
       "\\item 9728\n",
       "\\item 3837\n",
       "\\item 2551\n",
       "\\item 1465\n",
       "\\item 6565\n",
       "\\item 7097\n",
       "\\end{enumerate*}\n"
      ],
      "text/markdown": [
       "1. 9728\n",
       "2. 3837\n",
       "3. 2551\n",
       "4. 1465\n",
       "5. 6565\n",
       "6. 7097\n",
       "\n",
       "\n"
      ],
      "text/plain": [
       "[1] 9728 3837 2551 1465 6565 7097"
      ]
     },
     "metadata": {},
     "output_type": "display_data"
    }
   ],
   "source": [
    "# Identify seeds with an accuracy score between 0.8442 \n",
    "# and 0.8447.  When constructing gbclf_best, I will\n",
    "# use a seed which has an accuracy in the center of\n",
    "# the distribution of accuracy scores.  (It may be that\n",
    "# gbclf_best will generalize better to the test data if\n",
    "# I choose a seed for it that is at the midpoint of the\n",
    "# accuracy distribution.)\n",
    "\n",
    "gb_candidate_seeds <- datout[which((datout$Acc > 0.8442) & (datout$Acc < 0.8447)),]$seed\n",
    "length(gb_candidate_seeds)\n",
    "#  79\n",
    "head(gb_candidate_seeds)\n",
    "#  9728   3837   2551   1465   6565   7097 \n"
   ]
  },
  {
   "cell_type": "code",
   "execution_count": 100,
   "metadata": {},
   "outputs": [
    {
     "data": {
      "image/png": "[encoded data removed]",
      "text/plain": [
       "Plot with title “Distribution of Type2 scores for gbclf_best on traindat”"
      ]
     },
     "metadata": {
      "image/png": {
       "height": 360,
       "width": 480
      }
     },
     "output_type": "display_data"
    }
   ],
   "source": [
    "options(repr.plot.width= 8, repr.plot.height= 6)\n",
    "hist(datout$Type2, breaks=14, xlab=\"Type2 score\",\n",
    "     main=\"Distribution of Type2 scores for gbclf_best on traindat\")\n"
   ]
  },
  {
   "cell_type": "code",
   "execution_count": 102,
   "metadata": {},
   "outputs": [
    {
     "data": {
      "text/html": [
       "<table class=\"dataframe\">\n",
       "<caption>A data.frame: 2 × 2</caption>\n",
       "<thead>\n",
       "\t<tr><th></th><th scope=col>var</th><th scope=col>rel.inf</th></tr>\n",
       "\t<tr><th></th><th scope=col>&lt;chr&gt;</th><th scope=col>&lt;dbl&gt;</th></tr>\n",
       "</thead>\n",
       "<tbody>\n",
       "\t<tr><th scope=row>median_house_value</th><td>median_house_value</td><td>82.489</td></tr>\n",
       "\t<tr><th scope=row>housing_median_age</th><td>housing_median_age</td><td>17.511</td></tr>\n",
       "</tbody>\n",
       "</table>\n"
      ],
      "text/latex": [
       "A data.frame: 2 × 2\n",
       "\\begin{tabular}{r|ll}\n",
       "  & var & rel.inf\\\\\n",
       "  & <chr> & <dbl>\\\\\n",
       "\\hline\n",
       "\tmedian\\_house\\_value & median\\_house\\_value & 82.489\\\\\n",
       "\thousing\\_median\\_age & housing\\_median\\_age & 17.511\\\\\n",
       "\\end{tabular}\n"
      ],
      "text/markdown": [
       "\n",
       "A data.frame: 2 × 2\n",
       "\n",
       "| <!--/--> | var &lt;chr&gt; | rel.inf &lt;dbl&gt; |\n",
       "|---|---|---|\n",
       "| median_house_value | median_house_value | 82.489 |\n",
       "| housing_median_age | housing_median_age | 17.511 |\n",
       "\n"
      ],
      "text/plain": [
       "                   var                rel.inf\n",
       "median_house_value median_house_value 82.489 \n",
       "housing_median_age housing_median_age 17.511 "
      ]
     },
     "metadata": {},
     "output_type": "display_data"
    },
    {
     "data": {
      "image/png": "[encoded data removed]",
      "text/plain": [
       "plot without title"
      ]
     },
     "metadata": {
      "image/png": {
       "height": 240,
       "width": 360
      }
     },
     "output_type": "display_data"
    }
   ],
   "source": [
    "# Generate representative model.\n",
    "\n",
    "set.seed(7097)\n",
    "gbclf_best <- gbm(Inland ~ ., data= traindat, n.trees=900,\n",
    "                  distribution= \"bernoulli\", shrinkage=0.05)\n",
    "\n",
    "options(repr.plot.width= 6, repr.plot.height= 4)\n",
    "summary(gbclf_best)\n"
   ]
  },
  {
   "cell_type": "markdown",
   "metadata": {},
   "source": [
    "## Get comparative scores for gbclf_best on testdat"
   ]
  },
  {
   "cell_type": "code",
   "execution_count": 103,
   "metadata": {},
   "outputs": [],
   "source": [
    "# Function for obtaining a set of scores on the testset data\n",
    "# using gbclf_best as the classifier.\n",
    "\n",
    "get_testdatScores_gb <- function(seedv, dat) {\n",
    "    \n",
    "    seedv_len <- length(seedv)\n",
    "    datout <- rep(NA, 5 * seedv_len)\n",
    "    dim(datout) <- c(seedv_len, 5)\n",
    "    datout <- as.data.frame(datout)\n",
    "    colnames(datout) <- c(\"fscore\",\"Acc\",\"Type2\", \"FN\",\"FP\")\n",
    "    rownames(datout) <- as.character(seedv)\n",
    "    \n",
    "    for(h in 1:seedv_len) {\n",
    "        # shuffle dat\n",
    "        cur_seed <- seedv[h]\n",
    "        set.seed(cur_seed)\n",
    "        # It is expected that dat is testdat, which has 10K rcds\n",
    "        smp <- sample(rownames(dat), 4000, replace= FALSE)\n",
    "        df <- dat[smp,]\n",
    "        \n",
    "        preds <- suppressMessages(predict(gbclf_best, newdata= df, type=\"response\"))\n",
    "        names(preds) <- rownames(df)\n",
    "        preds[which(preds >= 0.5)] <- 1\n",
    "        preds[which(preds < 0.5)] <- 0\n",
    "        preds <- as.factor(preds)\n",
    "        ans <- get_confusion(preds, df[, \"Inland\", drop=FALSE])\n",
    "        \n",
    "        mat <- as.matrix(ans[[1]])\n",
    "        fscore <- round(as.numeric(ans[[2]]), 4)\n",
    "        acc <- round(sum(diag(mat))/floor(sum(mat)), 4)\n",
    "        type2 <- round((0.4 * acc + 0.6 * ans[[2]]), 4)\n",
    "        FN <- as.numeric(mat[2,1])\n",
    "        FP <- as.numeric(mat[1,2])\n",
    "        datout[as.character(cur_seed), 1:5] <- c(fscore,acc,type2,FN,FP)\n",
    "    }\n",
    "    return(datout)\n",
    "}\n"
   ]
  },
  {
   "cell_type": "code",
   "execution_count": 104,
   "metadata": {},
   "outputs": [
    {
     "data": {
      "text/html": [
       "'Start time: 2021-07-27 15:13:26'"
      ],
      "text/latex": [
       "'Start time: 2021-07-27 15:13:26'"
      ],
      "text/markdown": [
       "'Start time: 2021-07-27 15:13:26'"
      ],
      "text/plain": [
       "[1] \"Start time: 2021-07-27 15:13:26\""
      ]
     },
     "metadata": {},
     "output_type": "display_data"
    },
    {
     "data": {
      "text/plain": [
       "Time difference of 11.43 secs"
      ]
     },
     "metadata": {},
     "output_type": "display_data"
    }
   ],
   "source": [
    "# Get gbclf_best's scores on the testset data.  For each of\n",
    "# the 250 seeds, I sample 4K (no replacement) from the 10K\n",
    "# set of testdat records.\n",
    "\n",
    "set.seed(1821)\n",
    "seed_vector <- sample(1:9999, 250, replace=FALSE)\n",
    "\n",
    "start <- Sys.time()\n",
    "paste(\"Start time: \", start, sep=\"\")\n",
    "dat_result <- get_testdatScores_gb(seed_vector, testdat)\n",
    "stop <- Sys.time()\n",
    "round(stop - start, 2)\n",
    "# Time difference of 11.4 secs\n"
   ]
  },
  {
   "cell_type": "code",
   "execution_count": 105,
   "metadata": {},
   "outputs": [
    {
     "data": {
      "text/html": [
       "<style>\n",
       ".list-inline {list-style: none; margin:0; padding: 0}\n",
       ".list-inline>li {display: inline-block}\n",
       ".list-inline>li:not(:last-child)::after {content: \"\\00b7\"; padding: 0 .5ex}\n",
       "</style>\n",
       "<ol class=list-inline><li>250</li><li>5</li></ol>\n"
      ],
      "text/latex": [
       "\\begin{enumerate*}\n",
       "\\item 250\n",
       "\\item 5\n",
       "\\end{enumerate*}\n"
      ],
      "text/markdown": [
       "1. 250\n",
       "2. 5\n",
       "\n",
       "\n"
      ],
      "text/plain": [
       "[1] 250   5"
      ]
     },
     "metadata": {},
     "output_type": "display_data"
    },
    {
     "data": {
      "text/html": [
       "<table class=\"dataframe\">\n",
       "<caption>A data.frame: 6 × 5</caption>\n",
       "<thead>\n",
       "\t<tr><th></th><th scope=col>fscore</th><th scope=col>Acc</th><th scope=col>Type2</th><th scope=col>FN</th><th scope=col>FP</th></tr>\n",
       "\t<tr><th></th><th scope=col>&lt;dbl&gt;</th><th scope=col>&lt;dbl&gt;</th><th scope=col>&lt;dbl&gt;</th><th scope=col>&lt;dbl&gt;</th><th scope=col>&lt;dbl&gt;</th></tr>\n",
       "</thead>\n",
       "<tbody>\n",
       "\t<tr><th scope=row>5934</th><td>0.7220</td><td>0.8332</td><td>0.7665</td><td>405</td><td>262</td></tr>\n",
       "\t<tr><th scope=row>1953</th><td>0.7087</td><td>0.8258</td><td>0.7555</td><td>442</td><td>255</td></tr>\n",
       "\t<tr><th scope=row>7591</th><td>0.7230</td><td>0.8335</td><td>0.7672</td><td>412</td><td>254</td></tr>\n",
       "\t<tr><th scope=row>1038</th><td>0.7200</td><td>0.8330</td><td>0.7652</td><td>393</td><td>275</td></tr>\n",
       "\t<tr><th scope=row>49</th><td>0.7097</td><td>0.8212</td><td>0.7543</td><td>454</td><td>261</td></tr>\n",
       "\t<tr><th scope=row>3203</th><td>0.7295</td><td>0.8358</td><td>0.7720</td><td>437</td><td>220</td></tr>\n",
       "</tbody>\n",
       "</table>\n"
      ],
      "text/latex": [
       "A data.frame: 6 × 5\n",
       "\\begin{tabular}{r|lllll}\n",
       "  & fscore & Acc & Type2 & FN & FP\\\\\n",
       "  & <dbl> & <dbl> & <dbl> & <dbl> & <dbl>\\\\\n",
       "\\hline\n",
       "\t5934 & 0.7220 & 0.8332 & 0.7665 & 405 & 262\\\\\n",
       "\t1953 & 0.7087 & 0.8258 & 0.7555 & 442 & 255\\\\\n",
       "\t7591 & 0.7230 & 0.8335 & 0.7672 & 412 & 254\\\\\n",
       "\t1038 & 0.7200 & 0.8330 & 0.7652 & 393 & 275\\\\\n",
       "\t49 & 0.7097 & 0.8212 & 0.7543 & 454 & 261\\\\\n",
       "\t3203 & 0.7295 & 0.8358 & 0.7720 & 437 & 220\\\\\n",
       "\\end{tabular}\n"
      ],
      "text/markdown": [
       "\n",
       "A data.frame: 6 × 5\n",
       "\n",
       "| <!--/--> | fscore &lt;dbl&gt; | Acc &lt;dbl&gt; | Type2 &lt;dbl&gt; | FN &lt;dbl&gt; | FP &lt;dbl&gt; |\n",
       "|---|---|---|---|---|---|\n",
       "| 5934 | 0.7220 | 0.8332 | 0.7665 | 405 | 262 |\n",
       "| 1953 | 0.7087 | 0.8258 | 0.7555 | 442 | 255 |\n",
       "| 7591 | 0.7230 | 0.8335 | 0.7672 | 412 | 254 |\n",
       "| 1038 | 0.7200 | 0.8330 | 0.7652 | 393 | 275 |\n",
       "| 49 | 0.7097 | 0.8212 | 0.7543 | 454 | 261 |\n",
       "| 3203 | 0.7295 | 0.8358 | 0.7720 | 437 | 220 |\n",
       "\n"
      ],
      "text/plain": [
       "     fscore Acc    Type2  FN  FP \n",
       "5934 0.7220 0.8332 0.7665 405 262\n",
       "1953 0.7087 0.8258 0.7555 442 255\n",
       "7591 0.7230 0.8335 0.7672 412 254\n",
       "1038 0.7200 0.8330 0.7652 393 275\n",
       "49   0.7097 0.8212 0.7543 454 261\n",
       "3203 0.7295 0.8358 0.7720 437 220"
      ]
     },
     "metadata": {},
     "output_type": "display_data"
    }
   ],
   "source": [
    "dim(dat_result)\n",
    "head(dat_result)\n"
   ]
  },
  {
   "cell_type": "code",
   "execution_count": 106,
   "metadata": {},
   "outputs": [
    {
     "data": {
      "text/html": [
       "'fscore mean: 0.7183'"
      ],
      "text/latex": [
       "'fscore mean: 0.7183'"
      ],
      "text/markdown": [
       "'fscore mean: 0.7183'"
      ],
      "text/plain": [
       "[1] \"fscore mean: 0.7183\""
      ]
     },
     "metadata": {},
     "output_type": "display_data"
    },
    {
     "data": {
      "text/html": [
       "'fscore StdDev: 0.0077'"
      ],
      "text/latex": [
       "'fscore StdDev: 0.0077'"
      ],
      "text/markdown": [
       "'fscore StdDev: 0.0077'"
      ],
      "text/plain": [
       "[1] \"fscore StdDev: 0.0077\""
      ]
     },
     "metadata": {},
     "output_type": "display_data"
    },
    {
     "data": {
      "text/html": [
       "''"
      ],
      "text/latex": [
       "''"
      ],
      "text/markdown": [
       "''"
      ],
      "text/plain": [
       "[1] \"\""
      ]
     },
     "metadata": {},
     "output_type": "display_data"
    },
    {
     "data": {
      "text/plain": [
       "   Min. 1st Qu.  Median    Mean 3rd Qu.    Max. \n",
       "  0.694   0.713   0.719   0.718   0.723   0.744 "
      ]
     },
     "metadata": {},
     "output_type": "display_data"
    }
   ],
   "source": [
    "fscore_mean <- round(mean(dat_result$fscore), 4)\n",
    "fscore_sd <- round(sd(dat_result$fscore), 4)\n",
    "paste0(\"fscore mean: \", as.character(fscore_mean))\n",
    "# 0.7183\n",
    "paste0(\"fscore StdDev: \", as.character(fscore_sd))\n",
    "# 0.0077\n",
    "\"\"\n",
    "summary(dat_result$fscore)\n"
   ]
  },
  {
   "cell_type": "code",
   "execution_count": 107,
   "metadata": {},
   "outputs": [
    {
     "data": {
      "text/html": [
       "'accuracy mean: 0.8304'"
      ],
      "text/latex": [
       "'accuracy mean: 0.8304'"
      ],
      "text/markdown": [
       "'accuracy mean: 0.8304'"
      ],
      "text/plain": [
       "[1] \"accuracy mean: 0.8304\""
      ]
     },
     "metadata": {},
     "output_type": "display_data"
    },
    {
     "data": {
      "text/html": [
       "'accuracy StdDev: 0.0044'"
      ],
      "text/latex": [
       "'accuracy StdDev: 0.0044'"
      ],
      "text/markdown": [
       "'accuracy StdDev: 0.0044'"
      ],
      "text/plain": [
       "[1] \"accuracy StdDev: 0.0044\""
      ]
     },
     "metadata": {},
     "output_type": "display_data"
    },
    {
     "data": {
      "text/html": [
       "''"
      ],
      "text/latex": [
       "''"
      ],
      "text/markdown": [
       "''"
      ],
      "text/plain": [
       "[1] \"\""
      ]
     },
     "metadata": {},
     "output_type": "display_data"
    },
    {
     "data": {
      "text/plain": [
       "   Min. 1st Qu.  Median    Mean 3rd Qu.    Max. \n",
       "  0.820   0.828   0.831   0.830   0.833   0.842 "
      ]
     },
     "metadata": {},
     "output_type": "display_data"
    }
   ],
   "source": [
    "Acc_mean <- round(mean(dat_result$Acc), 4)\n",
    "Acc_sd <- round(sd(dat_result$Acc), 4)\n",
    "paste0(\"accuracy mean: \", as.character(Acc_mean))\n",
    "# 0.8304\n",
    "paste0(\"accuracy StdDev: \", as.character(Acc_sd))\n",
    "# 0.0044\n",
    "\"\"\n",
    "summary(dat_result$Acc)\n"
   ]
  },
  {
   "cell_type": "code",
   "execution_count": 108,
   "metadata": {},
   "outputs": [
    {
     "data": {
      "text/html": [
       "'Type2 mean: 0.7632'"
      ],
      "text/latex": [
       "'Type2 mean: 0.7632'"
      ],
      "text/markdown": [
       "'Type2 mean: 0.7632'"
      ],
      "text/plain": [
       "[1] \"Type2 mean: 0.7632\""
      ]
     },
     "metadata": {},
     "output_type": "display_data"
    },
    {
     "data": {
      "text/html": [
       "'Type2 StdDev: 0.0061'"
      ],
      "text/latex": [
       "'Type2 StdDev: 0.0061'"
      ],
      "text/markdown": [
       "'Type2 StdDev: 0.0061'"
      ],
      "text/plain": [
       "[1] \"Type2 StdDev: 0.0061\""
      ]
     },
     "metadata": {},
     "output_type": "display_data"
    },
    {
     "data": {
      "text/html": [
       "''"
      ],
      "text/latex": [
       "''"
      ],
      "text/markdown": [
       "''"
      ],
      "text/plain": [
       "[1] \"\""
      ]
     },
     "metadata": {},
     "output_type": "display_data"
    },
    {
     "data": {
      "text/plain": [
       "   Min. 1st Qu.  Median    Mean 3rd Qu.    Max. \n",
       "  0.745   0.759   0.763   0.763   0.767   0.782 "
      ]
     },
     "metadata": {},
     "output_type": "display_data"
    }
   ],
   "source": [
    "Type2_mean <- round(mean(dat_result$Type2), 4)\n",
    "Type2_sd <- round(sd(dat_result$Type2), 4)\n",
    "paste0(\"Type2 mean: \", as.character(Type2_mean))\n",
    "# 0.7632\n",
    "paste0(\"Type2 StdDev: \", as.character(Type2_sd))\n",
    "# 0.0061\n",
    "\"\"\n",
    "summary(dat_result$Type2)\n"
   ]
  },
  {
   "cell_type": "code",
   "execution_count": 109,
   "metadata": {},
   "outputs": [
    {
     "data": {
      "text/html": [
       "'FN mean: 430.03'"
      ],
      "text/latex": [
       "'FN mean: 430.03'"
      ],
      "text/markdown": [
       "'FN mean: 430.03'"
      ],
      "text/plain": [
       "[1] \"FN mean: 430.03\""
      ]
     },
     "metadata": {},
     "output_type": "display_data"
    },
    {
     "data": {
      "text/html": [
       "'FN StdDev: 14.69'"
      ],
      "text/latex": [
       "'FN StdDev: 14.69'"
      ],
      "text/markdown": [
       "'FN StdDev: 14.69'"
      ],
      "text/plain": [
       "[1] \"FN StdDev: 14.69\""
      ]
     },
     "metadata": {},
     "output_type": "display_data"
    },
    {
     "data": {
      "text/html": [
       "''"
      ],
      "text/latex": [
       "''"
      ],
      "text/markdown": [
       "''"
      ],
      "text/plain": [
       "[1] \"\""
      ]
     },
     "metadata": {},
     "output_type": "display_data"
    },
    {
     "data": {
      "text/plain": [
       "   Min. 1st Qu.  Median    Mean 3rd Qu.    Max. \n",
       "    382     421     430     430     441     464 "
      ]
     },
     "metadata": {},
     "output_type": "display_data"
    }
   ],
   "source": [
    "FN_mean <- round(mean(dat_result$FN), 2)\n",
    "FN_sd <- round(sd(dat_result$FN), 2)\n",
    "paste0(\"FN mean: \", as.character(FN_mean))\n",
    "# 430.03\n",
    "paste0(\"FN StdDev: \", as.character(FN_sd))\n",
    "# 14.69\n",
    "\"\"\n",
    "summary(dat_result$FN)\n"
   ]
  },
  {
   "cell_type": "code",
   "execution_count": 110,
   "metadata": {},
   "outputs": [
    {
     "data": {
      "text/html": [
       "'FP mean: 248.52'"
      ],
      "text/latex": [
       "'FP mean: 248.52'"
      ],
      "text/markdown": [
       "'FP mean: 248.52'"
      ],
      "text/plain": [
       "[1] \"FP mean: 248.52\""
      ]
     },
     "metadata": {},
     "output_type": "display_data"
    },
    {
     "data": {
      "text/html": [
       "'FP StdDev: 11.69'"
      ],
      "text/latex": [
       "'FP StdDev: 11.69'"
      ],
      "text/markdown": [
       "'FP StdDev: 11.69'"
      ],
      "text/plain": [
       "[1] \"FP StdDev: 11.69\""
      ]
     },
     "metadata": {},
     "output_type": "display_data"
    },
    {
     "data": {
      "text/html": [
       "''"
      ],
      "text/latex": [
       "''"
      ],
      "text/markdown": [
       "''"
      ],
      "text/plain": [
       "[1] \"\""
      ]
     },
     "metadata": {},
     "output_type": "display_data"
    },
    {
     "data": {
      "text/plain": [
       "   Min. 1st Qu.  Median    Mean 3rd Qu.    Max. \n",
       "    211     240     249     249     256     275 "
      ]
     },
     "metadata": {},
     "output_type": "display_data"
    }
   ],
   "source": [
    "FP_mean <- round(mean(dat_result$FP), 2)\n",
    "FP_sd <- round(sd(dat_result$FP), 2)\n",
    "paste0(\"FP mean: \", as.character(FP_mean))\n",
    "# 248.52\n",
    "paste0(\"FP StdDev: \", as.character(FP_sd))\n",
    "# 11.69\n",
    "\"\"\n",
    "summary(dat_result$FP)\n"
   ]
  },
  {
   "cell_type": "code",
   "execution_count": null,
   "metadata": {},
   "outputs": [],
   "source": [
    "### COMMENT:\n",
    "\n",
    "# gbclf_best has slightly better scores than rfclf_best.\n"
   ]
  },
  {
   "cell_type": "markdown",
   "metadata": {},
   "source": [
    "## Find best logistic regression model"
   ]
  },
  {
   "cell_type": "code",
   "execution_count": 114,
   "metadata": {},
   "outputs": [
    {
     "data": {
      "text/plain": [
       "\n",
       "Call:\n",
       "glm(formula = Inland ~ ., family = binomial(), data = traindat)\n",
       "\n",
       "Deviance Residuals: \n",
       "   Min      1Q  Median      3Q     Max  \n",
       "-2.370  -0.691  -0.250   0.697   4.884  \n",
       "\n",
       "Coefficients:\n",
       "                    Estimate Std. Error z value Pr(>|z|)\n",
       "(Intercept)         4.04e+00   1.05e-01    38.6   <2e-16\n",
       "housing_median_age -5.53e-02   2.22e-03   -24.9   <2e-16\n",
       "median_house_value -1.97e-05   4.60e-07   -42.8   <2e-16\n",
       "\n",
       "(Dispersion parameter for binomial family taken to be 1)\n",
       "\n",
       "    Null deviance: 13137  on 10602  degrees of freedom\n",
       "Residual deviance:  8927  on 10600  degrees of freedom\n",
       "AIC: 8933\n",
       "\n",
       "Number of Fisher Scoring iterations: 6\n"
      ]
     },
     "metadata": {},
     "output_type": "display_data"
    },
    {
     "data": {
      "text/html": [
       "0.4613"
      ],
      "text/latex": [
       "0.4613"
      ],
      "text/markdown": [
       "0.4613"
      ],
      "text/plain": [
       "[1] 0.4613"
      ]
     },
     "metadata": {},
     "output_type": "display_data"
    }
   ],
   "source": [
    "f01 <- glm(Inland ~ ., data=traindat, family=binomial())\n",
    "summary(f01)\n",
    "get_RsqrdDev(f01)\n"
   ]
  },
  {
   "cell_type": "code",
   "execution_count": 112,
   "metadata": {},
   "outputs": [
    {
     "data": {
      "text/plain": [
       "\n",
       "Call:\n",
       "glm(formula = Inland ~ housing_median_age + I(log(median_house_value)), \n",
       "    family = binomial(), data = df)\n",
       "\n",
       "Deviance Residuals: \n",
       "   Min      1Q  Median      3Q     Max  \n",
       "-3.268  -0.619  -0.286   0.533   3.661  \n",
       "\n",
       "Coefficients:\n",
       "                           Estimate Std. Error z value Pr(>|z|)\n",
       "(Intercept)                41.10321    0.86028    47.8   <2e-16\n",
       "housing_median_age         -0.06155    0.00235   -26.2   <2e-16\n",
       "I(log(median_house_value)) -3.36644    0.07061   -47.7   <2e-16\n",
       "\n",
       "(Dispersion parameter for binomial family taken to be 1)\n",
       "\n",
       "    Null deviance: 13137  on 10602  degrees of freedom\n",
       "Residual deviance:  8376  on 10600  degrees of freedom\n",
       "AIC: 8382\n",
       "\n",
       "Number of Fisher Scoring iterations: 6\n"
      ]
     },
     "metadata": {},
     "output_type": "display_data"
    },
    {
     "data": {
      "text/html": [
       "0.5093"
      ],
      "text/latex": [
       "0.5093"
      ],
      "text/markdown": [
       "0.5093"
      ],
      "text/plain": [
       "[1] 0.5093"
      ]
     },
     "metadata": {},
     "output_type": "display_data"
    }
   ],
   "source": [
    "# Add power transformation.\n",
    "\n",
    "f02 <- glm(Inland ~ housing_median_age + \n",
    "           I(log(median_house_value)), \n",
    "           data=df, family=binomial())\n",
    "           \n",
    "summary(f02)\n",
    "get_RsqrdDev(f02)\n"
   ]
  },
  {
   "cell_type": "code",
   "execution_count": 126,
   "metadata": {},
   "outputs": [
    {
     "data": {
      "text/plain": [
       "\n",
       "Call:\n",
       "glm(formula = Inland ~ I(housing_median_age^0.6) + I(median_house_value^-0.08), \n",
       "    family = binomial(), data = df)\n",
       "\n",
       "Deviance Residuals: \n",
       "   Min      1Q  Median      3Q     Max  \n",
       "-3.406  -0.612  -0.290   0.517   3.575  \n",
       "\n",
       "Coefficients:\n",
       "                            Estimate Std. Error z value Pr(>|z|)\n",
       "(Intercept)                 -40.3261     0.8587   -47.0   <2e-16\n",
       "I(housing_median_age^0.6)    -0.3717     0.0138   -26.9   <2e-16\n",
       "I(median_house_value^-0.08) 109.5732     2.2850    48.0   <2e-16\n",
       "\n",
       "(Dispersion parameter for binomial family taken to be 1)\n",
       "\n",
       "    Null deviance: 13136.8  on 10602  degrees of freedom\n",
       "Residual deviance:  8334.4  on 10600  degrees of freedom\n",
       "AIC: 8340\n",
       "\n",
       "Number of Fisher Scoring iterations: 5\n"
      ]
     },
     "metadata": {},
     "output_type": "display_data"
    },
    {
     "data": {
      "text/html": [
       "0.5128"
      ],
      "text/latex": [
       "0.5128"
      ],
      "text/markdown": [
       "0.5128"
      ],
      "text/plain": [
       "[1] 0.5128"
      ]
     },
     "metadata": {},
     "output_type": "display_data"
    }
   ],
   "source": [
    "# Tweak power transformation.\n",
    "\n",
    "f03 <- glm(Inland ~ I(housing_median_age^0.6) +\n",
    "           I(median_house_value^-0.08),\n",
    "           data=df, family=binomial())\n",
    "           \n",
    "summary(f03)\n",
    "get_RsqrdDev(f03)\n"
   ]
  },
  {
   "cell_type": "markdown",
   "metadata": {},
   "source": [
    "### f03 model diagnostics"
   ]
  },
  {
   "cell_type": "code",
   "execution_count": 127,
   "metadata": {},
   "outputs": [
    {
     "name": "stdout",
     "output_type": "stream",
     "text": [
      "[1] 0.786\n"
     ]
    }
   ],
   "source": [
    "# Check for dispersion <> 1.\n",
    "\n",
    "# We want the following value to NOT be considerably larger\n",
    "# than 1.  If it is, then we have to use family= quasibinomial\n",
    "# in our modeling. (See p.311 of Kabacoff's \"R in Action\".)\n",
    "\n",
    "phi <- deviance(f03)/df.residual(f03)\n",
    "print(round(phi, 3))\n"
   ]
  },
  {
   "cell_type": "code",
   "execution_count": null,
   "metadata": {},
   "outputs": [],
   "source": [
    "### COMMENT:\n",
    "\n",
    "# The f03 model has dispersion < 1.  This under-\n",
    "# dispersion does not affect the parameter estimates.  \n",
    "# But it means that the standard error estimates for \n",
    "# our model coefficients, as seen in the above summary, \n",
    "# are larger than what they should be.\n"
   ]
  },
  {
   "cell_type": "code",
   "execution_count": 128,
   "metadata": {},
   "outputs": [
    {
     "data": {
      "image/png": "[encoded data removed]",
      "text/plain": [
       "plot without title"
      ]
     },
     "metadata": {
      "image/png": {
       "height": 360,
       "width": 360
      }
     },
     "output_type": "display_data"
    }
   ],
   "source": [
    "# Plot the residuals.  Julian Faraway's half-normal plot can\n",
    "# be used to check for outliers.  See p.46 of Faraway's \n",
    "# \"Extending the Linear Model with R\".  The residuals plotted\n",
    "# here are the deviance residuals.\n",
    "\n",
    "options(repr.plot.width= 6, repr.plot.height= 6)\n",
    "\n",
    "# Function halfnorm is from package faraway.\n",
    "halfnorm(residuals(f03))\n"
   ]
  },
  {
   "cell_type": "code",
   "execution_count": null,
   "metadata": {},
   "outputs": [],
   "source": [
    "### COMMENT:\n",
    "\n",
    "# The diagnostics look ok for our purposes.\n"
   ]
  },
  {
   "cell_type": "markdown",
   "metadata": {},
   "source": [
    "## Get comparative scores for f03 on testdat"
   ]
  },
  {
   "cell_type": "code",
   "execution_count": 129,
   "metadata": {},
   "outputs": [],
   "source": [
    "# Function for obtaining a set of scores on the testset data\n",
    "# using f03 as the classifier.\n",
    "\n",
    "get_testdatScores_f03 <- function(seedv, dat) {\n",
    "    \n",
    "    seedv_len <- length(seedv)\n",
    "    datout <- rep(NA, 5 * seedv_len)\n",
    "    dim(datout) <- c(seedv_len, 5)\n",
    "    datout <- as.data.frame(datout)\n",
    "    colnames(datout) <- c(\"fscore\",\"Acc\",\"Type2\", \"FN\",\"FP\")\n",
    "    rownames(datout) <- as.character(seedv)\n",
    "    \n",
    "    for(h in 1:seedv_len) {\n",
    "        # shuffle dat\n",
    "        cur_seed <- seedv[h]\n",
    "        set.seed(cur_seed)\n",
    "        # It is expected that dat is testdat, which has 10K rcds\n",
    "        smp <- sample(rownames(dat), 4000, replace= FALSE)\n",
    "        df <- dat[smp,]\n",
    "        \n",
    "        preds <- predict(f03, newdata= df)\n",
    "        names(preds) <- rownames(df)\n",
    "        preds[which(preds >= 0.5)] <- 1\n",
    "        preds[which(preds < 0.5)] <- 0\n",
    "        preds <- as.factor(preds)\n",
    "        ans <- get_confusion(preds, df[, \"Inland\", drop=FALSE])\n",
    "        \n",
    "        mat <- as.matrix(ans[[1]])\n",
    "        fscore <- round(as.numeric(ans[[2]]), 4)\n",
    "        acc <- round(sum(diag(mat))/floor(sum(mat)), 4)\n",
    "        type2 <- round((0.4 * acc + 0.6 * ans[[2]]), 4)\n",
    "        FN <- as.numeric(mat[2,1])\n",
    "        FP <- as.numeric(mat[1,2])\n",
    "        datout[as.character(cur_seed), 1:5] <- c(fscore,acc,type2,FN,FP)\n",
    "    }\n",
    "    return(datout)\n",
    "}\n"
   ]
  },
  {
   "cell_type": "code",
   "execution_count": 130,
   "metadata": {},
   "outputs": [
    {
     "data": {
      "text/plain": [
       "Time difference of 5.14 secs"
      ]
     },
     "metadata": {},
     "output_type": "display_data"
    }
   ],
   "source": [
    "# Get f03's scores on the testset data.  For each of\n",
    "# the 250 seeds, I sample 4K (no replacement) from the 10K\n",
    "# set of testdat records.\n",
    "\n",
    "set.seed(1821)\n",
    "seed_vector <- sample(1:9999, 250, replace=FALSE)\n",
    "\n",
    "start <- Sys.time()\n",
    "# paste(\"Start time: \", start, sep=\"\")\n",
    "dat_result <- get_testdatScores_f03(seed_vector, testdat)\n",
    "stop <- Sys.time()\n",
    "round(stop - start, 2)\n",
    "# Time difference of 5 secs\n"
   ]
  },
  {
   "cell_type": "code",
   "execution_count": 131,
   "metadata": {},
   "outputs": [
    {
     "data": {
      "text/html": [
       "<style>\n",
       ".list-inline {list-style: none; margin:0; padding: 0}\n",
       ".list-inline>li {display: inline-block}\n",
       ".list-inline>li:not(:last-child)::after {content: \"\\00b7\"; padding: 0 .5ex}\n",
       "</style>\n",
       "<ol class=list-inline><li>250</li><li>5</li></ol>\n"
      ],
      "text/latex": [
       "\\begin{enumerate*}\n",
       "\\item 250\n",
       "\\item 5\n",
       "\\end{enumerate*}\n"
      ],
      "text/markdown": [
       "1. 250\n",
       "2. 5\n",
       "\n",
       "\n"
      ],
      "text/plain": [
       "[1] 250   5"
      ]
     },
     "metadata": {},
     "output_type": "display_data"
    },
    {
     "data": {
      "text/html": [
       "<table class=\"dataframe\">\n",
       "<caption>A data.frame: 6 × 5</caption>\n",
       "<thead>\n",
       "\t<tr><th></th><th scope=col>fscore</th><th scope=col>Acc</th><th scope=col>Type2</th><th scope=col>FN</th><th scope=col>FP</th></tr>\n",
       "\t<tr><th></th><th scope=col>&lt;dbl&gt;</th><th scope=col>&lt;dbl&gt;</th><th scope=col>&lt;dbl&gt;</th><th scope=col>&lt;dbl&gt;</th><th scope=col>&lt;dbl&gt;</th></tr>\n",
       "</thead>\n",
       "<tbody>\n",
       "\t<tr><th scope=row>5934</th><td>0.6742</td><td>0.8270</td><td>0.7353</td><td>555</td><td>137</td></tr>\n",
       "\t<tr><th scope=row>1953</th><td>0.6676</td><td>0.8208</td><td>0.7289</td><td>570</td><td>147</td></tr>\n",
       "\t<tr><th scope=row>7591</th><td>0.6828</td><td>0.8300</td><td>0.7417</td><td>549</td><td>131</td></tr>\n",
       "\t<tr><th scope=row>1038</th><td>0.6782</td><td>0.8285</td><td>0.7383</td><td>529</td><td>157</td></tr>\n",
       "\t<tr><th scope=row>49</th><td>0.6588</td><td>0.8130</td><td>0.7205</td><td>606</td><td>142</td></tr>\n",
       "\t<tr><th scope=row>3203</th><td>0.6676</td><td>0.8192</td><td>0.7282</td><td>597</td><td>126</td></tr>\n",
       "</tbody>\n",
       "</table>\n"
      ],
      "text/latex": [
       "A data.frame: 6 × 5\n",
       "\\begin{tabular}{r|lllll}\n",
       "  & fscore & Acc & Type2 & FN & FP\\\\\n",
       "  & <dbl> & <dbl> & <dbl> & <dbl> & <dbl>\\\\\n",
       "\\hline\n",
       "\t5934 & 0.6742 & 0.8270 & 0.7353 & 555 & 137\\\\\n",
       "\t1953 & 0.6676 & 0.8208 & 0.7289 & 570 & 147\\\\\n",
       "\t7591 & 0.6828 & 0.8300 & 0.7417 & 549 & 131\\\\\n",
       "\t1038 & 0.6782 & 0.8285 & 0.7383 & 529 & 157\\\\\n",
       "\t49 & 0.6588 & 0.8130 & 0.7205 & 606 & 142\\\\\n",
       "\t3203 & 0.6676 & 0.8192 & 0.7282 & 597 & 126\\\\\n",
       "\\end{tabular}\n"
      ],
      "text/markdown": [
       "\n",
       "A data.frame: 6 × 5\n",
       "\n",
       "| <!--/--> | fscore &lt;dbl&gt; | Acc &lt;dbl&gt; | Type2 &lt;dbl&gt; | FN &lt;dbl&gt; | FP &lt;dbl&gt; |\n",
       "|---|---|---|---|---|---|\n",
       "| 5934 | 0.6742 | 0.8270 | 0.7353 | 555 | 137 |\n",
       "| 1953 | 0.6676 | 0.8208 | 0.7289 | 570 | 147 |\n",
       "| 7591 | 0.6828 | 0.8300 | 0.7417 | 549 | 131 |\n",
       "| 1038 | 0.6782 | 0.8285 | 0.7383 | 529 | 157 |\n",
       "| 49 | 0.6588 | 0.8130 | 0.7205 | 606 | 142 |\n",
       "| 3203 | 0.6676 | 0.8192 | 0.7282 | 597 | 126 |\n",
       "\n"
      ],
      "text/plain": [
       "     fscore Acc    Type2  FN  FP \n",
       "5934 0.6742 0.8270 0.7353 555 137\n",
       "1953 0.6676 0.8208 0.7289 570 147\n",
       "7591 0.6828 0.8300 0.7417 549 131\n",
       "1038 0.6782 0.8285 0.7383 529 157\n",
       "49   0.6588 0.8130 0.7205 606 142\n",
       "3203 0.6676 0.8192 0.7282 597 126"
      ]
     },
     "metadata": {},
     "output_type": "display_data"
    }
   ],
   "source": [
    "dim(dat_result)\n",
    "head(dat_result)\n"
   ]
  },
  {
   "cell_type": "code",
   "execution_count": 132,
   "metadata": {},
   "outputs": [
    {
     "data": {
      "text/html": [
       "'fscore mean: 0.6704'"
      ],
      "text/latex": [
       "'fscore mean: 0.6704'"
      ],
      "text/markdown": [
       "'fscore mean: 0.6704'"
      ],
      "text/plain": [
       "[1] \"fscore mean: 0.6704\""
      ]
     },
     "metadata": {},
     "output_type": "display_data"
    },
    {
     "data": {
      "text/html": [
       "'fscore StdDev: 0.009'"
      ],
      "text/latex": [
       "'fscore StdDev: 0.009'"
      ],
      "text/markdown": [
       "'fscore StdDev: 0.009'"
      ],
      "text/plain": [
       "[1] \"fscore StdDev: 0.009\""
      ]
     },
     "metadata": {},
     "output_type": "display_data"
    },
    {
     "data": {
      "text/html": [
       "''"
      ],
      "text/latex": [
       "''"
      ],
      "text/markdown": [
       "''"
      ],
      "text/plain": [
       "[1] \"\""
      ]
     },
     "metadata": {},
     "output_type": "display_data"
    },
    {
     "data": {
      "text/plain": [
       "   Min. 1st Qu.  Median    Mean 3rd Qu.    Max. \n",
       "  0.644   0.665   0.671   0.670   0.676   0.693 "
      ]
     },
     "metadata": {},
     "output_type": "display_data"
    }
   ],
   "source": [
    "fscore_mean <- round(mean(dat_result$fscore), 4)\n",
    "fscore_sd <- round(sd(dat_result$fscore), 4)\n",
    "paste0(\"fscore mean: \", as.character(fscore_mean))\n",
    "# 0.6704\n",
    "paste0(\"fscore StdDev: \", as.character(fscore_sd))\n",
    "# 0.0090\n",
    "\"\"\n",
    "summary(dat_result$fscore)\n"
   ]
  },
  {
   "cell_type": "code",
   "execution_count": 133,
   "metadata": {},
   "outputs": [
    {
     "data": {
      "text/html": [
       "'accuracy mean: 0.8226'"
      ],
      "text/latex": [
       "'accuracy mean: 0.8226'"
      ],
      "text/markdown": [
       "'accuracy mean: 0.8226'"
      ],
      "text/plain": [
       "[1] \"accuracy mean: 0.8226\""
      ]
     },
     "metadata": {},
     "output_type": "display_data"
    },
    {
     "data": {
      "text/html": [
       "'accuracy StdDev: 0.0046'"
      ],
      "text/latex": [
       "'accuracy StdDev: 0.0046'"
      ],
      "text/markdown": [
       "'accuracy StdDev: 0.0046'"
      ],
      "text/plain": [
       "[1] \"accuracy StdDev: 0.0046\""
      ]
     },
     "metadata": {},
     "output_type": "display_data"
    },
    {
     "data": {
      "text/html": [
       "''"
      ],
      "text/latex": [
       "''"
      ],
      "text/markdown": [
       "''"
      ],
      "text/plain": [
       "[1] \"\""
      ]
     },
     "metadata": {},
     "output_type": "display_data"
    },
    {
     "data": {
      "text/plain": [
       "   Min. 1st Qu.  Median    Mean 3rd Qu.    Max. \n",
       "  0.810   0.819   0.823   0.823   0.826   0.836 "
      ]
     },
     "metadata": {},
     "output_type": "display_data"
    }
   ],
   "source": [
    "Acc_mean <- round(mean(dat_result$Acc), 4)\n",
    "Acc_sd <- round(sd(dat_result$Acc), 4)\n",
    "paste0(\"accuracy mean: \", as.character(Acc_mean))\n",
    "# 0.8226\n",
    "paste0(\"accuracy StdDev: \", as.character(Acc_sd))\n",
    "# 0.0046\n",
    "\"\"\n",
    "summary(dat_result$Acc)\n"
   ]
  },
  {
   "cell_type": "code",
   "execution_count": 134,
   "metadata": {},
   "outputs": [
    {
     "data": {
      "text/html": [
       "'Type2 mean: 0.7313'"
      ],
      "text/latex": [
       "'Type2 mean: 0.7313'"
      ],
      "text/markdown": [
       "'Type2 mean: 0.7313'"
      ],
      "text/plain": [
       "[1] \"Type2 mean: 0.7313\""
      ]
     },
     "metadata": {},
     "output_type": "display_data"
    },
    {
     "data": {
      "text/html": [
       "'Type2 StdDev: 0.007'"
      ],
      "text/latex": [
       "'Type2 StdDev: 0.007'"
      ],
      "text/markdown": [
       "'Type2 StdDev: 0.007'"
      ],
      "text/plain": [
       "[1] \"Type2 StdDev: 0.007\""
      ]
     },
     "metadata": {},
     "output_type": "display_data"
    },
    {
     "data": {
      "text/html": [
       "''"
      ],
      "text/latex": [
       "''"
      ],
      "text/markdown": [
       "''"
      ],
      "text/plain": [
       "[1] \"\""
      ]
     },
     "metadata": {},
     "output_type": "display_data"
    },
    {
     "data": {
      "text/plain": [
       "   Min. 1st Qu.  Median    Mean 3rd Qu.    Max. \n",
       "  0.712   0.727   0.732   0.731   0.736   0.748 "
      ]
     },
     "metadata": {},
     "output_type": "display_data"
    }
   ],
   "source": [
    "Type2_mean <- round(mean(dat_result$Type2), 4)\n",
    "Type2_sd <- round(sd(dat_result$Type2), 4)\n",
    "paste0(\"Type2 mean: \", as.character(Type2_mean))\n",
    "# 0.7313\n",
    "paste0(\"Type2 StdDev: \", as.character(Type2_sd))\n",
    "# 0.0070\n",
    "\"\"\n",
    "summary(dat_result$Type2)\n"
   ]
  },
  {
   "cell_type": "code",
   "execution_count": 135,
   "metadata": {},
   "outputs": [
    {
     "data": {
      "text/html": [
       "'FN mean: 573.64'"
      ],
      "text/latex": [
       "'FN mean: 573.64'"
      ],
      "text/markdown": [
       "'FN mean: 573.64'"
      ],
      "text/plain": [
       "[1] \"FN mean: 573.64\""
      ]
     },
     "metadata": {},
     "output_type": "display_data"
    },
    {
     "data": {
      "text/html": [
       "'FN StdDev: 17.08'"
      ],
      "text/latex": [
       "'FN StdDev: 17.08'"
      ],
      "text/markdown": [
       "'FN StdDev: 17.08'"
      ],
      "text/plain": [
       "[1] \"FN StdDev: 17.08\""
      ]
     },
     "metadata": {},
     "output_type": "display_data"
    },
    {
     "data": {
      "text/html": [
       "''"
      ],
      "text/latex": [
       "''"
      ],
      "text/markdown": [
       "''"
      ],
      "text/plain": [
       "[1] \"\""
      ]
     },
     "metadata": {},
     "output_type": "display_data"
    },
    {
     "data": {
      "text/plain": [
       "   Min. 1st Qu.  Median    Mean 3rd Qu.    Max. \n",
       "    523     563     573     574     585     617 "
      ]
     },
     "metadata": {},
     "output_type": "display_data"
    }
   ],
   "source": [
    "FN_mean <- round(mean(dat_result$FN), 2)\n",
    "FN_sd <- round(sd(dat_result$FN), 2)\n",
    "paste0(\"FN mean: \", as.character(FN_mean))\n",
    "# 574\n",
    "paste0(\"FN StdDev: \", as.character(FN_sd))\n",
    "# 17.1\n",
    "\"\"\n",
    "summary(dat_result$FN)\n"
   ]
  },
  {
   "cell_type": "code",
   "execution_count": 136,
   "metadata": {},
   "outputs": [
    {
     "data": {
      "text/html": [
       "'FP mean: 136.04'"
      ],
      "text/latex": [
       "'FP mean: 136.04'"
      ],
      "text/markdown": [
       "'FP mean: 136.04'"
      ],
      "text/plain": [
       "[1] \"FP mean: 136.04\""
      ]
     },
     "metadata": {},
     "output_type": "display_data"
    },
    {
     "data": {
      "text/html": [
       "'FP StdDev: 8.27'"
      ],
      "text/latex": [
       "'FP StdDev: 8.27'"
      ],
      "text/markdown": [
       "'FP StdDev: 8.27'"
      ],
      "text/plain": [
       "[1] \"FP StdDev: 8.27\""
      ]
     },
     "metadata": {},
     "output_type": "display_data"
    },
    {
     "data": {
      "text/html": [
       "''"
      ],
      "text/latex": [
       "''"
      ],
      "text/markdown": [
       "''"
      ],
      "text/plain": [
       "[1] \"\""
      ]
     },
     "metadata": {},
     "output_type": "display_data"
    },
    {
     "data": {
      "text/plain": [
       "   Min. 1st Qu.  Median    Mean 3rd Qu.    Max. \n",
       "    114     131     136     136     142     162 "
      ]
     },
     "metadata": {},
     "output_type": "display_data"
    }
   ],
   "source": [
    "FP_mean <- round(mean(dat_result$FP), 2)\n",
    "FP_sd <- round(sd(dat_result$FP), 2)\n",
    "paste0(\"FP mean: \", as.character(FP_mean))\n",
    "# 136\n",
    "paste0(\"FP StdDev: \", as.character(FP_sd))\n",
    "# 8.3\n",
    "\"\"\n",
    "summary(dat_result$FP)\n"
   ]
  },
  {
   "cell_type": "code",
   "execution_count": null,
   "metadata": {},
   "outputs": [],
   "source": [
    "### COMMENT:\n",
    "\n",
    "# f03 does a great job avoiding false positives.\n",
    "# But it has a high number of false negatives. \n",
    "# Overall, it is not as good a model as either \n",
    "# rfclf_best or gbclf_best.\n"
   ]
  },
  {
   "cell_type": "markdown",
   "metadata": {},
   "source": [
    "## Find best SVM"
   ]
  },
  {
   "cell_type": "code",
   "execution_count": 138,
   "metadata": {},
   "outputs": [],
   "source": [
    "# We need to center and scale the data. \n",
    "\n",
    "svm_scaled <- scale(traindat[, -1])\n",
    "svm_centers <- attr(svm_scaled, \"scaled:center\")\n",
    "svm_scales <- attr(svm_scaled, \"scaled:scale\")\n",
    "svm_scaled <- as.data.frame(cbind(as.numeric(traindat$Inland), svm_scaled),\n",
    "                            row.names=rownames(traindat))\n",
    "colnames(svm_scaled) <- colnames(traindat)\n"
   ]
  },
  {
   "cell_type": "code",
   "execution_count": 140,
   "metadata": {},
   "outputs": [
    {
     "data": {
      "text/plain": [
       "    \n",
       "pred    0    1\n",
       "   0 6777 1182\n",
       "   1  534 2110"
      ]
     },
     "metadata": {},
     "output_type": "display_data"
    },
    {
     "data": {
      "text/html": [
       "0.7109"
      ],
      "text/latex": [
       "0.7109"
      ],
      "text/markdown": [
       "0.7109"
      ],
      "text/plain": [
       "[1] 0.7109"
      ]
     },
     "metadata": {},
     "output_type": "display_data"
    }
   ],
   "source": [
    "# Test out a support vector machine.  Try kernel =\n",
    "# radial basis function.\n",
    "\n",
    "svm01 <- svm(I(as.factor(Inland)) ~ ., data=svm_scaled, kernel=\"radial\",\n",
    "             gamma= 0.1, cost= 100, scale=FALSE)\n",
    "\n",
    "pred <- fitted(svm01)\n",
    "(ans <- table(pred, as.factor(svm_scaled$Inland)))\n",
    "get_fscore(as.matrix(ans))\n"
   ]
  },
  {
   "cell_type": "code",
   "execution_count": 147,
   "metadata": {},
   "outputs": [],
   "source": [
    "# Function to compute an accuracy score for an svm cv-fold.\n",
    "\n",
    "get_acc_svm <- function(traindat, valdat, gamma, cost) {\n",
    "    \n",
    "    # traindat and valdat need to be scaled\n",
    "    train_scaled <- scale(traindat[, -1])\n",
    "    train_centers <- attr(train_scaled, \"scaled:center\")\n",
    "    train_scales <- attr(train_scaled, \"scaled:scale\")\n",
    "    train_scaled <- as.data.frame(cbind(as.numeric(traindat$Inland), train_scaled),\n",
    "                                  row.names=rownames(traindat))\n",
    "    colnames(train_scaled) <- colnames(traindat)\n",
    "    \n",
    "    svmmod <- svm(I(as.factor(Inland)) ~ ., data= train_scaled, gamma=gamma,\n",
    "                    cost=cost, scale=FALSE, kernel=\"radial\")\n",
    "    \n",
    "    # Scale valdat.\n",
    "    valdat_scaled <- scale(valdat[, -1], center=train_centers,\n",
    "                         scale=train_scales)\n",
    "    valdat_scaled <- as.data.frame(valdat_scaled, \n",
    "                                   row.names=rownames(valdat),\n",
    "                                   col.names=colnames(valdat))\n",
    "    \n",
    "    preds <- predict(svmmod, newdata= valdat_scaled)\n",
    "    ans <- table(preds, as.factor(valdat$Inland))\n",
    "\n",
    "    mat <- as.matrix(ans)\n",
    "    mat[is.na(mat)] <- 0\n",
    "    percent_correct <- round(sum(diag(mat))/floor(sum(mat)), 4)\n",
    "    # result <- round((0.4 * percent_correct + 0.6 * get_fscore(mat)), 4)\n",
    "    return(percent_correct)\n",
    "}\n"
   ]
  },
  {
   "cell_type": "code",
   "execution_count": 145,
   "metadata": {},
   "outputs": [],
   "source": [
    "# This grid search searches for the best parameters for svm\n",
    "# modeling of the data.  It takes a vector of seeds.\n",
    "\n",
    "gridSearch_svm <- function(seedv, dat, gammav, costv, folds=5) {\n",
    "    \n",
    "    gamma_len <- length(gammav)\n",
    "    cost_len <- length(costv)\n",
    "    # We need to capture the gridSearch parameters as well as \n",
    "    # the cross-val  scores.\n",
    "    datout <- rep(NA, 2 * gamma_len * cost_len)\n",
    "    dim(datout) <- c((gamma_len * cost_len), 2)\n",
    "    datout <- as.data.frame(datout)\n",
    "    colnames(datout) <- c(\"params\", \"Acc\")\n",
    "    datout$params <- \"\"\n",
    "    \n",
    "    # Divide dat by the number of folds to get a\n",
    "    # size for each fold.\n",
    "    segment_size <- round(nrow(dat)/folds)\n",
    "    diff <- nrow(dat) - folds * segment_size\n",
    "    last_seg_size <- segment_size + diff\n",
    "    segmentsv <- c(rep(segment_size, (folds - 1)), last_seg_size)\n",
    "    stopifnot(sum(segmentsv) == nrow(dat))\n",
    "    \n",
    "    index <- 0\n",
    "    for(i in 1:gamma_len) {\n",
    "        gamma <- gammav[i]\n",
    "        for(j in 1:cost_len) {\n",
    "            index <- index + 1\n",
    "            cost <- costv[j]\n",
    "            param_string <- paste(as.character(gamma), \n",
    "                                  as.character(cost), sep= \"--\")\n",
    "            datout$params[index] <- param_string\n",
    "            \n",
    "            # Each set of parameters gets tested over many folds.\n",
    "            # The different folds are created using different seeds.\n",
    "    \n",
    "            # Create a vector to store the accuracy score for each seed.\n",
    "            seedv_len <- length(seedv)\n",
    "            seed_scores <- rep(NA, seedv_len)\n",
    "    \n",
    "            for(h in 1:seedv_len) {\n",
    "                # shuffle dat\n",
    "                cur_seed <- seedv[h]\n",
    "                set.seed(cur_seed)\n",
    "                smp <- sample(rownames(dat), nrow(dat), replace= FALSE)\n",
    "                dat <- dat[smp,]\n",
    "    \n",
    "                # Each element of row_list will be the rows we pick\n",
    "                # out for one of the folds.  E.g., the first element\n",
    "                # of row_list will contain the rows we want for the\n",
    "                # first fold, the second element of row_list will\n",
    "                # contain the rows we want for the second fold, and\n",
    "                # so forth.\n",
    "                row_list <- vector(\"list\", length=folds)\n",
    "                names(row_list) <- as.character(1:folds)\n",
    "                startpt <- 1\n",
    "                for(k in 1:folds) {\n",
    "                    endpt <- startpt + segmentsv[k] - 1\n",
    "                    stopifnot(endpt <= nrow(dat))\n",
    "                    row_list[[k]] <- rownames(dat)[startpt:endpt]\n",
    "                    startpt <- endpt + 1\n",
    "                }\n",
    "            \n",
    "                train_list <- test_list <- vector(\"list\", length= folds)\n",
    "                for(k in 1:folds) {\n",
    "                    testdat <- dat[row_list[[k]],]\n",
    "                    traindat <- dat[which(!(rownames(dat) %in% rownames(testdat))),]\n",
    "                    stopifnot((length(rownames(traindat)) + length(rownames(testdat))) == nrow(dat))\n",
    "                    test_list[[k]] <- testdat\n",
    "                    train_list[[k]] <- traindat\n",
    "                }\n",
    "                # When there are only 5 folds, only 5 cores get used.\n",
    "                scores <- mcmapply(get_acc_svm, train_list, test_list,\n",
    "                                   MoreArgs= list(gamma=gamma, cost=cost),\n",
    "                                   SIMPLIFY= TRUE, mc.cores=5)\n",
    "                # For the current seed, store the average of the Acc\n",
    "                # scores, the average taken over the folds.\n",
    "                seed_scores[h] <- round(mean(scores), 5)\n",
    "        \n",
    "            } ## end of for-loop, index h\n",
    "            \n",
    "            # Here I am taking an average of average scores.  This\n",
    "            # could be improved by simply taking a single average.\n",
    "            datout$Acc[index] <- round(mean(seed_scores), 5)\n",
    "            \n",
    "        } ## end of for-loop, index j\n",
    "    } ## end of for-loop, index i\n",
    "    \n",
    "    return(datout)\n",
    "}\n"
   ]
  },
  {
   "cell_type": "code",
   "execution_count": 149,
   "metadata": {},
   "outputs": [
    {
     "data": {
      "text/html": [
       "'Start time: 2021-07-27 15:52:54'"
      ],
      "text/latex": [
       "'Start time: 2021-07-27 15:52:54'"
      ],
      "text/markdown": [
       "'Start time: 2021-07-27 15:52:54'"
      ],
      "text/plain": [
       "[1] \"Start time: 2021-07-27 15:52:54\""
      ]
     },
     "metadata": {},
     "output_type": "display_data"
    },
    {
     "data": {
      "text/plain": [
       "Time difference of 4.51 mins"
      ]
     },
     "metadata": {},
     "output_type": "display_data"
    },
    {
     "data": {
      "text/html": [
       "'0.02--50'"
      ],
      "text/latex": [
       "'0.02--50'"
      ],
      "text/markdown": [
       "'0.02--50'"
      ],
      "text/plain": [
       "[1] \"0.02--50\""
      ]
     },
     "metadata": {},
     "output_type": "display_data"
    },
    {
     "data": {
      "text/html": [
       "0.83964"
      ],
      "text/latex": [
       "0.83964"
      ],
      "text/markdown": [
       "0.83964"
      ],
      "text/plain": [
       "[1] 0.83964"
      ]
     },
     "metadata": {},
     "output_type": "display_data"
    }
   ],
   "source": [
    "# Run grid search to get better parameters for the \n",
    "# svm classifier.\n",
    "\n",
    "set.seed(7543)\n",
    "seed_vector <- sample(1:9999, 5, replace=FALSE)\n",
    "\n",
    "gamma_v <- seq(0.02, 0.1, by=0.02)\n",
    "cost_v <- seq(50, 200, by=50)\n",
    "\n",
    "start <- Sys.time()\n",
    "paste(\"Start time: \", start, sep=\"\")\n",
    "ans <- gridSearch_svm(seed_vector, traindat, gamma_v, cost_v)\n",
    "stop <- Sys.time()\n",
    "round(stop - start, 2)\n",
    "# Time difference of 5 mins (with 5 seeds)\n",
    "\n",
    "(best_params <- ans[which(ans$Acc == max(ans$Acc)),]$params)\n",
    "# '0.02--50'\n",
    "\n",
    "(best_Acc <- ans[which(ans$Acc == max(ans$Acc)),]$Acc)\n",
    "# 0.8396\n"
   ]
  },
  {
   "cell_type": "code",
   "execution_count": 151,
   "metadata": {},
   "outputs": [
    {
     "data": {
      "text/plain": [
       "Time difference of 3.1 mins"
      ]
     },
     "metadata": {},
     "output_type": "display_data"
    },
    {
     "data": {
      "text/html": [
       "'0.02--35'"
      ],
      "text/latex": [
       "'0.02--35'"
      ],
      "text/markdown": [
       "'0.02--35'"
      ],
      "text/plain": [
       "[1] \"0.02--35\""
      ]
     },
     "metadata": {},
     "output_type": "display_data"
    },
    {
     "data": {
      "text/html": [
       "0.83994"
      ],
      "text/latex": [
       "0.83994"
      ],
      "text/markdown": [
       "0.83994"
      ],
      "text/plain": [
       "[1] 0.83994"
      ]
     },
     "metadata": {},
     "output_type": "display_data"
    }
   ],
   "source": [
    "# Refine the grid search.\n",
    "\n",
    "set.seed(7541)\n",
    "seed_vector <- sample(1:9999, 21, replace=FALSE)\n",
    "\n",
    "gamma_v <- seq(0.01, 0.02, by=0.01)\n",
    "cost_v <- c(35, 50)\n",
    "\n",
    "start <- Sys.time()\n",
    "# paste(\"Start time: \", start, sep=\"\")\n",
    "ans <- gridSearch_svm(seed_vector, traindat, gamma_v, cost_v)\n",
    "stop <- Sys.time()\n",
    "round(stop - start, 2)\n",
    "# Time difference of 3 mins (with 5 seeds)\n",
    "\n",
    "(best_params <- ans[which(ans$Acc == max(ans$Acc)),]$params)\n",
    "# '0.02--35'\n",
    "\n",
    "(best_Acc <- ans[which(ans$Acc == max(ans$Acc)),]$Acc)\n",
    "# 0.8399\n"
   ]
  },
  {
   "cell_type": "code",
   "execution_count": null,
   "metadata": {},
   "outputs": [],
   "source": [
    "#&* Bookmark"
   ]
  },
  {
   "cell_type": "code",
   "execution_count": 152,
   "metadata": {},
   "outputs": [
    {
     "data": {
      "text/plain": [
       "    \n",
       "pred    0    1\n",
       "   0 6687 1072\n",
       "   1  624 2220"
      ]
     },
     "metadata": {},
     "output_type": "display_data"
    },
    {
     "name": "stdout",
     "output_type": "stream",
     "text": [
      "[1] \"f-score for 'best' svm classifier, trainset: 0.7236\"\n"
     ]
    }
   ],
   "source": [
    "# Construct an svm with the identified parameters.\n",
    "\n",
    "# We need to get probability estimates from the output.\n",
    "## Note the use of svm_scaled (which is just svmtrain, scaled)\n",
    "svm02 <- svm(I(as.factor(Inland)) ~ ., data=svm_scaled, kernel=\"radial\",\n",
    "               gamma=0.02, cost=35, scale=FALSE, probability=TRUE)\n",
    "\n",
    "pred <- fitted(svm02)\n",
    "(ans <- table(pred, as.factor(svm_scaled$Inland)))\n",
    "print(paste(\"f-score for 'best' svm classifier, trainset: \", \n",
    "            as.character(get_fscore(as.matrix(ans))), sep=\"\"))\n",
    "# 0.7236\n",
    "\n",
    "# Accuracy is 0.8400\n",
    "\n",
    "# Type2 is 0.7702\n"
   ]
  },
  {
   "cell_type": "markdown",
   "metadata": {},
   "source": [
    "## Get comparative scores for svm02 on testdat"
   ]
  },
  {
   "cell_type": "code",
   "execution_count": 153,
   "metadata": {},
   "outputs": [],
   "source": [
    "# Function for obtaining a set of scores on the testset data\n",
    "# using svm02 as the classifier.\n",
    "\n",
    "get_testdatScores_svm02 <- function(seedv, dat) {\n",
    "    \n",
    "    seedv_len <- length(seedv)\n",
    "    datout <- rep(NA, 5 * seedv_len)\n",
    "    dim(datout) <- c(seedv_len, 5)\n",
    "    datout <- as.data.frame(datout)\n",
    "    colnames(datout) <- c(\"fscore\",\"Acc\",\"Type2\", \"FN\",\"FP\")\n",
    "    rownames(datout) <- as.character(seedv)\n",
    "    \n",
    "    for(h in 1:seedv_len) {\n",
    "        # shuffle dat\n",
    "        cur_seed <- seedv[h]\n",
    "        set.seed(cur_seed)\n",
    "        # It is expected that dat is testdat, which has 10K rcds\n",
    "        smp <- sample(rownames(dat), 4000, replace= FALSE)\n",
    "        df <- dat[smp,]\n",
    "        \n",
    "        df_scaled <- scale(df[, -1], center=svm_centers,\n",
    "                        scale=svm_scales)\n",
    "        df_scaled <- as.data.frame(cbind(as.numeric(df$Inland),df_scaled), \n",
    "                                   row.names=rownames(df))\n",
    "        colnames(df_scaled) <- colnames(df)\n",
    "        \n",
    "        preds <- predict(svm02, newdata=df_scaled, scale=FALSE, probability=TRUE)\n",
    "        preds_transf <- as.numeric(attr(preds, \"probabilities\")[, 2])\n",
    "        names(preds_transf) <- rownames(df)\n",
    "        preds_transf[which(preds_transf >= 0.5)] <- 1\n",
    "        preds_transf[which(preds_transf < 0.5)] <- 0\n",
    "        preds_transf <- as.factor(preds_transf)\n",
    "        ans <- get_confusion(preds_transf, df[, \"Inland\", drop=FALSE])\n",
    "        \n",
    "        mat <- as.matrix(ans[[1]])\n",
    "        mat[is.na(mat)] <- 0\n",
    "        fscore <- round(as.numeric(ans[[2]]), 4)\n",
    "        acc <- round(sum(diag(mat))/floor(sum(mat)), 4)\n",
    "        type2 <- round((0.4 * acc + 0.6 * ans[[2]]), 4)\n",
    "        FN <- as.numeric(mat[2,1])\n",
    "        FP <- as.numeric(mat[1,2])\n",
    "        datout[as.character(cur_seed), 1:5] <- c(fscore,acc,type2,FN,FP)\n",
    "    }\n",
    "    return(datout)\n",
    "}\n"
   ]
  },
  {
   "cell_type": "code",
   "execution_count": 154,
   "metadata": {},
   "outputs": [
    {
     "data": {
      "text/plain": [
       "Time difference of 57.92 secs"
      ]
     },
     "metadata": {},
     "output_type": "display_data"
    }
   ],
   "source": [
    "# Get svm02's scores on the testset data.  For each of\n",
    "# the 250 seeds, I sample 4K (no replacement) from the 10K\n",
    "# set of testdat records.\n",
    "\n",
    "set.seed(1821)\n",
    "seed_vector <- sample(1:9999, 250, replace=FALSE)\n",
    "\n",
    "start <- Sys.time()\n",
    "# paste(\"Start time: \", start, sep=\"\")\n",
    "dat_result <- get_testdatScores_svm02(seed_vector, testdat)\n",
    "stop <- Sys.time()\n",
    "round(stop - start, 2)\n",
    "# Time difference of 58 secs\n"
   ]
  },
  {
   "cell_type": "code",
   "execution_count": 155,
   "metadata": {},
   "outputs": [
    {
     "data": {
      "text/html": [
       "<style>\n",
       ".list-inline {list-style: none; margin:0; padding: 0}\n",
       ".list-inline>li {display: inline-block}\n",
       ".list-inline>li:not(:last-child)::after {content: \"\\00b7\"; padding: 0 .5ex}\n",
       "</style>\n",
       "<ol class=list-inline><li>250</li><li>5</li></ol>\n"
      ],
      "text/latex": [
       "\\begin{enumerate*}\n",
       "\\item 250\n",
       "\\item 5\n",
       "\\end{enumerate*}\n"
      ],
      "text/markdown": [
       "1. 250\n",
       "2. 5\n",
       "\n",
       "\n"
      ],
      "text/plain": [
       "[1] 250   5"
      ]
     },
     "metadata": {},
     "output_type": "display_data"
    },
    {
     "data": {
      "text/html": [
       "<table class=\"dataframe\">\n",
       "<caption>A data.frame: 6 × 5</caption>\n",
       "<thead>\n",
       "\t<tr><th></th><th scope=col>fscore</th><th scope=col>Acc</th><th scope=col>Type2</th><th scope=col>FN</th><th scope=col>FP</th></tr>\n",
       "\t<tr><th></th><th scope=col>&lt;dbl&gt;</th><th scope=col>&lt;dbl&gt;</th><th scope=col>&lt;dbl&gt;</th><th scope=col>&lt;dbl&gt;</th><th scope=col>&lt;dbl&gt;</th></tr>\n",
       "</thead>\n",
       "<tbody>\n",
       "\t<tr><th scope=row>5934</th><td>0.7167</td><td>0.8310</td><td>0.7624</td><td>416</td><td>260</td></tr>\n",
       "\t<tr><th scope=row>1953</th><td>0.7165</td><td>0.8295</td><td>0.7617</td><td>428</td><td>254</td></tr>\n",
       "\t<tr><th scope=row>7591</th><td>0.7214</td><td>0.8338</td><td>0.7664</td><td>420</td><td>245</td></tr>\n",
       "\t<tr><th scope=row>1038</th><td>0.7170</td><td>0.8315</td><td>0.7628</td><td>398</td><td>276</td></tr>\n",
       "\t<tr><th scope=row>49</th><td>0.7091</td><td>0.8208</td><td>0.7538</td><td>454</td><td>263</td></tr>\n",
       "\t<tr><th scope=row>3203</th><td>0.7267</td><td>0.8348</td><td>0.7699</td><td>444</td><td>217</td></tr>\n",
       "</tbody>\n",
       "</table>\n"
      ],
      "text/latex": [
       "A data.frame: 6 × 5\n",
       "\\begin{tabular}{r|lllll}\n",
       "  & fscore & Acc & Type2 & FN & FP\\\\\n",
       "  & <dbl> & <dbl> & <dbl> & <dbl> & <dbl>\\\\\n",
       "\\hline\n",
       "\t5934 & 0.7167 & 0.8310 & 0.7624 & 416 & 260\\\\\n",
       "\t1953 & 0.7165 & 0.8295 & 0.7617 & 428 & 254\\\\\n",
       "\t7591 & 0.7214 & 0.8338 & 0.7664 & 420 & 245\\\\\n",
       "\t1038 & 0.7170 & 0.8315 & 0.7628 & 398 & 276\\\\\n",
       "\t49 & 0.7091 & 0.8208 & 0.7538 & 454 & 263\\\\\n",
       "\t3203 & 0.7267 & 0.8348 & 0.7699 & 444 & 217\\\\\n",
       "\\end{tabular}\n"
      ],
      "text/markdown": [
       "\n",
       "A data.frame: 6 × 5\n",
       "\n",
       "| <!--/--> | fscore &lt;dbl&gt; | Acc &lt;dbl&gt; | Type2 &lt;dbl&gt; | FN &lt;dbl&gt; | FP &lt;dbl&gt; |\n",
       "|---|---|---|---|---|---|\n",
       "| 5934 | 0.7167 | 0.8310 | 0.7624 | 416 | 260 |\n",
       "| 1953 | 0.7165 | 0.8295 | 0.7617 | 428 | 254 |\n",
       "| 7591 | 0.7214 | 0.8338 | 0.7664 | 420 | 245 |\n",
       "| 1038 | 0.7170 | 0.8315 | 0.7628 | 398 | 276 |\n",
       "| 49 | 0.7091 | 0.8208 | 0.7538 | 454 | 263 |\n",
       "| 3203 | 0.7267 | 0.8348 | 0.7699 | 444 | 217 |\n",
       "\n"
      ],
      "text/plain": [
       "     fscore Acc    Type2  FN  FP \n",
       "5934 0.7167 0.8310 0.7624 416 260\n",
       "1953 0.7165 0.8295 0.7617 428 254\n",
       "7591 0.7214 0.8338 0.7664 420 245\n",
       "1038 0.7170 0.8315 0.7628 398 276\n",
       "49   0.7091 0.8208 0.7538 454 263\n",
       "3203 0.7267 0.8348 0.7699 444 217"
      ]
     },
     "metadata": {},
     "output_type": "display_data"
    }
   ],
   "source": [
    "dim(dat_result)\n",
    "head(dat_result)\n"
   ]
  },
  {
   "cell_type": "code",
   "execution_count": 156,
   "metadata": {},
   "outputs": [
    {
     "data": {
      "text/html": [
       "'fscore mean: 0.7175'"
      ],
      "text/latex": [
       "'fscore mean: 0.7175'"
      ],
      "text/markdown": [
       "'fscore mean: 0.7175'"
      ],
      "text/plain": [
       "[1] \"fscore mean: 0.7175\""
      ]
     },
     "metadata": {},
     "output_type": "display_data"
    },
    {
     "data": {
      "text/html": [
       "'fscore StdDev: 0.0078'"
      ],
      "text/latex": [
       "'fscore StdDev: 0.0078'"
      ],
      "text/markdown": [
       "'fscore StdDev: 0.0078'"
      ],
      "text/plain": [
       "[1] \"fscore StdDev: 0.0078\""
      ]
     },
     "metadata": {},
     "output_type": "display_data"
    },
    {
     "data": {
      "text/html": [
       "''"
      ],
      "text/latex": [
       "''"
      ],
      "text/markdown": [
       "''"
      ],
      "text/plain": [
       "[1] \"\""
      ]
     },
     "metadata": {},
     "output_type": "display_data"
    },
    {
     "data": {
      "text/plain": [
       "   Min. 1st Qu.  Median    Mean 3rd Qu.    Max. \n",
       "  0.694   0.713   0.717   0.718   0.723   0.741 "
      ]
     },
     "metadata": {},
     "output_type": "display_data"
    }
   ],
   "source": [
    "fscore_mean <- round(mean(dat_result$fscore), 4)\n",
    "fscore_sd <- round(sd(dat_result$fscore), 4)\n",
    "paste0(\"fscore mean: \", as.character(fscore_mean))\n",
    "# 0.7175\n",
    "paste0(\"fscore StdDev: \", as.character(fscore_sd))\n",
    "# 0.0078\n",
    "\"\"\n",
    "summary(dat_result$fscore)\n"
   ]
  },
  {
   "cell_type": "code",
   "execution_count": 157,
   "metadata": {},
   "outputs": [
    {
     "data": {
      "text/html": [
       "'accuracy mean: 0.8306'"
      ],
      "text/latex": [
       "'accuracy mean: 0.8306'"
      ],
      "text/markdown": [
       "'accuracy mean: 0.8306'"
      ],
      "text/plain": [
       "[1] \"accuracy mean: 0.8306\""
      ]
     },
     "metadata": {},
     "output_type": "display_data"
    },
    {
     "data": {
      "text/html": [
       "'accuracy StdDev: 0.0044'"
      ],
      "text/latex": [
       "'accuracy StdDev: 0.0044'"
      ],
      "text/markdown": [
       "'accuracy StdDev: 0.0044'"
      ],
      "text/plain": [
       "[1] \"accuracy StdDev: 0.0044\""
      ]
     },
     "metadata": {},
     "output_type": "display_data"
    },
    {
     "data": {
      "text/html": [
       "''"
      ],
      "text/latex": [
       "''"
      ],
      "text/markdown": [
       "''"
      ],
      "text/plain": [
       "[1] \"\""
      ]
     },
     "metadata": {},
     "output_type": "display_data"
    },
    {
     "data": {
      "text/plain": [
       "   Min. 1st Qu.  Median    Mean 3rd Qu.    Max. \n",
       "  0.819   0.828   0.831   0.831   0.834   0.842 "
      ]
     },
     "metadata": {},
     "output_type": "display_data"
    }
   ],
   "source": [
    "Acc_mean <- round(mean(dat_result$Acc), 4)\n",
    "Acc_sd <- round(sd(dat_result$Acc), 4)\n",
    "paste0(\"accuracy mean: \", as.character(Acc_mean))\n",
    "# 0.8306\n",
    "paste0(\"accuracy StdDev: \", as.character(Acc_sd))\n",
    "# 0.0044\n",
    "\"\"\n",
    "summary(dat_result$Acc)\n"
   ]
  },
  {
   "cell_type": "code",
   "execution_count": 158,
   "metadata": {},
   "outputs": [
    {
     "data": {
      "text/html": [
       "'Type2 mean: 0.7628'"
      ],
      "text/latex": [
       "'Type2 mean: 0.7628'"
      ],
      "text/markdown": [
       "'Type2 mean: 0.7628'"
      ],
      "text/plain": [
       "[1] \"Type2 mean: 0.7628\""
      ]
     },
     "metadata": {},
     "output_type": "display_data"
    },
    {
     "data": {
      "text/html": [
       "'Type2 StdDev: 0.0062'"
      ],
      "text/latex": [
       "'Type2 StdDev: 0.0062'"
      ],
      "text/markdown": [
       "'Type2 StdDev: 0.0062'"
      ],
      "text/plain": [
       "[1] \"Type2 StdDev: 0.0062\""
      ]
     },
     "metadata": {},
     "output_type": "display_data"
    },
    {
     "data": {
      "text/html": [
       "''"
      ],
      "text/latex": [
       "''"
      ],
      "text/markdown": [
       "''"
      ],
      "text/plain": [
       "[1] \"\""
      ]
     },
     "metadata": {},
     "output_type": "display_data"
    },
    {
     "data": {
      "text/plain": [
       "   Min. 1st Qu.  Median    Mean 3rd Qu.    Max. \n",
       "  0.745   0.759   0.763   0.763   0.767   0.780 "
      ]
     },
     "metadata": {},
     "output_type": "display_data"
    }
   ],
   "source": [
    "Type2_mean <- round(mean(dat_result$Type2), 4)\n",
    "Type2_sd <- round(sd(dat_result$Type2), 4)\n",
    "paste0(\"Type2 mean: \", as.character(Type2_mean))\n",
    "# 0.7628\n",
    "paste0(\"Type2 StdDev: \", as.character(Type2_sd))\n",
    "# 0.0062\n",
    "\"\"\n",
    "summary(dat_result$Type2)\n"
   ]
  },
  {
   "cell_type": "code",
   "execution_count": 159,
   "metadata": {},
   "outputs": [
    {
     "data": {
      "text/html": [
       "'FN mean: 434.43'"
      ],
      "text/latex": [
       "'FN mean: 434.43'"
      ],
      "text/markdown": [
       "'FN mean: 434.43'"
      ],
      "text/plain": [
       "[1] \"FN mean: 434.43\""
      ]
     },
     "metadata": {},
     "output_type": "display_data"
    },
    {
     "data": {
      "text/html": [
       "'FN StdDev: 14.59'"
      ],
      "text/latex": [
       "'FN StdDev: 14.59'"
      ],
      "text/markdown": [
       "'FN StdDev: 14.59'"
      ],
      "text/plain": [
       "[1] \"FN StdDev: 14.59\""
      ]
     },
     "metadata": {},
     "output_type": "display_data"
    },
    {
     "data": {
      "text/html": [
       "''"
      ],
      "text/latex": [
       "''"
      ],
      "text/markdown": [
       "''"
      ],
      "text/plain": [
       "[1] \"\""
      ]
     },
     "metadata": {},
     "output_type": "display_data"
    },
    {
     "data": {
      "text/plain": [
       "   Min. 1st Qu.  Median    Mean 3rd Qu.    Max. \n",
       "    389     425     435     434     444     474 "
      ]
     },
     "metadata": {},
     "output_type": "display_data"
    }
   ],
   "source": [
    "FN_mean <- round(mean(dat_result$FN), 2)\n",
    "FN_sd <- round(sd(dat_result$FN), 2)\n",
    "paste0(\"FN mean: \", as.character(FN_mean))\n",
    "# 434\n",
    "paste0(\"FN StdDev: \", as.character(FN_sd))\n",
    "# 14.6\n",
    "\"\"\n",
    "summary(dat_result$FN)\n"
   ]
  },
  {
   "cell_type": "code",
   "execution_count": 160,
   "metadata": {},
   "outputs": [
    {
     "data": {
      "text/html": [
       "'FP mean: 243.31'"
      ],
      "text/latex": [
       "'FP mean: 243.31'"
      ],
      "text/markdown": [
       "'FP mean: 243.31'"
      ],
      "text/plain": [
       "[1] \"FP mean: 243.31\""
      ]
     },
     "metadata": {},
     "output_type": "display_data"
    },
    {
     "data": {
      "text/html": [
       "'FP StdDev: 11.14'"
      ],
      "text/latex": [
       "'FP StdDev: 11.14'"
      ],
      "text/markdown": [
       "'FP StdDev: 11.14'"
      ],
      "text/plain": [
       "[1] \"FP StdDev: 11.14\""
      ]
     },
     "metadata": {},
     "output_type": "display_data"
    },
    {
     "data": {
      "text/html": [
       "''"
      ],
      "text/latex": [
       "''"
      ],
      "text/markdown": [
       "''"
      ],
      "text/plain": [
       "[1] \"\""
      ]
     },
     "metadata": {},
     "output_type": "display_data"
    },
    {
     "data": {
      "text/plain": [
       "   Min. 1st Qu.  Median    Mean 3rd Qu.    Max. \n",
       "    214     236     244     243     251     276 "
      ]
     },
     "metadata": {},
     "output_type": "display_data"
    }
   ],
   "source": [
    "FP_mean <- round(mean(dat_result$FP), 2)\n",
    "FP_sd <- round(sd(dat_result$FP), 2)\n",
    "paste0(\"FP mean: \", as.character(FP_mean))\n",
    "# 243\n",
    "paste0(\"FP StdDev: \", as.character(FP_sd))\n",
    "#  11.1\n",
    "\"\"\n",
    "summary(dat_result$FP)\n"
   ]
  },
  {
   "cell_type": "code",
   "execution_count": null,
   "metadata": {},
   "outputs": [],
   "source": [
    "### COMMENT:\n",
    "\n",
    "# svm02's performance is equal to that of gbclf_best.\n"
   ]
  },
  {
   "cell_type": "code",
   "execution_count": null,
   "metadata": {},
   "outputs": [],
   "source": []
  },
  {
   "cell_type": "markdown",
   "metadata": {},
   "source": [
    "# Section 2: Model data with k-means"
   ]
  },
  {
   "cell_type": "code",
   "execution_count": 162,
   "metadata": {},
   "outputs": [
    {
     "data": {
      "text/plain": [
       " housing_median_age median_house_value\n",
       " Min.   :0.000      Min.   :0.000     \n",
       " 1st Qu.:0.233      1st Qu.:0.138     \n",
       " Median :0.384      Median :0.216     \n",
       " Mean   :0.385      Mean   :0.258     \n",
       " 3rd Qu.:0.493      3rd Qu.:0.328     \n",
       " Max.   :1.000      Max.   :1.000     "
      ]
     },
     "metadata": {},
     "output_type": "display_data"
    }
   ],
   "source": [
    "# We need to first scale the data.\n",
    "\n",
    "kmtrain_scaled <- scale(traindat[, -1], center=TRUE, scale=TRUE)\n",
    "kmtrain_centers <- attr(kmtrain_scaled, \"scaled:center\")\n",
    "kmtrain_scales <- attr(kmtrain_scaled, \"scaled:scale\")\n",
    "\n",
    "# Map the values into the range [0, 1].  (I am not \n",
    "# sure whether this makes things better or worse.)\n",
    "kmtrain_scaled <- apply(kmtrain_scaled, MARGIN=2, range01)\n",
    "summary(kmtrain_scaled)\n",
    "kmtrain_scaled <- as.data.frame(cbind(as.numeric(traindat$Inland), kmtrain_scaled),\n",
    "                            row.names=rownames(traindat))\n",
    "colnames(kmtrain_scaled) <- colnames(traindat)\n"
   ]
  },
  {
   "cell_type": "markdown",
   "metadata": {},
   "source": [
    "## Construct initial k-means model"
   ]
  },
  {
   "cell_type": "code",
   "execution_count": 163,
   "metadata": {},
   "outputs": [
    {
     "data": {
      "text/plain": [
       "Time difference of 0.05 secs"
      ]
     },
     "metadata": {},
     "output_type": "display_data"
    },
    {
     "name": "stdout",
     "output_type": "stream",
     "text": [
      "[1] 5139 5464\n"
     ]
    }
   ],
   "source": [
    "# Run k-means algorithm with number of clusters set to 2.\n",
    "# Make sure to remove the Inland column.\n",
    "\n",
    "set.seed(1233)\n",
    "start <- Sys.time()\n",
    "km_mod <- kmeans(kmtrain_scaled[, -1], 2, iter.max = 50, nstart = 15)\n",
    "stop <- Sys.time()\n",
    "round(stop - start, 2)\n",
    "# Time difference of 0.04 secs\n",
    "\n",
    "print(km_mod$size)\n"
   ]
  },
  {
   "cell_type": "code",
   "execution_count": 164,
   "metadata": {},
   "outputs": [
    {
     "data": {
      "text/html": [
       "<table class=\"dataframe\">\n",
       "<caption>A data.frame: 6 × 2</caption>\n",
       "<thead>\n",
       "\t<tr><th></th><th scope=col>Inland</th><th scope=col>cluster</th></tr>\n",
       "\t<tr><th></th><th scope=col>&lt;dbl&gt;</th><th scope=col>&lt;dbl&gt;</th></tr>\n",
       "</thead>\n",
       "<tbody>\n",
       "\t<tr><th scope=row>15111</th><td>0</td><td>2</td></tr>\n",
       "\t<tr><th scope=row>20002</th><td>1</td><td>2</td></tr>\n",
       "\t<tr><th scope=row>13570</th><td>1</td><td>1</td></tr>\n",
       "\t<tr><th scope=row>20333</th><td>0</td><td>2</td></tr>\n",
       "\t<tr><th scope=row>10614</th><td>0</td><td>2</td></tr>\n",
       "\t<tr><th scope=row>18538</th><td>0</td><td>2</td></tr>\n",
       "</tbody>\n",
       "</table>\n"
      ],
      "text/latex": [
       "A data.frame: 6 × 2\n",
       "\\begin{tabular}{r|ll}\n",
       "  & Inland & cluster\\\\\n",
       "  & <dbl> & <dbl>\\\\\n",
       "\\hline\n",
       "\t15111 & 0 & 2\\\\\n",
       "\t20002 & 1 & 2\\\\\n",
       "\t13570 & 1 & 1\\\\\n",
       "\t20333 & 0 & 2\\\\\n",
       "\t10614 & 0 & 2\\\\\n",
       "\t18538 & 0 & 2\\\\\n",
       "\\end{tabular}\n"
      ],
      "text/markdown": [
       "\n",
       "A data.frame: 6 × 2\n",
       "\n",
       "| <!--/--> | Inland &lt;dbl&gt; | cluster &lt;dbl&gt; |\n",
       "|---|---|---|\n",
       "| 15111 | 0 | 2 |\n",
       "| 20002 | 1 | 2 |\n",
       "| 13570 | 1 | 1 |\n",
       "| 20333 | 0 | 2 |\n",
       "| 10614 | 0 | 2 |\n",
       "| 18538 | 0 | 2 |\n",
       "\n"
      ],
      "text/plain": [
       "      Inland cluster\n",
       "15111 0      2      \n",
       "20002 1      2      \n",
       "13570 1      1      \n",
       "20333 0      2      \n",
       "10614 0      2      \n",
       "18538 0      2      "
      ]
     },
     "metadata": {},
     "output_type": "display_data"
    }
   ],
   "source": [
    "datout <- as.data.frame(cbind(kmtrain_scaled$Inland, km_mod$cluster))\n",
    "colnames(datout) <- c(\"Inland\", \"cluster\")\n",
    "rownames(datout) <- rownames(kmtrain_scaled)\n",
    "head(datout)\n"
   ]
  },
  {
   "cell_type": "code",
   "execution_count": 166,
   "metadata": {},
   "outputs": [
    {
     "data": {
      "text/plain": [
       "   \n",
       "       1    2\n",
       "  0 4227 3084\n",
       "  1  912 2380"
      ]
     },
     "metadata": {},
     "output_type": "display_data"
    },
    {
     "name": "stdout",
     "output_type": "stream",
     "text": [
      "1 2 \n",
      "1 1 \n"
     ]
    }
   ],
   "source": [
    "# max_vals identifies the Inland level we would expect \n",
    "# each cluster to map to.\n",
    "\n",
    "(mat <- as.matrix(table(datout$Inland, as.factor(datout$cluster))))\n",
    "max_vals <- apply(mat, MARGIN=2, which.max); print(max_vals)\n"
   ]
  },
  {
   "cell_type": "code",
   "execution_count": 167,
   "metadata": {},
   "outputs": [
    {
     "data": {
      "text/html": [
       "<span style=white-space:pre-wrap>'Map cluster 1 to Inland level 1? :  FALSE'</span>"
      ],
      "text/latex": [
       "'Map cluster 1 to Inland level 1? :  FALSE'"
      ],
      "text/markdown": [
       "<span style=white-space:pre-wrap>'Map cluster 1 to Inland level 1? :  FALSE'</span>"
      ],
      "text/plain": [
       "[1] \"Map cluster 1 to Inland level 1? :  FALSE\""
      ]
     },
     "metadata": {},
     "output_type": "display_data"
    }
   ],
   "source": [
    "# Use function c1_toLevel_1 to get the correct \n",
    "# mapping between clusters and Inland levels.\n",
    "\n",
    "c1_to_Inland1 <- c1_toLevel_1(datout)\n",
    "\n",
    "paste(\"Map cluster 1 to Inland level 1? :  \", c1_to_Inland1, sep=\"\")\n"
   ]
  },
  {
   "cell_type": "code",
   "execution_count": 171,
   "metadata": {},
   "outputs": [
    {
     "data": {
      "text/html": [
       "<style>\n",
       ".list-inline {list-style: none; margin:0; padding: 0}\n",
       ".list-inline>li {display: inline-block}\n",
       ".list-inline>li:not(:last-child)::after {content: \"\\00b7\"; padding: 0 .5ex}\n",
       "</style>\n",
       "<ol class=list-inline><li>10603</li><li>2</li></ol>\n"
      ],
      "text/latex": [
       "\\begin{enumerate*}\n",
       "\\item 10603\n",
       "\\item 2\n",
       "\\end{enumerate*}\n"
      ],
      "text/markdown": [
       "1. 10603\n",
       "2. 2\n",
       "\n",
       "\n"
      ],
      "text/plain": [
       "[1] 10603     2"
      ]
     },
     "metadata": {},
     "output_type": "display_data"
    }
   ],
   "source": [
    "tmpdat <- datout\n",
    "tmpdat[which(tmpdat$cluster== 1),]$Inland <- 0\n",
    "tmpdat[which(tmpdat$cluster== 2),]$Inland <- 1\n",
    "dim(tmpdat)\n"
   ]
  },
  {
   "cell_type": "code",
   "execution_count": 172,
   "metadata": {},
   "outputs": [
    {
     "data": {
      "text/html": [
       "TRUE"
      ],
      "text/latex": [
       "TRUE"
      ],
      "text/markdown": [
       "TRUE"
      ],
      "text/plain": [
       "[1] TRUE"
      ]
     },
     "metadata": {},
     "output_type": "display_data"
    },
    {
     "data": {
      "text/plain": [
       "\n",
       "   0    1 \n",
       "5139 5464 "
      ]
     },
     "metadata": {},
     "output_type": "display_data"
    }
   ],
   "source": [
    "sum(rownames(tmpdat) == rownames(kmtrain_scaled)) == nrow(kmtrain_scaled)\n",
    "table(as.factor(tmpdat$Inland))\n"
   ]
  },
  {
   "cell_type": "code",
   "execution_count": 173,
   "metadata": {},
   "outputs": [
    {
     "name": "stdout",
     "output_type": "stream",
     "text": [
      "     0    1 class.error\n",
      "0 4227 3084      0.4218\n",
      "1  912 2380      0.2770\n"
     ]
    },
    {
     "data": {
      "text/html": [
       "''"
      ],
      "text/latex": [
       "''"
      ],
      "text/markdown": [
       "''"
      ],
      "text/plain": [
       "[1] \"\""
      ]
     },
     "metadata": {},
     "output_type": "display_data"
    },
    {
     "name": "stdout",
     "output_type": "stream",
     "text": [
      "[1] \"f-score for k-means base model on training set: 0.5436\"\n"
     ]
    }
   ],
   "source": [
    "# Get initial set of scores for the k-means base model.\n",
    "\n",
    "preds <- as.factor(tmpdat$Inland)\n",
    "names(preds) <- rownames(tmpdat)\n",
    "ans <- get_confusion(preds, kmtrain_scaled[, \"Inland\", drop=FALSE])\n",
    "print(ans$matrix)\n",
    "''\n",
    "print(paste(\"f-score for k-means base model on training set: \", as.character(ans[[2]]), sep=\"\"))\n",
    "# f-score: 0.5436\n",
    "\n",
    "# Accuracy: 0.6231\n",
    "\n",
    "# Type2: 0.5754\n"
   ]
  },
  {
   "cell_type": "code",
   "execution_count": null,
   "metadata": {},
   "outputs": [],
   "source": [
    "### COMMENT:\n",
    "\n",
    "# The k-means algorithm has difficulty with this dataset.\n",
    "# We see from the following wss plot that k-means would \n",
    "# do somewhat better if we asked it to find 3 clusters, not\n",
    "# 2.\n"
   ]
  },
  {
   "cell_type": "code",
   "execution_count": 174,
   "metadata": {},
   "outputs": [
    {
     "data": {
      "image/png": "[encoded data removed]",
      "text/plain": [
       "Plot with title “wss plot for the CA data; no prob01 column”"
      ]
     },
     "metadata": {
      "image/png": {
       "height": 420,
       "width": 600
      }
     },
     "output_type": "display_data"
    }
   ],
   "source": [
    "# See whether 2 clusters makes sense for this dataframe.\n",
    "\n",
    "options(repr.plot.width= 10, repr.plot.height= 7)\n",
    "\n",
    "wssplot(kmtrain_scaled[, -1], title= \"wss plot for the CA data; no prob01 column\")\n"
   ]
  },
  {
   "cell_type": "code",
   "execution_count": null,
   "metadata": {},
   "outputs": [],
   "source": [
    "### COMMENT:\n",
    "\n",
    "# The wss plot suggests that a more natural solution\n",
    "# might be 3 clusters rather than 2.\n",
    "\n",
    "# So, unlike the downer cow data, there is not a natural\n",
    "# ordering into 2 subgroups.  Recall that with the cow data\n",
    "# the specific purpose of collecting variables such as \n",
    "# AST and CK was to see if they could help in distinguishing\n",
    "# the surviving cows from the non-survivors.  By contrast, \n",
    "# the CA housing variables I am working with were not \n",
    "# collected with the purpose of distinguishing Inland \n",
    "# districts from districts closer to the ocean.  So it is \n",
    "# reasonable that a 2-cluster solution is not obvious.\n"
   ]
  },
  {
   "cell_type": "markdown",
   "metadata": {},
   "source": [
    "## Construct hybrid k-means model with prob01 from f03"
   ]
  },
  {
   "cell_type": "markdown",
   "metadata": {},
   "source": [
    "If a hybrid model exists which outperforms the other models we have surveyed (namely svm02 and gbclf_best, since they have the best sets of scores), it very likely will require at least 2 probability columns.  The first will be needed simply to nudge k-means to a 2-cluster solution.  The second might then be able to further boost the hybrid model's scores.\n",
    "\n",
    "For the first probability column I will use the weakest model, f03, not because it is the weakest but rather because it so clearly differs from the other models, having far fewer false positives.  Then for prob02 I can choose between gbclf_best and svm02.\n",
    "\n"
   ]
  },
  {
   "cell_type": "code",
   "execution_count": 177,
   "metadata": {},
   "outputs": [
    {
     "data": {
      "text/plain": [
       "   Min. 1st Qu.  Median    Mean 3rd Qu.    Max. \n",
       "0.00042 0.05881 0.19012 0.31048 0.53251 0.99946 "
      ]
     },
     "metadata": {},
     "output_type": "display_data"
    }
   ],
   "source": [
    "# Add a prob01 column to kmtrain.\n",
    "\n",
    "preds <- predict(f03, newdata=traindat, type=\"response\")\n",
    "\n",
    "kmtrain_scaled$prob01 <- preds\n",
    "summary(kmtrain_scaled$prob01)\n"
   ]
  },
  {
   "cell_type": "code",
   "execution_count": 178,
   "metadata": {},
   "outputs": [
    {
     "data": {
      "image/png": "[encoded data removed]",
      "text/plain": [
       "Plot with title “wss plot for the CA data with prob01 column”"
      ]
     },
     "metadata": {
      "image/png": {
       "height": 420,
       "width": 600
      }
     },
     "output_type": "display_data"
    }
   ],
   "source": [
    "# See if a 2-cluster solution now makes more sense.\n",
    "\n",
    "options(repr.plot.width= 10, repr.plot.height= 7)\n",
    "\n",
    "suppressMessages(wssplot(kmtrain_scaled[, -1], \n",
    "        title= \"wss plot for the CA data with prob01 column\"))\n"
   ]
  },
  {
   "cell_type": "code",
   "execution_count": null,
   "metadata": {},
   "outputs": [],
   "source": [
    "### COMMENT:\n",
    "\n",
    "# This is exactly the kind of curve we want to see if\n",
    "# we want to partition the data into 2 clusters.\n"
   ]
  },
  {
   "cell_type": "markdown",
   "metadata": {},
   "source": [
    "### Get scores on trainset for k-means with prob01, no weights"
   ]
  },
  {
   "cell_type": "code",
   "execution_count": 179,
   "metadata": {},
   "outputs": [
    {
     "data": {
      "text/plain": [
       "Time difference of 0.04 secs"
      ]
     },
     "metadata": {},
     "output_type": "display_data"
    },
    {
     "name": "stdout",
     "output_type": "stream",
     "text": [
      "[1] 6955 3648\n"
     ]
    }
   ],
   "source": [
    "# Run k-means algorithm with number of clusters set to 2.\n",
    "\n",
    "set.seed(1233)\n",
    "start <- Sys.time()\n",
    "kmp1 <- kmeans(kmtrain_scaled[, -1], 2, iter.max = 50, nstart = 15)\n",
    "stop <- Sys.time()\n",
    "round(stop - start, 2)\n",
    "# Time difference of 0.03 secs\n",
    "\n",
    "print(kmp1$size)\n"
   ]
  },
  {
   "cell_type": "code",
   "execution_count": 180,
   "metadata": {},
   "outputs": [
    {
     "data": {
      "text/html": [
       "<span style=white-space:pre-wrap>'Map cluster 1 to Inland level 1? :  FALSE'</span>"
      ],
      "text/latex": [
       "'Map cluster 1 to Inland level 1? :  FALSE'"
      ],
      "text/markdown": [
       "<span style=white-space:pre-wrap>'Map cluster 1 to Inland level 1? :  FALSE'</span>"
      ],
      "text/plain": [
       "[1] \"Map cluster 1 to Inland level 1? :  FALSE\""
      ]
     },
     "metadata": {},
     "output_type": "display_data"
    }
   ],
   "source": [
    "datout <- as.data.frame(cbind(kmtrain_scaled$Inland, kmp1$cluster))\n",
    "colnames(datout) <- c(\"Inland\", \"cluster\")\n",
    "rownames(datout) <- rownames(kmtrain_scaled)\n",
    "\n",
    "c1_to_Inland1 <- c1_toLevel_1(datout)\n",
    "\n",
    "paste(\"Map cluster 1 to Inland level 1? :  \", c1_to_Inland1, sep=\"\")\n"
   ]
  },
  {
   "cell_type": "code",
   "execution_count": 181,
   "metadata": {},
   "outputs": [
    {
     "data": {
      "text/html": [
       "<style>\n",
       ".list-inline {list-style: none; margin:0; padding: 0}\n",
       ".list-inline>li {display: inline-block}\n",
       ".list-inline>li:not(:last-child)::after {content: \"\\00b7\"; padding: 0 .5ex}\n",
       "</style>\n",
       "<ol class=list-inline><li>10603</li><li>2</li></ol>\n"
      ],
      "text/latex": [
       "\\begin{enumerate*}\n",
       "\\item 10603\n",
       "\\item 2\n",
       "\\end{enumerate*}\n"
      ],
      "text/markdown": [
       "1. 10603\n",
       "2. 2\n",
       "\n",
       "\n"
      ],
      "text/plain": [
       "[1] 10603     2"
      ]
     },
     "metadata": {},
     "output_type": "display_data"
    }
   ],
   "source": [
    "tmpdat <- datout\n",
    "tmpdat[which(tmpdat$cluster== 1),]$Inland <- 0\n",
    "tmpdat[which(tmpdat$cluster== 2),]$Inland <- 1\n",
    "dim(tmpdat)\n"
   ]
  },
  {
   "cell_type": "code",
   "execution_count": 182,
   "metadata": {},
   "outputs": [
    {
     "data": {
      "text/html": [
       "TRUE"
      ],
      "text/latex": [
       "TRUE"
      ],
      "text/markdown": [
       "TRUE"
      ],
      "text/plain": [
       "[1] TRUE"
      ]
     },
     "metadata": {},
     "output_type": "display_data"
    },
    {
     "data": {
      "text/plain": [
       "\n",
       "   0    1 \n",
       "6955 3648 "
      ]
     },
     "metadata": {},
     "output_type": "display_data"
    }
   ],
   "source": [
    "sum(rownames(tmpdat) == rownames(kmtrain_scaled)) == nrow(kmtrain_scaled)\n",
    "table(as.factor(tmpdat$Inland))\n"
   ]
  },
  {
   "cell_type": "code",
   "execution_count": 183,
   "metadata": {},
   "outputs": [
    {
     "name": "stdout",
     "output_type": "stream",
     "text": [
      "     0    1 class.error\n",
      "0 6214 1097      0.1500\n",
      "1  741 2551      0.2251\n"
     ]
    },
    {
     "data": {
      "text/html": [
       "''"
      ],
      "text/latex": [
       "''"
      ],
      "text/markdown": [
       "''"
      ],
      "text/plain": [
       "[1] \"\""
      ]
     },
     "metadata": {},
     "output_type": "display_data"
    },
    {
     "name": "stdout",
     "output_type": "stream",
     "text": [
      "[1] \"f-score for k-means base model on training set: 0.7352\"\n"
     ]
    }
   ],
   "source": [
    "# Get initial set of scores for the k-means hybrid model \n",
    "# with prob01 built from g03.\n",
    "\n",
    "preds <- as.factor(tmpdat$Inland)\n",
    "names(preds) <- rownames(tmpdat)\n",
    "ans <- get_confusion(preds, kmtrain_scaled[, \"Inland\", drop=FALSE])\n",
    "print(ans$matrix)\n",
    "''\n",
    "print(paste(\"f-score for k-means hybrid model on training set: \", as.character(ans[[2]]), sep=\"\"))\n",
    "# f-score: 0.7352\n",
    "\n",
    "# Accuracy: 0.8267\n",
    "\n",
    "# Type2: 0.7718\n"
   ]
  },
  {
   "cell_type": "markdown",
   "metadata": {},
   "source": [
    "## Add a prob02 column using gbclf_best"
   ]
  },
  {
   "cell_type": "code",
   "execution_count": 185,
   "metadata": {},
   "outputs": [
    {
     "data": {
      "text/plain": [
       "   Min. 1st Qu.  Median    Mean 3rd Qu.    Max. \n",
       "0.00873 0.06008 0.16665 0.31080 0.53070 0.99635 "
      ]
     },
     "metadata": {},
     "output_type": "display_data"
    }
   ],
   "source": [
    "# Add a prob02 column to kmtrain.\n",
    "\n",
    "preds <- suppressMessages(predict(gbclf_best, newdata=traindat, type=\"response\"))\n",
    "\n",
    "kmtrain_scaled$prob02 <- preds\n",
    "summary(kmtrain_scaled$prob02)\n"
   ]
  },
  {
   "cell_type": "code",
   "execution_count": 186,
   "metadata": {},
   "outputs": [
    {
     "data": {
      "image/png": "[encoded data removed]",
      "text/plain": [
       "Plot with title “wss plot for the CA data with prob01 & prob02 columns”"
      ]
     },
     "metadata": {
      "image/png": {
       "height": 420,
       "width": 600
      }
     },
     "output_type": "display_data"
    }
   ],
   "source": [
    "# See if the wss plot changes.\n",
    "\n",
    "options(repr.plot.width= 10, repr.plot.height= 7)\n",
    "\n",
    "suppressMessages(wssplot(kmtrain_scaled[, -1], \n",
    "        title= \"wss plot for the CA data with prob01 & prob02 columns\"))\n"
   ]
  },
  {
   "cell_type": "markdown",
   "metadata": {},
   "source": [
    "### Get scores on trainset for k-means with prob01 & prob02, no weights"
   ]
  },
  {
   "cell_type": "code",
   "execution_count": 193,
   "metadata": {},
   "outputs": [
    {
     "data": {
      "text/plain": [
       "Time difference of 0.04 secs"
      ]
     },
     "metadata": {},
     "output_type": "display_data"
    },
    {
     "name": "stdout",
     "output_type": "stream",
     "text": [
      "[1] 7228 3375\n"
     ]
    }
   ],
   "source": [
    "# Run k-means algorithm with number of clusters set to 2.\n",
    "\n",
    "set.seed(1233)\n",
    "start <- Sys.time()\n",
    "kmp1p2 <- kmeans(kmtrain_scaled[, -1], 2, iter.max = 50, nstart = 15)\n",
    "stop <- Sys.time()\n",
    "round(stop - start, 2)\n",
    "# Time difference of 0.03 secs\n",
    "\n",
    "print(kmp1p2$size)\n"
   ]
  },
  {
   "cell_type": "code",
   "execution_count": 194,
   "metadata": {},
   "outputs": [
    {
     "data": {
      "text/html": [
       "<span style=white-space:pre-wrap>'Map cluster 1 to Inland level 1? :  FALSE'</span>"
      ],
      "text/latex": [
       "'Map cluster 1 to Inland level 1? :  FALSE'"
      ],
      "text/markdown": [
       "<span style=white-space:pre-wrap>'Map cluster 1 to Inland level 1? :  FALSE'</span>"
      ],
      "text/plain": [
       "[1] \"Map cluster 1 to Inland level 1? :  FALSE\""
      ]
     },
     "metadata": {},
     "output_type": "display_data"
    }
   ],
   "source": [
    "datout <- as.data.frame(cbind(kmtrain_scaled$Inland, kmp1p2$cluster))\n",
    "colnames(datout) <- c(\"Inland\", \"cluster\")\n",
    "rownames(datout) <- rownames(kmtrain_scaled)\n",
    "\n",
    "c1_to_Inland1 <- c1_toLevel_1(datout)\n",
    "\n",
    "paste(\"Map cluster 1 to Inland level 1? :  \", c1_to_Inland1, sep=\"\")\n"
   ]
  },
  {
   "cell_type": "code",
   "execution_count": 189,
   "metadata": {},
   "outputs": [
    {
     "data": {
      "text/html": [
       "<style>\n",
       ".list-inline {list-style: none; margin:0; padding: 0}\n",
       ".list-inline>li {display: inline-block}\n",
       ".list-inline>li:not(:last-child)::after {content: \"\\00b7\"; padding: 0 .5ex}\n",
       "</style>\n",
       "<ol class=list-inline><li>10603</li><li>2</li></ol>\n"
      ],
      "text/latex": [
       "\\begin{enumerate*}\n",
       "\\item 10603\n",
       "\\item 2\n",
       "\\end{enumerate*}\n"
      ],
      "text/markdown": [
       "1. 10603\n",
       "2. 2\n",
       "\n",
       "\n"
      ],
      "text/plain": [
       "[1] 10603     2"
      ]
     },
     "metadata": {},
     "output_type": "display_data"
    }
   ],
   "source": [
    "tmpdat <- datout\n",
    "tmpdat[which(tmpdat$cluster== 1),]$Inland <- 0\n",
    "tmpdat[which(tmpdat$cluster== 2),]$Inland <- 1\n",
    "dim(tmpdat)\n"
   ]
  },
  {
   "cell_type": "code",
   "execution_count": 190,
   "metadata": {},
   "outputs": [
    {
     "data": {
      "text/html": [
       "TRUE"
      ],
      "text/latex": [
       "TRUE"
      ],
      "text/markdown": [
       "TRUE"
      ],
      "text/plain": [
       "[1] TRUE"
      ]
     },
     "metadata": {},
     "output_type": "display_data"
    },
    {
     "data": {
      "text/plain": [
       "\n",
       "   0    1 \n",
       "7228 3375 "
      ]
     },
     "metadata": {},
     "output_type": "display_data"
    }
   ],
   "source": [
    "sum(rownames(tmpdat) == rownames(kmtrain_scaled)) == nrow(kmtrain_scaled)\n",
    "table(as.factor(tmpdat$Inland))\n"
   ]
  },
  {
   "cell_type": "code",
   "execution_count": 191,
   "metadata": {},
   "outputs": [
    {
     "name": "stdout",
     "output_type": "stream",
     "text": [
      "     0    1 class.error\n",
      "0 6409  902      0.1234\n",
      "1  819 2473      0.2488\n"
     ]
    },
    {
     "data": {
      "text/html": [
       "''"
      ],
      "text/latex": [
       "''"
      ],
      "text/markdown": [
       "''"
      ],
      "text/plain": [
       "[1] \"\""
      ]
     },
     "metadata": {},
     "output_type": "display_data"
    },
    {
     "name": "stdout",
     "output_type": "stream",
     "text": [
      "[1] \"f-score for k-means hybrid model on training set: 0.7419\"\n"
     ]
    }
   ],
   "source": [
    "# Get initial set of scores for the k-means hybrid model\n",
    "# which has the prob01 and prob02 columns.\n",
    "\n",
    "preds <- as.factor(tmpdat$Inland)\n",
    "names(preds) <- rownames(tmpdat)\n",
    "ans <- get_confusion(preds, kmtrain_scaled[, \"Inland\", drop=FALSE])\n",
    "print(ans$matrix)\n",
    "''\n",
    "print(paste(\"f-score for k-means hybrid model on training set: \", as.character(ans[[2]]), sep=\"\"))\n",
    "# f-score: 0.7419\n",
    "\n",
    "# Accuracy: 0.8377\n",
    "\n",
    "# Type2: 0.7802\n"
   ]
  },
  {
   "cell_type": "code",
   "execution_count": null,
   "metadata": {},
   "outputs": [],
   "source": []
  },
  {
   "cell_type": "markdown",
   "metadata": {},
   "source": [
    "## Get comparative scores for the hybrid model, no weights"
   ]
  },
  {
   "cell_type": "code",
   "execution_count": 200,
   "metadata": {},
   "outputs": [],
   "source": [
    "# Scale the testset data.\n",
    "\n",
    "kmtest_scaled <- scale(testdat[, -1], center=kmtrain_centers, scale=kmtrain_scales)\n",
    "\n",
    "kmtest_scaled <- as.data.frame(cbind(as.numeric(testdat$Inland), kmtest_scaled),\n",
    "                               row.names=rownames(testdat))\n",
    "colnames(kmtest_scaled) <- colnames(testdat)\n"
   ]
  },
  {
   "cell_type": "code",
   "execution_count": 198,
   "metadata": {},
   "outputs": [
    {
     "data": {
      "text/plain": [
       "   Min. 1st Qu.  Median    Mean 3rd Qu.    Max. \n",
       "0.00045 0.05923 0.19335 0.31786 0.55535 0.99979 "
      ]
     },
     "metadata": {},
     "output_type": "display_data"
    },
    {
     "data": {
      "text/plain": [
       "   Min. 1st Qu.  Median    Mean 3rd Qu.    Max. \n",
       "0.00966 0.06061 0.17155 0.31955 0.56083 0.99560 "
      ]
     },
     "metadata": {},
     "output_type": "display_data"
    }
   ],
   "source": [
    "# We can get predictions for prob01 and prob02 prior\n",
    "# to getting scores for 250 4K-sized samples from testdat.\n",
    "\n",
    "kmtest_prob01 <- predict(f03, newdata=testdat, type=\"response\")\n",
    "kmtest_prob02 <- suppressMessages(predict(gbclf_best, newdata=testdat, type=\"response\"))\n",
    "names(kmtest_prob02) <- names(kmtest_prob01)\n",
    "\n",
    "summary(kmtest_prob01)\n",
    "summary(kmtest_prob02)\n"
   ]
  },
  {
   "cell_type": "code",
   "execution_count": 201,
   "metadata": {},
   "outputs": [],
   "source": [
    "# Function for obtaining a set of scores on the testset data\n",
    "# using the k-means hybrid model as the classifier.\n",
    "\n",
    "get_testdatScores_kmp1p2 <- function(seedv, dat) {\n",
    "    \n",
    "    n_smp <- 4000\n",
    "    \n",
    "    seedv_len <- length(seedv)\n",
    "    datout <- rep(NA, 5 * seedv_len)\n",
    "    dim(datout) <- c(seedv_len, 5)\n",
    "    datout <- as.data.frame(datout)\n",
    "    colnames(datout) <- c(\"fscore\",\"Acc\",\"Type2\", \"FN\",\"FP\")\n",
    "    rownames(datout) <- as.character(seedv)\n",
    "    \n",
    "    # Using model kmp1p2 from above.\n",
    "    ctr_list <- vector(\"list\", length= n_smp)\n",
    "    for(i in 1:n_smp) {\n",
    "        ctr_list[[i]] <- kmp1p2$centers\n",
    "    }\n",
    "    \n",
    "    for(h in 1:seedv_len) {\n",
    "        cur_seed <- seedv[h]\n",
    "        set.seed(cur_seed)\n",
    "        # dat should be kmtest_scaled, which has 10K rcds\n",
    "        smp <- sample(rownames(dat), n_smp, replace= FALSE)\n",
    "        df <- dat[smp,]\n",
    "        \n",
    "        # Apply min-max scaling to df.\n",
    "        df_scaled <- apply(df[, -1], MARGIN=2, range01)\n",
    "        df_scaled <- as.data.frame(df_scaled, row.names=rownames(df))\n",
    "        \n",
    "        df_scaled$prob01 <- as.numeric(kmtest_prob01[smp])\n",
    "        df_scaled$prob02 <- as.numeric(kmtest_prob02[smp])\n",
    "        colnames(df_scaled) <- colnames(kmp1p2$centers)\n",
    "        \n",
    "        \n",
    "        # Each element of the following list is a row of df_scaled.\n",
    "        df_asList <- split(df_scaled, seq(n_smp))\n",
    "        names(ctr_list) <- rownames(df)\n",
    "    \n",
    "        # Get the predictions for df.\n",
    "        cluster_assgns <- mcmapply(getCluster, df_asList, ctr_list,\n",
    "                          SIMPLIFY=TRUE, mc.cores=6)\n",
    "        df$cluster <- as.numeric(cluster_assgns)\n",
    "    \n",
    "        \n",
    "        ### NOTE: c1_to_Inland1 is a global variable based on \n",
    "        ### model kmp1p2.\n",
    "        \n",
    "        df$pred_Inland <- NA\n",
    "        if(c1_to_Inland1) {\n",
    "            df[which(df$cluster==1),]$pred_Inland <- 1\n",
    "            df[which(df$cluster==2),]$pred_Inland <- 0\n",
    "        } else {\n",
    "            df[which(df$cluster==1),]$pred_Inland <- 0\n",
    "            df[which(df$cluster==2),]$pred_Inland <- 1\n",
    "        }\n",
    "    \n",
    "        # Generate confusion matrix.\n",
    "        preds <- as.factor(df$pred_Inland)\n",
    "        names(preds) <- rownames(df)\n",
    "        ans <- get_confusion(preds, df[, \"Inland\", drop=FALSE])\n",
    "        \n",
    "        mat <- as.matrix(ans[[1]])\n",
    "        fscore <- round(as.numeric(ans[[2]]), 4)\n",
    "        acc <- round(sum(diag(mat))/floor(sum(mat)), 4)\n",
    "        type2 <- round((0.4 * acc + 0.6 * ans[[2]]), 4)\n",
    "        FN <- as.numeric(mat[2,1])\n",
    "        FP <- as.numeric(mat[1,2])\n",
    "        datout[as.character(cur_seed), 1:5] <- c(fscore,acc,type2,FN,FP)\n",
    "    }\n",
    "    return(datout)\n",
    "}\n"
   ]
  },
  {
   "cell_type": "code",
   "execution_count": 204,
   "metadata": {},
   "outputs": [
    {
     "data": {
      "text/html": [
       "'Start time: 2021-07-27 18:47:53'"
      ],
      "text/latex": [
       "'Start time: 2021-07-27 18:47:53'"
      ],
      "text/markdown": [
       "'Start time: 2021-07-27 18:47:53'"
      ],
      "text/plain": [
       "[1] \"Start time: 2021-07-27 18:47:53\""
      ]
     },
     "metadata": {},
     "output_type": "display_data"
    },
    {
     "data": {
      "text/plain": [
       "Time difference of 7.24 mins"
      ]
     },
     "metadata": {},
     "output_type": "display_data"
    }
   ],
   "source": [
    "# Get kmp1p2's scores on the testset data.  For each of\n",
    "# the 250 seeds, I sample 4K (no replacement) from the 10K\n",
    "# set of testdat records.\n",
    "\n",
    "set.seed(1821)\n",
    "seed_vector <- sample(1:9999, 250, replace=FALSE)\n",
    "\n",
    "start <- Sys.time()\n",
    "paste0(\"Start time: \", start)\n",
    "dat_result <- get_testdatScores_kmp1p2(seed_vector, kmtest_scaled)\n",
    "stop <- Sys.time()\n",
    "round(stop - start, 2)\n",
    "# Time difference of 7.24 mins; for comparison, we obtained\n",
    "# scores above for gbclf_best in less than 12 seconds.\n"
   ]
  },
  {
   "cell_type": "code",
   "execution_count": 205,
   "metadata": {},
   "outputs": [
    {
     "data": {
      "text/html": [
       "<style>\n",
       ".list-inline {list-style: none; margin:0; padding: 0}\n",
       ".list-inline>li {display: inline-block}\n",
       ".list-inline>li:not(:last-child)::after {content: \"\\00b7\"; padding: 0 .5ex}\n",
       "</style>\n",
       "<ol class=list-inline><li>250</li><li>5</li></ol>\n"
      ],
      "text/latex": [
       "\\begin{enumerate*}\n",
       "\\item 250\n",
       "\\item 5\n",
       "\\end{enumerate*}\n"
      ],
      "text/markdown": [
       "1. 250\n",
       "2. 5\n",
       "\n",
       "\n"
      ],
      "text/plain": [
       "[1] 250   5"
      ]
     },
     "metadata": {},
     "output_type": "display_data"
    },
    {
     "data": {
      "text/html": [
       "<table class=\"dataframe\">\n",
       "<caption>A data.frame: 6 × 5</caption>\n",
       "<thead>\n",
       "\t<tr><th></th><th scope=col>fscore</th><th scope=col>Acc</th><th scope=col>Type2</th><th scope=col>FN</th><th scope=col>FP</th></tr>\n",
       "\t<tr><th></th><th scope=col>&lt;dbl&gt;</th><th scope=col>&lt;dbl&gt;</th><th scope=col>&lt;dbl&gt;</th><th scope=col>&lt;dbl&gt;</th><th scope=col>&lt;dbl&gt;</th></tr>\n",
       "</thead>\n",
       "<tbody>\n",
       "\t<tr><th scope=row>5934</th><td>0.7279</td><td>0.8222</td><td>0.7656</td><td>320</td><td>391</td></tr>\n",
       "\t<tr><th scope=row>1953</th><td>0.7297</td><td>0.8235</td><td>0.7672</td><td>337</td><td>369</td></tr>\n",
       "\t<tr><th scope=row>7591</th><td>0.7280</td><td>0.8212</td><td>0.7653</td><td>324</td><td>391</td></tr>\n",
       "\t<tr><th scope=row>1038</th><td>0.7249</td><td>0.8228</td><td>0.7641</td><td>318</td><td>391</td></tr>\n",
       "\t<tr><th scope=row>49</th><td>0.7239</td><td>0.8158</td><td>0.7607</td><td>362</td><td>375</td></tr>\n",
       "\t<tr><th scope=row>3203</th><td>0.7397</td><td>0.8282</td><td>0.7751</td><td>347</td><td>340</td></tr>\n",
       "</tbody>\n",
       "</table>\n"
      ],
      "text/latex": [
       "A data.frame: 6 × 5\n",
       "\\begin{tabular}{r|lllll}\n",
       "  & fscore & Acc & Type2 & FN & FP\\\\\n",
       "  & <dbl> & <dbl> & <dbl> & <dbl> & <dbl>\\\\\n",
       "\\hline\n",
       "\t5934 & 0.7279 & 0.8222 & 0.7656 & 320 & 391\\\\\n",
       "\t1953 & 0.7297 & 0.8235 & 0.7672 & 337 & 369\\\\\n",
       "\t7591 & 0.7280 & 0.8212 & 0.7653 & 324 & 391\\\\\n",
       "\t1038 & 0.7249 & 0.8228 & 0.7641 & 318 & 391\\\\\n",
       "\t49 & 0.7239 & 0.8158 & 0.7607 & 362 & 375\\\\\n",
       "\t3203 & 0.7397 & 0.8282 & 0.7751 & 347 & 340\\\\\n",
       "\\end{tabular}\n"
      ],
      "text/markdown": [
       "\n",
       "A data.frame: 6 × 5\n",
       "\n",
       "| <!--/--> | fscore &lt;dbl&gt; | Acc &lt;dbl&gt; | Type2 &lt;dbl&gt; | FN &lt;dbl&gt; | FP &lt;dbl&gt; |\n",
       "|---|---|---|---|---|---|\n",
       "| 5934 | 0.7279 | 0.8222 | 0.7656 | 320 | 391 |\n",
       "| 1953 | 0.7297 | 0.8235 | 0.7672 | 337 | 369 |\n",
       "| 7591 | 0.7280 | 0.8212 | 0.7653 | 324 | 391 |\n",
       "| 1038 | 0.7249 | 0.8228 | 0.7641 | 318 | 391 |\n",
       "| 49 | 0.7239 | 0.8158 | 0.7607 | 362 | 375 |\n",
       "| 3203 | 0.7397 | 0.8282 | 0.7751 | 347 | 340 |\n",
       "\n"
      ],
      "text/plain": [
       "     fscore Acc    Type2  FN  FP \n",
       "5934 0.7279 0.8222 0.7656 320 391\n",
       "1953 0.7297 0.8235 0.7672 337 369\n",
       "7591 0.7280 0.8212 0.7653 324 391\n",
       "1038 0.7249 0.8228 0.7641 318 391\n",
       "49   0.7239 0.8158 0.7607 362 375\n",
       "3203 0.7397 0.8282 0.7751 347 340"
      ]
     },
     "metadata": {},
     "output_type": "display_data"
    }
   ],
   "source": [
    "dim(dat_result)\n",
    "head(dat_result)\n"
   ]
  },
  {
   "cell_type": "code",
   "execution_count": 206,
   "metadata": {},
   "outputs": [
    {
     "data": {
      "text/html": [
       "'fscore mean: 0.731'"
      ],
      "text/latex": [
       "'fscore mean: 0.731'"
      ],
      "text/markdown": [
       "'fscore mean: 0.731'"
      ],
      "text/plain": [
       "[1] \"fscore mean: 0.731\""
      ]
     },
     "metadata": {},
     "output_type": "display_data"
    },
    {
     "data": {
      "text/html": [
       "'fscore StdDev: 0.0074'"
      ],
      "text/latex": [
       "'fscore StdDev: 0.0074'"
      ],
      "text/markdown": [
       "'fscore StdDev: 0.0074'"
      ],
      "text/plain": [
       "[1] \"fscore StdDev: 0.0074\""
      ]
     },
     "metadata": {},
     "output_type": "display_data"
    },
    {
     "data": {
      "text/html": [
       "''"
      ],
      "text/latex": [
       "''"
      ],
      "text/markdown": [
       "''"
      ],
      "text/plain": [
       "[1] \"\""
      ]
     },
     "metadata": {},
     "output_type": "display_data"
    },
    {
     "data": {
      "text/plain": [
       "   Min. 1st Qu.  Median    Mean 3rd Qu.    Max. \n",
       "  0.707   0.726   0.731   0.731   0.736   0.756 "
      ]
     },
     "metadata": {},
     "output_type": "display_data"
    }
   ],
   "source": [
    "fscore_mean <- round(mean(dat_result$fscore), 4)\n",
    "fscore_sd <- round(sd(dat_result$fscore), 4)\n",
    "paste0(\"fscore mean: \", as.character(fscore_mean))\n",
    "# 0.7310\n",
    "paste0(\"fscore StdDev: \", as.character(fscore_sd))\n",
    "# 0.0074\n",
    "\"\"\n",
    "summary(dat_result$fscore)\n"
   ]
  },
  {
   "cell_type": "code",
   "execution_count": 207,
   "metadata": {},
   "outputs": [
    {
     "data": {
      "text/html": [
       "'accuracy mean: 0.8238'"
      ],
      "text/latex": [
       "'accuracy mean: 0.8238'"
      ],
      "text/markdown": [
       "'accuracy mean: 0.8238'"
      ],
      "text/plain": [
       "[1] \"accuracy mean: 0.8238\""
      ]
     },
     "metadata": {},
     "output_type": "display_data"
    },
    {
     "data": {
      "text/html": [
       "'accuracy StdDev: 0.0044'"
      ],
      "text/latex": [
       "'accuracy StdDev: 0.0044'"
      ],
      "text/markdown": [
       "'accuracy StdDev: 0.0044'"
      ],
      "text/plain": [
       "[1] \"accuracy StdDev: 0.0044\""
      ]
     },
     "metadata": {},
     "output_type": "display_data"
    },
    {
     "data": {
      "text/html": [
       "''"
      ],
      "text/latex": [
       "''"
      ],
      "text/markdown": [
       "''"
      ],
      "text/plain": [
       "[1] \"\""
      ]
     },
     "metadata": {},
     "output_type": "display_data"
    },
    {
     "data": {
      "text/plain": [
       "   Min. 1st Qu.  Median    Mean 3rd Qu.    Max. \n",
       "  0.814   0.821   0.824   0.824   0.827   0.836 "
      ]
     },
     "metadata": {},
     "output_type": "display_data"
    }
   ],
   "source": [
    "Acc_mean <- round(mean(dat_result$Acc), 4)\n",
    "Acc_sd <- round(sd(dat_result$Acc), 4)\n",
    "paste0(\"accuracy mean: \", as.character(Acc_mean))\n",
    "# 0.8238\n",
    "paste0(\"accuracy StdDev: \", as.character(Acc_sd))\n",
    "# 0.0044\n",
    "\"\"\n",
    "summary(dat_result$Acc)\n"
   ]
  },
  {
   "cell_type": "code",
   "execution_count": 208,
   "metadata": {},
   "outputs": [
    {
     "data": {
      "text/html": [
       "'Type2 mean: 0.7681'"
      ],
      "text/latex": [
       "'Type2 mean: 0.7681'"
      ],
      "text/markdown": [
       "'Type2 mean: 0.7681'"
      ],
      "text/plain": [
       "[1] \"Type2 mean: 0.7681\""
      ]
     },
     "metadata": {},
     "output_type": "display_data"
    },
    {
     "data": {
      "text/html": [
       "'Type2 StdDev: 0.006'"
      ],
      "text/latex": [
       "'Type2 StdDev: 0.006'"
      ],
      "text/markdown": [
       "'Type2 StdDev: 0.006'"
      ],
      "text/plain": [
       "[1] \"Type2 StdDev: 0.006\""
      ]
     },
     "metadata": {},
     "output_type": "display_data"
    },
    {
     "data": {
      "text/html": [
       "''"
      ],
      "text/latex": [
       "''"
      ],
      "text/markdown": [
       "''"
      ],
      "text/plain": [
       "[1] \"\""
      ]
     },
     "metadata": {},
     "output_type": "display_data"
    },
    {
     "data": {
      "text/plain": [
       "   Min. 1st Qu.  Median    Mean 3rd Qu.    Max. \n",
       "  0.750   0.764   0.768   0.768   0.772   0.788 "
      ]
     },
     "metadata": {},
     "output_type": "display_data"
    }
   ],
   "source": [
    "Type2_mean <- round(mean(dat_result$Type2), 4)\n",
    "Type2_sd <- round(sd(dat_result$Type2), 4)\n",
    "paste0(\"Type2 mean: \", as.character(Type2_mean))\n",
    "# 0.7681\n",
    "paste0(\"Type2 StdDev: \", as.character(Type2_sd))\n",
    "# 0.006\n",
    "\"\"\n",
    "summary(dat_result$Type2)\n"
   ]
  },
  {
   "cell_type": "code",
   "execution_count": 209,
   "metadata": {},
   "outputs": [
    {
     "data": {
      "text/html": [
       "'FN mean: 337.55'"
      ],
      "text/latex": [
       "'FN mean: 337.55'"
      ],
      "text/markdown": [
       "'FN mean: 337.55'"
      ],
      "text/plain": [
       "[1] \"FN mean: 337.55\""
      ]
     },
     "metadata": {},
     "output_type": "display_data"
    },
    {
     "data": {
      "text/html": [
       "'FN StdDev: 13.09'"
      ],
      "text/latex": [
       "'FN StdDev: 13.09'"
      ],
      "text/markdown": [
       "'FN StdDev: 13.09'"
      ],
      "text/plain": [
       "[1] \"FN StdDev: 13.09\""
      ]
     },
     "metadata": {},
     "output_type": "display_data"
    },
    {
     "data": {
      "text/html": [
       "''"
      ],
      "text/latex": [
       "''"
      ],
      "text/markdown": [
       "''"
      ],
      "text/plain": [
       "[1] \"\""
      ]
     },
     "metadata": {},
     "output_type": "display_data"
    },
    {
     "data": {
      "text/plain": [
       "   Min. 1st Qu.  Median    Mean 3rd Qu.    Max. \n",
       "    299     328     338     338     347     370 "
      ]
     },
     "metadata": {},
     "output_type": "display_data"
    }
   ],
   "source": [
    "FN_mean <- round(mean(dat_result$FN), 2)\n",
    "FN_sd <- round(sd(dat_result$FN), 2)\n",
    "paste0(\"FN mean: \", as.character(FN_mean))\n",
    "#  338\n",
    "paste0(\"FN StdDev: \", as.character(FN_sd))\n",
    "#  13.1\n",
    "\"\"\n",
    "summary(dat_result$FN)\n"
   ]
  },
  {
   "cell_type": "code",
   "execution_count": 210,
   "metadata": {},
   "outputs": [
    {
     "data": {
      "text/html": [
       "'FP mean: 367.3'"
      ],
      "text/latex": [
       "'FP mean: 367.3'"
      ],
      "text/markdown": [
       "'FP mean: 367.3'"
      ],
      "text/plain": [
       "[1] \"FP mean: 367.3\""
      ]
     },
     "metadata": {},
     "output_type": "display_data"
    },
    {
     "data": {
      "text/html": [
       "'FP StdDev: 14.31'"
      ],
      "text/latex": [
       "'FP StdDev: 14.31'"
      ],
      "text/markdown": [
       "'FP StdDev: 14.31'"
      ],
      "text/plain": [
       "[1] \"FP StdDev: 14.31\""
      ]
     },
     "metadata": {},
     "output_type": "display_data"
    },
    {
     "data": {
      "text/html": [
       "''"
      ],
      "text/latex": [
       "''"
      ],
      "text/markdown": [
       "''"
      ],
      "text/plain": [
       "[1] \"\""
      ]
     },
     "metadata": {},
     "output_type": "display_data"
    },
    {
     "data": {
      "text/plain": [
       "   Min. 1st Qu.  Median    Mean 3rd Qu.    Max. \n",
       "    326     356     368     367     377     403 "
      ]
     },
     "metadata": {},
     "output_type": "display_data"
    }
   ],
   "source": [
    "FP_mean <- round(mean(dat_result$FP), 2)\n",
    "FP_sd <- round(sd(dat_result$FP), 2)\n",
    "paste0(\"FP mean: \", as.character(FP_mean))\n",
    "#  367\n",
    "paste0(\"FP StdDev: \", as.character(FP_sd))\n",
    "#  14.3\n",
    "\"\"\n",
    "summary(dat_result$FP)\n"
   ]
  },
  {
   "cell_type": "markdown",
   "metadata": {},
   "source": [
    "## Comments on kmp1p2, no weights"
   ]
  },
  {
   "cell_type": "markdown",
   "metadata": {},
   "source": [
    "\n",
    "\n"
   ]
  },
  {
   "cell_type": "markdown",
   "metadata": {},
   "source": [
    "A table summarizing the comparative scores obtained thus far is shown immediately below.  The hybrid k-means model, kmp1p2, with prob01 constructed from f03 and prob02 constructed from gbclf_best, is a better model than any of rfclf_best, gbclf_best, svm02, or f03 IF we compare the models based on either f-score or the Type2 score.\n",
    "\n",
    "The p-value for the hypothesis 0.7681 > 0.7632 (the next-best Type2 score) is < 2e-16.  The p-value for the hypothesis 0.7310 > 0.7183 (the next-best f-score) is < 2e-16.  But for the accuracy score, the p-value for the hypothesis that 0.8306 (the best accuracy score; model svm02) > 0.8238 is also < 2e-16.  Recall that the Type2 score is 40% accuracy and 60% f-score; if we reversed these weights, the hybrid k-means model would no longer have the best Type2 score.\n",
    "\n",
    "We should be able to obtain better scores for the kmp1p2 hybrid k-means model by finding weights for it.  This is done in Section 3 below.\n",
    "\n"
   ]
  },
  {
   "cell_type": "markdown",
   "metadata": {},
   "source": [
    "## Table Summarizing Results Thus Far"
   ]
  },
  {
   "cell_type": "code",
   "execution_count": 3,
   "metadata": {},
   "outputs": [
    {
     "data": {
      "text/html": [
       "<style>\n",
       ".list-inline {list-style: none; margin:0; padding: 0}\n",
       ".list-inline>li {display: inline-block}\n",
       ".list-inline>li:not(:last-child)::after {content: \"\\00b7\"; padding: 0 .5ex}\n",
       "</style>\n",
       "<ol class=list-inline><li>5</li><li>10</li></ol>\n"
      ],
      "text/latex": [
       "\\begin{enumerate*}\n",
       "\\item 5\n",
       "\\item 10\n",
       "\\end{enumerate*}\n"
      ],
      "text/markdown": [
       "1. 5\n",
       "2. 10\n",
       "\n",
       "\n"
      ],
      "text/plain": [
       "[1]  5 10"
      ]
     },
     "metadata": {},
     "output_type": "display_data"
    }
   ],
   "source": [
    "results <- read.csv(\"/home/greg/Documents/stat/github_repos/cows/model_results_Part2_Section2.csv\", \n",
    "                    header=TRUE, row.names=1)\n",
    "dim(results)\n"
   ]
  },
  {
   "cell_type": "code",
   "execution_count": 4,
   "metadata": {},
   "outputs": [
    {
     "data": {
      "text/html": [
       "<table class=\"dataframe\">\n",
       "<caption>A data.frame: 5 × 10</caption>\n",
       "<thead>\n",
       "\t<tr><th></th><th scope=col>fscore</th><th scope=col>fscore_sd</th><th scope=col>accuracy</th><th scope=col>acc_sd</th><th scope=col>Type2</th><th scope=col>Type2_sd</th><th scope=col>FN</th><th scope=col>FN_sd</th><th scope=col>FP</th><th scope=col>FP_sd</th></tr>\n",
       "\t<tr><th></th><th scope=col>&lt;dbl&gt;</th><th scope=col>&lt;dbl&gt;</th><th scope=col>&lt;dbl&gt;</th><th scope=col>&lt;dbl&gt;</th><th scope=col>&lt;dbl&gt;</th><th scope=col>&lt;dbl&gt;</th><th scope=col>&lt;int&gt;</th><th scope=col>&lt;dbl&gt;</th><th scope=col>&lt;int&gt;</th><th scope=col>&lt;dbl&gt;</th></tr>\n",
       "</thead>\n",
       "<tbody>\n",
       "\t<tr><th scope=row>rfclf</th><td>0.7156</td><td>0.0075</td><td>0.8228</td><td>0.0045</td><td>0.7585</td><td>0.0061</td><td>404</td><td>14.5</td><td>305</td><td>12.4</td></tr>\n",
       "\t<tr><th scope=row>gbclf</th><td>0.7183</td><td>0.0077</td><td>0.8304</td><td>0.0044</td><td>0.7632</td><td>0.0061</td><td>430</td><td>14.7</td><td>249</td><td>11.7</td></tr>\n",
       "\t<tr><th scope=row>f03</th><td>0.6704</td><td>0.0090</td><td>0.8226</td><td>0.0046</td><td>0.7313</td><td>0.0070</td><td>574</td><td>17.1</td><td>136</td><td> 8.3</td></tr>\n",
       "\t<tr><th scope=row>svm02</th><td>0.7175</td><td>0.0078</td><td>0.8306</td><td>0.0044</td><td>0.7628</td><td>0.0062</td><td>434</td><td>14.6</td><td>243</td><td>11.1</td></tr>\n",
       "\t<tr><th scope=row>kmp1p2</th><td>0.7310</td><td>0.0074</td><td>0.8238</td><td>0.0044</td><td>0.7681</td><td>0.0060</td><td>338</td><td>13.1</td><td>367</td><td>14.3</td></tr>\n",
       "</tbody>\n",
       "</table>\n"
      ],
      "text/latex": [
       "A data.frame: 5 × 10\n",
       "\\begin{tabular}{r|llllllllll}\n",
       "  & fscore & fscore\\_sd & accuracy & acc\\_sd & Type2 & Type2\\_sd & FN & FN\\_sd & FP & FP\\_sd\\\\\n",
       "  & <dbl> & <dbl> & <dbl> & <dbl> & <dbl> & <dbl> & <int> & <dbl> & <int> & <dbl>\\\\\n",
       "\\hline\n",
       "\trfclf & 0.7156 & 0.0075 & 0.8228 & 0.0045 & 0.7585 & 0.0061 & 404 & 14.5 & 305 & 12.4\\\\\n",
       "\tgbclf & 0.7183 & 0.0077 & 0.8304 & 0.0044 & 0.7632 & 0.0061 & 430 & 14.7 & 249 & 11.7\\\\\n",
       "\tf03 & 0.6704 & 0.0090 & 0.8226 & 0.0046 & 0.7313 & 0.0070 & 574 & 17.1 & 136 &  8.3\\\\\n",
       "\tsvm02 & 0.7175 & 0.0078 & 0.8306 & 0.0044 & 0.7628 & 0.0062 & 434 & 14.6 & 243 & 11.1\\\\\n",
       "\tkmp1p2 & 0.7310 & 0.0074 & 0.8238 & 0.0044 & 0.7681 & 0.0060 & 338 & 13.1 & 367 & 14.3\\\\\n",
       "\\end{tabular}\n"
      ],
      "text/markdown": [
       "\n",
       "A data.frame: 5 × 10\n",
       "\n",
       "| <!--/--> | fscore &lt;dbl&gt; | fscore_sd &lt;dbl&gt; | accuracy &lt;dbl&gt; | acc_sd &lt;dbl&gt; | Type2 &lt;dbl&gt; | Type2_sd &lt;dbl&gt; | FN &lt;int&gt; | FN_sd &lt;dbl&gt; | FP &lt;int&gt; | FP_sd &lt;dbl&gt; |\n",
       "|---|---|---|---|---|---|---|---|---|---|---|\n",
       "| rfclf | 0.7156 | 0.0075 | 0.8228 | 0.0045 | 0.7585 | 0.0061 | 404 | 14.5 | 305 | 12.4 |\n",
       "| gbclf | 0.7183 | 0.0077 | 0.8304 | 0.0044 | 0.7632 | 0.0061 | 430 | 14.7 | 249 | 11.7 |\n",
       "| f03 | 0.6704 | 0.0090 | 0.8226 | 0.0046 | 0.7313 | 0.0070 | 574 | 17.1 | 136 |  8.3 |\n",
       "| svm02 | 0.7175 | 0.0078 | 0.8306 | 0.0044 | 0.7628 | 0.0062 | 434 | 14.6 | 243 | 11.1 |\n",
       "| kmp1p2 | 0.7310 | 0.0074 | 0.8238 | 0.0044 | 0.7681 | 0.0060 | 338 | 13.1 | 367 | 14.3 |\n",
       "\n"
      ],
      "text/plain": [
       "       fscore fscore_sd accuracy acc_sd Type2  Type2_sd FN  FN_sd FP  FP_sd\n",
       "rfclf  0.7156 0.0075    0.8228   0.0045 0.7585 0.0061   404 14.5  305 12.4 \n",
       "gbclf  0.7183 0.0077    0.8304   0.0044 0.7632 0.0061   430 14.7  249 11.7 \n",
       "f03    0.6704 0.0090    0.8226   0.0046 0.7313 0.0070   574 17.1  136  8.3 \n",
       "svm02  0.7175 0.0078    0.8306   0.0044 0.7628 0.0062   434 14.6  243 11.1 \n",
       "kmp1p2 0.7310 0.0074    0.8238   0.0044 0.7681 0.0060   338 13.1  367 14.3 "
      ]
     },
     "metadata": {},
     "output_type": "display_data"
    }
   ],
   "source": [
    "results\n"
   ]
  },
  {
   "cell_type": "code",
   "execution_count": null,
   "metadata": {},
   "outputs": [],
   "source": []
  },
  {
   "cell_type": "markdown",
   "metadata": {},
   "source": [
    "# Section 3: Find optimal weights for kmp1p2"
   ]
  },
  {
   "cell_type": "code",
   "execution_count": null,
   "metadata": {},
   "outputs": [],
   "source": [
    "# Work in progress."
   ]
  },
  {
   "cell_type": "code",
   "execution_count": null,
   "metadata": {},
   "outputs": [],
   "source": []
  },
  {
   "cell_type": "code",
   "execution_count": null,
   "metadata": {},
   "outputs": [],
   "source": []
  },
  {
   "cell_type": "code",
   "execution_count": null,
   "metadata": {},
   "outputs": [],
   "source": []
  },
  {
   "cell_type": "code",
   "execution_count": null,
   "metadata": {},
   "outputs": [],
   "source": []
  },
  {
   "cell_type": "code",
   "execution_count": null,
   "metadata": {},
   "outputs": [],
   "source": []
  },
  {
   "cell_type": "code",
   "execution_count": null,
   "metadata": {},
   "outputs": [],
   "source": []
  },
  {
   "cell_type": "code",
   "execution_count": null,
   "metadata": {},
   "outputs": [],
   "source": []
  },
  {
   "cell_type": "code",
   "execution_count": null,
   "metadata": {},
   "outputs": [],
   "source": []
  },
  {
   "cell_type": "code",
   "execution_count": null,
   "metadata": {},
   "outputs": [],
   "source": []
  },
  {
   "cell_type": "code",
   "execution_count": null,
   "metadata": {},
   "outputs": [],
   "source": []
  },
  {
   "cell_type": "code",
   "execution_count": null,
   "metadata": {},
   "outputs": [],
   "source": []
  },
  {
   "cell_type": "markdown",
   "metadata": {},
   "source": [
    "# Part 2 Final Comments"
   ]
  },
  {
   "cell_type": "markdown",
   "metadata": {},
   "source": [
    "As in Part 1, we see in this notebook that we can obtain a better classification model from existing classification models by using one or more of the latter to inform a hybrid k-means model.  In this example, the accuracy scores of the non-k-means models are in the low 80's.  The greater these accuracy scores, the less likely it is that we can improve upon them using a hybrid k-means model.\n",
    "\n",
    "I have not experimented with other hybrid models using the current dataset and the two variables of housing_median_age and median_house_value.  It may be that a different combination of two of (rfclf_best, gbclf_best, f03, svm02) will yield an even better hybrid k-means model.\n",
    "\n"
   ]
  },
  {
   "cell_type": "code",
   "execution_count": null,
   "metadata": {},
   "outputs": [],
   "source": []
  }
 ],
 "metadata": {
  "kernelspec": {
   "display_name": "R",
   "language": "R",
   "name": "ir"
  },
  "language_info": {
   "codemirror_mode": "r",
   "file_extension": ".r",
   "mimetype": "text/x-r-source",
   "name": "R",
   "pygments_lexer": "r",
   "version": "4.1.1"
  }
 },
 "nbformat": 4,
 "nbformat_minor": 4
}
